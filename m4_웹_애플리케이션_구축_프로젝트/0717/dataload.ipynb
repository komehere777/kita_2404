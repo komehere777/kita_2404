{
 "cells": [
  {
   "cell_type": "code",
   "execution_count": 1,
   "metadata": {},
   "outputs": [],
   "source": [
    "import pymysql\n",
    "\n",
    "connection = pymysql.connect(\n",
    "    host='localhost',\n",
    "    user='kita',\n",
    "    password='kita',\n",
    "    db='kita_db',\n",
    ")\n",
    "\n",
    "cursor = connection.cursor()"
   ]
  },
  {
   "cell_type": "code",
   "execution_count": 2,
   "metadata": {},
   "outputs": [],
   "source": [
    "import pymysql\n",
    "\n",
    "connection = pymysql.connect(\n",
    "    host='localhost',\n",
    "    user='kita',\n",
    "    password='kita',\n",
    "    db='kita_db'\n",
    ")\n",
    "\n",
    "cursor = connection.cursor()"
   ]
  },
  {
   "cell_type": "markdown",
   "metadata": {},
   "source": [
    "## DDL"
   ]
  },
  {
   "cell_type": "code",
   "execution_count": 3,
   "metadata": {},
   "outputs": [],
   "source": [
    "#테이블 생성\n",
    "create_table_query = \"\"\"\n",
    "CREATE TABLE IF NOT EXISTS customer (\n",
    "    id INT AUTO_INCREMENT PRIMARY KEY,\n",
    "    username VARCHAR(50) NOT NULL,\n",
    "    email VARCHAR(100) NOT NULL,\n",
    "    age INT\n",
    ")\n",
    "\"\"\"\n",
    "cursor.execute(create_table_query)\n",
    "connection.commit()"
   ]
  },
  {
   "cell_type": "code",
   "execution_count": 13,
   "metadata": {},
   "outputs": [],
   "source": [
    "create_table_query = \"\"\"\n",
    "CREATE TABLE IF NOT EXISTS customer (\n",
    "    id INT AUTO_INCREMENT PRIMARY KEY,\n",
    "    username VARCHAR(50) NOT NULL,\n",
    "    email VARCHAR(100) NOT NULL,\n",
    "    age INT\n",
    ")\n",
    "\"\"\"\n",
    "cursor.execute(create_table_query)\n",
    "connection.commit()\n"
   ]
  },
  {
   "cell_type": "code",
   "execution_count": 14,
   "metadata": {},
   "outputs": [],
   "source": [
    "#컬럼 추가\n",
    "#이 컬럼은 timestamp 형식이며, 기본값은 현재 시간이다.기본값으로 현재 타임스템프가 설정, 즉 , 데이터가 추가될 때마다 현재 시간이 기록된다.\n",
    "alter_table_query = \"ALTER TABLE customer ADD COLUMN created_at TIMESTAMP DEFAULT CURRENT_TIMESTAMP\"\n",
    "cursor.execute(alter_table_query)\n",
    "connection.commit()"
   ]
  },
  {
   "cell_type": "code",
   "execution_count": null,
   "metadata": {},
   "outputs": [],
   "source": []
  },
  {
   "cell_type": "code",
   "execution_count": 15,
   "metadata": {},
   "outputs": [],
   "source": [
    "#email 컬럼에 not null 제약 조건 제거\n",
    "alter_table_query = \"ALTER TABLE customer MODIFY email VARCHAR(100)\"\n",
    "cursor.execute(alter_table_query)\n",
    "connection.commit()"
   ]
  },
  {
   "cell_type": "code",
   "execution_count": 10,
   "metadata": {},
   "outputs": [],
   "source": [
    "#테이블 삭제\n",
    "drop_table_query = \"DROP TABLE if exists customer\"\n",
    "cursor.execute(drop_table_query)\n",
    "connection.commit()"
   ]
  },
  {
   "cell_type": "code",
   "execution_count": 11,
   "metadata": {},
   "outputs": [],
   "source": [
    "#연결 종료\n",
    "cursor.close()\n",
    "connection.close()"
   ]
  },
  {
   "cell_type": "code",
   "execution_count": null,
   "metadata": {},
   "outputs": [],
   "source": [
    "#대량 데이터 삽입을 위해 위와 같은 과정 필요"
   ]
  },
  {
   "cell_type": "markdown",
   "metadata": {},
   "source": [
    "## DML"
   ]
  },
  {
   "cell_type": "code",
   "execution_count": 20,
   "metadata": {},
   "outputs": [],
   "source": [
    "#데이터 입력\n",
    "# %s는 mysql.connector에서 사용하는 플레이스홀더이다. 자리 표시자, 이 플레이스홀더는 데이터베이스에 데이터를 입력할 때 사용된다.(sqlite3에서는 ?를 사용)\n",
    "insert_query = \"INSERT INTO customer (username, email, age) VALUES (%s, %s, %s)\"\n",
    "data = (\"john_doe2\", \"john@example.com\", 30)\n",
    "cursor.execute(insert_query, data)\n",
    "connection.commit()"
   ]
  },
  {
   "cell_type": "code",
   "execution_count": 4,
   "metadata": {},
   "outputs": [
    {
     "name": "stdout",
     "output_type": "stream",
     "text": [
      "(1, 'admin', 'admin@example.com', 'scrypt:32768:8:1$DlSSY6g0EzIoUJtA$ffca0c91ab263b636a5bca147589c6219086364abca6759027894765d9d169c3532f81ee3fe102cc8400d073413e7253d51bb60d28db4c9abca6138db541763d', 1)\n",
      "(2, 'aa', 'aa@aa.com', 'scrypt:32768:8:1$1T8fZHiTDGMGEZkj$d4646a1407a5e9db660ca6deb6f8e3720ed01a1aa0d8940f5b79a254b48275e7fba0a571bf96b8bc4405414893ce99e87a10a5aeea5624d2f3f4dfb8b88e93c1', 0)\n",
      "(3, 'cc', 'ccd@cc.com', 'scrypt:32768:8:1$FdkvVtgVz7AhYcB1$6c88bb1e273df8e9fda91873f6e38056e1b320aa3a9ce5cfbf85a027e580f223394891bf4f199910a6890b7844517e4c773ce04cb48c2f6625a2811a603675ed', 0)\n",
      "(5, 'dd', 'dd@dd.com', 'scrypt:32768:8:1$lbU800l3R3rhhhMX$09600ed8976c82646221052870200b48dfb922b4c757dbcd8bcf7826c43c1d7380df5796950fffaf1c583651027f40c2add09e4714168b11a6d4d1c8f17553f0', 0)\n",
      "(6, 'ee', 'ee@ee.com', 'scrypt:32768:8:1$xle9Sqhi8DGKWXbo$ea5ce81b51903d1bf91a2e14a95e6c762f7c4e29e80cb1587e64411485d4f6cade1695d94798ca962d9faa359d4729eab82b1d3b1a9146d10ef4ff504c01910e', 0)\n"
     ]
    }
   ],
   "source": [
    "#데이터 수정\n",
    "select_query = \"SELECT * FROM user\"\n",
    "cursor.execute(select_query)\n",
    "result = cursor.fetchall()\n",
    "for row in result:\n",
    "    print(row)"
   ]
  },
  {
   "cell_type": "code",
   "execution_count": 18,
   "metadata": {},
   "outputs": [],
   "source": [
    "#데이터 수정\n",
    "update_query = \"UPDATE customer SET age = %s WHERE username = %s\"\n",
    "cursor.execute(update_query, (31, \"john_doe\"))\n",
    "connection.commit()"
   ]
  },
  {
   "cell_type": "code",
   "execution_count": 23,
   "metadata": {},
   "outputs": [
    {
     "name": "stdout",
     "output_type": "stream",
     "text": [
      "(2, 'john_doe2', 'john@example.com', 30, datetime.datetime(2024, 7, 15, 12, 14, 41))\n"
     ]
    }
   ],
   "source": [
    "select_query = \"SELECT * FROM customer\"\n",
    "cursor.execute(select_query)\n",
    "result = cursor.fetchall()\n",
    "for row in result:\n",
    "    print(row)"
   ]
  },
  {
   "cell_type": "code",
   "execution_count": 22,
   "metadata": {},
   "outputs": [],
   "source": [
    "#data delete\n",
    "delete_query = \"DELETE FROM customer WHERE username = %s\"\n",
    "cursor.execute(delete_query, (\"john_doe\"))\n",
    "connection.commit()"
   ]
  },
  {
   "cell_type": "code",
   "execution_count": 24,
   "metadata": {},
   "outputs": [],
   "source": [
    "#데이터 반복 삽입, 각 항목은 리스트나 튜플과 같은 순서가 있는 데이터 구조이어야 합니다.\n",
    "\n",
    "customers = [\n",
    "    (\"alice\", \"alice@example.com\", 25),\n",
    "    (\"bob\", \"bob@example.com\", 28),\n",
    "    (\"charlie\", \"chalie@example.com\",22)\n",
    "]\n",
    "\n",
    "cursor.executemany(insert_query, customers)\n",
    "connection.commit()"
   ]
  },
  {
   "cell_type": "code",
   "execution_count": 2,
   "metadata": {},
   "outputs": [
    {
     "name": "stdout",
     "output_type": "stream",
     "text": [
      "(2, 'john_doe2', 'john@example.com', 30, datetime.datetime(2024, 7, 15, 12, 14, 41))\n",
      "(3, 'alice', 'alice@example.com', 25, datetime.datetime(2024, 7, 15, 12, 20, 21))\n",
      "(4, 'bob', 'bob@example.com', 28, datetime.datetime(2024, 7, 15, 12, 20, 21))\n",
      "(5, 'charlie', 'chalie@example.com', 22, datetime.datetime(2024, 7, 15, 12, 20, 21))\n"
     ]
    }
   ],
   "source": [
    "select_query = \"SELECT * from customer\"\n",
    "cursor.execute(select_query)\n",
    "result = cursor.fetchall()\n",
    "for row in result:\n",
    "    print(row)"
   ]
  },
  {
   "cell_type": "code",
   "execution_count": 27,
   "metadata": {},
   "outputs": [
    {
     "name": "stdout",
     "output_type": "stream",
     "text": [
      "   id   username               email  age          created_at\n",
      "0   2  john_doe2    john@example.com   30 2024-07-15 12:14:41\n",
      "1   3      alice   alice@example.com   25 2024-07-15 12:20:21\n",
      "2   4        bob     bob@example.com   28 2024-07-15 12:20:21\n",
      "3   5    charlie  chalie@example.com   22 2024-07-15 12:20:21\n"
     ]
    }
   ],
   "source": [
    "#데이터 조회 결과를 dataframe으로 변환\n",
    "import pandas as pd\n",
    "\n",
    "column_names = [i[0] for i in cursor.description]\n",
    "# print(cursor.description)\n",
    "df = pd.DataFrame(result, columns=column_names)\n",
    "print(df)"
   ]
  },
  {
   "cell_type": "code",
   "execution_count": 28,
   "metadata": {},
   "outputs": [],
   "source": [
    "#DataFrame을 csv 파일로 저장\n",
    "df.to_csv(\"customers.csv\", index=False, encoding='utf-8-sig')"
   ]
  },
  {
   "cell_type": "code",
   "execution_count": 29,
   "metadata": {},
   "outputs": [],
   "source": [
    "#buyer 테이블 생성\n",
    "create_table_query = \"\"\"\n",
    "CREATE TABLE IF NOT EXISTS buyer (\n",
    "    id INT AUTO_INCREMENT PRIMARY KEY,\n",
    "    username VARCHAR(50) NOT NULL,\n",
    "    email VARCHAR(100) NOT NULL,\n",
    "    age INT\n",
    ")\n",
    "\"\"\"\n",
    "cursor.execute(create_table_query)\n",
    "connection.commit()"
   ]
  },
  {
   "cell_type": "code",
   "execution_count": 30,
   "metadata": {},
   "outputs": [],
   "source": [
    "#csv 파일에서 데이터 읽어오기\n",
    "import csv\n",
    "\n",
    "file_path = \"customers.csv\"\n",
    "df = pd.read_csv(file_path)\n",
    "#필요한 컬럼만 선택\n",
    "data_to_insert = df[['username', 'email', 'age']].values.tolist()\n",
    "# 쿼리 정의\n",
    "insert_query = \"INSERT INTO buyer (username, email, age) VALUES (%s, %s, %s)\"\n",
    "# 데이터 삽입\n",
    "cursor.executemany(insert_query, data_to_insert)\n",
    "connection.commit()"
   ]
  },
  {
   "cell_type": "code",
   "execution_count": 32,
   "metadata": {},
   "outputs": [
    {
     "name": "stdout",
     "output_type": "stream",
     "text": [
      "   id   username               email  age\n",
      "0   1  john_doe2    john@example.com   30\n",
      "1   2      alice   alice@example.com   25\n",
      "2   3        bob     bob@example.com   28\n",
      "3   4    charlie  chalie@example.com   22\n"
     ]
    }
   ],
   "source": [
    "#데이터 조회 및 dataframe으로 변환\n",
    "select_query = \"SELECT * FROM buyer\"\n",
    "cursor.execute(select_query)\n",
    "result = cursor.fetchall()\n",
    "#컬럼 이름 가져오기\n",
    "column_names = [i[0] for i in cursor.description]\n",
    "#데이터프레임으로 변환\n",
    "df = pd.DataFrame(result, columns=column_names)\n",
    "print(df)\n",
    "#연결 종료\n",
    "cursor.close()\n",
    "connection.close()"
   ]
  },
  {
   "cell_type": "code",
   "execution_count": 3,
   "metadata": {},
   "outputs": [
    {
     "name": "stdout",
     "output_type": "stream",
     "text": [
      "(('id', 3, None, 11, 11, 0, False), ('username', 253, None, 200, 200, 0, False), ('email', 253, None, 400, 400, 0, True), ('age', 3, None, 11, 11, 0, True), ('created_at', 7, None, 19, 19, 0, True))\n"
     ]
    }
   ],
   "source": [
    "print(cursor.description)"
   ]
  },
  {
   "cell_type": "code",
   "execution_count": null,
   "metadata": {},
   "outputs": [],
   "source": []
  }
 ],
 "metadata": {
  "kernelspec": {
   "display_name": "myenv",
   "language": "python",
   "name": "python3"
  },
  "language_info": {
   "codemirror_mode": {
    "name": "ipython",
    "version": 3
   },
   "file_extension": ".py",
   "mimetype": "text/x-python",
   "name": "python",
   "nbconvert_exporter": "python",
   "pygments_lexer": "ipython3",
   "version": "3.10.11"
  }
 },
 "nbformat": 4,
 "nbformat_minor": 2
}
