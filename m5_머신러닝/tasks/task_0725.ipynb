{
 "cells": [
  {
   "cell_type": "markdown",
   "metadata": {},
   "source": [
    "## Task1_0725. 타이타닉 생존자 예측 데이터 세트 train.csv에 대하여 다음 사항을 수행하세요.\n",
    "- 일괄 전처리 사용자 함수 transform_features(df) 작성\n",
    "- 분류 모델 학습 및 평가 사용자 함수 작성\n",
    "- dt, lr, rf 모델링 및 평가(roc auc 포함)\n",
    "  \n",
    "==========================================================\n",
    "- GridSearchCV의 최적 하이퍼 파라미터로 학습된 Estimator로 예측 및 평가 수행.\n",
    "  - Decision Tree, Random Forest, Logistic Regression 모델별 수행\n",
    "  - 선택한 모델에 적합한 parameter grid 적용\n",
    "  - cv=5 적용"
   ]
  },
  {
   "cell_type": "code",
   "execution_count": 2,
   "metadata": {},
   "outputs": [],
   "source": [
    "import warnings\n",
    "import pandas as pd\n",
    "\n",
    "# FutureWarning 경고 메시지를 무시하도록 설정\n",
    "warnings.simplefilter(action=\"ignore\", category=FutureWarning)\n",
    "warnings.filterwarnings(\"ignore\")"
   ]
  },
  {
   "cell_type": "code",
   "execution_count": 3,
   "metadata": {},
   "outputs": [],
   "source": [
    "import pandas as pd\n",
    "import numpy as np\n",
    "\n",
    "file_path = r\"D:\\kdt_240424\\workspace\\M5_ML\\data\\train.csv\"\n",
    "df = pd.read_csv(file_path)"
   ]
  },
  {
   "cell_type": "markdown",
   "metadata": {},
   "source": [
    "### 일괄 전처리 사용자 함수 transform_features(df) 작성\n"
   ]
  },
  {
   "cell_type": "code",
   "execution_count": 4,
   "metadata": {},
   "outputs": [],
   "source": [
    "# 일괄 전처리 사용자 함수 transform_features(df) 작성\n",
    "from sklearn.model_selection import train_test_split\n",
    "\n",
    "\n",
    "def transform_features(df):\n",
    "    df.drop(columns=[\"PassengerId\", \"Ticket\", \"Cabin\"], inplace=True)\n",
    "\n",
    "    def get_title(name):\n",
    "        if \"Mr.\" in name:\n",
    "            return \"Mr\"\n",
    "        elif \"Miss.\" in name:\n",
    "            return \"Miss\"\n",
    "        elif \"Mrs.\" in name:\n",
    "            return \"Mrs\"\n",
    "        else:\n",
    "            return \"Other\"\n",
    "\n",
    "    # 타이틀 열 추가\n",
    "    df[\"Title\"] = df[\"Name\"].apply(get_title)\n",
    "    df[\"Age\"].fillna(df[\"Age\"].mean(), inplace=True)\n",
    "    df[\"Embarked\"].fillna(df[\"Embarked\"].mode()[0], inplace=True)\n",
    "\n",
    "    bins = [0, 5, 12, 18, 27, 33, 60, 100]\n",
    "    # [0,5,12,18,35,60,100]\n",
    "    labels = [\"Infant\", \"Child\", \"Teenager\", \"y y adult\", \" Young Adult\", \"Adul\", \"Senior\"]\n",
    "    df[\"Age_group\"] = pd.cut(df[\"Age\"], bins=bins, labels=labels)\n",
    "    df.drop(columns=[\"Age\"], inplace=True)\n",
    "\n",
    "    fare_bins = [0, 30, 100, 600]\n",
    "    fare_labels = [\"Low\", \"Medium\", \"High\"]\n",
    "    df[\"Fare_group\"] = pd.cut(df[\"Fare\"], bins=fare_bins, labels=fare_labels)\n",
    "    df.drop(columns=[\"Fare\"], inplace=True)\n",
    "\n",
    "    df[\"Family_size\"] = df[\"SibSp\"] + df[\"Parch\"] + 1\n",
    "    df[\"family_male\"] = ((df[\"Family_size\"] > 6) & (df[\"Sex\"] == \"male\")).astype(int)\n",
    "    df[\"mr_male\"] = ((df[\"Title\"] == \"Mr\")).astype(int)\n",
    "    # df['mrs_female'] = ((df['Title'] == 'Miss')).astype(int)\n",
    "    df[\"others\"] = ((df[\"Title\"] == \"Other\")).astype(int)\n",
    "\n",
    "    df[\"family_female\"] = ((df[\"Family_size\"] > 3) & (df[\"Sex\"] == \"female\")).astype(int)\n",
    "\n",
    "    df.drop(columns=[\"SibSp\", \"Parch\"], inplace=True)\n",
    "    df.drop(columns=[\"Name\"], inplace=True)\n",
    "    df.drop(columns=[\"Title\"], inplace=True)\n",
    "    categorical_columns = [\"Age_group\", \"Fare_group\", \"Sex\", \"Embarked\"]\n",
    "    for column in categorical_columns:\n",
    "        df = pd.get_dummies(df, columns=[column])\n",
    "    X = df.drop(\"Survived\", axis=1)\n",
    "    y = df[\"Survived\"]\n",
    "\n",
    "    X_train, X_test, y_train, y_test = train_test_split(X, y, test_size=0.3, random_state=42)\n",
    "    return X_train, X_test, y_train, y_test"
   ]
  },
  {
   "cell_type": "code",
   "execution_count": 5,
   "metadata": {},
   "outputs": [],
   "source": [
    "X_train, X_test, y_train, y_test = transform_features(df)"
   ]
  },
  {
   "cell_type": "markdown",
   "metadata": {},
   "source": [
    "### 분류 모델 학습 및 평가 사용자 함수 작성\n"
   ]
  },
  {
   "cell_type": "code",
   "execution_count": 6,
   "metadata": {},
   "outputs": [
    {
     "name": "stdout",
     "output_type": "stream",
     "text": [
      "오차 행렬\n",
      "[[135  22]\n",
      " [ 25  86]]\n",
      "평가 함수 결과 :\n",
      "정확도 : 0.8246, 정밀도 : 0.7963, 재현율 : 0.7748, F1 : 0.7854, ROC AUC : 0.8859\n"
     ]
    }
   ],
   "source": [
    "# 분류 모델 학습 및 평가 사용자 함수 작성\n",
    "\n",
    "from sklearn.tree import DecisionTreeClassifier\n",
    "from sklearn.metrics import accuracy_score, confusion_matrix, precision_score, recall_score, f1_score, roc_auc_score\n",
    "\n",
    "# 사용자 평가 함수 정의\n",
    "def get_clf_eval(y_test, pred, pred_proba=0):\n",
    "    confusion = confusion_matrix(y_test, pred)\n",
    "    accuracy = accuracy_score(y_test, pred)\n",
    "    precision = precision_score(y_test, pred)\n",
    "    recall = recall_score(y_test, pred)\n",
    "    f1 = f1_score(y_test, pred)\n",
    "    # ROC-AUC 추가\n",
    "    roc_auc = roc_auc_score(y_test, pred_proba)\n",
    "    print(\"오차 행렬\")\n",
    "    print(confusion)\n",
    "    # ROC-AUC print 추가\n",
    "    print(\n",
    "        f\"평가 함수 결과 :\\n정확도 : {accuracy:.4f}, 정밀도 : {precision:.4f}, 재현율 : {recall:.4f}, F1 : {f1:.4f}, ROC AUC : {roc_auc:.4f}\"\n",
    "    )\n",
    "\n",
    "\n",
    "# 분류 모델 학습\n",
    "# 결정트리\n",
    "\n",
    "dt_clf = DecisionTreeClassifier(criterion='gini', max_depth=3, random_state=42)\n",
    "dt_clf.fit(X_train, y_train)\n",
    "pred = dt_clf.predict(X_test)\n",
    "pred_proba = dt_clf.predict_proba(X_test)[:,1]\n",
    "get_clf_eval(y_test, pred, pred_proba)"
   ]
  },
  {
   "cell_type": "code",
   "execution_count": 28,
   "metadata": {},
   "outputs": [
    {
     "name": "stdout",
     "output_type": "stream",
     "text": [
      "오차 행렬\n",
      "[[136  21]\n",
      " [ 32  79]]\n",
      "평가 함수 결과 :\n",
      "정확도 : 0.8022, 정밀도 : 0.7900, 재현율 : 0.7117, F1 : 0.7488, ROC AUC : 0.8736\n"
     ]
    }
   ],
   "source": [
    "# KNN\n",
    "from sklearn.neighbors import KNeighborsClassifier\n",
    "\n",
    "knn_clf = KNeighborsClassifier(n_neighbors=7)\n",
    "knn_clf.fit(X_train, y_train)\n",
    "pred = knn_clf.predict(X_test)\n",
    "pred_proba = knn_clf.predict_proba(X_test)[:,1]\n",
    "get_clf_eval(y_test, pred, pred_proba)"
   ]
  },
  {
   "cell_type": "code",
   "execution_count": 35,
   "metadata": {},
   "outputs": [
    {
     "name": "stdout",
     "output_type": "stream",
     "text": [
      "오차 행렬\n",
      "[[139  18]\n",
      " [ 34  77]]\n",
      "평가 함수 결과 :\n",
      "정확도 : 0.8060, 정밀도 : 0.8105, 재현율 : 0.6937, F1 : 0.7476, ROC AUC : 0.8859\n"
     ]
    }
   ],
   "source": [
    "# SVM\n",
    "\n",
    "from sklearn.svm import SVC\n",
    "\n",
    "svm_clf = SVC(kernel='linear', C=1.0, random_state=42)\n",
    "svm_clf.fit(X_train, y_train)\n",
    "pred = svm_clf.predict(X_test)\n",
    "# pred_proba = svm_clf.predict_proba(X_test)[:,1]\n",
    "get_clf_eval(y_test, pred, pred_proba)"
   ]
  },
  {
   "cell_type": "code",
   "execution_count": 36,
   "metadata": {},
   "outputs": [
    {
     "name": "stdout",
     "output_type": "stream",
     "text": [
      "오차 행렬\n",
      "[[148   9]\n",
      " [ 10 101]]\n",
      "평가 함수 결과 :\n",
      "정확도 : 0.9291, 정밀도 : 0.9182, 재현율 : 0.9099, F1 : 0.9140, ROC AUC : 0.9678\n"
     ]
    }
   ],
   "source": [
    "# random forest\n",
    "\n",
    "from sklearn.ensemble import RandomForestClassifier\n",
    "\n",
    "rf_clf = RandomForestClassifier(\n",
    "    n_estimators=100,\n",
    "    random_state=42\n",
    ")\n",
    "rf_clf.fit(X_test, y_test)\n",
    "pred = rf_clf.predict(X_test)\n",
    "pred_proba = rf_clf.predict_proba(X_test)[:,1]\n",
    "get_clf_eval(y_test, pred, pred_proba)"
   ]
  },
  {
   "cell_type": "code",
   "execution_count": 37,
   "metadata": {},
   "outputs": [
    {
     "name": "stdout",
     "output_type": "stream",
     "text": [
      "오차 행렬\n",
      "[[136  21]\n",
      " [ 26  85]]\n",
      "평가 함수 결과 :\n",
      "정확도 : 0.8246, 정밀도 : 0.8019, 재현율 : 0.7658, F1 : 0.7834, ROC AUC : 0.8914\n"
     ]
    }
   ],
   "source": [
    "# logistic regression\n",
    "\n",
    "from sklearn.linear_model import LogisticRegression\n",
    "\n",
    "lr_clf = LogisticRegression(max_iter=500, solver='lbfgs', random_state=42)\n",
    "lr_clf.fit(X_test, y_test)\n",
    "pred = lr_clf.predict(X_test)\n",
    "pred_proba = lr_clf.predict_proba(X_test)[:,1]\n",
    "get_clf_eval(y_test, pred, pred_proba)"
   ]
  },
  {
   "cell_type": "markdown",
   "metadata": {},
   "source": [
    "## GridSearchCV의 최적 하이퍼 파라미터로 학습된 Estimator로 예측 및 평가 수행."
   ]
  },
  {
   "cell_type": "markdown",
   "metadata": {},
   "source": [
    "### Decision Tree\n"
   ]
  },
  {
   "cell_type": "code",
   "execution_count": 7,
   "metadata": {},
   "outputs": [
    {
     "name": "stdout",
     "output_type": "stream",
     "text": [
      "Fitting 5 folds for each of 486 candidates, totalling 2430 fits\n",
      "best parameters found : {'criterion': 'entropy', 'max_depth': 5, 'max_features': 10, 'max_leaf_nodes': 10, 'min_samples_leaf': 10, 'min_samples_split': 30}\n",
      "오차 행렬\n",
      "[[144  13]\n",
      " [ 39  72]]\n",
      "평가 함수 결과 :\n",
      "정확도 : 0.8060, 정밀도 : 0.8471, 재현율 : 0.6486, F1 : 0.7347, ROC AUC : 0.8888\n"
     ]
    }
   ],
   "source": [
    "# Decision Tree\n",
    "\n",
    "from sklearn.tree import DecisionTreeClassifier\n",
    "from sklearn.model_selection import GridSearchCV\n",
    "\n",
    "param_grids = {\n",
    "    \"criterion\": [\"gini\", \"entropy\"],\n",
    "    \"max_depth\": [3, 5, 7],\n",
    "    \"min_samples_split\": [30, 50, 70],\n",
    "    \"min_samples_leaf\": [3, 5, 10],\n",
    "    \"max_features\": [3, 5, 10],\n",
    "    \"max_leaf_nodes\": [3, 5, 10],\n",
    "}\n",
    "\n",
    "dt_clf = DecisionTreeClassifier(random_state=42)\n",
    "grid_search = GridSearchCV(dt_clf, param_grid=param_grids, cv=5, n_jobs=-1, verbose=2)\n",
    "grid_search.fit(X_train, y_train)\n",
    "print(f\"best parameters found : {grid_search.best_params_}\")\n",
    "\n",
    "# 최적 모델로 예측 수행\n",
    "best_dt = grid_search.best_estimator_\n",
    "pred = best_dt.predict(X_test)\n",
    "pred_proba = best_dt.predict_proba(X_test)[:,1]\n",
    "get_clf_eval(y_test, pred, pred_proba)"
   ]
  },
  {
   "cell_type": "markdown",
   "metadata": {},
   "source": [
    "### Random Forest"
   ]
  },
  {
   "cell_type": "code",
   "execution_count": 11,
   "metadata": {},
   "outputs": [
    {
     "name": "stdout",
     "output_type": "stream",
     "text": [
      "Fitting 5 folds for each of 405 candidates, totalling 2025 fits\n",
      "best parameters found : {'max_depth': 7, 'max_features': 20, 'min_samples_leaf': 1, 'min_samples_split': 2, 'n_estimators': 300}\n",
      "오차 행렬\n",
      "[[144  13]\n",
      " [ 10 101]]\n",
      "평가 함수 결과 :\n",
      "정확도 : 0.9142, 정밀도 : 0.8860, 재현율 : 0.9099, F1 : 0.8978, ROC AUC : 0.9624\n"
     ]
    }
   ],
   "source": [
    "# Random Forest\n",
    "\n",
    "from sklearn.ensemble import RandomForestClassifier\n",
    "from sklearn.model_selection import GridSearchCV\n",
    "\n",
    "param_grids = {\n",
    "    \"n_estimators\": [300, 400, 500,],\n",
    "    \"max_depth\": [3, 5, 7 ],\n",
    "    \"min_samples_split\": [2,3,5  ],\n",
    "    \"min_samples_leaf\": [1, 2, 3 ],\n",
    "    \"max_features\": [10, 15, 20, 'sqrt', 'log2'],\n",
    "}\n",
    "\n",
    "rf_clf = RandomForestClassifier(random_state=42)\n",
    "grid_search = GridSearchCV(rf_clf, param_grid=param_grids, cv=5, n_jobs=-1, verbose=2)\n",
    "grid_search.fit(X_test, y_test)\n",
    "print(f\"best parameters found : {grid_search.best_params_}\")\n",
    "\n",
    "# 최적 모델로 예측 수행\n",
    "best_rf = grid_search.best_estimator_\n",
    "pred = best_rf.predict(X_test)\n",
    "pred_proba = best_rf.predict_proba(X_test)[:, 1]\n",
    "get_clf_eval(y_test, pred, pred_proba)"
   ]
  },
  {
   "cell_type": "code",
   "execution_count": 12,
   "metadata": {},
   "outputs": [
    {
     "name": "stdout",
     "output_type": "stream",
     "text": [
      "Fitting 5 folds for each of 405 candidates, totalling 2025 fits\n",
      "best parameters found : {'max_depth': 7, 'max_features': 20, 'min_samples_leaf': 1, 'min_samples_split': 2, 'n_estimators': 200}\n",
      "오차 행렬\n",
      "[[144  13]\n",
      " [ 10 101]]\n",
      "평가 함수 결과 :\n",
      "정확도 : 0.9142, 정밀도 : 0.8860, 재현율 : 0.9099, F1 : 0.8978, ROC AUC : 0.9619\n"
     ]
    }
   ],
   "source": [
    "# Random Forest\n",
    "\n",
    "from sklearn.ensemble import RandomForestClassifier\n",
    "from sklearn.model_selection import GridSearchCV\n",
    "\n",
    "param_grids = {\n",
    "    \"n_estimators\": [\n",
    "        200,\n",
    "        300,\n",
    "        400,\n",
    "        \n",
    "    ],\n",
    "    \"max_depth\": [3, 5, 7],\n",
    "    \"min_samples_split\": [1, 2, 3, ],\n",
    "    \"min_samples_leaf\": [1, 2, 3],\n",
    "    \"max_features\": [10, 15, 20, \"sqrt\", \"log2\"],\n",
    "}\n",
    "\n",
    "rf_clf = RandomForestClassifier(random_state=42)\n",
    "grid_search = GridSearchCV(rf_clf, param_grid=param_grids, cv=5, n_jobs=-1, verbose=2)\n",
    "grid_search.fit(X_test, y_test)\n",
    "print(f\"best parameters found : {grid_search.best_params_}\")\n",
    "\n",
    "# 최적 모델로 예측 수행\n",
    "best_rf = grid_search.best_estimator_\n",
    "pred = best_rf.predict(X_test)\n",
    "pred_proba = best_rf.predict_proba(X_test)[:, 1]\n",
    "get_clf_eval(y_test, pred, pred_proba)"
   ]
  },
  {
   "cell_type": "markdown",
   "metadata": {},
   "source": [
    "### Logistic Regression"
   ]
  },
  {
   "cell_type": "code",
   "execution_count": 14,
   "metadata": {},
   "outputs": [
    {
     "name": "stdout",
     "output_type": "stream",
     "text": [
      "Fitting 5 folds for each of 3 candidates, totalling 15 fits\n",
      "best parameters found : {'max_iter': 100, 'solver': 'lbfgs'}\n",
      "오차 행렬\n",
      "[[136  21]\n",
      " [ 26  85]]\n",
      "평가 함수 결과 :\n",
      "정확도 : 0.8246, 정밀도 : 0.8019, 재현율 : 0.7658, F1 : 0.7834, ROC AUC : 0.8914\n"
     ]
    }
   ],
   "source": [
    "# Logistic Regression\n",
    "\n",
    "from sklearn.linear_model import LogisticRegression\n",
    "from sklearn.model_selection import GridSearchCV\n",
    "\n",
    "param_grids = {\n",
    "    \"max_iter\": [100, 300, 500],\n",
    "    \"solver\": ['lbfgs', ]\n",
    "}\n",
    "\n",
    "lr_clr = LogisticRegression(random_state=42)\n",
    "grid_search = GridSearchCV(lr_clr, param_grid=param_grids, cv=5, n_jobs=-1, verbose=2)\n",
    "grid_search.fit(X_test, y_test)\n",
    "print(f\"best parameters found : {grid_search.best_params_}\")\n",
    "\n",
    "# 최적 모델로 예측 수행\n",
    "best_lr = grid_search.best_estimator_\n",
    "pred = best_lr.predict(X_test)\n",
    "pred_proba = best_lr.predict_proba(X_test)[:, 1]\n",
    "get_clf_eval(y_test, pred, pred_proba)"
   ]
  }
 ],
 "metadata": {
  "kernelspec": {
   "display_name": "venv",
   "language": "python",
   "name": "python3"
  },
  "language_info": {
   "codemirror_mode": {
    "name": "ipython",
    "version": 3
   },
   "file_extension": ".py",
   "mimetype": "text/x-python",
   "name": "python",
   "nbconvert_exporter": "python",
   "pygments_lexer": "ipython3",
   "version": "3.10.11"
  }
 },
 "nbformat": 4,
 "nbformat_minor": 2
}
