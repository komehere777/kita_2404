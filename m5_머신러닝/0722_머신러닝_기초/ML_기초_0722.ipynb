{
  "nbformat": 4,
  "nbformat_minor": 0,
  "metadata": {
    "colab": {
      "provenance": []
    },
    "kernelspec": {
      "name": "python3",
      "display_name": "Python 3"
    },
    "language_info": {
      "name": "python"
    }
  },
  "cells": [
    {
      "cell_type": "markdown",
      "source": [
        "## 머신러닝 개요\n",
        "- 서설: 어떤 과제에 어떤 알고리즘을 쓰는지 아는 것이 중요(방법론), 그리고 분석용 데이터셋을 만드는 것도 중요(70~80%로 중요), 캐글에서 데이터 받아서 연습,\n",
        "- 데이터를 기반으로 학습하고 예측하는 알고리즘의 한 분야\n",
        "- 머신러닝은 컴퓨터가 명시적으로 프로그래밍되지 않고도 데이터에서 학습하고 예측 가능(머신러닝전에는 룰베이스드 프로그래밍 - 사람이 세운 로직대로 작동.)\n",
        "\n",
        "- 머신러닝의 핵심 사항\n",
        "    - 데이터: 머신러닝은 데이터를 기반으로 학습. 즉 좋은 데이터가 좋은 모델의 핵심(로데이터를 전처리해서 분석용 데이터로 만들어야 함, 과제를 수행하기 위해 핵심적인 피쳐를 찾는 것이 중요, 그래서 데이터에 대한 탐색이 중요,)\n",
        "    - 알고리즘: 머신러닝에는 다양한 알고리즘이 있습니다. 각 알고리즘은 특정 유형의 문제에 더 적합하니 과제에 맞는 알고리즘 선택필요\n",
        "    - 하이퍼파라미터: 알고리즘의 성능에 영향을 미치는 매개변수를 하이퍼파라미터라고 하는데 하이퍼파라미터는 실험을 통해 최적화, 거기서 문제가 되는것이 학습시 문제가 발생, 패턴학습시 무한정 수행시 마이너한 부분까지 패턴을 찾아감 - 일반화된 모델이 안됨 , 적절한 선까지 학습해서 일반화에 지장이 안되는 수준까지 사람이 정해줘야함, 그 선이 하이퍼 파라미터, 그선을 사람이 알기 힘드니 여러번 시도해봐서 알아야함, 그래서 모듈이 존재, 과대적합을 피할수있는 방법\n",
        "    - 평가 지표: 모델의 성능을 측정하는 방법으로 분류모델은 정확도, 정밀도(예측한게 맞는 확률), 재현율(실제가 참인가),  F1 점수(정밀도, 재현율 조합), 회귀모델은 평균 절대 오차(회귀모델은 연속형- 값을 얼마나 예측했는가 평가는 오차로 평가, ), 회귀 작업의 평균 제곱근 오차(rmse)와 같은 메트릭을 포함(단위에 따라 오차의 크기가 달라 평가하기 어려움) r2sqr평가방법 - 통계적인 방법은 기본가정을 만족하면 평가가 되나, 머신러닝은 다른 평가 지표 존재, 머신러닝도 선형회귀는 그런 가정이 평가에 도움이 되나, 다른 방법은 학습용 데이터와 평가용 데이터로 분리해서 평가, 새로운 데이터에 얼마나 잘 맞는가에 따라 평가 - 타이타닉(분류모델, 어떤 사람이 살아남는가, 죽는가), 주택가격(회귀모델, 어떤 요인이 가격에 영향을 미치나), 분류모델(병진단-양성인가,음성인가 / 신용카드회사- 사기인가 아닌가 / )\n",
        "    \n",
        "- 머신러닝 유형\n",
        "  - 지도 학습: 선형 회귀, 로지스틱 회귀, 결정 트리, 랜덤 포레스트, 그래디언트 부스팅, SVM(Support Vector Machines) 및 k-NN(k-nearest neighbours)과 같은 알고리즘은 레이블이 지정된 학습 데이터를 사용하여 입력 기능을 기반으로 대상 변수를 예측하는 데 사용됩니다. - 지도학습은 미리 답을 주고 학습시작\n",
        "  - 비지도 학습: k-평균(군집분석), 계층적 클러스터링 및 DBSCAN과 같은 클러스터링 기법 및 PCA(Principal Component Analysis- 차원축소), LDA, SVD 등의 차원 축소 기법 - 답이 없이 독립변수만 주어지고 분석을 통해 학습\n",
        "  - 강화 학습: 에이전트가 조치를 취하고 그 대가로 보상이나 처벌을 받음으로써 환경에서 행동하는 방법을 배우는 기계 학습으로 목표는 시간이 지남에 따라 누적 보상을 최대화하는 것이다. - 최근에 나온 모델, 챗쥐피티, 휴먼 피드백, 인간이 개입해서 자극을 줌,  \n",
        "\n",
        " - 위 학습 유형은 자연어랑 영상처리가 어려워 다음 학습 유형이 나옴\n",
        "\n",
        "  - 신경망 및 딥러닝: 신경망,순정파 역전파(가중치 부여과 핵심) 및 CNN(Convolutional Neural Networks - 영상이미지처리 - 공간적인것 처리할 네트웍 추가, 텍스트는 시퀀스함, 텍스트는 문맥이 중요해서 시퀀스가 중요 ), RNN(Recurrent Neural Networks), Long Short-Term 메모리(LSTM) 네트워크\n",
        "  - 자연어 : 트랜스포머 기반의 BERT, GPT Series의 발전으로 자연어 처리의 급속한 발전 진행\n",
        "  - LLM : 거대 생성 언어모델 기반의 ChatGPT 시리즈의 발전으로 인간과 상호작용할 수 있는 수준으로 발전 (gpt2 소스 파악 - 구조이해를 위해, 과제는 api 사용)\n",
        "  - 비전 : Yolo를 이용한 다양한 객체탐지솔루션이 폭넓게 활용되고 Stable Diffusion이 이미지 생성을 위한 주요 솔루션으로 확대 예정  (yolo v8로 학습 예정)\n",
        "\n",
        "\n",
        "    "
      ],
      "metadata": {
        "id": "8BOw53LH2OB6"
      }
    },
    {
      "cell_type": "markdown",
      "source": [
        "## 지도 학습\n",
        "\n",
        "- 학습의 원리\n",
        "    - 지도 학습에서 알고리즘은 레이블이 지정된 학습 데이터에서 학습하고 해당 데이터를 기반으로 예측을 수행.\n",
        "    - 지도 학습 알고리즘은 알려진 입력 데이터 세트(특징)와 데이터에 대한 알려진 응답(대상 또는 레이블)을 입력받아 모델을 훈련하여 새 데이터에 대한 응답에 대한 합리적인 예측을 생성.\n",
        "- 회귀 및 분류라는 두 가지 유형의 문제에 사용.\n",
        "    - 회귀: 회귀는 대상 또는 종속 변수가 연속적이거나 정렬된 전체 값일 때 사용. 회귀에 사용되는 알고리즘에는 선형 회귀, 결정 트리(트리 계열은 분류모델으로 쓰이나 응용해서 회귀에 쓰이기도 함), 랜덤 포레스트 및 GBM 계열의 회귀트리 모델 포함.\n",
        "    - 분류: 분류는 대상 변수가 범주형(죽느냐 사느냐, 사기냐 아니냐)일 때, 간단히 말해서 입력 데이터를 범주로 분류할 때 사용. 분류에 사용되는 알고리즘에는 Logistic Regression(회귀이름이나 분류모델 0.5이상이면 1, 이하면 0), Naive Bayes, Decision Trees, Random Forests, Support Vector Machines(분류에도 사용) 및 Neural Networks 및 GBM 계열의 Boosting 모델(트리 모델) 포함.\n",
        "- 알고리즘이 작동하는 방식\n",
        "    - 데이터 수집: 데이터를 수집하고 전처리. 데이터는 feature(독립변수)와 label(종속변수)로 구분. 이를 위해 사용되는 데이터는 출력 데이터 세트도 제공되기 때문에 레이블이 지정된 데이터라고 한다.\n",
        "    - 모델 훈련: 알고리즘은 훈련 데이터를 통해 학습. feature와 label 간의 패턴 또는 관계를 발견하려고 시도.\n",
        "    - 모델 예측: 모델이 훈련되면 본 적이 없는 새로운 데이터의 결과를 예측하는 데 사용. 이 새 데이터에 대한 입력을 테스트 데이터라고 한다.(평가를 위해 사용) -테스트 데이터는 레이블값 숨기고 사용하서 맞는지 확인 - 성능 평가가능\n",
        "    - 평가: 모델의 예측을 실제 값과 비교하여 모델의 정확도를 평가. 정확도, 정밀도, 재현율, F1 점수(분류용), 평균 절대 오차(MAE), 평균 제곱 오차(MSE), 평균 제곱근 오차(RMSE)(회귀용)와 같은 다양한 메트릭이 모델을 평가하는 데 사용.\n",
        "    - 조정: 모델의 성능이 만족스럽지 않으면 데이터를 다시 조정하거나,  모델로 돌아가 하이퍼파라미터를 조정하거나 다른 모델을 모두 선택 가능\n",
        "    - 예측: 만족스러운 성능이 달성되면 이제 모델을 사용하여 보이지 않는 새로운 데이터를 예측할 수 있다.\n"
      ],
      "metadata": {
        "id": "4PSc-WBqE9Ot"
      }
    },
    {
      "cell_type": "markdown",
      "source": [
        "## 지도학습 - 분류(classification)\n",
        "\n",
        "사이킷런을 사용하여 붓꽃 데이터셋을 로드하고 이"
      ],
      "metadata": {
        "id": "7v4zeNUALUzf"
      }
    },
    {
      "cell_type": "code",
      "execution_count": 5,
      "metadata": {
        "colab": {
          "base_uri": "https://localhost:8080/"
        },
        "id": "Tukueo4j1i2p",
        "outputId": "2a902231-5421-4f58-f6f2-85309c7ca5c1"
      },
      "outputs": [
        {
          "output_type": "stream",
          "name": "stdout",
          "text": [
            "Accuracy: 0.98\n",
            "DecisionTreeClassifier()\n",
            "['sepal length (cm)', 'sepal width (cm)', 'petal length (cm)', 'petal width (cm)']\n",
            "['setosa' 'versicolor' 'virginica']\n"
          ]
        }
      ],
      "source": [
        "from sklearn.datasets import load_iris\n",
        "from sklearn.model_selection import train_test_split\n",
        "from sklearn.tree import DecisionTreeClassifier  #트리는 분류로 사용, regression나오면 회귀모델로 사용\n",
        "from sklearn.metrics import accuracy_score  #정확도로 측정\n",
        "\n",
        "#data load\n",
        "iris = load_iris()\n",
        "X, y = iris.data, iris.target  #y는 타겟값 종속변수\n",
        "\n",
        "#train, test data split\n",
        "X_train, X_test, y_train, y_test = train_test_split(X, y, test_size=0.3, random_state=10) #테스트용 데이터 사이즈 :test_size=0.3 , 랜덤 고정, 변수 순서 중요\n",
        "\n",
        "#model init , training\n",
        "dt = DecisionTreeClassifier()  #default로 학습\n",
        "dt.fit(X_train, y_train)  #패턴 학습\n",
        "\n",
        "#predict\n",
        "y_pred = dt.predict(X_test)  #새로운 데이터를 주면 예측\n",
        "\n",
        "#evaluate\n",
        "acc = accuracy_score(y_test, y_pred) #y_test 실제값, y_pred 예측값 비교하여 정확도 평가\n",
        "\n",
        "print(f'Accuracy: {acc:.2f}')\n",
        "\n",
        "print(dt)\n",
        "print(iris.feature_names)\n",
        "print(iris.target_names)"
      ]
    },
    {
      "cell_type": "code",
      "source": [
        "from sklearn.datasets import load_iris\n",
        "from sklearn.model_selection import train_test_split\n",
        "from sklearn.tree import DecisionTreeClassifier  #트리는 분류로 사용, regression나오면 회귀모델로 사용\n",
        "from sklearn.metrics import accuracy_score  #정확도로 측정\n",
        "\n",
        "#data load\n",
        "iris = load_iris()\n",
        "X, y = iris.data, iris.target  #y는 타겟값 종속변수\n",
        "\n",
        "#train, test data split\n",
        "X_train, X_test, y_train, y_test = train_test_split(X, y, test_size=0.2, random_state=10) #테스트용 데이터 사이즈 :test_size=0.3 , 랜덤 고정, 변수 순서 중요\n",
        "\n",
        "#model init , training\n",
        "dt = DecisionTreeClassifier()  #default로 학습\n",
        "dt.fit(X_train, y_train)  #패턴 학습\n",
        "\n",
        "#predict\n",
        "y_pred = dt.predict(X_test)  #새로운 데이터를 주면 예측\n",
        "\n",
        "#evaluate\n",
        "acc = accuracy_score(y_test, y_pred) #y_test 실제값, y_pred 예측값 비교하여 정확도 평가\n",
        "\n",
        "print(f'Accuracy: {acc:.2f}')\n",
        "\n"
      ],
      "metadata": {
        "colab": {
          "base_uri": "https://localhost:8080/"
        },
        "id": "a3xETWQPMdws",
        "outputId": "e608c82b-1568-4a1c-be51-46c9d5479d8c"
      },
      "execution_count": 6,
      "outputs": [
        {
          "output_type": "stream",
          "name": "stdout",
          "text": [
            "Accuracy: 0.93\n"
          ]
        }
      ]
    },
    {
      "cell_type": "code",
      "source": [
        "from sklearn.datasets import load_iris\n",
        "from sklearn.model_selection import train_test_split\n",
        "from sklearn.tree import DecisionTreeClassifier  #트리는 분류로 사용, regression나오면 회귀모델로 사용\n",
        "from sklearn.metrics import accuracy_score  #정확도로 측정\n",
        "\n",
        "#data load\n",
        "iris = load_iris()\n",
        "X, y = iris.data, iris.target  #y는 타겟값 종속변수\n",
        "\n",
        "#train, test data split\n",
        "X_train, X_test, y_train, y_test = train_test_split(X, y, test_size=0.2, random_state=42) #테스트용 데이터 사이즈 :test_size=0.3 , 랜덤 고정, 변수 순서 중요\n",
        "\n",
        "#model init , training\n",
        "dt = DecisionTreeClassifier()  #default로 학습\n",
        "dt.fit(X_train, y_train)  #패턴 학습\n",
        "\n",
        "#predict\n",
        "y_pred = dt.predict(X_test)  #새로운 데이터를 주면 예측\n",
        "\n",
        "#evaluate\n",
        "acc = accuracy_score(y_test, y_pred) #y_test 실제값, y_pred 예측값 비교하여 정확도 평가\n",
        "\n",
        "print(f'Accuracy: {acc:.2f}')\n",
        "\n"
      ],
      "metadata": {
        "colab": {
          "base_uri": "https://localhost:8080/"
        },
        "id": "a7wb1D6JNjHb",
        "outputId": "bdea1aef-42c0-45ae-ec71-a02897e20bbb"
      },
      "execution_count": 8,
      "outputs": [
        {
          "output_type": "stream",
          "name": "stdout",
          "text": [
            "Accuracy: 1.00\n"
          ]
        }
      ]
    },
    {
      "cell_type": "code",
      "source": [
        "from sklearn.datasets import load_iris\n",
        "from sklearn.model_selection import train_test_split\n",
        "from sklearn.tree import DecisionTreeClassifier  #트리는 분류로 사용, regression나오면 회귀모델로 사용\n",
        "from sklearn.metrics import accuracy_score  #정확도로 측정\n",
        "\n",
        "#data load\n",
        "iris = load_iris()\n",
        "X, y = iris.data, iris.target  #y는 타겟값 종속변수\n",
        "\n",
        "#train, test data split\n",
        "X_train, X_test, y_train, y_test = train_test_split(X, y, test_size=0.3, random_state=32) #테스트용 데이터 사이즈 :test_size=0.3 , 랜덤 고정, 변수 순서 중요\n",
        "\n",
        "#model init , training\n",
        "dt = DecisionTreeClassifier()  #default로 학습\n",
        "dt.fit(X_train, y_train)  #패턴 학습\n",
        "\n",
        "#predict\n",
        "y_pred = dt.predict(X_test)  #새로운 데이터를 주면 예측\n",
        "\n",
        "#evaluate\n",
        "acc = accuracy_score(y_test, y_pred) #y_test 실제값, y_pred 예측값 비교하여 정확도 평가\n",
        "\n",
        "print(f'Accuracy: {acc:.2f}')\n",
        "\n"
      ],
      "metadata": {
        "colab": {
          "base_uri": "https://localhost:8080/"
        },
        "id": "hECRkM4PNqVw",
        "outputId": "a2692673-ebaa-4604-ccde-40702491b3b9"
      },
      "execution_count": 12,
      "outputs": [
        {
          "output_type": "stream",
          "name": "stdout",
          "text": [
            "Accuracy: 1.00\n"
          ]
        }
      ]
    },
    {
      "cell_type": "markdown",
      "source": [
        "#### 지도학습 - 회귀분석\n",
        "- 캘리포니아 주택 가격 데이터셋을 로드합니다.\n",
        "- 데이터를 학습용 데이터와 테스트용 데이터로 나눕니다.\n",
        "- 선형 회귀 모델을 초기화하고(객체만들고) 학습시킵니다.\n",
        "- 학습된 모델을 사용하여 테스트 데이터의 주택 가격을 예측합니다.\n",
        "- 예측값과 실제값을 비교하여 모델의 성능을 평가합니다.\n",
        "\n",
        "결과 해석 - 회귀분석이므로 오차로 결과 해석\n",
        "- Mean Squared Error는 예측값과 실제값의 차이의 제곱의 평균으로, 값이 작을수록 모델의 예측이 정확함을 의미합니다.(오차는 작아야 좋은것이므로)\n",
        "- 결과 데이터프레임은 실제 주택 가격과 예측된 주택 가격을 나란히 보여줍니다."
      ],
      "metadata": {
        "id": "ohClJg91N4pW"
      }
    },
    {
      "cell_type": "code",
      "source": [
        "from sklearn.datasets import fetch_california_housing\n",
        "from sklearn.linear_model import LinearRegression\n",
        "from sklearn.model_selection import train_test_split\n",
        "from sklearn.metrics import mean_squared_error\n",
        "import pandas as pd\n",
        "\n",
        "#data load\n",
        "california = fetch_california_housing()\n",
        "X, y = california.data, california.target\n",
        "\n",
        "#split datas\n",
        "X_train, X_test, y_train, y_test = train_test_split(X, y, test_size=0.3, random_state=42)\n",
        "\n",
        "#model init, train\n",
        "model = LinearRegression()\n",
        "model.fit(X_train, y_train)\n",
        "\n",
        "#predict\n",
        "y_pred = model.predict(X_test)\n",
        "\n",
        "#model evaluate\n",
        "mse = mean_squared_error(y_test, y_pred)\n",
        "print(f'Mean Squared Error: {mse:.2f}')\n",
        "\n",
        "#print result\n",
        "results = pd.DataFrame({'Actual': y_test, 'Predicted': y_pred})\n",
        "print(results)\n",
        "results.describe()"
      ],
      "metadata": {
        "colab": {
          "base_uri": "https://localhost:8080/",
          "height": 560
        },
        "id": "w_c4bzwlNx2u",
        "outputId": "680729bf-14e5-4584-d8e6-fbee2145d069"
      },
      "execution_count": 16,
      "outputs": [
        {
          "output_type": "stream",
          "name": "stdout",
          "text": [
            "Mean Squared Error: 0.53\n",
            "       Actual  Predicted\n",
            "0     0.47700   0.726049\n",
            "1     0.45800   1.767434\n",
            "2     5.00001   2.710922\n",
            "3     2.18600   2.835147\n",
            "4     2.78000   2.606958\n",
            "...       ...        ...\n",
            "6187  2.37500   2.219941\n",
            "6188  0.67300   0.910516\n",
            "6189  2.18400   2.074655\n",
            "6190  1.19400   1.573714\n",
            "6191  2.09800   1.827441\n",
            "\n",
            "[6192 rows x 2 columns]\n"
          ]
        },
        {
          "output_type": "execute_result",
          "data": {
            "text/plain": [
              "            Actual    Predicted\n",
              "count  6192.000000  6192.000000\n",
              "mean      2.066968     2.068231\n",
              "std       1.145754     0.900180\n",
              "min       0.149990    -1.000510\n",
              "25%       1.202750     1.512829\n",
              "50%       1.810000     2.016170\n",
              "75%       2.650500     2.552880\n",
              "max       5.000010    11.507401"
            ],
            "text/html": [
              "\n",
              "  <div id=\"df-7fe0cf58-1067-407e-b9e4-2fe8b1e8ef15\" class=\"colab-df-container\">\n",
              "    <div>\n",
              "<style scoped>\n",
              "    .dataframe tbody tr th:only-of-type {\n",
              "        vertical-align: middle;\n",
              "    }\n",
              "\n",
              "    .dataframe tbody tr th {\n",
              "        vertical-align: top;\n",
              "    }\n",
              "\n",
              "    .dataframe thead th {\n",
              "        text-align: right;\n",
              "    }\n",
              "</style>\n",
              "<table border=\"1\" class=\"dataframe\">\n",
              "  <thead>\n",
              "    <tr style=\"text-align: right;\">\n",
              "      <th></th>\n",
              "      <th>Actual</th>\n",
              "      <th>Predicted</th>\n",
              "    </tr>\n",
              "  </thead>\n",
              "  <tbody>\n",
              "    <tr>\n",
              "      <th>count</th>\n",
              "      <td>6192.000000</td>\n",
              "      <td>6192.000000</td>\n",
              "    </tr>\n",
              "    <tr>\n",
              "      <th>mean</th>\n",
              "      <td>2.066968</td>\n",
              "      <td>2.068231</td>\n",
              "    </tr>\n",
              "    <tr>\n",
              "      <th>std</th>\n",
              "      <td>1.145754</td>\n",
              "      <td>0.900180</td>\n",
              "    </tr>\n",
              "    <tr>\n",
              "      <th>min</th>\n",
              "      <td>0.149990</td>\n",
              "      <td>-1.000510</td>\n",
              "    </tr>\n",
              "    <tr>\n",
              "      <th>25%</th>\n",
              "      <td>1.202750</td>\n",
              "      <td>1.512829</td>\n",
              "    </tr>\n",
              "    <tr>\n",
              "      <th>50%</th>\n",
              "      <td>1.810000</td>\n",
              "      <td>2.016170</td>\n",
              "    </tr>\n",
              "    <tr>\n",
              "      <th>75%</th>\n",
              "      <td>2.650500</td>\n",
              "      <td>2.552880</td>\n",
              "    </tr>\n",
              "    <tr>\n",
              "      <th>max</th>\n",
              "      <td>5.000010</td>\n",
              "      <td>11.507401</td>\n",
              "    </tr>\n",
              "  </tbody>\n",
              "</table>\n",
              "</div>\n",
              "    <div class=\"colab-df-buttons\">\n",
              "\n",
              "  <div class=\"colab-df-container\">\n",
              "    <button class=\"colab-df-convert\" onclick=\"convertToInteractive('df-7fe0cf58-1067-407e-b9e4-2fe8b1e8ef15')\"\n",
              "            title=\"Convert this dataframe to an interactive table.\"\n",
              "            style=\"display:none;\">\n",
              "\n",
              "  <svg xmlns=\"http://www.w3.org/2000/svg\" height=\"24px\" viewBox=\"0 -960 960 960\">\n",
              "    <path d=\"M120-120v-720h720v720H120Zm60-500h600v-160H180v160Zm220 220h160v-160H400v160Zm0 220h160v-160H400v160ZM180-400h160v-160H180v160Zm440 0h160v-160H620v160ZM180-180h160v-160H180v160Zm440 0h160v-160H620v160Z\"/>\n",
              "  </svg>\n",
              "    </button>\n",
              "\n",
              "  <style>\n",
              "    .colab-df-container {\n",
              "      display:flex;\n",
              "      gap: 12px;\n",
              "    }\n",
              "\n",
              "    .colab-df-convert {\n",
              "      background-color: #E8F0FE;\n",
              "      border: none;\n",
              "      border-radius: 50%;\n",
              "      cursor: pointer;\n",
              "      display: none;\n",
              "      fill: #1967D2;\n",
              "      height: 32px;\n",
              "      padding: 0 0 0 0;\n",
              "      width: 32px;\n",
              "    }\n",
              "\n",
              "    .colab-df-convert:hover {\n",
              "      background-color: #E2EBFA;\n",
              "      box-shadow: 0px 1px 2px rgba(60, 64, 67, 0.3), 0px 1px 3px 1px rgba(60, 64, 67, 0.15);\n",
              "      fill: #174EA6;\n",
              "    }\n",
              "\n",
              "    .colab-df-buttons div {\n",
              "      margin-bottom: 4px;\n",
              "    }\n",
              "\n",
              "    [theme=dark] .colab-df-convert {\n",
              "      background-color: #3B4455;\n",
              "      fill: #D2E3FC;\n",
              "    }\n",
              "\n",
              "    [theme=dark] .colab-df-convert:hover {\n",
              "      background-color: #434B5C;\n",
              "      box-shadow: 0px 1px 3px 1px rgba(0, 0, 0, 0.15);\n",
              "      filter: drop-shadow(0px 1px 2px rgba(0, 0, 0, 0.3));\n",
              "      fill: #FFFFFF;\n",
              "    }\n",
              "  </style>\n",
              "\n",
              "    <script>\n",
              "      const buttonEl =\n",
              "        document.querySelector('#df-7fe0cf58-1067-407e-b9e4-2fe8b1e8ef15 button.colab-df-convert');\n",
              "      buttonEl.style.display =\n",
              "        google.colab.kernel.accessAllowed ? 'block' : 'none';\n",
              "\n",
              "      async function convertToInteractive(key) {\n",
              "        const element = document.querySelector('#df-7fe0cf58-1067-407e-b9e4-2fe8b1e8ef15');\n",
              "        const dataTable =\n",
              "          await google.colab.kernel.invokeFunction('convertToInteractive',\n",
              "                                                    [key], {});\n",
              "        if (!dataTable) return;\n",
              "\n",
              "        const docLinkHtml = 'Like what you see? Visit the ' +\n",
              "          '<a target=\"_blank\" href=https://colab.research.google.com/notebooks/data_table.ipynb>data table notebook</a>'\n",
              "          + ' to learn more about interactive tables.';\n",
              "        element.innerHTML = '';\n",
              "        dataTable['output_type'] = 'display_data';\n",
              "        await google.colab.output.renderOutput(dataTable, element);\n",
              "        const docLink = document.createElement('div');\n",
              "        docLink.innerHTML = docLinkHtml;\n",
              "        element.appendChild(docLink);\n",
              "      }\n",
              "    </script>\n",
              "  </div>\n",
              "\n",
              "\n",
              "<div id=\"df-088b142e-576b-4aed-84fe-6725a4e33c92\">\n",
              "  <button class=\"colab-df-quickchart\" onclick=\"quickchart('df-088b142e-576b-4aed-84fe-6725a4e33c92')\"\n",
              "            title=\"Suggest charts\"\n",
              "            style=\"display:none;\">\n",
              "\n",
              "<svg xmlns=\"http://www.w3.org/2000/svg\" height=\"24px\"viewBox=\"0 0 24 24\"\n",
              "     width=\"24px\">\n",
              "    <g>\n",
              "        <path d=\"M19 3H5c-1.1 0-2 .9-2 2v14c0 1.1.9 2 2 2h14c1.1 0 2-.9 2-2V5c0-1.1-.9-2-2-2zM9 17H7v-7h2v7zm4 0h-2V7h2v10zm4 0h-2v-4h2v4z\"/>\n",
              "    </g>\n",
              "</svg>\n",
              "  </button>\n",
              "\n",
              "<style>\n",
              "  .colab-df-quickchart {\n",
              "      --bg-color: #E8F0FE;\n",
              "      --fill-color: #1967D2;\n",
              "      --hover-bg-color: #E2EBFA;\n",
              "      --hover-fill-color: #174EA6;\n",
              "      --disabled-fill-color: #AAA;\n",
              "      --disabled-bg-color: #DDD;\n",
              "  }\n",
              "\n",
              "  [theme=dark] .colab-df-quickchart {\n",
              "      --bg-color: #3B4455;\n",
              "      --fill-color: #D2E3FC;\n",
              "      --hover-bg-color: #434B5C;\n",
              "      --hover-fill-color: #FFFFFF;\n",
              "      --disabled-bg-color: #3B4455;\n",
              "      --disabled-fill-color: #666;\n",
              "  }\n",
              "\n",
              "  .colab-df-quickchart {\n",
              "    background-color: var(--bg-color);\n",
              "    border: none;\n",
              "    border-radius: 50%;\n",
              "    cursor: pointer;\n",
              "    display: none;\n",
              "    fill: var(--fill-color);\n",
              "    height: 32px;\n",
              "    padding: 0;\n",
              "    width: 32px;\n",
              "  }\n",
              "\n",
              "  .colab-df-quickchart:hover {\n",
              "    background-color: var(--hover-bg-color);\n",
              "    box-shadow: 0 1px 2px rgba(60, 64, 67, 0.3), 0 1px 3px 1px rgba(60, 64, 67, 0.15);\n",
              "    fill: var(--button-hover-fill-color);\n",
              "  }\n",
              "\n",
              "  .colab-df-quickchart-complete:disabled,\n",
              "  .colab-df-quickchart-complete:disabled:hover {\n",
              "    background-color: var(--disabled-bg-color);\n",
              "    fill: var(--disabled-fill-color);\n",
              "    box-shadow: none;\n",
              "  }\n",
              "\n",
              "  .colab-df-spinner {\n",
              "    border: 2px solid var(--fill-color);\n",
              "    border-color: transparent;\n",
              "    border-bottom-color: var(--fill-color);\n",
              "    animation:\n",
              "      spin 1s steps(1) infinite;\n",
              "  }\n",
              "\n",
              "  @keyframes spin {\n",
              "    0% {\n",
              "      border-color: transparent;\n",
              "      border-bottom-color: var(--fill-color);\n",
              "      border-left-color: var(--fill-color);\n",
              "    }\n",
              "    20% {\n",
              "      border-color: transparent;\n",
              "      border-left-color: var(--fill-color);\n",
              "      border-top-color: var(--fill-color);\n",
              "    }\n",
              "    30% {\n",
              "      border-color: transparent;\n",
              "      border-left-color: var(--fill-color);\n",
              "      border-top-color: var(--fill-color);\n",
              "      border-right-color: var(--fill-color);\n",
              "    }\n",
              "    40% {\n",
              "      border-color: transparent;\n",
              "      border-right-color: var(--fill-color);\n",
              "      border-top-color: var(--fill-color);\n",
              "    }\n",
              "    60% {\n",
              "      border-color: transparent;\n",
              "      border-right-color: var(--fill-color);\n",
              "    }\n",
              "    80% {\n",
              "      border-color: transparent;\n",
              "      border-right-color: var(--fill-color);\n",
              "      border-bottom-color: var(--fill-color);\n",
              "    }\n",
              "    90% {\n",
              "      border-color: transparent;\n",
              "      border-bottom-color: var(--fill-color);\n",
              "    }\n",
              "  }\n",
              "</style>\n",
              "\n",
              "  <script>\n",
              "    async function quickchart(key) {\n",
              "      const quickchartButtonEl =\n",
              "        document.querySelector('#' + key + ' button');\n",
              "      quickchartButtonEl.disabled = true;  // To prevent multiple clicks.\n",
              "      quickchartButtonEl.classList.add('colab-df-spinner');\n",
              "      try {\n",
              "        const charts = await google.colab.kernel.invokeFunction(\n",
              "            'suggestCharts', [key], {});\n",
              "      } catch (error) {\n",
              "        console.error('Error during call to suggestCharts:', error);\n",
              "      }\n",
              "      quickchartButtonEl.classList.remove('colab-df-spinner');\n",
              "      quickchartButtonEl.classList.add('colab-df-quickchart-complete');\n",
              "    }\n",
              "    (() => {\n",
              "      let quickchartButtonEl =\n",
              "        document.querySelector('#df-088b142e-576b-4aed-84fe-6725a4e33c92 button');\n",
              "      quickchartButtonEl.style.display =\n",
              "        google.colab.kernel.accessAllowed ? 'block' : 'none';\n",
              "    })();\n",
              "  </script>\n",
              "</div>\n",
              "\n",
              "    </div>\n",
              "  </div>\n"
            ],
            "application/vnd.google.colaboratory.intrinsic+json": {
              "type": "dataframe",
              "summary": "{\n  \"name\": \"results\",\n  \"rows\": 8,\n  \"fields\": [\n    {\n      \"column\": \"Actual\",\n      \"properties\": {\n        \"dtype\": \"number\",\n        \"std\": 2188.494641129797,\n        \"min\": 0.14999,\n        \"max\": 6192.0,\n        \"num_unique_values\": 8,\n        \"samples\": [\n          2.066968142764858,\n          1.81,\n          6192.0\n        ],\n        \"semantic_type\": \"\",\n        \"description\": \"\"\n      }\n    },\n    {\n      \"column\": \"Predicted\",\n      \"properties\": {\n        \"dtype\": \"number\",\n        \"std\": 2188.217965568134,\n        \"min\": -1.0005102052580739,\n        \"max\": 6192.0,\n        \"num_unique_values\": 8,\n        \"samples\": [\n          2.068231208573334,\n          2.016170111999866,\n          6192.0\n        ],\n        \"semantic_type\": \"\",\n        \"description\": \"\"\n      }\n    }\n  ]\n}"
            }
          },
          "metadata": {},
          "execution_count": 16
        }
      ]
    },
    {
      "cell_type": "markdown",
      "source": [
        "## 비지도학습\n",
        "- 비지도 학습(Unsupervised Learning)은 레이블이 지정되지 않은 데이터를 사용하여 모델을 학습하는 방법\n",
        "- 지도 학습과 달리 비지도 학습은 모델의 성능을 평가하기 위한 레이블이 불필요.\n",
        "- 비지도 학습 알고리즘  \n",
        "    - 클러스터링: 클러스터링 알고리즘에는 K-평균, 평균-점 클러스터링, 밀도기반 군집(DBSCAN) 등 - 유클리디안 디스턴스로 거리가 가까운 것 선정\n",
        "    - 차원 축소: 차원 축소 알고리즘에는 주성분 분석(PCA)- 분산이용, 선형판별분석(LDA),   특이값 분해(SVD) 등\n",
        "    \n",
        "- 비지도 학습은 머신 러닝에서 강력한 도구입니다. 비지도 학습은 데이터를 이해하고 데이터에서 패턴을 찾는 데 사용."
      ],
      "metadata": {
        "id": "WL435MGVQlnL"
      }
    },
    {
      "cell_type": "markdown",
      "source": [
        "## 비지도 학습 - 군집화(clustering)\n",
        "k-means알고리즘 이용"
      ],
      "metadata": {
        "id": "aGizWbnBQtLL"
      }
    },
    {
      "cell_type": "code",
      "source": [
        "from sklearn.datasets import load_iris\n",
        "from sklearn.cluster import KMeans\n",
        "import matplotlib.pyplot as plt\n",
        "import pandas as pd\n",
        "\n",
        "#data load\n",
        "iris = load_iris()\n",
        "X = iris.data  #비지도 학습이므로 y는 없음\n",
        "# print(iris)\n",
        "\n",
        "#model init, train\n",
        "kmeans = KMeans(n_clusters=3, n_init='auto', random_state=42)  #군집 3개, 위치 초기화 자동\n",
        "kmeans.fit(X)\n",
        "labels = kmeans.labels_  # 학습을 통해 얻어진 레이블\n",
        "\n",
        "#plot\n",
        "plt.scatter(X[:, 0], X[:, 1], c=labels, cmap='viridis')  #원래 4개 컬럼인데 2개만 시각화하는데 사용\n",
        "plt.xlabel('Sepal Length')\n",
        "plt.ylabel('Sepal Width')\n",
        "plt.show()\n",
        "print()\n",
        "\n",
        "#clustering result\n",
        "df = pd.DataFrame(X, columns=iris.feature_names)\n",
        "df['cluster'] = labels\n",
        "df"
      ],
      "metadata": {
        "colab": {
          "base_uri": "https://localhost:8080/",
          "height": 876
        },
        "id": "vYNVyZiIPoKO",
        "outputId": "f5764ba7-82ee-4371-a86f-71ddc4e82296"
      },
      "execution_count": 20,
      "outputs": [
        {
          "output_type": "display_data",
          "data": {
            "text/plain": [
              "<Figure size 640x480 with 1 Axes>"
            ],
            "image/png": "[encoded data removed]"
          },
          "metadata": {}
        },
        {
          "output_type": "stream",
          "name": "stdout",
          "text": [
            "\n"
          ]
        },
        {
          "output_type": "execute_result",
          "data": {
            "text/plain": [
              "     sepal length (cm)  sepal width (cm)  petal length (cm)  petal width (cm)  \\\n",
              "0                  5.1               3.5                1.4               0.2   \n",
              "1                  4.9               3.0                1.4               0.2   \n",
              "2                  4.7               3.2                1.3               0.2   \n",
              "3                  4.6               3.1                1.5               0.2   \n",
              "4                  5.0               3.6                1.4               0.2   \n",
              "..                 ...               ...                ...               ...   \n",
              "145                6.7               3.0                5.2               2.3   \n",
              "146                6.3               2.5                5.0               1.9   \n",
              "147                6.5               3.0                5.2               2.0   \n",
              "148                6.2               3.4                5.4               2.3   \n",
              "149                5.9               3.0                5.1               1.8   \n",
              "\n",
              "     cluster  \n",
              "0          1  \n",
              "1          1  \n",
              "2          1  \n",
              "3          1  \n",
              "4          1  \n",
              "..       ...  \n",
              "145        0  \n",
              "146        2  \n",
              "147        0  \n",
              "148        0  \n",
              "149        2  \n",
              "\n",
              "[150 rows x 5 columns]"
            ],
            "text/html": [
              "\n",
              "  <div id=\"df-f80ba91b-ee28-4774-80d2-c961140cab9d\" class=\"colab-df-container\">\n",
              "    <div>\n",
              "<style scoped>\n",
              "    .dataframe tbody tr th:only-of-type {\n",
              "        vertical-align: middle;\n",
              "    }\n",
              "\n",
              "    .dataframe tbody tr th {\n",
              "        vertical-align: top;\n",
              "    }\n",
              "\n",
              "    .dataframe thead th {\n",
              "        text-align: right;\n",
              "    }\n",
              "</style>\n",
              "<table border=\"1\" class=\"dataframe\">\n",
              "  <thead>\n",
              "    <tr style=\"text-align: right;\">\n",
              "      <th></th>\n",
              "      <th>sepal length (cm)</th>\n",
              "      <th>sepal width (cm)</th>\n",
              "      <th>petal length (cm)</th>\n",
              "      <th>petal width (cm)</th>\n",
              "      <th>cluster</th>\n",
              "    </tr>\n",
              "  </thead>\n",
              "  <tbody>\n",
              "    <tr>\n",
              "      <th>0</th>\n",
              "      <td>5.1</td>\n",
              "      <td>3.5</td>\n",
              "      <td>1.4</td>\n",
              "      <td>0.2</td>\n",
              "      <td>1</td>\n",
              "    </tr>\n",
              "    <tr>\n",
              "      <th>1</th>\n",
              "      <td>4.9</td>\n",
              "      <td>3.0</td>\n",
              "      <td>1.4</td>\n",
              "      <td>0.2</td>\n",
              "      <td>1</td>\n",
              "    </tr>\n",
              "    <tr>\n",
              "      <th>2</th>\n",
              "      <td>4.7</td>\n",
              "      <td>3.2</td>\n",
              "      <td>1.3</td>\n",
              "      <td>0.2</td>\n",
              "      <td>1</td>\n",
              "    </tr>\n",
              "    <tr>\n",
              "      <th>3</th>\n",
              "      <td>4.6</td>\n",
              "      <td>3.1</td>\n",
              "      <td>1.5</td>\n",
              "      <td>0.2</td>\n",
              "      <td>1</td>\n",
              "    </tr>\n",
              "    <tr>\n",
              "      <th>4</th>\n",
              "      <td>5.0</td>\n",
              "      <td>3.6</td>\n",
              "      <td>1.4</td>\n",
              "      <td>0.2</td>\n",
              "      <td>1</td>\n",
              "    </tr>\n",
              "    <tr>\n",
              "      <th>...</th>\n",
              "      <td>...</td>\n",
              "      <td>...</td>\n",
              "      <td>...</td>\n",
              "      <td>...</td>\n",
              "      <td>...</td>\n",
              "    </tr>\n",
              "    <tr>\n",
              "      <th>145</th>\n",
              "      <td>6.7</td>\n",
              "      <td>3.0</td>\n",
              "      <td>5.2</td>\n",
              "      <td>2.3</td>\n",
              "      <td>0</td>\n",
              "    </tr>\n",
              "    <tr>\n",
              "      <th>146</th>\n",
              "      <td>6.3</td>\n",
              "      <td>2.5</td>\n",
              "      <td>5.0</td>\n",
              "      <td>1.9</td>\n",
              "      <td>2</td>\n",
              "    </tr>\n",
              "    <tr>\n",
              "      <th>147</th>\n",
              "      <td>6.5</td>\n",
              "      <td>3.0</td>\n",
              "      <td>5.2</td>\n",
              "      <td>2.0</td>\n",
              "      <td>0</td>\n",
              "    </tr>\n",
              "    <tr>\n",
              "      <th>148</th>\n",
              "      <td>6.2</td>\n",
              "      <td>3.4</td>\n",
              "      <td>5.4</td>\n",
              "      <td>2.3</td>\n",
              "      <td>0</td>\n",
              "    </tr>\n",
              "    <tr>\n",
              "      <th>149</th>\n",
              "      <td>5.9</td>\n",
              "      <td>3.0</td>\n",
              "      <td>5.1</td>\n",
              "      <td>1.8</td>\n",
              "      <td>2</td>\n",
              "    </tr>\n",
              "  </tbody>\n",
              "</table>\n",
              "<p>150 rows × 5 columns</p>\n",
              "</div>\n",
              "    <div class=\"colab-df-buttons\">\n",
              "\n",
              "  <div class=\"colab-df-container\">\n",
              "    <button class=\"colab-df-convert\" onclick=\"convertToInteractive('df-f80ba91b-ee28-4774-80d2-c961140cab9d')\"\n",
              "            title=\"Convert this dataframe to an interactive table.\"\n",
              "            style=\"display:none;\">\n",
              "\n",
              "  <svg xmlns=\"http://www.w3.org/2000/svg\" height=\"24px\" viewBox=\"0 -960 960 960\">\n",
              "    <path d=\"M120-120v-720h720v720H120Zm60-500h600v-160H180v160Zm220 220h160v-160H400v160Zm0 220h160v-160H400v160ZM180-400h160v-160H180v160Zm440 0h160v-160H620v160ZM180-180h160v-160H180v160Zm440 0h160v-160H620v160Z\"/>\n",
              "  </svg>\n",
              "    </button>\n",
              "\n",
              "  <style>\n",
              "    .colab-df-container {\n",
              "      display:flex;\n",
              "      gap: 12px;\n",
              "    }\n",
              "\n",
              "    .colab-df-convert {\n",
              "      background-color: #E8F0FE;\n",
              "      border: none;\n",
              "      border-radius: 50%;\n",
              "      cursor: pointer;\n",
              "      display: none;\n",
              "      fill: #1967D2;\n",
              "      height: 32px;\n",
              "      padding: 0 0 0 0;\n",
              "      width: 32px;\n",
              "    }\n",
              "\n",
              "    .colab-df-convert:hover {\n",
              "      background-color: #E2EBFA;\n",
              "      box-shadow: 0px 1px 2px rgba(60, 64, 67, 0.3), 0px 1px 3px 1px rgba(60, 64, 67, 0.15);\n",
              "      fill: #174EA6;\n",
              "    }\n",
              "\n",
              "    .colab-df-buttons div {\n",
              "      margin-bottom: 4px;\n",
              "    }\n",
              "\n",
              "    [theme=dark] .colab-df-convert {\n",
              "      background-color: #3B4455;\n",
              "      fill: #D2E3FC;\n",
              "    }\n",
              "\n",
              "    [theme=dark] .colab-df-convert:hover {\n",
              "      background-color: #434B5C;\n",
              "      box-shadow: 0px 1px 3px 1px rgba(0, 0, 0, 0.15);\n",
              "      filter: drop-shadow(0px 1px 2px rgba(0, 0, 0, 0.3));\n",
              "      fill: #FFFFFF;\n",
              "    }\n",
              "  </style>\n",
              "\n",
              "    <script>\n",
              "      const buttonEl =\n",
              "        document.querySelector('#df-f80ba91b-ee28-4774-80d2-c961140cab9d button.colab-df-convert');\n",
              "      buttonEl.style.display =\n",
              "        google.colab.kernel.accessAllowed ? 'block' : 'none';\n",
              "\n",
              "      async function convertToInteractive(key) {\n",
              "        const element = document.querySelector('#df-f80ba91b-ee28-4774-80d2-c961140cab9d');\n",
              "        const dataTable =\n",
              "          await google.colab.kernel.invokeFunction('convertToInteractive',\n",
              "                                                    [key], {});\n",
              "        if (!dataTable) return;\n",
              "\n",
              "        const docLinkHtml = 'Like what you see? Visit the ' +\n",
              "          '<a target=\"_blank\" href=https://colab.research.google.com/notebooks/data_table.ipynb>data table notebook</a>'\n",
              "          + ' to learn more about interactive tables.';\n",
              "        element.innerHTML = '';\n",
              "        dataTable['output_type'] = 'display_data';\n",
              "        await google.colab.output.renderOutput(dataTable, element);\n",
              "        const docLink = document.createElement('div');\n",
              "        docLink.innerHTML = docLinkHtml;\n",
              "        element.appendChild(docLink);\n",
              "      }\n",
              "    </script>\n",
              "  </div>\n",
              "\n",
              "\n",
              "<div id=\"df-a8bbb7a1-51ad-45ea-a864-a39c12e8020b\">\n",
              "  <button class=\"colab-df-quickchart\" onclick=\"quickchart('df-a8bbb7a1-51ad-45ea-a864-a39c12e8020b')\"\n",
              "            title=\"Suggest charts\"\n",
              "            style=\"display:none;\">\n",
              "\n",
              "<svg xmlns=\"http://www.w3.org/2000/svg\" height=\"24px\"viewBox=\"0 0 24 24\"\n",
              "     width=\"24px\">\n",
              "    <g>\n",
              "        <path d=\"M19 3H5c-1.1 0-2 .9-2 2v14c0 1.1.9 2 2 2h14c1.1 0 2-.9 2-2V5c0-1.1-.9-2-2-2zM9 17H7v-7h2v7zm4 0h-2V7h2v10zm4 0h-2v-4h2v4z\"/>\n",
              "    </g>\n",
              "</svg>\n",
              "  </button>\n",
              "\n",
              "<style>\n",
              "  .colab-df-quickchart {\n",
              "      --bg-color: #E8F0FE;\n",
              "      --fill-color: #1967D2;\n",
              "      --hover-bg-color: #E2EBFA;\n",
              "      --hover-fill-color: #174EA6;\n",
              "      --disabled-fill-color: #AAA;\n",
              "      --disabled-bg-color: #DDD;\n",
              "  }\n",
              "\n",
              "  [theme=dark] .colab-df-quickchart {\n",
              "      --bg-color: #3B4455;\n",
              "      --fill-color: #D2E3FC;\n",
              "      --hover-bg-color: #434B5C;\n",
              "      --hover-fill-color: #FFFFFF;\n",
              "      --disabled-bg-color: #3B4455;\n",
              "      --disabled-fill-color: #666;\n",
              "  }\n",
              "\n",
              "  .colab-df-quickchart {\n",
              "    background-color: var(--bg-color);\n",
              "    border: none;\n",
              "    border-radius: 50%;\n",
              "    cursor: pointer;\n",
              "    display: none;\n",
              "    fill: var(--fill-color);\n",
              "    height: 32px;\n",
              "    padding: 0;\n",
              "    width: 32px;\n",
              "  }\n",
              "\n",
              "  .colab-df-quickchart:hover {\n",
              "    background-color: var(--hover-bg-color);\n",
              "    box-shadow: 0 1px 2px rgba(60, 64, 67, 0.3), 0 1px 3px 1px rgba(60, 64, 67, 0.15);\n",
              "    fill: var(--button-hover-fill-color);\n",
              "  }\n",
              "\n",
              "  .colab-df-quickchart-complete:disabled,\n",
              "  .colab-df-quickchart-complete:disabled:hover {\n",
              "    background-color: var(--disabled-bg-color);\n",
              "    fill: var(--disabled-fill-color);\n",
              "    box-shadow: none;\n",
              "  }\n",
              "\n",
              "  .colab-df-spinner {\n",
              "    border: 2px solid var(--fill-color);\n",
              "    border-color: transparent;\n",
              "    border-bottom-color: var(--fill-color);\n",
              "    animation:\n",
              "      spin 1s steps(1) infinite;\n",
              "  }\n",
              "\n",
              "  @keyframes spin {\n",
              "    0% {\n",
              "      border-color: transparent;\n",
              "      border-bottom-color: var(--fill-color);\n",
              "      border-left-color: var(--fill-color);\n",
              "    }\n",
              "    20% {\n",
              "      border-color: transparent;\n",
              "      border-left-color: var(--fill-color);\n",
              "      border-top-color: var(--fill-color);\n",
              "    }\n",
              "    30% {\n",
              "      border-color: transparent;\n",
              "      border-left-color: var(--fill-color);\n",
              "      border-top-color: var(--fill-color);\n",
              "      border-right-color: var(--fill-color);\n",
              "    }\n",
              "    40% {\n",
              "      border-color: transparent;\n",
              "      border-right-color: var(--fill-color);\n",
              "      border-top-color: var(--fill-color);\n",
              "    }\n",
              "    60% {\n",
              "      border-color: transparent;\n",
              "      border-right-color: var(--fill-color);\n",
              "    }\n",
              "    80% {\n",
              "      border-color: transparent;\n",
              "      border-right-color: var(--fill-color);\n",
              "      border-bottom-color: var(--fill-color);\n",
              "    }\n",
              "    90% {\n",
              "      border-color: transparent;\n",
              "      border-bottom-color: var(--fill-color);\n",
              "    }\n",
              "  }\n",
              "</style>\n",
              "\n",
              "  <script>\n",
              "    async function quickchart(key) {\n",
              "      const quickchartButtonEl =\n",
              "        document.querySelector('#' + key + ' button');\n",
              "      quickchartButtonEl.disabled = true;  // To prevent multiple clicks.\n",
              "      quickchartButtonEl.classList.add('colab-df-spinner');\n",
              "      try {\n",
              "        const charts = await google.colab.kernel.invokeFunction(\n",
              "            'suggestCharts', [key], {});\n",
              "      } catch (error) {\n",
              "        console.error('Error during call to suggestCharts:', error);\n",
              "      }\n",
              "      quickchartButtonEl.classList.remove('colab-df-spinner');\n",
              "      quickchartButtonEl.classList.add('colab-df-quickchart-complete');\n",
              "    }\n",
              "    (() => {\n",
              "      let quickchartButtonEl =\n",
              "        document.querySelector('#df-a8bbb7a1-51ad-45ea-a864-a39c12e8020b button');\n",
              "      quickchartButtonEl.style.display =\n",
              "        google.colab.kernel.accessAllowed ? 'block' : 'none';\n",
              "    })();\n",
              "  </script>\n",
              "</div>\n",
              "\n",
              "  <div id=\"id_10623032-67dd-497c-a564-659ee8b048b7\">\n",
              "    <style>\n",
              "      .colab-df-generate {\n",
              "        background-color: #E8F0FE;\n",
              "        border: none;\n",
              "        border-radius: 50%;\n",
              "        cursor: pointer;\n",
              "        display: none;\n",
              "        fill: #1967D2;\n",
              "        height: 32px;\n",
              "        padding: 0 0 0 0;\n",
              "        width: 32px;\n",
              "      }\n",
              "\n",
              "      .colab-df-generate:hover {\n",
              "        background-color: #E2EBFA;\n",
              "        box-shadow: 0px 1px 2px rgba(60, 64, 67, 0.3), 0px 1px 3px 1px rgba(60, 64, 67, 0.15);\n",
              "        fill: #174EA6;\n",
              "      }\n",
              "\n",
              "      [theme=dark] .colab-df-generate {\n",
              "        background-color: #3B4455;\n",
              "        fill: #D2E3FC;\n",
              "      }\n",
              "\n",
              "      [theme=dark] .colab-df-generate:hover {\n",
              "        background-color: #434B5C;\n",
              "        box-shadow: 0px 1px 3px 1px rgba(0, 0, 0, 0.15);\n",
              "        filter: drop-shadow(0px 1px 2px rgba(0, 0, 0, 0.3));\n",
              "        fill: #FFFFFF;\n",
              "      }\n",
              "    </style>\n",
              "    <button class=\"colab-df-generate\" onclick=\"generateWithVariable('df')\"\n",
              "            title=\"Generate code using this dataframe.\"\n",
              "            style=\"display:none;\">\n",
              "\n",
              "  <svg xmlns=\"http://www.w3.org/2000/svg\" height=\"24px\"viewBox=\"0 0 24 24\"\n",
              "       width=\"24px\">\n",
              "    <path d=\"M7,19H8.4L18.45,9,17,7.55,7,17.6ZM5,21V16.75L18.45,3.32a2,2,0,0,1,2.83,0l1.4,1.43a1.91,1.91,0,0,1,.58,1.4,1.91,1.91,0,0,1-.58,1.4L9.25,21ZM18.45,9,17,7.55Zm-12,3A5.31,5.31,0,0,0,4.9,8.1,5.31,5.31,0,0,0,1,6.5,5.31,5.31,0,0,0,4.9,4.9,5.31,5.31,0,0,0,6.5,1,5.31,5.31,0,0,0,8.1,4.9,5.31,5.31,0,0,0,12,6.5,5.46,5.46,0,0,0,6.5,12Z\"/>\n",
              "  </svg>\n",
              "    </button>\n",
              "    <script>\n",
              "      (() => {\n",
              "      const buttonEl =\n",
              "        document.querySelector('#id_10623032-67dd-497c-a564-659ee8b048b7 button.colab-df-generate');\n",
              "      buttonEl.style.display =\n",
              "        google.colab.kernel.accessAllowed ? 'block' : 'none';\n",
              "\n",
              "      buttonEl.onclick = () => {\n",
              "        google.colab.notebook.generateWithVariable('df');\n",
              "      }\n",
              "      })();\n",
              "    </script>\n",
              "  </div>\n",
              "\n",
              "    </div>\n",
              "  </div>\n"
            ],
            "application/vnd.google.colaboratory.intrinsic+json": {
              "type": "dataframe",
              "variable_name": "df",
              "summary": "{\n  \"name\": \"df\",\n  \"rows\": 150,\n  \"fields\": [\n    {\n      \"column\": \"sepal length (cm)\",\n      \"properties\": {\n        \"dtype\": \"number\",\n        \"std\": 0.828066127977863,\n        \"min\": 4.3,\n        \"max\": 7.9,\n        \"num_unique_values\": 35,\n        \"samples\": [\n          6.2,\n          4.5,\n          5.6\n        ],\n        \"semantic_type\": \"\",\n        \"description\": \"\"\n      }\n    },\n    {\n      \"column\": \"sepal width (cm)\",\n      \"properties\": {\n        \"dtype\": \"number\",\n        \"std\": 0.4358662849366982,\n        \"min\": 2.0,\n        \"max\": 4.4,\n        \"num_unique_values\": 23,\n        \"samples\": [\n          2.3,\n          4.0,\n          3.5\n        ],\n        \"semantic_type\": \"\",\n        \"description\": \"\"\n      }\n    },\n    {\n      \"column\": \"petal length (cm)\",\n      \"properties\": {\n        \"dtype\": \"number\",\n        \"std\": 1.7652982332594662,\n        \"min\": 1.0,\n        \"max\": 6.9,\n        \"num_unique_values\": 43,\n        \"samples\": [\n          6.7,\n          3.8,\n          3.7\n        ],\n        \"semantic_type\": \"\",\n        \"description\": \"\"\n      }\n    },\n    {\n      \"column\": \"petal width (cm)\",\n      \"properties\": {\n        \"dtype\": \"number\",\n        \"std\": 0.7622376689603465,\n        \"min\": 0.1,\n        \"max\": 2.5,\n        \"num_unique_values\": 22,\n        \"samples\": [\n          0.2,\n          1.2,\n          1.3\n        ],\n        \"semantic_type\": \"\",\n        \"description\": \"\"\n      }\n    },\n    {\n      \"column\": \"cluster\",\n      \"properties\": {\n        \"dtype\": \"int32\",\n        \"num_unique_values\": 3,\n        \"samples\": [\n          1,\n          0,\n          2\n        ],\n        \"semantic_type\": \"\",\n        \"description\": \"\"\n      }\n    }\n  ]\n}"
            }
          },
          "metadata": {},
          "execution_count": 20
        }
      ]
    },
    {
      "cell_type": "markdown",
      "source": [
        "## 머신러닝 Framework - 사이킷런\n",
        "- 사이킷런(scikit-learn)은 파이썬 머신러닝 라이브러리 중 가장 많이 사용되는 라이브러리.\n",
        "- 사이킷런은 파이썬 기반의 머신러닝을 위한 가장 쉽고 효율적인 개발 라이브러리를 제공.\n",
        "\n",
        "- 사이킷런의 특징\n",
        "    - 파이썬 기반의 다른 머신러닝 패키지도 사이킷런 스타일의 API를 지향할 정도로 쉽고 가장 파이썬스러운 API를 제공.\n",
        "    - 머신러닝을 위한 매우 다양한 알고리즘과 개발을 위한 편리한 프레임워크와 API를 제공.\n",
        "    - 많은 머신러닝 알고리즘이 효율적으로 구현되어 있기에 머신러닝을 처음 배울 때 사용하기 유용.\n",
        "    - 사이킷런은 오픈 소스 라이브러리이기 때문에 누구나 자유롭게 사용 가능\n",
        "    - 사이킷런은 다음과 같은 다양한 머신러닝 알고리즘을 제공.\n",
        "        - 분류\n",
        "        - 회귀\n",
        "        - 클러스터링\n",
        "        - 차원 축소\n",
        "        - 특징 추출\n",
        "        - 모델 선택 및 평가\n",
        "    - 사이킷런은 또한 다음과 같은 다양한 프레임워크와 API를 제공합니다.\n",
        "        - 데이터 전처리\n",
        "        - 모델 학습 및 예측\n",
        "        - 모델 저장 및 복원\n",
        "        - 모델 모니터링\n",
        "        - 모델 배포\n"
      ],
      "metadata": {
        "id": "c82-KSdPUMIS"
      }
    },
    {
      "cell_type": "markdown",
      "source": [
        "### Python의 기계 학습 라이브러리인 Scikit-Learn을 효과적으로 이해하기 위해 배워야 할 주요 사항\n",
        "\n",
        "- Python 프로그래밍: Scikit-Learn은 Python 라이브러리이므로 Python 숙련도가 중요. 데이터 유형, 제어 흐름, 기능 이해 및 패키지 작업이 포함.\n",
        "- 데이터 구조: 목록, 사전 및 집합과 같은 Python의 기본 데이터 구조를 이해하는 것이 중요. 데이터 분석 라이브러리인 Pandas는 특히 DataFrames와 함께 Scikit-Learn에서 사용할 데이터 조작에 필수적.\n",
        "- NumPy 및 Matplotlib: Scikit-Learn은 숫자 데이터를 효율적으로 처리하는 데 사용되는 NumPy 배열과 잘 작동. 플로팅 라이브러리인 Matplotlib는 데이터를 시각화하고 결과를 모델링하는 데 사용.\n",
        "- 기본 통계 및 확률: 평균, 중앙값, 모드, 표준 편차, 확률 분포, 가설 테스트 및 상관 계수가 포함.\n",
        "- 머신 러닝 개념: 지도 학습, 비지도 학습, 강화 학습 등 머신 러닝의 기본 사항을 숙지하고 회귀, 분류, 클러스터링, 차원 감소 및 앙상블 방법과 같은 일반적인 알고리즘 및 개념을 이해.\n",
        "- Scikit-Learn API: Scikit-Learn API와 일관된 인터페이스를 이해하는 것이 중요. 여기에는 라이브러리를 가져오고, 모델을 만들고, 모델을 데이터에 맞추고, 새 데이터 포인트를 예측하고, 모델의 성능을 평가하는 방법을 아는 것이 포함.\n",
        "- 데이터 전처리: 크기 조정, 정규화, 범주형 변수 인코딩 및 누락된 값 처리를 위한 Scikit-Learn의 전처리 도구를 사용하는 방법.\n",
        "- 모델 평가 및 조정: 교차 검증, 혼동 행렬, ROC 곡선, 정밀도, 재현율, F1 점수 등과 같은 모델 평가를 위한 Scikit-Learn 도구를 사용하는 방법과 GridSearch 및 RandomizedSearch와 같은 기술을 사용하여 모델을 조정하는 방법 이해.\n",
        "- 파이프라인 생성: Scikit-Learn은 전처리 및 모델 교육 프로세스를 간소화하는 파이프라인을 생성하는 유틸리티를 제공. 이것은 효율적이고 재현 가능한 코드를 만들기 위해 배워야 할 중요한 측면이다.\n",
        "- 딥 러닝: Scikit-Learn은 주로 딥 러닝에 사용되지 않지만 알아두면 유용할 수 있는 신경망에 대한 일부 지원을 제공."
      ],
      "metadata": {
        "id": "7AQhi6ZIU1qr"
      }
    },
    {
      "cell_type": "markdown",
      "source": [
        "### 사이킷런의 주요 모듈\n",
        "- model_selection: 학습 데이터와 테스트 데이터를 분리하거나 교차 검증, 그리고 Estimator의 하이퍼 파라미터를 튜닝하기 위해서 다양한 함수와 클래스를 제공.\n",
        "- preprocessing: 데이터를 정규화, 스케일링, 인코딩하는 등 다양한 기능을 제공.\n",
        "- datasets: 다양한 데이터 세트를 제공.\n",
        "- linear_model: 선형 회귀, 로지스틱 회귀, 릿지 회귀, 라쏘 회귀 등 다양한 선형 모델을 제공.\n",
        "- tree: 의사 결정 트리, 랜덤 포레스트, 그래디언트 부스팅 트리 등 다양한 트리 기반 모델을 제공.\n",
        "- svm: 서포트 벡터 머신, 커널 서포트 벡터 머신 등 다양한 서포트 벡터 머신을 제공.(결정경계)\n",
        "- neighbors: K-최근접 이웃 알고리즘을 제공.(knn)\n",
        "- ensemble: 앙상블 방법을 제공.(여러 알고리즘 사용)\n",
        "- cluster: 클러스터링 알고리즘을 제공."
      ],
      "metadata": {
        "id": "ihoZqwdeWFFU"
      }
    },
    {
      "cell_type": "markdown",
      "source": [
        "\n",
        "## 데이터 전처리: 스케일링과정규화"
      ],
      "metadata": {
        "id": "SLfRyjQ7ZgP5"
      }
    },
    {
      "cell_type": "code",
      "source": [
        "# 표준화\n",
        "#정규화하면 평균이 0 표준편차가 1\n",
        "\n",
        "from sklearn.preprocessing import StandardScaler\n",
        "import numpy as np\n",
        "#절대적인 값은 서로 다르지만 평균이 0 표준편차가 1인 데이터로 변환\n",
        "data = np.array([[1,2], [3,4], [5,6],[7,8], [9,10]])\n",
        "\n",
        "scaler = StandardScaler()\n",
        "scaled_data = scaler.fit_transform(data)  #핏과 트랜스폼은 2개로 나누어 사용가능\n",
        "\n",
        "print(f'Mean: {scaler.mean_}')\n",
        "print(f'Standard Deviation: {np.sqrt(scaler.var_)}')  #분산에 제곱근해줘서 표준편차 만듬\n",
        "#절대적인 값은 서로 다르지만 평균이 0 표준편차가 1인 데이터로 변환\n",
        "print(scaled_data)"
      ],
      "metadata": {
        "colab": {
          "base_uri": "https://localhost:8080/"
        },
        "id": "7y2IA7yQS2iM",
        "outputId": "b8da6e36-3118-4ec0-ae0a-88a1bebc0c77"
      },
      "execution_count": 22,
      "outputs": [
        {
          "output_type": "stream",
          "name": "stdout",
          "text": [
            "Mean: [5. 6.]\n",
            "Standard Deviation: [2.82842712 2.82842712]\n",
            "[[-1.41421356 -1.41421356]\n",
            " [-0.70710678 -0.70710678]\n",
            " [ 0.          0.        ]\n",
            " [ 0.70710678  0.70710678]\n",
            " [ 1.41421356  1.41421356]]\n"
          ]
        }
      ]
    },
    {
      "cell_type": "code",
      "source": [
        "from sklearn.preprocessing import StandardScaler, MinMaxScaler\n",
        "import numpy as np\n",
        "\n",
        "data = np.array([[1,2,3,],[4,5,6,],[7,8,9,]])\n",
        "#표준화\n",
        "scaler = StandardScaler()\n",
        "scaled_data = scaler.fit_transform(data)\n",
        "print(f'standard Scaled date: \\n {scaled_data}')\n",
        "#정규화 - 0부터 1사이로 정규화\n",
        "minmax_scaler = MinMaxScaler()\n",
        "minmax_data = minmax_scaler.fit_transform(data)\n",
        "print(f'min-max normalized data : \\n {minmax_data}')"
      ],
      "metadata": {
        "colab": {
          "base_uri": "https://localhost:8080/"
        },
        "id": "2GTmw7ATamt0",
        "outputId": "f62ad4c8-fa1b-4857-8d21-9313dadf7a1a"
      },
      "execution_count": 25,
      "outputs": [
        {
          "output_type": "stream",
          "name": "stdout",
          "text": [
            "standard Scaled date: \n",
            " [[-1.22474487 -1.22474487 -1.22474487]\n",
            " [ 0.          0.          0.        ]\n",
            " [ 1.22474487  1.22474487  1.22474487]]\n",
            "min-max normalized data : \n",
            " [[0.  0.  0. ]\n",
            " [0.5 0.5 0.5]\n",
            " [1.  1.  1. ]]\n"
          ]
        }
      ]
    },
    {
      "cell_type": "markdown",
      "source": [
        "Q. 와인 데이터셋을 이용한 와인의 종류를 예측하는 모델을 학습한후 정확도로 평가를 수행하세요"
      ],
      "metadata": {
        "id": "PwpEcGLRcsbA"
      }
    },
    {
      "cell_type": "code",
      "source": [
        "#분류모델 사용\n",
        "from sklearn.datasets import load_wine\n",
        "from sklearn.model_selection import train_test_split\n",
        "from sklearn.tree import DecisionTreeClassifier\n",
        "from sklearn.metrics import accuracy_score\n",
        "\n",
        "wine = load_wine()\n",
        "X, y = wine.data, wine.target\n",
        "\n",
        "X_train, X_test, y_train, y_test = train_test_split(X, y, test_size=0.2, random_state=10)\n",
        "\n",
        "dt = DecisionTreeClassifier()  #분류를 위한 모델은 10가지 정도가 됨\n",
        "dt.fit(X_train, y_train)\n",
        "\n",
        "y_pred = dt.predict(X_test)\n",
        "\n",
        "acc = accuracy_score(y_test, y_pred)\n",
        "\n",
        "print(f'Accuracy: {acc:.2f}')\n"
      ],
      "metadata": {
        "colab": {
          "base_uri": "https://localhost:8080/"
        },
        "id": "nOZUNivpdE8u",
        "outputId": "91820191-62b6-4aa6-8ce6-d9d30256431f"
      },
      "execution_count": 64,
      "outputs": [
        {
          "output_type": "stream",
          "name": "stdout",
          "text": [
            "Accuracy: 0.89\n"
          ]
        }
      ]
    },
    {
      "cell_type": "code",
      "source": [
        "from sklearn.datasets import load_wine\n",
        "from sklearn.model_selection import train_test_split\n",
        "from sklearn.tree import DecisionTreeClassifier\n",
        "from sklearn.metrics import accuracy_score\n",
        "\n",
        "# 1. 데이터 로드\n",
        "wine = load_wine()\n",
        "X = wine.data\n",
        "y = wine.target\n",
        "\n",
        "# 2. 학습용과 테스트용 데이터셋으로 나누기\n",
        "X_train, X_test, y_train, y_test = train_test_split(X, y, test_size=0.2, random_state=0)\n",
        "\n",
        "# 3. 로지스틱 회귀 모델 생성 및 학습\n",
        "dt = DecisionTreeClassifier()\n",
        "dt.fit(X_train, y_train)\n",
        "\n",
        "# 4. 예측 및 정확도 계산\n",
        "y_pred = dt.predict(X_test)\n",
        "accuracy = accuracy_score(y_test, y_pred)\n",
        "\n",
        "print(f'Accuracy: {accuracy:.2f}')\n",
        "\n",
        "print(len(X))"
      ],
      "metadata": {
        "colab": {
          "base_uri": "https://localhost:8080/"
        },
        "id": "niqmAzYE2buO",
        "outputId": "55c64d4a-b7ac-4f59-e55c-73f386057eca"
      },
      "execution_count": 87,
      "outputs": [
        {
          "output_type": "stream",
          "name": "stdout",
          "text": [
            "Accuracy: 0.97\n",
            "178\n"
          ]
        }
      ]
    },
    {
      "cell_type": "markdown",
      "source": [
        "Q. 당뇨병 데이터셋을 이용하여 당뇨병 진행도를 예측하는 회귀모델을 학습시킨후 mse로 평가를 수행하세요(독립변수에 대해 표준화)\n"
      ],
      "metadata": {
        "id": "7svz-xzLdG3h"
      }
    },
    {
      "cell_type": "code",
      "source": [
        "from sklearn.datasets import load_diabetes\n",
        "from sklearn.linear_model import LinearRegression\n",
        "from sklearn.model_selection import train_test_split\n",
        "from sklearn.metrics import mean_squared_error\n",
        "from sklearn.preprocessing import StandardScaler\n",
        "\n",
        "\n",
        "diabet = load_diabetes()\n",
        "\n",
        "#이미 표준화된 데이터\n",
        "X = diabet.data\n",
        "y = diabet.target\n",
        "X_train, X_test, y_train, y_test = train_test_split(X, y, test_size=0.3, random_state=42)\n",
        "\n",
        "scaler = StandardScaler()\n",
        "X_train = scaler.fit_transform(X_train)\n",
        "X_test = scaler.transform(X_test)\n",
        "\n",
        "\n",
        "\n",
        "model = LinearRegression()\n",
        "model.fit(X_train, y_train)\n",
        "\n",
        "y_pred = model.predict(X_test)\n",
        "\n",
        "mse = mean_squared_error(y_test, y_pred)\n",
        "print(f'Mean Squared Error: {mse:.2f}')"
      ],
      "metadata": {
        "colab": {
          "base_uri": "https://localhost:8080/"
        },
        "id": "rQg3H3WpdUtP",
        "outputId": "f1be56a9-7909-458f-a9fa-7f77adfecae5"
      },
      "execution_count": 90,
      "outputs": [
        {
          "output_type": "stream",
          "name": "stdout",
          "text": [
            "Mean Squared Error: 2821.75\n"
          ]
        }
      ]
    },
    {
      "cell_type": "code",
      "source": [
        "diabet.keys()"
      ],
      "metadata": {
        "colab": {
          "base_uri": "https://localhost:8080/"
        },
        "id": "z9-nWeml5M3c",
        "outputId": "257db785-0bca-45b1-92c4-7c911e2df727"
      },
      "execution_count": 93,
      "outputs": [
        {
          "output_type": "execute_result",
          "data": {
            "text/plain": [
              "dict_keys(['data', 'target', 'frame', 'DESCR', 'feature_names', 'data_filename', 'target_filename', 'data_module'])"
            ]
          },
          "metadata": {},
          "execution_count": 93
        }
      ]
    },
    {
      "cell_type": "code",
      "source": [
        "diabet.feature_names"
      ],
      "metadata": {
        "colab": {
          "base_uri": "https://localhost:8080/"
        },
        "id": "63GgrvN44xa9",
        "outputId": "3f708690-7bb1-449b-cbc3-2f2232bf3e4f"
      },
      "execution_count": 92,
      "outputs": [
        {
          "output_type": "execute_result",
          "data": {
            "text/plain": [
              "['age', 'sex', 'bmi', 'bp', 's1', 's2', 's3', 's4', 's5', 's6']"
            ]
          },
          "metadata": {},
          "execution_count": 92
        }
      ]
    },
    {
      "cell_type": "code",
      "source": [
        "# 원래 컬럼 단위가 다 다름 - 회귀분석에 숫자의 스케일이 큰게 크게 반영되는 경우 발생 그래서 표준화 필요\n",
        "diabet.data[0]"
      ],
      "metadata": {
        "colab": {
          "base_uri": "https://localhost:8080/"
        },
        "id": "TuU6deTbgarA",
        "outputId": "f2a88277-d1ee-4ce8-804c-bf407d30053e"
      },
      "execution_count": 91,
      "outputs": [
        {
          "output_type": "execute_result",
          "data": {
            "text/plain": [
              "array([ 0.03807591,  0.05068012,  0.06169621,  0.02187239, -0.0442235 ,\n",
              "       -0.03482076, -0.04340085, -0.00259226,  0.01990749, -0.01764613])"
            ]
          },
          "metadata": {},
          "execution_count": 91
        }
      ]
    },
    {
      "cell_type": "code",
      "source": [
        "diabet.DESCR"
      ],
      "metadata": {
        "colab": {
          "base_uri": "https://localhost:8080/",
          "height": 106
        },
        "id": "gmwMSSpa4dhY",
        "outputId": "98a476ca-6c99-421a-8fd7-4cb3f8caa9ca"
      },
      "execution_count": 94,
      "outputs": [
        {
          "output_type": "execute_result",
          "data": {
            "text/plain": [
              "'.. _diabetes_dataset:\\n\\nDiabetes dataset\\n----------------\\n\\nTen baseline variables, age, sex, body mass index, average blood\\npressure, and six blood serum measurements were obtained for each of n =\\n442 diabetes patients, as well as the response of interest, a\\nquantitative measure of disease progression one year after baseline.\\n\\n**Data Set Characteristics:**\\n\\n  :Number of Instances: 442\\n\\n  :Number of Attributes: First 10 columns are numeric predictive values\\n\\n  :Target: Column 11 is a quantitative measure of disease progression one year after baseline\\n\\n  :Attribute Information:\\n      - age     age in years\\n      - sex\\n      - bmi     body mass index\\n      - bp      average blood pressure\\n      - s1      tc, total serum cholesterol\\n      - s2      ldl, low-density lipoproteins\\n      - s3      hdl, high-density lipoproteins\\n      - s4      tch, total cholesterol / HDL\\n      - s5      ltg, possibly log of serum triglycerides level\\n      - s6      glu, blood sugar level\\n\\nNote: Each of these 10 feature variables have been mean centered and scaled by the standard deviation times the square root of `n_samples` (i.e. the sum of squares of each column totals 1).\\n\\nSource URL:\\nhttps://www4.stat.ncsu.edu/~boos/var.select/diabetes.html\\n\\nFor more information see:\\nBradley Efron, Trevor Hastie, Iain Johnstone and Robert Tibshirani (2004) \"Least Angle Regression,\" Annals of Statistics (with discussion), 407-499.\\n(https://web.stanford.edu/~hastie/Papers/LARS/LeastAngle_2002.pdf)\\n'"
            ],
            "application/vnd.google.colaboratory.intrinsic+json": {
              "type": "string"
            }
          },
          "metadata": {},
          "execution_count": 94
        }
      ]
    },
    {
      "cell_type": "markdown",
      "source": [
        "## 종속변수 표준화\n",
        "\n",
        "종속변수 자체의 분포가 문제가 있다고 보인다면\n",
        "\n",
        "종속변수는 로그변환으로 분포 확인\n",
        "\n",
        "분석후 결과를 다시 환원해서 단위 맞춰줘야 함.\n",
        "\n",
        "예를 들어 진행률의 단위가 %이면 변화하고 나중에 다시 환원"
      ],
      "metadata": {
        "id": "Ds9AZyb_5m3-"
      }
    },
    {
      "cell_type": "markdown",
      "source": [
        "#### 로지스틱 회귀(Logistic Regression) - 회귀에서 나옴, 연속형, 단순회귀는 직선, 성공한 확률과 아닌 확률, 0~1사이 값으로 나오는거, 회귀이지만 분류모델로 사용,\n",
        "\n",
        "- 분류 문제를 해결하기 위한 알고리즘으로, 선형 회귀와 마찬가지로 입력 특성의 가중치 합을 계산하는데, 선형 회귀와 달리 결과를 이진 분류(0 또는 1, 참 또는 거짓 등)에 사용할 수 있는 확률로 변환.\n",
        "\n",
        "- 로지스틱 회귀는 선형 회귀와 비슷하게 모델의 예측과 실제 값 사이의 차이를 최소화하도록 가중치를 학습. 하지만 로지스틱 회귀는 선형 회귀와는 달리 결과를 0과 1 사이의 값으로 제한하는 로지스틱 함수(또는 시그모이드 함수)를 사용.\n",
        "\n",
        "- 로지스틱 회귀는 각 클래스에 속할 확률을 제공하며, 특정 임계값(일반적으로 0.5)을 초과하는 경우 데이터 포인트를 해당 클래스에 할당. 이는 이진 분류뿐만 아니라 다중 클래스 분류에도 적용될 수 있다(이 경우에는 일대다(OvR) 또는 다항 로지스틱 회귀를 사용할 수 있다). - 이진분류에 많이 사용\n",
        "\n",
        "- 로지스틱 회귀는 출력이 확률이기 때문에, 결과의 해석이 직관적이며 모델의 예측이 불확실한 경우에도 그 정도를 측정할 수 있다. 또한 로지스틱 회귀는 선형 회귀보다 이상치에 덜 민감하며, 모델이 과적합되는 것을 방지하기 위해 규제를 적용할 수 있다는 장점도 있다.\n",
        "\n",
        "- 로지스틱 함수, 또는 시그모이드 함수는 S-자 형태를 띠는 함수로, 실수 입력값을 0과 1 사이의 출력값으로 변환하는 데 사용. 이 함수는 머신러닝, 특히 이진 분류 문제에서 중요한 역할을 한다.\n",
        "\n",
        "- 로지스틱 함수의 정의\n",
        "\n",
        "    - f(x) = 1 / (1 + e^-x)\n",
        "\n",
        "    - e는 자연 상수(약 2.71828). x는 어떤 실수 값도 가능하며, -무한대에서 무한대까지의 범위를 가지며 이 함수는 모든 실수 입력에 대해 0과 1 사이의 값을 반환.\n",
        "\n",
        "    - 함수가 결과를 0과 1 사이로 제한하기 때문에, 이는 확률에 대해 논의할 때 특히 유용. 로지스틱 회귀 분석에서 이 함수는 선형 함수의 결과를 확률로 변환하는데 사용.\n",
        "\n",
        "    - 입력값 x가 커질수록 로지스틱 함수의 출력은 1에 가까워지고, x가 작아질수록 출력은 0에 가까워진다. x가 0일 때 로지스틱 함수의 값은 0.5입니다. 이러한 특성 때문에 로지스틱 함수는 이진 분류 문제에 널리 사용."
      ],
      "metadata": {
        "id": "Hisax5j46lNN"
      }
    },
    {
      "cell_type": "markdown",
      "source": [
        "#### 데이터셋을 로드하고, 전처리한 후, 로지스틱 회귀 모델을 학습시키고, 모델의 성능을 평가하는 과정\n",
        "- 타이타닉 데이터셋을 로드하고 필요한 컬럼만 선택합니다.\n",
        "- 결측치를 처리하고 범주형 변수를 인코딩합니다. - 알고리즘은 숫자만 인식하니\n",
        "- 데이터를 학습용과 테스트용으로 분리합니다.\n",
        "- `로지스틱 회귀 모델을 학습`시키고 예측을 수행합니다.\n",
        "- 모델의 정확도, 혼동 행렬, 분류 보고서를 출력합니다.\n",
        "- ROC AUC 성능을 출력합니다. - 이진분류에 많이 사용"
      ],
      "metadata": {
        "id": "5XNKpSMh8WmF"
      }
    },
    {
      "cell_type": "code",
      "source": [
        "import pandas as pd\n",
        "\n",
        "url = 'https://raw.githubusercontent.com/datasciencedojo/datasets/master/titanic.csv'\n",
        "\n",
        "data_org = pd.read_csv(url)"
      ],
      "metadata": {
        "id": "s6fuE5zl_6w4"
      },
      "execution_count": 95,
      "outputs": []
    },
    {
      "cell_type": "code",
      "source": [
        "from sklearn.model_selection import train_test_split\n",
        "from sklearn.linear_model import LogisticRegression\n",
        "from sklearn.metrics import accuracy_score, confusion_matrix, classification_report\n",
        "\n",
        "data = data_org.copy()\n",
        "\n",
        "# 필요한 컬럼 선택 및 결측치 처리\n",
        "data = data[['Survived', 'Pclass', 'Sex', 'Age', 'SibSp', 'Parch', 'Fare']]\n",
        "data = data.dropna()\n",
        "\n",
        "# 범주형 변수 인코딩\n",
        "data['Sex'] = data['Sex'].map({'male': 0, 'female': 1})\n",
        "\n",
        "# 특성과 레이블 분리\n",
        "X = data.drop('Survived', axis=1)\n",
        "y = data['Survived']\n",
        "\n",
        "# 학습 데이터와 테스트 데이터 분리\n",
        "X_train, X_test, y_train, y_test = train_test_split(X, y, test_size=0.2, random_state=42)\n",
        "\n",
        "# 로지스틱 회귀 모델 학습\n",
        "model = LogisticRegression()\n",
        "model.fit(X_train, y_train)\n",
        "\n",
        "# 예측\n",
        "y_pred = model.predict(X_test)\n",
        "\n",
        "# 모델 평가\n",
        "accuracy = accuracy_score(y_test, y_pred)\n",
        "conf_matrix = confusion_matrix(y_test, y_pred)\n",
        "class_report = classification_report(y_test, y_pred)\n",
        "\n",
        "print(f'Accuracy: {round(accuracy,4)}')\n",
        "print('Confusion Matrix:')\n",
        "print(conf_matrix,'\\n')\n",
        "print('Classification Report:')\n",
        "print(class_report,'\\n')\n",
        "\n",
        "# 확률값 확인\n",
        "y_pred_prob = model.predict_proba(X_test)[:, 1]\n",
        "\n",
        "# ROC AUC 평가\n",
        "from sklearn.metrics import roc_curve, roc_auc_score\n",
        "\n",
        "fpr, tpr, thresholds = roc_curve(y_test, y_pred_prob)\n",
        "roc_auc = roc_auc_score(y_test, y_pred_prob)\n",
        "print(f'ROC_AUC : {round(roc_auc,4)}')"
      ],
      "metadata": {
        "colab": {
          "base_uri": "https://localhost:8080/"
        },
        "id": "IwyEsAos5TkS",
        "outputId": "b9a4a242-61ad-47a1-ab42-c93c9867f387"
      },
      "execution_count": 96,
      "outputs": [
        {
          "output_type": "stream",
          "name": "stdout",
          "text": [
            "Accuracy: 0.7483\n",
            "Confusion Matrix:\n",
            "[[71 16]\n",
            " [20 36]] \n",
            "\n",
            "Classification Report:\n",
            "              precision    recall  f1-score   support\n",
            "\n",
            "           0       0.78      0.82      0.80        87\n",
            "           1       0.69      0.64      0.67        56\n",
            "\n",
            "    accuracy                           0.75       143\n",
            "   macro avg       0.74      0.73      0.73       143\n",
            "weighted avg       0.75      0.75      0.75       143\n",
            " \n",
            "\n",
            "ROC_AUC : 0.8164\n"
          ]
        }
      ]
    },
    {
      "cell_type": "markdown",
      "source": [
        "#### 교차 검증 - 데이터가 적은 경우, 샘플수가 적은 경우 모집단 반영이 안됨, 평가 데이터가 쏠리는 경우를 막기 위해,\n",
        "\n",
        "모델의 성능을 평가하기 위한 기법으로, 데이터를 여러 번 나누어 여러 모델을 학습시키고 검증하는 방법입니다. 교차 검증을 통해 모델의 일반화 성능을 더 잘 추정할 수 있습니다.\n",
        "\n",
        "교차 검증의 과정\n",
        "- 데이터 분할:\n",
        "  - 전체 데이터를 여러 개의 폴드(fold)로 나눕니다. 예를 들어, 5-폴드 교차 검증에서는 데이터를 5개의 폴드로 나눕니다.\n",
        "- 모델 학습 및 평가:\n",
        "  - 각 폴드에 대해 한 번씩 테스트 데이터로 사용하고 나머지 폴드는 학습 데이터로 사용합니다.\n",
        "  - 즉, 5-폴드 교차 검증에서는 5번의 학습 및 평가 과정을 거칩니다.\n",
        "- 성능 측정:\n",
        "  - 각 폴드에서 얻은 평가 점수를 기록하고, 이를 평균하여 최종 성능을 측정합니다.\n",
        "- 장점\n",
        "  - 일반화 성능 추정: 모델이 새로운 데이터에 대해 얼마나 잘 작동할지를 더 객관적으로 추정할 수 있습니다.\n",
        "  - 데이터 효율성: 데이터를 반복해서 사용하므로 데이터 낭비가 적습니다.\n",
        "  - 모델 튜닝: 모델의 하이퍼파라미터를 튜닝할 때 유용합니다."
      ],
      "metadata": {
        "id": "n8v2YYAMCKm9"
      }
    },
    {
      "cell_type": "code",
      "source": [
        "#타이타닉 데이터 사용\n",
        "#cross-validation Scores:가 폴드에서 모델이 얻은 점수 배열입니다.\n",
        "#average score : 교차검증 점수들의 평균으로 모델의 일반화 성능을 나타냅니다.\n",
        "import numpy as np\n",
        "from sklearn.model_selection import cross_val_score\n",
        "from sklearn.linear_model import LogisticRegression\n",
        "\n",
        "#모델 초기화\n",
        "model = LogisticRegression(max_iter=200)\n",
        "#교차검증\n",
        "scores = cross_val_score(model, X, y, cv=5)\n",
        "print(f'score: {scores}')\n",
        "print(f'average score: {np.mean(scores):.2f}')\n"
      ],
      "metadata": {
        "colab": {
          "base_uri": "https://localhost:8080/"
        },
        "id": "nTCHyMk8DTCy",
        "outputId": "0cbb7ed5-d11f-4b16-87b6-a10351db323a"
      },
      "execution_count": 99,
      "outputs": [
        {
          "output_type": "stream",
          "name": "stdout",
          "text": [
            "score: [0.76223776 0.81818182 0.78321678 0.76923077 0.81690141]\n",
            "average score: 0.79\n"
          ]
        }
      ]
    },
    {
      "cell_type": "markdown",
      "source": [
        "\n",
        "### 서포트 벡터 머신(Support Vector Machines, SVM) - 딥러닝 나오기전까지 많이 사용\n",
        "\n",
        "- 분류나 회귀, 이상치 탐지 등에 사용되는 강력한 머신러닝 알고리즘 중 하나입니다. SVM은 주로 `분류 문제`에 사용되며, 이 알고리즘의 핵심 아이디어는 데이터를 고차원 공간으로 변환하여 서로 다른 클래스 간의 최대 마진을 찾는 것입니다. -\n",
        "\n",
        "- SVM은 데이터를 두 개의 클래스로 나누는 결정 경계(결정 초평면이라고도 함 - 3,4 차원으로 가면 초평면이라고 함)를 찾습니다. 이 결정 경계는 각 클래스의 가장 가까운 훈련 샘플(서포트 벡터라고 함)까지의 거리가 최대가 되는 선을 찾는 것을 목표로 합니다. 이를 '마진 최대화'라고 하며, 이 마진 최대화는 오류를 최소화하고 모델의 일반화 성능을 향상시키는 데 중요한 역할을 합니다.\n",
        "\n",
        "- SVM은 선형 뿐만 아니라 비선형 분류 문제에도 사용할 수 있습니다. 비선형 문제를 해결하기 위해, SVM은 커널 트릭이라는 기법을 사용하여 데이터를 고차원 공간으로 변환하고, 그 고차원에서 선형 결정 경계를 찾습니다. 이 커널 트릭 덕분에 SVM은 복잡한 분류 문제(고차원분류 문제)를 처리할 수 있습니다.\n",
        "\n",
        "- SVM은 작은 데이터셋에서도 잘 작동하며, 높은 차원의 데이터에 대해 강력한 성능을 발휘합니다. 그러나 데이터셋이 크거나 노이즈가 많은 경우, 그리고 데이터가 선형적으로 구분되지 않는 경우에는 다른 알고리즘(예: 랜덤 포레스트나 신경망)에 비해 성능이 떨어질 수 있습니다."
      ],
      "metadata": {
        "id": "MwZIZoVBE_fx"
      }
    },
    {
      "cell_type": "markdown",
      "source": [
        "# 튜닝\n"
      ],
      "metadata": {
        "id": "_fimQZQhH0Tc"
      }
    },
    {
      "cell_type": "markdown",
      "source": [
        "#### 그리드 서치를 통한 하이퍼파라미터 튜닝 - 사용자가 레인지를 부여해서 각각의 조합을 찾아냄, 많은 조합이 생겨 시간이 많이 생김,\n",
        "\n",
        "GridSearchCV는 사이킷런에서 제공하는 하이퍼파라미터 튜닝 기법으로, 모델의 성능을 최적화하기 위해 다양한 하이퍼파라미터 조합을 시도하는 방법입니다. GridSearchCV는 사용자가 제공한 하이퍼파라미터 값들의 조합을 모두 시도하여, 가장 좋은 성능을 내는 조합을 찾습니다\n",
        "\n",
        "GridSearchCV의 과정\n",
        "- 하이퍼파라미터 그리드 설정: 튜닝할 하이퍼파라미터와 그 후보 값들의 집합을 정의합니다.(예: 디시젼 트리 - 맥스뎁스로 갈수록 과대 적합, 맥스뎁스를 정해줌, 나온 결과값으로 더 들어갈지 판단)\n",
        "- 모델 초기화: 튜닝할 머신러닝 모델을 초기화합니다.\n",
        "- 교차 검증을 통한 모델 학습 및 평가:\n",
        "  - 각 하이퍼파라미터 조합에 대해 교차 검증을 수행합니다.\n",
        "  - 교차 검증을 통해 얻은 평균 성능 점수를 기록합니다.\n",
        "- 최적의 하이퍼파라미터 선택: 교차 검증 결과를 바탕으로 가장 높은 성능을 보인 하이퍼파라미터 조합을 선택합니다.\n",
        "- 최적 모델로 학습: 최적의 하이퍼파라미터를 사용하여 모델을 학습시킵니다.\n",
        "\n",
        "GridSearchCV의 장점\n",
        "- 자동화된 하이퍼파라미터 튜닝: 다양한 하이퍼파라미터 조합을 자동으로 시도하여 최적의 조합을 찾을 수 있습니다.\n",
        "- 교차 검증 사용: 교차 검증을 통해 모델의 일반화 성능을 평가하므로, 데이터셋에 대한 과적합을 방지합니다.\n",
        "- 다양한 모델 지원: 사이킷런의 다양한 모델과 함께 사용할 수 있습니다"
      ],
      "metadata": {
        "id": "M_ICE0SwFNDk"
      }
    },
    {
      "cell_type": "markdown",
      "source": [
        "아래 코드에서는 다음과 같은 작업을 수행합니다:\n",
        "\n",
        "- 파라미터 그리드 설정: param_grid 변수에 SVM(Support Vector Machine) 모델의 하이퍼파라미터 C와 kernel의 후보 값들을 정의합니다.\n",
        "\n",
        "  - C: 규제 파라미터로, 값이 작을수록 규제가 강해집니다.\n",
        "  - kernel: SVM에서 사용할 커널 함수로, 여기서는 'linear'와 'rbf'를 시도합니다.\n",
        "  \n",
        "- 모델 초기화: SVC 모델을 초기화합니다.\n",
        "\n",
        "- 그리드 서치 초기화 및 학습:\n",
        "  - GridSearchCV 객체를 초기화하고, svc 모델과 param_grid를 전달합니다.\n",
        "  - cv=5는 5-폴드 교차 검증을 의미합니다.\n",
        "  - fit 메서드를 호출하여 그리드 서치를 수행하고 모델을 학습시킵니다.\n",
        "\n",
        "- 최적 파라미터와 점수 출력:\n",
        "  - grid_search.best_params_를 사용하여 최적의 하이퍼파라미터 조합을 출력합니다.\n",
        "  - grid_search.best_score_를 사용하여 최적 조합에서의 교차 검증 평균 점수를 출력합니다."
      ],
      "metadata": {
        "id": "prwu-A9lFSRJ"
      }
    },
    {
      "cell_type": "code",
      "source": [
        "from sklearn.model_selection import GridSearchCV\n",
        "from sklearn.svm import SVC\n",
        "\n",
        "#파라미터 그리드 설정\n",
        "param_grid = {'C':[0.1, 1, 10], 'kernel':['linear', 'rbf']}\n",
        "\n",
        "#모델 초기화\n",
        "svc = SVC()\n",
        "\n",
        "#그리드 서치 초기화 및 학습\n",
        "grid_search = GridSearchCV(SVC(), param_grid, cv=5)\n",
        "grid_search.fit(X, y)\n",
        "\n",
        "#최적 파라미터와 점수 출력\n",
        "print(f'Best Parameters: {grid_search.best_params_}')\n",
        "print(f'Best Score: {grid_search.best_score_:.2f}')"
      ],
      "metadata": {
        "colab": {
          "base_uri": "https://localhost:8080/"
        },
        "id": "BrqjiBwuEcVU",
        "outputId": "ad76f254-720a-47cc-c473-e268466ef979"
      },
      "execution_count": 102,
      "outputs": [
        {
          "output_type": "stream",
          "name": "stdout",
          "text": [
            "Best Parameters: {'C': 1, 'kernel': 'linear'}\n",
            "Best Score: 0.78\n"
          ]
        }
      ]
    },
    {
      "cell_type": "markdown",
      "source": [
        "PCA를 이용한 차원 축소"
      ],
      "metadata": {
        "id": "Xazl7lKvKzjk"
      }
    },
    {
      "cell_type": "code",
      "source": [
        "from sklearn.datasets import load_iris\n",
        "from sklearn.decomposition import PCA\n",
        "import matplotlib.pyplot as plt\n",
        "\n",
        "iris = load_iris()\n",
        "X = iris.data\n",
        "#y 학습에는 넣지 않음, 그러나 산점도 그래프에서 레이블을 보여주기 위해 y가 필요\n",
        "y = iris.target\n",
        "\n",
        "pca = PCA(n_components=2)\n",
        "X_pca = pca.fit_transform(X)\n",
        "\n",
        "plt.scatter(X_pca[:, 0], X_pca[:, 1], c=y, cmap='viridis')\n",
        "plt.xlabel('PC1')\n",
        "plt.ylabel('PC2')\n",
        "plt.show"
      ],
      "metadata": {
        "colab": {
          "base_uri": "https://localhost:8080/",
          "height": 623
        },
        "id": "RmYTY5uiJ7zH",
        "outputId": "6bcace56-b4a1-4178-96dd-f65e93a252a0"
      },
      "execution_count": 106,
      "outputs": [
        {
          "output_type": "execute_result",
          "data": {
            "text/plain": [
              "<function matplotlib.pyplot.show(close=None, block=None)>"
            ],
            "text/html": [
              "<div style=\"max-width:800px; border: 1px solid var(--colab-border-color);\"><style>\n",
              "      pre.function-repr-contents {\n",
              "        overflow-x: auto;\n",
              "        padding: 8px 12px;\n",
              "        max-height: 500px;\n",
              "      }\n",
              "\n",
              "      pre.function-repr-contents.function-repr-contents-collapsed {\n",
              "        cursor: pointer;\n",
              "        max-height: 100px;\n",
              "      }\n",
              "    </style>\n",
              "    <pre style=\"white-space: initial; background:\n",
              "         var(--colab-secondary-surface-color); padding: 8px 12px;\n",
              "         border-bottom: 1px solid var(--colab-border-color);\"><b>matplotlib.pyplot.show</b><br/>def show(*args, **kwargs)</pre><pre class=\"function-repr-contents function-repr-contents-collapsed\" style=\"\"><a class=\"filepath\" style=\"display:none\" href=\"#\">/usr/local/lib/python3.10/dist-packages/matplotlib/pyplot.py</a>Display all open figures.\n",
              "\n",
              "Parameters\n",
              "----------\n",
              "block : bool, optional\n",
              "    Whether to wait for all figures to be closed before returning.\n",
              "\n",
              "    If `True` block and run the GUI main loop until all figure windows\n",
              "    are closed.\n",
              "\n",
              "    If `False` ensure that all figure windows are displayed and return\n",
              "    immediately.  In this case, you are responsible for ensuring\n",
              "    that the event loop is running to have responsive figures.\n",
              "\n",
              "    Defaults to True in non-interactive mode and to False in interactive\n",
              "    mode (see `.pyplot.isinteractive`).\n",
              "\n",
              "See Also\n",
              "--------\n",
              "ion : Enable interactive mode, which shows / updates the figure after\n",
              "      every plotting command, so that calling ``show()`` is not necessary.\n",
              "ioff : Disable interactive mode.\n",
              "savefig : Save the figure to an image file instead of showing it on screen.\n",
              "\n",
              "Notes\n",
              "-----\n",
              "**Saving figures to file and showing a window at the same time**\n",
              "\n",
              "If you want an image file as well as a user interface window, use\n",
              "`.pyplot.savefig` before `.pyplot.show`. At the end of (a blocking)\n",
              "``show()`` the figure is closed and thus unregistered from pyplot. Calling\n",
              "`.pyplot.savefig` afterwards would save a new and thus empty figure. This\n",
              "limitation of command order does not apply if the show is non-blocking or\n",
              "if you keep a reference to the figure and use `.Figure.savefig`.\n",
              "\n",
              "**Auto-show in jupyter notebooks**\n",
              "\n",
              "The jupyter backends (activated via ``%matplotlib inline``,\n",
              "``%matplotlib notebook``, or ``%matplotlib widget``), call ``show()`` at\n",
              "the end of every cell by default. Thus, you usually don&#x27;t have to call it\n",
              "explicitly there.</pre>\n",
              "      <script>\n",
              "      if (google.colab.kernel.accessAllowed && google.colab.files && google.colab.files.view) {\n",
              "        for (const element of document.querySelectorAll('.filepath')) {\n",
              "          element.style.display = 'block'\n",
              "          element.onclick = (event) => {\n",
              "            event.preventDefault();\n",
              "            event.stopPropagation();\n",
              "            google.colab.files.view(element.textContent, 401);\n",
              "          };\n",
              "        }\n",
              "      }\n",
              "      for (const element of document.querySelectorAll('.function-repr-contents')) {\n",
              "        element.onclick = (event) => {\n",
              "          event.preventDefault();\n",
              "          event.stopPropagation();\n",
              "          element.classList.toggle('function-repr-contents-collapsed');\n",
              "        };\n",
              "      }\n",
              "      </script>\n",
              "      </div>"
            ]
          },
          "metadata": {},
          "execution_count": 106
        },
        {
          "output_type": "display_data",
          "data": {
            "text/plain": [
              "<Figure size 640x480 with 1 Axes>"
            ],
            "image/png": "[encoded data removed]"
          },
          "metadata": {}
        }
      ]
    },
    {
      "cell_type": "code",
      "source": [],
      "metadata": {
        "id": "Wq99aD04L3BE"
      },
      "execution_count": null,
      "outputs": []
    }
  ]
}