{
 "cells": [
  {
   "cell_type": "markdown",
   "metadata": {},
   "source": [
    "## 0723\n"
   ]
  },
  {
   "cell_type": "markdown",
   "metadata": {},
   "source": [
    "## 분류 평가\n",
    "\n",
    "분류 모델 평가 지표\n",
    "\n",
    "정확도(Accuracy), 정밀도(Precision), 재현율(Recall), F1 Score, ROC AUC. 이러한 지표들은 모델의 성능을 다양한 관점에서 평가하는 데 중요.\n",
    "\n",
    "정확도 (Accuracy):\n",
    "- 정확도는 가장 직관적인 분류 성능 평가 지표. 모델이 전체 데이터 중 얼마나 정확하게 예측했는지를 나타낸다.\n",
    "- 계산 방법: (정확히 예측된 데이터의 수) / (전체 데이터의 수)  : 전체 데이터의 수는 TP + TN + FP + FN\n",
    "\n",
    "정밀도 (Precision): 양성을 중심에 두고 평가\n",
    "- 정밀도는 양성(Positive)으로 예측된 데이터 중 실제로 양성인 데이터의 비율. 즉, 모델이 '양성'이라고 예측한 것들 중 실제 '양성'인 경우의 비율.\n",
    "- 계산 방법: TP / (TP + FP) 뒷부분 P는 예측이라 표현\n",
    "여기서 TP(True Positive)는 실제 양성을 양성으로 올바르게 예측한 경우, FP(False Positive)는 실제 음성을 잘못해서 양성으로 예측한 경우.\n",
    "\n",
    "재현율 (Recall) 또는 민감도 (Sensitivity): \n",
    "- 재현율은 실제 양성인 데이터(양성예측했는데 true, 음성예측했는데 틀린거는 fn) 중 모델이 양성으로 올바르게 예측한 데이터의 비율 - 그래서 올바르게 재현되는 것 . 즉, 실제 '양성'인 경우들 중 모델이 얼마나 잘 잡아내는지를 나타낸다.\n",
    "- 계산 방법: TP / (TP + FN) - 분모는 모든 양성 데이터\n",
    "여기서 FN(False Negative)는 실제 양성을 잘못해서 음성으로 예측한 경우. - 이거 많아지면 재현율 낮아지고 암이면 암환자 치료 시기 놓침\n",
    "- tn은 실제 음성을 음성으로 예측한 경우\n",
    "F1 Score:\n",
    "- F1 Score는 정밀도와 재현율의 조화 평균(harmonic mean). 모델이 양성 데이터를 얼마나 잘 예측하는지에 대한 전반적인 측정치로, 특히 불균형 데이터셋에서 유용.\n",
    "- 계산 방법: 2 * (Precision * Recall) / (Precision + Recall)\n",
    "\n",
    "ROC AUC (Receiver Operating Characteristic - Area Under Curve):\n",
    "- ROC 곡선은 모델이 `양성 클래스`를 어떻게 잘 예측하는지에 대한 성능을 그래프로 나타낸 것. 이 곡선은 `재현율(tpr)과 1-특이성(실제 음성 중 잘못 양성으로 예측한 비율)의 관계`를 나타낸다.  재현율과 1-특이성은 대립관계이므로, 재현율이 높고 1-특이성이 낮을수록 좋은 모델.\n",
    "- AUC(Area Under the ROC Curve) 값은 ROC 곡선 아래의 면적을 의미하며, 이 값이 클수록 모델의 성능이 좋다고 평가. AUC는 0과 1 사이의 값을 가지며, 1에 가까울수록 더 좋은 모델."
   ]
  },
  {
   "cell_type": "markdown",
   "metadata": {},
   "source": [
    "\n",
    "* TP, FP, FN, TN는 예측 클래스와 실제 클래스의 Positive 결정 값과 Negative 결정 값의 결합에 따라 결정\n",
    "* 앞문자 True/False는 예측값과 실제값이 같은가/틀린가를 의미하고 뒤 문자 Negative/Positive는 예측 결과 값이 부정/긍정을 의미\n",
    "* TN는 예측값을 Negative 값 0으로 예측했고 실제값 역시 Negative 값 0\n",
    "* FP는 예측값을 Positive 값 1로 예측했고 실제값은 Negative 값 0\n",
    "* FN은 예측값을 Negative 값 0으로 예측했고 실제값은 Positive 값 1\n",
    "* TP는 예측값을 Positive 값 1로 예측했고 실제값 역시 Positive 값 1\n",
    "* 정확도 = (TP + TN) / ( TP + TN + FP + FN)  TP + TN + FP + FN = 전체 데이터 세트 , TP + TN = 맞은것, FP + FN = 틀린것\n",
    "* 정밀도 = TP / ( TP + FP)  양성 중심  \n",
    "* 예: 암 - 실제가 암인데 암이라고 예측하는건 재현율, 실제가 암이 아닌데 암이라고 예측하는건 정밀도, 스팸메일은 정밀도가 중요\n",
    "* 재현율 = TP / ( TP + FN) : 정밀도와 재현율이 어느 한쪽으로 치우치지 않는 수치를 나타낼때 높아짐.\n",
    "* F1 = 2 * ( 정밀도 * 재현율) / (정밀도 + 재현율)\n",
    "* 정밀도와 재현율은 Positive 데이터 세트의 예측 성능에 좀 더 초점을 맞춘 평가 지표 tp가 분자이므로\n",
    "* 재현율이 중요 지표인 경우는 실제 Positive 양성 데이터를 Negative로 잘못 판단하게 되면 업무상 큰 영향이 발생하는 경우(ex. 보험사기, 암진단)\n",
    "* 정밀도가 더 중요한 지표인 사례는 스팸 메일 여부를 판단하는 경우로 스팸 메일이 아닌데 스팸 메일로 분류해서 업무 차질 발생\n"
   ]
  },
  {
   "cell_type": "markdown",
   "metadata": {},
   "source": [
    "#### 정밀도/제현율 트레이드오프\n",
    "* 정밀도 또는 재현율이 특별히 강조돼야 할 경우 분류의 `결정 임곗값(Threshold)`을 조정해 정밀도 또는 재현율의 수치를 높일 수 있음\n",
    "* 정밀도와 재현율은 한쪽을 높이면 다른 하나의 수치는 낮아지므로 트레이드오프(Trade-off) 관계임\n",
    "\n",
    "#### 예측 확률을 반환하는 predict_proba()\n",
    "* 사이킷런 분류 알고리즘은 예측 데이터가 특정 레이블(결정 클래스 값)에 속하는지를 계산하기 위해 먼저 개별 레이블별로 결정 확률을 구함\n",
    "* 그리고 예측 확률이 큰 레이블 값으로 예측 - 해주는 것은 predict() 메서드\n",
    "* 이진 분류 모델에서 특정 데이터가 0이 될 확률이 10%, 1이 될 확률이 90%로 예측되었다면 최종 예측은 더 큰 확률을 가진 1로 예측\n",
    "* 이진 분류에서는 이 임곗값을 0.5로 정하고 이 기준 값보다 확률이 크면 Positive, 작으면 Negative로 결정함\n",
    "* 사이킷런은 개별 데이터별로 예측 확률을 반환하는 메서드인 predict_prob()를 제공 - 학습이 완료된 사이킷런 Classifier 객체에서 호출 - 확률을 알면 임계치를 조정하는데 도움이 됨 , roc auc에서 사용\n",
    "* predict() 메서드와 유사하지만 단지 반환 결과가 예측 결과 클래스값이 아닌 예측 확률 결과임"
   ]
  },
  {
   "cell_type": "code",
   "execution_count": 1,
   "metadata": {},
   "outputs": [],
   "source": [
    "import pandas as pd\n",
    "\n",
    "url = \"https://raw.githubusercontent.com/datasciencedojo/datasets/master/titanic.csv\"\n",
    "\n",
    "df = pd.read_csv(url)"
   ]
  },
  {
   "cell_type": "code",
   "execution_count": 1,
   "metadata": {},
   "outputs": [],
   "source": [
    "# 일괄 전처리 사용자 함수(null 처리, 불필요 칼럼 삭제, 레이블 인코딩)\n",
    "import pandas as pd\n",
    "from sklearn.preprocessing import LabelEncoder\n",
    "\n",
    "\n",
    "# Null 처리 함수\n",
    "# Age(평균), Cabin('N'), Embarked('N'), Fare(0)\n",
    "def fillna(df):\n",
    "    df[\"Age\"].fillna(df[\"Age\"].mean(), inplace=True)\n",
    "    df[\"Cabin\"].fillna(\"N\", inplace=True)\n",
    "    df[\"Embarked\"].fillna(\"N\", inplace=True)\n",
    "    df[\"Fare\"].fillna(0, inplace=True)\n",
    "    return df\n",
    "\n",
    "\n",
    "# 머신러닝 알고리즘에 불필요한 속성 제거\n",
    "# PassengerId, Name, Ticket(티켓번호)\n",
    "def drop_features(df):\n",
    "    df.drop([\"PassengerId\", \"Name\", \"Ticket\"], axis=1, inplace=True)\n",
    "    return df\n",
    "\n",
    "\n",
    "# 레이블 인코딩 수행.\n",
    "# Cabin(선실번호 첫문자만 추출 후 인코딩), Sex(성별), Embarked(중간 정착 항구)\n",
    "def format_features(df):\n",
    "    df[\"Cabin\"] = df[\"Cabin\"].str[:1]\n",
    "    features = [\"Cabin\", \"Sex\", \"Embarked\"]\n",
    "    for feature in features:\n",
    "        le = LabelEncoder()\n",
    "        le = le.fit(df[feature])\n",
    "        df[feature] = le.transform(df[feature])\n",
    "    return df\n",
    "\n",
    "\n",
    "# 앞에서 설정한 Data Preprocessing 함수 호출\n",
    "def transform_features(df):\n",
    "    df = fillna(df)\n",
    "    df = drop_features(df)\n",
    "    df = format_features(df)\n",
    "    return df"
   ]
  },
  {
   "cell_type": "code",
   "execution_count": 2,
   "metadata": {},
   "outputs": [
    {
     "name": "stdout",
     "output_type": "stream",
     "text": [
      "accuracy : 0.8492\n"
     ]
    }
   ],
   "source": [
    "from sklearn.model_selection import train_test_split\n",
    "from sklearn.linear_model import LogisticRegression\n",
    "from sklearn.metrics import accuracy_score\n",
    "import warnings\n",
    "import pandas as pd\n",
    "\n",
    "# FutureWarning 경고 메시지를 무시하도록 설정\n",
    "warnings.simplefilter(action='ignore', category=FutureWarning)\n",
    "\n",
    "\n",
    "titanic_df = pd.read_csv(\"train.csv\")\n",
    "y_titanic_df = titanic_df[\"Survived\"]\n",
    "X_titanic_df = titanic_df.drop(\"Survived\", axis=1)\n",
    "X_titanic_df = transform_features(X_titanic_df)\n",
    "X_train, X_test, y_train, y_test = train_test_split(\n",
    "    X_titanic_df, y_titanic_df, test_size=0.2, random_state=11\n",
    ")\n",
    "#lbfgs : Limited-memory Broyden–Fletcher–Goldfarb–Shanno Algorithm 메모리 사용량 줄이는데 최적화\n",
    "lr_clf = LogisticRegression(max_iter=500, solver=\"lbfgs\", random_state=42)\n",
    "\n",
    "lr_clf.fit(X_train, y_train)\n",
    "pred = lr_clf.predict(X_test)\n",
    "accuracy = accuracy_score(y_test, pred)\n",
    "print(f\"accuracy : {accuracy:.4f}\")"
   ]
  },
  {
   "cell_type": "code",
   "execution_count": 3,
   "metadata": {},
   "outputs": [
    {
     "name": "stdout",
     "output_type": "stream",
     "text": [
      "accuracy : 0.8492\n"
     ]
    },
    {
     "name": "stderr",
     "output_type": "stream",
     "text": [
      "d:\\kdt_240424\\workspace\\M5_ML\\venv\\lib\\site-packages\\sklearn\\linear_model\\_logistic.py:469: ConvergenceWarning: lbfgs failed to converge (status=1):\n",
      "STOP: TOTAL NO. of ITERATIONS REACHED LIMIT.\n",
      "\n",
      "Increase the number of iterations (max_iter) or scale the data as shown in:\n",
      "    https://scikit-learn.org/stable/modules/preprocessing.html\n",
      "Please also refer to the documentation for alternative solver options:\n",
      "    https://scikit-learn.org/stable/modules/linear_model.html#logistic-regression\n",
      "  n_iter_i = _check_optimize_result(\n"
     ]
    }
   ],
   "source": [
    "from sklearn.model_selection import train_test_split\n",
    "from sklearn.linear_model import LogisticRegression\n",
    "from sklearn.metrics import accuracy_score\n",
    "import warnings\n",
    "import pandas as pd\n",
    "\n",
    "# FutureWarning 경고 메시지를 무시하도록 설정\n",
    "warnings.simplefilter(action=\"ignore\", category=FutureWarning)\n",
    "\n",
    "\n",
    "titanic_df = pd.read_csv(\"train.csv\")\n",
    "y_titanic_df = titanic_df[\"Survived\"]\n",
    "X_titanic_df = titanic_df.drop(\"Survived\", axis=1)\n",
    "X_titanic_df = transform_features(X_titanic_df)\n",
    "X_train, X_test, y_train, y_test = train_test_split(\n",
    "    X_titanic_df, y_titanic_df, test_size=0.2, random_state=11\n",
    ")\n",
    "\n",
    "# 반복횟수 부족하면 max_iter 조정필요\n",
    "lr_clf = LogisticRegression(solver=\"lbfgs\", random_state=42)\n",
    "\n",
    "lr_clf.fit(X_train, y_train)\n",
    "pred = lr_clf.predict(X_test)\n",
    "accuracy = accuracy_score(y_test, pred)\n",
    "print(f\"accuracy : {accuracy:.4f}\")"
   ]
  },
  {
   "cell_type": "code",
   "execution_count": 5,
   "metadata": {},
   "outputs": [
    {
     "name": "stdout",
     "output_type": "stream",
     "text": [
      "[[0.46155889 0.53844111]\n",
      " [0.8786575  0.1213425 ]\n",
      " [0.87725401 0.12274599]]\n"
     ]
    }
   ],
   "source": [
    "pred_proba = lr_clf.predict_proba(X_test)\n",
    "print(pred_proba[:3])"
   ]
  },
  {
   "cell_type": "code",
   "execution_count": 6,
   "metadata": {},
   "outputs": [
    {
     "name": "stdout",
     "output_type": "stream",
     "text": [
      "[1 0 0]\n"
     ]
    },
    {
     "data": {
      "text/plain": [
       "array([[1],\n",
       "       [0],\n",
       "       [0]])"
      ]
     },
     "execution_count": 6,
     "metadata": {},
     "output_type": "execute_result"
    }
   ],
   "source": [
    "pred = lr_clf.predict(X_test)\n",
    "print(pred[:3])\n",
    "#3열 1행으로 만들고 3개만 출력\n",
    "pred.reshape(-1, 1)[:3]"
   ]
  },
  {
   "cell_type": "code",
   "execution_count": 7,
   "metadata": {},
   "outputs": [
    {
     "name": "stdout",
     "output_type": "stream",
     "text": [
      "[[0.46155889 0.53844111 1.        ]\n",
      " [0.8786575  0.1213425  0.        ]\n",
      " [0.87725401 0.12274599 0.        ]]\n"
     ]
    },
    {
     "data": {
      "text/plain": [
       "numpy.ndarray"
      ]
     },
     "execution_count": 7,
     "metadata": {},
     "output_type": "execute_result"
    }
   ],
   "source": [
    "import numpy as np\n",
    "pred_proba_result = np.concatenate([pred_proba, pred.reshape(-1, 1)], axis=1)\n",
    "print(pred_proba_result[:3])\n",
    "type(pred_proba_result)"
   ]
  },
  {
   "cell_type": "code",
   "execution_count": 8,
   "metadata": {},
   "outputs": [
    {
     "name": "stdout",
     "output_type": "stream",
     "text": [
      "[[0. 0. 1.]\n",
      " [1. 0. 0.]\n",
      " [0. 0. 1.]]\n"
     ]
    }
   ],
   "source": [
    "#사이킷런은 분류 결정 임계값을 조절해 정밀도와 재현율의 성능 수치를 상호 보완적으로 조정\n",
    "#threshold 변수를 특정 값으로 설정하고 Binarizer 클래스의 객체로 생성\n",
    "#fit_transform() 메서드를 이용해 넘파이 ndarray를 입력하면 \n",
    "#입력된 ndarray의 값을 지정된 threshold보다 같거나 작으면 0, 크면 1로 변환\n",
    "\n",
    "from sklearn.preprocessing import Binarizer\n",
    "\n",
    "X = [[1, -1, 2],\n",
    "     [2, 0, 0],\n",
    "     [0, 1.1, 1.2]]\n",
    "\n",
    "binarizer = Binarizer(threshold=1.1)\n",
    "print(binarizer.fit_transform(X))"
   ]
  },
  {
   "cell_type": "code",
   "execution_count": 13,
   "metadata": {},
   "outputs": [
    {
     "name": "stdout",
     "output_type": "stream",
     "text": [
      "pred_proba: \n",
      " [[0.46155889 0.53844111]\n",
      " [0.8786575  0.1213425 ]\n",
      " [0.87725401 0.12274599]\n",
      " [0.8827983  0.1172017 ]\n",
      " [0.85499634 0.14500366]]\n",
      "\n",
      "생존확률: \n",
      " [[0.53844111]\n",
      " [0.1213425 ]\n",
      " [0.12274599]\n",
      " [0.1172017 ]\n",
      " [0.14500366]]\n",
      "\n",
      "임계값 0.5로 예측값: \n",
      " [[1.]\n",
      " [0.]\n",
      " [0.]\n",
      " [0.]\n",
      " [0.]]\n"
     ]
    }
   ],
   "source": [
    "#생존 확률을 선택해서 임계값을 0.5로 설정하고 Binarizer 클래스를 이용해 예측값을 변환\n",
    "from sklearn.preprocessing import Binarizer\n",
    "custom_threshold = 0.5\n",
    "print('pred_proba: \\n', pred_proba[:5])\n",
    "print()\n",
    "# 생존확률 추출 후 2차원 배열로 변환\n",
    "pred_proba_1 = pred_proba[:, 1].reshape(-1, 1)\n",
    "print('생존확률: \\n', pred_proba_1[:5])\n",
    "print()\n",
    "binarizer = Binarizer(threshold=custom_threshold)\n",
    "custom_predict = binarizer.fit_transform(pred_proba_1)\n",
    "print('임계값 0.5로 예측값: \\n', custom_predict[:5])"
   ]
  },
  {
   "cell_type": "code",
   "execution_count": 10,
   "metadata": {},
   "outputs": [
    {
     "name": "stdout",
     "output_type": "stream",
     "text": [
      "pred_proba: \n",
      " [[0.46155889 0.53844111]\n",
      " [0.8786575  0.1213425 ]\n",
      " [0.87725401 0.12274599]\n",
      " [0.8827983  0.1172017 ]\n",
      " [0.85499634 0.14500366]]\n",
      "\n",
      "생존확률: \n",
      " [[0.53844111]\n",
      " [0.1213425 ]\n",
      " [0.12274599]\n",
      " [0.1172017 ]\n",
      " [0.14500366]]\n",
      "\n",
      "임계값 0.12로 예측값: \n",
      " [[1.]\n",
      " [1.]\n",
      " [1.]\n",
      " [0.]\n",
      " [1.]]\n"
     ]
    }
   ],
   "source": [
    "from sklearn.preprocessing import Binarizer\n",
    "\n",
    "custom_threshold = 0.12\n",
    "print(\"pred_proba: \\n\", pred_proba[:5])\n",
    "print()\n",
    "pred_proba_1 = pred_proba[:, 1].reshape(-1, 1)\n",
    "print(\"생존확률: \\n\", pred_proba_1[:5])\n",
    "print()\n",
    "binarizer = Binarizer(threshold=custom_threshold)\n",
    "custom_predict = binarizer.fit_transform(pred_proba_1)\n",
    "print(\"임계값 0.12로 예측값: \\n\", custom_predict[:5])"
   ]
  },
  {
   "cell_type": "code",
   "execution_count": 14,
   "metadata": {},
   "outputs": [
    {
     "name": "stdout",
     "output_type": "stream",
     "text": [
      "오차 행렬\n",
      "[[104  14]\n",
      " [ 13  48]]\n",
      "정확도 : 0.8492, 정밀도 : 0.7742, 재현율 : 0.7869, F1 : 0.7805\n"
     ]
    }
   ],
   "source": [
    "from sklearn.metrics import accuracy_score, precision_score, recall_score, confusion_matrix, f1_score\n",
    "\n",
    "def get_clf_eval(y_test, pred):\n",
    "    confusion = confusion_matrix(y_test, pred)\n",
    "    accuracy = accuracy_score(y_test, pred)\n",
    "    precision = precision_score(y_test, pred)\n",
    "    recall = recall_score(y_test, pred)\n",
    "    f1 = f1_score(y_test, pred)\n",
    "    print(\"오차 행렬\")\n",
    "    print(confusion)\n",
    "    print(f\"정확도 : {accuracy:.4f}, 정밀도 : {precision:.4f}, 재현율 : {recall:.4f}, F1 : {f1:.4f}\")\n",
    "    \n",
    "get_clf_eval(y_test, custom_predict)"
   ]
  },
  {
   "cell_type": "code",
   "execution_count": null,
   "metadata": {},
   "outputs": [],
   "source": [
    "# 오차행렬 구조\n",
    "TN FP\n",
    "FN TP"
   ]
  },
  {
   "cell_type": "markdown",
   "metadata": {},
   "source": [
    "* 정확도 = (TP + TN) / ( TP + TN + FP + FN)\n",
    "* 정밀도 = TP / ( TP + FP)  양성 중심  \n",
    "* 예: 암 - 실제가 암인데 암이라고 예측하는건 재현율, 실제가 암이 아닌데 암이라고 예측하는건 정밀도, 스팸메일은 정밀도가 중요\n",
    "* 재현율 = TP / ( TP + FN) : 정밀도와 재현율이 어느 한쪽으로 치우치지 않는 수치를 나타낼때 높아짐.\n",
    "* F1 = 2 * ( 정밀도 * 재현율) / (정밀도 + 재현율)"
   ]
  },
  {
   "cell_type": "markdown",
   "metadata": {},
   "source": [
    "TN=104, FN=14, FP=13, TP=48\n",
    "accuracy = (TP + TN) / ( TP + TN + FP + FN) = (104 + 48) / (104 + 14 + 13 + 48) = 152 / 179 = 0.849\n",
    "precision = TP / ( TP + FP) = 48 / (48 + 13) = 0.787\n",
    "recall = TP / ( TP + FN) = 48 / (48 + 14) = 0.774\n",
    "f1 = 2 * ( precision * recall) / (precision + recall) = 2 * (0.787 * 0.774) / (0.787 + 0.774) = 0.780"
   ]
  },
  {
   "cell_type": "markdown",
   "metadata": {},
   "source": [
    "Q. pred와 y_test를 배열로 만든후 동일한 인덱스에서 0이 일치하는 경우와 1이 모두 일치하는 경우를 구하시오\n",
    "\n",
    "pred 0 y_test 0 예측이 0 실제도 0 TN\n",
    "\n",
    "pred 1 y_test 1 예측이 1 실제도 1 TP"
   ]
  },
  {
   "cell_type": "code",
   "execution_count": 17,
   "metadata": {},
   "outputs": [
    {
     "data": {
      "text/plain": [
       "(np.int64(104), np.int64(48))"
      ]
     },
     "execution_count": 17,
     "metadata": {},
     "output_type": "execute_result"
    }
   ],
   "source": [
    "import numpy as np\n",
    "#예시 배열 생성\n",
    "array1 = pred\n",
    "array2 = y_test.values\n",
    "\n",
    "# print(y_test)\n",
    "# 동일한 인덱스에서 비교\n",
    "matching_zeros = np.sum((array1 == 0) & (array2 == 0))\n",
    "matching_ones = np.sum((array1 == 1) & (array2 == 1))\n",
    "#TN, TP\n",
    "matching_zeros, matching_ones"
   ]
  },
  {
   "cell_type": "markdown",
   "metadata": {},
   "source": [
    "Q. 오차 행렬을 통해 직접 수작업으로 지표 계산"
   ]
  },
  {
   "cell_type": "code",
   "execution_count": 18,
   "metadata": {},
   "outputs": [
    {
     "name": "stdout",
     "output_type": "stream",
     "text": [
      "오차 행렬\n",
      "[[99 19]\n",
      " [10 51]]\n",
      "정확도 : 0.8380, 정밀도 : 0.7286, 재현율 : 0.8361, F1 : 0.7786\n"
     ]
    }
   ],
   "source": [
    "# 분류 결정 임계값은 Positive 예측값을 결정하는 확률의 기준\n",
    "# 임계값을 낮출수록 True가 많아지고 False가 적어짐\n",
    "# 임계값을 낮출수록 Positive 예측이 많아지므로 FN이 줄어듦 (맞고 틀리고 전에 일단 Negative 예측이 줄어듬)\n",
    "# FN 감소 ->재현율 recall = TP / ( TP + FN) 분모 감소  -> 재현율 증가\n",
    "# FN 감소 -> PF증가 ->정밀도 precision = TP / ( TP + FP) 분모 증가  -> 정밀도 감소\n",
    "\n",
    "custom_threshold = 0.4\n",
    "pred_proba_1 = pred_proba[:, 1].reshape(-1, 1)\n",
    "binarizer = Binarizer(threshold=custom_threshold)\n",
    "custom_predict = binarizer.fit_transform(pred_proba_1)\n",
    "#y_test - 실제값\n",
    "get_clf_eval(y_test, custom_predict)"
   ]
  },
  {
   "cell_type": "markdown",
   "metadata": {},
   "source": [
    "- 재현율 : recall = TP / ( TP + FN) 양성을 양성으로 예측한 비율, 음성으로 예측했지만 틀린것도 포함,  \n",
    "\n",
    "- 실제 양성인 데이터 중 모델이 양성으로 올바르게 예측한 데이터의 비율이니 분모는 실제 양성인 데이터 전체 즉, 음성으로 예측했지만 양성인 경우가 분모에 포함되어야 함\n",
    "\n",
    "- 임계치가 올라가면 양성이 줄어듬, fn늘어남, 재현율이 낮아짐"
   ]
  },
  {
   "cell_type": "markdown",
   "metadata": {},
   "source": [
    "- 정밀도 : precision = TP / ( TP + FP)  정밀도는 양성(Positive)으로 예측된 데이터 중 실제로 양성인 데이터의 비율. 즉, 모델이 '양성'이라고 예측한 것들 중 실제 '양성'인 경우의 비율.\n",
    "\n",
    "- 실제 양성인 데이터 중 모델이 양성으로 올바르게 예측한 데이터의 비율이니 분모는 모델이 양성으로 예측한 데이터 전체 즉, 양성으로 예측했지만 틀린것도 포함\n",
    "\n",
    "- 임계치가 올라가면 양성이 줄어듬(맞고 틀리고 전에 양성이 줄어듬), tp도 줄지만 fp줄어듬, 정밀도가 높아짐"
   ]
  },
  {
   "cell_type": "markdown",
   "metadata": {},
   "source": [
    "TN FP\n",
    "FN TP\n",
    "\n",
    "# 0.5 기준으로 예측\n",
    "[[104  14]\n",
    " [ 13  48]]\n",
    "정확도 : 0.8492, 정밀도 : 0.7742, 재현율 : 0.7869, F1 : 0.7805\n",
    "# 0.4 기준으로 예측\n",
    "[[99 19]\n",
    " [10 51]]\n",
    "정확도 : 0.8380, 정밀도 : 0.7286, 재현율 : 0.8361, F1 : 0.7786\n",
    "\n",
    "임계치 하락시 재현율 증가, 정밀도 감소"
   ]
  },
  {
   "cell_type": "code",
   "execution_count": 19,
   "metadata": {},
   "outputs": [
    {
     "name": "stdout",
     "output_type": "stream",
     "text": [
      "임계값 : 0.4\n",
      "오차 행렬\n",
      "[[99 19]\n",
      " [10 51]]\n",
      "정확도 : 0.8380, 정밀도 : 0.7286, 재현율 : 0.8361, F1 : 0.7786\n",
      "\n",
      "임계값 : 0.45\n",
      "오차 행렬\n",
      "[[103  15]\n",
      " [ 12  49]]\n",
      "정확도 : 0.8492, 정밀도 : 0.7656, 재현율 : 0.8033, F1 : 0.7840\n",
      "\n",
      "임계값 : 0.5\n",
      "오차 행렬\n",
      "[[104  14]\n",
      " [ 13  48]]\n",
      "정확도 : 0.8492, 정밀도 : 0.7742, 재현율 : 0.7869, F1 : 0.7805\n",
      "\n",
      "임계값 : 0.55\n",
      "오차 행렬\n",
      "[[109   9]\n",
      " [ 15  46]]\n",
      "정확도 : 0.8659, 정밀도 : 0.8364, 재현율 : 0.7541, F1 : 0.7931\n",
      "\n",
      "임계값 : 0.6\n",
      "오차 행렬\n",
      "[[112   6]\n",
      " [ 16  45]]\n",
      "정확도 : 0.8771, 정밀도 : 0.8824, 재현율 : 0.7377, F1 : 0.8036\n",
      "\n"
     ]
    }
   ],
   "source": [
    "thresholds = [0.4, 0.45, 0.5, 0.55, 0.6]\n",
    "\n",
    "def get_eval_by_threshold(y_test, pred_proba_c1, thresholds):\n",
    "    for custom_threshold in thresholds:\n",
    "        binarizer = Binarizer(threshold=custom_threshold)\n",
    "        custom_predict = binarizer.fit_transform(pred_proba_c1)\n",
    "        print(f\"임계값 : {custom_threshold}\")\n",
    "        get_clf_eval(y_test, custom_predict)\n",
    "        print()\n",
    "        \n",
    "get_eval_by_threshold(y_test, pred_proba[:, 1].reshape(-1, 1), thresholds)"
   ]
  },
  {
   "cell_type": "code",
   "execution_count": 20,
   "metadata": {},
   "outputs": [
    {
     "name": "stdout",
     "output_type": "stream",
     "text": [
      "[np.float64(0.011660809906818302), np.float64(0.053010411342314684), np.float64(0.062263092873796846), np.float64(0.06352844567242218), np.float64(0.06862155988824989), np.float64(0.07115060385337639), np.float64(0.07232764523619263), np.float64(0.0739762164308986), np.float64(0.07563587349405312), np.float64(0.07568091406384844), np.float64(0.08317989542199983), np.float64(0.0912518376521762), np.float64(0.09161232309188118), np.float64(0.0916315956978095), np.float64(0.09458158335607328), np.float64(0.0948065137581636), np.float64(0.0962825647703882), np.float64(0.09752925164636418), np.float64(0.10011599324904438), np.float64(0.10070703855585043), np.float64(0.10086613376968354), np.float64(0.10128270841629357), np.float64(0.10391173378398513), np.float64(0.10391397625637411), np.float64(0.10393913692586179), np.float64(0.1075141883976552), np.float64(0.10889206320081521), np.float64(0.11158417933934722), np.float64(0.11162124692184151), np.float64(0.11163009927462261), np.float64(0.11200093269259065), np.float64(0.11203548349823138), np.float64(0.11620186205689918), np.float64(0.1169747311358862), np.float64(0.11720169980469798), np.float64(0.11769420673719204), np.float64(0.11794813906258403), np.float64(0.12134249809598747), np.float64(0.12269145846994889), np.float64(0.12274599305244503), np.float64(0.12274703408662518), np.float64(0.12275197131021448), np.float64(0.12430557442844843), np.float64(0.12516234044158472), np.float64(0.1253948039327774), np.float64(0.12670992777401488), np.float64(0.128409819246359), np.float64(0.1290647705499301), np.float64(0.1306166906314241), np.float64(0.13283046185405634), np.float64(0.1329939206080895), np.float64(0.13322804187664505), np.float64(0.14029119772060913), np.float64(0.14107171471327337), np.float64(0.14111877609629797), np.float64(0.14112579292997232), np.float64(0.14500365503033658), np.float64(0.1454416955075843), np.float64(0.14784916189368727), np.float64(0.14784946823054554), np.float64(0.14984381785117717), np.float64(0.15319237873503616), np.float64(0.15427987316536304), np.float64(0.16834735896838243), np.float64(0.16854970536285951), np.float64(0.18366735841443904), np.float64(0.184936634098363), np.float64(0.18618648636967758), np.float64(0.19655166077730862), np.float64(0.19843282499372644), np.float64(0.19866312673013786), np.float64(0.21740746460798305), np.float64(0.22633559651023752), np.float64(0.23206194629305696), np.float64(0.23369152593092987), np.float64(0.23458330317720882), np.float64(0.24051972544610237), np.float64(0.24650940219268389), np.float64(0.25046394994692905), np.float64(0.26672190451245514), np.float64(0.2755944014090403), np.float64(0.28028157965348804), np.float64(0.2805736244565471), np.float64(0.3049223135062683), np.float64(0.30912132007301296), np.float64(0.30955144789088107), np.float64(0.316860968218066), np.float64(0.32073779435794997), np.float64(0.32134352765919183), np.float64(0.3486547576254616), np.float64(0.34901908483895805), np.float64(0.35038904395337384), np.float64(0.3569932438904496), np.float64(0.38044970883093127), np.float64(0.38059690310653227), np.float64(0.39863933957288855), np.float64(0.3994315478126074), np.float64(0.40364810509259486), np.float64(0.4288948646653388), np.float64(0.43257492957806487), np.float64(0.44032313645755033), np.float64(0.44414375703933573), np.float64(0.44980842030715557), np.float64(0.45418765619443147), np.float64(0.48826166225126283), np.float64(0.5014850538454707), np.float64(0.5061088746421623), np.float64(0.5136248407653425), np.float64(0.5299354215848634), np.float64(0.5384411129068407), np.float64(0.5455073120551591), np.float64(0.546074195065649), np.float64(0.5641124595002055), np.float64(0.5702775284101682), np.float64(0.5935542217892704), np.float64(0.5942312427357864), np.float64(0.6114952884978179), np.float64(0.6272458575969031), np.float64(0.6302268395123787), np.float64(0.6303951263299612), np.float64(0.6304114203317398), np.float64(0.6308709414660338), np.float64(0.6370930948924161), np.float64(0.64411302195897), np.float64(0.6514759265517959), np.float64(0.6539733524923472), np.float64(0.6669244241444503), np.float64(0.6669919345826096), np.float64(0.6673399030527672), np.float64(0.677544483462134), np.float64(0.6904658617907595), np.float64(0.7080189802319715), np.float64(0.7251813755908822), np.float64(0.7352603473258876), np.float64(0.7482040746828522), np.float64(0.7513140679659567), np.float64(0.7781060674785143), np.float64(0.7910144885428069), np.float64(0.7925268330729988), np.float64(0.795050915217613), np.float64(0.8032978524463612), np.float64(0.817585263789461), np.float64(0.821991048504285), np.float64(0.8257601363627459), np.float64(0.8276915251878831), np.float64(0.8357976636125001), np.float64(0.8545998464397756), np.float64(0.8742950380490706), np.float64(0.8810823155659346), np.float64(0.8839168735576316), np.float64(0.8933154604159032), np.float64(0.9088813647742316), np.float64(0.9184052240938587), np.float64(0.9187150203233012), np.float64(0.9258339020915431), np.float64(0.928928205156258), np.float64(0.9309636176341165), np.float64(0.9473200553425085), np.float64(0.9479607355536214), np.float64(0.9481044707969558), np.float64(0.9489335542845792), np.float64(0.9490882668686076), np.float64(0.9505951755902049), np.float64(0.9518883613364281), np.float64(0.9651207030457454)]\n",
      "(165,)\n"
     ]
    },
    {
     "data": {
      "image/png": "[encoded data removed]",
      "text/plain": [
       "<Figure size 800x600 with 1 Axes>"
      ]
     },
     "metadata": {},
     "output_type": "display_data"
    }
   ],
   "source": [
    "import matplotlib.pyplot as plt\n",
    "import matplotlib.ticker as ticker\n",
    "from sklearn.metrics import precision_recall_curve\n",
    "\n",
    "def precision_recall_curve_plot(y_test, pred_proba_c1):\n",
    "    #threshold ndarray와 이 threshold에 따른 정밀도, 재현율 ndarray 추출\n",
    "    precisions, recalls, thresholds = precision_recall_curve(y_test, pred_proba_c1)\n",
    "    print(list(thresholds))\n",
    "    print(thresholds.shape)\n",
    "    plt.figure(figsize=(8, 6))\n",
    "    threshold_boundary = thresholds.shape[0]\n",
    "    print(threshold_boundary)\n",
    "    # x축을 threshold값으로, y축은 정밀도, 재현율 값으로 각각 plot 수행. 정밀도는 점선으로\n",
    "    plt.plot(thresholds, precisions[0:threshold_boundary], linestyle=\"--\", label=\"precision\")\n",
    "    plt.plot(thresholds, recalls[0:threshold_boundary], label=\"recall\")\n",
    "    \n",
    "    # threshold 값 X축의 Scale을 0.1 단위로 변경\n",
    "    start, end = plt.xlim()  # x축 현재 한계를 반환\n",
    "    plt.xticks(np.round(np.arange(start, end, 0.1), 2))\n",
    "    \n",
    "    plt.xlabel(\"Threshold value\")\n",
    "    plt.ylabel(\"Precision and Recall value\")\n",
    "    plt.legend()\n",
    "    plt.grid()\n",
    "    plt.show()\n",
    "    \n",
    "precision_recall_curve_plot(y_test, lr_clf.predict_proba(X_test)[:, 1])"
   ]
  },
  {
   "cell_type": "markdown",
   "metadata": {},
   "source": [
    "#### 결과 해석\n",
    "* 임계값이 낮을수록 많은 수의 양성 예측으로 인해 재현율 값이 극도로 높아지고 정밀도 값이 낮아짐.(FN이 작아지고 FP가 커짐)\n",
    "* 로지스틱 회귀 기반의 타이타닉 생존자 예측 모델의 경우 임곗값이 약 0.5 지점에서 재현율과 정밀도가 비슷해지는 모습을 보임.\n",
    "* 단순히 하나의 성능 지표 수치를 높이기 위한 수단으로 사용하는 것은 지양하고 업무 환경에 맞게 두 개의 수치를 상호 보완할 수 있는 수준에서 적용\n",
    "\n",
    "#### 정밀도 및 재현율 활용시 유의 사항\n",
    "* 정밀도와 재현율 성능 수치는 어느 한쪽만 참조하면 극단적인 수치 조작이 가능\n",
    "* 정밀도 100%가 되는 방법:\n",
    "  확실한 기준이 되는 경우만 Positive로 예측하고 나머지는 모두 Negative로 예측\n",
    "  전체 환자 1000명중 확실한 Positive 징후만 가진 환자는 단 1명이라고 하면 이 한 명만 P로 예측하고 나머지는 모두 N으로 예측\n",
    "  FP는 0, TP는 1이 되며 정밀도(TP/(TP+FP)는 1/(1+0) = 1\n",
    "* 재현율이 100%가 되는 방법:\n",
    "  모든 환자를 Positive로 예측\n",
    "  1000명의 환자중 실제 양성인 사람이 30명 정도라도 TN이 수치에 포함되지 않고 FN은 0이므로 재현율(TP/(TP+FN)은 30/(30+0) = 1\n",
    "* 분류가 정밀도, 재현율 중 하나에 상대적인 중요도를 부여할 수 있지만 하나만 강조해서는 안됨\n",
    "* 암 예측 모델에서 재현율을 높인다고 주로 양성만 판정한다면 환자의 부담과 불평이 커지게 됨"
   ]
  },
  {
   "cell_type": "code",
   "execution_count": 21,
   "metadata": {},
   "outputs": [
    {
     "name": "stdout",
     "output_type": "stream",
     "text": [
      "f1 score : 0.7805\n"
     ]
    }
   ],
   "source": [
    "# F1 스코어는 정밀도와 재현율을 결합한 지표: 정밀도와 재현율의 균형이 필요한 경우: 특히, 클래스 불균현이 있을 때 유용\n",
    "# F1 스코어는 ㅈ정밀도와 재현율이 어느 한쪽으로 치우치지 않을 때 높은 값을 가짐\n",
    "\n",
    "from sklearn.metrics import f1_score\n",
    "f1 = f1_score(y_test, pred)\n",
    "print(f\"f1 score : {f1:.4f}\")"
   ]
  },
  {
   "cell_type": "markdown",
   "metadata": {},
   "source": [
    "#### ROC 곡선과 AUC\n",
    "* 수신자 판단 곡선이라고 하며 ML의 이진 분류 모델의 예측 성능을 판단하는 중요한 평가 지표.\n",
    "* FPR이 변할 때 TPR(재현율)이 어떻게 변하는지를 나타내는 곡선으로 FPR은 1- 특이성(TNR), (TN + FP)/(TN + FP) - TN/(TN+FP) = FP/(TN+FP), TPR은 재현율(민감도)를 나타냄.(TN+FP) : 전체 음성 fp: 실제 음성인데 양성으로 예측한 것 ,fpr은 작아야 좋은것\n",
    "* 특이성은 실제로 음성인 사례들 중에서 모델이 음성으로 예측한 사례의 비율\n",
    "* TNR은 TN/(TN+FP)이며 FPR은 FP/(TN+FP)임\n",
    "* ROC 곡선은 FPR을 0부터 1까지 변경하면서 FPR을 구하고 이 FPR값의 변화에 따른 TPR(재현율)의 변화 값을 구함.\n",
    "* FPR을 0에서 1까지 변경하는 것은 Positive 예측값을 결정하는 기준인 분류 결정 임곗값을 변경하면 됨.\n",
    "* FPR을 0으로 만들려면 임곗값을 1로 지정(양성이 하나도 없음)하고 반대로 FPR을 1로 만들려면 임곗값을 0으로 지정(다 양성)하면 됨."
   ]
  },
  {
   "cell_type": "markdown",
   "metadata": {},
   "source": [
    "FPR에 대해 설명해 드리겠습니다. FPR은 'False Positive Rate'의 약자로, 한국어로는 '거짓 양성률'이라고 합니다. 앞서 설명한 보물 찾기 게임의 예를 이용해 설명해 보겠습니다.\n",
    "\n",
    "FPR(거짓 양성률)이란:\n",
    "실제로는 찾고자 하는 것이 아닌데 잘못 찾은 비율을 말합니다.\n",
    "\n",
    "보물 찾기 게임으로 예를 들어보겠습니다:\n",
    "\n",
    "1. 여러분이 빨간 구슬을 찾고 있다고 가정해 봅시다.\n",
    "2. 운동장에는 빨간 구슬 20개와 파란 구슬 80개가 있습니다.\n",
    "3. 여러분이 30개의 구슬을 주웠는데, 그 중 18개는 빨간색이고 12개는 파란색입니다.\n",
    "\n",
    "이 경우 FPR은 다음과 같이 계산됩니다:\n",
    "- 잘못 주운 파란 구슬(거짓 양성): 12개\n",
    "- 전체 파란 구슬(실제 음성): 80개\n",
    "- FPR = 12 / 80 = 0.15 또는 15%\n",
    "\n",
    "즉, 찾지 말아야 할 파란 구슬 중 15%를 잘못 주웠다는 뜻입니다.\n",
    "\n",
    "FPR의 의미:\n",
    "1. FPR이 낮을수록 좋습니다. 이는 잘못 찾은 것이 적다는 뜻이기 때문입니다.\n",
    "2. 머신러닝에서 FPR은 모델이 얼마나 정확하게 음성(찾지 말아야 할 것)을 구별하는지 보여줍니다.\n",
    "3. FPR은 보통 1 - 특이도(Specificity)와 같습니다. 특이도는 실제 음성을 정확히 음성으로 분류한 비율입니다.\n",
    "\n",
    "FPR은 정밀도, 재현율과 함께 모델의 성능을 평가하는 중요한 지표 중 하나입니다. 이 지표들을 종합적으로 고려하여 모델의 성능을 평가하고 개선합니다.\n"
   ]
  },
  {
   "cell_type": "code",
   "execution_count": 22,
   "metadata": {},
   "outputs": [
    {
     "data": {
      "text/plain": [
       "0.8491620111731844"
      ]
     },
     "execution_count": 22,
     "metadata": {},
     "output_type": "execute_result"
    }
   ],
   "source": [
    "import pandas as pd\n",
    "import numpy as np\n",
    "from sklearn.model_selection import train_test_split\n",
    "from sklearn.linear_model import LogisticRegression\n",
    "from sklearn.metrics import accuracy_score\n",
    "import warnings\n",
    "\n",
    "warnings.filterwarnings(\"ignore\")\n",
    "titanic_df = pd.read_csv(\n",
    "    \"train.csv\"\n",
    ")\n",
    "y_titanic_df = titanic_df[\"Survived\"]\n",
    "X_titanic_df = titanic_df.drop(\"Survived\", axis=1)\n",
    "X_titanic_df = transform_features(X_titanic_df)\n",
    "\n",
    "X_train, X_test, y_train, y_test = train_test_split(\n",
    "    X_titanic_df, y_titanic_df, test_size=0.20, random_state=11\n",
    ")\n",
    "lr_clf = LogisticRegression()\n",
    "lr_clf.fit(X_train, y_train)\n",
    "pred = lr_clf.predict(X_test)\n",
    "accuracy_lr = accuracy_score(y_test, pred)\n",
    "accuracy_lr"
   ]
  },
  {
   "cell_type": "code",
   "execution_count": 24,
   "metadata": {},
   "outputs": [
    {
     "name": "stdout",
     "output_type": "stream",
     "text": [
      "[ 1  6 11 16 21 26 31 36 41 46 51]\n",
      "[0.97 0.65 0.63 0.56 0.45 0.38 0.31 0.13 0.12 0.11 0.1 ]\n",
      "[0.    0.017 0.034 0.076 0.127 0.186 0.237 0.576 0.619 0.754 0.814]\n",
      "[0.033 0.639 0.705 0.754 0.803 0.852 0.902 0.902 0.951 0.967 1.   ]\n"
     ]
    }
   ],
   "source": [
    "from sklearn.metrics import roc_curve\n",
    "\n",
    "pred_proba_c1 = lr_clf.predict_proba(X_test)[:, 1]\n",
    "fprs, tprs, thresholds = roc_curve(y_test, pred_proba_c1)\n",
    "thr_index = np.arange(1, thresholds.shape[0], 5)\n",
    "print(thr_index)\n",
    "print(np.round(thresholds[thr_index], 2))\n",
    "print(np.round(fprs[thr_index], 3))\n",
    "print(np.round(tprs[thr_index], 3))"
   ]
  },
  {
   "cell_type": "code",
   "execution_count": 25,
   "metadata": {},
   "outputs": [
    {
     "data": {
      "image/png": "[encoded data removed]",
      "text/plain": [
       "<Figure size 640x480 with 1 Axes>"
      ]
     },
     "metadata": {},
     "output_type": "display_data"
    }
   ],
   "source": [
    "# ROC 곡선 시각화\n",
    "# ROC Curve는 임계값이 1에 가까운 값에서 점점 작아지면서 FPR이 점점 거지는데\n",
    "# FPR이 조금씩 커질때 TPR이 가파르게 커짐을 알 수 있음\n",
    "# AUC 가 커지려면 FPR이 작은 상태에서 얼마나 큰 TPR을 얻을 수 있느냐가 관건\n",
    "# 가운데 대각선 직선은 랜덤 수준의 이진 분류 AUC 값으로 0.5이며 일반적으로 0.5이상의 값을 가짐\n",
    "\n",
    "import matplotlib.pyplot as plt\n",
    "\n",
    "def roc_curve_plot(y_test, pred_proba_c1):\n",
    "    # 임계값에 따른 FPR, TPR 값을 반환 받음\n",
    "    fprs, tprs, thresholds = roc_curve(y_test, pred_proba_c1)\n",
    "    \n",
    "    # ROC 곡선을 그래프 곡선으로 그림\n",
    "    plt.plot(fprs, tprs, label=\"ROC\")\n",
    "    # 가운데 대각선 직선을 그림\n",
    "    plt.plot([0, 1], [0, 1], \"k--\", label=\"Random\")\n",
    "    \n",
    "    # FPR X축의 Scale을 0.1 단위로 변경, X, Y축 명 설정 등\n",
    "    start, end = plt.xlim()\n",
    "    plt.xticks(np.round(np.arange(start, end, 0.1), 2))\n",
    "    plt.xlim(0, 1)\n",
    "    plt.ylim(0, 1)\n",
    "    plt.xlabel(\"FPR(1 - Sensitivity)\")\n",
    "    plt.ylabel(\"TPR(Recall)\")\n",
    "    plt.legend()\n",
    "    \n",
    "roc_curve_plot(y_test, lr_clf.predict_proba(X_test)[:, 1])"
   ]
  },
  {
   "cell_type": "code",
   "execution_count": 26,
   "metadata": {},
   "outputs": [
    {
     "name": "stdout",
     "output_type": "stream",
     "text": [
      "ROC AUC 값 : 0.9024\n"
     ]
    }
   ],
   "source": [
    "# roc 곡선 자체는 FPR과 TPR의 변화 값을 보는데 이용하며\n",
    "# 분류의 성능 지표로 사용되는 것은 ROC 곡선 면적에 기반한 AUC 값으로 결정\n",
    "# AUC 값은 ROC 곡선 밑의 면적을 구한 것으로 1에 가까울수록 좋은 수치\n",
    "# AUC 수치가 커지려면 FPR이 작은 상태에서 얼마나 큰 TPR을 얻을 수 있느냐가 관건\n",
    "\n",
    "from sklearn.metrics import roc_auc_score\n",
    "\n",
    "pred_proba = lr_clf.predict_proba(X_test)[:, 1]\n",
    "roc_score = roc_auc_score(y_test, pred_proba)\n",
    "print(f\"ROC AUC 값 : {roc_score:.4f}\")"
   ]
  },
  {
   "cell_type": "code",
   "execution_count": 27,
   "metadata": {},
   "outputs": [],
   "source": [
    "from sklearn.metrics import accuracy_score, precision_score, recall_score, confusion_matrix, f1_score, roc_auc_score\n",
    "\n",
    "def get_clf_eval(y_test, pred, pred_proba):\n",
    "    confusion = confusion_matrix(y_test, pred)\n",
    "    accuracy = accuracy_score(y_test, pred)\n",
    "    precision = precision_score(y_test, pred)\n",
    "    recall = recall_score(y_test, pred)\n",
    "    f1 = f1_score(y_test, pred)\n",
    "    # ROC-AUC 추가\n",
    "    roc_auc = roc_auc_score(y_test, pred_proba)\n",
    "    print(\"오차 행렬\")\n",
    "    print(confusion)\n",
    "    # ROC-AUC print 추가\n",
    "    print(f\"정확도 : {accuracy:.4f}, 정밀도 : {precision:.4f}, 재현율 : {recall:.4f}, F1 : {f1:.4f}, AUC : {roc_auc:.4f}\")"
   ]
  },
  {
   "cell_type": "markdown",
   "metadata": {},
   "source": [
    "### 분류 평가 종합 출력"
   ]
  },
  {
   "cell_type": "code",
   "execution_count": 28,
   "metadata": {},
   "outputs": [
    {
     "name": "stdout",
     "output_type": "stream",
     "text": [
      "오차 행렬\n",
      "[[104  14]\n",
      " [ 13  48]]\n",
      "정확도 : 0.8492, 정밀도 : 0.7742, 재현율 : 0.7869, F1 : 0.7805, AUC : 0.9024\n"
     ]
    }
   ],
   "source": [
    "get_clf_eval(y_test, pred, pred_proba)"
   ]
  },
  {
   "cell_type": "markdown",
   "metadata": {},
   "source": [
    "FPR(거짓 양성률)이 작은 상태에서 TPR(진양성률, 또는 재현율)이 일반적으로 작은 이유를 설명해 드리겠습니다.\n",
    "\n",
    "\n",
    "\n",
    "1. 분류 임계값(Threshold)의 영향:\n",
    "   - 분류 모델은 보통 임계값을 사용하여 양성과 음성을 구분합니다.\n",
    "   - 임계값을 높이면 FPR이 낮아지지만, 동시에 TPR도 낮아지는 경향이 있습니다.\n",
    "\n",
    "2. 보수적인 분류:\n",
    "   - FPR을 낮추려면 모델이 매우 확실할 때만 양성으로 분류하게 됩니다.\n",
    "   - 이런 보수적인 접근은 실제 양성 사례도 놓치게 만들어 TPR을 낮춥니다.\n",
    "\n",
    "3. 트레이드오프(Trade-off) 관계:\n",
    "   - FPR과 TPR 사이에는 일반적으로 트레이드오프 관계가 있습니다.\n",
    "   - 하나를 개선하려면 다른 하나가 악화되는 경향이 있습니다.\n",
    "\n",
    "4. ROC 곡선의 특성:\n",
    "   - ROC 곡선에서 FPR이 매우 낮은 영역은 보통 곡선의 왼쪽 아래 부분입니다.\n",
    "   - 이 영역에서는 TPR도 낮은 값을 가지는 경우가 많습니다.\n",
    "\n",
    "5. 데이터의 불균형:\n",
    "   - 실제 데이터에서 양성 사례가 적은 경우, FPR을 낮추면 TPR도 함께 낮아질 가능성이 높습니다.\n",
    "\n",
    "6. 모델의 정확도 한계:\n",
    "   - 완벽한 모델은 현실에서 거의 불가능합니다.\n",
    "   - FPR을 극단적으로 낮추려면, 모델이 매우 확실한 경우에만 양성으로 분류하게 되어 TPR이 낮아집니다.\n",
    "\n",
    "이러한 이유로, FPR을 매우 낮게 유지하면서 동시에 높은 TPR을 달성하는 것은 어렵습니다. 실제 응용에서는 FPR과 TPR 사이의 적절한 균형을 찾는 것이 중요합니다.\n"
   ]
  },
  {
   "cell_type": "code",
   "execution_count": 34,
   "metadata": {},
   "outputs": [
    {
     "name": "stdout",
     "output_type": "stream",
     "text": [
      "(1000, 20)\n",
      "ROC AUC (one-vs-rest) : 0.8868\n"
     ]
    }
   ],
   "source": [
    "#다중분류도 roc_auc_score 사용가능\n",
    "# 이진화 작업 필요\n",
    "# ovr방식\n",
    "\n",
    "import numpy as np\n",
    "from sklearn.datasets import make_classification\n",
    "from sklearn.model_selection import train_test_split\n",
    "from sklearn.ensemble import RandomForestClassifier\n",
    "from sklearn.metrics import roc_auc_score\n",
    "from sklearn.preprocessing import label_binarize\n",
    "\n",
    "#데이터 생성\n",
    "X, y = make_classification(n_samples=1000, n_features=20, n_classes=3,n_informative=15, random_state=42)\n",
    "print(X.shape)\n",
    "#데이터 분할\n",
    "X_train, X_test, y_train, y_test = train_test_split(X, y, test_size=0.2, random_state=42)\n",
    "# 모델 훈련\n",
    "model = RandomForestClassifier()\n",
    "model.fit(X_train, y_train)\n",
    "#에측 확률\n",
    "y_score = model.predict_proba(X_test)\n",
    "#다중 클래스 라벨을 이진화\n",
    "y_test_binarize = label_binarize(y_test, classes=[0, 1, 2])\n",
    "#roc_auc_score 계산(ovr 방식)\n",
    "roc_auc_ovr = roc_auc_score(y_test_binarize, y_score, multi_class=\"ovr\")\n",
    "\n",
    "\n",
    "print(f'ROC AUC (one-vs-rest) : {roc_auc_ovr:.4f}')"
   ]
  },
  {
   "cell_type": "code",
   "execution_count": null,
   "metadata": {},
   "outputs": [],
   "source": []
  }
 ],
 "metadata": {
  "kernelspec": {
   "display_name": "venv",
   "language": "python",
   "name": "python3"
  },
  "language_info": {
   "codemirror_mode": {
    "name": "ipython",
    "version": 3
   },
   "file_extension": ".py",
   "mimetype": "text/x-python",
   "name": "python",
   "nbconvert_exporter": "python",
   "pygments_lexer": "ipython3",
   "version": "3.10.11"
  }
 },
 "nbformat": 4,
 "nbformat_minor": 2
}
