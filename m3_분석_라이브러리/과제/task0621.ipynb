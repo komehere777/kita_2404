{
 "cells": [
  {
   "cell_type": "markdown",
   "metadata": {},
   "source": [
    "Task1_0621. https://www.google.com 사이트에서 셀레니움을 이용해서 다음을 수행하세요.\n",
    "- xpath 속성을 사용하여 접근하여 요소를 추출\n",
    "- 앵커태그(a 태그)에 사용되는 텍스트로 접근하여 요소를 추출\n",
    "- 앵커태그(a 태그)에 사용되는 일부 텍스트로 접근하여 요소를 추출\n",
    "- 태그를 사용하여 접근하여 요소를 추출\n",
    "- CSS 선택자를 사용하여 접근하여 요소를 추출"
   ]
  },
  {
   "cell_type": "code",
   "execution_count": 1,
   "metadata": {},
   "outputs": [
    {
     "name": "stdout",
     "output_type": "stream",
     "text": [
      "Found element by xpath:  MV3Tnb\n"
     ]
    }
   ],
   "source": [
    "#xpath\n",
    "\n",
    "from selenium import webdriver\n",
    "from selenium.webdriver.common.by import By\n",
    "from selenium.webdriver.support.ui import WebDriverWait\n",
    "from selenium.webdriver.support import expected_conditions as EC\n",
    "from selenium.webdriver.chrome.options import Options\n",
    "import time\n",
    "\n",
    "options = webdriver.ChromeOptions()\n",
    "options.add_argument(\"headless\")\n",
    "\n",
    "driver = webdriver.Chrome(options=options)\n",
    "url = 'https://www.google.com'\n",
    "driver.get(url)\n",
    "\n",
    "try:\n",
    "    element_by_xpath = driver.find_element(By.XPATH, \"/html/body/div[1]/div[1]/a[2]\")\n",
    "    print('Found element by xpath: ', element_by_xpath.get_attribute('class'))  #MV3Tnb\n",
    "except:\n",
    "    print('not found')"
   ]
  },
  {
   "cell_type": "code",
   "execution_count": 4,
   "metadata": {},
   "outputs": [
    {
     "name": "stdout",
     "output_type": "stream",
     "text": [
      "found element by link:  gb_I\n",
      "found element by link:  이미지\n"
     ]
    }
   ],
   "source": [
    "# a 태그 사용되는 텍스트로 접근\n",
    "\n",
    "try:\n",
    "    element_by_link = driver.find_element(By.LINK_TEXT, \"이미지\")\n",
    "    print(\"found element by link: \", element_by_link.get_attribute('class'))\n",
    "    print(\"found element by link: \", element_by_link.text)\n",
    "\n",
    "except:\n",
    "    print('not found')"
   ]
  },
  {
   "cell_type": "code",
   "execution_count": 6,
   "metadata": {},
   "outputs": [
    {
     "name": "stdout",
     "output_type": "stream",
     "text": [
      "found element by link:  gb_I\n",
      "found element by link:  이미지\n"
     ]
    }
   ],
   "source": [
    "#앵커 태그에 사용되는 일부 텍스트로 접근\n",
    "\n",
    "try:\n",
    "    element_by_link = driver.find_element(By.PARTIAL_LINK_TEXT, \"미지\")\n",
    "    print(\"found element by link: \", element_by_link.get_attribute('class'))\n",
    "    print(\"found element by link: \", element_by_link.text)\n",
    "\n",
    "except:\n",
    "    print('not found')"
   ]
  },
  {
   "cell_type": "code",
   "execution_count": 22,
   "metadata": {},
   "outputs": [
    {
     "name": "stdout",
     "output_type": "stream",
     "text": [
      "gNO89b <class 'selenium.webdriver.remote.webelement.WebElement'>\n",
      "RNmpXc <class 'selenium.webdriver.remote.webelement.WebElement'>\n",
      "gNO89b <class 'selenium.webdriver.remote.webelement.WebElement'>\n",
      "RNmpXc <class 'selenium.webdriver.remote.webelement.WebElement'>\n",
      " <class 'selenium.webdriver.remote.webelement.WebElement'>\n",
      " <class 'selenium.webdriver.remote.webelement.WebElement'>\n",
      " <class 'selenium.webdriver.remote.webelement.WebElement'>\n",
      " <class 'selenium.webdriver.remote.webelement.WebElement'>\n",
      "<class 'list'>\n",
      "\n",
      "found element by link:  gNO89b\n",
      "found element by link:  \n"
     ]
    }
   ],
   "source": [
    "#태그를 사용하여 접근하여 요소를 추출\n",
    "\n",
    "try:\n",
    "    element_by_links = driver.find_elements(By.TAG_NAME, \"input\")\n",
    "    for i in element_by_links:\n",
    "        print(i.get_attribute('class'), type(i))\n",
    "\n",
    "except:\n",
    "    print('not found')"
   ]
  },
  {
   "cell_type": "code",
   "execution_count": 24,
   "metadata": {},
   "outputs": [
    {
     "name": "stdout",
     "output_type": "stream",
     "text": [
      "found element by link:  I’m Feeling Lucky\n"
     ]
    }
   ],
   "source": [
    "#CSS 선택자를 사용하여 접근하여 요소를 추출\n",
    "\n",
    "try:\n",
    "    element_by_link = driver.find_element(By.CSS_SELECTOR, \"body > div.L3eUgb > div.o3j99.ikrT4e.om7nvf > form > div:nth-child(1) > div.A8SBwf > div.FPdoLc.lJ9FBc > center > input.RNmpXc\")\n",
    "    print(\"found element by link: \", element_by_link.get_attribute('value'))\n",
    "\n",
    "except:\n",
    "    print('not found')"
   ]
  },
  {
   "cell_type": "markdown",
   "metadata": {},
   "source": [
    "Task2_0621. 한빛 네트워크 사이트 https://www.hanbit.co.kr/ 로그인 후 마일리지 점수 가져와서 출력하세요."
   ]
  },
  {
   "cell_type": "code",
   "execution_count": 29,
   "metadata": {},
   "outputs": [
    {
     "name": "stdout",
     "output_type": "stream",
     "text": [
      "2,000\n"
     ]
    }
   ],
   "source": [
    "from argparse import Action\n",
    "from selenium import webdriver\n",
    "from selenium.webdriver.common.by import By\n",
    "from selenium.webdriver.support.ui import WebDriverWait\n",
    "from selenium.webdriver.support import expected_conditions as EC\n",
    "from selenium.webdriver.chrome.options import Options\n",
    "from selenium.webdriver.common.keys import Keys\n",
    "import time\n",
    "\n",
    "driver = webdriver.Chrome()\n",
    "url = 'https://www.hanbit.co.kr/'\n",
    "driver.get(url)\n",
    "\n",
    "front_login = driver.find_element(By.XPATH, '//*[@id=\"wrap_nav\"]/ul[2]/li[1]/a')\n",
    "front_login.click()\n",
    "time.sleep(2)\n",
    "id = ''\n",
    "pw = ''\n",
    "id_element = driver.find_element(By.ID, 'm_id')\n",
    "id_element.send_keys(id)\n",
    "time.sleep(1)\n",
    "pw_element = driver.find_element(By.ID, 'm_passwd')\n",
    "pw_element.send_keys(pw)\n",
    "time.sleep(1)\n",
    "login_btn = driver.find_element(By.ID,'login_btn')\n",
    "login_btn.click()\n",
    "time.sleep(3)\n",
    "url2 = 'https://www.hanbit.co.kr/myhanbit/mileage_ecoin.html'\n",
    "driver.get(url2)\n",
    "mile = driver.find_element(By.XPATH,'//*[@id=\"frm\"]/dl[1]/dd/span')\n",
    "print(mile.text)"
   ]
  },
  {
   "cell_type": "markdown",
   "metadata": {},
   "source": [
    "Task3_0621. 네이버 로그인한 후 않읽은 메일의 개수를 가져와서 출력하세요."
   ]
  },
  {
   "cell_type": "code",
   "execution_count": 40,
   "metadata": {},
   "outputs": [],
   "source": [
    "from selenium import webdriver\n",
    "from selenium.webdriver.common.by import By\n",
    "from selenium.webdriver.support.ui import WebDriverWait\n",
    "from selenium.webdriver.support import expected_conditions as EC\n",
    "from selenium.webdriver.chrome.options import Options\n",
    "from selenium.webdriver.common.keys import Keys\n",
    "import pyperclip\n",
    "import time\n",
    "\n",
    "driver = webdriver.Chrome()\n",
    "driver.implicitly_wait(5)\n",
    "url = 'https://nid.naver.com/nidlogin.login?mode=form&url=https://www.naver.com/'\n",
    "\n",
    "driver.get(url)\n",
    "time.sleep(2)\n",
    "\n",
    "driver.implicitly_wait(5)\n",
    "# id_xpath = '//*[@id=\"id\"]'\n",
    "# pw_xpath = '//*[@id=\"pw\"]'\n",
    "# login_btn_xpath = '//*[@id=\"log.login\"]'\n",
    "\n",
    "id_id = 'id'\n",
    "pw_id = 'pw'\n",
    "login_btn_id = 'log.login'\n",
    "\n",
    "# id_element = driver.find_element(By.ID, 'id')\n",
    "id_element = driver.find_element(By.CSS_SELECTOR, '#id')\n",
    "pyperclip.copy('')\n",
    "user_id = pyperclip.paste()\n",
    "id_element.send_keys(user_id)\n",
    "time.sleep(3)\n",
    "# pw_element = driver.find_element(By.ID, 'pw')\n",
    "pw_element = driver.find_element(By.CSS_SELECTOR, '#pw')\n",
    "pyperclip.copy('')\n",
    "user_pw = pyperclip.paste()\n",
    "pw_element.send_keys(user_pw)\n",
    "time.sleep(3)\n",
    "login_btn = driver.find_element(By.ID,'log.login')\n",
    "login_btn.click()\n",
    "time.sleep(3)\n"
   ]
  }
 ],
 "metadata": {
  "kernelspec": {
   "display_name": "myenv",
   "language": "python",
   "name": "python3"
  },
  "language_info": {
   "codemirror_mode": {
    "name": "ipython",
    "version": 3
   },
   "file_extension": ".py",
   "mimetype": "text/x-python",
   "name": "python",
   "nbconvert_exporter": "python",
   "pygments_lexer": "ipython3",
   "version": "3.10.11"
  }
 },
 "nbformat": 4,
 "nbformat_minor": 2
}
