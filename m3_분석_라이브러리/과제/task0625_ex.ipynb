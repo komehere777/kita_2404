{
 "cells": [
  {
   "cell_type": "markdown",
   "metadata": {},
   "source": [
    "Task1_0625. 다음 Selenium execute_script 메서드에 사용할 수 있는 JavaScript 명령어를 이용한 사례를 5개 작성해서 실행 결과를 확인하세요. 단, 주어진 file_task1.html 파일을 각 과제 항목 수행에 적합하게 수정해서 진행하세요.\n",
    "\n",
    "[과제]\n",
    "- document.getElementById(id) : 특정 ID를 가진 요소를 선택합니다.\n",
    "- document.getElementsByClassName(className) : 특정 클래스 이름을 가진 요소를 선택합니다.\n",
    "- document.getElementsByTagName(tagName) : 특정 태그 이름을 가진 요소를 선택합니다.\n",
    "- document.querySelector(selector) : CSS 선택자를 사용하여 첫 번째 일치하는 요소를 선택합니다.\n",
    "- document.querySelectorAll(selector) : CSS 선택자를 사용하여 일치하는 모든 요소를 선택합니다.\n",
    "\n",
    "[참고]\n",
    "- element.innerText : 요소의 텍스트 콘텐츠를 설정하거나 가져옵니다.\n",
    "- element.innerHTML : 요소의 HTML 콘텐츠를 설정하거나 가져옵니다.\n",
    "- element.value : 입력 필드의 값을 설정하거나 가져옵니다.\n",
    "- element.style.property : 요소의 CSS 스타일 속성을 설정합니다.\n",
    "- element.click() : 요소를 클릭합니다.\n",
    "- element.focus() : 요소에 포커스를 설정합니다.\n",
    "- element.blur() : 요소에서 포커스를 제거합니다.\n",
    "- window.scrollTo(x, y) : 페이지를 지정된 좌표로 스크롤합니다.\n",
    "- window.scrollBy(x, y) : 현재 위치에서 지정된 거리만큼 페이지를 스크롤합니다.\n",
    "- alert(message) : 경고창을 표시합니다.\n",
    "- confirm(message) : 확인창을 표시하고 사용자의 응답을 반환합니다.\n",
    "- prompt(message, default) : 입력창을 표시하고 사용자의 입력을 반환합니다.\n",
    "- form.submit() : 폼을 제출합니다.\n",
    "- form.reset() : 폼을 초기화합니다."
   ]
  },
  {
   "cell_type": "markdown",
   "metadata": {},
   "source": [
    "document.getElementById(id) : 특정 ID를 가진 요소를 선택합니다."
   ]
  },
  {
   "cell_type": "code",
   "execution_count": 2,
   "metadata": {},
   "outputs": [],
   "source": [
    "from selenium import webdriver\n",
    "import time\n",
    "\n",
    "driver = webdriver.Chrome()\n",
    "\n",
    "file_path = 'http://127.0.0.1:57730/file_task1.html'\n",
    "driver.get(file_path)\n",
    "time.sleep(2)\n",
    "driver.execute_script(\"document.getElementById('paragraph').style.backgroundColor = 'yellow';\")\n",
    "time.sleep(2)\n",
    "\n",
    "driver.quit()"
   ]
  },
  {
   "cell_type": "markdown",
   "metadata": {},
   "source": []
  },
  {
   "cell_type": "markdown",
   "metadata": {},
   "source": [
    "```html\n",
    "<!DOCTYPE html>\n",
    "<html lang=\"en\">\n",
    "<head>\n",
    "    <meta charset=\"UTF-8\">\n",
    "    <title>Practice Page</title>\n",
    "    <style>\n",
    "        .highlight { background-color: rgb(236, 236, 230); }\n",
    "    </style>\n",
    "</head>\n",
    "<body>\n",
    "    <h1 id=\"title\">Original Title</h1>\n",
    "    <div class=\"content\">\n",
    "        <p id=\"paragraph\">This is a paragraph.</p>\n",
    "        <button id=\"changeTextButton\">Change Text</button>\n",
    "        <input type=\"text\" id=\"textInput\" value=\"default value\">\n",
    "    </div>\n",
    "    <form id=\"form\">\n",
    "        <input type=\"text\" name=\"name\" value=\"John Doe\">\n",
    "        <input type=\"submit\" id=\"submitButton\" value=\"Submit\">\n",
    "    </form>\n",
    "</body>\n",
    "</html>\n",
    "```"
   ]
  },
  {
   "cell_type": "code",
   "execution_count": 4,
   "metadata": {},
   "outputs": [
    {
     "name": "stdout",
     "output_type": "stream",
     "text": [
      "changed title:  New Title\n"
     ]
    }
   ],
   "source": [
    "#ex\n",
    "from selenium import webdriver\n",
    "import time\n",
    "\n",
    "driver = webdriver.Chrome()\n",
    "\n",
    "file_path = 'http://127.0.0.1:57730/file_task1.html'\n",
    "driver.get(file_path)\n",
    "time.sleep(2)\n",
    "#변경을 위해서 javascript를 사용\n",
    "driver.execute_script(\"document.getElementById('title').innerText = 'New Title';\")\n",
    "time.sleep(1)\n",
    "new_title = driver.execute_script(\"return document.getElementById('title').innerText;\")\n",
    "print(\"changed title: \", new_title)\n",
    "time.sleep(1)\n",
    "driver.quit()"
   ]
  },
  {
   "cell_type": "code",
   "execution_count": 6,
   "metadata": {},
   "outputs": [
    {
     "name": "stdout",
     "output_type": "stream",
     "text": [
      "message:  Hidden button clicked!\n"
     ]
    }
   ],
   "source": [
    "#ex\n",
    "from selenium import webdriver\n",
    "from selenium.webdriver.common.by import By\n",
    "import time\n",
    "\n",
    "driver = webdriver.Chrome()\n",
    "\n",
    "file_path = 'http://127.0.0.1:57730/file_task11_1.html'\n",
    "driver.get(file_path)\n",
    "time.sleep(2)\n",
    "#arguments[0] : hidden_element를 가리키며 click()을 실행하여 숨겨진 요소를 클릭\n",
    "hidden_element = driver.find_element(By.ID, \"hidden_element_id\")\n",
    "#execute_script를 사용하여 javascript를 실행\n",
    "#selenium에서는 파이썬에서 정의된 객체를 자바스크립트로 전달하기 위해 arguments 배열을 사용\n",
    "#arguments[0]은 자바스크립트 함수의 첫 번째 인수를 가리킴\n",
    "driver.execute_script(\"arguments[0].click();\", hidden_element)\n",
    "time.sleep(2)\n",
    "message = driver.find_element(By.ID, 'message').text\n",
    "print(\"message: \", message)\n",
    "time.sleep(1)\n",
    "driver.quit()"
   ]
  },
  {
   "cell_type": "markdown",
   "metadata": {},
   "source": [
    "```html\n",
    "<!DOCTYPE html>\n",
    "<html lang=\"en\">\n",
    "<head>\n",
    "    <meta charset=\"UTF-8\">\n",
    "    <title>Practice Page</title>\n",
    "    <style>\n",
    "        .highlight { background-color: rgb(236, 236, 230); }\n",
    "    </style>\n",
    "</head>\n",
    "<body>\n",
    "    <button id=\"hidden_element_id\" style=\"display: none;\">Hidden button</button>\n",
    "    <p id=\"message\"></p>\n",
    "    <script>\n",
    "        document.getElementById('hidden_element_id').addEventListener('click', () => {\n",
    "            document.getElementById('message').innerText = 'Hidden button clicked!';\n",
    "        });\n",
    "    </script>\n",
    "</body>\n",
    "</html>\n",
    "```"
   ]
  },
  {
   "cell_type": "code",
   "execution_count": 27,
   "metadata": {},
   "outputs": [
    {
     "ename": "JavascriptException",
     "evalue": "Message: javascript error: Invalid left-hand side in assignment\n  (Session info: chrome=126.0.6478.126)\nStacktrace:\n\tGetHandleVerifier [0x00007FF65FF4EEA2+31554]\n\t(No symbol) [0x00007FF65FEC7ED9]\n\t(No symbol) [0x00007FF65FD8872A]\n\t(No symbol) [0x00007FF65FD8E55E]\n\t(No symbol) [0x00007FF65FD911D8]\n\t(No symbol) [0x00007FF65FE1D69B]\n\t(No symbol) [0x00007FF65FDFD02A]\n\t(No symbol) [0x00007FF65FE1C977]\n\t(No symbol) [0x00007FF65FDFCDD3]\n\t(No symbol) [0x00007FF65FDCA33B]\n\t(No symbol) [0x00007FF65FDCAED1]\n\tGetHandleVerifier [0x00007FF660258B1D+3217341]\n\tGetHandleVerifier [0x00007FF6602A5AE3+3532675]\n\tGetHandleVerifier [0x00007FF66029B0E0+3489152]\n\tGetHandleVerifier [0x00007FF65FFFE776+750614]\n\t(No symbol) [0x00007FF65FED375F]\n\t(No symbol) [0x00007FF65FECEB14]\n\t(No symbol) [0x00007FF65FECECA2]\n\t(No symbol) [0x00007FF65FEBE16F]\n\tBaseThreadInitThunk [0x00007FFD61D17344+20]\n\tRtlUserThreadStart [0x00007FFD6245CC91+33]\n",
     "output_type": "error",
     "traceback": [
      "\u001b[1;31m---------------------------------------------------------------------------\u001b[0m",
      "\u001b[1;31mJavascriptException\u001b[0m                       Traceback (most recent call last)",
      "Cell \u001b[1;32mIn[27], line 13\u001b[0m\n\u001b[0;32m     10\u001b[0m time\u001b[38;5;241m.\u001b[39msleep(\u001b[38;5;241m2\u001b[39m)\n\u001b[0;32m     12\u001b[0m \u001b[38;5;66;03m#element.style.property\u001b[39;00m\n\u001b[1;32m---> 13\u001b[0m \u001b[43mdriver\u001b[49m\u001b[38;5;241;43m.\u001b[39;49m\u001b[43mexecute_script\u001b[49m\u001b[43m(\u001b[49m\u001b[38;5;124;43m\"\u001b[39;49m\u001b[38;5;124;43mdocument.getElementsByClassName(\u001b[39;49m\u001b[38;5;124;43m'\u001b[39;49m\u001b[38;5;124;43mbutton\u001b[39;49m\u001b[38;5;124;43m'\u001b[39;49m\u001b[38;5;124;43m)[0].click() = function() \u001b[39;49m\u001b[38;5;124;43m{\u001b[39;49m\u001b[38;5;124;43mdocument.getElementsByClassName(\u001b[39;49m\u001b[38;5;124;43m'\u001b[39;49m\u001b[38;5;124;43mparagraph\u001b[39;49m\u001b[38;5;124;43m'\u001b[39;49m\u001b[38;5;124;43m)[0].style.backgroundColor = \u001b[39;49m\u001b[38;5;124;43m'\u001b[39;49m\u001b[38;5;124;43myellow\u001b[39;49m\u001b[38;5;124;43m'\u001b[39;49m\u001b[38;5;124;43m;};\u001b[39;49m\u001b[38;5;124;43m\"\u001b[39;49m\u001b[43m)\u001b[49m\n\u001b[0;32m     14\u001b[0m time\u001b[38;5;241m.\u001b[39msleep(\u001b[38;5;241m2\u001b[39m)\n\u001b[0;32m     15\u001b[0m driver\u001b[38;5;241m.\u001b[39mquit()\n",
      "File \u001b[1;32md:\\kdt_240424\\workspace\\m3\\crawling\\myenv\\lib\\site-packages\\selenium\\webdriver\\remote\\webdriver.py:407\u001b[0m, in \u001b[0;36mWebDriver.execute_script\u001b[1;34m(self, script, *args)\u001b[0m\n\u001b[0;32m    404\u001b[0m converted_args \u001b[38;5;241m=\u001b[39m \u001b[38;5;28mlist\u001b[39m(args)\n\u001b[0;32m    405\u001b[0m command \u001b[38;5;241m=\u001b[39m Command\u001b[38;5;241m.\u001b[39mW3C_EXECUTE_SCRIPT\n\u001b[1;32m--> 407\u001b[0m \u001b[38;5;28;01mreturn\u001b[39;00m \u001b[38;5;28;43mself\u001b[39;49m\u001b[38;5;241;43m.\u001b[39;49m\u001b[43mexecute\u001b[49m\u001b[43m(\u001b[49m\u001b[43mcommand\u001b[49m\u001b[43m,\u001b[49m\u001b[43m \u001b[49m\u001b[43m{\u001b[49m\u001b[38;5;124;43m\"\u001b[39;49m\u001b[38;5;124;43mscript\u001b[39;49m\u001b[38;5;124;43m\"\u001b[39;49m\u001b[43m:\u001b[49m\u001b[43m \u001b[49m\u001b[43mscript\u001b[49m\u001b[43m,\u001b[49m\u001b[43m \u001b[49m\u001b[38;5;124;43m\"\u001b[39;49m\u001b[38;5;124;43margs\u001b[39;49m\u001b[38;5;124;43m\"\u001b[39;49m\u001b[43m:\u001b[49m\u001b[43m \u001b[49m\u001b[43mconverted_args\u001b[49m\u001b[43m}\u001b[49m\u001b[43m)\u001b[49m[\u001b[38;5;124m\"\u001b[39m\u001b[38;5;124mvalue\u001b[39m\u001b[38;5;124m\"\u001b[39m]\n",
      "File \u001b[1;32md:\\kdt_240424\\workspace\\m3\\crawling\\myenv\\lib\\site-packages\\selenium\\webdriver\\remote\\webdriver.py:347\u001b[0m, in \u001b[0;36mWebDriver.execute\u001b[1;34m(self, driver_command, params)\u001b[0m\n\u001b[0;32m    345\u001b[0m response \u001b[38;5;241m=\u001b[39m \u001b[38;5;28mself\u001b[39m\u001b[38;5;241m.\u001b[39mcommand_executor\u001b[38;5;241m.\u001b[39mexecute(driver_command, params)\n\u001b[0;32m    346\u001b[0m \u001b[38;5;28;01mif\u001b[39;00m response:\n\u001b[1;32m--> 347\u001b[0m     \u001b[38;5;28;43mself\u001b[39;49m\u001b[38;5;241;43m.\u001b[39;49m\u001b[43merror_handler\u001b[49m\u001b[38;5;241;43m.\u001b[39;49m\u001b[43mcheck_response\u001b[49m\u001b[43m(\u001b[49m\u001b[43mresponse\u001b[49m\u001b[43m)\u001b[49m\n\u001b[0;32m    348\u001b[0m     response[\u001b[38;5;124m\"\u001b[39m\u001b[38;5;124mvalue\u001b[39m\u001b[38;5;124m\"\u001b[39m] \u001b[38;5;241m=\u001b[39m \u001b[38;5;28mself\u001b[39m\u001b[38;5;241m.\u001b[39m_unwrap_value(response\u001b[38;5;241m.\u001b[39mget(\u001b[38;5;124m\"\u001b[39m\u001b[38;5;124mvalue\u001b[39m\u001b[38;5;124m\"\u001b[39m, \u001b[38;5;28;01mNone\u001b[39;00m))\n\u001b[0;32m    349\u001b[0m     \u001b[38;5;28;01mreturn\u001b[39;00m response\n",
      "File \u001b[1;32md:\\kdt_240424\\workspace\\m3\\crawling\\myenv\\lib\\site-packages\\selenium\\webdriver\\remote\\errorhandler.py:229\u001b[0m, in \u001b[0;36mErrorHandler.check_response\u001b[1;34m(self, response)\u001b[0m\n\u001b[0;32m    227\u001b[0m         alert_text \u001b[38;5;241m=\u001b[39m value[\u001b[38;5;124m\"\u001b[39m\u001b[38;5;124malert\u001b[39m\u001b[38;5;124m\"\u001b[39m]\u001b[38;5;241m.\u001b[39mget(\u001b[38;5;124m\"\u001b[39m\u001b[38;5;124mtext\u001b[39m\u001b[38;5;124m\"\u001b[39m)\n\u001b[0;32m    228\u001b[0m     \u001b[38;5;28;01mraise\u001b[39;00m exception_class(message, screen, stacktrace, alert_text)  \u001b[38;5;66;03m# type: ignore[call-arg]  # mypy is not smart enough here\u001b[39;00m\n\u001b[1;32m--> 229\u001b[0m \u001b[38;5;28;01mraise\u001b[39;00m exception_class(message, screen, stacktrace)\n",
      "\u001b[1;31mJavascriptException\u001b[0m: Message: javascript error: Invalid left-hand side in assignment\n  (Session info: chrome=126.0.6478.126)\nStacktrace:\n\tGetHandleVerifier [0x00007FF65FF4EEA2+31554]\n\t(No symbol) [0x00007FF65FEC7ED9]\n\t(No symbol) [0x00007FF65FD8872A]\n\t(No symbol) [0x00007FF65FD8E55E]\n\t(No symbol) [0x00007FF65FD911D8]\n\t(No symbol) [0x00007FF65FE1D69B]\n\t(No symbol) [0x00007FF65FDFD02A]\n\t(No symbol) [0x00007FF65FE1C977]\n\t(No symbol) [0x00007FF65FDFCDD3]\n\t(No symbol) [0x00007FF65FDCA33B]\n\t(No symbol) [0x00007FF65FDCAED1]\n\tGetHandleVerifier [0x00007FF660258B1D+3217341]\n\tGetHandleVerifier [0x00007FF6602A5AE3+3532675]\n\tGetHandleVerifier [0x00007FF66029B0E0+3489152]\n\tGetHandleVerifier [0x00007FF65FFFE776+750614]\n\t(No symbol) [0x00007FF65FED375F]\n\t(No symbol) [0x00007FF65FECEB14]\n\t(No symbol) [0x00007FF65FECECA2]\n\t(No symbol) [0x00007FF65FEBE16F]\n\tBaseThreadInitThunk [0x00007FFD61D17344+20]\n\tRtlUserThreadStart [0x00007FFD6245CC91+33]\n"
     ]
    }
   ],
   "source": [
    "#첫번째 버튼 클릭시 첫번째 단락의 배경색을 노란색으로 변경\n",
    "from webbrowser import get\n",
    "from selenium import webdriver\n",
    "import time\n",
    "\n",
    "driver = webdriver.Chrome()\n",
    "\n",
    "file_path = 'http://127.0.0.1:57730/file_task2.html'\n",
    "driver.get(file_path)\n",
    "time.sleep(2)\n",
    "\n",
    "#element.style.property\n",
    "driver.execute_script(\"document.getElementsByClassName('button')[0].click() = function() {document.getElementsByClassName('paragraph')[0].style.backgroundColor = 'yellow';};\")\n",
    "time.sleep(2)\n",
    "driver.quit()\n"
   ]
  },
  {
   "cell_type": "code",
   "execution_count": 35,
   "metadata": {},
   "outputs": [
    {
     "name": "stdout",
     "output_type": "stream",
     "text": [
      "Paragraph highlighted:  True\n"
     ]
    }
   ],
   "source": [
    "#ex\n",
    "from selenium import webdriver\n",
    "from selenium.webdriver.common.by import By\n",
    "import time\n",
    "\n",
    "driver = webdriver.Chrome()\n",
    "\n",
    "file_path = 'http://127.0.0.1:57730/file_task2.html'\n",
    "driver.get(file_path)\n",
    "\n",
    "first_button = driver.find_element(By.CSS_SELECTOR, \"button\")\n",
    "driver.execute_script(\"\"\"\n",
    "                      arguments[0].addEventListener('click', function() {\n",
    "                      document.querySelector('.paragraph').classList.add('highlight');\n",
    "                        });\n",
    "                        \"\"\", first_button)\n",
    "time.sleep(5)\n",
    "first_paragraph = driver.find_element(By.CSS_SELECTOR, '.paragraph')\n",
    "#contains() : 클래스가 있는지 확인\n",
    "highlighted = driver.execute_script(\"return arguments[0].classList.contains('highlight');\", first_paragraph)\n",
    "print(\"Paragraph highlighted: \", highlighted)\n",
    "driver.quit()"
   ]
  },
  {
   "cell_type": "markdown",
   "metadata": {},
   "source": [
    "```html\n",
    "<!DOCTYPE html>\n",
    "<html lang=\"en\">\n",
    "<head>\n",
    "    <meta charset=\"UTF-8\">\n",
    "    <meta name=\"viewport\" content=\"width=device-width, initial-scale=1.0\">\n",
    "    <title>Practice Page</title>\n",
    "    <style>\n",
    "        .highlight { background-color: yellow; }\n",
    "    </style>\n",
    "</head>\n",
    "<body>\n",
    "    <h1 class=\"header\">Header1</h1>\n",
    "    <h1 class=\"header\">Header2</h1>\n",
    "    \n",
    "    <div class=\"content\">\n",
    "        <p class=\"paragraph\">This is the first paragraph</p>\n",
    "        <p class=\"paragraph\">This is the second paragraph</p>\n",
    "        <button class=\"button\"> Button1</button>\n",
    "        <button class=\"button\"> Button2</button>\n",
    "    </div>\n",
    "</body>\n",
    "</html>"
   ]
  },
  {
   "cell_type": "markdown",
   "metadata": {},
   "source": [
    "document.getElementsByClassName(className) : 특정 클래스 이름을 가진 요소를 선택합니다."
   ]
  },
  {
   "cell_type": "code",
   "execution_count": 3,
   "metadata": {},
   "outputs": [],
   "source": [
    "from selenium import webdriver\n",
    "import time\n",
    "\n",
    "driver = webdriver.Chrome()\n",
    "\n",
    "file_path = 'http://127.0.0.1:57730/file_task1.html'\n",
    "driver.get(file_path)\n",
    "time.sleep(2)\n",
    "driver.execute_script(\"document.getElementsByClassName('highlight')[0].style.backgroundColor = 'magenta';\")\n",
    "time.sleep(5)\n",
    "driver.quit()"
   ]
  },
  {
   "cell_type": "code",
   "execution_count": 15,
   "metadata": {},
   "outputs": [
    {
     "name": "stdout",
     "output_type": "stream",
     "text": [
      "updated paragraph:  updated First Paragraph\n",
      "button background colors:  green\n"
     ]
    }
   ],
   "source": [
    "#ex 스타일 변경\n",
    "from selenium import webdriver\n",
    "import time\n",
    "\n",
    "driver = webdriver.Chrome()\n",
    "\n",
    "file_path = 'http://127.0.0.1:57730/file_task3.html'\n",
    "driver.get(file_path)\n",
    "time.sleep(2)\n",
    "\n",
    "driver.execute_script(\"document.getElementsByTagName('p')[0].innerText = 'updated First Paragraph';\")\n",
    "\n",
    "time.sleep(1)\n",
    "driver.execute_script(\"\"\"\n",
    "                      var buttons = document.getElementsByTagName('button');\n",
    "                      for (var i = 0; i < buttons.length; i++) {\n",
    "                          buttons[i].style.backgroundColor = 'green';\n",
    "                      }\n",
    "\n",
    "                      \"\"\")\n",
    "updated_paragraph = driver.execute_script(\"return document.getElementsByTagName('p')[0].innerText;\")\n",
    "print(\"updated paragraph: \", updated_paragraph)\n",
    "\n",
    "button_background_colors = driver.execute_script(\"return Array.from(document.getElementsByTagName('button')).map(b => b.style.backgroundColor);\")\n",
    "button_background_colors = driver.execute_script(\"return document.getElementsByTagName('button')[0].style.backgroundColor;\")\n",
    "print(\"button background colors: \", button_background_colors)\n",
    "time.sleep(1)\n",
    "driver.quit()\n",
    "\n"
   ]
  },
  {
   "cell_type": "markdown",
   "metadata": {},
   "source": [
    "```html\n",
    "<!DOCTYPE html>\n",
    "<html lang=\"en\">\n",
    "<head>\n",
    "    <meta charset=\"UTF-8\">\n",
    "    <meta name=\"viewport\" content=\"width=device-width, initial-scale=1.0\">\n",
    "    <title>Practice Page</title>\n",
    "</head>\n",
    "<body>\n",
    "    <h1>Header1</h1>\n",
    "    <h1>Header2</h1>\n",
    "    <p>This is the first paragraph</p>\n",
    "    <p>This is the second paragraph</p>\n",
    "    <div>\n",
    "        <p>This is a paragraph inside a div</p>\n",
    "        <button> Button1</button>\n",
    "        <button> Button2</button>\n",
    "    </div>\n",
    "</body>\n",
    "</html>"
   ]
  },
  {
   "cell_type": "markdown",
   "metadata": {},
   "source": [
    "document.getElementsByTagName(tagName) : 특정 태그 이름을 가진 요소를 선택합니다."
   ]
  },
  {
   "cell_type": "code",
   "execution_count": 12,
   "metadata": {},
   "outputs": [],
   "source": [
    "from selenium import webdriver\n",
    "import time\n",
    "\n",
    "driver = webdriver.Chrome()\n",
    "\n",
    "file_path = 'http://127.0.0.1:57730/file_task1.html'\n",
    "driver.get(file_path)\n",
    "time.sleep(2)\n",
    "driver.execute_script(\"document.getElementsByTagName('input')[0].value = '0';\")\n",
    "time.sleep(2)\n",
    "driver.quit()"
   ]
  },
  {
   "cell_type": "markdown",
   "metadata": {},
   "source": [
    "document.querySelector(selector) : CSS 선택자를 사용하여 첫 번째 일치하는 요소를 선택합니다."
   ]
  },
  {
   "cell_type": "code",
   "execution_count": 15,
   "metadata": {},
   "outputs": [],
   "source": [
    "from selenium import webdriver\n",
    "import time\n",
    "\n",
    "driver = webdriver.Chrome()\n",
    "\n",
    "file_path = 'http://127.0.0.1:57730/file_task1.html'\n",
    "driver.get(file_path)\n",
    "time.sleep(2)\n",
    "driver.execute_script(\"document.querySelector('#title').innerText = 'Changed title';\")\n",
    "time.sleep(3)\n",
    "driver.quit()"
   ]
  },
  {
   "cell_type": "code",
   "execution_count": 20,
   "metadata": {},
   "outputs": [
    {
     "name": "stdout",
     "output_type": "stream",
     "text": [
      "updated paragraph:  Updated First Paragraph\n",
      "updated button text:  Text changed\n"
     ]
    }
   ],
   "source": [
    "#ex\n",
    "# http://127.0.0.1:57730/file_task4.html\n",
    "from selenium import webdriver\n",
    "import time\n",
    "\n",
    "driver = webdriver.Chrome()\n",
    "\n",
    "file_path = 'http://127.0.0.1:57730/file_task4.html'\n",
    "driver.get(file_path)\n",
    "time.sleep(2)\n",
    "\n",
    "driver.execute_script(\"document.querySelector('#firstParagraph').innerText = 'Updated First Paragraph';\")\n",
    "time.sleep(1)\n",
    "driver.execute_script(\"document.querySelector('.changeTextButton').innerText = 'Text changed';\")\n",
    "time.sleep(1)\n",
    "driver.execute_script(\"document.querySelector('#secondParagraph').style.backgroundColor = 'lightblue';\")\n",
    "updated_paragraph = driver.execute_script(\"return document.querySelector('#firstParagraph').innerText;\")\n",
    "print(\"updated paragraph: \", updated_paragraph)\n",
    "updated_button_text = driver.execute_script(\"return document.querySelector('.changeTextButton').innerText;\")\n",
    "print(\"updated button text: \", updated_button_text)\n",
    "time.sleep(3)\n",
    "driver.quit()"
   ]
  },
  {
   "cell_type": "markdown",
   "metadata": {},
   "source": [
    "```html\n",
    "<!DOCTYPE html>\n",
    "<html lang=\"en\">\n",
    "<head>\n",
    "    <meta charset=\"UTF-8\">\n",
    "    <meta name=\"viewport\" content=\"width=device-width, initial-scale=1.0\">\n",
    "    <title>Practice Page</title>\n",
    "    <style>\n",
    "        .highlight { background-color: yellow; }\n",
    "    </style>\n",
    "</head>\n",
    "<body>\n",
    "    <h1 class=\"title\">Origianl title</h1>\n",
    "    <div>\n",
    "        <p id=\"firstParagraph\">This is the first paragraph</p>\n",
    "        <p id=\"secondParagraph\">This is the second paragraph</p>\n",
    "        <button class=\"changeTextButton\"> Button1</button>\n",
    "        <button class=\"changeColorButton\"> Button2</button>\n",
    "    </div>\n",
    "</body>\n",
    "</html>"
   ]
  },
  {
   "cell_type": "markdown",
   "metadata": {},
   "source": [
    "document.querySelectorAll(selector) : CSS 선택자를 사용하여 일치하는 모든 요소를 선택합니다."
   ]
  },
  {
   "cell_type": "code",
   "execution_count": 22,
   "metadata": {},
   "outputs": [],
   "source": [
    "from selenium import webdriver\n",
    "import time\n",
    "\n",
    "driver = webdriver.Chrome()\n",
    "\n",
    "file_path = 'http://127.0.0.1:57730/file_task1.html'\n",
    "driver.get(file_path)\n",
    "time.sleep(2)\n",
    "driver.execute_script(\"\"\"\n",
    "  document.querySelectorAll('.highlight').forEach(element => {\n",
    "    element.style.backgroundColor = 'magenta';\n",
    "  });\n",
    "\"\"\")\n",
    "time.sleep(2)\n",
    "driver.quit()"
   ]
  },
  {
   "cell_type": "code",
   "execution_count": 42,
   "metadata": {},
   "outputs": [
    {
     "name": "stdout",
     "output_type": "stream",
     "text": [
      "updated paragraphs:  Updated Paragraph 1\n",
      "button background colors:  green\n"
     ]
    }
   ],
   "source": [
    "#ex\n",
    "from selenium import webdriver\n",
    "import time\n",
    "\n",
    "driver = webdriver.Chrome()\n",
    "\n",
    "file_path = 'http://127.0.0.1:57730/file_task5.html'\n",
    "driver.get(file_path)\n",
    "time.sleep(2)\n",
    "\n",
    "# driver.execute_script(\"\"\"\n",
    "#     var paragraphs = document.querySelectorAll('.paragraph');\n",
    "#     paragraphs.forEach(function(p,index) => {\n",
    "#                       p.innerText = 'Updated Paragraph ' + (index + 1);\n",
    "#                       });\n",
    "#                       \"\"\")\n",
    "driver.execute_script(\"\"\"\n",
    "    var paragraphs = document.querySelectorAll('.paragraph');\n",
    "    paragraphs.forEach((p, index) => {\n",
    "        p.innerText = 'Updated Paragraph ' + (index + 1);\n",
    "    });\n",
    "\"\"\")\n",
    "\n",
    "# driver.execute_script(\"\"\"\n",
    "#                       var buttons = document.querySelectorAll('.changeColorButton');\n",
    "#                         buttons.forEach(function(b) => {\n",
    "#                         b.style.backgroundColor = 'lightblue';\n",
    "#                         });\n",
    "#                         \"\"\")\n",
    "\n",
    "driver.execute_script(\"\"\"\n",
    "    var buttons = document.querySelectorAll('.changeColorButton');\n",
    "    buttons.forEach((b) => {\n",
    "        b.style.backgroundColor = 'lightblue';\n",
    "    });\n",
    "\"\"\")\n",
    "\n",
    "# updated_paragraphs = driver.execute_script(\"return document.querySelectorAll('.paragraph').innerText;\")\n",
    "updated_paragraph = driver.execute_script(\"return document.querySelector('.paragraph').innerText;\")\n",
    "print(\"updated paragraphs: \", updated_paragraph)\n",
    "# button_background_colors = driver.execute_script(\"return document.querySelectorAll('.changeColorButton').style.backgroundColor;\")\n",
    "button_background_color = driver.execute_script(\"return document.querySelector('.changeColorButton').style.backgroundColor;\")\n",
    "print(\"button background colors: \", button_background_colors)\n",
    "time.sleep(3)\n",
    "driver.quit()"
   ]
  },
  {
   "cell_type": "markdown",
   "metadata": {},
   "source": [
    "```html\n",
    "<!DOCTYPE html>\n",
    "<html lang=\"en\">\n",
    "<head>\n",
    "    <meta charset=\"UTF-8\">\n",
    "    <meta name=\"viewport\" content=\"width=device-width, initial-scale=1.0\">\n",
    "    <title>Practice Page</title>\n",
    "    <style>\n",
    "        .highlight { background-color: yellow; }\n",
    "    </style>\n",
    "</head>\n",
    "<body>\n",
    "    <h1 class=\"title\">Origianl title</h1>\n",
    "    <div>\n",
    "        <p class=\"paragraph\">This is the first paragraph</p>\n",
    "        <p class=\"paragraph\">This is the second paragraph</p>\n",
    "        <p class=\"paragraph\">This is the third paragraph</p>\n",
    "        <button class=\"changeTextButton\"> Button1</button>\n",
    "        <button class=\"changeColorButton\"> Button2</button>\n",
    "    </div>\n",
    "</body>\n",
    "</html>"
   ]
  },
  {
   "cell_type": "markdown",
   "metadata": {},
   "source": [
    "네이버 로그인 읽지 않은 메일 수 확인하기"
   ]
  },
  {
   "cell_type": "code",
   "execution_count": 1,
   "metadata": {},
   "outputs": [
    {
     "name": "stdout",
     "output_type": "stream",
     "text": [
      "읽지 않은 메일수: 58\n"
     ]
    }
   ],
   "source": [
    "from selenium import webdriver\n",
    "from selenium.webdriver.common.by import By\n",
    "import time\n",
    "import ids\n",
    "\n",
    "\n",
    "driver = webdriver.Chrome()\n",
    "driver.implicitly_wait(3)\n",
    "url = 'https://www.naver.com/'\n",
    "driver.get(url)\n",
    "\n",
    "driver.find_element(By.XPATH,'//*[@id=\"account\"]/div/a/i').click()\n",
    "\n",
    "naver_id = ids.ids['id']\n",
    "naver_pw = ids.ids['pw'] \n",
    "\n",
    "driver.execute_script(\"document.getElementsByName('id')[0].value=\\'\"+naver_id+\"\\'\")\n",
    "driver.execute_script(\"document.getElementsByName('pw')[0].value=\\'\"+naver_pw+\"\\'\")\n",
    "\n",
    "driver.find_element(By.XPATH,'//*[@id=\"log.login\"]/span').click()\n",
    "time.sleep(3)\n",
    "mail_num = driver.find_element(By.CSS_SELECTOR, '#account > div.MyView-module__my_menu___eF24q > div > div > ul > li:nth-child(1) > a > span.MyView-module__item_num___eHxDY').text\n",
    "print(f'읽지 않은 메일수: {mail_num}')\n",
    "time.sleep(3)\n",
    "driver.quit()\n",
    "\n"
   ]
  }
 ],
 "metadata": {
  "kernelspec": {
   "display_name": "myenv",
   "language": "python",
   "name": "python3"
  },
  "language_info": {
   "codemirror_mode": {
    "name": "ipython",
    "version": 3
   },
   "file_extension": ".py",
   "mimetype": "text/x-python",
   "name": "python",
   "nbconvert_exporter": "python",
   "pygments_lexer": "ipython3",
   "version": "3.10.11"
  }
 },
 "nbformat": 4,
 "nbformat_minor": 2
}
