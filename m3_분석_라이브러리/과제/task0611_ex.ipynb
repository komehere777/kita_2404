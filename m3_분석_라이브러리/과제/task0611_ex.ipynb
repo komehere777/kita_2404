{
  "nbformat": 4,
  "nbformat_minor": 0,
  "metadata": {
    "colab": {
      "provenance": []
    },
    "kernelspec": {
      "name": "python3",
      "display_name": "Python 3"
    },
    "language_info": {
      "name": "python"
    }
  },
  "cells": [
    {
      "cell_type": "markdown",
      "source": [
        "Task1_0611. 주어진 대각 행렬의 역행렬을 구하고, 역행렬이 맞는지 확인하세요.\n",
        "\n",
        "D = np.diag([1, 2, 3])"
      ],
      "metadata": {
        "id": "pthSW5ugI67D"
      }
    },
    {
      "cell_type": "code",
      "execution_count": null,
      "metadata": {
        "colab": {
          "base_uri": "https://localhost:8080/"
        },
        "id": "idxo70qUr_BT",
        "outputId": "13a975da-e507-4286-a893-cd34c65fbd82"
      },
      "outputs": [
        {
          "output_type": "stream",
          "name": "stdout",
          "text": [
            "[[1. 0. 0.]\n",
            " [0. 1. 0.]\n",
            " [0. 0. 1.]]\n"
          ]
        }
      ],
      "source": [
        "import numpy as np\n",
        "\n",
        "D = np.diag([1, 2, 3])\n",
        "D_inv = np.linalg.inv(D)\n",
        "print(np.dot(D, D_inv)) #행렬곱 연산 수행시 단위 행렬 나옴 따러서 역행렬 존재하고 역행렬 맞음"
      ]
    },
    {
      "cell_type": "markdown",
      "source": [
        "Task2_0611. 임의의 상삼각 행렬을 생성하고, 그 행렬로 부터 하삼각 행렬을 구하여 출력하세요."
      ],
      "metadata": {
        "id": "MGfzkBvxJgCp"
      }
    },
    {
      "cell_type": "code",
      "source": [
        "#상삼각 행렬은 아래에 0이 있는 형태의 행렬\n",
        "a_upper = np.triu(np.ones((5,5)))\n",
        "print(a_upper)\n",
        "#전치하여 하삼각행렬 만든것과 비교\n",
        "a_lower_T = a_upper.T\n",
        "print(a_lower_T)\n",
        "a_lower = np.tril(np.ones((5,5)))\n",
        "print(a_lower)\n",
        "#같은지 확인하기 위해 np.allclose 사용\n",
        "np.allclose(a_lower_T,a_lower) #True 이므로 같음"
      ],
      "metadata": {
        "colab": {
          "base_uri": "https://localhost:8080/"
        },
        "id": "wvMvCE0ZsIJl",
        "outputId": "ca9a716f-3407-4bd3-c4d0-b76442838af2"
      },
      "execution_count": null,
      "outputs": [
        {
          "output_type": "stream",
          "name": "stdout",
          "text": [
            "[[1. 1. 1. 1. 1.]\n",
            " [0. 1. 1. 1. 1.]\n",
            " [0. 0. 1. 1. 1.]\n",
            " [0. 0. 0. 1. 1.]\n",
            " [0. 0. 0. 0. 1.]]\n",
            "[[1. 0. 0. 0. 0.]\n",
            " [1. 1. 0. 0. 0.]\n",
            " [1. 1. 1. 0. 0.]\n",
            " [1. 1. 1. 1. 0.]\n",
            " [1. 1. 1. 1. 1.]]\n",
            "[[1. 0. 0. 0. 0.]\n",
            " [1. 1. 0. 0. 0.]\n",
            " [1. 1. 1. 0. 0.]\n",
            " [1. 1. 1. 1. 0.]\n",
            " [1. 1. 1. 1. 1.]]\n"
          ]
        },
        {
          "output_type": "execute_result",
          "data": {
            "text/plain": [
              "True"
            ]
          },
          "metadata": {},
          "execution_count": 6
        }
      ]
    },
    {
      "cell_type": "code",
      "source": [
        "#ex\n",
        "U = np.array([[1,2,3],[0,4,5],[0,0,6]])\n",
        "U_T = U.T"
      ],
      "metadata": {
        "id": "KnERY50c3FLt"
      },
      "execution_count": null,
      "outputs": []
    },
    {
      "cell_type": "markdown",
      "source": [
        "Task3_0611. 주어진 행렬의 역행렬을 구하고, 역행렬이 맞는지 확인하세요.\n",
        "\n",
        "A = np.array([[4, 7], [2, 6]])"
      ],
      "metadata": {
        "id": "K2WXgcWuKh5p"
      }
    },
    {
      "cell_type": "code",
      "source": [
        "A = np.array([[4, 7], [2, 6]])\n",
        "A_inv = np.linalg.inv(A)\n",
        "print(np.dot(A, A_inv)) # 행렬곱 수행이 단위행렬 나오므로 역행렬이 맞음"
      ],
      "metadata": {
        "colab": {
          "base_uri": "https://localhost:8080/"
        },
        "id": "iz7Eh9VBsHxg",
        "outputId": "04b8527f-8c98-4589-f14e-cae86b790bea"
      },
      "execution_count": null,
      "outputs": [
        {
          "output_type": "stream",
          "name": "stdout",
          "text": [
            "[[ 1.00000000e+00 -1.11022302e-16]\n",
            " [ 1.11022302e-16  1.00000000e+00]]\n"
          ]
        }
      ]
    },
    {
      "cell_type": "code",
      "source": [
        "#ex\n",
        "i = np.eye(2)\n",
        "#np.allclose(i, A)로 비교\n",
        "# [[ 1.00000000e+00 -1.11022302e-16]\n",
        "#  [ 1.11022302e-16  1.00000000e+00]]\n",
        "#이렇게 나와도 np.allclose() True로 나옴"
      ],
      "metadata": {
        "id": "rYkkmu-b3jMj"
      },
      "execution_count": null,
      "outputs": []
    },
    {
      "cell_type": "markdown",
      "source": [
        "Task4_0611. 주어진 데이터 포인트와 모델 파라미터를 사용하여 선형 회귀 모델의 예측값을 계산하세요.\n",
        "\n",
        "X = np.array([1, 2, 3]) #데이터 포인트\n",
        "레이어 1개 가정, 비활성화 함수도 쓰지 않음\n",
        " - 1단계 : 주어진 입력 데이터 포인트 X와 모델 파라미터 θ(가중치)를 정의.\n",
        " - 2단계 : 행렬 곱을 사용하여 예측값 y를 계산."
      ],
      "metadata": {
        "id": "9-D3uNLyLF9d"
      }
    },
    {
      "cell_type": "code",
      "source": [
        "X = np.array([1, 2, 3]) #데이터 포인트\n",
        "print(X.shape)\n",
        "para = np.array([[2,4],[5,2],[2,1]]) #가중치 파라미터\n",
        "print(para.shape)\n",
        "y = np.dot(X, para) #행렬곱\n",
        "print(y, y.shape)\n"
      ],
      "metadata": {
        "colab": {
          "base_uri": "https://localhost:8080/"
        },
        "id": "nXYT8JIj9_88",
        "outputId": "18f5826a-4420-4d10-f7f5-68735f0dd246"
      },
      "execution_count": null,
      "outputs": [
        {
          "output_type": "stream",
          "name": "stdout",
          "text": [
            "(3,)\n",
            "(3, 2)\n",
            "[18 11] (2,)\n"
          ]
        }
      ]
    },
    {
      "cell_type": "code",
      "source": [
        "#ex.\n",
        "X = np.array([1, 2, 3]) #행백터\n",
        "#모델 파라미터(bias, w1, w2) - 일차원 벡터로 만듬\n",
        "theta = np.array([0.5,1.5,-2])\n",
        "#예측치\n",
        "y_pred = np.dot(X,theta)"
      ],
      "metadata": {
        "id": "HFu2tPzc4QJQ"
      },
      "execution_count": null,
      "outputs": []
    },
    {
      "cell_type": "markdown",
      "source": [
        "#### 행렬곱을 할 때 연산의 순서\n",
        "연산의 순서는 매우 중요하며, 결과가 달라질 수 있습니다. 주어진 입력과 가중치에 대해 원하는 연산이 무엇인지에 따라 올바른 순서를 선택\n",
        "\n",
        "np.dot(X,W)와 np.dot(W,X)\n",
        "- np.dot(X,W)는 X가 (1x3) 벡터이고, W가 (3x3) 행렬이므로, 결과는 (1x3) 벡터입니다.\n",
        "- np.dot(W,X)는 W가 (3x3) 행렬이고, X가 (3,) 벡터이므로, 결과는 (3,) 벡터입니다.\n",
        "- 둘 중 어느 것을 선택해야 하는지는 연산의 의미에 따라 결정\n",
        "  - 입력 벡터 X를 가중치 행렬 W에 곱하여 새로운 출력 벡터를 계산하는 경우\n",
        "  np.dot(X,W)를 사용.\n",
        "  - 가중치 행렬 W를 입력 벡터 X에 곱하여 각 출력 뉴런에 대한 값을 계산하는 경우 np.dot(W,X)를 사용."
      ],
      "metadata": {
        "id": "mw3UmSdleSt0"
      }
    },
    {
      "cell_type": "code",
      "source": [
        "import numpy as np\n",
        "X = np.array([1,2,3])\n",
        "W = np.array([[1,2,3],\n",
        "              [4,5,6],\n",
        "              [7,8,9]])\n",
        "print(np.dot(X,W)) #1x3 3x3 => 1x3\n",
        "print(np.dot(W,X)) #3x3 3x1 => 3x1\n"
      ],
      "metadata": {
        "colab": {
          "base_uri": "https://localhost:8080/"
        },
        "id": "oR2djhX_e7vC",
        "outputId": "be719614-3cf9-4fc4-8cc0-2865ca047797"
      },
      "execution_count": 2,
      "outputs": [
        {
          "output_type": "stream",
          "name": "stdout",
          "text": [
            "[30 36 42]\n",
            "[14 32 50]\n"
          ]
        }
      ]
    },
    {
      "cell_type": "code",
      "source": [
        "X = np.array([[1],[2],[3]])\n",
        "W = np.array([[1,2,3],\n",
        "              [4,5,6],\n",
        "              [7,8,9]])\n",
        "print(np.dot(W,X)) #(3,3)@(3,1) => (3,1)\n",
        "#print(np.dot(X,W)) #(3,1)@(3,3) 에러"
      ],
      "metadata": {
        "id": "O5aJix_9gGOv"
      },
      "execution_count": null,
      "outputs": []
    },
    {
      "cell_type": "markdown",
      "source": [
        " Task5_0611. 주어진 입력 벡터와 가중치 행렬을 사용하여 신경망의 단일 계층 출력을 계산하세요.\n",
        "X = np.array([0.5, 1.0, -1.5])\n",
        "레이어 1개 가정, 비활성화 함수도 쓰지 않음\n",
        " - 1단계: 입력 벡터 X와 가중치 행렬 W를 정의.\n",
        " - 2단계: 행렬 곱을 사용하여 계층의 출력을 계산."
      ],
      "metadata": {
        "id": "1mdJVF2HMBb-"
      }
    },
    {
      "cell_type": "code",
      "source": [
        "X = np.array([0.5, 1.0, -1.5])\n",
        "W = np.array([1,2,3])    #가중치 행렬\n",
        "y = np.dot(X, W)        #행렬곱\n",
        "print(y)"
      ],
      "metadata": {
        "colab": {
          "base_uri": "https://localhost:8080/"
        },
        "id": "orGwAamT-JBS",
        "outputId": "4db7b17b-9341-4264-ffe9-11e37839d970"
      },
      "execution_count": null,
      "outputs": [
        {
          "output_type": "stream",
          "name": "stdout",
          "text": [
            "-2.0\n"
          ]
        }
      ]
    },
    {
      "cell_type": "code",
      "source": [
        "#ex. 모델 파라미터와 가중치 행렬이 같은 말\n",
        "#W는 가중치 행렬, X는 입력 벡터이고 일반적인 표기 방식은 WX\n",
        "W = np.array([[1,5,2],\n",
        "              [6,2,-9],\n",
        "              -2,6,2]])\n",
        "\n",
        "y = np.dot(X,W) # 이게 맞는 표현, 가중치 먼저 그다음 입력 벡터, 표기만 이렇게 해준다고 생각해야\n",
        "# 표현 : (3x3)@ (1x3)자동 트랜스포즈=> (3x1)\n",
        "# 실제 : (1x3)@(3x3) => (1x3)"
      ],
      "metadata": {
        "id": "vQaq475O61-o"
      },
      "execution_count": null,
      "outputs": []
    },
    {
      "cell_type": "markdown",
      "source": [
        "Task6_0611. 주어진 입력 벡터에 대해 신경망의 활성화 함수(ReLU, 시그모이드)를 적용하여 출력을 계산하세요.\n",
        "\n",
        "X = np.array([1, -2, 3])\n",
        "\n",
        "- 1단계: 입력 벡터 X를 정의.\n",
        "- 2단계: 가중치 행렬 W와 편향 벡터 b를 정의.(편향벡터 랜덤하게 만들기) =>결과가 Z\n",
        "- 3단계: 활성화 함수(ReLU, 시그모이드)를 적용하여 출력을 계산\n",
        "\n",
        "활성화 함수 적용<br>\n",
        "output_relu = relu(Z)<br>\n",
        "output_sigmoid = sigmoid(Z)"
      ],
      "metadata": {
        "id": "o3c6C5yRM5Dw"
      }
    },
    {
      "cell_type": "code",
      "source": [
        "import numpy as np\n",
        "\n",
        "X = np.array([1, -2, 3])\n",
        "W = np.array([-1,-2,3])\n",
        "b = np.array([4,-5,6])\n",
        "Z = np.dot(X, W)        #입력벡터와 가중치 행렬곱\n",
        "Z = np.dot(Z, b)        #위 결과에 편향벡터 행렬곱\n",
        "print(Z)\n",
        "def relu(z):\n",
        "    return np.maximum(0, z) #비선형\n",
        "print(relu(Z))\n",
        "\n",
        "def sigmoid(z): #분류 모델로 씀, 0.5를 기준으로 판단 성공은 1 실패는 0\n",
        "    return 1/(1 + np.exp(-z)) #임계치를 0.5기준, 0.5이상은 1, 이하는 0  , 비선형 변환\n",
        "print(sigmoid(Z))"
      ],
      "metadata": {
        "colab": {
          "base_uri": "https://localhost:8080/"
        },
        "id": "JjCUD5Ca-I07",
        "outputId": "06a480bf-8f0d-4fe1-ad3a-1ed95696dca1"
      },
      "execution_count": null,
      "outputs": [
        {
          "output_type": "stream",
          "name": "stdout",
          "text": [
            "[ 48 -60  72]\n",
            "[48  0 72]\n",
            "[1.00000000e+00 8.75651076e-27 1.00000000e+00]\n"
          ]
        }
      ]
    },
    {
      "cell_type": "code",
      "source": [
        "#ex\n",
        "X = np.array([1, -2, 3])\n",
        "\n",
        "Z = np.dot(X,W) + b #편향은 그냥 더하기 , Z은 선형 변환까지 완료\n",
        "#활성화 함수 적용하면 비선형 변환 완료\n"
      ],
      "metadata": {
        "id": "jefEV3_y9fGy"
      },
      "execution_count": null,
      "outputs": []
    },
    {
      "cell_type": "markdown",
      "source": [
        "Task7_0611. 주어진 선형 방정식을 행렬 형태로 나타내고, 역행렬을 사용하여\n",
        "x와 y를 구하세요.\n",
        "\n",
        "$\\begin{cases}\n",
        "3x + 4y = 10 \\\\\n",
        "2x + y = 5\n",
        "\\end{cases}$\n",
        "\n",
        "단계:\n",
        "1. 계수 행렬 A와 결과 벡터 b를 정의.\n",
        "2. 행렬 A의 역행렬을 구한다.\n",
        "3. 역행렬을 사용하여 변수 x를 구한다."
      ],
      "metadata": {
        "id": "LTumUbs2Hmmy"
      }
    },
    {
      "cell_type": "code",
      "source": [
        "A = np.array([[3,4], [2,1]])        #계수행렬\n",
        "print(A, A.shape,'\\n')\n",
        "b = np.array([10,5])                #결과벡터\n",
        "print(b, b.shape,'\\n')\n",
        "A_inv = np.linalg.inv(A)            #계수행렬의 역행렬\n",
        "print(A_inv, A_inv.shape,'\\n')\n",
        "x = np.dot(b,A_inv)                #역행렬과 결과벡터의 행렬곱\n",
        "print(x,'\\n')\n",
        "#A와 b의 행렬곱은?\n",
        "print(np.dot(b, A_inv)) #뭔지 모름 한번 해봄"
      ],
      "metadata": {
        "colab": {
          "base_uri": "https://localhost:8080/"
        },
        "id": "rNc6dvrMHQZq",
        "outputId": "4ae3b14c-a3e4-4ff9-8307-d827c47368b4"
      },
      "execution_count": null,
      "outputs": [
        {
          "output_type": "stream",
          "name": "stdout",
          "text": [
            "[[3 4]\n",
            " [2 1]] (2, 2) \n",
            "\n",
            "[10  5] (2,) \n",
            "\n",
            "[[-0.2  0.8]\n",
            " [ 0.4 -0.6]] (2, 2) \n",
            "\n",
            "[2. 1.] \n",
            "\n",
            "[0. 5.]\n"
          ]
        }
      ]
    },
    {
      "cell_type": "markdown",
      "source": [
        "[풀이]\n",
        "주어진 선형방정식을 행렬 형태로 나타내면 다음과 같다: \\\\\n",
        "$A\\mathbf{x} = \\mathbf{b}$ \\\\\n",
        "여기서 \\\\\n",
        "$A = \\begin{bmatrix}3 & 4 \\\\2 & 1\\end{bmatrix}$,\n",
        "\n",
        "$\\mathbf{x} = \\begin{bmatrix}x \\\\y\\end{bmatrix}$,\n",
        "\n",
        "$\\mathbf{b} = \\begin{bmatrix}10 \\\\5\\end{bmatrix}$\n",
        "\n",
        "$\\mathbf{x} = A^{-1} \\mathbf{b}$"
      ],
      "metadata": {
        "id": "lpDxu6HNCoas"
      }
    },
    {
      "cell_type": "code",
      "source": [
        "#ex\n",
        "Ax = b\n",
        "x = b/A\n",
        "x = A역행렬 * b"
      ],
      "metadata": {
        "id": "cqMW-v03B3ME"
      },
      "execution_count": null,
      "outputs": []
    },
    {
      "cell_type": "markdown",
      "source": [
        "Task8_0611. 주어진 2D 평면의 점을 특정 변환 행렬을 사용하여 변환한 후, 변환된 좌표를 원래 좌표로 되돌리세요.\n",
        "\n",
        "원래 점의 좌표 p와 변환 행렬 T 정의<br>\n",
        "p = np.array([1, 2])<br>\n",
        "T = np.array([[2, 0], [0, 3]])\n",
        "\n",
        "단계\n",
        "1. 원래 점의 좌표 p와 변환 행렬 T를 정의.\n",
        "2. 변환 행렬 T를 사용하여 새로운 좌표 p'를 계산.\n",
        "3. 변환 행렬 T의 역행렬을 사용하여 새로운 좌표 p'에서 원래 좌표 p를 복원."
      ],
      "metadata": {
        "id": "PN5mTZz-PXd3"
      }
    },
    {
      "cell_type": "code",
      "source": [
        "p = np.array([1, 2])    #2차원상 점\n",
        "T = np.array([[2, 0], [0, 3]])\n",
        "new_p = np.dot(p,T)        #새로운 p의 좌표 계산\n",
        "print(f'New p : {new_p}')\n",
        "T_inv = np.linalg.inv(T)    #변환 행렬의 역행렬\n",
        "original_p = np.dot(T_inv, new_p)   #변환행렬의 역행렬과 새로운 좌표를 행렬곱\n",
        "print(f'Original p : {original_p.astype(int)}')"
      ],
      "metadata": {
        "colab": {
          "base_uri": "https://localhost:8080/"
        },
        "id": "-dz4t53-HSdb",
        "outputId": "40429599-c813-4d4b-e985-b31f59e1d533"
      },
      "execution_count": null,
      "outputs": [
        {
          "output_type": "stream",
          "name": "stdout",
          "text": [
            "New p : [2 6]\n",
            "Original p : [1 2]\n"
          ]
        }
      ]
    },
    {
      "cell_type": "code",
      "source": [
        "#ex\n",
        "np.dot(X,W) #표현에만 유의"
      ],
      "metadata": {
        "id": "drgcX9nuPr_d"
      },
      "execution_count": null,
      "outputs": []
    }
  ]
}