{
  "nbformat": 4,
  "nbformat_minor": 0,
  "metadata": {
    "colab": {
      "provenance": []
    },
    "kernelspec": {
      "name": "python3",
      "display_name": "Python 3"
    },
    "language_info": {
      "name": "python"
    }
  },
  "cells": [
    {
      "cell_type": "markdown",
      "source": [
        "Task4. 2023년 1월 1일부터 2023년 12월 31일까지의 날짜 범위를 생성하고, 이 날짜 범위에서 매월 첫 번째 날만 포함하는 데이터프레임을 작성하세요."
      ],
      "metadata": {
        "id": "NjZyZu4jB4cC"
      }
    },
    {
      "cell_type": "code",
      "execution_count": 6,
      "metadata": {
        "colab": {
          "base_uri": "https://localhost:8080/"
        },
        "id": "wQFPCIfXq02w",
        "outputId": "2028664b-8271-452c-e2d9-395c33889cb1"
      },
      "outputs": [
        {
          "output_type": "stream",
          "name": "stdout",
          "text": [
            "DatetimeIndex(['2023-01-01', '2023-02-01', '2023-03-01', '2023-04-01',\n",
            "               '2023-05-01', '2023-06-01', '2023-07-01', '2023-08-01',\n",
            "               '2023-09-01', '2023-10-01', '2023-11-01', '2023-12-01'],\n",
            "              dtype='datetime64[ns]', freq='MS')\n"
          ]
        }
      ],
      "source": [
        "import numpy as np\n",
        "import pandas as pd\n",
        "\n",
        "dates = pd.date_range('2023-01-01', '2023-12-31', freq='MS')\n",
        "print(dates)"
      ]
    },
    {
      "cell_type": "markdown",
      "source": [
        "Task5. 2020년부터 2025년까지의 분기별 기간 범위를 생성하고, 각 분기의 시작과 끝 날짜를 포함하는 데이터프레임을 작성하세요."
      ],
      "metadata": {
        "id": "VABE4vm5B58R"
      }
    },
    {
      "cell_type": "code",
      "source": [
        "\n",
        "dates = pd.date_range('2020', '2025', freq='Q')\n",
        "print(len(dates))  # 20행\n",
        "df = pd.DataFrame(np.random.randn(20, 2),\n",
        "                  index=dates,\n",
        "                  columns=['Start','End'])\n",
        "print(df)"
      ],
      "metadata": {
        "colab": {
          "base_uri": "https://localhost:8080/"
        },
        "id": "Mmjo6SAMB-z8",
        "outputId": "22d303fa-9b8f-495d-ed6b-f4b9c1b32678"
      },
      "execution_count": 8,
      "outputs": [
        {
          "output_type": "stream",
          "name": "stdout",
          "text": [
            "20\n",
            "               Start       End\n",
            "2020-03-31  0.511965 -0.095530\n",
            "2020-06-30  1.222290  0.085689\n",
            "2020-09-30 -0.169289  0.581923\n",
            "2020-12-31 -0.428487 -0.113105\n",
            "2021-03-31 -0.559468 -1.374313\n",
            "2021-06-30 -0.089046 -0.228130\n",
            "2021-09-30 -0.536156 -0.299496\n",
            "2021-12-31 -0.402120  2.214137\n",
            "2022-03-31  0.611455  1.110047\n",
            "2022-06-30 -1.714468 -0.199973\n",
            "2022-09-30 -0.721720 -2.099644\n",
            "2022-12-31  0.489504 -0.608469\n",
            "2023-03-31  0.571833  0.020379\n",
            "2023-06-30  0.885754  1.248811\n",
            "2023-09-30 -0.021123 -0.023826\n",
            "2023-12-31 -0.912007  0.482341\n",
            "2024-03-31  1.158007  1.466071\n",
            "2024-06-30 -0.879035  0.019448\n",
            "2024-09-30  1.162636  0.344696\n",
            "2024-12-31 -0.232848  1.625268\n"
          ]
        }
      ]
    },
    {
      "cell_type": "code",
      "source": [
        "\n",
        "dates = pd.date_range('2020', '2025', freq='Q')\n",
        "print(len(dates))  # 20행\n",
        "df = pd.DataFrame(np.random.randn(20, 2),\n",
        "                  index=dates,\n",
        "                  columns=['Start','End'])\n",
        "print(df)"
      ],
      "metadata": {
        "id": "YvVxaLA4Fc2x"
      },
      "execution_count": null,
      "outputs": []
    },
    {
      "cell_type": "markdown",
      "source": [
        "Task6. 0일부터 10일까지의 시간 범위를 12시간 간격으로 생성하고, 각 간격에 대해 누적 시간을 계산하여 데이터프레임을 작성하세요."
      ],
      "metadata": {
        "id": "wd_YwJsTB_Fr"
      }
    },
    {
      "cell_type": "code",
      "source": [
        "time_range = pd.date_range('2024-06-01','2024-06-11', freq='12h')\n",
        "print(time_range)\n",
        "data = {'time': 12}\n",
        "df = pd.DataFrame(data, index=time_range)\n",
        "acc_sum = df.resample('12h').sum()\n",
        "print(acc_sum)"
      ],
      "metadata": {
        "colab": {
          "base_uri": "https://localhost:8080/"
        },
        "id": "LlLI6Vm-CCJK",
        "outputId": "0be070cc-e4b4-4b72-b079-7aa82805c710"
      },
      "execution_count": 15,
      "outputs": [
        {
          "output_type": "stream",
          "name": "stdout",
          "text": [
            "DatetimeIndex(['2024-06-01 00:00:00', '2024-06-01 12:00:00',\n",
            "               '2024-06-02 00:00:00', '2024-06-02 12:00:00',\n",
            "               '2024-06-03 00:00:00', '2024-06-03 12:00:00',\n",
            "               '2024-06-04 00:00:00', '2024-06-04 12:00:00',\n",
            "               '2024-06-05 00:00:00', '2024-06-05 12:00:00',\n",
            "               '2024-06-06 00:00:00', '2024-06-06 12:00:00',\n",
            "               '2024-06-07 00:00:00', '2024-06-07 12:00:00',\n",
            "               '2024-06-08 00:00:00', '2024-06-08 12:00:00',\n",
            "               '2024-06-09 00:00:00', '2024-06-09 12:00:00',\n",
            "               '2024-06-10 00:00:00', '2024-06-10 12:00:00',\n",
            "               '2024-06-11 00:00:00'],\n",
            "              dtype='datetime64[ns]', freq='12H')\n",
            "                     time\n",
            "2024-06-01 00:00:00    12\n",
            "2024-06-01 12:00:00    12\n",
            "2024-06-02 00:00:00    12\n",
            "2024-06-02 12:00:00    12\n",
            "2024-06-03 00:00:00    12\n",
            "2024-06-03 12:00:00    12\n",
            "2024-06-04 00:00:00    12\n",
            "2024-06-04 12:00:00    12\n",
            "2024-06-05 00:00:00    12\n",
            "2024-06-05 12:00:00    12\n",
            "2024-06-06 00:00:00    12\n",
            "2024-06-06 12:00:00    12\n",
            "2024-06-07 00:00:00    12\n",
            "2024-06-07 12:00:00    12\n",
            "2024-06-08 00:00:00    12\n",
            "2024-06-08 12:00:00    12\n",
            "2024-06-09 00:00:00    12\n",
            "2024-06-09 12:00:00    12\n",
            "2024-06-10 00:00:00    12\n",
            "2024-06-10 12:00:00    12\n",
            "2024-06-11 00:00:00    12\n"
          ]
        }
      ]
    },
    {
      "cell_type": "markdown",
      "source": [
        "Task7. 주어진 df 에서 특정 날짜 이후의 데이터를 필터링하세요."
      ],
      "metadata": {
        "id": "wrculiBICCdH"
      }
    },
    {
      "cell_type": "code",
      "source": [
        "import pandas as pd\n",
        "\n",
        "# 데이터프레임 생성\n",
        "df = pd.DataFrame({\n",
        "    'date': ['2022-01-01', '2022-01-02', '2022-01-03', '2022-01-04', '2022-01-05'],\n",
        "    'value': [1, 2, 3, 4, 5]\n",
        "})\n",
        "df['date'] = pd.to_datetime(df['date'])\n",
        "\n",
        "print(df.truncate(before='2022-01-03'))"
      ],
      "metadata": {
        "colab": {
          "base_uri": "https://localhost:8080/"
        },
        "id": "ex8jWwBZCHcE",
        "outputId": "9ae697db-d94b-482c-b982-c0977b025bde"
      },
      "execution_count": 17,
      "outputs": [
        {
          "output_type": "stream",
          "name": "stdout",
          "text": [
            "        date  value\n",
            "3 2022-01-04      4\n",
            "4 2022-01-05      5\n"
          ]
        }
      ]
    },
    {
      "cell_type": "code",
      "source": [
        "import numpy as np\n",
        "\n",
        "date_range = pd.date_range(start='2022-01-01', periods=365, freq='D')\n",
        "data = {'value': np.random.randint(50,100,365)}\n",
        "df = pd.DataFrame(data, index=date_range)\n",
        "print(df)\n",
        "monthly_sum = df.resample('M').sum()\n",
        "print(monthly_sum)"
      ],
      "metadata": {
        "colab": {
          "base_uri": "https://localhost:8080/"
        },
        "id": "M9Xf5zkvIsjR",
        "outputId": "91f0574a-cc5d-46af-b85a-4c5b7f23ff0d"
      },
      "execution_count": 21,
      "outputs": [
        {
          "output_type": "stream",
          "name": "stdout",
          "text": [
            "            value\n",
            "2022-01-01     76\n",
            "2022-01-02     95\n",
            "2022-01-03     75\n",
            "2022-01-04     63\n",
            "2022-01-05     54\n",
            "...           ...\n",
            "2022-12-27     57\n",
            "2022-12-28     70\n",
            "2022-12-29     99\n",
            "2022-12-30     57\n",
            "2022-12-31     73\n",
            "\n",
            "[365 rows x 1 columns]\n",
            "            value\n",
            "2022-01-31   2235\n",
            "2022-02-28   2058\n",
            "2022-03-31   2368\n",
            "2022-04-30   2371\n",
            "2022-05-31   2342\n",
            "2022-06-30   2199\n",
            "2022-07-31   2302\n",
            "2022-08-31   2282\n",
            "2022-09-30   2225\n",
            "2022-10-31   2334\n",
            "2022-11-30   2193\n",
            "2022-12-31   2317\n"
          ]
        }
      ]
    },
    {
      "cell_type": "markdown",
      "source": [
        "Task8. 주어진 df에서 월별로 데이터의 합계를 계산하세요."
      ],
      "metadata": {
        "id": "zIMLlEeKCHGQ"
      }
    },
    {
      "cell_type": "code",
      "source": [
        "import pandas as pd\n",
        "\n",
        "# 데이터프레임 생성\n",
        "df = pd.DataFrame({\n",
        "    'date': ['2022-01-01', '2022-01-15', '2022-02-01', '2022-02-15', '2022-03-01'],\n",
        "    'value': [1, 2, 3, 4, 5]\n",
        "})\n",
        "df['date'] = pd.to_datetime(df['date'])\n",
        "print(df)\n",
        "df.set_index('date', inplace=True)\n",
        "monthly_sum = df.resample('M').sum()\n",
        "print(monthly_sum)"
      ],
      "metadata": {
        "colab": {
          "base_uri": "https://localhost:8080/"
        },
        "id": "fq4z_8XSCJl8",
        "outputId": "70e50adb-5b74-4a67-d56e-6eec7a75edac"
      },
      "execution_count": 23,
      "outputs": [
        {
          "output_type": "stream",
          "name": "stdout",
          "text": [
            "        date  value\n",
            "0 2022-01-01      1\n",
            "1 2022-01-15      2\n",
            "2 2022-02-01      3\n",
            "3 2022-02-15      4\n",
            "4 2022-03-01      5\n",
            "            value\n",
            "date             \n",
            "2022-01-31      3\n",
            "2022-02-28      7\n",
            "2022-03-31      5\n"
          ]
        }
      ]
    },
    {
      "cell_type": "markdown",
      "source": [
        "Task9. 주어진 데이터프레임에서 주말(토요일과 일요일) 데이터를 필터링하세요."
      ],
      "metadata": {
        "id": "t7-XAz3MCVJj"
      }
    },
    {
      "cell_type": "code",
      "source": [
        "import pandas as pd\n",
        "\n",
        "# 데이터프레임 생성\n",
        "df = pd.DataFrame({\n",
        "    'date': ['2022-01-01', '2022-01-02', '2022-01-03', '2022-01-08', '2022-01-09'],\n",
        "    'value': [1, 2, 3, 4, 5]\n",
        "})\n",
        "df['date'] = pd.to_datetime(df['date'])\n",
        "df.set_index('date', inplace=True)\n",
        "print(df)\n",
        "dates = pd.date_range('2022-01-01','2022-01-09', freq='B')\n",
        "print(dates)\n",
        "week_day_df = pd.DataFrame(columns=['value'], index=dates)\n",
        "print(week_day_df)\n",
        "res = pd.merge(df, week_day_df, how='outer', indicator=True)\n",
        "print(res)\n",
        "res = res.query(\"_merge=='left_only'\")\n",
        "res = res.drop(columns=['_merge'])"
      ],
      "metadata": {
        "colab": {
          "base_uri": "https://localhost:8080/"
        },
        "id": "Df-RxFVKCYKA",
        "outputId": "510cbadf-7e5d-4d69-d81b-3642c6e7b60a"
      },
      "execution_count": 34,
      "outputs": [
        {
          "output_type": "stream",
          "name": "stdout",
          "text": [
            "            value\n",
            "date             \n",
            "2022-01-01      1\n",
            "2022-01-02      2\n",
            "2022-01-03      3\n",
            "2022-01-08      4\n",
            "2022-01-09      5\n",
            "DatetimeIndex(['2022-01-03', '2022-01-04', '2022-01-05', '2022-01-06',\n",
            "               '2022-01-07'],\n",
            "              dtype='datetime64[ns]', freq='B')\n",
            "           value\n",
            "2022-01-03   NaN\n",
            "2022-01-04   NaN\n",
            "2022-01-05   NaN\n",
            "2022-01-06   NaN\n",
            "2022-01-07   NaN\n",
            "  value      _merge\n",
            "0     1   left_only\n",
            "1     2   left_only\n",
            "2     3   left_only\n",
            "3     4   left_only\n",
            "4     5   left_only\n",
            "5   NaN  right_only\n",
            "6   NaN  right_only\n",
            "7   NaN  right_only\n",
            "8   NaN  right_only\n",
            "9   NaN  right_only\n"
          ]
        }
      ]
    },
    {
      "cell_type": "markdown",
      "source": [
        "Task10. 주어진 df에서 분기별 데이터의 평균을 계산하세요."
      ],
      "metadata": {
        "id": "OfeCHxmECZRM"
      }
    },
    {
      "cell_type": "code",
      "source": [
        "import pandas as pd\n",
        "\n",
        "# 데이터프레임 생성\n",
        "df = pd.DataFrame({\n",
        "    'date': ['2022-01-01', '2022-02-01', '2022-03-01', '2022-04-01', '2022-05-01'],\n",
        "    'value': [1, 2, 3, 4, 5]\n",
        "})\n",
        "df['date'] = pd.to_datetime(df['date'])\n",
        "\n",
        "df"
      ],
      "metadata": {
        "id": "70p-4R2cCbop"
      },
      "execution_count": null,
      "outputs": []
    },
    {
      "cell_type": "markdown",
      "source": [
        "Task11. 주어진 df에서 작업 일자(월요일부터 금요일)만 남기고 필터링하세요."
      ],
      "metadata": {
        "id": "_QPSndiMCeTP"
      }
    },
    {
      "cell_type": "code",
      "source": [
        "import pandas as pd\n",
        "\n",
        "# 데이터프레임 생성\n",
        "df = pd.DataFrame({\n",
        "    'date': ['2022-01-01', '2022-01-03', '2022-01-04', '2022-01-05', '2022-01-08', '2022-01-09'],\n",
        "    'value': [1, 2, 3, 4, 5, 6]\n",
        "})\n",
        "df['date'] = pd.to_datetime(df['date'])\n",
        "df"
      ],
      "metadata": {
        "id": "qagi4G2tCg9U"
      },
      "execution_count": null,
      "outputs": []
    }
  ]
}