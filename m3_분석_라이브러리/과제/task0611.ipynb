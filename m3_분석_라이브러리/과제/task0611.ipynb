{
  "nbformat": 4,
  "nbformat_minor": 0,
  "metadata": {
    "colab": {
      "provenance": []
    },
    "kernelspec": {
      "name": "python3",
      "display_name": "Python 3"
    },
    "language_info": {
      "name": "python"
    }
  },
  "cells": [
    {
      "cell_type": "markdown",
      "source": [
        "Task1_0611. 주어진 대각 행렬의 역행렬을 구하고, 역행렬이 맞는지 확인하세요.\n",
        "\n",
        "D = np.diag([1, 2, 3])"
      ],
      "metadata": {
        "id": "pthSW5ugI67D"
      }
    },
    {
      "cell_type": "code",
      "execution_count": 1,
      "metadata": {
        "colab": {
          "base_uri": "https://localhost:8080/"
        },
        "id": "idxo70qUr_BT",
        "outputId": "13a975da-e507-4286-a893-cd34c65fbd82"
      },
      "outputs": [
        {
          "output_type": "stream",
          "name": "stdout",
          "text": [
            "[[1. 0. 0.]\n",
            " [0. 1. 0.]\n",
            " [0. 0. 1.]]\n"
          ]
        }
      ],
      "source": [
        "import numpy as np\n",
        "\n",
        "D = np.diag([1, 2, 3])\n",
        "D_inv = np.linalg.inv(D)\n",
        "print(np.dot(D, D_inv)) #행렬곱 연산 수행시 단위 행렬 나옴 따러서 역행렬 존재하고 역행렬 맞음"
      ]
    },
    {
      "cell_type": "markdown",
      "source": [
        "Task2_0611. 임의의 상삼각 행렬을 생성하고, 그 행렬로 부터 하삼각 행렬을 구하여 출력하세요."
      ],
      "metadata": {
        "id": "MGfzkBvxJgCp"
      }
    },
    {
      "cell_type": "code",
      "source": [
        "#상삼각 행렬은 아래에 0이 있는 형태의 행렬\n",
        "a_upper = np.triu(np.ones((5,5)))\n",
        "print(a_upper)\n",
        "#전치하여 하삼각행렬 만든것과 비교\n",
        "a_lower_T = a_upper.T\n",
        "print(a_lower_T)\n",
        "a_lower = np.tril(np.ones((5,5)))\n",
        "print(a_lower)\n",
        "#같은지 확인하기 위해 np.allclose 사용\n",
        "np.allclose(a_lower_T,a_lower) #True 이므로 같음"
      ],
      "metadata": {
        "colab": {
          "base_uri": "https://localhost:8080/"
        },
        "id": "wvMvCE0ZsIJl",
        "outputId": "ca9a716f-3407-4bd3-c4d0-b76442838af2"
      },
      "execution_count": 6,
      "outputs": [
        {
          "output_type": "stream",
          "name": "stdout",
          "text": [
            "[[1. 1. 1. 1. 1.]\n",
            " [0. 1. 1. 1. 1.]\n",
            " [0. 0. 1. 1. 1.]\n",
            " [0. 0. 0. 1. 1.]\n",
            " [0. 0. 0. 0. 1.]]\n",
            "[[1. 0. 0. 0. 0.]\n",
            " [1. 1. 0. 0. 0.]\n",
            " [1. 1. 1. 0. 0.]\n",
            " [1. 1. 1. 1. 0.]\n",
            " [1. 1. 1. 1. 1.]]\n",
            "[[1. 0. 0. 0. 0.]\n",
            " [1. 1. 0. 0. 0.]\n",
            " [1. 1. 1. 0. 0.]\n",
            " [1. 1. 1. 1. 0.]\n",
            " [1. 1. 1. 1. 1.]]\n"
          ]
        },
        {
          "output_type": "execute_result",
          "data": {
            "text/plain": [
              "True"
            ]
          },
          "metadata": {},
          "execution_count": 6
        }
      ]
    },
    {
      "cell_type": "markdown",
      "source": [
        "Task3_0611. 주어진 행렬의 역행렬을 구하고, 역행렬이 맞는지 확인하세요.\n",
        "\n",
        "A = np.array([[4, 7], [2, 6]])"
      ],
      "metadata": {
        "id": "K2WXgcWuKh5p"
      }
    },
    {
      "cell_type": "code",
      "source": [
        "A = np.array([[4, 7], [2, 6]])\n",
        "A_inv = np.linalg.inv(A)\n",
        "print(np.dot(A, A_inv)) # 행렬곱 수행이 단위행렬 나오므로 역행렬이 맞음"
      ],
      "metadata": {
        "colab": {
          "base_uri": "https://localhost:8080/"
        },
        "id": "iz7Eh9VBsHxg",
        "outputId": "04b8527f-8c98-4589-f14e-cae86b790bea"
      },
      "execution_count": 8,
      "outputs": [
        {
          "output_type": "stream",
          "name": "stdout",
          "text": [
            "[[ 1.00000000e+00 -1.11022302e-16]\n",
            " [ 1.11022302e-16  1.00000000e+00]]\n"
          ]
        }
      ]
    },
    {
      "cell_type": "markdown",
      "source": [
        "Task4_0611. 주어진 데이터 포인트와 모델 파라미터를 사용하여 선형 회귀 모델의 예측값을 계산하세요.\n",
        "\n",
        "X = np.array([1, 2, 3]) #데이터 포인트\n",
        "레이어 1개 가정, 비활성화 함수도 쓰지 않음\n",
        " - 1단계 : 주어진 입력 데이터 포인트 X와 모델 파라미터 θ(가중치)를 정의.\n",
        " - 2단계 : 행렬 곱을 사용하여 예측값 y를 계산."
      ],
      "metadata": {
        "id": "9-D3uNLyLF9d"
      }
    },
    {
      "cell_type": "code",
      "source": [
        "X = np.array([1, 2, 3]) #데이터 포인트\n",
        "print(X.shape)\n",
        "para = np.array([[2,4],[5,2],[2,1]]) #가중치 파라미터\n",
        "print(para.shape)\n",
        "y = np.dot(X, para) #행렬곱\n",
        "print(y, y.shape)\n"
      ],
      "metadata": {
        "colab": {
          "base_uri": "https://localhost:8080/"
        },
        "id": "nXYT8JIj9_88",
        "outputId": "18f5826a-4420-4d10-f7f5-68735f0dd246"
      },
      "execution_count": 12,
      "outputs": [
        {
          "output_type": "stream",
          "name": "stdout",
          "text": [
            "(3,)\n",
            "(3, 2)\n",
            "[18 11] (2,)\n"
          ]
        }
      ]
    },
    {
      "cell_type": "markdown",
      "source": [
        " Task5_0611. 주어진 입력 벡터와 가중치 행렬을 사용하여 신경망의 단일 계층 출력을 계산하세요.\n",
        "X = np.array([0.5, 1.0, -1.5])\n",
        "레이어 1개 가정, 비활성화 함수도 쓰지 않음\n",
        " - 1단계: 입력 벡터 X와 가중치 행렬 W를 정의.\n",
        " - 2단계: 행렬 곱을 사용하여 계층의 출력을 계산."
      ],
      "metadata": {
        "id": "1mdJVF2HMBb-"
      }
    },
    {
      "cell_type": "code",
      "source": [
        "X = np.array([0.5, 1.0, -1.5])\n",
        "W = np.array([1,2,3])    #가중치 행렬\n",
        "y = np.dot(X, W)        #행렬곱\n",
        "print(y)"
      ],
      "metadata": {
        "colab": {
          "base_uri": "https://localhost:8080/"
        },
        "id": "orGwAamT-JBS",
        "outputId": "4db7b17b-9341-4264-ffe9-11e37839d970"
      },
      "execution_count": 13,
      "outputs": [
        {
          "output_type": "stream",
          "name": "stdout",
          "text": [
            "-2.0\n"
          ]
        }
      ]
    },
    {
      "cell_type": "markdown",
      "source": [
        "Task6_0611. 주어진 입력 벡터에 대해 신경망의 활성화 함수(ReLU, 시그모이드)를 적용하여 출력을 계산하세요.\n",
        "\n",
        "X = np.array([1, -2, 3])\n",
        "\n",
        "- 1단계: 입력 벡터 X를 정의.\n",
        "- 2단계: 가중치 행렬 W와 편향 벡터 b를 정의.(편향벡터 랜덤하게 만들기) =>결과가 Z\n",
        "- 3단계: 활성화 함수(ReLU, 시그모이드)를 적용하여 출력을 계산\n",
        "활성화 함수 적용<br>\n",
        "output_relu = relu(Z)<br>\n",
        "output_sigmoid = sigmoid(Z)"
      ],
      "metadata": {
        "id": "o3c6C5yRM5Dw"
      }
    },
    {
      "cell_type": "code",
      "source": [
        "X = np.array([1, -2, 3])\n",
        "W = np.array([-1,-2,3])\n",
        "b = np.array([4,-5,6])\n",
        "Z = np.dot(X, W)        #입력벡터와 가중치 행렬곱\n",
        "Z = np.dot(Z, b)        #위 결과에 편향벡터 행렬곱\n",
        "print(Z)\n",
        "def relu(z):\n",
        "    return np.maximum(0, z)\n",
        "print(relu(Z))\n",
        "\n",
        "def sigmoid(z):\n",
        "    return 1/(1 + np.exp(-z))\n",
        "print(sigmoid(X))"
      ],
      "metadata": {
        "colab": {
          "base_uri": "https://localhost:8080/"
        },
        "id": "JjCUD5Ca-I07",
        "outputId": "7dfb6457-6e00-40be-c696-c40daadfce79"
      },
      "execution_count": 28,
      "outputs": [
        {
          "output_type": "stream",
          "name": "stdout",
          "text": [
            "[ 48 -60  72]\n",
            "[48  0 72]\n",
            "[0.73105858 0.11920292 0.95257413]\n"
          ]
        }
      ]
    },
    {
      "cell_type": "markdown",
      "source": [
        "Task7_0611. 주어진 선형 방정식을 행렬 형태로 나타내고, 역행렬을 사용하여\n",
        "x와 y를 구하세요.\n",
        "\n",
        "$\\begin{cases}\n",
        "3x + 4y = 10 \\\\\n",
        "2x + y = 5\n",
        "\\end{cases}$\n",
        "\n",
        "단계:\n",
        "1. 계수 행렬 A와 결과 벡터 b를 정의.\n",
        "2. 행렬 A의 역행렬을 구한다.\n",
        "3. 역행렬을 사용하여 변수 x를 구한다."
      ],
      "metadata": {
        "id": "LTumUbs2Hmmy"
      }
    },
    {
      "cell_type": "code",
      "source": [
        "A = np.array([[3,4], [2,1]])        #계수행렬\n",
        "print(A, A.shape,'\\n')\n",
        "b = np.array([10,5])                #결과벡터\n",
        "print(b, b.shape,'\\n')\n",
        "A_inv = np.linalg.inv(A)            #계수행렬의 역행렬\n",
        "print(A_inv, A_inv.shape,'\\n')\n",
        "x = np.dot(A_inv, b)                #역행렬과 결과벡터의 행렬곱\n",
        "print(x,'\\n')\n",
        "#A와 b의 행렬곱은?\n",
        "print(np.dot(A,b)) #뭔지 모름 한번 해봄"
      ],
      "metadata": {
        "colab": {
          "base_uri": "https://localhost:8080/"
        },
        "id": "rNc6dvrMHQZq",
        "outputId": "9af7c9f8-696c-451a-9ffe-c28b4f451bd7"
      },
      "execution_count": 18,
      "outputs": [
        {
          "output_type": "stream",
          "name": "stdout",
          "text": [
            "[[3 4]\n",
            " [2 1]] (2, 2) \n",
            "\n",
            "[10  5] (2,) \n",
            "\n",
            "[[-0.2  0.8]\n",
            " [ 0.4 -0.6]] (2, 2) \n",
            "\n",
            "[2. 1.] \n",
            "\n",
            "[50 25]\n"
          ]
        }
      ]
    },
    {
      "cell_type": "markdown",
      "source": [
        "Task8_0611. 주어진 2D 평면의 점을 특정 변환 행렬을 사용하여 변환한 후, 변환된 좌표를 원래 좌표로 되돌리세요.\n",
        "\n",
        "원래 점의 좌표 p와 변환 행렬 T 정의<br>\n",
        "p = np.array([1, 2])<br>\n",
        "T = np.array([[2, 0], [0, 3]])\n",
        "\n",
        "단계\n",
        "1. 원래 점의 좌표 p와 변환 행렬 T를 정의.\n",
        "2. 변환 행렬 T를 사용하여 새로운 좌표 p를 계산.\n",
        "3. 변환 행렬 T의 역행렬을 사용하여 새로운 좌표 p에서 원래 좌표 p를 복원."
      ],
      "metadata": {
        "id": "PN5mTZz-PXd3"
      }
    },
    {
      "cell_type": "code",
      "source": [
        "p = np.array([1, 2])\n",
        "T = np.array([[2, 0], [0, 3]])\n",
        "new_p = np.dot(T, p)        #새로운 p의 좌표 계산\n",
        "print(f'New T : {new_p}')\n",
        "T_inv = np.linalg.inv(T)    #변환 행렬의 역행렬\n",
        "original_p = np.dot(T_inv, new_p)   #변환행렬의 역행렬과 새로운 좌표를 행렬곱\n",
        "print(f'Original T : {original_p.astype(int)}')"
      ],
      "metadata": {
        "colab": {
          "base_uri": "https://localhost:8080/"
        },
        "id": "-dz4t53-HSdb",
        "outputId": "37fbe75c-fee4-4022-8b3c-b37d5805dbed"
      },
      "execution_count": 22,
      "outputs": [
        {
          "output_type": "stream",
          "name": "stdout",
          "text": [
            "New T : [2 6]\n",
            "Original T : [1 2]\n"
          ]
        }
      ]
    },
    {
      "cell_type": "code",
      "source": [],
      "metadata": {
        "id": "drgcX9nuPr_d"
      },
      "execution_count": null,
      "outputs": []
    }
  ]
}