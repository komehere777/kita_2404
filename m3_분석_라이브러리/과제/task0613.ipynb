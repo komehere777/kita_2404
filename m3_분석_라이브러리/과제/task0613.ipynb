{
  "nbformat": 4,
  "nbformat_minor": 0,
  "metadata": {
    "colab": {
      "provenance": []
    },
    "kernelspec": {
      "name": "python3",
      "display_name": "Python 3"
    },
    "language_info": {
      "name": "python"
    }
  },
  "cells": [
    {
      "cell_type": "markdown",
      "source": [
        "Task_0613. pandas를 이용해서 다음 사항을 수행하세요.\n",
        "- 평균 50, 표준편차 10인 정규분포에서 100개 샘플 생성\n",
        "- 기본데이터의 평균과 중앙값 계산\n",
        "- 데이터에 이상치 500추가\n",
        "- 이상치가 포함된 데이터의 평균과 중앙값 계산\n",
        "- 이상치 포함에 따른 평균값과 중앙값간의 변화 설명"
      ],
      "metadata": {
        "id": "7ZbiSLMgYtGj"
      }
    },
    {
      "cell_type": "code",
      "source": [
        "import pandas as pd\n",
        "import numpy as np\n",
        "\n",
        "data = np.random.normal(50, 10, 100)\n",
        "data = pd.Series(data)\n",
        "data_mean = data.mean()\n",
        "data_median = data.median()\n",
        "print(data_mean)\n",
        "print(data_median)\n",
        "data[0] =500\n",
        "data_mean = data.mean()\n",
        "data_median = data.median()\n",
        "print(data_mean)\n",
        "print(data_median)\n",
        "#평균의 변화폭이 크고, 중앙값의 변화폭은 없다.\n",
        "#평균은 전체 데이터합을 데이터 수로 나눈것이므로 이상치 추가로 인해 평균은 변화폭이 컸지만\n",
        "#중앙값은 값들 순서의 중앙이기 때문에 요소가 1개가 대체됐기때문에 변화가 없다.\n"
      ],
      "metadata": {
        "colab": {
          "base_uri": "https://localhost:8080/"
        },
        "id": "ihWxvEtvYp4P",
        "outputId": "a9cbcb5f-b21d-4648-b9d2-0b5a11e53060"
      },
      "execution_count": 1,
      "outputs": [
        {
          "output_type": "stream",
          "name": "stdout",
          "text": [
            "51.216785096689065\n",
            "51.65301430680105\n",
            "55.646322899176866\n",
            "51.65301430680105\n"
          ]
        }
      ]
    },
    {
      "cell_type": "code",
      "execution_count": null,
      "metadata": {
        "id": "kYaT3FGXYk6i"
      },
      "outputs": [],
      "source": []
    }
  ]
}