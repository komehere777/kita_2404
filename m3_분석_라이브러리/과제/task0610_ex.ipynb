{
  "nbformat": 4,
  "nbformat_minor": 0,
  "metadata": {
    "colab": {
      "provenance": []
    },
    "kernelspec": {
      "name": "python3",
      "display_name": "Python 3"
    },
    "language_info": {
      "name": "python"
    }
  },
  "cells": [
    {
      "cell_type": "markdown",
      "source": [
        "선형대수 - 학원에서 대부분 안함\n",
        "\n",
        "ai 네트웍이나 머신러닝 알고리즘에 선형대수를 사용\n",
        "\n",
        "응용을 하려면 기본을 알고 있어야 함\n",
        "\n",
        "포인트 - 신경망이나 머신러닝에서 중요한게 학습\n",
        "\n",
        "어떤 과정을 거쳐 가중치를 주는지\n",
        "\n",
        "선형대수를 알아야 가중치 업데이트하는 부분에 적용\n",
        "\n",
        "선형변환에 대해 알려면 선형대수를 알아야함\n",
        "\n",
        "그정도를 이해하기 위해 선형대수를 하자\n",
        "\n",
        "미분도 해야함, 가중치 학습이 순정파, 역전파 반복\n",
        "\n",
        "거기에서 그레디언트 구해야하는데 편미분 할수 있어야 함\n",
        "\n",
        "선형대수, 편미분 이해가 필요\n",
        "\n",
        "딥러닝 네트웍 이해에 도움이 됨\n",
        "\n",
        "백터와 행렬간의 행렬곱\n",
        "\n",
        "어떻게 선형변환이 이루어지는가?\n",
        "\n"
      ],
      "metadata": {
        "id": "lKo9nBM8nZUv"
      }
    },
    {
      "cell_type": "markdown",
      "source": [
        "Task1_0610. 주어진 두 배열 arr1과 arr2에서, arr2의 요소가 10보다 큰 위치의 arr1 요소들을 선택하세요.\n",
        "\n",
        "arr1 = np.array([10, 20, 30, 40, 50])<br>\n",
        "arr2 = np.array([5, 15, 25, 10, 35])"
      ],
      "metadata": {
        "id": "umTkfXFY7ND0"
      }
    },
    {
      "cell_type": "code",
      "execution_count": 2,
      "metadata": {
        "colab": {
          "base_uri": "https://localhost:8080/"
        },
        "id": "VGp2TDJj7JK7",
        "outputId": "a676b3ec-2776-4545-f830-661eb0b75bc8"
      },
      "outputs": [
        {
          "output_type": "stream",
          "name": "stdout",
          "text": [
            "[15 25 35]\n"
          ]
        },
        {
          "output_type": "execute_result",
          "data": {
            "text/plain": [
              "{20, 30, 40, 50}"
            ]
          },
          "metadata": {},
          "execution_count": 2
        }
      ],
      "source": [
        "import numpy as np\n",
        "\n",
        "arr1 = np.array([10, 20, 30, 40, 50])\n",
        "arr2 = np.array([5, 15, 25, 10, 35])\n",
        "biger10_arr2 = arr2[arr2>10]\n",
        "print(biger10_arr2)\n",
        "select_arr1 = []\n",
        "for i in arr1:\n",
        "    for j in biger10_arr2:\n",
        "        if i > j:\n",
        "            select_arr1.append(i)\n",
        "set(select_arr1)"
      ]
    },
    {
      "cell_type": "code",
      "source": [
        "#ex\n",
        "arr1 = np.array([10, 20, 30, 40, 50])\n",
        "arr2 = np.array([5, 15, 25, 10, 35])\n",
        "print([arr2>10])\n",
        "res = arr1[arr2> 10]# true인것만 나옴\n",
        "res"
      ],
      "metadata": {
        "colab": {
          "base_uri": "https://localhost:8080/"
        },
        "id": "bl0SbpBomDr9",
        "outputId": "7ddc9084-b4c6-4648-d684-f6da2bc04ed2"
      },
      "execution_count": 4,
      "outputs": [
        {
          "output_type": "stream",
          "name": "stdout",
          "text": [
            "[array([False,  True,  True, False,  True])]\n"
          ]
        },
        {
          "output_type": "execute_result",
          "data": {
            "text/plain": [
              "array([20, 30, 50])"
            ]
          },
          "metadata": {},
          "execution_count": 4
        }
      ]
    },
    {
      "cell_type": "markdown",
      "source": [
        "Task2_0610. 주어진 배열에서 짝수 인덱스에 있는 요소들을 선택하세요.\n",
        "\n",
        "arr = np.array([5, 10, 15, 20, 25, 30, 35, 40])"
      ],
      "metadata": {
        "id": "6Brl-SIi7QXE"
      }
    },
    {
      "cell_type": "code",
      "source": [
        "arr = np.array([5, 10, 15, 20, 25, 30, 35, 40])\n",
        "idx = np.argsort(arr)\n",
        "print(idx)\n",
        "li = []\n",
        "for i in idx:\n",
        "    if i % 2 == 0:\n",
        "        li.append(i)\n",
        "\n",
        "print(li)\n",
        "arr[li]"
      ],
      "metadata": {
        "colab": {
          "base_uri": "https://localhost:8080/"
        },
        "id": "KyJTVvAM7RF7",
        "outputId": "69e02243-99c6-4c26-d3ef-d36fe44d5de7"
      },
      "execution_count": null,
      "outputs": [
        {
          "output_type": "stream",
          "name": "stdout",
          "text": [
            "[0 1 2 3 4 5 6 7]\n",
            "[0, 2, 4, 6]\n"
          ]
        },
        {
          "output_type": "execute_result",
          "data": {
            "text/plain": [
              "array([ 5, 15, 25, 35])"
            ]
          },
          "metadata": {},
          "execution_count": 9
        }
      ]
    },
    {
      "cell_type": "code",
      "source": [
        "#ex\n",
        "arr = np.array([5, 10, 15, 20, 25, 30, 35, 40])\n",
        "arr[::2]"
      ],
      "metadata": {
        "colab": {
          "base_uri": "https://localhost:8080/"
        },
        "id": "oR7fZGLemeVK",
        "outputId": "47a62ce2-0234-4407-db14-2882a6e6dc62"
      },
      "execution_count": 5,
      "outputs": [
        {
          "output_type": "execute_result",
          "data": {
            "text/plain": [
              "array([ 5, 15, 25, 35])"
            ]
          },
          "metadata": {},
          "execution_count": 5
        }
      ]
    },
    {
      "cell_type": "markdown",
      "source": [
        "Task3_0610. 주어진 배열에서 20보다 작은 요소들의 값을 0으로 변경하세요.\n",
        "\n",
        "arr = np.array([10, 25, 30, 15, 40, 5])"
      ],
      "metadata": {
        "id": "jzDc0zRf7RUd"
      }
    },
    {
      "cell_type": "code",
      "source": [
        "arr = np.array([10, 25, 30, 15, 40, 5])\n",
        "np.where(arr < 20, 0, arr)"
      ],
      "metadata": {
        "colab": {
          "base_uri": "https://localhost:8080/"
        },
        "id": "5L9NkbJB7S3L",
        "outputId": "437d810e-d03b-4a13-d9c8-c97c7eb5e5a3"
      },
      "execution_count": null,
      "outputs": [
        {
          "output_type": "execute_result",
          "data": {
            "text/plain": [
              "array([ 0, 25, 30,  0, 40,  0])"
            ]
          },
          "metadata": {},
          "execution_count": 10
        }
      ]
    },
    {
      "cell_type": "code",
      "source": [
        "#ex - 더 간단\n",
        "arr = np.array([10, 25, 30, 15, 40, 5])\n",
        "arr[arr < 20] = 0\n",
        "arr\n"
      ],
      "metadata": {
        "colab": {
          "base_uri": "https://localhost:8080/"
        },
        "id": "mn7q21Qvp2MD",
        "outputId": "2250f13f-43b8-4737-ece5-c96d1aada4ff"
      },
      "execution_count": 6,
      "outputs": [
        {
          "output_type": "execute_result",
          "data": {
            "text/plain": [
              "array([ 0, 25, 30,  0, 40,  0])"
            ]
          },
          "metadata": {},
          "execution_count": 6
        }
      ]
    }
  ]
}