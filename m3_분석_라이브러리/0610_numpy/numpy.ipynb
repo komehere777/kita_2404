{
  "nbformat": 4,
  "nbformat_minor": 0,
  "metadata": {
    "colab": {
      "provenance": []
    },
    "kernelspec": {
      "name": "python3",
      "display_name": "Python 3"
    },
    "language_info": {
      "name": "python"
    }
  },
  "cells": [
    {
      "cell_type": "markdown",
      "source": [
        "#0605"
      ],
      "metadata": {
        "id": "0oWNoo0StO2k"
      }
    },
    {
      "cell_type": "markdown",
      "source": [
        "오늘하고 한두번\n",
        "\n",
        "선형대수\n",
        "\n",
        "끝나고 통계 이틀\n",
        "\n",
        "다음주 넘파이, 선형대수, 통계, 시각화\n",
        "\n",
        "그 다음주는 데이터 수집, 크롤링, 가공\n",
        "\n",
        "이거까지 하면 분석 라이브러리는 끝\n",
        "\n",
        "머신러닝은 분류, 회귀, 선형회귀, 랜덤 포레스트, 디시전 트리를 여러개로 만든게 랜덤 포레스트\n",
        "\n",
        "에스터메이트 - n에스티메이터 , 디시젼 트리가 한개면 과적합문제 생겨서 랜덤 포레스트가 나옴\n",
        "\n",
        "부스팅방법 나옴 - 그레디언트 부스팅,\n",
        "\n",
        "10개 종류 됨 - 디시젼 트리로 부터 파생\n",
        "\n",
        "분류 모델은 회귀 모델로도 쓰일수 있음\n",
        "\n",
        "회귀 트리\n",
        "\n",
        "하이퍼 파라미터 튜닝하는 방법도 배움 - 과적합 방지\n",
        "\n",
        "평가하는 방법 - 데이터를 조합하는 방법,\n",
        "\n",
        "지도학습 끝\n",
        "\n",
        "비지도학습 - 군집분석\n",
        "\n",
        "머신러닝은 여기까지\n",
        "\n",
        "분석 라이브러리 다 끝내고 파이썬 웹함. 1차 프로젝트 함\n",
        "\n",
        "오전에는 머신러닝, 오후에는 웹 프로젝트\n",
        "\n",
        "다음주 말 테스트(판다스, 넘파이, 시각화)\n",
        "\n",
        "두번에 나눠서 (실습 40, 셤60)\n",
        "\n",
        "실습 - 평가 점수와  인사이트 찾기"
      ],
      "metadata": {
        "id": "jM2sDmV7tGK9"
      }
    },
    {
      "cell_type": "markdown",
      "source": [
        "NumPy는 “Numerical Python“의 약자로 대규모 다차원 배열과 행렬 연산에 필요한 다양한 함수를 제공\n",
        "* Numerical Python을 의미하는 NumPy는 파이썬에서 선형대수 기반의 프로그램을 쉽게 만들 수 있도록 지원하는 대표적인 패키지\n",
        "* 많은 머신러닝 알고리즘이 넘파이 기반으로 작성돼 있으며 알고리즘의 입출력 데이터를 넘파이 배열 타입으로 사용함\n",
        "* 넘파이의 기본 데이터 타입은 ndarray. ndarray를 이용해 ***`넘파이에서 다차원 배열을 쉽게 생성하고 다양한 연산 수행`***\n",
        "\n",
        "1. NumPy 기본 개념\n",
        "  - NumPy는 과학 계산을 위한 Python 라이브러리.\n",
        "  - 다차원 배열 객체인 ndarray를 중심으로 작동.\n",
        "  - 벡터화 연산, 브로드캐스팅 기능을 제공.\n",
        "\n",
        "2. NumPy 배열 생성 및 조작\n",
        "  - np.array(): 리스트나 튜플로부터 배열 생성.\n",
        "  - np.arange(), np.linspace(): 연속된 값으로 배열 생성.\n",
        "  - 배열의 형태 변경: reshape(), flatten()- 1차원으로 변경 등.\n",
        "\n",
        "3. 배열 인덱싱 및 슬라이싱\n",
        "  - 배열 요소에 접근하고 수정하는 방법.\n",
        "  - 슬라이싱을 사용해 배열의 부분집합 추출.\n",
        "\n",
        "4. NumPy의 수학적 연산\n",
        "  - 기본 수학 연산: 덧셈, 뺄셈, 곱셈, 나눗셈.\n",
        "  - 통계 연산: mean(), median(), std(), sum() 등.\n",
        "  - ***`선형 대수 연산: 내적, 외적, 행렬 곱셈.`***\n",
        "\n",
        "5. 브로드캐스팅:\n",
        "  - 서로 다른 크기의 배열 간 연산을 가능하게 하는 기능.\n",
        "  - 브로드캐스팅 규칙 이해 및 적용.\n",
        "\n",
        "6. 부울 인덱싱 및 팬시 인덱싱\n",
        "  - 조건에 맞는 데이터 선택.\n",
        "  - 특정 인덱스 집합에 대한 데이터 접근.\n",
        "\n",
        "7. 파일 입출력\n",
        "  - NumPy 배열을 파일로 저장하고 불러오기: np.save(), np.load().\n",
        "\n",
        "8. 실용적 예제: 데이터 분석에 NumPy 활용\n",
        "  - 실제 데이터셋을 가지고 기본적인 데이터 처리 및 분석 수행.\n",
        "\n",
        "Numpy Documentation  \n",
        "\n",
        "https://numpy.org/doc/stable/"
      ],
      "metadata": {
        "id": "5t1IdU1KymC9"
      }
    },
    {
      "cell_type": "markdown",
      "source": [
        "행렬곱이 딥러닝에서 중요\n",
        "\n",
        "딥러닝의 학습과정이 행렬 연산\n",
        "\n",
        "선형변환이 행렬곱으로 이루워지고 무작위성을 추가\n",
        "\n",
        "학습의 결과로 예측, 예측을 측정하여 순정파, 역전파를 통해 가중치를 측정\n",
        "\n",
        "예측값과 오차가 최저를 가는 가중치, 손실 개선이 더이상되지 않으면 끝\n",
        "\n",
        "그렇게 모델 완성,\n",
        "\n",
        "그 내용이 행렬곱으로 수행\n",
        "\n"
      ],
      "metadata": {
        "id": "nCXmuY4GziLk"
      }
    },
    {
      "cell_type": "code",
      "source": [
        "#배열 생성 및 기본 작업\n",
        "import numpy as np\n",
        "\n",
        "#creating a Numpy array\n",
        "array = np.array([1,2,3,4,])\n",
        "\n",
        "print(\"Origianl:\", array)   #리스트 형태처럼 보임\n",
        "print(\"Array + 2:\" , array +2)\n",
        "print(\"Array squared:\", array **2)\n",
        "\n",
        "print(\"Mean of array: \", np.mean(array))"
      ],
      "metadata": {
        "colab": {
          "base_uri": "https://localhost:8080/"
        },
        "id": "XpiS9ZV6zhk8",
        "outputId": "38f89be6-8599-4349-dbbf-f6d65a04a6b0"
      },
      "execution_count": null,
      "outputs": [
        {
          "output_type": "stream",
          "name": "stdout",
          "text": [
            "Origianl: [1 2 3 4]\n",
            "Array + 2: [3 4 5 6]\n",
            "Array squared: [ 1  4  9 16]\n",
            "Mean of array:  2.5\n"
          ]
        }
      ]
    },
    {
      "cell_type": "code",
      "execution_count": null,
      "metadata": {
        "colab": {
          "base_uri": "https://localhost:8080/"
        },
        "id": "Tjn7UycwtC59",
        "outputId": "990f72c7-d9a7-4102-9073-bdbf071ca652"
      },
      "outputs": [
        {
          "output_type": "stream",
          "name": "stdout",
          "text": [
            "1D array: [ 3  6  9 12]\n",
            "Shape: (4,)\n",
            "Size: 4\n",
            "Type: int64\n",
            "\n",
            "2D array:  [[1 2 3]\n",
            " [4 5 6]]\n",
            "Shape: (2, 3)\n",
            "Size: 6\n"
          ]
        }
      ],
      "source": [
        "#배열 생성 및 속성 탐색\n",
        "array_1d = np.array([3,6,9,12])\n",
        "print(\"1D array:\", array_1d)\n",
        "\n",
        "print(\"Shape:\",array_1d.shape)\n",
        "print(\"Size:\",array_1d.size)\n",
        "print(\"Type:\",array_1d.dtype)\n",
        "\n",
        "array_2d = np.array([[1,2,3],[4,5,6]])\n",
        "print(\"\\n2D array: \",array_2d)\n",
        "print(\"Shape:\",array_2d.shape)\n",
        "print(\"Size:\",array_2d.size)"
      ]
    },
    {
      "cell_type": "code",
      "source": [
        "print(array_1d, '\\n')\n",
        "print(array_2d)"
      ],
      "metadata": {
        "colab": {
          "base_uri": "https://localhost:8080/"
        },
        "id": "IdPhrqs14Ktq",
        "outputId": "164c372b-fcf6-4914-e8ae-8964e83bff8a"
      },
      "execution_count": null,
      "outputs": [
        {
          "output_type": "stream",
          "name": "stdout",
          "text": [
            "[ 3  6  9 12] \n",
            "\n",
            "[[1 2 3]\n",
            " [4 5 6]]\n"
          ]
        }
      ]
    },
    {
      "cell_type": "code",
      "source": [
        "print('element at index 2:', array_1d[2])\n",
        "\n",
        "print('element from index 1 to 3:', array_1d[1:4])\n",
        "\n",
        "print('element in 2nd row, 3rd column:', array_2d[1,2])\n",
        "\n",
        "print('First row:', array_2d[0,:])\n",
        "print('First row:', array_2d[0])\n",
        "print('First column:', array_2d[:,0])  #:콜론 섹제불가\n",
        "print('all:\\n', array_2d[:,:])\n",
        "print('all:\\n', array_2d)"
      ],
      "metadata": {
        "colab": {
          "base_uri": "https://localhost:8080/"
        },
        "id": "iPF_x72i7G_W",
        "outputId": "2652eb8f-8c9d-4614-e9d1-0fbe6d810e6d"
      },
      "execution_count": null,
      "outputs": [
        {
          "output_type": "stream",
          "name": "stdout",
          "text": [
            "element at index 2: 9\n",
            "element from index 1 to 3: [ 6  9 12]\n",
            "element in 2nd row, 3rd column: 6\n",
            "First row: [1 2 3]\n",
            "First row: [1 2 3]\n",
            "First column: [1 4]\n",
            "all:\n",
            " [[1 2 3]\n",
            " [4 5 6]]\n",
            "all:\n",
            " [[1 2 3]\n",
            " [4 5 6]]\n"
          ]
        }
      ]
    },
    {
      "cell_type": "code",
      "source": [
        "import numpy as np\n",
        "\n",
        "a = np.array([1,2,3])\n",
        "b = np.array([4,5,6])\n",
        "\n",
        "print(\"Addition:\", a + b)\n",
        "\n",
        "print(\"Subtraction:\", a - b)\n",
        "\n",
        "print(\"multiplication:\", a * b)\n",
        "\n",
        "print(\"Division:\", a / b)"
      ],
      "metadata": {
        "colab": {
          "base_uri": "https://localhost:8080/"
        },
        "id": "7cCExGyh70C0",
        "outputId": "ae2d3c73-3ac7-46d0-857e-9da0b362429e"
      },
      "execution_count": null,
      "outputs": [
        {
          "output_type": "stream",
          "name": "stdout",
          "text": [
            "Addition: [5 7 9]\n",
            "Subtraction: [-3 -3 -3]\n",
            "multiplication: [ 4 10 18]\n",
            "Division: [0.25 0.4  0.5 ]\n"
          ]
        }
      ]
    },
    {
      "cell_type": "code",
      "source": [
        "array = np.array([1,2,3,4])\n",
        "print(\"pow:\", array ** 2)"
      ],
      "metadata": {
        "colab": {
          "base_uri": "https://localhost:8080/"
        },
        "id": "9XMtEysH9SDG",
        "outputId": "c6b96c24-36b0-4308-d838-774b2167bfe6"
      },
      "execution_count": null,
      "outputs": [
        {
          "output_type": "stream",
          "name": "stdout",
          "text": [
            "pow: [ 1  4  9 16]\n"
          ]
        }
      ]
    },
    {
      "cell_type": "code",
      "source": [
        "array = np.array([1,2,3,4])\n",
        "print(\"pow:\", array * array)"
      ],
      "metadata": {
        "colab": {
          "base_uri": "https://localhost:8080/"
        },
        "id": "fbX-Ok189l1B",
        "outputId": "777ace90-7ea0-45a7-f1f9-c3ada5ca7c23"
      },
      "execution_count": null,
      "outputs": [
        {
          "output_type": "stream",
          "name": "stdout",
          "text": [
            "pow: [ 1  4  9 16]\n"
          ]
        }
      ]
    },
    {
      "cell_type": "markdown",
      "source": [
        "#### 파이썬 리스트와 넘파이 배열의 주요 차이점\n",
        "\n",
        "데이터 타입:\n",
        "- 파이썬 리스트: 다양한 타입의 데이터를 저장할 수 있다. 즉, 하나의 리스트에 정수, 문자열, 객체 등 다양한 타입의 요소를 포함할 수 있다.\n",
        "- 넘파이 배열: 모든 요소가 동일한 데이터 타입을 가져야 한다. 이는 메모리 사용과 계산 속도를 최적화하는 데 도움이 된다.\n",
        "\n",
        "메모리 사용:\n",
        "- 파이썬 리스트: 비연속적으로 메모리에 요소를 저장. 각 요소는 객체로서 별도의 메모리 공간을 차지하며, 리스트는 이러한 객체들의 참조를 저장.\n",
        "- 넘파이 배열: 모든 요소가 연속된 메모리 블록에 저장. 이는 데이터 접근과 조작을 더 빠르고 효율적으로 만든다.\n",
        "\n",
        "성능:\n",
        "- 파이썬 리스트: 다양한 타입의 데이터를 유연하게 처리할 수 있지만, 이로 인해 넘파이 배열에 비해 연산 속도가 느릴 수 있다.\n",
        "- 넘파이 배열: 수학적이고 과학적인 계산에 최적화되어 있으며, 특히 대량의 데이터를 다룰 때 높은 성능을 제공.\n",
        "\n",
        "크기 조정:\n",
        "- 파이썬 리스트: 동적으로 크기가 조정. 요소를 추가하거나 제거하면 리스트의 크기가 자동으로 변경.\n",
        "- 넘파이 배열: 고정된 크기를 가진다. 배열의 크기를 변경하려면 새로운 배열을 생성하고 기존 데이터를 복사해야 한다.\n",
        "\n",
        "다양한 기능과 연산:\n",
        "- 파이썬 리스트: 기본적인 연산과 기능을 제공.\n",
        "- 넘파이 배열: 다차원 배열을 지원하며, 선형대수, 통계, 푸리에 변환 등 고급 수학적 및 과학적 연산을 위한 광범위한 함수와 메서드를 제공.\n",
        "\n",
        "용도:\n",
        "- 파이썬 리스트: 일반적인 프로그래밍 작업 및 다양한 타입의 데이터를 유연하게 관리할 때 사용.\n",
        "- 넘파이 배열: 과학 계산, 데이터 분석, 대규모 수치 연산 등에서 주로 사용.\n",
        "\n",
        "결론적으로, 파이썬 리스트는 유연성과 범용성에 초점을 맞추고 있으며, 넘파이 배열은 고성능 수치 계산과 데이터 처리에 최적화되어 있다."
      ],
      "metadata": {
        "id": "LokeQnAT9jYS"
      }
    },
    {
      "cell_type": "code",
      "source": [
        "li = [1,'a',3,4,5]\n",
        "print(li, type(li))"
      ],
      "metadata": {
        "colab": {
          "base_uri": "https://localhost:8080/"
        },
        "id": "TRudjgKQ-UIe",
        "outputId": "28134d8e-f4d8-46fd-e8f0-5a19b058cc9b"
      },
      "execution_count": null,
      "outputs": [
        {
          "output_type": "stream",
          "name": "stdout",
          "text": [
            "[1, 'a', 3, 4, 5] <class 'list'>\n"
          ]
        }
      ]
    },
    {
      "cell_type": "code",
      "source": [
        "ar = np.array([1,'a',3,4,5])\n",
        "print(ar, type(ar))\n",
        "#동일 타입으로 변경됨, 숫자가 문자로 바뀜"
      ],
      "metadata": {
        "colab": {
          "base_uri": "https://localhost:8080/"
        },
        "id": "dey0Ni1M_qlk",
        "outputId": "083f19dc-ea6e-4c0a-9749-c401140035b9"
      },
      "execution_count": null,
      "outputs": [
        {
          "output_type": "stream",
          "name": "stdout",
          "text": [
            "['1' 'a' '3' '4' '5'] <class 'numpy.ndarray'>\n"
          ]
        }
      ]
    },
    {
      "cell_type": "code",
      "source": [
        "z = np.arange(10)\n",
        "print(z)\n",
        "print(z.size)\n",
        "print(z.itemsize)   #메모리에서 자지하는 바이트 수"
      ],
      "metadata": {
        "colab": {
          "base_uri": "https://localhost:8080/"
        },
        "id": "Ige1gJw59fLQ",
        "outputId": "d5ad93ac-6d07-4e64-daff-307bdf35d370"
      },
      "execution_count": null,
      "outputs": [
        {
          "output_type": "stream",
          "name": "stdout",
          "text": [
            "[0 1 2 3 4 5 6 7 8 9]\n",
            "10\n",
            "8\n"
          ]
        }
      ]
    },
    {
      "cell_type": "code",
      "source": [
        "z = np.arange(10)\n",
        "print(z,'\\n')\n",
        "print(f'{z.size * z.itemsize} bytes') # 8 x 10"
      ],
      "metadata": {
        "colab": {
          "base_uri": "https://localhost:8080/"
        },
        "id": "85hJiAUqARcR",
        "outputId": "3bf78a2e-5416-4d6c-9022-9df97fe4afbf"
      },
      "execution_count": null,
      "outputs": [
        {
          "output_type": "stream",
          "name": "stdout",
          "text": [
            "[0 1 2 3 4 5 6 7 8 9] \n",
            "\n",
            "80 bytes\n"
          ]
        }
      ]
    },
    {
      "cell_type": "code",
      "source": [
        "#numpy는 내부적으로 데이터를 다른 내장 파이썬 객체와 구분된 연속된 메모리 블록에 저장\n",
        "import numpy as np\n",
        "my_arr = np.arange(1000000)\n",
        "my_list = list(range(1000000))"
      ],
      "metadata": {
        "id": "QIoApFZ7AkX5"
      },
      "execution_count": null,
      "outputs": []
    },
    {
      "cell_type": "code",
      "source": [
        "#%time 뒤따르는 한 줄의 코드 실행 시간을 측정하는 매직명령어\n",
        "%time for _ in range(10): my_array2 = my_arr *2"
      ],
      "metadata": {
        "colab": {
          "base_uri": "https://localhost:8080/"
        },
        "id": "COcNpyDrAz2B",
        "outputId": "1963a73b-1a8c-4f0f-e7f2-c85577ab7114"
      },
      "execution_count": null,
      "outputs": [
        {
          "output_type": "stream",
          "name": "stdout",
          "text": [
            "CPU times: user 14.6 ms, sys: 33.2 ms, total: 47.8 ms\n",
            "Wall time: 54.3 ms\n"
          ]
        }
      ]
    },
    {
      "cell_type": "code",
      "source": [
        "%time for _ in range(10): my_list2 = [x*2 for x in my_list]"
      ],
      "metadata": {
        "colab": {
          "base_uri": "https://localhost:8080/"
        },
        "id": "og7cYkmSBqWW",
        "outputId": "9e3a4fbc-552a-4054-e21d-ac9fe09339f3"
      },
      "execution_count": null,
      "outputs": [
        {
          "output_type": "stream",
          "name": "stdout",
          "text": [
            "CPU times: user 987 ms, sys: 415 ms, total: 1.4 s\n",
            "Wall time: 1.69 s\n"
          ]
        }
      ]
    },
    {
      "cell_type": "code",
      "source": [
        "#배열 연산\n",
        "data = np.random.randn(2,3)\n",
        "print(data, '\\n')\n",
        "print(data * 10, '\\n')\n",
        "print(data + data, '\\n')\n"
      ],
      "metadata": {
        "colab": {
          "base_uri": "https://localhost:8080/"
        },
        "id": "YCEHDWiPByTD",
        "outputId": "cabe15c7-ad52-4773-c6d8-9104f2815c29"
      },
      "execution_count": null,
      "outputs": [
        {
          "output_type": "stream",
          "name": "stdout",
          "text": [
            "[[ 1.30022295  0.16118436 -1.25149621]\n",
            " [ 0.39683562  0.58006225 -0.93507555]] \n",
            "\n",
            "[[ 13.00222945   1.61184365 -12.51496215]\n",
            " [  3.96835624   5.80062255  -9.3507555 ]] \n",
            "\n",
            "[[ 2.60044589  0.32236873 -2.50299243]\n",
            " [ 0.79367125  1.16012451 -1.8701511 ]] \n",
            "\n"
          ]
        }
      ]
    },
    {
      "cell_type": "code",
      "source": [
        "print(data.ndim) # 차원"
      ],
      "metadata": {
        "colab": {
          "base_uri": "https://localhost:8080/"
        },
        "id": "M-t8jEUtCgO7",
        "outputId": "ba32ff04-dc0f-4a56-cb13-dc604101b154"
      },
      "execution_count": null,
      "outputs": [
        {
          "output_type": "stream",
          "name": "stdout",
          "text": [
            "2\n"
          ]
        }
      ]
    },
    {
      "cell_type": "markdown",
      "source": [
        "(3, 2, 5) : 배열이 3개의 (2x5) 행렬로 구성\n",
        "- 첫번째 차원(depth): 최상위 레벨에 3개의 배열\n",
        "- 두번째 차원(row): 각 최상위 배열은 2개의 하위 배열\n",
        "- 세번째 차원(columns):각 하위 배열은 5개의 요소"
      ],
      "metadata": {
        "id": "wqMSEApJD3Iw"
      }
    },
    {
      "cell_type": "code",
      "source": [
        "#3차원\n",
        "array3 = np.array([[[1,2,3,4,5],[6,7,8,9,10]],\n",
        "                   [[1,2,3,4,5],[6,7,8,9,10]],\n",
        "                   [[1,2,3,4,5],[6,7,8,9,10]]])\n",
        "print(array3, array3.shape,'\\n')\n",
        "print(type(array3))"
      ],
      "metadata": {
        "colab": {
          "base_uri": "https://localhost:8080/"
        },
        "id": "rAi3xyatC4vU",
        "outputId": "2e290b72-8846-403b-e115-0420f3298b1c"
      },
      "execution_count": null,
      "outputs": [
        {
          "output_type": "stream",
          "name": "stdout",
          "text": [
            "[[[ 1  2  3  4  5]\n",
            "  [ 6  7  8  9 10]]\n",
            "\n",
            " [[ 1  2  3  4  5]\n",
            "  [ 6  7  8  9 10]]\n",
            "\n",
            " [[ 1  2  3  4  5]\n",
            "  [ 6  7  8  9 10]]] (3, 2, 5) \n",
            "\n",
            "<class 'numpy.ndarray'>\n"
          ]
        }
      ]
    },
    {
      "cell_type": "markdown",
      "source": [
        "배열 생성 및 초기화\n",
        "- Numpy는 원하는 shape로 배열을 설정하고 각 요소를 특정 값으로 초기화하는 zeros, ones, full, eye 함수 제공\n",
        "- 파라미터로 입력한 배열과 같은 shape의 배열을 만드는 zeros_like, ones_like, full_like 함수도 제공"
      ],
      "metadata": {
        "id": "CUq63yh4EuQe"
      }
    },
    {
      "cell_type": "code",
      "source": [
        "#zeros가 입력으로 튜플을 받기 때문에 두번 괄호를 사용\n",
        "print(np.zeros(10))\n",
        "print(np.zeros((3,6)))\n",
        "print(np.zeros((2,3,2)))"
      ],
      "metadata": {
        "colab": {
          "base_uri": "https://localhost:8080/"
        },
        "id": "laSrcXdGClre",
        "outputId": "af9ece73-7607-4a51-b985-ee6a9338ac62"
      },
      "execution_count": null,
      "outputs": [
        {
          "output_type": "stream",
          "name": "stdout",
          "text": [
            "[0. 0. 0. 0. 0. 0. 0. 0. 0. 0.]\n",
            "[[0. 0. 0. 0. 0. 0.]\n",
            " [0. 0. 0. 0. 0. 0.]\n",
            " [0. 0. 0. 0. 0. 0.]]\n",
            "[[[0. 0.]\n",
            "  [0. 0.]\n",
            "  [0. 0.]]\n",
            "\n",
            " [[0. 0.]\n",
            "  [0. 0.]\n",
            "  [0. 0.]]]\n"
          ]
        }
      ]
    },
    {
      "cell_type": "code",
      "source": [
        "a = np.ones((2,3,4))\n",
        "a"
      ],
      "metadata": {
        "colab": {
          "base_uri": "https://localhost:8080/"
        },
        "id": "odCOThq-FLYN",
        "outputId": "57cdd698-578e-496c-b2af-e52790952800"
      },
      "execution_count": null,
      "outputs": [
        {
          "output_type": "execute_result",
          "data": {
            "text/plain": [
              "array([[[1., 1., 1., 1.],\n",
              "        [1., 1., 1., 1.],\n",
              "        [1., 1., 1., 1.]],\n",
              "\n",
              "       [[1., 1., 1., 1.],\n",
              "        [1., 1., 1., 1.],\n",
              "        [1., 1., 1., 1.]]])"
            ]
          },
          "metadata": {},
          "execution_count": 34
        }
      ]
    },
    {
      "cell_type": "code",
      "source": [
        "a = np.arange(10).reshape(2,5)\n",
        "z = np.zeros_like(a)\n",
        "o = np.ones_like(a)\n",
        "f = np.full_like(a, 5)\n",
        "print(z,'\\n')\n",
        "print(o, '\\n')\n",
        "print(f)"
      ],
      "metadata": {
        "colab": {
          "base_uri": "https://localhost:8080/"
        },
        "id": "aSNUPiNKFdjh",
        "outputId": "06541218-d78b-4922-c7d0-9f4419ed08a9"
      },
      "execution_count": null,
      "outputs": [
        {
          "output_type": "stream",
          "name": "stdout",
          "text": [
            "[[0 0 0 0 0]\n",
            " [0 0 0 0 0]] \n",
            "\n",
            "[[1 1 1 1 1]\n",
            " [1 1 1 1 1]] \n",
            "\n",
            "[[5 5 5 5 5]\n",
            " [5 5 5 5 5]]\n"
          ]
        }
      ]
    },
    {
      "cell_type": "code",
      "source": [
        "#arange함수 : 파이썬의 range함수의 배열 버전\n",
        "arr3 = np.arange(15)\n",
        "arr3"
      ],
      "metadata": {
        "colab": {
          "base_uri": "https://localhost:8080/"
        },
        "id": "NRLRBqvUGbsE",
        "outputId": "a059b3ef-b7cf-4a66-db02-b9fcde384fb5"
      },
      "execution_count": null,
      "outputs": [
        {
          "output_type": "execute_result",
          "data": {
            "text/plain": [
              "array([ 0,  1,  2,  3,  4,  5,  6,  7,  8,  9, 10, 11, 12, 13, 14])"
            ]
          },
          "metadata": {},
          "execution_count": 37
        }
      ]
    },
    {
      "cell_type": "code",
      "source": [
        "#reshape()\n",
        "arr3.reshape(3,5)"
      ],
      "metadata": {
        "colab": {
          "base_uri": "https://localhost:8080/"
        },
        "id": "MzhdFAbGIsGt",
        "outputId": "b70775b9-e102-4de5-fa84-9d28f618aac6"
      },
      "execution_count": null,
      "outputs": [
        {
          "output_type": "execute_result",
          "data": {
            "text/plain": [
              "array([[ 0,  1,  2,  3,  4],\n",
              "       [ 5,  6,  7,  8,  9],\n",
              "       [10, 11, 12, 13, 14]])"
            ]
          },
          "metadata": {},
          "execution_count": 38
        }
      ]
    },
    {
      "cell_type": "code",
      "source": [
        "arr_1d = np.arange(6)\n",
        "arr_2d = arr_1d.reshape(2,3)\n",
        "arr_3d = arr_1d.reshape(2,3,1)\n",
        "print(arr_1d, '\\n')\n",
        "print(arr_2d, '\\n')\n",
        "print(arr_3d)"
      ],
      "metadata": {
        "colab": {
          "base_uri": "https://localhost:8080/"
        },
        "id": "R0kIkGBtIwtd",
        "outputId": "8f050b74-7e7f-4303-fc2a-c19f55448e73"
      },
      "execution_count": null,
      "outputs": [
        {
          "output_type": "stream",
          "name": "stdout",
          "text": [
            "[0 1 2 3 4 5] \n",
            "\n",
            "[[0 1 2]\n",
            " [3 4 5]] \n",
            "\n",
            "[[[0]\n",
            "  [1]\n",
            "  [2]]\n",
            "\n",
            " [[3]\n",
            "  [4]\n",
            "  [5]]]\n"
          ]
        }
      ]
    },
    {
      "cell_type": "code",
      "source": [
        "ar = np.arange(12)\n",
        "print(\"1d => 2d\\n\", ar.reshape(3, -1),'\\n')\n",
        "print(\"1d => 2d\\n\", ar.reshape(3,4),'\\n')\n",
        "print(\"1d => 3d\\n\", ar.reshape(2,3,-1), '\\n')\n",
        "print(\"1d => 3d\\n\", ar.reshape(2,3,2))"
      ],
      "metadata": {
        "colab": {
          "base_uri": "https://localhost:8080/"
        },
        "id": "ZSeQYs01JNsn",
        "outputId": "3729fcf3-eabb-4ee8-ecef-cc708676e548"
      },
      "execution_count": null,
      "outputs": [
        {
          "output_type": "stream",
          "name": "stdout",
          "text": [
            "1d => 2d\n",
            " [[ 0  1  2  3]\n",
            " [ 4  5  6  7]\n",
            " [ 8  9 10 11]] \n",
            "\n",
            "1d => 2d\n",
            " [[ 0  1  2  3]\n",
            " [ 4  5  6  7]\n",
            " [ 8  9 10 11]] \n",
            "\n",
            "1d => 3d\n",
            " [[[ 0  1]\n",
            "  [ 2  3]\n",
            "  [ 4  5]]\n",
            "\n",
            " [[ 6  7]\n",
            "  [ 8  9]\n",
            "  [10 11]]] \n",
            "\n",
            "1d => 3d\n",
            " [[[ 0  1]\n",
            "  [ 2  3]\n",
            "  [ 4  5]]\n",
            "\n",
            " [[ 6  7]\n",
            "  [ 8  9]\n",
            "  [10 11]]]\n"
          ]
        }
      ]
    },
    {
      "cell_type": "code",
      "source": [
        "ar = np.arange(30).reshape(2,-1)\n",
        "ar"
      ],
      "metadata": {
        "colab": {
          "base_uri": "https://localhost:8080/"
        },
        "id": "9441QoF3KHO4",
        "outputId": "7aed0416-e9de-41e0-c6e6-74240e493a43"
      },
      "execution_count": null,
      "outputs": [
        {
          "output_type": "execute_result",
          "data": {
            "text/plain": [
              "array([[ 0,  1,  2,  3,  4,  5,  6,  7,  8,  9, 10, 11, 12, 13, 14],\n",
              "       [15, 16, 17, 18, 19, 20, 21, 22, 23, 24, 25, 26, 27, 28, 29]])"
            ]
          },
          "metadata": {},
          "execution_count": 45
        }
      ]
    },
    {
      "cell_type": "code",
      "source": [
        "ar21 = ar.reshape(-1,)\n",
        "print(ar21,'\\n')\n",
        "ar23 = ar.reshape(-1,2,5)\n",
        "print(ar23,)"
      ],
      "metadata": {
        "colab": {
          "base_uri": "https://localhost:8080/"
        },
        "id": "mdBNLFX1KqS6",
        "outputId": "b33c575a-ad11-4aea-c7b6-2d167cbe0e9a"
      },
      "execution_count": null,
      "outputs": [
        {
          "output_type": "stream",
          "name": "stdout",
          "text": [
            "[ 0  1  2  3  4  5  6  7  8  9 10 11 12 13 14 15 16 17 18 19 20 21 22 23\n",
            " 24 25 26 27 28 29] \n",
            "\n",
            "[[[ 0  1  2  3  4]\n",
            "  [ 5  6  7  8  9]]\n",
            "\n",
            " [[10 11 12 13 14]\n",
            "  [15 16 17 18 19]]\n",
            "\n",
            " [[20 21 22 23 24]\n",
            "  [25 26 27 28 29]]]\n"
          ]
        }
      ]
    },
    {
      "cell_type": "code",
      "source": [
        "a = np.arange(6)\n",
        "reshaped = a.reshape(2,3)\n",
        "print(\"Reshaped Array:\\n\", reshaped)\n",
        "\n",
        "resized = np.resize(a, (3,2))\n",
        "print(\"Resized Array:\\n\", resized)"
      ],
      "metadata": {
        "colab": {
          "base_uri": "https://localhost:8080/"
        },
        "id": "dHOA-i_iK2ne",
        "outputId": "9a287288-0728-4609-8236-5d51663fc743"
      },
      "execution_count": null,
      "outputs": [
        {
          "output_type": "stream",
          "name": "stdout",
          "text": [
            "Reshaped Array:\n",
            " [[0 1 2]\n",
            " [3 4 5]]\n",
            "Resized Array:\n",
            " [[0 1]\n",
            " [2 3]\n",
            " [4 5]]\n"
          ]
        }
      ]
    },
    {
      "cell_type": "code",
      "source": [
        "a = np.arange(6)\n",
        "reshaped = a.reshape(2,3)\n",
        "reshaped"
      ],
      "metadata": {
        "colab": {
          "base_uri": "https://localhost:8080/"
        },
        "id": "3i7njGPCLnp0",
        "outputId": "5ce15c3b-ba7c-4d4f-d327-6781e4b7bcd9"
      },
      "execution_count": null,
      "outputs": [
        {
          "output_type": "execute_result",
          "data": {
            "text/plain": [
              "array([[0, 1, 2],\n",
              "       [3, 4, 5]])"
            ]
          },
          "metadata": {},
          "execution_count": 49
        }
      ]
    },
    {
      "cell_type": "code",
      "source": [
        "#Splitting : 배열을 여러 하위 배여롤 나눈다\n",
        "split1, split2 = np.split(reshaped,2)\n",
        "print(\"Split Arrays:\\n\", split1, '\\n', split2)"
      ],
      "metadata": {
        "colab": {
          "base_uri": "https://localhost:8080/"
        },
        "id": "G81oCHyhMOd5",
        "outputId": "dce20808-456e-4814-c371-1724c28956ef"
      },
      "execution_count": null,
      "outputs": [
        {
          "output_type": "stream",
          "name": "stdout",
          "text": [
            "Split Arrays:\n",
            " [[0 1 2]] \n",
            " [[3 4 5]]\n"
          ]
        }
      ]
    },
    {
      "cell_type": "code",
      "source": [
        "a = np.array([[1,2],[3,4]])\n",
        "b = np.array([[5,6]])\n",
        "#Concatenating\n",
        "concatenated = np.concatenate((a,b), axis=0)\n",
        "print(\"Concatenated Array:\\n\", concatenated,'\\n')\n",
        "\n",
        "#stacking\n",
        "stacked = np.vstack((b,a))\n",
        "print(\"Stacked Array:\\n\", stacked)"
      ],
      "metadata": {
        "colab": {
          "base_uri": "https://localhost:8080/"
        },
        "id": "lUCyrDEsMi9j",
        "outputId": "afaec95f-1915-4118-9332-87f32b05249d"
      },
      "execution_count": null,
      "outputs": [
        {
          "output_type": "stream",
          "name": "stdout",
          "text": [
            "Concatenated Array:\n",
            " [[1 2]\n",
            " [3 4]\n",
            " [5 6]] \n",
            "\n",
            "Stacked Array:\n",
            " [[5 6]\n",
            " [1 2]\n",
            " [3 4]]\n"
          ]
        }
      ]
    },
    {
      "cell_type": "markdown",
      "source": [
        "Q. 1차원 배열을 생성해서 2차원 배열로 변환한 후 다음 사항을 수행하세요\n",
        "- 2차원 배열을 리스트로 타입 변경하세요.\n",
        "- 리스트를 다시 배열로 변경하세요."
      ],
      "metadata": {
        "id": "JjzL-IHuN1gK"
      }
    },
    {
      "cell_type": "code",
      "source": [
        "array1 = np.arange(30)\n",
        "array3d = array1.reshape(3,-1)\n",
        "print(array3d, '\\n', type(array3d),'n')\n",
        "li = array3d.tolist()\n",
        "print(\"\\n배열을 리스트로 변환\\n\",li, '\\n', type(li))\n",
        "li_ar = np.array(li)\n",
        "print(\"\\n리스트를 배열로 변환\\n\",li_ar, '\\n', type(li_ar))\n"
      ],
      "metadata": {
        "colab": {
          "base_uri": "https://localhost:8080/"
        },
        "id": "b2JleembNdH8",
        "outputId": "f13d24f0-be24-4466-a967-de92bbad9a12"
      },
      "execution_count": null,
      "outputs": [
        {
          "output_type": "stream",
          "name": "stdout",
          "text": [
            "[[ 0  1  2  3  4  5  6  7  8  9]\n",
            " [10 11 12 13 14 15 16 17 18 19]\n",
            " [20 21 22 23 24 25 26 27 28 29]] \n",
            " <class 'numpy.ndarray'> n\n",
            "\n",
            "배열을 리스트로 변환\n",
            " [[0, 1, 2, 3, 4, 5, 6, 7, 8, 9], [10, 11, 12, 13, 14, 15, 16, 17, 18, 19], [20, 21, 22, 23, 24, 25, 26, 27, 28, 29]] \n",
            " <class 'list'>\n",
            "\n",
            "리스트를 배열로 변환\n",
            " [[ 0  1  2  3  4  5  6  7  8  9]\n",
            " [10 11 12 13 14 15 16 17 18 19]\n",
            " [20 21 22 23 24 25 26 27 28 29]] \n",
            " <class 'numpy.ndarray'>\n"
          ]
        }
      ]
    },
    {
      "cell_type": "markdown",
      "source": [
        "Q. 두 배열 [[1, 2], [3, 4]]와 [[5, 6], [7, 8]]를 가로로 연결하기"
      ],
      "metadata": {
        "id": "uFOWonLpOQwX"
      }
    },
    {
      "cell_type": "code",
      "source": [
        "a =  [[1, 2], [3, 4]]\n",
        "b = [[5, 6], [7, 8]]\n",
        "stacked = np.hstack((a,b))\n",
        "print(\"Stacked Array:\\n\", stacked)"
      ],
      "metadata": {
        "colab": {
          "base_uri": "https://localhost:8080/"
        },
        "id": "2ZVGf7ysOSNz",
        "outputId": "1f3deecf-cb26-45b5-f427-38ee44e4c325"
      },
      "execution_count": null,
      "outputs": [
        {
          "output_type": "stream",
          "name": "stdout",
          "text": [
            "Stacked Array:\n",
            " [[1 2 5 6]\n",
            " [3 4 7 8]]\n"
          ]
        }
      ]
    },
    {
      "cell_type": "code",
      "source": [
        "a =  [[1, 2], [3, 4]]\n",
        "b = [[5, 6], [7, 8]]\n",
        "stacked = np.concatenate((a,b), axis=1)\n",
        "print(\"Stacked Array:\\n\", stacked)"
      ],
      "metadata": {
        "colab": {
          "base_uri": "https://localhost:8080/"
        },
        "id": "RjMt77KFRXrr",
        "outputId": "340f071a-5864-4387-953a-201536a9ed9c"
      },
      "execution_count": null,
      "outputs": [
        {
          "output_type": "stream",
          "name": "stdout",
          "text": [
            "Stacked Array:\n",
            " [[1 2 5 6]\n",
            " [3 4 7 8]]\n"
          ]
        }
      ]
    },
    {
      "cell_type": "markdown",
      "source": [
        "Q.두 배열 [[1, 2, 3]]와 [[4, 5, 6]]을 세로로 연결하기"
      ],
      "metadata": {
        "id": "BfqkxGHlOSiG"
      }
    },
    {
      "cell_type": "code",
      "source": [
        "a =   [[1, 2, 3]]\n",
        "b = [[4, 5, 6]]\n",
        "stacked = np.vstack((a,b))\n",
        "print(\"Stacked Array:\\n\", stacked)"
      ],
      "metadata": {
        "colab": {
          "base_uri": "https://localhost:8080/"
        },
        "id": "R_m-6wTIOWBP",
        "outputId": "30a5aea5-2995-4208-d7de-845425a964fe"
      },
      "execution_count": null,
      "outputs": [
        {
          "output_type": "stream",
          "name": "stdout",
          "text": [
            "Stacked Array:\n",
            " [[1 2 3]\n",
            " [4 5 6]]\n"
          ]
        }
      ]
    },
    {
      "cell_type": "code",
      "source": [
        "a =   [[1, 2, 3]]\n",
        "b = [[4, 5, 6]]\n",
        "stacked = np.concatenate((a,b), axis=0)\n",
        "print(\"Stacked Array:\\n\", stacked)"
      ],
      "metadata": {
        "colab": {
          "base_uri": "https://localhost:8080/"
        },
        "id": "zh4aEIfZRkEo",
        "outputId": "31bcaff9-9b98-4806-b041-4a3956a7e669"
      },
      "execution_count": null,
      "outputs": [
        {
          "output_type": "stream",
          "name": "stdout",
          "text": [
            "Stacked Array:\n",
            " [[1 2 3]\n",
            " [4 5 6]]\n"
          ]
        }
      ]
    },
    {
      "cell_type": "markdown",
      "source": [
        "Q. 배열 [0, 1, 2, 3, 4, 5, 6, 7, 8]를 세 부분으로 나누기"
      ],
      "metadata": {
        "id": "BiaO9Wv_OWZO"
      }
    },
    {
      "cell_type": "code",
      "source": [
        "a = [0, 1, 2, 3, 4, 5, 6, 7, 8]\n",
        "arr = np.array(a)\n",
        "print(arr)\n",
        "a3 = arr.reshape((3,3))\n",
        "print(a3)"
      ],
      "metadata": {
        "colab": {
          "base_uri": "https://localhost:8080/"
        },
        "id": "mD2Fh-pYPsZL",
        "outputId": "143ae203-ca43-489f-d7e5-6634547dc375"
      },
      "execution_count": null,
      "outputs": [
        {
          "output_type": "stream",
          "name": "stdout",
          "text": [
            "[0 1 2 3 4 5 6 7 8]\n",
            "[[0 1 2]\n",
            " [3 4 5]\n",
            " [6 7 8]]\n"
          ]
        }
      ]
    },
    {
      "cell_type": "code",
      "source": [
        "a = [0, 1, 2, 3, 4, 5, 6, 7, 8]\n",
        "arr = np.array(a)\n",
        "print(arr)\n",
        "a3 = arr.reshape((3,-1))\n",
        "print(a3)\n",
        "print(a3.size)\n",
        "print(a3.ndim)"
      ],
      "metadata": {
        "colab": {
          "base_uri": "https://localhost:8080/"
        },
        "id": "Ak3-fUEyP-Ba",
        "outputId": "df22278f-8445-4221-85eb-cf9235f598b2"
      },
      "execution_count": null,
      "outputs": [
        {
          "output_type": "stream",
          "name": "stdout",
          "text": [
            "[0 1 2 3 4 5 6 7 8]\n",
            "[[0 1 2]\n",
            " [3 4 5]\n",
            " [6 7 8]]\n",
            "9\n",
            "2\n"
          ]
        }
      ]
    },
    {
      "cell_type": "code",
      "source": [
        "#ex\n",
        "a = [0, 1, 2, 3, 4, 5, 6, 7, 8]\n",
        "arr = np.array(a)\n",
        "a1,a2,a3 = np.split(arr,3)\n",
        "print(a1)\n",
        "print(a2)\n",
        "print(a3)"
      ],
      "metadata": {
        "colab": {
          "base_uri": "https://localhost:8080/"
        },
        "id": "IXFd4LqpRUmi",
        "outputId": "fdf7982d-1672-450f-bb73-30a21130012c"
      },
      "execution_count": null,
      "outputs": [
        {
          "output_type": "stream",
          "name": "stdout",
          "text": [
            "[0 1 2]\n",
            "[3 4 5]\n",
            "[6 7 8]\n"
          ]
        }
      ]
    },
    {
      "cell_type": "code",
      "source": [
        "#기본 통계 연산\n",
        "import numpy as np\n",
        "\n",
        "data = np.array([1,2,3,4,5])\n",
        "print(np.mean(data))\n",
        "print(np.median(data))\n",
        "print(np.std(data))"
      ],
      "metadata": {
        "colab": {
          "base_uri": "https://localhost:8080/"
        },
        "id": "poBUtq9VXTqn",
        "outputId": "5582c1ab-d1ae-44f2-aa8d-090ff559b2c6"
      },
      "execution_count": null,
      "outputs": [
        {
          "output_type": "stream",
          "name": "stdout",
          "text": [
            "3.0\n",
            "3.0\n",
            "1.4142135623730951\n"
          ]
        }
      ]
    },
    {
      "cell_type": "code",
      "source": [
        "#수학적 함수\n",
        "\n",
        "angles = np.array([0, np.pi/2, np.pi])\n",
        "angles"
      ],
      "metadata": {
        "colab": {
          "base_uri": "https://localhost:8080/"
        },
        "id": "4tnqaVZiX1As",
        "outputId": "5f70e0b8-1877-4f69-867d-43da25f11eb1"
      },
      "execution_count": null,
      "outputs": [
        {
          "output_type": "execute_result",
          "data": {
            "text/plain": [
              "array([0.        , 1.57079633, 3.14159265])"
            ]
          },
          "metadata": {},
          "execution_count": 81
        }
      ]
    },
    {
      "cell_type": "code",
      "source": [
        "print('sine:', np.sin(angles))\n",
        "\n",
        "print('cosine:', np.cos(angles))  #6.123234e-17 - 0이라 봐야함\n",
        "\n",
        "print('Exponential:', np.exp([1,2,3,]))"
      ],
      "metadata": {
        "colab": {
          "base_uri": "https://localhost:8080/"
        },
        "id": "FWwhPaVOYWcc",
        "outputId": "c808687b-a6a2-4fb6-bb72-6e3d70536e63"
      },
      "execution_count": null,
      "outputs": [
        {
          "output_type": "stream",
          "name": "stdout",
          "text": [
            "sine: [0.0000000e+00 1.0000000e+00 1.2246468e-16]\n",
            "cosine: [ 1.000000e+00  6.123234e-17 -1.000000e+00]\n",
            "Exponential: [ 2.71828183  7.3890561  20.08553692]\n"
          ]
        }
      ]
    },
    {
      "cell_type": "code",
      "source": [
        "#부동소수점 연산에서 발생하는 미세한 오차로 0에 가까운 매우 작은 값으로 나올수 있음\n",
        "pi_value = np.pi\n",
        "result = np.sin(pi_value)\n",
        "print(result)"
      ],
      "metadata": {
        "colab": {
          "base_uri": "https://localhost:8080/"
        },
        "id": "OYLZ3GkceIqz",
        "outputId": "6cc4558b-b194-49c6-f4fe-f5d9e4d18102"
      },
      "execution_count": null,
      "outputs": [
        {
          "output_type": "stream",
          "name": "stdout",
          "text": [
            "1.2246467991473532e-16\n"
          ]
        }
      ]
    },
    {
      "cell_type": "code",
      "source": [
        "/content/drive/MyDrive/kdt_240424/m3_분석라이브러리/numpy/KakaoTalk_20240605_121559345.jpg"
      ],
      "metadata": {
        "id": "S81KRFkOZBTW"
      },
      "execution_count": null,
      "outputs": []
    },
    {
      "cell_type": "code",
      "source": [
        "from PIL import Image\n",
        "import matplotlib.pyplot as plt\n",
        "\n",
        "# Replace 'image_name.jpg' with your image file's name\n",
        "image = Image.open('/content/drive/MyDrive/kdt_240424/m3_분석라이브러리/numpy/KakaoTalk_20240605_121559345.jpg')\n",
        "plt.imshow(image)\n",
        "plt.axis('off')  # Turn off axis numbers\n",
        "plt.show()"
      ],
      "metadata": {
        "colab": {
          "base_uri": "https://localhost:8080/",
          "height": 350
        },
        "id": "23SSvMMwZ4Lz",
        "outputId": "bd5a8446-e090-4f1d-b76e-480a2bf30df5"
      },
      "execution_count": null,
      "outputs": [
        {
          "output_type": "display_data",
          "data": {
            "text/plain": [
              "<Figure size 640x480 with 1 Axes>"
            ],
            "image/png": "[encoded data removed]"
          },
          "metadata": {}
        }
      ]
    },
    {
      "cell_type": "markdown",
      "source": [
        "NumPy에서 부호없는 양수 정수형(unsigned integer)\n",
        "\n",
        "음수가 없고 0과 양의 정수만을 표현할 수 있는 데이터 유형.<br>\n",
        "이는 일반적으로 데이터를 저장할 때 필요한 메모리 크기를 최적화하는 데 사용.<br>  \n",
        "부호없는 정수형 데이터 타입은 numpy 모듈에서 제공하며, 각 타입은 표현할 수 있는 값의 범위에 따라 구분. <br>\n",
        "\n",
        "numpy.uint8: 8비트 부호없는 정수<br>\n",
        "값의 범위: 0 ~ 255<br>\n",
        "예: numpy.uint8(255)<br>\n",
        "\n",
        "numpy.uint16: 16비트 부호없는 정수<br>\n",
        "값의 범위: 0 ~ 65535<br>\n",
        "예: numpy.uint16(65535)<br>\n",
        "\n",
        "numpy.uint32: 32비트 부호없는 정수<br>\n",
        "값의 범위: 0 ~ 4294967295<br>\n",
        "예: numpy.uint32(4294967295)<br>\n",
        "\n",
        "numpy.uint64: 64비트 부호없는 정수<br>\n",
        "값의 범위: 0 ~ 18446744073709551615<br>\n",
        "예: numpy.uint64(18446744073709551615)<br>\n",
        "\n",
        "이러한 부호없는 정수형은 ***`이미지 처리, 바이너리 데이터 저장, 비트 연산`*** 등에서 자주 사용. 예를 들어, 8비트 부호없는 정수는 이미지의 픽셀 값을 표현하는 데 유용하며, 16비트 부호없는 정수는 더 큰 범위의 데이터를 처리할 때 유용."
      ],
      "metadata": {
        "id": "jRLo6AUNajwq"
      }
    },
    {
      "cell_type": "code",
      "source": [
        "arr1 = np.array([1,2,3], dtype=np.float64)\n",
        "arr2 = np.array([1,2,3], dtype=np.int32)\n",
        "arr3 = np.array([1,2,3])\n",
        "print(arr1.dtype)\n",
        "print(arr2.dtype)\n",
        "print(arr3.dtype)"
      ],
      "metadata": {
        "colab": {
          "base_uri": "https://localhost:8080/"
        },
        "id": "QxjsEgzMafHQ",
        "outputId": "95a7d46e-c096-4269-f75f-e383fc1e344f"
      },
      "execution_count": null,
      "outputs": [
        {
          "output_type": "stream",
          "name": "stdout",
          "text": [
            "float64\n",
            "int32\n",
            "int64\n"
          ]
        }
      ]
    },
    {
      "cell_type": "code",
      "source": [
        "#데이터 타입 변경\n",
        "arr = np.array([1,2,3,4,5])\n",
        "print(arr.dtype)\n",
        "float_arr = arr.astype(np.float64)\n",
        "print(float_arr.dtype)"
      ],
      "metadata": {
        "colab": {
          "base_uri": "https://localhost:8080/"
        },
        "id": "U-SpZ_Src3m8",
        "outputId": "9aff894f-90fe-49a1-c46d-38bab66c510d"
      },
      "execution_count": null,
      "outputs": [
        {
          "output_type": "stream",
          "name": "stdout",
          "text": [
            "int64\n",
            "float64\n"
          ]
        }
      ]
    },
    {
      "cell_type": "code",
      "source": [
        "int_array = np.arange(10)\n",
        "calibers = np.array([.22,.270,.357,.380,.44,.50], dtype=np.float64)\n",
        "int_array = int_array.astype(calibers.dtype)\n",
        "print(int_array, int_array.dtype)"
      ],
      "metadata": {
        "colab": {
          "base_uri": "https://localhost:8080/"
        },
        "id": "3Epwu1AndE6D",
        "outputId": "dfc70d9c-7763-4799-909d-dc2756557feb"
      },
      "execution_count": null,
      "outputs": [
        {
          "output_type": "stream",
          "name": "stdout",
          "text": [
            "[0. 1. 2. 3. 4. 5. 6. 7. 8. 9.] float64\n"
          ]
        }
      ]
    },
    {
      "cell_type": "code",
      "source": [
        "#Q. int_array의 dtype을 정수(int32)로 변경\n",
        "int_ar = int_array.astype(np.int32)\n",
        "print(int_ar, int_ar.dtype)"
      ],
      "metadata": {
        "colab": {
          "base_uri": "https://localhost:8080/"
        },
        "id": "bK7VhRg-dswm",
        "outputId": "f166166f-8e8d-477a-b109-e7ac65b6d860"
      },
      "execution_count": null,
      "outputs": [
        {
          "output_type": "stream",
          "name": "stdout",
          "text": [
            "[0 1 2 3 4 5 6 7 8 9] int32\n"
          ]
        }
      ]
    },
    {
      "cell_type": "markdown",
      "source": [
        "int32 와 int64의 차이 : 정수의 범위와 메모리 사용량\n",
        "1. int32\n",
        "- 32비트 정수를 저장\n",
        "- 범위: -2,147,483,648에서 2,147,483,647까지의 정수를 표현\n",
        "2. int64\n",
        "- 64비트 정수를 저장\n",
        "- 범위: -9,223,372,036,854,775,808에서 9,223,372,036,854,775,807까지의 정수를 표현"
      ],
      "metadata": {
        "id": "wxMRSjuyeFUA"
      }
    },
    {
      "cell_type": "markdown",
      "source": [
        "이것을 벗어나는 경우가 있어서 에러가 발생할 수 있다."
      ],
      "metadata": {
        "id": "Q4_jqQ20eufr"
      }
    },
    {
      "cell_type": "code",
      "source": [
        "#zeros 함수: shape과 dtype을 입력받아 0으로 초기화된 배열을 만들어준다.\n",
        "#zeros 함수: shape과 dtype을 입력받아 초기회되지 않은 배열을 만들어준다.\n",
        "#특정 크기와 데이터 타입을 가진 새로운 배열을 빠르게 생성, 배열의 요소는 임의의 값으로 채워진다.(메모리에 이미 존재하는 값)\n",
        "print(np.empty(shape=(10,), dtype=np.int8))\n",
        "print(np.zeros(shape=(10,), dtype=np.int8))"
      ],
      "metadata": {
        "colab": {
          "base_uri": "https://localhost:8080/"
        },
        "id": "HUkXL-mUd__g",
        "outputId": "c4a8493f-418b-4b05-9750-d90f6dcd99c5"
      },
      "execution_count": null,
      "outputs": [
        {
          "output_type": "stream",
          "name": "stdout",
          "text": [
            "[0 1 1 1 1 1 1 1 1 1]\n",
            "[0 0 0 0 0 0 0 0 0 0]\n"
          ]
        }
      ]
    },
    {
      "cell_type": "code",
      "source": [
        "empty_uint32 = np.empty(8, dtype='u4')\n",
        "empty_uint32"
      ],
      "metadata": {
        "colab": {
          "base_uri": "https://localhost:8080/"
        },
        "id": "i5NwjoxJf61G",
        "outputId": "cb243b51-a195-415d-f1cd-0440d7f6307e"
      },
      "execution_count": null,
      "outputs": [
        {
          "output_type": "execute_result",
          "data": {
            "text/plain": [
              "array([         0, 3219128320,          0, 1081980928,          0,\n",
              "       1082622976,          0, 3219128320], dtype=uint32)"
            ]
          },
          "metadata": {},
          "execution_count": 91
        }
      ]
    },
    {
      "cell_type": "code",
      "source": [
        "#문자열 타입으로 배열 만들기\n",
        "arr = np.array([1,2,3,4,], dtype='S')\n",
        "print(arr) #b는 바이트 표시\n",
        "print(arr.dtype)"
      ],
      "metadata": {
        "colab": {
          "base_uri": "https://localhost:8080/"
        },
        "id": "GgH9ymWKgDj0",
        "outputId": "bc50bc4a-7c4c-4b9c-d3ca-96027bab316a"
      },
      "execution_count": null,
      "outputs": [
        {
          "output_type": "stream",
          "name": "stdout",
          "text": [
            "[b'1' b'2' b'3' b'4']\n",
            "|S1\n"
          ]
        }
      ]
    },
    {
      "cell_type": "code",
      "source": [
        "num_string = np.array(['1.25','-9.5'], dtype = np.string_) #np.string_ ,dtype='S' 동일 , 바이트 문자열\n",
        "print(num_string)\n",
        "num_string.astype(float)"
      ],
      "metadata": {
        "colab": {
          "base_uri": "https://localhost:8080/"
        },
        "id": "UN-M87x5gW03",
        "outputId": "95488706-3512-4f63-ddfd-4b0b9f12be68"
      },
      "execution_count": null,
      "outputs": [
        {
          "output_type": "stream",
          "name": "stdout",
          "text": [
            "[b'1.25' b'-9.5']\n"
          ]
        },
        {
          "output_type": "execute_result",
          "data": {
            "text/plain": [
              "array([ 1.25, -9.5 ])"
            ]
          },
          "metadata": {},
          "execution_count": 93
        }
      ]
    },
    {
      "cell_type": "markdown",
      "source": [
        "##파이썬 랜덤\n",
        "import random\n",
        "print(random.random(),'\\n') # 0.0 <= x < 1.0 사이\n",
        "print(random.randint(1,10),'\\n') # 1에서 10사이의 정수중에서 난수 값 리턴\n",
        "print(random.uniform(10,20), '\\n') # min max 사이 float 리턴\n",
        "print(random.randrange(10), '\\n') # 지정 범위 int 리턴\n",
        "print(random.choice([1,2,3,4,5]),'\\n') # 리스트 내부에 있는 요소를 랜덤하게 선택\n",
        "li = [1,2,3,4,5]\n",
        "print(random.sample(li,3),'\\n') # 리스트 요소를 중복이 안되게 리턴\n",
        "random.shuffle(li) # 리스트 요소를 다시 섞어서 리턴\n",
        "print(li)"
      ],
      "metadata": {
        "id": "nnjVldJGzFLt"
      }
    },
    {
      "cell_type": "markdown",
      "source": [
        "## 넘파이 랜덤\n",
        "\n",
        "[Random 함수]  \n",
        "\n",
        "- np.random.seed       # seed를 통한 난수 생성\n",
        "- np.random.randint    # 균일분포의 정수 난수 1개 생성\n",
        "- np.random.rand       # 0부터 1사이의 균일분포에서 난수 매트릭스 array 생성\n",
        "- np.random.randn      # 가우시안 표준 정규 분포에서 난수 매트릭스 array 생성 -3에서 3사이\n",
        "- np.random.shuffle    # 기존의 데이터의 순서 바꾸기\n",
        "- np.random.choice     # 기존의 데이터에서 sampling"
      ],
      "metadata": {
        "id": "UWx_8j_azj_e"
      }
    },
    {
      "cell_type": "code",
      "source": [
        "#균일 분포 array\n",
        "print(np.random.rand(5),'\\n')  #1차원\n",
        "print(np.random.rand(5,5)) #2차원"
      ],
      "metadata": {
        "colab": {
          "base_uri": "https://localhost:8080/"
        },
        "id": "LAewkTJig4FV",
        "outputId": "5a0683ff-429a-4465-f441-8b98519e0991"
      },
      "execution_count": null,
      "outputs": [
        {
          "output_type": "stream",
          "name": "stdout",
          "text": [
            "[0.45021301 0.83800679 0.01816038 0.55276852 0.22905494] \n",
            "\n",
            "[[0.61278706 0.19506298 0.77116009 0.44185918 0.90381637]\n",
            " [0.32275246 0.0766501  0.18537271 0.42821984 0.43530948]\n",
            " [0.68820368 0.18108826 0.55085163 0.98393335 0.52688498]\n",
            " [0.27003366 0.2681499  0.79407026 0.89093255 0.99266806]\n",
            " [0.62698258 0.13779147 0.78359737 0.91999845 0.43092789]]\n"
          ]
        }
      ]
    },
    {
      "cell_type": "code",
      "source": [
        "#표준 정규 분포 array\n",
        "print(np.random.randn(5),'\\n')  #1차원\n",
        "print(np.random.randn(5,5)) #2차원"
      ],
      "metadata": {
        "colab": {
          "base_uri": "https://localhost:8080/"
        },
        "id": "KftaGxi2z_KH",
        "outputId": "e721c14c-fab2-48bd-edaf-b1a331b1b894"
      },
      "execution_count": null,
      "outputs": [
        {
          "output_type": "stream",
          "name": "stdout",
          "text": [
            "[ 0.63735815  1.76873795  1.44918937 -0.00873803 -0.63016292] \n",
            "\n",
            "[[-0.36432366 -1.17020892 -0.12254121 -0.24302249  0.61606746]\n",
            " [-0.47253685 -2.40887058  1.25793172  2.14301292  0.09822252]\n",
            " [-0.7656479   0.33402235  0.31351376  1.96837704 -0.20247308]\n",
            " [ 1.25787508 -0.69636069 -0.33290347  0.87559379 -0.91873933]\n",
            " [ 1.19507106 -0.76944805 -0.89847174 -0.14496842 -1.06432823]]\n"
          ]
        }
      ]
    },
    {
      "cell_type": "code",
      "source": [
        "#np.choice\n",
        "#중복 허용하지 않는 샘플링은 choice\n",
        "\n",
        "print(np.random.choice([1,2,3,4,5],10))\n",
        "print(np.random.choice([1,2,3,4,5]))\n",
        "print(np.random.choice(10,5,replace=False))  #replace=True는 중복 불가\n",
        "print(np.random.choice(10,9))"
      ],
      "metadata": {
        "colab": {
          "base_uri": "https://localhost:8080/"
        },
        "id": "Zs4HCRk00Yg9",
        "outputId": "43508132-9031-42e1-9bb9-47c77737d5e2"
      },
      "execution_count": null,
      "outputs": [
        {
          "output_type": "stream",
          "name": "stdout",
          "text": [
            "[2 4 5 4 4 3 1 4 2 4]\n",
            "5\n",
            "[8 7 9 1 6]\n",
            "[8 3 2 8 9 4 0 8 9]\n"
          ]
        }
      ]
    },
    {
      "cell_type": "code",
      "source": [
        "#np.uniform : 균일 분포를 따르는 난수 생성\n",
        "print(np.random.uniform(1,2,3),'\\n') #1과 2사이에 3개\n",
        "print(np.random.uniform(0,1,(2,3)),'\\n')    #0과1사이에 2행3열\n",
        "print(np.random.uniform(1,2,10)) #1과2사이에 10개"
      ],
      "metadata": {
        "colab": {
          "base_uri": "https://localhost:8080/"
        },
        "id": "5PVLIglW1Bts",
        "outputId": "4e67bce7-e826-4ac4-ae8d-f8c16ce96c47"
      },
      "execution_count": null,
      "outputs": [
        {
          "output_type": "stream",
          "name": "stdout",
          "text": [
            "[1.00393388 1.65050761 1.00287131] \n",
            "\n",
            "[[0.28137747 0.61850217 0.84540796]\n",
            " [0.0246535  0.66146864 0.03518575]] \n",
            "\n",
            "[1.46326115 1.82109881 1.21692209 1.07485048 1.14037178 1.56410424\n",
            " 1.89714567 1.09275083 1.43930691 1.27690149]\n"
          ]
        }
      ]
    },
    {
      "cell_type": "markdown",
      "source": [
        "#파이썬 랜덤 샘플\n",
        "print(random.sample(li,3),'\\n') # 리스트 요소를 중복이 안되게 리턴"
      ],
      "metadata": {
        "id": "3CLg06hW2ID4"
      }
    },
    {
      "cell_type": "code",
      "source": [
        "#파이썬 샘플은 중복 허용하지 않음\n",
        "\n",
        "import random\n",
        "\n",
        "pop = [1,2,3,4,5]\n",
        "sample = random.sample(pop, 3)\n",
        "print(sample)"
      ],
      "metadata": {
        "colab": {
          "base_uri": "https://localhost:8080/"
        },
        "id": "dSzvUPKs1Y6a",
        "outputId": "63dbe82f-1162-4fdc-e57c-86d0baadda3e"
      },
      "execution_count": null,
      "outputs": [
        {
          "output_type": "stream",
          "name": "stdout",
          "text": [
            "[3, 1, 4]\n"
          ]
        }
      ]
    },
    {
      "cell_type": "code",
      "source": [
        "#넘파이 랜덤 샘플은 중복 허용\n",
        "import numpy as np\n",
        "\n",
        "r_ar = np.random.random_sample(100000000)\n",
        "unique = len(np.unique(r_ar))\n",
        "total = len(r_ar)\n",
        "print(unique)\n",
        "print(total)"
      ],
      "metadata": {
        "colab": {
          "base_uri": "https://localhost:8080/"
        },
        "id": "QeZAACRo2Xuw",
        "outputId": "0da613a9-025f-4f76-d620-e118f1e9ea7b"
      },
      "execution_count": null,
      "outputs": [
        {
          "output_type": "stream",
          "name": "stdout",
          "text": [
            "99999999\n",
            "100000000\n"
          ]
        }
      ]
    },
    {
      "cell_type": "code",
      "source": [],
      "metadata": {
        "id": "NU4CLvHO2juu"
      },
      "execution_count": null,
      "outputs": []
    },
    {
      "cell_type": "markdown",
      "source": [
        "##트랜잭션 데이터 만들기\n",
        "\n",
        "열개 정도 컬럼\n",
        "\n",
        "1만개 데이터\n",
        "\n",
        "중복 안되게\n",
        "\n",
        "고객 넘버 - 일련 번호 , 중복 가능\n",
        "\n",
        "정의한 컬럼대로 만들기\n",
        "\n",
        "만든 데이터에 의미를 부여하기\n",
        "\n",
        "실제 데이터처럼 만들기\n",
        "\n",
        "그것에 탐색적 분석을 수행\n",
        "\n",
        "인사이트가 발견되게 데이터 조작\n",
        "\n"
      ],
      "metadata": {
        "id": "ofMDCV4hyQiN"
      }
    },
    {
      "cell_type": "markdown",
      "source": [
        "###  아래 가이드에 따라서 1000명의 고객 구매데이터를 생성하고 아래사항을 수행하세요(관측치 10000개)\n",
        "\n",
        "고객당\n",
        "\n",
        "#### Q1. 고객 속성(id, 성별, 연령, 거주지역) 데이터와 거래 데이터를 통합한 데이터 프레임 df를 생성하세요.\n",
        "고객별 속성 데이터\n",
        "- id : 1 ~ 1000 고객 번호\n",
        "- gender : 0,1 정수 난수 생성\n",
        "- age : 0 ~ 80사이 정수 난수 생성\n",
        "- region : 1 ~ 10 사이 정수 난수 생성\n",
        "\n",
        "거래 데이터\n",
        "- no : 1 ~ 10000번 일련번호\n",
        "- day : 요일\n",
        "- date : 2020-01-01 ~ 2021-12-31 사이의 날짜 1000개 생성\n",
        "- product_20 : 고가제품(10), 중가제품(20), 저가제품(30)로 구분제품코드 10 ~ 30\n",
        "- product_21 : 고가제품(10), 중가제품(20), 저가제품(30)로 구분제품코드 10 ~ 30\n",
        "- price_20 : 1000 ~ 50000 사이 실수 난수 생성\n",
        "- price_21 : 1000 ~ 50000 사이 실수 난수 생성\n",
        "- quantity_20 : 1 ~ 100 사이 정수 난수 생성\n",
        "- quantity_21 : 1 ~ 100 사이 정수 난수 생성\n",
        "- time_20 : 01 ~ 24 사이 정수 난수 생성\n",
        "- time_21 : 01 ~ 24 사이 정수 난수 생성\n",
        "- amount_20 : price_20 * quantity_21\n",
        "- amount_21 : price_21 * quantity_21\n",
        "\n",
        "#### Q2. df를 수정하여 5가지 이상의 인사이트를 포함한 데이터 셋으로 변환하세요\n",
        "\n",
        "#### Q3. df 를 탐색적 분석을 통하여 인사이트를 도출하세요."
      ],
      "metadata": {
        "id": "5fCg9dHg4Jmq"
      }
    },
    {
      "cell_type": "markdown",
      "source": [
        "고객당 10건 정도\n",
        "\n",
        "두 데이터 프레임 통합\n",
        "\n",
        "2020년도와 2021년도 제품\n"
      ],
      "metadata": {
        "id": "sYc9Mb-W4YER"
      }
    },
    {
      "cell_type": "code",
      "source": [
        "age = np.random.randint(10,81,size=1000)\n",
        "\n",
        "#concat으로"
      ],
      "metadata": {
        "id": "Mx3sF34T5zkM"
      },
      "execution_count": null,
      "outputs": []
    },
    {
      "cell_type": "code",
      "source": [
        "#id, cusno,product,price,quatity, amount\n",
        "#거래 id random.sample\n",
        "\n",
        "df['id'] = id\n",
        "\n",
        "date_range\n"
      ],
      "metadata": {
        "id": "2DCldthh6FWI"
      },
      "execution_count": null,
      "outputs": []
    },
    {
      "cell_type": "markdown",
      "source": [
        "apply 써서 테이블 판매량 조절\n"
      ],
      "metadata": {
        "id": "53tdu8AOILfc"
      }
    },
    {
      "cell_type": "markdown",
      "source": [
        "#0610"
      ],
      "metadata": {
        "id": "NTyEikzIcyM9"
      }
    },
    {
      "cell_type": "code",
      "source": [
        "#Q. 정수와 실수로 구성된 list_e = [1.2,2.3,3] 을 numpy를 이용해서 실수형과 정수형으로 각각 출력하세요.\n",
        "import numpy as np\n",
        "\n",
        "list_e = [1.2,2.3,3]\n",
        "arr_e1 = np.array(list_e)\n",
        "print(arr_e1, arr_e1.dtype)\n",
        "arr_e2 = arr_e1.astype('int32')\n",
        "print(arr_e2, arr_e2.dtype)\n"
      ],
      "metadata": {
        "colab": {
          "base_uri": "https://localhost:8080/"
        },
        "id": "YPyQgGdHjPJ5",
        "outputId": "af7656b3-21f2-402a-d925-70dc605e1309"
      },
      "execution_count": 1,
      "outputs": [
        {
          "output_type": "stream",
          "name": "stdout",
          "text": [
            "[1.2 2.3 3. ] float64\n",
            "[1 2 3] int32\n"
          ]
        }
      ]
    },
    {
      "cell_type": "code",
      "source": [
        "#배열의 연산\n",
        "arr = np.array([[1.,2.,3.],[4.,5.,6.]])\n",
        "print(arr, arr.dtype)"
      ],
      "metadata": {
        "colab": {
          "base_uri": "https://localhost:8080/"
        },
        "id": "O_jTgfznkh1l",
        "outputId": "914635b0-02be-4b41-d2eb-8e3d9766019d"
      },
      "execution_count": 2,
      "outputs": [
        {
          "output_type": "stream",
          "name": "stdout",
          "text": [
            "[[1. 2. 3.]\n",
            " [4. 5. 6.]] float64\n"
          ]
        }
      ]
    },
    {
      "cell_type": "code",
      "source": [
        "arr2 = np.array([[0.,4.,1.],[7.,2.,12.]])\n",
        "arr2"
      ],
      "metadata": {
        "colab": {
          "base_uri": "https://localhost:8080/"
        },
        "id": "6tYDsp6MkxpC",
        "outputId": "6024caa3-b493-4f9d-a263-75440aec9f78"
      },
      "execution_count": 3,
      "outputs": [
        {
          "output_type": "execute_result",
          "data": {
            "text/plain": [
              "array([[ 0.,  4.,  1.],\n",
              "       [ 7.,  2., 12.]])"
            ]
          },
          "metadata": {},
          "execution_count": 3
        }
      ]
    },
    {
      "cell_type": "code",
      "source": [
        "arr2 > arr"
      ],
      "metadata": {
        "colab": {
          "base_uri": "https://localhost:8080/"
        },
        "id": "e4HepLh5k6Yh",
        "outputId": "9ddee968-58a6-4793-ef5d-0623948c96d0"
      },
      "execution_count": 4,
      "outputs": [
        {
          "output_type": "execute_result",
          "data": {
            "text/plain": [
              "array([[False,  True, False],\n",
              "       [ True, False,  True]])"
            ]
          },
          "metadata": {},
          "execution_count": 4
        }
      ]
    },
    {
      "cell_type": "markdown",
      "source": [
        "인덱싱, 슬라이싱"
      ],
      "metadata": {
        "id": "mFUxFzQIlGcr"
      }
    },
    {
      "cell_type": "code",
      "source": [
        "arr2d = np.array([[1,2,3],[4,5,6],[7,8,9]])\n",
        "arr2d = np.arange(1,10).reshape(3,3)\n",
        "arr2d"
      ],
      "metadata": {
        "colab": {
          "base_uri": "https://localhost:8080/"
        },
        "id": "7x2GdJ1klBvr",
        "outputId": "c0034e4f-8d8a-4d0b-8e53-d1e9d40658f7"
      },
      "execution_count": 7,
      "outputs": [
        {
          "output_type": "execute_result",
          "data": {
            "text/plain": [
              "array([[1, 2, 3],\n",
              "       [4, 5, 6],\n",
              "       [7, 8, 9]])"
            ]
          },
          "metadata": {},
          "execution_count": 7
        }
      ]
    },
    {
      "cell_type": "code",
      "source": [
        "arr2d[2]"
      ],
      "metadata": {
        "colab": {
          "base_uri": "https://localhost:8080/"
        },
        "id": "Ayiw8ooBlw4l",
        "outputId": "903c8526-e508-40d8-cfd9-5a95e85cf966"
      },
      "execution_count": 8,
      "outputs": [
        {
          "output_type": "execute_result",
          "data": {
            "text/plain": [
              "array([7, 8, 9])"
            ]
          },
          "metadata": {},
          "execution_count": 8
        }
      ]
    },
    {
      "cell_type": "code",
      "source": [
        "arr2d[0][2]"
      ],
      "metadata": {
        "colab": {
          "base_uri": "https://localhost:8080/"
        },
        "id": "OpejBNXKl4f2",
        "outputId": "4404a510-d3f7-4dd6-ed2a-7f73b2641e8c"
      },
      "execution_count": 9,
      "outputs": [
        {
          "output_type": "execute_result",
          "data": {
            "text/plain": [
              "3"
            ]
          },
          "metadata": {},
          "execution_count": 9
        }
      ]
    },
    {
      "cell_type": "code",
      "source": [
        "arr2d[0,2]"
      ],
      "metadata": {
        "colab": {
          "base_uri": "https://localhost:8080/"
        },
        "id": "K6dcFfu_l6tr",
        "outputId": "002de15c-8c56-401f-b1f3-64d0fdf70816"
      },
      "execution_count": 10,
      "outputs": [
        {
          "output_type": "execute_result",
          "data": {
            "text/plain": [
              "3"
            ]
          },
          "metadata": {},
          "execution_count": 10
        }
      ]
    },
    {
      "cell_type": "code",
      "source": [
        "arr2d = np.arange(20).reshape(5,4)\n",
        "arr2d"
      ],
      "metadata": {
        "colab": {
          "base_uri": "https://localhost:8080/"
        },
        "id": "i2Kkvmpjl8hk",
        "outputId": "f4bd61ca-61db-439f-cd93-f5bc5ac3deb0"
      },
      "execution_count": 11,
      "outputs": [
        {
          "output_type": "execute_result",
          "data": {
            "text/plain": [
              "array([[ 0,  1,  2,  3],\n",
              "       [ 4,  5,  6,  7],\n",
              "       [ 8,  9, 10, 11],\n",
              "       [12, 13, 14, 15],\n",
              "       [16, 17, 18, 19]])"
            ]
          },
          "metadata": {},
          "execution_count": 11
        }
      ]
    },
    {
      "cell_type": "code",
      "source": [
        "#배열의 부분집합\n",
        "arr2d[:2,1:]"
      ],
      "metadata": {
        "colab": {
          "base_uri": "https://localhost:8080/"
        },
        "id": "krHJlj5UmF7A",
        "outputId": "c2c1b60e-a51d-4add-ae65-14cf5c953064"
      },
      "execution_count": 12,
      "outputs": [
        {
          "output_type": "execute_result",
          "data": {
            "text/plain": [
              "array([[1, 2, 3],\n",
              "       [5, 6, 7]])"
            ]
          },
          "metadata": {},
          "execution_count": 12
        }
      ]
    },
    {
      "cell_type": "code",
      "source": [
        "array2d = np.arange(1,12).reshape(3,3)\n",
        "array2d"
      ],
      "metadata": {
        "colab": {
          "base_uri": "https://localhost:8080/",
          "height": 158
        },
        "id": "mwEqgoecmN5F",
        "outputId": "caccb098-6a5e-4af6-e939-b2711584febe"
      },
      "execution_count": 15,
      "outputs": [
        {
          "output_type": "error",
          "ename": "ValueError",
          "evalue": "cannot reshape array of size 11 into shape (3,3)",
          "traceback": [
            "\u001b[0;31m---------------------------------------------------------------------------\u001b[0m",
            "\u001b[0;31mValueError\u001b[0m                                Traceback (most recent call last)",
            "\u001b[0;32m<ipython-input-15-08a2faeaedf8>\u001b[0m in \u001b[0;36m<cell line: 1>\u001b[0;34m()\u001b[0m\n\u001b[0;32m----> 1\u001b[0;31m \u001b[0marray2d\u001b[0m \u001b[0;34m=\u001b[0m \u001b[0mnp\u001b[0m\u001b[0;34m.\u001b[0m\u001b[0marange\u001b[0m\u001b[0;34m(\u001b[0m\u001b[0;36m1\u001b[0m\u001b[0;34m,\u001b[0m\u001b[0;36m12\u001b[0m\u001b[0;34m)\u001b[0m\u001b[0;34m.\u001b[0m\u001b[0mreshape\u001b[0m\u001b[0;34m(\u001b[0m\u001b[0;36m3\u001b[0m\u001b[0;34m,\u001b[0m\u001b[0;36m3\u001b[0m\u001b[0;34m)\u001b[0m\u001b[0;34m\u001b[0m\u001b[0;34m\u001b[0m\u001b[0m\n\u001b[0m\u001b[1;32m      2\u001b[0m \u001b[0marray2d\u001b[0m\u001b[0;34m\u001b[0m\u001b[0;34m\u001b[0m\u001b[0m\n",
            "\u001b[0;31mValueError\u001b[0m: cannot reshape array of size 11 into shape (3,3)"
          ]
        }
      ]
    },
    {
      "cell_type": "code",
      "source": [
        "array2d = np.arange(1,10).reshape(3,3)\n",
        "array2d"
      ],
      "metadata": {
        "colab": {
          "base_uri": "https://localhost:8080/"
        },
        "id": "-8jHgT1ImmA-",
        "outputId": "cfced87e-42bb-4901-aa4a-0798eb040a02"
      },
      "execution_count": 16,
      "outputs": [
        {
          "output_type": "execute_result",
          "data": {
            "text/plain": [
              "array([[1, 2, 3],\n",
              "       [4, 5, 6],\n",
              "       [7, 8, 9]])"
            ]
          },
          "metadata": {},
          "execution_count": 16
        }
      ]
    },
    {
      "cell_type": "markdown",
      "source": [
        "Q. array2d에서 슬라이싱을 사용해서 아래와 같이 출력하세요.\n",
        "```\n",
        "[[1 2]\n",
        "[4 5]]\n",
        "\n",
        "(2가지 방법)\n",
        "[[4 5 6]\n",
        "[7 8 9]]\n",
        "\n",
        "[[1 2 3]\n",
        "[4 5 6]\n",
        "[7 8 9]]\n",
        "\n",
        "[[2 3]\n",
        "[5 6]]\n",
        "\n",
        "[1 4]\n",
        "```"
      ],
      "metadata": {
        "id": "7-RKg0rzm9cN"
      }
    },
    {
      "cell_type": "code",
      "source": [
        "array2d = np.arange(1,10).reshape(3,3)\n",
        "array2d\n"
      ],
      "metadata": {
        "colab": {
          "base_uri": "https://localhost:8080/"
        },
        "id": "xzZL-tnWm13K",
        "outputId": "ea8a24d2-3791-4d23-eac3-0b8f0b8765f8"
      },
      "execution_count": 17,
      "outputs": [
        {
          "output_type": "execute_result",
          "data": {
            "text/plain": [
              "array([[1, 2, 3],\n",
              "       [4, 5, 6],\n",
              "       [7, 8, 9]])"
            ]
          },
          "metadata": {},
          "execution_count": 17
        }
      ]
    },
    {
      "cell_type": "code",
      "source": [
        "array2d[:2,:2]"
      ],
      "metadata": {
        "colab": {
          "base_uri": "https://localhost:8080/"
        },
        "id": "5-TEncRRnLwP",
        "outputId": "94f85a20-bded-4b6b-a71b-c089357f86f9"
      },
      "execution_count": 18,
      "outputs": [
        {
          "output_type": "execute_result",
          "data": {
            "text/plain": [
              "array([[1, 2],\n",
              "       [4, 5]])"
            ]
          },
          "metadata": {},
          "execution_count": 18
        }
      ]
    },
    {
      "cell_type": "code",
      "source": [
        "# [[4 5 6]\n",
        "# [7 8 9]]\n",
        "\n",
        "array2d[:,1:3]"
      ],
      "metadata": {
        "colab": {
          "base_uri": "https://localhost:8080/"
        },
        "id": "7HzlD57AnYK-",
        "outputId": "43a9e642-0b18-4765-a15e-a3a00a68df86"
      },
      "execution_count": 19,
      "outputs": [
        {
          "output_type": "execute_result",
          "data": {
            "text/plain": [
              "array([[2, 3],\n",
              "       [5, 6],\n",
              "       [8, 9]])"
            ]
          },
          "metadata": {},
          "execution_count": 19
        }
      ]
    },
    {
      "cell_type": "code",
      "source": [
        "array2d[1:3, :]"
      ],
      "metadata": {
        "colab": {
          "base_uri": "https://localhost:8080/"
        },
        "id": "YVo4CfRZnplV",
        "outputId": "2602e3ba-1526-40be-9a11-adf4f534f548"
      },
      "execution_count": 20,
      "outputs": [
        {
          "output_type": "execute_result",
          "data": {
            "text/plain": [
              "array([[4, 5, 6],\n",
              "       [7, 8, 9]])"
            ]
          },
          "metadata": {},
          "execution_count": 20
        }
      ]
    },
    {
      "cell_type": "code",
      "source": [
        "array2d[1:, 0:]"
      ],
      "metadata": {
        "colab": {
          "base_uri": "https://localhost:8080/"
        },
        "id": "QhQpk4LPr2DV",
        "outputId": "ad70531a-7c9b-4a5b-a7b9-7ef3f9e56474"
      },
      "execution_count": 25,
      "outputs": [
        {
          "output_type": "execute_result",
          "data": {
            "text/plain": [
              "array([[4, 5, 6],\n",
              "       [7, 8, 9]])"
            ]
          },
          "metadata": {},
          "execution_count": 25
        }
      ]
    },
    {
      "cell_type": "code",
      "source": [
        "array2d[1:]"
      ],
      "metadata": {
        "colab": {
          "base_uri": "https://localhost:8080/"
        },
        "id": "pzAKO8Gwr8Gs",
        "outputId": "193d25d5-e5db-4490-ca7c-a4a83b1c9781"
      },
      "execution_count": 26,
      "outputs": [
        {
          "output_type": "execute_result",
          "data": {
            "text/plain": [
              "array([[4, 5, 6],\n",
              "       [7, 8, 9]])"
            ]
          },
          "metadata": {},
          "execution_count": 26
        }
      ]
    },
    {
      "cell_type": "code",
      "source": [
        "# [[1 2 3]\n",
        "# [4 5 6]\n",
        "# [7 8 9]]\n",
        "\n",
        "array2d[:,:]"
      ],
      "metadata": {
        "colab": {
          "base_uri": "https://localhost:8080/"
        },
        "id": "q0Knmp9xntik",
        "outputId": "aa3be62a-01ed-4209-810b-83841f267679"
      },
      "execution_count": 21,
      "outputs": [
        {
          "output_type": "execute_result",
          "data": {
            "text/plain": [
              "array([[1, 2, 3],\n",
              "       [4, 5, 6],\n",
              "       [7, 8, 9]])"
            ]
          },
          "metadata": {},
          "execution_count": 21
        }
      ]
    },
    {
      "cell_type": "code",
      "source": [
        "array2d[:3,:3]"
      ],
      "metadata": {
        "colab": {
          "base_uri": "https://localhost:8080/"
        },
        "id": "n6EOvivrsGyF",
        "outputId": "ef0e570d-b16e-48b8-d0c5-237ab685ec69"
      },
      "execution_count": 28,
      "outputs": [
        {
          "output_type": "execute_result",
          "data": {
            "text/plain": [
              "array([[1, 2, 3],\n",
              "       [4, 5, 6],\n",
              "       [7, 8, 9]])"
            ]
          },
          "metadata": {},
          "execution_count": 28
        }
      ]
    },
    {
      "cell_type": "code",
      "source": [
        "# [[2 3]\n",
        "# [5 6]]\n",
        "\n",
        "array2d[:2, 1:]"
      ],
      "metadata": {
        "colab": {
          "base_uri": "https://localhost:8080/"
        },
        "id": "IFpU0qrin3W1",
        "outputId": "5d79713a-53fc-4652-b846-858bb9ca2473"
      },
      "execution_count": 22,
      "outputs": [
        {
          "output_type": "execute_result",
          "data": {
            "text/plain": [
              "array([[2, 3],\n",
              "       [5, 6]])"
            ]
          },
          "metadata": {},
          "execution_count": 22
        }
      ]
    },
    {
      "cell_type": "code",
      "source": [
        "# [1 4]\n",
        "print(array2d[0:2,0])\n",
        "print(array2d[:2, :1])\n",
        "array2d[0:2,0]"
      ],
      "metadata": {
        "colab": {
          "base_uri": "https://localhost:8080/"
        },
        "id": "-JkAJt_hoCfH",
        "outputId": "7a056c9f-a843-478d-e9f7-29d80373333a"
      },
      "execution_count": 32,
      "outputs": [
        {
          "output_type": "stream",
          "name": "stdout",
          "text": [
            "[1 4]\n",
            "[[1]\n",
            " [4]]\n"
          ]
        },
        {
          "output_type": "execute_result",
          "data": {
            "text/plain": [
              "array([1, 4])"
            ]
          },
          "metadata": {},
          "execution_count": 32
        }
      ]
    },
    {
      "cell_type": "code",
      "source": [],
      "metadata": {
        "colab": {
          "base_uri": "https://localhost:8080/"
        },
        "id": "Hg4guGrSoLHg",
        "outputId": "51a36f7e-5a12-41d7-9c68-3102f69d0bcb"
      },
      "execution_count": 29,
      "outputs": [
        {
          "output_type": "execute_result",
          "data": {
            "text/plain": [
              "array([[1, 2, 3],\n",
              "       [4, 5, 6]])"
            ]
          },
          "metadata": {},
          "execution_count": 29
        }
      ]
    },
    {
      "cell_type": "code",
      "source": [
        "#boolean indexing\n",
        "array1d = np.arange(1,10)\n",
        "print(array1d)\n",
        "array3 = array1d[array1d > 5]\n",
        "print(array3)\n",
        "print(array1d > 5)"
      ],
      "metadata": {
        "colab": {
          "base_uri": "https://localhost:8080/"
        },
        "id": "j-GRToEhsb89",
        "outputId": "ad0001f4-4006-48fe-ee3d-04b1d4327140"
      },
      "execution_count": 33,
      "outputs": [
        {
          "output_type": "stream",
          "name": "stdout",
          "text": [
            "[1 2 3 4 5 6 7 8 9]\n",
            "[6 7 8 9]\n",
            "[False False False False False  True  True  True  True]\n"
          ]
        }
      ]
    },
    {
      "cell_type": "code",
      "source": [
        "#Q. array1d에서 일반 인덱스를 이용 [6 7 8 9]\n",
        "indexes = np.array([5,6,7,8])\n",
        "array_e2 = array1d[indexes]\n",
        "array_e2 = array1d[5:]\n",
        "print(array_e2)"
      ],
      "metadata": {
        "colab": {
          "base_uri": "https://localhost:8080/"
        },
        "id": "V9-GUTlktSCy",
        "outputId": "348db168-f6e1-4a7a-dd4c-683ee8bbe2b2"
      },
      "execution_count": 34,
      "outputs": [
        {
          "output_type": "stream",
          "name": "stdout",
          "text": [
            "[6 7 8 9]\n"
          ]
        }
      ]
    },
    {
      "cell_type": "code",
      "source": [
        "#(array_e / 2) > 5\n",
        "array_e = np.arange(1, 15)\n",
        "newarr = array_e[(array_e / 2) > 5]\n",
        "print(newarr)"
      ],
      "metadata": {
        "colab": {
          "base_uri": "https://localhost:8080/"
        },
        "id": "mnk4O1mXtwdp",
        "outputId": "0183a60e-7872-42f5-e489-7fe2dcb350b4"
      },
      "execution_count": 35,
      "outputs": [
        {
          "output_type": "stream",
          "name": "stdout",
          "text": [
            "[11 12 13 14]\n"
          ]
        }
      ]
    },
    {
      "cell_type": "code",
      "source": [
        "#Q. 1~100까지 정수에서 5의 배수이면서 2의 배수인 것만을 출력(for문과 배열 두가지 방식)\n",
        "#1 for\n",
        "for i in range(1, 101):\n",
        "    if (i % 5 == 0) and (i % 2 == 0):\n",
        "        print(i, end=' ')"
      ],
      "metadata": {
        "colab": {
          "base_uri": "https://localhost:8080/"
        },
        "id": "0Fd9qYvxuOWv",
        "outputId": "49efd7c6-c11b-454b-d3b9-3032e83c67f5"
      },
      "execution_count": 56,
      "outputs": [
        {
          "output_type": "stream",
          "name": "stdout",
          "text": [
            "10 20 30 40 50 60 70 80 90 100 "
          ]
        }
      ]
    },
    {
      "cell_type": "code",
      "source": [
        "ar = []\n",
        "for i in range(1, 101):\n",
        "    if (i % 5 == 0) and (i % 2 == 0):\n",
        "        ar.append(i)\n",
        "print(ar)"
      ],
      "metadata": {
        "colab": {
          "base_uri": "https://localhost:8080/"
        },
        "id": "Nid0RDZtx3it",
        "outputId": "01d66738-e5d9-4b91-c4f4-4da41e0faab8"
      },
      "execution_count": 57,
      "outputs": [
        {
          "output_type": "stream",
          "name": "stdout",
          "text": [
            "[10, 20, 30, 40, 50, 60, 70, 80, 90, 100]\n"
          ]
        }
      ]
    },
    {
      "cell_type": "code",
      "source": [
        "#2. 배열\n",
        "array_e = np.arange(1, 101)\n",
        "newarr = array_e[((array_e % 5) == 0) & ((array_e % 2) == 0)]\n",
        "print(newarr)"
      ],
      "metadata": {
        "colab": {
          "base_uri": "https://localhost:8080/"
        },
        "id": "PQO3pelruoCU",
        "outputId": "7a642819-9764-4ddc-df19-6ee393a7e1fb"
      },
      "execution_count": 38,
      "outputs": [
        {
          "output_type": "stream",
          "name": "stdout",
          "text": [
            "[ 10  20  30  40  50  60  70  80  90 100]\n"
          ]
        }
      ]
    },
    {
      "cell_type": "code",
      "source": [
        "#표준 정규분포로 구성된 5행 5열다차원 배열을 생성하고 함수를 이용하여 평균과 표준편차를 구하세요\n",
        "arr2 = np.random.randn(5,5)\n",
        "print(arr2.mean())\n",
        "print(arr2.std())\n"
      ],
      "metadata": {
        "colab": {
          "base_uri": "https://localhost:8080/"
        },
        "id": "NvQ7dv--u6n8",
        "outputId": "82807a25-8cb6-4960-fe39-c04314805fa3"
      },
      "execution_count": 44,
      "outputs": [
        {
          "output_type": "stream",
          "name": "stdout",
          "text": [
            "0.13752980448799904\n",
            "0.9270743706501892\n"
          ]
        }
      ]
    },
    {
      "cell_type": "code",
      "source": [
        "#인덱싱을 이용하여 아래 배열을 내림차순으로 정렬하세요.\n",
        "arr3 = np.array([0,1,2,3,4,5,6,7,8,9])\n",
        "reverse_arr3 = arr3[-1]\n",
        "print(reverse_arr3)"
      ],
      "metadata": {
        "colab": {
          "base_uri": "https://localhost:8080/"
        },
        "id": "chAoREm3vIRG",
        "outputId": "df68fad6-f400-49ab-c946-a899982b675b"
      },
      "execution_count": 58,
      "outputs": [
        {
          "output_type": "stream",
          "name": "stdout",
          "text": [
            "9\n"
          ]
        }
      ]
    },
    {
      "cell_type": "code",
      "source": [
        "#ex\n",
        "arr3 = np.array([0,1,2,3,4,5,6,7,8,9])\n",
        "reverse_arr3 = arr3[::-1]\n",
        "print(reverse_arr3)"
      ],
      "metadata": {
        "colab": {
          "base_uri": "https://localhost:8080/"
        },
        "id": "KH7InQrGyXiJ",
        "outputId": "83999bfd-943c-4ea0-8ca4-a4a97ea86209"
      },
      "execution_count": 59,
      "outputs": [
        {
          "output_type": "stream",
          "name": "stdout",
          "text": [
            "[9 8 7 6 5 4 3 2 1 0]\n"
          ]
        }
      ]
    },
    {
      "cell_type": "code",
      "source": [
        "#[1,2,0,0,4,0]에서 zero가 아닌 인덱스를 배열 형태로 출력하세요.\n",
        "arr4 = np.array([1,2,0,0,4,0])\n",
        "none_zero = arr4[(arr4>0)]\n",
        "none_zero"
      ],
      "metadata": {
        "colab": {
          "base_uri": "https://localhost:8080/"
        },
        "id": "Puzr_zlovNHR",
        "outputId": "65fc0eab-baf9-4dbd-f3b3-4f329c76c872"
      },
      "execution_count": 60,
      "outputs": [
        {
          "output_type": "execute_result",
          "data": {
            "text/plain": [
              "array([1, 2, 4])"
            ]
          },
          "metadata": {},
          "execution_count": 60
        }
      ]
    },
    {
      "cell_type": "code",
      "source": [
        "#ex - 0이 아닌 곳(인덱스) 조건을 만족하는 요소의 인덱스를 반환\n",
        "arr = np.array([1,2,0,0,4,0])\n",
        "print(np.where(arr != 0))"
      ],
      "metadata": {
        "colab": {
          "base_uri": "https://localhost:8080/"
        },
        "id": "q7T8XYe8xF0Z",
        "outputId": "48ab9b21-c722-4b8d-b66c-77d4c827e8b5"
      },
      "execution_count": 61,
      "outputs": [
        {
          "output_type": "stream",
          "name": "stdout",
          "text": [
            "(array([0, 1, 4]),)\n"
          ]
        }
      ]
    },
    {
      "cell_type": "code",
      "source": [
        "#ex - nonzero\n",
        "arr = np.array([1,2,0,0,4,0])\n",
        "print(np.nonzero(arr))"
      ],
      "metadata": {
        "colab": {
          "base_uri": "https://localhost:8080/"
        },
        "id": "esCqv4ADzE_i",
        "outputId": "1e5a4780-0a54-46ad-cccc-278ab1df5c0d"
      },
      "execution_count": 62,
      "outputs": [
        {
          "output_type": "stream",
          "name": "stdout",
          "text": [
            "(array([0, 1, 4]),)\n"
          ]
        }
      ]
    },
    {
      "cell_type": "markdown",
      "source": [
        "팬시 인덱싱\n",
        "\n",
        "정수 배열을 사용한 인덱싱:\n",
        "- 정수로 이루어진 배열을 사용하여 다른 배열의 특정 요소를 선택\n",
        "\n",
        "부울 마스크를 사용한 인덱싱:\n",
        "- 부울 배열(마스크)을 생성하여, 마스크가 True인 위치의 요소를 선택\n",
        "\n",
        "정수 배열과 부울 마스크의 결합:\n",
        "- 이 방법들을 결합하여 더욱 강력한 선택과 수정을 할 수 있다."
      ],
      "metadata": {
        "id": "lM26xd86zRHx"
      }
    },
    {
      "cell_type": "code",
      "source": [
        "#fancy indexing\n",
        "\n",
        "#integer array\n",
        "arr = np.array([0,10,30,50,60,70,80,90])\n",
        "index_arr = np.array([0,2,4])\n",
        "result = arr[index_arr]\n",
        "print(result)"
      ],
      "metadata": {
        "colab": {
          "base_uri": "https://localhost:8080/"
        },
        "id": "pHt8sD62zM-T",
        "outputId": "83e616c7-faa3-4e76-aa52-549716f19fd2"
      },
      "execution_count": 65,
      "outputs": [
        {
          "output_type": "stream",
          "name": "stdout",
          "text": [
            "[ 0 30 60]\n"
          ]
        }
      ]
    },
    {
      "cell_type": "code",
      "source": [
        "#indexing for using boolean mask\n",
        "arr = np.array([0,10,30,50,60])\n",
        "mask = arr >25\n",
        "result = arr[mask]\n",
        "print(result)"
      ],
      "metadata": {
        "colab": {
          "base_uri": "https://localhost:8080/"
        },
        "id": "Vc0hfoHXz69e",
        "outputId": "c526d8f3-228c-4d46-d822-2c3f214ce533"
      },
      "execution_count": 66,
      "outputs": [
        {
          "output_type": "stream",
          "name": "stdout",
          "text": [
            "[30 50 60]\n"
          ]
        }
      ]
    },
    {
      "cell_type": "code",
      "source": [
        "#combination for integer and boolean\n",
        "\n",
        "arr = np.array([10,20,30,40,50])\n",
        "index_arr = np.array([0,2,4])\n",
        "mask = arr[index_arr] >20\n",
        "result = arr[index_arr][mask]\n",
        "print(result)"
      ],
      "metadata": {
        "colab": {
          "base_uri": "https://localhost:8080/"
        },
        "id": "VGOptUzS0aRi",
        "outputId": "6d3ad798-c313-4068-855e-3766e47c3884"
      },
      "execution_count": 68,
      "outputs": [
        {
          "output_type": "stream",
          "name": "stdout",
          "text": [
            "[30 50]\n"
          ]
        }
      ]
    },
    {
      "cell_type": "code",
      "source": [
        "arr = np.empty((8,4))\n",
        "print(arr,'\\n')\n",
        "for i in range(8):\n",
        "    arr[i] = i\n",
        "arr"
      ],
      "metadata": {
        "colab": {
          "base_uri": "https://localhost:8080/"
        },
        "id": "-OJ8xJL407dG",
        "outputId": "03bd0c01-ae90-40dd-b6dc-7ebda7ebc01a"
      },
      "execution_count": 69,
      "outputs": [
        {
          "output_type": "stream",
          "name": "stdout",
          "text": [
            "[[1.   0.   0.16 1.  ]\n",
            " [1.   0.   0.   1.  ]\n",
            " [1.   1.   0.   1.  ]\n",
            " [0.   1.   0.   1.  ]\n",
            " [0.   1.   1.   1.  ]\n",
            " [0.   0.   1.   1.  ]\n",
            " [1.   0.   1.   1.  ]\n",
            " [1.   0.   0.75 1.  ]] \n",
            "\n"
          ]
        },
        {
          "output_type": "execute_result",
          "data": {
            "text/plain": [
              "array([[0., 0., 0., 0.],\n",
              "       [1., 1., 1., 1.],\n",
              "       [2., 2., 2., 2.],\n",
              "       [3., 3., 3., 3.],\n",
              "       [4., 4., 4., 4.],\n",
              "       [5., 5., 5., 5.],\n",
              "       [6., 6., 6., 6.],\n",
              "       [7., 7., 7., 7.]])"
            ]
          },
          "metadata": {},
          "execution_count": 69
        }
      ]
    },
    {
      "cell_type": "code",
      "source": [
        "arr[[4,3,0,6]]"
      ],
      "metadata": {
        "colab": {
          "base_uri": "https://localhost:8080/"
        },
        "id": "L8uhs9uE1gHv",
        "outputId": "05916cf3-485f-46c0-a58a-7fbc3a542feb"
      },
      "execution_count": 70,
      "outputs": [
        {
          "output_type": "execute_result",
          "data": {
            "text/plain": [
              "array([[4., 4., 4., 4.],\n",
              "       [3., 3., 3., 3.],\n",
              "       [0., 0., 0., 0.],\n",
              "       [6., 6., 6., 6.]])"
            ]
          },
          "metadata": {},
          "execution_count": 70
        }
      ]
    },
    {
      "cell_type": "code",
      "source": [
        "arr[arr[4,3,0,6]]"
      ],
      "metadata": {
        "colab": {
          "base_uri": "https://localhost:8080/",
          "height": 141
        },
        "id": "F3Zgo2MN2ScI",
        "outputId": "7d04d232-27fe-432c-e70a-58e23b972ce9"
      },
      "execution_count": 72,
      "outputs": [
        {
          "output_type": "error",
          "ename": "IndexError",
          "evalue": "too many indices for array: array is 2-dimensional, but 4 were indexed",
          "traceback": [
            "\u001b[0;31m---------------------------------------------------------------------------\u001b[0m",
            "\u001b[0;31mIndexError\u001b[0m                                Traceback (most recent call last)",
            "\u001b[0;32m<ipython-input-72-63c7f88f1c13>\u001b[0m in \u001b[0;36m<cell line: 1>\u001b[0;34m()\u001b[0m\n\u001b[0;32m----> 1\u001b[0;31m \u001b[0marr\u001b[0m\u001b[0;34m[\u001b[0m\u001b[0marr\u001b[0m\u001b[0;34m[\u001b[0m\u001b[0;36m4\u001b[0m\u001b[0;34m,\u001b[0m\u001b[0;36m3\u001b[0m\u001b[0;34m,\u001b[0m\u001b[0;36m0\u001b[0m\u001b[0;34m,\u001b[0m\u001b[0;36m6\u001b[0m\u001b[0;34m]\u001b[0m\u001b[0;34m]\u001b[0m\u001b[0;34m\u001b[0m\u001b[0;34m\u001b[0m\u001b[0m\n\u001b[0m",
            "\u001b[0;31mIndexError\u001b[0m: too many indices for array: array is 2-dimensional, but 4 were indexed"
          ]
        }
      ]
    },
    {
      "cell_type": "code",
      "source": [
        "arr[[-3,-5,-7]]"
      ],
      "metadata": {
        "colab": {
          "base_uri": "https://localhost:8080/"
        },
        "id": "kG9Z1Hh92F8n",
        "outputId": "11b628aa-0454-4070-fd1c-59b1810a0563"
      },
      "execution_count": 71,
      "outputs": [
        {
          "output_type": "execute_result",
          "data": {
            "text/plain": [
              "array([[5., 5., 5., 5.],\n",
              "       [3., 3., 3., 3.],\n",
              "       [1., 1., 1., 1.]])"
            ]
          },
          "metadata": {},
          "execution_count": 71
        }
      ]
    },
    {
      "cell_type": "code",
      "source": [
        "arr = np.arange(32).reshape((8,4))\n",
        "print(arr,'\\n')\n",
        "arr[[1,5,7,2], [0,3,1,2]]   #행,열 인덱스"
      ],
      "metadata": {
        "colab": {
          "base_uri": "https://localhost:8080/"
        },
        "id": "s7efhI282KRO",
        "outputId": "c2ad97e1-073e-4f4c-c46b-4133ea112aca"
      },
      "execution_count": 73,
      "outputs": [
        {
          "output_type": "stream",
          "name": "stdout",
          "text": [
            "[[ 0  1  2  3]\n",
            " [ 4  5  6  7]\n",
            " [ 8  9 10 11]\n",
            " [12 13 14 15]\n",
            " [16 17 18 19]\n",
            " [20 21 22 23]\n",
            " [24 25 26 27]\n",
            " [28 29 30 31]] \n",
            "\n"
          ]
        },
        {
          "output_type": "execute_result",
          "data": {
            "text/plain": [
              "array([ 4, 23, 29, 10])"
            ]
          },
          "metadata": {},
          "execution_count": 73
        }
      ]
    },
    {
      "cell_type": "code",
      "source": [
        "#Q.arr에서 배열 [14,21,30]을 출력하세요\n",
        "arr = np.arange(32).reshape((8,4))\n",
        "arr[[3,5,7],[2,1,2]]    #인덱싱은 대괄호"
      ],
      "metadata": {
        "colab": {
          "base_uri": "https://localhost:8080/"
        },
        "id": "-rHAuwU12qyU",
        "outputId": "205cdaaf-973b-4d03-bb4f-321ef508299c"
      },
      "execution_count": 74,
      "outputs": [
        {
          "output_type": "execute_result",
          "data": {
            "text/plain": [
              "array([14, 21, 30])"
            ]
          },
          "metadata": {},
          "execution_count": 74
        }
      ]
    },
    {
      "cell_type": "code",
      "source": [
        "print(arr[[1,5,7,2]],'\\n')\n",
        "print(arr[[1,5,7,2]][:,[0,3,1,2]])  #순서 바꿀수 있음"
      ],
      "metadata": {
        "colab": {
          "base_uri": "https://localhost:8080/"
        },
        "id": "08EJtYA53cX0",
        "outputId": "42d11944-4374-4ca9-e17a-ae794a74c5a5"
      },
      "execution_count": 76,
      "outputs": [
        {
          "output_type": "stream",
          "name": "stdout",
          "text": [
            "[[ 4  5  6  7]\n",
            " [20 21 22 23]\n",
            " [28 29 30 31]\n",
            " [ 8  9 10 11]] \n",
            "\n",
            "[[ 4  7  5  6]\n",
            " [20 23 21 22]\n",
            " [28 31 29 30]\n",
            " [ 8 11  9 10]]\n"
          ]
        }
      ]
    },
    {
      "cell_type": "markdown",
      "source": [
        "## view\n",
        "Numpy에서 '뷰(View)'는 원본 배열의 데이터에 대한 새로운 참조. 뷰를 사용하면 원본 데이터를 복사하지 않고도 배열의 일부에 접근하거나 수정할 수 있다.\n",
        "\n",
        "뷰의 주요 특징과 작동 방식:\n",
        "- 메모리 효율성: 뷰는 원본 배열의 데이터를 복사하지 않기 때문에, 메모리 사용량이 적다. 뷰는 원본 배열의 메모리에 대한 (주소) 참조만을 가진다.\n",
        "- 원본 배열과의 연결: 뷰를 통해 이루어진 변경사항은 **`원본 배열에도 반영`**. 마찬가지로, 원본 배열을 변경하면 뷰에도 해당 변경사항이 반영.\n",
        "- 생성 방법: 뷰는 `슬라이싱 연산을 통해 생성`될 수 있다. 예를 들어, arr[1:5]와 같은 슬라이싱 연산은 arr 배열의 일부에 대한 뷰를 반환.\n",
        "- 데이터 타입: 뷰는 원본 배열과 `동일한 데이터 타입`을 가진다.\n",
        "- 변경 가능성: 뷰는 원본 데이터를 변경할 수 있는 `'가변`' 객체.\n",
        "- 독립성: 뷰는 원본 배열로부터 독립적인 객체. 즉, 뷰에 대한 연산이 `원본 배열의 구조에 영향을 주지 않는`다(예: 뷰의 모양을 변경해도 원본 배열의 모양은 그대로 유지된다).\n",
        "\n",
        "#### NumPy에서 'view'를 생성하는 방법\n",
        "1. 슬라이싱을 사용하여 뷰 생성:\n",
        "  - 배열의 일부를 슬라이싱하여 뷰를 생성\n",
        "  - 본 배열의 연속적인 부분에 대한 뷰를 만든다. 예를 들어, arr[1:5]와 같은 표현식은 arr의 일부를 참조하는 뷰를 생성\n",
        "  - 뷰(view) : 넘파이의 ndarray(이하 배열)을 슬라이싱할 때 파이썬의 리스트(list)와 다르게 `원본의 참조가 생성` - 파이썬은 참조 생성 불가\n",
        "\n",
        "2. view() 메소드를 사용하여 뷰 생성:\n",
        "  - view() 메소드는 원본 배열의 데이터를 그대로 유지하면서 새로운 뷰 객체를 생성\n",
        "  - 이 방법은 슬라이싱과 다르게 배열 전체에 대한 뷰를 생성하며, 데이터 타입(dtype)을 변경할 수도 있다. 예를 들어, arr.view(dtype=np.float32)는 같은 데이터를 float32 타입으로 해석하는 새로운 뷰를 생성\n",
        "  - view() 메소드를 사용한 뷰는 `원본 배열 전체에 대한 새로운 뷰를 생성`\n",
        "  - view() 메소드를 사용하면, 데이터 타입을 변경할 수 있는 추가적인 유연성이 있다. 이 방법은 원본 배열의 전체 데이터에 대한 다른 데이터 타입이나 다른 모양의 해석이 필요할 때 유용"
      ],
      "metadata": {
        "id": "kObVitgX7W4K"
      }
    },
    {
      "cell_type": "code",
      "source": [
        "import numpy as np\n",
        "\n",
        "arr = np.array([1,2,3,4])\n",
        "#뷰 생성\n",
        "arr_view = arr.view()\n",
        "#뷰 수정\n",
        "arr_view[0] = 100\n",
        "print(arr) #원본도 수정됨\n",
        "print(arr_view)"
      ],
      "metadata": {
        "colab": {
          "base_uri": "https://localhost:8080/"
        },
        "id": "p5XPXfwD6vNQ",
        "outputId": "5767832d-34fa-4057-986f-85250e85502f"
      },
      "execution_count": 78,
      "outputs": [
        {
          "output_type": "stream",
          "name": "stdout",
          "text": [
            "[100   2   3   4]\n",
            "[100   2   3   4]\n"
          ]
        }
      ]
    },
    {
      "cell_type": "code",
      "source": [
        "ori = np.array([[1,2,3],[4,5,6]])\n",
        "view_of_ori = ori[:2,:2]  #슬라이싱으로 뷰 만들"
      ],
      "metadata": {
        "id": "wvyM54iG9l16"
      },
      "execution_count": 81,
      "outputs": []
    },
    {
      "cell_type": "code",
      "source": [
        "#뷰를 통해 이루어진 변경사항은 원본 배열에도 반영\n",
        "view_of_ori[0,0] = 0\n",
        "print(ori)\n",
        "print(view_of_ori)"
      ],
      "metadata": {
        "colab": {
          "base_uri": "https://localhost:8080/"
        },
        "id": "mdK2SDWX94xG",
        "outputId": "c5215d40-0dbf-419b-b5c5-94e20404e47c"
      },
      "execution_count": 82,
      "outputs": [
        {
          "output_type": "stream",
          "name": "stdout",
          "text": [
            "[[0 2 3]\n",
            " [4 5 6]]\n",
            "[[0 2]\n",
            " [4 5]]\n"
          ]
        }
      ]
    },
    {
      "cell_type": "code",
      "source": [
        "#뷰의 모양을 변경해도 원본 배열의 모양은 그대로 유지된다.\n",
        "reshape_view = view_of_ori.reshape(-1)\n",
        "print(reshape_view,'\\n')\n",
        "print(ori)"
      ],
      "metadata": {
        "colab": {
          "base_uri": "https://localhost:8080/"
        },
        "id": "u6iLwPVq-mKr",
        "outputId": "019958c8-016b-4af9-be44-e2b2bb88b7ae"
      },
      "execution_count": 84,
      "outputs": [
        {
          "output_type": "stream",
          "name": "stdout",
          "text": [
            "[0 2 4 5] \n",
            "\n",
            "[[0 2 3]\n",
            " [4 5 6]]\n"
          ]
        }
      ]
    },
    {
      "cell_type": "code",
      "source": [
        "#리스트는 뷰를 적용할수없음\n",
        "li = list(np.arange(1,11))\n",
        "li_slice = li[:5].copy()\n",
        "print(li_slice,'\\n')\n",
        "li_slice[1]=0\n",
        "print(li_slice)\n",
        "print(li)"
      ],
      "metadata": {
        "colab": {
          "base_uri": "https://localhost:8080/"
        },
        "id": "41toCcu5-9tb",
        "outputId": "2fe43df9-8c85-47e6-cb25-1116b191f763"
      },
      "execution_count": 85,
      "outputs": [
        {
          "output_type": "stream",
          "name": "stdout",
          "text": [
            "[1, 2, 3, 4, 5] \n",
            "\n",
            "[1, 0, 3, 4, 5]\n",
            "[1, 2, 3, 4, 5, 6, 7, 8, 9, 10]\n"
          ]
        }
      ]
    },
    {
      "cell_type": "code",
      "source": [
        "#array transpose, 축 바꾸기\n",
        "arr =np.arange(15).reshape(3,5)"
      ],
      "metadata": {
        "id": "tdrMyRUUABay"
      },
      "execution_count": 86,
      "outputs": []
    },
    {
      "cell_type": "code",
      "source": [
        "arr.T"
      ],
      "metadata": {
        "colab": {
          "base_uri": "https://localhost:8080/"
        },
        "id": "xNtTw14yAUUw",
        "outputId": "b18cb9f0-27fd-4581-f9e8-8bd39b502877"
      },
      "execution_count": 87,
      "outputs": [
        {
          "output_type": "execute_result",
          "data": {
            "text/plain": [
              "array([[ 0,  5, 10],\n",
              "       [ 1,  6, 11],\n",
              "       [ 2,  7, 12],\n",
              "       [ 3,  8, 13],\n",
              "       [ 4,  9, 14]])"
            ]
          },
          "metadata": {},
          "execution_count": 87
        }
      ]
    },
    {
      "cell_type": "code",
      "source": [
        "np.transpose(arr)"
      ],
      "metadata": {
        "colab": {
          "base_uri": "https://localhost:8080/"
        },
        "id": "szJZkWAkAWVj",
        "outputId": "50ba23e5-cd0e-4000-c16f-b4e2e1af8644"
      },
      "execution_count": 88,
      "outputs": [
        {
          "output_type": "execute_result",
          "data": {
            "text/plain": [
              "array([[ 0,  5, 10],\n",
              "       [ 1,  6, 11],\n",
              "       [ 2,  7, 12],\n",
              "       [ 3,  8, 13],\n",
              "       [ 4,  9, 14]])"
            ]
          },
          "metadata": {},
          "execution_count": 88
        }
      ]
    },
    {
      "cell_type": "markdown",
      "source": [
        "#### NumPy 배열의 축(Axes)과 형태(Shape)\n",
        "- 축(Axes): NumPy 배열에서 각 차원은 '축'이라고 불린다. 예를 들어, 2차원 배열에서 0번 축은 행을, 1번 축은 열을 나타낸다.\n",
        "- 형태(Shape): 배열의 '형태'는 각 차원의 크기를 `튜플`로 나타낸 것이다. 예를 들어, 2행 3열의 배열은 (2, 3)의 형태를 가진다.\n",
        "\n",
        "#### numpy.swapaxes\n",
        "- 기능: 두 축을 서로 바꾸는(교환하는) 함수\n",
        "- 사용법: np.swapaxes(arr, axis1, axis2)\n",
        "  - arr: 배열\n",
        "  - axis1, axis2: 서로 교환할 축의 번호\n",
        "- 예시: (2, 3, 4) 형태의 배열에서 축 0과 축 2를 교환하면, 결과 배열의 형태는 (4, 3, 2)가 됩니다.\n",
        "\n",
        "#### numpy.transpose\n",
        "- 기능: 축의 순서를 재배열하는 함수입니다.전치에도 사용되지만\n",
        "- 사용법: np.transpose(arr, axes)\n",
        "  - arr: 배열\n",
        "  - axes: 축의 새로운 순서를 나타내는 `튜플`\n",
        "- 예시: (2, 3, 4) 형태의 배열에 대해 np.transpose(arr, (1, 0, 2))를 사용하면, 결과 배열의 형태는 (3, 2, 4)가 된다.\n",
        "\n",
        "#### 비교\n",
        "- swapaxes: `두 축만`을 대상으로 서로 위치를 교환.\n",
        "- transpose: `여러 축의 순서를 완전히 재배열`할 수 있으며, swapaxes보다 더 일반적이고 유연.3차원 이상에 적용"
      ],
      "metadata": {
        "id": "nxy9MH9_ApUT"
      }
    },
    {
      "cell_type": "code",
      "source": [
        "a = np.arange(6).reshape(2,3)\n",
        "print(a, a.shape)"
      ],
      "metadata": {
        "colab": {
          "base_uri": "https://localhost:8080/"
        },
        "id": "C2y4ADneAZRh",
        "outputId": "4cdf3a25-6df9-4bc1-8446-00546274950d"
      },
      "execution_count": 90,
      "outputs": [
        {
          "output_type": "stream",
          "name": "stdout",
          "text": [
            "[[0 1 2]\n",
            " [3 4 5]] (2, 3)\n"
          ]
        }
      ]
    },
    {
      "cell_type": "code",
      "source": [
        "#np.swapaxes(a, 0, 1)사용하여 첫번째 축(0번축, 즉 행)과 두번째 축(1번축, 즉 열) 을 교환\n",
        "y = np.swapaxes(a, 0, 1)\n",
        "y = np.swapaxes(a, 1, 0)  #이것도 동일 의미\n",
        "print(y, y.shape)"
      ],
      "metadata": {
        "colab": {
          "base_uri": "https://localhost:8080/"
        },
        "id": "AMyq1e7cCU88",
        "outputId": "1f489352-a52e-4220-fda0-1569ea26b4a0"
      },
      "execution_count": 92,
      "outputs": [
        {
          "output_type": "stream",
          "name": "stdout",
          "text": [
            "[[0 3]\n",
            " [1 4]\n",
            " [2 5]] (3, 2)\n"
          ]
        }
      ]
    },
    {
      "cell_type": "code",
      "source": [
        "y = np.transpose(a)     #np.transpose 전치\n",
        "print(y)\n",
        "y = a.T\n",
        "print(y)"
      ],
      "metadata": {
        "colab": {
          "base_uri": "https://localhost:8080/"
        },
        "id": "ddvcqWkbCzDR",
        "outputId": "93ec6f18-408e-45c5-edc0-dbea61d36665"
      },
      "execution_count": 94,
      "outputs": [
        {
          "output_type": "stream",
          "name": "stdout",
          "text": [
            "[[0 3]\n",
            " [1 4]\n",
            " [2 5]]\n",
            "[[0 3]\n",
            " [1 4]\n",
            " [2 5]]\n"
          ]
        }
      ]
    },
    {
      "cell_type": "code",
      "source": [
        "#재배열의 transpose\n",
        "a = np.arange(6).reshape(1,2,3)\n",
        "print(a, a.shape)"
      ],
      "metadata": {
        "colab": {
          "base_uri": "https://localhost:8080/"
        },
        "id": "U3rUQvnBDBTC",
        "outputId": "11109901-d0cf-4f46-b0cf-ceef5e63f4de"
      },
      "execution_count": 97,
      "outputs": [
        {
          "output_type": "stream",
          "name": "stdout",
          "text": [
            "[[[0 1 2]\n",
            "  [3 4 5]]] (1, 2, 3)\n"
          ]
        }
      ]
    },
    {
      "cell_type": "code",
      "source": [
        "#다차원 배열에서 축의 순서를 재배열하여 배열의 모양을 변경\n",
        "#(0,1,2) -> (1,0,2) 첫번째 차원과 두번째 차원을 바꾸라는 의미\n",
        "y = np.transpose(a, (1,0,2))\n",
        "print(y, y.shape)"
      ],
      "metadata": {
        "colab": {
          "base_uri": "https://localhost:8080/"
        },
        "id": "ZEWFut94D4Rj",
        "outputId": "f97f15ad-62bf-4c23-d4a3-9c2ab1bb762a"
      },
      "execution_count": 98,
      "outputs": [
        {
          "output_type": "stream",
          "name": "stdout",
          "text": [
            "[[[0 1 2]]\n",
            "\n",
            " [[3 4 5]]] (2, 1, 3)\n"
          ]
        }
      ]
    },
    {
      "cell_type": "code",
      "source": [
        "#Q.#a 배열에 대해서 첫번째 차원에 두번째 차원을, 두번째 차원자리에 세번째 차원을, 세번째 차원자리에 첫번째 차원을  넣어서 변환하세요\n",
        "a = np.arange(6).reshape(1,2,3)\n",
        "print(a, a.shape, '\\n')"
      ],
      "metadata": {
        "colab": {
          "base_uri": "https://localhost:8080/"
        },
        "id": "nJ8mX40GEARo",
        "outputId": "defaeeac-3379-4934-a9da-a2114d1195f9"
      },
      "execution_count": 99,
      "outputs": [
        {
          "output_type": "stream",
          "name": "stdout",
          "text": [
            "[[[0 1 2]\n",
            "  [3 4 5]]] (1, 2, 3) \n",
            "\n"
          ]
        }
      ]
    },
    {
      "cell_type": "code",
      "source": [
        "y = np.transpose(a, (2,0,1))\n",
        "print(y, y.shape)"
      ],
      "metadata": {
        "colab": {
          "base_uri": "https://localhost:8080/"
        },
        "id": "mA0PkAH-E3nx",
        "outputId": "610d52ff-4995-4ee3-bc91-ff21019e04ba"
      },
      "execution_count": 100,
      "outputs": [
        {
          "output_type": "stream",
          "name": "stdout",
          "text": [
            "[[[0 3]]\n",
            "\n",
            " [[1 4]]\n",
            "\n",
            " [[2 5]]] (3, 1, 2)\n"
          ]
        }
      ]
    },
    {
      "cell_type": "code",
      "source": [
        "#ex (0,1,2)-(3차원, 2차원, 1차원) ->(1,2,0)\n",
        "#a 배열에 대해서 첫번째 차원에 두번째 차원을, 두번째 차원자리에 세번째 차원을, 세번째 차원자리에 첫번째 차원을  넣어서 변환하세요\n",
        "print(a, a.shape, '\\n')\n",
        "y = np.transpose(a, (1,2,0))\n",
        "print(y, y.shape)"
      ],
      "metadata": {
        "colab": {
          "base_uri": "https://localhost:8080/"
        },
        "id": "xwG-sgd5FXZS",
        "outputId": "d481f18f-efc6-4911-85a9-ec5d5343e690"
      },
      "execution_count": 104,
      "outputs": [
        {
          "output_type": "stream",
          "name": "stdout",
          "text": [
            "[[[0 1 2]\n",
            "  [3 4 5]]] (1, 2, 3) \n",
            "\n",
            "[[[0]\n",
            "  [1]\n",
            "  [2]]\n",
            "\n",
            " [[3]\n",
            "  [4]\n",
            "  [5]]] (2, 3, 1)\n"
          ]
        }
      ]
    },
    {
      "cell_type": "code",
      "source": [
        "#ex\n",
        "print(a, a.shape, '\\n')\n",
        "y = np.transpose(a, (1,0,2))\n",
        "print(y, y.shape)"
      ],
      "metadata": {
        "colab": {
          "base_uri": "https://localhost:8080/"
        },
        "id": "qpH--VgEF02b",
        "outputId": "7c07566d-4639-4c0b-ae25-f701b0bcb2ee"
      },
      "execution_count": 103,
      "outputs": [
        {
          "output_type": "stream",
          "name": "stdout",
          "text": [
            "[[[0 1 2]\n",
            "  [3 4 5]]] (1, 2, 3) \n",
            "\n",
            "[[[0 1 2]]\n",
            "\n",
            " [[3 4 5]]] (2, 1, 3)\n"
          ]
        }
      ]
    },
    {
      "cell_type": "markdown",
      "source": [
        "배열 기본 연산및 넘파이 제공함수"
      ],
      "metadata": {
        "id": "Z9w_uJrxHmoe"
      }
    },
    {
      "cell_type": "code",
      "source": [
        "arr = np.arange(1,10).reshape(3,3)\n",
        "print(arr,'\\n')\n",
        "print(arr.cumsum(),'\\n')\n",
        "print(arr.cumsum(axis=0),'\\n')\n",
        "print(arr.cumsum(axis=1),'\\n')"
      ],
      "metadata": {
        "colab": {
          "base_uri": "https://localhost:8080/"
        },
        "id": "LR0rQNM_G_BJ",
        "outputId": "8fe3d80e-e920-46b9-8817-4a6f6fdf45dd"
      },
      "execution_count": 106,
      "outputs": [
        {
          "output_type": "stream",
          "name": "stdout",
          "text": [
            "[[1 2 3]\n",
            " [4 5 6]\n",
            " [7 8 9]] \n",
            "\n",
            "[ 1  3  6 10 15 21 28 36 45] \n",
            "\n",
            "[[ 1  2  3]\n",
            " [ 5  7  9]\n",
            " [12 15 18]] \n",
            "\n",
            "[[ 1  3  6]\n",
            " [ 4  9 15]\n",
            " [ 7 15 24]] \n",
            "\n"
          ]
        }
      ]
    },
    {
      "cell_type": "code",
      "source": [
        "#나머지 구하기를 구할때 사용하는 함수\n",
        "value = np.array([15,30,45])\n",
        "value1 = np.array([2,7,9])\n",
        "print(np.mod(value, value1))\n",
        "print(np.remainder(value, value1))"
      ],
      "metadata": {
        "colab": {
          "base_uri": "https://localhost:8080/"
        },
        "id": "aWddy3dUK7kO",
        "outputId": "bbea755f-4b4d-4df9-8900-c79bffcc3b0d"
      },
      "execution_count": 107,
      "outputs": [
        {
          "output_type": "stream",
          "name": "stdout",
          "text": [
            "[1 2 0]\n",
            "[1 2 0]\n"
          ]
        }
      ]
    },
    {
      "cell_type": "code",
      "source": [
        "#역수를 구하느 함수\n",
        "#0을 역수를 취할 수 없기 때문에 divide by zero관련한 warning메시지를 표시\n",
        "value = np.array([0.85, 1.85, 1, 100])\n",
        "print(np.reciprocal(value))"
      ],
      "metadata": {
        "colab": {
          "base_uri": "https://localhost:8080/"
        },
        "id": "J5A5wYz8Lj1k",
        "outputId": "40002ad0-8592-40d4-c6b2-9de9c3949f2e"
      },
      "execution_count": 108,
      "outputs": [
        {
          "output_type": "stream",
          "name": "stdout",
          "text": [
            "[1.17647059 0.54054054 1.         0.01      ]\n"
          ]
        }
      ]
    },
    {
      "cell_type": "code",
      "source": [
        "#승수의 결과 값을 표시해주는 함수\n",
        "value = np.array([2,10,15])\n",
        "value1 = np.array([1,2,3])\n",
        "print(np.power(value,2))\n",
        "print(np.power(value,value1))"
      ],
      "metadata": {
        "colab": {
          "base_uri": "https://localhost:8080/"
        },
        "id": "JoKww5DaLxpB",
        "outputId": "0688e56e-307b-4137-b139-757186aaa19c"
      },
      "execution_count": 109,
      "outputs": [
        {
          "output_type": "stream",
          "name": "stdout",
          "text": [
            "[  4 100 225]\n",
            "[   2  100 3375]\n"
          ]
        }
      ]
    },
    {
      "cell_type": "code",
      "source": [
        "np.random.seed(0)\n",
        "arr = np.random.randn(10)\n",
        "arr"
      ],
      "metadata": {
        "colab": {
          "base_uri": "https://localhost:8080/"
        },
        "id": "Lry-kNmbMJEh",
        "outputId": "867e3092-05eb-4e2d-9c20-82f164a1d77d"
      },
      "execution_count": 112,
      "outputs": [
        {
          "output_type": "execute_result",
          "data": {
            "text/plain": [
              "array([ 1.76405235,  0.40015721,  0.97873798,  2.2408932 ,  1.86755799,\n",
              "       -0.97727788,  0.95008842, -0.15135721, -0.10321885,  0.4105985 ])"
            ]
          },
          "metadata": {},
          "execution_count": 112
        }
      ]
    },
    {
      "cell_type": "code",
      "source": [
        "(arr > 0).sum() #양수인 원소의 개수, 트루인것의 합 1인거 합"
      ],
      "metadata": {
        "colab": {
          "base_uri": "https://localhost:8080/"
        },
        "id": "ALMWLG74MTol",
        "outputId": "141153b4-2c22-4e92-bf96-b0da91f22fc4"
      },
      "execution_count": 113,
      "outputs": [
        {
          "output_type": "execute_result",
          "data": {
            "text/plain": [
              "7"
            ]
          },
          "metadata": {},
          "execution_count": 113
        }
      ]
    },
    {
      "cell_type": "code",
      "source": [
        "#any 메서드 : 하나 이상의 값이 true인지 검사\n",
        "bools = np.array([False, False, True, True])\n",
        "bools.any()"
      ],
      "metadata": {
        "colab": {
          "base_uri": "https://localhost:8080/"
        },
        "id": "qUNoqZI0MvQ5",
        "outputId": "87defede-63b2-43e1-a237-ab8c97a9f649"
      },
      "execution_count": 114,
      "outputs": [
        {
          "output_type": "execute_result",
          "data": {
            "text/plain": [
              "True"
            ]
          },
          "metadata": {},
          "execution_count": 114
        }
      ]
    },
    {
      "cell_type": "code",
      "source": [
        "#all: 모두가 true인지 검사\n",
        "bools.all()"
      ],
      "metadata": {
        "colab": {
          "base_uri": "https://localhost:8080/"
        },
        "id": "NwYnBY0KNRIh",
        "outputId": "f606108b-392c-40c5-e89a-c0a304738702"
      },
      "execution_count": 115,
      "outputs": [
        {
          "output_type": "execute_result",
          "data": {
            "text/plain": [
              "False"
            ]
          },
          "metadata": {},
          "execution_count": 115
        }
      ]
    },
    {
      "cell_type": "code",
      "source": [
        "#numpy.where함수는 삼항식의 벡터화 버젼\n",
        "arr = np.random.randn(4,4)\n",
        "print(arr)\n",
        "np.where(arr > 0, 1, -1) #삼항식 구조: 조건을 만족하면 1, 아니면 -1"
      ],
      "metadata": {
        "colab": {
          "base_uri": "https://localhost:8080/"
        },
        "id": "tD-mgqOBNVcu",
        "outputId": "99da80a5-72ce-4879-c216-e28f04e8919a"
      },
      "execution_count": 118,
      "outputs": [
        {
          "output_type": "stream",
          "name": "stdout",
          "text": [
            "[[-1.70627019  1.9507754  -0.50965218 -0.4380743 ]\n",
            " [-1.25279536  0.77749036 -1.61389785 -0.21274028]\n",
            " [-0.89546656  0.3869025  -0.51080514 -1.18063218]\n",
            " [-0.02818223  0.42833187  0.06651722  0.3024719 ]]\n"
          ]
        },
        {
          "output_type": "execute_result",
          "data": {
            "text/plain": [
              "array([[-1,  1, -1, -1],\n",
              "       [-1,  1, -1, -1],\n",
              "       [-1,  1, -1, -1],\n",
              "       [-1,  1,  1,  1]])"
            ]
          },
          "metadata": {},
          "execution_count": 118
        }
      ]
    },
    {
      "cell_type": "code",
      "source": [
        "#Q.arr의 모든 양수를 2로 바꾸어 출력하세요 (음수는 변경 없음)\n",
        "arr = np.random.randn(4,4)\n",
        "np.where(arr > 0, 2, arr)"
      ],
      "metadata": {
        "colab": {
          "base_uri": "https://localhost:8080/"
        },
        "id": "lam-0a2sNe2E",
        "outputId": "6423f262-2ba4-4c8f-fac1-0a36702d6aad"
      },
      "execution_count": 121,
      "outputs": [
        {
          "output_type": "execute_result",
          "data": {
            "text/plain": [
              "array([[-0.40317695,  2.        ,  2.        ,  2.        ],\n",
              "       [ 2.        ,  2.        ,  2.        ,  2.        ],\n",
              "       [ 2.        ,  2.        ,  2.        , -1.34775906],\n",
              "       [-1.270485  ,  2.        , -1.17312341,  2.        ]])"
            ]
          },
          "metadata": {},
          "execution_count": 121
        }
      ]
    },
    {
      "cell_type": "markdown",
      "source": [
        "numpy.meshgrid 함수\n",
        "- 두 개 이상의 1차원 배열을 입력으로 받아서 각각의 배열을 기반으로 좌표 그리드를 생성하는 함수.\n",
        "- 이 함수는 종종 함수의 값에 대한 2D 표면 플롯이나 3D 표면 플롯을 생성할 때 유용하게 사용"
      ],
      "metadata": {
        "id": "KG24kHgRPwI4"
      }
    },
    {
      "cell_type": "code",
      "source": [
        "#meshgrid\n",
        "\n",
        "x = np.arange(1,4)\n",
        "y = np.arange(1,4)\n",
        "xs, ys = np.meshgrid(x,y)\n",
        "print(xs)\n",
        "print(ys)"
      ],
      "metadata": {
        "colab": {
          "base_uri": "https://localhost:8080/"
        },
        "id": "DQ6A2QssPYCC",
        "outputId": "67c7c869-f4d7-4fd7-a1d0-c9c19cdfa7cb"
      },
      "execution_count": 122,
      "outputs": [
        {
          "output_type": "stream",
          "name": "stdout",
          "text": [
            "[[1 2 3]\n",
            " [1 2 3]\n",
            " [1 2 3]]\n",
            "[[1 1 1]\n",
            " [2 2 2]\n",
            " [3 3 3]]\n"
          ]
        }
      ]
    },
    {
      "cell_type": "code",
      "source": [
        "import matplotlib.pyplot as plt\n",
        "\n",
        "# 1차원 배열 생성\n",
        "x = np.arange(1, 4)\n",
        "y = np.arange(1, 4)\n",
        "\n",
        "# 2D 그리드 생성\n",
        "xs, ys = np.meshgrid(x, y)\n",
        "\n",
        "# 좌표 그리기\n",
        "plt.figure(figsize=(8, 6))\n",
        "plt.scatter(xs, ys, color='blue')\n",
        "for i in range(len(x)):\n",
        "    for j in range(len(y)):\n",
        "        plt.text(xs[i, j], ys[i, j], f'({xs[i, j]}, {ys[i, j]})', fontsize=12, ha='right')\n",
        "\n",
        "plt.title('2D Grid Coordinates with np.meshgrid')\n",
        "plt.xlabel('X axis')\n",
        "plt.ylabel('Y axis')\n",
        "plt.grid(True)\n",
        "plt.axhline(0, color='black', linewidth=0.5)\n",
        "plt.axvline(0, color='black', linewidth=0.5)\n",
        "plt.show()"
      ],
      "metadata": {
        "colab": {
          "base_uri": "https://localhost:8080/",
          "height": 564
        },
        "id": "AGHF25rgQW6X",
        "outputId": "6b8a7489-bac5-4b35-e5dc-b8ac4a437338"
      },
      "execution_count": 123,
      "outputs": [
        {
          "output_type": "display_data",
          "data": {
            "text/plain": [
              "<Figure size 800x600 with 1 Axes>"
            ],
            "image/png": "[encoded data removed]"
          },
          "metadata": {}
        }
      ]
    },
    {
      "cell_type": "code",
      "source": [
        "#파이썬은 포함\n",
        "#넘파이는 포함 안함\n",
        "arr = np.random.randint(1, 100, size=10)\n",
        "print(arr)\n",
        "print(np.sort(arr))\n",
        "print(arr)"
      ],
      "metadata": {
        "colab": {
          "base_uri": "https://localhost:8080/"
        },
        "id": "qUrS4miMQdQ4",
        "outputId": "6ed3dbe3-73fc-427c-dee5-b187ff09b50e"
      },
      "execution_count": 124,
      "outputs": [
        {
          "output_type": "stream",
          "name": "stdout",
          "text": [
            "[55 80 12 39 94  2 96 45 89 25]\n",
            "[ 2 12 25 39 45 55 80 89 94 96]\n",
            "[55 80 12 39 94  2 96 45 89 25]\n"
          ]
        }
      ]
    },
    {
      "cell_type": "code",
      "source": [
        "sorted = np.sort(arr)\n",
        "print(sorted)"
      ],
      "metadata": {
        "colab": {
          "base_uri": "https://localhost:8080/"
        },
        "id": "R93rtSZuRAjT",
        "outputId": "111e5e83-5a66-4fe9-e2f6-e2dab910172e"
      },
      "execution_count": 125,
      "outputs": [
        {
          "output_type": "stream",
          "name": "stdout",
          "text": [
            "[ 2 12 25 39 45 55 80 89 94 96]\n"
          ]
        }
      ]
    },
    {
      "cell_type": "code",
      "source": [
        "#행렬이 2차원 이상일 경우 axis축 값 설정을 통해 로우 방향, 칼럼 방향으로 정렬 수행\n",
        "array2d = np.array([[8,12],[7,1]])\n",
        "print(array2d,'\\n')\n",
        "sort_array2d_axis0 = np.sort(array2d, axis=0)\n",
        "print(sort_array2d_axis0,'\\n')\n",
        "sort_array2d_axis1 = np.sort(array2d, axis=1)\n",
        "print(sort_array2d_axis1,'\\n')"
      ],
      "metadata": {
        "colab": {
          "base_uri": "https://localhost:8080/"
        },
        "id": "yvfeY_3VRGB2",
        "outputId": "0e6ee8a7-621f-4088-95d4-012efc912725"
      },
      "execution_count": 127,
      "outputs": [
        {
          "output_type": "stream",
          "name": "stdout",
          "text": [
            "[[ 8 12]\n",
            " [ 7  1]] \n",
            "\n",
            "[[ 7  1]\n",
            " [ 8 12]] \n",
            "\n",
            "[[ 8 12]\n",
            " [ 1  7]] \n",
            "\n"
          ]
        }
      ]
    },
    {
      "cell_type": "code",
      "source": [
        "#ndarray.sort() : 원본반영\n",
        "arr = np.random.randn(6)\n",
        "print(arr)\n",
        "arr.sort()# 원본반영\n",
        "print(arr)"
      ],
      "metadata": {
        "colab": {
          "base_uri": "https://localhost:8080/"
        },
        "id": "RFY_CbcFSED6",
        "outputId": "b0a800cf-e6ee-497e-80e0-122b06312267"
      },
      "execution_count": 128,
      "outputs": [
        {
          "output_type": "stream",
          "name": "stdout",
          "text": [
            "[ 0.91820283 -0.15880047 -0.96406336 -1.99077882  0.08973073  0.11485388]\n",
            "[-1.99077882 -0.96406336 -0.15880047  0.08973073  0.11485388  0.91820283]\n"
          ]
        }
      ]
    },
    {
      "cell_type": "code",
      "source": [
        "#파이썬에서 원본 리스트를 바꾸지 않고 정렬된 새로운 리스트 반환: sorted()\n",
        "my_list = [3,1,2]\n",
        "s_list = sorted(my_list)\n",
        "print(s_list)\n",
        "print(my_list)"
      ],
      "metadata": {
        "colab": {
          "base_uri": "https://localhost:8080/"
        },
        "id": "HED0nkSdil9s",
        "outputId": "d14ffeef-871f-43d1-c80c-7204e4ac301d"
      },
      "execution_count": 1,
      "outputs": [
        {
          "output_type": "stream",
          "name": "stdout",
          "text": [
            "[1, 2, 3]\n",
            "[3, 1, 2]\n"
          ]
        }
      ]
    },
    {
      "cell_type": "code",
      "source": [
        "#파이썬 : 원본에 반영하는것은  .sort()\n",
        "my_list = [3,1,2]\n",
        "print(my_list)\n",
        "my_list.sort()\n",
        "print(my_list)"
      ],
      "metadata": {
        "colab": {
          "base_uri": "https://localhost:8080/"
        },
        "id": "OXGuYivIiYEo",
        "outputId": "6f27617e-9059-43a3-e10b-c1ae38e2e87c"
      },
      "execution_count": 4,
      "outputs": [
        {
          "output_type": "stream",
          "name": "stdout",
          "text": [
            "[3, 1, 2]\n",
            "[1, 2, 3]\n"
          ]
        }
      ]
    },
    {
      "cell_type": "code",
      "source": [
        "#다차원 배열의 정렬은 sort메서드에 넘긴 축에 따라 1차원 부분을 정렬\n",
        "import numpy as np\n",
        "arr =np.random.randn(5,3)\n",
        "print(arr)\n",
        "arr.sort(1) #원본 반영 1이면 열쪽으로 소트\n",
        "arr"
      ],
      "metadata": {
        "colab": {
          "base_uri": "https://localhost:8080/"
        },
        "id": "yrIrFfWjh_HC",
        "outputId": "b9320b1c-3cd5-4fd9-f0fc-ad189812f640"
      },
      "execution_count": 2,
      "outputs": [
        {
          "output_type": "stream",
          "name": "stdout",
          "text": [
            "[[ 1.93468545e+00  5.62718265e-02 -1.30205548e+00]\n",
            " [-1.32758297e-03 -8.51780071e-01  1.12785766e+00]\n",
            " [-8.34651381e-01 -1.26698142e+00  1.12634621e-01]\n",
            " [-3.40456029e-01 -7.91962664e-01  1.48355640e+00]\n",
            " [-7.30020338e-01  5.67879191e-01  5.58026405e-01]]\n"
          ]
        },
        {
          "output_type": "execute_result",
          "data": {
            "text/plain": [
              "array([[-1.30205548e+00,  5.62718265e-02,  1.93468545e+00],\n",
              "       [-8.51780071e-01, -1.32758297e-03,  1.12785766e+00],\n",
              "       [-1.26698142e+00, -8.34651381e-01,  1.12634621e-01],\n",
              "       [-7.91962664e-01, -3.40456029e-01,  1.48355640e+00],\n",
              "       [-7.30020338e-01,  5.58026405e-01,  5.67879191e-01]])"
            ]
          },
          "metadata": {},
          "execution_count": 2
        }
      ]
    },
    {
      "cell_type": "code",
      "source": [
        "arr.sort(0) #원본 반영 이면 행쪽으로 소트\n",
        "arr"
      ],
      "metadata": {
        "colab": {
          "base_uri": "https://localhost:8080/"
        },
        "id": "t03fN9uDj6bV",
        "outputId": "be991aa2-6764-4622-9b96-ad3d22b2e7a2"
      },
      "execution_count": 5,
      "outputs": [
        {
          "output_type": "execute_result",
          "data": {
            "text/plain": [
              "array([[-1.30205548e+00, -8.34651381e-01,  1.12634621e-01],\n",
              "       [-1.26698142e+00, -3.40456029e-01,  5.67879191e-01],\n",
              "       [-8.51780071e-01, -1.32758297e-03,  1.12785766e+00],\n",
              "       [-7.91962664e-01,  5.62718265e-02,  1.48355640e+00],\n",
              "       [-7.30020338e-01,  5.58026405e-01,  1.93468545e+00]])"
            ]
          },
          "metadata": {},
          "execution_count": 5
        }
      ]
    },
    {
      "cell_type": "code",
      "source": [
        "#정렬된 행렬의 인덱스 반환: 기존 원본 행렬의 원소에 대한 인덱스를 필요할 때 사용 - 중요\n",
        "\n",
        "ori = np.array([3,1,9,5])\n",
        "sort_indices = np.argsort(ori)\n",
        "print(ori)\n",
        "print(type(sort_indices))\n",
        "sort_indices"
      ],
      "metadata": {
        "colab": {
          "base_uri": "https://localhost:8080/"
        },
        "id": "67Sqp-o7k3-s",
        "outputId": "1ebdc919-207a-4c1e-acb8-4031dbb01b13"
      },
      "execution_count": 6,
      "outputs": [
        {
          "output_type": "stream",
          "name": "stdout",
          "text": [
            "[3 1 9 5]\n",
            "<class 'numpy.ndarray'>\n"
          ]
        },
        {
          "output_type": "execute_result",
          "data": {
            "text/plain": [
              "array([1, 0, 3, 2])"
            ]
          },
          "metadata": {},
          "execution_count": 6
        }
      ]
    },
    {
      "cell_type": "code",
      "source": [
        "large_arr = np.random.randn(1000)\n",
        "large_arr.sort()\n",
        "print(large_arr[:5])\n",
        "large_arr[int(0.05 * len(large_arr))]  #5%분위수"
      ],
      "metadata": {
        "colab": {
          "base_uri": "https://localhost:8080/"
        },
        "id": "T_sopwd2lrwo",
        "outputId": "9f390fed-41cc-49cd-9f62-528ad09cb3ea"
      },
      "execution_count": 7,
      "outputs": [
        {
          "output_type": "stream",
          "name": "stdout",
          "text": [
            "[-3.43802081 -3.18807195 -2.8299316  -2.747955   -2.7185593 ]\n"
          ]
        },
        {
          "output_type": "execute_result",
          "data": {
            "text/plain": [
              "-1.6097649877517366"
            ]
          },
          "metadata": {},
          "execution_count": 7
        }
      ]
    },
    {
      "cell_type": "markdown",
      "source": [
        "numpy - unique, intersect1d, union1d, in1d 함수"
      ],
      "metadata": {
        "id": "aVDYZLKJmqQA"
      }
    },
    {
      "cell_type": "code",
      "source": [
        "#unique - 고유한 원소를 찾아 정렬 반환\n",
        "x = [1,2,2,3,4,4,4]\n",
        "unique_x = np.unique(x)\n",
        "unique_x\n"
      ],
      "metadata": {
        "colab": {
          "base_uri": "https://localhost:8080/"
        },
        "id": "Zw5FCPDTmhGm",
        "outputId": "4e5cf103-f1c4-485b-8c3c-142c48ce365e"
      },
      "execution_count": 8,
      "outputs": [
        {
          "output_type": "execute_result",
          "data": {
            "text/plain": [
              "array([1, 2, 3, 4])"
            ]
          },
          "metadata": {},
          "execution_count": 8
        }
      ]
    },
    {
      "cell_type": "code",
      "source": [
        "#intersect1d 공통원소를 찾아 정렬된 형태로 반환\n",
        "x = [1,2,3,4]\n",
        "y = [2,3,5,6]\n",
        "intersection = np.intersect1d(x, y)\n",
        "intersection"
      ],
      "metadata": {
        "colab": {
          "base_uri": "https://localhost:8080/"
        },
        "id": "uYoashgnm8pH",
        "outputId": "a94edbb6-e0fc-485f-90e1-601f5f3fe2dd"
      },
      "execution_count": 10,
      "outputs": [
        {
          "output_type": "execute_result",
          "data": {
            "text/plain": [
              "array([2, 3])"
            ]
          },
          "metadata": {},
          "execution_count": 10
        }
      ]
    },
    {
      "cell_type": "code",
      "source": [
        "#union1d - 합집합 정렬 반환\n",
        "x = [1,2,3]\n",
        "y = [2,3,4,5]\n",
        "union = np.union1d(x, y)\n",
        "union"
      ],
      "metadata": {
        "colab": {
          "base_uri": "https://localhost:8080/"
        },
        "id": "ejt-4reznIsB",
        "outputId": "3a566b84-88ec-4cc7-b96b-3cd08155fec0"
      },
      "execution_count": 11,
      "outputs": [
        {
          "output_type": "execute_result",
          "data": {
            "text/plain": [
              "array([1, 2, 3, 4, 5])"
            ]
          },
          "metadata": {},
          "execution_count": 11
        }
      ]
    },
    {
      "cell_type": "code",
      "source": [
        "#배열 x의 각 원소가 배열 y에 존재하는지 여부를 불리언 배열로 반환\n",
        "x = [1,2,3,4]\n",
        "y = [2,4,6]\n",
        "res = np.in1d(x, y)\n",
        "res"
      ],
      "metadata": {
        "colab": {
          "base_uri": "https://localhost:8080/"
        },
        "id": "vN6vxesjnfD5",
        "outputId": "7057ce75-74fd-475e-add5-2a42bdcb3c8e"
      },
      "execution_count": 12,
      "outputs": [
        {
          "output_type": "execute_result",
          "data": {
            "text/plain": [
              "array([False,  True, False,  True])"
            ]
          },
          "metadata": {},
          "execution_count": 12
        }
      ]
    },
    {
      "cell_type": "code",
      "source": [
        "#set함수는 주어진 반복 가능한 객체에서 중복을 제거하고 모든 고유한 원소를 포함하는 집합을 생성\n",
        "names = np.array(['bob','joe','will','bob','joe','joe'])\n",
        "set(names)"
      ],
      "metadata": {
        "colab": {
          "base_uri": "https://localhost:8080/"
        },
        "id": "H32CU741nxjY",
        "outputId": "02d8878d-5eac-43d6-9892-af89a14b79b9"
      },
      "execution_count": 13,
      "outputs": [
        {
          "output_type": "execute_result",
          "data": {
            "text/plain": [
              "{'bob', 'joe', 'will'}"
            ]
          },
          "metadata": {},
          "execution_count": 13
        }
      ]
    },
    {
      "cell_type": "code",
      "source": [
        "#배열 데이터의 입출력\n",
        "#np.save, np.load는 바이너리 형식, .npy파일로 저장\n",
        "arr = np.arange(10)\n",
        "np.save('some_array', arr)"
      ],
      "metadata": {
        "id": "WjEju7Opodtr"
      },
      "execution_count": 14,
      "outputs": []
    },
    {
      "cell_type": "code",
      "source": [
        "!ls"
      ],
      "metadata": {
        "colab": {
          "base_uri": "https://localhost:8080/"
        },
        "id": "_5RQW_ZvpArP",
        "outputId": "cbf38439-6891-47c2-9844-3f8c027ca326"
      },
      "execution_count": 15,
      "outputs": [
        {
          "output_type": "stream",
          "name": "stdout",
          "text": [
            "drive  sample_data  some_array.npy\n"
          ]
        }
      ]
    },
    {
      "cell_type": "code",
      "source": [
        "np.load('some_array.npy')"
      ],
      "metadata": {
        "colab": {
          "base_uri": "https://localhost:8080/"
        },
        "id": "5pxVO4zapBl-",
        "outputId": "fc075ee4-b0db-4dae-f25c-7f5b9e2684fa"
      },
      "execution_count": 16,
      "outputs": [
        {
          "output_type": "execute_result",
          "data": {
            "text/plain": [
              "array([0, 1, 2, 3, 4, 5, 6, 7, 8, 9])"
            ]
          },
          "metadata": {},
          "execution_count": 16
        }
      ]
    },
    {
      "cell_type": "code",
      "source": [
        "#np.savez 여러개의 배열을 압축된 형식으로 저장\n",
        "np.savez('array_archive.npz', a=arr, b=arr)\n"
      ],
      "metadata": {
        "id": "cDLkLEXzpFn3"
      },
      "execution_count": 17,
      "outputs": []
    },
    {
      "cell_type": "code",
      "source": [
        "!ls"
      ],
      "metadata": {
        "colab": {
          "base_uri": "https://localhost:8080/"
        },
        "id": "BurozKgRppT1",
        "outputId": "4c71cc36-d334-4326-e80c-2598fbf62cc0"
      },
      "execution_count": 18,
      "outputs": [
        {
          "output_type": "stream",
          "name": "stdout",
          "text": [
            "array_archive.npz  drive  sample_data  some_array.npy\n"
          ]
        }
      ]
    },
    {
      "cell_type": "code",
      "source": [
        "arch =np.load('array_archive.npz')\n",
        "print(arch['b'])\n",
        "print(arch['a'])"
      ],
      "metadata": {
        "colab": {
          "base_uri": "https://localhost:8080/"
        },
        "id": "qVbzDpIJpp5b",
        "outputId": "23ed21ce-f4f0-49e1-a879-a51eb9fc1c92"
      },
      "execution_count": 19,
      "outputs": [
        {
          "output_type": "stream",
          "name": "stdout",
          "text": [
            "[0 1 2 3 4 5 6 7 8 9]\n",
            "[0 1 2 3 4 5 6 7 8 9]\n"
          ]
        }
      ]
    },
    {
      "cell_type": "code",
      "source": [
        "#q.인덱싱을 사용하여 [1 0 1 0 1 0 1 0 1 0 1 0]를 출력하세요\n",
        "for i in range(10):\n",
        "    arr[i] = (i+1)%2\n",
        "arr"
      ],
      "metadata": {
        "colab": {
          "base_uri": "https://localhost:8080/"
        },
        "id": "ynYIsNa4pwky",
        "outputId": "5387e303-75b7-4c04-e04c-bcd97029ebac"
      },
      "execution_count": 24,
      "outputs": [
        {
          "output_type": "execute_result",
          "data": {
            "text/plain": [
              "array([1, 0, 1, 0, 1, 0, 1, 0, 1, 0])"
            ]
          },
          "metadata": {},
          "execution_count": 24
        }
      ]
    },
    {
      "cell_type": "code",
      "source": [
        "#ex\n",
        "a = np.ones(10, dtype=int)\n",
        "a[[1,3,5,7, 9]] = 0\n",
        "print(a)"
      ],
      "metadata": {
        "colab": {
          "base_uri": "https://localhost:8080/"
        },
        "id": "ELz4rLcTsDUg",
        "outputId": "59bb1c93-9820-41af-c7aa-e4caf423a7ce"
      },
      "execution_count": 26,
      "outputs": [
        {
          "output_type": "stream",
          "name": "stdout",
          "text": [
            "[1 0 1 0 1 0 1 0 1 0]\n"
          ]
        }
      ]
    },
    {
      "cell_type": "code",
      "source": [
        "#ex 류윤선\n",
        "ar = np.arange(1, 11)\n",
        "print(ar, '\\n')\n",
        "\n",
        "arr = ar % 2 == 1\n",
        "print(np.where(arr == True, 1, 0))"
      ],
      "metadata": {
        "colab": {
          "base_uri": "https://localhost:8080/"
        },
        "id": "qixnq13Ouwzm",
        "outputId": "2a60c69c-bbbc-471d-c785-583112b0e88f"
      },
      "execution_count": 29,
      "outputs": [
        {
          "output_type": "stream",
          "name": "stdout",
          "text": [
            "[ 1  2  3  4  5  6  7  8  9 10] \n",
            "\n",
            "[1 0 1 0 1 0 1 0 1 0]\n"
          ]
        }
      ]
    },
    {
      "cell_type": "code",
      "source": [
        "#ex 이상협\n",
        "boos= arr%2 ==0\n",
        "print(boos)\n",
        "boos*1"
      ],
      "metadata": {
        "colab": {
          "base_uri": "https://localhost:8080/"
        },
        "id": "rT89vOrvu0t9",
        "outputId": "747f1d70-a2bb-4518-a4e4-4647506babce"
      },
      "execution_count": 31,
      "outputs": [
        {
          "output_type": "stream",
          "name": "stdout",
          "text": [
            "[False  True False  True False  True False  True False  True]\n"
          ]
        },
        {
          "output_type": "execute_result",
          "data": {
            "text/plain": [
              "array([0, 1, 0, 1, 0, 1, 0, 1, 0, 1])"
            ]
          },
          "metadata": {},
          "execution_count": 31
        }
      ]
    },
    {
      "cell_type": "code",
      "source": [
        "#q. a 배열의 최대값과 최소값의 인덱스를 반환하세요\n",
        "#인덱스!!\n",
        "a = np.arange(1,11)\n",
        "print(np.argmax(a))\n",
        "print(np.argmin(a))"
      ],
      "metadata": {
        "colab": {
          "base_uri": "https://localhost:8080/"
        },
        "id": "ldDlgCm2qJzy",
        "outputId": "7775df70-e548-4cea-ca38-f7d5a0a73851"
      },
      "execution_count": 28,
      "outputs": [
        {
          "output_type": "stream",
          "name": "stdout",
          "text": [
            "9\n",
            "0\n"
          ]
        }
      ]
    },
    {
      "cell_type": "code",
      "source": [],
      "metadata": {
        "id": "q78xfsKiqcp1"
      },
      "execution_count": null,
      "outputs": []
    }
  ]
}