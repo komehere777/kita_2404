{
  "nbformat": 4,
  "nbformat_minor": 0,
  "metadata": {
    "colab": {
      "provenance": []
    },
    "kernelspec": {
      "name": "python3",
      "display_name": "Python 3"
    },
    "language_info": {
      "name": "python"
    }
  },
  "cells": [
    {
      "cell_type": "markdown",
      "source": [
        "# 0603"
      ],
      "metadata": {
        "id": "qrGRIOGNyHv6"
      }
    },
    {
      "cell_type": "markdown",
      "source": [
        "## Contents\n",
        "- 날짜 변환 : to_datetime, to_timestamp, to_period\n",
        "- 날짜 생성 : date_range, period_range\n",
        "- 날짜 인덱싱, 필터링, 집계, 속성 접근, 정렬"
      ],
      "metadata": {
        "id": "8nOORn6dx5Bh"
      }
    },
    {
      "cell_type": "markdown",
      "source": [
        "python, numpy, pandas 날짜 타입 비교 및 정리\n",
        "\n",
        "- datetime은 python 설치 시 기본적으로 내장된 라이브러리로, 날짜를 쓸 것인지, 시간을 쓸 것인지, 날짜시간을 합쳐쓸 것인지에 따라 클래스가 분화되어 있는 것이 특징. 예를들어 '2021-3-16'을 표시하고 싶으면 date 클래스를 사용하고, '2021-3-16 12:34:21'를 표시하고 싶으면 'datetime' 클래스를 사용합니다.\n",
        "- 반면 datetime64(numpy)나 Timestamp(pandas)는 각각 numpy, pandas 라이브러리에서 새로 정의한 날짜시간 클래스입니다. 이 둘은 numpy, pandas를 설치해야만 이용할 수 있고, ***한 클래스로 날짜, 시간, 날짜시간을 모두 정의할 수 있는 것이 특징***\n",
        "- 날짜, 시간 타입은 일반적인 정수, 실수끼리 연산할 때와 달리 단위를 가지고 있는 점 때문에 시간의 차이를 저장하는 별도의 클래스가 있다는 특징. 이를 timedelta(타임델타)라고 하는데, 날짜, 시간은 특정 시점의 시각을 표시하는 용도이고(2021년 3월 16일), ***타임델타는 기간 또는 시간 차이를 표시하는 용도***(5일)"
      ],
      "metadata": {
        "id": "I5O7kHB0yQI5"
      }
    },
    {
      "cell_type": "markdown",
      "source": [
        "파이썬 datetime 모듈\n",
        "- 기본 개념: datetime 모듈은 날짜 및 시간을 다루는 기본적인 클래스들(date, time, datetime, timedelta, tzinfo)을 제공\n",
        "- 날짜 생성 및 조작: 특정 날짜를 생성하거나 날짜 간의 차이를 계산하는 등의 기능을 수행\n",
        "- 포맷팅: strftime()을 사용하여 날짜를 문자열로, strptime()을 사용하여 문자열을 날짜로 변환\n",
        "- 시간대 처리: 시간대를 처리하는 기능을 포함하고 있지만, 별도의 라이브러리(pytz 등)의 도움이 필요\n",
        "\n",
        "판다스\n",
        "- 시계열 데이터 처리에 최적화: 판다스는 시계열 데이터 처리에 특화되어 있으며, 대량의 날짜 데이터를 빠르고 효율적으로 처리할 수 있다.\n",
        "- DateTimeIndex: 판다스는 DateTimeIndex를 제공하여 시계열 데이터의 인덱싱과 슬라이싱을 간편하게 한다.\n",
        "- 시간대 처리: 판다스는 내장된 시간대 처리 기능을 제공하며, 시간대 변환을 손쉽게 할 수 있다.\n",
        "- 날짜 데이터 변환 및 조작: to_datetime() 함수로 다양한 형식의 날짜 문자열을 datetime 객체로 변환할 수 있다. 또한, resample, asfreq 등의 메서드로 시계열 데이터의 빈도를 변경하는 등 다양한 날짜 관련 조작을 지원.\n",
        "- 통합된 데이터 처리: 판다스는 DataFrame이나 Series 내의 날짜 데이터를 다룰 때, 다른 데이터 유형과의 통합된 처리가 가능.\n",
        "\n",
        "포인트\n",
        "- 파이썬 datetime: 날짜 및 시간의 기본적인 처리에 적합하며, 작고 단순한 날짜 관련 작업에 이상적이다.\n",
        "- 판다스: 대규모 데이터셋에서 복잡하고 ***고급 시계열 데이터 처리***에 적합하며, 데이터 분석과 관련된 다양한 기능을 제공한다.\n",
        "- 사용 사례에 따라 적절한 도구를 선택하는 것이 중요. 작은 규모의 기본적인 날짜 연산에는 datetime을, 복잡한 데이터셋과 시계열 분석에는 판다스를 사용하는 것이 일반적.\n",
        "\n",
        "Python의 datetime 모듈을 사용한 날짜 처리 예시. 이 예제들은 datetime 모듈을 사용하여 날짜 및 시간 데이터를 다루는 기본적인 방법을 보여준다.\n",
        "\n",
        "- 현재 날짜 **및** 시간 얻기: datetime.now()를 사용.\n",
        "- 특정 날짜 및 시간 생성: datetime 객체를 직접 생성.\n",
        "- 날짜 간 차이 계산: timedelta를 사용.\n",
        "- 날짜 포맷팅: 날짜를 문자열로 변환하거나 문자열로부터 날짜를 파싱.\n",
        "- 날짜와 시간 요소 접근: 날짜의 연도, 월, 일 등을 접근.\n",
        "\n",
        "판다스를 사용한 날짜 처리의 예. 이 예제들은 판다스가 시계열 데이터를 어떻게 다룰 수 있는지 보여준다.\n",
        "\n",
        "- 날짜 범위 생성: pd.date_range()를 사용하여 날짜 범위를 생성.\n",
        "- 날짜 변환: 문자열을 **pd.to_datetime()**을 사용하여 날짜 객체로 변환.\n",
        "- 시계열 데이터 생성: 날짜를 인덱스로 사용하는 시계열 데이터를 생성.\n",
        "- 날짜 기반 필터링: 특정 날짜 조건을 만족하는 데이터를 필터링.\n",
        "- 시계열 데이터 리샘플링: 월별 평균 등으로 데이터를 리샘플링.\n",
        "- 이 코드를 실행하면, 판다스를 사용하여 날짜 데이터를 다양하게 처리하는 방법을 확인할 수 있다. 날짜 범위 생성, 날짜 변환, 시계열 데이터 처리 등은 데이터 분석에서 매우 유용하게 활용."
      ],
      "metadata": {
        "id": "1Ga75eFsx9Bu"
      }
    },
    {
      "cell_type": "code",
      "execution_count": 4,
      "metadata": {
        "colab": {
          "base_uri": "https://localhost:8080/"
        },
        "id": "dENLv57hxnjU",
        "outputId": "c693c5d2-18d6-48d5-c603-3157a5343422"
      },
      "outputs": [
        {
          "output_type": "stream",
          "name": "stdout",
          "text": [
            "2022-01-01 00:00:00 <class 'pandas._libs.tslibs.timestamps.Timestamp'>\n",
            "2022-01-01\n",
            "00:00:00\n"
          ]
        }
      ],
      "source": [
        "#문자열 형식의 날짜를 datetime형식으로 변환하여 처리\n",
        "import pandas as pd\n",
        "\n",
        "date_str = '2022-01-01'\n",
        "date_dt = pd.to_datetime(date_str)\n",
        "print(date_dt, type(date_dt))\n",
        "#2022-01-01 00:00:00 <class 'pandas._libs.tslibs.timestamps.Timestamp'>\n",
        "\n",
        "print(date_dt.date())       #날짜만\n",
        "print(date_dt.time())       #시간만"
      ]
    },
    {
      "cell_type": "code",
      "source": [
        "#날짜 변환\n",
        "dates = ['2020-01-01','2020-01-05','2020-01-10']    #리스트 형태\n",
        "date_objects =pd.to_datetime(dates)\n",
        "print('날짜객체:', date_objects)\n",
        "print(type(date_objects))\n",
        "\n",
        "date_only_list = [date.date() for date in date_objects]\n",
        "print(date_only_list)"
      ],
      "metadata": {
        "colab": {
          "base_uri": "https://localhost:8080/"
        },
        "id": "g6HWTfax3asu",
        "outputId": "a549814c-ea27-4f7e-b3a5-c401275b1297"
      },
      "execution_count": 9,
      "outputs": [
        {
          "output_type": "stream",
          "name": "stdout",
          "text": [
            "날짜객체: DatetimeIndex(['2020-01-01', '2020-01-05', '2020-01-10'], dtype='datetime64[ns]', freq=None)\n",
            "<class 'pandas.core.indexes.datetimes.DatetimeIndex'>\n",
            "[datetime.date(2020, 1, 1), datetime.date(2020, 1, 5), datetime.date(2020, 1, 10)]\n"
          ]
        }
      ]
    },
    {
      "cell_type": "markdown",
      "source": [
        "Q. [datetime.date(2020, 1, 1), datetime.date(2020, 1, 5), datetime.date(2020, 1, 10)]를 다시 ['2020-01-01','2020-01-05','2020-01-10']의 형태로 출력"
      ],
      "metadata": {
        "id": "g49vxMmN5ajm"
      }
    },
    {
      "cell_type": "code",
      "source": [
        "dates = ['2020-01-01','2020-01-05','2020-01-10']\n",
        "\n",
        "date_objects =pd.to_datetime(dates)\n",
        "date_only_list = [date.strftime('%Y-%m-%d') for date in date_objects]\n",
        "print(date_only_list)"
      ],
      "metadata": {
        "colab": {
          "base_uri": "https://localhost:8080/"
        },
        "id": "DeqF6Vw45YfA",
        "outputId": "a6d8ffdf-4e59-4211-aa34-fc7c213ebbb0"
      },
      "execution_count": 11,
      "outputs": [
        {
          "output_type": "stream",
          "name": "stdout",
          "text": [
            "['2020-01-01', '2020-01-05', '2020-01-10']\n"
          ]
        }
      ]
    },
    {
      "cell_type": "code",
      "source": [
        "#pd.date_range함수는 일정한 간격으로 날짜 범위를 생성하는데 사용\n",
        "#pd.date_range함수는 pandas에서 제공하지만 내부적으로 numpy의 날짜/시간 타입인 datetime64를 사용\n",
        "date_range = pd.date_range(start='2020-01-01', end='2020-01-10')\n",
        "print(date_range)"
      ],
      "metadata": {
        "colab": {
          "base_uri": "https://localhost:8080/"
        },
        "id": "HJVPntuo4EL-",
        "outputId": "2865f493-44ae-4ccc-f4de-345f2b576dc8"
      },
      "execution_count": 7,
      "outputs": [
        {
          "output_type": "stream",
          "name": "stdout",
          "text": [
            "DatetimeIndex(['2020-01-01', '2020-01-02', '2020-01-03', '2020-01-04',\n",
            "               '2020-01-05', '2020-01-06', '2020-01-07', '2020-01-08',\n",
            "               '2020-01-09', '2020-01-10'],\n",
            "              dtype='datetime64[ns]', freq='D')\n"
          ]
        }
      ]
    },
    {
      "cell_type": "code",
      "source": [
        "#날짜를 인덱스로 설정하여 데이터프레임을 구성하면 날짜를 기준으로 데이터 조작이 용이\n",
        "data = {'date': ['2020-01-01', '2020-01-02', '2020-01-03'], 'value': [1,2,3]}\n",
        "df = pd.DataFrame(data)\n",
        "print(df)\n",
        "df['date'] = pd.to_datetime(df['date'])\n"
      ],
      "metadata": {
        "colab": {
          "base_uri": "https://localhost:8080/"
        },
        "id": "Q2w54crJ4rVx",
        "outputId": "7e1f6ae9-ee1c-44d6-86a0-d5ed5f21b667"
      },
      "execution_count": 13,
      "outputs": [
        {
          "output_type": "stream",
          "name": "stdout",
          "text": [
            "         date  value\n",
            "0  2020-01-01      1\n",
            "1  2020-01-02      2\n",
            "2  2020-01-03      3\n"
          ]
        }
      ]
    },
    {
      "cell_type": "code",
      "source": [
        "#날짜를 인덱스로 설정하여 데이터프레임을 구성하면 날짜를 기준으로 데이터 조작이 용이\n",
        "data = {'date': ['2020-01-01', '2020-01-02', '2020-01-03'], 'value': [1,2,3]}\n",
        "df = pd.DataFrame(data)\n",
        "# df['date'] = pd.to_datetime(df['date'])\n",
        "df.set_index('date', inplace=True)\n",
        "print(df)"
      ],
      "metadata": {
        "colab": {
          "base_uri": "https://localhost:8080/"
        },
        "id": "uPBkVBN07uFd",
        "outputId": "96492aef-7aa3-48d2-ce2e-3aeb111f6b4e"
      },
      "execution_count": 14,
      "outputs": [
        {
          "output_type": "stream",
          "name": "stdout",
          "text": [
            "            value\n",
            "date             \n",
            "2020-01-01      1\n",
            "2020-01-02      2\n",
            "2020-01-03      3\n"
          ]
        }
      ]
    },
    {
      "cell_type": "code",
      "source": [
        "df.index.name = None\n",
        "df"
      ],
      "metadata": {
        "colab": {
          "base_uri": "https://localhost:8080/",
          "height": 143
        },
        "id": "0y5ukx728Utd",
        "outputId": "13f8bfcb-dc92-4645-ff0c-bdfe94ef578f"
      },
      "execution_count": 15,
      "outputs": [
        {
          "output_type": "execute_result",
          "data": {
            "text/plain": [
              "            value\n",
              "2020-01-01      1\n",
              "2020-01-02      2\n",
              "2020-01-03      3"
            ],
            "text/html": [
              "\n",
              "  <div id=\"df-a5d0f128-5340-4cac-88c7-3cb344a58f67\" class=\"colab-df-container\">\n",
              "    <div>\n",
              "<style scoped>\n",
              "    .dataframe tbody tr th:only-of-type {\n",
              "        vertical-align: middle;\n",
              "    }\n",
              "\n",
              "    .dataframe tbody tr th {\n",
              "        vertical-align: top;\n",
              "    }\n",
              "\n",
              "    .dataframe thead th {\n",
              "        text-align: right;\n",
              "    }\n",
              "</style>\n",
              "<table border=\"1\" class=\"dataframe\">\n",
              "  <thead>\n",
              "    <tr style=\"text-align: right;\">\n",
              "      <th></th>\n",
              "      <th>value</th>\n",
              "    </tr>\n",
              "  </thead>\n",
              "  <tbody>\n",
              "    <tr>\n",
              "      <th>2020-01-01</th>\n",
              "      <td>1</td>\n",
              "    </tr>\n",
              "    <tr>\n",
              "      <th>2020-01-02</th>\n",
              "      <td>2</td>\n",
              "    </tr>\n",
              "    <tr>\n",
              "      <th>2020-01-03</th>\n",
              "      <td>3</td>\n",
              "    </tr>\n",
              "  </tbody>\n",
              "</table>\n",
              "</div>\n",
              "    <div class=\"colab-df-buttons\">\n",
              "\n",
              "  <div class=\"colab-df-container\">\n",
              "    <button class=\"colab-df-convert\" onclick=\"convertToInteractive('df-a5d0f128-5340-4cac-88c7-3cb344a58f67')\"\n",
              "            title=\"Convert this dataframe to an interactive table.\"\n",
              "            style=\"display:none;\">\n",
              "\n",
              "  <svg xmlns=\"http://www.w3.org/2000/svg\" height=\"24px\" viewBox=\"0 -960 960 960\">\n",
              "    <path d=\"M120-120v-720h720v720H120Zm60-500h600v-160H180v160Zm220 220h160v-160H400v160Zm0 220h160v-160H400v160ZM180-400h160v-160H180v160Zm440 0h160v-160H620v160ZM180-180h160v-160H180v160Zm440 0h160v-160H620v160Z\"/>\n",
              "  </svg>\n",
              "    </button>\n",
              "\n",
              "  <style>\n",
              "    .colab-df-container {\n",
              "      display:flex;\n",
              "      gap: 12px;\n",
              "    }\n",
              "\n",
              "    .colab-df-convert {\n",
              "      background-color: #E8F0FE;\n",
              "      border: none;\n",
              "      border-radius: 50%;\n",
              "      cursor: pointer;\n",
              "      display: none;\n",
              "      fill: #1967D2;\n",
              "      height: 32px;\n",
              "      padding: 0 0 0 0;\n",
              "      width: 32px;\n",
              "    }\n",
              "\n",
              "    .colab-df-convert:hover {\n",
              "      background-color: #E2EBFA;\n",
              "      box-shadow: 0px 1px 2px rgba(60, 64, 67, 0.3), 0px 1px 3px 1px rgba(60, 64, 67, 0.15);\n",
              "      fill: #174EA6;\n",
              "    }\n",
              "\n",
              "    .colab-df-buttons div {\n",
              "      margin-bottom: 4px;\n",
              "    }\n",
              "\n",
              "    [theme=dark] .colab-df-convert {\n",
              "      background-color: #3B4455;\n",
              "      fill: #D2E3FC;\n",
              "    }\n",
              "\n",
              "    [theme=dark] .colab-df-convert:hover {\n",
              "      background-color: #434B5C;\n",
              "      box-shadow: 0px 1px 3px 1px rgba(0, 0, 0, 0.15);\n",
              "      filter: drop-shadow(0px 1px 2px rgba(0, 0, 0, 0.3));\n",
              "      fill: #FFFFFF;\n",
              "    }\n",
              "  </style>\n",
              "\n",
              "    <script>\n",
              "      const buttonEl =\n",
              "        document.querySelector('#df-a5d0f128-5340-4cac-88c7-3cb344a58f67 button.colab-df-convert');\n",
              "      buttonEl.style.display =\n",
              "        google.colab.kernel.accessAllowed ? 'block' : 'none';\n",
              "\n",
              "      async function convertToInteractive(key) {\n",
              "        const element = document.querySelector('#df-a5d0f128-5340-4cac-88c7-3cb344a58f67');\n",
              "        const dataTable =\n",
              "          await google.colab.kernel.invokeFunction('convertToInteractive',\n",
              "                                                    [key], {});\n",
              "        if (!dataTable) return;\n",
              "\n",
              "        const docLinkHtml = 'Like what you see? Visit the ' +\n",
              "          '<a target=\"_blank\" href=https://colab.research.google.com/notebooks/data_table.ipynb>data table notebook</a>'\n",
              "          + ' to learn more about interactive tables.';\n",
              "        element.innerHTML = '';\n",
              "        dataTable['output_type'] = 'display_data';\n",
              "        await google.colab.output.renderOutput(dataTable, element);\n",
              "        const docLink = document.createElement('div');\n",
              "        docLink.innerHTML = docLinkHtml;\n",
              "        element.appendChild(docLink);\n",
              "      }\n",
              "    </script>\n",
              "  </div>\n",
              "\n",
              "\n",
              "<div id=\"df-076c84d4-3248-41b7-b121-40f65ff3c365\">\n",
              "  <button class=\"colab-df-quickchart\" onclick=\"quickchart('df-076c84d4-3248-41b7-b121-40f65ff3c365')\"\n",
              "            title=\"Suggest charts\"\n",
              "            style=\"display:none;\">\n",
              "\n",
              "<svg xmlns=\"http://www.w3.org/2000/svg\" height=\"24px\"viewBox=\"0 0 24 24\"\n",
              "     width=\"24px\">\n",
              "    <g>\n",
              "        <path d=\"M19 3H5c-1.1 0-2 .9-2 2v14c0 1.1.9 2 2 2h14c1.1 0 2-.9 2-2V5c0-1.1-.9-2-2-2zM9 17H7v-7h2v7zm4 0h-2V7h2v10zm4 0h-2v-4h2v4z\"/>\n",
              "    </g>\n",
              "</svg>\n",
              "  </button>\n",
              "\n",
              "<style>\n",
              "  .colab-df-quickchart {\n",
              "      --bg-color: #E8F0FE;\n",
              "      --fill-color: #1967D2;\n",
              "      --hover-bg-color: #E2EBFA;\n",
              "      --hover-fill-color: #174EA6;\n",
              "      --disabled-fill-color: #AAA;\n",
              "      --disabled-bg-color: #DDD;\n",
              "  }\n",
              "\n",
              "  [theme=dark] .colab-df-quickchart {\n",
              "      --bg-color: #3B4455;\n",
              "      --fill-color: #D2E3FC;\n",
              "      --hover-bg-color: #434B5C;\n",
              "      --hover-fill-color: #FFFFFF;\n",
              "      --disabled-bg-color: #3B4455;\n",
              "      --disabled-fill-color: #666;\n",
              "  }\n",
              "\n",
              "  .colab-df-quickchart {\n",
              "    background-color: var(--bg-color);\n",
              "    border: none;\n",
              "    border-radius: 50%;\n",
              "    cursor: pointer;\n",
              "    display: none;\n",
              "    fill: var(--fill-color);\n",
              "    height: 32px;\n",
              "    padding: 0;\n",
              "    width: 32px;\n",
              "  }\n",
              "\n",
              "  .colab-df-quickchart:hover {\n",
              "    background-color: var(--hover-bg-color);\n",
              "    box-shadow: 0 1px 2px rgba(60, 64, 67, 0.3), 0 1px 3px 1px rgba(60, 64, 67, 0.15);\n",
              "    fill: var(--button-hover-fill-color);\n",
              "  }\n",
              "\n",
              "  .colab-df-quickchart-complete:disabled,\n",
              "  .colab-df-quickchart-complete:disabled:hover {\n",
              "    background-color: var(--disabled-bg-color);\n",
              "    fill: var(--disabled-fill-color);\n",
              "    box-shadow: none;\n",
              "  }\n",
              "\n",
              "  .colab-df-spinner {\n",
              "    border: 2px solid var(--fill-color);\n",
              "    border-color: transparent;\n",
              "    border-bottom-color: var(--fill-color);\n",
              "    animation:\n",
              "      spin 1s steps(1) infinite;\n",
              "  }\n",
              "\n",
              "  @keyframes spin {\n",
              "    0% {\n",
              "      border-color: transparent;\n",
              "      border-bottom-color: var(--fill-color);\n",
              "      border-left-color: var(--fill-color);\n",
              "    }\n",
              "    20% {\n",
              "      border-color: transparent;\n",
              "      border-left-color: var(--fill-color);\n",
              "      border-top-color: var(--fill-color);\n",
              "    }\n",
              "    30% {\n",
              "      border-color: transparent;\n",
              "      border-left-color: var(--fill-color);\n",
              "      border-top-color: var(--fill-color);\n",
              "      border-right-color: var(--fill-color);\n",
              "    }\n",
              "    40% {\n",
              "      border-color: transparent;\n",
              "      border-right-color: var(--fill-color);\n",
              "      border-top-color: var(--fill-color);\n",
              "    }\n",
              "    60% {\n",
              "      border-color: transparent;\n",
              "      border-right-color: var(--fill-color);\n",
              "    }\n",
              "    80% {\n",
              "      border-color: transparent;\n",
              "      border-right-color: var(--fill-color);\n",
              "      border-bottom-color: var(--fill-color);\n",
              "    }\n",
              "    90% {\n",
              "      border-color: transparent;\n",
              "      border-bottom-color: var(--fill-color);\n",
              "    }\n",
              "  }\n",
              "</style>\n",
              "\n",
              "  <script>\n",
              "    async function quickchart(key) {\n",
              "      const quickchartButtonEl =\n",
              "        document.querySelector('#' + key + ' button');\n",
              "      quickchartButtonEl.disabled = true;  // To prevent multiple clicks.\n",
              "      quickchartButtonEl.classList.add('colab-df-spinner');\n",
              "      try {\n",
              "        const charts = await google.colab.kernel.invokeFunction(\n",
              "            'suggestCharts', [key], {});\n",
              "      } catch (error) {\n",
              "        console.error('Error during call to suggestCharts:', error);\n",
              "      }\n",
              "      quickchartButtonEl.classList.remove('colab-df-spinner');\n",
              "      quickchartButtonEl.classList.add('colab-df-quickchart-complete');\n",
              "    }\n",
              "    (() => {\n",
              "      let quickchartButtonEl =\n",
              "        document.querySelector('#df-076c84d4-3248-41b7-b121-40f65ff3c365 button');\n",
              "      quickchartButtonEl.style.display =\n",
              "        google.colab.kernel.accessAllowed ? 'block' : 'none';\n",
              "    })();\n",
              "  </script>\n",
              "</div>\n",
              "    </div>\n",
              "  </div>\n"
            ],
            "application/vnd.google.colaboratory.intrinsic+json": {
              "type": "dataframe",
              "variable_name": "df",
              "summary": "{\n  \"name\": \"df\",\n  \"rows\": 3,\n  \"fields\": [\n    {\n      \"column\": \"value\",\n      \"properties\": {\n        \"dtype\": \"number\",\n        \"std\": 1,\n        \"min\": 1,\n        \"max\": 3,\n        \"num_unique_values\": 3,\n        \"samples\": [\n          1,\n          2,\n          3\n        ],\n        \"semantic_type\": \"\",\n        \"description\": \"\"\n      }\n    }\n  ]\n}"
            }
          },
          "metadata": {},
          "execution_count": 15
        }
      ]
    },
    {
      "cell_type": "code",
      "source": [
        "#날짜를 인덱스로 설정한 데이터프레임에서는 특정 기간의 데이터를 쉽게 인덱싱하고 슬라이싱\n",
        "#특정 날짜의 데이터선택\n",
        "print(df.loc['2020-01-02'])\n",
        "#날짜 범위 슬라이싱\n",
        "print(df['2020-01-01' : '2020-01-02'])"
      ],
      "metadata": {
        "colab": {
          "base_uri": "https://localhost:8080/"
        },
        "id": "s4KJ3q2w8HNk",
        "outputId": "7aef5943-e0d4-436f-a7b0-4cffba4c8e1a"
      },
      "execution_count": 17,
      "outputs": [
        {
          "output_type": "stream",
          "name": "stdout",
          "text": [
            "value    2\n",
            "Name: 2020-01-02, dtype: int64\n",
            "            value\n",
            "2020-01-01      1\n",
            "2020-01-02      2\n"
          ]
        }
      ]
    },
    {
      "cell_type": "code",
      "source": [
        "#불리언 조건식을 사용하여 날짜 범위를 필터링\n",
        "\n",
        "date_range = pd.date_range(start='2020-01-01', end='2020-01-10')\n",
        "date_series = pd.Series(date_range)\n",
        "fd = date_series[(date_series >= '2020-01-01') & (date_series <= '2020-01-03')]\n",
        "print(fd)"
      ],
      "metadata": {
        "colab": {
          "base_uri": "https://localhost:8080/"
        },
        "id": "QSyJ_ace84OU",
        "outputId": "6923a560-e382-41a2-cefc-ada96445093f"
      },
      "execution_count": 18,
      "outputs": [
        {
          "output_type": "stream",
          "name": "stdout",
          "text": [
            "0   2020-01-01\n",
            "1   2020-01-02\n",
            "2   2020-01-03\n",
            "dtype: datetime64[ns]\n"
          ]
        }
      ]
    },
    {
      "cell_type": "code",
      "source": [
        "#pandas는 주어진 주기(일, 월, 분기 등)에 따라 데이터를 리샘플링 할 수 있는 기능을 제공.\n",
        "#resample메소드를 사용하면 다양한 방법으로 데이터를 집계\n",
        "date_range = pd.date_range(start='2022-01-01', periods=10, freq='D')\n",
        "data = {'value': range(10)}\n",
        "df = pd.DataFrame(data, index=date_range)\n",
        "print(df,'\\n')\n",
        "monthly_sum = df.resample('M').sum()\n",
        "print(monthly_sum)"
      ],
      "metadata": {
        "colab": {
          "base_uri": "https://localhost:8080/"
        },
        "id": "lmiH8zzn9lvM",
        "outputId": "644fcccf-40e8-4764-d4e3-bf1743c7350f"
      },
      "execution_count": 19,
      "outputs": [
        {
          "output_type": "stream",
          "name": "stdout",
          "text": [
            "            value\n",
            "2022-01-01      0\n",
            "2022-01-02      1\n",
            "2022-01-03      2\n",
            "2022-01-04      3\n",
            "2022-01-05      4\n",
            "2022-01-06      5\n",
            "2022-01-07      6\n",
            "2022-01-08      7\n",
            "2022-01-09      8\n",
            "2022-01-10      9 \n",
            "\n",
            "            value\n",
            "2022-01-31     45\n"
          ]
        }
      ]
    },
    {
      "cell_type": "code",
      "source": [
        "date_range = pd.date_range(start='2022-01-01', periods=10, freq='M')\n",
        "data = {'value': range(10)}\n",
        "df = pd.DataFrame(data, index=date_range)\n",
        "print(df,'\\n')\n",
        "monthly_sum = df.resample('M').sum()\n",
        "print(monthly_sum)"
      ],
      "metadata": {
        "colab": {
          "base_uri": "https://localhost:8080/"
        },
        "id": "HX-xpC-L-qti",
        "outputId": "e39a3b69-c42f-4b49-92b9-56aa9d86bd9e"
      },
      "execution_count": 20,
      "outputs": [
        {
          "output_type": "stream",
          "name": "stdout",
          "text": [
            "            value\n",
            "2022-01-31      0\n",
            "2022-02-28      1\n",
            "2022-03-31      2\n",
            "2022-04-30      3\n",
            "2022-05-31      4\n",
            "2022-06-30      5\n",
            "2022-07-31      6\n",
            "2022-08-31      7\n",
            "2022-09-30      8\n",
            "2022-10-31      9 \n",
            "\n",
            "            value\n",
            "2022-01-31      0\n",
            "2022-02-28      1\n",
            "2022-03-31      2\n",
            "2022-04-30      3\n",
            "2022-05-31      4\n",
            "2022-06-30      5\n",
            "2022-07-31      6\n",
            "2022-08-31      7\n",
            "2022-09-30      8\n",
            "2022-10-31      9\n"
          ]
        }
      ]
    },
    {
      "cell_type": "code",
      "source": [
        "#Q. 365일간 일당을 성과에 따라서 50~100달러를 받는다. 월 별 합계를 구하세요.\n",
        "import numpy as np\n",
        "\n",
        "date_range = pd.date_range(start='2022-01-01', periods=365, freq='D')\n",
        "data = {'value': np.random.randint(50,100,365)}\n",
        "df = pd.DataFrame(data, index=date_range)\n",
        "monthly_sum = df.resample('M').sum()\n",
        "print(monthly_sum)"
      ],
      "metadata": {
        "colab": {
          "base_uri": "https://localhost:8080/"
        },
        "id": "P5ugfVQf-wFD",
        "outputId": "4b3dfeb5-7f06-4b1a-b1ef-8527e6e0e2a3"
      },
      "execution_count": 26,
      "outputs": [
        {
          "output_type": "stream",
          "name": "stdout",
          "text": [
            "            value\n",
            "2022-01-31   2310\n",
            "2022-02-28   2056\n",
            "2022-03-31   2377\n",
            "2022-04-30   2407\n",
            "2022-05-31   2444\n",
            "2022-06-30   2365\n",
            "2022-07-31   2361\n",
            "2022-08-31   2261\n",
            "2022-09-30   2247\n",
            "2022-10-31   2260\n",
            "2022-11-30   2285\n",
            "2022-12-31   2292\n"
          ]
        }
      ]
    },
    {
      "cell_type": "code",
      "source": [
        "#문자열 날짜\n",
        "data = {'date': ['2020-01-01', '2020-01-02', '2020-01-03'], 'value': [1,2,3]}\n",
        "df = pd.DataFrame(data)\n",
        "#dateitme 형식으로 변경\n",
        "df['date'] = pd.to_datetime(df['date'])\n",
        "df.set_index('date', inplace=True)\n",
        "print(df)"
      ],
      "metadata": {
        "colab": {
          "base_uri": "https://localhost:8080/"
        },
        "id": "A8N8lwhW_ycf",
        "outputId": "7f52dc56-1025-4cb7-aa67-bc6f7883abea"
      },
      "execution_count": 27,
      "outputs": [
        {
          "output_type": "stream",
          "name": "stdout",
          "text": [
            "            value\n",
            "date             \n",
            "2020-01-01      1\n",
            "2020-01-02      2\n",
            "2020-01-03      3\n"
          ]
        }
      ]
    },
    {
      "cell_type": "code",
      "source": [
        "#파다스의 datetime 형식 데이터는 다양한 속성에 접근할 수 있다. 예를 들어, 연도, 월, 일, 요일 등을 수비게 추출\n",
        "df['year'] = df.index.year\n",
        "df['month'] = df.index.month\n",
        "df['day'] = df.index.day\n",
        "df['day_of_week'] = df.index.dayofweek\n",
        "print(df)"
      ],
      "metadata": {
        "colab": {
          "base_uri": "https://localhost:8080/"
        },
        "id": "N1Nqiw0JDBYr",
        "outputId": "4a341cf8-39de-445c-b0e1-46c1a605ba83"
      },
      "execution_count": 29,
      "outputs": [
        {
          "output_type": "stream",
          "name": "stdout",
          "text": [
            "            value  year  month  day  dayofweek  day_of_week\n",
            "date                                                       \n",
            "2020-01-01      1  2020      1    1          2            2\n",
            "2020-01-02      2  2020      1    2          3            3\n",
            "2020-01-03      3  2020      1    3          4            4\n"
          ]
        }
      ]
    },
    {
      "cell_type": "code",
      "source": [
        "from google.colab import files\n",
        "uploaded = files.upload()"
      ],
      "metadata": {
        "colab": {
          "base_uri": "https://localhost:8080/",
          "height": 75
        },
        "id": "ZV_1H_o9DleN",
        "outputId": "1a4aa78d-3e68-4a2b-c1e2-73e475c43676"
      },
      "execution_count": 30,
      "outputs": [
        {
          "output_type": "display_data",
          "data": {
            "text/plain": [
              "<IPython.core.display.HTML object>"
            ],
            "text/html": [
              "\n",
              "     <input type=\"file\" id=\"files-75c32a5e-140a-4d97-be76-c520a7fafadf\" name=\"files[]\" multiple disabled\n",
              "        style=\"border:none\" />\n",
              "     <output id=\"result-75c32a5e-140a-4d97-be76-c520a7fafadf\">\n",
              "      Upload widget is only available when the cell has been executed in the\n",
              "      current browser session. Please rerun this cell to enable.\n",
              "      </output>\n",
              "      <script>// Copyright 2017 Google LLC\n",
              "//\n",
              "// Licensed under the Apache License, Version 2.0 (the \"License\");\n",
              "// you may not use this file except in compliance with the License.\n",
              "// You may obtain a copy of the License at\n",
              "//\n",
              "//      http://www.apache.org/licenses/LICENSE-2.0\n",
              "//\n",
              "// Unless required by applicable law or agreed to in writing, software\n",
              "// distributed under the License is distributed on an \"AS IS\" BASIS,\n",
              "// WITHOUT WARRANTIES OR CONDITIONS OF ANY KIND, either express or implied.\n",
              "// See the License for the specific language governing permissions and\n",
              "// limitations under the License.\n",
              "\n",
              "/**\n",
              " * @fileoverview Helpers for google.colab Python module.\n",
              " */\n",
              "(function(scope) {\n",
              "function span(text, styleAttributes = {}) {\n",
              "  const element = document.createElement('span');\n",
              "  element.textContent = text;\n",
              "  for (const key of Object.keys(styleAttributes)) {\n",
              "    element.style[key] = styleAttributes[key];\n",
              "  }\n",
              "  return element;\n",
              "}\n",
              "\n",
              "// Max number of bytes which will be uploaded at a time.\n",
              "const MAX_PAYLOAD_SIZE = 100 * 1024;\n",
              "\n",
              "function _uploadFiles(inputId, outputId) {\n",
              "  const steps = uploadFilesStep(inputId, outputId);\n",
              "  const outputElement = document.getElementById(outputId);\n",
              "  // Cache steps on the outputElement to make it available for the next call\n",
              "  // to uploadFilesContinue from Python.\n",
              "  outputElement.steps = steps;\n",
              "\n",
              "  return _uploadFilesContinue(outputId);\n",
              "}\n",
              "\n",
              "// This is roughly an async generator (not supported in the browser yet),\n",
              "// where there are multiple asynchronous steps and the Python side is going\n",
              "// to poll for completion of each step.\n",
              "// This uses a Promise to block the python side on completion of each step,\n",
              "// then passes the result of the previous step as the input to the next step.\n",
              "function _uploadFilesContinue(outputId) {\n",
              "  const outputElement = document.getElementById(outputId);\n",
              "  const steps = outputElement.steps;\n",
              "\n",
              "  const next = steps.next(outputElement.lastPromiseValue);\n",
              "  return Promise.resolve(next.value.promise).then((value) => {\n",
              "    // Cache the last promise value to make it available to the next\n",
              "    // step of the generator.\n",
              "    outputElement.lastPromiseValue = value;\n",
              "    return next.value.response;\n",
              "  });\n",
              "}\n",
              "\n",
              "/**\n",
              " * Generator function which is called between each async step of the upload\n",
              " * process.\n",
              " * @param {string} inputId Element ID of the input file picker element.\n",
              " * @param {string} outputId Element ID of the output display.\n",
              " * @return {!Iterable<!Object>} Iterable of next steps.\n",
              " */\n",
              "function* uploadFilesStep(inputId, outputId) {\n",
              "  const inputElement = document.getElementById(inputId);\n",
              "  inputElement.disabled = false;\n",
              "\n",
              "  const outputElement = document.getElementById(outputId);\n",
              "  outputElement.innerHTML = '';\n",
              "\n",
              "  const pickedPromise = new Promise((resolve) => {\n",
              "    inputElement.addEventListener('change', (e) => {\n",
              "      resolve(e.target.files);\n",
              "    });\n",
              "  });\n",
              "\n",
              "  const cancel = document.createElement('button');\n",
              "  inputElement.parentElement.appendChild(cancel);\n",
              "  cancel.textContent = 'Cancel upload';\n",
              "  const cancelPromise = new Promise((resolve) => {\n",
              "    cancel.onclick = () => {\n",
              "      resolve(null);\n",
              "    };\n",
              "  });\n",
              "\n",
              "  // Wait for the user to pick the files.\n",
              "  const files = yield {\n",
              "    promise: Promise.race([pickedPromise, cancelPromise]),\n",
              "    response: {\n",
              "      action: 'starting',\n",
              "    }\n",
              "  };\n",
              "\n",
              "  cancel.remove();\n",
              "\n",
              "  // Disable the input element since further picks are not allowed.\n",
              "  inputElement.disabled = true;\n",
              "\n",
              "  if (!files) {\n",
              "    return {\n",
              "      response: {\n",
              "        action: 'complete',\n",
              "      }\n",
              "    };\n",
              "  }\n",
              "\n",
              "  for (const file of files) {\n",
              "    const li = document.createElement('li');\n",
              "    li.append(span(file.name, {fontWeight: 'bold'}));\n",
              "    li.append(span(\n",
              "        `(${file.type || 'n/a'}) - ${file.size} bytes, ` +\n",
              "        `last modified: ${\n",
              "            file.lastModifiedDate ? file.lastModifiedDate.toLocaleDateString() :\n",
              "                                    'n/a'} - `));\n",
              "    const percent = span('0% done');\n",
              "    li.appendChild(percent);\n",
              "\n",
              "    outputElement.appendChild(li);\n",
              "\n",
              "    const fileDataPromise = new Promise((resolve) => {\n",
              "      const reader = new FileReader();\n",
              "      reader.onload = (e) => {\n",
              "        resolve(e.target.result);\n",
              "      };\n",
              "      reader.readAsArrayBuffer(file);\n",
              "    });\n",
              "    // Wait for the data to be ready.\n",
              "    let fileData = yield {\n",
              "      promise: fileDataPromise,\n",
              "      response: {\n",
              "        action: 'continue',\n",
              "      }\n",
              "    };\n",
              "\n",
              "    // Use a chunked sending to avoid message size limits. See b/62115660.\n",
              "    let position = 0;\n",
              "    do {\n",
              "      const length = Math.min(fileData.byteLength - position, MAX_PAYLOAD_SIZE);\n",
              "      const chunk = new Uint8Array(fileData, position, length);\n",
              "      position += length;\n",
              "\n",
              "      const base64 = btoa(String.fromCharCode.apply(null, chunk));\n",
              "      yield {\n",
              "        response: {\n",
              "          action: 'append',\n",
              "          file: file.name,\n",
              "          data: base64,\n",
              "        },\n",
              "      };\n",
              "\n",
              "      let percentDone = fileData.byteLength === 0 ?\n",
              "          100 :\n",
              "          Math.round((position / fileData.byteLength) * 100);\n",
              "      percent.textContent = `${percentDone}% done`;\n",
              "\n",
              "    } while (position < fileData.byteLength);\n",
              "  }\n",
              "\n",
              "  // All done.\n",
              "  yield {\n",
              "    response: {\n",
              "      action: 'complete',\n",
              "    }\n",
              "  };\n",
              "}\n",
              "\n",
              "scope.google = scope.google || {};\n",
              "scope.google.colab = scope.google.colab || {};\n",
              "scope.google.colab._files = {\n",
              "  _uploadFiles,\n",
              "  _uploadFilesContinue,\n",
              "};\n",
              "})(self);\n",
              "</script> "
            ]
          },
          "metadata": {}
        },
        {
          "output_type": "stream",
          "name": "stdout",
          "text": [
            "Saving stock-data.csv to stock-data.csv\n"
          ]
        }
      ]
    },
    {
      "cell_type": "code",
      "source": [
        "df = pd.read_csv('stock-data.csv')\n",
        "df.head()"
      ],
      "metadata": {
        "colab": {
          "base_uri": "https://localhost:8080/",
          "height": 206
        },
        "id": "Sza9iKKQD25b",
        "outputId": "22bf27bc-2bdb-402a-e0ff-63a2f47112d9"
      },
      "execution_count": 49,
      "outputs": [
        {
          "output_type": "execute_result",
          "data": {
            "text/plain": [
              "         Date  Close  Start   High    Low  Volume\n",
              "0  2018-07-02  10100  10850  10900  10000  137977\n",
              "1  2018-06-29  10700  10550  10900   9990  170253\n",
              "2  2018-06-28  10400  10900  10950  10150  155769\n",
              "3  2018-06-27  10900  10800  11050  10500  133548\n",
              "4  2018-06-26  10800  10900  11000  10700   63039"
            ],
            "text/html": [
              "\n",
              "  <div id=\"df-9a2baeb6-a776-4e1a-abb0-5eacce48aae1\" class=\"colab-df-container\">\n",
              "    <div>\n",
              "<style scoped>\n",
              "    .dataframe tbody tr th:only-of-type {\n",
              "        vertical-align: middle;\n",
              "    }\n",
              "\n",
              "    .dataframe tbody tr th {\n",
              "        vertical-align: top;\n",
              "    }\n",
              "\n",
              "    .dataframe thead th {\n",
              "        text-align: right;\n",
              "    }\n",
              "</style>\n",
              "<table border=\"1\" class=\"dataframe\">\n",
              "  <thead>\n",
              "    <tr style=\"text-align: right;\">\n",
              "      <th></th>\n",
              "      <th>Date</th>\n",
              "      <th>Close</th>\n",
              "      <th>Start</th>\n",
              "      <th>High</th>\n",
              "      <th>Low</th>\n",
              "      <th>Volume</th>\n",
              "    </tr>\n",
              "  </thead>\n",
              "  <tbody>\n",
              "    <tr>\n",
              "      <th>0</th>\n",
              "      <td>2018-07-02</td>\n",
              "      <td>10100</td>\n",
              "      <td>10850</td>\n",
              "      <td>10900</td>\n",
              "      <td>10000</td>\n",
              "      <td>137977</td>\n",
              "    </tr>\n",
              "    <tr>\n",
              "      <th>1</th>\n",
              "      <td>2018-06-29</td>\n",
              "      <td>10700</td>\n",
              "      <td>10550</td>\n",
              "      <td>10900</td>\n",
              "      <td>9990</td>\n",
              "      <td>170253</td>\n",
              "    </tr>\n",
              "    <tr>\n",
              "      <th>2</th>\n",
              "      <td>2018-06-28</td>\n",
              "      <td>10400</td>\n",
              "      <td>10900</td>\n",
              "      <td>10950</td>\n",
              "      <td>10150</td>\n",
              "      <td>155769</td>\n",
              "    </tr>\n",
              "    <tr>\n",
              "      <th>3</th>\n",
              "      <td>2018-06-27</td>\n",
              "      <td>10900</td>\n",
              "      <td>10800</td>\n",
              "      <td>11050</td>\n",
              "      <td>10500</td>\n",
              "      <td>133548</td>\n",
              "    </tr>\n",
              "    <tr>\n",
              "      <th>4</th>\n",
              "      <td>2018-06-26</td>\n",
              "      <td>10800</td>\n",
              "      <td>10900</td>\n",
              "      <td>11000</td>\n",
              "      <td>10700</td>\n",
              "      <td>63039</td>\n",
              "    </tr>\n",
              "  </tbody>\n",
              "</table>\n",
              "</div>\n",
              "    <div class=\"colab-df-buttons\">\n",
              "\n",
              "  <div class=\"colab-df-container\">\n",
              "    <button class=\"colab-df-convert\" onclick=\"convertToInteractive('df-9a2baeb6-a776-4e1a-abb0-5eacce48aae1')\"\n",
              "            title=\"Convert this dataframe to an interactive table.\"\n",
              "            style=\"display:none;\">\n",
              "\n",
              "  <svg xmlns=\"http://www.w3.org/2000/svg\" height=\"24px\" viewBox=\"0 -960 960 960\">\n",
              "    <path d=\"M120-120v-720h720v720H120Zm60-500h600v-160H180v160Zm220 220h160v-160H400v160Zm0 220h160v-160H400v160ZM180-400h160v-160H180v160Zm440 0h160v-160H620v160ZM180-180h160v-160H180v160Zm440 0h160v-160H620v160Z\"/>\n",
              "  </svg>\n",
              "    </button>\n",
              "\n",
              "  <style>\n",
              "    .colab-df-container {\n",
              "      display:flex;\n",
              "      gap: 12px;\n",
              "    }\n",
              "\n",
              "    .colab-df-convert {\n",
              "      background-color: #E8F0FE;\n",
              "      border: none;\n",
              "      border-radius: 50%;\n",
              "      cursor: pointer;\n",
              "      display: none;\n",
              "      fill: #1967D2;\n",
              "      height: 32px;\n",
              "      padding: 0 0 0 0;\n",
              "      width: 32px;\n",
              "    }\n",
              "\n",
              "    .colab-df-convert:hover {\n",
              "      background-color: #E2EBFA;\n",
              "      box-shadow: 0px 1px 2px rgba(60, 64, 67, 0.3), 0px 1px 3px 1px rgba(60, 64, 67, 0.15);\n",
              "      fill: #174EA6;\n",
              "    }\n",
              "\n",
              "    .colab-df-buttons div {\n",
              "      margin-bottom: 4px;\n",
              "    }\n",
              "\n",
              "    [theme=dark] .colab-df-convert {\n",
              "      background-color: #3B4455;\n",
              "      fill: #D2E3FC;\n",
              "    }\n",
              "\n",
              "    [theme=dark] .colab-df-convert:hover {\n",
              "      background-color: #434B5C;\n",
              "      box-shadow: 0px 1px 3px 1px rgba(0, 0, 0, 0.15);\n",
              "      filter: drop-shadow(0px 1px 2px rgba(0, 0, 0, 0.3));\n",
              "      fill: #FFFFFF;\n",
              "    }\n",
              "  </style>\n",
              "\n",
              "    <script>\n",
              "      const buttonEl =\n",
              "        document.querySelector('#df-9a2baeb6-a776-4e1a-abb0-5eacce48aae1 button.colab-df-convert');\n",
              "      buttonEl.style.display =\n",
              "        google.colab.kernel.accessAllowed ? 'block' : 'none';\n",
              "\n",
              "      async function convertToInteractive(key) {\n",
              "        const element = document.querySelector('#df-9a2baeb6-a776-4e1a-abb0-5eacce48aae1');\n",
              "        const dataTable =\n",
              "          await google.colab.kernel.invokeFunction('convertToInteractive',\n",
              "                                                    [key], {});\n",
              "        if (!dataTable) return;\n",
              "\n",
              "        const docLinkHtml = 'Like what you see? Visit the ' +\n",
              "          '<a target=\"_blank\" href=https://colab.research.google.com/notebooks/data_table.ipynb>data table notebook</a>'\n",
              "          + ' to learn more about interactive tables.';\n",
              "        element.innerHTML = '';\n",
              "        dataTable['output_type'] = 'display_data';\n",
              "        await google.colab.output.renderOutput(dataTable, element);\n",
              "        const docLink = document.createElement('div');\n",
              "        docLink.innerHTML = docLinkHtml;\n",
              "        element.appendChild(docLink);\n",
              "      }\n",
              "    </script>\n",
              "  </div>\n",
              "\n",
              "\n",
              "<div id=\"df-bb9a3ae2-255f-4330-83b2-bf905ce50e3b\">\n",
              "  <button class=\"colab-df-quickchart\" onclick=\"quickchart('df-bb9a3ae2-255f-4330-83b2-bf905ce50e3b')\"\n",
              "            title=\"Suggest charts\"\n",
              "            style=\"display:none;\">\n",
              "\n",
              "<svg xmlns=\"http://www.w3.org/2000/svg\" height=\"24px\"viewBox=\"0 0 24 24\"\n",
              "     width=\"24px\">\n",
              "    <g>\n",
              "        <path d=\"M19 3H5c-1.1 0-2 .9-2 2v14c0 1.1.9 2 2 2h14c1.1 0 2-.9 2-2V5c0-1.1-.9-2-2-2zM9 17H7v-7h2v7zm4 0h-2V7h2v10zm4 0h-2v-4h2v4z\"/>\n",
              "    </g>\n",
              "</svg>\n",
              "  </button>\n",
              "\n",
              "<style>\n",
              "  .colab-df-quickchart {\n",
              "      --bg-color: #E8F0FE;\n",
              "      --fill-color: #1967D2;\n",
              "      --hover-bg-color: #E2EBFA;\n",
              "      --hover-fill-color: #174EA6;\n",
              "      --disabled-fill-color: #AAA;\n",
              "      --disabled-bg-color: #DDD;\n",
              "  }\n",
              "\n",
              "  [theme=dark] .colab-df-quickchart {\n",
              "      --bg-color: #3B4455;\n",
              "      --fill-color: #D2E3FC;\n",
              "      --hover-bg-color: #434B5C;\n",
              "      --hover-fill-color: #FFFFFF;\n",
              "      --disabled-bg-color: #3B4455;\n",
              "      --disabled-fill-color: #666;\n",
              "  }\n",
              "\n",
              "  .colab-df-quickchart {\n",
              "    background-color: var(--bg-color);\n",
              "    border: none;\n",
              "    border-radius: 50%;\n",
              "    cursor: pointer;\n",
              "    display: none;\n",
              "    fill: var(--fill-color);\n",
              "    height: 32px;\n",
              "    padding: 0;\n",
              "    width: 32px;\n",
              "  }\n",
              "\n",
              "  .colab-df-quickchart:hover {\n",
              "    background-color: var(--hover-bg-color);\n",
              "    box-shadow: 0 1px 2px rgba(60, 64, 67, 0.3), 0 1px 3px 1px rgba(60, 64, 67, 0.15);\n",
              "    fill: var(--button-hover-fill-color);\n",
              "  }\n",
              "\n",
              "  .colab-df-quickchart-complete:disabled,\n",
              "  .colab-df-quickchart-complete:disabled:hover {\n",
              "    background-color: var(--disabled-bg-color);\n",
              "    fill: var(--disabled-fill-color);\n",
              "    box-shadow: none;\n",
              "  }\n",
              "\n",
              "  .colab-df-spinner {\n",
              "    border: 2px solid var(--fill-color);\n",
              "    border-color: transparent;\n",
              "    border-bottom-color: var(--fill-color);\n",
              "    animation:\n",
              "      spin 1s steps(1) infinite;\n",
              "  }\n",
              "\n",
              "  @keyframes spin {\n",
              "    0% {\n",
              "      border-color: transparent;\n",
              "      border-bottom-color: var(--fill-color);\n",
              "      border-left-color: var(--fill-color);\n",
              "    }\n",
              "    20% {\n",
              "      border-color: transparent;\n",
              "      border-left-color: var(--fill-color);\n",
              "      border-top-color: var(--fill-color);\n",
              "    }\n",
              "    30% {\n",
              "      border-color: transparent;\n",
              "      border-left-color: var(--fill-color);\n",
              "      border-top-color: var(--fill-color);\n",
              "      border-right-color: var(--fill-color);\n",
              "    }\n",
              "    40% {\n",
              "      border-color: transparent;\n",
              "      border-right-color: var(--fill-color);\n",
              "      border-top-color: var(--fill-color);\n",
              "    }\n",
              "    60% {\n",
              "      border-color: transparent;\n",
              "      border-right-color: var(--fill-color);\n",
              "    }\n",
              "    80% {\n",
              "      border-color: transparent;\n",
              "      border-right-color: var(--fill-color);\n",
              "      border-bottom-color: var(--fill-color);\n",
              "    }\n",
              "    90% {\n",
              "      border-color: transparent;\n",
              "      border-bottom-color: var(--fill-color);\n",
              "    }\n",
              "  }\n",
              "</style>\n",
              "\n",
              "  <script>\n",
              "    async function quickchart(key) {\n",
              "      const quickchartButtonEl =\n",
              "        document.querySelector('#' + key + ' button');\n",
              "      quickchartButtonEl.disabled = true;  // To prevent multiple clicks.\n",
              "      quickchartButtonEl.classList.add('colab-df-spinner');\n",
              "      try {\n",
              "        const charts = await google.colab.kernel.invokeFunction(\n",
              "            'suggestCharts', [key], {});\n",
              "      } catch (error) {\n",
              "        console.error('Error during call to suggestCharts:', error);\n",
              "      }\n",
              "      quickchartButtonEl.classList.remove('colab-df-spinner');\n",
              "      quickchartButtonEl.classList.add('colab-df-quickchart-complete');\n",
              "    }\n",
              "    (() => {\n",
              "      let quickchartButtonEl =\n",
              "        document.querySelector('#df-bb9a3ae2-255f-4330-83b2-bf905ce50e3b button');\n",
              "      quickchartButtonEl.style.display =\n",
              "        google.colab.kernel.accessAllowed ? 'block' : 'none';\n",
              "    })();\n",
              "  </script>\n",
              "</div>\n",
              "    </div>\n",
              "  </div>\n"
            ],
            "application/vnd.google.colaboratory.intrinsic+json": {
              "type": "dataframe",
              "variable_name": "df",
              "summary": "{\n  \"name\": \"df\",\n  \"rows\": 20,\n  \"fields\": [\n    {\n      \"column\": \"Date\",\n      \"properties\": {\n        \"dtype\": \"object\",\n        \"num_unique_values\": 20,\n        \"samples\": [\n          \"2018-07-02\",\n          \"2018-06-05\",\n          \"2018-06-08\"\n        ],\n        \"semantic_type\": \"\",\n        \"description\": \"\"\n      }\n    },\n    {\n      \"column\": \"Close\",\n      \"properties\": {\n        \"dtype\": \"number\",\n        \"std\": 927,\n        \"min\": 10100,\n        \"max\": 13450,\n        \"num_unique_values\": 16,\n        \"samples\": [\n          10100,\n          10700,\n          11150\n        ],\n        \"semantic_type\": \"\",\n        \"description\": \"\"\n      }\n    },\n    {\n      \"column\": \"Start\",\n      \"properties\": {\n        \"dtype\": \"number\",\n        \"std\": 865,\n        \"min\": 10550,\n        \"max\": 13600,\n        \"num_unique_values\": 17,\n        \"samples\": [\n          10850,\n          10550,\n          11250\n        ],\n        \"semantic_type\": \"\",\n        \"description\": \"\"\n      }\n    },\n    {\n      \"column\": \"High\",\n      \"properties\": {\n        \"dtype\": \"number\",\n        \"std\": 907,\n        \"min\": 10900,\n        \"max\": 13700,\n        \"num_unique_values\": 16,\n        \"samples\": [\n          10900,\n          10950,\n          11750\n        ],\n        \"semantic_type\": \"\",\n        \"description\": \"\"\n      }\n    },\n    {\n      \"column\": \"Low\",\n      \"properties\": {\n        \"dtype\": \"number\",\n        \"std\": 884,\n        \"min\": 9990,\n        \"max\": 13150,\n        \"num_unique_values\": 19,\n        \"samples\": [\n          10000,\n          11000,\n          12900\n        ],\n        \"semantic_type\": \"\",\n        \"description\": \"\"\n      }\n    },\n    {\n      \"column\": \"Volume\",\n      \"properties\": {\n        \"dtype\": \"number\",\n        \"std\": 134473,\n        \"min\": 25171,\n        \"max\": 558148,\n        \"num_unique_values\": 20,\n        \"samples\": [\n          137977,\n          42485,\n          59258\n        ],\n        \"semantic_type\": \"\",\n        \"description\": \"\"\n      }\n    }\n  ]\n}"
            }
          },
          "metadata": {},
          "execution_count": 49
        }
      ]
    },
    {
      "cell_type": "code",
      "source": [
        "df.info()\n",
        "#date가 문자형식"
      ],
      "metadata": {
        "colab": {
          "base_uri": "https://localhost:8080/"
        },
        "id": "yEFCOVDuERVE",
        "outputId": "130f43fe-f69b-4715-b33f-58b6a2fce70f"
      },
      "execution_count": 41,
      "outputs": [
        {
          "output_type": "stream",
          "name": "stdout",
          "text": [
            "<class 'pandas.core.frame.DataFrame'>\n",
            "DatetimeIndex: 20 entries, 2018-07-02 to 2018-06-01\n",
            "Data columns (total 6 columns):\n",
            " #   Column  Non-Null Count  Dtype \n",
            "---  ------  --------------  ----- \n",
            " 0   Date    20 non-null     object\n",
            " 1   Close   20 non-null     int64 \n",
            " 2   Start   20 non-null     int64 \n",
            " 3   High    20 non-null     int64 \n",
            " 4   Low     20 non-null     int64 \n",
            " 5   Volume  20 non-null     int64 \n",
            "dtypes: int64(5), object(1)\n",
            "memory usage: 1.1+ KB\n"
          ]
        }
      ]
    },
    {
      "cell_type": "code",
      "source": [
        "df['Date'] = pd.to_datetime(df['Date'])\n",
        "df.set_index('Date', inplace=True)"
      ],
      "metadata": {
        "id": "purvBqvBGfXw"
      },
      "execution_count": 45,
      "outputs": []
    },
    {
      "cell_type": "code",
      "source": [
        "df.info()"
      ],
      "metadata": {
        "colab": {
          "base_uri": "https://localhost:8080/"
        },
        "id": "wrmUQhJAGwgM",
        "outputId": "571b0515-9d38-419f-efba-b20968f4cf26"
      },
      "execution_count": 47,
      "outputs": [
        {
          "output_type": "stream",
          "name": "stdout",
          "text": [
            "<class 'pandas.core.frame.DataFrame'>\n",
            "DatetimeIndex: 20 entries, 2018-07-02 to 2018-06-01\n",
            "Data columns (total 5 columns):\n",
            " #   Column  Non-Null Count  Dtype\n",
            "---  ------  --------------  -----\n",
            " 0   Close   20 non-null     int64\n",
            " 1   Start   20 non-null     int64\n",
            " 2   High    20 non-null     int64\n",
            " 3   Low     20 non-null     int64\n",
            " 4   Volume  20 non-null     int64\n",
            "dtypes: int64(5)\n",
            "memory usage: 960.0 bytes\n"
          ]
        }
      ]
    },
    {
      "cell_type": "code",
      "source": [
        "df['Date'] = pd.to_datetime(df['Date'])"
      ],
      "metadata": {
        "id": "0B8Eq6SXHGIh"
      },
      "execution_count": 52,
      "outputs": []
    },
    {
      "cell_type": "code",
      "source": [
        "df.head()\n",
        "df.info()\n",
        "df.set_index('Date', inplace=True)"
      ],
      "metadata": {
        "colab": {
          "base_uri": "https://localhost:8080/"
        },
        "id": "szzXrqdcG0rL",
        "outputId": "bb8d8017-d60c-4adf-e773-23d0348876ed"
      },
      "execution_count": 56,
      "outputs": [
        {
          "output_type": "stream",
          "name": "stdout",
          "text": [
            "<class 'pandas.core.frame.DataFrame'>\n",
            "RangeIndex: 20 entries, 0 to 19\n",
            "Data columns (total 6 columns):\n",
            " #   Column  Non-Null Count  Dtype         \n",
            "---  ------  --------------  -----         \n",
            " 0   Date    20 non-null     datetime64[ns]\n",
            " 1   Close   20 non-null     int64         \n",
            " 2   Start   20 non-null     int64         \n",
            " 3   High    20 non-null     int64         \n",
            " 4   Low     20 non-null     int64         \n",
            " 5   Volume  20 non-null     int64         \n",
            "dtypes: datetime64[ns](1), int64(5)\n",
            "memory usage: 1.1 KB\n"
          ]
        }
      ]
    },
    {
      "cell_type": "code",
      "source": [
        "df['New_year'] = df.index.year\n",
        "df['New_month'] = df.index.month\n",
        "df['New_day'] = df.index.day\n",
        "df['New_day_of_week'] = df.index.dayofweek\n",
        "print(df)"
      ],
      "metadata": {
        "colab": {
          "base_uri": "https://localhost:8080/"
        },
        "id": "zY1djmiVEyNq",
        "outputId": "333a89a4-bdf8-4057-8a77-ca426288b1fb"
      },
      "execution_count": 57,
      "outputs": [
        {
          "output_type": "stream",
          "name": "stdout",
          "text": [
            "            Close  Start   High    Low  Volume  New_year  New_month  New_day  \\\n",
            "Date                                                                           \n",
            "2018-07-02  10100  10850  10900  10000  137977      2018          7        2   \n",
            "2018-06-29  10700  10550  10900   9990  170253      2018          6       29   \n",
            "2018-06-28  10400  10900  10950  10150  155769      2018          6       28   \n",
            "2018-06-27  10900  10800  11050  10500  133548      2018          6       27   \n",
            "2018-06-26  10800  10900  11000  10700   63039      2018          6       26   \n",
            "2018-06-25  11150  11400  11450  11000   55519      2018          6       25   \n",
            "2018-06-22  11300  11250  11450  10750  134805      2018          6       22   \n",
            "2018-06-21  11200  11350  11750  11200  133002      2018          6       21   \n",
            "2018-06-20  11550  11200  11600  10900  308596      2018          6       20   \n",
            "2018-06-19  11300  11850  11950  11300  180656      2018          6       19   \n",
            "2018-06-18  12000  13400  13400  12000  309787      2018          6       18   \n",
            "2018-06-15  13400  13600  13600  12900  201376      2018          6       15   \n",
            "2018-06-14  13450  13200  13700  13150  347451      2018          6       14   \n",
            "2018-06-12  13200  12200  13300  12050  558148      2018          6       12   \n",
            "2018-06-11  11950  12000  12250  11950   62293      2018          6       11   \n",
            "2018-06-08  11950  11950  12200  11800   59258      2018          6        8   \n",
            "2018-06-07  11950  12200  12300  11900   49088      2018          6        7   \n",
            "2018-06-05  12150  11800  12250  11800   42485      2018          6        5   \n",
            "2018-06-04  11900  11900  12200  11700   25171      2018          6        4   \n",
            "2018-06-01  11900  11800  12100  11750   32062      2018          6        1   \n",
            "\n",
            "            New_day_of_week  \n",
            "Date                         \n",
            "2018-07-02                0  \n",
            "2018-06-29                4  \n",
            "2018-06-28                3  \n",
            "2018-06-27                2  \n",
            "2018-06-26                1  \n",
            "2018-06-25                0  \n",
            "2018-06-22                4  \n",
            "2018-06-21                3  \n",
            "2018-06-20                2  \n",
            "2018-06-19                1  \n",
            "2018-06-18                0  \n",
            "2018-06-15                4  \n",
            "2018-06-14                3  \n",
            "2018-06-12                1  \n",
            "2018-06-11                0  \n",
            "2018-06-08                4  \n",
            "2018-06-07                3  \n",
            "2018-06-05                1  \n",
            "2018-06-04                0  \n",
            "2018-06-01                4  \n"
          ]
        }
      ]
    },
    {
      "cell_type": "code",
      "source": [
        "#새로운 날짜 열에서 연도, 월, 일 정보를 추출하여 새로운 열을 추가하는 작업을 수행\n",
        "#dt접근자는 열에 대해 다양한 날짜 및 시간 관련 속성을 추출하는데 사용\n",
        "\n",
        "df['year'] = df['New_Date'].dt.year\n",
        "#https://pandas.pydata.org/docs/reference/api/pandas.Series.dt.html\n",
        "#https://pandas.pydata.org/docs/reference/api/pandas.Series.dt.html#pandas.Series.dt\n",
        "#접근자\n",
        "#판다스 데이터프레임내 시간 접근자 : dt"
      ],
      "metadata": {
        "id": "n78shKt_FIH2"
      },
      "execution_count": null,
      "outputs": []
    }
  ]
}