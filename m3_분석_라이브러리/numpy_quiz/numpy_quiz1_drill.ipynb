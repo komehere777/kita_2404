{
  "cells": [
    {
      "cell_type": "markdown",
      "source": [
        "## Numpy Quiz1"
      ],
      "metadata": {
        "id": "RoOMFkDduWog"
      }
    },
    {
      "cell_type": "markdown",
      "source": [
        "Q1. arange(), reshape() 이용 1차원 2차원 3차원 배열 생성"
      ],
      "metadata": {
        "id": "A6oIhoWUdNJG"
      }
    },
    {
      "cell_type": "code",
      "source": [
        "import numpy as np\n",
        "d1 = np.arange(10)\n",
        "print(d1)\n",
        "d2 = np.arange(10).reshape(2,5)\n",
        "print(d2)\n",
        "d3 = np.arange(30).reshape(2,3,5)\n",
        "print(d3)"
      ],
      "metadata": {
        "colab": {
          "base_uri": "https://localhost:8080/"
        },
        "id": "di3SxzA6wor4",
        "outputId": "e48af08f-c33b-4425-e471-5aeb4015addd"
      },
      "execution_count": null,
      "outputs": [
        {
          "output_type": "stream",
          "name": "stdout",
          "text": [
            "[0 1 2 3 4 5 6 7 8 9]\n",
            "[[0 1 2 3 4]\n",
            " [5 6 7 8 9]]\n",
            "[[[ 0  1  2  3  4]\n",
            "  [ 5  6  7  8  9]\n",
            "  [10 11 12 13 14]]\n",
            "\n",
            " [[15 16 17 18 19]\n",
            "  [20 21 22 23 24]\n",
            "  [25 26 27 28 29]]]\n"
          ]
        }
      ]
    },
    {
      "cell_type": "code",
      "source": [
        "import numpy as np\n",
        "\n",
        "ar = np.arange(10)\n",
        "print(ar)\n",
        "ar1 = ar.reshape(-1)\n",
        "print(ar1)\n",
        "ar2 = ar.reshape(2,-1)\n",
        "print(ar2)\n",
        "ar3 = ar.reshape(2,5,-1)\n",
        "print(ar3)"
      ],
      "metadata": {
        "colab": {
          "base_uri": "https://localhost:8080/"
        },
        "id": "yKmPB-2zHG7X",
        "outputId": "90229b7a-9218-4187-e011-0ee3de161f5c"
      },
      "execution_count": 1,
      "outputs": [
        {
          "output_type": "stream",
          "name": "stdout",
          "text": [
            "[0 1 2 3 4 5 6 7 8 9]\n",
            "[0 1 2 3 4 5 6 7 8 9]\n",
            "[[0 1 2 3 4]\n",
            " [5 6 7 8 9]]\n",
            "[[[0]\n",
            "  [1]\n",
            "  [2]\n",
            "  [3]\n",
            "  [4]]\n",
            "\n",
            " [[5]\n",
            "  [6]\n",
            "  [7]\n",
            "  [8]\n",
            "  [9]]]\n"
          ]
        }
      ]
    },
    {
      "cell_type": "code",
      "source": [
        "#ex\n",
        "\n",
        "ar = np.arange(10)\n",
        "ar1 = ar.reshape(-1,)\n",
        "ar2 = ar.reshape(2, -1)\n",
        "ar3 = ar.reshape(-1, 2,5)"
      ],
      "metadata": {
        "id": "pWG15xqa9GXZ"
      },
      "execution_count": null,
      "outputs": []
    },
    {
      "cell_type": "markdown",
      "source": [
        "Q2. reshape(-1,-1)을 이용 1차원을 2차원, 3차원으로 2차원을 1차원 3차원으로 3차원을 1차원 2차원으로 변환"
      ],
      "metadata": {
        "id": "761tjFT9dZg5"
      }
    },
    {
      "cell_type": "code",
      "source": [
        "d1 = np.arange(30)\n",
        "d2 = d1.reshape(3,-1)\n",
        "print(d2)\n",
        "d3 = d2.reshape(3,2,-1)\n",
        "print(d3)\n",
        "d2_2 = d3.reshape(3,-1)\n",
        "print(d2_2)\n",
        "d1_1 = d2_2.reshape(-1)\n",
        "print(d1_1)"
      ],
      "metadata": {
        "colab": {
          "base_uri": "https://localhost:8080/"
        },
        "id": "g2ToDgJ_xfPN",
        "outputId": "44b1d8bc-e029-4c69-d274-a35f52a8b508"
      },
      "execution_count": null,
      "outputs": [
        {
          "output_type": "stream",
          "name": "stdout",
          "text": [
            "[[ 0  1  2  3  4  5  6  7  8  9]\n",
            " [10 11 12 13 14 15 16 17 18 19]\n",
            " [20 21 22 23 24 25 26 27 28 29]]\n",
            "[[[ 0  1  2  3  4]\n",
            "  [ 5  6  7  8  9]]\n",
            "\n",
            " [[10 11 12 13 14]\n",
            "  [15 16 17 18 19]]\n",
            "\n",
            " [[20 21 22 23 24]\n",
            "  [25 26 27 28 29]]]\n",
            "[[ 0  1  2  3  4  5  6  7  8  9]\n",
            " [10 11 12 13 14 15 16 17 18 19]\n",
            " [20 21 22 23 24 25 26 27 28 29]]\n",
            "[ 0  1  2  3  4  5  6  7  8  9 10 11 12 13 14 15 16 17 18 19 20 21 22 23\n",
            " 24 25 26 27 28 29]\n"
          ]
        }
      ]
    },
    {
      "cell_type": "code",
      "source": [
        "#drill\n",
        "ar = np.arange(30)\n",
        "ar1 = ar.reshape(-1)\n",
        "print(ar1)\n",
        "ar12 = ar1.reshape(2,-1)\n",
        "print(ar12)\n",
        "ar13 = ar1.reshape(2,5,-1)\n",
        "print(ar13)\n"
      ],
      "metadata": {
        "id": "63Ez5Ds79Jo0",
        "colab": {
          "base_uri": "https://localhost:8080/"
        },
        "outputId": "67462e78-c585-413c-d898-5c49a1b8842b"
      },
      "execution_count": 4,
      "outputs": [
        {
          "output_type": "stream",
          "name": "stdout",
          "text": [
            "[ 0  1  2  3  4  5  6  7  8  9 10 11 12 13 14 15 16 17 18 19 20 21 22 23\n",
            " 24 25 26 27 28 29]\n",
            "[[ 0  1  2  3  4  5  6  7  8  9 10 11 12 13 14]\n",
            " [15 16 17 18 19 20 21 22 23 24 25 26 27 28 29]]\n",
            "[[[ 0  1  2]\n",
            "  [ 3  4  5]\n",
            "  [ 6  7  8]\n",
            "  [ 9 10 11]\n",
            "  [12 13 14]]\n",
            "\n",
            " [[15 16 17]\n",
            "  [18 19 20]\n",
            "  [21 22 23]\n",
            "  [24 25 26]\n",
            "  [27 28 29]]]\n"
          ]
        }
      ]
    },
    {
      "cell_type": "markdown",
      "source": [
        "Q3. Q1 1차원 배열을 실수형으로 변환"
      ],
      "metadata": {
        "id": "zSZkXeKydhb0"
      }
    },
    {
      "cell_type": "code",
      "source": [
        "import numpy as np\n",
        "d1 = np.arange(10).astype(float)\n",
        "print(d1, d1.dtype)"
      ],
      "metadata": {
        "colab": {
          "base_uri": "https://localhost:8080/"
        },
        "id": "x6WAxMK8yXgk",
        "outputId": "814f1ba9-2076-496b-fe7c-e1b24c154214"
      },
      "execution_count": 7,
      "outputs": [
        {
          "output_type": "stream",
          "name": "stdout",
          "text": [
            "[0. 1. 2. 3. 4. 5. 6. 7. 8. 9.] float64\n"
          ]
        }
      ]
    },
    {
      "cell_type": "code",
      "source": [
        "ar_float = ar.astype('float64')"
      ],
      "metadata": {
        "id": "fhoMgcGVIj20"
      },
      "execution_count": null,
      "outputs": []
    },
    {
      "cell_type": "markdown",
      "source": [
        "Q4. Q1 1차원 배열의 dtype을 확인"
      ],
      "metadata": {
        "id": "Rm-fFE20ds8N"
      }
    },
    {
      "cell_type": "code",
      "source": [
        "import numpy as np\n",
        "d1 = np.arange(10)\n",
        "print(d1.dtype)"
      ],
      "metadata": {
        "colab": {
          "base_uri": "https://localhost:8080/"
        },
        "id": "c-2HW5kNymV2",
        "outputId": "d67eeb0f-366c-406b-eb8d-0dbbccf51e35"
      },
      "execution_count": null,
      "outputs": [
        {
          "output_type": "stream",
          "name": "stdout",
          "text": [
            "int64\n"
          ]
        }
      ]
    },
    {
      "cell_type": "markdown",
      "source": [
        "Q5. 주어진 배열에서 음수 값을 모두 0으로 변경하세요.\n",
        "\n",
        "arr = np.array([-5, -3, -1, 0, 1, 3, 5])"
      ],
      "metadata": {
        "id": "nMX4Xp7Md3_1"
      }
    },
    {
      "cell_type": "code",
      "source": [
        "arr = np.array([-5, -3, -1, 0, 1, 3, 5])\n",
        "np.where(arr < 0, 0, arr)"
      ],
      "metadata": {
        "colab": {
          "base_uri": "https://localhost:8080/"
        },
        "id": "mga-VZGiys59",
        "outputId": "6a9a2d16-c619-4cc7-c770-2966f0f175db"
      },
      "execution_count": null,
      "outputs": [
        {
          "output_type": "execute_result",
          "data": {
            "text/plain": [
              "array([0, 0, 0, 0, 1, 3, 5])"
            ]
          },
          "metadata": {},
          "execution_count": 15
        }
      ]
    },
    {
      "cell_type": "markdown",
      "source": [
        "Q6. 1 ~ 100 까지 배열에서 3의 배수인 것만을 출력"
      ],
      "metadata": {
        "id": "NMOy9R4Cd_3v"
      }
    },
    {
      "cell_type": "code",
      "source": [
        "arr = np.array(np.arange(1, 100))\n",
        "arr[(arr % 3 == 0)]"
      ],
      "metadata": {
        "colab": {
          "base_uri": "https://localhost:8080/"
        },
        "id": "Y2dSSQFqzPYl",
        "outputId": "854f3559-afbe-4552-ab35-1dad8a18112b"
      },
      "execution_count": null,
      "outputs": [
        {
          "output_type": "execute_result",
          "data": {
            "text/plain": [
              "array([ 3,  6,  9, 12, 15, 18, 21, 24, 27, 30, 33, 36, 39, 42, 45, 48, 51,\n",
              "       54, 57, 60, 63, 66, 69, 72, 75, 78, 81, 84, 87, 90, 93, 96, 99])"
            ]
          },
          "metadata": {},
          "execution_count": 18
        }
      ]
    },
    {
      "cell_type": "markdown",
      "source": [
        "Q7. 1 ~ 100 까지 배열에서 5의 배수이면서 2의 배수인 것만을 출력"
      ],
      "metadata": {
        "id": "reO7jBwqeX1W"
      }
    },
    {
      "cell_type": "code",
      "source": [
        "arr = np.array(np.arange(1, 100))\n",
        "arr[(arr % 5 == 0) & (arr % 2 == 0)]"
      ],
      "metadata": {
        "colab": {
          "base_uri": "https://localhost:8080/"
        },
        "id": "YPaNqZ_Yzr5G",
        "outputId": "f86e9833-3240-455e-8ce4-5eb0ef2ca23d"
      },
      "execution_count": null,
      "outputs": [
        {
          "output_type": "execute_result",
          "data": {
            "text/plain": [
              "array([10, 20, 30, 40, 50, 60, 70, 80, 90])"
            ]
          },
          "metadata": {},
          "execution_count": 19
        }
      ]
    },
    {
      "cell_type": "markdown",
      "source": [
        "Q8. 1 ~ 100 까지 배열에서 3의 배수이거나 5의 배수인 것만을 출력"
      ],
      "metadata": {
        "id": "Gg-SJytKefVU"
      }
    },
    {
      "cell_type": "code",
      "source": [
        "arr = np.array(np.arange(1, 100))\n",
        "arr[(arr % 3 == 0) | (arr % 5 == 0)]"
      ],
      "metadata": {
        "colab": {
          "base_uri": "https://localhost:8080/"
        },
        "id": "HJLo2_6-zyni",
        "outputId": "2c4f6584-2ec0-40fb-ed61-ab7beb29b438"
      },
      "execution_count": null,
      "outputs": [
        {
          "output_type": "execute_result",
          "data": {
            "text/plain": [
              "array([ 3,  5,  6,  9, 10, 12, 15, 18, 20, 21, 24, 25, 27, 30, 33, 35, 36,\n",
              "       39, 40, 42, 45, 48, 50, 51, 54, 55, 57, 60, 63, 65, 66, 69, 70, 72,\n",
              "       75, 78, 80, 81, 84, 85, 87, 90, 93, 95, 96, 99])"
            ]
          },
          "metadata": {},
          "execution_count": 20
        }
      ]
    },
    {
      "cell_type": "markdown",
      "source": [
        "Q9. 101 ~ 150 사이의 정수를 랜덤하게 추출, 2행 5열 다차원 배열을 생성 후 전치하세요"
      ],
      "metadata": {
        "id": "Skud3jRrfJ2z"
      }
    },
    {
      "cell_type": "code",
      "source": [
        "arr = np.random.randint(101,151,size=10).reshape(2,5)\n",
        "arr.T"
      ],
      "metadata": {
        "colab": {
          "base_uri": "https://localhost:8080/"
        },
        "id": "Y-unz5uhz3zn",
        "outputId": "6d55b367-d17a-4e22-952c-9539fefbbf99"
      },
      "execution_count": null,
      "outputs": [
        {
          "output_type": "execute_result",
          "data": {
            "text/plain": [
              "array([[148, 106],\n",
              "       [125, 144],\n",
              "       [131, 123],\n",
              "       [127, 129],\n",
              "       [116, 109]])"
            ]
          },
          "metadata": {},
          "execution_count": 23
        }
      ]
    },
    {
      "cell_type": "markdown",
      "source": [
        "Q10. 표준정규분포로 구성된 5행 5열 다차원 배열을 생성하세요."
      ],
      "metadata": {
        "id": "CD2vUOIofTBW"
      }
    },
    {
      "cell_type": "code",
      "source": [
        "arr = np.random.randn(5,5)\n",
        "arr"
      ],
      "metadata": {
        "colab": {
          "base_uri": "https://localhost:8080/"
        },
        "id": "lSAWfgW00U4c",
        "outputId": "ab653516-4110-4e5d-bc56-8b468188fcec"
      },
      "execution_count": null,
      "outputs": [
        {
          "output_type": "execute_result",
          "data": {
            "text/plain": [
              "array([[ 0.71449729,  1.26935296,  1.21721462,  0.04061063,  0.43137694],\n",
              "       [-0.86702015, -0.64545047, -1.05333504, -0.34826483, -0.85584844],\n",
              "       [ 0.5926635 , -1.27445555, -0.41988926,  1.05767252, -0.33318489],\n",
              "       [ 0.48089278, -0.19031158,  0.96198683, -1.30422103, -2.62280184],\n",
              "       [-1.18679371,  1.0292607 ,  0.6639457 ,  0.03881582, -0.7288939 ]])"
            ]
          },
          "metadata": {},
          "execution_count": 24
        }
      ]
    },
    {
      "cell_type": "markdown",
      "source": [
        "Q11. original_array를 1차원 배열로 변환하여 출력하세요."
      ],
      "metadata": {
        "id": "bXiDz5anfs5o"
      }
    },
    {
      "cell_type": "code",
      "source": [
        "original_array = np.array([[1, 2, 3], [4, 5, 6]])\n",
        "#flatten()함수 많이 쓰임, 딥러닝에 많이 사용  , 평활화\n",
        "d1 = original_array.reshape(-1)\n",
        "d1"
      ],
      "metadata": {
        "id": "YmDWSLzkftkJ",
        "colab": {
          "base_uri": "https://localhost:8080/"
        },
        "outputId": "11641b23-0a23-414f-cc1b-e0df01866196"
      },
      "execution_count": null,
      "outputs": [
        {
          "output_type": "execute_result",
          "data": {
            "text/plain": [
              "array([1, 2, 3, 4, 5, 6])"
            ]
          },
          "metadata": {},
          "execution_count": 25
        }
      ]
    },
    {
      "cell_type": "code",
      "source": [
        "original_array = np.array([[1, 2, 3], [4, 5, 6]])\n",
        "flat_arr = original_array.flatten()\n",
        "flat_arr"
      ],
      "metadata": {
        "colab": {
          "base_uri": "https://localhost:8080/"
        },
        "id": "WovjpmKDIv7r",
        "outputId": "7709587e-46a2-41c0-f7f8-dcd1b5c065d4"
      },
      "execution_count": 8,
      "outputs": [
        {
          "output_type": "execute_result",
          "data": {
            "text/plain": [
              "array([1, 2, 3, 4, 5, 6])"
            ]
          },
          "metadata": {},
          "execution_count": 8
        }
      ]
    },
    {
      "cell_type": "markdown",
      "source": [
        "Q12. 주어진 2차원 배열에서 첫 번째 행을 view로 생성하고, 이 view를 수정하여 원본 배열에 반영되도록 하세요.\n",
        "\n",
        "original_array = np.array([[1, 2, 3], [4, 5, 6]])"
      ],
      "metadata": {
        "id": "0Nep-d7VgFSW"
      }
    },
    {
      "cell_type": "code",
      "source": [
        "original_array = np.array([[1, 2, 3], [4, 5, 6]])\n",
        "arr_view = original_array[0]\n",
        "arr_view[0] = 100\n",
        "print(arr_view)\n",
        "original_array"
      ],
      "metadata": {
        "colab": {
          "base_uri": "https://localhost:8080/"
        },
        "id": "sW9aDiJ10n-M",
        "outputId": "368ea355-e2ea-4d74-c773-cf59533005a4"
      },
      "execution_count": null,
      "outputs": [
        {
          "output_type": "stream",
          "name": "stdout",
          "text": [
            "[100   2   3]\n"
          ]
        },
        {
          "output_type": "execute_result",
          "data": {
            "text/plain": [
              "array([[100,   2,   3],\n",
              "       [  4,   5,   6]])"
            ]
          },
          "metadata": {},
          "execution_count": 28
        }
      ]
    },
    {
      "cell_type": "markdown",
      "source": [
        "Q13. 주어진 3차원 배열에서 첫 번째 2차원 배열을 view로 생성하고, 이 view를 수정하여 원본 배열에 반영되도록 하세요.\n",
        "\n",
        "original_array = np.array([[[1, 2, 3], [4, 5, 6]], [[7, 8, 9], [10, 11, 12]]])"
      ],
      "metadata": {
        "id": "Lsou3ZeIgS__"
      }
    },
    {
      "cell_type": "code",
      "source": [
        "original_array = np.array([[[1, 2, 3], [4, 5, 6]], [[7, 8, 9], [10, 11, 12]]])\n",
        "arr_view = original_array[0]\n",
        "arr_view[0] = 100\n",
        "print(arr_view)\n",
        "original_array"
      ],
      "metadata": {
        "colab": {
          "base_uri": "https://localhost:8080/"
        },
        "id": "hAPZeDTV1EzI",
        "outputId": "1a4305ca-4ba1-4b54-a220-53d3ab583bd2"
      },
      "execution_count": null,
      "outputs": [
        {
          "output_type": "stream",
          "name": "stdout",
          "text": [
            "[[100 100 100]\n",
            " [  4   5   6]]\n"
          ]
        },
        {
          "output_type": "execute_result",
          "data": {
            "text/plain": [
              "array([[[100, 100, 100],\n",
              "        [  4,   5,   6]],\n",
              "\n",
              "       [[  7,   8,   9],\n",
              "        [ 10,  11,  12]]])"
            ]
          },
          "metadata": {},
          "execution_count": 29
        }
      ]
    },
    {
      "cell_type": "markdown",
      "source": [
        "Q14. 주어진 2차원 배열을 1차원 배열 view로 reshape하고, 이 view를 수정하여 원본 배열에 반영되도록 하세요.\n",
        "\n",
        "original_array = np.array([[1, 2, 3], [4, 5, 6]])"
      ],
      "metadata": {
        "id": "Jd8VaOGmgjhx"
      }
    },
    {
      "cell_type": "code",
      "source": [
        "original_array = np.array([[1, 2, 3], [4, 5, 6]])\n",
        "arr_view = original_array.reshape(-1)\n",
        "arr_view[0] = 100\n",
        "print(arr_view)\n",
        "original_array\n",
        "#쉐이프는 안바뀌는 걸 보여주는 문제"
      ],
      "metadata": {
        "colab": {
          "base_uri": "https://localhost:8080/"
        },
        "id": "wcej3ZPz1XBo",
        "outputId": "4148bb3a-5d32-4a14-d06a-9de6dc2c0d9e"
      },
      "execution_count": null,
      "outputs": [
        {
          "output_type": "stream",
          "name": "stdout",
          "text": [
            "[100   2   3   4   5   6]\n"
          ]
        },
        {
          "output_type": "execute_result",
          "data": {
            "text/plain": [
              "array([[100,   2,   3],\n",
              "       [  4,   5,   6]])"
            ]
          },
          "metadata": {},
          "execution_count": 30
        }
      ]
    },
    {
      "cell_type": "markdown",
      "source": [
        "Q15. np.ones((10,10))을 아래와 같이 출력하세요.\n",
        "```\n",
        "[[1. 1. 1. 1. 1. 1. 1. 1. 1. 1.]\n",
        " [1. 0. 0. 0. 0. 0. 0. 0. 0. 1.]\n",
        " [1. 0. 0. 0. 0. 0. 0. 0. 0. 1.]\n",
        " [1. 0. 0. 0. 0. 0. 0. 0. 0. 1.]\n",
        " [1. 0. 0. 0. 0. 0. 0. 0. 0. 1.]\n",
        " [1. 0. 0. 0. 0. 0. 0. 0. 0. 1.]\n",
        " [1. 0. 0. 0. 0. 0. 0. 0. 0. 1.]\n",
        " [1. 0. 0. 0. 0. 0. 0. 0. 0. 1.]\n",
        " [1. 0. 0. 0. 0. 0. 0. 0. 0. 1.]\n",
        " [1. 1. 1. 1. 1. 1. 1. 1. 1. 1.]]\n",
        " ```"
      ],
      "metadata": {
        "id": "-MLdPdHGpxFv"
      }
    },
    {
      "cell_type": "code",
      "source": [
        "one_arr = np.ones((10,10))\n",
        "one_arr[1:9,1] = 0\n",
        "one_arr[1:9,2] = 0\n",
        "one_arr[1:9,3] = 0\n",
        "one_arr[1:9,4] = 0\n",
        "one_arr[1:9,5] = 0\n",
        "one_arr[1:9,6] = 0\n",
        "one_arr[1:9,7] = 0\n",
        "one_arr[1:9,8] = 0\n",
        "\n",
        "\n",
        "print(one_arr)"
      ],
      "metadata": {
        "colab": {
          "base_uri": "https://localhost:8080/"
        },
        "id": "H7cW7utr1t_R",
        "outputId": "192246a3-39a9-4b64-de57-50b11fc2d389"
      },
      "execution_count": null,
      "outputs": [
        {
          "output_type": "stream",
          "name": "stdout",
          "text": [
            "[[1. 1. 1. 1. 1. 1. 1. 1. 1. 1.]\n",
            " [1. 0. 0. 0. 0. 0. 0. 0. 0. 1.]\n",
            " [1. 0. 0. 0. 0. 0. 0. 0. 0. 1.]\n",
            " [1. 0. 0. 0. 0. 0. 0. 0. 0. 1.]\n",
            " [1. 0. 0. 0. 0. 0. 0. 0. 0. 1.]\n",
            " [1. 0. 0. 0. 0. 0. 0. 0. 0. 1.]\n",
            " [1. 0. 0. 0. 0. 0. 0. 0. 0. 1.]\n",
            " [1. 0. 0. 0. 0. 0. 0. 0. 0. 1.]\n",
            " [1. 0. 0. 0. 0. 0. 0. 0. 0. 1.]\n",
            " [1. 1. 1. 1. 1. 1. 1. 1. 1. 1.]]\n"
          ]
        }
      ]
    },
    {
      "cell_type": "code",
      "source": [
        "one_arr = np.ones((10,10))\n",
        "one_arr[1:-1, 1:-1] = 0\n",
        "one_arr"
      ],
      "metadata": {
        "colab": {
          "base_uri": "https://localhost:8080/"
        },
        "id": "A7yFziIvI_Tm",
        "outputId": "3590a516-1153-4a79-b55d-e185367e4e55"
      },
      "execution_count": 10,
      "outputs": [
        {
          "output_type": "execute_result",
          "data": {
            "text/plain": [
              "array([[1., 1., 1., 1., 1., 1., 1., 1., 1., 1.],\n",
              "       [1., 0., 0., 0., 0., 0., 0., 0., 0., 1.],\n",
              "       [1., 0., 0., 0., 0., 0., 0., 0., 0., 1.],\n",
              "       [1., 0., 0., 0., 0., 0., 0., 0., 0., 1.],\n",
              "       [1., 0., 0., 0., 0., 0., 0., 0., 0., 1.],\n",
              "       [1., 0., 0., 0., 0., 0., 0., 0., 0., 1.],\n",
              "       [1., 0., 0., 0., 0., 0., 0., 0., 0., 1.],\n",
              "       [1., 0., 0., 0., 0., 0., 0., 0., 0., 1.],\n",
              "       [1., 0., 0., 0., 0., 0., 0., 0., 0., 1.],\n",
              "       [1., 1., 1., 1., 1., 1., 1., 1., 1., 1.]])"
            ]
          },
          "metadata": {},
          "execution_count": 10
        }
      ]
    },
    {
      "cell_type": "code",
      "source": [
        "one_arr = np.ones((10,10))\n",
        "one_arr[1:-1, :] = 0\n",
        "one_arr"
      ],
      "metadata": {
        "colab": {
          "base_uri": "https://localhost:8080/"
        },
        "id": "KuWxn2m1JVYA",
        "outputId": "6c167bda-dda9-4603-a2f7-2c9b194320c6"
      },
      "execution_count": 11,
      "outputs": [
        {
          "output_type": "execute_result",
          "data": {
            "text/plain": [
              "array([[1., 1., 1., 1., 1., 1., 1., 1., 1., 1.],\n",
              "       [0., 0., 0., 0., 0., 0., 0., 0., 0., 0.],\n",
              "       [0., 0., 0., 0., 0., 0., 0., 0., 0., 0.],\n",
              "       [0., 0., 0., 0., 0., 0., 0., 0., 0., 0.],\n",
              "       [0., 0., 0., 0., 0., 0., 0., 0., 0., 0.],\n",
              "       [0., 0., 0., 0., 0., 0., 0., 0., 0., 0.],\n",
              "       [0., 0., 0., 0., 0., 0., 0., 0., 0., 0.],\n",
              "       [0., 0., 0., 0., 0., 0., 0., 0., 0., 0.],\n",
              "       [0., 0., 0., 0., 0., 0., 0., 0., 0., 0.],\n",
              "       [1., 1., 1., 1., 1., 1., 1., 1., 1., 1.]])"
            ]
          },
          "metadata": {},
          "execution_count": 11
        }
      ]
    },
    {
      "cell_type": "code",
      "source": [
        "one_arr = np.ones((10,10))\n",
        "one_arr[:, 1:-1] = 0\n",
        "one_arr"
      ],
      "metadata": {
        "colab": {
          "base_uri": "https://localhost:8080/"
        },
        "id": "22YwjjrhJ25n",
        "outputId": "5e11f9f3-5eb7-46b2-c0ad-e79c47fe3f7b"
      },
      "execution_count": 12,
      "outputs": [
        {
          "output_type": "execute_result",
          "data": {
            "text/plain": [
              "array([[1., 0., 0., 0., 0., 0., 0., 0., 0., 1.],\n",
              "       [1., 0., 0., 0., 0., 0., 0., 0., 0., 1.],\n",
              "       [1., 0., 0., 0., 0., 0., 0., 0., 0., 1.],\n",
              "       [1., 0., 0., 0., 0., 0., 0., 0., 0., 1.],\n",
              "       [1., 0., 0., 0., 0., 0., 0., 0., 0., 1.],\n",
              "       [1., 0., 0., 0., 0., 0., 0., 0., 0., 1.],\n",
              "       [1., 0., 0., 0., 0., 0., 0., 0., 0., 1.],\n",
              "       [1., 0., 0., 0., 0., 0., 0., 0., 0., 1.],\n",
              "       [1., 0., 0., 0., 0., 0., 0., 0., 0., 1.],\n",
              "       [1., 0., 0., 0., 0., 0., 0., 0., 0., 1.]])"
            ]
          },
          "metadata": {},
          "execution_count": 12
        }
      ]
    },
    {
      "cell_type": "markdown",
      "source": [
        "Q16. Q. 1 ~ 100을 아래와 같이 출력하세요.\n",
        "\n",
        "```\n",
        "[[  1   2   3   4   5   6   7   8   9  10]\n",
        " [ 20  19  18  17  16  15  14  13  12  11]\n",
        " [ 21  22  23  24  25  26  27  28  29  30]\n",
        " [ 40  39  38  37  36  35  34  33  32  31]\n",
        " [ 41  42  43  44  45  46  47  48  49  50]\n",
        " [ 60  59  58  57  56  55  54  53  52  51]\n",
        " [ 61  62  63  64  65  66  67  68  69  70]\n",
        " [ 80  79  78  77  76  75  74  73  72  71]\n",
        " [ 81  82  83  84  85  86  87  88  89  90]\n",
        " [100  99  98  97  96  95  94  93  92  91]]\n",
        " ```"
      ],
      "metadata": {
        "id": "bF2o4HI6p7yS"
      }
    },
    {
      "cell_type": "code",
      "source": [
        "idx = np.arange(1, 101).reshape(10,10)\n",
        "ar = []\n",
        "for i in range(10):\n",
        "    if i % 2 == 1:\n",
        "        idx[i] = idx[i][::-1]\n",
        "        ar.append(idx[i])\n",
        "    else:\n",
        "        idx[i] = idx[i]\n",
        "        ar.append(idx[i])\n",
        "arr = np.array(ar)\n",
        "arr"
      ],
      "metadata": {
        "id": "Tey-h1Om3qTV",
        "colab": {
          "base_uri": "https://localhost:8080/"
        },
        "outputId": "3f4999bf-0bbf-4a45-d183-117fd1d8a8e2"
      },
      "execution_count": 17,
      "outputs": [
        {
          "output_type": "execute_result",
          "data": {
            "text/plain": [
              "array([[  1,   2,   3,   4,   5,   6,   7,   8,   9,  10],\n",
              "       [ 20,  19,  18,  17,  16,  15,  14,  13,  12,  11],\n",
              "       [ 21,  22,  23,  24,  25,  26,  27,  28,  29,  30],\n",
              "       [ 40,  39,  38,  37,  36,  35,  34,  33,  32,  31],\n",
              "       [ 41,  42,  43,  44,  45,  46,  47,  48,  49,  50],\n",
              "       [ 60,  59,  58,  57,  56,  55,  54,  53,  52,  51],\n",
              "       [ 61,  62,  63,  64,  65,  66,  67,  68,  69,  70],\n",
              "       [ 80,  79,  78,  77,  76,  75,  74,  73,  72,  71],\n",
              "       [ 81,  82,  83,  84,  85,  86,  87,  88,  89,  90],\n",
              "       [100,  99,  98,  97,  96,  95,  94,  93,  92,  91]])"
            ]
          },
          "metadata": {},
          "execution_count": 17
        }
      ]
    },
    {
      "cell_type": "markdown",
      "source": [
        "Q17. np.ones((5,5))을 아래와 같이 출력하세요.\n",
        "```\n",
        "[[0., 0., 0., 0., 0., 0., 0., 0., 0.],\n",
        "       [0., 0., 0., 0., 0., 0., 0., 0., 0.],\n",
        "       [0., 0., 1., 1., 1., 1., 1., 0., 0.],\n",
        "       [0., 0., 1., 1., 1., 1., 1., 0., 0.],\n",
        "       [0., 0., 1., 1., 1., 1., 1., 0., 0.],\n",
        "       [0., 0., 1., 1., 1., 1., 1., 0., 0.],\n",
        "       [0., 0., 1., 1., 1., 1., 1., 0., 0.],\n",
        "       [0., 0., 0., 0., 0., 0., 0., 0., 0.],\n",
        "       [0., 0., 0., 0., 0., 0., 0., 0., 0.]]\n",
        "```"
      ],
      "metadata": {
        "id": "8XTX6_u2qI2p"
      }
    },
    {
      "cell_type": "code",
      "source": [
        "z = np.ones((5,5))\n",
        "np.pad(z, pad_width=2, mode='constant', constant_values = 0)"
      ],
      "metadata": {
        "id": "wT7ztq5Y37P8",
        "colab": {
          "base_uri": "https://localhost:8080/"
        },
        "outputId": "5748138a-4aaf-4111-da40-1988f0f117b9"
      },
      "execution_count": 19,
      "outputs": [
        {
          "output_type": "execute_result",
          "data": {
            "text/plain": [
              "array([[0., 0., 0., 0., 0., 0., 0., 0., 0.],\n",
              "       [0., 0., 0., 0., 0., 0., 0., 0., 0.],\n",
              "       [0., 0., 1., 1., 1., 1., 1., 0., 0.],\n",
              "       [0., 0., 1., 1., 1., 1., 1., 0., 0.],\n",
              "       [0., 0., 1., 1., 1., 1., 1., 0., 0.],\n",
              "       [0., 0., 1., 1., 1., 1., 1., 0., 0.],\n",
              "       [0., 0., 1., 1., 1., 1., 1., 0., 0.],\n",
              "       [0., 0., 0., 0., 0., 0., 0., 0., 0.],\n",
              "       [0., 0., 0., 0., 0., 0., 0., 0., 0.]])"
            ]
          },
          "metadata": {},
          "execution_count": 19
        }
      ]
    },
    {
      "cell_type": "markdown",
      "source": [
        "Q18. np.arange(4)을 이용해서 아래와 같이 출력하세요.\n",
        "```\n",
        "[[0, 0, 0, 0, 0],\n",
        " [1, 0, 0, 0, 0],\n",
        " [0, 2, 0, 0, 0],\n",
        " [0, 0, 3, 0, 0],\n",
        " [0, 0, 0, 4, 0]]\n",
        "```"
      ],
      "metadata": {
        "id": "a0ydxK-RqWS9"
      }
    },
    {
      "cell_type": "code",
      "source": [
        "np.diag(np.arange(4))"
      ],
      "metadata": {
        "id": "ZggJaWN63_fB",
        "colab": {
          "base_uri": "https://localhost:8080/"
        },
        "outputId": "41db3ad1-285c-4f9c-fdea-608dd7fca9cf"
      },
      "execution_count": 20,
      "outputs": [
        {
          "output_type": "execute_result",
          "data": {
            "text/plain": [
              "array([[0, 0, 0, 0],\n",
              "       [0, 1, 0, 0],\n",
              "       [0, 0, 2, 0],\n",
              "       [0, 0, 0, 3]])"
            ]
          },
          "metadata": {},
          "execution_count": 20
        }
      ]
    },
    {
      "cell_type": "code",
      "source": [
        "1 + np.arange(4) # 스칼라 연산"
      ],
      "metadata": {
        "colab": {
          "base_uri": "https://localhost:8080/"
        },
        "id": "Z672BQ3XNVXG",
        "outputId": "40c618ab-36ce-4061-80a3-1adf8c2048a2"
      },
      "execution_count": 21,
      "outputs": [
        {
          "output_type": "execute_result",
          "data": {
            "text/plain": [
              "array([1, 2, 3, 4])"
            ]
          },
          "metadata": {},
          "execution_count": 21
        }
      ]
    },
    {
      "cell_type": "code",
      "source": [
        "np.diag(np.arange(4)+1, k=-1)"
      ],
      "metadata": {
        "colab": {
          "base_uri": "https://localhost:8080/"
        },
        "id": "5zHSCrTANkqg",
        "outputId": "acc01db3-5dfd-4a17-ac68-accd1989dd5b"
      },
      "execution_count": 22,
      "outputs": [
        {
          "output_type": "execute_result",
          "data": {
            "text/plain": [
              "array([[0, 0, 0, 0, 0],\n",
              "       [1, 0, 0, 0, 0],\n",
              "       [0, 2, 0, 0, 0],\n",
              "       [0, 0, 3, 0, 0],\n",
              "       [0, 0, 0, 4, 0]])"
            ]
          },
          "metadata": {},
          "execution_count": 22
        }
      ]
    },
    {
      "cell_type": "code",
      "source": [
        "np.diag(np.arange(4)+1, k=1)"
      ],
      "metadata": {
        "colab": {
          "base_uri": "https://localhost:8080/"
        },
        "id": "85aoNt51NzOT",
        "outputId": "b49ce3d0-5ddc-4010-b5fd-1de64d6c3e43"
      },
      "execution_count": 23,
      "outputs": [
        {
          "output_type": "execute_result",
          "data": {
            "text/plain": [
              "array([[0, 1, 0, 0, 0],\n",
              "       [0, 0, 2, 0, 0],\n",
              "       [0, 0, 0, 3, 0],\n",
              "       [0, 0, 0, 0, 4],\n",
              "       [0, 0, 0, 0, 0]])"
            ]
          },
          "metadata": {},
          "execution_count": 23
        }
      ]
    },
    {
      "cell_type": "code",
      "source": [
        "np.diag(np.arange(5)+1)"
      ],
      "metadata": {
        "colab": {
          "base_uri": "https://localhost:8080/"
        },
        "id": "4v9UCs5PN26-",
        "outputId": "25878d58-8530-4403-bc27-0f53ef9525a2"
      },
      "execution_count": 24,
      "outputs": [
        {
          "output_type": "execute_result",
          "data": {
            "text/plain": [
              "array([[1, 0, 0, 0, 0],\n",
              "       [0, 2, 0, 0, 0],\n",
              "       [0, 0, 3, 0, 0],\n",
              "       [0, 0, 0, 4, 0],\n",
              "       [0, 0, 0, 0, 5]])"
            ]
          },
          "metadata": {},
          "execution_count": 24
        }
      ]
    },
    {
      "cell_type": "code",
      "source": [
        "np.diag(np.arange(1,6))"
      ],
      "metadata": {
        "colab": {
          "base_uri": "https://localhost:8080/"
        },
        "id": "DuOTaQrBN7vq",
        "outputId": "f14eb48d-d467-4953-9bfd-b0edb62b3ab1"
      },
      "execution_count": 25,
      "outputs": [
        {
          "output_type": "execute_result",
          "data": {
            "text/plain": [
              "array([[1, 0, 0, 0, 0],\n",
              "       [0, 2, 0, 0, 0],\n",
              "       [0, 0, 3, 0, 0],\n",
              "       [0, 0, 0, 4, 0],\n",
              "       [0, 0, 0, 0, 5]])"
            ]
          },
          "metadata": {},
          "execution_count": 25
        }
      ]
    },
    {
      "cell_type": "markdown",
      "source": [
        "Q19. Q. np.zeros((8,8))을 이용해서 아래와 같이 출력하세요(두가지 방식:인덱싱, tile 함수)\n",
        "```\n",
        "[[0, 1, 0, 1, 0, 1, 0, 1],\n",
        "[1, 0, 1, 0, 1, 0, 1, 0],\n",
        "[0, 1, 0, 1, 0, 1, 0, 1],\n",
        "[1, 0, 1, 0, 1, 0, 1, 0],\n",
        "[0, 1, 0, 1, 0, 1, 0, 1],\n",
        "[1, 0, 1, 0, 1, 0, 1, 0],\n",
        "[0, 1, 0, 1, 0, 1, 0, 1],\n",
        "[1, 0, 1, 0, 1, 0, 1, 0]]\n",
        "```"
      ],
      "metadata": {
        "id": "HeOK3cm3qr1U"
      }
    },
    {
      "cell_type": "code",
      "source": [
        "z = np.zeros((8,8),dtype=int)\n",
        "z[1::2,::2] = 1\n",
        "z"
      ],
      "metadata": {
        "colab": {
          "base_uri": "https://localhost:8080/"
        },
        "id": "z7Pr08p7OBiM",
        "outputId": "23aaedb1-8086-4504-e0d1-3a0aeaa882c1"
      },
      "execution_count": 27,
      "outputs": [
        {
          "output_type": "execute_result",
          "data": {
            "text/plain": [
              "array([[0, 0, 0, 0, 0, 0, 0, 0],\n",
              "       [1, 0, 1, 0, 1, 0, 1, 0],\n",
              "       [0, 0, 0, 0, 0, 0, 0, 0],\n",
              "       [1, 0, 1, 0, 1, 0, 1, 0],\n",
              "       [0, 0, 0, 0, 0, 0, 0, 0],\n",
              "       [1, 0, 1, 0, 1, 0, 1, 0],\n",
              "       [0, 0, 0, 0, 0, 0, 0, 0],\n",
              "       [1, 0, 1, 0, 1, 0, 1, 0]])"
            ]
          },
          "metadata": {},
          "execution_count": 27
        }
      ]
    },
    {
      "cell_type": "code",
      "source": [
        "z = np.zeros((8,8),dtype=int)\n",
        "z[::2,1::2] = 1\n",
        "z"
      ],
      "metadata": {
        "colab": {
          "base_uri": "https://localhost:8080/"
        },
        "id": "pdamAjT6OS1L",
        "outputId": "b57f5f29-0065-4c1b-a162-8e88192d2836"
      },
      "execution_count": 28,
      "outputs": [
        {
          "output_type": "execute_result",
          "data": {
            "text/plain": [
              "array([[0, 1, 0, 1, 0, 1, 0, 1],\n",
              "       [0, 0, 0, 0, 0, 0, 0, 0],\n",
              "       [0, 1, 0, 1, 0, 1, 0, 1],\n",
              "       [0, 0, 0, 0, 0, 0, 0, 0],\n",
              "       [0, 1, 0, 1, 0, 1, 0, 1],\n",
              "       [0, 0, 0, 0, 0, 0, 0, 0],\n",
              "       [0, 1, 0, 1, 0, 1, 0, 1],\n",
              "       [0, 0, 0, 0, 0, 0, 0, 0]])"
            ]
          },
          "metadata": {},
          "execution_count": 28
        }
      ]
    },
    {
      "cell_type": "code",
      "source": [
        "a = np.array([[0, 1, 0, 1, 0, 1, 0, 1],\n",
        "[1, 0, 1, 0, 1, 0, 1, 0]])\n",
        "\n",
        "np.tile(a, (4,1))"
      ],
      "metadata": {
        "colab": {
          "base_uri": "https://localhost:8080/"
        },
        "id": "Q4iaj4F54JCa",
        "outputId": "e44048b7-5c6e-40ec-d350-445f94c68ded"
      },
      "execution_count": null,
      "outputs": [
        {
          "output_type": "execute_result",
          "data": {
            "text/plain": [
              "array([[0, 1, 0, 1, 0, 1, 0, 1],\n",
              "       [1, 0, 1, 0, 1, 0, 1, 0],\n",
              "       [0, 1, 0, 1, 0, 1, 0, 1],\n",
              "       [1, 0, 1, 0, 1, 0, 1, 0],\n",
              "       [0, 1, 0, 1, 0, 1, 0, 1],\n",
              "       [1, 0, 1, 0, 1, 0, 1, 0],\n",
              "       [0, 1, 0, 1, 0, 1, 0, 1],\n",
              "       [1, 0, 1, 0, 1, 0, 1, 0]])"
            ]
          },
          "metadata": {},
          "execution_count": 49
        }
      ]
    },
    {
      "cell_type": "markdown",
      "source": [
        "Q20. np.arange(336).reshape(6,7,8)에서 100번째 요소의 인덱스를 구하세요."
      ],
      "metadata": {
        "id": "8CSHIUxPrzmE"
      }
    },
    {
      "cell_type": "code",
      "source": [
        "arr = np.arange(336).reshape(6,7,8)\n",
        "#numpy.unravel_index(indices, shape, order='C')\n",
        "#shape: tuple of ints\n",
        "print(arr.shape)\n",
        "index_100 = np.unravel_index(99, arr.shape)  #0부터 시작하니 99가 100번째 요소\n",
        "print(index_100)\n",
        "print(arr)"
      ],
      "metadata": {
        "colab": {
          "base_uri": "https://localhost:8080/"
        },
        "id": "NuhOFb_H6GUR",
        "outputId": "392b724e-f21c-47fd-ab4d-eb86d3bf069e"
      },
      "execution_count": 33,
      "outputs": [
        {
          "output_type": "stream",
          "name": "stdout",
          "text": [
            "(6, 7, 8)\n",
            "(1, 5, 3)\n",
            "[[[  0   1   2   3   4   5   6   7]\n",
            "  [  8   9  10  11  12  13  14  15]\n",
            "  [ 16  17  18  19  20  21  22  23]\n",
            "  [ 24  25  26  27  28  29  30  31]\n",
            "  [ 32  33  34  35  36  37  38  39]\n",
            "  [ 40  41  42  43  44  45  46  47]\n",
            "  [ 48  49  50  51  52  53  54  55]]\n",
            "\n",
            " [[ 56  57  58  59  60  61  62  63]\n",
            "  [ 64  65  66  67  68  69  70  71]\n",
            "  [ 72  73  74  75  76  77  78  79]\n",
            "  [ 80  81  82  83  84  85  86  87]\n",
            "  [ 88  89  90  91  92  93  94  95]\n",
            "  [ 96  97  98  99 100 101 102 103]\n",
            "  [104 105 106 107 108 109 110 111]]\n",
            "\n",
            " [[112 113 114 115 116 117 118 119]\n",
            "  [120 121 122 123 124 125 126 127]\n",
            "  [128 129 130 131 132 133 134 135]\n",
            "  [136 137 138 139 140 141 142 143]\n",
            "  [144 145 146 147 148 149 150 151]\n",
            "  [152 153 154 155 156 157 158 159]\n",
            "  [160 161 162 163 164 165 166 167]]\n",
            "\n",
            " [[168 169 170 171 172 173 174 175]\n",
            "  [176 177 178 179 180 181 182 183]\n",
            "  [184 185 186 187 188 189 190 191]\n",
            "  [192 193 194 195 196 197 198 199]\n",
            "  [200 201 202 203 204 205 206 207]\n",
            "  [208 209 210 211 212 213 214 215]\n",
            "  [216 217 218 219 220 221 222 223]]\n",
            "\n",
            " [[224 225 226 227 228 229 230 231]\n",
            "  [232 233 234 235 236 237 238 239]\n",
            "  [240 241 242 243 244 245 246 247]\n",
            "  [248 249 250 251 252 253 254 255]\n",
            "  [256 257 258 259 260 261 262 263]\n",
            "  [264 265 266 267 268 269 270 271]\n",
            "  [272 273 274 275 276 277 278 279]]\n",
            "\n",
            " [[280 281 282 283 284 285 286 287]\n",
            "  [288 289 290 291 292 293 294 295]\n",
            "  [296 297 298 299 300 301 302 303]\n",
            "  [304 305 306 307 308 309 310 311]\n",
            "  [312 313 314 315 316 317 318 319]\n",
            "  [320 321 322 323 324 325 326 327]\n",
            "  [328 329 330 331 332 333 334 335]]]\n"
          ]
        }
      ]
    },
    {
      "cell_type": "code",
      "source": [
        "np.un"
      ],
      "metadata": {
        "id": "bOBF6oRs6mQH"
      },
      "execution_count": null,
      "outputs": []
    }
  ],
  "metadata": {
    "kernelspec": {
      "display_name": "Python 3 (ipykernel)",
      "language": "python",
      "name": "python3"
    },
    "language_info": {
      "codemirror_mode": {
        "name": "ipython",
        "version": 3
      },
      "file_extension": ".py",
      "mimetype": "text/x-python",
      "name": "python",
      "nbconvert_exporter": "python",
      "pygments_lexer": "ipython3",
      "version": "3.8.13"
    },
    "colab": {
      "provenance": []
    }
  },
  "nbformat": 4,
  "nbformat_minor": 0
}