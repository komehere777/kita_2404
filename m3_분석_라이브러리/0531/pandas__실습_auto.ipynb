{
  "nbformat": 4,
  "nbformat_minor": 0,
  "metadata": {
    "colab": {
      "provenance": []
    },
    "kernelspec": {
      "name": "python3",
      "display_name": "Python 3"
    },
    "language_info": {
      "name": "python"
    }
  },
  "cells": [
    {
      "cell_type": "code",
      "execution_count": 1,
      "metadata": {
        "colab": {
          "base_uri": "https://localhost:8080/",
          "height": 75
        },
        "id": "PUdWbjMGCPL6",
        "outputId": "3bb0a8b4-dbf6-4bdc-a90f-68877fa58f01"
      },
      "outputs": [
        {
          "output_type": "display_data",
          "data": {
            "text/plain": [
              "<IPython.core.display.HTML object>"
            ],
            "text/html": [
              "\n",
              "     <input type=\"file\" id=\"files-4407f4b0-e39e-4c3b-9876-7cfd8a44e50b\" name=\"files[]\" multiple disabled\n",
              "        style=\"border:none\" />\n",
              "     <output id=\"result-4407f4b0-e39e-4c3b-9876-7cfd8a44e50b\">\n",
              "      Upload widget is only available when the cell has been executed in the\n",
              "      current browser session. Please rerun this cell to enable.\n",
              "      </output>\n",
              "      <script>// Copyright 2017 Google LLC\n",
              "//\n",
              "// Licensed under the Apache License, Version 2.0 (the \"License\");\n",
              "// you may not use this file except in compliance with the License.\n",
              "// You may obtain a copy of the License at\n",
              "//\n",
              "//      http://www.apache.org/licenses/LICENSE-2.0\n",
              "//\n",
              "// Unless required by applicable law or agreed to in writing, software\n",
              "// distributed under the License is distributed on an \"AS IS\" BASIS,\n",
              "// WITHOUT WARRANTIES OR CONDITIONS OF ANY KIND, either express or implied.\n",
              "// See the License for the specific language governing permissions and\n",
              "// limitations under the License.\n",
              "\n",
              "/**\n",
              " * @fileoverview Helpers for google.colab Python module.\n",
              " */\n",
              "(function(scope) {\n",
              "function span(text, styleAttributes = {}) {\n",
              "  const element = document.createElement('span');\n",
              "  element.textContent = text;\n",
              "  for (const key of Object.keys(styleAttributes)) {\n",
              "    element.style[key] = styleAttributes[key];\n",
              "  }\n",
              "  return element;\n",
              "}\n",
              "\n",
              "// Max number of bytes which will be uploaded at a time.\n",
              "const MAX_PAYLOAD_SIZE = 100 * 1024;\n",
              "\n",
              "function _uploadFiles(inputId, outputId) {\n",
              "  const steps = uploadFilesStep(inputId, outputId);\n",
              "  const outputElement = document.getElementById(outputId);\n",
              "  // Cache steps on the outputElement to make it available for the next call\n",
              "  // to uploadFilesContinue from Python.\n",
              "  outputElement.steps = steps;\n",
              "\n",
              "  return _uploadFilesContinue(outputId);\n",
              "}\n",
              "\n",
              "// This is roughly an async generator (not supported in the browser yet),\n",
              "// where there are multiple asynchronous steps and the Python side is going\n",
              "// to poll for completion of each step.\n",
              "// This uses a Promise to block the python side on completion of each step,\n",
              "// then passes the result of the previous step as the input to the next step.\n",
              "function _uploadFilesContinue(outputId) {\n",
              "  const outputElement = document.getElementById(outputId);\n",
              "  const steps = outputElement.steps;\n",
              "\n",
              "  const next = steps.next(outputElement.lastPromiseValue);\n",
              "  return Promise.resolve(next.value.promise).then((value) => {\n",
              "    // Cache the last promise value to make it available to the next\n",
              "    // step of the generator.\n",
              "    outputElement.lastPromiseValue = value;\n",
              "    return next.value.response;\n",
              "  });\n",
              "}\n",
              "\n",
              "/**\n",
              " * Generator function which is called between each async step of the upload\n",
              " * process.\n",
              " * @param {string} inputId Element ID of the input file picker element.\n",
              " * @param {string} outputId Element ID of the output display.\n",
              " * @return {!Iterable<!Object>} Iterable of next steps.\n",
              " */\n",
              "function* uploadFilesStep(inputId, outputId) {\n",
              "  const inputElement = document.getElementById(inputId);\n",
              "  inputElement.disabled = false;\n",
              "\n",
              "  const outputElement = document.getElementById(outputId);\n",
              "  outputElement.innerHTML = '';\n",
              "\n",
              "  const pickedPromise = new Promise((resolve) => {\n",
              "    inputElement.addEventListener('change', (e) => {\n",
              "      resolve(e.target.files);\n",
              "    });\n",
              "  });\n",
              "\n",
              "  const cancel = document.createElement('button');\n",
              "  inputElement.parentElement.appendChild(cancel);\n",
              "  cancel.textContent = 'Cancel upload';\n",
              "  const cancelPromise = new Promise((resolve) => {\n",
              "    cancel.onclick = () => {\n",
              "      resolve(null);\n",
              "    };\n",
              "  });\n",
              "\n",
              "  // Wait for the user to pick the files.\n",
              "  const files = yield {\n",
              "    promise: Promise.race([pickedPromise, cancelPromise]),\n",
              "    response: {\n",
              "      action: 'starting',\n",
              "    }\n",
              "  };\n",
              "\n",
              "  cancel.remove();\n",
              "\n",
              "  // Disable the input element since further picks are not allowed.\n",
              "  inputElement.disabled = true;\n",
              "\n",
              "  if (!files) {\n",
              "    return {\n",
              "      response: {\n",
              "        action: 'complete',\n",
              "      }\n",
              "    };\n",
              "  }\n",
              "\n",
              "  for (const file of files) {\n",
              "    const li = document.createElement('li');\n",
              "    li.append(span(file.name, {fontWeight: 'bold'}));\n",
              "    li.append(span(\n",
              "        `(${file.type || 'n/a'}) - ${file.size} bytes, ` +\n",
              "        `last modified: ${\n",
              "            file.lastModifiedDate ? file.lastModifiedDate.toLocaleDateString() :\n",
              "                                    'n/a'} - `));\n",
              "    const percent = span('0% done');\n",
              "    li.appendChild(percent);\n",
              "\n",
              "    outputElement.appendChild(li);\n",
              "\n",
              "    const fileDataPromise = new Promise((resolve) => {\n",
              "      const reader = new FileReader();\n",
              "      reader.onload = (e) => {\n",
              "        resolve(e.target.result);\n",
              "      };\n",
              "      reader.readAsArrayBuffer(file);\n",
              "    });\n",
              "    // Wait for the data to be ready.\n",
              "    let fileData = yield {\n",
              "      promise: fileDataPromise,\n",
              "      response: {\n",
              "        action: 'continue',\n",
              "      }\n",
              "    };\n",
              "\n",
              "    // Use a chunked sending to avoid message size limits. See b/62115660.\n",
              "    let position = 0;\n",
              "    do {\n",
              "      const length = Math.min(fileData.byteLength - position, MAX_PAYLOAD_SIZE);\n",
              "      const chunk = new Uint8Array(fileData, position, length);\n",
              "      position += length;\n",
              "\n",
              "      const base64 = btoa(String.fromCharCode.apply(null, chunk));\n",
              "      yield {\n",
              "        response: {\n",
              "          action: 'append',\n",
              "          file: file.name,\n",
              "          data: base64,\n",
              "        },\n",
              "      };\n",
              "\n",
              "      let percentDone = fileData.byteLength === 0 ?\n",
              "          100 :\n",
              "          Math.round((position / fileData.byteLength) * 100);\n",
              "      percent.textContent = `${percentDone}% done`;\n",
              "\n",
              "    } while (position < fileData.byteLength);\n",
              "  }\n",
              "\n",
              "  // All done.\n",
              "  yield {\n",
              "    response: {\n",
              "      action: 'complete',\n",
              "    }\n",
              "  };\n",
              "}\n",
              "\n",
              "scope.google = scope.google || {};\n",
              "scope.google.colab = scope.google.colab || {};\n",
              "scope.google.colab._files = {\n",
              "  _uploadFiles,\n",
              "  _uploadFilesContinue,\n",
              "};\n",
              "})(self);\n",
              "</script> "
            ]
          },
          "metadata": {}
        },
        {
          "output_type": "stream",
          "name": "stdout",
          "text": [
            "Saving mtcars.csv to mtcars.csv\n"
          ]
        }
      ],
      "source": [
        "from google.colab import files\n",
        "uploaded = files.upload()"
      ]
    },
    {
      "cell_type": "code",
      "source": [
        "!ls"
      ],
      "metadata": {
        "colab": {
          "base_uri": "https://localhost:8080/"
        },
        "id": "vRAbw9ZZCw-b",
        "outputId": "c942348b-f8af-4f20-9d5f-14fd05ff5f8e"
      },
      "execution_count": 2,
      "outputs": [
        {
          "output_type": "stream",
          "name": "stdout",
          "text": [
            "mtcars.csv  sample_data\n"
          ]
        }
      ]
    },
    {
      "cell_type": "code",
      "source": [
        "import pandas as pd\n",
        "import numpy as np\n",
        "import matplotlib.pyplot as plt\n",
        "\n",
        "file_path = 'mtcars.csv'\n",
        "df = pd.read_csv(file_path, index_col=0)\n",
        "print(df.head())"
      ],
      "metadata": {
        "colab": {
          "base_uri": "https://localhost:8080/"
        },
        "id": "9SOOKzXRC1sS",
        "outputId": "191ed891-9dd8-4e44-e48f-2f57bd381a55"
      },
      "execution_count": 6,
      "outputs": [
        {
          "output_type": "stream",
          "name": "stdout",
          "text": [
            "                    mpg  cyl   disp   hp  drat     wt   qsec  vs  am  gear  \\\n",
            "Mazda RX4          21.0    6  160.0  110  3.90  2.620  16.46   0   1     4   \n",
            "Mazda RX4 Wag      21.0    6  160.0  110  3.90  2.875  17.02   0   1     4   \n",
            "Datsun 710         22.8    4  108.0   93  3.85  2.320  18.61   1   1     4   \n",
            "Hornet 4 Drive     21.4    6  258.0  110  3.08  3.215  19.44   1   0     3   \n",
            "Hornet Sportabout  18.7    8  360.0  175  3.15  3.440  17.02   0   0     3   \n",
            "\n",
            "                   carb  \n",
            "Mazda RX4             4  \n",
            "Mazda RX4 Wag         4  \n",
            "Datsun 710            1  \n",
            "Hornet 4 Drive        1  \n",
            "Hornet Sportabout     2  \n"
          ]
        }
      ]
    },
    {
      "cell_type": "markdown",
      "source": [
        "\n",
        "\n",
        "1.  info()\n",
        "2.  결측치, dtype확인\n",
        "3.  describe() 통계적 체크, value_counts, unique\n",
        "4.  중요 변수 탐색 - 상관관계, 변수분포(박스플롯), 종속변수vs독립변수간 상관,독립변수간 상관관계는 높으면 중복의 현상\n",
        "5. 파생변수 확인 - 탐색적 분석 시도, 파생변수와 종속변수간 상관관계 파악\n",
        "6. 변수선택\n",
        "7. 모델링 준비 - 변수간 스케일이 크면 표준화, 정규화 > 적용할 분석용 데이터 셋 준비\n",
        "\n"
      ],
      "metadata": {
        "id": "Xkn_ZxYdPQxQ"
      }
    },
    {
      "cell_type": "code",
      "source": [
        "df.info()\n",
        "#null값이 없어서 널값 처리할 것이 없음\n",
        "\n",
        "# mpg miles per gallen - 종속변수, 이걸 찾는것\n",
        "# 나머지 컬럼이 독립변수\n",
        "# 상관관계 파악 - 상관계수가 높은거 선택\n",
        "#\n",
        "# 표준화\n",
        "# mpg: 연비(miles per gallon)\n",
        "# cyl: 실린더 개수(number of cylinders)\n",
        "# disp: 배기량(displacement)\n",
        "# hp: 마력(horsepower)\n",
        "# drat: 후륜비(rear axle ratio)\n",
        "# wt: 차량 무게(weight)\n",
        "# qsec: 1/4 마일 달성 시간(1/4 mile time)\n",
        "# vs: 엔진 형태(V/S)\n",
        "# am: 변속기 종류(automatic or manual)\n",
        "# gear: 기어 수(number of gears)\n",
        "# carb: 기화기 개수(number of carburetors)"
      ],
      "metadata": {
        "colab": {
          "base_uri": "https://localhost:8080/"
        },
        "id": "K3zNvV5dDI9W",
        "outputId": "e9b0fa8c-d5d4-4a52-8949-85483eb5f525"
      },
      "execution_count": 4,
      "outputs": [
        {
          "output_type": "stream",
          "name": "stdout",
          "text": [
            "<class 'pandas.core.frame.DataFrame'>\n",
            "Index: 32 entries, Mazda RX4 to Volvo 142E\n",
            "Data columns (total 11 columns):\n",
            " #   Column  Non-Null Count  Dtype  \n",
            "---  ------  --------------  -----  \n",
            " 0   mpg     32 non-null     float64\n",
            " 1   cyl     32 non-null     int64  \n",
            " 2   disp    32 non-null     float64\n",
            " 3   hp      32 non-null     int64  \n",
            " 4   drat    32 non-null     float64\n",
            " 5   wt      32 non-null     float64\n",
            " 6   qsec    32 non-null     float64\n",
            " 7   vs      32 non-null     int64  \n",
            " 8   am      32 non-null     int64  \n",
            " 9   gear    32 non-null     int64  \n",
            " 10  carb    32 non-null     int64  \n",
            "dtypes: float64(5), int64(6)\n",
            "memory usage: 4.0+ KB\n"
          ]
        }
      ]
    },
    {
      "cell_type": "code",
      "source": [
        "fig, axs = plt.subplots(3,4,figsize=(14,6))\n",
        "\n",
        "axs[0,0].scatter(df['mpg'],df['cyl'], color='blue')\n",
        "axs[0,1].scatter(df['mpg'],df['disp'], color='red')\n",
        "axs[0,2].scatter(df['mpg'],df['hp'], color='red')\n",
        "axs[0,3].scatter(df['mpg'],df['drat'], color='red')\n",
        "axs[1,0].scatter(df['mpg'],df['wt'], color='red')\n",
        "axs[1,1].scatter(df['mpg'],df['qsec'], color='red')\n",
        "axs[1,2].scatter(df['mpg'],df['vs'], color='red')\n",
        "axs[1,3].scatter(df['mpg'],df['am'], color='red')\n",
        "axs[2,0].scatter(df['mpg'],df['gear'], color='red')\n",
        "axs[2,1].scatter(df['mpg'],df['carb'], color='red')\n",
        "#산점도로 평가시 disp,hp, drat,wt 주요한 종속변수라 파악됨"
      ],
      "metadata": {
        "colab": {
          "base_uri": "https://localhost:8080/",
          "height": 529
        },
        "id": "PsPJN1WUMcZD",
        "outputId": "2be5f41b-be23-481f-a46e-280b815ced63"
      },
      "execution_count": 9,
      "outputs": [
        {
          "output_type": "execute_result",
          "data": {
            "text/plain": [
              "<matplotlib.collections.PathCollection at 0x7dfeca1a6560>"
            ]
          },
          "metadata": {},
          "execution_count": 9
        },
        {
          "output_type": "display_data",
          "data": {
            "text/plain": [
              "<Figure size 1400x600 with 12 Axes>"
            ],
            "image/png": "[encoded data removed]"
          },
          "metadata": {}
        }
      ]
    },
    {
      "cell_type": "code",
      "source": [
        "#박스 플롯 disp,hp, drat,wt 그려봄\n",
        "box_df = df[['mpg','disp','hp','drat','wt']]\n",
        "box_df.plot.box()\n",
        "plt.show()\n",
        "#disp,hp와 다른 변수간의 스케일이 차이가 있으므로 모든 변수를 정규화, 표준화 시킨다."
      ],
      "metadata": {
        "colab": {
          "base_uri": "https://localhost:8080/",
          "height": 430
        },
        "id": "WJynmqb3Tbrz",
        "outputId": "949e747d-b73a-41bd-fe36-b3ce039c8c94"
      },
      "execution_count": 14,
      "outputs": [
        {
          "output_type": "display_data",
          "data": {
            "text/plain": [
              "<Figure size 640x480 with 1 Axes>"
            ],
            "image/png": "[encoded data removed]"
          },
          "metadata": {}
        }
      ]
    },
    {
      "cell_type": "code",
      "source": [
        "#표준화\n",
        "def z_score(x):\n",
        "    return (x - x.mean()) / x.std()\n",
        "\n",
        "standize_df = df[['mpg','disp','hp','drat','wt']].transform(z_score)\n",
        "print(standize_df.head())\n",
        "scaled_df = standize_df\n",
        "target_variable = 'mpg'"
      ],
      "metadata": {
        "colab": {
          "base_uri": "https://localhost:8080/"
        },
        "id": "hI41WNxRUIh-",
        "outputId": "8f2cea5d-7e56-4f65-bae3-2316b3d2a9fd"
      },
      "execution_count": 25,
      "outputs": [
        {
          "output_type": "stream",
          "name": "stdout",
          "text": [
            "                        mpg      disp        hp      drat        wt\n",
            "Mazda RX4          0.150885 -0.570620 -0.535093  0.567514 -0.610400\n",
            "Mazda RX4 Wag      0.150885 -0.570620 -0.535093  0.567514 -0.349785\n",
            "Datsun 710         0.449543 -0.990182 -0.783040  0.474000 -0.917005\n",
            "Hornet 4 Drive     0.217253  0.220094 -0.535093 -0.966118 -0.002300\n",
            "Hornet Sportabout -0.230735  1.043081  0.412942 -0.835198  0.227654\n"
          ]
        }
      ]
    },
    {
      "cell_type": "code",
      "source": [
        "#상관관계 파악\n",
        "whole_corr_df = df\n",
        "print(\"mpg에 대한 상관관계\")\n",
        "print(whole_corr_df.corr()['mpg'].sort_values)\n",
        "\n",
        "corr_df = df[['mpg','disp','hp','drat','wt']]\n",
        "print(\"예상 변수간 상관관계\")\n",
        "print(corr_df.corr()['mpg'].sort_values)"
      ],
      "metadata": {
        "colab": {
          "base_uri": "https://localhost:8080/"
        },
        "id": "A4KucHw_Vtwx",
        "outputId": "903962b8-b5d6-4cc3-b505-e7787f42ef93"
      },
      "execution_count": 40,
      "outputs": [
        {
          "output_type": "stream",
          "name": "stdout",
          "text": [
            "mpg에 대한 상관관계\n",
            "<bound method Series.sort_values of mpg     1.000000\n",
            "cyl    -0.852162\n",
            "disp   -0.847551\n",
            "hp     -0.776168\n",
            "drat    0.681172\n",
            "wt     -0.867659\n",
            "qsec    0.418684\n",
            "vs      0.664039\n",
            "am      0.599832\n",
            "gear    0.480285\n",
            "carb   -0.550925\n",
            "Name: mpg, dtype: float64>\n",
            "예상 변수간 상관관계\n",
            "<bound method Series.sort_values of mpg     1.000000\n",
            "disp   -0.847551\n",
            "hp     -0.776168\n",
            "drat    0.681172\n",
            "wt     -0.867659\n",
            "Name: mpg, dtype: float64>\n"
          ]
        }
      ]
    },
    {
      "cell_type": "code",
      "source": [
        "#표준화한 상태의 상관계수 계산\n",
        "whole_standize_df = df.transform(z_score)\n",
        "print(whole_standize_df)\n",
        "\n",
        "corr_whole_standize_df = whole_standize_df.corr()\n",
        "print(corr_whole_standize_df)"
      ],
      "metadata": {
        "colab": {
          "base_uri": "https://localhost:8080/"
        },
        "id": "O4d41b8GZd_X",
        "outputId": "a572e6bc-58b8-453d-8dc6-4cdf7245194a"
      },
      "execution_count": 27,
      "outputs": [
        {
          "output_type": "stream",
          "name": "stdout",
          "text": [
            "                          mpg       cyl      disp        hp      drat  \\\n",
            "Mazda RX4            0.150885 -0.104988 -0.570620 -0.535093  0.567514   \n",
            "Mazda RX4 Wag        0.150885 -0.104988 -0.570620 -0.535093  0.567514   \n",
            "Datsun 710           0.449543 -1.224858 -0.990182 -0.783040  0.474000   \n",
            "Hornet 4 Drive       0.217253 -0.104988  0.220094 -0.535093 -0.966118   \n",
            "Hornet Sportabout   -0.230735  1.014882  1.043081  0.412942 -0.835198   \n",
            "Valiant             -0.330287 -0.104988 -0.046167 -0.608019 -1.564608   \n",
            "Duster 360          -0.960789  1.014882  1.043081  1.433903 -0.722981   \n",
            "Merc 240D            0.715018 -1.224858 -0.677931 -1.235180  0.174754   \n",
            "Merc 230             0.449543 -1.224858 -0.725535 -0.753870  0.604919   \n",
            "Merc 280            -0.147774 -0.104988 -0.509299 -0.345486  0.604919   \n",
            "Merc 280C           -0.380064 -0.104988 -0.509299 -0.345486  0.604919   \n",
            "Merc 450SE          -0.612354  1.014882  0.363713  0.485868 -0.984820   \n",
            "Merc 450SL          -0.463025  1.014882  0.363713  0.485868 -0.984820   \n",
            "Merc 450SLC         -0.811460  1.014882  0.363713  0.485868 -0.984820   \n",
            "Cadillac Fleetwood  -1.607883  1.014882  1.946754  0.850497 -1.246660   \n",
            "Lincoln Continental -1.607883  1.014882  1.849932  0.996348 -1.115740   \n",
            "Chrysler Imperial   -0.894420  1.014882  1.688562  1.215126 -0.685575   \n",
            "Fiat 128             2.042389 -1.224858 -1.226589 -1.176840  0.904164   \n",
            "Honda Civic          1.710547 -1.224858 -1.250795 -1.381032  2.493904   \n",
            "Toyota Corolla       2.291272 -1.224858 -1.287910 -1.191425  1.166004   \n",
            "Toyota Corona        0.233846 -1.224858 -0.892553 -0.724700  0.193457   \n",
            "Dodge Challenger    -0.761683  1.014882  0.704204  0.048313 -1.564608   \n",
            "AMC Javelin         -0.811460  1.014882  0.591245  0.048313 -0.835198   \n",
            "Camaro Z28          -1.126710  1.014882  0.962396  1.433903  0.249566   \n",
            "Pontiac Firebird    -0.147774  1.014882  1.365821  0.412942 -0.966118   \n",
            "Fiat X1-9            1.196190 -1.224858 -1.224169 -1.176840  0.904164   \n",
            "Porsche 914-2        0.980492 -1.224858 -0.890939 -0.812211  1.558763   \n",
            "Lotus Europa         1.710547 -1.224858 -1.094266 -0.491337  0.324377   \n",
            "Ford Pantera L      -0.711907  1.014882  0.970465  1.711021  1.166004   \n",
            "Ferrari Dino        -0.064813 -0.104988 -0.691647  0.412942  0.043835   \n",
            "Maserati Bora       -0.844644  1.014882  0.567039  2.746567 -0.105788   \n",
            "Volvo 142E           0.217253 -1.224858 -0.885292 -0.549678  0.960273   \n",
            "\n",
            "                           wt      qsec        vs        am      gear  \\\n",
            "Mazda RX4           -0.610400 -0.777165 -0.868028  1.189901  0.423554   \n",
            "Mazda RX4 Wag       -0.349785 -0.463781 -0.868028  1.189901  0.423554   \n",
            "Datsun 710          -0.917005  0.426007  1.116036  1.189901  0.423554   \n",
            "Hornet 4 Drive      -0.002300  0.890487  1.116036 -0.814143 -0.931819   \n",
            "Hornet Sportabout    0.227654 -0.463781 -0.868028 -0.814143 -0.931819   \n",
            "Valiant              0.248095  1.326987  1.116036 -0.814143 -0.931819   \n",
            "Duster 360           0.360516 -1.124126 -0.868028 -0.814143 -0.931819   \n",
            "Merc 240D           -0.027850  1.203871  1.116036 -0.814143  0.423554   \n",
            "Merc 230            -0.068731  2.826755  1.116036 -0.814143  0.423554   \n",
            "Merc 280             0.227654  0.252526  1.116036 -0.814143  0.423554   \n",
            "Merc 280C            0.227654  0.588295  1.116036 -0.814143  0.423554   \n",
            "Merc 450SE           0.871525 -0.251127 -0.868028 -0.814143 -0.931819   \n",
            "Merc 450SL           0.524039 -0.139204 -0.868028 -0.814143 -0.931819   \n",
            "Merc 450SLC          0.575140  0.084642 -0.868028 -0.814143 -0.931819   \n",
            "Cadillac Fleetwood   2.077505  0.073449 -0.868028 -0.814143 -0.931819   \n",
            "Lincoln Continental  2.255336 -0.016089 -0.868028 -0.814143 -0.931819   \n",
            "Chrysler Imperial    2.174596 -0.239935 -0.868028 -0.814143 -0.931819   \n",
            "Fiat 128            -1.039647  0.907276  1.116036  1.189901  0.423554   \n",
            "Honda Civic         -1.637527  0.375641  1.116036  1.189901  0.423554   \n",
            "Toyota Corolla      -1.412683  1.147910  1.116036  1.189901  0.423554   \n",
            "Toyota Corona       -0.768812  1.209468  1.116036 -0.814143 -0.931819   \n",
            "Dodge Challenger     0.309416 -0.547723 -0.868028 -0.814143 -0.931819   \n",
            "AMC Javelin          0.222544 -0.307089 -0.868028 -0.814143 -0.931819   \n",
            "Camaro Z28           0.636461 -1.364761 -0.868028 -0.814143 -0.931819   \n",
            "Pontiac Firebird     0.641571 -0.446992 -0.868028 -0.814143 -0.931819   \n",
            "Fiat X1-9           -1.310481  0.588295  1.116036  1.189901  0.423554   \n",
            "Porsche 914-2       -1.100968 -0.642858 -0.868028  1.189901  1.778928   \n",
            "Lotus Europa        -1.741772 -0.530935  1.116036  1.189901  1.778928   \n",
            "Ford Pantera L      -0.048290 -1.874010 -0.868028  1.189901  1.778928   \n",
            "Ferrari Dino        -0.457097 -1.314395 -0.868028  1.189901  1.778928   \n",
            "Maserati Bora        0.360516 -1.818049 -0.868028  1.189901  1.778928   \n",
            "Volvo 142E          -0.446877  0.420411  1.116036  1.189901  0.423554   \n",
            "\n",
            "                         carb  \n",
            "Mazda RX4            0.735203  \n",
            "Mazda RX4 Wag        0.735203  \n",
            "Datsun 710          -1.122152  \n",
            "Hornet 4 Drive      -1.122152  \n",
            "Hornet Sportabout   -0.503034  \n",
            "Valiant             -1.122152  \n",
            "Duster 360           0.735203  \n",
            "Merc 240D           -0.503034  \n",
            "Merc 230            -0.503034  \n",
            "Merc 280             0.735203  \n",
            "Merc 280C            0.735203  \n",
            "Merc 450SE           0.116085  \n",
            "Merc 450SL           0.116085  \n",
            "Merc 450SLC          0.116085  \n",
            "Cadillac Fleetwood   0.735203  \n",
            "Lincoln Continental  0.735203  \n",
            "Chrysler Imperial    0.735203  \n",
            "Fiat 128            -1.122152  \n",
            "Honda Civic         -0.503034  \n",
            "Toyota Corolla      -1.122152  \n",
            "Toyota Corona       -1.122152  \n",
            "Dodge Challenger    -0.503034  \n",
            "AMC Javelin         -0.503034  \n",
            "Camaro Z28           0.735203  \n",
            "Pontiac Firebird    -0.503034  \n",
            "Fiat X1-9           -1.122152  \n",
            "Porsche 914-2       -0.503034  \n",
            "Lotus Europa        -0.503034  \n",
            "Ford Pantera L       0.735203  \n",
            "Ferrari Dino         1.973440  \n",
            "Maserati Bora        3.211677  \n",
            "Volvo 142E          -0.503034  \n",
            "           mpg       cyl      disp        hp      drat        wt      qsec  \\\n",
            "mpg   1.000000 -0.852162 -0.847551 -0.776168  0.681172 -0.867659  0.418684   \n",
            "cyl  -0.852162  1.000000  0.902033  0.832447 -0.699938  0.782496 -0.591242   \n",
            "disp -0.847551  0.902033  1.000000  0.790949 -0.710214  0.887980 -0.433698   \n",
            "hp   -0.776168  0.832447  0.790949  1.000000 -0.448759  0.658748 -0.708223   \n",
            "drat  0.681172 -0.699938 -0.710214 -0.448759  1.000000 -0.712441  0.091205   \n",
            "wt   -0.867659  0.782496  0.887980  0.658748 -0.712441  1.000000 -0.174716   \n",
            "qsec  0.418684 -0.591242 -0.433698 -0.708223  0.091205 -0.174716  1.000000   \n",
            "vs    0.664039 -0.810812 -0.710416 -0.723097  0.440278 -0.554916  0.744535   \n",
            "am    0.599832 -0.522607 -0.591227 -0.243204  0.712711 -0.692495 -0.229861   \n",
            "gear  0.480285 -0.492687 -0.555569 -0.125704  0.699610 -0.583287 -0.212682   \n",
            "carb -0.550925  0.526988  0.394977  0.749812 -0.090790  0.427606 -0.656249   \n",
            "\n",
            "            vs        am      gear      carb  \n",
            "mpg   0.664039  0.599832  0.480285 -0.550925  \n",
            "cyl  -0.810812 -0.522607 -0.492687  0.526988  \n",
            "disp -0.710416 -0.591227 -0.555569  0.394977  \n",
            "hp   -0.723097 -0.243204 -0.125704  0.749812  \n",
            "drat  0.440278  0.712711  0.699610 -0.090790  \n",
            "wt   -0.554916 -0.692495 -0.583287  0.427606  \n",
            "qsec  0.744535 -0.229861 -0.212682 -0.656249  \n",
            "vs    1.000000  0.168345  0.206023 -0.569607  \n",
            "am    0.168345  1.000000  0.794059  0.057534  \n",
            "gear  0.206023  0.794059  1.000000  0.274073  \n",
            "carb -0.569607  0.057534  0.274073  1.000000  \n"
          ]
        }
      ]
    },
    {
      "cell_type": "code",
      "source": [
        "#전체 표준화후 상관계수 계산시 mpg, cyl, disp,hp,wt가 상관계수가 높다\n",
        "#따라서 scaled_df는 df[['mpg','disp','hp','cyl','wt']]로 결정\n",
        "scaled_df = df[['mpg','disp','hp','drat','cyl','wt']]\n",
        "target_variable = 'mpg'"
      ],
      "metadata": {
        "id": "7WmSDwJDfgo7"
      },
      "execution_count": 36,
      "outputs": []
    },
    {
      "cell_type": "code",
      "source": [
        "#전체 표준화후 상관계수 계산시 mpg, cyl, disp,hp,wt가 상관계수가 높다\n",
        "#따라서 scaled_df는 df[['mpg','disp','hp','cyl','wt']]로 결정\n",
        "scaled_df = df[['mpg','disp','hp','cyl','wt']]\n",
        "target_variable = 'mpg'"
      ],
      "metadata": {
        "id": "JmIZOCq4ag7G"
      },
      "execution_count": 41,
      "outputs": []
    },
    {
      "cell_type": "code",
      "source": [
        "#다른 변수 추가시 r2값 변화 측정을 위한 시도 기존 독립변수중 상관계수가 가장\n",
        "#낮은 hp제외\n",
        "scaled_df = df[['mpg','disp','cyl','wt']]\n",
        "target_variable = 'mpg'"
      ],
      "metadata": {
        "id": "RSMOg6yFd34k"
      },
      "execution_count": 30,
      "outputs": []
    },
    {
      "cell_type": "code",
      "source": [
        "#다른 변수 추가시 r2값 변화 측정을 위한 시도 기존 독립변수중 상관계수가 가장\n",
        "#낮은 disp제외\n",
        "scaled_df = df[['mpg','cyl','wt']]\n",
        "target_variable = 'mpg'"
      ],
      "metadata": {
        "id": "hhe9kC3Aegt4"
      },
      "execution_count": 32,
      "outputs": []
    },
    {
      "cell_type": "code",
      "source": [
        "#다른 변수 추가시 r2값 변화 측정을 위한 시도 기존 독립변수중 상관계수가 가장\n",
        "#낮은 cyl제외\n",
        "scaled_df = df[['mpg','wt']]\n",
        "target_variable = 'mpg'"
      ],
      "metadata": {
        "id": "PfSYPazye2Jr"
      },
      "execution_count": 34,
      "outputs": []
    },
    {
      "cell_type": "code",
      "source": [
        "# scaled_df = df[['mpg','disp','hp','cyl','wt','am','carb','vs','gear']]\n",
        "scaled_df = df[['mpg','disp','hp','cyl','wt','am','carb','vs','gear']]\n",
        "scaled_df = df[['mpg','disp','hp','cyl','wt','am','carb','vs','gear']]\n",
        "scaled_df = df[['mpg','disp','hp','cyl','wt','am','carb','vs','gear']]\n",
        "scaled_df = df[['mpg','disp','hp','cyl','wt','am','carb','vs','gear']]\n",
        "target_variable = 'mpg'"
      ],
      "metadata": {
        "id": "Sj531T2hqzZX"
      },
      "execution_count": 54,
      "outputs": []
    },
    {
      "cell_type": "code",
      "source": [
        "from sklearn.model_selection import train_test_split\n",
        "from sklearn.linear_model import LinearRegression\n",
        "from sklearn.metrics import mean_squared_error\n",
        "import numpy as np\n",
        "from sklearn.metrics import r2_score\n",
        "\n",
        "# 회귀 모델 구축\n",
        "X = scaled_df.drop(columns=[target_variable])\n",
        "y = scaled_df[target_variable]\n",
        "\n",
        "# 훈련/테스트 데이터 분할\n",
        "X_train, X_test, y_train, y_test = train_test_split(X, y, test_size=0.2, random_state=42)\n",
        "\n",
        "# 선형 회귀 모델 훈련\n",
        "model = LinearRegression()\n",
        "model.fit(X_train, y_train)\n",
        "\n",
        "# 예측\n",
        "y_pred = model.predict(X_test)\n",
        "\n",
        "# 모델 성능 평가\n",
        "mse = mean_squared_error(y_test, y_pred)\n",
        "rmse = np.sqrt(mse)\n",
        "r2 = r2_score(y_test, y_pred)\n",
        "\n",
        "print(f\"Mean Squared Error: {round(mse,2)}\")\n",
        "print(f\"Root Mean Squared Error: {round(rmse,2)}\")\n",
        "print(f\"R-squared: {round(r2,2)}\")"
      ],
      "metadata": {
        "colab": {
          "base_uri": "https://localhost:8080/"
        },
        "id": "hgg6GUs0DbH5",
        "outputId": "31147906-c94e-4f85-9da4-e33fc0efc03c"
      },
      "execution_count": 55,
      "outputs": [
        {
          "output_type": "stream",
          "name": "stdout",
          "text": [
            "Mean Squared Error: 6.36\n",
            "Root Mean Squared Error: 2.52\n",
            "R-squared: 0.84\n"
          ]
        }
      ]
    },
    {
      "cell_type": "code",
      "source": [
        "#전체 표준화후 상관계수 계산시 mpg, cyl, disp,hp,wt가 상관계수가 높다\n",
        "#따라서 scaled_df는 df[['mpg','disp','hp','cyl','wt']]로 결정\n",
        "scaled_df = df[['mpg','disp','hp','drat','cyl','wt']]\n",
        "target_variable = 'mpg'\n",
        "\n",
        "# Mean Squared Error: 7.73\n",
        "# Root Mean Squared Error: 2.78\n",
        "# R-squared: 0.81"
      ],
      "metadata": {
        "id": "vtF969y1fnsP"
      },
      "execution_count": null,
      "outputs": []
    },
    {
      "cell_type": "code",
      "source": [
        "#Mean Squared Error: 7.19\n",
        "#Root Mean Squared Error: 2.68\n",
        "#R-squared: 0.82\n",
        "scaled_df = df[['mpg','disp','hp','cyl','wt']]\n",
        "#R-squared값이 82점이 나옴\n",
        "#더 좋은 결과를 위해 파생변수를 탐색이 요구됨\n"
      ],
      "metadata": {
        "id": "krMOWsBzddGj"
      },
      "execution_count": 42,
      "outputs": []
    },
    {
      "cell_type": "code",
      "source": [
        "#다른 변수 추가시 r2값 변화 측정을 위한 시도 기존 독립변수중 상관계수가 가장\n",
        "#낮은 hp제외\n",
        "scaled_df = df[['mpg','disp','cyl','wt']]\n",
        "target_variable = 'mpg'\n",
        "\n",
        "#Mean Squared Error: 8.22\n",
        "#Root Mean Squared Error: 2.87\n",
        "#R-squared: 0.79"
      ],
      "metadata": {
        "id": "XdPe8QaseYgu"
      },
      "execution_count": null,
      "outputs": []
    },
    {
      "cell_type": "code",
      "source": [
        "#다른 변수 추가시 r2값 변화 측정을 위한 시도 기존 독립변수중 상관계수가 가장\n",
        "#낮은 disp제외\n",
        "scaled_df = df[['mpg','cyl','wt']]\n",
        "target_variable = 'mpg'\n",
        "\n",
        "#Mean Squared Error: 8.28\n",
        "#Root Mean Squared Error: 2.88\n",
        "#R-squared: 0.79\n"
      ],
      "metadata": {
        "id": "e-Gv9kf4esMQ"
      },
      "execution_count": null,
      "outputs": []
    },
    {
      "cell_type": "code",
      "source": [
        "#다른 변수 추가시 r2값 변화 측정을 위한 시도 기존 독립변수중 상관계수가 가장\n",
        "#낮은 cyl제외\n",
        "scaled_df = df[['mpg','wt']]\n",
        "target_variable = 'mpg'\n",
        "\n",
        "# Mean Squared Error: 12.48\n",
        "# Root Mean Squared Error: 3.53\n",
        "# R-squared: 0.69\n",
        "\n",
        "#단일 독립변수나 독립변수가 적다고 하더라도 제대로된 예측을 하는것은 아니다\n"
      ],
      "metadata": {
        "id": "e4wcjukSfA9t"
      },
      "execution_count": null,
      "outputs": []
    }
  ]
}