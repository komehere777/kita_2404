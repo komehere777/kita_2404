{
 "cells": [
  {
   "cell_type": "code",
   "execution_count": 2,
   "id": "76177d21-544f-4016-8f73-051854d16975",
   "metadata": {},
   "outputs": [
    {
     "name": "stdout",
     "output_type": "stream",
     "text": [
      "Python 3.10.14\n"
     ]
    }
   ],
   "source": [
    "!python --version"
   ]
  },
  {
   "cell_type": "code",
   "execution_count": 3,
   "id": "ba3533ec-0775-4b5d-8753-d6c692a17c37",
   "metadata": {},
   "outputs": [
    {
     "name": "stdout",
     "output_type": "stream",
     "text": [
      "C:\\ProgramData\\anaconda3\\envs\\myenv\\python.exe\n",
      "C:\\ProgramData\\anaconda3\\python.exe\n",
      "C:\\Users\\Administrator\\AppData\\Local\\Microsoft\\WindowsApps\\python.exe\n"
     ]
    }
   ],
   "source": [
    "!where python"
   ]
  },
  {
   "cell_type": "code",
   "execution_count": 4,
   "id": "0b331fe0-f459-419a-b1c6-75e4d24044d0",
   "metadata": {},
   "outputs": [
    {
     "name": "stdout",
     "output_type": "stream",
     "text": [
      "current directory:\n"
     ]
    },
    {
     "data": {
      "text/plain": [
       "'C:\\\\Users\\\\Administrator\\\\kita'"
      ]
     },
     "execution_count": 4,
     "metadata": {},
     "output_type": "execute_result"
    }
   ],
   "source": [
    "print(\"current directory:\")\n",
    "%pwd"
   ]
  },
  {
   "cell_type": "markdown",
   "id": "f588af1d-d336-4640-aa00-e530d882270e",
   "metadata": {},
   "source": [
    "markdown"
   ]
  },
  {
   "cell_type": "code",
   "execution_count": 5,
   "id": "c9a083df-a00f-4481-be96-aed2d68a3d48",
   "metadata": {},
   "outputs": [
    {
     "name": "stderr",
     "output_type": "stream",
     "text": [
      "'ls'은(는) 내부 또는 외부 명령, 실행할 수 있는 프로그램, 또는\n",
      "배치 파일이 아닙니다.\n"
     ]
    }
   ],
   "source": [
    "!ls"
   ]
  },
  {
   "cell_type": "code",
   "execution_count": 6,
   "id": "c6dbbd9b-45d9-485f-83bc-138fb1f5fdcb",
   "metadata": {},
   "outputs": [
    {
     "name": "stdout",
     "output_type": "stream",
     "text": [
      " C 드라이브의 볼륨에는 이름이 없습니다.\n",
      " 볼륨 일련 번호: C672-E692\n",
      "\n",
      " C:\\Users\\Administrator\\kita 디렉터리\n",
      "\n",
      "2024-05-24  오후 05:20    <DIR>          .\n",
      "2024-05-24  오후 05:20    <DIR>          ..\n",
      "2024-05-24  오후 05:16    <DIR>          .ipynb_checkpoints\n",
      "2024-05-24  오후 05:20             1,930 0524.ipynb\n",
      "               1개 파일               1,930 바이트\n",
      "               3개 디렉터리  162,974,425,088 바이트 남음\n"
     ]
    }
   ],
   "source": [
    "%ls"
   ]
  },
  {
   "cell_type": "code",
   "execution_count": 7,
   "id": "158c3cb8-3007-4360-9ddc-bb2e623f476b",
   "metadata": {},
   "outputs": [
    {
     "name": "stdout",
     "output_type": "stream",
     "text": [
      " C 드라이브의 볼륨에는 이름이 없습니다.\n",
      " 볼륨 일련 번호: C672-E692\n",
      "\n",
      " C:\\Users\\Administrator\\kita 디렉터리\n",
      "\n",
      "2024-05-24  오후 05:20    <DIR>          .\n",
      "2024-05-24  오후 05:20    <DIR>          ..\n",
      "2024-05-24  오후 05:16    <DIR>          .ipynb_checkpoints\n",
      "2024-05-24  오후 05:20             1,930 0524.ipynb\n",
      "               1개 파일               1,930 바이트\n",
      "               3개 디렉터리  162,974,556,160 바이트 남음\n"
     ]
    }
   ],
   "source": [
    "!dir"
   ]
  },
  {
   "cell_type": "markdown",
   "id": "4c0806a1-f4ab-43d8-beb7-c023d91164e5",
   "metadata": {},
   "source": [
    "#### !ls vs %ls\r\n",
    "- !ls는 UNIX 계열 시스템에서 셸 명령어 ls를 실행하여 현재 작업 디렉토리의 파일과 디렉토리를 나열\r\n",
    "- Windows에서는 ls 대신 dir 명령어를 사용 (!dir).\r\n",
    "- %ls는 IPython에서 제공하는 매직 명령어로, 파일 및 디렉토리 목록을 표시. 이는 운영 체제에 관계없이 동일한 방식으로 작동"
   ]
  },
  {
   "cell_type": "code",
   "execution_count": 10,
   "id": "0786c6d0-e4b7-4179-b86f-12711aafa463",
   "metadata": {},
   "outputs": [
    {
     "name": "stdout",
     "output_type": "stream",
     "text": [
      " C 드라이브의 볼륨에는 이름이 없습니다.\n",
      " 볼륨 일련 번호: C672-E692\n",
      "\n",
      " C:\\Users\\Administrator\\kita 디렉터리\n",
      "\n",
      "2024-05-24  오후 05:26    <DIR>          .\n",
      "2024-05-24  오후 05:26    <DIR>          ..\n",
      "2024-05-24  오후 05:16    <DIR>          .ipynb_checkpoints\n",
      "2024-05-24  오후 05:26             5,743 0524.ipynb\n",
      "               1개 파일               5,743 바이트\n",
      "               3개 디렉터리  162,973,974,528 바이트 남음\n"
     ]
    }
   ],
   "source": [
    "%ls C:\\Users\\Administrator\\kita"
   ]
  },
  {
   "cell_type": "code",
   "execution_count": 20,
   "id": "b5dc82a0-1027-4ddc-9e9f-5f7cf08154e7",
   "metadata": {},
   "outputs": [],
   "source": [
    "with open('example.txt', 'w') as file:\n",
    "    file.write(\"This is an new example file.\")"
   ]
  },
  {
   "cell_type": "code",
   "execution_count": 13,
   "id": "468256d0-ea6d-4f96-af55-18f6a51697b6",
   "metadata": {},
   "outputs": [
    {
     "name": "stdout",
     "output_type": "stream",
     "text": [
      "This is an example file.\n"
     ]
    }
   ],
   "source": [
    "with open('example.txt', 'r') as file:\n",
    "    text = file.read()\n",
    "    print(text)"
   ]
  },
  {
   "cell_type": "code",
   "execution_count": 14,
   "id": "53b42cf7-b1a4-4c88-90dc-f4fd0b57c9f1",
   "metadata": {},
   "outputs": [],
   "source": [
    "#파일 삭제\n",
    "!del example.txt"
   ]
  },
  {
   "cell_type": "code",
   "execution_count": 16,
   "id": "b630681d-5b43-4145-aa17-249483faf88a",
   "metadata": {},
   "outputs": [
    {
     "name": "stderr",
     "output_type": "stream",
     "text": [
      "하위 디렉터리 또는 파일 test_dir이(가) 이미 있습니다.\n"
     ]
    }
   ],
   "source": [
    "#디렉토리 생성\n",
    "\n",
    "!mkdir test_dir"
   ]
  },
  {
   "cell_type": "code",
   "execution_count": 19,
   "id": "00849758-96d8-4a33-a128-47c0d301d4ad",
   "metadata": {},
   "outputs": [
    {
     "name": "stdout",
     "output_type": "stream",
     "text": [
      "[WinError 2] 지정된 파일을 찾을 수 없습니다: 'test_dir'\n",
      "C:\\Users\\Administrator\\kita\\test_dir\n"
     ]
    },
    {
     "name": "stderr",
     "output_type": "stream",
     "text": [
      "C:\\ProgramData\\anaconda3\\envs\\myenv\\lib\\site-packages\\IPython\\core\\magics\\osm.py:393: UserWarning: using bookmarks requires you to install the `pickleshare` library.\n",
      "  bkms = self.shell.db.get('bookmarks', {})\n"
     ]
    },
    {
     "data": {
      "text/plain": [
       "'C:\\\\Users\\\\Administrator\\\\kita\\\\test_dir'"
      ]
     },
     "execution_count": 19,
     "metadata": {},
     "output_type": "execute_result"
    }
   ],
   "source": [
    "#디렉토리 이동\n",
    "%cd test_dir\n",
    "%pwd"
   ]
  },
  {
   "cell_type": "code",
   "execution_count": 18,
   "id": "c4314827-6f15-4d1d-bd77-a6bd7ec62108",
   "metadata": {},
   "outputs": [
    {
     "name": "stdout",
     "output_type": "stream",
     "text": [
      "Collecting pickleshare\n",
      "  Downloading pickleshare-0.7.5-py2.py3-none-any.whl.metadata (1.5 kB)\n",
      "Downloading pickleshare-0.7.5-py2.py3-none-any.whl (6.9 kB)\n",
      "Installing collected packages: pickleshare\n",
      "Successfully installed pickleshare-0.7.5\n"
     ]
    }
   ],
   "source": [
    "!pip install pickleshare"
   ]
  },
  {
   "cell_type": "code",
   "execution_count": 21,
   "id": "1fda485b-2ca4-44f7-9719-f819eeb6f5ce",
   "metadata": {},
   "outputs": [
    {
     "name": "stdout",
     "output_type": "stream",
     "text": [
      "This is an new example file.\n"
     ]
    }
   ],
   "source": [
    "with open('example.txt', 'r') as file:\n",
    "    text = file.read()\n",
    "    print(text)"
   ]
  },
  {
   "cell_type": "code",
   "execution_count": 22,
   "id": "6b137c04-e982-4bd9-ac66-b16303784537",
   "metadata": {},
   "outputs": [
    {
     "name": "stdout",
     "output_type": "stream",
     "text": [
      "C:\\Users\\Administrator\\kita\n"
     ]
    }
   ],
   "source": [
    "%cd .."
   ]
  },
  {
   "cell_type": "code",
   "execution_count": 23,
   "id": "ea446b57-34ce-4e22-b290-47fc87db7bc7",
   "metadata": {},
   "outputs": [
    {
     "data": {
      "text/plain": [
       "'C:\\\\Users\\\\Administrator\\\\kita'"
      ]
     },
     "execution_count": 23,
     "metadata": {},
     "output_type": "execute_result"
    }
   ],
   "source": [
    "%pwd"
   ]
  },
  {
   "cell_type": "code",
   "execution_count": 24,
   "id": "dcf9cc67-2d09-448f-8811-8612549f371d",
   "metadata": {},
   "outputs": [],
   "source": [
    "#디렉토리와 그 안의 모든 파일 삭제\n",
    "#/s 서브 드리게토리 삭제\n",
    "#/q 묻지말고 삭제\n",
    "!rmdir /S /Q test_dir"
   ]
  },
  {
   "cell_type": "code",
   "execution_count": 25,
   "id": "d342f69e-4cf6-4619-a7a1-4fb5d0399b05",
   "metadata": {},
   "outputs": [],
   "source": [
    "with open('example.txt', 'w') as file:\n",
    "    file.write(\"This is an example file.\")"
   ]
  },
  {
   "cell_type": "code",
   "execution_count": 26,
   "id": "a3dc1274-894b-4b6b-84a1-c1abc38a7145",
   "metadata": {},
   "outputs": [
    {
     "name": "stdout",
     "output_type": "stream",
     "text": [
      " C 드라이브의 볼륨에는 이름이 없습니다.\n",
      " 볼륨 일련 번호: C672-E692\n",
      "\n",
      " C:\\Users\\Administrator\\kita 디렉터리\n",
      "\n",
      "2024-05-24  오후 05:40    <DIR>          .\n",
      "2024-05-24  오후 05:40    <DIR>          ..\n",
      "2024-05-24  오후 05:16    <DIR>          .ipynb_checkpoints\n",
      "2024-05-24  오후 05:38             9,692 0524.ipynb\n",
      "2024-05-24  오후 05:40                24 example.txt\n",
      "               2개 파일               9,716 바이트\n",
      "               3개 디렉터리  162,973,011,968 바이트 남음\n"
     ]
    }
   ],
   "source": [
    "%ls"
   ]
  },
  {
   "cell_type": "code",
   "execution_count": 27,
   "id": "0f115708-2f0c-4eaf-b30f-bab358ea5f26",
   "metadata": {},
   "outputs": [
    {
     "name": "stdout",
     "output_type": "stream",
     "text": [
      "        1개 파일을 이동했습니다.\n"
     ]
    }
   ],
   "source": [
    "#파일 이름 변경\n",
    "!move example.txt new_example.txt"
   ]
  },
  {
   "cell_type": "code",
   "execution_count": 28,
   "id": "42bfd89b-36cb-4634-99e3-5404a717103e",
   "metadata": {},
   "outputs": [],
   "source": [
    "!mkdir test_dir"
   ]
  },
  {
   "cell_type": "code",
   "execution_count": 30,
   "id": "618ec669-958d-48f3-a71c-0264e617c5b4",
   "metadata": {},
   "outputs": [
    {
     "name": "stdout",
     "output_type": "stream",
     "text": [
      "        1개 파일이 복사되었습니다.\n"
     ]
    }
   ],
   "source": [
    "#파일 복사\n",
    "!copy new_example.txt .\\test_dir\\copy_example.txt"
   ]
  },
  {
   "cell_type": "code",
   "execution_count": 31,
   "id": "af998749-5b13-4556-905b-4cb72284ea53",
   "metadata": {},
   "outputs": [],
   "source": [
    "!rmdir /s /q test_dir"
   ]
  },
  {
   "cell_type": "code",
   "execution_count": 32,
   "id": "c75d9354-edbc-4441-8359-daf2f83d9c09",
   "metadata": {},
   "outputs": [],
   "source": [
    "!del new_example.txt"
   ]
  },
  {
   "cell_type": "code",
   "execution_count": null,
   "id": "cb598c73-1a79-464d-a0e0-7e46ed6845f0",
   "metadata": {},
   "outputs": [],
   "source": []
  }
 ],
 "metadata": {
  "kernelspec": {
   "display_name": "Python 3 (ipykernel)",
   "language": "python",
   "name": "python3"
  },
  "language_info": {
   "codemirror_mode": {
    "name": "ipython",
    "version": 3
   },
   "file_extension": ".py",
   "mimetype": "text/x-python",
   "name": "python",
   "nbconvert_exporter": "python",
   "pygments_lexer": "ipython3",
   "version": "3.10.14"
  }
 },
 "nbformat": 4,
 "nbformat_minor": 5
}
