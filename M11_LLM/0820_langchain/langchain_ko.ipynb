{
 "cells": [
  {
   "cell_type": "code",
   "execution_count": 1,
   "metadata": {},
   "outputs": [],
   "source": [
    "content = \"\"\"\n",
    "문서 1:\n",
    "북극곰은 바다 얼음에 의존하여 물범을 사냥하기 때문에 기후 변화에 직접적인 영향을 받고 있습니다. 지구 온난화로 인해 바다 얼음이 매년 더 일찍 녹고 늦게 형성되면서,\n",
    "북극곰이 사냥할 수 있는 시간이 줄어들고 있습니다. 이는 북극곰의 신체 상태 악화, 새끼의 생존율 저하, 그리고 일부 경우에는 사망률 증가로 이어졌습니다.\n",
    "\n",
    "문서 2:\n",
    "해빙 서식지의 상실은 북극곰 개체군에 가장 큰 위협 중 하나입니다. 얼음이 녹으면서 북극곰은 먹이를 찾기 위해 더 먼 거리를 이동해야 하며 이로 인해 에너지 소모가 증가합니다.\n",
    "이로 인해 영양실조와 생식 성공률이 감소하여 종을 더욱 위험에 빠뜨릴 수 있습니다.\n",
    "\n",
    "문서 3:\n",
    "기후 변화는 북극곰의 사냥터뿐만 아니라 보금자리 구역에도 영향을 미치고 있습니다. 더 따뜻한 기온과 불안정한 눈 조건으로 인해\n",
    "임신한 암컷이 적합한 보금자리 지역을 찾는 것이 더 어려워지고 있으며, 이는 새끼의 출생과 생존에 매우 중요합니다.\n",
    "이는 바다 얼음 손실로 이미 어려움을 겪고 있는 북극곰 개체군에 추가적인 위험 요소가 되고 있습니다.\n",
    "\n",
    "문서 4:\n",
    "전통적인 식량 공급원이 점점 더 어려워지면서 일부 북극곰은 인간의 배설물을 먹거나 바다새와 그 알을 잡아먹는 모습이 관찰되었습니다.\n",
    "이러한 행동은 단기적인 안도감을 제공할 수 있지만, 혹독한 북극 환경에서 장기적으로 생존하는 데 필수적인 물개로부터 얻는 고지방 식단을 대체하지는 못합니다.\n",
    "\n",
    "문서 5:\n",
    "최근 연구에 따르면 온실 가스 배출의 현재 추세가 계속된다면 북극곰은 이 세기 안에 멸종에 직면할 수 있습니다.\n",
    "보존 노력은 전 세계 배출량을 줄이고 중요한 북극곰 서식지를 보호하는 데 집중하고 있지만 기후가 현재 속도로 계속 따뜻해진다면 이러한 노력만으로는 충분하지 않을 수 있습니다.\n",
    "\"\"\"\n",
    "\n",
    "with open('documents_ko.txt', 'w') as f:\n",
    "    f.write(content)"
   ]
  },
  {
   "cell_type": "code",
   "execution_count": 2,
   "metadata": {},
   "outputs": [],
   "source": [
    "from openai import OpenAI\n",
    "import os\n",
    "\n",
    "MODEL = \"gpt-4o-mini-2024-07-18\"\n",
    "client = OpenAI(api_key=os.getenv('OPENAI_API_KEY'))\n"
   ]
  },
  {
   "cell_type": "code",
   "execution_count": 3,
   "metadata": {},
   "outputs": [
    {
     "name": "stdout",
     "output_type": "stream",
     "text": [
      "기후 변화는 북극곰에 여러 가지 부정적인 영향을 미치고 있습니다. 첫째, 바다 얼음의 감소로 인해 북극곰은 물범을 사냥할 수 있는 시간이 줄어들고, 이는 신체 상태 악화와 새끼의 생존율 저하로 이어집니다. 둘째, 해빙 서식지의 상실로 인해 북극곰은 먹이를 찾기 위해 더 먼 거리를 이동해야 하며, 이로 인해 에너지 소모가 증가하고 영양실조와 생식 성공률이 감소할 수 있습니다. 셋째, 기후 변화는 북극곰의 보금자리 구역에도 영향을 미쳐 임신한 암컷이 적합한 보금자리 지역을 찾는 것이 더 어려워지며, 이는 새끼의 출생과 생존에 중요한 영향을 미칩니다. 마지막으로, 전통적인 식량 공급원이 줄어들면서 일부 북극곰은 인간의 배설물이나 바다새와 그 알을 먹는 행동을 보이지만, 이는 장기적인 생존에 필요한 고지방 식단을 대체하지 못합니다. 이러한 요인들은 북극곰 개체군에 추가적인 위험 요소가 되고 있습니다.\n"
     ]
    }
   ],
   "source": [
    "from langchain_openai import OpenAIEmbeddings, ChatOpenAI\n",
    "from langchain.vectorstores import FAISS\n",
    "from langchain.document_loaders import TextLoader\n",
    "from langchain.chains import RetrievalQA\n",
    "\n",
    "loader = TextLoader(r\"D:\\pythonProject\\ML\\documents_ko.txt\")\n",
    "documents = loader.load()\n",
    "\n",
    "embeddings = OpenAIEmbeddings()\n",
    "vector_store = FAISS.from_documents(documents, embeddings)\n",
    "\n",
    "llm = ChatOpenAI(model=MODEL, temperature=0.3)\n",
    "\n",
    "retriver = vector_store.as_retriever(search_kwargs={\"k\": 5})\n",
    "\n",
    "qa_chain = RetrievalQA.from_chain_type(\n",
    "    llm=llm,\n",
    "    chain_type=\"stuff\",\n",
    "    retriever=retriver,\n",
    "    return_source_documents=True,\n",
    ")\n",
    "\n",
    "query = \"기후 변화가 북극곰에 미치는 영향은 무엇인가요?\"\n",
    "result = qa_chain.invoke({\"query\": query})\n",
    "\n",
    "print(result[\"result\"])"
   ]
  },
  {
   "cell_type": "code",
   "execution_count": 4,
   "metadata": {},
   "outputs": [
    {
     "name": "stdout",
     "output_type": "stream",
     "text": [
      "Climate change has a significant impact on polar bears primarily through the loss of sea ice, which they rely on for hunting seals. As global temperatures rise, sea ice forms later and melts earlier, reducing the time polar bears have to hunt. This leads to poorer physical condition, lower survival rates for cubs, and increased mortality in some cases.\n",
      "\n",
      "Additionally, the loss of ice habitat forces polar bears to travel longer distances to find food, resulting in increased energy expenditure, which can lead to malnutrition and decreased reproductive success. Warmer temperatures and unstable snow conditions also make it more challenging for pregnant females to find suitable denning sites, further threatening the survival of their cubs.\n",
      "\n",
      "Moreover, as traditional food sources become scarcer, some polar bears have been observed consuming human waste or seabirds and their eggs, but these alternatives do not provide the high-fat diet essential for their survival in the harsh Arctic environment.\n",
      "\n",
      "If current trends in greenhouse gas emissions continue, polar bears may face extinction within this century, despite conservation efforts aimed at reducing global emissions and protecting critical habitats.\n"
     ]
    }
   ],
   "source": [
    "from langchain_openai import OpenAIEmbeddings, ChatOpenAI\n",
    "from langchain.vectorstores import FAISS\n",
    "from langchain.document_loaders import TextLoader\n",
    "from langchain.chains import RetrievalQA\n",
    "\n",
    "loader = TextLoader(r\"D:\\pythonProject\\ML\\documents_ko.txt\")\n",
    "documents = loader.load()\n",
    "\n",
    "embeddings = OpenAIEmbeddings()\n",
    "vector_store = FAISS.from_documents(documents, embeddings)\n",
    "\n",
    "llm = ChatOpenAI(model=MODEL, temperature=0.3)\n",
    "\n",
    "retriver = vector_store.as_retriever(search_kwargs={\"k\": 5})\n",
    "\n",
    "qa_chain = RetrievalQA.from_chain_type(\n",
    "    llm=llm,\n",
    "    chain_type=\"stuff\",\n",
    "    retriever=retriver,\n",
    "    return_source_documents=True,\n",
    ")\n",
    "\n",
    "query = \"what is the impact of climate change on polar bears?\"\n",
    "result = qa_chain.invoke({\"query\": query})\n",
    "\n",
    "print(result[\"result\"])"
   ]
  }
 ],
 "metadata": {
  "kernelspec": {
   "display_name": "venv",
   "language": "python",
   "name": "python3"
  },
  "language_info": {
   "codemirror_mode": {
    "name": "ipython",
    "version": 3
   },
   "file_extension": ".py",
   "mimetype": "text/x-python",
   "name": "python",
   "nbconvert_exporter": "python",
   "pygments_lexer": "ipython3",
   "version": "3.10.11"
  }
 },
 "nbformat": 4,
 "nbformat_minor": 2
}
