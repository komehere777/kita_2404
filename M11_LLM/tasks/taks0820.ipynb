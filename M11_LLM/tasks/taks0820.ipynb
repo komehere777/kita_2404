{
 "cells": [
  {
   "cell_type": "markdown",
   "metadata": {},
   "source": [
    "Task1_0820. Python REPL 도구를 사용하는 LangChain 예시를 수행하세요."
   ]
  },
  {
   "cell_type": "code",
   "execution_count": 1,
   "metadata": {},
   "outputs": [
    {
     "name": "stdout",
     "output_type": "stream",
     "text": [
      "50\n",
      "\n"
     ]
    }
   ],
   "source": [
    "import sys\n",
    "import io\n",
    "\n",
    "\n",
    "class PythonREPL:\n",
    "    def run(self, code: str) -> str:\n",
    "        # 실행할 파이썬 코드의 출력값을 캡처\n",
    "        old_stdout = sys.stdout\n",
    "        new_stdout = io.StringIO()\n",
    "        sys.stdout = new_stdout\n",
    "\n",
    "        try:\n",
    "            exec(code)  # 코드 실행\n",
    "        except Exception as e:\n",
    "            return str(e)\n",
    "        finally:\n",
    "            # 기존 stdout 복원\n",
    "            sys.stdout = old_stdout\n",
    "\n",
    "        # 실행 결과 반환\n",
    "        return new_stdout.getvalue()\n",
    "\n",
    "\n",
    "# 예시 사용\n",
    "python_repl = PythonREPL()\n",
    "\n",
    "# 실행할 코드 입력\n",
    "code = \"\"\"\n",
    "a = 5\n",
    "b = 10\n",
    "print(a * b)\n",
    "\"\"\"\n",
    "\n",
    "# Python 코드 실행\n",
    "result = python_repl.run(code)\n",
    "print(result)"
   ]
  },
  {
   "cell_type": "code",
   "execution_count": 3,
   "metadata": {},
   "outputs": [],
   "source": [
    "from openai import OpenAI\n",
    "import os\n",
    "\n",
    "MODEL = \"gpt-4o-mini-2024-07-18\"\n",
    "client = OpenAI(api_key=os.getenv(\"OPENAI_API_KEY\"))\n",
    "import os\n",
    "from uuid import uuid4\n",
    "\n",
    "# unique_id를 uuid4()로 생성\n",
    "unique_id = str(uuid4())\n",
    "\n",
    "os.environ[\"LANGCHAIN_TRACING_V2\"] = \"true\"\n",
    "os.environ[\"LANGCHAIN_PROJECT\"] = f\"LangChain Tool Use Quickstart - {unique_id}\"\n",
    "os.environ[\"LANGCHAIN_ENDPOINT\"] = \"https://api.smith.langchain.com\""
   ]
  },
  {
   "cell_type": "code",
   "execution_count": 5,
   "metadata": {},
   "outputs": [
    {
     "name": "stdout",
     "output_type": "stream",
     "text": [
      "\n",
      "\n",
      "\u001b[1m> Entering new AgentExecutor chain...\u001b[0m\n",
      "\u001b[32;1m\u001b[1;3m\n",
      "Invoking: `run_code` with `{'code': 'a = 5\\nb = 10\\nprint(a * b)'}`\n",
      "\n",
      "\n",
      "\u001b[0m\u001b[36;1m\u001b[1;3m50\n",
      "\u001b[0m\u001b[32;1m\u001b[1;3mThe result of the multiplication \\( a \\times b \\) where \\( a = 5 \\) and \\( b = 10 \\) is \\( 50 \\).\u001b[0m\n",
      "\n",
      "\u001b[1m> Finished chain.\u001b[0m\n"
     ]
    },
    {
     "data": {
      "text/plain": [
       "{'input': '\\n        a = 5\\n        b = 10\\n        print(a * b)\\n        ',\n",
       " 'output': 'The result of the multiplication \\\\( a \\\\times b \\\\) where \\\\( a = 5 \\\\) and \\\\( b = 10 \\\\) is \\\\( 50 \\\\).'}"
      ]
     },
     "execution_count": 5,
     "metadata": {},
     "output_type": "execute_result"
    }
   ],
   "source": [
    "from langchain_core.tools import tool\n",
    "from langchain_openai import ChatOpenAI\n",
    "from langchain.agents import AgentExecutor, create_tool_calling_agent\n",
    "from langchain import hub\n",
    "\n",
    "llm = ChatOpenAI(model=MODEL)\n",
    "python_repl = PythonREPL()\n",
    "\n",
    "@tool\n",
    "def run_code(code: str) -> str:\n",
    "    \"\"\"run a python code and return the output\"\"\"\n",
    "    return python_repl.run(code)\n",
    "\n",
    "tools = [run_code]\n",
    "prompt = hub.pull(\"hwchase17/openai-tools-agent\")\n",
    "\n",
    "agent = create_tool_calling_agent(llm, tools, prompt)\n",
    "\n",
    "agent_executor = AgentExecutor(agent=agent, tools=tools, verbose=True)\n",
    "\n",
    "agent_executor.invoke(\n",
    "    {\n",
    "        \"input\": \"\"\"\n",
    "        a = 5\n",
    "        b = 10\n",
    "        print(a * b)\n",
    "        \"\"\"\n",
    "    }\n",
    ")"
   ]
  },
  {
   "cell_type": "code",
   "execution_count": null,
   "metadata": {},
   "outputs": [],
   "source": []
  }
 ],
 "metadata": {
  "kernelspec": {
   "display_name": "venv",
   "language": "python",
   "name": "python3"
  },
  "language_info": {
   "codemirror_mode": {
    "name": "ipython",
    "version": 3
   },
   "file_extension": ".py",
   "mimetype": "text/x-python",
   "name": "python",
   "nbconvert_exporter": "python",
   "pygments_lexer": "ipython3",
   "version": "3.10.11"
  }
 },
 "nbformat": 4,
 "nbformat_minor": 2
}
