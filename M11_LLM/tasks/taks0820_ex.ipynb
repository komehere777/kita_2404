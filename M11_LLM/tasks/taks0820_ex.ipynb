{
 "cells": [
  {
   "cell_type": "markdown",
   "metadata": {},
   "source": [
    "Task1_0820. Python REPL 도구를 사용하는 LangChain 예시를 수행하세요."
   ]
  },
  {
   "cell_type": "code",
   "execution_count": 3,
   "metadata": {},
   "outputs": [
    {
     "name": "stdout",
     "output_type": "stream",
     "text": [
      "50\n",
      "\n"
     ]
    }
   ],
   "source": [
    "import sys\n",
    "import io\n",
    "\n",
    "\n",
    "class PythonREPL:\n",
    "    def run(self, code: str) -> str:\n",
    "        # 실행할 파이썬 코드의 출력값을 캡처\n",
    "        old_stdout = sys.stdout\n",
    "        new_stdout = io.StringIO()\n",
    "        sys.stdout = new_stdout\n",
    "\n",
    "        try:\n",
    "            exec(code)  # 코드 실행\n",
    "        except Exception as e:\n",
    "            return str(e)\n",
    "        finally:\n",
    "            # 기존 stdout 복원\n",
    "            sys.stdout = old_stdout\n",
    "\n",
    "        # 실행 결과 반환\n",
    "        return new_stdout.getvalue()\n",
    "\n",
    "\n",
    "# 예시 사용\n",
    "python_repl = PythonREPL()\n",
    "\n",
    "# 실행할 코드 입력\n",
    "code = \"\"\"\n",
    "a = 5\n",
    "b = 10\n",
    "print(a * b)\n",
    "\"\"\"\n",
    "\n",
    "# Python 코드 실행\n",
    "result = python_repl.run(code)\n",
    "print(result)"
   ]
  },
  {
   "cell_type": "code",
   "execution_count": 1,
   "metadata": {},
   "outputs": [],
   "source": [
    "from openai import OpenAI\n",
    "import os\n",
    "\n",
    "MODEL = \"gpt-4o-mini-2024-07-18\"\n",
    "client = OpenAI(api_key=os.getenv(\"OPENAI_API_KEY\"))\n",
    "import os\n",
    "from uuid import uuid4\n",
    "\n",
    "# unique_id를 uuid4()로 생성\n",
    "unique_id = str(uuid4())\n",
    "\n",
    "os.environ[\"LANGCHAIN_TRACING_V2\"] = \"true\"\n",
    "os.environ[\"LANGCHAIN_PROJECT\"] = f\"LangChain Tool Use Quickstart - {unique_id}\"\n",
    "os.environ[\"LANGCHAIN_ENDPOINT\"] = \"https://api.smith.langchain.com\""
   ]
  },
  {
   "cell_type": "code",
   "execution_count": 6,
   "metadata": {},
   "outputs": [
    {
     "name": "stdout",
     "output_type": "stream",
     "text": [
      "\n",
      "\n",
      "\u001b[1m> Entering new AgentExecutor chain...\u001b[0m\n",
      "\u001b[32;1m\u001b[1;3m\n",
      "Invoking: `run_code` with `{'code': 'result = 25 ** 2\\nresult'}`\n",
      "\n",
      "\n",
      "\u001b[0m\u001b[36;1m\u001b[1;3m\u001b[0m\u001b[32;1m\u001b[1;3m25의 제곱 값은 625입니다.\u001b[0m\n",
      "\n",
      "\u001b[1m> Finished chain.\u001b[0m\n"
     ]
    },
    {
     "data": {
      "text/plain": [
       "{'input': '\\n        파이썬을 사용하여 25의 제곱한  값을 출력하시오.\\n        ',\n",
       " 'output': '25의 제곱 값은 625입니다.'}"
      ]
     },
     "execution_count": 6,
     "metadata": {},
     "output_type": "execute_result"
    }
   ],
   "source": [
    "from langchain_core.tools import tool\n",
    "from langchain_openai import ChatOpenAI\n",
    "from langchain.agents import AgentExecutor, create_tool_calling_agent\n",
    "from langchain import hub\n",
    "\n",
    "llm = ChatOpenAI(model=MODEL)\n",
    "python_repl = PythonREPL()\n",
    "\n",
    "@tool\n",
    "def run_code(code: str) -> str:\n",
    "    \"\"\"run a python code and return the output\"\"\"\n",
    "    return python_repl.run(code)\n",
    "\n",
    "tools = [run_code]\n",
    "prompt = hub.pull(\"hwchase17/openai-tools-agent\")\n",
    "\n",
    "agent = create_tool_calling_agent(llm, tools, prompt)\n",
    "\n",
    "agent_executor = AgentExecutor(agent=agent, tools=tools, verbose=True)\n",
    "\n",
    "agent_executor.invoke(\n",
    "    {\n",
    "        \"input\": \"\"\"\n",
    "        파이썬을 사용하여 25의 제곱한  값을 출력하시오.\n",
    "        \"\"\"\n",
    "    }\n",
    ")"
   ]
  },
  {
   "cell_type": "markdown",
   "metadata": {},
   "source": [
    "# ex"
   ]
  },
  {
   "cell_type": "markdown",
   "metadata": {},
   "source": [
    "initialize_agent vs. agent_executor\n",
    "- initialize_agent는 에이전트를 초기화하고 실행하는 데 있어 간편하고 직관적인 방식을 제공하기 때문에, 복잡한 작업이 없고 간단한 대화형 에이전트를 만들 때는 더 적합합니다.\n",
    "- agent_executor는 더 세밀한 제어가 필요할 때나, 이미 설정된 에이전트를 실행할 때 사용됩니다."
   ]
  },
  {
   "cell_type": "markdown",
   "metadata": {},
   "source": [
    "agent.invoke vs. agent.run\n",
    "- LangChain 에이전트에서 사용하는 두 가지 메서드로, 각각의 동작 방식과 목적이 다릅니다.\n",
    "- agent.run은 에이전트가 텍스트 입력을 받아 해당 입력에 대해 대화를 기반으로 작업을 수행할 때 사용되는 메서드입니다. 일반적으로 대화형 에이전트가 사용자의 명령이나 질문에 반응하는 방식으로 동작하며, 주로 다음과 같은 상황에서 사용됩니다:\n",
    "  - 단일 사용자 입력 처리: 에이전트가 사용자로부터 한 번의 입력을 받아서 그 입력에 대한 적절한 응답을 생성하는 경우.\n",
    "  - 대화형 응답: 에이전트가 주어진 입력에 대해 자동으로 도구(예: 파이썬 코드 실행 도구)를 사용하고, 그 결과를 사용하여 응답을 생성하는 구조.\n",
    "  - 예시: response = agent.run(\"파이썬을 사용하여 25의 제곱을 계산해줘.\")\n",
    "- agent.invoke는 보다 세밀한 제어를 제공하는 메서드로, LangChain에서는 일반적으로 여러 개의 입력을 받을 때나 에이전트의 여러 기능을 조합해서 사용할 때 적합합니다. 이 메서드는 입력 메시지를 포함하는 포맷으로 전달하며, 이를 통해 대화나 실행 과정을 더 세밀하게 제어할 수 있습니다.\n",
    "  - 메시지 기반 제어: invoke 메서드는 LangChain 메시지 포맷을 사용하여 좀 더 구조화된 입력을 받습니다. 이 메시지 포맷은 다양한 대화 구성 요소를 포함할 수 있기 때문에 복잡한 대화 흐름을 처리할 수 있습니다.\n",
    "  - 다양한 입력 처리: 여러 종류의 입력을 동시에 처리하거나, 여러 도구를 연결하는 경우에 유리합니다.\n",
    "  - 예시: response = agent.invoke([{\"role\": \"user\", \"content\": \"파이썬을 사용하여 25의 제곱을 계산해줘.\"}])"
   ]
  },
  {
   "cell_type": "code",
   "execution_count": 14,
   "metadata": {},
   "outputs": [
    {
     "name": "stdout",
     "output_type": "stream",
     "text": [
      "\n",
      "\n",
      "\u001b[1m> Entering new AgentExecutor chain...\u001b[0m\n",
      "\u001b[32;1m\u001b[1;3mTo calculate the square of 25 using Python, I will write a simple expression that multiplies 25 by itself. \n",
      "\n",
      "Action: PythonREPL\n",
      "Action Input: \"25 ** 2\"\u001b[0m\n",
      "Observation: \u001b[36;1m\u001b[1;3m\u001b[0m\n",
      "Thought:\u001b[32;1m\u001b[1;3mI need to check the result of the calculation to find the square of 25. \n",
      "\n",
      "Action: PythonREPL\n",
      "Action Input: \"25 ** 2\"\u001b[0m\n",
      "Observation: \u001b[36;1m\u001b[1;3m\u001b[0m\n",
      "Thought:\u001b[32;1m\u001b[1;3mI need to run the calculation again to get the square of 25.\n",
      "\n",
      "Action: PythonREPL\n",
      "Action Input: \"25 ** 2\"\u001b[0m\n",
      "Observation: \u001b[36;1m\u001b[1;3m\u001b[0m\n",
      "Thought:\u001b[32;1m\u001b[1;3mI seem to be having trouble getting the output from the calculation. Let me try running the calculation again to ensure I get the correct result.\n",
      "\n",
      "Action: PythonREPL\n",
      "Action Input: \"25 ** 2\"\u001b[0m\n",
      "Observation: \u001b[36;1m\u001b[1;3m\u001b[0m\n",
      "Thought:\u001b[32;1m\u001b[1;3mIt seems there is an issue with retrieving the output. I will try to run the calculation one more time to ensure I get the correct result.\n",
      "\n",
      "Action: PythonREPL\n",
      "Action Input: \"25 ** 2\"\u001b[0m\n",
      "Observation: \u001b[36;1m\u001b[1;3m\u001b[0m\n",
      "Thought:\u001b[32;1m\u001b[1;3mIt seems that I am unable to retrieve the output from the calculation. I will attempt to run the calculation again to ensure I get the correct result.\n",
      "\n",
      "Action: PythonREPL\n",
      "Action Input: \"25 ** 2\"\u001b[0m\n",
      "Observation: \u001b[36;1m\u001b[1;3m\u001b[0m\n",
      "Thought:\u001b[32;1m\u001b[1;3mIt seems that I am unable to retrieve the output from the calculation. I will attempt to run the calculation again to ensure I get the correct result.\n",
      "\n",
      "Action: PythonREPL\n",
      "Action Input: \"25 ** 2\"\u001b[0m\n",
      "Observation: \u001b[36;1m\u001b[1;3m\u001b[0m\n",
      "Thought:\u001b[32;1m\u001b[1;3mIt seems that I am unable to retrieve the output from the calculation. I will attempt to run the calculation again to ensure I get the correct result.\n",
      "\n",
      "Action: PythonREPL\n",
      "Action Input: \"25 ** 2\"\u001b[0m\n",
      "Observation: \u001b[36;1m\u001b[1;3m\u001b[0m\n",
      "Thought:\u001b[32;1m\u001b[1;3mIt seems that I am unable to retrieve the output from the calculation. I will attempt to run the calculation again to ensure I get the correct result.\n",
      "\n",
      "Action: PythonREPL\n",
      "Action Input: \"25 ** 2\"\u001b[0m\n",
      "Observation: \u001b[36;1m\u001b[1;3m\u001b[0m\n",
      "Thought:\u001b[32;1m\u001b[1;3mIt seems that I am unable to retrieve the output from the calculation. I will attempt to run the calculation again to ensure I get the correct result.\n",
      "\n",
      "Action: PythonREPL\n",
      "Action Input: \"25 ** 2\"\u001b[0m\n",
      "Observation: \u001b[36;1m\u001b[1;3m\u001b[0m\n",
      "Thought:\u001b[32;1m\u001b[1;3mIt seems that I am unable to retrieve the output from the calculation. I will attempt to run the calculation again to ensure I get the correct result.\n",
      "\n",
      "Action: PythonREPL\n",
      "Action Input: \"25 ** 2\"\u001b[0m\n",
      "Observation: \u001b[36;1m\u001b[1;3m\u001b[0m\n",
      "Thought:\u001b[32;1m\u001b[1;3mIt seems that I am unable to retrieve the output from the calculation. I will attempt to run the calculation again to ensure I get the correct result.\n",
      "\n",
      "Action: PythonREPL\n",
      "Action Input: \"25 ** 2\"\u001b[0m\n",
      "Observation: \u001b[36;1m\u001b[1;3m\u001b[0m\n",
      "Thought:\u001b[32;1m\u001b[1;3mIt seems that I am unable to retrieve the output from the calculation. I will attempt to run the calculation again to ensure I get the correct result.\n",
      "\n",
      "Action: PythonREPL\n",
      "Action Input: \"25 ** 2\"\u001b[0m\n",
      "Observation: \u001b[36;1m\u001b[1;3m\u001b[0m\n",
      "Thought:\u001b[32;1m\u001b[1;3mIt seems that I am unable to retrieve the output from the calculation. I will attempt to run the calculation again to ensure I get the correct result.\n",
      "\n",
      "Action: PythonREPL\n",
      "Action Input: \"25 ** 2\"\u001b[0m\n",
      "Observation: \u001b[36;1m\u001b[1;3m\u001b[0m\n",
      "Thought:\u001b[32;1m\u001b[1;3mIt seems that I am unable to retrieve the output from the calculation. I will attempt to run the calculation again to ensure I get the correct result.\n",
      "\n",
      "Action: PythonREPL\n",
      "Action Input: \"25 ** 2\"\u001b[0m\n",
      "Observation: \u001b[36;1m\u001b[1;3m\u001b[0m\n",
      "Thought:\u001b[32;1m\u001b[1;3m\u001b[0m\n",
      "\n",
      "\u001b[1m> Finished chain.\u001b[0m\n",
      "Agent stopped due to iteration limit or time limit.\n"
     ]
    }
   ],
   "source": [
    "from langchain.tools import tool\n",
    "from langchain.agents import initialize_agent, Tool, AgentType, create_react_agent\n",
    "from langchain_openai import ChatOpenAI\n",
    "from langchain.prompts import MessagesPlaceholder\n",
    "from langchain.memory import ConversationBufferMemory\n",
    "\n",
    "python_repl = PythonREPL()\n",
    "\n",
    "tools = [\n",
    "    Tool(\n",
    "        name=\"PythonREPL\",\n",
    "        func=python_repl.run,\n",
    "        description=\"Run Python code and return the output\",\n",
    "    )\n",
    "]\n",
    "# ChatOpenAI 모델을 사용하여 대화를 생성하는 에이전트 초기화\n",
    "llm = ChatOpenAI(model=MODEL, temperature=0)\n",
    "memory = ConversationBufferMemory(memory_key=\"chat_history\")  #대화 기록을 위한 메모리 사용\n",
    "\n",
    "agent = initialize_agent(\n",
    "    tools,\n",
    "    llm,\n",
    "    agent_type=AgentType.CHAT_CONVERSATIONAL_REACT_DESCRIPTION,\n",
    "    memory=memory,\n",
    "    verbose=True,\n",
    ")\n",
    "\n",
    "response = agent.run(\"파이썬을 사용하여 25의 제곱을 계산해줘\")\n",
    "\n",
    "print(response)"
   ]
  },
  {
   "cell_type": "code",
   "execution_count": null,
   "metadata": {},
   "outputs": [],
   "source": []
  }
 ],
 "metadata": {
  "kernelspec": {
   "display_name": "venv",
   "language": "python",
   "name": "python3"
  },
  "language_info": {
   "codemirror_mode": {
    "name": "ipython",
    "version": 3
   },
   "file_extension": ".py",
   "mimetype": "text/x-python",
   "name": "python",
   "nbconvert_exporter": "python",
   "pygments_lexer": "ipython3",
   "version": "3.10.11"
  }
 },
 "nbformat": 4,
 "nbformat_minor": 2
}
