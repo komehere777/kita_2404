{
 "cells": [
  {
   "cell_type": "markdown",
   "metadata": {},
   "source": [
    "Task1_0822. 특정 과제에 대하여 추론하는 모델을 Chat completion api를 이용해서 아래와 같이 생성하여 각각의 추론 성능을 비교하세요.\n",
    "- zero-shot\n",
    "- few-shot\n",
    "- fine-tuning"
   ]
  },
  {
   "cell_type": "code",
   "execution_count": 1,
   "metadata": {},
   "outputs": [],
   "source": [
    "from openai import OpenAI\n",
    "import os\n",
    "\n",
    "MODEL = \"gpt-4o-mini-2024-07-18\"\n",
    "client = OpenAI(api_key=os.getenv(\"OPENAI_API_KEY\"))"
   ]
  },
  {
   "cell_type": "code",
   "execution_count": 3,
   "metadata": {},
   "outputs": [
    {
     "name": "stdout",
     "output_type": "stream",
     "text": [
      "기쁨\n"
     ]
    }
   ],
   "source": [
    "# zero-shot\n",
    "from openai import OpenAI\n",
    "\n",
    "client = OpenAI()\n",
    "\n",
    "response = client.chat.completions.create(\n",
    "    model=MODEL,\n",
    "    messages=[\n",
    "        {\"role\": \"system\", \"content\": \"당신은 국어 선생님입니다. 문장에서 감정을 찾아주세요. 그 감정을 한 단어로 표현해주세요.\"},\n",
    "        {\"role\": \"user\", \"content\": \"오늘 시험 결과를 받았는데 예상보다 훨씬 잘 봤어!\"},\n",
    "    ],\n",
    ")\n",
    "print(response.choices[0].message.content)"
   ]
  },
  {
   "cell_type": "code",
   "execution_count": 5,
   "metadata": {},
   "outputs": [
    {
     "name": "stdout",
     "output_type": "stream",
     "text": [
      "놀람\n"
     ]
    }
   ],
   "source": [
    "# few-shot\n",
    "\n",
    "from openai import OpenAI\n",
    "\n",
    "client = OpenAI()\n",
    "\n",
    "response = client.chat.completions.create(\n",
    "    model=MODEL,\n",
    "    messages=[\n",
    "        {\n",
    "            \"role\": \"system\",\n",
    "            \"content\": \"당신은 국어 선생님입니다. 문장에서 감정을 찾아주세요. 그 감정을 한 단어로 표현해주세요.\",\n",
    "        },\n",
    "        {\"role\": \"user\", \"content\": \"친구와 크게 다퉜어. 화해할 수 있을지 모르겠어.\"},\n",
    "        {\"role\": \"assistant\", \"content\": \"슬픔\"},\n",
    "        {\"role\": \"user\", \"content\": \"새로운 프로젝트를 시작하게 되어 너무 설레\"},\n",
    "        {\"role\": \"assistant\", \"content\": \"기대\"},\n",
    "        {\"role\": \"user\", \"content\": \"길에서 갑자기 큰 개가 짖어서 놀랐어.\"},\n",
    "        \n",
    "    ],\n",
    ")\n",
    "print(response.choices[0].message.content)"
   ]
  },
  {
   "cell_type": "code",
   "execution_count": 7,
   "metadata": {},
   "outputs": [],
   "source": [
    "# fine-tune\n",
    "import json\n",
    "\n",
    "\n",
    "def write_jsonl(data_list: list, filename: str) -> None:\n",
    "    with open(filename, \"w\") as out:\n",
    "        for ddict in data_list:\n",
    "            jout = json.dumps(ddict) + \"\\n\"  # 한줄씩 저장\n",
    "            out.write(jout)\n",
    "\n",
    "training_data = [\n",
    "    {\n",
    "        \"messages\": [\n",
    "            {\n",
    "                \"role\": \"system\",\n",
    "                \"content\": \"당신은 국어 선생님입니다. 문장에서 감정을 찾아주세요. 그 감정을 한 단어로 표현해주세요.\",\n",
    "            },\n",
    "            {\"role\": \"user\", \"content\": \"친구가 약속을 또 어겼어. 정말 화가 나.\"},\n",
    "            {\"role\": \"assistant\", \"content\": \"분노\"},\n",
    "        ]\n",
    "    },\n",
    "    {\n",
    "        \"messages\": [\n",
    "            {\n",
    "                \"role\": \"system\",\n",
    "                \"content\": \"당신은 국어 선생님입니다. 문장에서 감정을 찾아주세요. 그 감정을 한 단어로 표현해주세요.\",\n",
    "            },\n",
    "            {\n",
    "                \"role\": \"user\",\n",
    "                \"content\": \"오랜만에 가족들과 저녁 식사를 했어. 정말 행복한 시간이었어.\",\n",
    "            },\n",
    "            {\"role\": \"assistant\", \"content\": \"행복\"},\n",
    "        ]\n",
    "    },\n",
    "    {\n",
    "        \"messages\": [\n",
    "            {\n",
    "                \"role\": \"system\",\n",
    "                \"content\": \"당신은 국어 선생님입니다. 문장에서 감정을 찾아주세요. 그 감정을 한 단어로 표현해주세요.\",\n",
    "            },\n",
    "            {\"role\": \"user\", \"content\": \"내일 중요한 발표가 있어서 긴장돼.\"},\n",
    "            {\"role\": \"assistant\", \"content\": \"불안\"},\n",
    "        ]\n",
    "    },\n",
    "    {\n",
    "        \"messages\": [\n",
    "            {\n",
    "                \"role\": \"system\",\n",
    "                \"content\": \"당신은 국어 선생님입니다. 문장에서 감정을 찾아주세요. 그 감정을 한 단어로 표현해주세요.\",\n",
    "            },\n",
    "            {\n",
    "                \"role\": \"user\",\n",
    "                \"content\": \"새로 산 옷이 생각보다 어울리지 않아 실망스러워.\",\n",
    "            },\n",
    "            {\"role\": \"assistant\", \"content\": \"실망\"},\n",
    "        ]\n",
    "    },\n",
    "    {\n",
    "        \"messages\": [\n",
    "            {\n",
    "                \"role\": \"system\",\n",
    "                \"content\": \"당신은 국어 선생님입니다. 문장에서 감정을 찾아주세요. 그 감정을 한 단어로 표현해주세요.\",\n",
    "            },\n",
    "            {\n",
    "                \"role\": \"user\",\n",
    "                \"content\": \"오늘 아침에 일어나니 날씨가 너무 좋아서 기분이 좋아졌어.\",\n",
    "            },\n",
    "            {\"role\": \"assistant\", \"content\": \"기쁨\"},\n",
    "        ]\n",
    "    },\n",
    "    {\n",
    "        \"messages\": [\n",
    "            {\n",
    "                \"role\": \"system\",\n",
    "                \"content\": \"당신은 국어 선생님입니다. 문장에서 감정을 찾아주세요. 그 감정을 한 단어로 표현해주세요.\",\n",
    "            },\n",
    "            {\"role\": \"user\", \"content\": \"친구가 멀리 이사 가게 되어 헤어지게 됐어.\"},\n",
    "            {\"role\": \"assistant\", \"content\": \"슬픔\"},\n",
    "        ]\n",
    "    },\n",
    "    {\n",
    "        \"messages\": [\n",
    "            {\n",
    "                \"role\": \"system\",\n",
    "                \"content\": \"당신은 국어 선생님입니다. 문장에서 감정을 찾아주세요. 그 감정을 한 단어로 표현해주세요.\",\n",
    "            },\n",
    "            {\"role\": \"user\", \"content\": \"드디어 꿈에 그리던 대학에 합격했어!\"},\n",
    "            {\"role\": \"assistant\", \"content\": \"기쁨\"},\n",
    "        ]\n",
    "    },\n",
    "    {\n",
    "        \"messages\": [\n",
    "            {\n",
    "                \"role\": \"system\",\n",
    "                \"content\": \"당신은 국어 선생님입니다. 문장에서 감정을 찾아주세요. 그 감정을 한 단어로 표현해주세요.\",\n",
    "            },\n",
    "            {\"role\": \"user\", \"content\": \"밤에 혼자 있는데 이상한 소리가 들려.\"},\n",
    "            {\"role\": \"assistant\", \"content\": \"공포\"},\n",
    "        ]\n",
    "    },\n",
    "    {\n",
    "        \"messages\": [\n",
    "            {\n",
    "                \"role\": \"system\",\n",
    "                \"content\": \"당신은 국어 선생님입니다. 문장에서 감정을 찾아주세요. 그 감정을 한 단어로 표현해주세요.\",\n",
    "            },\n",
    "            {\n",
    "                \"role\": \"user\",\n",
    "                \"content\": \"상사가 내 아이디어를 무시하고 비난해서 속상해.\",\n",
    "            },\n",
    "            {\"role\": \"assistant\", \"content\": \"분노\"},\n",
    "        ]\n",
    "    },\n",
    "    {\n",
    "        \"messages\": [\n",
    "            {\n",
    "                \"role\": \"system\",\n",
    "                \"content\": \"당신은 국어 선생님입니다. 문장에서 감정을 찾아주세요. 그 감정을 한 단어로 표현해주세요.\",\n",
    "            },\n",
    "            {\"role\": \"user\", \"content\": \"오랜만에 만난 친구들과 즐거운 시간을 보냈어.\"},\n",
    "            {\"role\": \"assistant\", \"content\": \"행복\"},\n",
    "        ]\n",
    "    },\n",
    "    {\n",
    "        \"messages\": [\n",
    "            {\n",
    "                \"role\": \"system\",\n",
    "                \"content\": \"당신은 국어 선생님입니다. 문장에서 감정을 찾아주세요. 그 감정을 한 단어로 표현해주세요.\",\n",
    "            },\n",
    "            {\n",
    "                \"role\": \"user\",\n",
    "                \"content\": \"중요한 면접 결과를 기다리고 있어. 너무 초조해.\",\n",
    "            },\n",
    "            {\"role\": \"assistant\", \"content\": \"불안\"},\n",
    "        ]\n",
    "    },\n",
    "    {\n",
    "        \"messages\": [\n",
    "            {\n",
    "                \"role\": \"system\",\n",
    "                \"content\": \"당신은 국어 선생님입니다. 문장에서 감정을 찾아주세요. 그 감정을 한 단어로 표현해주세요.\",\n",
    "            },\n",
    "            {\"role\": \"user\", \"content\": \"열심히 준비한 대회에서 예선 탈락했어.\"},\n",
    "            {\"role\": \"assistant\", \"content\": \"실망\"},\n",
    "        ]\n",
    "    },\n",
    "    {\n",
    "        \"messages\": [\n",
    "            {\n",
    "                \"role\": \"system\",\n",
    "                \"content\": \"당신은 국어 선생님입니다. 문장에서 감정을 찾아주세요. 그 감정을 한 단어로 표현해주세요.\",\n",
    "            },\n",
    "            {\"role\": \"user\", \"content\": \"처음으로 해외여행을 가게 되어 너무 설레!\"},\n",
    "            {\"role\": \"assistant\", \"content\": \"기대\"},\n",
    "        ]\n",
    "    },\n",
    "    {\n",
    "        \"messages\": [\n",
    "            {\n",
    "                \"role\": \"system\",\n",
    "                \"content\": \"당신은 국어 선생님입니다. 문장에서 감정을 찾아주세요. 그 감정을 한 단어로 표현해주세요.\",\n",
    "            },\n",
    "            {\"role\": \"user\", \"content\": \"애완동물이 아파서 병원에 데려갔어. 걱정돼.\"},\n",
    "            {\"role\": \"assistant\", \"content\": \"걱정\"},\n",
    "        ]\n",
    "    },\n",
    "    {\n",
    "        \"messages\": [\n",
    "            {\n",
    "                \"role\": \"system\",\n",
    "                \"content\": \"당신은 국어 선생님입니다. 문장에서 감정을 찾아주세요. 그 감정을 한 단어로 표현해주세요.\",\n",
    "            },\n",
    "            {\"role\": \"user\", \"content\": \"오랜 노력 끝에 자격증을 땄어! 정말 뿌듯해.\"},\n",
    "            {\"role\": \"assistant\", \"content\": \"자부심\"},\n",
    "        ]\n",
    "    },\n",
    "    {\n",
    "        \"messages\": [\n",
    "            {\n",
    "                \"role\": \"system\",\n",
    "                \"content\": \"당신은 국어 선생님입니다. 문장에서 감정을 찾아주세요. 그 감정을 한 단어로 표현해주세요.\",\n",
    "            },\n",
    "            {\n",
    "                \"role\": \"user\",\n",
    "                \"content\": \"친구가 내 비밀을 다른 사람에게 말했어. 배신감이 들어.\",\n",
    "            },\n",
    "            {\"role\": \"assistant\", \"content\": \"배신감\"},\n",
    "        ]\n",
    "    },\n",
    "]"
   ]
  },
  {
   "cell_type": "code",
   "execution_count": 8,
   "metadata": {},
   "outputs": [],
   "source": [
    "training_file_name = \"tmp_recipe_finetune_trinng.jsonl\"\n",
    "write_jsonl(training_data, training_file_name)"
   ]
  },
  {
   "cell_type": "code",
   "execution_count": 9,
   "metadata": {},
   "outputs": [],
   "source": [
    "validation_data = [\n",
    "    {\n",
    "        \"messages\": [\n",
    "            {\n",
    "                \"role\": \"system\",\n",
    "                \"content\": \"당신은 국어 선생님입니다. 문장에서 감정을 찾아주세요. 그 감정을 한 단어로 표현해주세요.\",\n",
    "            },\n",
    "            {\"role\": \"user\", \"content\": \"첫 월급을 받았어. 뭘 사야 할지 고민돼.\"},\n",
    "            {\"role\": \"assistant\", \"content\": \"기대\"},\n",
    "        ]\n",
    "    },\n",
    "    {\n",
    "        \"messages\": [\n",
    "            {\n",
    "                \"role\": \"system\",\n",
    "                \"content\": \"당신은 국어 선생님입니다. 문장에서 감정을 찾아주세요. 그 감정을 한 단어로 표현해주세요.\",\n",
    "            },\n",
    "            {\n",
    "                \"role\": \"user\",\n",
    "                \"content\": \"친구가 갑자기 연락이 안 돼. 무슨 일이 있는 건 아닐까?\",\n",
    "            },\n",
    "            {\"role\": \"assistant\", \"content\": \"걱정\"},\n",
    "        ]\n",
    "    },\n",
    "    {\n",
    "        \"messages\": [\n",
    "            {\n",
    "                \"role\": \"system\",\n",
    "                \"content\": \"당신은 국어 선생님입니다. 문장에서 감정을 찾아주세요. 그 감정을 한 단어로 표현해주세요.\",\n",
    "            },\n",
    "            {\"role\": \"user\", \"content\": \"새로운 취미를 시작했는데 생각보다 재미있어!\"},\n",
    "            {\"role\": \"assistant\", \"content\": \"즐거움\"},\n",
    "        ]\n",
    "    },\n",
    "    {\n",
    "        \"messages\": [\n",
    "            {\n",
    "                \"role\": \"system\",\n",
    "                \"content\": \"당신은 국어 선생님입니다. 문장에서 감정을 찾아주세요. 그 감정을 한 단어로 표현해주세요.\",\n",
    "            },\n",
    "            {\"role\": \"user\", \"content\": \"실수로 중요한 파일을 삭제해버렸어. 어떡하지?\"},\n",
    "            {\"role\": \"assistant\", \"content\": \"당황\"},\n",
    "        ]\n",
    "    },\n",
    "    {\n",
    "        \"messages\": [\n",
    "            {\n",
    "                \"role\": \"system\",\n",
    "                \"content\": \"당신은 국어 선생님입니다. 문장에서 감정을 찾아주세요. 그 감정을 한 단어로 표현해주세요.\",\n",
    "            },\n",
    "            {\n",
    "                \"role\": \"user\",\n",
    "                \"content\": \"오랜만에 가족 모임에 갔는데 親戚들이 자꾸 취업 얘기를 해서 불편했어.\",\n",
    "            },\n",
    "            {\"role\": \"assistant\", \"content\": \"불편함\"},\n",
    "        ]\n",
    "    },\n",
    "    {\n",
    "        \"messages\": [\n",
    "            {\n",
    "                \"role\": \"system\",\n",
    "                \"content\": \"당신은 국어 선생님입니다. 문장에서 감정을 찾아주세요. 그 감정을 한 단어로 표현해주세요.\",\n",
    "            },\n",
    "            {\n",
    "                \"role\": \"user\",\n",
    "                \"content\": \"드디어 오랫동안 기다린 콘서트 티켓을 예매했어!\",\n",
    "            },\n",
    "            {\"role\": \"assistant\", \"content\": \"기쁨\"},\n",
    "        ]\n",
    "    },\n",
    "    {\n",
    "        \"messages\": [\n",
    "            {\n",
    "                \"role\": \"system\",\n",
    "                \"content\": \"당신은 국어 선생님입니다. 문장에서 감정을 찾아주세요. 그 감정을 한 단어로 표현해주세요.\",\n",
    "            },\n",
    "            {\"role\": \"user\", \"content\": \"친구가 나를 위해 깜짝 생일 파티를 열어줬어.\"},\n",
    "            {\"role\": \"assistant\", \"content\": \"감동\"},\n",
    "        ]\n",
    "    },\n",
    "    {\n",
    "        \"messages\": [\n",
    "            {\n",
    "                \"role\": \"system\",\n",
    "                \"content\": \"당신은 국어 선생님입니다. 문장에서 감정을 찾아주세요. 그 감정을 한 단어로 표현해주세요.\",\n",
    "            },\n",
    "            {\n",
    "                \"role\": \"user\",\n",
    "                \"content\": \"길에서 우연히 첫사랑을 만났어. 심장이 두근거려.\",\n",
    "            },\n",
    "            {\"role\": \"assistant\", \"content\": \"설렘\"},\n",
    "        ]\n",
    "    },\n",
    "    {\n",
    "        \"messages\": [\n",
    "            {\n",
    "                \"role\": \"system\",\n",
    "                \"content\": \"당신은 국어 선생님입니다. 문장에서 감정을 찾아주세요. 그 감정을 한 단어로 표현해주세요.\",\n",
    "            },\n",
    "            {\"role\": \"user\", \"content\": \"새로운 동네로 이사왔는데 적응하기가 힘들어.\"},\n",
    "            {\"role\": \"assistant\", \"content\": \"불안\"},\n",
    "        ]\n",
    "    },\n",
    "    {\n",
    "        \"messages\": [\n",
    "            {\n",
    "                \"role\": \"system\",\n",
    "                \"content\": \"당신은 국어 선생님입니다. 문장에서 감정을 찾아주세요. 그 감정을 한 단어로 표현해주세요.\",\n",
    "            },\n",
    "            {\"role\": \"user\", \"content\": \"오랜만에 만난 친구가 많이 변해있어서 놀랐어.\"},\n",
    "            {\"role\": \"assistant\", \"content\": \"놀람\"},\n",
    "        ]\n",
    "    },\n",
    "]"
   ]
  },
  {
   "cell_type": "code",
   "execution_count": 10,
   "metadata": {},
   "outputs": [],
   "source": [
    "validation_file_name = \"tmp_recipe_finetune_validation.jsonl\"\n",
    "write_jsonl(validation_data, validation_file_name)"
   ]
  },
  {
   "cell_type": "code",
   "execution_count": 11,
   "metadata": {},
   "outputs": [],
   "source": [
    "from openai import OpenAI\n",
    "\n",
    "client = OpenAI()\n",
    "train = client.files.create(\n",
    "    file=open(r\"D:\\pythonProject\\ML\\tasks\\tmp_recipe_finetune_trinng.jsonl\", \"rb\"),\n",
    "    purpose=\"fine-tune\",\n",
    ")\n",
    "\n",
    "valid = client.files.create(\n",
    "    file=open(r\"D:\\pythonProject\\ML\\tasks\\tmp_recipe_finetune_validation.jsonl\", \"rb\"),\n",
    "    purpose=\"fine-tune\",\n",
    ")"
   ]
  },
  {
   "cell_type": "code",
   "execution_count": 12,
   "metadata": {},
   "outputs": [
    {
     "data": {
      "text/plain": [
       "FileObject(id='file-8uVqO98AqzGXTXhJxwRjlTPm', bytes=7783, created_at=1724311033, filename='tmp_recipe_finetune_trinng.jsonl', object='file', purpose='fine-tune', status='processed', status_details=None)"
      ]
     },
     "execution_count": 12,
     "metadata": {},
     "output_type": "execute_result"
    }
   ],
   "source": [
    "train"
   ]
  },
  {
   "cell_type": "code",
   "execution_count": 13,
   "metadata": {},
   "outputs": [
    {
     "data": {
      "text/plain": [
       "FileObject(id='file-dQP16EJuYwnaSvqW3wRqIURp', bytes=4967, created_at=1724311034, filename='tmp_recipe_finetune_validation.jsonl', object='file', purpose='fine-tune', status='processed', status_details=None)"
      ]
     },
     "execution_count": 13,
     "metadata": {},
     "output_type": "execute_result"
    }
   ],
   "source": [
    "valid"
   ]
  },
  {
   "cell_type": "code",
   "execution_count": 14,
   "metadata": {},
   "outputs": [
    {
     "data": {
      "text/plain": [
       "FineTuningJob(id='ftjob-uarfPrJKKwXDRtEcAekdofJ3', created_at=1724311094, error=Error(code=None, message=None, param=None), fine_tuned_model=None, finished_at=None, hyperparameters=Hyperparameters(n_epochs=3, batch_size='auto', learning_rate_multiplier='auto'), model='gpt-4o-mini-2024-07-18', object='fine_tuning.job', organization_id='org-NXueW4KXYYo6IkVSQ8lGCen3', result_files=[], seed=786164161, status='validating_files', trained_tokens=None, training_file='file-8uVqO98AqzGXTXhJxwRjlTPm', validation_file='file-dQP16EJuYwnaSvqW3wRqIURp', estimated_finish=None, integrations=[], user_provided_suffix=None)"
      ]
     },
     "execution_count": 14,
     "metadata": {},
     "output_type": "execute_result"
    }
   ],
   "source": [
    "client.fine_tuning.jobs.create(\n",
    "    model=MODEL,\n",
    "    training_file=train.id,\n",
    "    validation_file=valid.id,\n",
    "    hyperparameters={\"n_epochs\":3}\n",
    ")\n"
   ]
  },
  {
   "cell_type": "code",
   "execution_count": 24,
   "metadata": {},
   "outputs": [
    {
     "name": "stdout",
     "output_type": "stream",
     "text": [
      "FineTuningJob(id='ftjob-uarfPrJKKwXDRtEcAekdofJ3', created_at=1724311094, error=Error(code=None, message=None, param=None), fine_tuned_model='ft:gpt-4o-mini-2024-07-18:personal::9ywSpfdQ', finished_at=1724311441, hyperparameters=Hyperparameters(n_epochs=3, batch_size=1, learning_rate_multiplier=1.8), model='gpt-4o-mini-2024-07-18', object='fine_tuning.job', organization_id='org-NXueW4KXYYo6IkVSQ8lGCen3', result_files=['file-vrr7Ge8OODkuMhov41ocye0p'], seed=786164161, status='succeeded', trained_tokens=2838, training_file='file-8uVqO98AqzGXTXhJxwRjlTPm', validation_file='file-dQP16EJuYwnaSvqW3wRqIURp', estimated_finish=None, integrations=[], user_provided_suffix=None)\n"
     ]
    }
   ],
   "source": [
    "response = client.fine_tuning.jobs.retrieve(\"ftjob-uarfPrJKKwXDRtEcAekdofJ3\")\n",
    "print(response)"
   ]
  },
  {
   "cell_type": "code",
   "execution_count": 25,
   "metadata": {},
   "outputs": [
    {
     "name": "stdout",
     "output_type": "stream",
     "text": [
      "Fine-tuning is successful!\n",
      "Total tokens trained: 2838\n"
     ]
    }
   ],
   "source": [
    "status = response.status\n",
    "\n",
    "if status == \"succeeded\":\n",
    "    print(\"Fine-tuning is successful!\")\n",
    "elif status == \"failed\":\n",
    "    print(\"Fine-tuning failed.\")\n",
    "else:\n",
    "    print(f\"Fine-tuning is {status}.\")\n",
    "    \n",
    "total_tokens = response.trained_tokens\n",
    "print(f\"Total tokens trained: {total_tokens}\")"
   ]
  },
  {
   "cell_type": "markdown",
   "metadata": {},
   "source": [
    "Training loss\n",
    "0.0017\n",
    "Validation loss\n",
    "0.4051\n",
    "Full validation loss\n",
    "0.4598"
   ]
  },
  {
   "cell_type": "code",
   "execution_count": 18,
   "metadata": {},
   "outputs": [
    {
     "name": "stdout",
     "output_type": "stream",
     "text": [
      "희망\n"
     ]
    }
   ],
   "source": [
    "completion = client.chat.completions.create(\n",
    "    model='ft:gpt-4o-mini-2024-07-18:personal::9ywSpfdQ',\n",
    "    messages=[\n",
    "        {\n",
    "            \"role\": \"system\",\n",
    "            \"content\": \"당신은 국어 선생님입니다. 문장에서 감정을 찾아주세요. 그 감정을 한 단어로 표현해주세요.\",\n",
    "        },\n",
    "        {\"role\": \"user\", \"content\": \"날개야 다시 돋아라. 날자 날자 날자 한번더 날자꾸나\"},\n",
    "    ],\n",
    "    temperature=0.5,\n",
    "    max_tokens=50,\n",
    ")\n",
    "print(completion.choices[0].message.content)"
   ]
  },
  {
   "cell_type": "code",
   "execution_count": null,
   "metadata": {},
   "outputs": [],
   "source": []
  }
 ],
 "metadata": {
  "kernelspec": {
   "display_name": "venv",
   "language": "python",
   "name": "python3"
  },
  "language_info": {
   "codemirror_mode": {
    "name": "ipython",
    "version": 3
   },
   "file_extension": ".py",
   "mimetype": "text/x-python",
   "name": "python",
   "nbconvert_exporter": "python",
   "pygments_lexer": "ipython3",
   "version": "3.10.11"
  }
 },
 "nbformat": 4,
 "nbformat_minor": 2
}
