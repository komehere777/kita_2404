{
  "nbformat": 4,
  "nbformat_minor": 0,
  "metadata": {
    "colab": {
      "provenance": [],
      "gpuType": "T4"
    },
    "kernelspec": {
      "name": "python3",
      "display_name": "Python 3"
    },
    "language_info": {
      "name": "python"
    },
    "accelerator": "GPU"
  },
  "cells": [
    {
      "cell_type": "markdown",
      "source": [],
      "metadata": {
        "id": "YSvBZ06gpZuT"
      }
    },
    {
      "cell_type": "markdown",
      "source": [
        "# 0909"
      ],
      "metadata": {
        "id": "qjA4jVF6pbLb"
      }
    },
    {
      "cell_type": "markdown",
      "source": [
        "### Kaggle 데이터 내려받기\n",
        "1. 캐글 API Token 발급\n",
        "- 캐글 사이트 account 페이지 이동 > API 섹션 내 CREATE NEW API TOKEN 클릭 > 다운로드된 파일 kaggle.json 확인\n",
        "\n",
        "https://www.kaggle.com/settings"
      ],
      "metadata": {
        "id": "zfzaBzKopcwl"
      }
    },
    {
      "cell_type": "code",
      "execution_count": 1,
      "metadata": {
        "colab": {
          "base_uri": "https://localhost:8080/"
        },
        "id": "1NSg5ovkoqep",
        "outputId": "db86eacf-9fa9-41c7-e068-d8c907813b19"
      },
      "outputs": [
        {
          "output_type": "stream",
          "name": "stdout",
          "text": [
            "Requirement already satisfied: kaggle in /usr/local/lib/python3.10/dist-packages (1.6.17)\n",
            "Requirement already satisfied: six>=1.10 in /usr/local/lib/python3.10/dist-packages (from kaggle) (1.16.0)\n",
            "Requirement already satisfied: certifi>=2023.7.22 in /usr/local/lib/python3.10/dist-packages (from kaggle) (2024.8.30)\n",
            "Requirement already satisfied: python-dateutil in /usr/local/lib/python3.10/dist-packages (from kaggle) (2.8.2)\n",
            "Requirement already satisfied: requests in /usr/local/lib/python3.10/dist-packages (from kaggle) (2.32.3)\n",
            "Requirement already satisfied: tqdm in /usr/local/lib/python3.10/dist-packages (from kaggle) (4.66.5)\n",
            "Requirement already satisfied: python-slugify in /usr/local/lib/python3.10/dist-packages (from kaggle) (8.0.4)\n",
            "Requirement already satisfied: urllib3 in /usr/local/lib/python3.10/dist-packages (from kaggle) (2.0.7)\n",
            "Requirement already satisfied: bleach in /usr/local/lib/python3.10/dist-packages (from kaggle) (6.1.0)\n",
            "Requirement already satisfied: webencodings in /usr/local/lib/python3.10/dist-packages (from bleach->kaggle) (0.5.1)\n",
            "Requirement already satisfied: text-unidecode>=1.3 in /usr/local/lib/python3.10/dist-packages (from python-slugify->kaggle) (1.3)\n",
            "Requirement already satisfied: charset-normalizer<4,>=2 in /usr/local/lib/python3.10/dist-packages (from requests->kaggle) (3.3.2)\n",
            "Requirement already satisfied: idna<4,>=2.5 in /usr/local/lib/python3.10/dist-packages (from requests->kaggle) (3.8)\n"
          ]
        }
      ],
      "source": [
        "!pip install kaggle"
      ]
    },
    {
      "cell_type": "code",
      "source": [
        "from google.colab import files\n",
        "files.upload()"
      ],
      "metadata": {
        "colab": {
          "base_uri": "https://localhost:8080/",
          "height": 95
        },
        "id": "5Vi9w1bxpfra",
        "outputId": "ea7d709b-2022-4870-ed1b-268a1972aeef"
      },
      "execution_count": 2,
      "outputs": [
        {
          "output_type": "display_data",
          "data": {
            "text/plain": [
              "<IPython.core.display.HTML object>"
            ],
            "text/html": [
              "\n",
              "     <input type=\"file\" id=\"files-4d0bccc4-1fdf-40a2-ab13-7e8ca0e42076\" name=\"files[]\" multiple disabled\n",
              "        style=\"border:none\" />\n",
              "     <output id=\"result-4d0bccc4-1fdf-40a2-ab13-7e8ca0e42076\">\n",
              "      Upload widget is only available when the cell has been executed in the\n",
              "      current browser session. Please rerun this cell to enable.\n",
              "      </output>\n",
              "      <script>// Copyright 2017 Google LLC\n",
              "//\n",
              "// Licensed under the Apache License, Version 2.0 (the \"License\");\n",
              "// you may not use this file except in compliance with the License.\n",
              "// You may obtain a copy of the License at\n",
              "//\n",
              "//      http://www.apache.org/licenses/LICENSE-2.0\n",
              "//\n",
              "// Unless required by applicable law or agreed to in writing, software\n",
              "// distributed under the License is distributed on an \"AS IS\" BASIS,\n",
              "// WITHOUT WARRANTIES OR CONDITIONS OF ANY KIND, either express or implied.\n",
              "// See the License for the specific language governing permissions and\n",
              "// limitations under the License.\n",
              "\n",
              "/**\n",
              " * @fileoverview Helpers for google.colab Python module.\n",
              " */\n",
              "(function(scope) {\n",
              "function span(text, styleAttributes = {}) {\n",
              "  const element = document.createElement('span');\n",
              "  element.textContent = text;\n",
              "  for (const key of Object.keys(styleAttributes)) {\n",
              "    element.style[key] = styleAttributes[key];\n",
              "  }\n",
              "  return element;\n",
              "}\n",
              "\n",
              "// Max number of bytes which will be uploaded at a time.\n",
              "const MAX_PAYLOAD_SIZE = 100 * 1024;\n",
              "\n",
              "function _uploadFiles(inputId, outputId) {\n",
              "  const steps = uploadFilesStep(inputId, outputId);\n",
              "  const outputElement = document.getElementById(outputId);\n",
              "  // Cache steps on the outputElement to make it available for the next call\n",
              "  // to uploadFilesContinue from Python.\n",
              "  outputElement.steps = steps;\n",
              "\n",
              "  return _uploadFilesContinue(outputId);\n",
              "}\n",
              "\n",
              "// This is roughly an async generator (not supported in the browser yet),\n",
              "// where there are multiple asynchronous steps and the Python side is going\n",
              "// to poll for completion of each step.\n",
              "// This uses a Promise to block the python side on completion of each step,\n",
              "// then passes the result of the previous step as the input to the next step.\n",
              "function _uploadFilesContinue(outputId) {\n",
              "  const outputElement = document.getElementById(outputId);\n",
              "  const steps = outputElement.steps;\n",
              "\n",
              "  const next = steps.next(outputElement.lastPromiseValue);\n",
              "  return Promise.resolve(next.value.promise).then((value) => {\n",
              "    // Cache the last promise value to make it available to the next\n",
              "    // step of the generator.\n",
              "    outputElement.lastPromiseValue = value;\n",
              "    return next.value.response;\n",
              "  });\n",
              "}\n",
              "\n",
              "/**\n",
              " * Generator function which is called between each async step of the upload\n",
              " * process.\n",
              " * @param {string} inputId Element ID of the input file picker element.\n",
              " * @param {string} outputId Element ID of the output display.\n",
              " * @return {!Iterable<!Object>} Iterable of next steps.\n",
              " */\n",
              "function* uploadFilesStep(inputId, outputId) {\n",
              "  const inputElement = document.getElementById(inputId);\n",
              "  inputElement.disabled = false;\n",
              "\n",
              "  const outputElement = document.getElementById(outputId);\n",
              "  outputElement.innerHTML = '';\n",
              "\n",
              "  const pickedPromise = new Promise((resolve) => {\n",
              "    inputElement.addEventListener('change', (e) => {\n",
              "      resolve(e.target.files);\n",
              "    });\n",
              "  });\n",
              "\n",
              "  const cancel = document.createElement('button');\n",
              "  inputElement.parentElement.appendChild(cancel);\n",
              "  cancel.textContent = 'Cancel upload';\n",
              "  const cancelPromise = new Promise((resolve) => {\n",
              "    cancel.onclick = () => {\n",
              "      resolve(null);\n",
              "    };\n",
              "  });\n",
              "\n",
              "  // Wait for the user to pick the files.\n",
              "  const files = yield {\n",
              "    promise: Promise.race([pickedPromise, cancelPromise]),\n",
              "    response: {\n",
              "      action: 'starting',\n",
              "    }\n",
              "  };\n",
              "\n",
              "  cancel.remove();\n",
              "\n",
              "  // Disable the input element since further picks are not allowed.\n",
              "  inputElement.disabled = true;\n",
              "\n",
              "  if (!files) {\n",
              "    return {\n",
              "      response: {\n",
              "        action: 'complete',\n",
              "      }\n",
              "    };\n",
              "  }\n",
              "\n",
              "  for (const file of files) {\n",
              "    const li = document.createElement('li');\n",
              "    li.append(span(file.name, {fontWeight: 'bold'}));\n",
              "    li.append(span(\n",
              "        `(${file.type || 'n/a'}) - ${file.size} bytes, ` +\n",
              "        `last modified: ${\n",
              "            file.lastModifiedDate ? file.lastModifiedDate.toLocaleDateString() :\n",
              "                                    'n/a'} - `));\n",
              "    const percent = span('0% done');\n",
              "    li.appendChild(percent);\n",
              "\n",
              "    outputElement.appendChild(li);\n",
              "\n",
              "    const fileDataPromise = new Promise((resolve) => {\n",
              "      const reader = new FileReader();\n",
              "      reader.onload = (e) => {\n",
              "        resolve(e.target.result);\n",
              "      };\n",
              "      reader.readAsArrayBuffer(file);\n",
              "    });\n",
              "    // Wait for the data to be ready.\n",
              "    let fileData = yield {\n",
              "      promise: fileDataPromise,\n",
              "      response: {\n",
              "        action: 'continue',\n",
              "      }\n",
              "    };\n",
              "\n",
              "    // Use a chunked sending to avoid message size limits. See b/62115660.\n",
              "    let position = 0;\n",
              "    do {\n",
              "      const length = Math.min(fileData.byteLength - position, MAX_PAYLOAD_SIZE);\n",
              "      const chunk = new Uint8Array(fileData, position, length);\n",
              "      position += length;\n",
              "\n",
              "      const base64 = btoa(String.fromCharCode.apply(null, chunk));\n",
              "      yield {\n",
              "        response: {\n",
              "          action: 'append',\n",
              "          file: file.name,\n",
              "          data: base64,\n",
              "        },\n",
              "      };\n",
              "\n",
              "      let percentDone = fileData.byteLength === 0 ?\n",
              "          100 :\n",
              "          Math.round((position / fileData.byteLength) * 100);\n",
              "      percent.textContent = `${percentDone}% done`;\n",
              "\n",
              "    } while (position < fileData.byteLength);\n",
              "  }\n",
              "\n",
              "  // All done.\n",
              "  yield {\n",
              "    response: {\n",
              "      action: 'complete',\n",
              "    }\n",
              "  };\n",
              "}\n",
              "\n",
              "scope.google = scope.google || {};\n",
              "scope.google.colab = scope.google.colab || {};\n",
              "scope.google.colab._files = {\n",
              "  _uploadFiles,\n",
              "  _uploadFilesContinue,\n",
              "};\n",
              "})(self);\n",
              "</script> "
            ]
          },
          "metadata": {}
        },
        {
          "output_type": "stream",
          "name": "stdout",
          "text": [
            "Saving kaggle.json to kaggle.json\n"
          ]
        },
        {
          "output_type": "execute_result",
          "data": {
            "text/plain": [
              "{'kaggle.json': b'{\"username\":\"rodneykim\",\"key\":\"864372c8d1d22e59231f822167390d90\"}'}"
            ]
          },
          "metadata": {},
          "execution_count": 2
        }
      ]
    },
    {
      "cell_type": "code",
      "source": [
        "!ls\n"
      ],
      "metadata": {
        "colab": {
          "base_uri": "https://localhost:8080/"
        },
        "id": "GRn-vo2xqO-F",
        "outputId": "48d33aa6-e7d8-4342-bdca-7069c14d8b50"
      },
      "execution_count": 3,
      "outputs": [
        {
          "output_type": "stream",
          "name": "stdout",
          "text": [
            "drive  kaggle.json  sample_data\n"
          ]
        }
      ]
    },
    {
      "cell_type": "code",
      "source": [
        "!mkdir -p ~/.kaggle\n",
        "!cp kaggle.json ~/.kaggle/\n",
        "!chmod 600 ~/.kaggle/kaggle.json"
      ],
      "metadata": {
        "id": "gOA2B7EUqTIH"
      },
      "execution_count": 4,
      "outputs": []
    },
    {
      "cell_type": "code",
      "source": [
        "!ls ~/.kaggle/ -la"
      ],
      "metadata": {
        "colab": {
          "base_uri": "https://localhost:8080/"
        },
        "id": "1atwvXZiqeU2",
        "outputId": "5b5a4736-0e84-4488-c930-6b24906cf4e4"
      },
      "execution_count": 5,
      "outputs": [
        {
          "output_type": "stream",
          "name": "stdout",
          "text": [
            "total 16\n",
            "drwxr-xr-x 2 root root 4096 Sep  9 02:43 .\n",
            "drwx------ 1 root root 4096 Sep  9 02:43 ..\n",
            "-rw------- 1 root root   65 Sep  9 02:43 kaggle.json\n"
          ]
        }
      ]
    },
    {
      "cell_type": "code",
      "source": [
        "!pip install --upgrade kaggle"
      ],
      "metadata": {
        "colab": {
          "base_uri": "https://localhost:8080/"
        },
        "id": "UFai6_06qiAD",
        "outputId": "94f2e251-19ab-49d8-bc22-4493515d9f7d"
      },
      "execution_count": 6,
      "outputs": [
        {
          "output_type": "stream",
          "name": "stdout",
          "text": [
            "Requirement already satisfied: kaggle in /usr/local/lib/python3.10/dist-packages (1.6.17)\n",
            "Requirement already satisfied: six>=1.10 in /usr/local/lib/python3.10/dist-packages (from kaggle) (1.16.0)\n",
            "Requirement already satisfied: certifi>=2023.7.22 in /usr/local/lib/python3.10/dist-packages (from kaggle) (2024.8.30)\n",
            "Requirement already satisfied: python-dateutil in /usr/local/lib/python3.10/dist-packages (from kaggle) (2.8.2)\n",
            "Requirement already satisfied: requests in /usr/local/lib/python3.10/dist-packages (from kaggle) (2.32.3)\n",
            "Requirement already satisfied: tqdm in /usr/local/lib/python3.10/dist-packages (from kaggle) (4.66.5)\n",
            "Requirement already satisfied: python-slugify in /usr/local/lib/python3.10/dist-packages (from kaggle) (8.0.4)\n",
            "Requirement already satisfied: urllib3 in /usr/local/lib/python3.10/dist-packages (from kaggle) (2.0.7)\n",
            "Requirement already satisfied: bleach in /usr/local/lib/python3.10/dist-packages (from kaggle) (6.1.0)\n",
            "Requirement already satisfied: webencodings in /usr/local/lib/python3.10/dist-packages (from bleach->kaggle) (0.5.1)\n",
            "Requirement already satisfied: text-unidecode>=1.3 in /usr/local/lib/python3.10/dist-packages (from python-slugify->kaggle) (1.3)\n",
            "Requirement already satisfied: charset-normalizer<4,>=2 in /usr/local/lib/python3.10/dist-packages (from requests->kaggle) (3.3.2)\n",
            "Requirement already satisfied: idna<4,>=2.5 in /usr/local/lib/python3.10/dist-packages (from requests->kaggle) (3.8)\n"
          ]
        }
      ]
    },
    {
      "cell_type": "markdown",
      "source": [
        "권한을 세 자리로 나타내는 방식:\n",
        "- 첫 번째 숫자 (6): **파일 소유자(owner)**에 대한 권한을 나타냅니다.\n",
        "- 두 번째 숫자 (0): **그룹(group)**에 대한 권한을 나타냅니다.\n",
        "- 세 번째 숫자 (0): **기타 사용자(others)**에 대한 권한을 나타냅니다.\n",
        "\n",
        "각 숫자는 다음과 같이 구성됩니다:\n",
        "- 4: 읽기 권한 (read)\n",
        "- 2: 쓰기 권한 (write)\n",
        "- 1: 실행 권한 (execute)\n",
        "- 0: 아무 권한 없음"
      ],
      "metadata": {
        "id": "65XwdabWrmWM"
      }
    },
    {
      "cell_type": "code",
      "source": [
        "!kaggle --version"
      ],
      "metadata": {
        "colab": {
          "base_uri": "https://localhost:8080/"
        },
        "id": "lD709iFOrDDu",
        "outputId": "2010f866-99c4-4233-d502-f999f151ed25"
      },
      "execution_count": 7,
      "outputs": [
        {
          "output_type": "stream",
          "name": "stdout",
          "text": [
            "Kaggle API 1.6.17\n"
          ]
        }
      ]
    },
    {
      "cell_type": "code",
      "source": [
        "!kaggle datasets download -d biaiscience/dogs-vs-cats\n"
      ],
      "metadata": {
        "colab": {
          "base_uri": "https://localhost:8080/"
        },
        "id": "d5GdfRIgu85M",
        "outputId": "07517f21-6ef7-4254-ef39-c85b4d92a2c1"
      },
      "execution_count": 8,
      "outputs": [
        {
          "output_type": "stream",
          "name": "stdout",
          "text": [
            "Dataset URL: https://www.kaggle.com/datasets/biaiscience/dogs-vs-cats\n",
            "License(s): DbCL-1.0\n",
            "Downloading dogs-vs-cats.zip to /content\n",
            "100% 814M/817M [00:35<00:00, 27.1MB/s]\n",
            "100% 817M/817M [00:35<00:00, 23.9MB/s]\n"
          ]
        }
      ]
    },
    {
      "cell_type": "code",
      "source": [
        "!ls\n"
      ],
      "metadata": {
        "colab": {
          "base_uri": "https://localhost:8080/"
        },
        "id": "7qEu-tPyv0Ss",
        "outputId": "7e42daf9-e7bc-4519-cbda-89dcfa49f748"
      },
      "execution_count": 11,
      "outputs": [
        {
          "output_type": "stream",
          "name": "stdout",
          "text": [
            "dogs-vs-cats.zip  drive  kaggle.json  sample_data  test  train\n"
          ]
        }
      ]
    },
    {
      "cell_type": "code",
      "source": [
        "!unzip -qq dogs-vs-cats.zip"
      ],
      "metadata": {
        "id": "GRCBIa8jv_0s"
      },
      "execution_count": 10,
      "outputs": []
    },
    {
      "cell_type": "code",
      "source": [
        "# mv는 파일이나 디렉토리를 이동하거나 이름을 변경할때 사용\n",
        "!mv train train1"
      ],
      "metadata": {
        "id": "EkDWzNfVwFUH"
      },
      "execution_count": 12,
      "outputs": []
    },
    {
      "cell_type": "code",
      "source": [
        "!mv test test1"
      ],
      "metadata": {
        "id": "sPOx4fjswriJ"
      },
      "execution_count": 14,
      "outputs": []
    },
    {
      "cell_type": "code",
      "source": [
        "!ls"
      ],
      "metadata": {
        "colab": {
          "base_uri": "https://localhost:8080/"
        },
        "id": "5U-ApG1ZwbYV",
        "outputId": "523c7fc1-6e78-4989-9405-94490c1c1b70"
      },
      "execution_count": 15,
      "outputs": [
        {
          "output_type": "stream",
          "name": "stdout",
          "text": [
            "dogs-vs-cats.zip  drive  kaggle.json  sample_data  test1  train1\n"
          ]
        }
      ]
    },
    {
      "cell_type": "code",
      "source": [
        "!mv /content/train1/train /content/\n",
        "!mv /content/test1/test /content/"
      ],
      "metadata": {
        "id": "HJToji30weph"
      },
      "execution_count": 16,
      "outputs": []
    },
    {
      "cell_type": "code",
      "source": [
        "!ls"
      ],
      "metadata": {
        "colab": {
          "base_uri": "https://localhost:8080/"
        },
        "id": "jVR6WMr6w5K9",
        "outputId": "8fda5687-e9d7-470a-f768-d98bdbb1669c"
      },
      "execution_count": 17,
      "outputs": [
        {
          "output_type": "stream",
          "name": "stdout",
          "text": [
            "dogs-vs-cats.zip  drive  kaggle.json  sample_data  test  test1\ttrain  train1\n"
          ]
        }
      ]
    },
    {
      "cell_type": "code",
      "source": [
        "!rm -rf test1 train1"
      ],
      "metadata": {
        "id": "gnDZTZV_w_OS"
      },
      "execution_count": 18,
      "outputs": []
    },
    {
      "cell_type": "code",
      "source": [
        "!ls"
      ],
      "metadata": {
        "colab": {
          "base_uri": "https://localhost:8080/"
        },
        "id": "hEHcUcGlxQNE",
        "outputId": "4ede0c6b-30aa-4f02-d720-bef3b9610b6b"
      },
      "execution_count": 19,
      "outputs": [
        {
          "output_type": "stream",
          "name": "stdout",
          "text": [
            "dogs-vs-cats.zip  drive  kaggle.json  sample_data  test  train\n"
          ]
        }
      ]
    },
    {
      "cell_type": "code",
      "source": [
        "import os, shutil, pathlib\n",
        "\n",
        "original_dir = pathlib.Path('train')\n",
        "new_base_dir = pathlib.Path('cats_vs_dogs_small')\n",
        "\n",
        "def make_subset(subset_name, start_index, end_index):\n",
        "    for category in ('cat', 'dog'):\n",
        "        dir = new_base_dir / subset_name / category\n",
        "        os.makedirs(dir)\n",
        "        fnames = [f'{category}.{i}.jpg' for i in range(start_index, end_index)]\n",
        "        for fname in fnames:\n",
        "            src = original_dir / fname\n",
        "            dst = dir / fname\n",
        "            shutil.copyfile(src, dst)\n",
        "\n",
        "make_subset('train', 0, 1000)\n",
        "make_subset('validation', 1000, 1500)\n",
        "make_subset('test', 1500, 2000)"
      ],
      "metadata": {
        "id": "dboig1F0zfGE"
      },
      "execution_count": 27,
      "outputs": []
    },
    {
      "cell_type": "code",
      "source": [
        "!ls cats_vs_dogs_small/"
      ],
      "metadata": {
        "colab": {
          "base_uri": "https://localhost:8080/"
        },
        "id": "GPf4ImO0zfeT",
        "outputId": "b6300e88-7bf9-4b4f-afc4-7bb88dee6e78"
      },
      "execution_count": 28,
      "outputs": [
        {
          "output_type": "stream",
          "name": "stdout",
          "text": [
            "test  train  validation\n"
          ]
        }
      ]
    },
    {
      "cell_type": "code",
      "source": [
        "!ls cats_vs_dogs_small/train/cat"
      ],
      "metadata": {
        "colab": {
          "base_uri": "https://localhost:8080/"
        },
        "id": "xzFQVbLkziiM",
        "outputId": "c920b4e2-e2ae-4b9f-d9b2-4c6237b2be5a"
      },
      "execution_count": 29,
      "outputs": [
        {
          "output_type": "stream",
          "name": "stdout",
          "text": [
            "cat.0.jpg    cat.229.jpg  cat.358.jpg  cat.487.jpg  cat.615.jpg  cat.744.jpg  cat.873.jpg\n",
            "cat.100.jpg  cat.22.jpg   cat.359.jpg  cat.488.jpg  cat.616.jpg  cat.745.jpg  cat.874.jpg\n",
            "cat.101.jpg  cat.230.jpg  cat.35.jpg   cat.489.jpg  cat.617.jpg  cat.746.jpg  cat.875.jpg\n",
            "cat.102.jpg  cat.231.jpg  cat.360.jpg  cat.48.jpg   cat.618.jpg  cat.747.jpg  cat.876.jpg\n",
            "cat.103.jpg  cat.232.jpg  cat.361.jpg  cat.490.jpg  cat.619.jpg  cat.748.jpg  cat.877.jpg\n",
            "cat.104.jpg  cat.233.jpg  cat.362.jpg  cat.491.jpg  cat.61.jpg\t cat.749.jpg  cat.878.jpg\n",
            "cat.105.jpg  cat.234.jpg  cat.363.jpg  cat.492.jpg  cat.620.jpg  cat.74.jpg   cat.879.jpg\n",
            "cat.106.jpg  cat.235.jpg  cat.364.jpg  cat.493.jpg  cat.621.jpg  cat.750.jpg  cat.87.jpg\n",
            "cat.107.jpg  cat.236.jpg  cat.365.jpg  cat.494.jpg  cat.622.jpg  cat.751.jpg  cat.880.jpg\n",
            "cat.108.jpg  cat.237.jpg  cat.366.jpg  cat.495.jpg  cat.623.jpg  cat.752.jpg  cat.881.jpg\n",
            "cat.109.jpg  cat.238.jpg  cat.367.jpg  cat.496.jpg  cat.624.jpg  cat.753.jpg  cat.882.jpg\n",
            "cat.10.jpg   cat.239.jpg  cat.368.jpg  cat.497.jpg  cat.625.jpg  cat.754.jpg  cat.883.jpg\n",
            "cat.110.jpg  cat.23.jpg   cat.369.jpg  cat.498.jpg  cat.626.jpg  cat.755.jpg  cat.884.jpg\n",
            "cat.111.jpg  cat.240.jpg  cat.36.jpg   cat.499.jpg  cat.627.jpg  cat.756.jpg  cat.885.jpg\n",
            "cat.112.jpg  cat.241.jpg  cat.370.jpg  cat.49.jpg   cat.628.jpg  cat.757.jpg  cat.886.jpg\n",
            "cat.113.jpg  cat.242.jpg  cat.371.jpg  cat.4.jpg    cat.629.jpg  cat.758.jpg  cat.887.jpg\n",
            "cat.114.jpg  cat.243.jpg  cat.372.jpg  cat.500.jpg  cat.62.jpg\t cat.759.jpg  cat.888.jpg\n",
            "cat.115.jpg  cat.244.jpg  cat.373.jpg  cat.501.jpg  cat.630.jpg  cat.75.jpg   cat.889.jpg\n",
            "cat.116.jpg  cat.245.jpg  cat.374.jpg  cat.502.jpg  cat.631.jpg  cat.760.jpg  cat.88.jpg\n",
            "cat.117.jpg  cat.246.jpg  cat.375.jpg  cat.503.jpg  cat.632.jpg  cat.761.jpg  cat.890.jpg\n",
            "cat.118.jpg  cat.247.jpg  cat.376.jpg  cat.504.jpg  cat.633.jpg  cat.762.jpg  cat.891.jpg\n",
            "cat.119.jpg  cat.248.jpg  cat.377.jpg  cat.505.jpg  cat.634.jpg  cat.763.jpg  cat.892.jpg\n",
            "cat.11.jpg   cat.249.jpg  cat.378.jpg  cat.506.jpg  cat.635.jpg  cat.764.jpg  cat.893.jpg\n",
            "cat.120.jpg  cat.24.jpg   cat.379.jpg  cat.507.jpg  cat.636.jpg  cat.765.jpg  cat.894.jpg\n",
            "cat.121.jpg  cat.250.jpg  cat.37.jpg   cat.508.jpg  cat.637.jpg  cat.766.jpg  cat.895.jpg\n",
            "cat.122.jpg  cat.251.jpg  cat.380.jpg  cat.509.jpg  cat.638.jpg  cat.767.jpg  cat.896.jpg\n",
            "cat.123.jpg  cat.252.jpg  cat.381.jpg  cat.50.jpg   cat.639.jpg  cat.768.jpg  cat.897.jpg\n",
            "cat.124.jpg  cat.253.jpg  cat.382.jpg  cat.510.jpg  cat.63.jpg\t cat.769.jpg  cat.898.jpg\n",
            "cat.125.jpg  cat.254.jpg  cat.383.jpg  cat.511.jpg  cat.640.jpg  cat.76.jpg   cat.899.jpg\n",
            "cat.126.jpg  cat.255.jpg  cat.384.jpg  cat.512.jpg  cat.641.jpg  cat.770.jpg  cat.89.jpg\n",
            "cat.127.jpg  cat.256.jpg  cat.385.jpg  cat.513.jpg  cat.642.jpg  cat.771.jpg  cat.8.jpg\n",
            "cat.128.jpg  cat.257.jpg  cat.386.jpg  cat.514.jpg  cat.643.jpg  cat.772.jpg  cat.900.jpg\n",
            "cat.129.jpg  cat.258.jpg  cat.387.jpg  cat.515.jpg  cat.644.jpg  cat.773.jpg  cat.901.jpg\n",
            "cat.12.jpg   cat.259.jpg  cat.388.jpg  cat.516.jpg  cat.645.jpg  cat.774.jpg  cat.902.jpg\n",
            "cat.130.jpg  cat.25.jpg   cat.389.jpg  cat.517.jpg  cat.646.jpg  cat.775.jpg  cat.903.jpg\n",
            "cat.131.jpg  cat.260.jpg  cat.38.jpg   cat.518.jpg  cat.647.jpg  cat.776.jpg  cat.904.jpg\n",
            "cat.132.jpg  cat.261.jpg  cat.390.jpg  cat.519.jpg  cat.648.jpg  cat.777.jpg  cat.905.jpg\n",
            "cat.133.jpg  cat.262.jpg  cat.391.jpg  cat.51.jpg   cat.649.jpg  cat.778.jpg  cat.906.jpg\n",
            "cat.134.jpg  cat.263.jpg  cat.392.jpg  cat.520.jpg  cat.64.jpg\t cat.779.jpg  cat.907.jpg\n",
            "cat.135.jpg  cat.264.jpg  cat.393.jpg  cat.521.jpg  cat.650.jpg  cat.77.jpg   cat.908.jpg\n",
            "cat.136.jpg  cat.265.jpg  cat.394.jpg  cat.522.jpg  cat.651.jpg  cat.780.jpg  cat.909.jpg\n",
            "cat.137.jpg  cat.266.jpg  cat.395.jpg  cat.523.jpg  cat.652.jpg  cat.781.jpg  cat.90.jpg\n",
            "cat.138.jpg  cat.267.jpg  cat.396.jpg  cat.524.jpg  cat.653.jpg  cat.782.jpg  cat.910.jpg\n",
            "cat.139.jpg  cat.268.jpg  cat.397.jpg  cat.525.jpg  cat.654.jpg  cat.783.jpg  cat.911.jpg\n",
            "cat.13.jpg   cat.269.jpg  cat.398.jpg  cat.526.jpg  cat.655.jpg  cat.784.jpg  cat.912.jpg\n",
            "cat.140.jpg  cat.26.jpg   cat.399.jpg  cat.527.jpg  cat.656.jpg  cat.785.jpg  cat.913.jpg\n",
            "cat.141.jpg  cat.270.jpg  cat.39.jpg   cat.528.jpg  cat.657.jpg  cat.786.jpg  cat.914.jpg\n",
            "cat.142.jpg  cat.271.jpg  cat.3.jpg    cat.529.jpg  cat.658.jpg  cat.787.jpg  cat.915.jpg\n",
            "cat.143.jpg  cat.272.jpg  cat.400.jpg  cat.52.jpg   cat.659.jpg  cat.788.jpg  cat.916.jpg\n",
            "cat.144.jpg  cat.273.jpg  cat.401.jpg  cat.530.jpg  cat.65.jpg\t cat.789.jpg  cat.917.jpg\n",
            "cat.145.jpg  cat.274.jpg  cat.402.jpg  cat.531.jpg  cat.660.jpg  cat.78.jpg   cat.918.jpg\n",
            "cat.146.jpg  cat.275.jpg  cat.403.jpg  cat.532.jpg  cat.661.jpg  cat.790.jpg  cat.919.jpg\n",
            "cat.147.jpg  cat.276.jpg  cat.404.jpg  cat.533.jpg  cat.662.jpg  cat.791.jpg  cat.91.jpg\n",
            "cat.148.jpg  cat.277.jpg  cat.405.jpg  cat.534.jpg  cat.663.jpg  cat.792.jpg  cat.920.jpg\n",
            "cat.149.jpg  cat.278.jpg  cat.406.jpg  cat.535.jpg  cat.664.jpg  cat.793.jpg  cat.921.jpg\n",
            "cat.14.jpg   cat.279.jpg  cat.407.jpg  cat.536.jpg  cat.665.jpg  cat.794.jpg  cat.922.jpg\n",
            "cat.150.jpg  cat.27.jpg   cat.408.jpg  cat.537.jpg  cat.666.jpg  cat.795.jpg  cat.923.jpg\n",
            "cat.151.jpg  cat.280.jpg  cat.409.jpg  cat.538.jpg  cat.667.jpg  cat.796.jpg  cat.924.jpg\n",
            "cat.152.jpg  cat.281.jpg  cat.40.jpg   cat.539.jpg  cat.668.jpg  cat.797.jpg  cat.925.jpg\n",
            "cat.153.jpg  cat.282.jpg  cat.410.jpg  cat.53.jpg   cat.669.jpg  cat.798.jpg  cat.926.jpg\n",
            "cat.154.jpg  cat.283.jpg  cat.411.jpg  cat.540.jpg  cat.66.jpg\t cat.799.jpg  cat.927.jpg\n",
            "cat.155.jpg  cat.284.jpg  cat.412.jpg  cat.541.jpg  cat.670.jpg  cat.79.jpg   cat.928.jpg\n",
            "cat.156.jpg  cat.285.jpg  cat.413.jpg  cat.542.jpg  cat.671.jpg  cat.7.jpg    cat.929.jpg\n",
            "cat.157.jpg  cat.286.jpg  cat.414.jpg  cat.543.jpg  cat.672.jpg  cat.800.jpg  cat.92.jpg\n",
            "cat.158.jpg  cat.287.jpg  cat.415.jpg  cat.544.jpg  cat.673.jpg  cat.801.jpg  cat.930.jpg\n",
            "cat.159.jpg  cat.288.jpg  cat.416.jpg  cat.545.jpg  cat.674.jpg  cat.802.jpg  cat.931.jpg\n",
            "cat.15.jpg   cat.289.jpg  cat.417.jpg  cat.546.jpg  cat.675.jpg  cat.803.jpg  cat.932.jpg\n",
            "cat.160.jpg  cat.28.jpg   cat.418.jpg  cat.547.jpg  cat.676.jpg  cat.804.jpg  cat.933.jpg\n",
            "cat.161.jpg  cat.290.jpg  cat.419.jpg  cat.548.jpg  cat.677.jpg  cat.805.jpg  cat.934.jpg\n",
            "cat.162.jpg  cat.291.jpg  cat.41.jpg   cat.549.jpg  cat.678.jpg  cat.806.jpg  cat.935.jpg\n",
            "cat.163.jpg  cat.292.jpg  cat.420.jpg  cat.54.jpg   cat.679.jpg  cat.807.jpg  cat.936.jpg\n",
            "cat.164.jpg  cat.293.jpg  cat.421.jpg  cat.550.jpg  cat.67.jpg\t cat.808.jpg  cat.937.jpg\n",
            "cat.165.jpg  cat.294.jpg  cat.422.jpg  cat.551.jpg  cat.680.jpg  cat.809.jpg  cat.938.jpg\n",
            "cat.166.jpg  cat.295.jpg  cat.423.jpg  cat.552.jpg  cat.681.jpg  cat.80.jpg   cat.939.jpg\n",
            "cat.167.jpg  cat.296.jpg  cat.424.jpg  cat.553.jpg  cat.682.jpg  cat.810.jpg  cat.93.jpg\n",
            "cat.168.jpg  cat.297.jpg  cat.425.jpg  cat.554.jpg  cat.683.jpg  cat.811.jpg  cat.940.jpg\n",
            "cat.169.jpg  cat.298.jpg  cat.426.jpg  cat.555.jpg  cat.684.jpg  cat.812.jpg  cat.941.jpg\n",
            "cat.16.jpg   cat.299.jpg  cat.427.jpg  cat.556.jpg  cat.685.jpg  cat.813.jpg  cat.942.jpg\n",
            "cat.170.jpg  cat.29.jpg   cat.428.jpg  cat.557.jpg  cat.686.jpg  cat.814.jpg  cat.943.jpg\n",
            "cat.171.jpg  cat.2.jpg\t  cat.429.jpg  cat.558.jpg  cat.687.jpg  cat.815.jpg  cat.944.jpg\n",
            "cat.172.jpg  cat.300.jpg  cat.42.jpg   cat.559.jpg  cat.688.jpg  cat.816.jpg  cat.945.jpg\n",
            "cat.173.jpg  cat.301.jpg  cat.430.jpg  cat.55.jpg   cat.689.jpg  cat.817.jpg  cat.946.jpg\n",
            "cat.174.jpg  cat.302.jpg  cat.431.jpg  cat.560.jpg  cat.68.jpg\t cat.818.jpg  cat.947.jpg\n",
            "cat.175.jpg  cat.303.jpg  cat.432.jpg  cat.561.jpg  cat.690.jpg  cat.819.jpg  cat.948.jpg\n",
            "cat.176.jpg  cat.304.jpg  cat.433.jpg  cat.562.jpg  cat.691.jpg  cat.81.jpg   cat.949.jpg\n",
            "cat.177.jpg  cat.305.jpg  cat.434.jpg  cat.563.jpg  cat.692.jpg  cat.820.jpg  cat.94.jpg\n",
            "cat.178.jpg  cat.306.jpg  cat.435.jpg  cat.564.jpg  cat.693.jpg  cat.821.jpg  cat.950.jpg\n",
            "cat.179.jpg  cat.307.jpg  cat.436.jpg  cat.565.jpg  cat.694.jpg  cat.822.jpg  cat.951.jpg\n",
            "cat.17.jpg   cat.308.jpg  cat.437.jpg  cat.566.jpg  cat.695.jpg  cat.823.jpg  cat.952.jpg\n",
            "cat.180.jpg  cat.309.jpg  cat.438.jpg  cat.567.jpg  cat.696.jpg  cat.824.jpg  cat.953.jpg\n",
            "cat.181.jpg  cat.30.jpg   cat.439.jpg  cat.568.jpg  cat.697.jpg  cat.825.jpg  cat.954.jpg\n",
            "cat.182.jpg  cat.310.jpg  cat.43.jpg   cat.569.jpg  cat.698.jpg  cat.826.jpg  cat.955.jpg\n",
            "cat.183.jpg  cat.311.jpg  cat.440.jpg  cat.56.jpg   cat.699.jpg  cat.827.jpg  cat.956.jpg\n",
            "cat.184.jpg  cat.312.jpg  cat.441.jpg  cat.570.jpg  cat.69.jpg\t cat.828.jpg  cat.957.jpg\n",
            "cat.185.jpg  cat.313.jpg  cat.442.jpg  cat.571.jpg  cat.6.jpg\t cat.829.jpg  cat.958.jpg\n",
            "cat.186.jpg  cat.314.jpg  cat.443.jpg  cat.572.jpg  cat.700.jpg  cat.82.jpg   cat.959.jpg\n",
            "cat.187.jpg  cat.315.jpg  cat.444.jpg  cat.573.jpg  cat.701.jpg  cat.830.jpg  cat.95.jpg\n",
            "cat.188.jpg  cat.316.jpg  cat.445.jpg  cat.574.jpg  cat.702.jpg  cat.831.jpg  cat.960.jpg\n",
            "cat.189.jpg  cat.317.jpg  cat.446.jpg  cat.575.jpg  cat.703.jpg  cat.832.jpg  cat.961.jpg\n",
            "cat.18.jpg   cat.318.jpg  cat.447.jpg  cat.576.jpg  cat.704.jpg  cat.833.jpg  cat.962.jpg\n",
            "cat.190.jpg  cat.319.jpg  cat.448.jpg  cat.577.jpg  cat.705.jpg  cat.834.jpg  cat.963.jpg\n",
            "cat.191.jpg  cat.31.jpg   cat.449.jpg  cat.578.jpg  cat.706.jpg  cat.835.jpg  cat.964.jpg\n",
            "cat.192.jpg  cat.320.jpg  cat.44.jpg   cat.579.jpg  cat.707.jpg  cat.836.jpg  cat.965.jpg\n",
            "cat.193.jpg  cat.321.jpg  cat.450.jpg  cat.57.jpg   cat.708.jpg  cat.837.jpg  cat.966.jpg\n",
            "cat.194.jpg  cat.322.jpg  cat.451.jpg  cat.580.jpg  cat.709.jpg  cat.838.jpg  cat.967.jpg\n",
            "cat.195.jpg  cat.323.jpg  cat.452.jpg  cat.581.jpg  cat.70.jpg\t cat.839.jpg  cat.968.jpg\n",
            "cat.196.jpg  cat.324.jpg  cat.453.jpg  cat.582.jpg  cat.710.jpg  cat.83.jpg   cat.969.jpg\n",
            "cat.197.jpg  cat.325.jpg  cat.454.jpg  cat.583.jpg  cat.711.jpg  cat.840.jpg  cat.96.jpg\n",
            "cat.198.jpg  cat.326.jpg  cat.455.jpg  cat.584.jpg  cat.712.jpg  cat.841.jpg  cat.970.jpg\n",
            "cat.199.jpg  cat.327.jpg  cat.456.jpg  cat.585.jpg  cat.713.jpg  cat.842.jpg  cat.971.jpg\n",
            "cat.19.jpg   cat.328.jpg  cat.457.jpg  cat.586.jpg  cat.714.jpg  cat.843.jpg  cat.972.jpg\n",
            "cat.1.jpg    cat.329.jpg  cat.458.jpg  cat.587.jpg  cat.715.jpg  cat.844.jpg  cat.973.jpg\n",
            "cat.200.jpg  cat.32.jpg   cat.459.jpg  cat.588.jpg  cat.716.jpg  cat.845.jpg  cat.974.jpg\n",
            "cat.201.jpg  cat.330.jpg  cat.45.jpg   cat.589.jpg  cat.717.jpg  cat.846.jpg  cat.975.jpg\n",
            "cat.202.jpg  cat.331.jpg  cat.460.jpg  cat.58.jpg   cat.718.jpg  cat.847.jpg  cat.976.jpg\n",
            "cat.203.jpg  cat.332.jpg  cat.461.jpg  cat.590.jpg  cat.719.jpg  cat.848.jpg  cat.977.jpg\n",
            "cat.204.jpg  cat.333.jpg  cat.462.jpg  cat.591.jpg  cat.71.jpg\t cat.849.jpg  cat.978.jpg\n",
            "cat.205.jpg  cat.334.jpg  cat.463.jpg  cat.592.jpg  cat.720.jpg  cat.84.jpg   cat.979.jpg\n",
            "cat.206.jpg  cat.335.jpg  cat.464.jpg  cat.593.jpg  cat.721.jpg  cat.850.jpg  cat.97.jpg\n",
            "cat.207.jpg  cat.336.jpg  cat.465.jpg  cat.594.jpg  cat.722.jpg  cat.851.jpg  cat.980.jpg\n",
            "cat.208.jpg  cat.337.jpg  cat.466.jpg  cat.595.jpg  cat.723.jpg  cat.852.jpg  cat.981.jpg\n",
            "cat.209.jpg  cat.338.jpg  cat.467.jpg  cat.596.jpg  cat.724.jpg  cat.853.jpg  cat.982.jpg\n",
            "cat.20.jpg   cat.339.jpg  cat.468.jpg  cat.597.jpg  cat.725.jpg  cat.854.jpg  cat.983.jpg\n",
            "cat.210.jpg  cat.33.jpg   cat.469.jpg  cat.598.jpg  cat.726.jpg  cat.855.jpg  cat.984.jpg\n",
            "cat.211.jpg  cat.340.jpg  cat.46.jpg   cat.599.jpg  cat.727.jpg  cat.856.jpg  cat.985.jpg\n",
            "cat.212.jpg  cat.341.jpg  cat.470.jpg  cat.59.jpg   cat.728.jpg  cat.857.jpg  cat.986.jpg\n",
            "cat.213.jpg  cat.342.jpg  cat.471.jpg  cat.5.jpg    cat.729.jpg  cat.858.jpg  cat.987.jpg\n",
            "cat.214.jpg  cat.343.jpg  cat.472.jpg  cat.600.jpg  cat.72.jpg\t cat.859.jpg  cat.988.jpg\n",
            "cat.215.jpg  cat.344.jpg  cat.473.jpg  cat.601.jpg  cat.730.jpg  cat.85.jpg   cat.989.jpg\n",
            "cat.216.jpg  cat.345.jpg  cat.474.jpg  cat.602.jpg  cat.731.jpg  cat.860.jpg  cat.98.jpg\n",
            "cat.217.jpg  cat.346.jpg  cat.475.jpg  cat.603.jpg  cat.732.jpg  cat.861.jpg  cat.990.jpg\n",
            "cat.218.jpg  cat.347.jpg  cat.476.jpg  cat.604.jpg  cat.733.jpg  cat.862.jpg  cat.991.jpg\n",
            "cat.219.jpg  cat.348.jpg  cat.477.jpg  cat.605.jpg  cat.734.jpg  cat.863.jpg  cat.992.jpg\n",
            "cat.21.jpg   cat.349.jpg  cat.478.jpg  cat.606.jpg  cat.735.jpg  cat.864.jpg  cat.993.jpg\n",
            "cat.220.jpg  cat.34.jpg   cat.479.jpg  cat.607.jpg  cat.736.jpg  cat.865.jpg  cat.994.jpg\n",
            "cat.221.jpg  cat.350.jpg  cat.47.jpg   cat.608.jpg  cat.737.jpg  cat.866.jpg  cat.995.jpg\n",
            "cat.222.jpg  cat.351.jpg  cat.480.jpg  cat.609.jpg  cat.738.jpg  cat.867.jpg  cat.996.jpg\n",
            "cat.223.jpg  cat.352.jpg  cat.481.jpg  cat.60.jpg   cat.739.jpg  cat.868.jpg  cat.997.jpg\n",
            "cat.224.jpg  cat.353.jpg  cat.482.jpg  cat.610.jpg  cat.73.jpg\t cat.869.jpg  cat.998.jpg\n",
            "cat.225.jpg  cat.354.jpg  cat.483.jpg  cat.611.jpg  cat.740.jpg  cat.86.jpg   cat.999.jpg\n",
            "cat.226.jpg  cat.355.jpg  cat.484.jpg  cat.612.jpg  cat.741.jpg  cat.870.jpg  cat.99.jpg\n",
            "cat.227.jpg  cat.356.jpg  cat.485.jpg  cat.613.jpg  cat.742.jpg  cat.871.jpg  cat.9.jpg\n",
            "cat.228.jpg  cat.357.jpg  cat.486.jpg  cat.614.jpg  cat.743.jpg  cat.872.jpg\n"
          ]
        }
      ]
    },
    {
      "cell_type": "code",
      "source": [
        "!ls"
      ],
      "metadata": {
        "colab": {
          "base_uri": "https://localhost:8080/"
        },
        "id": "bN6X6xMNzk16",
        "outputId": "a018a157-9eeb-4de6-f5aa-092c7fb02384"
      },
      "execution_count": 30,
      "outputs": [
        {
          "output_type": "stream",
          "name": "stdout",
          "text": [
            "cats_vs_dogs_small  dogs-vs-cats.zip  drive  kaggle.json  sample_data  test  train\n"
          ]
        }
      ]
    },
    {
      "cell_type": "code",
      "source": [
        "from tensorflow.keras.utils import image_dataset_from_directory\n",
        "\n",
        "train_dataset = image_dataset_from_directory(\n",
        "    new_base_dir / 'train',\n",
        "    image_size=(180, 180),\n",
        "    batch_size=32\n",
        ")\n",
        "\n",
        "validation_dataset = image_dataset_from_directory(\n",
        "    new_base_dir / 'validation',\n",
        "    image_size=(180, 180),\n",
        "    batch_size=32\n",
        ")\n",
        "test_dataset = image_dataset_from_directory(\n",
        "    new_base_dir / 'test',\n",
        "    image_size=(180, 180),\n",
        "    batch_size=32\n",
        ")"
      ],
      "metadata": {
        "colab": {
          "base_uri": "https://localhost:8080/"
        },
        "id": "Jle_47X4z2va",
        "outputId": "52cf7a66-cf6d-4f51-fceb-d11e98f2738d"
      },
      "execution_count": 31,
      "outputs": [
        {
          "output_type": "stream",
          "name": "stdout",
          "text": [
            "Found 2000 files belonging to 2 classes.\n",
            "Found 1000 files belonging to 2 classes.\n",
            "Found 1000 files belonging to 2 classes.\n"
          ]
        }
      ]
    },
    {
      "cell_type": "code",
      "source": [
        "for data_batch, labels_batch in train_dataset:\n",
        "    print(\"데이터 배치 크기: \",data_batch.shape)\n",
        "    print(\"레이블 배치 크기: \",labels_batch.shape)\n",
        "    break"
      ],
      "metadata": {
        "colab": {
          "base_uri": "https://localhost:8080/"
        },
        "id": "NroQbfmJ3dNZ",
        "outputId": "fb10161b-9468-4628-91ce-94b7c7862f57"
      },
      "execution_count": 32,
      "outputs": [
        {
          "output_type": "stream",
          "name": "stdout",
          "text": [
            "데이터 배치 크기:  (32, 180, 180, 3)\n",
            "레이블 배치 크기:  (32,)\n"
          ]
        }
      ]
    },
    {
      "cell_type": "code",
      "source": [
        "import tensorflow as tf\n",
        "from tensorflow.keras import layers\n",
        "\n",
        "inputs = tf.keras.Input(shape=(180, 180, 3))\n",
        "x = layers.Rescaling(1./255)(inputs)\n",
        "x = layers.Conv2D(32, 3, activation='relu')(x)\n",
        "x = layers.MaxPooling2D(2)(x)\n",
        "x = layers.Conv2D(64, 3, activation='relu')(x)\n",
        "x = layers.MaxPooling2D(2)(x)\n",
        "x = layers.Conv2D(128, 3, activation='relu')(x)\n",
        "x = layers.MaxPooling2D(2)(x)\n",
        "x = layers.Conv2D(256, 3, activation='relu')(x)\n",
        "x = layers.MaxPooling2D(2)(x)\n",
        "x = layers.Conv2D(256, 3, activation='relu')(x)\n",
        "x = layers.Flatten()(x)\n",
        "outputs = layers.Dense(1, activation='sigmoid')(x)\n",
        "model = tf.keras.Model(inputs, outputs)"
      ],
      "metadata": {
        "id": "qL5jM4715Tec"
      },
      "execution_count": 35,
      "outputs": []
    },
    {
      "cell_type": "code",
      "source": [
        "model.compile(\n",
        "    optimizer='adam',\n",
        "    loss='binary_crossentropy',\n",
        "    metrics=['accuracy']\n",
        ")"
      ],
      "metadata": {
        "id": "y2MMjowG6N0R"
      },
      "execution_count": 37,
      "outputs": []
    },
    {
      "cell_type": "code",
      "source": [
        "import tensorflow as tf\n",
        "callbacks = [\n",
        "    tf.keras.callbacks.ModelCheckpoint(\n",
        "        filepath='convnet_from_scratch.keras',\n",
        "        save_best_only=True,\n",
        "        monitor='val_loss')\n",
        "]\n",
        "\n",
        "history = model.fit(\n",
        "    train_dataset,\n",
        "    validation_data=validation_dataset,\n",
        "    epochs=30,\n",
        "    callbacks=callbacks\n",
        ")\n",
        ""
      ],
      "metadata": {
        "colab": {
          "base_uri": "https://localhost:8080/",
          "height": 428
        },
        "id": "l9leyv0y4qMS",
        "outputId": "e06003bd-0fa5-42fe-ab39-555e4acde225"
      },
      "execution_count": 38,
      "outputs": [
        {
          "output_type": "stream",
          "name": "stdout",
          "text": [
            "Epoch 1/30\n",
            "\u001b[1m15/63\u001b[0m \u001b[32m━━━━\u001b[0m\u001b[37m━━━━━━━━━━━━━━━━\u001b[0m \u001b[1m2:56\u001b[0m 4s/step - accuracy: 0.4231 - loss: 0.7268"
          ]
        },
        {
          "output_type": "error",
          "ename": "KeyboardInterrupt",
          "evalue": "",
          "traceback": [
            "\u001b[0;31m---------------------------------------------------------------------------\u001b[0m",
            "\u001b[0;31mKeyboardInterrupt\u001b[0m                         Traceback (most recent call last)",
            "\u001b[0;32m<ipython-input-38-16c397f5b556>\u001b[0m in \u001b[0;36m<cell line: 9>\u001b[0;34m()\u001b[0m\n\u001b[1;32m      7\u001b[0m ]\n\u001b[1;32m      8\u001b[0m \u001b[0;34m\u001b[0m\u001b[0m\n\u001b[0;32m----> 9\u001b[0;31m history = model.fit(\n\u001b[0m\u001b[1;32m     10\u001b[0m     \u001b[0mtrain_dataset\u001b[0m\u001b[0;34m,\u001b[0m\u001b[0;34m\u001b[0m\u001b[0;34m\u001b[0m\u001b[0m\n\u001b[1;32m     11\u001b[0m     \u001b[0mvalidation_data\u001b[0m\u001b[0;34m=\u001b[0m\u001b[0mvalidation_dataset\u001b[0m\u001b[0;34m,\u001b[0m\u001b[0;34m\u001b[0m\u001b[0;34m\u001b[0m\u001b[0m\n",
            "\u001b[0;32m/usr/local/lib/python3.10/dist-packages/keras/src/utils/traceback_utils.py\u001b[0m in \u001b[0;36merror_handler\u001b[0;34m(*args, **kwargs)\u001b[0m\n\u001b[1;32m    115\u001b[0m         \u001b[0mfiltered_tb\u001b[0m \u001b[0;34m=\u001b[0m \u001b[0;32mNone\u001b[0m\u001b[0;34m\u001b[0m\u001b[0;34m\u001b[0m\u001b[0m\n\u001b[1;32m    116\u001b[0m         \u001b[0;32mtry\u001b[0m\u001b[0;34m:\u001b[0m\u001b[0;34m\u001b[0m\u001b[0;34m\u001b[0m\u001b[0m\n\u001b[0;32m--> 117\u001b[0;31m             \u001b[0;32mreturn\u001b[0m \u001b[0mfn\u001b[0m\u001b[0;34m(\u001b[0m\u001b[0;34m*\u001b[0m\u001b[0margs\u001b[0m\u001b[0;34m,\u001b[0m \u001b[0;34m**\u001b[0m\u001b[0mkwargs\u001b[0m\u001b[0;34m)\u001b[0m\u001b[0;34m\u001b[0m\u001b[0;34m\u001b[0m\u001b[0m\n\u001b[0m\u001b[1;32m    118\u001b[0m         \u001b[0;32mexcept\u001b[0m \u001b[0mException\u001b[0m \u001b[0;32mas\u001b[0m \u001b[0me\u001b[0m\u001b[0;34m:\u001b[0m\u001b[0;34m\u001b[0m\u001b[0;34m\u001b[0m\u001b[0m\n\u001b[1;32m    119\u001b[0m             \u001b[0mfiltered_tb\u001b[0m \u001b[0;34m=\u001b[0m \u001b[0m_process_traceback_frames\u001b[0m\u001b[0;34m(\u001b[0m\u001b[0me\u001b[0m\u001b[0;34m.\u001b[0m\u001b[0m__traceback__\u001b[0m\u001b[0;34m)\u001b[0m\u001b[0;34m\u001b[0m\u001b[0;34m\u001b[0m\u001b[0m\n",
            "\u001b[0;32m/usr/local/lib/python3.10/dist-packages/keras/src/backend/tensorflow/trainer.py\u001b[0m in \u001b[0;36mfit\u001b[0;34m(self, x, y, batch_size, epochs, verbose, callbacks, validation_split, validation_data, shuffle, class_weight, sample_weight, initial_epoch, steps_per_epoch, validation_steps, validation_batch_size, validation_freq)\u001b[0m\n\u001b[1;32m    316\u001b[0m                 \u001b[0;32mfor\u001b[0m \u001b[0mstep\u001b[0m\u001b[0;34m,\u001b[0m \u001b[0miterator\u001b[0m \u001b[0;32min\u001b[0m \u001b[0mepoch_iterator\u001b[0m\u001b[0;34m.\u001b[0m\u001b[0menumerate_epoch\u001b[0m\u001b[0;34m(\u001b[0m\u001b[0;34m)\u001b[0m\u001b[0;34m:\u001b[0m\u001b[0;34m\u001b[0m\u001b[0;34m\u001b[0m\u001b[0m\n\u001b[1;32m    317\u001b[0m                     \u001b[0mcallbacks\u001b[0m\u001b[0;34m.\u001b[0m\u001b[0mon_train_batch_begin\u001b[0m\u001b[0;34m(\u001b[0m\u001b[0mstep\u001b[0m\u001b[0;34m)\u001b[0m\u001b[0;34m\u001b[0m\u001b[0;34m\u001b[0m\u001b[0m\n\u001b[0;32m--> 318\u001b[0;31m                     \u001b[0mlogs\u001b[0m \u001b[0;34m=\u001b[0m \u001b[0mself\u001b[0m\u001b[0;34m.\u001b[0m\u001b[0mtrain_function\u001b[0m\u001b[0;34m(\u001b[0m\u001b[0miterator\u001b[0m\u001b[0;34m)\u001b[0m\u001b[0;34m\u001b[0m\u001b[0;34m\u001b[0m\u001b[0m\n\u001b[0m\u001b[1;32m    319\u001b[0m                     \u001b[0mlogs\u001b[0m \u001b[0;34m=\u001b[0m \u001b[0mself\u001b[0m\u001b[0;34m.\u001b[0m\u001b[0m_pythonify_logs\u001b[0m\u001b[0;34m(\u001b[0m\u001b[0mlogs\u001b[0m\u001b[0;34m)\u001b[0m\u001b[0;34m\u001b[0m\u001b[0;34m\u001b[0m\u001b[0m\n\u001b[1;32m    320\u001b[0m                     \u001b[0mcallbacks\u001b[0m\u001b[0;34m.\u001b[0m\u001b[0mon_train_batch_end\u001b[0m\u001b[0;34m(\u001b[0m\u001b[0mstep\u001b[0m\u001b[0;34m,\u001b[0m \u001b[0mlogs\u001b[0m\u001b[0;34m)\u001b[0m\u001b[0;34m\u001b[0m\u001b[0;34m\u001b[0m\u001b[0m\n",
            "\u001b[0;32m/usr/local/lib/python3.10/dist-packages/tensorflow/python/util/traceback_utils.py\u001b[0m in \u001b[0;36merror_handler\u001b[0;34m(*args, **kwargs)\u001b[0m\n\u001b[1;32m    148\u001b[0m     \u001b[0mfiltered_tb\u001b[0m \u001b[0;34m=\u001b[0m \u001b[0;32mNone\u001b[0m\u001b[0;34m\u001b[0m\u001b[0;34m\u001b[0m\u001b[0m\n\u001b[1;32m    149\u001b[0m     \u001b[0;32mtry\u001b[0m\u001b[0;34m:\u001b[0m\u001b[0;34m\u001b[0m\u001b[0;34m\u001b[0m\u001b[0m\n\u001b[0;32m--> 150\u001b[0;31m       \u001b[0;32mreturn\u001b[0m \u001b[0mfn\u001b[0m\u001b[0;34m(\u001b[0m\u001b[0;34m*\u001b[0m\u001b[0margs\u001b[0m\u001b[0;34m,\u001b[0m \u001b[0;34m**\u001b[0m\u001b[0mkwargs\u001b[0m\u001b[0;34m)\u001b[0m\u001b[0;34m\u001b[0m\u001b[0;34m\u001b[0m\u001b[0m\n\u001b[0m\u001b[1;32m    151\u001b[0m     \u001b[0;32mexcept\u001b[0m \u001b[0mException\u001b[0m \u001b[0;32mas\u001b[0m \u001b[0me\u001b[0m\u001b[0;34m:\u001b[0m\u001b[0;34m\u001b[0m\u001b[0;34m\u001b[0m\u001b[0m\n\u001b[1;32m    152\u001b[0m       \u001b[0mfiltered_tb\u001b[0m \u001b[0;34m=\u001b[0m \u001b[0m_process_traceback_frames\u001b[0m\u001b[0;34m(\u001b[0m\u001b[0me\u001b[0m\u001b[0;34m.\u001b[0m\u001b[0m__traceback__\u001b[0m\u001b[0;34m)\u001b[0m\u001b[0;34m\u001b[0m\u001b[0;34m\u001b[0m\u001b[0m\n",
            "\u001b[0;32m/usr/local/lib/python3.10/dist-packages/tensorflow/python/eager/polymorphic_function/polymorphic_function.py\u001b[0m in \u001b[0;36m__call__\u001b[0;34m(self, *args, **kwds)\u001b[0m\n\u001b[1;32m    831\u001b[0m \u001b[0;34m\u001b[0m\u001b[0m\n\u001b[1;32m    832\u001b[0m       \u001b[0;32mwith\u001b[0m \u001b[0mOptionalXlaContext\u001b[0m\u001b[0;34m(\u001b[0m\u001b[0mself\u001b[0m\u001b[0;34m.\u001b[0m\u001b[0m_jit_compile\u001b[0m\u001b[0;34m)\u001b[0m\u001b[0;34m:\u001b[0m\u001b[0;34m\u001b[0m\u001b[0;34m\u001b[0m\u001b[0m\n\u001b[0;32m--> 833\u001b[0;31m         \u001b[0mresult\u001b[0m \u001b[0;34m=\u001b[0m \u001b[0mself\u001b[0m\u001b[0;34m.\u001b[0m\u001b[0m_call\u001b[0m\u001b[0;34m(\u001b[0m\u001b[0;34m*\u001b[0m\u001b[0margs\u001b[0m\u001b[0;34m,\u001b[0m \u001b[0;34m**\u001b[0m\u001b[0mkwds\u001b[0m\u001b[0;34m)\u001b[0m\u001b[0;34m\u001b[0m\u001b[0;34m\u001b[0m\u001b[0m\n\u001b[0m\u001b[1;32m    834\u001b[0m \u001b[0;34m\u001b[0m\u001b[0m\n\u001b[1;32m    835\u001b[0m       \u001b[0mnew_tracing_count\u001b[0m \u001b[0;34m=\u001b[0m \u001b[0mself\u001b[0m\u001b[0;34m.\u001b[0m\u001b[0mexperimental_get_tracing_count\u001b[0m\u001b[0;34m(\u001b[0m\u001b[0;34m)\u001b[0m\u001b[0;34m\u001b[0m\u001b[0;34m\u001b[0m\u001b[0m\n",
            "\u001b[0;32m/usr/local/lib/python3.10/dist-packages/tensorflow/python/eager/polymorphic_function/polymorphic_function.py\u001b[0m in \u001b[0;36m_call\u001b[0;34m(self, *args, **kwds)\u001b[0m\n\u001b[1;32m    876\u001b[0m       \u001b[0;31m# In this case we have not created variables on the first call. So we can\u001b[0m\u001b[0;34m\u001b[0m\u001b[0;34m\u001b[0m\u001b[0m\n\u001b[1;32m    877\u001b[0m       \u001b[0;31m# run the first trace but we should fail if variables are created.\u001b[0m\u001b[0;34m\u001b[0m\u001b[0;34m\u001b[0m\u001b[0m\n\u001b[0;32m--> 878\u001b[0;31m       results = tracing_compilation.call_function(\n\u001b[0m\u001b[1;32m    879\u001b[0m           \u001b[0margs\u001b[0m\u001b[0;34m,\u001b[0m \u001b[0mkwds\u001b[0m\u001b[0;34m,\u001b[0m \u001b[0mself\u001b[0m\u001b[0;34m.\u001b[0m\u001b[0m_variable_creation_config\u001b[0m\u001b[0;34m\u001b[0m\u001b[0;34m\u001b[0m\u001b[0m\n\u001b[1;32m    880\u001b[0m       )\n",
            "\u001b[0;32m/usr/local/lib/python3.10/dist-packages/tensorflow/python/eager/polymorphic_function/tracing_compilation.py\u001b[0m in \u001b[0;36mcall_function\u001b[0;34m(args, kwargs, tracing_options)\u001b[0m\n\u001b[1;32m    137\u001b[0m   \u001b[0mbound_args\u001b[0m \u001b[0;34m=\u001b[0m \u001b[0mfunction\u001b[0m\u001b[0;34m.\u001b[0m\u001b[0mfunction_type\u001b[0m\u001b[0;34m.\u001b[0m\u001b[0mbind\u001b[0m\u001b[0;34m(\u001b[0m\u001b[0;34m*\u001b[0m\u001b[0margs\u001b[0m\u001b[0;34m,\u001b[0m \u001b[0;34m**\u001b[0m\u001b[0mkwargs\u001b[0m\u001b[0;34m)\u001b[0m\u001b[0;34m\u001b[0m\u001b[0;34m\u001b[0m\u001b[0m\n\u001b[1;32m    138\u001b[0m   \u001b[0mflat_inputs\u001b[0m \u001b[0;34m=\u001b[0m \u001b[0mfunction\u001b[0m\u001b[0;34m.\u001b[0m\u001b[0mfunction_type\u001b[0m\u001b[0;34m.\u001b[0m\u001b[0munpack_inputs\u001b[0m\u001b[0;34m(\u001b[0m\u001b[0mbound_args\u001b[0m\u001b[0;34m)\u001b[0m\u001b[0;34m\u001b[0m\u001b[0;34m\u001b[0m\u001b[0m\n\u001b[0;32m--> 139\u001b[0;31m   return function._call_flat(  # pylint: disable=protected-access\n\u001b[0m\u001b[1;32m    140\u001b[0m       \u001b[0mflat_inputs\u001b[0m\u001b[0;34m,\u001b[0m \u001b[0mcaptured_inputs\u001b[0m\u001b[0;34m=\u001b[0m\u001b[0mfunction\u001b[0m\u001b[0;34m.\u001b[0m\u001b[0mcaptured_inputs\u001b[0m\u001b[0;34m\u001b[0m\u001b[0;34m\u001b[0m\u001b[0m\n\u001b[1;32m    141\u001b[0m   )\n",
            "\u001b[0;32m/usr/local/lib/python3.10/dist-packages/tensorflow/python/eager/polymorphic_function/concrete_function.py\u001b[0m in \u001b[0;36m_call_flat\u001b[0;34m(self, tensor_inputs, captured_inputs)\u001b[0m\n\u001b[1;32m   1320\u001b[0m         and executing_eagerly):\n\u001b[1;32m   1321\u001b[0m       \u001b[0;31m# No tape is watching; skip to running the function.\u001b[0m\u001b[0;34m\u001b[0m\u001b[0;34m\u001b[0m\u001b[0m\n\u001b[0;32m-> 1322\u001b[0;31m       \u001b[0;32mreturn\u001b[0m \u001b[0mself\u001b[0m\u001b[0;34m.\u001b[0m\u001b[0m_inference_function\u001b[0m\u001b[0;34m.\u001b[0m\u001b[0mcall_preflattened\u001b[0m\u001b[0;34m(\u001b[0m\u001b[0margs\u001b[0m\u001b[0;34m)\u001b[0m\u001b[0;34m\u001b[0m\u001b[0;34m\u001b[0m\u001b[0m\n\u001b[0m\u001b[1;32m   1323\u001b[0m     forward_backward = self._select_forward_and_backward_functions(\n\u001b[1;32m   1324\u001b[0m         \u001b[0margs\u001b[0m\u001b[0;34m,\u001b[0m\u001b[0;34m\u001b[0m\u001b[0;34m\u001b[0m\u001b[0m\n",
            "\u001b[0;32m/usr/local/lib/python3.10/dist-packages/tensorflow/python/eager/polymorphic_function/atomic_function.py\u001b[0m in \u001b[0;36mcall_preflattened\u001b[0;34m(self, args)\u001b[0m\n\u001b[1;32m    214\u001b[0m   \u001b[0;32mdef\u001b[0m \u001b[0mcall_preflattened\u001b[0m\u001b[0;34m(\u001b[0m\u001b[0mself\u001b[0m\u001b[0;34m,\u001b[0m \u001b[0margs\u001b[0m\u001b[0;34m:\u001b[0m \u001b[0mSequence\u001b[0m\u001b[0;34m[\u001b[0m\u001b[0mcore\u001b[0m\u001b[0;34m.\u001b[0m\u001b[0mTensor\u001b[0m\u001b[0;34m]\u001b[0m\u001b[0;34m)\u001b[0m \u001b[0;34m->\u001b[0m \u001b[0mAny\u001b[0m\u001b[0;34m:\u001b[0m\u001b[0;34m\u001b[0m\u001b[0;34m\u001b[0m\u001b[0m\n\u001b[1;32m    215\u001b[0m     \u001b[0;34m\"\"\"Calls with flattened tensor inputs and returns the structured output.\"\"\"\u001b[0m\u001b[0;34m\u001b[0m\u001b[0;34m\u001b[0m\u001b[0m\n\u001b[0;32m--> 216\u001b[0;31m     \u001b[0mflat_outputs\u001b[0m \u001b[0;34m=\u001b[0m \u001b[0mself\u001b[0m\u001b[0;34m.\u001b[0m\u001b[0mcall_flat\u001b[0m\u001b[0;34m(\u001b[0m\u001b[0;34m*\u001b[0m\u001b[0margs\u001b[0m\u001b[0;34m)\u001b[0m\u001b[0;34m\u001b[0m\u001b[0;34m\u001b[0m\u001b[0m\n\u001b[0m\u001b[1;32m    217\u001b[0m     \u001b[0;32mreturn\u001b[0m \u001b[0mself\u001b[0m\u001b[0;34m.\u001b[0m\u001b[0mfunction_type\u001b[0m\u001b[0;34m.\u001b[0m\u001b[0mpack_output\u001b[0m\u001b[0;34m(\u001b[0m\u001b[0mflat_outputs\u001b[0m\u001b[0;34m)\u001b[0m\u001b[0;34m\u001b[0m\u001b[0;34m\u001b[0m\u001b[0m\n\u001b[1;32m    218\u001b[0m \u001b[0;34m\u001b[0m\u001b[0m\n",
            "\u001b[0;32m/usr/local/lib/python3.10/dist-packages/tensorflow/python/eager/polymorphic_function/atomic_function.py\u001b[0m in \u001b[0;36mcall_flat\u001b[0;34m(self, *args)\u001b[0m\n\u001b[1;32m    249\u001b[0m         \u001b[0;32mwith\u001b[0m \u001b[0mrecord\u001b[0m\u001b[0;34m.\u001b[0m\u001b[0mstop_recording\u001b[0m\u001b[0;34m(\u001b[0m\u001b[0;34m)\u001b[0m\u001b[0;34m:\u001b[0m\u001b[0;34m\u001b[0m\u001b[0;34m\u001b[0m\u001b[0m\n\u001b[1;32m    250\u001b[0m           \u001b[0;32mif\u001b[0m \u001b[0mself\u001b[0m\u001b[0;34m.\u001b[0m\u001b[0m_bound_context\u001b[0m\u001b[0;34m.\u001b[0m\u001b[0mexecuting_eagerly\u001b[0m\u001b[0;34m(\u001b[0m\u001b[0;34m)\u001b[0m\u001b[0;34m:\u001b[0m\u001b[0;34m\u001b[0m\u001b[0;34m\u001b[0m\u001b[0m\n\u001b[0;32m--> 251\u001b[0;31m             outputs = self._bound_context.call_function(\n\u001b[0m\u001b[1;32m    252\u001b[0m                 \u001b[0mself\u001b[0m\u001b[0;34m.\u001b[0m\u001b[0mname\u001b[0m\u001b[0;34m,\u001b[0m\u001b[0;34m\u001b[0m\u001b[0;34m\u001b[0m\u001b[0m\n\u001b[1;32m    253\u001b[0m                 \u001b[0mlist\u001b[0m\u001b[0;34m(\u001b[0m\u001b[0margs\u001b[0m\u001b[0;34m)\u001b[0m\u001b[0;34m,\u001b[0m\u001b[0;34m\u001b[0m\u001b[0;34m\u001b[0m\u001b[0m\n",
            "\u001b[0;32m/usr/local/lib/python3.10/dist-packages/tensorflow/python/eager/context.py\u001b[0m in \u001b[0;36mcall_function\u001b[0;34m(self, name, tensor_inputs, num_outputs)\u001b[0m\n\u001b[1;32m   1550\u001b[0m     \u001b[0mcancellation_context\u001b[0m \u001b[0;34m=\u001b[0m \u001b[0mcancellation\u001b[0m\u001b[0;34m.\u001b[0m\u001b[0mcontext\u001b[0m\u001b[0;34m(\u001b[0m\u001b[0;34m)\u001b[0m\u001b[0;34m\u001b[0m\u001b[0;34m\u001b[0m\u001b[0m\n\u001b[1;32m   1551\u001b[0m     \u001b[0;32mif\u001b[0m \u001b[0mcancellation_context\u001b[0m \u001b[0;32mis\u001b[0m \u001b[0;32mNone\u001b[0m\u001b[0;34m:\u001b[0m\u001b[0;34m\u001b[0m\u001b[0;34m\u001b[0m\u001b[0m\n\u001b[0;32m-> 1552\u001b[0;31m       outputs = execute.execute(\n\u001b[0m\u001b[1;32m   1553\u001b[0m           \u001b[0mname\u001b[0m\u001b[0;34m.\u001b[0m\u001b[0mdecode\u001b[0m\u001b[0;34m(\u001b[0m\u001b[0;34m\"utf-8\"\u001b[0m\u001b[0;34m)\u001b[0m\u001b[0;34m,\u001b[0m\u001b[0;34m\u001b[0m\u001b[0;34m\u001b[0m\u001b[0m\n\u001b[1;32m   1554\u001b[0m           \u001b[0mnum_outputs\u001b[0m\u001b[0;34m=\u001b[0m\u001b[0mnum_outputs\u001b[0m\u001b[0;34m,\u001b[0m\u001b[0;34m\u001b[0m\u001b[0;34m\u001b[0m\u001b[0m\n",
            "\u001b[0;32m/usr/local/lib/python3.10/dist-packages/tensorflow/python/eager/execute.py\u001b[0m in \u001b[0;36mquick_execute\u001b[0;34m(op_name, num_outputs, inputs, attrs, ctx, name)\u001b[0m\n\u001b[1;32m     51\u001b[0m   \u001b[0;32mtry\u001b[0m\u001b[0;34m:\u001b[0m\u001b[0;34m\u001b[0m\u001b[0;34m\u001b[0m\u001b[0m\n\u001b[1;32m     52\u001b[0m     \u001b[0mctx\u001b[0m\u001b[0;34m.\u001b[0m\u001b[0mensure_initialized\u001b[0m\u001b[0;34m(\u001b[0m\u001b[0;34m)\u001b[0m\u001b[0;34m\u001b[0m\u001b[0;34m\u001b[0m\u001b[0m\n\u001b[0;32m---> 53\u001b[0;31m     tensors = pywrap_tfe.TFE_Py_Execute(ctx._handle, device_name, op_name,\n\u001b[0m\u001b[1;32m     54\u001b[0m                                         inputs, attrs, num_outputs)\n\u001b[1;32m     55\u001b[0m   \u001b[0;32mexcept\u001b[0m \u001b[0mcore\u001b[0m\u001b[0;34m.\u001b[0m\u001b[0m_NotOkStatusException\u001b[0m \u001b[0;32mas\u001b[0m \u001b[0me\u001b[0m\u001b[0;34m:\u001b[0m\u001b[0;34m\u001b[0m\u001b[0;34m\u001b[0m\u001b[0m\n",
            "\u001b[0;31mKeyboardInterrupt\u001b[0m: "
          ]
        }
      ]
    },
    {
      "cell_type": "code",
      "source": [],
      "metadata": {
        "id": "AMR1EQi85HdE"
      },
      "execution_count": null,
      "outputs": []
    }
  ]
}