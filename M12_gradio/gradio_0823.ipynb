{
 "cells": [
  {
   "cell_type": "markdown",
   "metadata": {},
   "source": [
    "# 0823"
   ]
  },
  {
   "cell_type": "markdown",
   "metadata": {},
   "source": [
    "https://www.gradio.app/docs"
   ]
  },
  {
   "cell_type": "code",
   "execution_count": 1,
   "metadata": {},
   "outputs": [],
   "source": [
    "from openai import OpenAI\n",
    "import os\n",
    "\n",
    "MODEL = \"gpt-4o-mini-2024-07-18\"\n",
    "client = OpenAI(api_key=os.getenv(\"OPENAI_API_KEY\"))"
   ]
  },
  {
   "cell_type": "markdown",
   "metadata": {},
   "source": [
    "## gradio"
   ]
  },
  {
   "cell_type": "markdown",
   "metadata": {},
   "source": [
    "Gradio는 Python 기반의 라이브러리로, 머신러닝 모델 또는 일반적인 함수와 사용자 간의 상호작용을 위한 웹 인터페이스를 간단하게 구축할 수 있도록 도와줍니다. Gradio를 사용하면 몇 줄의 코드로 웹 애플리케이션을 만들 수 있으며, 이를 통해 모델이나 함수를 사용자에게 쉽게 배포할 수 있습니다. 상업적 배포는 어렵지만 배포가능, 데모나 테스트용으로 사용하기 좋다.\n",
    "\n",
    "**Gradio의 기본 개념**\n",
    "\n",
    "- 웹 인터페이스: Gradio는 머신러닝 모델 또는 일반적인 파이썬 함수를 웹 브라우저에서 실행할 수 있도록 UI를 제공합니다. 이를 통해 사용자는 모델을 직접 입력값을 주거나 결과를 확인할 수 있습니다.\n",
    "- 사용자 상호작용: Gradio는 텍스트 입력, 파일 업로드, 드롭다운 메뉴 등 다양한 위젯을 제공하여 사용자가 쉽게 상호작용할 수 있는 환경을 제공합니다. 쉽고 직관적인 사용자 경험을 제공합니다. 모듈화해 놓음, \n",
    "- 빠른 프로토타이핑: 복잡한 웹 서버 설정 없이도 간단하게 모델을 웹에서 테스트하고 배포할 수 있습니다.\n",
    "\n",
    "**Gradio의 핵심 기능**\n",
    "- 인터페이스 구성 요소:\n",
    "Gradio는 다양한 입력 및 출력 위젯을 제공합니다. 이를 사용하여 웹 기반 인터페이스를 만들 수 있습니다.\n",
    "  - 입력 위젯: Textbox, Dropdown, Slider, Checkbox, FileUpload 등\n",
    "  - 출력 위젯: Textbox, Label, Image, Audio, Video 등\n",
    "\n",
    "-  Interface: Gradio의 기본 클래스입니다. 함수를 UI 위젯과 연결하여 웹 애플리케이션을 쉽게 만들 수 있습니다.\n",
    "  - fn: 실행할 함수\n",
    "  - inputs: 사용자 입력을 받는 위젯\n",
    "  - outputs: 함수의 결과를 표시하는 위젯\n",
    "  \n",
    "- Blocks: 복잡한 레이아웃을 만들거나 여러 위젯을 연결할 때 사용되는 블록 구조입니다. Blocks는 여러 컴포넌트를 `모듈식`으로 구성할 수 있으며, 복잡한 인터페이스를 구성할 때 유용합니다.\n",
    "\n",
    "- 상태 관리 (gr.State): 여러 함수 호출 간에 데이터를 저장하고 공유할 수 있는 기능입니다. 대화형 애플리케이션에서 상태를 유지하거나 이전 입력값을 저장할 때 사용됩니다.\n",
    "\n",
    "- 실시간 인터페이스: Gradio는 실시간으로 사용자 입력을 처리하고, 빠르게 결과를 반환할 수 있는 기능을 제공합니다. 이를 통해 데이터 분석, 이미지 생성, 챗봇 등 다양한 실시간 애플리케이션을 구축할 수 있습니다.\n",
    "\n",
    "- 파일 업로드 및 다운로드: Gradio는 파일을 업로드하거나 다운로드하는 기능을 제공하여 사용자와의 상호작용을 더욱 다양화할 수 있습니다.\n",
    "\n",
    "- Markdown 지원: Gradio는 gr.Markdown()을 통해 인터페이스에서 간단한 텍스트 설명을 Markdown 형식으로 추가할 수 있습니다."
   ]
  },
  {
   "cell_type": "code",
   "execution_count": 6,
   "metadata": {},
   "outputs": [
    {
     "name": "stdout",
     "output_type": "stream",
     "text": [
      "Running on local URL:  http://127.0.0.1:7862\n",
      "\n",
      "To create a public link, set `share=True` in `launch()`.\n"
     ]
    },
    {
     "data": {
      "text/html": [
       "<div><iframe src=\"http://127.0.0.1:7862/\" width=\"100%\" height=\"500\" allow=\"autoplay; camera; microphone; clipboard-read; clipboard-write;\" frameborder=\"0\" allowfullscreen></iframe></div>"
      ],
      "text/plain": [
       "<IPython.core.display.HTML object>"
      ]
     },
     "metadata": {},
     "output_type": "display_data"
    },
    {
     "data": {
      "text/plain": []
     },
     "execution_count": 6,
     "metadata": {},
     "output_type": "execute_result"
    }
   ],
   "source": [
    "import gradio as gr\n",
    "\n",
    "\n",
    "def greet(name, intensity):\n",
    "    return \"Hello, \" + name + \"!\" * int(intensity)\n",
    "\n",
    "\n",
    "demo = gr.Interface(\n",
    "    fn=greet,\n",
    "    inputs=[\"text\", \"slider\"],\n",
    "    outputs=[\"text\"],\n",
    ")\n",
    "\n",
    "demo.launch()"
   ]
  },
  {
   "cell_type": "code",
   "execution_count": 24,
   "metadata": {},
   "outputs": [
    {
     "name": "stdout",
     "output_type": "stream",
     "text": [
      "Running on local URL:  http://127.0.0.1:7876\n",
      "Running on public URL: https://390aa1c7893ac0c4c5.gradio.live\n",
      "\n",
      "This share link expires in 72 hours. For free permanent hosting and GPU upgrades, run `gradio deploy` from Terminal to deploy to Spaces (https://huggingface.co/spaces)\n"
     ]
    },
    {
     "data": {
      "text/html": [
       "<div><iframe src=\"https://390aa1c7893ac0c4c5.gradio.live\" width=\"100%\" height=\"500\" allow=\"autoplay; camera; microphone; clipboard-read; clipboard-write;\" frameborder=\"0\" allowfullscreen></iframe></div>"
      ],
      "text/plain": [
       "<IPython.core.display.HTML object>"
      ]
     },
     "metadata": {},
     "output_type": "display_data"
    },
    {
     "data": {
      "text/plain": []
     },
     "execution_count": 24,
     "metadata": {},
     "output_type": "execute_result"
    }
   ],
   "source": [
    "import gradio as gr\n",
    "\n",
    "def greet(name):\n",
    "    return \"Hello, \" + name + \"!\"\n",
    "\n",
    "demo = gr.Interface(fn=greet, inputs=\"text\", outputs=\"text\")\n",
    "demo.launch(share=True)"
   ]
  },
  {
   "cell_type": "code",
   "execution_count": 9,
   "metadata": {},
   "outputs": [
    {
     "name": "stdout",
     "output_type": "stream",
     "text": [
      "Running on local URL:  http://127.0.0.1:7865\n",
      "\n",
      "To create a public link, set `share=True` in `launch()`.\n"
     ]
    },
    {
     "data": {
      "text/html": [
       "<div><iframe src=\"http://127.0.0.1:7865/\" width=\"100%\" height=\"500\" allow=\"autoplay; camera; microphone; clipboard-read; clipboard-write;\" frameborder=\"0\" allowfullscreen></iframe></div>"
      ],
      "text/plain": [
       "<IPython.core.display.HTML object>"
      ]
     },
     "metadata": {},
     "output_type": "display_data"
    },
    {
     "data": {
      "text/plain": []
     },
     "execution_count": 9,
     "metadata": {},
     "output_type": "execute_result"
    }
   ],
   "source": [
    "import gradio as gr\n",
    "\n",
    "\n",
    "def greet(name):\n",
    "    return \"Hello, \" + name + \"!\"\n",
    "\n",
    "\n",
    "demo = gr.Interface(\n",
    "    fn=greet, \n",
    "    inputs=gr.Textbox(lines=2, label=\"Name Here...\"),\n",
    "    outputs=\"text\")\n",
    "demo.launch()"
   ]
  },
  {
   "cell_type": "code",
   "execution_count": 10,
   "metadata": {},
   "outputs": [
    {
     "name": "stdout",
     "output_type": "stream",
     "text": [
      "Running on local URL:  http://127.0.0.1:7866\n",
      "\n",
      "To create a public link, set `share=True` in `launch()`.\n"
     ]
    },
    {
     "data": {
      "text/html": [
       "<div><iframe src=\"http://127.0.0.1:7866/\" width=\"100%\" height=\"500\" allow=\"autoplay; camera; microphone; clipboard-read; clipboard-write;\" frameborder=\"0\" allowfullscreen></iframe></div>"
      ],
      "text/plain": [
       "<IPython.core.display.HTML object>"
      ]
     },
     "metadata": {},
     "output_type": "display_data"
    },
    {
     "data": {
      "text/plain": []
     },
     "execution_count": 10,
     "metadata": {},
     "output_type": "execute_result"
    }
   ],
   "source": [
    "import gradio as gr\n",
    "\n",
    "def greet(name, is_morning, temperature):\n",
    "    salutation = \"Good morning\" if is_morning else \"Hello\"\n",
    "    greeting = f\"{salutation}, {name}, It is {temperature} degrees today!\"\n",
    "    celsius = (temperature - 32) * 5.0/9.0\n",
    "    return greeting, f\"{temperature}°F is {celsius}°C\"\n",
    "\n",
    "demo = gr.Interface(fn=greet, inputs=[\"text\", \"checkbox\", gr.Slider(0,100)], outputs=[\"text\", \"text\"])\n",
    "\n",
    "demo.launch()"
   ]
  },
  {
   "cell_type": "code",
   "execution_count": 15,
   "metadata": {},
   "outputs": [
    {
     "name": "stdout",
     "output_type": "stream",
     "text": [
      "Running on local URL:  http://127.0.0.1:7870\n",
      "\n",
      "To create a public link, set `share=True` in `launch()`.\n"
     ]
    },
    {
     "data": {
      "text/html": [
       "<div><iframe src=\"http://127.0.0.1:7870/\" width=\"100%\" height=\"500\" allow=\"autoplay; camera; microphone; clipboard-read; clipboard-write;\" frameborder=\"0\" allowfullscreen></iframe></div>"
      ],
      "text/plain": [
       "<IPython.core.display.HTML object>"
      ]
     },
     "metadata": {},
     "output_type": "display_data"
    },
    {
     "data": {
      "text/plain": []
     },
     "execution_count": 15,
     "metadata": {},
     "output_type": "execute_result"
    },
    {
     "name": "stderr",
     "output_type": "stream",
     "text": [
      "ERROR:    Exception in ASGI application\n",
      "Traceback (most recent call last):\n",
      "  File \"d:\\pythonProject\\ML\\venv\\lib\\site-packages\\uvicorn\\protocols\\http\\h11_impl.py\", line 406, in run_asgi\n",
      "    result = await app(  # type: ignore[func-returns-value]\n",
      "  File \"d:\\pythonProject\\ML\\venv\\lib\\site-packages\\uvicorn\\middleware\\proxy_headers.py\", line 70, in __call__\n",
      "    return await self.app(scope, receive, send)\n",
      "  File \"d:\\pythonProject\\ML\\venv\\lib\\site-packages\\fastapi\\applications.py\", line 1054, in __call__\n",
      "    await super().__call__(scope, receive, send)\n",
      "  File \"d:\\pythonProject\\ML\\venv\\lib\\site-packages\\starlette\\applications.py\", line 123, in __call__\n",
      "    await self.middleware_stack(scope, receive, send)\n",
      "  File \"d:\\pythonProject\\ML\\venv\\lib\\site-packages\\starlette\\middleware\\errors.py\", line 186, in __call__\n",
      "    raise exc\n",
      "  File \"d:\\pythonProject\\ML\\venv\\lib\\site-packages\\starlette\\middleware\\errors.py\", line 164, in __call__\n",
      "    await self.app(scope, receive, _send)\n",
      "  File \"d:\\pythonProject\\ML\\venv\\lib\\site-packages\\gradio\\route_utils.py\", line 760, in __call__\n",
      "    await self.app(scope, receive, send)\n",
      "  File \"d:\\pythonProject\\ML\\venv\\lib\\site-packages\\starlette\\middleware\\exceptions.py\", line 65, in __call__\n",
      "    await wrap_app_handling_exceptions(self.app, conn)(scope, receive, send)\n",
      "  File \"d:\\pythonProject\\ML\\venv\\lib\\site-packages\\starlette\\_exception_handler.py\", line 64, in wrapped_app\n",
      "    raise exc\n",
      "  File \"d:\\pythonProject\\ML\\venv\\lib\\site-packages\\starlette\\_exception_handler.py\", line 53, in wrapped_app\n",
      "    await app(scope, receive, sender)\n",
      "  File \"d:\\pythonProject\\ML\\venv\\lib\\site-packages\\starlette\\routing.py\", line 754, in __call__\n",
      "    await self.middleware_stack(scope, receive, send)\n",
      "  File \"d:\\pythonProject\\ML\\venv\\lib\\site-packages\\starlette\\routing.py\", line 774, in app\n",
      "    await route.handle(scope, receive, send)\n",
      "  File \"d:\\pythonProject\\ML\\venv\\lib\\site-packages\\starlette\\routing.py\", line 295, in handle\n",
      "    await self.app(scope, receive, send)\n",
      "  File \"d:\\pythonProject\\ML\\venv\\lib\\site-packages\\starlette\\routing.py\", line 77, in app\n",
      "    await wrap_app_handling_exceptions(app, request)(scope, receive, send)\n",
      "  File \"d:\\pythonProject\\ML\\venv\\lib\\site-packages\\starlette\\_exception_handler.py\", line 64, in wrapped_app\n",
      "    raise exc\n",
      "  File \"d:\\pythonProject\\ML\\venv\\lib\\site-packages\\starlette\\_exception_handler.py\", line 53, in wrapped_app\n",
      "    await app(scope, receive, sender)\n",
      "  File \"d:\\pythonProject\\ML\\venv\\lib\\site-packages\\starlette\\routing.py\", line 75, in app\n",
      "    await response(scope, receive, send)\n",
      "  File \"d:\\pythonProject\\ML\\venv\\lib\\site-packages\\starlette\\responses.py\", line 348, in __call__\n",
      "    await send(\n",
      "  File \"d:\\pythonProject\\ML\\venv\\lib\\site-packages\\starlette\\_exception_handler.py\", line 50, in sender\n",
      "    await send(message)\n",
      "  File \"d:\\pythonProject\\ML\\venv\\lib\\site-packages\\starlette\\_exception_handler.py\", line 50, in sender\n",
      "    await send(message)\n",
      "  File \"d:\\pythonProject\\ML\\venv\\lib\\site-packages\\starlette\\middleware\\errors.py\", line 161, in _send\n",
      "    await send(message)\n",
      "  File \"d:\\pythonProject\\ML\\venv\\lib\\site-packages\\uvicorn\\protocols\\http\\h11_impl.py\", line 510, in send\n",
      "    output = self.conn.send(event=h11.EndOfMessage())\n",
      "  File \"d:\\pythonProject\\ML\\venv\\lib\\site-packages\\h11\\_connection.py\", line 512, in send\n",
      "    data_list = self.send_with_data_passthrough(event)\n",
      "  File \"d:\\pythonProject\\ML\\venv\\lib\\site-packages\\h11\\_connection.py\", line 545, in send_with_data_passthrough\n",
      "    writer(event, data_list.append)\n",
      "  File \"d:\\pythonProject\\ML\\venv\\lib\\site-packages\\h11\\_writers.py\", line 67, in __call__\n",
      "    self.send_eom(event.headers, write)\n",
      "  File \"d:\\pythonProject\\ML\\venv\\lib\\site-packages\\h11\\_writers.py\", line 96, in send_eom\n",
      "    raise LocalProtocolError(\"Too little data for declared Content-Length\")\n",
      "h11._util.LocalProtocolError: Too little data for declared Content-Length\n"
     ]
    }
   ],
   "source": [
    "import gradio as gr\n",
    "import numpy as np\n",
    "from skimage.transform import resize\n",
    "\n",
    "def sepia(input_img):\n",
    "    input_img = resize(input_img, (224, 224))\n",
    "    sepia_filter = np.array(\n",
    "        [\n",
    "            [0.393, 0.769, 0.189],\n",
    "            [0.349, 0.686, 0.168],\n",
    "            [0.272, 0.534, 0.131],\n",
    "        ]\n",
    "    )\n",
    "    sepia_img = input_img.dot(sepia_filter.T)\n",
    "    sepia_img /= sepia_img.max()                          \n",
    "    return sepia_img\n",
    "\n",
    "demo = gr.Interface(sepia, inputs=gr.Image(), outputs=gr.Image())\n",
    "\n",
    "demo.launch()"
   ]
  },
  {
   "cell_type": "code",
   "execution_count": 21,
   "metadata": {},
   "outputs": [
    {
     "name": "stdout",
     "output_type": "stream",
     "text": [
      "Running on local URL:  http://127.0.0.1:7874\n",
      "\n",
      "To create a public link, set `share=True` in `launch()`.\n"
     ]
    },
    {
     "data": {
      "text/html": [
       "<div><iframe src=\"http://127.0.0.1:7874/\" width=\"100%\" height=\"500\" allow=\"autoplay; camera; microphone; clipboard-read; clipboard-write;\" frameborder=\"0\" allowfullscreen></iframe></div>"
      ],
      "text/plain": [
       "<IPython.core.display.HTML object>"
      ]
     },
     "metadata": {},
     "output_type": "display_data"
    },
    {
     "data": {
      "text/plain": []
     },
     "execution_count": 21,
     "metadata": {},
     "output_type": "execute_result"
    }
   ],
   "source": [
    "import gradio as gr\n",
    "\n",
    "\n",
    "def bmi(name, height, weight, feeling):\n",
    "    bmi_val = round(weight / (height / 100) ** 2, 2)\n",
    "    result_emotion = \"😊\" if bmi_val < 30 else \"😔\"\n",
    "    output_str = 'Hello {}, your BMI is {} and you are feeling {}'.format(name, bmi_val, feeling)\n",
    "    txt = \"Happy\" if feeling else \"Sad\"\n",
    "    return output_str, result_emotion, txt\n",
    "\n",
    "\n",
    "demo = gr.Interface(\n",
    "    fn=bmi, \n",
    "    inputs=[\"text\", gr.Slider(30, 200, label=\"Height in cm\"), gr.Slider(0, 100, label=\"Weight in kg\"),\"checkbox\",], \n",
    "    outputs=[\"text\",\"text\", \"text\"],\n",
    "    examples=[[\"John\", 180, 80, True],\n",
    "              [\"Jane\", 160, 70, False],\n",
    "              [\"Jack\", 170, 90, True]],\n",
    "    live=True,\n",
    "    description=\"Flag if you find an erroneous result\"\n",
    ")\n",
    "\n",
    "demo.launch()"
   ]
  },
  {
   "cell_type": "markdown",
   "metadata": {},
   "source": [
    "## Blocks\n",
    "- Gradio의 저수준 API로 인터페이스보다 더 많은 사용자 지정 웹 응용 프로그램 및 데모를 만들 수 있습니다(아직 완전히 Python으로).\n",
    "- 인터페이스 클래스에 비해 Blocks는 다음에 대해 더 많은 유연성과 제어 기능을 제공합니다.\n",
    "- Blocks는 또한 탭과 같은 관련 데모를 함께 그룹화하는 방법을 제공합니다.\n",
    "- Blocks 객체를 생성한 다음 컨텍스트로 사용하고(\"with\" 문 사용) Blocks 컨텍스트 내에서 레이아웃, 구성 요소 또는 이벤트를 정의합니다. 마지막으로 launch() 메서드를 호출하여 데모를 시작합니다."
   ]
  },
  {
   "cell_type": "code",
   "execution_count": 25,
   "metadata": {},
   "outputs": [
    {
     "name": "stdout",
     "output_type": "stream",
     "text": [
      "Running on local URL:  http://127.0.0.1:7877\n",
      "\n",
      "To create a public link, set `share=True` in `launch()`.\n"
     ]
    },
    {
     "data": {
      "text/html": [
       "<div><iframe src=\"http://127.0.0.1:7877/\" width=\"100%\" height=\"500\" allow=\"autoplay; camera; microphone; clipboard-read; clipboard-write;\" frameborder=\"0\" allowfullscreen></iframe></div>"
      ],
      "text/plain": [
       "<IPython.core.display.HTML object>"
      ]
     },
     "metadata": {},
     "output_type": "display_data"
    },
    {
     "data": {
      "text/plain": []
     },
     "execution_count": 25,
     "metadata": {},
     "output_type": "execute_result"
    }
   ],
   "source": [
    "def greet(name, intensity):\n",
    "    return \"Hello, \" + name + \"!\" * int(intensity)\n",
    "\n",
    "with gr.Blocks() as demo:\n",
    "    text_input = gr.Textbox(lines=2, label=\"Name Here...\")\n",
    "    output = gr.Textbox(lines=2, label=\"Output Here...\")\n",
    "    btn = gr.Button(\"Submit\")\n",
    "    \n",
    "    btn.click(fn=greet, inputs=text_input, outputs=output)\n",
    "\n",
    "demo.launch()    "
   ]
  },
  {
   "cell_type": "markdown",
   "metadata": {},
   "source": [
    "### 실습 \n",
    "코딩튜터는 고등학생 정보과목에서 알고리즘과 프로그래밍을 학생들이 실습할 수 있게 도와주는 튜터봇\n",
    "\n"
   ]
  },
  {
   "cell_type": "markdown",
   "metadata": {},
   "source": [
    "기본 모델 - 퓨샷"
   ]
  },
  {
   "cell_type": "code",
   "execution_count": 27,
   "metadata": {},
   "outputs": [
    {
     "data": {
      "text/plain": [
       "'좋아요! 변수와 자료형에 대해 알아볼게요.\\n\\n**변수**는 데이터를 저장하는 공간입니다. 예를 들어, `x = 5`에서 `x`는 변수이고, 5라는 값을 저장합니다.\\n\\n**자료형**은 변수에 저장된 데이터의 종류를 나타냅니다. 주요 자료형은 다음과 같습니다:\\n1. 정수(int): 1, 2, 3\\n2. 실수(float): 1.5, 3.14\\n3. 문자열(str): \"안녕하세요\"\\n4. 불린(bool): True, False\\n\\n이해했나요? 연습문제로 변수를 사용해보세요! `name`이라는 변수에 \"홍길동\"을 저장해보세요.'"
      ]
     },
     "execution_count": 27,
     "metadata": {},
     "output_type": "execute_result"
    }
   ],
   "source": [
    "import gradio as gr\n",
    "from openai import OpenAI\n",
    "\n",
    "client = OpenAI()\n",
    "\n",
    "system_msg = \"\"\"코딩튜터는 고등학생 정보과목에서 알고리즘과 프로그래밍을 학생들이 실습할 수 있게 도와주는 튜터봇입니다.\n",
    "              - 튜터는 \"반가와요~ \"라고 인사말로 학습을 시작합니다.\n",
    "              - 학생이 선택한 섹션으로 학습을 시작하고 먼저 간단하게 섹션 학습내용 요약을 제공합니다.\n",
    "              - 각 섹션별 학습 항목에 대해서 하나씩 개념을 명확하고 친절하게 설명하고 연습문제를 추가로 제공해서 각 개념을 이해하여 활용할 수 있도록 연습 기회를 제공합니다.\n",
    "              - 학생의 답변에 대해서 \"잘했어요!\",\"조금 더 생각해봐요~\" 와 같은 긍정적인 피드백을 제공합니다.\n",
    "              - 대화는 간결하게 유지하며, 최대 100자 이내로 진행합니다.단 코드는 300자 이내로 작성합니다.\n",
    "              - 튜터는 학생들이 자기주도 학습을 할 수 있도록 개인화 된 학습을 제공하고 모든 질의 응답을 한국어로 진행합니다.\"\"\"\n",
    "\n",
    "response = client.chat.completions.create(\n",
    "    model=\"gpt-4o-mini-2024-07-18\",\n",
    "    messages=[\n",
    "        {\"role\": \"system\", \"content\": system_msg},\n",
    "        {\"role\": \"user\", \"content\": \"안녕하세요. 파이썬 기초엥 대하여 학습을 지도해줘요\"},\n",
    "        {\"role\": \"assistant\", \"content\": \"반가와요~ 파이썬 기초에 대해서 학습을 시작해볼까요? 먼저 파이썬의 기본 문법과 개념ㄷ들을 간단히 요약해보겠습니다.\"},\n",
    "        {\"role\": \"user\", \"content\": \"변수와 자료형에 대해 학습하고 싶어요\"},\n",
    "    ],\n",
    "    temperature=0.5,\n",
    "    max_tokens=300,\n",
    "    top_p=1.0,\n",
    ")\n",
    "\n",
    "response.choices[0].message.content"
   ]
  },
  {
   "cell_type": "markdown",
   "metadata": {},
   "source": [
    "- chat_with_tutor 함수: 이 함수는 OpenAI API를 호출하여 학생의 입력에 대한 튜터의 응답을 처리합니다. 이전 대화 내용을 저장하고 이어서 진행합니다.\n",
    "- start_chat 함수: '학습 시작' 버튼을 누르면 튜터의 인사말과 함께 대화가 시작됩니다.\n",
    "- Gradio UI:\n",
    "  - start_button: 학습을 시작하는 버튼입니다. 누르면 튜터의 인사말이 나타납니다.\n",
    "  - tutor_response: 튜터의 대답을 표시하는 텍스트박스입니다.\n",
    "  - user_input: 학생이 질문을 입력할 수 있는 텍스트박스입니다.\n",
    "  - submit_button: 학생이 질문을 제출하는 버튼입니다.\n",
    "  - gr.State(): 대화 기록을 유지하기 위해 사용됩니다."
   ]
  },
  {
   "cell_type": "code",
   "execution_count": 29,
   "metadata": {},
   "outputs": [
    {
     "name": "stdout",
     "output_type": "stream",
     "text": [
      "Running on local URL:  http://127.0.0.1:7879\n",
      "\n",
      "To create a public link, set `share=True` in `launch()`.\n"
     ]
    },
    {
     "data": {
      "text/html": [
       "<div><iframe src=\"http://127.0.0.1:7879/\" width=\"100%\" height=\"500\" allow=\"autoplay; camera; microphone; clipboard-read; clipboard-write;\" frameborder=\"0\" allowfullscreen></iframe></div>"
      ],
      "text/plain": [
       "<IPython.core.display.HTML object>"
      ]
     },
     "metadata": {},
     "output_type": "display_data"
    },
    {
     "name": "stdout",
     "output_type": "stream",
     "text": [
      "Keyboard interruption in main thread... closing server.\n",
      "Killing tunnel 127.0.0.1:7864 <> https://853c9ac39e402356da.gradio.live\n",
      "Killing tunnel 127.0.0.1:7876 <> https://390aa1c7893ac0c4c5.gradio.live\n"
     ]
    },
    {
     "data": {
      "text/plain": []
     },
     "execution_count": 29,
     "metadata": {},
     "output_type": "execute_result"
    }
   ],
   "source": [
    "client = OpenAI()\n",
    "\n",
    "system_msg = \"\"\"코딩튜터는 고등학생 정보과목에서 알고리즘과 프로그래밍을 학생들이 실습할 수 있게 도와주는 튜터봇입니다.\n",
    "              - 튜터는 \"반가와요~ \"라고 인사말로 학습을 시작합니다.\n",
    "              - 학생이 선택한 섹션으로 학습을 시작하고 먼저 간단하게 섹션 학습내용 요약을 제공합니다.\n",
    "              - 각 섹션별 학습 항목에 대해서 하나씩 개념을 명확하고 친절하게 설명하고 연습문제를 추가로 제공해서 각 개념을 이해하여 활용할 수 있도록 연습 기회를 제공합니다.\n",
    "              - 학생의 답변에 대해서 \"잘했어요!\",\"조금 더 생각해봐요~\" 와 같은 긍정적인 피드백을 제공합니다.\n",
    "              - 대화는 간결하게 유지하며, 최대 100자 이내로 진행합니다.단 코드는 300자 이내로 작성합니다.\n",
    "              - 튜터는 학생들이 자기주도 학습을 할 수 있도록 개인화 된 학습을 제공하고 모든 질의 응답을 한국어로 진행합니다.\"\"\"\n",
    "\n",
    "def chat_with_tutor(user_input, chat_history):\n",
    "    messages = [{\"role\": \"system\", \"content\": system_msg}] + chat_history\n",
    "    \n",
    "    if not chat_history:\n",
    "        messages.append({\"role\": \"assistant\", \"content\": \"안녕하세요. 파이썬 기초엥 대하여 학습을 지도해줘요\"})\n",
    "        \n",
    "    messages.append({\"role\": \"user\", \"content\": user_input})\n",
    "    \n",
    "    response_ = client.chat.completions.create(\n",
    "        model=\"gpt-4o-mini-2024-07-18\",\n",
    "        messages=messages,\n",
    "        temperature=0.5,\n",
    "        max_tokens=300,\n",
    "        top_p=1.0,\n",
    "    )\n",
    "    response_msg = response_.choices[0].message.content\n",
    "    chat_history.append({\"role\": \"assistant\", \"content\": response_msg})\n",
    "    \n",
    "    return response_msg, chat_history\n",
    "\n",
    "def start_chat():\n",
    "    return \"반가와요~ 파이썬 기초에 대해서 학습을 시작해볼까요? 먼저 파이썬의 기본 문법과 개념들을 간단히 요약해드릴께요\", []\n",
    "\n",
    "with gr.Blocks() as demo:\n",
    "    gr.Markdown(\"# 파이썬 튜터 봇\")\n",
    "    \n",
    "    chat_history = gr.State([])\n",
    "    \n",
    "    with gr.Row():\n",
    "        start_btn = gr.Button(\"Start Chat\")\n",
    "    \n",
    "    tutor_response = gr.Textbox(lines=5, label=\"Tutor\")\n",
    "    user_input = gr.Textbox(lines=5, label=\"User\")\n",
    "    \n",
    "    with gr.Row():\n",
    "        submit_btn = gr.Button(\"Submit\")\n",
    "        \n",
    "    start_btn.click(start_chat, outputs=[tutor_response, chat_history])\n",
    "    submit_btn.click(chat_with_tutor, inputs=[user_input, chat_history], outputs=[tutor_response, chat_history])\n",
    "    \n",
    "demo.launch(debug=True)"
   ]
  },
  {
   "cell_type": "markdown",
   "metadata": {},
   "source": [
    "동기부여할 시스템 메시지 추가\n",
    "\n",
    "히스토리 출력해주는 기능 추가\n",
    "\n",
    "탭을 이용하여 히스토리가 나오도록 구성, 코드 편집기 탭도 필요\n",
    "\n"
   ]
  },
  {
   "cell_type": "code",
   "execution_count": null,
   "metadata": {},
   "outputs": [],
   "source": []
  }
 ],
 "metadata": {
  "kernelspec": {
   "display_name": "venv",
   "language": "python",
   "name": "python3"
  },
  "language_info": {
   "codemirror_mode": {
    "name": "ipython",
    "version": 3
   },
   "file_extension": ".py",
   "mimetype": "text/x-python",
   "name": "python",
   "nbconvert_exporter": "python",
   "pygments_lexer": "ipython3",
   "version": "3.10.11"
  }
 },
 "nbformat": 4,
 "nbformat_minor": 2
}
