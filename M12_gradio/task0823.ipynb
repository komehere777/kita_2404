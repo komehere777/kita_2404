{
 "cells": [
  {
   "cell_type": "markdown",
   "metadata": {},
   "source": [
    "동기부여할 시스템 메시지 추가\n",
    "\n",
    "히스토리 출력해주는 기능 추가\n",
    "\n",
    "탭을 이용하여 히스토리가 나오도록 구성, 코드 편집기 탭도 필요"
   ]
  },
  {
   "cell_type": "code",
   "execution_count": 4,
   "metadata": {},
   "outputs": [
    {
     "ename": "TypeError",
     "evalue": "'State' object is not subscriptable",
     "output_type": "error",
     "traceback": [
      "\u001b[1;31m---------------------------------------------------------------------------\u001b[0m",
      "\u001b[1;31mTypeError\u001b[0m                                 Traceback (most recent call last)",
      "Cell \u001b[1;32mIn[4], line 60\u001b[0m\n\u001b[0;32m     57\u001b[0m \u001b[38;5;28;01mwith\u001b[39;00m gr\u001b[38;5;241m.\u001b[39mColumn(scale\u001b[38;5;241m=\u001b[39m\u001b[38;5;241m1\u001b[39m, min_width\u001b[38;5;241m=\u001b[39m\u001b[38;5;241m300\u001b[39m):\n\u001b[0;32m     58\u001b[0m     gr\u001b[38;5;241m.\u001b[39mMarkdown(\u001b[38;5;124m\"\u001b[39m\u001b[38;5;124mHistory\u001b[39m\u001b[38;5;124m\"\u001b[39m)\n\u001b[0;32m     59\u001b[0m     chat_history_display \u001b[38;5;241m=\u001b[39m gr\u001b[38;5;241m.\u001b[39mTextbox(\n\u001b[1;32m---> 60\u001b[0m         \u001b[38;5;28mprint\u001b[39m(\u001b[43mchat_history\u001b[49m\u001b[43m[\u001b[49m\u001b[38;5;241;43m-\u001b[39;49m\u001b[38;5;241;43m1\u001b[39;49m\u001b[43m]\u001b[49m), label\u001b[38;5;241m=\u001b[39m\u001b[38;5;124m\"\u001b[39m\u001b[38;5;124mChat History\u001b[39m\u001b[38;5;124m\"\u001b[39m, \u001b[38;5;28mtype\u001b[39m\u001b[38;5;241m=\u001b[39m\u001b[38;5;124m\"\u001b[39m\u001b[38;5;124mtext\u001b[39m\u001b[38;5;124m\"\u001b[39m, lines\u001b[38;5;241m=\u001b[39m\u001b[38;5;241m12\u001b[39m\n\u001b[0;32m     61\u001b[0m     )\n\u001b[0;32m     62\u001b[0m \u001b[38;5;28;01mwith\u001b[39;00m gr\u001b[38;5;241m.\u001b[39mColumn(scale\u001b[38;5;241m=\u001b[39m\u001b[38;5;241m2\u001b[39m, min_width\u001b[38;5;241m=\u001b[39m\u001b[38;5;241m300\u001b[39m):\n\u001b[0;32m     63\u001b[0m     gr\u001b[38;5;241m.\u001b[39mMarkdown(\u001b[38;5;124m\"\u001b[39m\u001b[38;5;124mChat\u001b[39m\u001b[38;5;124m\"\u001b[39m)\n",
      "\u001b[1;31mTypeError\u001b[0m: 'State' object is not subscriptable"
     ]
    }
   ],
   "source": [
    "import gradio as gr\n",
    "from openai import OpenAI\n",
    "\n",
    "client = OpenAI()\n",
    "\n",
    "system_msg = \"\"\"코딩튜터는 고등학생 정보과목에서 알고리즘과 프로그래밍을 학생들이 실습할 수 있게 도와주는 튜터봇입니다.\n",
    "              - 튜터는 \"반가와요~ \"라고 인사말로 학습을 시작합니다.\n",
    "              - 학생이 선택한 섹션으로 학습을 시작하고 먼저 간단하게 섹션 학습내용 요약을 제공합니다.\n",
    "              - 각 섹션별 학습 항목에 대해서 하나씩 개념을 명확하고 친절하게 설명하고 연습문제를 추가로 제공해서 각 개념을 이해하여 활용할 수 있도록 연습 기회를 제공합니다.\n",
    "              - 학생의 답변에 대해서 \"잘했어요!\",\"조금 더 생각해봐요~\" 와 같은 긍정적인 피드백을 제공합니다.\n",
    "              - 대화는 간결하게 유지하며, 최대 100자 이내로 진행합니다.단 코드는 300자 이내로 작성합니다.\n",
    "              - 튜터는 학생들이 자기주도 학습을 할 수 있도록 개인화 된 학습을 제공하고 모든 질의 응답을 한국어로 진행합니다.\"\"\"\n",
    "\n",
    "\n",
    "def chat_with_tutor(user_input, chat_history):\n",
    "    messages = [{\"role\": \"system\", \"content\": system_msg}] + chat_history\n",
    "\n",
    "    if not chat_history:\n",
    "        messages.append(\n",
    "            {\n",
    "                \"role\": \"assistant\",\n",
    "                \"content\": \"안녕하세요. 파이썬 기초엥 대하여 학습을 지도해줘요\",\n",
    "            }\n",
    "        )\n",
    "\n",
    "    messages.append({\"role\": \"user\", \"content\": user_input})\n",
    "\n",
    "    response_ = client.chat.completions.create(\n",
    "        model=\"gpt-4o-mini-2024-07-18\",\n",
    "        messages=messages,\n",
    "        temperature=0.5,\n",
    "        max_tokens=300,\n",
    "        top_p=1.0,\n",
    "    )\n",
    "    response_msg = response_.choices[0].message.content\n",
    "    chat_history.append({\"role\": \"assistant\", \"content\": response_msg})\n",
    "\n",
    "    return response_msg, chat_history\n",
    "\n",
    "\n",
    "def start_chat():\n",
    "    return (\n",
    "        \"반가와요~ 파이썬 기초에 대해서 학습을 시작해볼까요? 먼저 파이썬의 기본 문법과 개념들을 간단히 요약해드릴께요\",\n",
    "        [],\n",
    "    )\n",
    "\n",
    "\n",
    "with gr.Blocks() as demo:\n",
    "    gr.Markdown(\"# 파이썬 튜터 봇\")\n",
    "\n",
    "    chat_history = gr.State([])\n",
    "\n",
    "    with gr.Row():\n",
    "        start_btn = gr.Button(\"Start Chat\")\n",
    "\n",
    "    with gr.Row():\n",
    "        with gr.Column(scale=1, min_width=300):\n",
    "            gr.Markdown(\"History\")\n",
    "            chat_history_display = gr.Textbox(\n",
    "                print(chat_history[-1]), label=\"Chat History\", type=\"text\", lines=12\n",
    "            )\n",
    "        with gr.Column(scale=2, min_width=300):\n",
    "            gr.Markdown(\"Chat\")\n",
    "            tutor_response = gr.Textbox(lines=5, label=\"Tutor\")\n",
    "            user_input = gr.Textbox(lines=5, label=\"User\")\n",
    "\n",
    "    with gr.Row():\n",
    "        submit_btn = gr.Button(\"Submit\")\n",
    "\n",
    "    start_btn.click(start_chat, outputs=[tutor_response, chat_history])\n",
    "    submit_btn.click(\n",
    "        chat_with_tutor,\n",
    "        inputs=[user_input, chat_history],\n",
    "        outputs=[tutor_response, chat_history],\n",
    "    )\n",
    "\n",
    "demo.launch(debug=True)"
   ]
  },
  {
   "cell_type": "code",
   "execution_count": 7,
   "metadata": {},
   "outputs": [
    {
     "name": "stdout",
     "output_type": "stream",
     "text": [
      "Running on local URL:  http://127.0.0.1:7879\n",
      "\n",
      "To create a public link, set `share=True` in `launch()`.\n"
     ]
    },
    {
     "data": {
      "text/html": [
       "<div><iframe src=\"http://127.0.0.1:7879/\" width=\"100%\" height=\"500\" allow=\"autoplay; camera; microphone; clipboard-read; clipboard-write;\" frameborder=\"0\" allowfullscreen></iframe></div>"
      ],
      "text/plain": [
       "<IPython.core.display.HTML object>"
      ]
     },
     "metadata": {},
     "output_type": "display_data"
    },
    {
     "name": "stdout",
     "output_type": "stream",
     "text": [
      "Keyboard interruption in main thread... closing server.\n"
     ]
    },
    {
     "data": {
      "text/plain": []
     },
     "execution_count": 7,
     "metadata": {},
     "output_type": "execute_result"
    }
   ],
   "source": [
    "import gradio as gr\n",
    "from openai import OpenAI\n",
    "\n",
    "client = OpenAI()\n",
    "\n",
    "system_msg = \"\"\"코딩튜터는 고등학생 정보과목에서 알고리즘과 프로그래밍을 학생들이 실습할 수 있게 도와주는 튜터봇입니다.\n",
    "              - 튜터는 \"반가와요~ \"라고 인사말로 학습을 시작합니다.\n",
    "              - 학생이 선택한 섹션으로 학습을 시작하고 먼저 간단하게 섹션 학습내용 요약을 제공합니다.\n",
    "              - 각 섹션별 학습 항목에 대해서 하나씩 개념을 명확하고 친절하게 설명하고 연습문제를 추가로 제공해서 각 개념을 이해하여 활용할 수 있도록 연습 기회를 제공합니다.\n",
    "              - 학생의 답변에 대해서 \"잘했어요!\",\"조금 더 생각해봐요~\" 와 같은 긍정적인 피드백을 제공합니다.\n",
    "              - 대화는 간결하게 유지하며, 최대 100자 이내로 진행합니다.단 코드는 300자 이내로 작성합니다.\n",
    "              - 튜터는 학생들이 자기주도 학습을 할 수 있도록 개인화 된 학습을 제공하고 모든 질의 응답을 한국어로 진행합니다.\"\"\"\n",
    "\n",
    "\n",
    "def chat_with_tutor(user_input, chat_history):\n",
    "    messages = [{\"role\": \"system\", \"content\": system_msg}] + chat_history\n",
    "\n",
    "    if not chat_history:\n",
    "        messages.append(\n",
    "            {\n",
    "                \"role\": \"assistant\",\n",
    "                \"content\": \"안녕하세요. 파이썬 기초에 대하여 학습을 지도해줘요\",\n",
    "            }\n",
    "        )\n",
    "\n",
    "    messages.append({\"role\": \"user\", \"content\": user_input})\n",
    "\n",
    "    response_ = client.chat.completions.create(\n",
    "        model=\"gpt-4o-mini-2024-07-18\",\n",
    "        messages=messages,\n",
    "        temperature=0.5,\n",
    "        max_tokens=300,\n",
    "        top_p=1.0,\n",
    "    )\n",
    "    response_msg = response_.choices[0].message.content\n",
    "    chat_history.append({\"role\": \"user\", \"content\": user_input})\n",
    "    chat_history.append({\"role\": \"assistant\", \"content\": response_msg})\n",
    "    return response_msg, chat_history, update_chat_history(chat_history)\n",
    "\n",
    "\n",
    "def start_chat():\n",
    "    initial_message = \"반가와요~ 파이썬 기초에 대해서 학습을 시작해볼까요? 먼저 파이썬의 기본 문법과 개념들을 간단히 요약해드릴께요\"\n",
    "    initial_history = [{\"role\": \"assistant\", \"content\": initial_message}]\n",
    "    return initial_message, initial_history, update_chat_history(initial_history)\n",
    "\n",
    "def update_chat_history(history):\n",
    "    if history:\n",
    "        return \"\\n\".join([f\"{msg['role']}: {msg['content']}\" for msg in history])\n",
    "    return \"\"\n",
    "\n",
    "\n",
    "with gr.Blocks() as demo:\n",
    "    gr.Markdown(\"# 파이썬 튜터 봇\")\n",
    "\n",
    "    chat_history = gr.State([])\n",
    "\n",
    "    with gr.Row():\n",
    "        start_btn = gr.Button(\"Start Chat\")\n",
    "\n",
    "    with gr.Row():\n",
    "        with gr.Column(scale=1, min_width=300):\n",
    "            gr.Markdown(\"History\")\n",
    "            chat_history_display = gr.Textbox(\n",
    "                label=\"Chat History\", type=\"text\", lines=12\n",
    "            )\n",
    "        with gr.Column(scale=2, min_width=300):\n",
    "            gr.Markdown(\"Chat\")\n",
    "            tutor_response = gr.Textbox(lines=5, label=\"Tutor\")\n",
    "            user_input = gr.Textbox(lines=5, label=\"User\")\n",
    "\n",
    "    with gr.Row():\n",
    "        submit_btn = gr.Button(\"Submit\")\n",
    "\n",
    "    start_btn.click(\n",
    "        start_chat, outputs=[tutor_response, chat_history, chat_history_display]\n",
    "    )\n",
    "    submit_btn.click(\n",
    "        chat_with_tutor,\n",
    "        inputs=[user_input, chat_history],\n",
    "        outputs=[tutor_response, chat_history, chat_history_display],\n",
    "    )\n",
    "\n",
    "demo.launch(debug=True)"
   ]
  },
  {
   "cell_type": "code",
   "execution_count": null,
   "metadata": {},
   "outputs": [],
   "source": []
  }
 ],
 "metadata": {
  "kernelspec": {
   "display_name": "venv",
   "language": "python",
   "name": "python3"
  },
  "language_info": {
   "codemirror_mode": {
    "name": "ipython",
    "version": 3
   },
   "file_extension": ".py",
   "mimetype": "text/x-python",
   "name": "python",
   "nbconvert_exporter": "python",
   "pygments_lexer": "ipython3",
   "version": "3.10.11"
  }
 },
 "nbformat": 4,
 "nbformat_minor": 2
}
