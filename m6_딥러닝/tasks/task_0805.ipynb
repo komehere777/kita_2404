{
 "cells": [
  {
   "cell_type": "markdown",
   "metadata": {},
   "source": [
    "Task1_0805. 주어진 함수 $ g(x,y)=e^{x+y} +sin(x∗y) $에 대해 x에 대한 편미분과 y에 대한 편미분을 구하세요."
   ]
  },
  {
   "cell_type": "code",
   "execution_count": 2,
   "metadata": {},
   "outputs": [
    {
     "ename": "TypeError",
     "evalue": "Cannot convert expression to float",
     "output_type": "error",
     "traceback": [
      "\u001b[1;31m---------------------------------------------------------------------------\u001b[0m",
      "\u001b[1;31mTypeError\u001b[0m                                 Traceback (most recent call last)",
      "Cell \u001b[1;32mIn[2], line 6\u001b[0m\n\u001b[0;32m      2\u001b[0m \u001b[38;5;28;01mimport\u001b[39;00m \u001b[38;5;21;01mmath\u001b[39;00m\n\u001b[0;32m      4\u001b[0m x, y \u001b[38;5;241m=\u001b[39m sympy\u001b[38;5;241m.\u001b[39msymbols(\u001b[38;5;124m\"\u001b[39m\u001b[38;5;124mx y\u001b[39m\u001b[38;5;124m\"\u001b[39m)\n\u001b[1;32m----> 6\u001b[0m f \u001b[38;5;241m=\u001b[39m math\u001b[38;5;241m.\u001b[39me \u001b[38;5;241m*\u001b[39m\u001b[38;5;241m*\u001b[39m(x\u001b[38;5;241m+\u001b[39my) \u001b[38;5;241m+\u001b[39m\u001b[43mmath\u001b[49m\u001b[38;5;241;43m.\u001b[39;49m\u001b[43msin\u001b[49m\u001b[43m(\u001b[49m\u001b[43mx\u001b[49m\u001b[38;5;241;43m*\u001b[39;49m\u001b[43my\u001b[49m\u001b[43m)\u001b[49m\n\u001b[0;32m      8\u001b[0m f_x \u001b[38;5;241m=\u001b[39m sympy\u001b[38;5;241m.\u001b[39mdiff(f, x)\n\u001b[0;32m      9\u001b[0m f_y \u001b[38;5;241m=\u001b[39m sympy\u001b[38;5;241m.\u001b[39mdiff(f, y)\n",
      "File \u001b[1;32md:\\kdt_240424\\workspace\\M6_DL\\venv\\lib\\site-packages\\sympy\\core\\expr.py:340\u001b[0m, in \u001b[0;36mExpr.__float__\u001b[1;34m(self)\u001b[0m\n\u001b[0;32m    338\u001b[0m \u001b[38;5;28;01mif\u001b[39;00m result\u001b[38;5;241m.\u001b[39mis_number \u001b[38;5;129;01mand\u001b[39;00m result\u001b[38;5;241m.\u001b[39mas_real_imag()[\u001b[38;5;241m1\u001b[39m]:\n\u001b[0;32m    339\u001b[0m     \u001b[38;5;28;01mraise\u001b[39;00m \u001b[38;5;167;01mTypeError\u001b[39;00m(\u001b[38;5;124m\"\u001b[39m\u001b[38;5;124mCannot convert complex to float\u001b[39m\u001b[38;5;124m\"\u001b[39m)\n\u001b[1;32m--> 340\u001b[0m \u001b[38;5;28;01mraise\u001b[39;00m \u001b[38;5;167;01mTypeError\u001b[39;00m(\u001b[38;5;124m\"\u001b[39m\u001b[38;5;124mCannot convert expression to float\u001b[39m\u001b[38;5;124m\"\u001b[39m)\n",
      "\u001b[1;31mTypeError\u001b[0m: Cannot convert expression to float"
     ]
    }
   ],
   "source": [
    "import sympy\n",
    "import math\n",
    "\n",
    "x, y = sympy.symbols(\"x y\")\n",
    "\n",
    "f = math.e **(x+y) +math.sin(x*y)\n",
    "\n",
    "f_x = sympy.diff(f, x)\n",
    "f_y = sympy.diff(f, y)\n",
    "f_x, f_y"
   ]
  },
  {
   "cell_type": "code",
   "execution_count": 3,
   "metadata": {},
   "outputs": [
    {
     "name": "stdout",
     "output_type": "stream",
     "text": [
      "Original function:\n",
      "g(x,y) = e^{x + y} + \\sin{\\left(x y \\right)}\n",
      "\n",
      "Partial derivative with respect to x:\n",
      "∂g/∂x = y \\cos{\\left(x y \\right)} + e^{x + y}\n",
      "\n",
      "Partial derivative with respect to y:\n",
      "∂g/∂y = x \\cos{\\left(x y \\right)} + e^{x + y}\n",
      "\n",
      "Numerical example at x=1, y=2:\n",
      "∂g/∂x = 19.2532\n",
      "∂g/∂y = 19.6694\n"
     ]
    }
   ],
   "source": [
    "import sympy as sp\n",
    "\n",
    "# 변수 정의\n",
    "x, y = sp.symbols(\"x y\")\n",
    "\n",
    "# 함수 정의\n",
    "g = sp.exp(x + y) + sp.sin(x * y)\n",
    "\n",
    "# x에 대한 편미분\n",
    "partial_x = sp.diff(g, x)\n",
    "\n",
    "# y에 대한 편미분\n",
    "partial_y = sp.diff(g, y)\n",
    "\n",
    "# 결과 출력\n",
    "print(\"Original function:\")\n",
    "print(f\"g(x,y) = {sp.latex(g)}\")\n",
    "\n",
    "print(\"\\nPartial derivative with respect to x:\")\n",
    "print(f\"∂g/∂x = {sp.latex(partial_x)}\")\n",
    "\n",
    "print(\"\\nPartial derivative with respect to y:\")\n",
    "print(f\"∂g/∂y = {sp.latex(partial_y)}\")\n",
    "\n",
    "# 간단한 예시 값에 대한 계산\n",
    "x_val, y_val = 1, 2\n",
    "print(f\"\\nNumerical example at x={x_val}, y={y_val}:\")\n",
    "print(f\"∂g/∂x = {partial_x.evalf(subs={x: x_val, y: y_val}):.4f}\")\n",
    "print(f\"∂g/∂y = {partial_y.evalf(subs={x: x_val, y: y_val}):.4f}\")"
   ]
  },
  {
   "cell_type": "code",
   "execution_count": 5,
   "metadata": {},
   "outputs": [
    {
     "data": {
      "text/latex": [
       "$\\displaystyle y \\cos{\\left(x y \\right)} + e^{x + y}$"
      ],
      "text/plain": [
       "y*cos(x*y) + exp(x + y)"
      ]
     },
     "execution_count": 5,
     "metadata": {},
     "output_type": "execute_result"
    }
   ],
   "source": [
    "import sympy as sp\n",
    "\n",
    "# 변수 정의\n",
    "x, y = sp.symbols(\"x y\")\n",
    "\n",
    "# 함수 정의\n",
    "g = sp.exp(x + y) + sp.sin(x * y)\n",
    "\n",
    "# x에 대한 편미분\n",
    "partial_x = sp.diff(g, x)\n",
    "\n",
    "# y에 대한 편미분\n",
    "partial_y = sp.diff(g, y)\n",
    "\n",
    "partial_x"
   ]
  },
  {
   "cell_type": "code",
   "execution_count": 6,
   "metadata": {},
   "outputs": [
    {
     "data": {
      "text/latex": [
       "$\\displaystyle x \\cos{\\left(x y \\right)} + e^{x + y}$"
      ],
      "text/plain": [
       "x*cos(x*y) + exp(x + y)"
      ]
     },
     "execution_count": 6,
     "metadata": {},
     "output_type": "execute_result"
    }
   ],
   "source": [
    "partial_y"
   ]
  },
  {
   "cell_type": "code",
   "execution_count": null,
   "metadata": {},
   "outputs": [],
   "source": []
  }
 ],
 "metadata": {
  "kernelspec": {
   "display_name": "venv",
   "language": "python",
   "name": "python3"
  },
  "language_info": {
   "codemirror_mode": {
    "name": "ipython",
    "version": 3
   },
   "file_extension": ".py",
   "mimetype": "text/x-python",
   "name": "python",
   "nbconvert_exporter": "python",
   "pygments_lexer": "ipython3",
   "version": "3.10.11"
  }
 },
 "nbformat": 4,
 "nbformat_minor": 2
}
