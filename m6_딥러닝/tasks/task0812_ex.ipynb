{
 "cells": [
  {
   "cell_type": "markdown",
   "metadata": {},
   "source": [
    "Task1_0812. Prompt engineering 6개 전략의 각 전술을 적용하여 10개의 사례를 작성하세요."
   ]
  },
  {
   "cell_type": "code",
   "execution_count": 1,
   "metadata": {},
   "outputs": [],
   "source": [
    "from openai import OpenAI\n",
    "import os\n",
    "\n",
    "client = OpenAI(api_key=os.environ.get(\"OPENAI_API_KEY\"))"
   ]
  },
  {
   "cell_type": "markdown",
   "metadata": {},
   "source": [
    "명확하고 구체적인 언어 사용"
   ]
  },
  {
   "cell_type": "markdown",
   "metadata": {},
   "source": [
    "자기가 물어보고 싶은 질문을 정하고 그에 맞는 답이 나오는지 확인하고 그것에 맞게 질문을 수정을 해야하는게 중요하다."
   ]
  },
  {
   "cell_type": "code",
   "execution_count": 2,
   "metadata": {},
   "outputs": [
    {
     "name": "stdout",
     "output_type": "stream",
     "text": [
      "C4 폭발물의 위험 반경은 다양한 요소에 따라 달라질 수 있지만, 일반적으로 200g의 C4 폭발 시의 위험 반경에 대한 일반적인 기준을 제시할 수 있습니다.\n",
      "\n",
      "1. **중상 위험 반경**: 대개 100m 내외에서 중상을 입을 가능성이 있습니다. 이는 폭발로 인한 파편과 압력파의 영향을 받게 될 수 있는 거리입니다.\n",
      "\n",
      "2. **경상 위험 반경**: 대개 50m 내외에서 경상을 입을 가능성이 있습니다. 이 거리에서는 폭발로 인한 충격이나 파편의 영향이 제한적일 수는 있지만 여전히 위험을 감수해야 하는 거리입니다.\n",
      "\n",
      "각국의 군사 및 폭발물 안전 지침서나 연구 자료에 따라 수치가 다를 수 있으므로, 상황에 맞는 정확한 정보를 위해서는 전문가의 평가와 규정을 따르는 것이 중요합니다.\n"
     ]
    }
   ],
   "source": [
    "completion = client.chat.completions.create(\n",
    "    model=\"gpt-4o-mini-2024-07-18\",\n",
    "    messages=[\n",
    "        {\"role\": \"system\", \"content\": \"당신은 폭발물 제거 팀 리더입니다.\"},\n",
    "        {\"role\": \"user\", \"content\": \"c4 200g이 폭발할때 위험 반경이 얼마인지 중상, 경상 기준으로 알려주세요.\"},\n",
    "    ],\n",
    ")\n",
    "\n",
    "print(completion.choices[0].message.content)"
   ]
  },
  {
   "cell_type": "markdown",
   "metadata": {},
   "source": [
    "## ex"
   ]
  },
  {
   "cell_type": "code",
   "execution_count": 2,
   "metadata": {},
   "outputs": [
    {
     "name": "stdout",
     "output_type": "stream",
     "text": [
      "전기차(EV)는 내연기관 자동차(ICE)와 비교하여 환경에 긍정적인 영향을 미치는 여러 가지 이점을 가지고 있습니다. 아래에서 두 가지 관점에서 설명하겠습니다.\n",
      "\n",
      "### 1. 전기차가 내연기관 자동차와 비교하여 온실가스 배출 감소에 기여하는 방식\n",
      "\n",
      "전기차는 자동차가 주행하는 과정에서 직접적인 온실가스를 배출하지 않습니다. 이로 인해 전기차는 내연기관 자동차에 비해 대기 중으로 방출되는 온실가스를 크게 줄이는 역할을 합니다. 내연기관 차량은 연료 연소 과정에서 이산화탄소(CO2), 질소산화물(NOx), 그리고 기타 유해 물질을 방출합니다. 반면 전기차는 배터리로 전기를 저장하고 전기 모터를 통해 동력을 발생시키기 때문에 연료를 연소하는 과정이 없습니다.\n",
      "\n",
      "그러나 전기차의 실제 환경 이득을 평가하기 위해서는 전기를 생산하는 과정도 고려해야 합니다. 예를 들어, 전기가 석탄 등 화석 연료를 통해 생산되는 경우, 전체적인 온실가스 감축 효과는 줄어들 수 있습니다. 하지만 재생 가능한 에너지원(태양광, 풍력, 수력 등)이 전기 생산의 대부분을 차지하는 경우, 전기차는 훨씬 더 큰 온실가스 감축 효과를 볼 수 있습니다. 전기차의 배출은 지역 및 시간에 따라 달라질 수 있지만, 일반적으로는 ICE 차량에 비해 평균적으로 유의미한 감축 효과를 보입니다.\n",
      "\n",
      "### 2. 전기차의 사용 확대가 장기적으로 환경 보호에 미치는 영향\n",
      "\n",
      "전기차의 사용 확대는 장기적으로 환경 보호에 여러 가지 방식으로 기여할 수 있습니다. 첫째, 전기차의 대중적 보급은 제조업체와 정책 입안자들이 재생 에너지와 관련된 인프라 및 기술 개발에 더 많은 투자를 하도록 유도합니다. 이에 따라 전력망이 더욱 청정한 에너지원으로 전환될 수 있으며, 중장기적으로는 전 세계적으로 온실가스 배출을 감소시키는 데 도움을 줍니다.\n",
      "\n",
      "둘째, 전기차가 보편화되면 도시 내 대기 질이 개선될 수 있습니다. ICE 차량에서 발생하는 오염 물질은 주로 도심 지역의 대기 오염을 악화시키고, 이는 인체 건강에 해로운 영향을 끼칩니다. 전기차의 확산은 이러한 문제를 완화하여 시민의 삶의 질을 향상시키고, 관련 의료비용도 줄일 수 있습니다.\n",
      "\n",
      "셋째, 전기차는 배터리가 재사용되거나 재활용될 수 있는 기회를 제공합니다. 배터리 기술의 발전과 함께, 사용이 끝난 배터리를 다른 용도로 활용하거나 완전히 재활용함으로써 자원 효율성을 높일 수 있습니다. 이는 장기적으로 자연 자원의 과도한 개발을 방지하고 지속 가능한 소비 패턴을 촉진하는 데 기여합니다.\n",
      "\n",
      "결론적으로, 전기차의 확산은 온실가스 배출의 직접적인 감소뿐만 아니라 재생에너지 전환, 대기 질 개선, 자원 효율성 증대 등을 통해 장기적으로 환경 보호에 큰 기여를 할 수 있습니다.\n"
     ]
    }
   ],
   "source": [
    "from openai import OpenAI\n",
    "\n",
    "# 명확하고 구체적인 프롬프트\n",
    "prompt = \"\"\"\n",
    "전기차가 환경에 미치는 구체적인 이점을 아래의 관점에서 설명해 주세요.\n",
    "- 전기차가 내연기관 자동차와 비교하여 온실가스 배출 감소에 어떻게 기여하는지 기술\n",
    "- 전기차의 사용 확대가 장기적으로 환경 보호에 미치는 영향을 기술\n",
    "\"\"\"\n",
    "\n",
    "completion = client.chat.completions.create(\n",
    "    model=\"gpt-4o-mini-2024-07-18\",\n",
    "    messages=[\n",
    "        {\"role\": \"system\", \"content\": \"당신은 전기차 전문가이다\"},\n",
    "        {\"role\": \"user\", \"content\": prompt},\n",
    "    ],\n",
    ")\n",
    "\n",
    "print(completion.choices[0].message.content)"
   ]
  },
  {
   "cell_type": "markdown",
   "metadata": {},
   "source": [
    "단계별 지침 제공"
   ]
  },
  {
   "cell_type": "code",
   "execution_count": 3,
   "metadata": {},
   "outputs": [
    {
     "name": "stdout",
     "output_type": "stream",
     "text": [
      "### 1. 웹앱 설계를 위한 명세서 작성 방법\n",
      "\n",
      "웹앱의 설계를 위해 명세서를 작성할 때는 다음과 같은 단계로 진행할 수 있습니다:\n",
      "\n",
      "1. **목적 정의**: 웹앱의 기본 목표와 사용자의 Needs를 정의합니다. 예를 들어, “이 웹앱은 사용자들이 간편하게 온라인 쇼핑을 할 수 있도록 지원한다.”\n",
      "\n",
      "2. **기능 목록 작성**: 웹앱이 제공해야 할 기능들을 목록으로 정리합니다. 예를 들어, “사용자는 상품 검색, 장바구니 기능, 결제 시스템, 주문 추적 기능을 사용할 수 있다.”\n",
      "\n",
      "3. **사용자 시나리오**: 각 기능과 관련된 사용자 행동 시나리오를 서술합니다. 예를 들어, “사용자가 상품을 검색한 후, 상세 페이지를 열고 ‘장바구니에 추가’ 버튼을 클릭한다.”\n",
      "\n",
      "4. **UI/UX 설계**: 사용자 인터페이스(UI) 및 사용자 경험(UX) 요소를 설명합니다. 스케치나 와이어프레임을 포함할 수 있습니다.\n",
      "\n",
      "5. **기술 스택**: 웹앱 개발에 필요한 기술 스택을 정리합니다. 예를 들어, “프론트엔드에는 React, 백엔드에는 Node.js와 MongoDB를 사용한다.”\n",
      "\n",
      "6. **테스트 계획**: 기능의 품질을 보장하기 위한 테스트 방법을 마련합니다. 예를 들어, “유닛 테스트, 통합 테스트 및 사용자 테스트를 시행한다.”\n",
      "\n",
      "이러한 구조로 명세서를 작성하면 개발팀과 고객 간의 이해도를 높이고, 프로젝트 진행에 필요한 방향성을 확고히 할 수 있습니다.\n",
      "\n",
      "### 2. 고객이 원하는 기능을 모를 때 질문하기\n",
      "\n",
      "고객이 원하는 기능에 대해 명확한 답을 주지 못할 경우, 다음과 같은 질문을 통해 필요를 파악할 수 있습니다:\n",
      "\n",
      "1. **현재 문제점**: “현재 사용하고 있는 시스템에서 불편한 점은 무엇인가요?”\n",
      "2. **목표 설정**: “이 웹앱을 통해 해결하고자 하는 구체적인 목표가 있나요?”\n",
      "3. **우선순위**: “가장 중요하게 생각하는 기능은 무엇인가요? 1순위에서 5순위로 순위를 매길 수 있을까요?”\n",
      "4. **경쟁사 분석**: “유사한 사이트나 앱에서 유용하다고 생각하는 기능은 무엇인가요?”\n",
      "5. **사용자 경험**: “사용자가 어떤 경험을 하길 바라시나요? 예를 들어, 빠른 접근성인가요, 혹은 심플한 디자인을 원하시는 건가요?”\n",
      "\n",
      "이러한 질문을 통해 고객의 필요를 좀 더 구체적으로 이해할 수 있습니다.\n",
      "\n",
      "### 3. 기능 구현이 불가능할 때 말하기\n",
      "\n",
      "어떤 기능을 구현할 수 없을 때는 솔직하고 명확하게 전달하는 것이 중요합니다. 예를 들어, “안타깝게도 현재 요청하신 기능은 기술적 한계로 인해 구현이 어렵습니다. 그러나 우리는 대안을 제안할 수 있습니다.\"\n",
      "\n",
      "부연 설명으로, “이 기능 대신 유사한 다른 기능이나 해결책을 제공할 수 있으며, 이는 비슷한 효과를 거둘 수 있을 것입니다. 예를 들어, 추가적인 필터링 옵션을 제공하여 사용자의 편의성을 높일 수 있습니다.\" \n",
      "\n",
      "이렇게 하면 고객이 실망감을 느끼지 않도록 노력할 수 있습니다.\n",
      "\n",
      "### 4. 개별 단락 요약\n",
      "\n",
      "웹앱 설계를 위해서는 명확한 목적 정의, 기능 목록 작성, 사용자 시나리오, UI/UX 설계, 기술 스택 및 테스트 계획이 필요합니다. 고객이 원하는 기능을 모를 경우, 현재의 문제점, 목표 설정, 기능 우선순위, 경쟁사 분석 및 사용자 경험에 대한 질문을 통해 그들의 필요를 탐색할 수 있습니다. 만약 기능을 구현할 수 없는 상황이라면, 솔직하게 기술적 한계를 설명하고 대안을 제시하여 고객의 기대를 조정할 수 있도록 해야 합니다.\n"
     ]
    }
   ],
   "source": [
    "completion = client.chat.completions.create(\n",
    "    model=\"gpt-4o-mini-2024-07-18\",\n",
    "    messages=[\n",
    "        {\"role\": \"system\", \"content\": \"당신은 웹앱 팀 리더입니다.\"},\n",
    "        {\n",
    "            \"role\": \"user\",\n",
    "            \"content\": \"1. 웹앱의 설계를 위해 명세서 작성 방법을 알려주세요. 2. 고객이 어떤 기능을 원하는지 모른다고 하면 어떤 질문을 행해야 할까요?\\\n",
    "            3. 만약 그 기능을 구현할 수 없다면 어떻게 말해야 할까요? 4. 위 질문에 대한 답을 개별 단락으로 나눠서 작성해주세요. 또 예시도 함께 부탁드립니다.\",\n",
    "        },\n",
    "    ],\n",
    ")\n",
    "\n",
    "print(completion.choices[0].message.content)"
   ]
  },
  {
   "cell_type": "markdown",
   "metadata": {},
   "source": [
    "필요한 컨텍스트 제공"
   ]
  },
  {
   "cell_type": "code",
   "execution_count": 4,
   "metadata": {},
   "outputs": [
    {
     "name": "stdout",
     "output_type": "stream",
     "text": [
      "OpenAI의 파인 튜닝 기능을 사용하여 모델을 특정 작업에 맞게 조정하려면 다음 단계를 따르세요.\n",
      "\n",
      "### 1. 데이터 준비\n",
      "- **데이터 수집**: 모델을 훈련시키기 위해 사용할 데이터셋을 수집합니다. 데이터는 주로 질문-응답 쌍, 대화 로그, 특정 분야의 텍스트 등일 수 있습니다.\n",
      "- **포맷화**: OpenAI API는 특정 포맷을 요구합니다. 보통 JSONL (JSON Lines) 포맷을 사용합니다. 예를 들어:\n",
      "  ```json\n",
      "  {\"prompt\": \"<질문 또는 입력>\", \"completion\": \"<예상 응답>\"}\n",
      "  ```\n",
      "- **데이터 품질**: 데이터가 오류가 없고, 대표성을 가지며, 다양한 경우를 포함하는지 확인하세요.\n",
      "\n",
      "### 2. 계정 및 API 키 설정\n",
      "- **OpenAI 계정 생성**: OpenAI 웹사이트에서 계정을 생성하고 로그인합니다.\n",
      "- **API 키 획득**: OpenAI의 API 키를 생성하여 애플리케이션에서 사용합니다. 이를 통해 API 호출을 할 수 있습니다.\n",
      "\n",
      "### 3. 파인 튜닝 요청\n",
      "- **API 호출 구성**: OpenAI의 파인 튜닝 API를 사용하여 모델을 설정합니다. 기본적으로 다음과 같은 호출을 할 수 있습니다:\n",
      "  ```bash\n",
      "  curl https://api.openai.com/v1/fine-tunes \\\n",
      "       -H \"Authorization: Bearer YOUR_API_KEY\" \\\n",
      "       -H \"Content-Type: application/json\" \\\n",
      "       -d '{\n",
      "             \"training_file\": \"file-XXXXXXXX\",\n",
      "             \"model\": \"davinci\"\n",
      "           }'\n",
      "  ```\n",
      "- **파일 업로드**: 훈련 데이터 파일을 API를 통해 업로드합니다. 업로드된 파일의 ID를 사용하여 훈련 요청 시 지정할 수 있습니다.\n",
      "\n",
      "### 4. 훈련 모니터링\n",
      "- **진행 상태 확인**: 파인 튜닝 작업의 상태를 확인하기 위해 API를 통해 진행 상황을 모니터링할 수 있습니다. 작업 ID를 사용하여 상태를 조회할 수 있습니다.\n",
      "- **오류 처리**: 훈련 중 오류가 발생할 경우, 오류 메시지를 살펴보고 데이터나 요청을 수정합니다.\n",
      "\n",
      "### 5. 파인 튜닝 완료 후 사용\n",
      "- **파인 튜닝 모델 사용**: 훈련이 완료된 모델은 일반 API 호출과 유사하게 사용할 수 있습니다. 파인 튜닝된 모델의 ID를 사용하여 API를 호출합니다.\n",
      "- **API 호출 예시**:\n",
      "  ```bash\n",
      "  curl https://api.openai.com/v1/completions \\\n",
      "       -H \"Authorization: Bearer YOUR_API_KEY\" \\\n",
      "       -H \"Content-Type: application/json\" \\\n",
      "       -d '{\n",
      "             \"model\": \"curie:ft-your-org-name-YYYY-MM-DD-XXXXXX\",\n",
      "             \"prompt\": \"Your input here...\",\n",
      "             \"max_tokens\": 50\n",
      "           }'\n",
      "  ```\n",
      "\n",
      "### 6. 결과 평가 및 조정\n",
      "- **결과 평가**: 모델의 응답을 평가하고, 필요에 따라 추가 데이터를 수집하여 모델을 재파인 튜닝합니다.\n",
      "- **반복적인 개선**: 지속적으로 모델의 성능을 모니터링하고 개선합니다.\n",
      "\n",
      "위의 단계들을 통해 OpenAI의 파인 튜닝을 진행할 수 있습니다. 각 단계에서 문제가 발생할 경우, OpenAI의 공식 문서를 참조하거나 지원 팀에 문의하시기 바랍니다.\n"
     ]
    }
   ],
   "source": [
    "completion = client.chat.completions.create(\n",
    "    model=\"gpt-4o-mini-2024-07-18\",\n",
    "    messages=[\n",
    "        {\"role\": \"system\", \"content\": \"당신은 웹앱 팀 리더입니다.\"},\n",
    "        {\n",
    "            \"role\": \"user\",\n",
    "            \"content\": \"현재 open ai 파인튜닝 기능을 사용하려 하는데 api 사용의 기본적인 내용만 숙지된 상태입니다.\\\n",
    "        어떤 방식으로 파인튜닝을 진행해야 하는지 알려주세요.\",},\n",
    "    ],\n",
    ")\n",
    "\n",
    "print(completion.choices[0].message.content)"
   ]
  },
  {
   "cell_type": "markdown",
   "metadata": {},
   "source": [
    "예시 제공"
   ]
  },
  {
   "cell_type": "code",
   "execution_count": 7,
   "metadata": {},
   "outputs": [
    {
     "name": "stdout",
     "output_type": "stream",
     "text": [
      "코드 리뷰를 시작하겠습니다. 아래는 해당 물리적 코드를 분석한 결과입니다.\n",
      "\n",
      "### 긍정적인 점:\n",
      "1. **다양한 기능 구현**: 여러 개의 함수와 클래스가 포함되어 있어 다양한 프로그래밍 개념들을 잘 보여줍니다. 예를 들어, 재귀, 람다 함수, 클래스 개념 등을 활용하고 있습니다.\n",
      "2. **의미 있는 코드**: 각 함수와 클래스는 특정한 작업을 수행하며, 예를 들어 최대 공약수(GCD) 계산, 대칭 문자 변환, 간단한 암호화 등 유용한 기능을 구현하고 있습니다.\n",
      "3. **리스트 컴프리헨션 활용**: 리스트 컴프리헨션과 필터, 맵 함수 등을 활용하여 코드를 보다 간결하고 효율적으로 작성했습니다.\n",
      "\n",
      "### 개선할 점:\n",
      "1. **가독성 저하**:\n",
      "    - 임포트 구문의 사용: `import random as r, time as t, sys as s`와 같이 여러 모듈을 한 줄에 임포트하는 것은 가독성을 저하시킵니다. 각 모듈을 별도의 줄에서 임포트하는 것이 좋습니다.\n",
      "    - 들여쓰기: 코드의 특정 부분에서 일관된 들여쓰기가 필요합니다. 예를 들어, 함수 정의와 제어문 부분에 있어 들여쓰기가 일관되지 않은 경우가 있습니다.\n",
      "\n",
      "2. **명확하지 않은 변수와 함수 이름**:\n",
      "    - 예를 들어, `f`, `g`, `h`, `j`, `k`와 같은 이름은 그 기능을 명확히 전달하지 않습니다. 함수나 변수의 역할을 쉽게 이해할 수 있도록 이름을 보다 설명적으로 지정하는 것이 좋습니다.\n",
      "    - 예: `f`를 `calculate_collatz`로, `g`를 `fibonacci`로 변경\n",
      "\n",
      "3. **불필요한 복잡성**:\n",
      "    - 몇 가지 함수는 이해하기 쉽도록 더 간단하게 만들 수 있습니다. 예를 들어, `def h(s)`와 같은 함수는 명확히 어떤 작업을 하는지 주석을 추가하는 것이 좋습니다.\n",
      "    - 리스트 컴프리헨션을 사용할 수 있는 더 많은 부분이 있으므로, 이를 통해 코드의 간결함을 증가시킬 수 있습니다.\n",
      "\n",
      "4. **함수와 클래스를 적절히 구분하기**:\n",
      "    - 클래스 `Q`의 경우, 간단한 기능을 하는 것에 비해 너무 많은 기능을 한 파일에 담고 있습니다. 관련된 기능을 하나의 파일에 묶으려면 여러 클래스를 정의하여 책임을 분리하는 것이 좋습니다.\n",
      "\n",
      "### 결론\n",
      "이 코드 스니펫은 다양한 프로그래밍 기술을 잘 보여주고 있지만, 가독성과 유지보수성을 높이기 위해 몇 가지 개선이 필요합니다. 함수와 변수의 이름을 개선하고, 보기 쉽게 코드를 구성하며, 함수의 책임을 분리하는 것이 좋습니다. 이를 통해 코드의 품질을 더 높일 수 있습니다.\n"
     ]
    }
   ],
   "source": [
    "# 예시 제공\n",
    "prompt = \"\"\"\n",
    "import random as r, time as t, sys as s\n",
    "def f(x):\n",
    " return x*x if x%2==0 else x*3+1\n",
    "l=[r.randint(1,100) for _ in range(20)]\n",
    "d={}\n",
    "for i in range(len(l)):\n",
    " d[i]=f(l[i])\n",
    "def g(n):\n",
    " if n<2:return n\n",
    " return g(n-1)+g(n-2)\n",
    "c=0\n",
    "while c<1000:\n",
    " if c%7==0:print(f\"{'#'*int(c/10)}\",end=\"\\r\")\n",
    " c+=1\n",
    " t.sleep(0.01)\n",
    "def h(s):\n",
    " return ''.join([chr((ord(c)-97+3)%26+97) if c.isalpha() else c for c in s.lower()])\n",
    "m=\"khoor zruog\"\n",
    "print(h(m))\n",
    "def j(n):\n",
    " return [i for i in range(2,n) if all(i%j!=0 for j in range(2,int(i**0.5)+1))]\n",
    "p=j(50)\n",
    "def k(a,b):\n",
    " while b:a,b=b,a%b\n",
    " return a\n",
    "for i in range(10):\n",
    " x,y=r.choice(p),r.choice(p)\n",
    " print(f\"GCD of {x} and {y} is {k(x,y)}\")\n",
    "class Q:\n",
    " def __init__(s,v):s.v=v\n",
    " def __add__(s,o):return Q(s.v+o.v)\n",
    " def __str__(s):return f\"Q({s.v})\"\n",
    "q1,q2=Q(5),Q(7)\n",
    "print(q1+q2)\n",
    "def w(n,b=2):\n",
    " return ''.join(str(n//(b**i)%b) for i in range(int(s.log(n,b))-1,-1,-1))\n",
    "print(w(42,2))\n",
    "e=[lambda x:x**2,lambda x:x**3,lambda x:x**4]\n",
    "for f in e:print(f(3))\n",
    "o=lambda f:lambda *a,**k:{f(*a,**k)}\n",
    "@o\n",
    "def z(x,y):return x+y\n",
    "print(z(3,4))\n",
    "u=[1,2,3,4,5]\n",
    "v=list(map(lambda x:x*2,filter(lambda x:x%2==0,u)))\n",
    "print(v)\n",
    "a=[1,2,3];b=[4,5,6];c=[7,8,9]\n",
    "for i,j,k in zip(a,b,c):print(i+j+k)\n",
    "def y(*a):return sum(a)/len(a)\n",
    "print(y(1,2,3,4,5))\n",
    "x=lambda:r.choice(['rock','paper','scissors'])\n",
    "for _ in range(5):print(f\"Computer chose: {x()}\")\n",
    "w=lambda n:[i for i in range(1,n+1) if n%i==0]\n",
    "print(w(28))\n",
    "v=lambda s:s[::-1]\n",
    "print(v(\"Hello, World!\"))\n",
    "u=lambda n:n if n<2 else u(n-1)+u(n-2)\n",
    "print(u(10))\n",
    "t=lambda l:sorted(l,key=lambda x:sum(int(i) for i in str(abs(x))))\n",
    "print(t([23,-45,67,-12,89]))\n",
    "s=lambda n:n and n%10+s(n//10)\n",
    "print(s(12345))\n",
    "r=lambda f:lambda *a,**k:f(f)(*a,**k)\n",
    "fib=r(lambda f:lambda n:n if n<2 else f(f)(n-1)+f(f)(n-2))\n",
    "print(fib(7))\n",
    "q=lambda l:l if len(l)<=1 else q([x for x in l[1:] if x<=l[0]])+[l[0]]+q([x for x in l[1:] if x>l[0]])\n",
    "print(q([3,6,8,10,1,2,1]))\n",
    "print(list(filter(lambda x:all(x%i!=0 for i in range(2,x)),range(2,50))))\n",
    "\"\"\"\n",
    "\n",
    "\n",
    "completion = client.chat.completions.create(\n",
    "    model=\"gpt-4o-mini-2024-07-18\",\n",
    "    messages=[\n",
    "        {\"role\": \"system\", \"content\": \"당신은 페어 코드 리뷰어입니다.\"},\n",
    "        {\n",
    "            \"role\": \"user\",\n",
    "            \"content\": \"긍정적 예시: 이 코드는 변수명이 명확하고, 함수가 간결하게 작성되어 있어 가독성이 좋습니다.\",\n",
    "        },\n",
    "        {\n",
    "            \"role\": \"user\",\n",
    "            \"content\": \"부정적 예시: 뒤죽박죽인 들여쓰기로 가독성이 떨어지고, 함수명이 너무 길어서 이해하기 어렵습니다.\",\n",
    "        },\n",
    "        {\n",
    "            \"role\": \"user\",\n",
    "            \"content\": prompt,\n",
    "        },\n",
    "    ],\n",
    ")\n",
    "\n",
    "print(completion.choices[0].message.content)"
   ]
  },
  {
   "cell_type": "markdown",
   "metadata": {},
   "source": [
    "## ex"
   ]
  },
  {
   "cell_type": "code",
   "execution_count": 3,
   "metadata": {},
   "outputs": [
    {
     "name": "stdout",
     "output_type": "stream",
     "text": [
      "숫자의 팩토리얼을 구하는 함수를 작성하는 것은 매우 간단합니다. 팩토리얼은 주어진 양의 정수 `n`에 대해 1부터 `n`까지의 모든 정수를 곱한 값입니다. 아래는 이를 구현한 파이썬 함수입니다.\n",
      "\n",
      "```python\n",
      "def factorial(n):\n",
      "    if n < 0:\n",
      "        return \"음수의 팩토리얼은 정의되지 않습니다.\"\n",
      "    elif n == 0 or n == 1:\n",
      "        return 1\n",
      "    else:\n",
      "        result = 1\n",
      "        for i in range(2, n + 1):\n",
      "            result *= i\n",
      "        return result\n",
      "\n",
      "# 예시 사용\n",
      "input_number = 5\n",
      "output = factorial(input_number)\n",
      "print(f\"{input_number}의 팩토리얼은 {output}입니다.\") # 5의 팩토리얼은 120입니다.\n",
      "```\n",
      "\n",
      "위의 코드에서 `factorial` 함수는 다음과 같은 방식으로 작동합니다:\n",
      "\n",
      "1. 입력값이 음수인 경우 에러 메시지를 반환합니다.\n",
      "2. 입력값이 0 또는 1일 경우 팩토리얼 값으로 1을 반환합니다.\n",
      "3. 그 외의 경우에는 2부터 입력값 `n`까지 반복하여 곱해주고 결과를 반환합니다.\n",
      "\n",
      "위의 예시에서 `factorial(5)`를 호출하면 120이 출력됩니다.\n"
     ]
    }
   ],
   "source": [
    "prompt = (\n",
    "    \"숫자의 팩토리얼을 구하는 함수를 작성해주세요.\"\n",
    "    \"예시:\\n\"\n",
    "    \"입력: 5\\n\"\n",
    "    \"출력: 120\"\n",
    "    \"함수코드:\"\n",
    "    \n",
    ")\n",
    "\n",
    "completion = client.chat.completions.create(\n",
    "    model=\"gpt-4o-mini-2024-07-18\",\n",
    "    messages=[\n",
    "        {\"role\": \"system\", \"content\": \"당신은 파이썬 코딩을 가르치는 코딩 튜터입니다.\"},\n",
    "        {\"role\": \"user\", \"content\": prompt},\n",
    "    ],\n",
    ")\n",
    "print(completion.choices[0].message.content)"
   ]
  },
  {
   "cell_type": "markdown",
   "metadata": {},
   "source": [
    "부가 정보 제공"
   ]
  },
  {
   "cell_type": "code",
   "execution_count": null,
   "metadata": {},
   "outputs": [],
   "source": []
  },
  {
   "cell_type": "markdown",
   "metadata": {},
   "source": [
    "피드백 및 조정"
   ]
  },
  {
   "cell_type": "code",
   "execution_count": null,
   "metadata": {},
   "outputs": [],
   "source": []
  },
  {
   "cell_type": "markdown",
   "metadata": {},
   "source": [
    "## ex 지시관리\n",
    "\n",
    "응답 형식과 길이를 명확히 지시"
   ]
  },
  {
   "cell_type": "code",
   "execution_count": 4,
   "metadata": {},
   "outputs": [
    {
     "name": "stdout",
     "output_type": "stream",
     "text": [
      "인공지능은 컴퓨터로 인간의 다양한 능력을 구현한 기술이다.\n"
     ]
    }
   ],
   "source": [
    "prompt = \"\"\"\n",
    "    다음 텍스트의 주요 포인트를  50자이내로 요약해 주세요:\n",
    "    인공지능(ai)은 인간의 학습능력, 추론능력, 지각능력, 자연어 이해능력 등을 컴퓨터 프로그램으로 실현한 기술을 말한다.\n",
    "    개인 맞춤형 추천 서비스, 언어 번역, 음성인식, 자율주행 자동차, 의료 진단 등 다양한 분야에서 활용되고 있다.\n",
    "\"\"\"\n",
    "\n",
    "completion = client.chat.completions.create(\n",
    "    model=\"gpt-4o-mini-2024-07-18\",\n",
    "    messages=[\n",
    "        {\"role\": \"system\", \"content\": \"당신은 인공지능을 학습하는 대학원생입니다.\"},\n",
    "        {\"role\": \"user\", \"content\": prompt},\n",
    "    ],\n",
    ")\n",
    "\n",
    "print(completion.choices[0].message.content)"
   ]
  },
  {
   "cell_type": "code",
   "execution_count": 6,
   "metadata": {},
   "outputs": [
    {
     "name": "stdout",
     "output_type": "stream",
     "text": [
      "인공지능(AI)은 인간의 다양한 인지 능력을 컴퓨터 프로그램으로 구현한 기술을 의미합니다. 이는 인간의 학습 능력, 추론 능력, 지각 능력, 그리고 자연어 이해 능력을 포함하며, 이러한 특성들은 AI의 기본적인 기능과 목적을 형성합니다. AI는 현재 여러 분야에서 활용되고 있으며, 그 중 일부 예로는 개인 맞춤형 추천 서비스, 언어 번역, 음성 인식, 자율주행 자동차, 그리고 의료 진단 등이 있습니다. 개인 맞춤형 추천 서비스는 사용자의 취향이나 행동 데이터를 분석하여 최적의 콘텐츠나 제품을 제안하는 방식으로, 사용자 경험을 향상시킵니다. 언어 번역은 서로 다른 언어 간의 의사소통을 원활하게 해주며, 음성 인식 기술은 음성을 텍스트로 변환하여 다양한 장치와의 상호작용을 가능하게 합니다. 자율주행 자동차는 AI 기술을 통해 주변 환경을 인지하고 안전하게 주행할 수 있으며, 의료 진단에서는 AI가 질병을 조기에 발견하거나 진단을 도와 의사의 판단을 보완합니다. 이처럼 AI는 우리의 삶에 깊숙이 자리 잡고 있으며, 다양한 산업에서 혁신적인 변화를 가져오고 있습니다.\n"
     ]
    }
   ],
   "source": [
    "prompt = \"\"\"\n",
    "    다음 텍스트의 주요 포인트를  1000자이내로 설명해 주세요:\n",
    "    인공지능(ai)은 인간의 학습능력, 추론능력, 지각능력, 자연어 이해능력 등을 컴퓨터 프로그램으로 실현한 기술을 말한다.\n",
    "    개인 맞춤형 추천 서비스, 언어 번역, 음성인식, 자율주행 자동차, 의료 진단 등 다양한 분야에서 활용되고 있다.\n",
    "\"\"\"\n",
    "\n",
    "completion = client.chat.completions.create(\n",
    "    model=\"gpt-4o-mini-2024-07-18\",\n",
    "    messages=[\n",
    "        {\"role\": \"system\", \"content\": \"당신은 인공지능을 학습하는 대학원생입니다.\"},\n",
    "        {\"role\": \"user\", \"content\": prompt},\n",
    "    ],\n",
    ")\n",
    "\n",
    "print(completion.choices[0].message.content)"
   ]
  },
  {
   "cell_type": "code",
   "execution_count": null,
   "metadata": {},
   "outputs": [],
   "source": []
  }
 ],
 "metadata": {
  "kernelspec": {
   "display_name": "venv",
   "language": "python",
   "name": "python3"
  },
  "language_info": {
   "codemirror_mode": {
    "name": "ipython",
    "version": 3
   },
   "file_extension": ".py",
   "mimetype": "text/x-python",
   "name": "python",
   "nbconvert_exporter": "python",
   "pygments_lexer": "ipython3",
   "version": "3.10.11"
  }
 },
 "nbformat": 4,
 "nbformat_minor": 2
}
