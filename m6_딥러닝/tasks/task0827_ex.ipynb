{
 "cells": [
  {
   "cell_type": "markdown",
   "metadata": {},
   "source": [
    "Task1_0827. 2행 3열 텐서의 크기를 3행 2열로 변경하세요.\n",
    "- view 사용\n",
    "- reshape 사용\n",
    "- transpose 사용"
   ]
  },
  {
   "cell_type": "code",
   "execution_count": 1,
   "metadata": {},
   "outputs": [
    {
     "name": "stdout",
     "output_type": "stream",
     "text": [
      "tensor([[0.3824, 0.1110, 0.4113],\n",
      "        [0.2812, 0.8575, 0.9967]])\n",
      "torch.Size([2, 3])\n"
     ]
    }
   ],
   "source": [
    "import torch\n",
    "\n",
    "t = torch.rand(2, 3)\n",
    "print(t)\n",
    "print(t.size())"
   ]
  },
  {
   "cell_type": "code",
   "execution_count": 3,
   "metadata": {},
   "outputs": [
    {
     "name": "stdout",
     "output_type": "stream",
     "text": [
      "tensor([[0.6031, 0.4349],\n",
      "        [0.4523, 0.6357],\n",
      "        [0.0878, 0.2939]])\n",
      "torch.Size([3, 2])\n"
     ]
    }
   ],
   "source": [
    "# view\n",
    "\n",
    "v = t.view(3, -1)\n",
    "print(v)\n",
    "print(v.size())"
   ]
  },
  {
   "cell_type": "code",
   "execution_count": 5,
   "metadata": {},
   "outputs": [
    {
     "name": "stdout",
     "output_type": "stream",
     "text": [
      "tensor([[0.6031, 0.4349],\n",
      "        [0.4523, 0.6357],\n",
      "        [0.0878, 0.2939]])\n",
      "torch.Size([3, 2])\n"
     ]
    }
   ],
   "source": [
    "# reshape\n",
    "\n",
    "r = t.reshape(3, -1)\n",
    "print(r)\n",
    "print(r.size())"
   ]
  },
  {
   "cell_type": "code",
   "execution_count": 12,
   "metadata": {},
   "outputs": [
    {
     "name": "stdout",
     "output_type": "stream",
     "text": [
      "tensor([[0.6031, 0.6357],\n",
      "        [0.4349, 0.0878],\n",
      "        [0.4523, 0.2939]])\n",
      "torch.Size([3, 2])\n"
     ]
    }
   ],
   "source": [
    "# transpose\n",
    "\n",
    "tr = t.transpose(-2,1)\n",
    "print(tr)\n",
    "print(tr.size())"
   ]
  },
  {
   "cell_type": "markdown",
   "metadata": {},
   "source": [
    "# ex"
   ]
  },
  {
   "cell_type": "code",
   "execution_count": 3,
   "metadata": {},
   "outputs": [
    {
     "name": "stdout",
     "output_type": "stream",
     "text": [
      "original tensor:  torch.Size([2, 3])\n",
      "viewed tensor:  torch.Size([3, 2])\n",
      "reshaped tensor:  torch.Size([3, 2])\n",
      "transposed tensor:  torch.Size([3, 2])\n"
     ]
    }
   ],
   "source": [
    "import torch\n",
    "\n",
    "tensor = torch.randn(2,3)\n",
    "print(\"original tensor: \", tensor.shape)\n",
    "\n",
    "viewed_tensor = tensor.view(3,2)\n",
    "print(\"viewed tensor: \", viewed_tensor.shape)\n",
    "\n",
    "# reshape는 view와 같은 역할을 하지만, 메모리를 새로 할당한다.\n",
    "reshaped_tensor = tensor.reshape(3,2)\n",
    "print(\"reshaped tensor: \", reshaped_tensor.shape)\n",
    "\n",
    "transposed_tensor = tensor.transpose(0,1) #행과 열을 바꿔줌\n",
    "print(\"transposed tensor: \", transposed_tensor.shape)"
   ]
  },
  {
   "cell_type": "code",
   "execution_count": null,
   "metadata": {},
   "outputs": [],
   "source": []
  }
 ],
 "metadata": {
  "kernelspec": {
   "display_name": "venv",
   "language": "python",
   "name": "python3"
  },
  "language_info": {
   "codemirror_mode": {
    "name": "ipython",
    "version": 3
   },
   "file_extension": ".py",
   "mimetype": "text/x-python",
   "name": "python",
   "nbconvert_exporter": "python",
   "pygments_lexer": "ipython3",
   "version": "3.10.11"
  }
 },
 "nbformat": 4,
 "nbformat_minor": 2
}
