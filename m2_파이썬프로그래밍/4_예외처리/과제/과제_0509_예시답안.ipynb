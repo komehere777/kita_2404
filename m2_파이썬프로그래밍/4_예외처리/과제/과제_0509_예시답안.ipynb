{
  "nbformat": 4,
  "nbformat_minor": 0,
  "metadata": {
    "colab": {
      "provenance": []
    },
    "kernelspec": {
      "name": "python3",
      "display_name": "Python 3"
    },
    "language_info": {
      "name": "python"
    }
  },
  "cells": [
    {
      "cell_type": "markdown",
      "source": [
        "Task1_0509. 주어진 텍스트에서 문자 빈도를 아래와 같이 출력하세요.(사용자 함수 사용)\n",
        "\n",
        "가장 많이 나온 문자 5개를 뽑아 봤습니다.\\\n",
        "[e] -> [97]회 나타남\\\n",
        "[t] -> [85]회 나타남\\\n",
        "[a] -> [78]회 나타남\\\n",
        "[o] -> [73]회 나타남\\\n",
        "[s] -> [60]회 나타남"
      ],
      "metadata": {
        "id": "yWMqgxr_aPZ_"
      }
    },
    {
      "cell_type": "code",
      "execution_count": null,
      "metadata": {
        "colab": {
          "base_uri": "https://localhost:8080/"
        },
        "id": "Yqce-QJ0aHk_",
        "outputId": "a849f026-eb5b-4b35-b826-14a5d6ee3bd0"
      },
      "outputs": [
        {
          "output_type": "stream",
          "name": "stdout",
          "text": [
            "\n",
            "a lot of things occur each day\n",
            "we've got to live with on our way\n",
            "there's so much misery on the screen\n",
            "with commercials in between\n",
            "\n",
            "and the russians won't be so late\n",
            "uncle sam don't want to wait\n",
            "no matter if you're black or white\n",
            "you never ever had a right\n",
            "\n",
            "and look up to the eternal skies\n",
            "see warfare even there\n",
            "what once has been a paradise\n",
            "now destruction and despair\n",
            "\n",
            "in other worlds the children die\n",
            "lacking food ill from a fly\n",
            "oppressed by troops to tame their land\n",
            "it's all the same again\n",
            "\n",
            "\n",
            "if any man is free on earth\n",
            "then tormentors steal his birth\n",
            "they slam gun butts in his face\n",
            "and leave his woman choked in mace\n",
            "\n",
            "so stand up for our human rights\n",
            "push back this pest of hate\n",
            "raise you voice pass on the light\n",
            "unite! it's not too late\n",
            "\n",
            "how many tears flow away\n",
            "to become a sea of fears\n",
            "how many hearts are torn apart\n",
            "till another torment starts\n",
            "\n",
            "but before the world\n",
            "turns into a sun\n",
            "all cruelty and violence\n",
            "on earth will be dead and gone\n",
            "\n",
            "so stand up for our human rights\n",
            "push back this pest of hate\n",
            "raise you voice pass on the light\n",
            "unite! it's not too late\n",
            "\n"
          ]
        }
      ],
      "source": [
        "with open('mydata.txt','w') as f:\n",
        "    f.write(\n",
        "'''\n",
        "a lot of things occur each day\n",
        "we've got to live with on our way\n",
        "there's so much misery on the screen\n",
        "with commercials in between\n",
        "\n",
        "and the russians won't be so late\n",
        "uncle sam don't want to wait\n",
        "no matter if you're black or white\n",
        "you never ever had a right\n",
        "\n",
        "and look up to the eternal skies\n",
        "see warfare even there\n",
        "what once has been a paradise\n",
        "now destruction and despair\n",
        "\n",
        "in other worlds the children die\n",
        "lacking food ill from a fly\n",
        "oppressed by troops to tame their land\n",
        "it's all the same again\n",
        "\n",
        "\n",
        "if any man is free on earth\n",
        "then tormentors steal his birth\n",
        "they slam gun butts in his face\n",
        "and leave his woman choked in mace\n",
        "\n",
        "so stand up for our human rights\n",
        "push back this pest of hate\n",
        "raise you voice pass on the light\n",
        "unite! it's not too late\n",
        "\n",
        "how many tears flow away\n",
        "to become a sea of fears\n",
        "how many hearts are torn apart\n",
        "till another torment starts\n",
        "\n",
        "but before the world\n",
        "turns into a sun\n",
        "all cruelty and violence\n",
        "on earth will be dead and gone\n",
        "\n",
        "so stand up for our human rights\n",
        "push back this pest of hate\n",
        "raise you voice pass on the light\n",
        "unite! it's not too late\n",
        "''')\n",
        "with open('mydata.txt', 'r') as f:\n",
        "    data = f.read()\n",
        "    print(data)\n",
        "\n"
      ]
    },
    {
      "cell_type": "code",
      "source": [
        "with open('mydata.txt','w') as f:\n",
        "    f.write(\n",
        "'''\n",
        "a lot of things occur each day\n",
        "we've got to live with on our way\n",
        "there's so much misery on the screen\n",
        "with commercials in between\n",
        "\n",
        "and the russians won't be so late\n",
        "uncle sam don't want to wait\n",
        "no matter if you're black or white\n",
        "you never ever had a right\n",
        "\n",
        "and look up to the eternal skies\n",
        "see warfare even there\n",
        "what once has been a paradise\n",
        "now destruction and despair\n",
        "\n",
        "in other worlds the children die\n",
        "lacking food ill from a fly\n",
        "oppressed by troops to tame their land\n",
        "it's all the same again\n",
        "\n",
        "\n",
        "if any man is free on earth\n",
        "then tormentors steal his birth\n",
        "they slam gun butts in his face\n",
        "and leave his woman choked in mace\n",
        "\n",
        "so stand up for our human rights\n",
        "push back this pest of hate\n",
        "raise you voice pass on the light\n",
        "unite! it's not too late\n",
        "\n",
        "how many tears flow away\n",
        "to become a sea of fears\n",
        "how many hearts are torn apart\n",
        "till another torment starts\n",
        "\n",
        "but before the world\n",
        "turns into a sun\n",
        "all cruelty and violence\n",
        "on earth will be dead and gone\n",
        "\n",
        "so stand up for our human rights\n",
        "push back this pest of hate\n",
        "raise you voice pass on the light\n",
        "unite! it's not too late\n",
        "''')\n",
        "\n",
        "with open('mydata.txt', 'r') as f:\n",
        "    data = f.read()\n",
        "\n",
        "words_list = data\n",
        "words_list = data.replace(',','').replace('.','').replace('\\n','').replace(\"'\",'').replace('!','').replace(' ','').lower()\n",
        "words_freq = {}\n",
        "for word in words_list:\n",
        "    if word in words_freq:\n",
        "        words_freq[word] += 1\n",
        "    else:\n",
        "        words_freq[word] = 1\n",
        "\n",
        "result = sorted(words_freq.items(), key=lambda x : x[1] , reverse=True)\n",
        "for i in range(min(5, len(result))):\n",
        "    word, count = result[i]\n",
        "    print(f'[{word}] -> [{count}]회 나타남')"
      ],
      "metadata": {
        "colab": {
          "base_uri": "https://localhost:8080/"
        },
        "id": "KK3Wky7zmx4p",
        "outputId": "13e75a83-ad76-4df6-8b0f-00c0f9cf7c0b"
      },
      "execution_count": 2,
      "outputs": [
        {
          "output_type": "stream",
          "name": "stdout",
          "text": [
            "[e] -> [97]회 나타남\n",
            "[t] -> [85]회 나타남\n",
            "[a] -> [78]회 나타남\n",
            "[o] -> [73]회 나타남\n",
            "[n] -> [60]회 나타남\n"
          ]
        }
      ]
    },
    {
      "cell_type": "code",
      "source": [
        "import re\n",
        "\n",
        "def analysis_txt(filename):\n",
        "    with open(filename, 'r') as f:\n",
        "        data = f.read()\n",
        "    words_list = data\n",
        "    words_list = re.sub(r'[ ,.\\n\\']', '', words_list).lower()\n",
        "    words_freq = {}\n",
        "    for word in words_list:\n",
        "        if word in words_freq:\n",
        "            words_freq[word] += 1\n",
        "        else:\n",
        "            words_freq[word] = 1\n",
        "\n",
        "    result = sorted(words_freq.items(), key=lambda x : x[1] , reverse=True)\n",
        "    for i in range(min(5, len(result))):\n",
        "        word, count = result[i]\n",
        "        print(f'[{word}] -> [{count}]회 나타남')\n",
        "\n",
        "analysis_txt('mydata.txt')"
      ],
      "metadata": {
        "colab": {
          "base_uri": "https://localhost:8080/"
        },
        "id": "4eV7F-PwtXiq",
        "outputId": "462ad60a-2eb9-4c9c-9ad4-86768a072d07"
      },
      "execution_count": 3,
      "outputs": [
        {
          "output_type": "stream",
          "name": "stdout",
          "text": [
            "[e] -> [97]회 나타남\n",
            "[t] -> [85]회 나타남\n",
            "[a] -> [78]회 나타남\n",
            "[o] -> [73]회 나타남\n",
            "[n] -> [60]회 나타남\n"
          ]
        }
      ]
    },
    {
      "cell_type": "code",
      "source": [
        "import re\n",
        "\n",
        "with open('mydata.txt', 'r') as f:\n",
        "    data = f.read()\n",
        "words_list = data\n",
        "words_list = re.sub(r'[,.\\n\\']', '', data).lower().split() #단어기준\n",
        "char_list = re.sub(r'[ ,.\\n\\']', '', data)  #문자기준\n",
        "\n",
        "print(len(data))\n",
        "print(len(char_list))\n",
        "print(len(words_list))"
      ],
      "metadata": {
        "colab": {
          "base_uri": "https://localhost:8080/"
        },
        "id": "CErJ932g2lAz",
        "outputId": "dff53062-ad3e-44f4-df3e-d5ef6529c736"
      },
      "execution_count": 7,
      "outputs": [
        {
          "output_type": "stream",
          "name": "stdout",
          "text": [
            "1073\n",
            "842\n",
            "178\n"
          ]
        }
      ]
    },
    {
      "cell_type": "markdown",
      "source": [
        "Task2_0509.  람다함수와 적합한 내장함수를 사용하여 아래와 같이 출력하세요.\n",
        "\n",
        "[1,2,3,4,5] -> [1,4,9,16,25]\\\n",
        "[1,2,3,4,5] -> [1,2]"
      ],
      "metadata": {
        "id": "NAnvKuhzypTg"
      }
    },
    {
      "cell_type": "code",
      "source": [
        "list1 = [1,2,3,4,5]\n",
        "print(list(map(lambda x: x*x,list1)))\n",
        "print(list(filter(lambda x: x<3, list1)))"
      ],
      "metadata": {
        "colab": {
          "base_uri": "https://localhost:8080/"
        },
        "id": "LJTnIuS2yqRz",
        "outputId": "9ad240ff-5d72-4b76-f926-a4c3af15477d"
      },
      "execution_count": null,
      "outputs": [
        {
          "output_type": "stream",
          "name": "stdout",
          "text": [
            "[1, 4, 9, 16, 25]\n",
            "[1, 2]\n"
          ]
        }
      ]
    },
    {
      "cell_type": "markdown",
      "source": [
        "Task3_0509. [1,-3,2,0,-5,6] 에서 양수만 필터링해서 출력하세요(내장함수, 사용자함수 각각 이용)"
      ],
      "metadata": {
        "id": "a70XJgdny103"
      }
    },
    {
      "cell_type": "code",
      "source": [
        "list2 = [1,-3,2,0,-5,6]\n",
        "\n",
        "#내장함수 사용\n",
        "print(f\"내장함수 사용시: {list(filter(lambda x:x>0, list2))}\")\n",
        "\n",
        "#사용자함수 사용\n",
        "def positive_num(l):\n",
        "    res = []\n",
        "    for i in l:\n",
        "        if i > 0:\n",
        "            res.append(i)\n",
        "    return res\n",
        "\n",
        "print(f\"사용자 함수 사용시: {positive_num(list2)}\")\n",
        "\n",
        "# list complehension\n",
        "print([i for i in list2 if i > 0])"
      ],
      "metadata": {
        "colab": {
          "base_uri": "https://localhost:8080/"
        },
        "id": "ikBGIo87y35q",
        "outputId": "9780c8c8-f466-4449-8916-795afc3ac501"
      },
      "execution_count": 8,
      "outputs": [
        {
          "output_type": "stream",
          "name": "stdout",
          "text": [
            "내장함수 사용시: [1, 2, 6]\n",
            "사용자 함수 사용시: [1, 2, 6]\n",
            "[1, 2, 6]\n"
          ]
        }
      ]
    },
    {
      "cell_type": "markdown",
      "source": [
        "Task4_0509. **args를 이용하여 아래와 같이 출력할 수 있는 사용자 함수 func2를 작성하세요.\n",
        "\n",
        "Width: 100\\\n",
        "Height: 200\\\n",
        "Other arguments: {'color': 'red', 'thickness': 5}\n",
        "\n",
        "Width: 100\\\n",
        "Height: 200\\\n",
        "Other arguments: {'color': 'red', 'thickness': 5, 'type': 'large'}"
      ],
      "metadata": {
        "id": "XB4ktnnl6dJ9"
      }
    },
    {
      "cell_type": "code",
      "source": [
        "def func2(width, height, **kwargs):\n",
        "    print(f\"Width: {width}\")\n",
        "    print(f\"Height: {height}\")\n",
        "    print(f\"Other arguments: {kwargs}\")\n",
        "\n",
        "func2(100, 200, color='red', thickness=5)\n",
        "func2(100, 200, color='red', thickness=5, type='large')"
      ],
      "metadata": {
        "colab": {
          "base_uri": "https://localhost:8080/"
        },
        "id": "stUIrMvN77Zt",
        "outputId": "2bd99748-a28a-4dc9-bf1e-055c3fb90dbd"
      },
      "execution_count": null,
      "outputs": [
        {
          "output_type": "stream",
          "name": "stdout",
          "text": [
            "Width: 100\n",
            "Height: 200\n",
            "Other arguments: {'color': 'red', 'thickness': 5}\n",
            "Width: 100\n",
            "Height: 200\n",
            "Other arguments: {'color': 'red', 'thickness': 5, 'type': 'large'}\n"
          ]
        }
      ]
    },
    {
      "cell_type": "markdown",
      "source": [
        "Task5_0509. 아래와 같은 결과를 얻을 수 있도록 사용자 함수 func3를 작성하세요.\n",
        "\n",
        "Width: 100, Height: 200, Color: blue, Thickness: 1\\\n",
        "Width: 100, Height: 200, Color: red, Thickness: 15"
      ],
      "metadata": {
        "id": "mwNurJfH770h"
      }
    },
    {
      "cell_type": "code",
      "source": [
        "def func3(width, height, color, thickness):\n",
        "    print(f\"Width:{width}, Height:{height}, Color:{color}, Thickness:{thickness}\")\n",
        "\n",
        "func3(100, 200, 'blue', 1)\n",
        "func3(100, 200, 'red', 15)"
      ],
      "metadata": {
        "colab": {
          "base_uri": "https://localhost:8080/"
        },
        "id": "J8rl8AWM7-Ew",
        "outputId": "9d11ac86-6b23-4d98-e12f-a4fcdd327da9"
      },
      "execution_count": null,
      "outputs": [
        {
          "output_type": "stream",
          "name": "stdout",
          "text": [
            "Width:100, Height:200, Color:blue, Thickness:1\n",
            "Width:100, Height:200, Color:red, Thickness:15\n"
          ]
        }
      ]
    },
    {
      "cell_type": "markdown",
      "source": [
        "Task6_0509. 입력으로 들어오는 모든 수의 평균 값을 계산해 주는 함수를 작성한 후 1,2,3을 입력한 결과를 출력하세요."
      ],
      "metadata": {
        "id": "EVYOV2zo7-rE"
      }
    },
    {
      "cell_type": "code",
      "source": [
        "def avg(*args):\n",
        "    total = 0\n",
        "    for i in args:\n",
        "        total += i\n",
        "    return (total/len(args))\n",
        "\n",
        "print(avg(1,2,3))"
      ],
      "metadata": {
        "colab": {
          "base_uri": "https://localhost:8080/"
        },
        "id": "Ux71mj3I8BHa",
        "outputId": "27b44a93-0087-4f08-c8e1-206892b60747"
      },
      "execution_count": null,
      "outputs": [
        {
          "output_type": "stream",
          "name": "stdout",
          "text": [
            "2.0\n"
          ]
        }
      ]
    },
    {
      "cell_type": "code",
      "source": [
        "#ex - 생각을 간단하게 하자\n",
        "def cal_average(*args):\n",
        "    return( sum(args) / len(args))\n",
        "\n",
        "print(cal_average(1,23,4,5))"
      ],
      "metadata": {
        "colab": {
          "base_uri": "https://localhost:8080/"
        },
        "id": "vtAtpVqq-eR7",
        "outputId": "16958878-4f55-4024-d0eb-7f2a1737a1b1"
      },
      "execution_count": 11,
      "outputs": [
        {
          "output_type": "stream",
          "name": "stdout",
          "text": [
            "8.25\n"
          ]
        }
      ]
    },
    {
      "cell_type": "markdown",
      "source": [
        "Task7_0509. 원의 면적과 둘레의 길이를 구하는 사용자 함수를 작성하여 반지름이 5와 10일때 면적과 둘레를 구하세요(반올림:round())"
      ],
      "metadata": {
        "id": "WHxiOCFN8B6v"
      }
    },
    {
      "cell_type": "code",
      "source": [
        "import math\n",
        "def circle(r): #area_circumference\n",
        "    space = round(math.pi * r * r)\n",
        "    length = round(2 * 3.14 * r)\n",
        "    print(f\"반지름 {r}일때 원의 면적: {space}\")\n",
        "    print(f\"반지름 {r}일때 원의 둘레: {length}\")  # round(circomference,2)\n",
        "\n",
        "circle(5)\n",
        "circle(10)\n"
      ],
      "metadata": {
        "colab": {
          "base_uri": "https://localhost:8080/"
        },
        "id": "earl0ni58Dbv",
        "outputId": "73a905b8-fb16-40d4-ab9a-992edbe38e81"
      },
      "execution_count": 12,
      "outputs": [
        {
          "output_type": "stream",
          "name": "stdout",
          "text": [
            "반지름 5일때 원의 면적: 79\n",
            "반지름 5일때 원의 둘레: 31\n",
            "반지름 10일때 원의 면적: 314\n",
            "반지름 10일때 원의 둘레: 63\n"
          ]
        }
      ]
    },
    {
      "cell_type": "markdown",
      "source": [
        "Task8_0509. 게시물의 총 건수와 한 페이지에 보여 줄 게시물 수를 입력시 총 페이지 수를 출력하는 프로그램을 작성하세요."
      ],
      "metadata": {
        "id": "RIL3qtOy8EQO"
      }
    },
    {
      "cell_type": "code",
      "source": [
        "import math\n",
        "articles = int(input(\"게시물의 총 건수: \"))\n",
        "view_num = int(input(\"한페이지에 보여줄 게시물수: \"))\n",
        "page_num = math.ceil(articles / view_num)\n",
        "print(f\"총페이지수: {page_num}\")\n"
      ],
      "metadata": {
        "colab": {
          "base_uri": "https://localhost:8080/"
        },
        "id": "MkL8oJ7N-xGx",
        "outputId": "72974e7e-3ef3-4ce5-ad64-ee74246aec30"
      },
      "execution_count": null,
      "outputs": [
        {
          "output_type": "stream",
          "name": "stdout",
          "text": [
            "게시물의 총 건수: 10\n",
            "한페이지에 보여줄 게시물수: 3\n",
            "총페이지수: 4\n"
          ]
        }
      ]
    },
    {
      "cell_type": "code",
      "source": [
        "#입력값, 결과값이 모두 있는 함수\n",
        "def max(a,b,c):\n",
        "    if a>b:\n",
        "        if a>c:\n",
        "            return a\n",
        "        elif a<c:\n",
        "            return c\n",
        "    if a<b:\n",
        "        if b>c:\n",
        "            return b\n",
        "        else:\n",
        "            return c\n",
        "\n",
        "print(\"max number is %d\"%(max(20,1,30)))\n",
        "max(10,20,30)"
      ],
      "metadata": {
        "id": "s4ctXHrj-31-"
      },
      "execution_count": null,
      "outputs": []
    },
    {
      "cell_type": "markdown",
      "source": [
        "Task9_0509. 위의 문제를 *args를 사용한 사용자 함수 bignum을 작성하여 bignum(20,1,30)과 bignum(20,10,50,70, 100)의 결과를 출력하세요."
      ],
      "metadata": {
        "id": "cecPXlnR-xgZ"
      }
    },
    {
      "cell_type": "code",
      "source": [
        "def bignum(*args):\n",
        "    big = args[0]\n",
        "    for i in args[1:]:\n",
        "        if i > big:\n",
        "            big = i\n",
        "    return big\n",
        "\n",
        "print(f\"가장 큰수는 {bignum(20,1,30)}이다.\")\n",
        "print(f\"가장 큰수는 {bignum(20,10,50,70, 100)}이다.\")"
      ],
      "metadata": {
        "colab": {
          "base_uri": "https://localhost:8080/"
        },
        "id": "7G_co7H4_N_5",
        "outputId": "60307b17-f29d-4550-e035-f82a6b9e0e7f"
      },
      "execution_count": 13,
      "outputs": [
        {
          "output_type": "stream",
          "name": "stdout",
          "text": [
            "가장 큰수는 30이다.\n",
            "가장 큰수는 100이다.\n"
          ]
        }
      ]
    },
    {
      "cell_type": "code",
      "source": [
        "#ex\n",
        "def bignum(*args):\n",
        "    return max(args)\n",
        "print(f\"가장 큰수는 {bignum(20,1,30)}이다.\")\n",
        "print(f\"가장 큰수는 {bignum(20,10,50,70, 100)}이다.\")"
      ],
      "metadata": {
        "colab": {
          "base_uri": "https://localhost:8080/"
        },
        "id": "N22AWSfwDAJZ",
        "outputId": "b8bd92ef-a402-41d8-f007-01524367cce7"
      },
      "execution_count": 14,
      "outputs": [
        {
          "output_type": "stream",
          "name": "stdout",
          "text": [
            "가장 큰수는 30이다.\n",
            "가장 큰수는 100이다.\n"
          ]
        }
      ]
    },
    {
      "cell_type": "code",
      "source": [
        "def math(x, y, z):\n",
        "    if z == '*':\n",
        "        return x * y\n",
        "    elif z == '/':\n",
        "        return x / y\n",
        "    elif z == '+':\n",
        "        return x + y\n",
        "    elif z == '%':\n",
        "        return x % y\n",
        "    elif z == '^':\n",
        "        return x ^ y\n",
        "    elif z == '-':\n",
        "        return x - y\n",
        "    elif z == '//':\n",
        "        return x // y\n",
        "    else:\n",
        "        return\n",
        "\n",
        "print(math(int(input(\"숫자1 : \")), int(input(\"숫자2 : \")), input('기호 : ')))"
      ],
      "metadata": {
        "id": "xF5Vknn6BFRN"
      },
      "execution_count": null,
      "outputs": []
    },
    {
      "cell_type": "markdown",
      "source": [
        "Task10_0509. 위의 계산을 연산자를 choice로 가변적인 숫자들을 *args로 사용한 사용자 함수 cal을 이용하여 다음을 수행하세요.\n",
        "\n",
        "cal('*',1,2,3,4,5)\\\n",
        "cal('+',1,2,3,4,5,6,7)\\\n",
        "cal('-',1,2,3)\\\n",
        "cal('/',10,2)"
      ],
      "metadata": {
        "id": "j1f2dFvsBF9S"
      }
    },
    {
      "cell_type": "code",
      "source": [
        "def cal(choice, *args):\n",
        "    if choice == '+':\n",
        "        result = 0\n",
        "        for i in args:\n",
        "            result += i\n",
        "        return result\n",
        "    elif choice == '-':\n",
        "        result = 0\n",
        "        for i in args:\n",
        "            result -= i\n",
        "        return result\n",
        "    elif choice == '*':\n",
        "        result = 1\n",
        "        for i in args:\n",
        "            result *= i\n",
        "        return result\n",
        "    else:\n",
        "        try:\n",
        "            result = args[0]\n",
        "            for i in args[1:]:\n",
        "                result /= i\n",
        "            return result\n",
        "        except ZeroDivisionError:\n",
        "            print(\"0이 포함되어있습니다.\")\n",
        "\n",
        "# print(cal('*',1,2,3,4,5))\n",
        "# print(cal('+',1,2,3,4,5,6,7))\n",
        "# print(cal('-',1,2,3))\n",
        "# print(cal('/',10,2,2))\n",
        "print(cal('/',10,2,2,0))"
      ],
      "metadata": {
        "colab": {
          "base_uri": "https://localhost:8080/"
        },
        "id": "dr88wK7QBu6J",
        "outputId": "bf629148-5a3b-4e54-aef4-f07f5f717ad4"
      },
      "execution_count": null,
      "outputs": [
        {
          "output_type": "stream",
          "name": "stdout",
          "text": [
            "0이 포함되어있습니다.\n",
            "None\n"
          ]
        }
      ]
    },
    {
      "cell_type": "code",
      "source": [
        "#ex\n",
        "def cal(choice, *args):\n",
        "    result = args[0]\n",
        "    for i in args[1:]:\n",
        "        if choice == '+':\n",
        "            result += i\n",
        "        elif choice == '-':\n",
        "            result -= i\n",
        "        elif choice == '*':\n",
        "            result *= i\n",
        "        elif choice == '/':\n",
        "            try:\n",
        "                result = args[0]\n",
        "                for i in args[1:]:\n",
        "                    result /= i\n",
        "                return result\n",
        "            except ZeroDivisionError:\n",
        "                print(\"0이 포함되어있습니다.\")\n",
        "                return -1\n",
        "                #ZeroDivisionError걸리면 무슨 내용이라도 반환해야 함\n",
        "        else:\n",
        "            return \"계산할 수 있는 기호가 아닙니다.\"\n",
        "    return result\n",
        "\n",
        "print(cal('*',1,2,3,4,5))\n",
        "print(cal('+',1,2,3,4,5,6,7))\n",
        "print(cal('-',1,2,3))\n",
        "print(cal('/',10,2,2))\n",
        "print(cal('!',10,2,2))"
      ],
      "metadata": {
        "colab": {
          "base_uri": "https://localhost:8080/"
        },
        "id": "ksWD1f4mfZji",
        "outputId": "36767553-0a9d-48cf-a639-acdc95124471"
      },
      "execution_count": 16,
      "outputs": [
        {
          "output_type": "stream",
          "name": "stdout",
          "text": [
            "120\n",
            "28\n",
            "-4\n",
            "2.5\n",
            "계산할 수 있는 기호가 아닙니다.\n"
          ]
        }
      ]
    }
  ]
}