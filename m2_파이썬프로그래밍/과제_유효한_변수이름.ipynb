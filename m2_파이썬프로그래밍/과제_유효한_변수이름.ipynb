{
  "nbformat": 4,
  "nbformat_minor": 0,
  "metadata": {
    "colab": {
      "provenance": []
    },
    "kernelspec": {
      "name": "python3",
      "display_name": "Python 3"
    },
    "language_info": {
      "name": "python"
    }
  },
  "cells": [
    {
      "cell_type": "code",
      "execution_count": 1,
      "metadata": {
        "colab": {
          "base_uri": "https://localhost:8080/"
        },
        "id": "41j9YFQoxOXD",
        "outputId": "0758edfe-5f69-4410-853e-4be2b5970618"
      },
      "outputs": [
        {
          "output_type": "stream",
          "name": "stdout",
          "text": [
            "['var1', 'variable_name']\n"
          ]
        }
      ],
      "source": [
        "identifiers = [\"var1\", \"2things\", \"variable_name\", \"time!\"]\n",
        "\n",
        "for i in identifiers:\n",
        "    if i[0].isdigit() or not i.isalnum():\n",
        "        identifiers.remove(i)\n",
        "print(identifiers)"
      ]
    }
  ]
}