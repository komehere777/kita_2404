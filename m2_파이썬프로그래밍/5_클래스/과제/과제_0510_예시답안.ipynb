{
  "nbformat": 4,
  "nbformat_minor": 0,
  "metadata": {
    "colab": {
      "provenance": []
    },
    "kernelspec": {
      "name": "python3",
      "display_name": "Python 3"
    },
    "language_info": {
      "name": "python"
    }
  },
  "cells": [
    {
      "cell_type": "markdown",
      "source": [
        "Task1_0510. try ~ except, try ~ except ~ finally, try ~ except ~else, try ~ except ~else ~finally 4가지 예외 처리가 필요한 경우에 대해서 코딩을 수행하세요."
      ],
      "metadata": {
        "id": "RXiTX9ZaVb0D"
      }
    },
    {
      "cell_type": "code",
      "source": [
        "try:\n",
        "    a = int(input(\"enter a integer: \"))\n",
        "    print(a)\n",
        "except ValueError:\n",
        "    print(\"정수를 입력해주세요!\")"
      ],
      "metadata": {
        "id": "hUB6wlCpVbLq",
        "colab": {
          "base_uri": "https://localhost:8080/"
        },
        "outputId": "4158024d-e5d4-4bce-fb7f-393f88ddd040"
      },
      "execution_count": null,
      "outputs": [
        {
          "output_type": "stream",
          "name": "stdout",
          "text": [
            "enter a integer: a\n",
            "정수를 입력해주세요!\n"
          ]
        }
      ]
    },
    {
      "cell_type": "code",
      "source": [
        "try:\n",
        "    a = int(input(\"enter a integer: \"))\n",
        "    print(a)\n",
        "except ValueError:\n",
        "    print(\"정수를 입력해주세요!\")\n",
        "finally:\n",
        "    print(\"program ended!\")"
      ],
      "metadata": {
        "colab": {
          "base_uri": "https://localhost:8080/"
        },
        "id": "BVPiwqAmSudU",
        "outputId": "e4f23fea-3944-424c-95a1-cc6975eea0e3"
      },
      "execution_count": null,
      "outputs": [
        {
          "output_type": "stream",
          "name": "stdout",
          "text": [
            "enter a integer: a\n",
            "정수를 입력해주세요!\n",
            "program ended!\n"
          ]
        }
      ]
    },
    {
      "cell_type": "code",
      "source": [
        "try:\n",
        "    a = int(input(\"enter a integer: \"))\n",
        "except ValueError:\n",
        "    print(\"정수를 입력해주세요!\")\n",
        "else:\n",
        "    print(\"No error\")\n",
        "    print(a)"
      ],
      "metadata": {
        "colab": {
          "base_uri": "https://localhost:8080/"
        },
        "id": "bcMR9ywNS9c-",
        "outputId": "7a75ae2a-ef55-4162-b0b7-bf98ebb70db6"
      },
      "execution_count": null,
      "outputs": [
        {
          "output_type": "stream",
          "name": "stdout",
          "text": [
            "enter a integer: 1\n",
            "No error\n",
            "1\n"
          ]
        }
      ]
    },
    {
      "cell_type": "code",
      "source": [
        "try:\n",
        "    a = int(input(\"enter a integer: \"))\n",
        "except ValueError:\n",
        "    print(\"정수를 입력해주세요!\")\n",
        "else:\n",
        "    print(\"No error\")\n",
        "    print(a)\n",
        "finally:\n",
        "    print(\"program ended!\")"
      ],
      "metadata": {
        "colab": {
          "base_uri": "https://localhost:8080/"
        },
        "id": "LA81LYmsTM9-",
        "outputId": "8ba1c1fb-612c-46e3-e53c-558718abf410"
      },
      "execution_count": null,
      "outputs": [
        {
          "output_type": "stream",
          "name": "stdout",
          "text": [
            "enter a integer: 1\n",
            "No error\n",
            "1\n",
            "program ended!\n"
          ]
        }
      ]
    },
    {
      "cell_type": "markdown",
      "source": [
        "Task2_0510. 리스트 ['52','273','32','문자','103']에서 숫자 부분만 출력하세요(예외 처리 수행)"
      ],
      "metadata": {
        "id": "hkeboAqLVha3"
      }
    },
    {
      "cell_type": "code",
      "execution_count": null,
      "metadata": {
        "id": "Zqs70ukEVWwS",
        "colab": {
          "base_uri": "https://localhost:8080/"
        },
        "outputId": "220da9a2-145f-42fe-d03d-064e3556ca49"
      },
      "outputs": [
        {
          "output_type": "stream",
          "name": "stdout",
          "text": [
            "['52', '273', '32', '103']\n"
          ]
        }
      ],
      "source": [
        "li =  ['52','273','32','문자','103']\n",
        "try:\n",
        "    res = []\n",
        "    for i in li:\n",
        "        if int(i):\n",
        "            res.append(i)\n",
        "    print(res)\n",
        "except:\n",
        "    res = []\n",
        "    for i in li:\n",
        "        if i.isdigit():\n",
        "            res.append(i)\n",
        "    print(\"error occurred!\")\n",
        "    print(res)\n"
      ]
    },
    {
      "cell_type": "code",
      "source": [
        "#ex\n",
        "li =  ['52','273','32','문자','103']\n",
        "result = []\n",
        "for i in li:\n",
        "    try:\n",
        "        result.append(int(i))\n",
        "    except:\n",
        "        pass\n",
        "print(result)"
      ],
      "metadata": {
        "colab": {
          "base_uri": "https://localhost:8080/"
        },
        "id": "g5oewebPS8iz",
        "outputId": "25b4ed1a-3e03-49b7-a7b0-225b71d57a68"
      },
      "execution_count": null,
      "outputs": [
        {
          "output_type": "stream",
          "name": "stdout",
          "text": [
            "[52, 273, 32, 103]\n"
          ]
        }
      ]
    },
    {
      "cell_type": "markdown",
      "source": [
        "Task3_0510. 두가지 시나리오를 예외처리를 하여 코드 작업을 수행하세요\n",
        "- 정수를 입력하면 > '예외 발생하지 않음' > '프로그램 종료'\n",
        "- 정수를 입력하지 않으면 > '정수 아님' > '프로그램 종료'"
      ],
      "metadata": {
        "id": "iKUfv2kVVip_"
      }
    },
    {
      "cell_type": "code",
      "source": [
        "try:\n",
        "    i = int(input('enter a integer: '))\n",
        "except:\n",
        "    print('not integer!')\n",
        "else:\n",
        "    print('No error!')\n",
        "    print(i)\n",
        "finally:\n",
        "    print('program ended~')"
      ],
      "metadata": {
        "id": "e0sjPo_TVh-Z",
        "colab": {
          "base_uri": "https://localhost:8080/"
        },
        "outputId": "e182927f-f81e-429a-c8e9-3f62174426ca"
      },
      "execution_count": null,
      "outputs": [
        {
          "output_type": "stream",
          "name": "stdout",
          "text": [
            "enter a integer: a\n",
            "not integer!\n",
            "program ended~\n"
          ]
        }
      ]
    },
    {
      "cell_type": "markdown",
      "source": [
        "Task4_0510. 생성자만으로 구성된 클래스를 작성하고 객체 3개를 만들어서 결과를 출력하세요."
      ],
      "metadata": {
        "id": "YjJpmw0xhqJA"
      }
    },
    {
      "cell_type": "code",
      "source": [
        "class Person():\n",
        "    def __init__(self, name, age):\n",
        "        self.name = name\n",
        "        self.age = age\n",
        "        print(f\"이름은 {self.name}이고 나이는 {self.age}입니다.\")\n",
        "a = Person('kim',30)\n",
        "b = Person('alice', 20)\n",
        "c = Person('bob', 25)"
      ],
      "metadata": {
        "id": "pMgVTRp-hryJ",
        "colab": {
          "base_uri": "https://localhost:8080/"
        },
        "outputId": "91a24993-c6a7-4a01-e567-c5a16f8c6651"
      },
      "execution_count": null,
      "outputs": [
        {
          "output_type": "stream",
          "name": "stdout",
          "text": [
            "이름은 kim이고 나이는 30입니다.\n",
            "이름은 alice이고 나이는 20입니다.\n",
            "이름은 bob이고 나이는 25입니다.\n"
          ]
        }
      ]
    },
    {
      "cell_type": "code",
      "source": [
        "#ex\n",
        "class Test:\n",
        "    def __init__(self, a, b):\n",
        "        self.a = a\n",
        "        self.b = b\n",
        "        print(a+b)\n",
        "\n",
        "obj1 = Test(1,2)\n",
        "obj2 = Test(1,5)\n",
        "obj3 = Test(1,8)"
      ],
      "metadata": {
        "colab": {
          "base_uri": "https://localhost:8080/"
        },
        "id": "aAgvCDBAUdtd",
        "outputId": "6b6c4332-3f09-473a-98a8-70275eb2468b"
      },
      "execution_count": null,
      "outputs": [
        {
          "output_type": "stream",
          "name": "stdout",
          "text": [
            "3\n",
            "6\n",
            "9\n"
          ]
        }
      ]
    },
    {
      "cell_type": "markdown",
      "source": [
        "Task5_0510. 생성자, 메소드를 모두 포함하는 클래스를 작성하고 객체 3개를 만들어서 결과를 출력하세요"
      ],
      "metadata": {
        "id": "FLYJcUuFhsKx"
      }
    },
    {
      "cell_type": "code",
      "source": [
        "class Person():\n",
        "    def __init__(self, name, age):\n",
        "        self.name = name\n",
        "        self.age = age\n",
        "\n",
        "    def print(self):\n",
        "        return(f\"이름은 {self.name}이고 나이는 {self.age}입니다.\")\n",
        "a = Person('kim',30)\n",
        "b = Person('alice', 20)\n",
        "c = Person('bob', 25)\n",
        "print(a.print())\n",
        "print(b.print())\n",
        "print(c.print())"
      ],
      "metadata": {
        "id": "aQPOjeLkhwDK",
        "colab": {
          "base_uri": "https://localhost:8080/"
        },
        "outputId": "63fc741a-d850-4714-8a89-5557188344ac"
      },
      "execution_count": null,
      "outputs": [
        {
          "output_type": "stream",
          "name": "stdout",
          "text": [
            "이름은 kim이고 나이는 30입니다.\n",
            "이름은 alice이고 나이는 20입니다.\n",
            "이름은 bob이고 나이는 25입니다.\n"
          ]
        }
      ]
    },
    {
      "cell_type": "code",
      "source": [
        "#ex\n",
        "class MyCar:\n",
        "    def __init__(self, name, color='white', price=2000):\n",
        "        self.name= name\n",
        "        self.color = color\n",
        "        self.price = price\n",
        "    def car_sound(self):\n",
        "        if self.price > 15000:\n",
        "            print('booboo')\n",
        "        elif self.price > 10000:\n",
        "            print('boo')\n",
        "        else:\n",
        "            print('bb')\n",
        "\n",
        "a = MyCar('avante')\n",
        "b = MyCar('ferrari', 'red', 17000)\n",
        "c = MyCar('benz', 'black', 11000)\n",
        "\n",
        "a.car_sound()\n",
        "b.car_sound()\n",
        "c.car_sound()"
      ],
      "metadata": {
        "colab": {
          "base_uri": "https://localhost:8080/"
        },
        "id": "LnjusJ3fVyjH",
        "outputId": "4a4e6662-85cc-4cca-9119-359e17fa6826"
      },
      "execution_count": null,
      "outputs": [
        {
          "output_type": "stream",
          "name": "stdout",
          "text": [
            "bb\n",
            "booboo\n",
            "boo\n"
          ]
        }
      ]
    },
    {
      "cell_type": "markdown",
      "source": [
        "Task6_0510. 여러개의 음식을 주문할 수 있는 주문 시스템을 작성하세요.(클래스 활용 - 객체 지향)\n"
      ],
      "metadata": {
        "id": "cF_qoX0s4c2-"
      }
    },
    {
      "cell_type": "code",
      "source": [],
      "metadata": {
        "id": "pgGEIZdA4hV6"
      },
      "execution_count": null,
      "outputs": []
    }
  ]
}