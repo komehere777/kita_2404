{
  "nbformat": 4,
  "nbformat_minor": 0,
  "metadata": {
    "colab": {
      "provenance": []
    },
    "kernelspec": {
      "name": "python3",
      "display_name": "Python 3"
    },
    "language_info": {
      "name": "python"
    }
  },
  "cells": [
    {
      "cell_type": "markdown",
      "source": [
        "Task1_0513. 클래스 구성 요소와 관련 아래 사항에 대한 사례를 작성하세요.\n",
        "- 클래스 선언\n",
        "- 생성자\n",
        "- 속성(attributes)\n",
        "- 메서드\n",
        "- 상속\n",
        "- 인스턴스화(객체 만들기)\n",
        "- 클래스 변수\n",
        "- 매직 메서드(특수 메서드)"
      ],
      "metadata": {
        "id": "kpiHbs9KgwIg"
      }
    },
    {
      "cell_type": "code",
      "execution_count": null,
      "metadata": {
        "id": "0-gMGY_9gpE_",
        "colab": {
          "base_uri": "https://localhost:8080/"
        },
        "outputId": "7310bacf-5b90-469f-a621-46473d66d070"
      },
      "outputs": [
        {
          "output_type": "stream",
          "name": "stdout",
          "text": [
            "생성자 함수에서 출력: 해밍웨이작가의 노인과 바다\n",
            "Book클래스내 메소드에서 출력: 노인과 바다를 읽는다.\n",
            "__str__ 매직 메소드에서 출력: 노인과 바다 by 해밍웨이\n",
            "Book클래스내 클래스 변수 출력: normal\n",
            "\n",
            "\n",
            "생성자 함수에서 출력: programers작가의 Python Magazine\n",
            "신간 잡지: Python Magazine\n",
            "Magazine클래스내 메소드에서 출력: 잡지 Python Magazine를 읽는다.\n",
            "Magazine 클래스내 클래스 변수 출력: good\n"
          ]
        }
      ],
      "source": [
        "class Book:\n",
        "    paper_quality = 'normal'\n",
        "\n",
        "    def __init__(self, name, author):\n",
        "        self.name = name\n",
        "        self.author = author\n",
        "        print(f\"생성자 함수에서 출력: {self.author}작가의 {self.name}\")\n",
        "\n",
        "    def read_book(self):\n",
        "        return f\"Book클래스내 메소드에서 출력: {self.name}를 읽는다.\"\n",
        "\n",
        "    def __str__(self):\n",
        "        return f\"__str__ 매직 메소드에서 출력: {self.name} by {self.author}\"\n",
        "\n",
        "class Magazine(Book):\n",
        "    paper_quality = 'good'\n",
        "\n",
        "    def __init__(self, name, author):\n",
        "        super().__init__(name, author)\n",
        "        print(f\"신간 잡지: {self.name}\")\n",
        "\n",
        "    def read_book(self):\n",
        "        return f\"Magazine클래스내 메소드에서 출력: 잡지 {self.name}를 읽는다.\"\n",
        "\n",
        "book1 = Book('노인과 바다', '해밍웨이')\n",
        "print(book1.read_book())\n",
        "print(book1)\n",
        "print(f\"Book클래스내 클래스 변수 출력: {book1.paper_quality}\")\n",
        "print(\"\\n\")\n",
        "mag1 = Magazine('Python Magazine', 'programers')\n",
        "print(mag1.read_book())\n",
        "print(f\"Magazine 클래스내 클래스 변수 출력: {mag1.paper_quality}\")\n"
      ]
    },
    {
      "cell_type": "code",
      "source": [
        "#ex\n",
        "class Book:\n",
        "    paper_quality = 'normal'\n",
        "\n",
        "    def __init__(self, name, author):\n",
        "        self.name = name\n",
        "        self.author = author\n",
        "        print(f\"생성자 함수에서 출력: {self.author}작가의 {self.name}\")\n",
        "\n",
        "    def read_book(self):\n",
        "        return f\"Book클래스내 메소드에서 출력: {self.name}를 읽는다.\"\n",
        "\n",
        "    def __str__(self):\n",
        "        return f\"__str__ 매직 메소드에서 출력: {self.name} by {self.author}\"\n",
        "\n",
        "class Magazine(Book):\n",
        "    paper_quality = 'good'\n",
        "\n",
        "    def __init__(self, name, author,price):\n",
        "        super().__init__(name, author)\n",
        "        self.price = price\n",
        "        print(f\"신간 잡지: {self.name}\")\n",
        "\n",
        "    def read_book(self):\n",
        "        return f\"Magazine클래스내 메소드에서 출력: 잡지 {self.name}를 읽는다.\"\n",
        "\n",
        "    def how_much(self):\n",
        "        return f\"나는 {self.name}을 {self.price}원을 주고 샀다.\"\n",
        "\n",
        "book1 = Book('노인과 바다', '해밍웨이')\n",
        "print(book1.read_book())\n",
        "print(book1)\n",
        "print(f\"Book클래스내 클래스 변수 출력: {book1.paper_quality}\")\n",
        "print(\"\\n\")\n",
        "mag1 = Magazine('Python Magazine', 'programers', 10000)\n",
        "print(mag1.read_book())\n",
        "print(f\"Magazine 클래스내 클래스 변수 출력: {mag1.paper_quality}\")\n",
        "print(mag1)\n",
        "print(mag1.how_much())\n",
        "a = mag1 #__str__을 변수화 가능\n",
        "\n",
        "print(a)"
      ],
      "metadata": {
        "colab": {
          "base_uri": "https://localhost:8080/"
        },
        "id": "o9eK1iNrcThl",
        "outputId": "dc05ce2c-6b84-4711-bbd5-d730f62b7b03"
      },
      "execution_count": 4,
      "outputs": [
        {
          "output_type": "stream",
          "name": "stdout",
          "text": [
            "생성자 함수에서 출력: 해밍웨이작가의 노인과 바다\n",
            "Book클래스내 메소드에서 출력: 노인과 바다를 읽는다.\n",
            "__str__ 매직 메소드에서 출력: 노인과 바다 by 해밍웨이\n",
            "Book클래스내 클래스 변수 출력: normal\n",
            "\n",
            "\n",
            "생성자 함수에서 출력: programers작가의 Python Magazine\n",
            "신간 잡지: Python Magazine\n",
            "Magazine클래스내 메소드에서 출력: 잡지 Python Magazine를 읽는다.\n",
            "Magazine 클래스내 클래스 변수 출력: good\n",
            "__str__ 매직 메소드에서 출력: Python Magazine by programers\n",
            "나는 Python Magazine을 10000원을 주고 샀다.\n",
            "__str__ 매직 메소드에서 출력: Python Magazine by programers\n"
          ]
        }
      ]
    },
    {
      "cell_type": "markdown",
      "source": [
        "Task2_0513. 두개의 수를 입력한 후 두개의 수에 대한 사칙연산을 수행하세요.(0을 입력한 경우 다시 입력하도록 조치)"
      ],
      "metadata": {
        "id": "7Vf07hfJi3Vx"
      }
    },
    {
      "cell_type": "code",
      "source": [
        "class Calc:\n",
        "    while 1:\n",
        "        a = int(input('enter a first number: '))\n",
        "        b = int(input('enter a second number: '))\n",
        "        if a == 0 or b == 0:\n",
        "            print(\"enter again\")\n",
        "        else:\n",
        "            def sum(self):\n",
        "                return self.a + self.b\n",
        "\n",
        "            def sub(self):\n",
        "                return self.a - self.b\n",
        "\n",
        "            def mul(self):\n",
        "                return self.a * self.b\n",
        "\n",
        "            def div(self):\n",
        "                return self.a / self.b\n",
        "            break\n",
        "\n",
        "cal1 = Calc()\n",
        "print(cal1.sum())\n",
        "print(cal1.sub())\n",
        "print(cal1.mul())\n",
        "print(cal1.div())"
      ],
      "metadata": {
        "colab": {
          "base_uri": "https://localhost:8080/"
        },
        "id": "8Olag9XboILQ",
        "outputId": "846ad72b-086c-4412-e195-a77d613c2dc5"
      },
      "execution_count": null,
      "outputs": [
        {
          "output_type": "stream",
          "name": "stdout",
          "text": [
            "enter a first number: 0\n",
            "enter a second number: 0\n",
            "enter again\n",
            "enter a first number: 10\n",
            "enter a second number: 3\n",
            "13\n",
            "7\n",
            "30\n",
            "3.3333333333333335\n"
          ]
        }
      ]
    },
    {
      "cell_type": "code",
      "source": [
        "#ex\n",
        "class Cal4:\n",
        "    def __init__(self, first, second):\n",
        "        self.first = first\n",
        "        self.second = second\n",
        "    def sum(self):\n",
        "        return self.first + self.second\n",
        "    def sub(self):\n",
        "        return self.first - self.second\n",
        "    def mul(self):\n",
        "        return self.first * self.second\n",
        "    def div(self):\n",
        "        return self.first / self.second\n",
        "\n",
        "while 1:\n",
        "    first = int(input('enter a first number: '))\n",
        "    second = int(input('enter a second number: '))\n",
        "    if first == 0 or second == 0:\n",
        "            print(\"enter again\")\n",
        "    else:\n",
        "        cal = Cal4(first, second)\n",
        "        print(f\"{cal.sum()}\")\n",
        "        print(f\"{cal.sub()}\")\n",
        "        print(f\"{cal.mul()}\")\n",
        "        print(f\"{cal.div()}\")\n",
        "        break"
      ],
      "metadata": {
        "colab": {
          "base_uri": "https://localhost:8080/"
        },
        "id": "12umDMzJfliJ",
        "outputId": "64c28139-411e-409c-c8dd-529787042103"
      },
      "execution_count": 8,
      "outputs": [
        {
          "output_type": "stream",
          "name": "stdout",
          "text": [
            "enter a first number: 10\n",
            "enter a second number: 5\n",
            "15\n",
            "5\n",
            "50\n",
            "2.0\n"
          ]
        }
      ]
    },
    {
      "cell_type": "markdown",
      "source": [
        "Task3_0513. 파이썬 오버라이딩, 오버로딩, 다형성의 사례를 만들어 보세요."
      ],
      "metadata": {
        "id": "EX6xY_EEoIu7"
      }
    },
    {
      "cell_type": "code",
      "source": [
        "#오버라이딩\n",
        "class Animal:\n",
        "    def move(self):\n",
        "        return \"Just move\"\n",
        "\n",
        "class Human(Animal):\n",
        "    def move(self):\n",
        "        return \"Move to walk\"\n",
        "\n",
        "class Horse(Animal):\n",
        "    def move(self):\n",
        "        return \"Move to run\"\n",
        "\n",
        "class Snake(Animal):\n",
        "    def move(self):\n",
        "        return \"Move to body\"\n",
        "\n",
        "man = Human()\n",
        "pony = Horse()\n",
        "viper = Snake()\n",
        "print(man.move())\n",
        "print(pony.move())\n",
        "print(viper.move())"
      ],
      "metadata": {
        "colab": {
          "base_uri": "https://localhost:8080/"
        },
        "id": "WDYW6CFfu0GN",
        "outputId": "d6926970-3ab9-4a02-9364-8bc9339ffdb9"
      },
      "execution_count": null,
      "outputs": [
        {
          "output_type": "stream",
          "name": "stdout",
          "text": [
            "Move by walk\n",
            "Move by run\n",
            "Move on ground\n"
          ]
        }
      ]
    },
    {
      "cell_type": "code",
      "source": [
        "#오버로딩\n",
        "class Bird(Animal):\n",
        "    def move(self, situation='sky'):\n",
        "        if situation == 'sky':\n",
        "            return \"move by fly\"\n",
        "        else:\n",
        "            return \"move by foot\"\n",
        "\n",
        "skylark = Bird()\n",
        "print(skylark.move('sky'))"
      ],
      "metadata": {
        "colab": {
          "base_uri": "https://localhost:8080/"
        },
        "id": "gxfXIB4rBGB6",
        "outputId": "9716ea30-3fb2-4c12-f2ff-11d845548bd8"
      },
      "execution_count": null,
      "outputs": [
        {
          "output_type": "stream",
          "name": "stdout",
          "text": [
            "move by fly\n"
          ]
        }
      ]
    },
    {
      "cell_type": "code",
      "source": [
        "#오버로딩\n",
        "class Bird(Animal):\n",
        "    def move(self, situation='sky'):\n",
        "        if situation == 'sky':\n",
        "            return \"move by fly\"\n",
        "        else:\n",
        "            return \"move by foot\"\n",
        "\n",
        "skylark = Bird()\n",
        "print(skylark.move('tree'))"
      ],
      "metadata": {
        "colab": {
          "base_uri": "https://localhost:8080/"
        },
        "id": "EphZTKN9EprF",
        "outputId": "55dce3ec-e3a1-49ad-f39d-064be6faf5fe"
      },
      "execution_count": null,
      "outputs": [
        {
          "output_type": "stream",
          "name": "stdout",
          "text": [
            "move by foot\n"
          ]
        }
      ]
    },
    {
      "cell_type": "code",
      "source": [
        "#다형성\n",
        "def animal_move(them):\n",
        "    return them.move()\n",
        "\n",
        "print(animal_move(man))\n",
        "print(animal_move(pony))\n",
        "print(animal_move(viper))\n",
        "print(animal_move(skylark))\n"
      ],
      "metadata": {
        "colab": {
          "base_uri": "https://localhost:8080/"
        },
        "id": "MQ52sN8OBGVh",
        "outputId": "878dd84b-7666-40a3-b38c-2cb768e1f46a"
      },
      "execution_count": null,
      "outputs": [
        {
          "output_type": "stream",
          "name": "stdout",
          "text": [
            "Move by walk\n",
            "Move by run\n",
            "Move on ground\n",
            "move by fly\n"
          ]
        }
      ]
    },
    {
      "cell_type": "code",
      "source": [
        "#ex\n",
        "class Robot:\n",
        "    def __init__(self, name):\n",
        "        self.name = name\n",
        "        print(f\"Hi, I'm {self.name}\")\n",
        "    def helping(self):\n",
        "        print(\"I can help\")\n",
        "\n",
        "class ServingRobot(Robot):\n",
        "    def helping(self):\n",
        "        print(\"I can give food\")\n",
        "    def move(self, table):\n",
        "        print(f\"{table} to give food\")\n",
        "#유사 오버로딩\n",
        "class CleaningRobot(Robot):\n",
        "    def helping(self, how=\"cleaner\"):\n",
        "        print(f\"{how} to clean\")\n",
        "#다형성\n",
        "def robot_mode(robot):\n",
        "    robot.helping()\n",
        "#객체생성\n",
        "robobo = ServingRobot('robobo')\n",
        "roboti = CleaningRobot('roboti')\n",
        "#오버라이딩\n",
        "robobo.helping()\n",
        "#오버로딩\n",
        "roboti.helping('water staff')\n",
        "#다형성을 통한 메서드 호출\n",
        "robot_mode(robobo)\n",
        "robot_mode(roboti)"
      ],
      "metadata": {
        "id": "j5FbE7_IS80K",
        "colab": {
          "base_uri": "https://localhost:8080/"
        },
        "outputId": "fca434c3-5305-4085-b0f0-7e9c8eb7af75"
      },
      "execution_count": 9,
      "outputs": [
        {
          "output_type": "stream",
          "name": "stdout",
          "text": [
            "Hi, I'm robobo\n",
            "Hi, I'm roboti\n",
            "I can give food\n",
            "water staff to clean\n",
            "I can give food\n",
            "cleaner to clean\n"
          ]
        }
      ]
    },
    {
      "cell_type": "code",
      "source": [],
      "metadata": {
        "id": "pdjdBy0KkR12"
      },
      "execution_count": null,
      "outputs": []
    }
  ]
}