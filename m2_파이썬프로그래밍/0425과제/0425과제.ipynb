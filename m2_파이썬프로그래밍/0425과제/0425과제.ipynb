{
  "nbformat": 4,
  "nbformat_minor": 0,
  "metadata": {
    "colab": {
      "provenance": []
    },
    "kernelspec": {
      "name": "python3",
      "display_name": "Python 3"
    },
    "language_info": {
      "name": "python"
    }
  },
  "cells": [
    {
      "cell_type": "markdown",
      "source": [
        "Task1_0425. 주어진 숫자 리스트에서 최소값과 최대값을 찾아 출력하세요.\n",
        "\n",
        "numbers = [58, 45, 69, 19, 4, 87, 29, 13, 39, 15]"
      ],
      "metadata": {
        "id": "PpzbTHHMJH52"
      }
    },
    {
      "cell_type": "code",
      "source": [
        "numbers = [58, 45, 69, 19, 4, 87, 29, 13, 39, 15]\n",
        "\n",
        "max_num = max(numbers)\n",
        "min_num = min(numbers)\n",
        "print(f'최대값: {max_num}')\n",
        "print(f'최대값: {min_num}')"
      ],
      "metadata": {
        "colab": {
          "base_uri": "https://localhost:8080/"
        },
        "id": "aWQwobksJWF3",
        "outputId": "0184763b-38ac-4415-ba20-d5fd61d947b5"
      },
      "execution_count": null,
      "outputs": [
        {
          "output_type": "stream",
          "name": "stdout",
          "text": [
            "최대값: 87\n",
            "최대값: 4\n"
          ]
        }
      ]
    },
    {
      "cell_type": "markdown",
      "source": [
        "Task2_0425. 주어진 숫자 리스트의 모든 요소의 합계와 평균을 계산하고 출력하세요\n",
        "\n",
        "numbers = [58, 45, 69, 19, 4, 87, 29, 13, 39, 15]"
      ],
      "metadata": {
        "id": "y4vWkFm4JHmF"
      }
    },
    {
      "cell_type": "code",
      "source": [
        "numbers = [58, 45, 69, 19, 4, 87, 29, 13, 39, 15]\n",
        "sum = 0\n",
        "for i in numbers:\n",
        "    sum = sum + i\n",
        "\n",
        "num = len(numbers)\n",
        "\n",
        "print(f'요소의 합계: {sum}')\n",
        "print(f'평균은 {sum / num}')"
      ],
      "metadata": {
        "colab": {
          "base_uri": "https://localhost:8080/"
        },
        "id": "QxPZ8B4dJ_vA",
        "outputId": "53ba77e2-88ac-4711-f349-8721ebbbdbd8"
      },
      "execution_count": null,
      "outputs": [
        {
          "output_type": "stream",
          "name": "stdout",
          "text": [
            "요소의 합계: 378\n",
            "평균은 37.8\n"
          ]
        }
      ]
    },
    {
      "cell_type": "markdown",
      "source": [
        "Task3_0425. 주어진 리스트에서 특정 요소가 등장하는 모든 인덱스를 리스트로 만들어 출력하세요.\n",
        "\n",
        "items = ['apple', 'banana', 'cherry', 'apple', 'cherry', 'apple']\\\n",
        "target = 'apple'"
      ],
      "metadata": {
        "id": "kx8r36OgJHTG"
      }
    },
    {
      "cell_type": "code",
      "source": [
        "items = ['apple', 'banana', 'cherry', 'apple', 'cherry', 'apple']\n",
        "target = 'apple'\n",
        "\n",
        "'''\n",
        "아이디어. items 리스트 크기의 idx 리스트를 만들고 두 리스트를 합쳐 딕셔너리 형태로 만든다.\n",
        "타겟 항목의 동일한 키를 가지는 값을 반환하여 리스트로 만든다.\n",
        "'''\n",
        "\n",
        "idx_list = []\n",
        "\n",
        "items_len = len(items)\n",
        "\n",
        "for i in range(0, items_len):\n",
        "    idx_list.append(i)\n",
        "\n",
        "temp_dic = {k: v for k, v in zip(idx_list, items)}\n",
        "print('병합후 인덱스 위치 반영한 딕셔너리: ', temp_dic)\n",
        "print('특정요소: ', target)\n",
        "print('특정요소가 등장하는 인덱스 리스트: ', [k for k, v in temp_dic.items() if v == target])"
      ],
      "metadata": {
        "colab": {
          "base_uri": "https://localhost:8080/"
        },
        "id": "5MUUO_EeLVrz",
        "outputId": "f8b3692f-257d-41b8-eae1-4fbbad49bf70"
      },
      "execution_count": 1,
      "outputs": [
        {
          "output_type": "stream",
          "name": "stdout",
          "text": [
            "병합후 인덱스 위치 반영한 딕셔너리:  {0: 'apple', 1: 'banana', 2: 'cherry', 3: 'apple', 4: 'cherry', 5: 'apple'}\n",
            "특정요소:  apple\n",
            "특정요소가 등장하는 인덱스 리스트:  [0, 3, 5]\n"
          ]
        }
      ]
    },
    {
      "cell_type": "code",
      "source": [
        "items = ['apple', 'banana', 'cherry', 'apple', 'cherry', 'apple']\n",
        "target = 'apple'\n",
        "\n",
        "#아이디어: 아이템의 항목을 숫자로 전환하여 리스트에 저장\n",
        "\n",
        "index_list = []\n",
        "for i in range(len(items)):\n",
        "    if items[i] == target:\n",
        "        index_list.append(i)\n",
        "print(index_list)"
      ],
      "metadata": {
        "colab": {
          "base_uri": "https://localhost:8080/"
        },
        "id": "WAgi732KxOH0",
        "outputId": "a4e6db72-df93-4310-80f3-6b65fa927d6e"
      },
      "execution_count": 4,
      "outputs": [
        {
          "output_type": "stream",
          "name": "stdout",
          "text": [
            "[0, 3, 5]\n"
          ]
        }
      ]
    },
    {
      "cell_type": "markdown",
      "source": [
        "Task4_0425. 주어진 리스트에서 연속해서 반복되는 요소만 제거하고, 결과 리스트를 반환하세요. 단, 처음 등장하는 요소는 유지해야 합니다.\n",
        "\n",
        "예를 들어, ['a', 'a', 'b', 'c', 'c', 'c', 'd', 'e', 'e']가 입력되면, ['a', 'b', 'c', 'd', 'e']를 출력해야 합니다."
      ],
      "metadata": {
        "id": "NgK0DKRLJHH_"
      }
    },
    {
      "cell_type": "code",
      "source": [
        "#set사용\n",
        "original_list = ['a', 'a', 'b', 'c', 'c', 'c', 'd', 'e', 'e']\n",
        "output_set = set(original_list)\n",
        "output_list = list(output_set)\n",
        "output_list.sort()\n",
        "print(f'원본 리스트 : {original_list}')\n",
        "print(f'중복제거 리스트 : {output_list}')"
      ],
      "metadata": {
        "colab": {
          "base_uri": "https://localhost:8080/"
        },
        "id": "O18MIrSPQkun",
        "outputId": "409e95d0-e521-46d2-9d7d-b16130a61a72"
      },
      "execution_count": 3,
      "outputs": [
        {
          "output_type": "stream",
          "name": "stdout",
          "text": [
            "원본 리스트 : ['a', 'a', 'b', 'c', 'c', 'c', 'd', 'e', 'e']\n",
            "중복제거 리스트 : ['a', 'b', 'c', 'd', 'e']\n"
          ]
        }
      ]
    },
    {
      "cell_type": "code",
      "source": [
        "original_list = ['a', 'a', 'b', 'c', 'c', 'c', 'd', 'e', 'e']\n",
        "'''\n",
        "인덱스 리스트를 만들어주고 두 리스트를 딕셔너리로 만든후\n",
        "키만 리스트로 출력\n",
        "'''\n",
        "idx_list = [i for i in range(len(original_list))]\n",
        "temp_dic = {k: v for k, v in zip(original_list, idx_list)}\n",
        "print(temp_dic)\n",
        "print(list(temp_dic.keys()))\n"
      ],
      "metadata": {
        "colab": {
          "base_uri": "https://localhost:8080/"
        },
        "id": "Xdfqs4Bb7S3n",
        "outputId": "9b5b2931-70d9-4c15-d5fe-3dbc994026bc"
      },
      "execution_count": 5,
      "outputs": [
        {
          "output_type": "stream",
          "name": "stdout",
          "text": [
            "{'a': 1, 'b': 2, 'c': 5, 'd': 6, 'e': 8}\n",
            "['a', 'b', 'c', 'd', 'e']\n"
          ]
        }
      ]
    },
    {
      "cell_type": "markdown",
      "source": [
        "Task5_0425 주어진 정수 리스트와 회전 횟수 k에 대해 리스트를 오른쪽으로 k만큼 회전시킨 결과를 반환하세요. k가 리스트의 길이보다 클 수 있으며, 이 경우 k를 리스트 길이로 나눈 나머지만큼 실제 회전시키면 됩니다.\n",
        "\n",
        "예를 들어, [1, 2, 3, 4, 5]와 k=2가 주어지면, 결과는 [4, 5, 1, 2, 3]이 되어야 합니다."
      ],
      "metadata": {
        "id": "kxsSYWDTJG4G"
      }
    },
    {
      "cell_type": "code",
      "source": [
        "o_list =  [1, 2, 3, 4, 5]\n",
        "k = 7\n",
        "print(f'K 횟수: {k}' )\n",
        "result_list = []\n",
        "o_list_len = len(o_list)\n",
        "\n",
        "if k > o_list_len:\n",
        "    k = k % o_list_len\n",
        "\n",
        "left_list = o_list[-k:]\n",
        "right_list = o_list[:(o_list_len - k)]\n",
        "\n",
        "result_list = left_list + right_list\n",
        "print(f'원본 리스트 : {o_list}')\n",
        "print(f'결과 리스트 : {result_list}')"
      ],
      "metadata": {
        "colab": {
          "base_uri": "https://localhost:8080/"
        },
        "id": "wCu73xz1UWrW",
        "outputId": "c7638a38-6978-42b1-f4cc-9168dfb4e849"
      },
      "execution_count": 2,
      "outputs": [
        {
          "output_type": "stream",
          "name": "stdout",
          "text": [
            "K 횟수: 7\n",
            "원본 리스트 : [1, 2, 3, 4, 5]\n",
            "결과 리스트 : [4, 5, 1, 2, 3]\n"
          ]
        }
      ]
    }
  ]
}