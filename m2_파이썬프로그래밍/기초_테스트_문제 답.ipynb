{
  "cells": [
    {
      "cell_type": "code",
      "source": [
        "from google.colab import drive\n",
        "drive.mount('/content/drive')"
      ],
      "metadata": {
        "colab": {
          "base_uri": "https://localhost:8080/",
          "height": 0
        },
        "id": "rprzwWqmlT_1",
        "outputId": "496f6472-9cfc-4812-ba20-fb2401be85bd"
      },
      "id": "rprzwWqmlT_1",
      "execution_count": 2,
      "outputs": [
        {
          "output_type": "stream",
          "name": "stdout",
          "text": [
            "Mounted at /content/drive\n"
          ]
        }
      ]
    },
    {
      "cell_type": "code",
      "source": [
        "%pwd"
      ],
      "metadata": {
        "colab": {
          "base_uri": "https://localhost:8080/",
          "height": 35
        },
        "id": "U9aQvFYbl5aO",
        "outputId": "bac22de5-2a58-4a9f-9d6e-2e7d1bb64070"
      },
      "id": "U9aQvFYbl5aO",
      "execution_count": 3,
      "outputs": [
        {
          "output_type": "execute_result",
          "data": {
            "text/plain": [
              "'/content'"
            ],
            "application/vnd.google.colaboratory.intrinsic+json": {
              "type": "string"
            }
          },
          "metadata": {},
          "execution_count": 3
        }
      ]
    },
    {
      "cell_type": "markdown",
      "source": [
        "% 매직명령어\\\n",
        "주피터 노트북 전용 명령어\n"
      ],
      "metadata": {
        "id": "e-X3MhhmmMjB"
      },
      "id": "e-X3MhhmmMjB"
    },
    {
      "cell_type": "markdown",
      "source": [
        "Q1. 변수 x에 숫자 10을 할당하고, 변수 y에 문자열 \"hello\"를 할당한 뒤, 두 변수를 출력하세요."
      ],
      "metadata": {
        "id": "pM0D3MuAcbKi"
      },
      "id": "pM0D3MuAcbKi"
    },
    {
      "cell_type": "code",
      "source": [
        "x = 10\n",
        "y = \"hello\"\n",
        "print(x, y)"
      ],
      "metadata": {
        "id": "tgX8zUpkeJnB",
        "colab": {
          "base_uri": "https://localhost:8080/",
          "height": 0
        },
        "outputId": "e144a1ce-3067-4557-a326-dbf87c21ee64"
      },
      "id": "tgX8zUpkeJnB",
      "execution_count": 1,
      "outputs": [
        {
          "output_type": "stream",
          "name": "stdout",
          "text": [
            "10 hello\n"
          ]
        }
      ]
    },
    {
      "cell_type": "markdown",
      "source": [
        "Q2. 숫자가 양수인지 음수인지를 판별하는 조건문을 작성하세요."
      ],
      "metadata": {
        "id": "FpcciTxrcjCh"
      },
      "id": "FpcciTxrcjCh"
    },
    {
      "cell_type": "code",
      "source": [
        "num = int(input(\"Enter the number\"))\n",
        "if num % 2 ==1 :\n",
        "  print(\"홀수입니다\")\n",
        "else:\n",
        "  print(\"짝수입니다\")"
      ],
      "metadata": {
        "id": "uFeA2YNpeKJY",
        "colab": {
          "base_uri": "https://localhost:8080/",
          "height": 0
        },
        "outputId": "26202f3a-8dd0-48b9-a666-00e2f15aad0a"
      },
      "id": "uFeA2YNpeKJY",
      "execution_count": 4,
      "outputs": [
        {
          "output_type": "stream",
          "name": "stdout",
          "text": [
            "Enter the number10\n",
            "짝수입니다\n"
          ]
        }
      ]
    },
    {
      "cell_type": "markdown",
      "source": [
        "Q3. 리스트 [1, 2, 3, 4, 5]의 각 요소를 출력하는 반복문을 작성하세요.\n"
      ],
      "metadata": {
        "id": "1GFgMet1cvyU"
      },
      "id": "1GFgMet1cvyU"
    },
    {
      "cell_type": "code",
      "source": [
        "list_item = [1, 2, 3, 4, 5]\n",
        "for i in list_item:\n",
        "  print(i)"
      ],
      "metadata": {
        "id": "rPKSq830eKgu",
        "colab": {
          "base_uri": "https://localhost:8080/",
          "height": 0
        },
        "outputId": "2223b6bd-d3d9-4a7f-9655-9239feea0eb9"
      },
      "id": "rPKSq830eKgu",
      "execution_count": 5,
      "outputs": [
        {
          "output_type": "stream",
          "name": "stdout",
          "text": [
            "1\n",
            "2\n",
            "3\n",
            "4\n",
            "5\n"
          ]
        }
      ]
    },
    {
      "cell_type": "markdown",
      "source": [
        "Q4. 두 숫자를 입력받아 더하는 함수 add를 정의하고 호출하세요."
      ],
      "metadata": {
        "id": "CwYl86gvc6-G"
      },
      "id": "CwYl86gvc6-G"
    },
    {
      "cell_type": "code",
      "source": [
        "def add(a, b):\n",
        "  return a + b\n",
        "\n",
        "add(1, 2)"
      ],
      "metadata": {
        "id": "5UVoXCY8eGew",
        "colab": {
          "base_uri": "https://localhost:8080/",
          "height": 0
        },
        "outputId": "15a8bafb-2dc5-4e1b-88d4-6317d5de7715"
      },
      "id": "5UVoXCY8eGew",
      "execution_count": 7,
      "outputs": [
        {
          "output_type": "execute_result",
          "data": {
            "text/plain": [
              "3"
            ]
          },
          "metadata": {},
          "execution_count": 7
        }
      ]
    },
    {
      "cell_type": "markdown",
      "source": [
        "Q5. 문자열 \"hello\"에서 처음 세 문자를 슬라이싱하여 출력하세요."
      ],
      "metadata": {
        "id": "NeWAyeEsdFO-"
      },
      "id": "NeWAyeEsdFO-"
    },
    {
      "cell_type": "code",
      "source": [
        "string1 = \"hello\"\n",
        "print(string1[:3])"
      ],
      "metadata": {
        "id": "8wNBnI92eLZn",
        "colab": {
          "base_uri": "https://localhost:8080/",
          "height": 0
        },
        "outputId": "81cd9c12-4a9f-4013-9570-321148ca9c65"
      },
      "id": "8wNBnI92eLZn",
      "execution_count": 8,
      "outputs": [
        {
          "output_type": "stream",
          "name": "stdout",
          "text": [
            "hel\n"
          ]
        }
      ]
    },
    {
      "cell_type": "markdown",
      "source": [
        "Q6. 주어진 정수 리스트에서 가장 자주 등장하는 숫자(최빈값)를 찾아 반환하는 함수를 작성하세요. 만약 최빈값이 여러 개라면, 그 중 가장 작은 숫자를 반환하세요.\n",
        "\n",
        "numbers = [1, 3, 2, 3, 4, 1, 3, 3]"
      ],
      "metadata": {
        "id": "4ZK2lZ8UdTRV"
      },
      "id": "4ZK2lZ8UdTRV"
    },
    {
      "cell_type": "code",
      "source": [
        "def solution(a):\n",
        "\tcount = [0] * (max(a)+1)\n",
        "\tfor i in a:\n",
        "\t\tcount[i] += 1\n",
        "\n",
        "\tm = 0 # 최빈값의 개수\n",
        "\tfor c in count:\n",
        "\t\tif c == max(count):\n",
        "\t\t\tm += 1\n",
        "\n",
        "numbers = [1, 3, 2, 3, 4, 1, 3, 3]\n",
        "\n",
        "solution(numbers)"
      ],
      "metadata": {
        "id": "6YnaPjx2eMLg",
        "colab": {
          "base_uri": "https://localhost:8080/",
          "height": 0
        },
        "outputId": "8f199c95-768f-43ae-f95c-318a6bb12075"
      },
      "id": "6YnaPjx2eMLg",
      "execution_count": 19,
      "outputs": [
        {
          "output_type": "execute_result",
          "data": {
            "text/plain": [
              "3"
            ]
          },
          "metadata": {},
          "execution_count": 19
        }
      ]
    },
    {
      "cell_type": "code",
      "source": [
        "def find_mode(numbers):\n",
        "  from collections import Counter\n",
        "  count = Counter(numbers)\n",
        "  max_freq = max(count.values())\n",
        "  frequent_numbers = [num for num, freq in count.items() if freq == max_freq]\n",
        "  return min(frequent_numbers)\n",
        "\n",
        "numbers = [1, 3, 2, 3, 4, 1, 3, 3]\n",
        "print(find_mode(numbers))"
      ],
      "metadata": {
        "colab": {
          "base_uri": "https://localhost:8080/"
        },
        "id": "viDO4jXQ0TUd",
        "outputId": "80609607-62d7-4a51-dd5c-7ee9fb65ad2b"
      },
      "id": "viDO4jXQ0TUd",
      "execution_count": 20,
      "outputs": [
        {
          "output_type": "stream",
          "name": "stdout",
          "text": [
            "3\n"
          ]
        }
      ]
    },
    {
      "cell_type": "markdown",
      "source": [
        "Q7. 딕셔너리 person에서 키 \"name\"의 값을 출력하세요."
      ],
      "metadata": {
        "id": "hM7_9KsMdaKj"
      },
      "id": "hM7_9KsMdaKj"
    },
    {
      "cell_type": "code",
      "source": [
        "person = {'name':'kim'}\n",
        "for k, v in person.items():\n",
        "  if k == 'name':\n",
        "    print(v)"
      ],
      "metadata": {
        "id": "7BuRcX4ieMqB",
        "colab": {
          "base_uri": "https://localhost:8080/",
          "height": 0
        },
        "outputId": "549ef004-41c7-4118-a260-edb5db8ef943"
      },
      "id": "7BuRcX4ieMqB",
      "execution_count": 18,
      "outputs": [
        {
          "output_type": "stream",
          "name": "stdout",
          "text": [
            "kim\n"
          ]
        }
      ]
    },
    {
      "cell_type": "markdown",
      "source": [
        "Q8. 이름과 나이를 입력받아 \"Hello, [name]. You are [age] years old.\" 형식으로 출력하세요."
      ],
      "metadata": {
        "id": "CWt0HW7Jdg7f"
      },
      "id": "CWt0HW7Jdg7f"
    },
    {
      "cell_type": "code",
      "source": [
        "name = input(\"What your name?:\")\n",
        "age = input(\"How old are you?:\")\n",
        "print(f\"\\\"Hello, {name}. You are {age} years old.\\\"\")"
      ],
      "metadata": {
        "id": "mzr1N3AoeNKa",
        "colab": {
          "base_uri": "https://localhost:8080/",
          "height": 0
        },
        "outputId": "21d4a635-d5b6-4866-dc24-ec2e251ca150"
      },
      "id": "mzr1N3AoeNKa",
      "execution_count": 12,
      "outputs": [
        {
          "output_type": "stream",
          "name": "stdout",
          "text": [
            "What your name?:kim\n",
            "How old are you?:10\n",
            "\"Hello, kim. You are 10 years old.\"\n"
          ]
        }
      ]
    },
    {
      "cell_type": "markdown",
      "source": [
        "Q9. 0부터 9까지 숫자 중에서 홀수만 포함하는 리스트를 리스트 컴프리헨션을 사용하여 생성하세요."
      ],
      "metadata": {
        "id": "02KDybr3dqtW"
      },
      "id": "02KDybr3dqtW"
    },
    {
      "cell_type": "code",
      "source": [
        "num = [i for i in range(10) if i% 2]\n",
        "print(num)\n"
      ],
      "metadata": {
        "id": "XymAHmcKeNqc",
        "colab": {
          "base_uri": "https://localhost:8080/",
          "height": 0
        },
        "outputId": "84a02db8-b247-4ad1-9c7b-3c3fee92f7d1"
      },
      "id": "XymAHmcKeNqc",
      "execution_count": 14,
      "outputs": [
        {
          "output_type": "stream",
          "name": "stdout",
          "text": [
            "[1, 3, 5, 7, 9]\n"
          ]
        }
      ]
    },
    {
      "cell_type": "markdown",
      "source": [
        "Q10. 숫자를 0으로 나누려 할 때 발생하는 예외를 처리하는 코드를 작성하세요."
      ],
      "metadata": {
        "id": "KKQXaGGBdyuO"
      },
      "id": "KKQXaGGBdyuO"
    },
    {
      "cell_type": "code",
      "source": [
        "a = 3\n",
        "b = 0\n",
        "\n",
        "try:\n",
        "  result = a / b\n",
        "  print(result)\n",
        "except ZeroDivisionError:\n",
        "  print(\"Can't divided\")\n"
      ],
      "metadata": {
        "id": "AMBKeJNkeN_A",
        "colab": {
          "base_uri": "https://localhost:8080/",
          "height": 0
        },
        "outputId": "f72b6a64-9dd5-422d-eb96-4b2b9a40548b"
      },
      "id": "AMBKeJNkeN_A",
      "execution_count": 15,
      "outputs": [
        {
          "output_type": "stream",
          "name": "stdout",
          "text": [
            "Can't divided\n"
          ]
        }
      ]
    }
  ],
  "metadata": {
    "kernelspec": {
      "display_name": "Python 3",
      "name": "python3"
    },
    "language_info": {
      "codemirror_mode": {
        "name": "ipython",
        "version": 3
      },
      "file_extension": ".py",
      "mimetype": "text/x-python",
      "name": "python",
      "nbconvert_exporter": "python",
      "pygments_lexer": "ipython3",
      "version": "3.10.13"
    },
    "colab": {
      "provenance": []
    }
  },
  "nbformat": 4,
  "nbformat_minor": 5
}
