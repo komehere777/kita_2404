{
  "nbformat": 4,
  "nbformat_minor": 0,
  "metadata": {
    "colab": {
      "provenance": []
    },
    "kernelspec": {
      "name": "python3",
      "display_name": "Python 3"
    },
    "language_info": {
      "name": "python"
    }
  },
  "cells": [
    {
      "cell_type": "markdown",
      "source": [
        "#### 파이썬 이란\n",
        "- 1990년 암스테르담의 귀도 반 로섬(Guido Van Rossum)이 개발한 인터프리터 언어\n",
        "- 컴퓨터 프로그래밍 교육을 위해 많이 사용하지만, 기업의 실무를 위해서도 많이 사용하는 언어. 구글에서 만든 소프트웨어의 50%이상이 파이썬으로 작성\n",
        "\n",
        "#### 파이썬의 특징\n",
        "- 파이썬은 인간다운 언어이다\n",
        "- 파이썬은 문법이 쉬워 빠르게 배울 수 있다\n",
        "- 파이썬은 무료이지만 강력하다\n",
        "- 파이썬은 간결하다\n",
        "- 파이썬은 프로그래밍을 즐기게 해준다\n",
        "- 파이썬은 개발 속도가 빠르다\n",
        "\n",
        "#### 파이썬으로 할 수 있는 일\n",
        "- 웹 개발: Django, Flask 등의 프레임워크를 사용하여 웹 애플리케이션을 개발할 수 있습니다.\n",
        "- 데이터 분석: Pandas, NumPy, SciPy와 같은 라이브러리를 사용하여 데이터를 분석하고 처리할 수 있습니다.\n",
        "- 머신 러닝과 인공지능: TensorFlow(딥러닝), PyTorch(딥러닝), Scikit-learn(머신 러닝) 등의 라이브러리를 활용하여 머신 러닝 모델을 구축하고 훈련시킬 수 있습니다.\n",
        "딥러닝-신경망, 뉴럴네트웍, 네트웍의 심화, 딥러닝은 네트웍이라 볼 수 있다. 네트웍에 여려가지 레이어를 추가하여 처리하는것이 자연어 처리,\n",
        "영상은 처리가 힘듬, 공간정보를 담기가 어려움 cnn으로 처리, 신경망에 cnn추가, 기본이 네트웍, 다양한 네트웍으로 딥러닝이 전개\n",
        "-프레임웍: 툴과 라이브러리 모음,\n",
        "- 자동화: 파이썬 스크립트를 작성하여 일상적인 작업을 자동화하고, 시스템 관리 작업을 수행할 수 있습니다.\n",
        "- 게임 개발: Pygame과 같은 라이브러리를 사용하여 간단한 게임을 개발할 수 있습니다.\n",
        "- 모바일 애플리케이션 개발: Kivy 또는 BeeWare와 같은 라이브러리를 사용하여 모바일 애플리케이션을 개발할 수 있습니다.\n",
        "- 데스크탑 애플리케이션 개발: PyQt, Tkinter 등의 라이브러리를 활용하여 데스크탑 애플리케이션을 개발할 수 있습니다.\n",
        "- 시스템 스크립팅과 네트워킹: 시스템 유틸리티를 개발하거나 네트워크 프로토콜을 구현할 수 있습니다.\n",
        "- 임베디드 시스템과 하드웨어 제어: 라즈베리 파이와 같은 임베디드 시스템을 제어하고 하드웨어를 프로그래밍할 수 있습니다.\n",
        "- 사이언티픽 컴퓨팅: 과학적 연산과 시뮬레이션을 위해 파이썬을 활용할 수 있습니다.\n",
        "- 교육: 파이썬은 초보자에게 프로그래밍을 가르치는 데 이상적인 언어로 평가받고 있습니다.\n",
        "- 파이썬의 다양한 라이브러리와 프레임워크 덕분에, 이러한 분야에서의 작업이 더욱 쉽고 효율적으로 수행될 수 있습니다."
      ],
      "metadata": {
        "id": "hxWLFQya7V-s"
      }
    },
    {
      "cell_type": "code",
      "source": [
        "#!기호는 코랩 셀에서 유닉스/리눅스 셸 명령어 실행\n",
        "!python --version\n"
      ],
      "metadata": {
        "colab": {
          "base_uri": "https://localhost:8080/"
        },
        "id": "llNxgb_bBVCe",
        "outputId": "ecfbf16f-69ae-4a3b-cbb6-55850dc247e4"
      },
      "execution_count": null,
      "outputs": [
        {
          "output_type": "stream",
          "name": "stdout",
          "text": [
            "Python 3.10.12\n"
          ]
        }
      ]
    },
    {
      "cell_type": "code",
      "source": [
        "#% 기호는 아이파이썬 환경에서 제공하는 매직 명령어를 사용\n",
        "#라인 매직은 단일 라인에 대해 실행되며 % 하나를 사룡하고 셀 매직은 셀 전체에 적용되면 %%를 사용\n",
        "#현재 작업폴더 확인\n",
        "%pwd"
      ],
      "metadata": {
        "colab": {
          "base_uri": "https://localhost:8080/",
          "height": 35
        },
        "id": "WCbV60_fBkBE",
        "outputId": "ffde26f6-25a8-4b17-f146-9c9b7550386f"
      },
      "execution_count": null,
      "outputs": [
        {
          "output_type": "execute_result",
          "data": {
            "text/plain": [
              "'/content'"
            ],
            "application/vnd.google.colaboratory.intrinsic+json": {
              "type": "string"
            }
          },
          "metadata": {},
          "execution_count": 3
        }
      ]
    },
    {
      "cell_type": "code",
      "source": [
        "%%time\n",
        "#간단한 for 루프를 사용한 계산\n",
        "sum = 0\n",
        "for i in range(100000000):\n",
        "    sum += i\n",
        "print(sum)"
      ],
      "metadata": {
        "colab": {
          "base_uri": "https://localhost:8080/"
        },
        "id": "_VB72VA6Bpli",
        "outputId": "836194a3-c545-4936-dee1-43d38bd8839b"
      },
      "execution_count": null,
      "outputs": [
        {
          "output_type": "stream",
          "name": "stdout",
          "text": [
            "4999999950000000\n",
            "CPU times: user 14.7 s, sys: 0 ns, total: 14.7 s\n",
            "Wall time: 14.8 s\n"
          ]
        }
      ]
    },
    {
      "cell_type": "code",
      "source": [
        "\n",
        "\n",
        "\n",
        "\n",
        "\n",
        "\n"
      ],
      "metadata": {
        "colab": {
          "base_uri": "https://localhost:8080/"
        },
        "id": "nnhx4I5VCw_V",
        "outputId": "4c5b8edf-9b6e-4e57-afd3-b6781dfd182e"
      },
      "execution_count": null,
      "outputs": [
        {
          "output_type": "stream",
          "name": "stdout",
          "text": [
            "\u001b[H\u001b[2J"
          ]
        }
      ]
    },
    {
      "cell_type": "markdown",
      "source": [
        "#### 용어\n",
        "- 식별자 : 프로그램밍 언어에서 이름을 붙일 때 사용하는 단어. 주로 변수 또는 함수 이름 등으로 사용\n",
        "- 주석 : 프로그램을 설명하기 위해 사용. # 기호로 주석 처리\n",
        "- 연산자 : 스스로 값이 되는 것이 아니고 값과 값 사이에 무언가 기능을 적용할 때 사용\n",
        "- 자료 : 리터럴이라고 하는데 숫자이든 문자이든 어떠한 값 자체를 의미. 1, 10, \"Hello\"\n",
        "- 키워드 : 파이썬이 만들어질 때 이미 사용하겠다고 예약해 놓는 것. False, None, True, ...\n",
        "- 프로그램밍 언어에서 사용자가 이름을 정할 때 키워드는 사용할 수 없음"
      ],
      "metadata": {
        "id": "Kfbp0OpyDXQa"
      }
    },
    {
      "cell_type": "markdown",
      "source": [
        "#### 식별자\n",
        "count, user_name, _is_valid, calculate_area, Car, model, year, math 및 m 모두 유효한 식별자. 각각의 식별자는 특정한 데이터 또는 기능에 이름을 부여하여 코드 내에서 해당 데이터나 기능을 참조할 수 있게하며 코드의 가독성과 유지 보수성을 높이는 데 중요한 역할"
      ],
      "metadata": {
        "id": "pebPsn1RDbBS"
      }
    },
    {
      "cell_type": "code",
      "source": [
        "import keyword\n",
        "print(keyword.kwlist)"
      ],
      "metadata": {
        "colab": {
          "base_uri": "https://localhost:8080/"
        },
        "id": "XiEqstNXDdsU",
        "outputId": "c61d7cb6-b0b7-4011-e42f-96a9d5577316"
      },
      "execution_count": null,
      "outputs": [
        {
          "output_type": "stream",
          "name": "stdout",
          "text": [
            "['False', 'None', 'True', 'and', 'as', 'assert', 'async', 'await', 'break', 'class', 'continue', 'def', 'del', 'elif', 'else', 'except', 'finally', 'for', 'from', 'global', 'if', 'import', 'in', 'is', 'lambda', 'nonlocal', 'not', 'or', 'pass', 'raise', 'return', 'try', 'while', 'with', 'yield']\n"
          ]
        }
      ]
    },
    {
      "cell_type": "code",
      "source": [
        "print(len(keyword.kwlist))"
      ],
      "metadata": {
        "colab": {
          "base_uri": "https://localhost:8080/"
        },
        "id": "qHPajrHVEMl_",
        "outputId": "673a1c3d-68af-47d6-eb72-b184f89bf0af"
      },
      "execution_count": null,
      "outputs": [
        {
          "output_type": "stream",
          "name": "stdout",
          "text": [
            "35\n"
          ]
        }
      ]
    },
    {
      "cell_type": "code",
      "source": [
        "#변수 식별자\n",
        "count = 10\n",
        "user_name = \"Alice\"\n",
        "_is_valid = True\n",
        "\n",
        "#함수 식별자 - 함수는 재활용가능에 장점\n",
        "def calculate_area(radius):\n",
        "    return 3.14159 * radius *radius\n",
        "\n",
        "#클래스 식별자\n",
        "class Car:\n",
        "    def __init__(self, model, year):\n",
        "        self.model = model\n",
        "        self.year = year\n",
        "\n",
        "#모듈 식별자\n",
        "import math as m\n"
      ],
      "metadata": {
        "id": "Xs8RS2HtEZyK"
      },
      "execution_count": null,
      "outputs": []
    },
    {
      "cell_type": "code",
      "source": [
        "def calculate_area(radius):\n",
        "    return 3.14159 * radius *radius"
      ],
      "metadata": {
        "id": "xgNp1OUnFntS"
      },
      "execution_count": null,
      "outputs": []
    },
    {
      "cell_type": "code",
      "source": [
        "calculate_area(3)"
      ],
      "metadata": {
        "colab": {
          "base_uri": "https://localhost:8080/"
        },
        "id": "4pVskAAL0Q50",
        "outputId": "3717e089-994d-4347-fe73-9ed802dc9612"
      },
      "execution_count": null,
      "outputs": [
        {
          "output_type": "execute_result",
          "data": {
            "text/plain": [
              "28.274309999999996"
            ]
          },
          "metadata": {},
          "execution_count": 5
        }
      ]
    },
    {
      "cell_type": "code",
      "source": [
        "calculate_area(10)"
      ],
      "metadata": {
        "colab": {
          "base_uri": "https://localhost:8080/"
        },
        "id": "JooCh4sa0UlR",
        "outputId": "1bd3f8ae-1239-4da0-b223-a14d6e8207d6"
      },
      "execution_count": null,
      "outputs": [
        {
          "output_type": "execute_result",
          "data": {
            "text/plain": [
              "314.159"
            ]
          },
          "metadata": {},
          "execution_count": 6
        }
      ]
    },
    {
      "cell_type": "markdown",
      "source": [
        "###식별자 기본규칙\n",
        "\n",
        "\n",
        "*   키워드를 사용하면 안된다.\n",
        "    - a\n",
        "    -b\n",
        "- 특수문자는 언더 바(_)만 사용\n",
        "*   숫자로 시작하면 안된다\n",
        "- 공백을 포함할 수 없다.\n",
        "\n"
      ],
      "metadata": {
        "id": "CibzFUbZISzH"
      }
    },
    {
      "cell_type": "code",
      "source": [
        "alpha\n",
        "break #키워드\n",
        "alpha10\n",
        "_alpah\n",
        "273alpha #숫자\n",
        "AlpHa\n",
        "ALPHA\n",
        "has space #공백\n"
      ],
      "metadata": {
        "id": "OpAmh79AJdv0"
      },
      "execution_count": null,
      "outputs": []
    },
    {
      "cell_type": "markdown",
      "source": [
        "Q. 주어진 문자열 리스트에서 유효한 Python 변수 이름만을 추출하여 반환하는 함수를 작성하세요\n"
      ],
      "metadata": {
        "id": "X_hNzbwlKEe3"
      }
    },
    {
      "cell_type": "code",
      "source": [
        "#isidentifier()는 파이썬의 문자열 메서드로, 주어진 문자열이 유효한 식별자인지를 확인\n",
        "#isidentifier()는 예약어인지는 따로 체크하지 않음\n",
        "\n",
        "identifiers = [\"var1\", \"2things\", \"variable_name\", \"time!\", \"True\"]\n",
        "\n",
        "def valid_identifiers(identifiers):\n",
        "    valid = []\n",
        "    for identifier in identifiers:\n",
        "        if identifier.isidentifier():\n",
        "            valid.append(identifier)\n",
        "    return valid\n",
        "\n",
        "print(valid_identifiers(identifiers))"
      ],
      "metadata": {
        "colab": {
          "base_uri": "https://localhost:8080/"
        },
        "id": "EKnujMu5J_ot",
        "outputId": "4acf54c2-8732-41b8-f5f9-9f321d2a0721"
      },
      "execution_count": null,
      "outputs": [
        {
          "output_type": "stream",
          "name": "stdout",
          "text": [
            "['var1', 'variable_name', 'True']\n"
          ]
        }
      ]
    },
    {
      "cell_type": "code",
      "source": [
        "#키워드 모듈 사용하여 예약어 확인\n",
        "import keyword\n",
        "\n",
        "identifiers = [\"var1\", \"2things\", \"variable_name\", \"time!\", \"True\"]\n",
        "\n",
        "def valid_variable_names(identifiers):\n",
        "    valid_identifiers = []\n",
        "    for identifier in identifiers:\n",
        "        if identifier.isidentifier() and not keyword.iskeyword(identifier):\n",
        "            valid_identifiers.append(identifier)\n",
        "    return valid_identifiers\n",
        "\n",
        "print(valid_variable_names(identifiers))"
      ],
      "metadata": {
        "colab": {
          "base_uri": "https://localhost:8080/"
        },
        "id": "cGJUWaQu420c",
        "outputId": "ce36e5a5-b4a7-465e-8e81-95519bb009a1"
      },
      "execution_count": null,
      "outputs": [
        {
          "output_type": "stream",
          "name": "stdout",
          "text": [
            "['var1', 'variable_name']\n"
          ]
        }
      ]
    },
    {
      "cell_type": "code",
      "source": [
        "identifiers = [\"var1\", \"2things\", \"variable_name\", \"time!\"]\n",
        "\n",
        "for i in identifiers:\n",
        "    if i[0].isdigit() or not i.isalnum():\n",
        "        identifiers.remove(i)\n",
        "print(identifiers)"
      ],
      "metadata": {
        "id": "KIouud9668U3"
      },
      "execution_count": null,
      "outputs": []
    },
    {
      "cell_type": "markdown",
      "source": [
        "문제 해결! 인덱스 문제 항목 지워지면서 건너뛰어짐\n",
        "\n",
        "[Python List] for loop 안에서 list.remove() 사용 시 주의할 점 https://taylor-kang.tistory.com/12"
      ],
      "metadata": {
        "id": "WLXkcPxG69uJ"
      }
    },
    {
      "cell_type": "code",
      "source": [],
      "metadata": {
        "id": "ZChOCiW38JOE"
      },
      "execution_count": null,
      "outputs": []
    },
    {
      "cell_type": "markdown",
      "source": [
        "파이썬은 snake_case와 CamelCase를 모두 사용\n",
        "- itemlist: item_list itemList\n",
        "- loginstatus: login_status loginStatus\n",
        "- 캐멀 케이스 (대문자로 시작) 클래스\n",
        "- 스네이크 케이스(소문자로 시작) 뒤에 ()가 있다 - 함수\n",
        "- 스네이크 케이스(소문자로 시작) 뒤에 ()가 없다 - 변수\n"
      ],
      "metadata": {
        "id": "LFeFrY3I7JIh"
      }
    },
    {
      "cell_type": "code",
      "source": [
        "from re import A\n",
        "# 연산자\n",
        "a = 5\n",
        "b = 3\n",
        "c = b % a\n",
        "d = b // a\n",
        "e = b / a\n",
        "print(c)\n",
        "print(d)\n",
        "print(e)"
      ],
      "metadata": {
        "colab": {
          "base_uri": "https://localhost:8080/"
        },
        "id": "m9PpzgCO7zaX",
        "outputId": "5091c429-473d-4124-aa04-686dde1c96d8"
      },
      "execution_count": null,
      "outputs": [
        {
          "output_type": "stream",
          "name": "stdout",
          "text": [
            "3\n",
            "0\n",
            "0.6\n"
          ]
        }
      ]
    },
    {
      "cell_type": "code",
      "source": [
        "a = 3\n",
        "b = 5\n",
        "\n",
        "if a > b:\n",
        "    print(a)\n",
        "# False인 상황이라 출력이 되지 않음"
      ],
      "metadata": {
        "id": "uz3NBs-n_qVz"
      },
      "execution_count": null,
      "outputs": []
    },
    {
      "cell_type": "markdown",
      "source": [
        "#### 자료형\n",
        "- 자료형 또는 데이터 타입이란 숫자, 문자 등과 같이 여러 종류의 데이터를 구분하기 위한 분류\n",
        "- 파이썬의 자료형은 크게 숫자(numbers), 시퀀스(sequence), 매핑(mapping) 등으로 나눌 수 있다.\n",
        "- 파이썬의 기본 자료형\n",
        "  - 수치형\n",
        "    - 정수형 : int는 정수(integer)를 나타낸다. 양의 정수와 음의 정수, 숫자 0\n",
        "    - 실수형 : float는 원래 부동소수점수(floating-point number)를 가리키는데, 지금은 단순히 소수점 이하를 표현할 수 있는 수이다.\n",
        "    - 복소수형 : 복소수를 complex로 나타내고 제곱하면 -1이 되는 수 i를 ‘허수(imaginary number)’라고 하는데 허수 i를 j로 표현\n",
        "  - 시퀀스 : 문자열(str), 리스트(list), 튜플(tuple), 사용자 정의 클래스가 시퀀스에 속한다. for 문에서 사용할 수 있는 것들이 바로 시퀀스\n",
        "    - 문자열 : 문자를 한 줄로 표현하며 문자열 인덱스를 이용해 문자열의 일부를 복사\n",
        "    - 리스트 : 대괄호([ ])로 감싸 주고 각 요솟값은 쉼표(,)로 구분\n",
        "    - 튜플 : 튜플은 ( )으로 둘러싸고 각 요솟값은 쉼표(,)로 구분\n",
        "  - 매핑\n",
        "    - 사전 : 딕셔너리(dict)는 키(key)와 값(value)의 짝으로 이뤄지는데 이런 것을 매핑 콜론으로 구분\n",
        "  - 집합 : 집합을 표현하는 세트(set)\n",
        "  - 블린 : 참, 거짓을 표현"
      ],
      "metadata": {
        "id": "8Tk4N3cPAOt2"
      }
    },
    {
      "cell_type": "code",
      "source": [
        "#정수형, 실수형\n",
        "i1 = 3\n",
        "f1 = 3.5\n",
        "print(i1)\n",
        "print(f1)"
      ],
      "metadata": {
        "colab": {
          "base_uri": "https://localhost:8080/"
        },
        "id": "d-P7aK3_CfYP",
        "outputId": "3184e9a7-c79c-4675-a9fd-912ca45362f8"
      },
      "execution_count": null,
      "outputs": [
        {
          "output_type": "stream",
          "name": "stdout",
          "text": [
            "3\n",
            "3.5\n"
          ]
        }
      ]
    },
    {
      "cell_type": "code",
      "source": [
        "#정수(int)\n",
        "print(int(True))\n",
        "print(int(False))\n",
        "print(int('100'))\n",
        "print(int(3.14))\n",
        "print(3/3)"
      ],
      "metadata": {
        "colab": {
          "base_uri": "https://localhost:8080/"
        },
        "id": "jS6_QxCsC-1i",
        "outputId": "ea4ba7a7-5986-46d1-b82e-4ae2da7adf08"
      },
      "execution_count": null,
      "outputs": [
        {
          "output_type": "stream",
          "name": "stdout",
          "text": [
            "1\n",
            "0\n",
            "100\n",
            "3\n",
            "1.0\n"
          ]
        }
      ]
    },
    {
      "cell_type": "code",
      "source": [
        "#실수(float)\n",
        "print(float(True))\n",
        "print(float(False))\n",
        "print(float('100'))\n",
        "print(float(3.14))"
      ],
      "metadata": {
        "colab": {
          "base_uri": "https://localhost:8080/"
        },
        "id": "2qUi_jyTDrid",
        "outputId": "f9134256-9190-4d3e-886d-377e2def35d5"
      },
      "execution_count": null,
      "outputs": [
        {
          "output_type": "stream",
          "name": "stdout",
          "text": [
            "1.0\n",
            "0.0\n",
            "100.0\n",
            "3.14\n"
          ]
        }
      ]
    },
    {
      "cell_type": "code",
      "source": [
        "# 사직연산 : +, * ,/, //. %, **\n",
        "a = 10\n",
        "b = 2.3\n",
        "print(a+b)\n",
        "print(a*b)\n",
        "print(a/b)\n",
        "print(a//b)\n",
        "print(a%b)\n",
        "print(a**b)"
      ],
      "metadata": {
        "colab": {
          "base_uri": "https://localhost:8080/"
        },
        "id": "7Xyum4k6EJ-C",
        "outputId": "559c2238-0949-415a-9c9f-1ddf541cc89b"
      },
      "execution_count": null,
      "outputs": [
        {
          "output_type": "stream",
          "name": "stdout",
          "text": [
            "12.3\n",
            "23.0\n",
            "4.347826086956522\n",
            "4.0\n",
            "0.8000000000000007\n",
            "199.52623149688787\n"
          ]
        }
      ]
    },
    {
      "cell_type": "code",
      "source": [
        "#문자열\n",
        "\n",
        "string = '문자열'\n",
        "a = \"100\"\n",
        "\n",
        "print(string)\n",
        "print(a)"
      ],
      "metadata": {
        "colab": {
          "base_uri": "https://localhost:8080/"
        },
        "id": "LwziCNvEFv-9",
        "outputId": "c577efdf-2e4d-4cfc-988f-415ae87dc1ce"
      },
      "execution_count": null,
      "outputs": [
        {
          "output_type": "stream",
          "name": "stdout",
          "text": [
            "문자열\n",
            "100\n"
          ]
        }
      ]
    },
    {
      "cell_type": "code",
      "source": [
        "a = 100\n",
        "b = 50\n",
        "print(a+b)\n",
        "a = '100 '\n",
        "b = '50'\n",
        "print(a+b)"
      ],
      "metadata": {
        "colab": {
          "base_uri": "https://localhost:8080/"
        },
        "id": "enNgeXI7F48-",
        "outputId": "57badcc6-80a1-4b61-fed3-52c9915ec856"
      },
      "execution_count": null,
      "outputs": [
        {
          "output_type": "stream",
          "name": "stdout",
          "text": [
            "150\n",
            "100 50\n"
          ]
        }
      ]
    },
    {
      "cell_type": "code",
      "source": [
        "a = int('100')\n",
        "b = int('50')\n",
        "print(a + b)"
      ],
      "metadata": {
        "colab": {
          "base_uri": "https://localhost:8080/"
        },
        "id": "Jp1zKtIEGqI_",
        "outputId": "f959c11a-144a-49dc-eef7-49a03b32f2d6"
      },
      "execution_count": null,
      "outputs": [
        {
          "output_type": "stream",
          "name": "stdout",
          "text": [
            "150\n"
          ]
        }
      ]
    },
    {
      "cell_type": "code",
      "source": [
        "a = float('100')\n",
        "b = float('50')\n",
        "print(a + b)"
      ],
      "metadata": {
        "colab": {
          "base_uri": "https://localhost:8080/"
        },
        "id": "iUDSOPUlHPJn",
        "outputId": "f9c8d82e-a8f6-4e1e-c60a-0479cf6d3002"
      },
      "execution_count": null,
      "outputs": [
        {
          "output_type": "stream",
          "name": "stdout",
          "text": [
            "150.0\n"
          ]
        }
      ]
    },
    {
      "cell_type": "code",
      "source": [
        "#사용자 입력\n",
        "#input으로 받은 데이터는 string으로 처리\n",
        "input('인사말을 입력하세요. :')"
      ],
      "metadata": {
        "colab": {
          "base_uri": "https://localhost:8080/",
          "height": 54
        },
        "id": "GON7eLETHVnj",
        "outputId": "3663153a-8b68-4164-f2e9-c0b71f16188b"
      },
      "execution_count": null,
      "outputs": [
        {
          "name": "stdout",
          "output_type": "stream",
          "text": [
            "인사말을 입력하세요. :안녕~\n"
          ]
        },
        {
          "output_type": "execute_result",
          "data": {
            "text/plain": [
              "'안녕~'"
            ],
            "application/vnd.google.colaboratory.intrinsic+json": {
              "type": "string"
            }
          },
          "metadata": {},
          "execution_count": 36
        }
      ]
    },
    {
      "cell_type": "code",
      "source": [
        "a = int(input('첫번째 숫자: '))\n",
        "b = int(input('두번째 숫자: '))\n",
        "print('두 숫자의 합은 ' , a+b)"
      ],
      "metadata": {
        "colab": {
          "base_uri": "https://localhost:8080/"
        },
        "id": "SADp9Z1wHpvP",
        "outputId": "586becac-d27a-4471-eb78-9e13bce0c743"
      },
      "execution_count": null,
      "outputs": [
        {
          "output_type": "stream",
          "name": "stdout",
          "text": [
            "첫번째 숫자: 5\n",
            "두번째 숫자: 3\n",
            "두 숫자의 합은  8\n"
          ]
        }
      ]
    },
    {
      "cell_type": "code",
      "source": [
        "#실수 + 실수 -> 실수\n",
        "#Q. 3과 3.3을 입력하고 숫자 연산을 수앻하여 6.3을 출력하세요\n",
        "\n",
        "num1 = float(input('숫자3 입력하시오. '))\n",
        "num2 = float(input('숫자 3.3 입력하시오. '))\n",
        "print('숫자연산을 수행한 결과는 ', num1 + num2)"
      ],
      "metadata": {
        "colab": {
          "base_uri": "https://localhost:8080/"
        },
        "id": "EiKN6A7PITr4",
        "outputId": "eb88e815-5687-4fb4-a726-216deb8ae260"
      },
      "execution_count": null,
      "outputs": [
        {
          "output_type": "stream",
          "name": "stdout",
          "text": [
            "숫자3 입력하시오. 3\n",
            "숫자 3.3 입력하시오. 3.3\n",
            "숫자연산을 수행한 결과는  6.3\n"
          ]
        }
      ]
    },
    {
      "cell_type": "code",
      "source": [
        "#정수 + 실수 -> 실수\n",
        "#Q. 3과 3.3을 입력하고 숫자 연산을 수앻하여 6.3을 출력하세요\n",
        "\n",
        "num1 = int(input('정수 숫자3 입력하시오. '))\n",
        "num2 = float(input('실수 숫자 3.3 입력하시오. '))\n",
        "print('숫자연산을 수행한 결과는 ', num1 + num2)"
      ],
      "metadata": {
        "colab": {
          "base_uri": "https://localhost:8080/"
        },
        "id": "NMf2RxIqJb1l",
        "outputId": "44922f5d-889c-4903-ef21-fc25f2d45d7c"
      },
      "execution_count": null,
      "outputs": [
        {
          "output_type": "stream",
          "name": "stdout",
          "text": [
            "정수 숫자3 입력하시오. 3\n",
            "실수 숫자 3.3 입력하시오. 3.3\n",
            "숫자연산을 수행한 결과는  6.3\n"
          ]
        }
      ]
    },
    {
      "cell_type": "code",
      "source": [
        "#Q. a = 52와 b = 52.273일때 a+b는 5252.273으로 출력되도록 a와 b를 문자열 자료형으로 변환하세요.\n",
        "a = 52\n",
        "b = 52.273\n",
        "print(type(a))\n",
        "a = str(a)\n",
        "b = str(b)\n",
        "print(a + b)\n",
        "type(a)"
      ],
      "metadata": {
        "colab": {
          "base_uri": "https://localhost:8080/"
        },
        "id": "gH_Jt2f1MsDN",
        "outputId": "f5237ab5-ace8-4035-910d-87171f9601ec"
      },
      "execution_count": null,
      "outputs": [
        {
          "output_type": "stream",
          "name": "stdout",
          "text": [
            "<class 'int'>\n",
            "5252.273\n"
          ]
        },
        {
          "output_type": "execute_result",
          "data": {
            "text/plain": [
              "str"
            ]
          },
          "metadata": {},
          "execution_count": 46
        }
      ]
    },
    {
      "cell_type": "code",
      "source": [
        "#문자열 : \"\", '', \"\"\" \"\"\", ''' '''\n",
        "#p1 = 'python's value is great'\n",
        "p1 = \"python's value is great\"\n",
        "print(p1)\n",
        "\n",
        "p1 = '''python's value is great'''\n",
        "print(p1)\n",
        "\n",
        "p1 = \"\"\"python's value is great\"\"\"\n",
        "print(p1)"
      ],
      "metadata": {
        "colab": {
          "base_uri": "https://localhost:8080/"
        },
        "id": "F1lODWmYOBYs",
        "outputId": "8d21c1b9-af9c-449c-fd6e-2888ae52d74a"
      },
      "execution_count": null,
      "outputs": [
        {
          "output_type": "stream",
          "name": "stdout",
          "text": [
            "python's value is great\n",
            "python's value is great\n",
            "python's value is great\n"
          ]
        }
      ]
    },
    {
      "cell_type": "code",
      "source": [
        "#백슬래시(\\)는 물자열 안에서 작은 따옴표(')를 문자열의 끝을 의미하지 않는 일반 문자로 포함시키기 위해 사용\n",
        "#이 기술을 이스케이프라고 함.\n",
        "\n",
        "p1 = 'python\\'s value is great'\n",
        "print(p1)"
      ],
      "metadata": {
        "colab": {
          "base_uri": "https://localhost:8080/"
        },
        "id": "bwgI_CCOPhqs",
        "outputId": "85e356b6-81b8-4d4a-f0c6-48771564b329"
      },
      "execution_count": null,
      "outputs": [
        {
          "output_type": "stream",
          "name": "stdout",
          "text": [
            "python's value is great\n"
          ]
        }
      ]
    },
    {
      "cell_type": "code",
      "source": [
        "#\\n 행 바꿈\n",
        "#\\t 탭 이동\n",
        "y1 = \"Once you study data analysis You need Python\"\n",
        "y2 = \"Once you study data analysis\\nYou need Python\"\n",
        "y3 = \"Once you study data analysis\\tYou need Python\"\n",
        "print(y1)\n",
        "print(\"=\" * 50)\n",
        "print(y2)\n",
        "print(\"=\" * 50)\n",
        "print(y3)"
      ],
      "metadata": {
        "colab": {
          "base_uri": "https://localhost:8080/"
        },
        "id": "5qRbSwYBP06M",
        "outputId": "0e231ea8-700b-4c2a-f170-6ed9a456bb52"
      },
      "execution_count": null,
      "outputs": [
        {
          "output_type": "stream",
          "name": "stdout",
          "text": [
            "Once you study data analysis You need Python\n",
            "==================================================\n",
            "Once you study data analysis\n",
            "You need Python\n",
            "==================================================\n",
            "Once you study data analysis\tYou need Python\n"
          ]
        }
      ]
    },
    {
      "cell_type": "code",
      "source": [
        "y2 = '''\n",
        "Once you study data analysis\n",
        "You need Python\n",
        "==================================================\n",
        "                            \tYou need Python\n",
        "'''\n",
        "y3 = \"\"\"\n",
        "Once you study data analysis\n",
        "You need Python\n",
        "==================================================\n",
        "                            \tYou need Python\n",
        "\"\"\"\n",
        "print(y2)\n",
        "print(y3)"
      ],
      "metadata": {
        "colab": {
          "base_uri": "https://localhost:8080/"
        },
        "id": "NDbu2724Rs9X",
        "outputId": "108b3b9a-4de8-40e1-ac5b-17e02d318a50"
      },
      "execution_count": null,
      "outputs": [
        {
          "output_type": "stream",
          "name": "stdout",
          "text": [
            "\n",
            "Once you study data analysis\n",
            "You need Python\n",
            "==================================================\n",
            "                            \tYou need Python\n",
            "\n",
            "\n",
            "Once you study data analysis\n",
            "You need Python\n",
            "==================================================\n",
            "                            \tYou need Python\n",
            "\n"
          ]
        }
      ]
    },
    {
      "cell_type": "code",
      "source": [
        "a1 = 'Python'\n",
        "a2 = ' is easy to learn'\n",
        "print(a1 + a2)\n",
        "print(\"=\" * 23)"
      ],
      "metadata": {
        "colab": {
          "base_uri": "https://localhost:8080/"
        },
        "id": "-E25o_wwSUCD",
        "outputId": "038a5951-2009-48ab-dce2-664f0d3c46ca"
      },
      "execution_count": null,
      "outputs": [
        {
          "output_type": "stream",
          "name": "stdout",
          "text": [
            "Python is easy to learn\n",
            "=======================\n"
          ]
        }
      ]
    },
    {
      "cell_type": "code",
      "source": [
        "a = int(input('정수형 숫자를 입력하시오: '))\n",
        "b = int(float(input('실수형 숫자를 입력하시오: ')))\n",
        "\n",
        "if a > b:\n",
        "    print(f'정수형 숫자 {a}가 더 큽니다.')\n",
        "elif a < b:\n",
        "    print(f'실수형 숫자 {b}가 더 큽니다.')\n",
        "else:\n",
        "    print('두 숫자는 같습니다.')"
      ],
      "metadata": {
        "colab": {
          "base_uri": "https://localhost:8080/"
        },
        "id": "kyt1cVTMT_ME",
        "outputId": "26620766-ada8-4d88-8b65-fcb8ae3caa6b"
      },
      "execution_count": null,
      "outputs": [
        {
          "output_type": "stream",
          "name": "stdout",
          "text": [
            "정수형 숫자를 입력하시오: 3\n",
            "실수형 숫자를 입력하시오: 3.3\n",
            "두 숫자는 같습니다.\n"
          ]
        }
      ]
    },
    {
      "cell_type": "code",
      "source": [
        "#Q. 아래와 같이 출력할 수 있는 string을 만드세요\n",
        "string = \"\"\"\n",
        "\"What a wonderful world!\"\n",
        "he said loudly\n",
        "\"\"\"\n",
        "print(string)"
      ],
      "metadata": {
        "colab": {
          "base_uri": "https://localhost:8080/"
        },
        "id": "PLoQPjrtUQHI",
        "outputId": "a2e79c25-4258-4fba-c526-2fed6517ae03"
      },
      "execution_count": null,
      "outputs": [
        {
          "output_type": "stream",
          "name": "stdout",
          "text": [
            "\n",
            "\"What a wonderful world!\"\n",
            "he said loudly\n",
            "\n"
          ]
        }
      ]
    },
    {
      "cell_type": "markdown",
      "source": [
        "#자료형 -List\n",
        "\n",
        "-리스트는 [ ]로 표시하면 [ ]안의 요소를 콤마로 구분하여 순서있게 나열\n",
        "- 순서 있으니 인덱스로 값 찾을수 있음"
      ],
      "metadata": {
        "id": "lQqNrwpDJmZm"
      }
    },
    {
      "cell_type": "code",
      "source": [
        "#자료형 - List\n",
        "#리스트는 [] 로 표시하면 []안의 요소를 콤마로 구분하여 순서있게 나열\n",
        "list1 = [1,2,3,4,5]\n",
        "list2 = ['a', 'b', 'c']\n",
        "list3 = [1, 'a', 'abc', [1,2,3,4,5], ['a', 'b', 'c']]\n",
        "print(list1)\n",
        "print(list2)\n",
        "print(list3)"
      ],
      "metadata": {
        "colab": {
          "base_uri": "https://localhost:8080/"
        },
        "id": "z-fPZFrPUrbK",
        "outputId": "7a9f9422-30ad-4945-c28e-0bc765f6204f"
      },
      "execution_count": null,
      "outputs": [
        {
          "output_type": "stream",
          "name": "stdout",
          "text": [
            "[1, 2, 3, 4, 5]\n",
            "['a', 'b', 'c']\n",
            "[1, 'a', 'abc', [1, 2, 3, 4, 5], ['a', 'b', 'c']]\n"
          ]
        }
      ]
    },
    {
      "cell_type": "code",
      "source": [
        "#인덱싱\n",
        "\n",
        "list1 = [1,2,3,4,5]\n",
        "print(list1[2])\n",
        "print(list1[0:2])\n",
        "print(list1[:4])"
      ],
      "metadata": {
        "colab": {
          "base_uri": "https://localhost:8080/"
        },
        "id": "9nTCFAQeYHeJ",
        "outputId": "c58a6697-49eb-4557-9cee-1450f608d3d6"
      },
      "execution_count": null,
      "outputs": [
        {
          "output_type": "stream",
          "name": "stdout",
          "text": [
            "3\n",
            "[1, 2]\n",
            "[1, 2, 3, 4]\n"
          ]
        }
      ]
    },
    {
      "cell_type": "code",
      "source": [
        "list3 = [1, 'a', 'abc', [1,2,3,4,5], ['a', 'b', 'c']]\n",
        "#리스트내 리스트 인덱싱\n",
        "list3[3][2]\n",
        "list3[4][0]"
      ],
      "metadata": {
        "colab": {
          "base_uri": "https://localhost:8080/",
          "height": 35
        },
        "id": "mUYiPB_kqZn-",
        "outputId": "ef2f0ce4-c6aa-430d-c781-d139cfc2a8ae"
      },
      "execution_count": null,
      "outputs": [
        {
          "output_type": "execute_result",
          "data": {
            "text/plain": [
              "'a'"
            ],
            "application/vnd.google.colaboratory.intrinsic+json": {
              "type": "string"
            }
          },
          "metadata": {},
          "execution_count": 80
        }
      ]
    },
    {
      "cell_type": "code",
      "source": [
        "#리스트 수정, 삭제\n",
        "a = [ 0, 1, 2, 3, 4, 5, 6, 7, 8, 9]\n",
        "b = ['a', 'b', 'c']\n",
        "a[0] = 1\n",
        "print(a)\n",
        "b[1] = 'a'\n",
        "print(b)\n",
        "del a[0]\n",
        "print(a)\n",
        "del b[1]\n",
        "print(b)"
      ],
      "metadata": {
        "colab": {
          "base_uri": "https://localhost:8080/"
        },
        "id": "kwxk595Cq8NI",
        "outputId": "4a2ecae5-ddcc-4123-ac50-2247eb0151d5"
      },
      "execution_count": null,
      "outputs": [
        {
          "output_type": "stream",
          "name": "stdout",
          "text": [
            "[1, 1, 2, 3, 4, 5, 6, 7, 8, 9]\n",
            "['a', 'a', 'c']\n",
            "[1, 2, 3, 4, 5, 6, 7, 8, 9]\n",
            "['a', 'c']\n"
          ]
        }
      ]
    },
    {
      "cell_type": "code",
      "source": [
        "#끝에서 부터 인덱싱 : -1\n",
        "a = [ 0, 1, 2, 3, 4, 5, 6, 7, 8, 9]\n",
        "b = ['a', 'b', 'c']\n",
        "print(a[-2])\n",
        "print(a[-4:-1])\n",
        "print(a[-4:])"
      ],
      "metadata": {
        "colab": {
          "base_uri": "https://localhost:8080/"
        },
        "id": "zKuNOxiEsbop",
        "outputId": "3eb4bb63-e9f6-4ba9-c96a-bf8f8c173200"
      },
      "execution_count": null,
      "outputs": [
        {
          "output_type": "stream",
          "name": "stdout",
          "text": [
            "8\n",
            "[6, 7, 8]\n",
            "[6, 7, 8, 9]\n"
          ]
        }
      ]
    },
    {
      "cell_type": "code",
      "source": [
        "#리스트 확장\n",
        "h = [1,2,3]\n",
        "h.extend([4,5]) #반복 가능한 객체의 모든 요소를 리스트에 추가\n",
        "print(h)\n",
        "h.append(6)  #단일 객체를 추가\n",
        "print(h)\n",
        "h.insert(0,5)   #원하는 위치에 객체를 추가\n",
        "print(h)"
      ],
      "metadata": {
        "colab": {
          "base_uri": "https://localhost:8080/"
        },
        "id": "yX_xEaxBtYNW",
        "outputId": "5b348bb3-1bc1-4a1b-8a99-fd472c57fd29"
      },
      "execution_count": null,
      "outputs": [
        {
          "output_type": "stream",
          "name": "stdout",
          "text": [
            "[1, 2, 3, 4, 5]\n",
            "[1, 2, 3, 4, 5, 6]\n",
            "[5, 1, 2, 3, 4, 5, 6]\n"
          ]
        }
      ]
    },
    {
      "cell_type": "code",
      "source": [],
      "metadata": {
        "id": "NJ07GZhtugOr"
      },
      "execution_count": null,
      "outputs": []
    },
    {
      "cell_type": "markdown",
      "source": [
        "Q. list1에서 다음을 수행하세요\n",
        "- 33을 출력\n",
        "- 82를 리스트에 추가\n",
        "- 87의 인덱스 구하기 - 도전\n",
        "- 인덱스 3에서 10까지의 값을 출력하고 list2에 저장한 후 내림차순 정렬하기 - 도전\n",
        "- 39를 11로 변경\n",
        "- [69,45,58] 출력\n",
        "- 짝수 인덱스의 값으로 구성된 리스트 출력하기\n",
        "- 인덱스가 가장 큰수를 삭제하기\n",
        "- 인덱스 3, 5인 값으로 4칙 연산하기\n",
        "\n",
        "list1 = [58, 45, 69, 19,  4, 87, 29, 13, 39, 15, 54, [8, 33, 11], 27, 49, 63, 98, 22, 82]"
      ],
      "metadata": {
        "id": "mEayZbG1vCvj"
      }
    },
    {
      "cell_type": "code",
      "source": [
        "list1 = [58, 45, 69, 19, 4, 87, 29, 13, 39, 15, 54, [8, 33, 11], 27, 49, 63, 98, 22, 82]\n",
        "print(list1[11][1])\n",
        "list1.append(82)\n",
        "print(list1)\n",
        "print(list1.index(87))\n",
        "list2 =[]\n",
        "list2 = list1[3:11]\n",
        "list2.sort(reverse=True)\n",
        "print(list2)\n",
        "list1 [8] = 11\n",
        "print(list1)\n",
        "print(list1[2::-1]) #데이터 처리에 중요한 부분\n",
        "print(list1[0::2])  #데이터 처리에 중요한 부분\n",
        "del list1[-1]\n",
        "print(list1)\n",
        "print(list1[3] + list1[5])\n",
        "print(list1[3] - list1[5])\n",
        "print(list1[3] * list1[5])\n",
        "print(list1[3] / list1[5])"
      ],
      "metadata": {
        "colab": {
          "base_uri": "https://localhost:8080/"
        },
        "id": "2LGJcHTDvojp",
        "outputId": "1aace656-ee67-43a5-dee8-8e9f7c925f63"
      },
      "execution_count": null,
      "outputs": [
        {
          "output_type": "stream",
          "name": "stdout",
          "text": [
            "33\n",
            "[58, 45, 69, 19, 4, 87, 29, 13, 39, 15, 54, [8, 33, 11], 27, 49, 63, 98, 22, 82, 82]\n",
            "5\n",
            "[87, 54, 39, 29, 19, 15, 13, 4]\n",
            "[58, 45, 69, 19, 4, 87, 29, 13, 11, 15, 54, [8, 33, 11], 27, 49, 63, 98, 22, 82, 82]\n",
            "[69, 45, 58]\n",
            "[58, 69, 4, 29, 11, 54, 27, 63, 22, 82]\n",
            "[58, 45, 69, 19, 4, 87, 29, 13, 11, 15, 54, [8, 33, 11], 27, 49, 63, 98, 22, 82]\n",
            "106\n",
            "-68\n",
            "1653\n",
            "0.21839080459770116\n"
          ]
        }
      ]
    },
    {
      "cell_type": "code",
      "source": [
        "list1 = [58, 45, 69, 19, 4, 87, 29, 13, 39, 15, 54, [8, 33, 11], 27, 49, 63, 98, 22, 82]\n",
        "\n",
        "position = list1.index(87)\n",
        "list1[position] = 555\n",
        "print(list1)"
      ],
      "metadata": {
        "colab": {
          "base_uri": "https://localhost:8080/"
        },
        "id": "Lj8vlfQLz0Wm",
        "outputId": "9a9ab244-643e-45e9-ef12-a46d45427625"
      },
      "execution_count": null,
      "outputs": [
        {
          "output_type": "stream",
          "name": "stdout",
          "text": [
            "[58, 45, 69, 19, 4, 555, 29, 13, 39, 15, 54, [8, 33, 11], 27, 49, 63, 98, 22, 82]\n"
          ]
        }
      ]
    },
    {
      "cell_type": "code",
      "source": [
        "list1 = [58, 45, 69, 19, 4, 87, 29, 13, 39, 15, 54, 27, 49, 63, 98, 22, 82]\n",
        "list2 = []\n",
        "for i in list1:\n",
        "    if i % 2 == 1:\n",
        "        list2.append(i)\n",
        "print(list2)"
      ],
      "metadata": {
        "colab": {
          "base_uri": "https://localhost:8080/"
        },
        "id": "x4IwFU9-6c6H",
        "outputId": "0b350e1d-616c-453c-eb73-0de672aa7385"
      },
      "execution_count": null,
      "outputs": [
        {
          "output_type": "stream",
          "name": "stdout",
          "text": [
            "[45, 69, 19, 87, 29, 13, 39, 15, 27, 49, 63]\n"
          ]
        }
      ]
    },
    {
      "cell_type": "code",
      "source": [
        "list1 = [58, 45, 69, 19, 4, 87, 29, 13, 39, 15, 54, [8, 33, 11], 27, 49, 63, 98, 22, 82]\n",
        "print(list1)\n",
        "print(list1[7::-1], '\\n')\n",
        "print(list1[7::2], '\\n')\n",
        "print(list1[7::-2], '\\n')\n"
      ],
      "metadata": {
        "colab": {
          "base_uri": "https://localhost:8080/"
        },
        "id": "dt71Liy-8Wo0",
        "outputId": "07655ca3-7872-4178-cd7d-d5b140fe4a7e"
      },
      "execution_count": null,
      "outputs": [
        {
          "output_type": "stream",
          "name": "stdout",
          "text": [
            "[58, 45, 69, 19, 4, 87, 29, 13, 39, 15, 54, [8, 33, 11], 27, 49, 63, 98, 22, 82]\n",
            "[13, 29, 87, 4, 19, 69, 45, 58] \n",
            "\n",
            "[13, 15, [8, 33, 11], 49, 98, 82] \n",
            "\n",
            "[13, 87, 19, 45] \n",
            "\n"
          ]
        }
      ]
    },
    {
      "cell_type": "markdown",
      "source": [
        "#### sort 와 sorted 차이점\n",
        "\n",
        "1. 메서드 vs 함수:\n",
        "- sort(): ***리스트 객체***의 내장 메서드입니다. 즉, 리스트에서만 사용할 수 있습니다.\n",
        "- sorted(): *내장 함수*로, 어떤 반복 가능한(iterable) 객체에도 사용될 수 있습니다. 예를 들면 리스트, 튜플, 딕셔너리, 문자열 등에 사용할 수 있습니다.\n",
        "\n",
        "2. 반환 값:\n",
        "- sort(): 리스트를 원 위치에서(in-place) 정렬하고 None을 반환합니다. 따라서 원래의 리스트 자체가 변경됩니다.\n",
        "- sorted(): 정렬된 새로운 리스트를 반환합니다. 원래의 객체는 변경되지 않습니다.\n",
        "\n",
        "3. 유용성:\n",
        "- sort(): 리스트에서만 작동하기 때문에 리스트만 정렬할 수 있습니다.\n",
        "- sorted(): 다양한 객체를 정렬할 수 있으며 결과는 항상 리스트로 반환됩니다."
      ],
      "metadata": {
        "id": "bHyr800F9wv-"
      }
    },
    {
      "cell_type": "code",
      "source": [
        "#sort()\n",
        "my_list = [3, 1, 2]\n",
        "my_list.sort()\n",
        "print(my_list)"
      ],
      "metadata": {
        "colab": {
          "base_uri": "https://localhost:8080/"
        },
        "id": "mQ7VTBs48xB1",
        "outputId": "c354d8d4-5554-4f1c-ca15-73c1bab73a47"
      },
      "execution_count": null,
      "outputs": [
        {
          "output_type": "stream",
          "name": "stdout",
          "text": [
            "[1, 2, 3]\n"
          ]
        }
      ]
    },
    {
      "cell_type": "code",
      "source": [
        "#sorted()\n",
        "my_tuple = (3, 1, 2)\n",
        "new_list = sorted(my_tuple)\n",
        "print(my_tuple)\n",
        "print(new_list)"
      ],
      "metadata": {
        "colab": {
          "base_uri": "https://localhost:8080/"
        },
        "id": "cJZZji4DBCPv",
        "outputId": "9e30b678-0c0a-4497-900d-caac40830b0e"
      },
      "execution_count": null,
      "outputs": [
        {
          "output_type": "stream",
          "name": "stdout",
          "text": [
            "(3, 1, 2)\n",
            "[1, 2, 3]\n"
          ]
        }
      ]
    },
    {
      "cell_type": "code",
      "source": [
        "d = {\"dream\": 0, \"car\": 99, \"blockdmask\": 1, \"error\": 30, \"app\": 20}\n",
        "\n",
        "# 오리지널 딕셔너리\n",
        "print(f'origin         : {d}\\n')\n",
        "\n",
        "# dictionary.items()\n",
        "d1 = sorted(d.items())\n",
        "print(f'sorted(d.items())      : {d1}')\n",
        "print(f'dict(sorted(d.items()) : {dict(d1)}')\n",
        "\n",
        "print()\n",
        "\n",
        "# 키 값만 빼서 정렬하려는 경우, key 만 빠지기 때문에 딕셔너리가 될수 없다.\n",
        "d2 = sorted(d)\n",
        "print(f'sorted(d)       : {d2}')\n",
        "\n",
        "print(d.items())"
      ],
      "metadata": {
        "colab": {
          "base_uri": "https://localhost:8080/"
        },
        "id": "aWbwQi6jBQE2",
        "outputId": "09e24faf-23a8-4e00-b320-7136b667407d"
      },
      "execution_count": null,
      "outputs": [
        {
          "output_type": "stream",
          "name": "stdout",
          "text": [
            "origin         : {'dream': 0, 'car': 99, 'blockdmask': 1, 'error': 30, 'app': 20}\n",
            "\n",
            "sorted(d.items())      : [('app', 20), ('blockdmask', 1), ('car', 99), ('dream', 0), ('error', 30)]\n",
            "dict(sorted(d.items()) : {'app': 20, 'blockdmask': 1, 'car': 99, 'dream': 0, 'error': 30}\n",
            "\n",
            "sorted(d)       : ['app', 'blockdmask', 'car', 'dream', 'error']\n",
            "dict_items([('dream', 0), ('car', 99), ('blockdmask', 1), ('error', 30), ('app', 20)])\n"
          ]
        }
      ]
    },
    {
      "cell_type": "markdown",
      "source": [],
      "metadata": {
        "id": "nkwXE8pHDqSy"
      }
    },
    {
      "cell_type": "code",
      "source": [
        "list = [5,6,9,7,8]\n",
        "new_list = list.sort()\n",
        "print(list)\n",
        "print(new_list)     # sort()는 리턴값 없음"
      ],
      "metadata": {
        "colab": {
          "base_uri": "https://localhost:8080/"
        },
        "id": "i5X2s9IrDi-p",
        "outputId": "00e43ebb-0d5d-40d9-f33b-af2ee7baa772"
      },
      "execution_count": null,
      "outputs": [
        {
          "output_type": "stream",
          "name": "stdout",
          "text": [
            "[5, 6, 7, 8, 9]\n",
            "None\n"
          ]
        }
      ]
    },
    {
      "cell_type": "code",
      "source": [
        "list = [5,6,9,7,8]\n",
        "new_list = sorted(list)\n",
        "print(list)\n",
        "print(new_list)         #sorted()는 리턴값 있음"
      ],
      "metadata": {
        "colab": {
          "base_uri": "https://localhost:8080/"
        },
        "id": "vNtOs2YNEqq4",
        "outputId": "225c6b8e-260f-4546-eedf-49b0ec831d8f"
      },
      "execution_count": null,
      "outputs": [
        {
          "output_type": "stream",
          "name": "stdout",
          "text": [
            "[5, 6, 9, 7, 8]\n",
            "[5, 6, 7, 8, 9]\n"
          ]
        }
      ]
    },
    {
      "cell_type": "code",
      "source": [
        "list1 = [58, 45, 69, 19, 4, 87, 29, 13, 39, 15, 54, [8, 33, 11], 27, 49, 63, 98, 22, 82]\n",
        "list2 = list1[3:11]\n",
        "l_sort = sorted(list2, reverse=True)\n",
        "l_sort"
      ],
      "metadata": {
        "colab": {
          "base_uri": "https://localhost:8080/"
        },
        "id": "iFxe16QUFCwx",
        "outputId": "0ec4ee2a-3aca-4cb9-9ebb-9e1b498345e6"
      },
      "execution_count": null,
      "outputs": [
        {
          "output_type": "execute_result",
          "data": {
            "text/plain": [
              "[87, 54, 39, 29, 19, 15, 13, 4]"
            ]
          },
          "metadata": {},
          "execution_count": 133
        }
      ]
    },
    {
      "cell_type": "code",
      "source": [
        "list3 = list1[3:11]\n",
        "list3.sort(reverse=True)\n",
        "print(list3)"
      ],
      "metadata": {
        "colab": {
          "base_uri": "https://localhost:8080/"
        },
        "id": "DC3PmD4uGPEA",
        "outputId": "478822a0-4e06-4eb9-dc3b-2920c42dffcf"
      },
      "execution_count": null,
      "outputs": [
        {
          "output_type": "stream",
          "name": "stdout",
          "text": [
            "[87, 54, 39, 29, 19, 15, 13, 4]\n"
          ]
        }
      ]
    },
    {
      "cell_type": "markdown",
      "source": [
        "q. 아래 list를 sort, sorted를 이용해서 올림차순, 내림차룬으로 각각 출력하라"
      ],
      "metadata": {
        "id": "VUn5rfk-Gzp2"
      }
    },
    {
      "cell_type": "code",
      "source": [],
      "metadata": {
        "id": "YxhRbjg8GgRJ"
      },
      "execution_count": null,
      "outputs": []
    },
    {
      "cell_type": "markdown",
      "source": [
        "Task1_0425. 주어진 숫자 리스트에서 최소값과 최대값을 찾아 출력하세요.\n",
        "\n",
        "numbers = [58, 45, 69, 19, 4, 87, 29, 13, 39, 15]"
      ],
      "metadata": {
        "id": "Ivi2Td54HFal"
      }
    },
    {
      "cell_type": "markdown",
      "source": [
        "Task2_0425. 주어진 숫자 리스트의 모든 요소의 합계와 평균을 계산하고 출력하세요\n",
        "\n",
        "numbers = [58, 45, 69, 19, 4, 87, 29, 13, 39, 15]"
      ],
      "metadata": {
        "id": "kQHaD6SiHHjV"
      }
    },
    {
      "cell_type": "markdown",
      "source": [
        "Task3_0425. 주어진 리스트에서 특정 요소가 등장하는 모든 인덱스를 리스트로 만들어 출력하세요.\n",
        "\n",
        "items = ['apple', 'banana', 'cherry', 'apple', 'cherry', 'apple']\\\n",
        "target = 'apple'\n"
      ],
      "metadata": {
        "id": "UHEYFku9HMJi"
      }
    },
    {
      "cell_type": "markdown",
      "source": [
        "Task4_0425. 주어진 리스트에서 연속해서 반복되는 요소만 제거하고, 결과 리스트를 반환하세요. 단, 처음 등장하는 요소는 유지해야 합니다.\n",
        "\n",
        "예를 들어, ['a', 'a', 'b', 'c', 'c', 'c', 'd', 'e', 'e']가 입력되면, ['a', 'b', 'c', 'd', 'e']를 출력해야 합니다."
      ],
      "metadata": {
        "id": "gF4Axlm8HMti"
      }
    },
    {
      "cell_type": "markdown",
      "source": [
        "Task5_0425 주어진 정수 리스트와 회전 횟수 k에 대해 리스트를 오른쪽으로 k만큼 회전시킨 결과를 반환하세요. k가 리스트의 길이보다 클 수 있으며, 이 경우 k를 리스트 길이로 나눈 나머지만큼 실제 회전시키면 됩니다.\n",
        "\n",
        "예를 들어, [1, 2, 3, 4, 5]와 k=2가 주어지면, 결과는 [4, 5, 1, 2, 3]이 되어야 합니다."
      ],
      "metadata": {
        "id": "zWOVLSBqHPiX"
      }
    },
    {
      "cell_type": "code",
      "source": [
        "[(x, y) for x in [1, 2, 3] for y in [3, 1, 4] if x != y]"
      ],
      "metadata": {
        "colab": {
          "base_uri": "https://localhost:8080/"
        },
        "id": "jzupdKoxkWG0",
        "outputId": "152913ef-b329-4660-bfa4-496a2838b5bf"
      },
      "execution_count": null,
      "outputs": [
        {
          "output_type": "execute_result",
          "data": {
            "text/plain": [
              "[(1, 3), (1, 4), (2, 3), (2, 1), (2, 4), (3, 1), (3, 4)]"
            ]
          },
          "metadata": {},
          "execution_count": 4
        }
      ]
    },
    {
      "cell_type": "code",
      "source": [
        "[x**2 for x in range(10)]"
      ],
      "metadata": {
        "colab": {
          "base_uri": "https://localhost:8080/"
        },
        "id": "xZ4M1IHIkyhK",
        "outputId": "7cb6108a-bb87-4d34-9abc-9a412e703e9c"
      },
      "execution_count": null,
      "outputs": [
        {
          "output_type": "execute_result",
          "data": {
            "text/plain": [
              "[0, 1, 4, 9, 16, 25, 36, 49, 64, 81]"
            ]
          },
          "metadata": {},
          "execution_count": 5
        }
      ]
    },
    {
      "cell_type": "code",
      "source": [
        "vec = [-4, -2, 0, 2, 4]\n",
        "[x*2 for x in vec]\n",
        "[x for x in vec if x >= 0]\n",
        "[abs(x) for x in vec]\n",
        "[(x, x**2) for x in range(6)]\n",
        "\n"
      ],
      "metadata": {
        "id": "EUJrUomok_I9",
        "colab": {
          "base_uri": "https://localhost:8080/"
        },
        "outputId": "29424be1-30ae-43d8-b4be-c8c258d1655c"
      },
      "execution_count": null,
      "outputs": [
        {
          "output_type": "execute_result",
          "data": {
            "text/plain": [
              "[(0, 0), (1, 1), (2, 4), (3, 9), (4, 16), (5, 25)]"
            ]
          },
          "metadata": {},
          "execution_count": 10
        }
      ]
    },
    {
      "cell_type": "code",
      "source": [
        "matrix = [\n",
        "    [1, 2, 3, 4],\n",
        "    [5, 6, 7, 8],\n",
        "    [9, 10, 11, 12]\n",
        "]\n",
        "transposed = []\n",
        "for i in range(4):\n",
        "    transposed.append([r[i] for r in matrix])\n",
        "\n",
        "transposed\n"
      ],
      "metadata": {
        "colab": {
          "base_uri": "https://localhost:8080/"
        },
        "id": "StPcZ2VEn2--",
        "outputId": "4228695c-2883-4b91-9085-40cc9fe4ade1"
      },
      "execution_count": null,
      "outputs": [
        {
          "output_type": "execute_result",
          "data": {
            "text/plain": [
              "[[1, 5, 9], [2, 6, 10], [3, 7, 11], [4, 8, 12]]"
            ]
          },
          "metadata": {},
          "execution_count": 15
        }
      ]
    },
    {
      "cell_type": "code",
      "source": [
        "list(zip(*matrix))"
      ],
      "metadata": {
        "colab": {
          "base_uri": "https://localhost:8080/"
        },
        "id": "4NOYhrc3o2gp",
        "outputId": "6f977a95-03d9-4f66-fd97-abaac189b8eb"
      },
      "execution_count": null,
      "outputs": [
        {
          "output_type": "execute_result",
          "data": {
            "text/plain": [
              "[(1, 5, 9), (2, 6, 10), (3, 7, 11), (4, 8, 12)]"
            ]
          },
          "metadata": {},
          "execution_count": 19
        }
      ]
    },
    {
      "cell_type": "code",
      "source": [
        "for i, v in enumerate(['tic', 'tac', 'toe']):\n",
        "    print(i, v)"
      ],
      "metadata": {
        "colab": {
          "base_uri": "https://localhost:8080/"
        },
        "id": "lX6Qag7ZpnVM",
        "outputId": "0920a33f-cacc-46b8-ae65-90b1a9147f2f"
      },
      "execution_count": null,
      "outputs": [
        {
          "output_type": "stream",
          "name": "stdout",
          "text": [
            "0 tic\n",
            "1 tac\n",
            "2 toe\n"
          ]
        }
      ]
    },
    {
      "cell_type": "markdown",
      "source": [
        "# 자료형 - Tuple\n",
        "- 튜플은 변경할 수 없는 (immutable)순서가 있는 컬렉션\n",
        "- 프로그램에서 그 값이 항상 변하지 않아야되는 경우 사용\n"
      ],
      "metadata": {
        "id": "2UKp8zMoJDKU"
      }
    },
    {
      "cell_type": "code",
      "source": [
        "tuple1 = (1,2,3,4,5)\n",
        "tuple2 = ('a', 'b', 'c')\n",
        "tuple3 = (1, 'a', 'abc', [1,2,3,4,5],['a','b','c'])\n",
        "\n",
        "print(tuple1[:])\n",
        "print(tuple1[2])\n",
        "tuple3[3][2]"
      ],
      "metadata": {
        "colab": {
          "base_uri": "https://localhost:8080/"
        },
        "id": "ANBXxtaxJ6BK",
        "outputId": "65b57c6e-1b9d-4f08-8215-bf5aa82b4381"
      },
      "execution_count": null,
      "outputs": [
        {
          "output_type": "stream",
          "name": "stdout",
          "text": [
            "(1, 2, 3, 4, 5)\n",
            "3\n"
          ]
        },
        {
          "output_type": "execute_result",
          "data": {
            "text/plain": [
              "3"
            ]
          },
          "metadata": {},
          "execution_count": 1
        }
      ]
    },
    {
      "cell_type": "code",
      "source": [
        "list = [1,2,3,4,5]\n",
        "list[0] = 0\n",
        "list\n"
      ],
      "metadata": {
        "colab": {
          "base_uri": "https://localhost:8080/"
        },
        "id": "3yVQgdPPKwAw",
        "outputId": "8bcebef4-c1b4-4dc3-fec4-a5254ae39575"
      },
      "execution_count": null,
      "outputs": [
        {
          "output_type": "execute_result",
          "data": {
            "text/plain": [
              "[0, 2, 3, 4, 5]"
            ]
          },
          "metadata": {},
          "execution_count": 3
        }
      ]
    },
    {
      "cell_type": "code",
      "source": [
        "tuple = (1,2,3,4,5)\n",
        "tuple[0] = 0\n",
        "tuple"
      ],
      "metadata": {
        "colab": {
          "base_uri": "https://localhost:8080/",
          "height": 184
        },
        "id": "K1mIXkfkLEHu",
        "outputId": "0dfacae6-f749-4f38-810a-dffef1d34dde"
      },
      "execution_count": null,
      "outputs": [
        {
          "output_type": "error",
          "ename": "TypeError",
          "evalue": "'tuple' object does not support item assignment",
          "traceback": [
            "\u001b[0;31m---------------------------------------------------------------------------\u001b[0m",
            "\u001b[0;31mTypeError\u001b[0m                                 Traceback (most recent call last)",
            "\u001b[0;32m<ipython-input-4-8be28f62ea00>\u001b[0m in \u001b[0;36m<cell line: 2>\u001b[0;34m()\u001b[0m\n\u001b[1;32m      1\u001b[0m \u001b[0mtuple\u001b[0m \u001b[0;34m=\u001b[0m \u001b[0;34m(\u001b[0m\u001b[0;36m1\u001b[0m\u001b[0;34m,\u001b[0m\u001b[0;36m2\u001b[0m\u001b[0;34m,\u001b[0m\u001b[0;36m3\u001b[0m\u001b[0;34m,\u001b[0m\u001b[0;36m4\u001b[0m\u001b[0;34m,\u001b[0m\u001b[0;36m5\u001b[0m\u001b[0;34m)\u001b[0m\u001b[0;34m\u001b[0m\u001b[0;34m\u001b[0m\u001b[0m\n\u001b[0;32m----> 2\u001b[0;31m \u001b[0mtuple\u001b[0m\u001b[0;34m[\u001b[0m\u001b[0;36m0\u001b[0m\u001b[0;34m]\u001b[0m \u001b[0;34m=\u001b[0m \u001b[0;36m0\u001b[0m\u001b[0;34m\u001b[0m\u001b[0;34m\u001b[0m\u001b[0m\n\u001b[0m\u001b[1;32m      3\u001b[0m \u001b[0mtuple\u001b[0m\u001b[0;34m\u001b[0m\u001b[0;34m\u001b[0m\u001b[0m\n",
            "\u001b[0;31mTypeError\u001b[0m: 'tuple' object does not support item assignment"
          ]
        }
      ]
    },
    {
      "cell_type": "code",
      "source": [
        "t1 = (1,)\n",
        "print(t1)\n",
        "type(t1)"
      ],
      "metadata": {
        "colab": {
          "base_uri": "https://localhost:8080/"
        },
        "id": "M0gP0I1kLKOg",
        "outputId": "7849cd9d-04e6-4cf5-9c85-e9975a24f4ae"
      },
      "execution_count": null,
      "outputs": [
        {
          "output_type": "stream",
          "name": "stdout",
          "text": [
            "(1,)\n"
          ]
        },
        {
          "output_type": "execute_result",
          "data": {
            "text/plain": [
              "tuple"
            ]
          },
          "metadata": {},
          "execution_count": 10
        }
      ]
    },
    {
      "cell_type": "code",
      "source": [
        "tl = (1)\n",
        "print(tl)\n",
        "type(tl)"
      ],
      "metadata": {
        "colab": {
          "base_uri": "https://localhost:8080/"
        },
        "id": "uNMwoQK7MJa8",
        "outputId": "3202605f-7e0f-4df3-a096-12abf2fc70f0"
      },
      "execution_count": null,
      "outputs": [
        {
          "output_type": "stream",
          "name": "stdout",
          "text": [
            "1\n"
          ]
        },
        {
          "output_type": "execute_result",
          "data": {
            "text/plain": [
              "int"
            ]
          },
          "metadata": {},
          "execution_count": 7
        }
      ]
    },
    {
      "cell_type": "code",
      "source": [
        "t2 = 1,2,3\n",
        "print(t2)\n",
        "type(t2)"
      ],
      "metadata": {
        "colab": {
          "base_uri": "https://localhost:8080/"
        },
        "id": "3OG9gNxBMO_q",
        "outputId": "75fe7a20-99bb-401e-d471-9c049e6ec2d8"
      },
      "execution_count": null,
      "outputs": [
        {
          "output_type": "stream",
          "name": "stdout",
          "text": [
            "(1, 2, 3)\n"
          ]
        },
        {
          "output_type": "execute_result",
          "data": {
            "text/plain": [
              "tuple"
            ]
          },
          "metadata": {},
          "execution_count": 9
        }
      ]
    },
    {
      "cell_type": "code",
      "source": [
        "t1 + t2"
      ],
      "metadata": {
        "colab": {
          "base_uri": "https://localhost:8080/"
        },
        "id": "VELSM7LZMuNn",
        "outputId": "d18eae7b-dc95-48ca-fd08-889fcc23944f"
      },
      "execution_count": null,
      "outputs": [
        {
          "output_type": "execute_result",
          "data": {
            "text/plain": [
              "(1, 1, 2, 3)"
            ]
          },
          "metadata": {},
          "execution_count": 11
        }
      ]
    },
    {
      "cell_type": "markdown",
      "source": [
        "int 와 튜플 연산 안됨"
      ],
      "metadata": {
        "id": "qU7io1XSN8co"
      }
    },
    {
      "cell_type": "markdown",
      "source": [
        "Q. red, 'green', 'blue'값을 같는 튜플에서 각 값을 각각 r,g,b변수에 할당하고 출력하세요"
      ],
      "metadata": {
        "id": "HgeHEowqOLd7"
      }
    },
    {
      "cell_type": "code",
      "source": [
        "colors = ('red', 'green', 'blue')\n",
        "r, g, b = colors\n",
        "print(r)\n",
        "print(g)\n",
        "print(b)"
      ],
      "metadata": {
        "colab": {
          "base_uri": "https://localhost:8080/"
        },
        "id": "btvr8YxAN1zK",
        "outputId": "43fa3c39-1a1b-4dcf-fc39-f641071dfaa3"
      },
      "execution_count": null,
      "outputs": [
        {
          "output_type": "stream",
          "name": "stdout",
          "text": [
            "red\n",
            "green\n",
            "blue\n"
          ]
        }
      ]
    },
    {
      "cell_type": "markdown",
      "source": [
        "## 함수에서 여러값을 반환할때 튜플을 사용하는 것이 일반적입니다.\\\n",
        "Q. 주어진 리스트의 총합과 평균을 동시에 반환하는 함수를 작성하세요\n",
        "numbers = [10, 20, 30, 40, 50]"
      ],
      "metadata": {
        "id": "YmdxYNcjO6XN"
      }
    },
    {
      "cell_type": "code",
      "source": [
        "def calculate_sum_and_average(numbers):\n",
        "    total = sum(numbers)\n",
        "    average = total / len(numbers)\n",
        "    return total, average\n",
        "\n",
        "numbers = [10, 20, 30, 40, 50]\n",
        "total, average = calculate_sum_and_average(numbers)\n",
        "print(f\"총합: {total}, 평균: {average}\")\n"
      ],
      "metadata": {
        "colab": {
          "base_uri": "https://localhost:8080/"
        },
        "id": "ktTD2uSdOuuM",
        "outputId": "25c73251-3850-40ac-e348-c8735d216d22"
      },
      "execution_count": null,
      "outputs": [
        {
          "output_type": "stream",
          "name": "stdout",
          "text": [
            "총합: 150, 평균: 30.0\n"
          ]
        }
      ]
    },
    {
      "cell_type": "markdown",
      "source": [
        "##자료형 - 사전\n",
        "- 키와 값을 하나의 요소로 하는 순서가 없는 집합"
      ],
      "metadata": {
        "id": "pnaJ-Fw4ROqa"
      }
    },
    {
      "cell_type": "code",
      "source": [
        "d1 = {'a':1, 'b':2, 'c':3}\n",
        "print(d1['a'])"
      ],
      "metadata": {
        "colab": {
          "base_uri": "https://localhost:8080/"
        },
        "id": "GmU6ZSkeP_kx",
        "outputId": "440671b3-790c-4f3e-a134-596d4f4885dd"
      },
      "execution_count": null,
      "outputs": [
        {
          "output_type": "stream",
          "name": "stdout",
          "text": [
            "1\n"
          ]
        }
      ]
    },
    {
      "cell_type": "code",
      "source": [
        "d1.keys()"
      ],
      "metadata": {
        "colab": {
          "base_uri": "https://localhost:8080/"
        },
        "id": "8HdmQVJwSCL8",
        "outputId": "25e18a2b-488e-49fe-92de-dc10f450633c"
      },
      "execution_count": null,
      "outputs": [
        {
          "output_type": "execute_result",
          "data": {
            "text/plain": [
              "dict_keys(['a', 'b', 'c'])"
            ]
          },
          "metadata": {},
          "execution_count": 18
        }
      ]
    },
    {
      "cell_type": "code",
      "source": [
        "d1.values()"
      ],
      "metadata": {
        "colab": {
          "base_uri": "https://localhost:8080/"
        },
        "id": "1FmBJQQySD5j",
        "outputId": "971be073-84e9-4c7e-f334-f1bd6d960dae"
      },
      "execution_count": null,
      "outputs": [
        {
          "output_type": "execute_result",
          "data": {
            "text/plain": [
              "dict_values([1, 2, 3])"
            ]
          },
          "metadata": {},
          "execution_count": 19
        }
      ]
    },
    {
      "cell_type": "code",
      "source": [
        "d1.items()"
      ],
      "metadata": {
        "colab": {
          "base_uri": "https://localhost:8080/"
        },
        "id": "JoxcEYzbSFsk",
        "outputId": "8c3be819-17b8-47d2-a402-7161c30e8559"
      },
      "execution_count": null,
      "outputs": [
        {
          "output_type": "execute_result",
          "data": {
            "text/plain": [
              "dict_items([('a', 1), ('b', 2), ('c', 3)])"
            ]
          },
          "metadata": {},
          "execution_count": 21
        }
      ]
    },
    {
      "cell_type": "code",
      "source": [
        "d1['d'] = 4\n",
        "d1"
      ],
      "metadata": {
        "colab": {
          "base_uri": "https://localhost:8080/"
        },
        "id": "iCqWLOJzSatO",
        "outputId": "c6257723-2049-4cda-ba50-92399f572707"
      },
      "execution_count": null,
      "outputs": [
        {
          "output_type": "execute_result",
          "data": {
            "text/plain": [
              "{'a': 1, 'b': 2, 'c': 3, 'd': 4}"
            ]
          },
          "metadata": {},
          "execution_count": 22
        }
      ]
    },
    {
      "cell_type": "code",
      "source": [
        "d1['b'] =7"
      ],
      "metadata": {
        "id": "_2pxJ8pVSwNn"
      },
      "execution_count": null,
      "outputs": []
    },
    {
      "cell_type": "code",
      "source": [
        "d1"
      ],
      "metadata": {
        "colab": {
          "base_uri": "https://localhost:8080/"
        },
        "id": "P2r1uu84TMmY",
        "outputId": "0c97bff2-2d59-4656-cee2-f6cb4fb6bd23"
      },
      "execution_count": null,
      "outputs": [
        {
          "output_type": "execute_result",
          "data": {
            "text/plain": [
              "{'a': 1, 'b': 7, 'c': 3, 'd': 4}"
            ]
          },
          "metadata": {},
          "execution_count": 24
        }
      ]
    },
    {
      "cell_type": "code",
      "source": [
        "d1"
      ],
      "metadata": {
        "colab": {
          "base_uri": "https://localhost:8080/"
        },
        "id": "YCGMFypiTNZg",
        "outputId": "4225f0e7-c6bb-4534-f37c-7101e2b0b320"
      },
      "execution_count": null,
      "outputs": [
        {
          "output_type": "execute_result",
          "data": {
            "text/plain": [
              "{'a': 1, 'b': 7, 'c': 3, 'd': 4}"
            ]
          },
          "metadata": {},
          "execution_count": 25
        }
      ]
    },
    {
      "cell_type": "code",
      "source": [
        "d1['b'] = 2\n",
        "d1"
      ],
      "metadata": {
        "colab": {
          "base_uri": "https://localhost:8080/"
        },
        "id": "J_sFnvU1Te5N",
        "outputId": "f2851198-31e1-47dd-ec7a-f93661ce173e"
      },
      "execution_count": null,
      "outputs": [
        {
          "output_type": "execute_result",
          "data": {
            "text/plain": [
              "{'a': 1, 'b': 2, 'c': 3, 'd': 4}"
            ]
          },
          "metadata": {},
          "execution_count": 26
        }
      ]
    },
    {
      "cell_type": "code",
      "source": [
        "del d1['b']\n",
        "d1"
      ],
      "metadata": {
        "colab": {
          "base_uri": "https://localhost:8080/"
        },
        "id": "Z2ljLPEWTjSK",
        "outputId": "6ade37c7-5e34-47ba-ef4f-282b0ee90d20"
      },
      "execution_count": null,
      "outputs": [
        {
          "output_type": "execute_result",
          "data": {
            "text/plain": [
              "{'a': 1, 'c': 3, 'd': 4}"
            ]
          },
          "metadata": {},
          "execution_count": 27
        }
      ]
    },
    {
      "cell_type": "markdown",
      "source": [
        "Q. 딕셔너리 d에서 'b'의 값을 확인하면서 그 값을 삭제하세요."
      ],
      "metadata": {
        "id": "4I_JPmRFWbWI"
      }
    },
    {
      "cell_type": "code",
      "source": [
        "d = {'a': 1, 'b': 7, 'c': 3, 'd': 4}\n",
        "d.pop('b')"
      ],
      "metadata": {
        "colab": {
          "base_uri": "https://localhost:8080/"
        },
        "id": "AZOvXuvxTqnp",
        "outputId": "f66e1a1a-b042-4959-adc1-538efe5523ed"
      },
      "execution_count": null,
      "outputs": [
        {
          "output_type": "execute_result",
          "data": {
            "text/plain": [
              "7"
            ]
          },
          "metadata": {},
          "execution_count": 31
        }
      ]
    },
    {
      "cell_type": "code",
      "source": [
        "d = {'a': 1, 'b': 7, 'c': 3, 'd': 4}\n",
        "value = d.pop('b')\n",
        "print(f\"삭제 값: {value}\")\n",
        "print(d)"
      ],
      "metadata": {
        "colab": {
          "base_uri": "https://localhost:8080/"
        },
        "id": "YPdK1Vc3fvZv",
        "outputId": "5885f1b0-5c84-4bf7-ba1b-30a15c57a238"
      },
      "execution_count": null,
      "outputs": [
        {
          "output_type": "stream",
          "name": "stdout",
          "text": [
            "삭제 값: 7\n",
            "{'a': 1, 'c': 3, 'd': 4}\n"
          ]
        }
      ]
    },
    {
      "cell_type": "markdown",
      "source": [
        "Q.다음과 같이 학생의 이름과 점수를 튜플로 묶은 리스트가 있습니다. \\\n",
        "[(\"Tom\", 85), (\"Jane\", 90), (\"Bob\", 75)]\\\n",
        "이 리스트를 사용해 학생 이름을 키로, 점수를 값으로 하는 딕셔너리를 생성하고 출력하세요."
      ],
      "metadata": {
        "id": "uqbe24CeXPW4"
      }
    },
    {
      "cell_type": "code",
      "source": [
        "list = [(\"Tom\", 85), (\"Jane\", 90), (\"Bob\", 75)]\n",
        "{k:v for k, v in list}"
      ],
      "metadata": {
        "colab": {
          "base_uri": "https://localhost:8080/"
        },
        "id": "mqxRLJPcWPL2",
        "outputId": "d77f701b-f131-453a-82b3-a53ea4ae11e0"
      },
      "execution_count": null,
      "outputs": [
        {
          "output_type": "execute_result",
          "data": {
            "text/plain": [
              "{'Tom': 85, 'Jane': 90, 'Bob': 75}"
            ]
          },
          "metadata": {},
          "execution_count": 32
        }
      ]
    },
    {
      "cell_type": "code",
      "source": [
        "list = [(\"Tom\", 85), (\"Jane\", 90), (\"Bob\", 75)]\n",
        "list2dic = dict(list)\n",
        "print(list2dic)"
      ],
      "metadata": {
        "colab": {
          "base_uri": "https://localhost:8080/"
        },
        "id": "WyvEVj2ef7gn",
        "outputId": "e31ed87e-174d-42d8-f6d1-51c44bbc1af2"
      },
      "execution_count": null,
      "outputs": [
        {
          "output_type": "stream",
          "name": "stdout",
          "text": [
            "{'Tom': 85, 'Jane': 90, 'Bob': 75}\n"
          ]
        }
      ]
    },
    {
      "cell_type": "markdown",
      "source": [
        "Q.튜플의 불변성 때문에 튜플은 딕셔너리의 키로 사용될 수 있습니다. 주어진 위치 자표 리스트에서 각 위치가 몇번 나타나는지 계산하는 딕셔너리를 만드세요.\n"
      ],
      "metadata": {
        "id": "appqc8e5Xlz3"
      }
    },
    {
      "cell_type": "code",
      "source": [
        "positions = [(1, 1), (2,2), (1,1), (3,3), (2,2)]\n",
        "\n",
        "from collections import Counter\n",
        "\n",
        "c = Counter(positions)\n",
        "print(c)\n",
        "\n"
      ],
      "metadata": {
        "colab": {
          "base_uri": "https://localhost:8080/"
        },
        "id": "wu_ADtcCXxDE",
        "outputId": "b524f471-617e-46c6-9ec5-b64e7705fd35"
      },
      "execution_count": null,
      "outputs": [
        {
          "output_type": "stream",
          "name": "stdout",
          "text": [
            "Counter({(1, 1): 2, (2, 2): 2, (3, 3): 1})\n"
          ]
        }
      ]
    },
    {
      "cell_type": "code",
      "source": [
        "positions = [(1, 1), (2,2), (1,1), (3,3), (2,2)]\n",
        "\n",
        "position_count = {}\n",
        "\n",
        "for pos in positions:\n",
        "    if pos in position_count:\n",
        "        position_count[pos] += 1\n",
        "    else:\n",
        "        position_count[pos] = 1\n",
        "\n",
        "print(position_count)\n"
      ],
      "metadata": {
        "colab": {
          "base_uri": "https://localhost:8080/"
        },
        "id": "ZzLiVWrxboVZ",
        "outputId": "29c0c571-3ee4-4d68-c7ef-79fa5522ae88"
      },
      "execution_count": null,
      "outputs": [
        {
          "output_type": "stream",
          "name": "stdout",
          "text": [
            "{(1, 1): 2, (2, 2): 2, (3, 3): 1}\n"
          ]
        }
      ]
    },
    {
      "cell_type": "markdown",
      "source": [
        "## 자료형 - 집합, set\n",
        "- 중복을 허용하지 않으면 순서가 없다."
      ],
      "metadata": {
        "id": "bfT9kyoty0Kn"
      }
    },
    {
      "cell_type": "code",
      "source": [
        "s1 = set([1,2,3,4,5])\n",
        "s2 = set('Hello')\n",
        "print(s1)\n",
        "print(s2)\n"
      ],
      "metadata": {
        "colab": {
          "base_uri": "https://localhost:8080/"
        },
        "id": "CD6V7jg1gzGN",
        "outputId": "7f75d09a-a597-4aa4-a3e3-7c1c9735d009"
      },
      "execution_count": null,
      "outputs": [
        {
          "output_type": "stream",
          "name": "stdout",
          "text": [
            "{1, 2, 3, 4, 5}\n",
            "{'o', 'H', 'l', 'e'}\n"
          ]
        }
      ]
    },
    {
      "cell_type": "code",
      "source": [
        "l1 = list(s1)\n",
        "print(l1)\n",
        "print(l1[1])"
      ],
      "metadata": {
        "colab": {
          "base_uri": "https://localhost:8080/"
        },
        "id": "aKt4XWUKx4Mc",
        "outputId": "dc1b4fbc-70aa-463a-ff93-5f3589323c5c"
      },
      "execution_count": null,
      "outputs": [
        {
          "output_type": "stream",
          "name": "stdout",
          "text": [
            "[1, 2, 3, 4, 5]\n",
            "2\n"
          ]
        }
      ]
    },
    {
      "cell_type": "code",
      "source": [
        "l2 = list(s2)\n",
        "print(l2)\n",
        "print(l2[2])"
      ],
      "metadata": {
        "colab": {
          "base_uri": "https://localhost:8080/"
        },
        "id": "DXSyHhjw0Yjw",
        "outputId": "2110b8cb-4567-4f0e-8022-bca90b3ab95b"
      },
      "execution_count": null,
      "outputs": [
        {
          "output_type": "stream",
          "name": "stdout",
          "text": [
            "['o', 'H', 'l', 'e']\n",
            "l\n"
          ]
        }
      ]
    },
    {
      "cell_type": "markdown",
      "source": [
        "Q. 주어진 리스트에서 중복 요소를 제거하고 결과를 출력하세요.\\\n",
        "nums = [1,2,2,3,4,4,4,5]\n"
      ],
      "metadata": {
        "id": "bkcLsDPX1i1y"
      }
    },
    {
      "cell_type": "code",
      "source": [
        "nums = [1,2,2,3,4,4,4,5]\n",
        "res = set(nums)\n",
        "print(res)"
      ],
      "metadata": {
        "colab": {
          "base_uri": "https://localhost:8080/"
        },
        "id": "kdlN3wEl0mxp",
        "outputId": "45eaeba9-5d1b-46b0-fc3d-b3957d54e797"
      },
      "execution_count": null,
      "outputs": [
        {
          "output_type": "stream",
          "name": "stdout",
          "text": [
            "{1, 2, 3, 4, 5}\n"
          ]
        }
      ]
    },
    {
      "cell_type": "markdown",
      "source": [
        "q. s1, s2의 합집합과 교집합을 각각 리스트로 출력하세요.\n"
      ],
      "metadata": {
        "id": "vr6v2Orv2YhN"
      }
    },
    {
      "cell_type": "code",
      "source": [
        "s1 = set([1,2,3,4,5,6])\n",
        "s2 = set([4,5,6,7,8,9])\n",
        "\n",
        "sum_set = s1 & s2\n",
        "print(sum_set)\n",
        "\n",
        "plus_set = s1 | s2\n",
        "print(plus_set)"
      ],
      "metadata": {
        "colab": {
          "base_uri": "https://localhost:8080/"
        },
        "id": "MDlCYh-i11FL",
        "outputId": "a2182e67-e28b-4203-d048-aa0ca6049a1a"
      },
      "execution_count": null,
      "outputs": [
        {
          "output_type": "stream",
          "name": "stdout",
          "text": [
            "{4, 5, 6}\n",
            "{1, 2, 3, 4, 5, 6, 7, 8, 9}\n"
          ]
        }
      ]
    },
    {
      "cell_type": "code",
      "source": [
        "s1 = [1,2,3,4,5,6]\n",
        "s2 = [4,5,6,7,8,9]\n",
        "\n",
        "print(s1 & s2)\n",
        "print(s1 | s2)"
      ],
      "metadata": {
        "colab": {
          "base_uri": "https://localhost:8080/",
          "height": 202
        },
        "id": "il2yCrkY3I8n",
        "outputId": "ef412f89-17bf-4774-ea02-3e53f39c63e1"
      },
      "execution_count": null,
      "outputs": [
        {
          "output_type": "error",
          "ename": "TypeError",
          "evalue": "unsupported operand type(s) for &: 'list' and 'list'",
          "traceback": [
            "\u001b[0;31m---------------------------------------------------------------------------\u001b[0m",
            "\u001b[0;31mTypeError\u001b[0m                                 Traceback (most recent call last)",
            "\u001b[0;32m<ipython-input-14-f0b3437cddf7>\u001b[0m in \u001b[0;36m<cell line: 4>\u001b[0;34m()\u001b[0m\n\u001b[1;32m      2\u001b[0m \u001b[0ms2\u001b[0m \u001b[0;34m=\u001b[0m \u001b[0;34m[\u001b[0m\u001b[0;36m4\u001b[0m\u001b[0;34m,\u001b[0m\u001b[0;36m5\u001b[0m\u001b[0;34m,\u001b[0m\u001b[0;36m6\u001b[0m\u001b[0;34m,\u001b[0m\u001b[0;36m7\u001b[0m\u001b[0;34m,\u001b[0m\u001b[0;36m8\u001b[0m\u001b[0;34m,\u001b[0m\u001b[0;36m9\u001b[0m\u001b[0;34m]\u001b[0m\u001b[0;34m\u001b[0m\u001b[0;34m\u001b[0m\u001b[0m\n\u001b[1;32m      3\u001b[0m \u001b[0;34m\u001b[0m\u001b[0m\n\u001b[0;32m----> 4\u001b[0;31m \u001b[0mprint\u001b[0m\u001b[0;34m(\u001b[0m\u001b[0ms1\u001b[0m \u001b[0;34m&\u001b[0m \u001b[0ms2\u001b[0m\u001b[0;34m)\u001b[0m\u001b[0;34m\u001b[0m\u001b[0;34m\u001b[0m\u001b[0m\n\u001b[0m\u001b[1;32m      5\u001b[0m \u001b[0mprint\u001b[0m\u001b[0;34m(\u001b[0m\u001b[0ms1\u001b[0m \u001b[0;34m|\u001b[0m \u001b[0ms2\u001b[0m\u001b[0;34m)\u001b[0m\u001b[0;34m\u001b[0m\u001b[0;34m\u001b[0m\u001b[0m\n",
            "\u001b[0;31mTypeError\u001b[0m: unsupported operand type(s) for &: 'list' and 'list'"
          ]
        }
      ]
    },
    {
      "cell_type": "code",
      "source": [
        "s1 = set([1,2,3,4,5,6])\n",
        "s2 = set([4,5,6,7,8,9])\n",
        "\n",
        "print(list(s1 & s2))       #교집합\n",
        "print(list(s1 | s2))        #합집합"
      ],
      "metadata": {
        "colab": {
          "base_uri": "https://localhost:8080/"
        },
        "id": "JRI7k_z330A_",
        "outputId": "1ee0d519-1249-4f4e-b131-3d4da92df47e"
      },
      "execution_count": null,
      "outputs": [
        {
          "output_type": "stream",
          "name": "stdout",
          "text": [
            "[4, 5, 6]\n",
            "[1, 2, 3, 4, 5, 6, 7, 8, 9]\n"
          ]
        }
      ]
    },
    {
      "cell_type": "markdown",
      "source": [
        "q.첫 번째 집합에서 두번째 집합의 요소를 제외한 차집합을 구하고 출력하세요."
      ],
      "metadata": {
        "id": "zDKGFck85FRe"
      }
    },
    {
      "cell_type": "code",
      "source": [
        "set1 = {1, 2, 3, 4, 5}\n",
        "set2 = {4, 5, 6, 7}\n",
        "\n",
        "#print(set1 - set2)\n",
        "set1.difference(set2)"
      ],
      "metadata": {
        "colab": {
          "base_uri": "https://localhost:8080/"
        },
        "id": "YwJBMZXw37os",
        "outputId": "dc2b6dc6-0e9e-4581-9f1a-0296fa4f8f78"
      },
      "execution_count": null,
      "outputs": [
        {
          "output_type": "execute_result",
          "data": {
            "text/plain": [
              "{1, 2, 3}"
            ]
          },
          "metadata": {},
          "execution_count": 18
        }
      ]
    },
    {
      "cell_type": "markdown",
      "source": [
        "Task1_0426. 주어진 리스트에서 중복된 요소를 제외하고 고유한 요소의 개수를 세는 프로그램을 작성하세요\n",
        "\n",
        "data = [1, 2, 2, 3, 4, 4, 4, 5]"
      ],
      "metadata": {
        "id": "DobJbpwZ5ou_"
      }
    },
    {
      "cell_type": "code",
      "source": [
        "data = [1, 2, 2, 3, 4, 4, 4, 5]\n",
        "s1 = set(data)\n",
        "print(len(s1))"
      ],
      "metadata": {
        "colab": {
          "base_uri": "https://localhost:8080/"
        },
        "id": "UAoMEhI35Vid",
        "outputId": "a03c108d-a2d3-465f-b667-d6a9e4c94914"
      },
      "execution_count": null,
      "outputs": [
        {
          "output_type": "stream",
          "name": "stdout",
          "text": [
            "5\n"
          ]
        }
      ]
    },
    {
      "cell_type": "markdown",
      "source": [
        "Task2_0426. 두 개의 리스트에서 공통으로 나타나는 요소들을 찾아 리스트로 반환하는 프로그램을 작성하세요.\n",
        "\n",
        "예시 입력: list1 = [1, 2, 3, 4, 5], list2 = [4, 5, 6, 7, 8]\n",
        "\n",
        "예시 출력: [4, 5]\n",
        "\n",
        "사용자함수로 표현"
      ],
      "metadata": {
        "id": "DdsMS3zB6k3Y"
      }
    },
    {
      "cell_type": "code",
      "source": [
        "def intersection_list(list1, list2):\n",
        "    s1 = set(list1)\n",
        "    s2 = set(list2)\n",
        "    inter_list = s1 & s2\n",
        "    return list(inter_list)\n",
        "\n",
        "list1 = [1, 2, 3, 4, 5]\n",
        "list2 = [4, 5, 6, 7, 8]"
      ],
      "metadata": {
        "id": "7_xXQzuO_3am"
      },
      "execution_count": null,
      "outputs": []
    },
    {
      "cell_type": "markdown",
      "source": [
        "##자료형 - 논리(Bool)True와  False\n",
        "-파이썬에서 참과 거짓을 나타내는 상수 . True는 1 False는 0의 값을 가짐\n",
        "- 조건을 판단해서 그 조건이 참이면 True, 거짓이면 False 를 return"
      ],
      "metadata": {
        "id": "8ilNAk3e7AoG"
      }
    },
    {
      "cell_type": "code",
      "source": [
        "print(bool(0))\n",
        "print(bool(''))\n",
        "print(bool([]))\n",
        "print(bool(1))\n",
        "print(bool(100))"
      ],
      "metadata": {
        "colab": {
          "base_uri": "https://localhost:8080/"
        },
        "id": "JqB27QDS7c0O",
        "outputId": "93d25d7a-8408-46b1-9ccb-59e4bed89dc0"
      },
      "execution_count": null,
      "outputs": [
        {
          "output_type": "stream",
          "name": "stdout",
          "text": [
            "False\n",
            "False\n",
            "False\n",
            "True\n",
            "True\n"
          ]
        }
      ]
    },
    {
      "cell_type": "markdown",
      "source": [
        "아스키코드\n",
        "\n",
        "ASCII값에서 'a'는 97이고 'p'는 112입니다.\n",
        "'a'는 'p'보다 작으므로 str1 < str2는 True를 반환"
      ],
      "metadata": {
        "id": "TjfrIEv29Oq4"
      }
    },
    {
      "cell_type": "code",
      "source": [
        "#관계 연산자\n",
        "x = 1; y = 2\n",
        "str1 = 'pythoo' ; str2 = 'python'\n",
        "print(x == y)\n",
        "print(x != y)\n",
        "print(str1 == str2)\n",
        "print(str2 == 'python')\n",
        "print(str1 < str2)"
      ],
      "metadata": {
        "colab": {
          "base_uri": "https://localhost:8080/"
        },
        "id": "wbbUQ8yS7pkX",
        "outputId": "5b026bcb-2cf6-4d2b-cdc2-7b67633994ff"
      },
      "execution_count": null,
      "outputs": [
        {
          "output_type": "stream",
          "name": "stdout",
          "text": [
            "False\n",
            "True\n",
            "False\n",
            "True\n",
            "False\n"
          ]
        }
      ]
    },
    {
      "cell_type": "code",
      "source": [
        "#논리 연산자\n",
        "bool1 = True; bool2 = False; bool3 = True; bool4 = False\n",
        "print(bool1 and bool2)\n",
        "print(bool1 or bool2)\n",
        "print(not bool3)\n",
        "print(not bool4)\n",
        "print()"
      ],
      "metadata": {
        "colab": {
          "base_uri": "https://localhost:8080/"
        },
        "id": "yS5JsYUC9I_j",
        "outputId": "a71e8455-fa96-4af6-ad86-1a16803540d9"
      },
      "execution_count": null,
      "outputs": [
        {
          "output_type": "stream",
          "name": "stdout",
          "text": [
            "False\n",
            "True\n",
            "False\n",
            "True\n",
            "\n"
          ]
        }
      ]
    },
    {
      "cell_type": "markdown",
      "source": [
        "Task3_0426. 주어진 숫자 리스트에서 특정 값보다 큰 요소가 하나라도 존재하는지 검사하고, 그 결과를 불 값으로 반환하는 함수를 작성하세요.\n",
        "\n",
        "- numbers = [1, 2, 3, 10, 20]\n",
        "- threshold = 15"
      ],
      "metadata": {
        "id": "YKlLU029BM95"
      }
    },
    {
      "cell_type": "markdown",
      "source": [
        "Task4_0426. 주어진 문자열이 특정 문자열을 포함하는지 확인하고 결과를 불 값으로 반환하는 함수를 작성하세요.\n",
        "\n",
        "- text = \"hello world\"\n",
        "- substring = \"world\""
      ],
      "metadata": {
        "id": "Bf_OSDajBqxA"
      }
    },
    {
      "cell_type": "markdown",
      "source": [
        "Task5_0426. 주어진 연도가 윤년인지 판별하는 함수를 작성하세요. 윤년은 다음의 조건을 만족해야 합니다:\n",
        "- 4로 나누어 떨어진다.\n",
        "- 100으로 나누어 떨어지지 않거나, 400으로 나누어 떨어지면 윤년이다.\n",
        "\n",
        "year = 2020\n",
        "\n",
        "True"
      ],
      "metadata": {
        "id": "hna255bgBs4C"
      }
    },
    {
      "cell_type": "markdown",
      "source": [
        "#### 파이썬에서 들여쓰기\n",
        "- 파이썬에는 실행 코드 부분을 묶어주는 {} 괄호가 없다.\n",
        "- 대신 들여쓰기(indentation)로 {}를 대신한다.\n",
        "- 제어문이나 함수이름, 클래스 이름 뒤에 콜론(':')으로 제어문, 함수이름, 클래스 이름의 끝을 표시하며 ':' 다음에 실행 코드를 작성"
      ],
      "metadata": {
        "id": "21HTN7XUCrVM"
      }
    },
    {
      "cell_type": "code",
      "source": [
        "li = ['a', 'b', 'c']\n",
        "if 'a' in li:\n",
        "    print('a가 li에 있습니다.')\n",
        "else:\n",
        "    print('a가 li에 없습니다.')"
      ],
      "metadata": {
        "colab": {
          "base_uri": "https://localhost:8080/"
        },
        "id": "b6RB_fmmBITa",
        "outputId": "c00588df-c02c-4096-9aa2-eb00322c5d8e"
      },
      "execution_count": null,
      "outputs": [
        {
          "output_type": "stream",
          "name": "stdout",
          "text": [
            "a가 li에 있습니다.\n"
          ]
        }
      ]
    },
    {
      "cell_type": "markdown",
      "source": [
        "## 사용자 함수"
      ],
      "metadata": {
        "id": "VPksl2eOFO9D"
      }
    },
    {
      "cell_type": "code",
      "source": [
        "numbers = [1,2,3]\n",
        "sum(numbers) #파이썬 내장함수"
      ],
      "metadata": {
        "colab": {
          "base_uri": "https://localhost:8080/"
        },
        "id": "T10E3i58EvPo",
        "outputId": "9f4e4aa7-964d-4a34-c47b-f10ca0f60c47"
      },
      "execution_count": null,
      "outputs": [
        {
          "output_type": "execute_result",
          "data": {
            "text/plain": [
              "6"
            ]
          },
          "metadata": {},
          "execution_count": 30
        }
      ]
    },
    {
      "cell_type": "code",
      "source": [
        "#사용자 함수\n",
        "def add(a,b,c):\n",
        "    return a + b + c\n",
        "\n",
        "add(1,2,3)"
      ],
      "metadata": {
        "colab": {
          "base_uri": "https://localhost:8080/"
        },
        "id": "2eEC9DsPGQIN",
        "outputId": "6e942996-e619-4e8e-bbed-ba5537e3ca98"
      },
      "execution_count": null,
      "outputs": [
        {
          "output_type": "execute_result",
          "data": {
            "text/plain": [
              "6"
            ]
          },
          "metadata": {},
          "execution_count": 31
        }
      ]
    },
    {
      "cell_type": "code",
      "source": [
        "def mul(a,b,c):\n",
        "    return a * b * c\n",
        "\n",
        "mul(2,4,5)"
      ],
      "metadata": {
        "colab": {
          "base_uri": "https://localhost:8080/"
        },
        "id": "A131sp5sGYi4",
        "outputId": "3c099b62-d8f9-4db8-e42f-1934ae5c6ecd"
      },
      "execution_count": null,
      "outputs": [
        {
          "output_type": "execute_result",
          "data": {
            "text/plain": [
              "40"
            ]
          },
          "metadata": {},
          "execution_count": 33
        }
      ]
    },
    {
      "cell_type": "markdown",
      "source": [
        "q. 뺄셈, 나눗셈을 수행하는 사용자 함수를 작성하세요.\n"
      ],
      "metadata": {
        "id": "0lralFCWHY_d"
      }
    },
    {
      "cell_type": "code",
      "source": [
        "def div(a, b, c):\n",
        "    if b == 0 or c == 0:\n",
        "        return \"Error: Division by zero\"\n",
        "    else:\n",
        "        return a / b / c\n",
        "\n",
        "round(div(100,3,5),2)  #반올림 소수 둘째자리"
      ],
      "metadata": {
        "colab": {
          "base_uri": "https://localhost:8080/"
        },
        "id": "xW6SwcgNGvBm",
        "outputId": "82b2e197-50f7-412d-b54c-02a9e14b4d77"
      },
      "execution_count": null,
      "outputs": [
        {
          "output_type": "execute_result",
          "data": {
            "text/plain": [
              "6.67"
            ]
          },
          "metadata": {},
          "execution_count": 37
        }
      ]
    },
    {
      "cell_type": "code",
      "source": [
        "def subtract(a, b, c):\n",
        "    return a - b - c\n",
        "\n",
        "subtract(30, 10, 2)"
      ],
      "metadata": {
        "colab": {
          "base_uri": "https://localhost:8080/"
        },
        "id": "j5QDwvCDHpwQ",
        "outputId": "fd1ae375-6e28-4c6e-f831-b362c9b440a6"
      },
      "execution_count": null,
      "outputs": [
        {
          "output_type": "execute_result",
          "data": {
            "text/plain": [
              "18"
            ]
          },
          "metadata": {},
          "execution_count": 35
        }
      ]
    },
    {
      "cell_type": "markdown",
      "source": [
        "Task6_0426. Calculator 클래스를 작성하고 4칙연산을 수행하는 객체 4개를 작성하고 결과를 출력하세요"
      ],
      "metadata": {
        "id": "uKJdY2wtKnFs"
      }
    },
    {
      "cell_type": "code",
      "source": [],
      "metadata": {
        "id": "cUdS00AfH9fL"
      },
      "execution_count": null,
      "outputs": []
    },
    {
      "cell_type": "markdown",
      "source": [
        "Task7_0426. 다음 과제를 수행하세요.\n",
        "- 사용자로 부터 텍스트를 입력 받는다.\n",
        "- 문자을 단어 단위로 분리 : split()\n",
        "- 단어의 빈도수를 저장할 딕셔너리를 생성\n",
        "- 각 단어의 빈도 수를 계산(for 문 / if else문)\n",
        "- 결과 출력\n",
        "\n",
        "[ 예시 ]\n",
        "\n",
        "문장을 입력하세요: I love apple. I love orange. Apple is tasty\n",
        "\n",
        "{'i': 2, 'love': 2, 'apple.': 1, 'orange.': 1, 'apple': 1, 'is': 1, 'tasty': 1}"
      ],
      "metadata": {
        "id": "jAZPGN0RMEux"
      }
    },
    {
      "cell_type": "code",
      "source": [
        "#split() 함수\n",
        "text = '나는 오늘 기분이 좋아요'\n",
        "words = text.split()\n",
        "words"
      ],
      "metadata": {
        "colab": {
          "base_uri": "https://localhost:8080/"
        },
        "id": "uR4qR8gxhPrB",
        "outputId": "af78cd91-9b75-4c81-edf7-cc4190f63200"
      },
      "execution_count": 1,
      "outputs": [
        {
          "output_type": "execute_result",
          "data": {
            "text/plain": [
              "['나는', '오늘', '기분이', '좋아요']"
            ]
          },
          "metadata": {},
          "execution_count": 1
        }
      ]
    },
    {
      "cell_type": "code",
      "source": [
        "text = 'apple, banana, orange'\n",
        "words = text.split(',')\n",
        "words"
      ],
      "metadata": {
        "colab": {
          "base_uri": "https://localhost:8080/"
        },
        "id": "-QqXhRnihwWG",
        "outputId": "7ba88f5f-d2cd-4f1e-b395-785cbedf34be"
      },
      "execution_count": 2,
      "outputs": [
        {
          "output_type": "execute_result",
          "data": {
            "text/plain": [
              "['apple', ' banana', ' orange']"
            ]
          },
          "metadata": {},
          "execution_count": 2
        }
      ]
    },
    {
      "cell_type": "code",
      "source": [
        "time_string = '12:30:55'\n",
        "time_list = time_string.split(':')\n",
        "time_list"
      ],
      "metadata": {
        "colab": {
          "base_uri": "https://localhost:8080/"
        },
        "id": "2TczsiZbh8yh",
        "outputId": "94a5f5bb-a3f5-4a80-a714-cad1f7106f75"
      },
      "execution_count": 3,
      "outputs": [
        {
          "output_type": "execute_result",
          "data": {
            "text/plain": [
              "['12', '30', '55']"
            ]
          },
          "metadata": {},
          "execution_count": 3
        }
      ]
    },
    {
      "cell_type": "code",
      "source": [
        "#q. 아래 multi_line_text를 아래 리스트로 분리해보세요.\n",
        "multi_line_text = \"Hello\\nWorld\\nPython\\nProgramming\"\n",
        "multi_line_text = multi_line_text.split('\\n')\n",
        "print(multi_line_text)\n",
        "\n",
        "#['Hello', 'World', 'Python', 'Programming']"
      ],
      "metadata": {
        "colab": {
          "base_uri": "https://localhost:8080/"
        },
        "id": "AWtuUyiJiJG0",
        "outputId": "6e16698f-dcce-4334-cc82-d8ee09493c56"
      },
      "execution_count": 4,
      "outputs": [
        {
          "output_type": "stream",
          "name": "stdout",
          "text": [
            "['Hello', 'World', 'Python', 'Programming']\n"
          ]
        }
      ]
    },
    {
      "cell_type": "markdown",
      "source": [
        "##Task1_0429. input_str을 아래와 같이 단어로 분리하여 출력하세요.\n",
        "\n",
        "input_str = \"Hello, world! How are you today? I am fine. Thank you!\"\n",
        "\n",
        "['Hello', 'world', 'How', 'are', 'you', 'today', 'I', 'am', 'fine', 'Thank', 'you', '']"
      ],
      "metadata": {
        "id": "BgrcNeJhoYpB"
      }
    },
    {
      "cell_type": "code",
      "source": [
        "#복합 대입연산자\n",
        "num = 10\n",
        "num += 10\n",
        "num"
      ],
      "metadata": {
        "colab": {
          "base_uri": "https://localhost:8080/"
        },
        "id": "mU0bK8MEis2W",
        "outputId": "8e67a1c6-2a90-462d-8a01-5480aa09431c"
      },
      "execution_count": 5,
      "outputs": [
        {
          "output_type": "execute_result",
          "data": {
            "text/plain": [
              "20"
            ]
          },
          "metadata": {},
          "execution_count": 5
        }
      ]
    },
    {
      "cell_type": "code",
      "source": [
        "#Q.  복합대입연산자를 이용해서 4칙연산을 수행하세요\n",
        "a = 10\n",
        "a += 5\n",
        "print(a)\n",
        "a -= 5\n",
        "print(a)\n",
        "a /= 2\n",
        "print(a)\n",
        "a *= 2\n",
        "print(a)"
      ],
      "metadata": {
        "colab": {
          "base_uri": "https://localhost:8080/"
        },
        "id": "WmBNA224l9yW",
        "outputId": "431fbcd1-8ab4-480d-855d-782d9997f388"
      },
      "execution_count": 9,
      "outputs": [
        {
          "output_type": "stream",
          "name": "stdout",
          "text": [
            "15\n",
            "10\n",
            "5.0\n",
            "10.0\n"
          ]
        }
      ]
    },
    {
      "cell_type": "code",
      "source": [
        "#소문자, 대문자 변환\n",
        "word = 'DOG'\n",
        "w1 = word.lower()\n",
        "print(w1)\n",
        "w2 = w1.upper()\n",
        "print(w2)"
      ],
      "metadata": {
        "colab": {
          "base_uri": "https://localhost:8080/"
        },
        "id": "MBDGXf4zmIw_",
        "outputId": "ed4727bb-bd42-49e0-edf7-3e28854736e3"
      },
      "execution_count": 10,
      "outputs": [
        {
          "output_type": "stream",
          "name": "stdout",
          "text": [
            "dog\n",
            "DOG\n"
          ]
        }
      ]
    },
    {
      "cell_type": "markdown",
      "source": [
        "##이스케이프 문자\n",
        "- 키보드로 입력하기 어려운 기호 등을 나타낸다.\n",
        "- \\로 시작, \\n 줄바꾸기, \\t 탭,"
      ],
      "metadata": {
        "id": "rutKrCpKn4tt"
      }
    },
    {
      "cell_type": "code",
      "source": [
        "print('나는 파이썬을 사랑합니다. \\n파이썬은 자바보다 훨씬 쉽습니다.')\n",
        "print('나는 파이썬을 사랑합니다. \\t파이썬은 자바보다 훨씬 쉽습니다.')"
      ],
      "metadata": {
        "colab": {
          "base_uri": "https://localhost:8080/"
        },
        "id": "KC4Z3SWQn1w8",
        "outputId": "d4f2be43-8e46-4d33-fb92-d62ef173e262"
      },
      "execution_count": 11,
      "outputs": [
        {
          "output_type": "stream",
          "name": "stdout",
          "text": [
            "나는 파이썬을 사랑합니다. \n",
            "파이썬은 자바보다 훨씬 쉽습니다.\n",
            "나는 파이썬을 사랑합니다. \t파이썬은 자바보다 훨씬 쉽습니다.\n"
          ]
        }
      ]
    },
    {
      "cell_type": "code",
      "source": [
        "print(\"Hello\\tWorld!\")\n",
        "print(\"Hello\\nWorld!\")\n",
        "print(\"She daid, \\\"Hi!\\\"\")\n",
        "print('It\\'s raining.')\n",
        "print(\"Backslash: \\\\\")"
      ],
      "metadata": {
        "colab": {
          "base_uri": "https://localhost:8080/"
        },
        "id": "AP7ZDa-apti3",
        "outputId": "8dbb1e53-982c-44c0-ec9a-c8e04b92f514"
      },
      "execution_count": 12,
      "outputs": [
        {
          "output_type": "stream",
          "name": "stdout",
          "text": [
            "Hello\tWorld!\n",
            "Hello\n",
            "World!\n",
            "She daid, \"Hi!\"\n",
            "It's raining.\n",
            "Backslash: \\\n"
          ]
        }
      ]
    },
    {
      "cell_type": "markdown",
      "source": [
        "#### 문자열 포멧\n",
        "- % operator 사용 : % 연산자를 사용하려면 %(VAR_NAME)TYPE 형식으로 적어주며 VAR_NAME 은 바인딩할 변수명을 TYPE 은 변수의 유형을 적어준다.\n",
        "- str.format : str.format() 은 파이썬 표현식 값을 바인딩할 부분을 중괄호 {} 로 표시하고 .format() 뒤에 바인딩할 값을 기술해 준다.\n",
        "- f-string : 문자열에 f 나 F 접두사를 붙이고 표현식을 {expr} 형식으로 작성하면 출력 문자열이 파이썬 표현식의 값으로 바뀐다."
      ],
      "metadata": {
        "id": "LMSYm16kq4Kz"
      }
    },
    {
      "cell_type": "code",
      "source": [
        "print('%(num)d, %(float)f, %(string)s ' % {\"num\": 3, \"float\":3, \"string\":'hello'})"
      ],
      "metadata": {
        "colab": {
          "base_uri": "https://localhost:8080/"
        },
        "id": "iTwXLPBkqwcC",
        "outputId": "f1b5b94a-3d31-4e66-e132-8993dec893ef"
      },
      "execution_count": 13,
      "outputs": [
        {
          "output_type": "stream",
          "name": "stdout",
          "text": [
            "3, 3.000000, hello \n"
          ]
        }
      ]
    },
    {
      "cell_type": "code",
      "source": [
        "txt1 = '자바'; txt2 = '파이썬'\n",
        "num1 = 5; num2 = 10\n",
        "print('나는 %s보다 %s에 더 익숙합니다.' %(txt1, txt2))\n",
        "print('%s은 %s보다 %d배 더 쉽습니다.' %(txt2, txt1, num1))\n",
        "print('%d + %d = %d' %(num1, num2, num1 + num2))\n",
        "print('작년 세계 경제 성장률은 전년에 비해 %d%% 포인트 증가했다.' %num1)"
      ],
      "metadata": {
        "colab": {
          "base_uri": "https://localhost:8080/"
        },
        "id": "BobD9XtDspjy",
        "outputId": "aba496ee-c602-4980-845e-51b728d14ef4"
      },
      "execution_count": 14,
      "outputs": [
        {
          "output_type": "stream",
          "name": "stdout",
          "text": [
            "나는 자바보다 파이썬에 더 익숙합니다.\n",
            "파이썬은 자바보다 5배 더 쉽습니다.\n",
            "5 + 10 = 15\n",
            "작년 세계 경제 성장률은 전년에 비해 5% 포인트 증가했다.\n"
          ]
        }
      ]
    },
    {
      "cell_type": "code",
      "source": [
        "#str.format\n",
        "print('We are the {} who say \"{}!\"'.format('knight', 'Ni'))"
      ],
      "metadata": {
        "colab": {
          "base_uri": "https://localhost:8080/"
        },
        "id": "rgQZsgigtTJA",
        "outputId": "67862e9f-5340-46c2-fb50-e7ac120cc73c"
      },
      "execution_count": 15,
      "outputs": [
        {
          "output_type": "stream",
          "name": "stdout",
          "text": [
            "We are the knight who say \"Ni!\"\n"
          ]
        }
      ]
    },
    {
      "cell_type": "code",
      "source": [
        "#f-string\n",
        "name = '홍길동'\n",
        "age = 30\n",
        "f'나의 이름은 {name}입니다. 나이는 {age}입니다.'"
      ],
      "metadata": {
        "colab": {
          "base_uri": "https://localhost:8080/",
          "height": 35
        },
        "id": "ketPwGHQuG05",
        "outputId": "363f09bc-0c6d-4d62-ad34-3a01367d6da7"
      },
      "execution_count": 16,
      "outputs": [
        {
          "output_type": "execute_result",
          "data": {
            "text/plain": [
              "'나의 이름은 홍길동입니다. 나이는 30입니다.'"
            ],
            "application/vnd.google.colaboratory.intrinsic+json": {
              "type": "string"
            }
          },
          "metadata": {},
          "execution_count": 16
        }
      ]
    },
    {
      "cell_type": "code",
      "source": [
        "table = {'Tom':1234, 'Jack':4518, 'Eddie':9638}\n",
        "for name, phone in table.items():\n",
        "    print(f'{name:5} ===>{phone:5d}') #최소 5개 문자 너비"
      ],
      "metadata": {
        "colab": {
          "base_uri": "https://localhost:8080/"
        },
        "id": "v6DPh2ZouXA5",
        "outputId": "311a7a50-8ac5-4e88-f482-982db2dfa0f5"
      },
      "execution_count": 18,
      "outputs": [
        {
          "output_type": "stream",
          "name": "stdout",
          "text": [
            "Tom   ===> 1234\n",
            "Jack  ===> 4518\n",
            "Eddie ===> 9638\n"
          ]
        }
      ]
    },
    {
      "cell_type": "code",
      "source": [
        "table = {'Tom':1234, 'Jack':4518, 'Eddie':9638}\n",
        "for name, phone in table.items():\n",
        "    print(f'{name} ===>{phone:5d}') #글자수에 따라 형태 달라짐"
      ],
      "metadata": {
        "colab": {
          "base_uri": "https://localhost:8080/"
        },
        "id": "WEE-_BmCvfFe",
        "outputId": "cb375aab-40d0-4efd-fd0d-c6111828a2e6"
      },
      "execution_count": 19,
      "outputs": [
        {
          "output_type": "stream",
          "name": "stdout",
          "text": [
            "Tom ===> 1234\n",
            "Jack ===> 4518\n",
            "Eddie ===> 9638\n"
          ]
        }
      ]
    },
    {
      "cell_type": "code",
      "source": [
        "table = {'Tomtom':1234, 'Jack':4518, 'Eddie':9638} #5글자넘어가면 반영 못함\n",
        "for name, phone in table.items():\n",
        "    print(f'{name:5} ===>{phone:5d}') #글자수에 따라 형태 달라짐"
      ],
      "metadata": {
        "colab": {
          "base_uri": "https://localhost:8080/"
        },
        "id": "S6u2-N1Hv78L",
        "outputId": "97d89641-1cd6-45f1-e28b-7722537c37f8"
      },
      "execution_count": 20,
      "outputs": [
        {
          "output_type": "stream",
          "name": "stdout",
          "text": [
            "Tomtom ===> 1234\n",
            "Jack  ===> 4518\n",
            "Eddie ===> 9638\n"
          ]
        }
      ]
    },
    {
      "cell_type": "code",
      "source": [
        "#소수점 4자리까지만 표현\n",
        "y = 3.2353262\n",
        "f'{y:0.4f}'"
      ],
      "metadata": {
        "colab": {
          "base_uri": "https://localhost:8080/",
          "height": 35
        },
        "id": "8talzKcYwJsM",
        "outputId": "086a028f-9047-496c-b812-3838b38cd0a4"
      },
      "execution_count": 21,
      "outputs": [
        {
          "output_type": "execute_result",
          "data": {
            "text/plain": [
              "'3.2353'"
            ],
            "application/vnd.google.colaboratory.intrinsic+json": {
              "type": "string"
            }
          },
          "metadata": {},
          "execution_count": 21
        }
      ]
    },
    {
      "cell_type": "code",
      "source": [
        "#소수점 4자리까지 표현하고 총 자리수를 10으로 맞춤\n",
        "y = 3.2356262\n",
        "f'{y:10.4f}'"
      ],
      "metadata": {
        "colab": {
          "base_uri": "https://localhost:8080/",
          "height": 35
        },
        "id": "iYHPIZdEwwC3",
        "outputId": "2d5e2b8f-5d4b-40bd-e9a2-d19c96805b83"
      },
      "execution_count": 29,
      "outputs": [
        {
          "output_type": "execute_result",
          "data": {
            "text/plain": [
              "'    3.2356'"
            ],
            "application/vnd.google.colaboratory.intrinsic+json": {
              "type": "string"
            }
          },
          "metadata": {},
          "execution_count": 29
        }
      ]
    },
    {
      "cell_type": "code",
      "source": [
        "#Q. num1 = 12345, num2 = 12.3456789 를 아래와 같이 출력하세요\n",
        "num1 = 12345\n",
        "num2 = 12.3456789\n",
        "print(f'{num1:5d}')\n",
        "print(f'{num1:10d}')\n",
        "print(f'{num2:8.6f}')\n",
        "print(f'{num2:17.3f}')"
      ],
      "metadata": {
        "colab": {
          "base_uri": "https://localhost:8080/"
        },
        "id": "QMLUIJU7w6ZZ",
        "outputId": "33cacb4e-3eea-4164-f064-d9ba4e09fc8c"
      },
      "execution_count": 39,
      "outputs": [
        {
          "output_type": "stream",
          "name": "stdout",
          "text": [
            "12345\n",
            "     12345\n",
            "12.345679\n",
            "           12.346\n"
          ]
        }
      ]
    },
    {
      "cell_type": "markdown",
      "source": [
        "#### 2진수, 8진수, 16진수의 데이터 표현 방법\n",
        "\n",
        "- 우리가 프로그래밍을 하면서 변수에 어떤 값을 저장할 때 10진수는 일상적 표현을 그대로 대입한다.\n",
        "- 예를들어 15를 저장하고 싶다면 int a= 15; 와 같이 15라는 숫자를 그대로 대입하면 된다.\n",
        "- 하지만 2진수, 8진수, 16진수는 표현법이 따로 정해져있다.<br><br>  \n",
        "\n",
        "- 2진수는 대입하고자 하는 값 앞에 0b를 붙인다. (숫자0과 영문자b)\n",
        "- 8진수는 대입하고자 하는 값 앞에 0o 을 붙인다. (숫자0 영문자o)\n",
        "- 16진수는 대입하고자 하는 값 앞에 0x 를 붙인다. (숫자0과 영문자x)\n",
        "\n",
        "아래의 예시를 보자.\n",
        "변수 a,b,c,d 는 모두 10진수 122 이라는 값을 저장하는 코드이다.\n",
        "\n",
        "122는\n",
        "- 2진수로 1111010\n",
        "- 8진수로 172\n",
        "- 16진수로 7A 이다."
      ],
      "metadata": {
        "id": "ACwLFGPh04a2"
      }
    },
    {
      "cell_type": "code",
      "source": [
        "a = 0o172\n",
        "b = 0x7A\n",
        "c = 0b1111010\n",
        "print(a)\n",
        "print(b)\n",
        "print(c)"
      ],
      "metadata": {
        "colab": {
          "base_uri": "https://localhost:8080/"
        },
        "id": "L9-k8C7by9FF",
        "outputId": "56697d8c-3921-45a6-8d99-ad7dfe8e20f6"
      },
      "execution_count": 40,
      "outputs": [
        {
          "output_type": "stream",
          "name": "stdout",
          "text": [
            "122\n",
            "122\n",
            "122\n"
          ]
        }
      ]
    },
    {
      "cell_type": "code",
      "source": [
        "# Q. 10을 10진수, 2진수, 8진수, 16진수로 출력하세요\n",
        "a = 10\n",
        "b = 0b10\n",
        "c = 0o10\n",
        "d = 0x10\n",
        "print(a)\n",
        "print(b)\n",
        "print(c)\n",
        "print(d)"
      ],
      "metadata": {
        "colab": {
          "base_uri": "https://localhost:8080/"
        },
        "id": "BXjkMAet1wD4",
        "outputId": "65efa8e2-1eb4-4346-d214-bd2fbaf1462e"
      },
      "execution_count": 41,
      "outputs": [
        {
          "output_type": "stream",
          "name": "stdout",
          "text": [
            "10\n",
            "2\n",
            "8\n",
            "16\n"
          ]
        }
      ]
    },
    {
      "cell_type": "code",
      "source": [
        "#파이썬 자료형 - 숫자형(정수, 실수, 8진수, 16진수)\n",
        "#16진수 10 a, 11 b, 12 c, 13 d, 14 e, 15 f\n",
        "\n",
        "e = 0o177\n",
        "f = 0xABC\n",
        "g = 0b101010\n",
        "\n",
        "print(e)\n",
        "print(f)\n",
        "print(g)"
      ],
      "metadata": {
        "colab": {
          "base_uri": "https://localhost:8080/"
        },
        "id": "--DN_Dw42Uqp",
        "outputId": "d6af236f-44ce-438b-983b-cf4ae34442f7"
      },
      "execution_count": 42,
      "outputs": [
        {
          "output_type": "stream",
          "name": "stdout",
          "text": [
            "127\n",
            "2748\n",
            "42\n"
          ]
        }
      ]
    },
    {
      "cell_type": "code",
      "source": [
        "#2진수를 10진수로 표현\n",
        "g1 = 0b1000\n",
        "g2 = 0b100\n",
        "g3 = 0b10\n",
        "print(g1)\n",
        "print(g2)\n",
        "print(g3)"
      ],
      "metadata": {
        "colab": {
          "base_uri": "https://localhost:8080/"
        },
        "id": "XMLWxExD3ya6",
        "outputId": "62c31193-6680-4afd-af09-a0bf548e0d17"
      },
      "execution_count": 43,
      "outputs": [
        {
          "output_type": "stream",
          "name": "stdout",
          "text": [
            "8\n",
            "4\n",
            "2\n"
          ]
        }
      ]
    },
    {
      "cell_type": "code",
      "source": [
        "#16진수를 10진수로 표혀\n",
        "f1 = 0xA\n",
        "f2 = 0xB\n",
        "f3 = 0xAB\n",
        "print(f1)\n",
        "print(f2)\n",
        "print(f3)\n",
        "print(16*10+1*11)"
      ],
      "metadata": {
        "colab": {
          "base_uri": "https://localhost:8080/"
        },
        "id": "HrHFogq24cA5",
        "outputId": "feeea3e2-051c-4b1d-f8e2-43b5798304f4"
      },
      "execution_count": 44,
      "outputs": [
        {
          "output_type": "stream",
          "name": "stdout",
          "text": [
            "10\n",
            "11\n",
            "171\n",
            "171\n"
          ]
        }
      ]
    },
    {
      "cell_type": "code",
      "source": [
        "#Q. 0xABC 를 계산하세요\n",
        "a = 0xABC\n",
        "print(a)\n",
        "print(16**2*10+16*11+12)"
      ],
      "metadata": {
        "colab": {
          "base_uri": "https://localhost:8080/"
        },
        "id": "k-OmfUBt5XDS",
        "outputId": "cd2f3548-7401-4abf-ab4d-80d3e1356e4f"
      },
      "execution_count": 45,
      "outputs": [
        {
          "output_type": "stream",
          "name": "stdout",
          "text": [
            "2748\n",
            "2748\n"
          ]
        }
      ]
    },
    {
      "cell_type": "markdown",
      "source": [
        "Task2_0429. 십진수 122를 2진수, 8진수, 16진수로 변경하여 출력하세요."
      ],
      "metadata": {
        "id": "KgTzQ9B86ZHS"
      }
    },
    {
      "cell_type": "code",
      "source": [
        "decimal_num = 122\n"
      ],
      "metadata": {
        "id": "P-cZrICK6KN0"
      },
      "execution_count": null,
      "outputs": []
    },
    {
      "cell_type": "markdown",
      "source": [],
      "metadata": {
        "id": "ZeyNPx7u7Gdt"
      }
    }
  ]
}