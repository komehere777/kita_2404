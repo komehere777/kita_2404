{
  "nbformat": 4,
  "nbformat_minor": 0,
  "metadata": {
    "colab": {
      "provenance": []
    },
    "kernelspec": {
      "name": "python3",
      "display_name": "Python 3"
    },
    "language_info": {
      "name": "python"
    }
  },
  "cells": [
    {
      "cell_type": "markdown",
      "source": [
        "## Task1_0429. input_str을 아래와 같이 단어로 분리하여 출력하세요.\n",
        "\n",
        "input_str = \"Hello, world! How are you today? I am fine. Thank you!\"\n",
        "\n",
        "['Hello', 'world', 'How', 'are', 'you', 'today', 'I', 'am', 'fine', 'Thank', 'you', '']"
      ],
      "metadata": {
        "id": "n1-hQwF66jM6"
      }
    },
    {
      "cell_type": "code",
      "execution_count": null,
      "metadata": {
        "colab": {
          "base_uri": "https://localhost:8080/"
        },
        "id": "AcUPVeTV6eKM",
        "outputId": "10f0f3c3-e165-4359-bf4f-5cfccf0cf37a"
      },
      "outputs": [
        {
          "output_type": "stream",
          "name": "stdout",
          "text": [
            "['Hello,', 'world!', 'How', 'are', 'you', 'today?', 'I', 'am', 'fine.', 'Thank', 'you!']\n",
            "['Hello', 'world', 'How', 'are', 'you', 'today', 'I', 'am', 'fine', 'Thank', 'you']\n"
          ]
        }
      ],
      "source": [
        "#아이디어-문장구조상 split으로 분리시 단어의 마지막에 특수문자가 들어감\n",
        "#따라서 분리된 단어중 숫자 문자로만 되어있으면 리스트에 포함시키고\n",
        "#그렇지 않으면 마지막 특수문자 지우고 리스트 붙인다.\n",
        "input_str = \"Hello, world! How are you today? I am fine. Thank you!\"\n",
        "words = input_str.split()\n",
        "print(words)\n",
        "result =[]\n",
        "for i in words:\n",
        "    if i.isalnum():\n",
        "        result.append(i)\n",
        "    elif not i[-1].isalnum():\n",
        "        result.append(i[:-1])\n",
        "\n",
        "print(result)"
      ]
    },
    {
      "cell_type": "markdown",
      "source": [
        "## Task2_0429. 십진수 122를 2진수, 8진수, 16진수로 변경하여 출력하세요."
      ],
      "metadata": {
        "id": "gTUAjVot6j-X"
      }
    },
    {
      "cell_type": "code",
      "source": [
        "decimal_num = 122\n",
        "binary_num = bin(decimal_num)\n",
        "octa_num = oct(decimal_num)\n",
        "hex_num = hex(decimal_num)\n",
        "print(\"십진수 122를 2진수로 변환하면 \", binary_num)\n",
        "print(\"십진수 122를 8진수로 변환하면 \", octa_num)\n",
        "print(\"십진수 122를 16진수로 변환하면 \", hex_num)"
      ],
      "metadata": {
        "colab": {
          "base_uri": "https://localhost:8080/"
        },
        "id": "KtalyELV7BKn",
        "outputId": "feeb0319-b601-4452-d825-6169a493efed"
      },
      "execution_count": null,
      "outputs": [
        {
          "output_type": "stream",
          "name": "stdout",
          "text": [
            "십진수 122를 2진수로 변환하면  0b1111010\n",
            "십진수 122를 8진수로 변환하면  0o172\n",
            "십진수 122를 16진수로 변환하면  0x7a\n"
          ]
        }
      ]
    },
    {
      "cell_type": "markdown",
      "source": [
        "## Task3_0429. 두 수의 곱셈 결과를 계산하고, 그 결과에 10을 더하세요."
      ],
      "metadata": {
        "id": "ds6rZI7V7Hip"
      }
    },
    {
      "cell_type": "code",
      "source": [
        "a = 10\n",
        "b = 2\n",
        "c = a * b\n",
        "c += 10\n",
        "print(c)"
      ],
      "metadata": {
        "colab": {
          "base_uri": "https://localhost:8080/"
        },
        "id": "UkmVAeSFGTFA",
        "outputId": "e99a2613-d227-4f65-8f7b-a7647d6953ff"
      },
      "execution_count": null,
      "outputs": [
        {
          "output_type": "stream",
          "name": "stdout",
          "text": [
            "30\n"
          ]
        }
      ]
    },
    {
      "cell_type": "markdown",
      "source": [
        "## Task4_0429. 주어진 리스트에서 두 번째 요소를 삭제하고, 마지막에 새로운 요소 'Python'을 추가하세요.\n",
        "\n",
        "리스트: ['Java', 'C', 'JavaScript']"
      ],
      "metadata": {
        "id": "g19R6n7a7sqi"
      }
    },
    {
      "cell_type": "code",
      "source": [
        "list1 = ['Java', 'C', 'JavaScript']\n",
        "del list1[1]\n",
        "list1.append('Python')\n",
        "print(list1)"
      ],
      "metadata": {
        "colab": {
          "base_uri": "https://localhost:8080/"
        },
        "id": "0ND4qwWrG7yM",
        "outputId": "edba7b05-9624-4c3b-aaf9-9e4f2f302669"
      },
      "execution_count": null,
      "outputs": [
        {
          "output_type": "stream",
          "name": "stdout",
          "text": [
            "['Java', 'JavaScript', 'Python']\n"
          ]
        }
      ]
    },
    {
      "cell_type": "markdown",
      "source": [
        "## Task5_0429. 주어진 문자열에서 처음 세 글자와 마지막 세 글자를 연결하여 새로운 문자열을 만드세요.\n",
        "\n",
        "문자열: 'Incredible'"
      ],
      "metadata": {
        "id": "jk7uXQNr7wXR"
      }
    },
    {
      "cell_type": "code",
      "source": [
        "string = 'Incredible'\n",
        "new_str = string[:3] + string[-3:]\n",
        "print(new_str)"
      ],
      "metadata": {
        "colab": {
          "base_uri": "https://localhost:8080/"
        },
        "id": "oPau3NdxHQ07",
        "outputId": "b63edb5d-ee3c-4d66-f024-59d95663d5d6"
      },
      "execution_count": null,
      "outputs": [
        {
          "output_type": "stream",
          "name": "stdout",
          "text": [
            "Incble\n"
          ]
        }
      ]
    },
    {
      "cell_type": "markdown",
      "source": [
        "## Task6_0429. 사용자의 이름과 이메일을 딕셔너리로 저장하고, 이름을 입력받아 해당하는 이메일을 출력하세요.\n",
        "\n",
        "사용자 정보: 이름 - 'Alice', 이메일 - 'alice@example.com'"
      ],
      "metadata": {
        "id": "sIui8eyG7zeo"
      }
    },
    {
      "cell_type": "code",
      "source": [
        "usr_info = {'Alice':'alice@example.com'}\n",
        "input_name = input(\"Enter a name: \")\n",
        "for i in usr_info.keys():\n",
        "    if input_name == i:\n",
        "        print(usr_info[i])\n",
        "    else:\n",
        "        print(\"Not User\")"
      ],
      "metadata": {
        "colab": {
          "base_uri": "https://localhost:8080/"
        },
        "id": "2Ij-eUUUHqu-",
        "outputId": "bc9e084a-9a9f-48f6-e325-6e266582830e"
      },
      "execution_count": null,
      "outputs": [
        {
          "output_type": "stream",
          "name": "stdout",
          "text": [
            "Enter a name: ali\n",
            "Not User\n"
          ]
        }
      ]
    },
    {
      "cell_type": "code",
      "source": [
        "usr_info = {'Alice':'alice@example.com'}\n",
        "input_name = input(\"Enter a name: \")\n",
        "for i in usr_info.keys():\n",
        "    if input_name == i:\n",
        "        print(usr_info[i])\n",
        "    else:\n",
        "        print(\"Not User\")"
      ],
      "metadata": {
        "colab": {
          "base_uri": "https://localhost:8080/"
        },
        "id": "XN1pITWF_FL1",
        "outputId": "af46abb3-fb97-4b56-a39c-8c15e2c42f1f"
      },
      "execution_count": null,
      "outputs": [
        {
          "output_type": "stream",
          "name": "stdout",
          "text": [
            "Enter a name: Alice\n",
            "alice@example.com\n"
          ]
        }
      ]
    },
    {
      "cell_type": "markdown",
      "source": [
        "## Task7_0429. 주어진 두 튜플에서 공통 요소만을 찾아 집합으로 만드세요.\n",
        "\n",
        "튜플: (1, 2, 3, 4, 5)와 (4, 5, 6, 7, 8)"
      ],
      "metadata": {
        "id": "VO3qviA272fx"
      }
    },
    {
      "cell_type": "code",
      "source": [
        "t1 = (1, 2, 3, 4, 5)\n",
        "t2 = (4, 5, 6, 7, 8)\n",
        "s1 = set(t1)\n",
        "s2 = set(t2)\n",
        "intersection = s1.intersection(s2)\n",
        "print(intersection)"
      ],
      "metadata": {
        "colab": {
          "base_uri": "https://localhost:8080/"
        },
        "id": "LBFlA-bFKrMu",
        "outputId": "726eb09a-e7b3-4164-bd31-64ab05d15dfa"
      },
      "execution_count": null,
      "outputs": [
        {
          "output_type": "stream",
          "name": "stdout",
          "text": [
            "{4, 5}\n"
          ]
        }
      ]
    },
    {
      "cell_type": "markdown",
      "source": [
        "## Task8_Challenge_0429. 다음 요구 사항을 충족하는 프로그램을 작성하세요:\n",
        "\n",
        "- 사용자로부터 이름, 나이, 좋아하는 색상을 입력받습니다.\n",
        "- 입력받은 정보를 딕셔너리로 저장하고, 모든 사용자 정보를 리스트에 저장합니다.\n",
        "- 이름이 'John'인 사용자의 정보만 출력하세요.\n",
        "- 전체 사용자의 평균 나이를 계산하고 출력하세요.\n",
        "\n",
        "1. 사용자 데이터:\n",
        "- 이름: John\n",
        "- 나이: 28\n",
        "- 좋아하는 색상: Blue\n",
        "2. 사용자 데이터:\n",
        "- 이름: Alice\n",
        "- 나이: 24\n",
        "- 좋아하는 색상: Red\n",
        "3. 사용자 데이터:\n",
        "- 이름: Maria\n",
        "- 나이: 32\n",
        "- 좋아하는 색상: Green"
      ],
      "metadata": {
        "id": "qF9UFW9x74U7"
      }
    },
    {
      "cell_type": "code",
      "source": [
        "#데이터 input의로 입력 받음\n",
        "user1 = input(\"첫번째 사용자의 이름, 나이, 좋아하는 색상을 ,(쉼표)로 분리하여 입력하시오: \")\n",
        "user1_split_list = user1.split(',')\n",
        "user1_list = []\n",
        "for i in user1_split_list:\n",
        "    a = i.strip()\n",
        "    user1_list.append(a)\n",
        "\n",
        "user2 = input(\"두번째 사용자의 이름, 나이, 좋아하는 색상을 ,(쉼표)로 분리하여 입력하시오: \")\n",
        "user2_split_list = user2.split(',')\n",
        "user2_list = []\n",
        "for i in user2_split_list:\n",
        "    a = i.strip()\n",
        "    user2_list.append(a)\n",
        "\n",
        "user3 = input(\"세번째 사용자의 이름, 나이, 좋아하는 색상을 ,(쉼표)로 분리하여 입력하시오: \")\n",
        "user3_split_list = user3.split(',')\n",
        "user3_list = []\n",
        "for i in user3_split_list:\n",
        "    a = i.strip()\n",
        "    user3_list.append(a)\n",
        "#입력받은 정보를 딕셔너리로 저장하고, 모든 사용자 정보를 리스트에 저장합니다.\n",
        "user_inform_list = ['name', 'age', 'color']\n",
        "user1_dict = {k:v for k, v in zip(user_inform_list, user1_list)}\n",
        "user2_dict = {k:v for k, v in zip(user_inform_list, user2_list)}\n",
        "user3_dict = {k:v for k, v in zip(user_inform_list, user3_list)}\n",
        "\n",
        "total_user_list = [user1_dict, user2_dict, user3_dict]\n",
        "print(\"사용자 전체 리스트: \", total_user_list)\n",
        "#이름이 'John'인 사용자의 정보만 출력하세요.\n",
        "for i in total_user_list:\n",
        "    for k, v in i.items():\n",
        "        if v == 'john':\n",
        "            print(\"John의 정보: \", i)\n",
        "\n",
        "#전체 사용자의 평균 나이를 계산하고 출력하세요.\n",
        "age_list = [i[k] for i in total_user_list for k, v in i.items() if k == 'age']\n",
        "int_age_list = [int(i) for i in age_list]\n",
        "total = sum(int_age_list)\n",
        "avg = total/len(age_list)\n",
        "print(\"전체 사용자의 평균나이: \", avg)"
      ],
      "metadata": {
        "colab": {
          "base_uri": "https://localhost:8080/"
        },
        "id": "hNmuZnAMLCWP",
        "outputId": "aea8caa7-a0d3-4a1f-e21a-f610d95d36bb"
      },
      "execution_count": null,
      "outputs": [
        {
          "output_type": "stream",
          "name": "stdout",
          "text": [
            "첫번째 사용자의 이름, 나이, 좋아하는 색상을 ,(쉼표)로 분리하여 입력하시오: john, 28,blue\n",
            "두번째 사용자의 이름, 나이, 좋아하는 색상을 ,(쉼표)로 분리하여 입력하시오: alice, 24, red\n",
            "세번째 사용자의 이름, 나이, 좋아하는 색상을 ,(쉼표)로 분리하여 입력하시오: maria, 32, green\n",
            "사용자 전체 리스트:  [{'name': 'john', 'age': '28', 'color': 'blue'}, {'name': 'alice', 'age': '24', 'color': 'red'}, {'name': 'maria', 'age': '32', 'color': 'green'}]\n",
            "John의 정보:  {'name': 'john', 'age': '28', 'color': 'blue'}\n",
            "전체 사용자의 평균나이:  28.0\n"
          ]
        }
      ]
    },
    {
      "cell_type": "code",
      "source": [
        "#사용자 데이터 직접 입력\n",
        "user1_list = ['john', 28,'blue']\n",
        "user2_list = ['alice', 24, 'red']\n",
        "user3_list = ['maria', 32, 'green']\n",
        "\n",
        "#입력받은 정보를 딕셔너리로 저장하고, 모든 사용자 정보를 리스트에 저장합니다.\n",
        "user_inform_list = ['name', 'age', 'color']\n",
        "user1_dict = {k:v for k, v in zip(user_inform_list, user1_list)}\n",
        "user2_dict = {k:v for k, v in zip(user_inform_list, user2_list)}\n",
        "user3_dict = {k:v for k, v in zip(user_inform_list, user3_list)}\n",
        "\n",
        "total_user_list = [user1_dict, user2_dict, user3_dict]\n",
        "print(\"사용자 전체 리스트: \", total_user_list)\n",
        "#이름이 'John'인 사용자의 정보만 출력하세요.\n",
        "for i in total_user_list:\n",
        "    for k, v in i.items():\n",
        "        if v == 'john':\n",
        "            print(\"John의 정보: \", i)\n",
        "\n",
        "#전체 사용자의 평균 나이를 계산하고 출력하세요.\n",
        "age_list = [i[k] for i in total_user_list for k, v in i.items() if k == 'age']\n",
        "int_age_list = [int(i) for i in age_list]\n",
        "total = sum(int_age_list)\n",
        "avg = total/len(age_list)\n",
        "print(\"전체 사용자의 평균나이: \", avg)"
      ],
      "metadata": {
        "colab": {
          "base_uri": "https://localhost:8080/"
        },
        "id": "JGo7PDsi9l4T",
        "outputId": "b0c44180-5566-4f74-dcec-94717a6286c7"
      },
      "execution_count": null,
      "outputs": [
        {
          "output_type": "stream",
          "name": "stdout",
          "text": [
            "사용자 전체 리스트:  [{'name': 'john', 'age': 28, 'color': 'blue'}, {'name': 'alice', 'age': 24, 'color': 'red'}, {'name': 'maria', 'age': 32, 'color': 'green'}]\n",
            "John의 정보:  {'name': 'john', 'age': 28, 'color': 'blue'}\n",
            "전체 사용자의 평균나이:  28.0\n"
          ]
        }
      ]
    },
    {
      "cell_type": "code",
      "source": [
        "#리스트컴프리헨션으로 단축\n",
        "#사용자 데이터 입력\n",
        "user1_list = ['john', 28,'blue']\n",
        "user2_list = ['alice', 24, 'red']\n",
        "user3_list = ['maria', 32, 'green']\n",
        "\n",
        "#입력받은 정보를 딕셔너리로 저장하고, 모든 사용자 정보를 리스트에 저장합니다.\n",
        "user_inform_list = ['name', 'age', 'color']\n",
        "user1_dict = {k:v for k, v in zip(user_inform_list, user1_list)}\n",
        "user2_dict = {k:v for k, v in zip(user_inform_list, user2_list)}\n",
        "user3_dict = {k:v for k, v in zip(user_inform_list, user3_list)}\n",
        "\n",
        "total_user_list = [user1_dict, user2_dict, user3_dict]\n",
        "print(\"사용자 전체 리스트: \", total_user_list)\n",
        "inform_john = [i for i in total_user_list for k, v in i.items() if v == 'john']\n",
        "print(\"John의 정보: \", inform_john)\n",
        "\n",
        "#전체 사용자의 평균 나이를 계산하고 출력하세요.\n",
        "age_list = [i[k] for i in total_user_list for k, v in i.items() if k == 'age']\n",
        "int_age_list = [int(i) for i in age_list]\n",
        "total = sum(int_age_list)\n",
        "avg = total/len(age_list)\n",
        "print(\"전체 사용자의 평균나이: \", avg)"
      ],
      "metadata": {
        "colab": {
          "base_uri": "https://localhost:8080/"
        },
        "id": "eTYkF6kKAWV9",
        "outputId": "151d019c-2ae6-4f44-888e-4909fe9ffc22"
      },
      "execution_count": 1,
      "outputs": [
        {
          "output_type": "stream",
          "name": "stdout",
          "text": [
            "사용자 전체 리스트:  [{'name': 'john', 'age': 28, 'color': 'blue'}, {'name': 'alice', 'age': 24, 'color': 'red'}, {'name': 'maria', 'age': 32, 'color': 'green'}]\n",
            "John의 정보:  [{'name': 'john', 'age': 28, 'color': 'blue'}]\n",
            "전체 사용자의 평균나이:  28.0\n"
          ]
        }
      ]
    },
    {
      "cell_type": "code",
      "source": [
        "#리스트컴프리헨션으로 단축\n",
        "#사용자 데이터 입력\n",
        "user1_list = ['john', 28,'blue'] ; user2_list = ['alice', 24, 'red'] ; user3_list = ['maria', 32, 'green']\n",
        "\n",
        "#입력받은 정보를 딕셔너리로 저장하고, 모든 사용자 정보를 리스트에 저장합니다.\n",
        "#반복문으로 단순화\n",
        "user_inform_list = ['name', 'age', 'color']\n",
        "total_user_list = []\n",
        "for i in [user1_list, user2_list, user3_list]:\n",
        "    user_dict = {k: v for k, v in zip(user_inform_list, i)}\n",
        "    total_user_list.append(user_dict)\n",
        "\n",
        "print(\"사용자 전체 리스트: \", total_user_list)\n",
        "inform_john = [i for i in total_user_list for k, v in i.items() if v == 'john']\n",
        "print(\"John의 정보: \", inform_john)\n",
        "\n",
        "#전체 사용자의 평균 나이를 계산하고 출력하세요.\n",
        "age_list = [i[k] for i in total_user_list for k, v in i.items() if k == 'age']\n",
        "int_age_list = [int(i) for i in age_list]\n",
        "total = sum(int_age_list)\n",
        "avg = total/len(age_list)\n",
        "print(\"전체 사용자의 평균나이: \", avg)"
      ],
      "metadata": {
        "id": "UwFmKWTXlsCQ"
      },
      "execution_count": null,
      "outputs": []
    }
  ]
}