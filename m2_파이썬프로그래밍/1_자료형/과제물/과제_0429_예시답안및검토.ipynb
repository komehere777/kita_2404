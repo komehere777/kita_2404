{
  "nbformat": 4,
  "nbformat_minor": 0,
  "metadata": {
    "colab": {
      "provenance": []
    },
    "kernelspec": {
      "name": "python3",
      "display_name": "Python 3"
    },
    "language_info": {
      "name": "python"
    }
  },
  "cells": [
    {
      "cell_type": "markdown",
      "source": [
        "## Task1_0429. input_str을 아래와 같이 단어로 분리하여 출력하세요.\n",
        "\n",
        "input_str = \"Hello, world! How are you today? I am fine. Thank you!\"\n",
        "\n",
        "['Hello', 'world', 'How', 'are', 'you', 'today', 'I', 'am', 'fine', 'Thank', 'you', '']"
      ],
      "metadata": {
        "id": "n1-hQwF66jM6"
      }
    },
    {
      "cell_type": "code",
      "execution_count": null,
      "metadata": {
        "colab": {
          "base_uri": "https://localhost:8080/"
        },
        "id": "AcUPVeTV6eKM",
        "outputId": "10f0f3c3-e165-4359-bf4f-5cfccf0cf37a"
      },
      "outputs": [
        {
          "output_type": "stream",
          "name": "stdout",
          "text": [
            "['Hello,', 'world!', 'How', 'are', 'you', 'today?', 'I', 'am', 'fine.', 'Thank', 'you!']\n",
            "['Hello', 'world', 'How', 'are', 'you', 'today', 'I', 'am', 'fine', 'Thank', 'you']\n"
          ]
        }
      ],
      "source": [
        "#아이디어-문장구조상 split으로 분리시 단어의 마지막에 특수문자가 들어감\n",
        "#따라서 분리된 단어중 숫자 문자로만 되어있으면 리스트에 포함시키고\n",
        "#그렇지 않으면 마지막 특수문자 지우고 리스트 붙인다.\n",
        "input_str = \"Hello, world! How are you today? I am fine. Thank you!\"\n",
        "words = input_str.split()\n",
        "print(words)\n",
        "result =[]\n",
        "for i in words:\n",
        "    if i.isalnum():\n",
        "        result.append(i)\n",
        "    elif not i[-1].isalnum():\n",
        "        result.append(i[:-1])\n",
        "\n",
        "print(result)"
      ]
    },
    {
      "cell_type": "code",
      "source": [
        "#참고- 정규표현식 사용\n",
        "\n",
        "import re\n",
        "\n",
        "input_str = \"Hello, world! How are you today? I am fine. Thank you!\"\n",
        "tokens = re.split('[ ,.?!]+', input_str)\n",
        "print(tokens)"
      ],
      "metadata": {
        "colab": {
          "base_uri": "https://localhost:8080/"
        },
        "id": "sNpuEQClXyRM",
        "outputId": "1180d22c-8ad7-4075-cbfa-4341b48e1521"
      },
      "execution_count": 1,
      "outputs": [
        {
          "output_type": "stream",
          "name": "stdout",
          "text": [
            "['Hello', 'world', 'How', 'are', 'you', 'today', 'I', 'am', 'fine', 'Thank', 'you', '']\n"
          ]
        }
      ]
    },
    {
      "cell_type": "code",
      "source": [
        "#['Hello', 'world', 'How', 'are', 'you', 'today', 'I', 'am', 'fine', 'Thank', 'you', ''] 에서 ''빈문자열 나오는게 문제점\n",
        "\n",
        "import re\n",
        "\n",
        "input_str = \"Hello, world! How are you today? I am fine. Thank you!\"\n",
        "tokens = re.split('[ ,.?!]+', input_str)\n",
        "tokens = [token for token in tokens if token] #for 사용\n",
        "print(tokens)"
      ],
      "metadata": {
        "colab": {
          "base_uri": "https://localhost:8080/"
        },
        "id": "tE_mzz9zheJU",
        "outputId": "2298bd2b-2ddb-467c-ea82-c933bf7e924b"
      },
      "execution_count": 7,
      "outputs": [
        {
          "output_type": "stream",
          "name": "stdout",
          "text": [
            "['Hello', 'world', 'How', 'are', 'you', 'today', 'I', 'am', 'fine', 'Thank', 'you']\n"
          ]
        }
      ]
    },
    {
      "cell_type": "code",
      "source": [
        "#['Hello', 'world', 'How', 'are', 'you', 'today', 'I', 'am', 'fine', 'Thank', 'you', ''] 에서 ''빈문자열 나오는게 문제점\n",
        "\n",
        "import re\n",
        "\n",
        "input_str = \"Hello, world! How are you today? I am fine. Thank you!\"\n",
        "tokens = re.split('[ ,.?!]+', input_str)\n",
        "tokens = list(filter(None, tokens))     #filter함수 사용\n",
        "print(tokens)"
      ],
      "metadata": {
        "colab": {
          "base_uri": "https://localhost:8080/"
        },
        "id": "x12AFUsfh2EI",
        "outputId": "71115a2f-1b66-4b43-823d-9cf0d36c5be9"
      },
      "execution_count": 8,
      "outputs": [
        {
          "output_type": "stream",
          "name": "stdout",
          "text": [
            "['Hello', 'world', 'How', 'are', 'you', 'today', 'I', 'am', 'fine', 'Thank', 'you']\n"
          ]
        }
      ]
    },
    {
      "cell_type": "markdown",
      "source": [
        "현재 트랜스포메이션은 토큰나이져하는것이 일반적\n",
        "\n",
        "re.split() 함수의 동작:\n",
        "- 주어진 문자열에서 공백, 쉼표, 마침표, 물음표, 느낌표를 포함하여 연속된 어떤 조합이라도 하나의 구분자로 취급하고, 이에 따라 문자열을 분리\n",
        "\n",
        "정규 표현식 구성 요소:\n",
        "- 대괄호([ ]): 대괄호는 문자 클래스를 만들며 대괄호 안에 포함된 어떤 문자와도 일치할 수 있다. 여기서는 공백( ), 쉼표(,), 마침표(.), 물음표(?), 느낌표(!)가 포함되어 있어 이 중 어떤 한 문자와도 일치할 수 있다.\n",
        "- 플러스 기호(+): 이 기호는 직전의 요소가 하나 이상 반복될 때 사용. 즉, `[ ,.?!]+`는 공백, 쉼표, 마침표, 물음표, 느낌표 중 하나 이상 연속된 시퀀스와 일치. 이를 통해 문자열을 분리할 때 하나의 구분자만이 아닌, 여러 구분자가 연속적으로 위치해 있는 경우에도 단일 구분점으로 취급할 수 있다."
      ],
      "metadata": {
        "id": "cKvpD8EtXQWB"
      }
    },
    {
      "cell_type": "markdown",
      "source": [
        "라마3 - 파라미터 8빌리언(800억개) 파라미터\n",
        "gpt3.5수준, 오픈 소스,\n",
        "h100 gpu 150만개구입 -메타, 마소\n",
        "\n",
        "groq - 빠른 결과, 엔비디아로 위태로움 ,일반적인 결과물에 20배 빠름\n",
        "\n",
        "일반적인 모델은 실제 적용하기에는 느림\n",
        "\n",
        "ai를 이용해서 실용적인 결과물을 만들수 있음\n",
        "\n",
        "ux쪽에 서비스하는 것이 유리함\n",
        "\n"
      ],
      "metadata": {
        "id": "TybYNRySVA5W"
      }
    },
    {
      "cell_type": "markdown",
      "source": [
        "## Task2_0429. 십진수 122를 2진수, 8진수, 16진수로 변경하여 출력하세요."
      ],
      "metadata": {
        "id": "gTUAjVot6j-X"
      }
    },
    {
      "cell_type": "code",
      "source": [
        "decimal_num = 122\n",
        "binary_num = bin(decimal_num)\n",
        "octa_num = oct(decimal_num)\n",
        "hex_num = hex(decimal_num)\n",
        "print(\"십진수 122를 2진수로 변환하면 \", binary_num)\n",
        "print(\"십진수 122를 8진수로 변환하면 \", octa_num)\n",
        "print(\"십진수 122를 16진수로 변환하면 \", hex_num)"
      ],
      "metadata": {
        "colab": {
          "base_uri": "https://localhost:8080/"
        },
        "id": "KtalyELV7BKn",
        "outputId": "feeb0319-b601-4452-d825-6169a493efed"
      },
      "execution_count": null,
      "outputs": [
        {
          "output_type": "stream",
          "name": "stdout",
          "text": [
            "십진수 122를 2진수로 변환하면  0b1111010\n",
            "십진수 122를 8진수로 변환하면  0o172\n",
            "십진수 122를 16진수로 변환하면  0x7a\n"
          ]
        }
      ]
    },
    {
      "cell_type": "markdown",
      "source": [
        "## Task3_0429. 두 수의 곱셈 결과를 계산하고, 그 결과에 10을 더하세요."
      ],
      "metadata": {
        "id": "ds6rZI7V7Hip"
      }
    },
    {
      "cell_type": "code",
      "source": [
        "a = 10\n",
        "b = 2\n",
        "c = a * b\n",
        "c += 10\n",
        "print(c)"
      ],
      "metadata": {
        "colab": {
          "base_uri": "https://localhost:8080/"
        },
        "id": "UkmVAeSFGTFA",
        "outputId": "e99a2613-d227-4f65-8f7b-a7647d6953ff"
      },
      "execution_count": null,
      "outputs": [
        {
          "output_type": "stream",
          "name": "stdout",
          "text": [
            "30\n"
          ]
        }
      ]
    },
    {
      "cell_type": "markdown",
      "source": [
        "## Task4_0429. 주어진 리스트에서 두 번째 요소를 삭제하고, 마지막에 새로운 요소 'Python'을 추가하세요.\n",
        "\n",
        "리스트: ['Java', 'C', 'JavaScript']"
      ],
      "metadata": {
        "id": "g19R6n7a7sqi"
      }
    },
    {
      "cell_type": "code",
      "source": [
        "list1 = ['Java', 'C', 'JavaScript']\n",
        "del list1[1]\n",
        "list1.append('Python')\n",
        "print(list1)"
      ],
      "metadata": {
        "colab": {
          "base_uri": "https://localhost:8080/"
        },
        "id": "0ND4qwWrG7yM",
        "outputId": "edba7b05-9624-4c3b-aaf9-9e4f2f302669"
      },
      "execution_count": null,
      "outputs": [
        {
          "output_type": "stream",
          "name": "stdout",
          "text": [
            "['Java', 'JavaScript', 'Python']\n"
          ]
        }
      ]
    },
    {
      "cell_type": "code",
      "source": [
        "list1 = ['Java', 'C', 'JavaScript']\n",
        "list1.pop(1)    #하나씩 쓰고 버리는 용도로 많이 사용\n",
        "list1.append('Python')\n",
        "print(list1)"
      ],
      "metadata": {
        "colab": {
          "base_uri": "https://localhost:8080/"
        },
        "id": "C7pg52bVb0eC",
        "outputId": "b883967f-e4c9-415c-816d-8a208cd5ed96"
      },
      "execution_count": 3,
      "outputs": [
        {
          "output_type": "stream",
          "name": "stdout",
          "text": [
            "['Java', 'JavaScript', 'Python']\n"
          ]
        }
      ]
    },
    {
      "cell_type": "markdown",
      "source": [
        "## Task5_0429. 주어진 문자열에서 처음 세 글자와 마지막 세 글자를 연결하여 새로운 문자열을 만드세요.\n",
        "\n",
        "문자열: 'Incredible'"
      ],
      "metadata": {
        "id": "jk7uXQNr7wXR"
      }
    },
    {
      "cell_type": "code",
      "source": [
        "string = 'Incredible'\n",
        "new_str = string[:3] + string[-3:]\n",
        "print(new_str)"
      ],
      "metadata": {
        "colab": {
          "base_uri": "https://localhost:8080/"
        },
        "id": "oPau3NdxHQ07",
        "outputId": "b63edb5d-ee3c-4d66-f024-59d95663d5d6"
      },
      "execution_count": null,
      "outputs": [
        {
          "output_type": "stream",
          "name": "stdout",
          "text": [
            "Incble\n"
          ]
        }
      ]
    },
    {
      "cell_type": "markdown",
      "source": [
        "## Task6_0429. 사용자의 이름과 이메일을 딕셔너리로 저장하고, 이름을 입력받아 해당하는 이메일을 출력하세요.\n",
        "\n",
        "사용자 정보: 이름 - 'Alice', 이메일 - 'alice@example.com'"
      ],
      "metadata": {
        "id": "sIui8eyG7zeo"
      }
    },
    {
      "cell_type": "code",
      "source": [
        "usr_info = {'Alice':'alice@example.com'}\n",
        "input_name = input(\"Enter a name: \")\n",
        "for i in usr_info.keys():\n",
        "    if input_name == i:\n",
        "        print(usr_info[i])\n",
        "    else:\n",
        "        print(\"Not User\")"
      ],
      "metadata": {
        "colab": {
          "base_uri": "https://localhost:8080/"
        },
        "id": "2Ij-eUUUHqu-",
        "outputId": "bc9e084a-9a9f-48f6-e325-6e266582830e"
      },
      "execution_count": null,
      "outputs": [
        {
          "output_type": "stream",
          "name": "stdout",
          "text": [
            "Enter a name: ali\n",
            "Not User\n"
          ]
        }
      ]
    },
    {
      "cell_type": "code",
      "source": [
        "usr_info = {'Alice':'alice@example.com'}\n",
        "input_name = input(\"Enter a name: \")\n",
        "for i in usr_info.keys():\n",
        "    if input_name == i:\n",
        "        print(usr_info[i])\n",
        "    else:\n",
        "        print(\"Not User\")"
      ],
      "metadata": {
        "colab": {
          "base_uri": "https://localhost:8080/"
        },
        "id": "XN1pITWF_FL1",
        "outputId": "af46abb3-fb97-4b56-a39c-8c15e2c42f1f"
      },
      "execution_count": null,
      "outputs": [
        {
          "output_type": "stream",
          "name": "stdout",
          "text": [
            "Enter a name: Alice\n",
            "alice@example.com\n"
          ]
        }
      ]
    },
    {
      "cell_type": "code",
      "source": [
        "#참고 - 더 간단한 방법\n",
        "d = {'Alice':'alice@example.com'}\n",
        "name = input(\"Enter a name: \")\n",
        "if name in d:\n",
        "    print(d[name])\n",
        "else:\n",
        "    print('Not User.')"
      ],
      "metadata": {
        "colab": {
          "base_uri": "https://localhost:8080/"
        },
        "id": "JXjB1y4ld1jp",
        "outputId": "ed07ff57-fc96-434b-9def-928c0f0c8ee7"
      },
      "execution_count": 4,
      "outputs": [
        {
          "output_type": "stream",
          "name": "stdout",
          "text": [
            "Enter a name: Alice\n",
            "alice@example.com\n"
          ]
        }
      ]
    },
    {
      "cell_type": "code",
      "source": [
        "d = {'Alice':'alice@example.com'}\n",
        "print(d['Alice'])"
      ],
      "metadata": {
        "colab": {
          "base_uri": "https://localhost:8080/"
        },
        "id": "AtKOykXAiHvJ",
        "outputId": "1198ba20-e228-4ef4-b88b-df72f088058c"
      },
      "execution_count": 9,
      "outputs": [
        {
          "output_type": "stream",
          "name": "stdout",
          "text": [
            "alice@example.com\n"
          ]
        }
      ]
    },
    {
      "cell_type": "markdown",
      "source": [
        "## Task7_0429. 주어진 두 튜플에서 공통 요소만을 찾아 집합으로 만드세요.\n",
        "\n",
        "튜플: (1, 2, 3, 4, 5)와 (4, 5, 6, 7, 8)"
      ],
      "metadata": {
        "id": "VO3qviA272fx"
      }
    },
    {
      "cell_type": "code",
      "source": [
        "t1 = (1, 2, 3, 4, 5)\n",
        "t2 = (4, 5, 6, 7, 8)\n",
        "s1 = set(t1)\n",
        "s2 = set(t2)\n",
        "intersection = s1.intersection(s2)\n",
        "print(intersection)\n",
        "\n",
        "#튜플, 리스트는 교집합, 합집합 연산 불가\n",
        "\n"
      ],
      "metadata": {
        "colab": {
          "base_uri": "https://localhost:8080/"
        },
        "id": "LBFlA-bFKrMu",
        "outputId": "726eb09a-e7b3-4164-bd31-64ab05d15dfa"
      },
      "execution_count": null,
      "outputs": [
        {
          "output_type": "stream",
          "name": "stdout",
          "text": [
            "{4, 5}\n"
          ]
        }
      ]
    },
    {
      "cell_type": "markdown",
      "source": [
        "## Task8_Challenge_0429. 다음 요구 사항을 충족하는 프로그램을 작성하세요:\n",
        "\n",
        "- 사용자로부터 이름, 나이, 좋아하는 색상을 입력받습니다.\n",
        "- 입력받은 정보를 딕셔너리로 저장하고, 모든 사용자 정보를 리스트에 저장합니다.\n",
        "- 이름이 'John'인 사용자의 정보만 출력하세요.\n",
        "- 전체 사용자의 평균 나이를 계산하고 출력하세요.\n",
        "\n",
        "1. 사용자 데이터:\n",
        "- 이름: John\n",
        "- 나이: 28\n",
        "- 좋아하는 색상: Blue\n",
        "2. 사용자 데이터:\n",
        "- 이름: Alice\n",
        "- 나이: 24\n",
        "- 좋아하는 색상: Red\n",
        "3. 사용자 데이터:\n",
        "- 이름: Maria\n",
        "- 나이: 32\n",
        "- 좋아하는 색상: Green"
      ],
      "metadata": {
        "id": "qF9UFW9x74U7"
      }
    },
    {
      "cell_type": "code",
      "source": [
        "#데이터 input의로 입력 받음\n",
        "user1 = input(\"첫번째 사용자의 이름, 나이, 좋아하는 색상을 ,(쉼표)로 분리하여 입력하시오: \")\n",
        "user1_split_list = user1.split(',')\n",
        "user1_list = []\n",
        "for i in user1_split_list:\n",
        "    a = i.strip()\n",
        "    user1_list.append(a)\n",
        "\n",
        "user2 = input(\"두번째 사용자의 이름, 나이, 좋아하는 색상을 ,(쉼표)로 분리하여 입력하시오: \")\n",
        "user2_split_list = user2.split(',')\n",
        "user2_list = []\n",
        "for i in user2_split_list:\n",
        "    a = i.strip()\n",
        "    user2_list.append(a)\n",
        "\n",
        "user3 = input(\"세번째 사용자의 이름, 나이, 좋아하는 색상을 ,(쉼표)로 분리하여 입력하시오: \")\n",
        "user3_split_list = user3.split(',')\n",
        "user3_list = []\n",
        "for i in user3_split_list:\n",
        "    a = i.strip()\n",
        "    user3_list.append(a)\n",
        "#입력받은 정보를 딕셔너리로 저장하고, 모든 사용자 정보를 리스트에 저장합니다.\n",
        "user_inform_list = ['name', 'age', 'color']\n",
        "user1_dict = {k:v for k, v in zip(user_inform_list, user1_list)}\n",
        "user2_dict = {k:v for k, v in zip(user_inform_list, user2_list)}\n",
        "user3_dict = {k:v for k, v in zip(user_inform_list, user3_list)}\n",
        "\n",
        "total_user_list = [user1_dict, user2_dict, user3_dict]\n",
        "print(\"사용자 전체 리스트: \", total_user_list)\n",
        "#이름이 'John'인 사용자의 정보만 출력하세요.\n",
        "for i in total_user_list:\n",
        "    for k, v in i.items():\n",
        "        if v == 'john':\n",
        "            print(\"John의 정보: \", i)\n",
        "\n",
        "#전체 사용자의 평균 나이를 계산하고 출력하세요.\n",
        "age_list = [i[k] for i in total_user_list for k, v in i.items() if k == 'age']\n",
        "int_age_list = [int(i) for i in age_list]\n",
        "total = sum(int_age_list)\n",
        "avg = total/len(age_list)\n",
        "print(\"전체 사용자의 평균나이: \", avg)"
      ],
      "metadata": {
        "colab": {
          "base_uri": "https://localhost:8080/"
        },
        "id": "hNmuZnAMLCWP",
        "outputId": "aea8caa7-a0d3-4a1f-e21a-f610d95d36bb"
      },
      "execution_count": null,
      "outputs": [
        {
          "output_type": "stream",
          "name": "stdout",
          "text": [
            "첫번째 사용자의 이름, 나이, 좋아하는 색상을 ,(쉼표)로 분리하여 입력하시오: john, 28,blue\n",
            "두번째 사용자의 이름, 나이, 좋아하는 색상을 ,(쉼표)로 분리하여 입력하시오: alice, 24, red\n",
            "세번째 사용자의 이름, 나이, 좋아하는 색상을 ,(쉼표)로 분리하여 입력하시오: maria, 32, green\n",
            "사용자 전체 리스트:  [{'name': 'john', 'age': '28', 'color': 'blue'}, {'name': 'alice', 'age': '24', 'color': 'red'}, {'name': 'maria', 'age': '32', 'color': 'green'}]\n",
            "John의 정보:  {'name': 'john', 'age': '28', 'color': 'blue'}\n",
            "전체 사용자의 평균나이:  28.0\n"
          ]
        }
      ]
    },
    {
      "cell_type": "code",
      "source": [
        "#사용자 데이터 직접 입력\n",
        "user1_list = ['john', 28,'blue']\n",
        "user2_list = ['alice', 24, 'red']\n",
        "user3_list = ['maria', 32, 'green']\n",
        "\n",
        "#입력받은 정보를 딕셔너리로 저장하고, 모든 사용자 정보를 리스트에 저장합니다.\n",
        "user_inform_list = ['name', 'age', 'color']\n",
        "user1_dict = {k:v for k, v in zip(user_inform_list, user1_list)}\n",
        "user2_dict = {k:v for k, v in zip(user_inform_list, user2_list)}\n",
        "user3_dict = {k:v for k, v in zip(user_inform_list, user3_list)}\n",
        "\n",
        "total_user_list = [user1_dict, user2_dict, user3_dict]\n",
        "print(\"사용자 전체 리스트: \", total_user_list)\n",
        "#이름이 'John'인 사용자의 정보만 출력하세요.\n",
        "for i in total_user_list:\n",
        "    for k, v in i.items():\n",
        "        if v == 'john':\n",
        "            print(\"John의 정보: \", i)\n",
        "\n",
        "#전체 사용자의 평균 나이를 계산하고 출력하세요.\n",
        "age_list = [i[k] for i in total_user_list for k, v in i.items() if k == 'age']\n",
        "int_age_list = [int(i) for i in age_list]\n",
        "total = sum(int_age_list)\n",
        "avg = total/len(age_list)\n",
        "print(\"전체 사용자의 평균나이: \", avg)"
      ],
      "metadata": {
        "colab": {
          "base_uri": "https://localhost:8080/"
        },
        "id": "JGo7PDsi9l4T",
        "outputId": "b0c44180-5566-4f74-dcec-94717a6286c7"
      },
      "execution_count": null,
      "outputs": [
        {
          "output_type": "stream",
          "name": "stdout",
          "text": [
            "사용자 전체 리스트:  [{'name': 'john', 'age': 28, 'color': 'blue'}, {'name': 'alice', 'age': 24, 'color': 'red'}, {'name': 'maria', 'age': 32, 'color': 'green'}]\n",
            "John의 정보:  {'name': 'john', 'age': 28, 'color': 'blue'}\n",
            "전체 사용자의 평균나이:  28.0\n"
          ]
        }
      ]
    },
    {
      "cell_type": "code",
      "source": [
        "#리스트컴프리헨션으로 단축\n",
        "#사용자 데이터 입력\n",
        "user1_list = ['john', 28,'blue']\n",
        "user2_list = ['alice', 24, 'red']\n",
        "user3_list = ['maria', 32, 'green']\n",
        "\n",
        "#입력받은 정보를 딕셔너리로 저장하고, 모든 사용자 정보를 리스트에 저장합니다.\n",
        "user_inform_list = ['name', 'age', 'color']\n",
        "user1_dict = {k:v for k, v in zip(user_inform_list, user1_list)}\n",
        "user2_dict = {k:v for k, v in zip(user_inform_list, user2_list)}\n",
        "user3_dict = {k:v for k, v in zip(user_inform_list, user3_list)}\n",
        "\n",
        "total_user_list = [user1_dict, user2_dict, user3_dict]\n",
        "print(\"사용자 전체 리스트: \", total_user_list)\n",
        "inform_john = [i for i in total_user_list for k, v in i.items() if v == 'john']\n",
        "print(\"John의 정보: \", inform_john)\n",
        "\n",
        "#전체 사용자의 평균 나이를 계산하고 출력하세요.\n",
        "age_list = [i[k] for i in total_user_list for k, v in i.items() if k == 'age']\n",
        "int_age_list = [int(i) for i in age_list]\n",
        "total = sum(int_age_list)\n",
        "avg = total/len(age_list)\n",
        "print(\"전체 사용자의 평균나이: \", avg)"
      ],
      "metadata": {
        "colab": {
          "base_uri": "https://localhost:8080/"
        },
        "id": "eTYkF6kKAWV9",
        "outputId": "151d019c-2ae6-4f44-888e-4909fe9ffc22"
      },
      "execution_count": null,
      "outputs": [
        {
          "output_type": "stream",
          "name": "stdout",
          "text": [
            "사용자 전체 리스트:  [{'name': 'john', 'age': 28, 'color': 'blue'}, {'name': 'alice', 'age': 24, 'color': 'red'}, {'name': 'maria', 'age': 32, 'color': 'green'}]\n",
            "John의 정보:  [{'name': 'john', 'age': 28, 'color': 'blue'}]\n",
            "전체 사용자의 평균나이:  28.0\n"
          ]
        }
      ]
    },
    {
      "cell_type": "code",
      "source": [
        "#리스트컴프리헨션으로 단축\n",
        "#사용자 데이터 입력\n",
        "user1_list = ['john', 28,'blue'] ; user2_list = ['alice', 24, 'red'] ; user3_list = ['maria', 32, 'green']\n",
        "\n",
        "#입력받은 정보를 딕셔너리로 저장하고, 모든 사용자 정보를 리스트에 저장합니다.\n",
        "#반복문으로 단순화\n",
        "user_inform_list = ['name', 'age', 'color']\n",
        "total_user_list = []\n",
        "for i in [user1_list, user2_list, user3_list]:\n",
        "    user_dict = {k: v for k, v in zip(user_inform_list, i)}\n",
        "    total_user_list.append(user_dict)\n",
        "\n",
        "print(\"사용자 전체 리스트: \", total_user_list)\n",
        "inform_john = [i for i in total_user_list for k, v in i.items() if v == 'john']\n",
        "print(\"John의 정보: \", inform_john)\n",
        "\n",
        "#전체 사용자의 평균 나이를 계산하고 출력하세요.\n",
        "age_list = [i[k] for i in total_user_list for k, v in i.items() if k == 'age']\n",
        "total = sum(int_age_list)\n",
        "avg = total/len(age_list)\n",
        "print(\"전체 사용자의 평균나이: \", avg)"
      ],
      "metadata": {
        "id": "UwFmKWTXlsCQ",
        "colab": {
          "base_uri": "https://localhost:8080/"
        },
        "outputId": "1f30c932-0b64-433e-bf41-186792d7067b"
      },
      "execution_count": 6,
      "outputs": [
        {
          "output_type": "stream",
          "name": "stdout",
          "text": [
            "사용자 전체 리스트:  [{'name': 'john', 'age': 28, 'color': 'blue'}, {'name': 'alice', 'age': 24, 'color': 'red'}, {'name': 'maria', 'age': 32, 'color': 'green'}]\n",
            "John의 정보:  [{'name': 'john', 'age': 28, 'color': 'blue'}]\n",
            "전체 사용자의 평균나이:  28.0\n"
          ]
        }
      ]
    },
    {
      "cell_type": "code",
      "source": [
        "#참고\n",
        "users = []\n",
        "for _ in range(3):          # _ 언더바로 for문 돌리면 변수 지정없이 돌리기만 함\n",
        "    name = input(\"What your name?: \")\n",
        "    age = int(input(\"How old? : \"))\n",
        "    favorite_color = input(\"Favorite color? : \")\n",
        "    user_info = {'name':name, 'age':age, 'favorite_color': favorite_color}\n",
        "    users.append(user_info)\n",
        "\n",
        "for user in users:\n",
        "    if user['name'] == 'John':\n",
        "        print(f\"John's info: {user}\")\n",
        "\n",
        "total_age = sum(user['age'] for user in users)\n",
        "average_age = total_age / len(users)\n",
        "print(f\"Average age of users: {average_age:.2f}\")"
      ],
      "metadata": {
        "colab": {
          "base_uri": "https://localhost:8080/"
        },
        "id": "QOMOoAz_gm-q",
        "outputId": "6055e5e7-cc83-4e80-a4fe-3501daa379ca"
      },
      "execution_count": 10,
      "outputs": [
        {
          "output_type": "stream",
          "name": "stdout",
          "text": [
            "What your name?: John\n",
            "How old? : 28\n",
            "Favorite color? : blue\n",
            "What your name?: alice\n",
            "How old? : 24\n",
            "Favorite color? : red\n",
            "What your name?: maria\n",
            "How old? : 32\n",
            "Favorite color? : green\n",
            "John's info: {'name': 'John', 'age': 28, 'favorite_color': 'blue'}\n",
            "Average age of users: 28.00\n"
          ]
        }
      ]
    },
    {
      "cell_type": "markdown",
      "source": [
        "#### 파이썬에서 \"모든 것이 객체\"\n",
        "파이썬 내에서 데이터와 함수, 모듈, 클래스 등 모든 것이 객체로 취급된다는 것을 의미\n",
        "- 기본 데이터 타입(예: 정수, 실수, 문자열 등)을 포함하여 모든 데이터가 객체. 각 데이터 타입은 특정 클래스의 인스턴스로, 해당 데이터 타입의 메소드와 속성을 가진다. 예를 들어, 정수는 int 클래스의 인스턴스로, 여러 가지 메소드(예: bit_length(), __add__() 등)를 사용할 수 있습니다."
      ],
      "metadata": {
        "id": "PfoBiq9nmdJ5"
      }
    },
    {
      "cell_type": "code",
      "source": [
        "x = 10\n",
        "print(x.bit_length())"
      ],
      "metadata": {
        "colab": {
          "base_uri": "https://localhost:8080/"
        },
        "id": "cfIO_bs3n98j",
        "outputId": "cf627fde-b293-4618-a580-0d9a63f11087"
      },
      "execution_count": 15,
      "outputs": [
        {
          "output_type": "stream",
          "name": "stdout",
          "text": [
            "4\n"
          ]
        }
      ]
    },
    {
      "cell_type": "markdown",
      "source": [
        "- 파이썬에서 함수도 객체로 취급. 이는 함수를 변수에 할당하거나, 다른 함수의 인자로 전달하거나, 리스트나 딕셔너리 같은 데이터 구조에 저장할 수 있음을 의미"
      ],
      "metadata": {
        "id": "GC4OO0tVoEpU"
      }
    },
    {
      "cell_type": "code",
      "source": [
        "def greet():\n",
        "    print(\"Hello, world!\")\n",
        "\n",
        "print(greet.__name__)"
      ],
      "metadata": {
        "colab": {
          "base_uri": "https://localhost:8080/"
        },
        "id": "qLJERKZeopLo",
        "outputId": "10cd8bba-d0c8-4625-fbc3-17869d2c04b1"
      },
      "execution_count": 14,
      "outputs": [
        {
          "output_type": "stream",
          "name": "stdout",
          "text": [
            "greet\n"
          ]
        }
      ]
    },
    {
      "cell_type": "markdown",
      "source": [
        "- 파이썬에서 클래스와 모듈 또한 객체. 클래스는 type의 인스턴스로, 메소드와 속성을 포함할 수 있다. 모듈도 객체로 취급되어, 모듈 내의 함수나 변수 등을 속성으로 가질 수 있다."
      ],
      "metadata": {
        "id": "voL_D5eqogF0"
      }
    },
    {
      "cell_type": "code",
      "source": [
        "print(type(int))"
      ],
      "metadata": {
        "colab": {
          "base_uri": "https://localhost:8080/"
        },
        "id": "QwwTeLWCpAsU",
        "outputId": "006bf916-9972-4b34-e205-80a2eb9ca0ff"
      },
      "execution_count": 17,
      "outputs": [
        {
          "output_type": "stream",
          "name": "stdout",
          "text": [
            "<class 'type'>\n"
          ]
        }
      ]
    },
    {
      "cell_type": "code",
      "source": [
        "x = 1\n",
        "print(type(x))\n",
        "\n",
        "y = \"hello\"\n",
        "print(type(y))\n",
        "\n",
        "def func():\n",
        "    pass\n",
        "\n",
        "print(type(func))"
      ],
      "metadata": {
        "colab": {
          "base_uri": "https://localhost:8080/"
        },
        "id": "XPvUdjzeqa_b",
        "outputId": "4f692e6b-250a-49cf-d046-5bd5100c5812"
      },
      "execution_count": 18,
      "outputs": [
        {
          "output_type": "stream",
          "name": "stdout",
          "text": [
            "<class 'int'>\n",
            "<class 'str'>\n",
            "<class 'function'>\n"
          ]
        }
      ]
    },
    {
      "cell_type": "code",
      "source": [
        "dir(function)"
      ],
      "metadata": {
        "colab": {
          "base_uri": "https://localhost:8080/",
          "height": 147
        },
        "id": "A9BchdFsqpH1",
        "outputId": "0575c742-9590-489c-a5c0-df11f7a32da3"
      },
      "execution_count": 21,
      "outputs": [
        {
          "output_type": "error",
          "ename": "NameError",
          "evalue": "name 'function' is not defined",
          "traceback": [
            "\u001b[0;31m---------------------------------------------------------------------------\u001b[0m",
            "\u001b[0;31mNameError\u001b[0m                                 Traceback (most recent call last)",
            "\u001b[0;32m<ipython-input-21-1630334d7135>\u001b[0m in \u001b[0;36m<cell line: 1>\u001b[0;34m()\u001b[0m\n\u001b[0;32m----> 1\u001b[0;31m \u001b[0mdir\u001b[0m\u001b[0;34m(\u001b[0m\u001b[0mfunction\u001b[0m\u001b[0;34m)\u001b[0m\u001b[0;34m\u001b[0m\u001b[0;34m\u001b[0m\u001b[0m\n\u001b[0m",
            "\u001b[0;31mNameError\u001b[0m: name 'function' is not defined"
          ]
        }
      ]
    },
    {
      "cell_type": "markdown",
      "source": [
        "type 함수가 반환하는 결과가 클래스 이름(예: <class 'list'>)으로 나오는 것은, 해당 객체가 해당 클래스의 인스턴스라는 것을 의미"
      ],
      "metadata": {
        "id": "kARbihaMokXL"
      }
    },
    {
      "cell_type": "code",
      "source": [
        "list_exam = [1,2,3]\n",
        "print(type(list_exam))\n",
        "tuple_exam = (1,2,3)\n",
        "print(type(tuple_exam))\n",
        "dict_exam = {'key': 'value'}\n",
        "print(type(dict_exam))"
      ],
      "metadata": {
        "colab": {
          "base_uri": "https://localhost:8080/"
        },
        "id": "mL8B41gnrHHf",
        "outputId": "11fafaca-daa2-49a5-d0cf-66f9a9b817f6"
      },
      "execution_count": 23,
      "outputs": [
        {
          "output_type": "stream",
          "name": "stdout",
          "text": [
            "<class 'list'>\n",
            "<class 'tuple'>\n",
            "<class 'dict'>\n"
          ]
        }
      ]
    },
    {
      "cell_type": "code",
      "source": [
        "# 사용자가 직접 작성한 클래스에서 객체를 만들 경우\n",
        "\n",
        "class Car:\n",
        "    def __init__(self, model):\n",
        "        self.model = model\n",
        "\n",
        "my_car = Car(\"Toyota\")\n",
        "print(type(my_car))  #__main__은 메인 프로그램에서 돌아가는 클래스"
      ],
      "metadata": {
        "colab": {
          "base_uri": "https://localhost:8080/"
        },
        "id": "FAlMucgrrdZq",
        "outputId": "6c8c867c-96f7-49ab-f131-f4d63f4f5dd1"
      },
      "execution_count": 24,
      "outputs": [
        {
          "output_type": "stream",
          "name": "stdout",
          "text": [
            "<class '__main__.Car'>\n"
          ]
        }
      ]
    },
    {
      "cell_type": "code",
      "source": [
        "dir(Car)"
      ],
      "metadata": {
        "colab": {
          "base_uri": "https://localhost:8080/"
        },
        "id": "d1hCo8r0sqAb",
        "outputId": "70e4117e-78cd-48f7-f28c-743c4f12f23f"
      },
      "execution_count": 25,
      "outputs": [
        {
          "output_type": "execute_result",
          "data": {
            "text/plain": [
              "['__class__',\n",
              " '__delattr__',\n",
              " '__dict__',\n",
              " '__dir__',\n",
              " '__doc__',\n",
              " '__eq__',\n",
              " '__format__',\n",
              " '__ge__',\n",
              " '__getattribute__',\n",
              " '__gt__',\n",
              " '__hash__',\n",
              " '__init__',\n",
              " '__init_subclass__',\n",
              " '__le__',\n",
              " '__lt__',\n",
              " '__module__',\n",
              " '__ne__',\n",
              " '__new__',\n",
              " '__reduce__',\n",
              " '__reduce_ex__',\n",
              " '__repr__',\n",
              " '__setattr__',\n",
              " '__sizeof__',\n",
              " '__str__',\n",
              " '__subclasshook__',\n",
              " '__weakref__']"
            ]
          },
          "metadata": {},
          "execution_count": 25
        }
      ]
    },
    {
      "cell_type": "code",
      "source": [],
      "metadata": {
        "id": "eQ4WKTH-s8nm"
      },
      "execution_count": null,
      "outputs": []
    }
  ]
}