{
  "nbformat": 4,
  "nbformat_minor": 0,
  "metadata": {
    "colab": {
      "provenance": []
    },
    "kernelspec": {
      "name": "python3",
      "display_name": "Python 3"
    },
    "language_info": {
      "name": "python"
    }
  },
  "cells": [
    {
      "cell_type": "markdown",
      "source": [
        "Task1_0514. BC, CC, ABC 모두 C가 출력되는 정규 표현식을 ( )에 작성하세요."
      ],
      "metadata": {
        "id": "dchjiwEQEjVu"
      }
    },
    {
      "cell_type": "code",
      "execution_count": null,
      "metadata": {
        "colab": {
          "base_uri": "https://localhost:8080/"
        },
        "id": "CX0PEx4KEfvY",
        "outputId": "e51de9b4-249e-4a3e-9b17-00d67f37a77c"
      },
      "outputs": [
        {
          "output_type": "stream",
          "name": "stdout",
          "text": [
            "<re.Match object; span=(1, 2), match='C'>\n",
            "<re.Match object; span=(0, 1), match='C'>\n",
            "<re.Match object; span=(2, 3), match='C'>\n",
            "['C']\n",
            "C\n",
            "['C']\n"
          ]
        }
      ],
      "source": [
        "import re\n",
        "\n",
        "pattern = re.compile('C')\n",
        "text1 = 'BC'\n",
        "text2 = 'CC'\n",
        "text3 = 'ABC'\n",
        "p1 = pattern.search(text1)\n",
        "p2 = pattern.search(text2)\n",
        "p3 = pattern.search(text3)\n",
        "print(p1)\n",
        "print(p2)\n",
        "print(p3)\n",
        "p1 = pattern.findall(text1)\n",
        "p2 = pattern.match(text2)\n",
        "p3 = pattern.findall(text3)\n",
        "print(p1)\n",
        "print(p2.group())\n",
        "print(p3)"
      ]
    },
    {
      "cell_type": "code",
      "source": [
        "#ex\n",
        "pattern = re.compile('A?C')  #? 0,1 A가 없거나 한번\n",
        "text1 = 'BC'\n",
        "text2 = 'CC'\n",
        "text3 = 'ABC'\n",
        "text4 = 'AAC'\n",
        "text5 = 'BCC'\n",
        "p1 = pattern.search(text1)\n",
        "p2 = pattern.search(text2)\n",
        "p3 = pattern.search(text3)\n",
        "p4 = pattern.search(text4)\n",
        "p5 = pattern.search(text5)\n",
        "print(p1.group())\n",
        "print(p2.group())\n",
        "print(p3.group())\n",
        "print(p4.group())\n",
        "print(p5.group())"
      ],
      "metadata": {
        "colab": {
          "base_uri": "https://localhost:8080/"
        },
        "id": "-AbF30Zfyoxl",
        "outputId": "cc3d207b-b767-4354-814b-d29f7d97bbb4"
      },
      "execution_count": null,
      "outputs": [
        {
          "output_type": "stream",
          "name": "stdout",
          "text": [
            "C\n",
            "C\n",
            "C\n",
            "AC\n",
            "C\n"
          ]
        }
      ]
    },
    {
      "cell_type": "code",
      "source": [
        "#ex\n",
        "import re\n",
        "\n",
        "pattern = re.compile('A?C')  #? 0,1 A가 없거나 한번\n",
        "text1 = ['BC','CC','ABC','AAC','BCC']\n",
        "for i in text1:\n",
        "    match = pattern.match(i)\n",
        "    if match:\n",
        "        print(f'\"{i}\" Found a match')\n",
        "    else:\n",
        "        print(f'\"{i}\" No match')"
      ],
      "metadata": {
        "colab": {
          "base_uri": "https://localhost:8080/"
        },
        "id": "s6j1SKfQ1Qp5",
        "outputId": "7194686d-d95b-468d-fca2-6e976eff8e90"
      },
      "execution_count": 4,
      "outputs": [
        {
          "output_type": "stream",
          "name": "stdout",
          "text": [
            "\"BC\" No match\n",
            "\"CC\" Found a match\n",
            "\"ABC\" No match\n",
            "\"AAC\" No match\n",
            "\"BCC\" No match\n"
          ]
        }
      ]
    },
    {
      "cell_type": "markdown",
      "source": [
        "Task2_0514. ' Python3 is very good programming language!'에서  ['Python', 'is', 'very', 'good', 'programming', 'language']를 모두 출력하세요."
      ],
      "metadata": {
        "id": "jtj8E8fzEvgD"
      }
    },
    {
      "cell_type": "code",
      "source": [
        "import re\n",
        "\n",
        "text = 'Python3 is very good programming language!'\n",
        "regex = re.compile('[a-zA-Z]+')\n",
        "result = regex.findall(text)\n",
        "print(result)"
      ],
      "metadata": {
        "colab": {
          "base_uri": "https://localhost:8080/"
        },
        "id": "Z7YwZWTmEuxG",
        "outputId": "b052dc36-89b2-4978-b023-a51c5f13bf1b"
      },
      "execution_count": null,
      "outputs": [
        {
          "output_type": "stream",
          "name": "stdout",
          "text": [
            "['Python', 'is', 'very', 'good', 'programming', 'language']\n"
          ]
        }
      ]
    },
    {
      "cell_type": "code",
      "source": [
        "#ex\n"
      ],
      "metadata": {
        "id": "DnLWApWsIq6A"
      },
      "execution_count": null,
      "outputs": []
    }
  ]
}