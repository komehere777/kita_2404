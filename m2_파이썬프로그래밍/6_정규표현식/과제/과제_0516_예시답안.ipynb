{
  "nbformat": 4,
  "nbformat_minor": 0,
  "metadata": {
    "colab": {
      "provenance": []
    },
    "kernelspec": {
      "name": "python3",
      "display_name": "Python 3"
    },
    "language_info": {
      "name": "python"
    }
  },
  "cells": [
    {
      "cell_type": "code",
      "source": [
        "def inc():\n",
        "  from IPython.display import Javascript\n",
        "  display(Javascript('''\n",
        "  for (rule of document.styleSheets[0].cssRules){\n",
        "    if (rule.selectorText=='body') {\n",
        "      rule.style.fontSize = '20px'\n",
        "      break\n",
        "    }\n",
        "  }\n",
        "  '''))"
      ],
      "metadata": {
        "id": "rDtv_bIb6ZI4"
      },
      "execution_count": 1,
      "outputs": []
    },
    {
      "cell_type": "markdown",
      "source": [
        "Task1_0516. '199305, 1923A, a93247'에서 '199305'만 출력하세요."
      ],
      "metadata": {
        "id": "smZybVyN-L1V"
      }
    },
    {
      "cell_type": "code",
      "execution_count": null,
      "metadata": {
        "colab": {
          "base_uri": "https://localhost:8080/"
        },
        "id": "p4PuwtD--H-F",
        "outputId": "d53868a8-d09d-404b-980f-911aea1e40ad"
      },
      "outputs": [
        {
          "output_type": "stream",
          "name": "stdout",
          "text": [
            "<re.Match object; span=(0, 6), match='199305'>\n"
          ]
        }
      ],
      "source": [
        " import re\n",
        "\n",
        " text = '199305, 1923A, a93247'\n",
        " p = re.compile('\\d+')\n",
        " print(p.search(text))"
      ]
    },
    {
      "cell_type": "code",
      "source": [
        "inc()\n",
        "\n",
        "import re\n",
        "#ex\n",
        "r = re.compile(r'^\\d+')"
      ],
      "metadata": {
        "colab": {
          "base_uri": "https://localhost:8080/",
          "height": 17
        },
        "id": "5f_ut0rx6UIw",
        "outputId": "d198c559-8cea-47cf-8553-092758ef1771"
      },
      "execution_count": 3,
      "outputs": [
        {
          "output_type": "display_data",
          "data": {
            "text/plain": [
              "<IPython.core.display.Javascript object>"
            ],
            "application/javascript": [
              "\n",
              "  for (rule of document.styleSheets[0].cssRules){\n",
              "    if (rule.selectorText=='body') {\n",
              "      rule.style.fontSize = '20px'\n",
              "      break\n",
              "    }\n",
              "  }\n",
              "  "
            ]
          },
          "metadata": {}
        }
      ]
    },
    {
      "cell_type": "markdown",
      "source": [
        "Task2_0516. '99food234, a93456\\n, a9356ba '에서 '99food234'만 출력하세요."
      ],
      "metadata": {
        "id": "X7fKfng--PFU"
      }
    },
    {
      "cell_type": "code",
      "source": [
        "text = '99food234, a93456\\n, a9356ba '\n",
        "p = re.compile('^\\d+\\w+')\n",
        "print(p.search(text))"
      ],
      "metadata": {
        "colab": {
          "base_uri": "https://localhost:8080/"
        },
        "id": "FZLr0sWe-SEB",
        "outputId": "59e265bb-fa62-4dea-e8c5-ed431c9dbae5"
      },
      "execution_count": null,
      "outputs": [
        {
          "output_type": "stream",
          "name": "stdout",
          "text": [
            "<re.Match object; span=(0, 9), match='99food234'>\n"
          ]
        }
      ]
    },
    {
      "cell_type": "code",
      "source": [
        "#ex\n",
        "p = re.compile(r'\\w+\\d')"
      ],
      "metadata": {
        "id": "DwZQWaXh601z"
      },
      "execution_count": 4,
      "outputs": []
    },
    {
      "cell_type": "markdown",
      "source": [
        "Task3_0516. 주어진 문자열이 유효한 이메일 주소인지 확인\n",
        "\"example@example.com\""
      ],
      "metadata": {
        "id": "MB5PTI3N-SXd"
      }
    },
    {
      "cell_type": "code",
      "source": [
        "t = \"example@example.com\"\n",
        "p = re.compile( r'(?<=@)[a-zA-Z0-9.-]+(?=\\.)')\n",
        "if p.search(t):\n",
        "    print(\"valid email\")"
      ],
      "metadata": {
        "colab": {
          "base_uri": "https://localhost:8080/"
        },
        "id": "y53NpP7u_gsC",
        "outputId": "f2001406-caaa-439c-9bae-358b414d2792"
      },
      "execution_count": null,
      "outputs": [
        {
          "output_type": "stream",
          "name": "stdout",
          "text": [
            "valid email\n"
          ]
        }
      ]
    },
    {
      "cell_type": "code",
      "source": [
        "#ex\n",
        "def is_valid_email(email):\n",
        "    pattern = r'^[a-zA-Z0-9._%+-]+@[a-zA-Z0-9.-]+\\.[a-zA-Z]{2,}$'\n",
        "    return bool(re.match(pattern, email))\n",
        "\n",
        "is_valid_email(\"example@example.com\")"
      ],
      "metadata": {
        "colab": {
          "base_uri": "https://localhost:8080/"
        },
        "id": "1Yh3g8xs7VnR",
        "outputId": "d8083096-e620-45d3-9c55-c6d648e8c724"
      },
      "execution_count": 5,
      "outputs": [
        {
          "output_type": "execute_result",
          "data": {
            "text/plain": [
              "True"
            ]
          },
          "metadata": {},
          "execution_count": 5
        }
      ]
    },
    {
      "cell_type": "markdown",
      "source": [
        "Task4_0516. 주어진 문자열이 올바른 전화번호 형식(010-0000-0000)인지 확인하세요.\n",
        "\"010-1234-5678\""
      ],
      "metadata": {
        "id": "4C3NTq0g_hPR"
      }
    },
    {
      "cell_type": "code",
      "source": [
        "t = \"010-1234-5678\"\n",
        "p = re.compile(r'(010)-\\d{4}-\\d{4}')\n",
        "if p.search(t):\n",
        "    print(\"valid phone number!\")"
      ],
      "metadata": {
        "colab": {
          "base_uri": "https://localhost:8080/"
        },
        "id": "LuDRyFEI_hhu",
        "outputId": "7c82c8e6-60ee-44aa-fc24-9473b55e59f4"
      },
      "execution_count": null,
      "outputs": [
        {
          "output_type": "stream",
          "name": "stdout",
          "text": [
            "valid phone number!\n"
          ]
        }
      ]
    },
    {
      "cell_type": "code",
      "source": [
        "#ex\n",
        "\n",
        "p = r'^010-\\d{4}-\\d{4}$'"
      ],
      "metadata": {
        "id": "p3XgHgmm8aSN"
      },
      "execution_count": 6,
      "outputs": []
    },
    {
      "cell_type": "markdown",
      "source": [
        "Task5_0516. 문자열에서 모든 HTML 태그를 찾아 리스트로 반환하세요.\n",
        "\"<html><head></head><body></body></html>\""
      ],
      "metadata": {
        "id": "xw8RTph__hzC"
      }
    },
    {
      "cell_type": "code",
      "source": [
        "t = \"<html><head></head><body></body></html>\"\n",
        "p = re.compile(r'<\\/*\\w+>')\n",
        "print(p.findall(t))"
      ],
      "metadata": {
        "colab": {
          "base_uri": "https://localhost:8080/"
        },
        "id": "4fdR0wry_iD4",
        "outputId": "568878f0-16dd-4e03-c802-87b4b6621ede"
      },
      "execution_count": null,
      "outputs": [
        {
          "output_type": "stream",
          "name": "stdout",
          "text": [
            "['<html>', '<head>', '</head>', '<body>', '</body>', '</html>']\n"
          ]
        }
      ]
    },
    {
      "cell_type": "code",
      "source": [
        "#ex\n",
        "p = r'<[^>]+>'"
      ],
      "metadata": {
        "id": "swdVtghl81Rr"
      },
      "execution_count": 7,
      "outputs": []
    },
    {
      "cell_type": "markdown",
      "source": [
        "Task6_0516. 주어진 비밀번호가 최소 8자, 대문자, 소문자, 숫자, 특수문자를 포함하는지 확인하세요.\n",
        "\"Aa1!aaaa\""
      ],
      "metadata": {
        "id": "0EYF7cc7_ies"
      }
    },
    {
      "cell_type": "code",
      "source": [
        "t = \"Aa1!aaaa\"\n",
        "p = re.compile(r'((a-z)|(A-z)|(\\d)|(\\S)){8,}')\n",
        "if p.search(t):\n",
        "    print(\"valid password\")"
      ],
      "metadata": {
        "colab": {
          "base_uri": "https://localhost:8080/"
        },
        "id": "sn-3BRRp_izl",
        "outputId": "ffda1531-3b35-465a-f474-26837e2f3f35"
      },
      "execution_count": null,
      "outputs": [
        {
          "output_type": "stream",
          "name": "stdout",
          "text": [
            "valid password\n"
          ]
        }
      ]
    },
    {
      "cell_type": "code",
      "source": [
        "#ex\n",
        "def is_strong_password(password):\n",
        "    p = r'^(?=.*[a-z])(?=.*[A-Z])(?=.*\\d)(?=.*[@$!%*?&])[A-Za-z\\d@$!%*?&]{8,}$'\n",
        "    return bool(re.match(p, password))\n",
        "\n",
        "is_strong_password('Aa1!aaaa')"
      ],
      "metadata": {
        "colab": {
          "base_uri": "https://localhost:8080/"
        },
        "id": "zq2mbLrr-Kfh",
        "outputId": "7872c5a1-8b49-4cca-c4fa-21133205a72c"
      },
      "execution_count": 8,
      "outputs": [
        {
          "output_type": "execute_result",
          "data": {
            "text/plain": [
              "True"
            ]
          },
          "metadata": {},
          "execution_count": 8
        }
      ]
    },
    {
      "cell_type": "code",
      "source": [
        "#ex\n",
        "p = r'[(a-z)+(A-Z)+\\d+(\\D\\W\\S)+]{8,}'"
      ],
      "metadata": {
        "id": "DhRPiIU-BLZa"
      },
      "execution_count": null,
      "outputs": []
    },
    {
      "cell_type": "markdown",
      "source": [
        "Task7_0516. 주어진 문자열이 유효한 URL인지 확인하세요.\n",
        "\"https://www.example.com\""
      ],
      "metadata": {
        "id": "Fep-b-aP_nF6"
      }
    },
    {
      "cell_type": "code",
      "source": [
        "t = \"https://www.example.com\"\n",
        "t = \"http://example.co.kr\"\n",
        "p = re.compile(r'(^https://|^http://)*(www.)*\\w+\\W\\w+')\n",
        "if p.search(t):\n",
        "    print(\"valid URL\")"
      ],
      "metadata": {
        "colab": {
          "base_uri": "https://localhost:8080/"
        },
        "id": "aDiMF6fb_nWU",
        "outputId": "36e58087-fcc0-4826-d826-7965a7b8553f"
      },
      "execution_count": null,
      "outputs": [
        {
          "output_type": "stream",
          "name": "stdout",
          "text": [
            "valid URL\n"
          ]
        }
      ]
    },
    {
      "cell_type": "code",
      "source": [
        "#ex\n",
        "\n",
        "def is_valid_url(url):\n",
        "    p = r'^(https?|ftp):\\/\\/[^\\s/$.?#].[^\\s]*$'\n",
        "    return bool(re.match(p, url))\n",
        "\n",
        "is_valid_url(\"https://www.example.com\")"
      ],
      "metadata": {
        "colab": {
          "base_uri": "https://localhost:8080/"
        },
        "id": "dDk8sizaB_PG",
        "outputId": "d73c70d5-dd1f-48c7-a3b9-b7306c5c8969"
      },
      "execution_count": 10,
      "outputs": [
        {
          "output_type": "execute_result",
          "data": {
            "text/plain": [
              "True"
            ]
          },
          "metadata": {},
          "execution_count": 10
        }
      ]
    },
    {
      "cell_type": "code",
      "source": [
        "#ex\n",
        "\n",
        "def is_valid_url(url):\n",
        "    p = r'^(https?|ftp)://[^\\s/$.?#].[^\\s]*$'\n",
        "    return bool(re.match(p, url))\n",
        "\n",
        "is_valid_url(\"https://www.example.com\")"
      ],
      "metadata": {
        "colab": {
          "base_uri": "https://localhost:8080/"
        },
        "id": "t7eI1jt1DbKO",
        "outputId": "c625c292-9e0e-4de2-f2ec-adf20d5e5db2"
      },
      "execution_count": 11,
      "outputs": [
        {
          "output_type": "execute_result",
          "data": {
            "text/plain": [
              "True"
            ]
          },
          "metadata": {},
          "execution_count": 11
        }
      ]
    },
    {
      "cell_type": "code",
      "source": [
        "#ex\n",
        "\n"
      ],
      "metadata": {
        "id": "Yx7NAubnAZLT"
      },
      "execution_count": null,
      "outputs": []
    },
    {
      "cell_type": "markdown",
      "source": [
        "Task8_0516. 주어진 문자열이 유효한 주민등록번호(######-#######) 형식인지 확인하세요.\n",
        "\"900101-1234567\""
      ],
      "metadata": {
        "id": "to_yKOja_nxE"
      }
    },
    {
      "cell_type": "code",
      "source": [
        "t = \"900101-1234567\"\n",
        "p = re.compile(r'\\d{2}(0[1-9]|1[0-2])(((0|1|2)\\d)|30|31)-[1234]\\d{6}')\n",
        "#예외적인 일의 경우 별도 조건문의 처리\n",
        "\n",
        "pattern = r'\\d{2}(0[1-9]|1[0-2])(0[1-9]|[12]\\d|3[01])-[1234]\\d{6}'\n",
        "#특정달 반영\n",
        "pattern = r'\\d{2}((0[13578]|1[02])(0[1-9]|[12]\\d|3[01])|(0[469]|11)(0[1-9]|[12]\\d|30)|02(0[1-9]|1\\d|2[0-8]))-[1234]\\d{6}'\n",
        "\n",
        "if p.search(t):\n",
        "    print(\"valid social service number!\")"
      ],
      "metadata": {
        "colab": {
          "base_uri": "https://localhost:8080/"
        },
        "id": "MvGtuEpE_oCk",
        "outputId": "fbd52b47-4527-4e74-955f-2583ed96039a"
      },
      "execution_count": 12,
      "outputs": [
        {
          "output_type": "stream",
          "name": "stdout",
          "text": [
            "valid social service number!\n"
          ]
        }
      ]
    },
    {
      "cell_type": "code",
      "source": [
        "#ex\n",
        "p = re.compile(r'[00-99][01-12][01-31]')"
      ],
      "metadata": {
        "id": "CKiJUcAGE-tM"
      },
      "execution_count": null,
      "outputs": []
    },
    {
      "cell_type": "markdown",
      "source": [
        "Task9_0516. 주어진 문자열이 유효한 IPv4 주소인지 확인하세요.\n",
        "\"192.168.1.1\""
      ],
      "metadata": {
        "id": "V7cs5bT3_oQK"
      }
    },
    {
      "cell_type": "code",
      "source": [
        "t = \"192.168.1.1\"\n",
        "# p = re.compile(r'(\\d|\\d\\d|(1|2)[012345][012345])\\.\\1\\.\\1.\\1')\n",
        "p = re.compile(r'(\\d|\\d\\d|((1|2)[012345][012345]))\\.')\n",
        "print(p.search(t))"
      ],
      "metadata": {
        "colab": {
          "base_uri": "https://localhost:8080/"
        },
        "id": "7wgmfVgb_oj1",
        "outputId": "0fa9b53f-7f9c-4870-b84a-e5e5fe42f423"
      },
      "execution_count": null,
      "outputs": [
        {
          "output_type": "stream",
          "name": "stdout",
          "text": [
            "<re.Match object; span=(1, 4), match='92.'>\n"
          ]
        }
      ]
    },
    {
      "cell_type": "code",
      "source": [
        "#ex\n",
        "def is_valid_ip(ip):\n",
        "    pattern = re.compile(r'^((25[0-5]|2[0-4][0-9]|[01]?[0-9][0-9]?)\\.){3}(25[0-5]|2[0-4][0-9]|[01]?[0-9][0-9]?)$')\n",
        "    return bool(re.match(pattern, ip))\n",
        "\n",
        "test_ips = [\n",
        "    \"192.168.0.1\",\n",
        "    \"256.256.256.26\",\n",
        "    \"255.255.255.255\",\n",
        "    \"192.168.1\",\n",
        "    \"abc.sdgh.wer.xcs\"\n",
        "]\n",
        "\n",
        "for ip in test_ips:\n",
        "    if is_valid_ip(ip):\n",
        "        print(f\"{ip} is a valid IP address.\")\n",
        "    else:\n",
        "        print(\"Not valid\")"
      ],
      "metadata": {
        "colab": {
          "base_uri": "https://localhost:8080/"
        },
        "id": "_1Uf9U_VIDj9",
        "outputId": "748e99ab-c6b3-4051-a51c-7fe0a191a3ff"
      },
      "execution_count": 14,
      "outputs": [
        {
          "output_type": "stream",
          "name": "stdout",
          "text": [
            "192.168.0.1 is a valid IP address.\n",
            "Not valid\n",
            "255.255.255.255 is a valid IP address.\n",
            "Not valid\n",
            "Not valid\n"
          ]
        }
      ]
    },
    {
      "cell_type": "markdown",
      "source": [
        "Task10_0516. 주어진 파일 이름에서 확장자가 .jpg, .jpeg, 또는 .png인지 확인하세요.\n",
        "\"image.jpg\""
      ],
      "metadata": {
        "id": "dOmwwRBc_pFQ"
      }
    },
    {
      "cell_type": "code",
      "source": [
        "t = \"image.jpg\"\n",
        "p = re.compile(r'\\.[a-z]+')\n",
        "print(p.search(t).group())"
      ],
      "metadata": {
        "colab": {
          "base_uri": "https://localhost:8080/"
        },
        "id": "OxEbXxI2_pXg",
        "outputId": "c9ef4227-6f72-4392-e323-7faccd255760"
      },
      "execution_count": null,
      "outputs": [
        {
          "output_type": "stream",
          "name": "stdout",
          "text": [
            ".jpg\n"
          ]
        }
      ]
    },
    {
      "cell_type": "code",
      "source": [
        "#ex\n",
        "\n",
        "p = r'.*\\.(jpg|jpeg|png)$'"
      ],
      "metadata": {
        "id": "xltPPFOkLsJS"
      },
      "execution_count": null,
      "outputs": []
    },
    {
      "cell_type": "markdown",
      "source": [
        "Task11_0516. 문자열에서 Python 주석을 제거하세요.\n"
      ],
      "metadata": {
        "id": "sDkPEgpg_pkj"
      }
    },
    {
      "cell_type": "code",
      "source": [
        "code_with_comments = \"\"\"\n",
        "# This is a whole line comment\n",
        "print(\"Hello, world!\")  # This is a side comment\n",
        "# Another comment\n",
        "print(\"Python is fun!\") # Another side comment\n",
        "\"\"\"\n",
        "p = re.compile(r'#\\D*')\n",
        "print(p.findall(code_with_comments))"
      ],
      "metadata": {
        "colab": {
          "base_uri": "https://localhost:8080/"
        },
        "id": "v-rlGyyB_pyW",
        "outputId": "b8a88299-3ec8-4b84-fe40-f306668f4cab"
      },
      "execution_count": null,
      "outputs": [
        {
          "output_type": "stream",
          "name": "stdout",
          "text": [
            "['# This is a whole line comment\\nprint(\"Hello, world!\")  # This is a side comment\\n# Another comment\\nprint(\"Python is fun!\") # Another side comment\\n']\n"
          ]
        }
      ]
    },
    {
      "cell_type": "code",
      "source": [
        "#ex\n",
        "\n",
        "def remove_comments(code):\n",
        "    pattern = r'#.*'\n",
        "    return re.sub(pattern, '', code, flags=re.MULTILINE)\n",
        "\n",
        "code_with_comments = \"\"\"\n",
        "# This is a whole line comment\n",
        "print(\"Hello, world!\")  # This is a side comment\n",
        "# Another comment\n",
        "print(\"Python is fun!\") # Another side comment\n",
        "\"\"\"\n",
        "clean_code = remove_comments(code_with_comments)\n",
        "print(clean_code)"
      ],
      "metadata": {
        "colab": {
          "base_uri": "https://localhost:8080/"
        },
        "id": "9vf-HKy0L_C3",
        "outputId": "82d9593b-7044-4302-95e4-b1ff04220433"
      },
      "execution_count": 15,
      "outputs": [
        {
          "output_type": "stream",
          "name": "stdout",
          "text": [
            "\n",
            "\n",
            "print(\"Hello, world!\")  \n",
            "\n",
            "print(\"Python is fun!\") \n",
            "\n"
          ]
        }
      ]
    },
    {
      "cell_type": "markdown",
      "source": [
        "Task12_0516. 지정된 HTML 문자열 내에서 이메일 주소를 찾아서 그 결과를 출력\n"
      ],
      "metadata": {
        "id": "X0qddrDz_qFN"
      }
    },
    {
      "cell_type": "code",
      "source": [
        "html = \"\"\"\n",
        "<ul>\n",
        "  <li>Email: example@example.com</li>\n",
        "  <li>Contact: contact@sample.org</li>\n",
        "</ul>\n",
        "\"\"\"\n",
        "\n",
        "p = re.compile(r'\\w+@\\w+.\\w+')\n",
        "print(p.findall(html))"
      ],
      "metadata": {
        "colab": {
          "base_uri": "https://localhost:8080/"
        },
        "id": "UIeRH0CBQWgZ",
        "outputId": "ee93cabf-58ec-4fb3-b063-fa053f90423a"
      },
      "execution_count": null,
      "outputs": [
        {
          "output_type": "stream",
          "name": "stdout",
          "text": [
            "['example@example.com', 'contact@sample.org']\n"
          ]
        }
      ]
    },
    {
      "cell_type": "code",
      "source": [
        "#ex\n",
        "\n",
        "html = \"\"\"\n",
        "<ul>\n",
        "  <li>Email: example@example.com</li>\n",
        "  <li>Contact: contact@sample.org</li>\n",
        "</ul>\n",
        "\"\"\"\n",
        "\n",
        "def find_emails(content):\n",
        "    p = r'[a-zA-Z0-9._%+-]+@[a-zA-Z0-9.-]+\\.[a-zA-Z]{2,}'\n",
        "    emails = re.findall(p, content)\n",
        "    return emails\n",
        "\n",
        "emails = find_emails(html)\n",
        "print(emails)"
      ],
      "metadata": {
        "id": "JYaIFt2EhbTq",
        "colab": {
          "base_uri": "https://localhost:8080/"
        },
        "outputId": "7d37d513-ca70-4e0f-d62b-71df33c0d6b1"
      },
      "execution_count": 16,
      "outputs": [
        {
          "output_type": "stream",
          "name": "stdout",
          "text": [
            "['example@example.com', 'contact@sample.org']\n"
          ]
        }
      ]
    },
    {
      "cell_type": "code",
      "source": [],
      "metadata": {
        "id": "6SqvkjbFPL3E"
      },
      "execution_count": null,
      "outputs": []
    }
  ]
}