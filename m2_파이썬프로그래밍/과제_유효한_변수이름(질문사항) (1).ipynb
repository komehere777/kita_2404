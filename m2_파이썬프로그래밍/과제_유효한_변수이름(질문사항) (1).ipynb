{
  "nbformat": 4,
  "nbformat_minor": 0,
  "metadata": {
    "colab": {
      "provenance": []
    },
    "kernelspec": {
      "name": "python3",
      "display_name": "Python 3"
    },
    "language_info": {
      "name": "python"
    }
  },
  "cells": [
    {
      "cell_type": "code",
      "execution_count": null,
      "metadata": {
        "colab": {
          "base_uri": "https://localhost:8080/"
        },
        "id": "41j9YFQoxOXD",
        "outputId": "a07d208e-2a94-4903-fe8a-713156c26257"
      },
      "outputs": [
        {
          "output_type": "stream",
          "name": "stdout",
          "text": [
            "['var1', 'variable_name']\n"
          ]
        }
      ],
      "source": [
        "identifiers = [\"var1\", \"2things\", \"variable_name\", \"time!\"]\n",
        "\n",
        "for i in identifiers:\n",
        "    if i[0].isdigit() or not i.isalnum():\n",
        "        identifiers.remove(i)\n",
        "print(identifiers)"
      ]
    },
    {
      "cell_type": "markdown",
      "source": [
        "문제 해결! 인덱스 문제\n",
        "항목 지워지면서 건너뛰어짐\n",
        "\n",
        "\n",
        "[Python List] for loop 안에서 list.remove() 사용 시 주의할 점\n",
        "https://taylor-kang.tistory.com/12"
      ],
      "metadata": {
        "id": "xXVItQhNi4MV"
      }
    },
    {
      "cell_type": "code",
      "source": [
        "identifiers = [\"var1\", \"2things\", \"variable_name\",\"variable_name\" \"time!\"]\n",
        "\n",
        "for i in identifiers:\n",
        "    if i[0].isdigit() or not i.isalnum():\n",
        "        identifiers.remove(i)\n",
        "print(identifiers)"
      ],
      "metadata": {
        "colab": {
          "base_uri": "https://localhost:8080/"
        },
        "id": "zOpTdgTSWh6b",
        "outputId": "950e482e-921d-4034-fe1a-2dd9839a9317"
      },
      "execution_count": null,
      "outputs": [
        {
          "output_type": "stream",
          "name": "stdout",
          "text": [
            "['var1', 'variable_name']\n"
          ]
        }
      ]
    },
    {
      "cell_type": "code",
      "source": [
        "identifiers = [\"var1\", \"2things\", \"variable_name\", \"time!\"]\n",
        "\n",
        "for i in identifiers:\n",
        "    if not i.isalnum():\n",
        "        print(i)\n"
      ],
      "metadata": {
        "colab": {
          "base_uri": "https://localhost:8080/"
        },
        "id": "YJGO-pbVjmcD",
        "outputId": "1424d64b-e348-42b3-ea91-c01d46fc745a"
      },
      "execution_count": null,
      "outputs": [
        {
          "output_type": "stream",
          "name": "stdout",
          "text": [
            "variable_name\n",
            "time!\n"
          ]
        }
      ]
    }
  ]
}