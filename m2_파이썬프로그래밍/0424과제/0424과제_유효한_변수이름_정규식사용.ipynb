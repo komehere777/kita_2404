{
  "nbformat": 4,
  "nbformat_minor": 0,
  "metadata": {
    "colab": {
      "provenance": []
    },
    "kernelspec": {
      "name": "python3",
      "display_name": "Python 3"
    },
    "language_info": {
      "name": "python"
    }
  },
  "cells": [
    {
      "cell_type": "code",
      "execution_count": 2,
      "metadata": {
        "colab": {
          "base_uri": "https://localhost:8080/"
        },
        "id": "Gn7lKoTAv-K2",
        "outputId": "702ad84e-81fd-4d1d-c81c-9e9a55d1451f"
      },
      "outputs": [
        {
          "output_type": "stream",
          "name": "stdout",
          "text": [
            "['var1', 'variable_name']\n"
          ]
        }
      ],
      "source": [
        "identifiers = [\"var1\", \"2things\", \"variable_name\", \"time!\"]\n",
        "\n",
        "import re\n",
        "import keyword\n",
        "\n",
        "\n",
        "def valid_variable_names(identifiers):\n",
        "    valid_identifiers = []\n",
        "    for identifier in identifiers:\n",
        "        if re.match(r'^[a-zA-Z_]\\w*$', identifier) and not keyword.iskeyword(identifier):\n",
        "            valid_identifiers.append(identifier)\n",
        "    return valid_identifiers\n",
        "\n",
        "print(valid_variable_names(identifiers))"
      ]
    },
    {
      "cell_type": "markdown",
      "source": [
        "이 정규식 `^[a-zA-Z_]\\w*$`은 다음과 같이 해석됩니다:\n",
        "\n",
        "- `^`: 문자열의 시작을 나타냅니다.\n",
        "- `[a-zA-Z_]`: 알파벳 대문자, 소문자 또는 밑줄 문자(_) 중 하나와 일치합니다.\n",
        "- `\\w*`: 0개 이상의 단어 문자(알파벳, 숫자, 밑줄)와 일치합니다.\n",
        "- `$`: 문자열의 끝을 나타냅니다.\n",
        "\n",
        "따라서 이 정규식은 문자열이 알파벳 대문자, 소문자, 밑줄로 시작하고 그 뒤에 0개 이상의 단어 문자가 올 때 일치합니다. 예를 들면 `my_variable123`이나 `_privateVar`와 같은 문자열이 이 정규식과 일치합니다."
      ],
      "metadata": {
        "id": "59dVSlPew8gr"
      }
    }
  ]
}
