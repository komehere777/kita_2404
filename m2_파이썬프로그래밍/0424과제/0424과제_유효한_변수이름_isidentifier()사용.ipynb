{
  "nbformat": 4,
  "nbformat_minor": 0,
  "metadata": {
    "colab": {
      "provenance": []
    },
    "kernelspec": {
      "name": "python3",
      "display_name": "Python 3"
    },
    "language_info": {
      "name": "python"
    }
  },
  "cells": [
    {
      "cell_type": "code",
      "execution_count": 1,
      "metadata": {
        "colab": {
          "base_uri": "https://localhost:8080/"
        },
        "id": "46c6G2xj085L",
        "outputId": "35063aae-14cf-41bb-a210-17d777cf9a71"
      },
      "outputs": [
        {
          "output_type": "stream",
          "name": "stdout",
          "text": [
            "['var1', 'variable_name']\n"
          ]
        }
      ],
      "source": [
        "import keyword\n",
        "\n",
        "\n",
        "identifiers = [\"var1\", \"2things\", \"variable_name\", \"time!\"]\n",
        "\n",
        "def valid_variable_names(identifiers):\n",
        "    valid_identifiers = []\n",
        "    for identifier in identifiers:\n",
        "        if identifier.isidentifier() and not keyword.iskeyword(identifier):\n",
        "            valid_identifiers.append(identifier)\n",
        "    return valid_identifiers\n",
        "\n",
        "print(valid_variable_names(identifiers))"
      ]
    }
  ]
}
