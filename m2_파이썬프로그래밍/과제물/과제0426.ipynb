{
  "nbformat": 4,
  "nbformat_minor": 0,
  "metadata": {
    "colab": {
      "provenance": []
    },
    "kernelspec": {
      "name": "python3",
      "display_name": "Python 3"
    },
    "language_info": {
      "name": "python"
    }
  },
  "cells": [
    {
      "cell_type": "markdown",
      "source": [
        "Task1_0426. 주어진 리스트에서 중복된 요소를 제외하고 고유한 요소의 개수를 세는 프로그램을 작성하세요.\n",
        "\n",
        "data = [1, 2, 2, 3, 4, 4, 4, 5]"
      ],
      "metadata": {
        "id": "Wzl2ibwQMS8-"
      }
    },
    {
      "cell_type": "code",
      "source": [
        "data = [1, 2, 2, 3, 4, 4, 4, 5]\n",
        "s1 = set(data)\n",
        "print(len(s1))"
      ],
      "metadata": {
        "colab": {
          "base_uri": "https://localhost:8080/"
        },
        "id": "Yq5Rvm3XMkvk",
        "outputId": "f9436a1b-5a97-4f0f-d357-d683798952bd"
      },
      "execution_count": 1,
      "outputs": [
        {
          "output_type": "stream",
          "name": "stdout",
          "text": [
            "5\n"
          ]
        }
      ]
    },
    {
      "cell_type": "markdown",
      "source": [
        "Task2_0426. 두 개의 리스트에서 공통으로 나타나는 요소들을 찾아 리스트로 반환하는 프로그램을 작성하세요.\n",
        "\n",
        "예시 입력: list1 = [1, 2, 3, 4, 5], list2 = [4, 5, 6, 7, 8]\n",
        "\n",
        "예시 출력: [4, 5]"
      ],
      "metadata": {
        "id": "20usDngGMVc_"
      }
    },
    {
      "cell_type": "code",
      "source": [
        "def intersection_list(list1, list2):\n",
        "    s1 = set(list1)\n",
        "    s2 = set(list2)\n",
        "    inter_list = s1 & s2\n",
        "    return list(inter_list)\n",
        "\n",
        "list1 = [1, 2, 3, 4, 5]\n",
        "list2 = [4, 5, 6, 7, 8]\n",
        "\n",
        "intersection_list(list1, list2)"
      ],
      "metadata": {
        "colab": {
          "base_uri": "https://localhost:8080/"
        },
        "id": "P2G68ohfMlXd",
        "outputId": "270be985-8c32-4ea6-c4e6-e1bd54b7f7e9"
      },
      "execution_count": 2,
      "outputs": [
        {
          "output_type": "execute_result",
          "data": {
            "text/plain": [
              "[4, 5]"
            ]
          },
          "metadata": {},
          "execution_count": 2
        }
      ]
    },
    {
      "cell_type": "markdown",
      "source": [
        "Task3_0426. 주어진 숫자 리스트에서 특정 값보다 큰 요소가 하나라도 존재하는지 검사하고, 그 결과를 불 값으로 반환하는 함수를 작성하세요.\n",
        "\n",
        "- numbers = [1, 2, 3, 10, 20]\n",
        "- threshold = 15"
      ],
      "metadata": {
        "id": "b5qlrMA4MYyf"
      }
    },
    {
      "cell_type": "code",
      "source": [
        "numbers = [1, 2, 3, 10, 20]\n",
        "threshold = 15\n",
        "\n",
        "def inspect_num(numbers, threshold):\n",
        "    for i in numbers:\n",
        "        if i > threshold:\n",
        "            return True\n",
        "\n",
        "inspect_num(numbers, threshold)"
      ],
      "metadata": {
        "colab": {
          "base_uri": "https://localhost:8080/"
        },
        "id": "tPrAtfrxMlt1",
        "outputId": "7f1923c2-067a-4f9e-c84e-66f6c86d6ed6"
      },
      "execution_count": 4,
      "outputs": [
        {
          "output_type": "execute_result",
          "data": {
            "text/plain": [
              "True"
            ]
          },
          "metadata": {},
          "execution_count": 4
        }
      ]
    },
    {
      "cell_type": "markdown",
      "source": [
        "Task4_0426. 주어진 문자열이 특정 문자열을 포함하는지 확인하고 결과를 불 값으로 반환하는 함수를 작성하세요.\n",
        "\n",
        "- text = \"hello world\"\n",
        "- substring = \"world\""
      ],
      "metadata": {
        "id": "ykfuu1YkMZnA"
      }
    },
    {
      "cell_type": "code",
      "source": [
        "text = \"hello world\"\n",
        "substring = \"world\"\n",
        "\n",
        "def inspect_text(text, substring):\n",
        "    if substring in text:\n",
        "        return True\n",
        "\n",
        "inspect_text(text, substring)"
      ],
      "metadata": {
        "colab": {
          "base_uri": "https://localhost:8080/"
        },
        "id": "VYkGx10dMmGD",
        "outputId": "47c7cb4b-6f97-4033-d834-dfb38d9bca8c"
      },
      "execution_count": 5,
      "outputs": [
        {
          "output_type": "execute_result",
          "data": {
            "text/plain": [
              "True"
            ]
          },
          "metadata": {},
          "execution_count": 5
        }
      ]
    },
    {
      "cell_type": "markdown",
      "source": [
        "Task5_0426. 주어진 연도가 윤년인지 판별하는 함수를 작성하세요. 윤년은 다음의 조건을 만족해야 합니다:\n",
        "- 4로 나누어 떨어진다.\n",
        "- 100으로 나누어 떨어지지 않거나, 400으로 나누어 떨어지면 윤년이다.\n",
        "\n",
        "year = 2020\n",
        "\n",
        "True"
      ],
      "metadata": {
        "id": "G4aeZyxkMbV9"
      }
    },
    {
      "cell_type": "code",
      "source": [
        "def strange_year(year):\n",
        "    if year % 4 == 0:\n",
        "        if year % 100 != 0 or year % 400 == 0:\n",
        "            return True\n",
        "    return False\n",
        "\n",
        "year = int(input())\n",
        "\n",
        "strange_year(year)"
      ],
      "metadata": {
        "colab": {
          "base_uri": "https://localhost:8080/"
        },
        "id": "X5UYsZRPMmlN",
        "outputId": "adcfb4e7-5504-432d-8d11-ca01c3015c2b"
      },
      "execution_count": 22,
      "outputs": [
        {
          "name": "stdout",
          "output_type": "stream",
          "text": [
            "2023\n"
          ]
        },
        {
          "output_type": "execute_result",
          "data": {
            "text/plain": [
              "False"
            ]
          },
          "metadata": {},
          "execution_count": 22
        }
      ]
    },
    {
      "cell_type": "markdown",
      "source": [
        "Task6_0426. Calculator 클래스를 작성하고 4칙연산을 수행하는 객체 4개를 작성하여 결과를 출력하세요."
      ],
      "metadata": {
        "id": "IDXQISoKMeXL"
      }
    },
    {
      "cell_type": "code",
      "source": [
        "class Calculator:\n",
        "    def setData(self, x, y):\n",
        "        self.x = x\n",
        "        self.y = y\n",
        "    def add(self):\n",
        "        return self.x + self.y\n",
        "    def subtract(self):\n",
        "        return self.x - self.y\n",
        "    def div(self):\n",
        "        return self.x / self.y\n",
        "    def mul(self):\n",
        "        return self.x * self.y\n",
        "\n",
        "test1 = Calculator()\n",
        "test1.setData(10, 2)\n",
        "print(test1.add())\n",
        "print(test1.subtract())\n",
        "print(test1.div())\n",
        "print(test1.mul())"
      ],
      "metadata": {
        "colab": {
          "base_uri": "https://localhost:8080/"
        },
        "id": "ePunyXMKMm_s",
        "outputId": "95e9be15-9480-4097-f190-b1982f864fb9"
      },
      "execution_count": 39,
      "outputs": [
        {
          "output_type": "stream",
          "name": "stdout",
          "text": [
            "12\n",
            "8\n",
            "5.0\n",
            "20\n"
          ]
        }
      ]
    },
    {
      "cell_type": "markdown",
      "source": [
        "Task7_0426. 다음 과제를 수행하세요.\n",
        "- 사용자로 부터 텍스트를 입력 받는다.\n",
        "- 문자을 단어 단위로 분리 : split()\n",
        "- 단어의 빈도수를 저장할 딕셔너리를 생성\n",
        "- 각 단어의 빈도 수를 계산(for 문 / if else문)\n",
        "- 결과 출력\n",
        "\n",
        "[ 예시 ]\n",
        "\n",
        "문장을 입력하세요: I love apple. I love orange. Apple is tasty\n",
        "\n",
        "{'i': 2, 'love': 2, 'apple.': 1, 'orange.': 1, 'apple': 1, 'is': 1, 'tasty': 1}"
      ],
      "metadata": {
        "id": "VGYnjBCzMgm2"
      }
    },
    {
      "cell_type": "code",
      "execution_count": 28,
      "metadata": {
        "colab": {
          "base_uri": "https://localhost:8080/"
        },
        "id": "Ahfr6lAaMLai",
        "outputId": "6bdd89c1-dafd-4a25-9ee2-f778a9c2f9ae"
      },
      "outputs": [
        {
          "output_type": "stream",
          "name": "stdout",
          "text": [
            "문장을 입력하세요: I love apple. I love orange. Apple is tasty\n",
            "{'i': 2, 'love': 2, 'apple.': 1, 'orange.': 1, 'apple': 1, 'is': 1, 'tasty': 1}\n"
          ]
        }
      ],
      "source": [
        "txt = input(\"문장을 입력하세요: \").lower()\n",
        "word = txt.split()\n",
        "\n",
        "dict = {}\n",
        "for i in word:\n",
        "    if i in dict:\n",
        "        dict[i] += 1\n",
        "    else:\n",
        "        dict[i] = 1\n",
        "\n",
        "print(dict)"
      ]
    }
  ]
}