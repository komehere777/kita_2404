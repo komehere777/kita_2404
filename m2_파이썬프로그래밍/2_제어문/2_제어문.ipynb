{
  "nbformat": 4,
  "nbformat_minor": 0,
  "metadata": {
    "colab": {
      "provenance": []
    },
    "kernelspec": {
      "name": "python3",
      "display_name": "Python 3"
    },
    "language_info": {
      "name": "python"
    }
  },
  "cells": [
    {
      "cell_type": "markdown",
      "source": [
        "제어문(control statement)은 프로그램의 흐름을 제어하는데 사용\n",
        "\n",
        "#### 조건문 (Conditional Statements):\n",
        "- if: 특정 조건이 참(True)일 때 코드 블록을 실행\n",
        "    - 조건은 비교 연산자(==, !=, <, >, <=, >=)와 논리 연산자(and, or, not)를 사용하여 표현할 수 있다\n",
        "- elif: 이전의 if 또는 elif 조건이 거짓(False)일 때 다른 조건을 검사\n",
        "    - elif는 'else if'의 축약형으로, 이전 if 또는 elif 문의 조건이 거짓(False)일 때 다른 조건을 검사\n",
        "    - 여러 elif 문을 사용하여 다양한 조건을 검사할 수 있다\n",
        "- else:\n",
        "    - 이전의 if 또는 elif 문의 조건이 모두 거짓일 때 실행할 코드 블록을 지정"
      ],
      "metadata": {
        "id": "DuD8kvQb8JpV"
      }
    },
    {
      "cell_type": "code",
      "execution_count": 3,
      "metadata": {
        "colab": {
          "base_uri": "https://localhost:8080/"
        },
        "id": "g-sZuH1R8GgO",
        "outputId": "6a57752e-aeca-45f8-a02b-60e6a7dacc3c"
      },
      "outputs": [
        {
          "output_type": "stream",
          "name": "stdout",
          "text": [
            "x는 5입니다.\n"
          ]
        }
      ],
      "source": [
        "x = 5\n",
        "if x > 5:\n",
        "    print(\"x는 5보다 큽니다.\")\n",
        "elif x == 5:\n",
        "    print(\"x는 5입니다.\")\n",
        "else:\n",
        "    print(\"x는 5보다 작습니다.\")"
      ]
    },
    {
      "cell_type": "code",
      "source": [
        "x = 10\n",
        "if x >= 5:\n",
        "    print(\"x는 5보다 크거나 같습니다.\")\n",
        "else:\n",
        "    print(\"x는 5보다 작습니다.\")"
      ],
      "metadata": {
        "colab": {
          "base_uri": "https://localhost:8080/"
        },
        "id": "wxcBCsNt-nvs",
        "outputId": "5086e899-38d8-4656-97e2-a1f6e5a09745"
      },
      "execution_count": 4,
      "outputs": [
        {
          "output_type": "stream",
          "name": "stdout",
          "text": [
            "x는 5보다 크거나 같습니다.\n"
          ]
        }
      ]
    },
    {
      "cell_type": "code",
      "source": [
        "#각 조건이 서로 독립적일때 if문을 연속해서 사용\n",
        "x = 10\n",
        "y = 5\n",
        "\n",
        "if x > 5:\n",
        "    print(\"x는 5보다 큽니다.\")\n",
        "\n",
        "if y < 10 :\n",
        "    print(\"y는 10보다 작습니다.\")\n",
        "\n",
        "if x > y:\n",
        "    print(\"x는 y보다 큽니다.\")"
      ],
      "metadata": {
        "colab": {
          "base_uri": "https://localhost:8080/"
        },
        "id": "XhxvyqkNRwnv",
        "outputId": "7facd931-b284-484a-d08f-6c6da038b7dd"
      },
      "execution_count": 5,
      "outputs": [
        {
          "output_type": "stream",
          "name": "stdout",
          "text": [
            "x는 5보다 큽니다.\n",
            "y는 10보다 작습니다.\n",
            "x는 y보다 큽니다.\n"
          ]
        }
      ]
    },
    {
      "cell_type": "code",
      "source": [
        "x = 10\n",
        "y = 5\n",
        "if x > 5:\n",
        "    if y >= 3:\n",
        "        print('x는 5보다 크고 y는 3보다 크거나 같습니다.')\n",
        "    else:\n",
        "        print('x는 5보다 크고 y는 3보다 작습니다.')\n",
        "else:\n",
        "    print('x는 5보다 작거나 같습니다.')"
      ],
      "metadata": {
        "colab": {
          "base_uri": "https://localhost:8080/"
        },
        "id": "5HQCoACVSocx",
        "outputId": "2e535b9f-1889-4a40-a138-fe567613e9c3"
      },
      "execution_count": 6,
      "outputs": [
        {
          "output_type": "stream",
          "name": "stdout",
          "text": [
            "x는 5보다 크고 y는 3보다 크거나 같습니다.\n"
          ]
        }
      ]
    },
    {
      "cell_type": "code",
      "source": [
        "#Q. 이중 조건문을 사용하여 코드를 작성하세요.(조건 내용은 자유. 단, if문 if~elif~else 중첩하여 사용)\n",
        "x = int(input(\"Enter a Number: X = \"))\n",
        "y = int(input(\"Enter a Number: Y = \"))\n",
        "\n",
        "if x % 2 == 0:\n",
        "    print(\"x는 짝수이다.\")\n",
        "    if y % 2 == 1:\n",
        "        print(\"x는 짝수이고 y는 홀수이다.\")\n",
        "    else:\n",
        "        print(\"x와 y는 둘 다 짝수이다.\")\n",
        "elif x == 0:\n",
        "    print(\"x는 0이다.\")\n",
        "else:\n",
        "    print(\"x는 홀수이다.\")\n",
        ""
      ],
      "metadata": {
        "colab": {
          "base_uri": "https://localhost:8080/"
        },
        "id": "Ob4lrr1-UU7W",
        "outputId": "2a679c94-fe21-41c9-9d63-66c3fc4f60f8"
      },
      "execution_count": 10,
      "outputs": [
        {
          "output_type": "stream",
          "name": "stdout",
          "text": [
            "Enter a Number: X = 0\n",
            "Enter a Number: Y = 3\n",
            "x는 짝수이다.\n",
            "x는 짝수이고 y는 홀수이다.\n"
          ]
        }
      ]
    },
    {
      "cell_type": "code",
      "source": [
        "#70점 이상만 채점\n",
        "score = int(input('enter a score: '))\n",
        "\n",
        "if score < 70:\n",
        "    print(\"점수가 70점 미만입니다. 채점을 하지 않습니다.\")\n",
        "else:\n",
        "    if score > 90:\n",
        "        print('A')\n",
        "    elif score > 80:\n",
        "        print('B')\n",
        "    else:\n",
        "        print('C')"
      ],
      "metadata": {
        "colab": {
          "base_uri": "https://localhost:8080/"
        },
        "id": "7hHy5BNgWG2K",
        "outputId": "de049e3f-dd96-476b-9a67-df9a46a89592"
      },
      "execution_count": 11,
      "outputs": [
        {
          "output_type": "stream",
          "name": "stdout",
          "text": [
            "enter a score: 60\n",
            "점수가 70점 미만입니다. 채점을 하지 않습니다.\n"
          ]
        }
      ]
    },
    {
      "cell_type": "code",
      "source": [
        "listdata = ['a', 'b', 'c']\n",
        "\n",
        "if 'a' in listdata:\n",
        "    print('A in listdata')\n",
        "if 'b' in listdata:\n",
        "    print('B in listdata')\n",
        "if 'c' in listdata:\n",
        "    print('C in listdata')"
      ],
      "metadata": {
        "colab": {
          "base_uri": "https://localhost:8080/"
        },
        "id": "nWk_JmBSYSCw",
        "outputId": "c9004b9e-fc75-4214-9f51-6d323a802cc4"
      },
      "execution_count": 12,
      "outputs": [
        {
          "output_type": "stream",
          "name": "stdout",
          "text": [
            "A in listdata\n",
            "B in listdata\n",
            "C in listdata\n"
          ]
        }
      ]
    },
    {
      "cell_type": "code",
      "source": [
        "listdata = ['a', 'b', 'c']\n",
        "\n",
        "for i in listdata:\n",
        "    if i in listdata:\n",
        "        print(f'{i} in listdata')"
      ],
      "metadata": {
        "colab": {
          "base_uri": "https://localhost:8080/"
        },
        "id": "t-BKW9oeZCJs",
        "outputId": "029b5bc9-3a1a-48a0-8870-ca81970a8ca0"
      },
      "execution_count": 14,
      "outputs": [
        {
          "output_type": "stream",
          "name": "stdout",
          "text": [
            "a in listdata\n",
            "b in listdata\n",
            "c in listdata\n"
          ]
        }
      ]
    },
    {
      "cell_type": "code",
      "source": [
        "# Q. 돈이 10000원 이상있으면 택시를 타고, 돈이 없으면 걸어간다.를 만족하는 조건문을 작성하세요\n",
        "\n",
        "money = int(input('현재 돈을 얼마 가지고 있나요? :'))\n",
        "\n",
        "if money >= 10000:\n",
        "    print(\"돈을 1만원이상 가지고 있어 택시를 타고 간다.\")\n",
        "else:\n",
        "    print(\"돈이 없어 걸어간다.\")"
      ],
      "metadata": {
        "colab": {
          "base_uri": "https://localhost:8080/"
        },
        "id": "j6oPbN9IZL5d",
        "outputId": "0eabb0de-bf5f-4aaa-835c-0f11501040ef"
      },
      "execution_count": 16,
      "outputs": [
        {
          "output_type": "stream",
          "name": "stdout",
          "text": [
            "현재 돈을 얼마 가지고 있나요? :120000\n",
            "돈을 1만원이상 가지고 있어 택시를 타고 간다.\n"
          ]
        }
      ]
    },
    {
      "cell_type": "code",
      "source": [
        "#Q. 조건부 표현식을 한줄의 조건문으로 작성하세요\n",
        "score = 50\n",
        "message = [\"sucess\" if score >=60 else \"failure\"]\n",
        "print(message)"
      ],
      "metadata": {
        "colab": {
          "base_uri": "https://localhost:8080/"
        },
        "id": "PhBWf0SwavTV",
        "outputId": "69225b1c-e6c6-4af3-faea-993d941db341"
      },
      "execution_count": 18,
      "outputs": [
        {
          "output_type": "stream",
          "name": "stdout",
          "text": [
            "['failure']\n"
          ]
        }
      ]
    },
    {
      "cell_type": "code",
      "source": [
        "#Q. 수입과 지출금액을 비교해서 수입이 많으면 저축 증가, 반대면 빚이 증가하는 프로그램 작성\n",
        "\n",
        "income = int(input(\"Enter a income: \"))\n",
        "spend = int(input(\"Enter a spend: \"))\n",
        "\n",
        "if income > spend:\n",
        "    print(\"저축 증가\")\n",
        "elif income < spend:\n",
        "    print(\"빚증가\")\n",
        "else:\n",
        "    print(\"똔똔\")"
      ],
      "metadata": {
        "colab": {
          "base_uri": "https://localhost:8080/"
        },
        "id": "BxS0Dci3fnlZ",
        "outputId": "d731fac5-67d4-4480-e9fd-197a8cd4d096"
      },
      "execution_count": 21,
      "outputs": [
        {
          "output_type": "stream",
          "name": "stdout",
          "text": [
            "Enter a income: 1000\n",
            "Enter a spend: 1000\n",
            "똔똔\n"
          ]
        }
      ]
    },
    {
      "cell_type": "markdown",
      "source": [
        "#### 반복문 (Loop Statements):\n",
        "- for: 시퀀스(리스트, 튜플, 문자열 등)의 아이템을 순회하면서 코드 블록을 실행\n",
        "- while: 특정 조건이 참인 동안 코드 블록을 반복하여 실행"
      ],
      "metadata": {
        "id": "6G2lz1VbhZ3N"
      }
    },
    {
      "cell_type": "code",
      "source": [
        "#for 루프는 시퀀스(리스트, 튜플, 문자열 등)나 반복 가능한 객체(iterable)의 요소를 순회\n",
        "\n",
        "for i in range(5):\n",
        "    print(i, end=' ')\n",
        "print('\\n')\n",
        "count = 0\n",
        "while count < 5:\n",
        "    print(count, end=' ')\n",
        "    count += 1"
      ],
      "metadata": {
        "colab": {
          "base_uri": "https://localhost:8080/"
        },
        "id": "XqO4DG4cgyeN",
        "outputId": "602456c7-86a5-4659-e1a8-145ac5a8f79b"
      },
      "execution_count": 24,
      "outputs": [
        {
          "output_type": "stream",
          "name": "stdout",
          "text": [
            "0 1 2 3 4 \n",
            "\n",
            "0 1 2 3 4 "
          ]
        }
      ]
    },
    {
      "cell_type": "code",
      "source": [
        "#리스트를 순회하는 예\n",
        "for i in [1,2,3,4,5]:\n",
        "    print(i, end=' ')\n",
        "\n",
        "print('\\n')\n",
        "\n",
        "for char in \"hello\":\n",
        "    print(char, end=', ')"
      ],
      "metadata": {
        "colab": {
          "base_uri": "https://localhost:8080/"
        },
        "id": "HVf9_h2rj0Pu",
        "outputId": "0362279f-bd99-431f-ad49-443da81f991d"
      },
      "execution_count": 26,
      "outputs": [
        {
          "output_type": "stream",
          "name": "stdout",
          "text": [
            "1 2 3 4 5 \n",
            "\n",
            "h, e, l, l, o, "
          ]
        }
      ]
    },
    {
      "cell_type": "code",
      "source": [
        "#while 루프는 주어진 조건이 참인 동안 코드 블록을 반복\n",
        "#조건이 거짓이 되면 루프가 종료\n",
        "\n",
        "count = 0\n",
        "sum = 0\n",
        "while count < 5:\n",
        "    sum += count\n",
        "    print(sum, end=' ')\n",
        "    count += 1"
      ],
      "metadata": {
        "colab": {
          "base_uri": "https://localhost:8080/"
        },
        "id": "4do7r0jqlNk8",
        "outputId": "ff87a10c-53c9-4c16-c117-bb6be7c2a493"
      },
      "execution_count": 27,
      "outputs": [
        {
          "output_type": "stream",
          "name": "stdout",
          "text": [
            "0 1 3 6 10 "
          ]
        }
      ]
    },
    {
      "cell_type": "code",
      "source": [
        "#Q. d에서 반복문을 사용하여 97 98 99 을 출려갛세요\n",
        "d = {'a':97, 'b':98, 'c':99}\n",
        "for k, v in d.items():\n",
        "    print(v, end=' ')\n"
      ],
      "metadata": {
        "colab": {
          "base_uri": "https://localhost:8080/"
        },
        "id": "eUubbujDmixS",
        "outputId": "079fb69d-2f0d-464a-da7c-591f3ff1d395"
      },
      "execution_count": 29,
      "outputs": [
        {
          "output_type": "stream",
          "name": "stdout",
          "text": [
            "97 98 99 "
          ]
        }
      ]
    },
    {
      "cell_type": "code",
      "source": [
        "#Q. d에서 반복문을 사용하여 97 98 99 을 출려갛세요\n",
        "d = {'a':97, 'b':98, 'c':99}\n",
        "for key in d:\n",
        "    print(d[key], end=' ')"
      ],
      "metadata": {
        "colab": {
          "base_uri": "https://localhost:8080/"
        },
        "id": "R7Z1gnEQnhdT",
        "outputId": "46b79edf-7ad7-4450-bf68-574e89e6f554"
      },
      "execution_count": 30,
      "outputs": [
        {
          "output_type": "stream",
          "name": "stdout",
          "text": [
            "97 98 99 "
          ]
        }
      ]
    },
    {
      "cell_type": "code",
      "source": [
        "print(d.keys())\n",
        "print(type(d.keys()))"
      ],
      "metadata": {
        "colab": {
          "base_uri": "https://localhost:8080/"
        },
        "id": "AoYBD753nBwj",
        "outputId": "0fc4f021-6ff9-45a0-e164-2420e9a53e08"
      },
      "execution_count": 31,
      "outputs": [
        {
          "output_type": "stream",
          "name": "stdout",
          "text": [
            "dict_keys(['a', 'b', 'c'])\n",
            "<class 'dict_keys'>\n"
          ]
        }
      ]
    },
    {
      "cell_type": "code",
      "source": [
        "print(d.values())\n",
        "print(type(d.values()))"
      ],
      "metadata": {
        "colab": {
          "base_uri": "https://localhost:8080/"
        },
        "id": "rphKOG7TrURf",
        "outputId": "a1f28584-e28a-4b3b-a423-1b5d76106e57"
      },
      "execution_count": 33,
      "outputs": [
        {
          "output_type": "stream",
          "name": "stdout",
          "text": [
            "dict_values([97, 98, 99])\n",
            "<class 'dict_values'>\n"
          ]
        }
      ]
    },
    {
      "cell_type": "code",
      "source": [],
      "metadata": {
        "id": "Dq4PvBiPrbGt"
      },
      "execution_count": null,
      "outputs": []
    }
  ]
}