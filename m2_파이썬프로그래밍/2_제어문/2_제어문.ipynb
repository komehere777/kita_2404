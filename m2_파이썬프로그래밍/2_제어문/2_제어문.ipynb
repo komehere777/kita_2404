{
  "nbformat": 4,
  "nbformat_minor": 0,
  "metadata": {
    "colab": {
      "provenance": []
    },
    "kernelspec": {
      "name": "python3",
      "display_name": "Python 3"
    },
    "language_info": {
      "name": "python"
    }
  },
  "cells": [
    {
      "cell_type": "markdown",
      "source": [
        "제어문(control statement)은 프로그램의 흐름을 제어하는데 사용\n",
        "\n",
        "#### 조건문 (Conditional Statements):\n",
        "- if: 특정 조건이 참(True)일 때 코드 블록을 실행\n",
        "    - 조건은 비교 연산자(==, !=, <, >, <=, >=)와 논리 연산자(and, or, not)를 사용하여 표현할 수 있다\n",
        "- elif: 이전의 if 또는 elif 조건이 거짓(False)일 때 다른 조건을 검사\n",
        "    - elif는 'else if'의 축약형으로, 이전 if 또는 elif 문의 조건이 거짓(False)일 때 다른 조건을 검사\n",
        "    - 여러 elif 문을 사용하여 다양한 조건을 검사할 수 있다\n",
        "- else:\n",
        "    - 이전의 if 또는 elif 문의 조건이 모두 거짓일 때 실행할 코드 블록을 지정"
      ],
      "metadata": {
        "id": "DuD8kvQb8JpV"
      }
    },
    {
      "cell_type": "code",
      "execution_count": null,
      "metadata": {
        "colab": {
          "base_uri": "https://localhost:8080/"
        },
        "id": "g-sZuH1R8GgO",
        "outputId": "6a57752e-aeca-45f8-a02b-60e6a7dacc3c"
      },
      "outputs": [
        {
          "output_type": "stream",
          "name": "stdout",
          "text": [
            "x는 5입니다.\n"
          ]
        }
      ],
      "source": [
        "x = 5\n",
        "if x > 5:\n",
        "    print(\"x는 5보다 큽니다.\")\n",
        "elif x == 5:\n",
        "    print(\"x는 5입니다.\")\n",
        "else:\n",
        "    print(\"x는 5보다 작습니다.\")"
      ]
    },
    {
      "cell_type": "code",
      "source": [
        "x = 10\n",
        "if x >= 5:\n",
        "    print(\"x는 5보다 크거나 같습니다.\")\n",
        "else:\n",
        "    print(\"x는 5보다 작습니다.\")"
      ],
      "metadata": {
        "colab": {
          "base_uri": "https://localhost:8080/"
        },
        "id": "wxcBCsNt-nvs",
        "outputId": "5086e899-38d8-4656-97e2-a1f6e5a09745"
      },
      "execution_count": null,
      "outputs": [
        {
          "output_type": "stream",
          "name": "stdout",
          "text": [
            "x는 5보다 크거나 같습니다.\n"
          ]
        }
      ]
    },
    {
      "cell_type": "code",
      "source": [
        "#각 조건이 서로 독립적일때 if문을 연속해서 사용\n",
        "x = 10\n",
        "y = 5\n",
        "\n",
        "if x > 5:\n",
        "    print(\"x는 5보다 큽니다.\")\n",
        "\n",
        "if y < 10 :\n",
        "    print(\"y는 10보다 작습니다.\")\n",
        "\n",
        "if x > y:\n",
        "    print(\"x는 y보다 큽니다.\")"
      ],
      "metadata": {
        "colab": {
          "base_uri": "https://localhost:8080/"
        },
        "id": "XhxvyqkNRwnv",
        "outputId": "7facd931-b284-484a-d08f-6c6da038b7dd"
      },
      "execution_count": null,
      "outputs": [
        {
          "output_type": "stream",
          "name": "stdout",
          "text": [
            "x는 5보다 큽니다.\n",
            "y는 10보다 작습니다.\n",
            "x는 y보다 큽니다.\n"
          ]
        }
      ]
    },
    {
      "cell_type": "code",
      "source": [
        "x = 10\n",
        "y = 5\n",
        "if x > 5:\n",
        "    if y >= 3:\n",
        "        print('x는 5보다 크고 y는 3보다 크거나 같습니다.')\n",
        "    else:\n",
        "        print('x는 5보다 크고 y는 3보다 작습니다.')\n",
        "else:\n",
        "    print('x는 5보다 작거나 같습니다.')"
      ],
      "metadata": {
        "colab": {
          "base_uri": "https://localhost:8080/"
        },
        "id": "5HQCoACVSocx",
        "outputId": "2e535b9f-1889-4a40-a138-fe567613e9c3"
      },
      "execution_count": null,
      "outputs": [
        {
          "output_type": "stream",
          "name": "stdout",
          "text": [
            "x는 5보다 크고 y는 3보다 크거나 같습니다.\n"
          ]
        }
      ]
    },
    {
      "cell_type": "code",
      "source": [
        "#Q. 이중 조건문을 사용하여 코드를 작성하세요.(조건 내용은 자유. 단, if문 if~elif~else 중첩하여 사용)\n",
        "x = int(input(\"Enter a Number: X = \"))\n",
        "y = int(input(\"Enter a Number: Y = \"))\n",
        "\n",
        "if x % 2 == 0:\n",
        "    print(\"x는 짝수이다.\")\n",
        "    if y % 2 == 1:\n",
        "        print(\"x는 짝수이고 y는 홀수이다.\")\n",
        "    else:\n",
        "        print(\"x와 y는 둘 다 짝수이다.\")\n",
        "elif x == 0:\n",
        "    print(\"x는 0이다.\")\n",
        "else:\n",
        "    print(\"x는 홀수이다.\")\n"
      ],
      "metadata": {
        "colab": {
          "base_uri": "https://localhost:8080/"
        },
        "id": "Ob4lrr1-UU7W",
        "outputId": "2a679c94-fe21-41c9-9d63-66c3fc4f60f8"
      },
      "execution_count": null,
      "outputs": [
        {
          "output_type": "stream",
          "name": "stdout",
          "text": [
            "Enter a Number: X = 0\n",
            "Enter a Number: Y = 3\n",
            "x는 짝수이다.\n",
            "x는 짝수이고 y는 홀수이다.\n"
          ]
        }
      ]
    },
    {
      "cell_type": "code",
      "source": [
        "#70점 이상만 채점\n",
        "score = int(input('enter a score: '))\n",
        "\n",
        "if score < 70:\n",
        "    print(\"점수가 70점 미만입니다. 채점을 하지 않습니다.\")\n",
        "else:\n",
        "    if score > 90:\n",
        "        print('A')\n",
        "    elif score > 80:\n",
        "        print('B')\n",
        "    else:\n",
        "        print('C')"
      ],
      "metadata": {
        "colab": {
          "base_uri": "https://localhost:8080/"
        },
        "id": "7hHy5BNgWG2K",
        "outputId": "de049e3f-dd96-476b-9a67-df9a46a89592"
      },
      "execution_count": null,
      "outputs": [
        {
          "output_type": "stream",
          "name": "stdout",
          "text": [
            "enter a score: 60\n",
            "점수가 70점 미만입니다. 채점을 하지 않습니다.\n"
          ]
        }
      ]
    },
    {
      "cell_type": "code",
      "source": [
        "listdata = ['a', 'b', 'c']\n",
        "\n",
        "if 'a' in listdata:\n",
        "    print('A in listdata')\n",
        "if 'b' in listdata:\n",
        "    print('B in listdata')\n",
        "if 'c' in listdata:\n",
        "    print('C in listdata')"
      ],
      "metadata": {
        "colab": {
          "base_uri": "https://localhost:8080/"
        },
        "id": "nWk_JmBSYSCw",
        "outputId": "c9004b9e-fc75-4214-9f51-6d323a802cc4"
      },
      "execution_count": null,
      "outputs": [
        {
          "output_type": "stream",
          "name": "stdout",
          "text": [
            "A in listdata\n",
            "B in listdata\n",
            "C in listdata\n"
          ]
        }
      ]
    },
    {
      "cell_type": "code",
      "source": [
        "listdata = ['a', 'b', 'c']\n",
        "\n",
        "for i in listdata:\n",
        "    if i in listdata:\n",
        "        print(f'{i} in listdata')"
      ],
      "metadata": {
        "colab": {
          "base_uri": "https://localhost:8080/"
        },
        "id": "t-BKW9oeZCJs",
        "outputId": "029b5bc9-3a1a-48a0-8870-ca81970a8ca0"
      },
      "execution_count": null,
      "outputs": [
        {
          "output_type": "stream",
          "name": "stdout",
          "text": [
            "a in listdata\n",
            "b in listdata\n",
            "c in listdata\n"
          ]
        }
      ]
    },
    {
      "cell_type": "code",
      "source": [
        "# Q. 돈이 10000원 이상있으면 택시를 타고, 돈이 없으면 걸어간다.를 만족하는 조건문을 작성하세요\n",
        "\n",
        "money = int(input('현재 돈을 얼마 가지고 있나요? :'))\n",
        "\n",
        "if money >= 10000:\n",
        "    print(\"돈을 1만원이상 가지고 있어 택시를 타고 간다.\")\n",
        "else:\n",
        "    print(\"돈이 없어 걸어간다.\")"
      ],
      "metadata": {
        "colab": {
          "base_uri": "https://localhost:8080/"
        },
        "id": "j6oPbN9IZL5d",
        "outputId": "0eabb0de-bf5f-4aaa-835c-0f11501040ef"
      },
      "execution_count": null,
      "outputs": [
        {
          "output_type": "stream",
          "name": "stdout",
          "text": [
            "현재 돈을 얼마 가지고 있나요? :120000\n",
            "돈을 1만원이상 가지고 있어 택시를 타고 간다.\n"
          ]
        }
      ]
    },
    {
      "cell_type": "code",
      "source": [
        "#Q. 조건부 표현식을 한줄의 조건문으로 작성하세요\n",
        "score = 50\n",
        "message = [\"sucess\" if score >=60 else \"failure\"]\n",
        "print(message)"
      ],
      "metadata": {
        "colab": {
          "base_uri": "https://localhost:8080/"
        },
        "id": "PhBWf0SwavTV",
        "outputId": "69225b1c-e6c6-4af3-faea-993d941db341"
      },
      "execution_count": null,
      "outputs": [
        {
          "output_type": "stream",
          "name": "stdout",
          "text": [
            "['failure']\n"
          ]
        }
      ]
    },
    {
      "cell_type": "code",
      "source": [
        "#Q. 수입과 지출금액을 비교해서 수입이 많으면 저축 증가, 반대면 빚이 증가하는 프로그램 작성\n",
        "\n",
        "income = int(input(\"Enter a income: \"))\n",
        "spend = int(input(\"Enter a spend: \"))\n",
        "\n",
        "if income > spend:\n",
        "    print(\"저축 증가\")\n",
        "elif income < spend:\n",
        "    print(\"빚증가\")\n",
        "else:\n",
        "    print(\"똔똔\")"
      ],
      "metadata": {
        "colab": {
          "base_uri": "https://localhost:8080/"
        },
        "id": "BxS0Dci3fnlZ",
        "outputId": "d731fac5-67d4-4480-e9fd-197a8cd4d096"
      },
      "execution_count": null,
      "outputs": [
        {
          "output_type": "stream",
          "name": "stdout",
          "text": [
            "Enter a income: 1000\n",
            "Enter a spend: 1000\n",
            "똔똔\n"
          ]
        }
      ]
    },
    {
      "cell_type": "markdown",
      "source": [
        "#### 반복문 (Loop Statements):\n",
        "- for: 시퀀스(리스트, 튜플, 문자열 등)의 아이템을 순회하면서 코드 블록을 실행\n",
        "- while: 특정 조건이 참인 동안 코드 블록을 반복하여 실행"
      ],
      "metadata": {
        "id": "6G2lz1VbhZ3N"
      }
    },
    {
      "cell_type": "code",
      "source": [
        "#for 루프는 시퀀스(리스트, 튜플, 문자열 등)나 반복 가능한 객체(iterable)의 요소를 순회\n",
        "\n",
        "for i in range(5):\n",
        "    print(i, end=' ')\n",
        "print('\\n')\n",
        "count = 0\n",
        "while count < 5:\n",
        "    print(count, end=' ')\n",
        "    count += 1"
      ],
      "metadata": {
        "colab": {
          "base_uri": "https://localhost:8080/"
        },
        "id": "XqO4DG4cgyeN",
        "outputId": "602456c7-86a5-4659-e1a8-145ac5a8f79b"
      },
      "execution_count": null,
      "outputs": [
        {
          "output_type": "stream",
          "name": "stdout",
          "text": [
            "0 1 2 3 4 \n",
            "\n",
            "0 1 2 3 4 "
          ]
        }
      ]
    },
    {
      "cell_type": "code",
      "source": [
        "#리스트를 순회하는 예\n",
        "for i in [1,2,3,4,5]:\n",
        "    print(i, end=' ')\n",
        "\n",
        "print('\\n')\n",
        "\n",
        "for char in \"hello\":\n",
        "    print(char, end=', ')"
      ],
      "metadata": {
        "colab": {
          "base_uri": "https://localhost:8080/"
        },
        "id": "HVf9_h2rj0Pu",
        "outputId": "0362279f-bd99-431f-ad49-443da81f991d"
      },
      "execution_count": null,
      "outputs": [
        {
          "output_type": "stream",
          "name": "stdout",
          "text": [
            "1 2 3 4 5 \n",
            "\n",
            "h, e, l, l, o, "
          ]
        }
      ]
    },
    {
      "cell_type": "code",
      "source": [
        "#while 루프는 주어진 조건이 참인 동안 코드 블록을 반복\n",
        "#조건이 거짓이 되면 루프가 종료\n",
        "\n",
        "count = 0\n",
        "sum = 0\n",
        "while count < 5:\n",
        "    sum += count\n",
        "    print(sum, end=' ')\n",
        "    count += 1"
      ],
      "metadata": {
        "colab": {
          "base_uri": "https://localhost:8080/"
        },
        "id": "4do7r0jqlNk8",
        "outputId": "ff87a10c-53c9-4c16-c117-bb6be7c2a493"
      },
      "execution_count": null,
      "outputs": [
        {
          "output_type": "stream",
          "name": "stdout",
          "text": [
            "0 1 3 6 10 "
          ]
        }
      ]
    },
    {
      "cell_type": "code",
      "source": [
        "#Q. d에서 반복문을 사용하여 97 98 99 을 출려갛세요\n",
        "d = {'a':97, 'b':98, 'c':99}\n",
        "for k, v in d.items():\n",
        "    print(v, end=' ')\n"
      ],
      "metadata": {
        "colab": {
          "base_uri": "https://localhost:8080/"
        },
        "id": "eUubbujDmixS",
        "outputId": "079fb69d-2f0d-464a-da7c-591f3ff1d395"
      },
      "execution_count": null,
      "outputs": [
        {
          "output_type": "stream",
          "name": "stdout",
          "text": [
            "97 98 99 "
          ]
        }
      ]
    },
    {
      "cell_type": "code",
      "source": [
        "#Q. d에서 반복문을 사용하여 97 98 99 을 출려갛세요\n",
        "d = {'a':97, 'b':98, 'c':99}\n",
        "for key in d:\n",
        "    print(d[key], end=' ')"
      ],
      "metadata": {
        "colab": {
          "base_uri": "https://localhost:8080/"
        },
        "id": "R7Z1gnEQnhdT",
        "outputId": "379142e6-d371-4ba5-8e69-313a0737daa8"
      },
      "execution_count": null,
      "outputs": [
        {
          "output_type": "stream",
          "name": "stdout",
          "text": [
            "97 98 99 "
          ]
        }
      ]
    },
    {
      "cell_type": "code",
      "source": [
        "print(d.keys())\n",
        "print(type(d.keys()))"
      ],
      "metadata": {
        "colab": {
          "base_uri": "https://localhost:8080/"
        },
        "id": "AoYBD753nBwj",
        "outputId": "0fc4f021-6ff9-45a0-e164-2420e9a53e08"
      },
      "execution_count": null,
      "outputs": [
        {
          "output_type": "stream",
          "name": "stdout",
          "text": [
            "dict_keys(['a', 'b', 'c'])\n",
            "<class 'dict_keys'>\n"
          ]
        }
      ]
    },
    {
      "cell_type": "code",
      "source": [
        "print(d.values())\n",
        "print(type(d.values()))"
      ],
      "metadata": {
        "colab": {
          "base_uri": "https://localhost:8080/"
        },
        "id": "rphKOG7TrURf",
        "outputId": "a1f28584-e28a-4b3b-a423-1b5d76106e57"
      },
      "execution_count": null,
      "outputs": [
        {
          "output_type": "stream",
          "name": "stdout",
          "text": [
            "dict_values([97, 98, 99])\n",
            "<class 'dict_values'>\n"
          ]
        }
      ]
    },
    {
      "cell_type": "markdown",
      "source": [
        "dict_values 클래스의 이해:\n",
        "- 클래스 정의: 파이썬에서 클래스는 객체를 생성하는 데 사용되는 템플릿. dict_values는 딕셔너리의 값을 보여주는 뷰 객체를 생성하는 특별한 내장 클래스.\n",
        "- 뷰 객체: dict_values 객체는 딕셔너리의 값에 대한 동적인 뷰를 제공. \"뷰(view)\"란 원본 딕셔너리 객체의 값이 변하면 그 변화가 dict_values 객체에도 반영되는, 원본 데이터의 실시간 반영본을 의미. 이는 딕셔너리의 값들이 수정, 추가, 삭제될 때 dict_values 객체가 자동으로 업데이트된다는 의미.\n",
        "- 객체 인스턴스: dict_values 객체는 dict_values 클래스의 인스턴스. 이 클래스는 파이썬의 다른 모든 클래스처럼 특정 데이터 구조와 메서드를 가진다. 예를 들어, dict_values 객체는 순회 가능하며 (iterable), 딕셔너리의 모든 값을 순차적으로 접근할 수 있는 메서드를 제공."
      ],
      "metadata": {
        "id": "cp_czAQFxj3R"
      }
    },
    {
      "cell_type": "code",
      "source": [
        "d['b'] = 100\n",
        "print(d)\n",
        "print(d.values())"
      ],
      "metadata": {
        "id": "Dq4PvBiPrbGt",
        "colab": {
          "base_uri": "https://localhost:8080/"
        },
        "outputId": "ae607439-60c2-4563-e3c1-bdf414b7a481"
      },
      "execution_count": null,
      "outputs": [
        {
          "output_type": "stream",
          "name": "stdout",
          "text": [
            "{'a': 97, 'b': 100, 'c': 99}\n",
            "dict_values([97, 100, 99])\n"
          ]
        }
      ]
    },
    {
      "cell_type": "markdown",
      "source": [
        "#### 제어문 관련 키워드:\n",
        "- break: 현재의 반복문을 중단하고, 반복문 바깥의 코드를 실행\n",
        "- continue: 반복문의 나머지 부분을 건너뛰고, 다음 반복을 시작"
      ],
      "metadata": {
        "id": "tM8bFoxgyvHJ"
      }
    },
    {
      "cell_type": "code",
      "source": [
        "for i in range(5):\n",
        "    if i  == 3:\n",
        "        break\n",
        "    print(i, end=' ')\n",
        "print('\\n')\n",
        "\n",
        "for i in range(5):\n",
        "    if i == 3:\n",
        "        continue\n",
        "    print(i, end=' ')"
      ],
      "metadata": {
        "colab": {
          "base_uri": "https://localhost:8080/"
        },
        "id": "EafBz6e4yGUt",
        "outputId": "56f3cbb0-6cc2-4db8-b401-9610823d3fa9"
      },
      "execution_count": null,
      "outputs": [
        {
          "output_type": "stream",
          "name": "stdout",
          "text": [
            "0 1 2 \n",
            "\n",
            "0 1 2 4 "
          ]
        }
      ]
    },
    {
      "cell_type": "code",
      "source": [
        "for i in range(10):\n",
        "    if i == 5:\n",
        "        break\n",
        "    print(i, end=' ')\n",
        "print('\\n')\n",
        "for i in range(10):\n",
        "    if i % 2 == 0:\n",
        "        continue\n",
        "    print(i, end=' ')\n"
      ],
      "metadata": {
        "colab": {
          "base_uri": "https://localhost:8080/"
        },
        "id": "BlgbeRKKzuEq",
        "outputId": "d25ac121-668d-4893-d373-452f0286978b"
      },
      "execution_count": null,
      "outputs": [
        {
          "output_type": "stream",
          "name": "stdout",
          "text": [
            "0 1 2 3 4 \n",
            "\n",
            "1 3 5 7 9 "
          ]
        }
      ]
    },
    {
      "cell_type": "code",
      "source": [
        "#for 또는 while루프에 else절을 사용하면, 루프가 정상적으로 완료된후 실행\n",
        "for i in range(5):\n",
        "    print(i, end=' ')\n",
        "else:\n",
        "    print(\"루프가 완료되었습니다.\", '\\n')\n",
        "\n",
        "count = 0\n",
        "while count < 5:\n",
        "    print(count, end=' ')\n",
        "    count += 1\n",
        "else:\n",
        "    print(\"루프가 완료되었습니다.\")"
      ],
      "metadata": {
        "id": "-OM37W0K013F"
      },
      "execution_count": null,
      "outputs": []
    },
    {
      "cell_type": "code",
      "source": [
        "#break문을 사용하여 루프를 중단하면 else절은 실행되지 않음\n",
        "for i in range(5):\n",
        "    if i == 3:\n",
        "        print(f'{i}에서 루프를 중단합니다.')\n",
        "        break\n",
        "else:\n",
        "    print('루프가 정상적으로 완료되었습니다.')\n"
      ],
      "metadata": {
        "colab": {
          "base_uri": "https://localhost:8080/"
        },
        "id": "M2q7F9Zr3Fuq",
        "outputId": "753ce139-151d-42e6-ae57-fd404d42d427"
      },
      "execution_count": null,
      "outputs": [
        {
          "output_type": "stream",
          "name": "stdout",
          "text": [
            "3에서 루프를 중단합니다.\n"
          ]
        }
      ]
    },
    {
      "cell_type": "markdown",
      "source": [
        "##조건과 반복을 결합\n"
      ],
      "metadata": {
        "id": "8BvArnwN38pS"
      }
    },
    {
      "cell_type": "code",
      "source": [
        "#10미만의 홀수만 출력\n",
        "for i in range(10):\n",
        "    if i % 2 == 1:\n",
        "        print(i,end=' ')"
      ],
      "metadata": {
        "colab": {
          "base_uri": "https://localhost:8080/"
        },
        "id": "T3o6rNZm3kiM",
        "outputId": "07becf94-85a1-4289-d4b7-2f936b7cc204"
      },
      "execution_count": null,
      "outputs": [
        {
          "output_type": "stream",
          "name": "stdout",
          "text": [
            "1 3 5 7 9 "
          ]
        }
      ]
    },
    {
      "cell_type": "code",
      "source": [
        "#Q. 1~10범위의 정수에서 1부터 5까지만 출력하세요\n",
        "for i in range(1, 11):\n",
        "    if i == 6:\n",
        "        break\n",
        "    print(i, end=' ')"
      ],
      "metadata": {
        "colab": {
          "base_uri": "https://localhost:8080/"
        },
        "id": "i3gklANK4cOP",
        "outputId": "ca629c60-1782-4b25-bfd1-4d465733eef5"
      },
      "execution_count": null,
      "outputs": [
        {
          "output_type": "stream",
          "name": "stdout",
          "text": [
            "1 2 3 4 5 "
          ]
        }
      ]
    },
    {
      "cell_type": "code",
      "source": [
        "#Q. numbers 리스트에서 15, 20, 25를 출력하세요(for문과 if 조건 사용 필수 )\n",
        "numbers = [5, 15, 6, 20, 7,25]\n",
        "\n",
        "for i in numbers:\n",
        "    if i % 5 == 0 and i > 10: #if i>= 15:\n",
        "        print(i, end=' ')"
      ],
      "metadata": {
        "colab": {
          "base_uri": "https://localhost:8080/"
        },
        "id": "8Ig2k0vG47gb",
        "outputId": "39cb8dad-c535-4473-be64-1ae9c9a3d1e0"
      },
      "execution_count": null,
      "outputs": [
        {
          "output_type": "stream",
          "name": "stdout",
          "text": [
            "15 20 25 "
          ]
        }
      ]
    },
    {
      "cell_type": "code",
      "source": [
        "#특정 조건을 만족할 때까지 반복\n",
        "count = 0\n",
        "while 1:\n",
        "    count += 1\n",
        "    if count > 5:\n",
        "        break\n",
        "    print(count)\n",
        "print(\"루프가 종료됨\")"
      ],
      "metadata": {
        "colab": {
          "base_uri": "https://localhost:8080/"
        },
        "id": "_8Td8_0I5ywB",
        "outputId": "e303ce6c-ec25-4439-e998-a3af708b7269"
      },
      "execution_count": null,
      "outputs": [
        {
          "output_type": "stream",
          "name": "stdout",
          "text": [
            "1\n",
            "2\n",
            "3\n",
            "4\n",
            "5\n",
            "루프가 종료됨\n"
          ]
        }
      ]
    },
    {
      "cell_type": "markdown",
      "source": [],
      "metadata": {
        "id": "ID0ecTWp_HXg"
      }
    },
    {
      "cell_type": "code",
      "source": [
        "#Q. 리스트에서 특정값 찾기\n",
        "numbers = [1,2,3,4,5]\n",
        "target = 3\n",
        "\n",
        "for i in numbers:\n",
        "    if i == target:\n",
        "        print(f'현재값{i} 찾음, 루프 벗어남')\n",
        "        break\n",
        "    else:\n",
        "        print(f'현재값{i} 타겟 찾지 못함')\n",
        "else:\n",
        "    print('검색완료함')"
      ],
      "metadata": {
        "colab": {
          "base_uri": "https://localhost:8080/"
        },
        "id": "IRJ0pQ5t-6fr",
        "outputId": "3e9e247b-3d47-482b-e83e-e5a3b17f253b"
      },
      "execution_count": null,
      "outputs": [
        {
          "output_type": "stream",
          "name": "stdout",
          "text": [
            "현재값1 타겟 찾지 못함\n",
            "현재값2 타겟 찾지 못함\n",
            "현재값3 찾음, 루프 벗어남\n"
          ]
        }
      ]
    },
    {
      "cell_type": "code",
      "source": [
        "#Q. 리스트에서 특정값 찾기\n",
        "numbers = [1,2,3,4,5]\n",
        "target = 6\n",
        "\n",
        "for i in numbers:\n",
        "    if i == target:\n",
        "        print(f'현재값{i} 찾음, 루프 벗어남')\n",
        "        break\n",
        "    else:\n",
        "        print(f'현재값{i} 타겟 찾지 못함')\n",
        "else:\n",
        "    print(f'{target}찾지 못함, 검색완료함')"
      ],
      "metadata": {
        "colab": {
          "base_uri": "https://localhost:8080/"
        },
        "id": "QnkSTT9sACL5",
        "outputId": "a759efbb-d7e1-4e77-8e4b-d795c81da521"
      },
      "execution_count": null,
      "outputs": [
        {
          "output_type": "stream",
          "name": "stdout",
          "text": [
            "현재값1 타겟 찾지 못함\n",
            "현재값2 타겟 찾지 못함\n",
            "현재값3 타겟 찾지 못함\n",
            "현재값4 타겟 찾지 못함\n",
            "현재값5 타겟 찾지 못함\n",
            "6찾지 못함, 검색완료함\n"
          ]
        }
      ]
    },
    {
      "cell_type": "code",
      "source": [
        "#Q. 1 ~20사이의 정수에서 10보다 작은 홀수만 출력\n",
        "for i in range(1, 21):\n",
        "    if i < 10:\n",
        "        if i % 2 == 1:\n",
        "            print(i, end=' ')\n",
        "    else:\n",
        "        break"
      ],
      "metadata": {
        "colab": {
          "base_uri": "https://localhost:8080/"
        },
        "id": "UReSy5RfAjVu",
        "outputId": "2f2ce70d-c563-4991-896d-b24fda8d9093"
      },
      "execution_count": null,
      "outputs": [
        {
          "output_type": "stream",
          "name": "stdout",
          "text": [
            "1 3 5 7 9 "
          ]
        }
      ]
    },
    {
      "cell_type": "code",
      "source": [
        "#while ~ continue ~ break\n",
        "#20보다 작은 정수에서 1 3 5 7 9만을 출력\n",
        "a = 0\n",
        "while a < 20:\n",
        "    a += 1\n",
        "    if a % 2 == 0:\n",
        "        continue\n",
        "    if a >=10:\n",
        "        break\n",
        "    print(a, end=' ')"
      ],
      "metadata": {
        "colab": {
          "base_uri": "https://localhost:8080/"
        },
        "id": "E24IPaHpDCL2",
        "outputId": "594ecd3d-9f2b-4771-fe8c-001b3bd23f19"
      },
      "execution_count": null,
      "outputs": [
        {
          "output_type": "stream",
          "name": "stdout",
          "text": [
            "1 3 5 7 9 "
          ]
        }
      ]
    },
    {
      "cell_type": "code",
      "source": [
        "#Q. 정수 1부터 n까지 더할 때 그 합이 1000보다 커지게 되는 n값과 합을 구하세요 (while ~break)\n",
        "count = 0\n",
        "sum = 0\n",
        "while 1:\n",
        "    count += 1\n",
        "    sum += count\n",
        "    if sum > 1000:\n",
        "        break\n",
        "print(count, sum)\n"
      ],
      "metadata": {
        "colab": {
          "base_uri": "https://localhost:8080/"
        },
        "id": "rovqh0h9FiYs",
        "outputId": "6c63c10d-22fc-4be5-e0f7-383adb5f5f5b"
      },
      "execution_count": null,
      "outputs": [
        {
          "output_type": "stream",
          "name": "stdout",
          "text": [
            "45 1035\n"
          ]
        }
      ]
    },
    {
      "cell_type": "code",
      "source": [
        "#참고 #Q. 정수 1부터 n까지 더할 때 그 합이 1000보다 커지게 되는 n값과 합을 구하세요 (while ~break)\n",
        "x = 0\n",
        "sum = 0\n",
        "while sum < 1000:\n",
        "    x += 1\n",
        "    sum += x\n",
        "print(x)\n",
        "print(sum)"
      ],
      "metadata": {
        "colab": {
          "base_uri": "https://localhost:8080/"
        },
        "id": "4QGJ9lm-aH6-",
        "outputId": "fb3e236f-af67-4299-df58-60c23ce1ba85"
      },
      "execution_count": null,
      "outputs": [
        {
          "output_type": "stream",
          "name": "stdout",
          "text": [
            "45\n",
            "1035\n"
          ]
        }
      ]
    },
    {
      "cell_type": "code",
      "source": [
        "#Q.while 문을 사용해 1부터 1000까지의 정수 중 3의 배수의 합을 구해보세요\n",
        "count = 0\n",
        "sum = 0\n",
        "while count <= 1000:\n",
        "    count += 1\n",
        "    if count % 3 == 0:\n",
        "        sum += count\n",
        "\n",
        "\n",
        "print(sum)"
      ],
      "metadata": {
        "colab": {
          "base_uri": "https://localhost:8080/"
        },
        "id": "G_zFDhibf6Rq",
        "outputId": "6e97cdf3-0ac4-4892-aecb-3fa8fe29e349"
      },
      "execution_count": null,
      "outputs": [
        {
          "output_type": "stream",
          "name": "stdout",
          "text": [
            "166833\n"
          ]
        }
      ]
    },
    {
      "cell_type": "code",
      "source": [
        "#Q.while 문을 사용해 1부터 1000까지의 정수 중 3의 배수의 합을 구해보세요\n",
        "count = 0\n",
        "sum = 0\n",
        "while 1:\n",
        "    if count % 3 == 0:\n",
        "        sum += count\n",
        "        if count > 1000:\n",
        "            break\n",
        "    count += 1\n",
        "\n",
        "print(sum)"
      ],
      "metadata": {
        "colab": {
          "base_uri": "https://localhost:8080/"
        },
        "id": "mLnTJcF6d4o3",
        "outputId": "f0ce5e39-9f28-4d75-eaf2-f983951eb3d7"
      },
      "execution_count": null,
      "outputs": [
        {
          "output_type": "stream",
          "name": "stdout",
          "text": [
            "167835\n"
          ]
        }
      ]
    },
    {
      "cell_type": "code",
      "source": [
        "#Q.while 문을 사용해 1부터 1000까지의 정수 중 3의 배수의 합을 구해보세요\n",
        "count = 1\n",
        "sum = 0\n",
        "while 1:\n",
        "    if count <= 1000:\n",
        "        if count % 3 == 0:\n",
        "            sum += count\n",
        "        count += 1\n",
        "\n",
        "\n",
        "print(sum)"
      ],
      "metadata": {
        "colab": {
          "base_uri": "https://localhost:8080/",
          "height": 221
        },
        "id": "ISB0uwH4iq0Z",
        "outputId": "0b29f745-3bd2-4b0f-fd72-0ae2ca0ab77e"
      },
      "execution_count": null,
      "outputs": [
        {
          "output_type": "error",
          "ename": "KeyboardInterrupt",
          "evalue": "",
          "traceback": [
            "\u001b[0;31m---------------------------------------------------------------------------\u001b[0m",
            "\u001b[0;31mKeyboardInterrupt\u001b[0m                         Traceback (most recent call last)",
            "\u001b[0;32m<ipython-input-65-44e1566c94ce>\u001b[0m in \u001b[0;36m<cell line: 4>\u001b[0;34m()\u001b[0m\n\u001b[1;32m      3\u001b[0m \u001b[0msum\u001b[0m \u001b[0;34m=\u001b[0m \u001b[0;36m0\u001b[0m\u001b[0;34m\u001b[0m\u001b[0;34m\u001b[0m\u001b[0m\n\u001b[1;32m      4\u001b[0m \u001b[0;32mwhile\u001b[0m \u001b[0;36m1\u001b[0m\u001b[0;34m:\u001b[0m\u001b[0;34m\u001b[0m\u001b[0;34m\u001b[0m\u001b[0m\n\u001b[0;32m----> 5\u001b[0;31m     \u001b[0;32mif\u001b[0m \u001b[0mcount\u001b[0m \u001b[0;34m<=\u001b[0m \u001b[0;36m1000\u001b[0m\u001b[0;34m:\u001b[0m\u001b[0;34m\u001b[0m\u001b[0;34m\u001b[0m\u001b[0m\n\u001b[0m\u001b[1;32m      6\u001b[0m         \u001b[0;32mif\u001b[0m \u001b[0mcount\u001b[0m \u001b[0;34m%\u001b[0m \u001b[0;36m3\u001b[0m \u001b[0;34m==\u001b[0m \u001b[0;36m0\u001b[0m\u001b[0;34m:\u001b[0m\u001b[0;34m\u001b[0m\u001b[0;34m\u001b[0m\u001b[0m\n\u001b[1;32m      7\u001b[0m             \u001b[0msum\u001b[0m \u001b[0;34m+=\u001b[0m \u001b[0mcount\u001b[0m\u001b[0;34m\u001b[0m\u001b[0;34m\u001b[0m\u001b[0m\n",
            "\u001b[0;31mKeyboardInterrupt\u001b[0m: "
          ]
        }
      ]
    },
    {
      "cell_type": "code",
      "source": [
        "#Q.while 문을 사용해 1부터 1000까지의 정수 중 3의 배수의 합을 구해보세요\n",
        "count = 1\n",
        "sum = 0\n",
        "while count <= 1000:\n",
        "    if count % 3 == 0:\n",
        "        sum += count\n",
        "    count += 1\n",
        "\n",
        "print(sum)"
      ],
      "metadata": {
        "colab": {
          "base_uri": "https://localhost:8080/"
        },
        "id": "uzCLVawfdWwy",
        "outputId": "9b474244-ad09-4c06-86da-7e6f251f30a5"
      },
      "execution_count": null,
      "outputs": [
        {
          "output_type": "stream",
          "name": "stdout",
          "text": [
            "166833\n"
          ]
        }
      ]
    },
    {
      "cell_type": "code",
      "source": [
        "#Q.while 문을 사용해 1부터 1000까지의 정수 중 3의 배수의 합을 구해보세요\n",
        "count = 0\n",
        "sum = 0\n",
        "while 1:\n",
        "    count += 1\n",
        "    if count % 3 == 0:\n",
        "        sum += count\n",
        "        if count >= 1000:\n",
        "            break\n",
        "print(sum)\n",
        "#1002번째가 계산됨"
      ],
      "metadata": {
        "colab": {
          "base_uri": "https://localhost:8080/"
        },
        "id": "Ia5LjNOtF0Uu",
        "outputId": "a6ced84d-fb02-4e6a-a36e-c0ea8fc9ca6e"
      },
      "execution_count": null,
      "outputs": [
        {
          "output_type": "stream",
          "name": "stdout",
          "text": [
            "167835\n"
          ]
        }
      ]
    },
    {
      "cell_type": "code",
      "source": [
        "count = 0\n",
        "sum = 0\n",
        "while 1:\n",
        "    count += 1\n",
        "    if count >= 1000:\n",
        "        break\n",
        "    if count % 3 == 0:\n",
        "        sum += count\n",
        "print(count, sum)"
      ],
      "metadata": {
        "colab": {
          "base_uri": "https://localhost:8080/"
        },
        "id": "Yf7LCp-jkkOR",
        "outputId": "9797255a-3570-4bfa-e271-be80ba45d993"
      },
      "execution_count": null,
      "outputs": [
        {
          "output_type": "stream",
          "name": "stdout",
          "text": [
            "1000 166833\n"
          ]
        }
      ]
    },
    {
      "cell_type": "code",
      "source": [],
      "metadata": {
        "colab": {
          "base_uri": "https://localhost:8080/"
        },
        "id": "rWZpRzqhk_1q",
        "outputId": "2726eef5-15ae-4f34-b343-ad76671c477a"
      },
      "execution_count": null,
      "outputs": [
        {
          "output_type": "execute_result",
          "data": {
            "text/plain": [
              "166836"
            ]
          },
          "metadata": {},
          "execution_count": 62
        }
      ]
    },
    {
      "cell_type": "code",
      "source": [
        "#Q.while 문을 사용해 1부터 1000까지의 정수 중 3의 배수의 합을 구해보세요\n",
        "count = 3\n",
        "sum = 0\n",
        "while count <= 1000:\n",
        "    sum += count\n",
        "    count += 3\n",
        "print(sum)"
      ],
      "metadata": {
        "colab": {
          "base_uri": "https://localhost:8080/"
        },
        "id": "nndApFyhfQBP",
        "outputId": "7056c1c6-99c6-4fb2-8c7e-409aabe8fa7e"
      },
      "execution_count": null,
      "outputs": [
        {
          "output_type": "stream",
          "name": "stdout",
          "text": [
            "166833\n"
          ]
        }
      ]
    },
    {
      "cell_type": "code",
      "source": [
        "#Q. 정수를 입력하면 홀수 짝수를 판별하는 프로그램 작성\n",
        "num = int(input('enter a number: '))\n",
        "\n",
        "if num % 2 == 0:\n",
        "    print(f\"{num} 은 짝수이다.\")\n",
        "else:\n",
        "    print(f\"{num} 은 홀수이다.\")"
      ],
      "metadata": {
        "colab": {
          "base_uri": "https://localhost:8080/"
        },
        "id": "WR8BjOJKF7xg",
        "outputId": "a755231c-af83-4fbf-a72d-a1bc4b98c5ae"
      },
      "execution_count": null,
      "outputs": [
        {
          "output_type": "stream",
          "name": "stdout",
          "text": [
            "enter a number: 3\n",
            "3 은 홀수이다.\n"
          ]
        }
      ]
    },
    {
      "cell_type": "code",
      "source": [
        "#Q. 정수를 입력하면 홀수 짝수를 판별하는 프로그램 작성\n",
        "while True:\n",
        "    try:\n",
        "        num = int(input('enter a number: '))\n",
        "        if num % 2 == 0:\n",
        "            print(f\"{num} 은 짝수이다.\")\n",
        "        else:\n",
        "            print(f\"{num} 은 홀수이다.\")\n",
        "        break\n",
        "    except ValueError:\n",
        "        print(\"정수가 아닌 값이 입력되었어요. 정수를 입력하세요.\")"
      ],
      "metadata": {
        "colab": {
          "base_uri": "https://localhost:8080/"
        },
        "id": "M-isZd8ZHs1u",
        "outputId": "beef9d34-27c2-4edd-886b-0b12fceba50d"
      },
      "execution_count": null,
      "outputs": [
        {
          "output_type": "stream",
          "name": "stdout",
          "text": [
            "enter a number: 2.5\n",
            "정수가 아닌 값이 입력되었어요. 정수를 입력하세요.\n",
            "enter a number: 3/3\n",
            "정수가 아닌 값이 입력되었어요. 정수를 입력하세요.\n",
            "enter a number: 2\n",
            "2 은 짝수이다.\n"
          ]
        }
      ]
    },
    {
      "cell_type": "code",
      "source": [
        "#Q. 입력받은 문자열의 각 문자를 그 다음 문자로 변경하여 출력하세요.(ABC -> BCA)\n",
        "string = input(\"enter a letters: \")\n",
        "alter_string = string[1:] + string[0]\n",
        "print(alter_string)"
      ],
      "metadata": {
        "colab": {
          "base_uri": "https://localhost:8080/"
        },
        "id": "jGiVXfExh2Wk",
        "outputId": "190077d0-1e6c-4eda-c54b-4645c6a78a48"
      },
      "execution_count": null,
      "outputs": [
        {
          "output_type": "stream",
          "name": "stdout",
          "text": [
            "enter a letters: abc\n",
            "bca\n"
          ]
        }
      ]
    },
    {
      "cell_type": "code",
      "source": [
        "#for ~ else 문\n",
        "data = input('문자열을 입력: ')\n",
        "for i in range(len(data)):\n",
        "    if i == 0:\n",
        "        continue\n",
        "    print(data[i], end='')\n",
        "else:                           #for문 완료시 수행문\n",
        "    print(data[0])"
      ],
      "metadata": {
        "colab": {
          "base_uri": "https://localhost:8080/"
        },
        "id": "pUCcvzu4j-Nx",
        "outputId": "1c667fce-8a39-4b4a-d204-b83c313a8764"
      },
      "execution_count": null,
      "outputs": [
        {
          "output_type": "stream",
          "name": "stdout",
          "text": [
            "문자열을 입력: asdf\n",
            "sdfa\n"
          ]
        }
      ]
    },
    {
      "cell_type": "markdown",
      "source": [
        "zip() 함수\n",
        "- 여러 개의 이터러블(리스트, 튜플 등)을 인자로 받아, 동일한 인덱스에 있는 요소들을 하나의 튜플로 묶어서 이터레이터를 반환\n",
        "- 데이터를 병렬로 처리할 때 유용"
      ],
      "metadata": {
        "id": "NP3SVSflm7xe"
      }
    },
    {
      "cell_type": "code",
      "source": [
        "list1 = [1,2,3,4]\n",
        "list2 = ['a','b','c','d']\n",
        "zipped = zip(list1, list2)\n",
        "print(list(zipped))"
      ],
      "metadata": {
        "colab": {
          "base_uri": "https://localhost:8080/"
        },
        "id": "GPVSYPWymJMn",
        "outputId": "dab09414-83eb-40f8-ed45-cec08a086528"
      },
      "execution_count": null,
      "outputs": [
        {
          "output_type": "stream",
          "name": "stdout",
          "text": [
            "[(1, 'a'), (2, 'b'), (3, 'c'), (4, 'd')]\n"
          ]
        }
      ]
    },
    {
      "cell_type": "code",
      "source": [
        "#Q. 두개의 리스트(이름과 성)를 사용하여 각 사람의 전체 이름을 생성하세요.\n",
        "first_names = [\"John\", 'Jane', 'Corey', 'Travis']\n",
        "last_names = [\"Doe\", \"Smith\", \"Turner\", \"Williams\"]\n",
        "\n",
        "zipped =[first + \" \" + last for first, last in zip(first_names, last_names)]\n",
        "print(zipped)"
      ],
      "metadata": {
        "colab": {
          "base_uri": "https://localhost:8080/"
        },
        "id": "Xxs-bU8dnq9y",
        "outputId": "a1f1a78c-44f9-4e1c-ffe0-79f2a9a0c39e"
      },
      "execution_count": null,
      "outputs": [
        {
          "output_type": "stream",
          "name": "stdout",
          "text": [
            "['John Doe', 'Jane Smith', 'Corey Turner', 'Travis Williams']\n"
          ]
        }
      ]
    },
    {
      "cell_type": "code",
      "source": [
        "#q. 학생들의 수학과 영어 점수를 각각의 리스트로 받아 평균 점수를 계산하세요.\n",
        "math_scores =[88,92,79,93,85]\n",
        "english_scores =[90,92, 85,88,86]\n",
        "avg = [(math + english) /2 for math, english in zip(math_scores, english_scores)]\n",
        "print(avg)"
      ],
      "metadata": {
        "colab": {
          "base_uri": "https://localhost:8080/"
        },
        "id": "wUaCOr1podOM",
        "outputId": "c7f5b2ce-fbd7-47ff-e1ca-355980310fa7"
      },
      "execution_count": null,
      "outputs": [
        {
          "output_type": "stream",
          "name": "stdout",
          "text": [
            "[89.0, 92.0, 82.0, 90.5, 85.5]\n"
          ]
        }
      ]
    },
    {
      "cell_type": "code",
      "source": [
        "#Q. 상품 이름과 가격이 각각 다른 리스트에 저장되어 있을 때, 상품명과 가격을 튜플로 묶어 출력하세요.\n",
        "products = [\"apple\", \"banana\", \"cherry\"]\n",
        "prices = [1.2, 0.5, 2.5]\n",
        "for product, price in zip(products, prices):\n",
        "    print(f'Produc: {product}, Price ${price}')"
      ],
      "metadata": {
        "colab": {
          "base_uri": "https://localhost:8080/"
        },
        "id": "yAZMlsvVo8wE",
        "outputId": "d17fdf96-d7ef-438a-fc92-3d364a7dd0bc"
      },
      "execution_count": null,
      "outputs": [
        {
          "output_type": "stream",
          "name": "stdout",
          "text": [
            "Produc: apple, Price $1.2\n",
            "Produc: banana, Price $0.5\n",
            "Produc: cherry, Price $2.5\n"
          ]
        }
      ]
    },
    {
      "cell_type": "code",
      "source": [
        "products = [\"apple\", \"banana\", \"cherry\"]\n",
        "prices = [1.2, 0.5, 2.5]\n",
        "print([f\"product: {p}, price: {v}\" for p, v in zip(products, prices)])"
      ],
      "metadata": {
        "id": "_mzGRgi6mYCn"
      },
      "execution_count": null,
      "outputs": []
    },
    {
      "cell_type": "code",
      "source": [
        "products = [\"apple\", \"banana\", \"cherry\"]\n",
        "prices = [1.2, 0.5, 2.5]\n",
        "print([(p, v)for p, v in zip(products, prices)])"
      ],
      "metadata": {
        "id": "QENmzyK-leNy"
      },
      "execution_count": null,
      "outputs": []
    },
    {
      "cell_type": "markdown",
      "source": [
        "#### 파이썬의 random 모듈\n",
        "난수를 생성하기 위한 다양한 함수를 제공\n",
        "- 기본 난수 생성:\n",
        "  - random.random(): 0과 1 사이의 무작위 부동소수점 숫자를 반환.\n",
        "- 범위 지정 난수 생성:\n",
        "  - random.randint(a, b): a와 b 사이의 무작위 정수를 반환(b 포함).\n",
        "  - random.randrange(start, stop[, step]): 지정된 범위에서 무작위 정수를 반환. step을 설정하여 수의 간격을 조정할 수 있다.\n",
        "- 시퀀스용 함수:\n",
        "  - random.choice(sequence): 주어진 시퀀스(리스트, 튜플 등)에서 무작위로 아이템을 선택하여 반환.\n",
        "  - random.shuffle(x[, random]): 리스트의 항목들을 무작위로 섞는다. random은 섞기를 위한 함수를 커스텀할 때 사용.\n",
        "  - random.sample(population, k): 주어진 시퀀스에서 무작위로 k개의 항목을 뽑아 새 리스트로 반환.\n",
        "- 분포 기반 난수 생성:\n",
        "  - random.uniform(a, b): a와 b 사이의 무작위 부동소수점 숫자를 **균등 분포**로 반환.\n",
        "  - random.gauss(mu, sigma): 평균 mu와 표준편차 sigma를 가지는 **정규 분포**에서 난수를 반환.\n",
        "\n",
        "  선형대수, 미분, 적분, 통계 공부해야함\n",
        "\n"
      ],
      "metadata": {
        "id": "oaXu6SdOrY_I"
      }
    },
    {
      "cell_type": "code",
      "source": [
        "import random\n",
        "\n",
        "#0과 1사이의 난수 생성\n",
        "print(random.random())\n",
        "#1에서 10사이의 정수 반환(10포함)\n",
        "print(random.randint(1, 10))\n",
        "#리스트에서 무작위로 하나의 원소 선택\n",
        "items = [1,2,3,4,5]\n",
        "print(random.choice(items))\n",
        "#리스트의 원소를 무작위로 섞기\n",
        "random.shuffle(items)\n",
        "print(items)\n",
        "#정규분포난수 생성\n",
        "mean = 0\n",
        "std_dev = 1\n",
        "print(random.gauss(mean, std_dev))"
      ],
      "metadata": {
        "colab": {
          "base_uri": "https://localhost:8080/"
        },
        "id": "Us6LwhZSqvz7",
        "outputId": "5725d0bb-e158-4ffb-ad8c-e2f9624791c5"
      },
      "execution_count": null,
      "outputs": [
        {
          "output_type": "stream",
          "name": "stdout",
          "text": [
            "0.9485093438446103\n",
            "2\n",
            "1\n",
            "[2, 3, 4, 5, 1]\n",
            "-0.055462579610338104\n"
          ]
        }
      ]
    },
    {
      "cell_type": "code",
      "source": [
        "import random\n",
        "male = ['철수','감돌', '로미오', '이몽룡','온돌']\n",
        "random.shuffle(male)\n",
        "male\n"
      ],
      "metadata": {
        "colab": {
          "base_uri": "https://localhost:8080/"
        },
        "id": "4UfdFRr1vEJX",
        "outputId": "6082a099-3074-4de7-dcc2-3da04886755b"
      },
      "execution_count": null,
      "outputs": [
        {
          "output_type": "execute_result",
          "data": {
            "text/plain": [
              "['감돌', '이몽룡', '철수', '온돌', '로미오']"
            ]
          },
          "metadata": {},
          "execution_count": 85
        }
      ]
    },
    {
      "cell_type": "code",
      "source": [
        "from random import shuffle\n",
        "male = ['철수','감돌', '로미오', '이몽룡','온돌']\n",
        "shuffle(male)\n",
        "male"
      ],
      "metadata": {
        "colab": {
          "base_uri": "https://localhost:8080/"
        },
        "id": "lSVj5wEFwSzs",
        "outputId": "372bd997-bac0-44b3-ab7b-d9ae9d1eea15"
      },
      "execution_count": null,
      "outputs": [
        {
          "output_type": "execute_result",
          "data": {
            "text/plain": [
              "['이몽룡', '감돌', '로미오', '철수', '온돌']"
            ]
          },
          "metadata": {},
          "execution_count": 86
        }
      ]
    },
    {
      "cell_type": "code",
      "source": [
        "#Q. 로또번호 6개를 6세트 출력하는 코드를 작성하세요(중복안됨)\n",
        "\n",
        "import random\n",
        "result = []\n",
        "lotto_num_list = list(range(1,46))\n",
        "for i in range(6):\n",
        "    result.append(random.sample(lotto_num_list, 6))\n",
        "print(result)"
      ],
      "metadata": {
        "id": "TprPLUaZwbee",
        "colab": {
          "base_uri": "https://localhost:8080/"
        },
        "outputId": "c4c7dd2c-563d-42e2-9a41-7a0b3461c548"
      },
      "execution_count": null,
      "outputs": [
        {
          "output_type": "stream",
          "name": "stdout",
          "text": [
            "[[31, 21, 22, 28, 15, 35], [4, 1, 40, 26, 12, 17], [40, 7, 2, 13, 1, 8], [9, 45, 32, 22, 8, 39], [21, 3, 7, 36, 1, 18], [25, 9, 32, 16, 31, 24]]\n"
          ]
        }
      ]
    },
    {
      "cell_type": "code",
      "source": [
        "#예시답안\n",
        "import random\n",
        "lotto_num_list = list(range(1,46))\n",
        "for i in range(6):\n",
        "    result = random.sample(lotto_num_list, 6)\n",
        "    print(result)\n"
      ],
      "metadata": {
        "colab": {
          "base_uri": "https://localhost:8080/"
        },
        "id": "mrg91F6fsXaG",
        "outputId": "6227635f-2d72-48ae-846b-ffcc8fb56329"
      },
      "execution_count": null,
      "outputs": [
        {
          "output_type": "stream",
          "name": "stdout",
          "text": [
            "[30, 7, 20, 21, 23, 28]\n",
            "[17, 15, 21, 13, 36, 4]\n",
            "[29, 33, 1, 30, 10, 2]\n",
            "[17, 45, 21, 43, 6, 19]\n",
            "[11, 44, 21, 6, 5, 41]\n",
            "[32, 37, 36, 16, 39, 26]\n"
          ]
        }
      ]
    },
    {
      "cell_type": "code",
      "source": [
        "#Q. n개 그룹으로 분류하는 코드를 작성하세요.\n",
        "kita = ['김성현','황강민','윤호준','류윤선','이상협','박지환','최환욱','서보선','김한결','김도현','김하준', '김도원','신현진','소지승','이범석','이현석','이명신','박윤경','이도헌','김홍준']\n",
        "\n",
        "group_num = int(input(\"원하는 그룹 수를 알려주세요: \"))\n",
        "whole_list = []\n",
        "for i in range(group_num):\n",
        "    whole_list.append(list())\n",
        "print(whole_list)\n",
        "for i in kita:\n",
        "    for j in range(group_num):\n",
        "        whole_list[j].append(i)\n",
        "print(whole_list)\n"
      ],
      "metadata": {
        "colab": {
          "base_uri": "https://localhost:8080/"
        },
        "id": "4i-mPRkcTUf9",
        "outputId": "5165ca3c-8f0f-4566-e583-1c4d60d3e587"
      },
      "execution_count": null,
      "outputs": [
        {
          "output_type": "stream",
          "name": "stdout",
          "text": [
            "원하는 그룹 수를 알려주세요: 3\n",
            "[[], [], []]\n",
            "[['김성현', '황강민', '윤호준', '류윤선', '이상협', '박지환', '최환욱', '서보선', '김한결', '김도현', '김하준', '김도원', '신현진', '소지승', '이범석', '이현석', '이명신', '박윤경', '이도헌', '김홍준'], ['김성현', '황강민', '윤호준', '류윤선', '이상협', '박지환', '최환욱', '서보선', '김한결', '김도현', '김하준', '김도원', '신현진', '소지승', '이범석', '이현석', '이명신', '박윤경', '이도헌', '김홍준'], ['김성현', '황강민', '윤호준', '류윤선', '이상협', '박지환', '최환욱', '서보선', '김한결', '김도현', '김하준', '김도원', '신현진', '소지승', '이범석', '이현석', '이명신', '박윤경', '이도헌', '김홍준']]\n"
          ]
        }
      ]
    },
    {
      "cell_type": "code",
      "source": [
        "#Q. n개 그룹으로 분류하는 코드를 작성하세요.\n",
        "kita = ['김성현','황강민','윤호준','류윤선','이상협','박지환','최환욱','서보선','김한결','김도현','김하준', '김도원','신현진','소지승','이범석','이현석','이명신','박윤경','이도헌','김홍준']\n",
        "\n",
        "group_num = int(input(\"원하는 그룹 수를 알려주세요: \"))\n",
        "print(\"인원수: \", len(kita))\n",
        "allot_num = round(len(kita) / group_num)\n",
        "print(allot_num)\n",
        "rest = len(kita) % group_num\n",
        "print(\"나머지\", rest)\n",
        "value = len(kita) // group_num\n",
        "print(\"그룹당 인원수\", value)\n",
        "\n",
        "whole_list = []\n",
        "for i in range(group_num):\n",
        "    whole_list.append(list())"
      ],
      "metadata": {
        "colab": {
          "base_uri": "https://localhost:8080/"
        },
        "id": "4jkf3BWcd_UA",
        "outputId": "9425c24c-5a5e-4143-f336-3b547b133fe9"
      },
      "execution_count": null,
      "outputs": [
        {
          "output_type": "stream",
          "name": "stdout",
          "text": [
            "원하는 그룹 수를 알려주세요: 3\n",
            "인원수:  20\n",
            "7\n",
            "나머지 2\n",
            "몫 6\n"
          ]
        }
      ]
    },
    {
      "cell_type": "code",
      "source": [
        "kita = ['김성현','황강민','윤호준','류윤선','이상협','박지환','최환욱','서보선','김한결','김도현','김하준', '김도원','신현진','소지승','이범석','이현석','이명신','박윤경','이도헌','김홍준']\n",
        "#3개\n",
        "result = [[],[],[]]\n",
        "for i in range(len(kita)):\n",
        "    if i % 3 == 0:\n",
        "        result[0].append(kita[i])\n",
        "    elif i % 3 == 1:\n",
        "        result[1].append(kita[i])\n",
        "    else:\n",
        "        result[2].append(kita[i])\n",
        "print(result)"
      ],
      "metadata": {
        "colab": {
          "base_uri": "https://localhost:8080/"
        },
        "id": "o97MbFCviKjW",
        "outputId": "366003cb-268c-4761-ea69-8c2107b5fb5a"
      },
      "execution_count": null,
      "outputs": [
        {
          "output_type": "stream",
          "name": "stdout",
          "text": [
            "[['김성현', '류윤선', '최환욱', '김도현', '신현진', '이현석', '이도헌'], ['황강민', '이상협', '서보선', '김하준', '소지승', '이명신', '김홍준'], ['윤호준', '박지환', '김한결', '김도원', '이범석', '박윤경']]\n"
          ]
        }
      ]
    },
    {
      "cell_type": "code",
      "source": [
        "#Q. n개 그룹으로 분류하는 코드를 작성하세요.\n",
        "import random\n",
        "kita = ['김성현','황강민','윤호준','류윤선','이상협','박지환','최환욱','서보선','김한결','김도현','김하준', '김도원','신현진','소지승','이범석','이현석','이명신','박윤경','이도헌','김홍준']\n",
        "\n",
        "n = int(input(\"원하는 그룹 수를 알려주세요: \"))\n",
        "random.shuffle(kita)\n",
        "groups = [kita[i::n] for i in range(n)]         #### 복습!!!!!!!!!!!!!!!!!!!!!!!!!!!!!!!!!!!!!!!!!!!!!!!!!!!!\n",
        "print(groups)\n",
        "for i, g in enumerate(groups):\n",
        "    print(f\"그룹 {i+1}: {g}\")"
      ],
      "metadata": {
        "colab": {
          "base_uri": "https://localhost:8080/"
        },
        "id": "e2JVlAWvsqbW",
        "outputId": "1ee6a803-58f4-44eb-a8f1-ea014d13e6d7"
      },
      "execution_count": null,
      "outputs": [
        {
          "output_type": "stream",
          "name": "stdout",
          "text": [
            "원하는 그룹 수를 알려주세요: 5\n",
            "[['이명신', '박윤경', '김도현', '이상협'], ['소지승', '신현진', '김홍준', '김성현'], ['김도원', '류윤선', '이범석', '박지환'], ['김한결', '윤호준', '황강민', '김하준'], ['최환욱', '이현석', '이도헌', '서보선']]\n",
            "그룹 1: ['이명신', '박윤경', '김도현', '이상협']\n",
            "그룹 2: ['소지승', '신현진', '김홍준', '김성현']\n",
            "그룹 3: ['김도원', '류윤선', '이범석', '박지환']\n",
            "그룹 4: ['김한결', '윤호준', '황강민', '김하준']\n",
            "그룹 5: ['최환욱', '이현석', '이도헌', '서보선']\n"
          ]
        }
      ]
    },
    {
      "cell_type": "code",
      "source": [
        "#Q. 1부터 100까지의 정수중 5에서 95까지의 합을 구하세요.\n",
        "total = 0\n",
        "for i in range(1, 101):\n",
        "    if 5 <= i <= 95:\n",
        "        total += i\n",
        "print(total)"
      ],
      "metadata": {
        "colab": {
          "base_uri": "https://localhost:8080/"
        },
        "id": "vIhjSr4uU7i0",
        "outputId": "a7532a3c-5627-4e16-ebc9-8540fc83c4bc"
      },
      "execution_count": null,
      "outputs": [
        {
          "output_type": "stream",
          "name": "stdout",
          "text": [
            "4550\n"
          ]
        }
      ]
    },
    {
      "cell_type": "code",
      "source": [
        "#예시\n",
        "total = 0\n",
        "count = 1\n",
        "while count <= 100:\n",
        "    if 5 <= count <= 95:\n",
        "        total += count\n",
        "    count += 1\n",
        "print(total)"
      ],
      "metadata": {
        "colab": {
          "base_uri": "https://localhost:8080/"
        },
        "id": "BX3WOYr3vC5C",
        "outputId": "8932ce2a-f76f-40d5-ed87-468e05a3af19"
      },
      "execution_count": null,
      "outputs": [
        {
          "output_type": "stream",
          "name": "stdout",
          "text": [
            "4550\n"
          ]
        }
      ]
    },
    {
      "cell_type": "code",
      "source": [
        "#Q. while 문을 사용해 1부터 1000까지의 정수중 3과 5의 공배수의 합을 구해보세요\n",
        "total = 0\n",
        "count = 0\n",
        "while count < 1000:\n",
        "    count += 1\n",
        "    if count % 3 == 0 and count % 5 == 0:\n",
        "        total += count\n",
        "\n",
        "print(total)"
      ],
      "metadata": {
        "colab": {
          "base_uri": "https://localhost:8080/"
        },
        "id": "-eOSt1IQVmAn",
        "outputId": "e9e0f367-972d-42eb-d2a6-de27cde1a329"
      },
      "execution_count": null,
      "outputs": [
        {
          "output_type": "stream",
          "name": "stdout",
          "text": [
            "33165\n"
          ]
        }
      ]
    },
    {
      "cell_type": "code",
      "source": [
        "#Q. 현재 시각을 오전과 오후로 구분하는 프로그램을 작성하세요.\n",
        "import datetime\n",
        "import pytz\n",
        "\n",
        "tz = pytz.timezone('Asia/Seoul')\n",
        "\n",
        "now = datetime.datetime.now(tz)\n",
        "now_time = now.hour\n",
        "print(now_time)\n",
        "if now_time < 12:\n",
        "    print(\"오전입니다.\")\n",
        "else:\n",
        "    print(\"오후입니다..\")"
      ],
      "metadata": {
        "colab": {
          "base_uri": "https://localhost:8080/"
        },
        "id": "GcAyd_6BWEXm",
        "outputId": "07bc8199-aa2c-4aa4-fda4-f26afdc18eee"
      },
      "execution_count": null,
      "outputs": [
        {
          "output_type": "stream",
          "name": "stdout",
          "text": [
            "12\n",
            "오후입니다..\n"
          ]
        }
      ]
    },
    {
      "cell_type": "code",
      "source": [
        "#다양한 오류 입력에 대한 해결방안 추가 필요\n",
        "time = input(\"현재 시간을 입력하세요(ex. 15tl 30분): \")\n",
        "\n",
        "if time[2] != '시':\n",
        "    print(\"형식에 맞게 작성해 주세요.\")\n",
        "elif 0 <= int(time.split[0]) < 12:\n",
        "    print(\"오전입니다.\")\n",
        "elif 12 <= int(time.split[0]) < 24:\n",
        "    print(\"오후입니다.\")\n",
        "else:\n",
        "    print(\"시간은 다시 입력해 주세요\")"
      ],
      "metadata": {
        "colab": {
          "base_uri": "https://localhost:8080/",
          "height": 239
        },
        "id": "Wzut-1spyMdS",
        "outputId": "7fde0636-ebba-4368-8994-ee0226921538"
      },
      "execution_count": null,
      "outputs": [
        {
          "name": "stdout",
          "output_type": "stream",
          "text": [
            "현재 시간을 입력하세요(ex. 15tl 30분): 15시\n"
          ]
        },
        {
          "output_type": "error",
          "ename": "TypeError",
          "evalue": "'builtin_function_or_method' object is not subscriptable",
          "traceback": [
            "\u001b[0;31m---------------------------------------------------------------------------\u001b[0m",
            "\u001b[0;31mTypeError\u001b[0m                                 Traceback (most recent call last)",
            "\u001b[0;32m<ipython-input-59-3adf6b783f56>\u001b[0m in \u001b[0;36m<cell line: 4>\u001b[0;34m()\u001b[0m\n\u001b[1;32m      4\u001b[0m \u001b[0;32mif\u001b[0m \u001b[0mtime\u001b[0m\u001b[0;34m[\u001b[0m\u001b[0;36m2\u001b[0m\u001b[0;34m]\u001b[0m \u001b[0;34m!=\u001b[0m \u001b[0;34m'시'\u001b[0m\u001b[0;34m:\u001b[0m\u001b[0;34m\u001b[0m\u001b[0;34m\u001b[0m\u001b[0m\n\u001b[1;32m      5\u001b[0m     \u001b[0mprint\u001b[0m\u001b[0;34m(\u001b[0m\u001b[0;34m\"형식에 맞게 작성해 주세요.\"\u001b[0m\u001b[0;34m)\u001b[0m\u001b[0;34m\u001b[0m\u001b[0;34m\u001b[0m\u001b[0m\n\u001b[0;32m----> 6\u001b[0;31m \u001b[0;32melif\u001b[0m \u001b[0;36m0\u001b[0m \u001b[0;34m<=\u001b[0m \u001b[0mint\u001b[0m\u001b[0;34m(\u001b[0m\u001b[0mtime\u001b[0m\u001b[0;34m.\u001b[0m\u001b[0msplit\u001b[0m\u001b[0;34m[\u001b[0m\u001b[0;36m0\u001b[0m\u001b[0;34m]\u001b[0m\u001b[0;34m)\u001b[0m \u001b[0;34m<\u001b[0m \u001b[0;36m12\u001b[0m\u001b[0;34m:\u001b[0m\u001b[0;34m\u001b[0m\u001b[0;34m\u001b[0m\u001b[0m\n\u001b[0m\u001b[1;32m      7\u001b[0m     \u001b[0mprint\u001b[0m\u001b[0;34m(\u001b[0m\u001b[0;34m\"오전입니다.\"\u001b[0m\u001b[0;34m)\u001b[0m\u001b[0;34m\u001b[0m\u001b[0;34m\u001b[0m\u001b[0m\n\u001b[1;32m      8\u001b[0m \u001b[0;32melif\u001b[0m \u001b[0;36m12\u001b[0m \u001b[0;34m<=\u001b[0m \u001b[0mint\u001b[0m\u001b[0;34m(\u001b[0m\u001b[0mtime\u001b[0m\u001b[0;34m.\u001b[0m\u001b[0msplit\u001b[0m\u001b[0;34m[\u001b[0m\u001b[0;36m0\u001b[0m\u001b[0;34m]\u001b[0m\u001b[0;34m)\u001b[0m \u001b[0;34m<\u001b[0m \u001b[0;36m24\u001b[0m\u001b[0;34m:\u001b[0m\u001b[0;34m\u001b[0m\u001b[0;34m\u001b[0m\u001b[0m\n",
            "\u001b[0;31mTypeError\u001b[0m: 'builtin_function_or_method' object is not subscriptable"
          ]
        }
      ]
    },
    {
      "cell_type": "code",
      "source": [
        "#다양한 오류 입력에 대한 해결방안 추가 필요\n",
        "time = input(\"현재 시간을 입력하세요(ex. 15tl 30분): \")\n",
        "\n",
        "if time[2] != '시':\n",
        "    print(\"형식에 맞게 작성해 주세요.\")\n",
        "elif int(time.split('시')[0]) >0 and int(time.split('시')[0]) < 12:\n",
        "    print(\"오전입니다.\")\n",
        "elif int(time.split('시')[0]) >=12 and int(time.split('시')[0]) < 24:\n",
        "    print(\"오후입니다.\")\n",
        "else:\n",
        "    print(\"시간은 다시 입력해 주세요\")"
      ],
      "metadata": {
        "colab": {
          "base_uri": "https://localhost:8080/",
          "height": 239
        },
        "id": "2_pA1cy_0teU",
        "outputId": "64f4d085-caa4-4cb5-b238-cefe2c1373d7"
      },
      "execution_count": null,
      "outputs": [
        {
          "name": "stdout",
          "output_type": "stream",
          "text": [
            "현재 시간을 입력하세요(ex. 15tl 30분): 5시\n"
          ]
        },
        {
          "output_type": "error",
          "ename": "IndexError",
          "evalue": "string index out of range",
          "traceback": [
            "\u001b[0;31m---------------------------------------------------------------------------\u001b[0m",
            "\u001b[0;31mIndexError\u001b[0m                                Traceback (most recent call last)",
            "\u001b[0;32m<ipython-input-62-2778c73c060e>\u001b[0m in \u001b[0;36m<cell line: 4>\u001b[0;34m()\u001b[0m\n\u001b[1;32m      2\u001b[0m \u001b[0mtime\u001b[0m \u001b[0;34m=\u001b[0m \u001b[0minput\u001b[0m\u001b[0;34m(\u001b[0m\u001b[0;34m\"현재 시간을 입력하세요(ex. 15tl 30분): \"\u001b[0m\u001b[0;34m)\u001b[0m\u001b[0;34m\u001b[0m\u001b[0;34m\u001b[0m\u001b[0m\n\u001b[1;32m      3\u001b[0m \u001b[0;34m\u001b[0m\u001b[0m\n\u001b[0;32m----> 4\u001b[0;31m \u001b[0;32mif\u001b[0m \u001b[0mtime\u001b[0m\u001b[0;34m[\u001b[0m\u001b[0;36m2\u001b[0m\u001b[0;34m]\u001b[0m \u001b[0;34m!=\u001b[0m \u001b[0;34m'시'\u001b[0m\u001b[0;34m:\u001b[0m\u001b[0;34m\u001b[0m\u001b[0;34m\u001b[0m\u001b[0m\n\u001b[0m\u001b[1;32m      5\u001b[0m     \u001b[0mprint\u001b[0m\u001b[0;34m(\u001b[0m\u001b[0;34m\"형식에 맞게 작성해 주세요.\"\u001b[0m\u001b[0;34m)\u001b[0m\u001b[0;34m\u001b[0m\u001b[0;34m\u001b[0m\u001b[0m\n\u001b[1;32m      6\u001b[0m \u001b[0;32melif\u001b[0m \u001b[0mint\u001b[0m\u001b[0;34m(\u001b[0m\u001b[0mtime\u001b[0m\u001b[0;34m.\u001b[0m\u001b[0msplit\u001b[0m\u001b[0;34m(\u001b[0m\u001b[0;34m'시'\u001b[0m\u001b[0;34m)\u001b[0m\u001b[0;34m[\u001b[0m\u001b[0;36m0\u001b[0m\u001b[0;34m]\u001b[0m\u001b[0;34m)\u001b[0m \u001b[0;34m>\u001b[0m\u001b[0;36m0\u001b[0m \u001b[0;32mand\u001b[0m \u001b[0mint\u001b[0m\u001b[0;34m(\u001b[0m\u001b[0mtime\u001b[0m\u001b[0;34m.\u001b[0m\u001b[0msplit\u001b[0m\u001b[0;34m(\u001b[0m\u001b[0;34m'시'\u001b[0m\u001b[0;34m)\u001b[0m\u001b[0;34m[\u001b[0m\u001b[0;36m0\u001b[0m\u001b[0;34m]\u001b[0m\u001b[0;34m)\u001b[0m \u001b[0;34m<\u001b[0m \u001b[0;36m12\u001b[0m\u001b[0;34m:\u001b[0m\u001b[0;34m\u001b[0m\u001b[0;34m\u001b[0m\u001b[0m\n",
            "\u001b[0;31mIndexError\u001b[0m: string index out of range"
          ]
        }
      ]
    },
    {
      "cell_type": "code",
      "source": [
        "#다양한 오류 입력에 대한 해결방안 추가 필요\n",
        "time = input(\"현재 시간을 입력하세요(ex. 15tl 30분): \")\n",
        "\n",
        "if '시' not in time:\n",
        "    print(\"형식에 맞게 작성해 주세요.\")\n",
        "elif int(time.split('시')[0]) >0 and int(time.split('시')[0]) < 12:\n",
        "    print(\"오전입니다.\")\n",
        "elif int(time.split('시')[0]) >=12 and int(time.split('시')[0]) < 24:\n",
        "    print(\"오후입니다.\")\n",
        "else:\n",
        "    print(\"시간은 다시 입력해 주세요\")"
      ],
      "metadata": {
        "colab": {
          "base_uri": "https://localhost:8080/"
        },
        "id": "cnnJVpHg1F8l",
        "outputId": "25170a84-a867-41c1-a6ee-4088653f6855"
      },
      "execution_count": null,
      "outputs": [
        {
          "output_type": "stream",
          "name": "stdout",
          "text": [
            "현재 시간을 입력하세요(ex. 15tl 30분): 1시\n",
            "오전입니다.\n"
          ]
        }
      ]
    },
    {
      "cell_type": "code",
      "source": [
        "fruits = [\"apple\", \"banana\", \"cherry\", \"date\"]\n",
        "\n",
        "removed_fruit = fruits.pop(2)\n",
        "print(removed_fruit)\n",
        "print(fruits)\n",
        "\n",
        "last_fruit = fruits.pop()\n",
        "print(last_fruit)\n",
        "print(fruits)"
      ],
      "metadata": {
        "colab": {
          "base_uri": "https://localhost:8080/"
        },
        "id": "O2WwjDRS17hO",
        "outputId": "55e58b10-fa55-41f1-8cf5-eb0fc9c53613"
      },
      "execution_count": null,
      "outputs": [
        {
          "output_type": "stream",
          "name": "stdout",
          "text": [
            "cherry\n",
            "['apple', 'banana', 'date']\n",
            "date\n",
            "['apple', 'banana']\n"
          ]
        }
      ]
    },
    {
      "cell_type": "code",
      "source": [
        "#Q. 가위 바위 보 게임을 프로그래밍하세요.\n",
        "\n",
        "import random\n",
        "\n",
        "cpu = ['가위', '바위', '보']\n",
        "\n",
        "win = [('가위','바위'),('바위','보'),('보','가위')]\n",
        "\n",
        "while 1:\n",
        "    cpu_select = random.choice(cpu)\n",
        "    human = input(\"무엇을 내시겠습니까? :\")\n",
        "    if cpu_select == human:\n",
        "        print(\"비겼습니다.\")\n",
        "    elif (cpu_select, human) in win:\n",
        "        print(\"이겼습니다.\")\n",
        "    else:\n",
        "        print(\"졌습니다.\")"
      ],
      "metadata": {
        "colab": {
          "base_uri": "https://localhost:8080/",
          "height": 740
        },
        "id": "j7T4aAES3Cvq",
        "outputId": "289f8dc3-8cc1-4114-cdeb-5064f3b33e97"
      },
      "execution_count": null,
      "outputs": [
        {
          "output_type": "stream",
          "name": "stdout",
          "text": [
            "무엇을 내시겠습니까? :가위\n",
            "졌습니다.\n",
            "무엇을 내시겠습니까? :가위\n",
            "비겼습니다.\n",
            "무엇을 내시겠습니까? :가위\n",
            "비겼습니다.\n",
            "무엇을 내시겠습니까? :가위\n",
            "비겼습니다.\n",
            "무엇을 내시겠습니까? :가위\n",
            "졌습니다.\n",
            "무엇을 내시겠습니까? :바위\n",
            "이겼습니다.\n",
            "무엇을 내시겠습니까? :보\n",
            "비겼습니다.\n",
            "무엇을 내시겠습니까? :가위\n",
            "비겼습니다.\n",
            "무엇을 내시겠습니까? :바위\n",
            "졌습니다.\n",
            "무엇을 내시겠습니까? :보\n",
            "이겼습니다.\n"
          ]
        },
        {
          "output_type": "error",
          "ename": "KeyboardInterrupt",
          "evalue": "Interrupted by user",
          "traceback": [
            "\u001b[0;31m---------------------------------------------------------------------------\u001b[0m",
            "\u001b[0;31mKeyboardInterrupt\u001b[0m                         Traceback (most recent call last)",
            "\u001b[0;32m<ipython-input-69-b8e7653b3f5c>\u001b[0m in \u001b[0;36m<cell line: 9>\u001b[0;34m()\u001b[0m\n\u001b[1;32m      9\u001b[0m \u001b[0;32mwhile\u001b[0m \u001b[0;36m1\u001b[0m\u001b[0;34m:\u001b[0m\u001b[0;34m\u001b[0m\u001b[0;34m\u001b[0m\u001b[0m\n\u001b[1;32m     10\u001b[0m     \u001b[0mcpu_select\u001b[0m \u001b[0;34m=\u001b[0m \u001b[0mrandom\u001b[0m\u001b[0;34m.\u001b[0m\u001b[0mchoice\u001b[0m\u001b[0;34m(\u001b[0m\u001b[0mcpu\u001b[0m\u001b[0;34m)\u001b[0m\u001b[0;34m\u001b[0m\u001b[0;34m\u001b[0m\u001b[0m\n\u001b[0;32m---> 11\u001b[0;31m     \u001b[0mhuman\u001b[0m \u001b[0;34m=\u001b[0m \u001b[0minput\u001b[0m\u001b[0;34m(\u001b[0m\u001b[0;34m\"무엇을 내시겠습니까? :\"\u001b[0m\u001b[0;34m)\u001b[0m\u001b[0;34m\u001b[0m\u001b[0;34m\u001b[0m\u001b[0m\n\u001b[0m\u001b[1;32m     12\u001b[0m     \u001b[0;32mif\u001b[0m \u001b[0mcpu_select\u001b[0m \u001b[0;34m==\u001b[0m \u001b[0mhuman\u001b[0m\u001b[0;34m:\u001b[0m\u001b[0;34m\u001b[0m\u001b[0;34m\u001b[0m\u001b[0m\n\u001b[1;32m     13\u001b[0m         \u001b[0mprint\u001b[0m\u001b[0;34m(\u001b[0m\u001b[0;34m\"비겼습니다.\"\u001b[0m\u001b[0;34m)\u001b[0m\u001b[0;34m\u001b[0m\u001b[0;34m\u001b[0m\u001b[0m\n",
            "\u001b[0;32m/usr/local/lib/python3.10/dist-packages/ipykernel/kernelbase.py\u001b[0m in \u001b[0;36mraw_input\u001b[0;34m(self, prompt)\u001b[0m\n\u001b[1;32m    849\u001b[0m                 \u001b[0;34m\"raw_input was called, but this frontend does not support input requests.\"\u001b[0m\u001b[0;34m\u001b[0m\u001b[0;34m\u001b[0m\u001b[0m\n\u001b[1;32m    850\u001b[0m             )\n\u001b[0;32m--> 851\u001b[0;31m         return self._input_request(str(prompt),\n\u001b[0m\u001b[1;32m    852\u001b[0m             \u001b[0mself\u001b[0m\u001b[0;34m.\u001b[0m\u001b[0m_parent_ident\u001b[0m\u001b[0;34m,\u001b[0m\u001b[0;34m\u001b[0m\u001b[0;34m\u001b[0m\u001b[0m\n\u001b[1;32m    853\u001b[0m             \u001b[0mself\u001b[0m\u001b[0;34m.\u001b[0m\u001b[0m_parent_header\u001b[0m\u001b[0;34m,\u001b[0m\u001b[0;34m\u001b[0m\u001b[0;34m\u001b[0m\u001b[0m\n",
            "\u001b[0;32m/usr/local/lib/python3.10/dist-packages/ipykernel/kernelbase.py\u001b[0m in \u001b[0;36m_input_request\u001b[0;34m(self, prompt, ident, parent, password)\u001b[0m\n\u001b[1;32m    893\u001b[0m             \u001b[0;32mexcept\u001b[0m \u001b[0mKeyboardInterrupt\u001b[0m\u001b[0;34m:\u001b[0m\u001b[0;34m\u001b[0m\u001b[0;34m\u001b[0m\u001b[0m\n\u001b[1;32m    894\u001b[0m                 \u001b[0;31m# re-raise KeyboardInterrupt, to truncate traceback\u001b[0m\u001b[0;34m\u001b[0m\u001b[0;34m\u001b[0m\u001b[0m\n\u001b[0;32m--> 895\u001b[0;31m                 \u001b[0;32mraise\u001b[0m \u001b[0mKeyboardInterrupt\u001b[0m\u001b[0;34m(\u001b[0m\u001b[0;34m\"Interrupted by user\"\u001b[0m\u001b[0;34m)\u001b[0m \u001b[0;32mfrom\u001b[0m \u001b[0;32mNone\u001b[0m\u001b[0;34m\u001b[0m\u001b[0;34m\u001b[0m\u001b[0m\n\u001b[0m\u001b[1;32m    896\u001b[0m             \u001b[0;32mexcept\u001b[0m \u001b[0mException\u001b[0m \u001b[0;32mas\u001b[0m \u001b[0me\u001b[0m\u001b[0;34m:\u001b[0m\u001b[0;34m\u001b[0m\u001b[0;34m\u001b[0m\u001b[0m\n\u001b[1;32m    897\u001b[0m                 \u001b[0mself\u001b[0m\u001b[0;34m.\u001b[0m\u001b[0mlog\u001b[0m\u001b[0;34m.\u001b[0m\u001b[0mwarning\u001b[0m\u001b[0;34m(\u001b[0m\u001b[0;34m\"Invalid Message:\"\u001b[0m\u001b[0;34m,\u001b[0m \u001b[0mexc_info\u001b[0m\u001b[0;34m=\u001b[0m\u001b[0;32mTrue\u001b[0m\u001b[0;34m)\u001b[0m\u001b[0;34m\u001b[0m\u001b[0;34m\u001b[0m\u001b[0m\n",
            "\u001b[0;31mKeyboardInterrupt\u001b[0m: Interrupted by user"
          ]
        }
      ]
    },
    {
      "cell_type": "code",
      "source": [
        "#예시\n",
        "import random\n",
        "\n",
        "com_hand = ['가위','바위','보']\n",
        "win_case = {'가위':'바위', '바위':'보', '보':'가위'}\n",
        "win_number = 0\n",
        "\n",
        "while True:\n",
        "    com_select = com_hand[random.randint(0,2)]\n",
        "    you_select = input('가위/바위/보 입력: ')\n",
        "    print(f'컴퓨터는 {com_select}')\n",
        "    if win_case[com_select] == you_select:\n",
        "        win_number += 1\n",
        "        print(f'이겼습니다. 현재 {win_number}승 입니다.')\n",
        "    else:\n",
        "        if com_select == you_select:\n",
        "            print(\"비겼습니다.\")\n",
        "        else:\n",
        "            print(\"졌습니다.\")\n",
        "    if win_number == 3:\n",
        "        break"
      ],
      "metadata": {
        "colab": {
          "base_uri": "https://localhost:8080/"
        },
        "id": "wQ2HOCDsDM6R",
        "outputId": "da8a067d-e856-45a6-9d2b-91657bf79127"
      },
      "execution_count": null,
      "outputs": [
        {
          "output_type": "stream",
          "name": "stdout",
          "text": [
            "가위/바위/보 입력: 가위\n",
            "컴퓨터는 바위\n",
            "졌습니다.\n",
            "가위/바위/보 입력: 가위\n",
            "컴퓨터는 바위\n",
            "졌습니다.\n",
            "가위/바위/보 입력: 가위\n",
            "컴퓨터는 가위\n",
            "비겼습니다.\n",
            "가위/바위/보 입력: 가위\n",
            "컴퓨터는 가위\n",
            "비겼습니다.\n",
            "가위/바위/보 입력: 가위\n",
            "컴퓨터는 보\n",
            "이겼습니다. 현재 1승 입니다.\n",
            "가위/바위/보 입력: 가위\n",
            "컴퓨터는 가위\n",
            "비겼습니다.\n",
            "가위/바위/보 입력: 가위\n",
            "컴퓨터는 보\n",
            "이겼습니다. 현재 2승 입니다.\n",
            "가위/바위/보 입력: 가위\n",
            "컴퓨터는 바위\n",
            "졌습니다.\n",
            "가위/바위/보 입력: 가위\n",
            "컴퓨터는 가위\n",
            "비겼습니다.\n",
            "가위/바위/보 입력: 가위\n",
            "컴퓨터는 바위\n",
            "졌습니다.\n",
            "가위/바위/보 입력: 가위\n",
            "컴퓨터는 바위\n",
            "졌습니다.\n",
            "가위/바위/보 입력: 가위\n",
            "컴퓨터는 보\n",
            "이겼습니다. 현재 3승 입니다.\n"
          ]
        }
      ]
    }
  ]
}