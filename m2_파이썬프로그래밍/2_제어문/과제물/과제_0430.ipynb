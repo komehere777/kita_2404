{
  "nbformat": 4,
  "nbformat_minor": 0,
  "metadata": {
    "colab": {
      "provenance": []
    },
    "kernelspec": {
      "name": "python3",
      "display_name": "Python 3"
    },
    "language_info": {
      "name": "python"
    }
  },
  "cells": [
    {
      "cell_type": "markdown",
      "source": [
        "# Task1_0430. 남녀 파트너 정해주기 프로그램(zip)\n",
        "\n",
        "# 같은 수의 남녀 모임에서 파트너를 랜덤하게 정해주는 프로그램을 만들어 보세요\n",
        "\n",
        "male = ['철수','갑돌','로미오','이몽룡','온돌']\n",
        "\n",
        "female = ['미미','갑순','줄리엣','성춘향','평강']"
      ],
      "metadata": {
        "id": "MH3u9BPoD5bQ"
      }
    },
    {
      "cell_type": "code",
      "source": [
        "import random\n",
        "\n",
        "male = ['철수','갑돌','로미오','이몽룡','온돌']\n",
        "female = ['미미','갑순','줄리엣','성춘향','평강']\n",
        "random.shuffle(male)\n",
        "random.shuffle(female)\n",
        "result = {m:f for m, f in zip(male, female)}\n",
        "print(f\"파트너 결정: {result}\")\n"
      ],
      "metadata": {
        "colab": {
          "base_uri": "https://localhost:8080/"
        },
        "id": "M_1YZRTB0OL4",
        "outputId": "65397724-7e2e-4e6e-d1d0-b55fd83783e0"
      },
      "execution_count": 2,
      "outputs": [
        {
          "output_type": "stream",
          "name": "stdout",
          "text": [
            "파트너 결정: {'로미오': '줄리엣', '이몽룡': '미미', '온돌': '성춘향', '갑돌': '갑순', '철수': '평강'}\n"
          ]
        }
      ]
    },
    {
      "cell_type": "markdown",
      "source": [
        "# Task2_0430. 대문자, 소문자, 숫자를 포함하는 8자리 랜덤 비밀번호를 생성하는 프로그램을 작성하세요."
      ],
      "metadata": {
        "id": "JJhouBC5D5yB"
      }
    },
    {
      "cell_type": "code",
      "source": [
        "import random\n",
        "\n",
        "upper_letter = ['A','B','C','D','E','F','G','H','I','J','K','L','M','N','O','P','Q','R','S','T','U','V','W','X','Y','Z']\n",
        "lower_letter = [i.lower() for i in upper_letter]\n",
        "num = [i for i in range(10)]\n",
        "allocate_num_upper = random.randint(1, 6)\n",
        "allocate_num_lower = random.randint(1,7 - allocate_num_upper)\n",
        "allocate_num_number = 8- allocate_num_upper - allocate_num_lower\n",
        "print(allocate_num_upper, allocate_num_lower, allocate_num_number)\n",
        "password = random.sample(upper_letter, allocate_num_upper) + random.sample(lower_letter, allocate_num_lower)+random.sample(num, allocate_num_number)\n",
        "print(password)\n",
        "random.shuffle(password)\n",
        "print(password)"
      ],
      "metadata": {
        "colab": {
          "base_uri": "https://localhost:8080/"
        },
        "id": "zC-Q3-bb18If",
        "outputId": "95809775-df1d-4e98-d4f5-589740880dc6"
      },
      "execution_count": 22,
      "outputs": [
        {
          "output_type": "stream",
          "name": "stdout",
          "text": [
            "4 2 2\n",
            "['Z', 'C', 'K', 'J', 'i', 'f', 7, 4]\n",
            "[7, 'J', 'f', 'K', 'Z', 'C', 'i', 4]\n"
          ]
        }
      ]
    },
    {
      "cell_type": "markdown",
      "source": [
        "# Task3_0430. 발표자 수를 랜덤하게 출력하는 프로그램을 작성하세요.(발표자 수 입력)\n",
        "\n",
        "kita = ['김성현','황강민','윤호준','류윤선','이상협','박지환','최환욱','서보선','김한결','김도현','김하준',\n",
        "        '김도원','신현진','소지승','이범석','이현석','이명신','박윤경','이도헌','김홍준']"
      ],
      "metadata": {
        "id": "W2JiIKVWD6EK"
      }
    },
    {
      "cell_type": "code",
      "source": [
        "import random\n",
        "\n",
        "kita = ['김성현','황강민','윤호준','류윤선','이상협','박지환','최환욱','서보선','김한결','김도현','김하준', '김도원','신현진','소지승','이범석','이현석','이명신','박윤경','이도헌','김홍준']\n",
        "\n",
        "member_num = int(input(\"발표자 수를 적어주세요: \"))\n",
        "chozen_member = random.sample(kita, member_num)\n",
        "print(chozen_member)"
      ],
      "metadata": {
        "colab": {
          "base_uri": "https://localhost:8080/"
        },
        "id": "-MSDzTXg7SqC",
        "outputId": "3bb42dd0-2de1-4089-9ad8-19837c56e49c"
      },
      "execution_count": 23,
      "outputs": [
        {
          "output_type": "stream",
          "name": "stdout",
          "text": [
            "발표자 수를 적어주세요: 5\n",
            "['소지승', '박윤경', '김한결', '윤호준', '신현진']\n"
          ]
        }
      ]
    },
    {
      "cell_type": "markdown",
      "source": [
        "# Task4_0430. 사용자로부터 숫자를 입력받아 해당 숫자의 구구단을 출력하는 프로그램을 작성하세요."
      ],
      "metadata": {
        "id": "QfoOAH6aD6bi"
      }
    },
    {
      "cell_type": "code",
      "source": [
        "num = int(input(\"원하는 단수를 적어주세요: \"))\n",
        "for i in range(1,10):\n",
        "    print(f\"{num} x {i} = {num * i}\")"
      ],
      "metadata": {
        "colab": {
          "base_uri": "https://localhost:8080/"
        },
        "id": "V5Kxnd1j72dT",
        "outputId": "83b26eeb-ec3f-4287-c048-4a1b1f9a354f"
      },
      "execution_count": 24,
      "outputs": [
        {
          "output_type": "stream",
          "name": "stdout",
          "text": [
            "원하는 단수를 적어주세요: 9\n",
            "9 x 1 = 9\n",
            "9 x 2 = 18\n",
            "9 x 3 = 27\n",
            "9 x 4 = 36\n",
            "9 x 5 = 45\n",
            "9 x 6 = 54\n",
            "9 x 7 = 63\n",
            "9 x 8 = 72\n",
            "9 x 9 = 81\n"
          ]
        }
      ]
    },
    {
      "cell_type": "markdown",
      "source": [
        "# Task5_0430. 사용자로부터 숫자를 입력받아 해당 숫자의 팩토리얼을 계산하세요."
      ],
      "metadata": {
        "id": "hj0K_uGJD6xn"
      }
    },
    {
      "cell_type": "code",
      "source": [
        "num = int(input(\"원하는  숫자를 적어주세요: \"))\n",
        "\n",
        "def factorial(a):\n",
        ""
      ],
      "metadata": {
        "id": "sUvVix608dGH"
      },
      "execution_count": null,
      "outputs": []
    },
    {
      "cell_type": "markdown",
      "source": [
        "# Task6_0430. 0부터 20까지의 숫자 중에서 짝수와 홀수를 분리하여 두 개의 리스트에 저장하세요."
      ],
      "metadata": {
        "id": "nuSg8-VJD7KB"
      }
    },
    {
      "cell_type": "code",
      "source": [
        "list1 = []\n",
        "list2 = []\n",
        "for i in range(21):\n",
        "    if i == 0:\n",
        "        continue\n",
        "    elif i % 2 == 0:\n",
        "        list1.append(i)\n",
        "    else:\n",
        "        list2.append(i)\n",
        "print(list1)\n",
        "print(list2)"
      ],
      "metadata": {
        "colab": {
          "base_uri": "https://localhost:8080/"
        },
        "id": "oxQ6vaXS8wU3",
        "outputId": "70e80ed5-d7e7-4bcc-c7f1-cd59c01b0033"
      },
      "execution_count": 27,
      "outputs": [
        {
          "output_type": "stream",
          "name": "stdout",
          "text": [
            "[2, 4, 6, 8, 10, 12, 14, 16, 18, 20]\n",
            "[1, 3, 5, 7, 9, 11, 13, 15, 17, 19]\n"
          ]
        }
      ]
    },
    {
      "cell_type": "markdown",
      "source": [
        "# Task7_0430. 주어진 리스트에서 최대값을 찾아 출력하세요.\n",
        "\n",
        "numbers = [34,78,2,45,99,23]\n"
      ],
      "metadata": {
        "id": "b1Wt0L3vzdD0"
      }
    },
    {
      "cell_type": "code",
      "source": [
        "numbers = [34,78,2,45,99,23]\n",
        "print(max(numbers))"
      ],
      "metadata": {
        "colab": {
          "base_uri": "https://localhost:8080/"
        },
        "id": "FClyRgjV9rRq",
        "outputId": "8c90a224-69bb-4695-85e3-c7a35fbafd06"
      },
      "execution_count": 30,
      "outputs": [
        {
          "output_type": "stream",
          "name": "stdout",
          "text": [
            "99\n"
          ]
        }
      ]
    },
    {
      "cell_type": "markdown",
      "source": [
        "# Task8_0430.  1부터 10 사이의 임의의 숫자를 맞추는 게임을 만드세요. 사용자가 숫자를 맞출 때까지 입력을 계속 받으며, 정답을 맞추면 게임을 종료하세요. 단, 입력 숫자가 정답보다 큰지 작은지 힌트를 주는 방식으로 코드 작성"
      ],
      "metadata": {
        "id": "AIte-ZOuzdkE"
      }
    },
    {
      "cell_type": "code",
      "source": [
        "import random\n",
        "\n",
        "cpu_num = random.randint(1,10)\n",
        "while 1:\n",
        "    human_num = int(input(\"숫자를 입력하세요: \"))\n",
        "    if cpu_num > human_num:\n",
        "        print(f\"정답은 {human_num}보다 큽니다\")\n",
        "    elif cpu_num < human_num:\n",
        "        print(f\"정답은 {human_num}보다 작습니다\")\n",
        "    else:\n",
        "        print(f\"{human_num}이 정답입니다.\")\n",
        "        break\n",
        ""
      ],
      "metadata": {
        "colab": {
          "base_uri": "https://localhost:8080/"
        },
        "id": "g3N5yfxX95Qe",
        "outputId": "adc63c02-4feb-4e45-aaf8-f4d695938989"
      },
      "execution_count": 34,
      "outputs": [
        {
          "output_type": "stream",
          "name": "stdout",
          "text": [
            "숫자를 입력하세요: 10\n",
            "정답은 10보다 작습니다\n",
            "숫자를 입력하세요: 5\n",
            "정답은 5보다 작습니다\n",
            "숫자를 입력하세요: 1\n",
            "정답은 1보다 큽니다\n",
            "숫자를 입력하세요: 2\n",
            "정답은 2보다 큽니다\n",
            "숫자를 입력하세요: 3\n",
            "3이 정답입니다.\n"
          ]
        }
      ]
    },
    {
      "cell_type": "markdown",
      "source": [
        "# Task9_0430. 태어난 연도를 입력받아 띠를 출력하는 프로그램을 작성하세요."
      ],
      "metadata": {
        "id": "YrkXW8rKzd-e"
      }
    },
    {
      "cell_type": "code",
      "source": [
        "zodiac_list = ['원숭이', '닭', '개','돼지' '쥐','소','호랑이','토끼','용','뱀','말','양']\n",
        "year = int(input(\"태어난 연도를 입력하세요: \"))\n",
        "for i in range(12):\n",
        "    if year % 12 == i:\n",
        "        print(zodiac_list[(i-1)])\n",
        "        print(i)"
      ],
      "metadata": {
        "colab": {
          "base_uri": "https://localhost:8080/"
        },
        "id": "EFYm-B9z_gZ3",
        "outputId": "ca6d77b3-d750-4241-d6f5-6e0a8f379aa2"
      },
      "execution_count": 47,
      "outputs": [
        {
          "output_type": "stream",
          "name": "stdout",
          "text": [
            "태어난 연도를 입력하세요: 1977\n",
            "뱀\n",
            "9\n"
          ]
        }
      ]
    },
    {
      "cell_type": "markdown",
      "source": [
        "# Task10_0430. 아래 사항을 반영하여 커피 자판기 프로그램을 작성하세요.\n",
        "- 시나리오 : 자판기 커피 재고 5잔, 커피 1잔 가격 300원, 재고 범위내에서 300원 이상 돈을 넣으면 거스름돈과 커피를 주고 그렇지 않으면 반환하며 재고가 소진되면 안내멘트 출력\n",
        "- 각 Case별 멘트 출력은 상황에 맞게 창작\n",
        "- while, if ~ elif ~ else 제어문을 사용하여 작성"
      ],
      "metadata": {
        "id": "6mGBBXXezeXw"
      }
    },
    {
      "cell_type": "code",
      "source": [
        "coffee_amount = 5\n",
        "coffee_price = 300\n",
        "pay_sum = 0\n",
        "while 1:\n",
        "\n",
        "    pay = int(input(\"금액을 넣어주세요: \"))\n",
        "    pay_sum += pay\n",
        "    if pay >= 300 or pay_sum >= 300:\n",
        "    # if pay_sum >= 300:\n",
        "        coffee_amount -= 1\n",
        "        print(\"커피가 나옵니다.\")\n",
        "        print(\"커피재고 \", coffee_amount)\n",
        "        pay_sum -= coffee_price\n",
        "        if pay_sum != 0:\n",
        "            print(\"반환금액: \", pay_sum)\n",
        "        pay_sum = 0\n",
        "    elif pay < 300 and pay_sum < 300:\n",
        "\n",
        "        print(\"돈을 더 넣어주세요\")\n",
        "        print(\"자판기에 넣은 금액: \", pay_sum)\n",
        "    if coffee_amount == 0:\n",
        "        print(\"재료가 다 소진되었습니다.\")\n",
        "        break\n",
        ""
      ],
      "metadata": {
        "colab": {
          "base_uri": "https://localhost:8080/"
        },
        "id": "xThZI0fnEczz",
        "outputId": "3d38f855-2f07-4869-f5ce-2bd709727b56"
      },
      "execution_count": 66,
      "outputs": [
        {
          "output_type": "stream",
          "name": "stdout",
          "text": [
            "금액을 넣어주세요: 100\n",
            "돈을 더 넣어주세요\n",
            "자판기에 넣은 금액:  100\n",
            "금액을 넣어주세요: 100\n",
            "돈을 더 넣어주세요\n",
            "자판기에 넣은 금액:  200\n",
            "금액을 넣어주세요: 100\n",
            "커피가 나옵니다.\n",
            "커피재고  4\n",
            "금액을 넣어주세요: 500\n",
            "커피가 나옵니다.\n",
            "커피재고  3\n",
            "반환금액:  200\n",
            "금액을 넣어주세요: 300\n",
            "커피가 나옵니다.\n",
            "커피재고  2\n",
            "금액을 넣어주세요: 300\n",
            "커피가 나옵니다.\n",
            "커피재고  1\n",
            "금액을 넣어주세요: 600\n",
            "커피가 나옵니다.\n",
            "커피재고  0\n",
            "반환금액:  300\n",
            "재료가 다 소진되었습니다.\n"
          ]
        }
      ]
    }
  ]
}