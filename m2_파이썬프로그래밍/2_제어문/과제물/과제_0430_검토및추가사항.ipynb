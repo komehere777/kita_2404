{
  "nbformat": 4,
  "nbformat_minor": 0,
  "metadata": {
    "colab": {
      "provenance": []
    },
    "kernelspec": {
      "name": "python3",
      "display_name": "Python 3"
    },
    "language_info": {
      "name": "python"
    }
  },
  "cells": [
    {
      "cell_type": "markdown",
      "source": [
        "# Task1_0430. 남녀 파트너 정해주기 프로그램(zip)\n",
        "\n",
        "# 같은 수의 남녀 모임에서 파트너를 랜덤하게 정해주는 프로그램을 만들어 보세요\n",
        "\n",
        "male = ['철수','갑돌','로미오','이몽룡','온돌']\n",
        "\n",
        "female = ['미미','갑순','줄리엣','성춘향','평강']"
      ],
      "metadata": {
        "id": "MH3u9BPoD5bQ"
      }
    },
    {
      "cell_type": "code",
      "source": [
        "#딕셔너리로 표현\n",
        "import random\n",
        "\n",
        "male = ['철수','갑돌','로미오','이몽룡','온돌']\n",
        "female = ['미미','갑순','줄리엣','성춘향','평강']\n",
        "random.shuffle(male)\n",
        "random.shuffle(female)\n",
        "result = {m:f for m, f in zip(male, female)}\n",
        "print(f\"파트너 결정: {result}\")"
      ],
      "metadata": {
        "colab": {
          "base_uri": "https://localhost:8080/"
        },
        "id": "M_1YZRTB0OL4",
        "outputId": "65397724-7e2e-4e6e-d1d0-b55fd83783e0"
      },
      "execution_count": null,
      "outputs": [
        {
          "output_type": "stream",
          "name": "stdout",
          "text": [
            "파트너 결정: {'로미오': '줄리엣', '이몽룡': '미미', '온돌': '성춘향', '갑돌': '갑순', '철수': '평강'}\n"
          ]
        }
      ]
    },
    {
      "cell_type": "code",
      "source": [
        "#딕셔너리로 표현\n",
        "import random\n",
        "\n",
        "male = ['철수','갑돌','로미오','이몽룡','온돌']\n",
        "female = ['미미','갑순','줄리엣','성춘향','평강']\n",
        "random.shuffle(male)\n",
        "random.shuffle(female)\n",
        "result = dict(zip(male, female))\n",
        "print(f\"파트너 결정: {result}\")"
      ],
      "metadata": {
        "colab": {
          "base_uri": "https://localhost:8080/"
        },
        "id": "7Rpz7v28pN0g",
        "outputId": "3311a8a3-a0e4-4903-a1a8-e76a56e8a42a"
      },
      "execution_count": 2,
      "outputs": [
        {
          "output_type": "stream",
          "name": "stdout",
          "text": [
            "파트너 결정: {'철수': '미미', '온돌': '성춘향', '이몽룡': '줄리엣', '로미오': '갑순', '갑돌': '평강'}\n"
          ]
        }
      ]
    },
    {
      "cell_type": "code",
      "source": [
        "#리스트로 표\n",
        "import random\n",
        "\n",
        "male = ['철수','갑돌','로미오','이몽룡','온돌']\n",
        "female = ['미미','갑순','줄리엣','성춘향','평강']\n",
        "random.shuffle(male)\n",
        "random.shuffle(female)\n",
        "result = list(zip(male, female))\n",
        "print(f\"파트너 결정: {result}\")"
      ],
      "metadata": {
        "colab": {
          "base_uri": "https://localhost:8080/"
        },
        "id": "8TtDLY-Xo_mC",
        "outputId": "6eb51c45-2d8e-41fc-efec-8c3e2406492b"
      },
      "execution_count": 1,
      "outputs": [
        {
          "output_type": "stream",
          "name": "stdout",
          "text": [
            "파트너 결정: [('로미오', '갑순'), ('온돌', '줄리엣'), ('갑돌', '성춘향'), ('철수', '평강'), ('이몽룡', '미미')]\n"
          ]
        }
      ]
    },
    {
      "cell_type": "code",
      "source": [
        "#함수화\n",
        "import random\n",
        "\n",
        "male = ['철수','갑돌','로미오','이몽룡','온돌']\n",
        "female = ['미미','갑순','줄리엣','성춘향','평강']\n",
        "\n",
        "def random_partner(m, f):\n",
        "    random.shuffle(m)\n",
        "    random.shuffle(f)\n",
        "    result = list(zip(m, f))\n",
        "    return result\n",
        "\n",
        "print(f\"랜덤 파트너 선정: {random_partner(male, female)}\")"
      ],
      "metadata": {
        "colab": {
          "base_uri": "https://localhost:8080/"
        },
        "id": "mkAyLfv-qVQK",
        "outputId": "477f8462-e8d5-4b31-e8ef-63b105b573fe"
      },
      "execution_count": 4,
      "outputs": [
        {
          "output_type": "stream",
          "name": "stdout",
          "text": [
            "랜덤 파트너 선정: [('철수', '평강'), ('온돌', '미미'), ('로미오', '성춘향'), ('갑돌', '갑순'), ('이몽룡', '줄리엣')]\n"
          ]
        }
      ]
    },
    {
      "cell_type": "markdown",
      "source": [
        "# Task2_0430. 대문자, 소문자, 숫자를 포함하는 8자리 랜덤 비밀번호를 생성하는 프로그램을 작성하세요."
      ],
      "metadata": {
        "id": "JJhouBC5D5yB"
      }
    },
    {
      "cell_type": "code",
      "source": [
        "import random\n",
        "\n",
        "upper_letter = ['A','B','C','D','E','F','G','H','I','J','K','L','M','N','O','P','Q','R','S','T','U','V','W','X','Y','Z']\n",
        "lower_letter = [i.lower() for i in upper_letter]\n",
        "num = [i for i in range(10)]\n",
        "allocate_num_upper = random.randint(1, 6)\n",
        "allocate_num_lower = random.randint(1,7 - allocate_num_upper)\n",
        "allocate_num_number = 8- allocate_num_upper - allocate_num_lower\n",
        "print(allocate_num_upper, allocate_num_lower, allocate_num_number)\n",
        "password = random.sample(upper_letter, allocate_num_upper) + random.sample(lower_letter, allocate_num_lower)+random.sample(num, allocate_num_number)\n",
        "print(password)\n",
        "random.shuffle(password)\n",
        "print(password)\n",
        "result = []"
      ],
      "metadata": {
        "colab": {
          "base_uri": "https://localhost:8080/"
        },
        "id": "zC-Q3-bb18If",
        "outputId": "331678f5-f80e-44ba-b08b-441056a84f69"
      },
      "execution_count": 5,
      "outputs": [
        {
          "output_type": "stream",
          "name": "stdout",
          "text": [
            "1 5 2\n",
            "['V', 'v', 'h', 'i', 'z', 'q', 9, 1]\n",
            "['V', 'v', 9, 'i', 1, 'q', 'h', 'z']\n"
          ]
        }
      ]
    },
    {
      "cell_type": "code",
      "source": [
        "#검토 - for문 이용해서 list to string\n",
        "import random\n",
        "\n",
        "upper_letter = ['A','B','C','D','E','F','G','H','I','J','K','L','M','N','O','P','Q','R','S','T','U','V','W','X','Y','Z']\n",
        "lower_letter = [i.lower() for i in upper_letter]\n",
        "num = [i for i in range(10)]\n",
        "allocate_num_upper = random.randint(1, 6)\n",
        "allocate_num_lower = random.randint(1, (7 - allocate_num_upper))\n",
        "allocate_num_number = 8 - allocate_num_upper - allocate_num_lower\n",
        "print(allocate_num_upper, allocate_num_lower, allocate_num_number)\n",
        "password = random.sample(upper_letter, allocate_num_upper) + random.sample(lower_letter, allocate_num_lower)+random.sample(num, allocate_num_number)\n",
        "print(password)\n",
        "random.shuffle(password)\n",
        "print(password)\n",
        "result = ''\n",
        "for i in password:\n",
        "    result += str(i)\n",
        "print(result)"
      ],
      "metadata": {
        "colab": {
          "base_uri": "https://localhost:8080/"
        },
        "id": "YrWgvuzgt00V",
        "outputId": "44f40451-cf1c-45a7-c019-a0f1e7264d2b"
      },
      "execution_count": 6,
      "outputs": [
        {
          "output_type": "stream",
          "name": "stdout",
          "text": [
            "5 2 1\n",
            "['V', 'L', 'M', 'U', 'S', 'n', 'k', 9]\n",
            "['V', 9, 'n', 'S', 'k', 'M', 'L', 'U']\n",
            "V9nSkMLU\n"
          ]
        }
      ]
    },
    {
      "cell_type": "code",
      "source": [
        "#검토 - .join 이용해서 list to string\n",
        "#int 객체는 조인안됨, 스트링으로 변경후 조인\n",
        "#join은 스티링 메소드 .join(리스트)\n",
        "import random\n",
        "\n",
        "upper_letter = ['A','B','C','D','E','F','G','H','I','J','K','L','M','N','O','P','Q','R','S','T','U','V','W','X','Y','Z']\n",
        "lower_letter = [i.lower() for i in upper_letter]\n",
        "num = [i for i in range(10)]\n",
        "allocate_num_upper = random.randint(1, 6)\n",
        "allocate_num_lower = random.randint(1, (7 - allocate_num_upper))\n",
        "allocate_num_number = 8 - allocate_num_upper - allocate_num_lower\n",
        "print(allocate_num_upper, allocate_num_lower, allocate_num_number)\n",
        "password = random.sample(upper_letter, allocate_num_upper) + random.sample(lower_letter, allocate_num_lower)+random.sample(num, allocate_num_number)\n",
        "print(password)\n",
        "random.shuffle(password)\n",
        "print(password)\n",
        "result = ''.join(str(i) for i in password)      #int 객체는 조인안됨, 스트링으로 변경후 조인\n",
        "print(result)"
      ],
      "metadata": {
        "colab": {
          "base_uri": "https://localhost:8080/"
        },
        "id": "WvpZjo76uPa_",
        "outputId": "a2658aea-e55e-4ed4-876f-36a2bbc616ab"
      },
      "execution_count": 9,
      "outputs": [
        {
          "output_type": "stream",
          "name": "stdout",
          "text": [
            "5 2 1\n",
            "['S', 'U', 'J', 'Y', 'K', 's', 'm', 5]\n",
            "['U', 'S', 5, 's', 'J', 'Y', 'm', 'K']\n",
            "US5sJYmK\n"
          ]
        }
      ]
    },
    {
      "cell_type": "code",
      "source": [
        "#대문자 리스트 for문 이용 리스트컴프리헨션 표현, 아스키코드 이용\n",
        "import random\n",
        "\n",
        "upper_letters = [chr(65+i) for i in range(26)]\n",
        "lower_letter = [i.lower() for i in upper_letter]            #소문자는 아스키코드 : 97\n",
        "num = [i for i in range(10)]\n",
        "allocate_num_upper = random.randint(1, 6)\n",
        "allocate_num_lower = random.randint(1, (7 - allocate_num_upper))\n",
        "allocate_num_number = 8 - allocate_num_upper - allocate_num_lower\n",
        "print(allocate_num_upper, allocate_num_lower, allocate_num_number)\n",
        "password = random.sample(upper_letter, allocate_num_upper) + random.sample(lower_letter, allocate_num_lower)+random.sample(num, allocate_num_number)\n",
        "print(password)\n",
        "random.shuffle(password)\n",
        "print(password)\n",
        "result = ''.join(str(i) for i in password)      #int 객체는 조인안됨, 스트링으로 변경후 조인\n",
        "print(result)"
      ],
      "metadata": {
        "colab": {
          "base_uri": "https://localhost:8080/"
        },
        "id": "CDsdPornzUxP",
        "outputId": "519cd930-ee24-4e34-c557-ea0b0a3b048a"
      },
      "execution_count": 10,
      "outputs": [
        {
          "output_type": "stream",
          "name": "stdout",
          "text": [
            "1 4 3\n",
            "['M', 'm', 'h', 'f', 'n', 9, 1, 6]\n",
            "['m', 'f', 9, 'n', 'M', 6, 1, 'h']\n",
            "mf9nM61h\n"
          ]
        }
      ]
    },
    {
      "cell_type": "code",
      "source": [
        "#알파벳 리스트 만들기 - string 모듈 ascii_uppercase, ascii_lowercase\n",
        "#숫자 리스트 만들기 list(range(10))\n",
        "import random\n",
        "from string import ascii_uppercase, ascii_lowercase\n",
        "\n",
        "upper_letters = list(ascii_uppercase)\n",
        "lower_letter = list(ascii_lowercase)\n",
        "num = list(range(10))\n",
        "allocate_num_upper = random.randint(1, 6)\n",
        "allocate_num_lower = random.randint(1, (7 - allocate_num_upper))\n",
        "allocate_num_number = 8 - allocate_num_upper - allocate_num_lower\n",
        "password = random.sample(upper_letters, allocate_num_upper) + random.sample(lower_letter, allocate_num_lower)+random.sample(num, allocate_num_number)\n",
        "random.shuffle(password)\n",
        "result = ''.join(str(i) for i in password)      #int 객체는 조인안됨, 스트링으로 변경후 조인\n",
        "print(result)"
      ],
      "metadata": {
        "colab": {
          "base_uri": "https://localhost:8080/"
        },
        "id": "YzYjdXmGz2Fg",
        "outputId": "6a9b2838-3538-44c9-8ef2-948b40dc53dd"
      },
      "execution_count": 12,
      "outputs": [
        {
          "output_type": "stream",
          "name": "stdout",
          "text": [
            "FJeVg9OB\n"
          ]
        }
      ]
    },
    {
      "cell_type": "code",
      "source": [
        "#함수\n",
        "import random\n",
        "from string import ascii_uppercase, ascii_lowercase\n",
        "\n",
        "def password_generator():\n",
        "    upper_letters = list(ascii_uppercase)\n",
        "    lower_letter = list(ascii_lowercase)\n",
        "    num = list(range(10))\n",
        "    allocate_num_upper = random.randint(1, 6)   #최소1개 최대 6개 선정\n",
        "    allocate_num_lower = random.randint(1, (7 - allocate_num_upper))\n",
        "    allocate_num_number = 8 - allocate_num_upper - allocate_num_lower\n",
        "    password = random.sample(upper_letters, allocate_num_upper) + random.sample(lower_letter, allocate_num_lower) + random.sample(num, allocate_num_number)\n",
        "    random.shuffle(password)\n",
        "    result = ''.join(str(i) for i in password)\n",
        "    return result\n",
        "\n",
        "print(password_generator())"
      ],
      "metadata": {
        "colab": {
          "base_uri": "https://localhost:8080/"
        },
        "id": "7IhrLkuV3779",
        "outputId": "feb53506-9303-43c7-c6e3-f8bd06f87374"
      },
      "execution_count": 15,
      "outputs": [
        {
          "output_type": "stream",
          "name": "stdout",
          "text": [
            "6oyDcq1W\n"
          ]
        }
      ]
    },
    {
      "cell_type": "markdown",
      "source": [
        "# Task3_0430. 발표자 수를 랜덤하게 출력하는 프로그램을 작성하세요.(발표자 수 입력)\n",
        "\n",
        "kita = ['김성현','황강민','윤호준','류윤선','이상협','박지환','최환욱','서보선','김한결','김도현','김하준',\n",
        "        '김도원','신현진','소지승','이범석','이현석','이명신','박윤경','이도헌','김홍준']"
      ],
      "metadata": {
        "id": "W2JiIKVWD6EK"
      }
    },
    {
      "cell_type": "code",
      "source": [
        "import random\n",
        "\n",
        "kita = ['김성현','황강민','윤호준','류윤선','이상협','박지환','최환욱','서보선','김한결','김도현','김하준', '김도원','신현진','소지승','이범석','이현석','이명신','박윤경','이도헌','김홍준']\n",
        "\n",
        "member_num = int(input(\"발표자 수를 적어주세요: \"))\n",
        "chozen_member = random.sample(kita, member_num)\n",
        "print(f\"발표자는 {chozen_member} 입니다.\")"
      ],
      "metadata": {
        "colab": {
          "base_uri": "https://localhost:8080/"
        },
        "id": "-MSDzTXg7SqC",
        "outputId": "cfdafd79-bb43-4532-eb94-bd467d87e3ba"
      },
      "execution_count": 16,
      "outputs": [
        {
          "output_type": "stream",
          "name": "stdout",
          "text": [
            "발표자 수를 적어주세요: 7\n",
            "발표자는 ['최환욱', '김한결', '이도헌', '김도원', '이상협', '이현석', '소지승'] 입니다.\n"
          ]
        }
      ]
    },
    {
      "cell_type": "code",
      "source": [
        "#검토 - 1이상의 숫자입력, while문 사용\n",
        "import random\n",
        "\n",
        "kita = ['김성현','황강민','윤호준','류윤선','이상협','박지환','최환욱','서보선','김한결','김도현','김하준', '김도원','신현진','소지승','이범석','이현석','이명신','박윤경','이도헌','김홍준']\n",
        "while 1:\n",
        "    member_num = int(input(\"발표자 수를 적어주세요: \"))\n",
        "    if member_num <= 0:\n",
        "        print(\"1이상의 숫자로 입력하세요.\")\n",
        "    else:\n",
        "        selected_member = random.sample(kita, member_num)\n",
        "        print(f\"발표자는 {selected_member} 입니다.\")\n",
        "        break"
      ],
      "metadata": {
        "colab": {
          "base_uri": "https://localhost:8080/"
        },
        "id": "obYJYVy77pbE",
        "outputId": "3a91c659-c592-4edd-9af7-8f9e31180619"
      },
      "execution_count": 17,
      "outputs": [
        {
          "output_type": "stream",
          "name": "stdout",
          "text": [
            "발표자 수를 적어주세요: -1\n",
            "1이상의 숫자로 입력하세요.\n",
            "발표자 수를 적어주세요: 5\n",
            "발표자는 ['이명신', '윤호준', '김성현', '김도현', '이범석'] 입니다.\n"
          ]
        }
      ]
    },
    {
      "cell_type": "markdown",
      "source": [
        "# Task4_0430. 사용자로부터 숫자를 입력받아 해당 숫자의 구구단을 출력하는 프로그램을 작성하세요."
      ],
      "metadata": {
        "id": "QfoOAH6aD6bi"
      }
    },
    {
      "cell_type": "code",
      "source": [
        "num = int(input(\"원하는 단수를 적어주세요: \"))\n",
        "for i in range(1,10):\n",
        "    print(f\"{num} x {i} = {num * i}\")"
      ],
      "metadata": {
        "colab": {
          "base_uri": "https://localhost:8080/"
        },
        "id": "V5Kxnd1j72dT",
        "outputId": "83b26eeb-ec3f-4287-c048-4a1b1f9a354f"
      },
      "execution_count": null,
      "outputs": [
        {
          "output_type": "stream",
          "name": "stdout",
          "text": [
            "원하는 단수를 적어주세요: 9\n",
            "9 x 1 = 9\n",
            "9 x 2 = 18\n",
            "9 x 3 = 27\n",
            "9 x 4 = 36\n",
            "9 x 5 = 45\n",
            "9 x 6 = 54\n",
            "9 x 7 = 63\n",
            "9 x 8 = 72\n",
            "9 x 9 = 81\n"
          ]
        }
      ]
    },
    {
      "cell_type": "markdown",
      "source": [
        "# Task5_0430. 사용자로부터 숫자를 입력받아 해당 숫자의 팩토리얼을 계산하세요."
      ],
      "metadata": {
        "id": "hj0K_uGJD6xn"
      }
    },
    {
      "cell_type": "code",
      "source": [
        "num = int(input(\"원하는  숫자를 적어주세요: \"))\n",
        "num_list = list(range(1, num + 1))\n",
        "result = 1\n",
        "for i in num_list:\n",
        "    result *= i\n",
        "print(result)"
      ],
      "metadata": {
        "id": "sUvVix608dGH"
      },
      "execution_count": null,
      "outputs": []
    },
    {
      "cell_type": "markdown",
      "source": [
        "팩토리얼 함수 - 재귀\n",
        "\n",
        "https://ko.khanacademy.org/computing/computer-science/algorithms/recursive-algorithms/a/recursive-factorial"
      ],
      "metadata": {
        "id": "EF53pOYlBVia"
      }
    },
    {
      "cell_type": "code",
      "source": [
        "def factorial(i):\n",
        "    if i <= 1:\n",
        "        return 1\n",
        "    else:\n",
        "        return i * factorial(i-1)\n",
        "\n",
        "print(factorial(5))"
      ],
      "metadata": {
        "colab": {
          "base_uri": "https://localhost:8080/"
        },
        "id": "gs9MVZJ7C6ZE",
        "outputId": "21141d56-648a-48f9-fb99-35aeb4501222"
      },
      "execution_count": 18,
      "outputs": [
        {
          "output_type": "stream",
          "name": "stdout",
          "text": [
            "120\n"
          ]
        }
      ]
    },
    {
      "cell_type": "markdown",
      "source": [
        "# Task6_0430. 0부터 20까지의 숫자 중에서 짝수와 홀수를 분리하여 두 개의 리스트에 저장하세요."
      ],
      "metadata": {
        "id": "nuSg8-VJD7KB"
      }
    },
    {
      "cell_type": "code",
      "source": [
        "list1 = []\n",
        "list2 = []\n",
        "for i in range(21):\n",
        "    if i == 0:\n",
        "        continue\n",
        "    elif i % 2 == 0:\n",
        "        list1.append(i)\n",
        "    else:\n",
        "        list2.append(i)\n",
        "print(list1)\n",
        "print(list2)"
      ],
      "metadata": {
        "colab": {
          "base_uri": "https://localhost:8080/"
        },
        "id": "oxQ6vaXS8wU3",
        "outputId": "70e80ed5-d7e7-4bcc-c7f1-cd59c01b0033"
      },
      "execution_count": null,
      "outputs": [
        {
          "output_type": "stream",
          "name": "stdout",
          "text": [
            "[2, 4, 6, 8, 10, 12, 14, 16, 18, 20]\n",
            "[1, 3, 5, 7, 9, 11, 13, 15, 17, 19]\n"
          ]
        }
      ]
    },
    {
      "cell_type": "markdown",
      "source": [
        "# Task7_0430. 주어진 리스트에서 최대값을 찾아 출력하세요.\n",
        "\n",
        "numbers = [34,78,2,45,99,23]\n"
      ],
      "metadata": {
        "id": "b1Wt0L3vzdD0"
      }
    },
    {
      "cell_type": "code",
      "source": [
        "numbers = [34,78,2,45,99,23]\n",
        "print(max(numbers))"
      ],
      "metadata": {
        "colab": {
          "base_uri": "https://localhost:8080/"
        },
        "id": "FClyRgjV9rRq",
        "outputId": "8c90a224-69bb-4695-85e3-c7a35fbafd06"
      },
      "execution_count": null,
      "outputs": [
        {
          "output_type": "stream",
          "name": "stdout",
          "text": [
            "99\n"
          ]
        }
      ]
    },
    {
      "cell_type": "code",
      "source": [
        "#함수화\n",
        "def find_max(num_list):\n",
        "    max_num = num_list[0]\n",
        "    for i in num_list:\n",
        "        if i > max_num:\n",
        "            max_num = i\n",
        "    return max_num\n",
        "\n",
        "numbers = [34,78,2,45,99,23]\n",
        "print(find_max(numbers))"
      ],
      "metadata": {
        "id": "2DSQF_2tH1w3"
      },
      "execution_count": null,
      "outputs": []
    },
    {
      "cell_type": "markdown",
      "source": [
        "# Task8_0430.  1부터 10 사이의 임의의 숫자를 맞추는 게임을 만드세요. 사용자가 숫자를 맞출 때까지 입력을 계속 받으며, 정답을 맞추면 게임을 종료하세요. 단, 입력 숫자가 정답보다 큰지 작은지 힌트를 주는 방식으로 코드 작성"
      ],
      "metadata": {
        "id": "AIte-ZOuzdkE"
      }
    },
    {
      "cell_type": "code",
      "source": [
        "import random\n",
        "\n",
        "cpu_num = random.randint(1,10)\n",
        "print(\"1부터 10사이의 숫자를 맞추는 게임을 시작합니다!\")\n",
        "while 1:\n",
        "    human_num = int(input(\"숫자를 입력하세요: \"))\n",
        "    if cpu_num > human_num:\n",
        "        print(f\"정답은 {human_num}보다 큽니다\\n\")\n",
        "    elif cpu_num < human_num:\n",
        "        print(f\"정답은 {human_num}보다 작습니다\\n\")\n",
        "    else:\n",
        "        print(f\"{human_num}이 정답입니다.\")\n",
        "        break\n"
      ],
      "metadata": {
        "colab": {
          "base_uri": "https://localhost:8080/"
        },
        "id": "g3N5yfxX95Qe",
        "outputId": "6f2c5353-5e0d-429d-d70c-ada2395b67fe"
      },
      "execution_count": 19,
      "outputs": [
        {
          "output_type": "stream",
          "name": "stdout",
          "text": [
            "1부터 10사이의 숫자를 맞추는 게임을 시작합니다.!\n",
            "숫자를 입력하세요: 10\n",
            "정답은 10보다 작습니다\n",
            "\n",
            "숫자를 입력하세요: 5\n",
            "정답은 5보다 큽니다\n",
            "\n",
            "숫자를 입력하세요: 7\n",
            "정답은 7보다 작습니다\n",
            "\n",
            "숫자를 입력하세요: 6\n",
            "6이 정답입니다.\n"
          ]
        }
      ]
    },
    {
      "cell_type": "code",
      "source": [
        "#시도 횟수 표현\n",
        "import random\n",
        "\n",
        "cpu_num = random.randint(1,10)\n",
        "print(\"1부터 10사이의 숫자를 맞추는 게임을 시작합니다!\")\n",
        "count = 0\n",
        "while 1:\n",
        "    count += 1\n",
        "    print(f\"{count}번째 시도입니다.\")\n",
        "    human_num = int(input(\"숫자를 입력하세요: \"))\n",
        "    if cpu_num > human_num:\n",
        "        print(f\"정답은 {human_num}보다 큽니다\\n\")\n",
        "    elif cpu_num < human_num:\n",
        "        print(f\"정답은 {human_num}보다 작습니다\\n\")\n",
        "    else:\n",
        "        print(f\"{human_num}이 정답입니다.\")\n",
        "        print(f\"축하합니다. {count}번 시도만에 맞췄습니다.\")\n",
        "        break\n",
        "if count > 5:\n",
        "    print(\"분발하세요\")\n",
        "elif 5 >= count > 2:\n",
        "    print(\"잘하셨습니다.\")\n",
        "else:\n",
        "    print(\"천재입니다.\")"
      ],
      "metadata": {
        "colab": {
          "base_uri": "https://localhost:8080/"
        },
        "id": "9AjzXkRXJegC",
        "outputId": "4b2b5b92-682f-4c04-89da-aa4124384796"
      },
      "execution_count": 22,
      "outputs": [
        {
          "output_type": "stream",
          "name": "stdout",
          "text": [
            "1부터 10사이의 숫자를 맞추는 게임을 시작합니다!\n",
            "1번째 시도입니다.\n",
            "숫자를 입력하세요: 10\n",
            "정답은 10보다 작습니다\n",
            "\n",
            "2번째 시도입니다.\n",
            "숫자를 입력하세요: 5\n",
            "정답은 5보다 큽니다\n",
            "\n",
            "3번째 시도입니다.\n",
            "숫자를 입력하세요: 7\n",
            "정답은 7보다 큽니다\n",
            "\n",
            "4번째 시도입니다.\n",
            "숫자를 입력하세요: 8\n",
            "8이 정답입니다.\n",
            "축하합니다. 4번 시도만에 맞췄습니다.\n",
            "잘하셨습니다.\n"
          ]
        }
      ]
    },
    {
      "cell_type": "markdown",
      "source": [
        "# Task9_0430. 태어난 연도를 입력받아 띠를 출력하는 프로그램을 작성하세요."
      ],
      "metadata": {
        "id": "YrkXW8rKzd-e"
      }
    },
    {
      "cell_type": "code",
      "source": [
        "#리스트를 이동 수정\n",
        "zodiac_list = ['원숭이', '닭', '개','돼지', '쥐','소','호랑이','토끼','용','뱀','말', '양']\n",
        "year = int(input(\"태어난 연도를 입력하세요: \"))\n",
        "for i in range(12):\n",
        "    if year % 12 == i:\n",
        "        print(zodiac_list[(i)])"
      ],
      "metadata": {
        "colab": {
          "base_uri": "https://localhost:8080/"
        },
        "id": "EFYm-B9z_gZ3",
        "outputId": "5bebb44e-fa0e-4834-b48b-f60abec524fd"
      },
      "execution_count": 29,
      "outputs": [
        {
          "output_type": "stream",
          "name": "stdout",
          "text": [
            "태어난 연도를 입력하세요: 2020\n",
            "쥐\n"
          ]
        }
      ]
    },
    {
      "cell_type": "markdown",
      "source": [
        "# Task10_0430. 아래 사항을 반영하여 커피 자판기 프로그램을 작성하세요.\n",
        "- 시나리오 : 자판기 커피 재고 5잔, 커피 1잔 가격 300원, 재고 범위내에서 300원 이상 돈을 넣으면 거스름돈과 커피를 주고 그렇지 않으면 반환하며 재고가 소진되면 안내멘트 출력\n",
        "- 각 Case별 멘트 출력은 상황에 맞게 창작\n",
        "- while, if ~ elif ~ else 제어문을 사용하여 작성"
      ],
      "metadata": {
        "id": "6mGBBXXezeXw"
      }
    },
    {
      "cell_type": "code",
      "source": [
        "coffee_amount = 5\n",
        "coffee_price = 300\n",
        "pay_sum = 0\n",
        "while 1:\n",
        "\n",
        "    pay = int(input(\"금액을 넣어주세요: \"))\n",
        "    pay_sum += pay\n",
        "    if pay >= 300 or pay_sum >= 300:\n",
        "    # if pay_sum >= 300:\n",
        "        coffee_amount -= 1\n",
        "        print(\"커피가 나옵니다.\")\n",
        "        print(\"커피재고 \", coffee_amount)\n",
        "        pay_sum -= coffee_price\n",
        "        if pay_sum != 0:\n",
        "            print(\"반환금액: \", pay_sum)\n",
        "        pay_sum = 0\n",
        "    elif pay < 300 and pay_sum < 300:\n",
        "\n",
        "        print(\"돈을 더 넣어주세요\")\n",
        "        print(\"자판기에 넣은 금액: \", pay_sum)\n",
        "    if coffee_amount == 0:\n",
        "        print(\"재료가 다 소진되었습니다.\")\n",
        "        break\n"
      ],
      "metadata": {
        "colab": {
          "base_uri": "https://localhost:8080/"
        },
        "id": "xThZI0fnEczz",
        "outputId": "3d38f855-2f07-4869-f5ce-2bd709727b56"
      },
      "execution_count": null,
      "outputs": [
        {
          "output_type": "stream",
          "name": "stdout",
          "text": [
            "금액을 넣어주세요: 100\n",
            "돈을 더 넣어주세요\n",
            "자판기에 넣은 금액:  100\n",
            "금액을 넣어주세요: 100\n",
            "돈을 더 넣어주세요\n",
            "자판기에 넣은 금액:  200\n",
            "금액을 넣어주세요: 100\n",
            "커피가 나옵니다.\n",
            "커피재고  4\n",
            "금액을 넣어주세요: 500\n",
            "커피가 나옵니다.\n",
            "커피재고  3\n",
            "반환금액:  200\n",
            "금액을 넣어주세요: 300\n",
            "커피가 나옵니다.\n",
            "커피재고  2\n",
            "금액을 넣어주세요: 300\n",
            "커피가 나옵니다.\n",
            "커피재고  1\n",
            "금액을 넣어주세요: 600\n",
            "커피가 나옵니다.\n",
            "커피재고  0\n",
            "반환금액:  300\n",
            "재료가 다 소진되었습니다.\n"
          ]
        }
      ]
    },
    {
      "cell_type": "code",
      "source": [
        "#안내멘트 수정\n",
        "coffee_amount = 5\n",
        "coffee_price = 300\n",
        "pay_sum = 0\n",
        "while 1:\n",
        "\n",
        "    pay = int(input(\"\\n돈을 넣어주세요: \"))\n",
        "    pay_sum += pay\n",
        "    if pay >= 300 or pay_sum >= 300:\n",
        "        coffee_amount -= 1\n",
        "        print(\"커피가 나옵니다. 잠시만 기다려주세요.\\n커피가 나왔습니다.\")\n",
        "        #print(\"커피재고 \", coffee_amount)\n",
        "        pay_sum -= coffee_price\n",
        "        if pay_sum != 0:\n",
        "            print(f\"거스름돈 {pay_sum}원을 반환합니다. 짤그랑~\")\n",
        "        pay_sum = 0\n",
        "    elif pay < 300 and pay_sum < 300:\n",
        "        print(\"금액이 부족합니다.\")\n",
        "        print(\"돈을 더 넣어주세요\")\n",
        "        print(\"자판기에 넣은 금액: \", pay_sum)\n",
        "    if coffee_amount == 0:\n",
        "        print(\"재료가 다 소진되었습니다. 재고보충을 위해 기계를 정지합니다.\")\n",
        "        break\n"
      ],
      "metadata": {
        "colab": {
          "base_uri": "https://localhost:8080/"
        },
        "id": "7SbnJEAoPvaR",
        "outputId": "2d680108-a002-4493-9bf9-040952238989"
      },
      "execution_count": 30,
      "outputs": [
        {
          "output_type": "stream",
          "name": "stdout",
          "text": [
            "\n",
            "돈을 넣어주세요: 200\n",
            "금액이 부족합니다.\n",
            "돈을 더 넣어주세요\n",
            "자판기에 넣은 금액:  200\n",
            "\n",
            "돈을 넣어주세요: 100\n",
            "커피가 나옵니다. 잠시만 기다려주세요.\n",
            "커피가 나왔습니다.\n",
            "\n",
            "돈을 넣어주세요: 100\n",
            "금액이 부족합니다.\n",
            "돈을 더 넣어주세요\n",
            "자판기에 넣은 금액:  100\n",
            "\n",
            "돈을 넣어주세요: 250\n",
            "커피가 나옵니다. 잠시만 기다려주세요.\n",
            "커피가 나왔습니다.\n",
            "거스름돈 50원을 반환합니다. 짤그랑~\n",
            "\n",
            "돈을 넣어주세요: 300\n",
            "커피가 나옵니다. 잠시만 기다려주세요.\n",
            "커피가 나왔습니다.\n",
            "\n",
            "돈을 넣어주세요: 400\n",
            "커피가 나옵니다. 잠시만 기다려주세요.\n",
            "커피가 나왔습니다.\n",
            "거스름돈 100원을 반환합니다. 짤그랑~\n",
            "\n",
            "돈을 넣어주세요: 500\n",
            "커피가 나옵니다. 잠시만 기다려주세요.\n",
            "커피가 나왔습니다.\n",
            "거스름돈 200원을 반환합니다. 짤그랑~\n",
            "재료가 다 소진되었습니다. 재고보충을 위해 기계를 정지합니다.\n"
          ]
        }
      ]
    }
  ]
}