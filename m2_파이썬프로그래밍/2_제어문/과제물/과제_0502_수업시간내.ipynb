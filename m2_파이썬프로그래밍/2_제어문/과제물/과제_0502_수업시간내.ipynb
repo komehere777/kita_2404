{
  "nbformat": 4,
  "nbformat_minor": 0,
  "metadata": {
    "colab": {
      "provenance": []
    },
    "kernelspec": {
      "name": "python3",
      "display_name": "Python 3"
    },
    "language_info": {
      "name": "python"
    }
  },
  "cells": [
    {
      "cell_type": "markdown",
      "source": [
        "## Task1_0502. 짝수와 짝수를 입력하면 곱한 값을 출력하고 홀수와 홀수를 입력하면 덧셈 값을 출력하고 그외는 다시 입력하라는 메시지를 출력하세요."
      ],
      "metadata": {
        "id": "-x6u2xgx1_IN"
      }
    },
    {
      "cell_type": "code",
      "execution_count": 3,
      "metadata": {
        "colab": {
          "base_uri": "https://localhost:8080/"
        },
        "id": "RP3NQgF-Pu8m",
        "outputId": "81f1eb00-44cb-4eec-8aaa-b74e1da5c69c"
      },
      "outputs": [
        {
          "output_type": "stream",
          "name": "stdout",
          "text": [
            "숫자를 입력하세요: (ex. 10 10 공백으로 구분)5 5\n",
            "10\n"
          ]
        }
      ],
      "source": [
        "nums = input(\"숫자를 입력하세요: (ex. 10 10 공백으로 구분)\")\n",
        "num1 = int(nums.split(' ')[0])\n",
        "num2 = int(nums.split(' ')[1])\n",
        "if num1 % 2 == 0 and num2 % 2 == 0:\n",
        "    print(num1 * num2)\n",
        "elif num1 % 2 == 1 and num2 % 2 == 1:\n",
        "    print(num1 + num2)\n",
        "else:\n",
        "    print(\"다시 입력하세요.\")"
      ]
    },
    {
      "cell_type": "markdown",
      "source": [
        "Task2_0502. 현재 계절 구분 프로그램\n",
        "- 시나리오 : 3 ~ 5월은 봄, 6 ~ 8월은 여름, 9 ~ 11월은 가을, 12 ~ 2월은 겨울로 구분. 지금 계절을 알려주는 프로그램\n",
        "- 각 계절별 출력 멘트는 계절에 맞게 창작\n",
        "- if 조건문으로 datetime 모듈을 import해서 datetime.now 함수를 사용해서 작성"
      ],
      "metadata": {
        "id": "uiirItVn1_9j"
      }
    },
    {
      "cell_type": "code",
      "source": [
        "import datetime\n",
        "\n",
        "now = datetime.datetime.now()\n",
        "month = now.month\n",
        "print(month)\n",
        "if 3 <= month <= 5:\n",
        "    print(\"지금은 봄입니다.\")\n",
        "elif 6 <= month <= 8:\n",
        "    print(\"지금은 여름입니다.\")\n",
        "elif 9 <= month <= 11:\n",
        "    print(\"지금은 가을입니다.\")\n",
        "else:\n",
        "    print(\"지금은 겨울입니다.\")"
      ],
      "metadata": {
        "colab": {
          "base_uri": "https://localhost:8080/"
        },
        "id": "TM94gz562ATr",
        "outputId": "356578a2-6350-481c-ccac-505475bf143b"
      },
      "execution_count": 13,
      "outputs": [
        {
          "output_type": "stream",
          "name": "stdout",
          "text": [
            "5\n",
            "지금은 봄입니다.\n"
          ]
        }
      ]
    },
    {
      "cell_type": "markdown",
      "source": [
        "Task3_0502. 1부터 99까지 아래와 같이 2개의 수를 곱해서 가장 큰 수를 구하세요.\n",
        "\n",
        "`1*99, 2*98 ...99*1`"
      ],
      "metadata": {
        "id": "vn9VMtVY2AiE"
      }
    },
    {
      "cell_type": "code",
      "source": [
        "result = [i*(100-i) for i in range(1, 100)]\n",
        "print(result)\n",
        "print(max(result))"
      ],
      "metadata": {
        "colab": {
          "base_uri": "https://localhost:8080/"
        },
        "id": "E-qLSZJx2BBQ",
        "outputId": "055375f2-819f-4803-a974-84bdb1429bd1"
      },
      "execution_count": 15,
      "outputs": [
        {
          "output_type": "stream",
          "name": "stdout",
          "text": [
            "[99, 196, 291, 384, 475, 564, 651, 736, 819, 900, 979, 1056, 1131, 1204, 1275, 1344, 1411, 1476, 1539, 1600, 1659, 1716, 1771, 1824, 1875, 1924, 1971, 2016, 2059, 2100, 2139, 2176, 2211, 2244, 2275, 2304, 2331, 2356, 2379, 2400, 2419, 2436, 2451, 2464, 2475, 2484, 2491, 2496, 2499, 2500, 2499, 2496, 2491, 2484, 2475, 2464, 2451, 2436, 2419, 2400, 2379, 2356, 2331, 2304, 2275, 2244, 2211, 2176, 2139, 2100, 2059, 2016, 1971, 1924, 1875, 1824, 1771, 1716, 1659, 1600, 1539, 1476, 1411, 1344, 1275, 1204, 1131, 1056, 979, 900, 819, 736, 651, 564, 475, 384, 291, 196, 99]\n",
            "2500\n"
          ]
        }
      ]
    },
    {
      "cell_type": "markdown",
      "source": [
        "Task4_0502. [    ]을 채워서 아래의 출력과 같이 출력하세요."
      ],
      "metadata": {
        "id": "6-AfP8J22BZv"
      }
    },
    {
      "cell_type": "code",
      "source": [
        "numbers = [1,2,3,4,5,6,7,8,9]\n",
        "output = [[], [], []]\n",
        "\n",
        "\n",
        "# [[1,4,7],[2,5,8],[3,6,9]]"
      ],
      "metadata": {
        "id": "ymJU82xX2Bry"
      },
      "execution_count": null,
      "outputs": []
    },
    {
      "cell_type": "code",
      "source": [
        "numbers = [1,2,3,4,5,6,7,8,9]\n",
        "output = [[],[],[]]\n",
        "for i in numbers:\n",
        "    if i % 3 == 1:\n",
        "        output[0].append(i)\n",
        "    elif i % 3 == 2:\n",
        "        output[1].append(i)\n",
        "    else:\n",
        "        output[2].append(i)\n",
        "print(output)"
      ],
      "metadata": {
        "colab": {
          "base_uri": "https://localhost:8080/"
        },
        "id": "11ZRAkhx6K0Y",
        "outputId": "08dca602-d321-466f-eb9f-b6a37e837474"
      },
      "execution_count": 18,
      "outputs": [
        {
          "output_type": "stream",
          "name": "stdout",
          "text": [
            "[[1, 4, 7], [2, 5, 8], [3, 6, 9]]\n"
          ]
        }
      ]
    },
    {
      "cell_type": "markdown",
      "source": [
        "Task5_0502. 주어진 리스트에서 중복된 요소를 제거하고, 남은 요소만을 포함하는 새 리스트를 반환합니다. 순서는 유지해야 합니다.\n",
        "\n",
        "input_list = [1, 2, 2, 3, 4, 4, 4, 5, 6, 7, 7]"
      ],
      "metadata": {
        "id": "dsRxU1pE6H74"
      }
    },
    {
      "cell_type": "code",
      "source": [
        "input_list = [1, 2, 2, 3, 4, 4, 4, 5, 6, 7, 7]\n",
        "s = set(input_list)\n",
        "l = list(s)\n",
        "print(l)"
      ],
      "metadata": {
        "colab": {
          "base_uri": "https://localhost:8080/"
        },
        "id": "q1lg1CNi6ITY",
        "outputId": "90c5a122-c56b-4dd3-dca8-a373108b7993"
      },
      "execution_count": 20,
      "outputs": [
        {
          "output_type": "stream",
          "name": "stdout",
          "text": [
            "[1, 2, 3, 4, 5, 6, 7]\n"
          ]
        }
      ]
    },
    {
      "cell_type": "markdown",
      "source": [
        "Task6_0502. 주어진 문자열을 모스 코드로 변환하는 함수를 작성하세요. 공백은 무시하고 알파벳만 변환하세요.\n",
        "\n",
        "input_text = \"Hello world\"\n",
        "\n"
      ],
      "metadata": {
        "id": "WH_-0Dwk6S1L"
      }
    },
    {
      "cell_type": "code",
      "source": [
        "morse_code = {\n",
        "        'A': '.-', 'B': '-...', 'C': '-.-.', 'D': '-..', 'E': '.', 'F': '..-.',\n",
        "        'G': '--.', 'H': '....', 'I': '..', 'J': '.---', 'K': '-.-', 'L': '.-..',\n",
        "        'M': '--', 'N': '-.', 'O': '---', 'P': '.--.', 'Q': '--.-', 'R': '.-.',\n",
        "        'S': '...', 'T': '-', 'U': '..-', 'V': '...-', 'W': '.--', 'X': '-..-',\n",
        "        'Y': '-.--', 'Z': '--..'\n",
        "    }\n",
        "input_txt = \"Helloworld\"\n",
        "input_txt = input_txt.upper()\n",
        "input_list = [i for i in input_txt]\n",
        "print(input_list)\n",
        "result = []\n",
        "for i in input_list:\n",
        "    if i in morse_code.keys():\n",
        "        result.append(morse_code[i])\n",
        "print(result)"
      ],
      "metadata": {
        "colab": {
          "base_uri": "https://localhost:8080/"
        },
        "id": "-cEEdjxM630A",
        "outputId": "9aa57b94-c9d8-4a32-85de-ecd3629c7e81"
      },
      "execution_count": 25,
      "outputs": [
        {
          "output_type": "stream",
          "name": "stdout",
          "text": [
            "['H', 'E', 'L', 'L', 'O', 'W', 'O', 'R', 'L', 'D']\n",
            "['....', '.', '.-..', '.-..', '---', '.--', '---', '.-.', '.-..', '-..']\n"
          ]
        }
      ]
    },
    {
      "cell_type": "code",
      "source": [
        "def transform_morse(morse_code, input_txt):\n",
        "    input_txt = input_txt.upper()\n",
        "    input_list = [i for i in input_txt]\n",
        "    result = []\n",
        "    for i in input_list:\n",
        "        if i in morse_code.keys():\n",
        "            result.append(morse_code[i])\n",
        "    return result\n",
        "\n",
        "morse_code = {\n",
        "        'A': '.-', 'B': '-...', 'C': '-.-.', 'D': '-..', 'E': '.', 'F': '..-.',\n",
        "        'G': '--.', 'H': '....', 'I': '..', 'J': '.---', 'K': '-.-', 'L': '.-..',\n",
        "        'M': '--', 'N': '-.', 'O': '---', 'P': '.--.', 'Q': '--.-', 'R': '.-.',\n",
        "        'S': '...', 'T': '-', 'U': '..-', 'V': '...-', 'W': '.--', 'X': '-..-',\n",
        "        'Y': '-.--', 'Z': '--..'\n",
        "    }\n",
        "input_txt = \"Helloworld\"\n",
        "\n",
        "transform_morse(morse_code, input_txt)"
      ],
      "metadata": {
        "colab": {
          "base_uri": "https://localhost:8080/"
        },
        "id": "nmXOxdrrJ0wM",
        "outputId": "a50f948e-9cce-4339-de8a-49db8a3dba91"
      },
      "execution_count": 26,
      "outputs": [
        {
          "output_type": "execute_result",
          "data": {
            "text/plain": [
              "['....', '.', '.-..', '.-..', '---', '.--', '---', '.-.', '.-..', '-..']"
            ]
          },
          "metadata": {},
          "execution_count": 26
        }
      ]
    },
    {
      "cell_type": "markdown",
      "source": [
        "Task7_0502. 주어진 비대칭 m×n 매트릭스(2차원 리스트)에서, 모든 대각선 상의 합을 계산하는 함수를 작성하세요. 결과는 각 대각선의 합을 리스트로 반환해야 합니다."
      ],
      "metadata": {
        "id": "hT6EDhCr7JAs"
      }
    },
    {
      "cell_type": "code",
      "source": [
        "input_matrix = [\n",
        "    [1, 2, 3],\n",
        "    [4, 5, 6],\n",
        "    [7, 8, 9],\n",
        "    [10, 11, 12]\n",
        "]\n",
        "#답[1,6,15,24,20,12]\n",
        "i = 0\n",
        "j = 0\n",
        "result =[]\n",
        "for idx in range(6):\n",
        "    if i+j == idx:\n",
        "        result.append(input_matrix[i][j])\n",
        "\n",
        "    i += 1\n",
        "print(result)"
      ],
      "metadata": {
        "colab": {
          "base_uri": "https://localhost:8080/",
          "height": 221
        },
        "id": "coxmWNsH7NAO",
        "outputId": "2e9df2e2-c9f8-4882-bd5e-6c2ad232ac20"
      },
      "execution_count": 33,
      "outputs": [
        {
          "output_type": "error",
          "ename": "IndexError",
          "evalue": "list index out of range",
          "traceback": [
            "\u001b[0;31m---------------------------------------------------------------------------\u001b[0m",
            "\u001b[0;31mIndexError\u001b[0m                                Traceback (most recent call last)",
            "\u001b[0;32m<ipython-input-33-60c451453fdd>\u001b[0m in \u001b[0;36m<cell line: 11>\u001b[0;34m()\u001b[0m\n\u001b[1;32m     11\u001b[0m \u001b[0;32mfor\u001b[0m \u001b[0midx\u001b[0m \u001b[0;32min\u001b[0m \u001b[0mrange\u001b[0m\u001b[0;34m(\u001b[0m\u001b[0;36m6\u001b[0m\u001b[0;34m)\u001b[0m\u001b[0;34m:\u001b[0m\u001b[0;34m\u001b[0m\u001b[0;34m\u001b[0m\u001b[0m\n\u001b[1;32m     12\u001b[0m     \u001b[0;32mif\u001b[0m \u001b[0mi\u001b[0m\u001b[0;34m+\u001b[0m\u001b[0mj\u001b[0m \u001b[0;34m==\u001b[0m \u001b[0midx\u001b[0m\u001b[0;34m:\u001b[0m\u001b[0;34m\u001b[0m\u001b[0;34m\u001b[0m\u001b[0m\n\u001b[0;32m---> 13\u001b[0;31m         \u001b[0mresult\u001b[0m\u001b[0;34m.\u001b[0m\u001b[0mappend\u001b[0m\u001b[0;34m(\u001b[0m\u001b[0minput_matrix\u001b[0m\u001b[0;34m[\u001b[0m\u001b[0mi\u001b[0m\u001b[0;34m]\u001b[0m\u001b[0;34m[\u001b[0m\u001b[0mj\u001b[0m\u001b[0;34m]\u001b[0m\u001b[0;34m)\u001b[0m\u001b[0;34m\u001b[0m\u001b[0;34m\u001b[0m\u001b[0m\n\u001b[0m\u001b[1;32m     14\u001b[0m     \u001b[0mi\u001b[0m \u001b[0;34m+=\u001b[0m \u001b[0;36m1\u001b[0m\u001b[0;34m\u001b[0m\u001b[0;34m\u001b[0m\u001b[0m\n\u001b[1;32m     15\u001b[0m \u001b[0mprint\u001b[0m\u001b[0;34m(\u001b[0m\u001b[0mresult\u001b[0m\u001b[0;34m)\u001b[0m\u001b[0;34m\u001b[0m\u001b[0;34m\u001b[0m\u001b[0m\n",
            "\u001b[0;31mIndexError\u001b[0m: list index out of range"
          ]
        }
      ]
    },
    {
      "cell_type": "code",
      "source": [
        "input_matrix = [\n",
        "    [1, 2, 3],\n",
        "    [4, 5, 6],\n",
        "    [7, 8, 9],\n",
        "    [10, 11, 12]\n",
        "]\n",
        "i = 0\n",
        "j = 0\n",
        "result = []\n",
        "for idx in range(6):\n",
        "    if idx == 0:\n",
        "        result.append(input_matrix[i][j])\n",
        "    else:\n",
        "        for i in range(idx+1):\n",
        "            if idx == i + j:\n",
        "                j = 1\n",
        "                result.append(input_matrix[i][j])\n",
        "print(result)"
      ],
      "metadata": {
        "colab": {
          "base_uri": "https://localhost:8080/",
          "height": 202
        },
        "id": "RzS2PSA7VBrQ",
        "outputId": "f7997f00-28c3-44dc-f155-600b1a10a25f"
      },
      "execution_count": 40,
      "outputs": [
        {
          "output_type": "error",
          "ename": "IndexError",
          "evalue": "list index out of range",
          "traceback": [
            "\u001b[0;31m---------------------------------------------------------------------------\u001b[0m",
            "\u001b[0;31mIndexError\u001b[0m                                Traceback (most recent call last)",
            "\u001b[0;32m<ipython-input-40-39d9b72a7bb5>\u001b[0m in \u001b[0;36m<cell line: 10>\u001b[0;34m()\u001b[0m\n\u001b[1;32m     15\u001b[0m             \u001b[0;32mif\u001b[0m \u001b[0midx\u001b[0m \u001b[0;34m==\u001b[0m \u001b[0mi\u001b[0m \u001b[0;34m+\u001b[0m \u001b[0mj\u001b[0m\u001b[0;34m:\u001b[0m\u001b[0;34m\u001b[0m\u001b[0;34m\u001b[0m\u001b[0m\n\u001b[1;32m     16\u001b[0m                 \u001b[0mj\u001b[0m \u001b[0;34m=\u001b[0m \u001b[0;36m1\u001b[0m\u001b[0;34m\u001b[0m\u001b[0;34m\u001b[0m\u001b[0m\n\u001b[0;32m---> 17\u001b[0;31m                 \u001b[0mresult\u001b[0m\u001b[0;34m.\u001b[0m\u001b[0mappend\u001b[0m\u001b[0;34m(\u001b[0m\u001b[0minput_matrix\u001b[0m\u001b[0;34m[\u001b[0m\u001b[0mi\u001b[0m\u001b[0;34m]\u001b[0m\u001b[0;34m[\u001b[0m\u001b[0mj\u001b[0m\u001b[0;34m]\u001b[0m\u001b[0;34m)\u001b[0m\u001b[0;34m\u001b[0m\u001b[0;34m\u001b[0m\u001b[0m\n\u001b[0m\u001b[1;32m     18\u001b[0m \u001b[0mprint\u001b[0m\u001b[0;34m(\u001b[0m\u001b[0mresult\u001b[0m\u001b[0;34m)\u001b[0m\u001b[0;34m\u001b[0m\u001b[0;34m\u001b[0m\u001b[0m\n",
            "\u001b[0;31mIndexError\u001b[0m: list index out of range"
          ]
        }
      ]
    },
    {
      "cell_type": "code",
      "source": [
        "print(range(1))"
      ],
      "metadata": {
        "colab": {
          "base_uri": "https://localhost:8080/"
        },
        "id": "6XK0jkARYHBI",
        "outputId": "21b0d8ba-e6da-4bac-c35f-81a955f8e449"
      },
      "execution_count": 38,
      "outputs": [
        {
          "output_type": "stream",
          "name": "stdout",
          "text": [
            "range(0, 1)\n"
          ]
        }
      ]
    }
  ]
}