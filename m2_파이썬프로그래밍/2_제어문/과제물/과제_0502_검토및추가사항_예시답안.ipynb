{
  "nbformat": 4,
  "nbformat_minor": 0,
  "metadata": {
    "colab": {
      "provenance": []
    },
    "kernelspec": {
      "name": "python3",
      "display_name": "Python 3"
    },
    "language_info": {
      "name": "python"
    }
  },
  "cells": [
    {
      "cell_type": "markdown",
      "source": [
        "## Task1_0502. 짝수와 짝수를 입력하면 곱한 값을 출력하고 홀수와 홀수를 입력하면 덧셈 값을 출력하고 그외는 다시 입력하라는 메시지를 출력하세요."
      ],
      "metadata": {
        "id": "-x6u2xgx1_IN"
      }
    },
    {
      "cell_type": "code",
      "execution_count": null,
      "metadata": {
        "colab": {
          "base_uri": "https://localhost:8080/"
        },
        "id": "RP3NQgF-Pu8m",
        "outputId": "81f1eb00-44cb-4eec-8aaa-b74e1da5c69c"
      },
      "outputs": [
        {
          "output_type": "stream",
          "name": "stdout",
          "text": [
            "숫자를 입력하세요: (ex. 10 10 공백으로 구분)5 5\n",
            "10\n"
          ]
        }
      ],
      "source": [
        "nums = input(\"숫자를 입력하세요: (ex. 10 10 공백으로 구분)\")\n",
        "num1 = int(nums.split(' ')[0])\n",
        "num2 = int(nums.split(' ')[1])\n",
        "if num1 % 2 == 0 and num2 % 2 == 0:\n",
        "    print(num1 * num2)\n",
        "elif num1 % 2 == 1 and num2 % 2 == 1:\n",
        "    print(num1 + num2)\n",
        "else:\n",
        "    print(\"다시 입력하세요.\")"
      ]
    },
    {
      "cell_type": "markdown",
      "source": [
        "Task2_0502. 현재 계절 구분 프로그램\n",
        "- 시나리오 : 3 ~ 5월은 봄, 6 ~ 8월은 여름, 9 ~ 11월은 가을, 12 ~ 2월은 겨울로 구분. 지금 계절을 알려주는 프로그램\n",
        "- 각 계절별 출력 멘트는 계절에 맞게 창작\n",
        "- if 조건문으로 datetime 모듈을 import해서 datetime.now 함수를 사용해서 작성"
      ],
      "metadata": {
        "id": "uiirItVn1_9j"
      }
    },
    {
      "cell_type": "code",
      "source": [
        "import datetime\n",
        "\n",
        "now = datetime.datetime.now()\n",
        "month = now.month\n",
        "print(month)\n",
        "if 3 <= month <= 5:         #if month >=3 and month <=5\n",
        "    print(\"지금은 봄입니다.\")\n",
        "elif 6 <= month <= 8:\n",
        "    print(\"지금은 여름입니다.\")\n",
        "elif 9 <= month <= 11:\n",
        "    print(\"지금은 가을입니다.\")\n",
        "else:\n",
        "    print(\"지금은 겨울입니다.\")"
      ],
      "metadata": {
        "colab": {
          "base_uri": "https://localhost:8080/"
        },
        "id": "TM94gz562ATr",
        "outputId": "356578a2-6350-481c-ccac-505475bf143b"
      },
      "execution_count": null,
      "outputs": [
        {
          "output_type": "stream",
          "name": "stdout",
          "text": [
            "5\n",
            "지금은 봄입니다.\n"
          ]
        }
      ]
    },
    {
      "cell_type": "code",
      "source": [
        "#예시답안\n",
        "from datetime import datetime\n",
        "\n",
        "today = datetime.now()\n",
        "month = today.month\n",
        "\n",
        "spring = [3,4,5]#이런식으로 준비\n",
        "\n",
        "if month in spring:\n"
      ],
      "metadata": {
        "id": "DR7Tz0sbyhc3"
      },
      "execution_count": null,
      "outputs": []
    },
    {
      "cell_type": "markdown",
      "source": [
        "Task3_0502. 1부터 99까지 아래와 같이 2개의 수를 곱해서 가장 큰 수를 구하세요.\n",
        "\n",
        "`1*99, 2*98 ...99*1`"
      ],
      "metadata": {
        "id": "vn9VMtVY2AiE"
      }
    },
    {
      "cell_type": "code",
      "source": [
        "result = [i*(100-i) for i in range(1, 100)]\n",
        "print(result)\n",
        "print(max(result))"
      ],
      "metadata": {
        "colab": {
          "base_uri": "https://localhost:8080/"
        },
        "id": "E-qLSZJx2BBQ",
        "outputId": "f660e5d7-14aa-4a44-c067-fd04ba58a2f8"
      },
      "execution_count": null,
      "outputs": [
        {
          "output_type": "stream",
          "name": "stdout",
          "text": [
            "[99, 196, 291, 384, 475, 564, 651, 736, 819, 900, 979, 1056, 1131, 1204, 1275, 1344, 1411, 1476, 1539, 1600, 1659, 1716, 1771, 1824, 1875, 1924, 1971, 2016, 2059, 2100, 2139, 2176, 2211, 2244, 2275, 2304, 2331, 2356, 2379, 2400, 2419, 2436, 2451, 2464, 2475, 2484, 2491, 2496, 2499, 2500, 2499, 2496, 2491, 2484, 2475, 2464, 2451, 2436, 2419, 2400, 2379, 2356, 2331, 2304, 2275, 2244, 2211, 2176, 2139, 2100, 2059, 2016, 1971, 1924, 1875, 1824, 1771, 1716, 1659, 1600, 1539, 1476, 1411, 1344, 1275, 1204, 1131, 1056, 979, 900, 819, 736, 651, 564, 475, 384, 291, 196, 99]\n",
            "2500\n"
          ]
        }
      ]
    },
    {
      "cell_type": "code",
      "source": [
        "#ex 입력값 없고 출력값만 있는 형태의 사용자 함수\n",
        "def find_biggest_one():\n",
        "    big_num = 0\n",
        "    for i,j in zip(range(1,100), range(99,0,-1)):\n",
        "        if i*j > big_num:\n",
        "            big_num = i*j\n",
        "    return big_num\n",
        "print(find_biggest_one())"
      ],
      "metadata": {
        "colab": {
          "base_uri": "https://localhost:8080/"
        },
        "id": "qXJUJ9tX3I15",
        "outputId": "31526298-4039-4389-d1c1-91e02326480d"
      },
      "execution_count": null,
      "outputs": [
        {
          "output_type": "stream",
          "name": "stdout",
          "text": [
            "2500\n"
          ]
        }
      ]
    },
    {
      "cell_type": "code",
      "source": [
        "#ai에서 중요함\n",
        "for i in range(99,0,-1):\n",
        "    print(i,end=' ')"
      ],
      "metadata": {
        "colab": {
          "base_uri": "https://localhost:8080/"
        },
        "id": "uICWiRe5-L0F",
        "outputId": "1c544d95-f5be-4f44-8807-a292a6d58136"
      },
      "execution_count": null,
      "outputs": [
        {
          "output_type": "stream",
          "name": "stdout",
          "text": [
            "99 98 97 96 95 94 93 92 91 90 89 88 87 86 85 84 83 82 81 80 79 78 77 76 75 74 73 72 71 70 69 68 67 66 65 64 63 62 61 60 59 58 57 56 55 54 53 52 51 50 49 48 47 46 45 44 43 42 41 40 39 38 37 36 35 34 33 32 31 30 29 28 27 26 25 24 23 22 21 20 19 18 17 16 15 14 13 12 11 10 9 8 7 6 5 4 3 2 1 "
          ]
        }
      ]
    },
    {
      "cell_type": "code",
      "source": [
        "numbers = [i for i in range(99,0,-1)]\n",
        "print(numbers)"
      ],
      "metadata": {
        "colab": {
          "base_uri": "https://localhost:8080/"
        },
        "id": "NUvQ6OYP-ne4",
        "outputId": "32f3e9fe-79e0-41c7-9ebc-bab0ec0da549"
      },
      "execution_count": null,
      "outputs": [
        {
          "output_type": "stream",
          "name": "stdout",
          "text": [
            "[99, 98, 97, 96, 95, 94, 93, 92, 91, 90, 89, 88, 87, 86, 85, 84, 83, 82, 81, 80, 79, 78, 77, 76, 75, 74, 73, 72, 71, 70, 69, 68, 67, 66, 65, 64, 63, 62, 61, 60, 59, 58, 57, 56, 55, 54, 53, 52, 51, 50, 49, 48, 47, 46, 45, 44, 43, 42, 41, 40, 39, 38, 37, 36, 35, 34, 33, 32, 31, 30, 29, 28, 27, 26, 25, 24, 23, 22, 21, 20, 19, 18, 17, 16, 15, 14, 13, 12, 11, 10, 9, 8, 7, 6, 5, 4, 3, 2, 1]\n"
          ]
        }
      ]
    },
    {
      "cell_type": "code",
      "source": [
        "str_numbers = list(map(str(i), range(99,0,-1)))\n",
        "print(str_numbers)\n",
        "\n"
      ],
      "metadata": {
        "colab": {
          "base_uri": "https://localhost:8080/",
          "height": 184
        },
        "id": "Gb9qGC3U_AqY",
        "outputId": "6d78252e-3eec-4865-a571-5cc0213e053e"
      },
      "execution_count": null,
      "outputs": [
        {
          "output_type": "error",
          "ename": "TypeError",
          "evalue": "'str' object is not callable",
          "traceback": [
            "\u001b[0;31m---------------------------------------------------------------------------\u001b[0m",
            "\u001b[0;31mTypeError\u001b[0m                                 Traceback (most recent call last)",
            "\u001b[0;32m<ipython-input-13-e345d4347c8d>\u001b[0m in \u001b[0;36m<cell line: 1>\u001b[0;34m()\u001b[0m\n\u001b[0;32m----> 1\u001b[0;31m \u001b[0mstr_numbers\u001b[0m \u001b[0;34m=\u001b[0m \u001b[0mlist\u001b[0m\u001b[0;34m(\u001b[0m\u001b[0mmap\u001b[0m\u001b[0;34m(\u001b[0m\u001b[0mstr\u001b[0m\u001b[0;34m(\u001b[0m\u001b[0mi\u001b[0m\u001b[0;34m)\u001b[0m\u001b[0;34m,\u001b[0m \u001b[0mrange\u001b[0m\u001b[0;34m(\u001b[0m\u001b[0;36m99\u001b[0m\u001b[0;34m,\u001b[0m\u001b[0;36m0\u001b[0m\u001b[0;34m,\u001b[0m\u001b[0;34m-\u001b[0m\u001b[0;36m1\u001b[0m\u001b[0;34m)\u001b[0m\u001b[0;34m)\u001b[0m\u001b[0;34m)\u001b[0m\u001b[0;34m\u001b[0m\u001b[0;34m\u001b[0m\u001b[0m\n\u001b[0m\u001b[1;32m      2\u001b[0m \u001b[0mprint\u001b[0m\u001b[0;34m(\u001b[0m\u001b[0mstr_numbers\u001b[0m\u001b[0;34m)\u001b[0m\u001b[0;34m\u001b[0m\u001b[0;34m\u001b[0m\u001b[0m\n\u001b[1;32m      3\u001b[0m \u001b[0;34m\u001b[0m\u001b[0m\n",
            "\u001b[0;31mTypeError\u001b[0m: 'str' object is not callable"
          ]
        }
      ]
    },
    {
      "cell_type": "code",
      "source": [
        "numbers = [str(i) for i in range(99,0,-1)]"
      ],
      "metadata": {
        "id": "iIloo6Gr_hZb"
      },
      "execution_count": null,
      "outputs": []
    },
    {
      "cell_type": "code",
      "source": [
        "#example\n",
        "max_value = 0\n",
        "for i in range(1,100):\n",
        "    if max_value >= (i*(100-i)):\n",
        "        continue\n",
        "    else:\n",
        "        max_value = i*(100-i)\n",
        "        print(f\"{i}x{(100-i)}\")\n",
        "print(max_value)"
      ],
      "metadata": {
        "colab": {
          "base_uri": "https://localhost:8080/"
        },
        "id": "LlbEIxSq065K",
        "outputId": "78390ac5-ce5f-47da-f190-866fda0e2b43"
      },
      "execution_count": null,
      "outputs": [
        {
          "output_type": "stream",
          "name": "stdout",
          "text": [
            "1x99\n",
            "2x98\n",
            "3x97\n",
            "4x96\n",
            "5x95\n",
            "6x94\n",
            "7x93\n",
            "8x92\n",
            "9x91\n",
            "10x90\n",
            "11x89\n",
            "12x88\n",
            "13x87\n",
            "14x86\n",
            "15x85\n",
            "16x84\n",
            "17x83\n",
            "18x82\n",
            "19x81\n",
            "20x80\n",
            "21x79\n",
            "22x78\n",
            "23x77\n",
            "24x76\n",
            "25x75\n",
            "26x74\n",
            "27x73\n",
            "28x72\n",
            "29x71\n",
            "30x70\n",
            "31x69\n",
            "32x68\n",
            "33x67\n",
            "34x66\n",
            "35x65\n",
            "36x64\n",
            "37x63\n",
            "38x62\n",
            "39x61\n",
            "40x60\n",
            "41x59\n",
            "42x58\n",
            "43x57\n",
            "44x56\n",
            "45x55\n",
            "46x54\n",
            "47x53\n",
            "48x52\n",
            "49x51\n",
            "50x50\n",
            "2500\n"
          ]
        }
      ]
    },
    {
      "cell_type": "code",
      "source": [
        "#ex\n",
        "n = 1\n",
        "result = 0\n",
        "while n <= 100:\n",
        "    a = n*(100-n)\n",
        "    if a > result:\n",
        "        result = a\n",
        "        n += 1\n",
        "    else:\n",
        "        n += 1\n",
        "        continue\n",
        "print(result)"
      ],
      "metadata": {
        "colab": {
          "base_uri": "https://localhost:8080/"
        },
        "id": "XsYyUINq2cV3",
        "outputId": "20f165cd-6a7c-48a2-d9b5-68f2b4f8ed1c"
      },
      "execution_count": null,
      "outputs": [
        {
          "output_type": "stream",
          "name": "stdout",
          "text": [
            "2500\n"
          ]
        }
      ]
    },
    {
      "cell_type": "markdown",
      "source": [
        "Task4_0502. [    ]을 채워서 아래의 출력과 같이 출력하세요."
      ],
      "metadata": {
        "id": "6-AfP8J22BZv"
      }
    },
    {
      "cell_type": "code",
      "source": [
        "numbers = [1,2,3,4,5,6,7,8,9]\n",
        "output = [[], [], []]\n",
        "\n",
        "\n",
        "# [[1,4,7],[2,5,8],[3,6,9]]"
      ],
      "metadata": {
        "id": "ymJU82xX2Bry"
      },
      "execution_count": null,
      "outputs": []
    },
    {
      "cell_type": "code",
      "source": [
        "numbers = [1,2,3,4,5,6,7,8,9]\n",
        "output = [[],[],[]]\n",
        "for i in numbers:\n",
        "    if i % 3 == 1:\n",
        "        output[0].append(i)\n",
        "    elif i % 3 == 2:\n",
        "        output[1].append(i)\n",
        "    else:\n",
        "        output[2].append(i)\n",
        "print(output)"
      ],
      "metadata": {
        "colab": {
          "base_uri": "https://localhost:8080/"
        },
        "id": "11ZRAkhx6K0Y",
        "outputId": "08dca602-d321-466f-eb9f-b6a37e837474"
      },
      "execution_count": null,
      "outputs": [
        {
          "output_type": "stream",
          "name": "stdout",
          "text": [
            "[[1, 4, 7], [2, 5, 8], [3, 6, 9]]\n"
          ]
        }
      ]
    },
    {
      "cell_type": "code",
      "source": [
        "#ex\n",
        "numbers = [1,2,3,4,5,6,7,8,9]\n",
        "output = [[],[],[]]\n",
        "for num in numbers:\n",
        "    output[(num-1)%3].append(num)\n",
        "print(output)"
      ],
      "metadata": {
        "colab": {
          "base_uri": "https://localhost:8080/"
        },
        "id": "H5o1cXIL7KCH",
        "outputId": "0fec3966-4b9e-4616-d3cf-05a21cc6faa8"
      },
      "execution_count": null,
      "outputs": [
        {
          "output_type": "stream",
          "name": "stdout",
          "text": [
            "[[1, 4, 7], [2, 5, 8], [3, 6, 9]]\n"
          ]
        }
      ]
    },
    {
      "cell_type": "code",
      "source": [
        "#ex- 인덱스를 이용해 구현\n",
        "numbers = [1,2,3,4,5,6,7,8,9]\n",
        "groups = [numbers[i::3] for i in range(3)]\n",
        "print(groups)"
      ],
      "metadata": {
        "colab": {
          "base_uri": "https://localhost:8080/"
        },
        "id": "qWBN3P9U58xd",
        "outputId": "7d174741-8812-41bf-cd51-9ddd0bf58557"
      },
      "execution_count": null,
      "outputs": [
        {
          "output_type": "stream",
          "name": "stdout",
          "text": [
            "[[1, 4, 7], [2, 5, 8], [3, 6, 9]]\n"
          ]
        }
      ]
    },
    {
      "cell_type": "markdown",
      "source": [
        "Task5_0502. 주어진 리스트에서 중복된 요소를 제거하고, 남은 요소만을 포함하는 새 리스트를 반환합니다. 순서는 유지해야 합니다.\n",
        "\n",
        "input_list = [1, 2, 2, 3, 4, 4, 4, 5, 6, 7, 7]"
      ],
      "metadata": {
        "id": "dsRxU1pE6H74"
      }
    },
    {
      "cell_type": "code",
      "source": [
        "input_list = [1, 2, 2, 3, 4, 4, 4, 5, 6, 7, 7]\n",
        "s = set(input_list)\n",
        "l = list(s)\n",
        "print(l)"
      ],
      "metadata": {
        "colab": {
          "base_uri": "https://localhost:8080/"
        },
        "id": "q1lg1CNi6ITY",
        "outputId": "90c5a122-c56b-4dd3-dca8-a373108b7993"
      },
      "execution_count": null,
      "outputs": [
        {
          "output_type": "stream",
          "name": "stdout",
          "text": [
            "[1, 2, 3, 4, 5, 6, 7]\n"
          ]
        }
      ]
    },
    {
      "cell_type": "code",
      "source": [
        "input_list = [1, 2, 2, 3, 4, 4, 4, 5, 6, 7, 7]\n",
        "output = [input_list[0]]\n",
        "for i in input_list[1:]:\n",
        "    if i != output[-1]:\n",
        "        output.append(i)\n",
        "print(output)"
      ],
      "metadata": {
        "colab": {
          "base_uri": "https://localhost:8080/"
        },
        "id": "kf79pJqBjO6d",
        "outputId": "e8b4d836-6363-4090-afb6-8471f1c21898"
      },
      "execution_count": null,
      "outputs": [
        {
          "output_type": "stream",
          "name": "stdout",
          "text": [
            "[1, 2, 3, 4, 5, 6, 7]\n"
          ]
        }
      ]
    },
    {
      "cell_type": "code",
      "source": [
        "#ex - 이 리스트에서만 가능한 코드\n",
        "input_list = [1, 2, 2, 3, 4, 4, 4, 5, 6, 7, 7]\n",
        "for i in input_list:\n",
        "    if input_list.count(i) > 1:\n",
        "        input_list.remove(i)\n",
        "print(input_list)"
      ],
      "metadata": {
        "colab": {
          "base_uri": "https://localhost:8080/"
        },
        "id": "XE5LWJQ0_8cR",
        "outputId": "39ca0b5d-e688-4beb-9762-f37c18c785c4"
      },
      "execution_count": null,
      "outputs": [
        {
          "output_type": "stream",
          "name": "stdout",
          "text": [
            "[1, 2, 3, 4, 5, 6, 7]\n"
          ]
        }
      ]
    },
    {
      "cell_type": "code",
      "source": [
        "input_list = [1, 2, 6, 2, 3, 7, 4, 4, 5, 6, 7, 7]\n",
        "#순서유지 [1,2,6,3,7,4,5] 이런 답\n",
        "\n",
        "def remove_duplicates(input_list):\n",
        "    num = set() #빈 셋트 - 중복방지\n",
        "    result = []\n",
        "    for item in input_list:\n",
        "        if item not in num:\n",
        "            result.append(item)\n",
        "            num.add(item)\n",
        "    return result\n",
        "\n",
        "print(remove_duplicates(input_list))\n"
      ],
      "metadata": {
        "id": "h1f3TLOTEDTO",
        "colab": {
          "base_uri": "https://localhost:8080/"
        },
        "outputId": "67db7e3d-26fd-493b-a849-b7d78c1ec426"
      },
      "execution_count": 21,
      "outputs": [
        {
          "output_type": "stream",
          "name": "stdout",
          "text": [
            "[1, 2, 6, 3, 7, 4, 5]\n"
          ]
        }
      ]
    },
    {
      "cell_type": "code",
      "source": [
        "#ex\n",
        "input_list = [1, 2, 6, 2, 3, 7, 4, 4, 5, 6, 7, 7]\n",
        "\n",
        "def remove_dup(input_list):\n",
        "  num = []\n",
        "  for item in input_list:\n",
        "    if item not in num:\n",
        "      num.append(item)\n",
        "  return num\n",
        "\n",
        "result=remove_dup(input_list)\n",
        "print(result)"
      ],
      "metadata": {
        "colab": {
          "base_uri": "https://localhost:8080/"
        },
        "id": "oYWOylQxa1yK",
        "outputId": "ae95679b-28d7-4cd3-e127-a1f6ff7ef726"
      },
      "execution_count": 22,
      "outputs": [
        {
          "output_type": "stream",
          "name": "stdout",
          "text": [
            "[1, 2, 6, 3, 7, 4, 5]\n"
          ]
        }
      ]
    },
    {
      "cell_type": "markdown",
      "source": [
        "Task6_0502. 주어진 문자열을 모스 코드로 변환하는 함수를 작성하세요. 공백은 무시하고 알파벳만 변환하세요.\n",
        "\n",
        "input_text = \"Hello world\"\n",
        "\n"
      ],
      "metadata": {
        "id": "WH_-0Dwk6S1L"
      }
    },
    {
      "cell_type": "code",
      "source": [
        "morse_code = {\n",
        "        'A': '.-', 'B': '-...', 'C': '-.-.', 'D': '-..', 'E': '.', 'F': '..-.',\n",
        "        'G': '--.', 'H': '....', 'I': '..', 'J': '.---', 'K': '-.-', 'L': '.-..',\n",
        "        'M': '--', 'N': '-.', 'O': '---', 'P': '.--.', 'Q': '--.-', 'R': '.-.',\n",
        "        'S': '...', 'T': '-', 'U': '..-', 'V': '...-', 'W': '.--', 'X': '-..-',\n",
        "        'Y': '-.--', 'Z': '--..'\n",
        "    }\n",
        "input_txt = \"Hello world\"\n",
        "input_txt = input_txt.upper()\n",
        "input_list = [i for i in input_txt]\n",
        "print(input_list)\n",
        "result = []\n",
        "for i in input_list:\n",
        "    if i in morse_code.keys():\n",
        "        result.append(morse_code[i])\n",
        "print(result)"
      ],
      "metadata": {
        "colab": {
          "base_uri": "https://localhost:8080/"
        },
        "id": "-cEEdjxM630A",
        "outputId": "9aa57b94-c9d8-4a32-85de-ecd3629c7e81"
      },
      "execution_count": null,
      "outputs": [
        {
          "output_type": "stream",
          "name": "stdout",
          "text": [
            "['H', 'E', 'L', 'L', 'O', 'W', 'O', 'R', 'L', 'D']\n",
            "['....', '.', '.-..', '.-..', '---', '.--', '---', '.-.', '.-..', '-..']\n"
          ]
        }
      ]
    },
    {
      "cell_type": "code",
      "source": [
        "def transform_morse(morse_code, input_txt):\n",
        "    input_txt = input_txt.upper()\n",
        "    input_list = [i for i in input_txt]\n",
        "    result = []\n",
        "    for i in input_list:\n",
        "        if i in morse_code.keys():\n",
        "            result.append(morse_code[i])\n",
        "    return result\n",
        "\n",
        "morse_code = {\n",
        "        'A': '.-', 'B': '-...', 'C': '-.-.', 'D': '-..', 'E': '.', 'F': '..-.',\n",
        "        'G': '--.', 'H': '....', 'I': '..', 'J': '.---', 'K': '-.-', 'L': '.-..',\n",
        "        'M': '--', 'N': '-.', 'O': '---', 'P': '.--.', 'Q': '--.-', 'R': '.-.',\n",
        "        'S': '...', 'T': '-', 'U': '..-', 'V': '...-', 'W': '.--', 'X': '-..-',\n",
        "        'Y': '-.--', 'Z': '--..'\n",
        "    }\n",
        "input_txt = \"Hello world\"\n",
        "\n",
        "transform_morse(morse_code, input_txt)"
      ],
      "metadata": {
        "colab": {
          "base_uri": "https://localhost:8080/"
        },
        "id": "nmXOxdrrJ0wM",
        "outputId": "ef9e4702-3e51-4766-d70d-8cd8bdfb4069"
      },
      "execution_count": null,
      "outputs": [
        {
          "output_type": "execute_result",
          "data": {
            "text/plain": [
              "['....', '.', '.-..', '.-..', '---', '.--', '---', '.-.', '.-..', '-..']"
            ]
          },
          "metadata": {},
          "execution_count": 2
        }
      ]
    },
    {
      "cell_type": "code",
      "source": [
        "#ex\n",
        "morse_code = {\n",
        "        'A': '.-', 'B': '-...', 'C': '-.-.', 'D': '-..', 'E': '.', 'F': '..-.',\n",
        "        'G': '--.', 'H': '....', 'I': '..', 'J': '.---', 'K': '-.-', 'L': '.-..',\n",
        "        'M': '--', 'N': '-.', 'O': '---', 'P': '.--.', 'Q': '--.-', 'R': '.-.',\n",
        "        'S': '...', 'T': '-', 'U': '..-', 'V': '...-', 'W': '.--', 'X': '-..-',\n",
        "        'Y': '-.--', 'Z': '--..'\n",
        "    }\n",
        "input_txt = \"Hello world\"\n",
        "result =''\n",
        "\n",
        "for char in input_txt:\n",
        "    if char.upper() in morse_code:\n",
        "        result += morse_code[char.upper()]\n",
        "print(result)"
      ],
      "metadata": {
        "colab": {
          "base_uri": "https://localhost:8080/"
        },
        "id": "FhU7QaqfCuG6",
        "outputId": "86c00034-ddc2-4e13-f122-f45b0371124a"
      },
      "execution_count": null,
      "outputs": [
        {
          "output_type": "stream",
          "name": "stdout",
          "text": [
            "......-...-..---.-----.-..-..-..\n"
          ]
        }
      ]
    },
    {
      "cell_type": "markdown",
      "source": [
        "Task7_0502. 주어진 비대칭 m×n 매트릭스(2차원 리스트)에서, 모든 대각선 상의 합을 계산하는 함수를 작성하세요. 결과는 각 대각선의 합을 리스트로 반환해야 합니다."
      ],
      "metadata": {
        "id": "hT6EDhCr7JAs"
      }
    },
    {
      "cell_type": "code",
      "source": [
        "#ex\n",
        "input_matrix = [\n",
        "    [1, 2, 3],\n",
        "    [4, 5, 6],\n",
        "    [7, 8, 9],\n",
        "    [10, 11, 12]\n",
        "]\n",
        "\n",
        "def get_sum_diagonal(arr):\n",
        "  out_arr = [0, 0, 0, 0, 0, 0]\n",
        "\n",
        "  for i1 in range(len(arr)):\n",
        "    for i2 in range(len(arr[i1])):\n",
        "      out_arr[i1+i2] += arr[i1][i2]\n",
        "\n",
        "  return out_arr\n",
        "\n",
        "arr = [\n",
        "    [ 1,  2,  3],\n",
        "    [ 4,  5,  6],\n",
        "    [ 7,  8,  9],\n",
        "    [10, 11, 12]\n",
        "]\n",
        "result = get_sum_diagonal(arr)\n",
        "result\n",
        "\n",
        "# [0][0]\n",
        "# [0][1] [1][0]\n",
        "# [0][2] [1][1] [2][0]\n",
        "# [1][2] [2][1] [3][0]\n",
        "# [2][2] [3][1]\n",
        "# [3][2]\n",
        "\n",
        "# 0-1-2-1-2-3-2-3-4-3-4-5"
      ],
      "metadata": {
        "colab": {
          "base_uri": "https://localhost:8080/"
        },
        "id": "tQzFTIckD5PI",
        "outputId": "b34cd3da-b652-4062-dd8e-97892ca139a5"
      },
      "execution_count": null,
      "outputs": [
        {
          "output_type": "execute_result",
          "data": {
            "text/plain": [
              "[1, 6, 15, 24, 20, 12]"
            ]
          },
          "metadata": {},
          "execution_count": 17
        }
      ]
    },
    {
      "cell_type": "code",
      "source": [
        " #Task7_0502. 주어진 비대칭 m×n 매트릭스(2차원 리스트)에서, 모든 대각선 상의 합을 계산하는 함수를 작성하세요. 결과는 각 대각선의 합을 리스트로 반환해야 합니다.\n",
        "input_arr = [\n",
        "    [1, 2, 3],\n",
        "    [4, 5, 6],\n",
        "    [7, 8, 9],\n",
        "    [10, 11, 12]\n",
        "]\n",
        "# input_arr = [\n",
        "#     [1,  2,  3,  7],\n",
        "#     [4,  5,  6,  5],\n",
        "#     [7,  8,  9,  1],\n",
        "#     [10, 11, 12, 2]\n",
        "# ]\n",
        "# input_arr = [\n",
        "    # [1,  2,  3,  7, 20],\n",
        "    # [4,  5,  6,  5, 21],\n",
        "    # [7,  8,  9,  1, 34],\n",
        "    # [10, 11, 12, 2, 23]\n",
        "# ]\n",
        "# input_arr = [\n",
        "    # [1,  2,  3,  7, 20],\n",
        "    # [4,  5,  6,  5, 21],\n",
        "    # [7,  8,  9,  1, 34],\n",
        "    # [10, 11, 12, 2, 23],\n",
        "    # [3,  16, 42, 21,3]\n",
        "# ]\n",
        "\n",
        "def cal_sum_diag(input_arr):\n",
        "  row_n=len(input_arr); col_n=len(input_arr[0]); sum_diag_list=[]\n",
        "  # Calculating along with the most outer element in an anticlockwise direction\n",
        "  for i in range(row_n):\n",
        "    sum_diag=0; l=0;\n",
        "    for j in range(0,min(i+1, col_n),1):\n",
        "     sum_diag=sum_diag+input_arr[i-l][j]\n",
        "     l += 1\n",
        "    sum_diag_list.append(sum_diag)\n",
        "\n",
        "  l=0\n",
        "  for j in range(1, col_n):\n",
        "    sum_diag=0; k=0\n",
        "    for i in range(row_n-1,row_n-col_n+l,-1):\n",
        "      sum_diag=sum_diag+input_arr[i][j+k]\n",
        "      k += 1\n",
        "    l += 1\n",
        "    sum_diag_list.append(sum_diag)\n",
        "  return sum_diag_list\n",
        "\n",
        "print(f\"주어진 M x N 매트릭스의 대각선 상에 있는 요소의 합을 계산, 각 대각선의 합을 리스트로 출력: {cal_sum_diag(input_arr)}\")"
      ],
      "metadata": {
        "colab": {
          "base_uri": "https://localhost:8080/"
        },
        "id": "0A9MNPNQG-UY",
        "outputId": "08bdda94-a6a1-4d29-e6d7-35124694e689"
      },
      "execution_count": null,
      "outputs": [
        {
          "output_type": "stream",
          "name": "stdout",
          "text": [
            "주어진 M x N 매트릭스의 대각선 상에 있는 요소의 합을 계산, 각 대각선의 합을 리스트로 출력: [1, 6, 15, 24, 20, 12]\n"
          ]
        }
      ]
    },
    {
      "cell_type": "code",
      "source": [
        "input_matrix = [\n",
        "    [1, 2, 3],\n",
        "    [4, 5, 6],\n",
        "    [7, 8, 9],\n",
        "    [10, 11, 12]\n",
        "]\n",
        "print(len(input_matrix))\n",
        "print(len(input_matrix[0]))"
      ],
      "metadata": {
        "id": "33q0Vz1kMkwD"
      },
      "execution_count": null,
      "outputs": []
    },
    {
      "cell_type": "markdown",
      "source": [
        "대각선 수 구하기:\n",
        "\n",
        "4행 3열에서\n",
        "첫 번째 행은 3개의 대각선에 각각 기여합니다.\n",
        "첫 번째 열은 4개의 대각선에 각각 기여합니다.\n",
        "하지만 가장 왼쪽 상단의 원소가 두 방향에서 모두 카운트되므로, 총 대각선 수는 3 + 4 − 1 = 6개가 됩니다."
      ],
      "metadata": {
        "id": "rH2bsZ8iMqCY"
      }
    },
    {
      "cell_type": "code",
      "source": [
        "# 대각선 합 구하기\n",
        "a b c\n",
        "d e f\n",
        "g h i\n",
        "j k l\n",
        "\n",
        "대각선 0: a0,0\n",
        "대각선 1: b0,1 + d1,0\n",
        "대각선 2: c0,2 + e1,1 + g2,0\n",
        "대각선 3: f + h + j\n",
        "대각선 4: i + k\n",
        "대각선 5: l"
      ],
      "metadata": {
        "id": "W-SwOMDJM5A_"
      },
      "execution_count": null,
      "outputs": []
    },
    {
      "cell_type": "code",
      "source": [
        "def diagonal_sums(matrix):\n",
        "    if not matrix:\n",
        "        return []\n",
        "    m, n = len(matrix), len(matrix[0])\n",
        "    # 최대 가능한 대각선 수는 m + n - 1\n",
        "    print(m,n)\n",
        "    max_diagonals = m + n - 1\n",
        "    result = [0] * max_diagonals\n",
        "\n",
        "    # 모든 원소를 순회하면서 해당 대각선 인덱스에 값을 더함\n",
        "    for i in range(m):\n",
        "        for j in range(n):\n",
        "            # 대각선 인덱스는 행 인덱스와 열 인덱스의 차의 절댓값\n",
        "            diagonal_index = i + j\n",
        "            result[diagonal_index] += matrix[i][j]          #diagonal_index 대각선 인덱스 0~5\n",
        "\n",
        "    return result\n",
        "\n",
        "# 매트릭스 입력\n",
        "input_matrix = [\n",
        "    [1, 2, 3],\n",
        "    [4, 5, 6],\n",
        "    [7, 8, 9],\n",
        "    [10, 11, 12]\n",
        "]\n",
        "\n",
        "# 대각선 합 결과 출력\n",
        "print(diagonal_sums(input_matrix))"
      ],
      "metadata": {
        "colab": {
          "base_uri": "https://localhost:8080/"
        },
        "id": "uTiF9zkNMbNf",
        "outputId": "726f1cb3-f0e5-4d1c-bb84-a25170212526"
      },
      "execution_count": null,
      "outputs": [
        {
          "output_type": "stream",
          "name": "stdout",
          "text": [
            "4 3\n",
            "[1, 6, 15, 24, 20, 12]\n"
          ]
        }
      ]
    },
    {
      "cell_type": "markdown",
      "source": [
        "[ 대각선 수 구하기 ]\n",
        "\n",
        "4행 3열에서\n",
        "첫 번째 행은 3개의 대각선에 각각 기여합니다.\n",
        "첫 번째 열은 4개의 대각선에 각각 기여합니다.\n",
        "하지만 가장 왼쪽 상단의 원소가 두 방향에서 모두 카운트되므로, 총 대각선 수는 3 + 4 − 1 = 6개가 됩니다.\n",
        "\n",
        "[ 대각선 합 구하기 ]\n",
        "\n",
        "a b c\\\n",
        "d e f\\\n",
        "g h i\\\n",
        "j k l\n",
        "\n",
        "대각선 0: a\\\n",
        "대각선 1: b + d\\\n",
        "대각선 2: c + e + g\\\n",
        "대각선 3: f + h + j\\\n",
        "대각선 4: i + k\\\n",
        "대각선 5: l"
      ],
      "metadata": {
        "id": "JV-lgacgblRT"
      }
    }
  ]
}