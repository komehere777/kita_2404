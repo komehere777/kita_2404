{
  "nbformat": 4,
  "nbformat_minor": 0,
  "metadata": {
    "colab": {
      "provenance": []
    },
    "kernelspec": {
      "name": "python3",
      "display_name": "Python 3"
    },
    "language_info": {
      "name": "python"
    }
  },
  "cells": [
    {
      "cell_type": "markdown",
      "source": [
        "#### 파이썬 이란\n",
        "- 1990년 암스테르담의 귀도 반 로섬(Guido Van Rossum)이 개발한 인터프리터 언어\n",
        "- 컴퓨터 프로그래밍 교육을 위해 많이 사용하지만, 기업의 실무를 위해서도 많이 사용하는 언어. 구글에서 만든 소프트웨어의 50%이상이 파이썬으로 작성\n",
        "\n",
        "#### 파이썬의 특징\n",
        "- 파이썬은 인간다운 언어이다\n",
        "- 파이썬은 문법이 쉬워 빠르게 배울 수 있다\n",
        "- 파이썬은 무료이지만 강력하다\n",
        "- 파이썬은 간결하다\n",
        "- 파이썬은 프로그래밍을 즐기게 해준다\n",
        "- 파이썬은 개발 속도가 빠르다\n",
        "\n",
        "#### 파이썬으로 할 수 있는 일\n",
        "- 웹 개발: Django, Flask 등의 프레임워크를 사용하여 웹 애플리케이션을 개발할 수 있습니다.\n",
        "- 데이터 분석: Pandas, NumPy, SciPy와 같은 라이브러리를 사용하여 데이터를 분석하고 처리할 수 있습니다.\n",
        "- 머신 러닝과 인공지능: TensorFlow(딥러닝), PyTorch(딥러닝), Scikit-learn(머신 러닝) 등의 라이브러리를 활용하여 머신 러닝 모델을 구축하고 훈련시킬 수 있습니다.\n",
        "딥러닝-신경망, 뉴럴네트웍, 네트웍의 심화, 딥러닝은 네트웍이라 볼 수 있다. 네트웍에 여려가지 레이어를 추가하여 처리하는것이 자연어 처리,\n",
        "영상은 처리가 힘듬, 공간정보를 담기가 어려움 cnn으로 처리, 신경망에 cnn추가, 기본이 네트웍, 다양한 네트웍으로 딥러닝이 전개\n",
        "-프레임웍: 툴과 라이브러리 모음,\n",
        "- 자동화: 파이썬 스크립트를 작성하여 일상적인 작업을 자동화하고, 시스템 관리 작업을 수행할 수 있습니다.\n",
        "- 게임 개발: Pygame과 같은 라이브러리를 사용하여 간단한 게임을 개발할 수 있습니다.\n",
        "- 모바일 애플리케이션 개발: Kivy 또는 BeeWare와 같은 라이브러리를 사용하여 모바일 애플리케이션을 개발할 수 있습니다.\n",
        "- 데스크탑 애플리케이션 개발: PyQt, Tkinter 등의 라이브러리를 활용하여 데스크탑 애플리케이션을 개발할 수 있습니다.\n",
        "- 시스템 스크립팅과 네트워킹: 시스템 유틸리티를 개발하거나 네트워크 프로토콜을 구현할 수 있습니다.\n",
        "- 임베디드 시스템과 하드웨어 제어: 라즈베리 파이와 같은 임베디드 시스템을 제어하고 하드웨어를 프로그래밍할 수 있습니다.\n",
        "- 사이언티픽 컴퓨팅: 과학적 연산과 시뮬레이션을 위해 파이썬을 활용할 수 있습니다.\n",
        "- 교육: 파이썬은 초보자에게 프로그래밍을 가르치는 데 이상적인 언어로 평가받고 있습니다.\n",
        "- 파이썬의 다양한 라이브러리와 프레임워크 덕분에, 이러한 분야에서의 작업이 더욱 쉽고 효율적으로 수행될 수 있습니다."
      ],
      "metadata": {
        "id": "hxWLFQya7V-s"
      }
    },
    {
      "cell_type": "code",
      "source": [
        "#!기호는 코랩 셀에서 유닉스/리눅스 셸 명령어 실행\n",
        "!python --version\n"
      ],
      "metadata": {
        "colab": {
          "base_uri": "https://localhost:8080/"
        },
        "id": "llNxgb_bBVCe",
        "outputId": "ecfbf16f-69ae-4a3b-cbb6-55850dc247e4"
      },
      "execution_count": null,
      "outputs": [
        {
          "output_type": "stream",
          "name": "stdout",
          "text": [
            "Python 3.10.12\n"
          ]
        }
      ]
    },
    {
      "cell_type": "code",
      "source": [
        "#% 기호는 아이파이썬 환경에서 제공하는 매직 명령어를 사용\n",
        "#라인 매직은 단일 라인에 대해 실행되며 % 하나를 사룡하고 셀 매직은 셀 전체에 적용되면 %%를 사용\n",
        "#현재 작업폴더 확인\n",
        "%pwd"
      ],
      "metadata": {
        "colab": {
          "base_uri": "https://localhost:8080/",
          "height": 35
        },
        "id": "WCbV60_fBkBE",
        "outputId": "ffde26f6-25a8-4b17-f146-9c9b7550386f"
      },
      "execution_count": null,
      "outputs": [
        {
          "output_type": "execute_result",
          "data": {
            "text/plain": [
              "'/content'"
            ],
            "application/vnd.google.colaboratory.intrinsic+json": {
              "type": "string"
            }
          },
          "metadata": {},
          "execution_count": 3
        }
      ]
    },
    {
      "cell_type": "code",
      "source": [
        "%%time\n",
        "#간단한 for 루프를 사용한 계산\n",
        "sum = 0\n",
        "for i in range(100000000):\n",
        "    sum += i\n",
        "print(sum)"
      ],
      "metadata": {
        "colab": {
          "base_uri": "https://localhost:8080/"
        },
        "id": "_VB72VA6Bpli",
        "outputId": "836194a3-c545-4936-dee1-43d38bd8839b"
      },
      "execution_count": null,
      "outputs": [
        {
          "output_type": "stream",
          "name": "stdout",
          "text": [
            "4999999950000000\n",
            "CPU times: user 14.7 s, sys: 0 ns, total: 14.7 s\n",
            "Wall time: 14.8 s\n"
          ]
        }
      ]
    },
    {
      "cell_type": "code",
      "source": [
        "\n",
        "\n",
        "\n",
        "\n",
        "\n",
        "\n"
      ],
      "metadata": {
        "colab": {
          "base_uri": "https://localhost:8080/"
        },
        "id": "nnhx4I5VCw_V",
        "outputId": "4c5b8edf-9b6e-4e57-afd3-b6781dfd182e"
      },
      "execution_count": null,
      "outputs": [
        {
          "output_type": "stream",
          "name": "stdout",
          "text": [
            "\u001b[H\u001b[2J"
          ]
        }
      ]
    },
    {
      "cell_type": "markdown",
      "source": [
        "#### 용어\n",
        "- 식별자 : 프로그램밍 언어에서 이름을 붙일 때 사용하는 단어. 주로 변수 또는 함수 이름 등으로 사용\n",
        "- 주석 : 프로그램을 설명하기 위해 사용. # 기호로 주석 처리\n",
        "- 연산자 : 스스로 값이 되는 것이 아니고 값과 값 사이에 무언가 기능을 적용할 때 사용\n",
        "- 자료 : 리터럴이라고 하는데 숫자이든 문자이든 어떠한 값 자체를 의미. 1, 10, \"Hello\"\n",
        "- 키워드 : 파이썬이 만들어질 때 이미 사용하겠다고 예약해 놓는 것. False, None, True, ...\n",
        "- 프로그램밍 언어에서 사용자가 이름을 정할 때 키워드는 사용할 수 없음"
      ],
      "metadata": {
        "id": "Kfbp0OpyDXQa"
      }
    },
    {
      "cell_type": "markdown",
      "source": [
        "#### 식별자\n",
        "count, user_name, _is_valid, calculate_area, Car, model, year, math 및 m 모두 유효한 식별자. 각각의 식별자는 특정한 데이터 또는 기능에 이름을 부여하여 코드 내에서 해당 데이터나 기능을 참조할 수 있게하며 코드의 가독성과 유지 보수성을 높이는 데 중요한 역할"
      ],
      "metadata": {
        "id": "pebPsn1RDbBS"
      }
    },
    {
      "cell_type": "code",
      "source": [
        "import keyword\n",
        "print(keyword.kwlist)"
      ],
      "metadata": {
        "colab": {
          "base_uri": "https://localhost:8080/"
        },
        "id": "XiEqstNXDdsU",
        "outputId": "c61d7cb6-b0b7-4011-e42f-96a9d5577316"
      },
      "execution_count": 3,
      "outputs": [
        {
          "output_type": "stream",
          "name": "stdout",
          "text": [
            "['False', 'None', 'True', 'and', 'as', 'assert', 'async', 'await', 'break', 'class', 'continue', 'def', 'del', 'elif', 'else', 'except', 'finally', 'for', 'from', 'global', 'if', 'import', 'in', 'is', 'lambda', 'nonlocal', 'not', 'or', 'pass', 'raise', 'return', 'try', 'while', 'with', 'yield']\n"
          ]
        }
      ]
    },
    {
      "cell_type": "code",
      "source": [
        "print(len(keyword.kwlist))"
      ],
      "metadata": {
        "colab": {
          "base_uri": "https://localhost:8080/"
        },
        "id": "qHPajrHVEMl_",
        "outputId": "673a1c3d-68af-47d6-eb72-b184f89bf0af"
      },
      "execution_count": 7,
      "outputs": [
        {
          "output_type": "stream",
          "name": "stdout",
          "text": [
            "35\n"
          ]
        }
      ]
    },
    {
      "cell_type": "code",
      "source": [
        "#변수 식별자\n",
        "count = 10\n",
        "user_name = \"Alice\"\n",
        "_is_valid = True\n",
        "\n",
        "#함수 식별자 - 함수는 재활용가능에 장점\n",
        "def calculate_area(radius):\n",
        "    return 3.14159 * radius *radius\n",
        "\n",
        "#클래스 식별자\n",
        "class Car:\n",
        "    def __init__(self, model, year):\n",
        "        self.model = model\n",
        "        self.year = year\n",
        "\n",
        "#모듈 식별자\n",
        "import math as m\n"
      ],
      "metadata": {
        "id": "Xs8RS2HtEZyK"
      },
      "execution_count": 8,
      "outputs": []
    },
    {
      "cell_type": "code",
      "source": [
        "def calculate_area(radius):\n",
        "    return 3.14159 * radius *radius"
      ],
      "metadata": {
        "id": "xgNp1OUnFntS"
      },
      "execution_count": 4,
      "outputs": []
    },
    {
      "cell_type": "code",
      "source": [
        "calculate_area(3)"
      ],
      "metadata": {
        "colab": {
          "base_uri": "https://localhost:8080/"
        },
        "id": "4pVskAAL0Q50",
        "outputId": "3717e089-994d-4347-fe73-9ed802dc9612"
      },
      "execution_count": 5,
      "outputs": [
        {
          "output_type": "execute_result",
          "data": {
            "text/plain": [
              "28.274309999999996"
            ]
          },
          "metadata": {},
          "execution_count": 5
        }
      ]
    },
    {
      "cell_type": "code",
      "source": [
        "calculate_area(10)"
      ],
      "metadata": {
        "colab": {
          "base_uri": "https://localhost:8080/"
        },
        "id": "JooCh4sa0UlR",
        "outputId": "1bd3f8ae-1239-4da0-b223-a14d6e8207d6"
      },
      "execution_count": 6,
      "outputs": [
        {
          "output_type": "execute_result",
          "data": {
            "text/plain": [
              "314.159"
            ]
          },
          "metadata": {},
          "execution_count": 6
        }
      ]
    },
    {
      "cell_type": "markdown",
      "source": [
        "###식별자 기본규칙\n",
        "\n",
        "\n",
        "*   키워드를 사용하면 안된다.\n",
        "    - a\n",
        "    -b\n",
        "- 특수문자는 언더 바(_)만 사용\n",
        "*   숫자로 시작하면 안된다\n",
        "- 공백을 포함할 수 없다.\n",
        "\n"
      ],
      "metadata": {
        "id": "CibzFUbZISzH"
      }
    },
    {
      "cell_type": "code",
      "source": [
        "alpha\n",
        "break #키워드\n",
        "alpha10\n",
        "_alpah\n",
        "273alpha #숫자\n",
        "AlpHa\n",
        "ALPHA\n",
        "has space #공백\n"
      ],
      "metadata": {
        "id": "OpAmh79AJdv0"
      },
      "execution_count": null,
      "outputs": []
    },
    {
      "cell_type": "markdown",
      "source": [
        "Q. 주어진 문자열 리스트에서 유효한 Python 변수 이름만을 추출하여 반환하는 함수를 작성하세요\n"
      ],
      "metadata": {
        "id": "X_hNzbwlKEe3"
      }
    },
    {
      "cell_type": "code",
      "source": [
        "#isidentifier()는 파이썬의 문자열 메서드로, 주어진 문자열이 유효한 식별자인지를 확인\n",
        "#isidentifier()는 예약어인지는 따로 체크하지 않음\n",
        "\n",
        "identifiers = [\"var1\", \"2things\", \"variable_name\", \"time!\", \"True\"]\n",
        "\n",
        "def valid_identifiers(identifiers):\n",
        "    valid = []\n",
        "    for identifier in identifiers:\n",
        "        if identifier.isidentifier():\n",
        "            valid.append(identifier)\n",
        "    return valid\n",
        "\n",
        "print(valid_identifiers(identifiers))"
      ],
      "metadata": {
        "colab": {
          "base_uri": "https://localhost:8080/"
        },
        "id": "EKnujMu5J_ot",
        "outputId": "4acf54c2-8732-41b8-f5f9-9f321d2a0721"
      },
      "execution_count": 19,
      "outputs": [
        {
          "output_type": "stream",
          "name": "stdout",
          "text": [
            "['var1', 'variable_name', 'True']\n"
          ]
        }
      ]
    },
    {
      "cell_type": "code",
      "source": [
        "#키워드 모듈 사용하여 예약어 확인\n",
        "import keyword\n",
        "\n",
        "identifiers = [\"var1\", \"2things\", \"variable_name\", \"time!\", \"True\"]\n",
        "\n",
        "def valid_variable_names(identifiers):\n",
        "    valid_identifiers = []\n",
        "    for identifier in identifiers:\n",
        "        if identifier.isidentifier() and not keyword.iskeyword(identifier):\n",
        "            valid_identifiers.append(identifier)\n",
        "    return valid_identifiers\n",
        "\n",
        "print(valid_variable_names(identifiers))"
      ],
      "metadata": {
        "colab": {
          "base_uri": "https://localhost:8080/"
        },
        "id": "cGJUWaQu420c",
        "outputId": "ce36e5a5-b4a7-465e-8e81-95519bb009a1"
      },
      "execution_count": 18,
      "outputs": [
        {
          "output_type": "stream",
          "name": "stdout",
          "text": [
            "['var1', 'variable_name']\n"
          ]
        }
      ]
    },
    {
      "cell_type": "code",
      "source": [
        "identifiers = [\"var1\", \"2things\", \"variable_name\", \"time!\"]\n",
        "\n",
        "for i in identifiers:\n",
        "    if i[0].isdigit() or not i.isalnum():\n",
        "        identifiers.remove(i)\n",
        "print(identifiers)"
      ],
      "metadata": {
        "id": "KIouud9668U3"
      },
      "execution_count": null,
      "outputs": []
    },
    {
      "cell_type": "markdown",
      "source": [
        "문제 해결! 인덱스 문제 항목 지워지면서 건너뛰어짐\n",
        "\n",
        "[Python List] for loop 안에서 list.remove() 사용 시 주의할 점 https://taylor-kang.tistory.com/12"
      ],
      "metadata": {
        "id": "WLXkcPxG69uJ"
      }
    },
    {
      "cell_type": "code",
      "source": [],
      "metadata": {
        "id": "ZChOCiW38JOE"
      },
      "execution_count": null,
      "outputs": []
    },
    {
      "cell_type": "markdown",
      "source": [
        "파이썬은 snake_case와 CamelCase를 모두 사용\n",
        "- itemlist: item_list itemList\n",
        "- loginstatus: login_status loginStatus\n",
        "- 캐멀 케이스 (대문자로 시작) 클래스\n",
        "- 스네이크 케이스(소문자로 시작) 뒤에 ()가 있다 - 함수\n",
        "- 스네이크 케이스(소문자로 시작) 뒤에 ()가 없다 - 변수\n"
      ],
      "metadata": {
        "id": "LFeFrY3I7JIh"
      }
    },
    {
      "cell_type": "code",
      "source": [
        "from re import A\n",
        "# 연산자\n",
        "a = 5\n",
        "b = 3\n",
        "c = b % a\n",
        "d = b // a\n",
        "e = b / a\n",
        "print(c)\n",
        "print(d)\n",
        "print(e)"
      ],
      "metadata": {
        "colab": {
          "base_uri": "https://localhost:8080/"
        },
        "id": "m9PpzgCO7zaX",
        "outputId": "5091c429-473d-4124-aa04-686dde1c96d8"
      },
      "execution_count": 20,
      "outputs": [
        {
          "output_type": "stream",
          "name": "stdout",
          "text": [
            "3\n",
            "0\n",
            "0.6\n"
          ]
        }
      ]
    },
    {
      "cell_type": "code",
      "source": [
        "a = 3\n",
        "b = 5\n",
        "\n",
        "if a > b:\n",
        "    print(a)\n",
        "# False인 상황이라 출력이 되지 않음"
      ],
      "metadata": {
        "id": "uz3NBs-n_qVz"
      },
      "execution_count": 23,
      "outputs": []
    },
    {
      "cell_type": "markdown",
      "source": [
        "#### 자료형\n",
        "- 자료형 또는 데이터 타입이란 숫자, 문자 등과 같이 여러 종류의 데이터를 구분하기 위한 분류\n",
        "- 파이썬의 자료형은 크게 숫자(numbers), 시퀀스(sequence), 매핑(mapping) 등으로 나눌 수 있다.\n",
        "- 파이썬의 기본 자료형\n",
        "  - 수치형\n",
        "    - 정수형 : int는 정수(integer)를 나타낸다. 양의 정수와 음의 정수, 숫자 0\n",
        "    - 실수형 : float는 원래 부동소수점수(floating-point number)를 가리키는데, 지금은 단순히 소수점 이하를 표현할 수 있는 수이다.\n",
        "    - 복소수형 : 복소수를 complex로 나타내고 제곱하면 -1이 되는 수 i를 ‘허수(imaginary number)’라고 하는데 허수 i를 j로 표현\n",
        "  - 시퀀스 : 문자열(str), 리스트(list), 튜플(tuple), 사용자 정의 클래스가 시퀀스에 속한다. for 문에서 사용할 수 있는 것들이 바로 시퀀스\n",
        "    - 문자열 : 문자를 한 줄로 표현하며 문자열 인덱스를 이용해 문자열의 일부를 복사\n",
        "    - 리스트 : 대괄호([ ])로 감싸 주고 각 요솟값은 쉼표(,)로 구분\n",
        "    - 튜플 : 튜플은 ( )으로 둘러싸고 각 요솟값은 쉼표(,)로 구분\n",
        "  - 매핑\n",
        "    - 사전 : 딕셔너리(dict)는 키(key)와 값(value)의 짝으로 이뤄지는데 이런 것을 매핑 콜론으로 구분\n",
        "  - 집합 : 집합을 표현하는 세트(set)\n",
        "  - 블린 : 참, 거짓을 표현"
      ],
      "metadata": {
        "id": "8Tk4N3cPAOt2"
      }
    },
    {
      "cell_type": "code",
      "source": [
        "#정수형, 실수형\n",
        "i1 = 3\n",
        "f1 = 3.5\n",
        "print(i1)\n",
        "print(f1)"
      ],
      "metadata": {
        "colab": {
          "base_uri": "https://localhost:8080/"
        },
        "id": "d-P7aK3_CfYP",
        "outputId": "3184e9a7-c79c-4675-a9fd-912ca45362f8"
      },
      "execution_count": 24,
      "outputs": [
        {
          "output_type": "stream",
          "name": "stdout",
          "text": [
            "3\n",
            "3.5\n"
          ]
        }
      ]
    },
    {
      "cell_type": "code",
      "source": [
        "#정수(int)\n",
        "print(int(True))\n",
        "print(int(False))\n",
        "print(int('100'))\n",
        "print(int(3.14))\n",
        "print(3/3)"
      ],
      "metadata": {
        "colab": {
          "base_uri": "https://localhost:8080/"
        },
        "id": "jS6_QxCsC-1i",
        "outputId": "ea4ba7a7-5986-46d1-b82e-4ae2da7adf08"
      },
      "execution_count": 27,
      "outputs": [
        {
          "output_type": "stream",
          "name": "stdout",
          "text": [
            "1\n",
            "0\n",
            "100\n",
            "3\n",
            "1.0\n"
          ]
        }
      ]
    },
    {
      "cell_type": "code",
      "source": [
        "#실수(float)\n",
        "print(float(True))\n",
        "print(float(False))\n",
        "print(float('100'))\n",
        "print(float(3.14))"
      ],
      "metadata": {
        "colab": {
          "base_uri": "https://localhost:8080/"
        },
        "id": "2qUi_jyTDrid",
        "outputId": "f9134256-9190-4d3e-886d-377e2def35d5"
      },
      "execution_count": 26,
      "outputs": [
        {
          "output_type": "stream",
          "name": "stdout",
          "text": [
            "1.0\n",
            "0.0\n",
            "100.0\n",
            "3.14\n"
          ]
        }
      ]
    },
    {
      "cell_type": "code",
      "source": [
        "# 사직연산 : +, * ,/, //. %, **\n",
        "a = 10\n",
        "b = 2.3\n",
        "print(a+b)\n",
        "print(a*b)\n",
        "print(a/b)\n",
        "print(a//b)\n",
        "print(a%b)\n",
        "print(a**b)"
      ],
      "metadata": {
        "colab": {
          "base_uri": "https://localhost:8080/"
        },
        "id": "7Xyum4k6EJ-C",
        "outputId": "559c2238-0949-415a-9c9f-1ddf541cc89b"
      },
      "execution_count": 28,
      "outputs": [
        {
          "output_type": "stream",
          "name": "stdout",
          "text": [
            "12.3\n",
            "23.0\n",
            "4.347826086956522\n",
            "4.0\n",
            "0.8000000000000007\n",
            "199.52623149688787\n"
          ]
        }
      ]
    },
    {
      "cell_type": "code",
      "source": [
        "#문자열\n",
        "\n",
        "string = '문자열'\n",
        "a = \"100\"\n",
        "\n",
        "print(string)\n",
        "print(a)"
      ],
      "metadata": {
        "colab": {
          "base_uri": "https://localhost:8080/"
        },
        "id": "LwziCNvEFv-9",
        "outputId": "c577efdf-2e4d-4cfc-988f-415ae87dc1ce"
      },
      "execution_count": 31,
      "outputs": [
        {
          "output_type": "stream",
          "name": "stdout",
          "text": [
            "문자열\n",
            "100\n"
          ]
        }
      ]
    },
    {
      "cell_type": "code",
      "source": [
        "a = 100\n",
        "b = 50\n",
        "print(a+b)\n",
        "a = '100 '\n",
        "b = '50'\n",
        "print(a+b)"
      ],
      "metadata": {
        "colab": {
          "base_uri": "https://localhost:8080/"
        },
        "id": "enNgeXI7F48-",
        "outputId": "57badcc6-80a1-4b61-fed3-52c9915ec856"
      },
      "execution_count": 33,
      "outputs": [
        {
          "output_type": "stream",
          "name": "stdout",
          "text": [
            "150\n",
            "100 50\n"
          ]
        }
      ]
    },
    {
      "cell_type": "code",
      "source": [
        "a = int('100')\n",
        "b = int('50')\n",
        "print(a + b)"
      ],
      "metadata": {
        "colab": {
          "base_uri": "https://localhost:8080/"
        },
        "id": "Jp1zKtIEGqI_",
        "outputId": "f959c11a-144a-49dc-eef7-49a03b32f2d6"
      },
      "execution_count": 34,
      "outputs": [
        {
          "output_type": "stream",
          "name": "stdout",
          "text": [
            "150\n"
          ]
        }
      ]
    },
    {
      "cell_type": "code",
      "source": [
        "a = float('100')\n",
        "b = float('50')\n",
        "print(a + b)"
      ],
      "metadata": {
        "colab": {
          "base_uri": "https://localhost:8080/"
        },
        "id": "iUDSOPUlHPJn",
        "outputId": "f9c8d82e-a8f6-4e1e-c60a-0479cf6d3002"
      },
      "execution_count": 35,
      "outputs": [
        {
          "output_type": "stream",
          "name": "stdout",
          "text": [
            "150.0\n"
          ]
        }
      ]
    },
    {
      "cell_type": "code",
      "source": [
        "#사용자 입력\n",
        "#input으로 받은 데이터는 string으로 처리\n",
        "input('인사말을 입력하세요. :')"
      ],
      "metadata": {
        "colab": {
          "base_uri": "https://localhost:8080/",
          "height": 54
        },
        "id": "GON7eLETHVnj",
        "outputId": "3663153a-8b68-4164-f2e9-c0b71f16188b"
      },
      "execution_count": 36,
      "outputs": [
        {
          "name": "stdout",
          "output_type": "stream",
          "text": [
            "인사말을 입력하세요. :안녕~\n"
          ]
        },
        {
          "output_type": "execute_result",
          "data": {
            "text/plain": [
              "'안녕~'"
            ],
            "application/vnd.google.colaboratory.intrinsic+json": {
              "type": "string"
            }
          },
          "metadata": {},
          "execution_count": 36
        }
      ]
    },
    {
      "cell_type": "code",
      "source": [
        "a = int(input('첫번째 숫자: '))\n",
        "b = int(input('두번째 숫자: '))\n",
        "print('두 숫자의 합은 ' , a+b)"
      ],
      "metadata": {
        "colab": {
          "base_uri": "https://localhost:8080/"
        },
        "id": "SADp9Z1wHpvP",
        "outputId": "586becac-d27a-4471-eb78-9e13bce0c743"
      },
      "execution_count": 39,
      "outputs": [
        {
          "output_type": "stream",
          "name": "stdout",
          "text": [
            "첫번째 숫자: 5\n",
            "두번째 숫자: 3\n",
            "두 숫자의 합은  8\n"
          ]
        }
      ]
    },
    {
      "cell_type": "code",
      "source": [
        "#실수 + 실수 -> 실수\n",
        "#Q. 3과 3.3을 입력하고 숫자 연산을 수앻하여 6.3을 출력하세요\n",
        "\n",
        "num1 = float(input('숫자3 입력하시오. '))\n",
        "num2 = float(input('숫자 3.3 입력하시오. '))\n",
        "print('숫자연산을 수행한 결과는 ', num1 + num2)"
      ],
      "metadata": {
        "colab": {
          "base_uri": "https://localhost:8080/"
        },
        "id": "EiKN6A7PITr4",
        "outputId": "eb88e815-5687-4fb4-a726-216deb8ae260"
      },
      "execution_count": 42,
      "outputs": [
        {
          "output_type": "stream",
          "name": "stdout",
          "text": [
            "숫자3 입력하시오. 3\n",
            "숫자 3.3 입력하시오. 3.3\n",
            "숫자연산을 수행한 결과는  6.3\n"
          ]
        }
      ]
    },
    {
      "cell_type": "code",
      "source": [
        "#정수 + 실수 -> 실수\n",
        "#Q. 3과 3.3을 입력하고 숫자 연산을 수앻하여 6.3을 출력하세요\n",
        "\n",
        "num1 = int(input('정수 숫자3 입력하시오. '))\n",
        "num2 = float(input('실수 숫자 3.3 입력하시오. '))\n",
        "print('숫자연산을 수행한 결과는 ', num1 + num2)"
      ],
      "metadata": {
        "colab": {
          "base_uri": "https://localhost:8080/"
        },
        "id": "NMf2RxIqJb1l",
        "outputId": "44922f5d-889c-4903-ef21-fc25f2d45d7c"
      },
      "execution_count": 43,
      "outputs": [
        {
          "output_type": "stream",
          "name": "stdout",
          "text": [
            "정수 숫자3 입력하시오. 3\n",
            "실수 숫자 3.3 입력하시오. 3.3\n",
            "숫자연산을 수행한 결과는  6.3\n"
          ]
        }
      ]
    },
    {
      "cell_type": "code",
      "source": [
        "#Q. a = 52와 b = 52.273일때 a+b는 5252.273으로 출력되도록 a와 b를 문자열 자료형으로 변환하세요.\n",
        "a = 52\n",
        "b = 52.273\n",
        "print(type(a))\n",
        "a = str(a)\n",
        "b = str(b)\n",
        "print(a + b)\n",
        "type(a)"
      ],
      "metadata": {
        "colab": {
          "base_uri": "https://localhost:8080/"
        },
        "id": "gH_Jt2f1MsDN",
        "outputId": "f5237ab5-ace8-4035-910d-87171f9601ec"
      },
      "execution_count": 46,
      "outputs": [
        {
          "output_type": "stream",
          "name": "stdout",
          "text": [
            "<class 'int'>\n",
            "5252.273\n"
          ]
        },
        {
          "output_type": "execute_result",
          "data": {
            "text/plain": [
              "str"
            ]
          },
          "metadata": {},
          "execution_count": 46
        }
      ]
    },
    {
      "cell_type": "code",
      "source": [
        "#문자열 : \"\", '', \"\"\" \"\"\", ''' '''\n",
        "#p1 = 'python's value is great'\n",
        "p1 = \"python's value is great\"\n",
        "print(p1)\n",
        "\n",
        "p1 = '''python's value is great'''\n",
        "print(p1)\n",
        "\n",
        "p1 = \"\"\"python's value is great\"\"\"\n",
        "print(p1)"
      ],
      "metadata": {
        "colab": {
          "base_uri": "https://localhost:8080/"
        },
        "id": "F1lODWmYOBYs",
        "outputId": "8d21c1b9-af9c-449c-fd6e-2888ae52d74a"
      },
      "execution_count": 52,
      "outputs": [
        {
          "output_type": "stream",
          "name": "stdout",
          "text": [
            "python's value is great\n",
            "python's value is great\n",
            "python's value is great\n"
          ]
        }
      ]
    },
    {
      "cell_type": "code",
      "source": [
        "#백슬래시(\\)는 물자열 안에서 작은 따옴표(')를 문자열의 끝을 의미하지 않는 일반 문자로 포함시키기 위해 사용\n",
        "#이 기술을 이스케이프라고 함.\n",
        "\n",
        "p1 = 'python\\'s value is great'\n",
        "print(p1)"
      ],
      "metadata": {
        "colab": {
          "base_uri": "https://localhost:8080/"
        },
        "id": "bwgI_CCOPhqs",
        "outputId": "85e356b6-81b8-4d4a-f0c6-48771564b329"
      },
      "execution_count": 54,
      "outputs": [
        {
          "output_type": "stream",
          "name": "stdout",
          "text": [
            "python's value is great\n"
          ]
        }
      ]
    },
    {
      "cell_type": "code",
      "source": [
        "#\\n 행 바꿈\n",
        "#\\t 탭 이동\n",
        "y1 = \"Once you study data analysis You need Python\"\n",
        "y2 = \"Once you study data analysis\\nYou need Python\"\n",
        "y3 = \"Once you study data analysis\\tYou need Python\"\n",
        "print(y1)\n",
        "print(\"=\" * 50)\n",
        "print(y2)\n",
        "print(\"=\" * 50)\n",
        "print(y3)"
      ],
      "metadata": {
        "colab": {
          "base_uri": "https://localhost:8080/"
        },
        "id": "5qRbSwYBP06M",
        "outputId": "0e231ea8-700b-4c2a-f170-6ed9a456bb52"
      },
      "execution_count": 58,
      "outputs": [
        {
          "output_type": "stream",
          "name": "stdout",
          "text": [
            "Once you study data analysis You need Python\n",
            "==================================================\n",
            "Once you study data analysis\n",
            "You need Python\n",
            "==================================================\n",
            "Once you study data analysis\tYou need Python\n"
          ]
        }
      ]
    },
    {
      "cell_type": "code",
      "source": [
        "y2 = '''\n",
        "Once you study data analysis\n",
        "You need Python\n",
        "==================================================\n",
        "                            \tYou need Python\n",
        "'''\n",
        "y3 = \"\"\"\n",
        "Once you study data analysis\n",
        "You need Python\n",
        "==================================================\n",
        "                            \tYou need Python\n",
        "\"\"\"\n",
        "print(y2)\n",
        "print(y3)"
      ],
      "metadata": {
        "colab": {
          "base_uri": "https://localhost:8080/"
        },
        "id": "NDbu2724Rs9X",
        "outputId": "108b3b9a-4de8-40e1-ac5b-17e02d318a50"
      },
      "execution_count": 67,
      "outputs": [
        {
          "output_type": "stream",
          "name": "stdout",
          "text": [
            "\n",
            "Once you study data analysis\n",
            "You need Python\n",
            "==================================================\n",
            "                            \tYou need Python\n",
            "\n",
            "\n",
            "Once you study data analysis\n",
            "You need Python\n",
            "==================================================\n",
            "                            \tYou need Python\n",
            "\n"
          ]
        }
      ]
    },
    {
      "cell_type": "code",
      "source": [
        "a1 = 'Python'\n",
        "a2 = ' is easy to learn'\n",
        "print(a1 + a2)\n",
        "print(\"=\" * 23)"
      ],
      "metadata": {
        "colab": {
          "base_uri": "https://localhost:8080/"
        },
        "id": "-E25o_wwSUCD",
        "outputId": "038a5951-2009-48ab-dce2-664f0d3c46ca"
      },
      "execution_count": 69,
      "outputs": [
        {
          "output_type": "stream",
          "name": "stdout",
          "text": [
            "Python is easy to learn\n",
            "=======================\n"
          ]
        }
      ]
    },
    {
      "cell_type": "code",
      "source": [
        "a = int(input('정수형 숫자를 입력하시오: '))\n",
        "b = int(float(input('실수형 숫자를 입력하시오: ')))\n",
        "\n",
        "if a > b:\n",
        "    print(f'정수형 숫자 {a}가 더 큽니다.')\n",
        "elif a < b:\n",
        "    print(f'실수형 숫자 {b}가 더 큽니다.')\n",
        "else:\n",
        "    print('두 숫자는 같습니다.')"
      ],
      "metadata": {
        "colab": {
          "base_uri": "https://localhost:8080/"
        },
        "id": "kyt1cVTMT_ME",
        "outputId": "26620766-ada8-4d88-8b65-fcb8ae3caa6b"
      },
      "execution_count": 76,
      "outputs": [
        {
          "output_type": "stream",
          "name": "stdout",
          "text": [
            "정수형 숫자를 입력하시오: 3\n",
            "실수형 숫자를 입력하시오: 3.3\n",
            "두 숫자는 같습니다.\n"
          ]
        }
      ]
    },
    {
      "cell_type": "code",
      "source": [
        "#Q. 아래와 같이 출력할 수 있는 string을 만드세요\n",
        "string = \"\"\"\n",
        "\"What a wonderful world!\"\n",
        "he said loudly\n",
        "\"\"\"\n",
        "print(string)"
      ],
      "metadata": {
        "colab": {
          "base_uri": "https://localhost:8080/"
        },
        "id": "PLoQPjrtUQHI",
        "outputId": "a2e79c25-4258-4fba-c526-2fed6517ae03"
      },
      "execution_count": 71,
      "outputs": [
        {
          "output_type": "stream",
          "name": "stdout",
          "text": [
            "\n",
            "\"What a wonderful world!\"\n",
            "he said loudly\n",
            "\n"
          ]
        }
      ]
    },
    {
      "cell_type": "code",
      "source": [
        "#자료형 - List\n",
        "#리스트는 [] 로 표시하면 []안의 요소를 콤마로 구분하여 순서있게 나열\n",
        "list1 = [1,2,3,4,5]\n",
        "list2 = ['a', 'b', 'c']\n",
        "list3 = [1, 'a', 'abc', [1,2,3,4,5], ['a', 'b', 'c']]\n",
        "print(list1)\n",
        "print(list2)\n",
        "print(list3)"
      ],
      "metadata": {
        "colab": {
          "base_uri": "https://localhost:8080/"
        },
        "id": "z-fPZFrPUrbK",
        "outputId": "7a9f9422-30ad-4945-c28e-0bc765f6204f"
      },
      "execution_count": 77,
      "outputs": [
        {
          "output_type": "stream",
          "name": "stdout",
          "text": [
            "[1, 2, 3, 4, 5]\n",
            "['a', 'b', 'c']\n",
            "[1, 'a', 'abc', [1, 2, 3, 4, 5], ['a', 'b', 'c']]\n"
          ]
        }
      ]
    },
    {
      "cell_type": "code",
      "source": [
        "#인덱싱\n",
        "\n",
        "list1 = [1,2,3,4,5]\n",
        "print(list1[2])\n",
        "print(list1[0:2])\n",
        "print(list1[:4])"
      ],
      "metadata": {
        "colab": {
          "base_uri": "https://localhost:8080/"
        },
        "id": "9nTCFAQeYHeJ",
        "outputId": "c58a6697-49eb-4557-9cee-1450f608d3d6"
      },
      "execution_count": 78,
      "outputs": [
        {
          "output_type": "stream",
          "name": "stdout",
          "text": [
            "3\n",
            "[1, 2]\n",
            "[1, 2, 3, 4]\n"
          ]
        }
      ]
    },
    {
      "cell_type": "code",
      "source": [
        "list3 = [1, 'a', 'abc', [1,2,3,4,5], ['a', 'b', 'c']]\n",
        "#리스트내 리스트 인덱싱\n",
        "list3[3][2]\n",
        "list3[4][0]"
      ],
      "metadata": {
        "colab": {
          "base_uri": "https://localhost:8080/",
          "height": 35
        },
        "id": "mUYiPB_kqZn-",
        "outputId": "ef2f0ce4-c6aa-430d-c781-d139cfc2a8ae"
      },
      "execution_count": 80,
      "outputs": [
        {
          "output_type": "execute_result",
          "data": {
            "text/plain": [
              "'a'"
            ],
            "application/vnd.google.colaboratory.intrinsic+json": {
              "type": "string"
            }
          },
          "metadata": {},
          "execution_count": 80
        }
      ]
    },
    {
      "cell_type": "code",
      "source": [
        "#리스트 수정, 삭제\n",
        "a = [ 0, 1, 2, 3, 4, 5, 6, 7, 8, 9]\n",
        "b = ['a', 'b', 'c']\n",
        "a[0] = 1\n",
        "print(a)\n",
        "b[1] = 'a'\n",
        "print(b)\n",
        "del a[0]\n",
        "print(a)\n",
        "del b[1]\n",
        "print(b)"
      ],
      "metadata": {
        "colab": {
          "base_uri": "https://localhost:8080/"
        },
        "id": "kwxk595Cq8NI",
        "outputId": "4a2ecae5-ddcc-4123-ac50-2247eb0151d5"
      },
      "execution_count": 81,
      "outputs": [
        {
          "output_type": "stream",
          "name": "stdout",
          "text": [
            "[1, 1, 2, 3, 4, 5, 6, 7, 8, 9]\n",
            "['a', 'a', 'c']\n",
            "[1, 2, 3, 4, 5, 6, 7, 8, 9]\n",
            "['a', 'c']\n"
          ]
        }
      ]
    },
    {
      "cell_type": "code",
      "source": [
        "#끝에서 부터 인덱싱 : -1\n",
        "a = [ 0, 1, 2, 3, 4, 5, 6, 7, 8, 9]\n",
        "b = ['a', 'b', 'c']\n",
        "print(a[-2])\n",
        "print(a[-4:-1])\n",
        "print(a[-4:])"
      ],
      "metadata": {
        "colab": {
          "base_uri": "https://localhost:8080/"
        },
        "id": "zKuNOxiEsbop",
        "outputId": "3eb4bb63-e9f6-4ba9-c96a-bf8f8c173200"
      },
      "execution_count": 82,
      "outputs": [
        {
          "output_type": "stream",
          "name": "stdout",
          "text": [
            "8\n",
            "[6, 7, 8]\n",
            "[6, 7, 8, 9]\n"
          ]
        }
      ]
    },
    {
      "cell_type": "code",
      "source": [
        "#리스트 확장\n",
        "h = [1,2,3]\n",
        "h.extend([4,5]) #반복 가능한 객체의 모든 요소를 리스트에 추가\n",
        "print(h)\n",
        "h.append(6)  #단일 객체를 추가\n",
        "print(h)\n",
        "h.insert(0,5)   #원하는 위치에 객체를 추가\n",
        "print(h)"
      ],
      "metadata": {
        "colab": {
          "base_uri": "https://localhost:8080/"
        },
        "id": "yX_xEaxBtYNW",
        "outputId": "5b348bb3-1bc1-4a1b-8a99-fd472c57fd29"
      },
      "execution_count": 83,
      "outputs": [
        {
          "output_type": "stream",
          "name": "stdout",
          "text": [
            "[1, 2, 3, 4, 5]\n",
            "[1, 2, 3, 4, 5, 6]\n",
            "[5, 1, 2, 3, 4, 5, 6]\n"
          ]
        }
      ]
    },
    {
      "cell_type": "code",
      "source": [],
      "metadata": {
        "id": "NJ07GZhtugOr"
      },
      "execution_count": null,
      "outputs": []
    },
    {
      "cell_type": "markdown",
      "source": [
        "Q. list1에서 다음을 수행하세요\n",
        "- 33을 출력\n",
        "- 82를 리스트에 추가\n",
        "- 87의 인덱스 구하기 - 도전\n",
        "- 인덱스 3에서 10까지의 값을 출력하고 list2에 저장한 후 내림차순 정렬하기 - 도전\n",
        "- 39를 11로 변경\n",
        "- [69,45,58] 출력\n",
        "- 짝수 인덱스의 값으로 구성된 리스트 출력하기\n",
        "- 인덱스가 가장 큰수를 삭제하기\n",
        "- 인덱스 3, 5인 값으로 4칙 연산하기\n",
        "\n",
        "list1 = [58, 45, 69, 19,  4, 87, 29, 13, 39, 15, 54, [8, 33, 11], 27, 49, 63, 98, 22, 82]"
      ],
      "metadata": {
        "id": "mEayZbG1vCvj"
      }
    },
    {
      "cell_type": "code",
      "source": [
        "list1 = [58, 45, 69, 19, 4, 87, 29, 13, 39, 15, 54, [8, 33, 11], 27, 49, 63, 98, 22, 82]\n",
        "print(list1[11][1])\n",
        "list1.append(82)\n",
        "print(list1)\n",
        "print(list1.index(87))\n",
        "list2 =[]\n",
        "list2 = list1[3:11]\n",
        "list2.sort(reverse=True)\n",
        "print(list2)\n",
        "list1 [8] = 11\n",
        "print(list1)\n",
        "print(list1[2::-1]) #데이터 처리에 중요한 부분\n",
        "print(list1[0::2])  #데이터 처리에 중요한 부분\n",
        "del list1[-1]\n",
        "print(list1)\n",
        "print(list1[3] + list1[5])\n",
        "print(list1[3] - list1[5])\n",
        "print(list1[3] * list1[5])\n",
        "print(list1[3] / list1[5])\n",
        "\n"
      ],
      "metadata": {
        "colab": {
          "base_uri": "https://localhost:8080/"
        },
        "id": "2LGJcHTDvojp",
        "outputId": "1aace656-ee67-43a5-dee8-8e9f7c925f63"
      },
      "execution_count": 110,
      "outputs": [
        {
          "output_type": "stream",
          "name": "stdout",
          "text": [
            "33\n",
            "[58, 45, 69, 19, 4, 87, 29, 13, 39, 15, 54, [8, 33, 11], 27, 49, 63, 98, 22, 82, 82]\n",
            "5\n",
            "[87, 54, 39, 29, 19, 15, 13, 4]\n",
            "[58, 45, 69, 19, 4, 87, 29, 13, 11, 15, 54, [8, 33, 11], 27, 49, 63, 98, 22, 82, 82]\n",
            "[69, 45, 58]\n",
            "[58, 69, 4, 29, 11, 54, 27, 63, 22, 82]\n",
            "[58, 45, 69, 19, 4, 87, 29, 13, 11, 15, 54, [8, 33, 11], 27, 49, 63, 98, 22, 82]\n",
            "106\n",
            "-68\n",
            "1653\n",
            "0.21839080459770116\n"
          ]
        }
      ]
    },
    {
      "cell_type": "code",
      "source": [
        "list1 = [58, 45, 69, 19, 4, 87, 29, 13, 39, 15, 54, [8, 33, 11], 27, 49, 63, 98, 22, 82]\n",
        "\n",
        "position = list1.index(87)\n",
        "list1[position] = 555\n",
        "print(list1)"
      ],
      "metadata": {
        "colab": {
          "base_uri": "https://localhost:8080/"
        },
        "id": "Lj8vlfQLz0Wm",
        "outputId": "9a9ab244-643e-45e9-ef12-a46d45427625"
      },
      "execution_count": 112,
      "outputs": [
        {
          "output_type": "stream",
          "name": "stdout",
          "text": [
            "[58, 45, 69, 19, 4, 555, 29, 13, 39, 15, 54, [8, 33, 11], 27, 49, 63, 98, 22, 82]\n"
          ]
        }
      ]
    },
    {
      "cell_type": "code",
      "source": [
        "list1 = [58, 45, 69, 19, 4, 87, 29, 13, 39, 15, 54, 27, 49, 63, 98, 22, 82]\n",
        "list2 = []\n",
        "for i in list1:\n",
        "    if i % 2 == 1:\n",
        "        list2.append(i)\n",
        "print(list2)"
      ],
      "metadata": {
        "colab": {
          "base_uri": "https://localhost:8080/"
        },
        "id": "x4IwFU9-6c6H",
        "outputId": "0b350e1d-616c-453c-eb73-0de672aa7385"
      },
      "execution_count": 117,
      "outputs": [
        {
          "output_type": "stream",
          "name": "stdout",
          "text": [
            "[45, 69, 19, 87, 29, 13, 39, 15, 27, 49, 63]\n"
          ]
        }
      ]
    },
    {
      "cell_type": "code",
      "source": [
        "list1 = [58, 45, 69, 19, 4, 87, 29, 13, 39, 15, 54, [8, 33, 11], 27, 49, 63, 98, 22, 82]\n",
        "print(list1)\n",
        "print(list1[7::-1], '\\n')\n",
        "print(list1[7::2], '\\n')\n",
        "print(list1[7::-2], '\\n')\n"
      ],
      "metadata": {
        "colab": {
          "base_uri": "https://localhost:8080/"
        },
        "id": "dt71Liy-8Wo0",
        "outputId": "07655ca3-7872-4178-cd7d-d5b140fe4a7e"
      },
      "execution_count": 122,
      "outputs": [
        {
          "output_type": "stream",
          "name": "stdout",
          "text": [
            "[58, 45, 69, 19, 4, 87, 29, 13, 39, 15, 54, [8, 33, 11], 27, 49, 63, 98, 22, 82]\n",
            "[13, 29, 87, 4, 19, 69, 45, 58] \n",
            "\n",
            "[13, 15, [8, 33, 11], 49, 98, 82] \n",
            "\n",
            "[13, 87, 19, 45] \n",
            "\n"
          ]
        }
      ]
    },
    {
      "cell_type": "markdown",
      "source": [
        "#### sort 와 sorted 차이점\n",
        "\n",
        "1. 메서드 vs 함수:\n",
        "- sort(): ***리스트 객체***의 내장 메서드입니다. 즉, 리스트에서만 사용할 수 있습니다.\n",
        "- sorted(): *내장 함수*로, 어떤 반복 가능한(iterable) 객체에도 사용될 수 있습니다. 예를 들면 리스트, 튜플, 딕셔너리, 문자열 등에 사용할 수 있습니다.\n",
        "\n",
        "2. 반환 값:\n",
        "- sort(): 리스트를 원 위치에서(in-place) 정렬하고 None을 반환합니다. 따라서 원래의 리스트 자체가 변경됩니다.\n",
        "- sorted(): 정렬된 새로운 리스트를 반환합니다. 원래의 객체는 변경되지 않습니다.\n",
        "\n",
        "3. 유용성:\n",
        "- sort(): 리스트에서만 작동하기 때문에 리스트만 정렬할 수 있습니다.\n",
        "- sorted(): 다양한 객체를 정렬할 수 있으며 결과는 항상 리스트로 반환됩니다."
      ],
      "metadata": {
        "id": "bHyr800F9wv-"
      }
    },
    {
      "cell_type": "code",
      "source": [
        "#sort()\n",
        "my_list = [3, 1, 2]\n",
        "my_list.sort()\n",
        "print(my_list)"
      ],
      "metadata": {
        "colab": {
          "base_uri": "https://localhost:8080/"
        },
        "id": "mQ7VTBs48xB1",
        "outputId": "c354d8d4-5554-4f1c-ca15-73c1bab73a47"
      },
      "execution_count": 124,
      "outputs": [
        {
          "output_type": "stream",
          "name": "stdout",
          "text": [
            "[1, 2, 3]\n"
          ]
        }
      ]
    },
    {
      "cell_type": "code",
      "source": [
        "#sorted()\n",
        "my_tuple = (3, 1, 2)\n",
        "new_list = sorted(my_tuple)\n",
        "print(my_tuple)\n",
        "print(new_list)"
      ],
      "metadata": {
        "colab": {
          "base_uri": "https://localhost:8080/"
        },
        "id": "cJZZji4DBCPv",
        "outputId": "9e30b678-0c0a-4497-900d-caac40830b0e"
      },
      "execution_count": 126,
      "outputs": [
        {
          "output_type": "stream",
          "name": "stdout",
          "text": [
            "(3, 1, 2)\n",
            "[1, 2, 3]\n"
          ]
        }
      ]
    },
    {
      "cell_type": "code",
      "source": [
        "d = {\"dream\": 0, \"car\": 99, \"blockdmask\": 1, \"error\": 30, \"app\": 20}\n",
        "\n",
        "# 오리지널 딕셔너리\n",
        "print(f'origin         : {d}\\n')\n",
        "\n",
        "# dictionary.items()\n",
        "d1 = sorted(d.items())\n",
        "print(f'sorted(d.items())      : {d1}')\n",
        "print(f'dict(sorted(d.items()) : {dict(d1)}')\n",
        "\n",
        "print()\n",
        "\n",
        "# 키 값만 빼서 정렬하려는 경우, key 만 빠지기 때문에 딕셔너리가 될수 없다.\n",
        "d2 = sorted(d)\n",
        "print(f'sorted(d)       : {d2}')"
      ],
      "metadata": {
        "colab": {
          "base_uri": "https://localhost:8080/"
        },
        "id": "aWbwQi6jBQE2",
        "outputId": "eb2879eb-ceb2-48cb-af8b-573967ca0fc9"
      },
      "execution_count": 128,
      "outputs": [
        {
          "output_type": "stream",
          "name": "stdout",
          "text": [
            "origin         : {'dream': 0, 'car': 99, 'blockdmask': 1, 'error': 30, 'app': 20}\n",
            "\n",
            "sorted(d.items())      : [('app', 20), ('blockdmask', 1), ('car', 99), ('dream', 0), ('error', 30)]\n",
            "dict(sorted(d.items()) : {'app': 20, 'blockdmask': 1, 'car': 99, 'dream': 0, 'error': 30}\n",
            "\n",
            "sorted(d)       : ['app', 'blockdmask', 'car', 'dream', 'error']\n"
          ]
        }
      ]
    },
    {
      "cell_type": "markdown",
      "source": [],
      "metadata": {
        "id": "nkwXE8pHDqSy"
      }
    },
    {
      "cell_type": "code",
      "source": [
        "list = [5,6,9,7,8]\n",
        "new_list = list.sort()\n",
        "print(list)\n",
        "print(new_list)     # sort()는 리턴값 없음"
      ],
      "metadata": {
        "colab": {
          "base_uri": "https://localhost:8080/"
        },
        "id": "i5X2s9IrDi-p",
        "outputId": "00e43ebb-0d5d-40d9-f33b-af2ee7baa772"
      },
      "execution_count": 130,
      "outputs": [
        {
          "output_type": "stream",
          "name": "stdout",
          "text": [
            "[5, 6, 7, 8, 9]\n",
            "None\n"
          ]
        }
      ]
    },
    {
      "cell_type": "code",
      "source": [
        "list = [5,6,9,7,8]\n",
        "new_list = sorted(list)\n",
        "print(list)\n",
        "print(new_list)         #sorted()는 리턴값 있음"
      ],
      "metadata": {
        "colab": {
          "base_uri": "https://localhost:8080/"
        },
        "id": "vNtOs2YNEqq4",
        "outputId": "225c6b8e-260f-4546-eedf-49b0ec831d8f"
      },
      "execution_count": 132,
      "outputs": [
        {
          "output_type": "stream",
          "name": "stdout",
          "text": [
            "[5, 6, 9, 7, 8]\n",
            "[5, 6, 7, 8, 9]\n"
          ]
        }
      ]
    },
    {
      "cell_type": "code",
      "source": [
        "list1 = [58, 45, 69, 19, 4, 87, 29, 13, 39, 15, 54, [8, 33, 11], 27, 49, 63, 98, 22, 82]\n",
        "list2 = list1[3:11]\n",
        "l_sort = sorted(list2, reverse=True)\n",
        "l_sort"
      ],
      "metadata": {
        "colab": {
          "base_uri": "https://localhost:8080/"
        },
        "id": "iFxe16QUFCwx",
        "outputId": "0ec4ee2a-3aca-4cb9-9ebb-9e1b498345e6"
      },
      "execution_count": 133,
      "outputs": [
        {
          "output_type": "execute_result",
          "data": {
            "text/plain": [
              "[87, 54, 39, 29, 19, 15, 13, 4]"
            ]
          },
          "metadata": {},
          "execution_count": 133
        }
      ]
    },
    {
      "cell_type": "code",
      "source": [
        "list3 = list1[3:11]\n",
        "list3.sort(reverse=True)\n",
        "print(list3)"
      ],
      "metadata": {
        "colab": {
          "base_uri": "https://localhost:8080/"
        },
        "id": "DC3PmD4uGPEA",
        "outputId": "478822a0-4e06-4eb9-dc3b-2920c42dffcf"
      },
      "execution_count": 135,
      "outputs": [
        {
          "output_type": "stream",
          "name": "stdout",
          "text": [
            "[87, 54, 39, 29, 19, 15, 13, 4]\n"
          ]
        }
      ]
    },
    {
      "cell_type": "markdown",
      "source": [
        "q. 아래 list를 sort, sorted를 이용해서 올림차순, 내림차룬으로 각각 출력하라"
      ],
      "metadata": {
        "id": "VUn5rfk-Gzp2"
      }
    },
    {
      "cell_type": "code",
      "source": [],
      "metadata": {
        "id": "YxhRbjg8GgRJ"
      },
      "execution_count": null,
      "outputs": []
    },
    {
      "cell_type": "markdown",
      "source": [
        "Task1_0425. 주어진 숫자 리스트에서 최소값과 최대값을 찾아 출력하세요.\n",
        "\n",
        "numbers = [58, 45, 69, 19, 4, 87, 29, 13, 39, 15]"
      ],
      "metadata": {
        "id": "Ivi2Td54HFal"
      }
    },
    {
      "cell_type": "markdown",
      "source": [
        "Task2_0425. 주어진 숫자 리스트의 모든 요소의 합계와 평균을 계산하고 출력하세요\n",
        "\n",
        "numbers = [58, 45, 69, 19, 4, 87, 29, 13, 39, 15]"
      ],
      "metadata": {
        "id": "kQHaD6SiHHjV"
      }
    },
    {
      "cell_type": "markdown",
      "source": [
        "Task3_0425. 주어진 리스트에서 특정 요소가 등장하는 모든 인덱스를 리스트로 만들어 출력하세요.\n",
        "\n",
        "items = ['apple', 'banana', 'cherry', 'apple', 'cherry', 'apple']\\\n",
        "target = 'apple'\n"
      ],
      "metadata": {
        "id": "UHEYFku9HMJi"
      }
    },
    {
      "cell_type": "markdown",
      "source": [
        "Task4_0425. 주어진 리스트에서 연속해서 반복되는 요소만 제거하고, 결과 리스트를 반환하세요. 단, 처음 등장하는 요소는 유지해야 합니다.\n",
        "\n",
        "예를 들어, ['a', 'a', 'b', 'c', 'c', 'c', 'd', 'e', 'e']가 입력되면, ['a', 'b', 'c', 'd', 'e']를 출력해야 합니다."
      ],
      "metadata": {
        "id": "gF4Axlm8HMti"
      }
    },
    {
      "cell_type": "markdown",
      "source": [
        "Task5_0425 주어진 정수 리스트와 회전 횟수 k에 대해 리스트를 오른쪽으로 k만큼 회전시킨 결과를 반환하세요. k가 리스트의 길이보다 클 수 있으며, 이 경우 k를 리스트 길이로 나눈 나머지만큼 실제 회전시키면 됩니다.\n",
        "\n",
        "예를 들어, [1, 2, 3, 4, 5]와 k=2가 주어지면, 결과는 [4, 5, 1, 2, 3]이 되어야 합니다."
      ],
      "metadata": {
        "id": "zWOVLSBqHPiX"
      }
    }
  ]
}