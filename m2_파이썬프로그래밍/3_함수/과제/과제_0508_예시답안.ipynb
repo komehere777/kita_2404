{
  "nbformat": 4,
  "nbformat_minor": 0,
  "metadata": {
    "colab": {
      "provenance": []
    },
    "kernelspec": {
      "name": "python3",
      "display_name": "Python 3"
    },
    "language_info": {
      "name": "python"
    }
  },
  "cells": [
    {
      "cell_type": "markdown",
      "source": [
        "Task1_0508. title() 함수를 사용하지 않고 동일한 결과를 출력하세요."
      ],
      "metadata": {
        "id": "qysfoO5wDAEY"
      }
    },
    {
      "cell_type": "code",
      "execution_count": null,
      "metadata": {
        "colab": {
          "base_uri": "https://localhost:8080/"
        },
        "id": "xvM2MhUHC6J_",
        "outputId": "fc972550-381b-455f-fa3c-e4d362f5aa0b"
      },
      "outputs": [
        {
          "output_type": "stream",
          "name": "stdout",
          "text": [
            "영어 이름을 적어주세요: kim sung hyun\n",
            "Kim Sung Hyun\n"
          ]
        }
      ],
      "source": [
        "#Q.영어 이름을 적으면 앞에 글자를 대문자로 바꾸어 주는 프로그램\n",
        "#단 중간에 한칸씩 띄어주어야 함 ex) kim dong wan\n",
        "\n",
        "name = input(\"영어 이름을 적어주세요: \")\n",
        "name = name.strip().split()\n",
        "result = []\n",
        "for i in name:\n",
        "    result.append(i[0].upper()+i[1:])\n",
        "print(' '.join(result))"
      ]
    },
    {
      "cell_type": "code",
      "source": [
        "name = input(\"영어 이름을 적어주세요: \")\n",
        "name = name.strip().split()\n",
        "result = []\n",
        "for i in name:\n",
        "    result.append(i.capitalize())\n",
        "print(' '.join(result))"
      ],
      "metadata": {
        "colab": {
          "base_uri": "https://localhost:8080/"
        },
        "id": "zM0wouu7jK3j",
        "outputId": "0fabf10b-1a3e-401b-949c-d9743938b197"
      },
      "execution_count": null,
      "outputs": [
        {
          "output_type": "stream",
          "name": "stdout",
          "text": [
            "영어 이름을 적어주세요: kim sung hyun\n",
            "['kim', 'sung', 'hyun']\n",
            "['Kim', 'Sung', 'Hyun']\n",
            "Kim Sung Hyun\n"
          ]
        }
      ]
    },
    {
      "cell_type": "code",
      "source": [
        "#ex\n",
        "# Task1_0508. title() 함수를 사용하지 않고 동일한 결과를 출력하세요.\n",
        "# w/o .title()\n",
        "# 단 중간에 한깐씩 띄워주어야 함 ex) kim dong wan\n",
        "# choi hwan wook ====> Choi Hwan Wook\n",
        "\n",
        "\n",
        "in_name=input(\"이름을 영문으로 입력해주세요: \").lower()\n",
        "inname_split=[]; inname_split=in_name.strip().split(\" \")\n",
        "for i in inname_split:\n",
        "  k=0\n",
        "  for j in i:\n",
        "    if k == 0:\n",
        "      print(j.upper(),end=\"\")\n",
        "    else: print(j,end=\"\")\n",
        "    k += 1\n",
        "  print(\" \",end=\"\")"
      ],
      "metadata": {
        "id": "_dY4Imraw_XA"
      },
      "execution_count": null,
      "outputs": []
    },
    {
      "cell_type": "code",
      "source": [
        "#ex\n",
        "a = input(\"이름을 영어로 입력하세요.\")\n",
        "\n",
        "b=a.strip().split(\" \")\n",
        "e =\"\"\n",
        "\n",
        "for i in range(len(b)):\n",
        "    c = list(b[i])\n",
        "\n",
        "    c[0] = c[0].upper()\n",
        "    d = \"\".join(c)\n",
        "    c = []\n",
        "    e = e + d + \" \"\n",
        "print(f\"당신의 이름을 바꾸면 {e}입니다.\")"
      ],
      "metadata": {
        "id": "wENK_OLm3qoL"
      },
      "execution_count": null,
      "outputs": []
    },
    {
      "cell_type": "markdown",
      "source": [
        "Task2_0508. join 함수를 이용해서 ['a','b','c']을 아래와 같이 출력하세요.\n",
        "\n",
        "a::b::c"
      ],
      "metadata": {
        "id": "QnDs2W41JTJF"
      }
    },
    {
      "cell_type": "code",
      "source": [
        "list1 =  ['a','b','c']\n",
        "print('::'.join(list1))"
      ],
      "metadata": {
        "colab": {
          "base_uri": "https://localhost:8080/"
        },
        "id": "VUoSoWdsJW_k",
        "outputId": "52b4c761-2f0b-4579-9d41-a99b2416e02a"
      },
      "execution_count": null,
      "outputs": [
        {
          "output_type": "stream",
          "name": "stdout",
          "text": [
            "a::b::c\n"
          ]
        }
      ]
    },
    {
      "cell_type": "markdown",
      "source": [
        "Task3_0508. 다음을 수행하세요.\n",
        "- 사용자로부터 문자열을 입력받습니다.\n",
        "- 입력받은 문자열이 숫자로만 이루어져 있는지 확인합니다.\n",
        "- 만약 숫자로만 이루어져 있다면, 그 숫자를 정수로 변환하여 100을 더한 결과를 출력합니다.\n",
        "- 숫자가 아닌 문자가 포함되어 있다면, 사용자에게 숫자만 입력하라는 메시지를 출력합니다.\n",
        "- 연산이 수행이 완료될 때까지 반복하고 수행이 완료되면 break 합니다."
      ],
      "metadata": {
        "id": "54Ut4WDpOJqk"
      }
    },
    {
      "cell_type": "code",
      "source": [
        "while 1:\n",
        "    string = input('문자열을 입력하세요: ')\n",
        "    if string.isdigit():\n",
        "        print(int(string) + 100)\n",
        "        break\n",
        "    else:\n",
        "        print(\"숫자만 입력해주세요\")"
      ],
      "metadata": {
        "colab": {
          "base_uri": "https://localhost:8080/"
        },
        "id": "udYJI2cbOhz1",
        "outputId": "a6df3839-e67b-4538-ec30-9a96eb45cdf2"
      },
      "execution_count": null,
      "outputs": [
        {
          "output_type": "stream",
          "name": "stdout",
          "text": [
            "문자열을 입력하세요: 1g\n",
            "숫자만 입력해주세요\n",
            "문자열을 입력하세요: 10\n",
            "110\n"
          ]
        }
      ]
    },
    {
      "cell_type": "code",
      "source": [
        "#other  ?\n",
        "while True:\n",
        "  try:\n",
        "    a = input(\"문자열을 입력하세요. : \")\n",
        "    a1 = a.isdigit()\n",
        "    if a1 == True:\n",
        "        print(f\"{int(a)+100}\")\n",
        "        break\n",
        "    else :\n",
        "        print(\"숫자만 입력해주세요.\")\n",
        "  except :\n",
        "        print(\"\")"
      ],
      "metadata": {
        "id": "eqPVBK2CzAmC"
      },
      "execution_count": null,
      "outputs": []
    },
    {
      "cell_type": "markdown",
      "source": [
        "Task4_0508. 문자와 숫자로만 구성된 아이디만 유효한 규칙을 만들려고 한다. 아래 사항을 참조하여 프로그램을 작성하세요.\n",
        "- 사용자로부터 문자열을 입력받습니다.\n",
        "- 입력받은 문자열이 알파벳과 숫자로만 이루어져 있는지 확인합니다.\n",
        "- 만약 조건을 만족한다면 \"유효한 아이디입니다\"라고 출력합니다.\n",
        "- 그렇지 않다면, \"아이디는 알파벳과 숫자만 포함할 수 있습니다\"라고 메시지를 출력하고 다시 입력하도록 한다."
      ],
      "metadata": {
        "id": "6pjYX6SUOiZ2"
      }
    },
    {
      "cell_type": "code",
      "source": [
        "while 1:\n",
        "    string = input('문자열을 입력하세요: ')\n",
        "    if string.isalnum():\n",
        "        print(\"유효한 아이디입니다.\")\n",
        "        break\n",
        "    else:\n",
        "        print(\"아이디는 알파벳과 숫자만 포함할 수 있습니다\")"
      ],
      "metadata": {
        "colab": {
          "base_uri": "https://localhost:8080/"
        },
        "id": "IOj47sDaQCV6",
        "outputId": "4a27940d-320b-4d82-9ea1-e64dfbc9af7c"
      },
      "execution_count": null,
      "outputs": [
        {
          "output_type": "stream",
          "name": "stdout",
          "text": [
            "문자열을 입력하세요: dks!\n",
            "아이디는 알파벳과 숫자만 포함할 수 있습니다\n",
            "문자열을 입력하세요: dk12\n",
            "유효한 아이디입니다.\n"
          ]
        }
      ]
    },
    {
      "cell_type": "markdown",
      "source": [
        "Task5_0508. 코딩을 한줄로 작성해서 동일한 결과를 출력하세요.\\\n",
        "list = []\n",
        "for i in range(0,20,2):\\\n",
        "    list.append(i*i)\\\n",
        "print(list)"
      ],
      "metadata": {
        "id": "XJFeMUrYTRFv"
      }
    },
    {
      "cell_type": "code",
      "source": [
        "#리스트 컴프리헨션\n",
        "print([i*i for i in range(0,20,2)])"
      ],
      "metadata": {
        "colab": {
          "base_uri": "https://localhost:8080/"
        },
        "id": "9gUM9hzMTQjQ",
        "outputId": "79eb9c43-4992-42ca-ccd6-bb963290ff4b"
      },
      "execution_count": null,
      "outputs": [
        {
          "output_type": "stream",
          "name": "stdout",
          "text": [
            "[0, 4, 16, 36, 64, 100, 144, 196, 256, 324]\n"
          ]
        }
      ]
    },
    {
      "cell_type": "code",
      "source": [
        "#map, lambda\n",
        "print(list(map(lambda x:x*x,[i for i in range(0,20,2)])))"
      ],
      "metadata": {
        "colab": {
          "base_uri": "https://localhost:8080/"
        },
        "id": "dpFtLMKoffhI",
        "outputId": "ca2f1517-2e5e-4485-d15e-546fd3160f0b"
      },
      "execution_count": null,
      "outputs": [
        {
          "output_type": "stream",
          "name": "stdout",
          "text": [
            "[0, 4, 16, 36, 64, 100, 144, 196, 256, 324]\n"
          ]
        }
      ]
    },
    {
      "cell_type": "code",
      "source": [
        "#ex\n",
        "print(list(map(lambda x: x*x, range(0,20,2))))"
      ],
      "metadata": {
        "id": "Y3cF62uM44Xs"
      },
      "execution_count": null,
      "outputs": []
    },
    {
      "cell_type": "markdown",
      "source": [
        "Task6_0508. 유닉스 타임스탬프를 받아서 해당 시간을 datetime.datetime 객체로 변환하고, 그 결과를 출력하는 사용자 함수를 작성하여 임의의 타임스탬프를 입력하여 결과를 출력하세요."
      ],
      "metadata": {
        "id": "vzOh4k7Y45Tw"
      }
    },
    {
      "cell_type": "code",
      "source": [
        "import time\n",
        "from datetime import datetime\n",
        "\n",
        "def transform_datetime(unix_time):\n",
        "    return datetime.fromtimestamp(unix_time)\n",
        "\n",
        "print(transform_datetime(1715152382.5411751))\n",
        "print(transform_datetime(time.time()))"
      ],
      "metadata": {
        "colab": {
          "base_uri": "https://localhost:8080/"
        },
        "id": "VENYmnwm45u0",
        "outputId": "b8742d79-c8d9-4876-b0d4-7e8165848b4e"
      },
      "execution_count": 1,
      "outputs": [
        {
          "output_type": "stream",
          "name": "stdout",
          "text": [
            "2024-05-08 07:13:02.541175\n",
            "2024-05-09 01:07:56.673906\n"
          ]
        }
      ]
    },
    {
      "cell_type": "code",
      "source": [
        "#ex\n",
        "\n",
        "def transform_datetime(unix_time):\n",
        "    return datetime.fromtimestamp(unix_time)\n",
        "ts = float(input('timestamp :'))\n",
        "result = transform_datetime(ts)\n",
        "print(result)"
      ],
      "metadata": {
        "colab": {
          "base_uri": "https://localhost:8080/"
        },
        "id": "44hp4K-D5dYN",
        "outputId": "86131c38-5821-408f-9cc7-f377ade61bce"
      },
      "execution_count": 2,
      "outputs": [
        {
          "output_type": "stream",
          "name": "stdout",
          "text": [
            "timestamp :1715152382.5411751\n",
            "2024-05-08 07:13:02.541175\n"
          ]
        }
      ]
    },
    {
      "cell_type": "markdown",
      "source": [
        "Task7_0508. datetime 객체를 문자열로 변환하는 사용자 함수를 작성하여 datetime 객체를 \"YYYY-MM-DD HH:MM:SS\" 형식의 문자열로 변환하고 출력하세요."
      ],
      "metadata": {
        "id": "K5fhoQrq57L8"
      }
    },
    {
      "cell_type": "code",
      "source": [
        "from datetime import datetime\n",
        "\n",
        "def datetime_to_str(datetime_obj):\n",
        "    return datetime_obj.strftime('%Y-%m-%d %H:%M:%S')\n",
        "\n",
        "datetime_obj = datetime.now()\n",
        "print(datetime_to_str(datetime_obj))"
      ],
      "metadata": {
        "colab": {
          "base_uri": "https://localhost:8080/"
        },
        "id": "MCHFVetW6Dn1",
        "outputId": "2276ad7c-b27f-4e58-b408-cd24de50310d"
      },
      "execution_count": 3,
      "outputs": [
        {
          "output_type": "stream",
          "name": "stdout",
          "text": [
            "2024-05-09 01:16:50\n"
          ]
        }
      ]
    },
    {
      "cell_type": "code",
      "source": [
        "#ex\n",
        "import datetime\n",
        "def datetime_to_string(dt):\n",
        "    return dt.strftime('%Y-%m-%d %H:%M:%S')\n",
        "\n",
        "dt = input('datetime을 입력하세요> ')\n",
        "#dt = datetime.datetime.strptime(date_string, '%Y-%m-%d %H:%M:%S')\n",
        "s = datetime_to_string(dt)\n",
        "print(s)"
      ],
      "metadata": {
        "colab": {
          "base_uri": "https://localhost:8080/",
          "height": 348
        },
        "id": "RzzbrLf_7TX9",
        "outputId": "2efff0c0-bb33-4cd6-fd56-ebb168e3bbe7"
      },
      "execution_count": 6,
      "outputs": [
        {
          "name": "stdout",
          "output_type": "stream",
          "text": [
            "datetime을 입력하세요> 2024-05-08 07:29:53.467502\n"
          ]
        },
        {
          "output_type": "error",
          "ename": "AttributeError",
          "evalue": "'str' object has no attribute 'strftime'",
          "traceback": [
            "\u001b[0;31m---------------------------------------------------------------------------\u001b[0m",
            "\u001b[0;31mAttributeError\u001b[0m                            Traceback (most recent call last)",
            "\u001b[0;32m<ipython-input-6-9fbe82c58ac5>\u001b[0m in \u001b[0;36m<cell line: 8>\u001b[0;34m()\u001b[0m\n\u001b[1;32m      6\u001b[0m \u001b[0mdt\u001b[0m \u001b[0;34m=\u001b[0m \u001b[0minput\u001b[0m\u001b[0;34m(\u001b[0m\u001b[0;34m'datetime을 입력하세요> '\u001b[0m\u001b[0;34m)\u001b[0m\u001b[0;34m\u001b[0m\u001b[0;34m\u001b[0m\u001b[0m\n\u001b[1;32m      7\u001b[0m \u001b[0;31m#dt = datetime.datetime.strptime(date_string, '%Y-%m-%d %H:%M:%S')\u001b[0m\u001b[0;34m\u001b[0m\u001b[0;34m\u001b[0m\u001b[0m\n\u001b[0;32m----> 8\u001b[0;31m \u001b[0ms\u001b[0m \u001b[0;34m=\u001b[0m \u001b[0mdatetime_to_string\u001b[0m\u001b[0;34m(\u001b[0m\u001b[0mdt\u001b[0m\u001b[0;34m)\u001b[0m\u001b[0;34m\u001b[0m\u001b[0;34m\u001b[0m\u001b[0m\n\u001b[0m\u001b[1;32m      9\u001b[0m \u001b[0mprint\u001b[0m\u001b[0;34m(\u001b[0m\u001b[0ms\u001b[0m\u001b[0;34m)\u001b[0m\u001b[0;34m\u001b[0m\u001b[0;34m\u001b[0m\u001b[0m\n",
            "\u001b[0;32m<ipython-input-6-9fbe82c58ac5>\u001b[0m in \u001b[0;36mdatetime_to_string\u001b[0;34m(dt)\u001b[0m\n\u001b[1;32m      2\u001b[0m \u001b[0;32mimport\u001b[0m \u001b[0mdatetime\u001b[0m\u001b[0;34m\u001b[0m\u001b[0;34m\u001b[0m\u001b[0m\n\u001b[1;32m      3\u001b[0m \u001b[0;32mdef\u001b[0m \u001b[0mdatetime_to_string\u001b[0m\u001b[0;34m(\u001b[0m\u001b[0mdt\u001b[0m\u001b[0;34m)\u001b[0m\u001b[0;34m:\u001b[0m\u001b[0;34m\u001b[0m\u001b[0;34m\u001b[0m\u001b[0m\n\u001b[0;32m----> 4\u001b[0;31m     \u001b[0;32mreturn\u001b[0m \u001b[0mdt\u001b[0m\u001b[0;34m.\u001b[0m\u001b[0mstrftime\u001b[0m\u001b[0;34m(\u001b[0m\u001b[0;34m'%Y-%m-%d %H:%M:%S'\u001b[0m\u001b[0;34m)\u001b[0m\u001b[0;34m\u001b[0m\u001b[0;34m\u001b[0m\u001b[0m\n\u001b[0m\u001b[1;32m      5\u001b[0m \u001b[0;34m\u001b[0m\u001b[0m\n\u001b[1;32m      6\u001b[0m \u001b[0mdt\u001b[0m \u001b[0;34m=\u001b[0m \u001b[0minput\u001b[0m\u001b[0;34m(\u001b[0m\u001b[0;34m'datetime을 입력하세요> '\u001b[0m\u001b[0;34m)\u001b[0m\u001b[0;34m\u001b[0m\u001b[0;34m\u001b[0m\u001b[0m\n",
            "\u001b[0;31mAttributeError\u001b[0m: 'str' object has no attribute 'strftime'"
          ]
        }
      ]
    },
    {
      "cell_type": "markdown",
      "source": [
        "Task8_0508. 올해 경과된 날짜수 계산하세요."
      ],
      "metadata": {
        "id": "7Wg7KvF69iwW"
      }
    },
    {
      "cell_type": "code",
      "source": [
        "#ex. 오늘은 올해 몇일째 되는 날인가?\n",
        "import time\n",
        "\n",
        "t = time.time()\n",
        "print(t)\n",
        "t1 = time.localtime(t)\n",
        "print(t1)\n",
        "print(f\"올해 경과된 날짜수는 {t1[-2]}일 입니다.\")\n",
        "print(t1.tm_yday)"
      ],
      "metadata": {
        "colab": {
          "base_uri": "https://localhost:8080/"
        },
        "id": "aT8rwQUw9rIt",
        "outputId": "87417251-6477-4eec-956b-d9fe48d2605a"
      },
      "execution_count": 13,
      "outputs": [
        {
          "output_type": "stream",
          "name": "stdout",
          "text": [
            "1715218102.5406513\n",
            "time.struct_time(tm_year=2024, tm_mon=5, tm_mday=9, tm_hour=1, tm_min=28, tm_sec=22, tm_wday=3, tm_yday=130, tm_isdst=0)\n",
            "올해 경과된 날짜수는 130일 입니다.\n",
            "130\n"
          ]
        }
      ]
    },
    {
      "cell_type": "code",
      "source": [
        "import datetime\n",
        "\n",
        "today = datetime.date.today()\n",
        "print(today)\n",
        "start_day = datetime.date(2024, 1, 1)\n",
        "print(start_day)\n",
        "delta = today - start_day\n",
        "print(delta.days)\n",
        "print(delta)"
      ],
      "metadata": {
        "colab": {
          "base_uri": "https://localhost:8080/"
        },
        "id": "UzME6hGRhX_6",
        "outputId": "09baebb7-541f-4e43-e766-10d915be1a17"
      },
      "execution_count": 11,
      "outputs": [
        {
          "output_type": "stream",
          "name": "stdout",
          "text": [
            "2024-05-09\n",
            "2024-01-01\n",
            "129\n",
            "129 days, 0:00:00\n"
          ]
        }
      ]
    },
    {
      "cell_type": "code",
      "source": [
        "#ex\n",
        "import datetime\n",
        "\n",
        "today = datetime.date.today()\n",
        "print(today)\n",
        "start_day = datetime.date(today.year, 1, 1)\n",
        "print(start_day)\n",
        "delta = today - start_day\n",
        "print(f\"{delta.days}일\")"
      ],
      "metadata": {
        "colab": {
          "base_uri": "https://localhost:8080/"
        },
        "id": "GFeZ2kEB8B0s",
        "outputId": "2f095436-48bb-461c-b322-7881ba6a1259"
      },
      "execution_count": 8,
      "outputs": [
        {
          "output_type": "stream",
          "name": "stdout",
          "text": [
            "2024-05-09\n",
            "2024-01-01\n",
            "129일\n"
          ]
        }
      ]
    },
    {
      "cell_type": "markdown",
      "source": [
        "Task9_0508. 현재 요일을 \"2021-6-26 오늘은 토요일입니다.\"와 같은 형식으로 출력하세요."
      ],
      "metadata": {
        "id": "Gf6GtbnY9mCB"
      }
    },
    {
      "cell_type": "code",
      "source": [
        "import datetime\n",
        "\n",
        "now = datetime.datetime.now()\n",
        "print(now,type(now))\n",
        "formatted = now.strftime(\"%Y-%m-%d 오늘은 %A 입니다.\")\n",
        "print(formatted)"
      ],
      "metadata": {
        "colab": {
          "base_uri": "https://localhost:8080/"
        },
        "id": "kFTQJZvS9rkc",
        "outputId": "5579bc53-805f-47d6-fbdb-af68d15edcc8"
      },
      "execution_count": null,
      "outputs": [
        {
          "output_type": "stream",
          "name": "stdout",
          "text": [
            "2024-05-08 07:29:53.467502 <class 'datetime.datetime'>\n",
            "2024-05-08 오늘은 Wednesday 입니다.\n"
          ]
        }
      ]
    },
    {
      "cell_type": "code",
      "source": [
        "#ex - 딕셔너리 사용\n",
        "import time\n",
        "from datetime import datetime\n",
        "\n",
        "wdays = {'Mon':'월요일', 'Tue':'화요일', 'Wed':'수요일', 'Thu':'목요일', 'Fri':'금요일', 'Sat':'토요일', 'Sun': '일요일'}\n",
        "\n",
        "now  = datetime.now()\n",
        "date = now.date()\n",
        "wday = now.strftime(\"%a\")\n",
        "\n",
        "print(f'{date} 오늘은 {wdays[wday]}입니다.')"
      ],
      "metadata": {
        "colab": {
          "base_uri": "https://localhost:8080/"
        },
        "id": "6RoMKeOk_Khd",
        "outputId": "a709a05d-9531-40bf-89fd-e92cbbd850ce"
      },
      "execution_count": 14,
      "outputs": [
        {
          "output_type": "stream",
          "name": "stdout",
          "text": [
            "2024-05-09 오늘은 목요일입니다.\n"
          ]
        }
      ]
    },
    {
      "cell_type": "code",
      "source": [
        "#ex -딕셔너리, 타임존 사용\n",
        "import datetime\n",
        "import time\n",
        "import pytz\n",
        "\n",
        "s = time.time()\n",
        "today = time.strftime('%A', time.localtime(time.time()))\n",
        "tz = pytz.timezone('Asia/Seoul')\n",
        "now = datetime.datetime.now(tz)\n",
        "now_time = now.strftime('%Y-%m-%d')\n",
        "\n",
        "day = {'Sunday':'일요일', 'Monday': '월요일', 'Tuesday': '화요일', 'Wednesday':'수요일', 'Thursday':'목요일', 'Friday':'금요일', 'Saturday': '토요일'}\n",
        "\n",
        "for key, value in day.items():\n",
        "    if value == day[today] :\n",
        "        print(f\"{now_time} 오늘은 {day[today]}입니다.\")\n",
        "        break\n",
        "else:\n",
        "    print(\"\")"
      ],
      "metadata": {
        "id": "1kKRKgpz_Sv1"
      },
      "execution_count": null,
      "outputs": []
    },
    {
      "cell_type": "code",
      "source": [
        "#ex - 리스트 인덱스 사용\n",
        "from datetime import datetime\n",
        "\n",
        "def week(dt):\n",
        "    # 요일을 문자열로 매핑\n",
        "    days = [\"월요일\", \"화요일\", \"수요일\", \"목요일\", \"금요일\", \"토요일\", \"일요일\"]\n",
        "    # 날짜 형식 지정\n",
        "    formatted_date = dt.strftime(\"%Y-%m-%d\")\n",
        "    # 요일 가져오기\n",
        "    day = days[dt.weekday()]\n",
        "    # 형식에 맞춰 문자열 반환\n",
        "    return f\"{formatted_date} 오늘은 {day}입니다.\"\n",
        "\n",
        "# 현재 날짜와 시간 가져오기\n",
        "current_datetime = datetime.now()\n",
        "\n",
        "print(week(current_datetime))\n"
      ],
      "metadata": {
        "id": "E0MlkBLW_m_J"
      },
      "execution_count": null,
      "outputs": []
    },
    {
      "cell_type": "code",
      "source": [
        "#ex - localtime() 사용\n",
        "import time\n",
        "\n",
        "weekdays = ['월요일','화요일','수요일','목요일','금요일','토요일','일요일']\n",
        "t = time.localtime()\n",
        "today = f'{t.tm_year}-{t.tm_mon}-{t.tm_mday}'\n",
        "week = weekdays[t.tm_wday]\n",
        "# print('%s 오늘은 %s입니다' %(today, week))\n",
        "print(f'{today} 오늘은 {week}입니다.')"
      ],
      "metadata": {
        "id": "Z3mHfbqo_7a0"
      },
      "execution_count": null,
      "outputs": []
    },
    {
      "cell_type": "markdown",
      "source": [
        "Task10_0508. 1에서 백만까지 더하는데 걸리는 프로그램 실행 시간을 밀리초(ms) 단위로 구하세요.(1ms=0.001초)"
      ],
      "metadata": {
        "id": "aVw55z7m9omG"
      }
    },
    {
      "cell_type": "code",
      "source": [
        "import datetime\n",
        "\n",
        "start = datetime.datetime.now()\n",
        "total = 0\n",
        "for i in range(1, 1000001):\n",
        "    total += i\n",
        "print(total)\n",
        "end = datetime.datetime.now()\n",
        "diff = end - start\n",
        "print(diff, type(diff))\n",
        "print(f'프로그램 실행시간은 {round(diff.microseconds/1000)}ms입니다.')"
      ],
      "metadata": {
        "colab": {
          "base_uri": "https://localhost:8080/"
        },
        "id": "coYRE1qE9r59",
        "outputId": "34f8754e-cebb-4bcd-e584-29e9a14cb4b1"
      },
      "execution_count": null,
      "outputs": [
        {
          "output_type": "stream",
          "name": "stdout",
          "text": [
            "500000500000\n",
            "0:00:00.132023 <class 'datetime.timedelta'>\n",
            "프로그램 실행시간은 132ms입니다.\n"
          ]
        }
      ]
    },
    {
      "cell_type": "code",
      "source": [
        "#ex\n",
        "import time\n",
        "\n",
        "start = time.time()\n",
        "sn = sum(range(1, 1000001))\n",
        "end = time.time()\n",
        "print(f\"1에서 백만까지 더하는데 걸린 시간 : {(end - start):.3f}초\")\n",
        "\n",
        "minute, second = divmod((end-start), 60)\n",
        "h, m = divmod(minute, 60)\n",
        "print(f'{int(h)}시간 {int(minute)}분 {second:.3f}초')"
      ],
      "metadata": {
        "id": "vpf_8vOkisXt",
        "colab": {
          "base_uri": "https://localhost:8080/"
        },
        "outputId": "cdce8dba-1012-4e00-feb4-02e6cd8c126f"
      },
      "execution_count": 15,
      "outputs": [
        {
          "output_type": "stream",
          "name": "stdout",
          "text": [
            "1에서 백만까지 더하는데 걸린 시간 : 0.021초\n",
            "0시간 0분 0.021초\n"
          ]
        }
      ]
    },
    {
      "cell_type": "code",
      "source": [
        "#ex\n",
        "import time\n",
        "\n",
        "t1 = time.time()\n",
        "t2 = 0\n",
        "result = 0\n",
        "\n",
        "for i in range(1000000):\n",
        "    result += i+1\n",
        "else:\n",
        "    t2 = time.time()\n",
        "\n",
        "print(f'백만까지 더한 값: {result}\\n걸린 시간: {round((t2-t1)*1000)} (ms)')"
      ],
      "metadata": {
        "colab": {
          "base_uri": "https://localhost:8080/"
        },
        "id": "o6IYrSmqBPxp",
        "outputId": "723b0a4f-861c-46e3-b1dc-1608fd0945ad"
      },
      "execution_count": 16,
      "outputs": [
        {
          "output_type": "stream",
          "name": "stdout",
          "text": [
            "백만까지 더한 값: 500000500000\n",
            "걸린 시간: 158 (ms)\n"
          ]
        }
      ]
    }
  ]
}