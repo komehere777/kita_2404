{
  "nbformat": 4,
  "nbformat_minor": 0,
  "metadata": {
    "colab": {
      "provenance": []
    },
    "kernelspec": {
      "name": "python3",
      "display_name": "Python 3"
    },
    "language_info": {
      "name": "python"
    }
  },
  "cells": [
    {
      "cell_type": "markdown",
      "source": [
        "Task1_0507. 튜플 형태인 strings를 다양한 문자가 포함된 순서로 정렬하세요.\n",
        "\n",
        "strings = ('a', 'ca', 'bar', 'aaaa', 'ababa')"
      ],
      "metadata": {
        "id": "ztca0gmRsqca"
      }
    },
    {
      "cell_type": "code",
      "execution_count": null,
      "metadata": {
        "colab": {
          "base_uri": "https://localhost:8080/"
        },
        "id": "0XvYU6w5sg4s",
        "outputId": "648c0f6d-7926-43bf-b7a0-b77258662326"
      },
      "outputs": [
        {
          "output_type": "stream",
          "name": "stdout",
          "text": [
            "['bar', 'ca', 'ababa', 'a', 'aaaa']\n"
          ]
        }
      ],
      "source": [
        "strings = ('a', 'ca', 'bar', 'aaaa', 'ababa')\n",
        "print(sorted(strings, key=lambda x: len(set(x)),reverse=True))"
      ]
    },
    {
      "cell_type": "code",
      "source": [
        "#리스트 사용\n",
        "strings = ('a', 'ca', 'bar', 'aaaa', 'ababa')\n",
        "strings = list(strings)\n",
        "strings.sort(key=lambda x: len(set(x)),reverse=True)\n",
        "print(strings)\n",
        "print(list(strings))"
      ],
      "metadata": {
        "colab": {
          "base_uri": "https://localhost:8080/"
        },
        "id": "Uz417kfjmSpz",
        "outputId": "36a17f33-2ac8-4220-c1b6-ac2d74a4316b"
      },
      "execution_count": 2,
      "outputs": [
        {
          "output_type": "stream",
          "name": "stdout",
          "text": [
            "['bar', 'ca', 'ababa', 'a', 'aaaa']\n",
            "['bar', 'ca', 'ababa', 'a', 'aaaa']\n"
          ]
        }
      ]
    },
    {
      "cell_type": "markdown",
      "source": [
        "Task2_0507. a,b 변수와 연산자를 입력하면 사칙연산을 수행하는 코드를 작성하세요.(eval 사용하는 경우와 안하는 경우)"
      ],
      "metadata": {
        "id": "j3lSsOgvsqzG"
      }
    },
    {
      "cell_type": "code",
      "source": [
        "#eval사용\n",
        "expression = input(\"계산할 수식을 입력하세요: \")\n",
        "result = eval(expression)\n",
        "print(f\"계산 결과: {result}\")"
      ],
      "metadata": {
        "colab": {
          "base_uri": "https://localhost:8080/"
        },
        "id": "6Zs93xOGsra4",
        "outputId": "2ed267c0-6ce8-48dd-c1cf-e21d085385e8"
      },
      "execution_count": null,
      "outputs": [
        {
          "output_type": "stream",
          "name": "stdout",
          "text": [
            "계산할 수식을 입력하세요: 5+5\n",
            "계산 결과: 10\n"
          ]
        }
      ]
    },
    {
      "cell_type": "code",
      "source": [
        "#eval 미사용\n",
        "def calc(a, b, operand):\n",
        "    if operand == '+':\n",
        "        print(a + b)\n",
        "    elif operand == '-':\n",
        "        print(a - b)\n",
        "    elif operand == '*':\n",
        "        print(a * b)\n",
        "    else:\n",
        "        print(a / b)\n",
        "calc(10,2,'+')\n",
        "calc(10,2,'-')\n",
        "calc(10,2,'*')\n",
        "calc(10,2,'/')"
      ],
      "metadata": {
        "colab": {
          "base_uri": "https://localhost:8080/"
        },
        "id": "7sQIZQ3VyLZD",
        "outputId": "067e1899-f6e8-42aa-c887-5fe30916c324"
      },
      "execution_count": null,
      "outputs": [
        {
          "output_type": "stream",
          "name": "stdout",
          "text": [
            "12\n",
            "8\n",
            "20\n",
            "5.0\n"
          ]
        }
      ]
    },
    {
      "cell_type": "code",
      "source": [
        "sentence = input(\"계산을 원하는 식을 입력하세요: \")\n",
        "operands = ['+', '-', '*', '/']\n",
        "for i in operands:\n",
        "    if i in sentence:\n",
        "        if i == '+':\n",
        "            print(int(sentence.split(i)[0]) + int(sentence.split(i)[1]))\n",
        "        elif i == '-':\n",
        "            print(int(sentence.split(i)[0]) - int(sentence.split(i)[1]))\n",
        "        elif i == '*':\n",
        "            print(int(sentence.split(i)[0]) * int(sentence.split(i)[1]))\n",
        "        else:\n",
        "            print(int(sentence.split(i)[0]) / int(sentence.split(i)[1]))\n",
        "\n"
      ],
      "metadata": {
        "colab": {
          "base_uri": "https://localhost:8080/"
        },
        "id": "HCeq4eWk-SCo",
        "outputId": "eb4ec0e2-c5cd-4edc-fc06-1af5ffac54ab"
      },
      "execution_count": 3,
      "outputs": [
        {
          "output_type": "stream",
          "name": "stdout",
          "text": [
            "계산을 원하는 식을 입력하세요: 5/5\n",
            "1.0\n"
          ]
        }
      ]
    },
    {
      "cell_type": "code",
      "source": [
        "#ex - 연산자별 연산은 람다함수로 딕셔너리로 만들어서 처리\n",
        "\n",
        "num = input(\"계산을 원하는 식을 입력하세요: \")\n",
        "maths = ['+', '-', '*', '/']\n",
        "math = {'+':lambda a,b:a+b, '-':lambda a,b:a-b, '/':lambda a,b:a/b, '*':lambda a,b:a*b}\n",
        "num_list = list(num)\n",
        "for i in num_list:\n",
        "    if i in maths:\n",
        "        num = num.split(i)\n",
        "        print(math[i](int(num[0]), int(num[1])))\n"
      ],
      "metadata": {
        "colab": {
          "base_uri": "https://localhost:8080/"
        },
        "id": "lCwrnvs3nhKT",
        "outputId": "5f3bd8af-89e1-4f87-8ef7-0fe0a12172df"
      },
      "execution_count": 4,
      "outputs": [
        {
          "output_type": "stream",
          "name": "stdout",
          "text": [
            "계산을 원하는 식을 입력하세요: 3*3\n",
            "9\n"
          ]
        }
      ]
    },
    {
      "cell_type": "markdown",
      "source": [
        "Task3_0507. list1에 대해서 아래와 같이 출력하는 코드를 작성하세요.\n",
        "\n",
        "인사평가 1번째 해당자는 김부장입니다. 회의실A로 오시기 바랍니다.\\\n",
        "인사평가 2번째 해당자는 이차장입니다. 회의실A로 오시기 바랍니다.\\\n",
        "인사평가 3번째 해당자는 김과장입니다. 회의실A로 오시기 바랍니다.\\\n",
        "인사평가 4번째 해당자는 이대리입니다. 회의실A로 오시기 바랍니다.\\\n",
        "인사평가 5번째 해당자는 오사원입니다. 회의실A로 오시기 바랍니다.\\\n",
        "인사평가 6번째 해당자는 김인턴입니다. 회의실A로 오시기 바랍니다."
      ],
      "metadata": {
        "id": "QHavGymcsrov"
      }
    },
    {
      "cell_type": "code",
      "source": [
        "list1 = ['김부장', '이차장', '김과장','이대리', '오사원', '김인턴' ]\n",
        "for idx, v in enumerate(list1,1):\n",
        "    print(f\"인사평가 {idx}번째 해당자는 {v}입니다. 회의실A로 오시기 바랍니다.\")"
      ],
      "metadata": {
        "colab": {
          "base_uri": "https://localhost:8080/"
        },
        "id": "xniwe2wHssHK",
        "outputId": "993c3a5a-f612-49bd-9b11-1abb8c295718"
      },
      "execution_count": null,
      "outputs": [
        {
          "output_type": "stream",
          "name": "stdout",
          "text": [
            "인사평가 1번째 해당자는 김부장입니다. 회의실A로 오시기 바랍니다.\n",
            "인사평가 2번째 해당자는 이차장입니다. 회의실A로 오시기 바랍니다.\n",
            "인사평가 3번째 해당자는 김과장입니다. 회의실A로 오시기 바랍니다.\n",
            "인사평가 4번째 해당자는 이대리입니다. 회의실A로 오시기 바랍니다.\n",
            "인사평가 5번째 해당자는 오사원입니다. 회의실A로 오시기 바랍니다.\n",
            "인사평가 6번째 해당자는 김인턴입니다. 회의실A로 오시기 바랍니다.\n"
          ]
        }
      ]
    },
    {
      "cell_type": "markdown",
      "source": [
        "Task4_0507. 주어진 문자열 리스트의 요소들을 대문자로 변환하세요.\n",
        "words = [\"hello\", \"world\", \"python\", \"map\"]"
      ],
      "metadata": {
        "id": "Nt1zX2QJssUE"
      }
    },
    {
      "cell_type": "code",
      "source": [
        "words = [\"hello\", \"world\", \"python\", \"map\"]\n",
        "result = list(map(lambda x: x.upper(), words))\n",
        "print(result)"
      ],
      "metadata": {
        "colab": {
          "base_uri": "https://localhost:8080/"
        },
        "id": "OxpCgqyFssu9",
        "outputId": "9978a66e-8826-4ff3-fb49-8ec28e5109ae"
      },
      "execution_count": null,
      "outputs": [
        {
          "output_type": "stream",
          "name": "stdout",
          "text": [
            "['HELLO', 'WORLD', 'PYTHON', 'MAP']\n"
          ]
        }
      ]
    },
    {
      "cell_type": "code",
      "source": [
        "#ex - str.upper <-  스트링 클래스의 메소드\n",
        "words = [\"hello\", \"world\", \"python\", \"map\"]\n",
        "result = list(map(str.upper, words))\n",
        "print(result)"
      ],
      "metadata": {
        "colab": {
          "base_uri": "https://localhost:8080/"
        },
        "id": "874y49gqvX1M",
        "outputId": "3c689a67-ab61-413b-a870-0d82e414aead"
      },
      "execution_count": 13,
      "outputs": [
        {
          "output_type": "stream",
          "name": "stdout",
          "text": [
            "['HELLO', 'WORLD', 'PYTHON', 'MAP']\n"
          ]
        }
      ]
    },
    {
      "cell_type": "code",
      "source": [
        "#ex\n",
        "words = [\"hello\", \"world\", \"python\", \"map\"]\n",
        "print([i.upper() for i in words])\n",
        "print(list(i.upper() for i in words))"
      ],
      "metadata": {
        "colab": {
          "base_uri": "https://localhost:8080/"
        },
        "id": "7OTvBE6CqrYf",
        "outputId": "81125db3-6cf7-4b46-ffd1-88702ae1366f"
      },
      "execution_count": 9,
      "outputs": [
        {
          "output_type": "stream",
          "name": "stdout",
          "text": [
            "['HELLO', 'WORLD', 'PYTHON', 'MAP']\n",
            "['HELLO', 'WORLD', 'PYTHON', 'MAP']\n"
          ]
        }
      ]
    },
    {
      "cell_type": "code",
      "source": [
        "#ex - 요소를 이용\n",
        "words = [\"hello\", \"world\", \"python\", \"map\"]\n",
        "res = []\n",
        "for word in words:\n",
        "    res.append(word.upper())\n",
        "print(res)"
      ],
      "metadata": {
        "colab": {
          "base_uri": "https://localhost:8080/"
        },
        "id": "_L_s6qdFt1Bs",
        "outputId": "0714100b-9166-475d-cea9-61b927126dee"
      },
      "execution_count": 11,
      "outputs": [
        {
          "output_type": "stream",
          "name": "stdout",
          "text": [
            "['HELLO', 'WORLD', 'PYTHON', 'MAP']\n"
          ]
        }
      ]
    },
    {
      "cell_type": "code",
      "source": [
        "#ex - 인덱스를 이용해서 리스트내 값변경\n",
        "words = [\"hello\", \"world\", \"python\", \"map\"]\n",
        "for i in range(len(words)):\n",
        "    words[i] = words[i].upper()\n",
        "print(words)"
      ],
      "metadata": {
        "colab": {
          "base_uri": "https://localhost:8080/"
        },
        "id": "vXBb3oE9uN41",
        "outputId": "1eb6600f-0efd-4f00-875a-86dfc5ce1bbc"
      },
      "execution_count": 12,
      "outputs": [
        {
          "output_type": "stream",
          "name": "stdout",
          "text": [
            "['HELLO', 'WORLD', 'PYTHON', 'MAP']\n"
          ]
        }
      ]
    },
    {
      "cell_type": "markdown",
      "source": [
        "Task5_0507. 주어진 리스트에서 'p'로 시작하는 단어만 필터링하세요.\n",
        "\n",
        "words = [\"python\", \"is\", \"powerful\", \"programming\", \"language\", \"pandas\"]"
      ],
      "metadata": {
        "id": "w1nyQLUdss-R"
      }
    },
    {
      "cell_type": "code",
      "source": [
        "words = [\"python\", \"is\", \"powerful\", \"programming\", \"language\", \"pandas\"]\n",
        "result = filter(lambda x : x[0]=='p', words)\n",
        "print([i for i in result])\n"
      ],
      "metadata": {
        "colab": {
          "base_uri": "https://localhost:8080/"
        },
        "id": "3v61jTQystWk",
        "outputId": "46925355-3014-434b-b99e-00b8636b58a5"
      },
      "execution_count": 7,
      "outputs": [
        {
          "output_type": "stream",
          "name": "stdout",
          "text": [
            "['python', 'powerful', 'programming', 'pandas']\n",
            "[]\n"
          ]
        }
      ]
    },
    {
      "cell_type": "code",
      "source": [
        "#ex - startswith\n",
        "words = [\"python\", \"is\", \"powerful\", \"programming\", \"language\", \"pandas\"]\n",
        "print([i for i in words if i.startswith('p')])"
      ],
      "metadata": {
        "colab": {
          "base_uri": "https://localhost:8080/"
        },
        "id": "-y3nMiM4wZ69",
        "outputId": "bbe6edf0-01aa-4eef-e822-172f495c103f"
      },
      "execution_count": 14,
      "outputs": [
        {
          "output_type": "stream",
          "name": "stdout",
          "text": [
            "['python', 'powerful', 'programming', 'pandas']\n"
          ]
        }
      ]
    },
    {
      "cell_type": "code",
      "source": [
        "#ex - lambda startswith\n",
        "words = [\"python\", \"is\", \"powerful\", \"programming\", \"language\", \"pandas\"]\n",
        "p_words = list(filter(lambda x: x.startswith('p'), words))\n",
        "print(p_words)"
      ],
      "metadata": {
        "colab": {
          "base_uri": "https://localhost:8080/"
        },
        "id": "71nlYZ03ww48",
        "outputId": "07853b84-fa89-4547-c134-b92010e5cc74"
      },
      "execution_count": 18,
      "outputs": [
        {
          "output_type": "stream",
          "name": "stdout",
          "text": [
            "['python', 'powerful', 'programming', 'pandas']\n"
          ]
        }
      ]
    },
    {
      "cell_type": "markdown",
      "source": [
        "Task6_0507. 내장함수를 이용해서 list = [0,1,7,3,4,5,6]에서 7을 삭제 후 출력하세요.(2가지 방법)\n",
        "\n"
      ],
      "metadata": {
        "id": "NdymBJH2stji"
      }
    },
    {
      "cell_type": "code",
      "source": [
        "list = [0,1,7,3,4,5,6]\n",
        "#del - 내장함수 아님, 키워드\n",
        "del list[2]\n",
        "print(list)\n",
        "#pop\n",
        "list = [0,1,7,3,4,5,6]\n",
        "list.pop(2) #인덱스\n",
        "print(list)\n",
        "#remove()\n",
        "list = [0,1,7,3,4,5,6]\n",
        "list.remove(7) #값\n",
        "print(list)"
      ],
      "metadata": {
        "colab": {
          "base_uri": "https://localhost:8080/"
        },
        "id": "JgDkmF8g0ojv",
        "outputId": "bb93eba6-0597-4204-d1c2-f269208df344"
      },
      "execution_count": 22,
      "outputs": [
        {
          "output_type": "stream",
          "name": "stdout",
          "text": [
            "[0, 1, 3, 4, 5, 6]\n",
            "[0, 1, 3, 4, 5, 6]\n",
            "[0, 1, 3, 4, 5, 6]\n"
          ]
        }
      ]
    },
    {
      "cell_type": "markdown",
      "source": [
        "Task7_0507. 내장함수를 이용하여 동일한 개수로 이루어진 자료형을 화살표 좌측에서 우측으로 변환하세요.\n",
        "\n",
        "[1,2,3],[4,5,6] -> [(1,4),(2,5),(3,6)]\\\n",
        "[1,2,3],[4,5,6] [7,8,9] -> [(1,4,7),(2,5,8),(3,6,9)]\\\n",
        "('abc','def') -> [('a','d'),('b','e'),('c','f')]"
      ],
      "metadata": {
        "id": "ov4Afz2W0n-k"
      }
    },
    {
      "cell_type": "code",
      "source": [
        "result = zip([1,2,3],[4,5,6])\n",
        "print([i for i in result])\n",
        "result = zip([1,2,3],[4,5,6], [7,8,9])\n",
        "print([i for i in result])\n",
        "result = zip('abc','def')\n",
        "print([i for i in result])\n"
      ],
      "metadata": {
        "colab": {
          "base_uri": "https://localhost:8080/"
        },
        "id": "rvzBL20c2CsN",
        "outputId": "1a82ff83-bf9b-46ee-bc89-e85594f6ec32"
      },
      "execution_count": null,
      "outputs": [
        {
          "output_type": "stream",
          "name": "stdout",
          "text": [
            "[(1, 4), (2, 5), (3, 6)]\n",
            "[(1, 4, 7), (2, 5, 8), (3, 6, 9)]\n",
            "[('a', 'd'), ('b', 'e'), ('c', 'f')]\n"
          ]
        }
      ]
    },
    {
      "cell_type": "code",
      "source": [
        "#ex\n",
        "tuple4 = ('abc','def')\n",
        "print([i for i in zip(tuple4[0], tuple4[1])])"
      ],
      "metadata": {
        "colab": {
          "base_uri": "https://localhost:8080/"
        },
        "id": "LvNLxmE_zP46",
        "outputId": "c8d8105a-fcc6-434d-e0cc-4b86990da684"
      },
      "execution_count": 23,
      "outputs": [
        {
          "output_type": "stream",
          "name": "stdout",
          "text": [
            "[('a', 'd'), ('b', 'e'), ('c', 'f')]\n"
          ]
        }
      ]
    },
    {
      "cell_type": "markdown",
      "source": [
        "Task8_0507. url에서 호스트 도메인(news.naver.com)을 추출하여 출력하세요.\n",
        "\n",
        "url = 'http://news.naver.com/main/read.nhn?mode=LSD&mid=shm&sid1=105&oid=028&aid=0002334601'"
      ],
      "metadata": {
        "id": "EZkqoTwn2DKf"
      }
    },
    {
      "cell_type": "code",
      "source": [
        "url = 'http://news.naver.com/main/read.nhn?mode=LSD&mid=shm&sid1=105&oid=028&aid=0002334601'\n",
        "words = url.split('/')\n",
        "print(f\"Host domain: {words[2]}\")"
      ],
      "metadata": {
        "colab": {
          "base_uri": "https://localhost:8080/"
        },
        "id": "0o2XFME45s7T",
        "outputId": "f9f6f2d5-319a-453f-ba33-2a0f174613a4"
      },
      "execution_count": null,
      "outputs": [
        {
          "output_type": "stream",
          "name": "stdout",
          "text": [
            "Host domain: news.naver.com\n"
          ]
        }
      ]
    }
  ]
}