{
  "nbformat": 4,
  "nbformat_minor": 0,
  "metadata": {
    "colab": {
      "provenance": []
    },
    "kernelspec": {
      "name": "python3",
      "display_name": "Python 3"
    },
    "language_info": {
      "name": "python"
    }
  },
  "cells": [
    {
      "cell_type": "markdown",
      "source": [
        "Task1_0508. title() 함수를 사용하지 않고 동일한 결과를 출력하세요."
      ],
      "metadata": {
        "id": "qysfoO5wDAEY"
      }
    },
    {
      "cell_type": "code",
      "execution_count": 5,
      "metadata": {
        "colab": {
          "base_uri": "https://localhost:8080/"
        },
        "id": "xvM2MhUHC6J_",
        "outputId": "fc972550-381b-455f-fa3c-e4d362f5aa0b"
      },
      "outputs": [
        {
          "output_type": "stream",
          "name": "stdout",
          "text": [
            "영어 이름을 적어주세요: kim sung hyun\n",
            "Kim Sung Hyun\n"
          ]
        }
      ],
      "source": [
        "#Q.영어 이름을 적으면 앞에 글자를 대문자로 바꾸어 주는 프로그램\n",
        "#단 중간에 한칸씩 띄어주어야 함 ex) kim dong wan\n",
        "\n",
        "name = input(\"영어 이름을 적어주세요: \")\n",
        "name = name.strip().split()\n",
        "result = []\n",
        "for i in name:\n",
        "    result.append(i[0].upper()+i[1:])\n",
        "print(' '.join(result))"
      ]
    },
    {
      "cell_type": "markdown",
      "source": [
        "Task2_0508. join 함수를 이용해서 ['a','b','c']을 아래와 같이 출력하세요.\n",
        "\n",
        "a::b::c"
      ],
      "metadata": {
        "id": "QnDs2W41JTJF"
      }
    },
    {
      "cell_type": "code",
      "source": [
        "list1 =  ['a','b','c']\n",
        "print('::'.join(list1))"
      ],
      "metadata": {
        "colab": {
          "base_uri": "https://localhost:8080/"
        },
        "id": "VUoSoWdsJW_k",
        "outputId": "52b4c761-2f0b-4579-9d41-a99b2416e02a"
      },
      "execution_count": 6,
      "outputs": [
        {
          "output_type": "stream",
          "name": "stdout",
          "text": [
            "a::b::c\n"
          ]
        }
      ]
    },
    {
      "cell_type": "markdown",
      "source": [
        "Task3_0508. 다음을 수행하세요.\n",
        "- 사용자로부터 문자열을 입력받습니다.\n",
        "- 입력받은 문자열이 숫자로만 이루어져 있는지 확인합니다.\n",
        "- 만약 숫자로만 이루어져 있다면, 그 숫자를 정수로 변환하여 100을 더한 결과를 출력합니다.\n",
        "- 숫자가 아닌 문자가 포함되어 있다면, 사용자에게 숫자만 입력하라는 메시지를 출력합니다.\n",
        "- 연산이 수행이 완료될 때까지 반복하고 수행이 완료되면 break 합니다."
      ],
      "metadata": {
        "id": "54Ut4WDpOJqk"
      }
    },
    {
      "cell_type": "code",
      "source": [
        "while 1:\n",
        "    string = input('문자열을 입력하세요: ')\n",
        "    if string.isdigit():\n",
        "        print(int(string) + 100)\n",
        "        break\n",
        "    else:\n",
        "        print(\"숫자만 입력해주세요\")"
      ],
      "metadata": {
        "colab": {
          "base_uri": "https://localhost:8080/"
        },
        "id": "udYJI2cbOhz1",
        "outputId": "a6df3839-e67b-4538-ec30-9a96eb45cdf2"
      },
      "execution_count": 10,
      "outputs": [
        {
          "output_type": "stream",
          "name": "stdout",
          "text": [
            "문자열을 입력하세요: 1g\n",
            "숫자만 입력해주세요\n",
            "문자열을 입력하세요: 10\n",
            "110\n"
          ]
        }
      ]
    },
    {
      "cell_type": "markdown",
      "source": [
        "Task4_0508. 문자와 숫자로만 구성된 아이디만 유효한 규칙을 만들려고 한다. 아래 사항을 참조하여 프로그램을 작성하세요.\n",
        "- 사용자로부터 문자열을 입력받습니다.\n",
        "- 입력받은 문자열이 알파벳과 숫자로만 이루어져 있는지 확인합니다.\n",
        "- 만약 조건을 만족한다면 \"유효한 아이디입니다\"라고 출력합니다.\n",
        "- 그렇지 않다면, \"아이디는 알파벳과 숫자만 포함할 수 있습니다\"라고 메시지를 출력하고 다시 입력하도록 한다."
      ],
      "metadata": {
        "id": "6pjYX6SUOiZ2"
      }
    },
    {
      "cell_type": "code",
      "source": [
        "while 1:\n",
        "    string = input('문자열을 입력하세요: ')\n",
        "    if string.isalnum():\n",
        "        print(\"유효한 아이디입니다.\")\n",
        "        break\n",
        "    else:\n",
        "        print(\"아이디는 알파벳과 숫자만 포함할 수 있습니다\")"
      ],
      "metadata": {
        "colab": {
          "base_uri": "https://localhost:8080/"
        },
        "id": "IOj47sDaQCV6",
        "outputId": "4a27940d-320b-4d82-9ea1-e64dfbc9af7c"
      },
      "execution_count": 11,
      "outputs": [
        {
          "output_type": "stream",
          "name": "stdout",
          "text": [
            "문자열을 입력하세요: dks!\n",
            "아이디는 알파벳과 숫자만 포함할 수 있습니다\n",
            "문자열을 입력하세요: dk12\n",
            "유효한 아이디입니다.\n"
          ]
        }
      ]
    },
    {
      "cell_type": "markdown",
      "source": [
        "Task5_0508. 코딩을 한줄로 작성해서 동일한 결과를 출력하세요.\\\n",
        "list = []\n",
        "for i in range(0,20,2):\\\n",
        "    list.append(i*i)\\\n",
        "print(list)"
      ],
      "metadata": {
        "id": "XJFeMUrYTRFv"
      }
    },
    {
      "cell_type": "code",
      "source": [
        "print([i*i for i in range(0,20,2)])"
      ],
      "metadata": {
        "colab": {
          "base_uri": "https://localhost:8080/"
        },
        "id": "9gUM9hzMTQjQ",
        "outputId": "532a480b-c425-4af5-ed8b-0395d157957c"
      },
      "execution_count": 1,
      "outputs": [
        {
          "output_type": "stream",
          "name": "stdout",
          "text": [
            "[0, 4, 16, 36, 64, 100, 144, 196, 256, 324]\n"
          ]
        }
      ]
    },
    {
      "cell_type": "markdown",
      "source": [
        "Task6_0508. 유닉스 타임스탬프를 받아서 해당 시간을 datetime.datetime 객체로 변환하고, 그 결과를 출력하는 사용자 함수를 작성하여 임의의 타임스탬프를 입력하여 결과를 출력하세요."
      ],
      "metadata": {
        "id": "vzOh4k7Y45Tw"
      }
    },
    {
      "cell_type": "code",
      "source": [
        "import time\n",
        "from datetime import datetime\n",
        "\n",
        "def transform_datetime(unix_time):\n",
        "    return datetime.fromtimestamp(unix_time)\n",
        "\n",
        "print(transform_datetime(1715152382.5411751))"
      ],
      "metadata": {
        "colab": {
          "base_uri": "https://localhost:8080/"
        },
        "id": "VENYmnwm45u0",
        "outputId": "ab9acec8-41a8-4ab6-f5b3-90e36790e384"
      },
      "execution_count": 15,
      "outputs": [
        {
          "output_type": "stream",
          "name": "stdout",
          "text": [
            "1715152503.7407048\n",
            "2024-05-08 07:15:03.740705\n",
            "2024-05-08 07:13:02.541175\n"
          ]
        }
      ]
    },
    {
      "cell_type": "markdown",
      "source": [
        "Task7_0508. datetime 객체를 문자열로 변환하는 사용자 함수를 작성하여 datetime 객체를 \"YYYY-MM-DD HH:MM:SS\" 형식의 문자열로 변환하고 출력하세요."
      ],
      "metadata": {
        "id": "K5fhoQrq57L8"
      }
    },
    {
      "cell_type": "code",
      "source": [
        "from datetime import datetime\n",
        "\n",
        "def datetime_to_str(datetime_obj):\n",
        "    return datetime_obj.strftime('%Y-%m-%d %H:%M:%S')\n",
        "\n",
        "datetime_obj = datetime.now()\n",
        "print(datetime_to_str(datetime_obj))"
      ],
      "metadata": {
        "colab": {
          "base_uri": "https://localhost:8080/"
        },
        "id": "MCHFVetW6Dn1",
        "outputId": "95cbf380-f0f7-4e99-d752-e6b3a867ebeb"
      },
      "execution_count": 18,
      "outputs": [
        {
          "output_type": "stream",
          "name": "stdout",
          "text": [
            "2024-05-08 07:20:21\n"
          ]
        }
      ]
    },
    {
      "cell_type": "markdown",
      "source": [
        "Task8_0508. 올해 경과된 날짜수 계산하세요."
      ],
      "metadata": {
        "id": "7Wg7KvF69iwW"
      }
    },
    {
      "cell_type": "code",
      "source": [
        "import time\n",
        "\n",
        "t = time.time()\n",
        "t1 = time.localtime(t)\n",
        "print(f\"올해 경과된 날짜수는 {t1[-2]}일 입니다.\")"
      ],
      "metadata": {
        "colab": {
          "base_uri": "https://localhost:8080/"
        },
        "id": "aT8rwQUw9rIt",
        "outputId": "385ab3b2-9ea0-415a-d405-d320a240ec40"
      },
      "execution_count": 25,
      "outputs": [
        {
          "output_type": "stream",
          "name": "stdout",
          "text": [
            "올해 경과된 날짜수는 129일 입니다.\n"
          ]
        }
      ]
    },
    {
      "cell_type": "markdown",
      "source": [
        "Task9_0508. 현재 요일을 \"2021-6-26 오늘은 토요일입니다.\"와 같은 형식으로 출력하세요."
      ],
      "metadata": {
        "id": "Gf6GtbnY9mCB"
      }
    },
    {
      "cell_type": "code",
      "source": [
        "import datetime\n",
        "\n",
        "now = datetime.datetime.now()\n",
        "print(now,type(now))\n",
        "formatted = now.strftime(\"%Y-%m-%d 오늘은 %A 입니다.\")\n",
        "print(formatted)"
      ],
      "metadata": {
        "colab": {
          "base_uri": "https://localhost:8080/"
        },
        "id": "kFTQJZvS9rkc",
        "outputId": "5579bc53-805f-47d6-fbdb-af68d15edcc8"
      },
      "execution_count": 27,
      "outputs": [
        {
          "output_type": "stream",
          "name": "stdout",
          "text": [
            "2024-05-08 07:29:53.467502 <class 'datetime.datetime'>\n",
            "2024-05-08 오늘은 Wednesday 입니다.\n"
          ]
        }
      ]
    },
    {
      "cell_type": "markdown",
      "source": [
        "Task10_0508. 1에서 백만까지 더하는데 걸리는 프로그램 실행 시간을 밀리초(ms) 단위로 구하세요.(1ms=0.001초)"
      ],
      "metadata": {
        "id": "aVw55z7m9omG"
      }
    },
    {
      "cell_type": "code",
      "source": [
        "import datetime\n",
        "\n",
        "start = datetime.datetime.now()\n",
        "total = 0\n",
        "for i in range(1, 1000001):\n",
        "    total += i\n",
        "print(total)\n",
        "end = datetime.datetime.now()\n",
        "diff = end - start\n",
        "print(diff, type(diff))\n",
        "print(f'프로그램 실행시간은 {round(diff.microseconds/1000)}ms입니다.')"
      ],
      "metadata": {
        "colab": {
          "base_uri": "https://localhost:8080/"
        },
        "id": "coYRE1qE9r59",
        "outputId": "34f8754e-cebb-4bcd-e584-29e9a14cb4b1"
      },
      "execution_count": 43,
      "outputs": [
        {
          "output_type": "stream",
          "name": "stdout",
          "text": [
            "500000500000\n",
            "0:00:00.132023 <class 'datetime.timedelta'>\n",
            "프로그램 실행시간은 132ms입니다.\n"
          ]
        }
      ]
    }
  ]
}