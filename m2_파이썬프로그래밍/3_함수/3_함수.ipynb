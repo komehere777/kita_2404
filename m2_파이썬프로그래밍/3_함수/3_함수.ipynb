{
  "nbformat": 4,
  "nbformat_minor": 0,
  "metadata": {
    "colab": {
      "provenance": []
    },
    "kernelspec": {
      "name": "python3",
      "display_name": "Python 3"
    },
    "language_info": {
      "name": "python"
    }
  },
  "cells": [
    {
      "cell_type": "markdown",
      "source": [
        "파이썬에서 함수는 크게 내장 함수(Built-in Functions)와 외장 함수(External Functions)로 나뉩니다.\n",
        "\n",
        "1. 내장 함수 (Built-in Functions):\n",
        "- 내장 함수는 파이썬 인터프리터에 포함되어 있어, 별도의 모듈을 임포트(import)하지 않고도 사용 예를 들어, print(), len(), type(), range(), zip() 등이 내장 함수입니다.\n",
        "- 이러한 함수들은 기본적인 작업을 수행하며, 파이썬 프로그래밍의 기본적인 빌딩 블록(building blocks)으로 작동\n",
        "\n",
        "2. 외장 함수 (External Functions):\n",
        "- 표준 라이브러리에 포함된 모듈과 함수를 가리키는 것으로 모듈을 임포트하여 사용\n",
        "- 파이썬 표준 라이브러리의 os, sys, math, random, datetime 등의 모듈에는 다양한 외장 함수가 포함\n",
        "\n",
        "3. 외부 라이브러리나 패키지\n",
        "- 표준 라이브러리에 포함되지 않아 기본 설치에는 포함되지 않는다.\n",
        "- 이를 사용하려면 먼저 해당 라이브러리나 패키지를 설치\n",
        "- 외부 라이브러리는 통상적으로 파이썬의 패키지 관리자인 pip를 사용하여 설치\n",
        "- 설치 후에는 외장 함수와 마찬가지로 필요한 모듈을 임포트하여 사용\n",
        "- 예: numpy, pandas, requests 등의 외부 라이브러리에 포함된 함수들.\n",
        "\n",
        "3. 사용자 정의 함수(User-Defined Functions):\n",
        "- 사용자가 직접 정의하여 사용하는 함수\n",
        "- def 키워드를 사용하여 함수를 정의하며, 필요에 따라 매개변수와 반환 값을 지정\n",
        "\n",
        "4. 람다 함수(Lambda Functions):\n",
        "- 이름 없는 간단한 함수를 정의할 때 사용하는 익명 함수\n",
        "- lambda 키워드를 사용하여 한 줄로 함수를 정의하며, 주로 간단한 연산이 필요할 때 사용1"
      ],
      "metadata": {
        "id": "a4CQdi0HEAmp"
      }
    },
    {
      "cell_type": "markdown",
      "source": [
        "파이썬 표준 라이브러리\n",
        "\n",
        "https://docs.python.org/ko/3/library/index.html\n",
        "\n",
        "표준라이브러리에 없는것이 외부 라이브러리\n",
        "\n",
        "https://docs.python.org/ko/3.10/library/index.html\n"
      ],
      "metadata": {
        "id": "fULtXWut78mX"
      }
    },
    {
      "cell_type": "code",
      "execution_count": null,
      "metadata": {
        "colab": {
          "base_uri": "https://localhost:8080/"
        },
        "id": "oAW8cCpwDwmI",
        "outputId": "1bc6fb31-b66c-402c-cadf-7b2ace9410ee"
      },
      "outputs": [
        {
          "output_type": "stream",
          "name": "stdout",
          "text": [
            "hello world!\n",
            "4\n",
            "<class 'int'>\n"
          ]
        }
      ],
      "source": [
        "#내장함수\n",
        "print(\"hello world!\")\n",
        "print(len([1,2,3,4,]))\n",
        "print(type(10))"
      ]
    },
    {
      "cell_type": "code",
      "source": [
        "#Q. 내장함수로 다음을 수행하세요.\n",
        "a = [1,2,3,4,5]\n",
        "print(sum(a))\n",
        "print(max(a))\n",
        "print(min(a))\n",
        "print(sorted(a))\n",
        "print(list(reversed(a)))"
      ],
      "metadata": {
        "colab": {
          "base_uri": "https://localhost:8080/"
        },
        "id": "7XL5yE5YGd15",
        "outputId": "bebb6520-1d2d-4d92-ece9-cc9d45ec5ca2"
      },
      "execution_count": null,
      "outputs": [
        {
          "output_type": "stream",
          "name": "stdout",
          "text": [
            "15\n",
            "5\n",
            "1\n",
            "[1, 2, 3, 4, 5]\n",
            "[5, 4, 3, 2, 1]\n"
          ]
        }
      ]
    },
    {
      "cell_type": "code",
      "source": [
        "print(type(42))\n",
        "print(abs(-5))  #절대값\n",
        "print(round(3.14159, 2)) #반올림\n",
        "print(pow(2,3)) #2의3승"
      ],
      "metadata": {
        "colab": {
          "base_uri": "https://localhost:8080/"
        },
        "id": "-AHN1NbmHWqG",
        "outputId": "059bfebe-809c-4bf7-ec2e-c7c1c4f9d82e"
      },
      "execution_count": null,
      "outputs": [
        {
          "output_type": "stream",
          "name": "stdout",
          "text": [
            "<class 'int'>\n",
            "5\n",
            "3.14\n",
            "8\n"
          ]
        }
      ]
    },
    {
      "cell_type": "code",
      "source": [
        "#외장함수\n",
        "import math\n",
        "print(math.sqrt(16))\n",
        "\n",
        "import random\n",
        "print(random.randint(1,10))\n",
        "\n",
        "import datetime\n",
        "print(datetime.datetime.now())"
      ],
      "metadata": {
        "colab": {
          "base_uri": "https://localhost:8080/"
        },
        "id": "xb27D4ZUHimA",
        "outputId": "5f39d538-ca6b-4f69-8cfb-2e4b07cad8e5"
      },
      "execution_count": null,
      "outputs": [
        {
          "output_type": "stream",
          "name": "stdout",
          "text": [
            "4.0\n",
            "4\n",
            "2024-05-03 06:26:51.242078\n"
          ]
        }
      ]
    },
    {
      "cell_type": "code",
      "source": [
        "#Q. datetime.datetime.now()에서 연도, 월,일,시,분,초,마이크로초를 각각 출력하세요\n",
        "#     모듈    클래스  메소드\n",
        "import datetime\n",
        "a = datetime.datetime.now()\n",
        "print(a.year)\n",
        "print(a.month)\n",
        "print(a.day)\n",
        "print(a.hour)\n",
        "print(a.minute)\n",
        "print(a.second)\n",
        "print(a.microsecond)\n"
      ],
      "metadata": {
        "colab": {
          "base_uri": "https://localhost:8080/"
        },
        "id": "_LdzENekIlOM",
        "outputId": "957cf1d0-23cd-4e43-f978-36ee61418de7"
      },
      "execution_count": null,
      "outputs": [
        {
          "output_type": "stream",
          "name": "stdout",
          "text": [
            "2024\n",
            "5\n",
            "3\n",
            "7\n",
            "41\n",
            "41\n",
            "857028\n"
          ]
        }
      ]
    },
    {
      "cell_type": "code",
      "source": [
        "import os\n",
        "print(os.getcwd())\n",
        "print(os.listdir())"
      ],
      "metadata": {
        "colab": {
          "base_uri": "https://localhost:8080/"
        },
        "id": "9prRv1_vKIpu",
        "outputId": "388e5475-e7e3-4400-d63d-fb98b0e58f54"
      },
      "execution_count": null,
      "outputs": [
        {
          "output_type": "stream",
          "name": "stdout",
          "text": [
            "/content\n"
          ]
        }
      ]
    },
    {
      "cell_type": "code",
      "source": [
        "os.mkdir('new_folder')"
      ],
      "metadata": {
        "colab": {
          "base_uri": "https://localhost:8080/",
          "height": 147
        },
        "id": "JHGe0lXwK1VS",
        "outputId": "3bd32fd7-2960-4979-a401-fd1f13c7fe9d"
      },
      "execution_count": null,
      "outputs": [
        {
          "output_type": "error",
          "ename": "FileExistsError",
          "evalue": "[Errno 17] File exists: 'new_folder'",
          "traceback": [
            "\u001b[0;31m---------------------------------------------------------------------------\u001b[0m",
            "\u001b[0;31mFileExistsError\u001b[0m                           Traceback (most recent call last)",
            "\u001b[0;32m<ipython-input-13-8e81905ff775>\u001b[0m in \u001b[0;36m<cell line: 1>\u001b[0;34m()\u001b[0m\n\u001b[0;32m----> 1\u001b[0;31m \u001b[0mos\u001b[0m\u001b[0;34m.\u001b[0m\u001b[0mmkdir\u001b[0m\u001b[0;34m(\u001b[0m\u001b[0;34m'new_folder'\u001b[0m\u001b[0;34m)\u001b[0m\u001b[0;34m\u001b[0m\u001b[0;34m\u001b[0m\u001b[0m\n\u001b[0m",
            "\u001b[0;31mFileExistsError\u001b[0m: [Errno 17] File exists: 'new_folder'"
          ]
        }
      ]
    },
    {
      "cell_type": "code",
      "source": [
        "os.removedirs('new)folder')"
      ],
      "metadata": {
        "id": "GrvFnhMh9VCA"
      },
      "execution_count": null,
      "outputs": []
    },
    {
      "cell_type": "code",
      "source": [
        "!ls\n"
      ],
      "metadata": {
        "colab": {
          "base_uri": "https://localhost:8080/"
        },
        "id": "DPSwQPqvLDAT",
        "outputId": "604b22d0-da64-4854-a73c-65b7bdecb9a5"
      },
      "execution_count": null,
      "outputs": [
        {
          "output_type": "stream",
          "name": "stdout",
          "text": [
            "sample_data\n"
          ]
        }
      ]
    },
    {
      "cell_type": "code",
      "source": [
        "#외부 라이브러리 예제\n",
        "#먼저pip를 사용하여  pandas라이브러리를 설치합니다\n",
        "\n",
        "import pandas as pd\n",
        "data = {'name':['Alice', 'Bob','Charlie'], 'age' : [25,30,35]}\n",
        "df = pd.DataFrame(data)\n",
        "print(df.head())"
      ],
      "metadata": {
        "colab": {
          "base_uri": "https://localhost:8080/"
        },
        "id": "1sOysRXUL0ZF",
        "outputId": "f188f365-5bec-49d7-cbfd-eb161a63e0c4"
      },
      "execution_count": null,
      "outputs": [
        {
          "output_type": "stream",
          "name": "stdout",
          "text": [
            "      name  age\n",
            "0    Alice   25\n",
            "1      Bob   30\n",
            "2  Charlie   35\n"
          ]
        }
      ]
    },
    {
      "cell_type": "code",
      "source": [
        "import numpy as np\n",
        "data = [1,2,3,4]\n",
        "arr = np.array(data)\n",
        "print(arr, type(arr))"
      ],
      "metadata": {
        "colab": {
          "base_uri": "https://localhost:8080/"
        },
        "id": "5LNAEj1SRXaN",
        "outputId": "7e3b91fd-2dab-43d6-8d80-24284665e153"
      },
      "execution_count": null,
      "outputs": [
        {
          "output_type": "stream",
          "name": "stdout",
          "text": [
            "[1 2 3 4] <class 'numpy.ndarray'>\n"
          ]
        }
      ]
    },
    {
      "cell_type": "code",
      "source": [
        "#사용자 함수 예제\n",
        "def greet(name):\n",
        "    return f\"Hello, {name}!\"\n",
        "\n",
        "print(greet(\"홍길동\"))"
      ],
      "metadata": {
        "colab": {
          "base_uri": "https://localhost:8080/"
        },
        "id": "JUaHqNPwRqF9",
        "outputId": "b9126644-7276-4318-87f7-212ac624e820"
      },
      "execution_count": null,
      "outputs": [
        {
          "output_type": "stream",
          "name": "stdout",
          "text": [
            "Hello, 홍길동!\n"
          ]
        }
      ]
    },
    {
      "cell_type": "code",
      "source": [
        "#람다 함수는 간단한 한 줄의 함수를 작성할 때 우용\n",
        "multiply = lambda x,y:x + y\n",
        "print(multiply(3,5))"
      ],
      "metadata": {
        "colab": {
          "base_uri": "https://localhost:8080/"
        },
        "id": "-R9mOi75SaoI",
        "outputId": "e21887cb-1b57-4007-cc7e-03a2b52862ef"
      },
      "execution_count": null,
      "outputs": [
        {
          "output_type": "stream",
          "name": "stdout",
          "text": [
            "8\n"
          ]
        }
      ]
    },
    {
      "cell_type": "code",
      "source": [
        "#조건 사용:\n",
        "is_even = lambda x: True if x % 2 == 0 else False\n",
        "print(is_even(4))\n",
        "print(is_even(5))"
      ],
      "metadata": {
        "colab": {
          "base_uri": "https://localhost:8080/"
        },
        "id": "TVh035qiS_vy",
        "outputId": "848238b9-19ba-421a-a418-978c76c2ef01"
      },
      "execution_count": null,
      "outputs": [
        {
          "output_type": "stream",
          "name": "stdout",
          "text": [
            "True\n",
            "False\n"
          ]
        }
      ]
    },
    {
      "cell_type": "markdown",
      "source": [
        "#### 파이썬 패키지,  모듈, 함수, 클래스\n",
        "- 코드 작성 시 이미 만들어져 있는 함수들을 활용하면 보다 효율적이고 빠르게 개발 가능\n",
        "- 이미 만들어져 있고 안정성이 검증된 함수들을 성격에 맞게 하나의 파이썬 파일에 묶어 만들어 놓을 것을 모듈이라 함\n",
        "- 외부 모듈에 있는 함수들을 활용하려면 이 모듈을 먼저 가져와서 사용해야 하는데 이것을 모듈을 임포트한다고 한다.\n",
        "- 파이썬 모듈이 하나의 파이썬 파일이라면 패키지는 디렉토리로 볼 수 있다.\n",
        "\n",
        "패키지- 가장 큰 범위\n",
        "1. 라이브러리라고도 부름\n",
        "2. 특정 기능과 관련된 여러 모듈을 한 그룹으로 묶은 것\n",
        "3. 패키지 안에 서브패키지가 있을 수도 있다.\n",
        "4. import 패키지/모듈(모듈 전부사용), from 패키지/모듈 import 서브패키지/모듈\n",
        "  \n",
        "   \n",
        "모듈\n",
        "1. 여러 기능들이 뭉쳐진 하나의. py파일\n",
        "2. 함수, 클래스, 변수 등 포함\n",
        "3. import 모듈\n",
        "\n",
        "함수\n",
        "1. 하나의 기능을 가진 코드의 집합 / 속성은 변수\n",
        "2. 함수를 사용한다 = 함수를 호출한다\n",
        "3. 함수 사용 형태: 함수( )\n",
        "   - 필요한 경우 () 안에 매개변수 또는 옵션\n",
        "4. 종류\n",
        "   - 내장 함수(built in function)\n",
        "   - 외장 함수: import 해주어야 함\n",
        "   \n",
        "클래스   \n",
        "- 파이썬은 객체 지향 언어로클래스를 기반으로 객체를 만들어 사용한다.\n",
        "- 한 파이썬 파일(. py) 내에서 \"class 클래스명():\"을 통해 클래스 선언"
      ],
      "metadata": {
        "id": "EpblGmR3dmr2"
      }
    },
    {
      "cell_type": "markdown",
      "source": [
        "#### 함수 vs 메소드\n",
        "- 함수 (Function)\n",
        "    - 함수는 특정 작업을 수행하거나 값을 계산하기 위해 정의된 코드의 블록\n",
        "    - 함수는 def 키워드를 사용하여 정의\n",
        "    - 함수는 전역적으로 호출할 수 있거나 다른 함수 내부에서 호출할 수 있다.    \n",
        "- 메소드 (Method)\n",
        "    - 메소드는 객체에 속한 함수, 메소드는 특정 객체의 기능으로 정의\n",
        "    - 메소드는 객체와 연결되어 있으며, . (점) 표기법을 사용하여 해당 객체에 대한 메소드를 호출\n",
        "    - 메소드는 첫 번째 매개변수로 self를 사용하여 객체 자체를 참조 (클래스 내부에서 메소드를 정의할 때)\n",
        "\n",
        "\n",
        "\n",
        "\n",
        "- 주요 차이점\n",
        "    - 정의: 함수는 독립적으로 정의되지만, 메소드는 클래스 내부에서 정의\n",
        "    - 호출: 함수는 이름만으로 호출될 수 있지만, 메소드는 객체를 통해 호출\n",
        "    - 참조: 메소드는 첫 번째 매개변수로 객체 자신을 참조(self), 반면 함수는 이런 자체 참조 매개변수를 갖지 않는다."
      ],
      "metadata": {
        "id": "4V322SladwMD"
      }
    },
    {
      "cell_type": "code",
      "source": [
        "#함수 호출\n",
        "def my_function():\n",
        "    print(\"Hello from a function\")\n",
        "my_function()\n"
      ],
      "metadata": {
        "colab": {
          "base_uri": "https://localhost:8080/"
        },
        "id": "EOha37vjgm72",
        "outputId": "94103996-7dba-45c8-e88b-0d5ea48a6737"
      },
      "execution_count": 1,
      "outputs": [
        {
          "output_type": "stream",
          "name": "stdout",
          "text": [
            "Hello from a function\n"
          ]
        }
      ]
    },
    {
      "cell_type": "code",
      "source": [
        "#메소드 호출\n",
        "class MyClass:\n",
        "    def my_method(self):\n",
        "        print(\"Hello from a method\")\n",
        "\n",
        "obj = MyClass()\n",
        "#obj.my_method()\n",
        "MyClass.my_method(obj)"
      ],
      "metadata": {
        "colab": {
          "base_uri": "https://localhost:8080/"
        },
        "id": "gk9bWCYehQLJ",
        "outputId": "bfc6087a-66dd-4224-eb17-8b5f56be1777"
      },
      "execution_count": 6,
      "outputs": [
        {
          "output_type": "stream",
          "name": "stdout",
          "text": [
            "Hello from a method\n"
          ]
        }
      ]
    },
    {
      "cell_type": "markdown",
      "source": [
        "내장함수 연습"
      ],
      "metadata": {
        "id": "LDa-LaxsiO73"
      }
    },
    {
      "cell_type": "code",
      "source": [
        "print(abs(-3))\n",
        "print(all([1,2,3,0]))\n",
        "print(any([1,2,3,0]))\n",
        "print(chr(65))\n",
        "print(float(3))\n",
        "print(int(3.9))\n",
        "print(max(1,10))\n",
        "print(min(1, 10))\n",
        "print(pow(10, 2))\n",
        "print(round(2.675, 2))\n",
        "print(round(2.675, 3))\n",
        "print(round(2.675, 1))"
      ],
      "metadata": {
        "colab": {
          "base_uri": "https://localhost:8080/"
        },
        "id": "2b2G9l-Zhelx",
        "outputId": "f784098c-09c2-4240-abad-808956bed9f4"
      },
      "execution_count": 9,
      "outputs": [
        {
          "output_type": "stream",
          "name": "stdout",
          "text": [
            "3\n",
            "False\n",
            "True\n",
            "A\n",
            "3.0\n",
            "3\n",
            "10\n",
            "1\n",
            "100\n",
            "2.67\n",
            "2.675\n",
            "2.7\n"
          ]
        }
      ]
    },
    {
      "cell_type": "code",
      "source": [
        "type(pow)"
      ],
      "metadata": {
        "colab": {
          "base_uri": "https://localhost:8080/"
        },
        "id": "sku7Bo3Ci59c",
        "outputId": "5e8d7535-8291-4955-e87c-978d5ee42a70"
      },
      "execution_count": 10,
      "outputs": [
        {
          "output_type": "execute_result",
          "data": {
            "text/plain": [
              "builtin_function_or_method"
            ]
          },
          "metadata": {},
          "execution_count": 10
        }
      ]
    },
    {
      "cell_type": "code",
      "source": [
        "#함수가 다른 객체와 마찬가지로 변수에 할당되거나, 다른 함수로 전달되거나, 다른 함수로부터 반한돨 수 있음\n",
        "#pow를 다른 변수에 할당\n",
        "my_pow = pow\n",
        "result = my_pow(2,3)\n",
        "print(result)\n",
        "#함수를 인자로 전달하는 경우\n",
        "def apply_func(func, x, y):\n",
        "    return func(x, y)\n",
        "result = apply_func(pow, 3,4) #pow(3,4)\n",
        "print(result)"
      ],
      "metadata": {
        "colab": {
          "base_uri": "https://localhost:8080/"
        },
        "id": "QQ-mDN90jzGA",
        "outputId": "e87a0e72-2209-49f8-9b29-f6bf6940ade7"
      },
      "execution_count": 12,
      "outputs": [
        {
          "output_type": "stream",
          "name": "stdout",
          "text": [
            "8\n",
            "81\n"
          ]
        }
      ]
    },
    {
      "cell_type": "code",
      "source": [
        "age = 30\n",
        "print(\"I am \" + str(age) + \" years old.\")"
      ],
      "metadata": {
        "colab": {
          "base_uri": "https://localhost:8080/"
        },
        "id": "TnThNZSukOT_",
        "outputId": "8f484594-e46f-4780-bc35-1c031d522c7b"
      },
      "execution_count": 13,
      "outputs": [
        {
          "output_type": "stream",
          "name": "stdout",
          "text": [
            "I am 30 years old.\n"
          ]
        }
      ]
    },
    {
      "cell_type": "code",
      "source": [
        "my_list = [3,1,4,2]\n",
        "print(sorted(my_list))\n",
        "my_list"
      ],
      "metadata": {
        "colab": {
          "base_uri": "https://localhost:8080/"
        },
        "id": "4IYFt8WNleMM",
        "outputId": "df4d79be-7c28-4251-bfa7-3b0fd4163a92"
      },
      "execution_count": 14,
      "outputs": [
        {
          "output_type": "stream",
          "name": "stdout",
          "text": [
            "[1, 2, 3, 4]\n"
          ]
        },
        {
          "output_type": "execute_result",
          "data": {
            "text/plain": [
              "[3, 1, 4, 2]"
            ]
          },
          "metadata": {},
          "execution_count": 14
        }
      ]
    },
    {
      "cell_type": "code",
      "source": [
        "#Q.students = [('Alice', 90), ('bob',85),('charlie',88)]를 점수를 기준으로 정렬하세요.\n",
        "students = [('Alice', 90), ('bob',85),('charlie',88)]\n",
        "print(sorted(students, key=lambda x: x[1], reverse=True))\n",
        "print(sorted(students, key=lambda x: x[0], reverse=True))\n",
        "print(sorted(students, reverse=True))"
      ],
      "metadata": {
        "colab": {
          "base_uri": "https://localhost:8080/"
        },
        "id": "wngWYjo9mWnu",
        "outputId": "a900be3d-4fb1-4b3a-ae98-efed3cbf4dc3"
      },
      "execution_count": 22,
      "outputs": [
        {
          "output_type": "stream",
          "name": "stdout",
          "text": [
            "[('Alice', 90), ('charlie', 88), ('bob', 85)]\n",
            "[('charlie', 88), ('bob', 85), ('Alice', 90)]\n",
            "[('charlie', 88), ('bob', 85), ('Alice', 90)]\n"
          ]
        }
      ]
    },
    {
      "cell_type": "code",
      "source": [
        "my_string = 'Python'\n",
        "print(type(my_string))"
      ],
      "metadata": {
        "colab": {
          "base_uri": "https://localhost:8080/"
        },
        "id": "gunlPZPTrL78",
        "outputId": "ea45aa71-c942-4ec7-c80a-ee83b9d89fdb"
      },
      "execution_count": 23,
      "outputs": [
        {
          "output_type": "stream",
          "name": "stdout",
          "text": [
            "<class 'str'>\n"
          ]
        }
      ]
    },
    {
      "cell_type": "code",
      "source": [
        "print(list(range(5)))\n",
        "print(list(range(1,6)))\n",
        "print(list(range(1,10,2)))\n",
        "print(list(range(0,-10,-1)))"
      ],
      "metadata": {
        "colab": {
          "base_uri": "https://localhost:8080/"
        },
        "id": "ld66H1gttc_T",
        "outputId": "355b3ff1-b779-485f-836d-5f3509410f40"
      },
      "execution_count": 24,
      "outputs": [
        {
          "output_type": "stream",
          "name": "stdout",
          "text": [
            "[0, 1, 2, 3, 4]\n",
            "[1, 2, 3, 4, 5]\n",
            "[1, 3, 5, 7, 9]\n",
            "[0, -1, -2, -3, -4, -5, -6, -7, -8, -9]\n"
          ]
        }
      ]
    },
    {
      "cell_type": "markdown",
      "source": [
        "Q.실행 가능한 숫자를 문자열 ('5+5')입력으로 받아 문자열을 숫자 연산으로 실행한 결과값을 출력하세요\n"
      ],
      "metadata": {
        "id": "GkA1deHzuMOS"
      }
    },
    {
      "cell_type": "code",
      "source": [
        "print(eval(input('연산을 입력하세요. > ')))"
      ],
      "metadata": {
        "colab": {
          "base_uri": "https://localhost:8080/"
        },
        "id": "exGFgLTBuLtI",
        "outputId": "1c154018-79d7-4c5f-ffef-ceb2e3757152"
      },
      "execution_count": 25,
      "outputs": [
        {
          "output_type": "stream",
          "name": "stdout",
          "text": [
            "연산을 입력하세요. > 5+5\n",
            "10\n"
          ]
        }
      ]
    },
    {
      "cell_type": "code",
      "source": [
        "expression = input(\"계산할 수식을 입력하세요: \")\n",
        "result = eval(expression)\n",
        "print(f\"계산 결과: {result}\")"
      ],
      "metadata": {
        "colab": {
          "base_uri": "https://localhost:8080/"
        },
        "id": "PLBqqAfgt4_s",
        "outputId": "ba4c27b1-3012-45cc-ab4d-6c37b0913c7b"
      },
      "execution_count": 26,
      "outputs": [
        {
          "output_type": "stream",
          "name": "stdout",
          "text": [
            "계산할 수식을 입력하세요: 3*3\n",
            "계산 결과: 9\n"
          ]
        }
      ]
    },
    {
      "cell_type": "code",
      "source": [
        "data = [1,2,3,4,5]\n",
        "operation = input(\"실행할 리스트 연산을 입력하세요(예: 'data.append(6), data.pop()). > \")\n",
        "eval(operation)\n",
        "print(f'수정된 데이터: {data}')"
      ],
      "metadata": {
        "colab": {
          "base_uri": "https://localhost:8080/"
        },
        "id": "5-2q_dqQvB4w",
        "outputId": "2820a34a-1b02-4f8b-9fce-43ca5bbe6af3"
      },
      "execution_count": 27,
      "outputs": [
        {
          "output_type": "stream",
          "name": "stdout",
          "text": [
            "실행할 리스트 연산을 입력하세요(예: 'data.append(6), data.pop()). > data.append(6)\n",
            "수정된 데이터: [1, 2, 3, 4, 5, 6]\n"
          ]
        }
      ]
    },
    {
      "cell_type": "code",
      "source": [
        "data = [1,2,3,4,5]\n",
        "operation = input(\"실행할 리스트 연산을 입력하세요(예: 'data.append(6), data.pop()). > \")\n",
        "eval(operation)\n",
        "print(f'수정된 데이터: {data}')"
      ],
      "metadata": {
        "colab": {
          "base_uri": "https://localhost:8080/"
        },
        "id": "DQlCyrCTwC7D",
        "outputId": "785a6263-98ae-4184-b687-622a23bdc2fb"
      },
      "execution_count": 28,
      "outputs": [
        {
          "output_type": "stream",
          "name": "stdout",
          "text": [
            "실행할 리스트 연산을 입력하세요(예: 'data.append(6), data.pop()). > data.pop(3)\n",
            "수정된 데이터: [1, 2, 3, 5]\n"
          ]
        }
      ]
    },
    {
      "cell_type": "code",
      "source": [
        "for idx, element in enumerate(['ele1', 'ele2', 'ele3'],1):\n",
        "    print(idx, element)"
      ],
      "metadata": {
        "colab": {
          "base_uri": "https://localhost:8080/"
        },
        "id": "QRzOdKxFw1Uu",
        "outputId": "2d8d5196-1ecf-42a0-c89d-40176b861d29"
      },
      "execution_count": 30,
      "outputs": [
        {
          "output_type": "stream",
          "name": "stdout",
          "text": [
            "1 ele1\n",
            "2 ele2\n",
            "3 ele3\n"
          ]
        }
      ]
    },
    {
      "cell_type": "code",
      "source": [
        "#Q. enumerate 와 f-string을 사용해서 특정 리스트에서 원하는 형태로 출력하세요.(인덱스와 내용을 믹스하여)\n",
        "list2 = ['사과','키위','딸기','참외','수박']\n",
        "print('과일의 종류')\n",
        "for idx, element in enumerate(list2):\n",
        "    print(f\"{idx}. {element}\")"
      ],
      "metadata": {
        "colab": {
          "base_uri": "https://localhost:8080/"
        },
        "id": "FRI2lleSxPLv",
        "outputId": "47d401f7-7880-49b8-93f8-9228b040a447"
      },
      "execution_count": 35,
      "outputs": [
        {
          "output_type": "stream",
          "name": "stdout",
          "text": [
            "과일의 종류\n",
            "0. 사과\n",
            "1. 키위\n",
            "2. 딸기\n",
            "3. 참외\n",
            "4. 수박\n"
          ]
        }
      ]
    },
    {
      "cell_type": "code",
      "source": [],
      "metadata": {
        "id": "Md9BU5zox-Cy"
      },
      "execution_count": null,
      "outputs": []
    }
  ]
}