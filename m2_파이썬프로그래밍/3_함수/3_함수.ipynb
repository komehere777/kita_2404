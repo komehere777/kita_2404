{
  "nbformat": 4,
  "nbformat_minor": 0,
  "metadata": {
    "colab": {
      "provenance": []
    },
    "kernelspec": {
      "name": "python3",
      "display_name": "Python 3"
    },
    "language_info": {
      "name": "python"
    }
  },
  "cells": [
    {
      "cell_type": "markdown",
      "source": [
        "- 함수의 종류 및 예제:내장함수, 외장함수, 외부라이브러리, 람다함수, 사용자함수\n",
        "\n",
        "- 패키지, 모듈, 함수, 클래스\n",
        "- 함수 vs 메소드\n",
        "- 내장함수 연습\n",
        "- 외장함수 연습 : 날짜 함수, os\n",
        "- 외부 라이브러리 연습\n",
        "- 람다함수 연습\n",
        "- 사용자 함수 연습\n",
        "- 함수 유형 : 입력 인자와 리턴값에 따른 4가지 형태\n",
        "- 지역변수와 전역변수\n",
        "- 프로그램 작성"
      ],
      "metadata": {
        "id": "0edd4lDIiakA"
      }
    },
    {
      "cell_type": "markdown",
      "source": [
        "https://www.dataq.or.kr/www/sub/a_07.do#none\n",
        "빅데이터 분석 기사"
      ],
      "metadata": {
        "id": "fFeXaga5kWll"
      }
    },
    {
      "cell_type": "markdown",
      "source": [
        "파이썬에서 함수는 크게 내장 함수(Built-in Functions)와 외장 함수(External Functions)로 나뉩니다.\n",
        "\n",
        "1. 내장 함수 (Built-in Functions):\n",
        "- 내장 함수는 파이썬 인터프리터에 포함되어 있어, 별도의 모듈을 임포트(import)하지 않고도 사용 예를 들어, print(), len(), type(), range(), zip() 등이 내장 함수입니다.\n",
        "- 이러한 함수들은 기본적인 작업을 수행하며, 파이썬 프로그래밍의 기본적인 빌딩 블록(building blocks)으로 작동\n",
        "\n",
        "2. 외장 함수 (External Functions):\n",
        "- 표준 라이브러리에 포함된 모듈과 함수를 가리키는 것으로 모듈을 임포트하여 사용\n",
        "- 파이썬 표준 라이브러리의 os, sys, math, random, datetime 등의 모듈에는 다양한 외장 함수가 포함\n",
        "\n",
        "3. 외부 라이브러리나 패키지\n",
        "- 표준 라이브러리에 포함되지 않아 기본 설치에는 포함되지 않는다.\n",
        "- 이를 사용하려면 먼저 해당 라이브러리나 패키지를 설치\n",
        "- 외부 라이브러리는 통상적으로 파이썬의 패키지 관리자인 pip를 사용하여 설치\n",
        "- 설치 후에는 외장 함수와 마찬가지로 필요한 모듈을 임포트하여 사용\n",
        "- 예: numpy, pandas, requests 등의 외부 라이브러리에 포함된 함수들.\n",
        "\n",
        "3. 사용자 정의 함수(User-Defined Functions):\n",
        "- 사용자가 직접 정의하여 사용하는 함수\n",
        "- def 키워드를 사용하여 함수를 정의하며, 필요에 따라 매개변수와 반환 값을 지정\n",
        "\n",
        "4. 람다 함수(Lambda Functions):\n",
        "- 이름 없는 간단한 함수를 정의할 때 사용하는 익명 함수\n",
        "- lambda 키워드를 사용하여 한 줄로 함수를 정의하며, 주로 간단한 연산이 필요할 때 사용1"
      ],
      "metadata": {
        "id": "a4CQdi0HEAmp"
      }
    },
    {
      "cell_type": "markdown",
      "source": [
        "파이썬 표준 라이브러리\n",
        "\n",
        "https://docs.python.org/ko/3/library/index.html\n",
        "\n",
        "표준라이브러리에 없는것이 외부 라이브러리\n",
        "\n",
        "https://docs.python.org/ko/3.10/library/index.html\n"
      ],
      "metadata": {
        "id": "fULtXWut78mX"
      }
    },
    {
      "cell_type": "code",
      "execution_count": null,
      "metadata": {
        "colab": {
          "base_uri": "https://localhost:8080/"
        },
        "id": "oAW8cCpwDwmI",
        "outputId": "06ba722f-2e86-465c-a1ba-fae423018c6a"
      },
      "outputs": [
        {
          "output_type": "stream",
          "name": "stdout",
          "text": [
            "hello world!\n",
            "4\n",
            "<class 'int'>\n"
          ]
        }
      ],
      "source": [
        "#내장함수\n",
        "print(\"hello world!\")\n",
        "print(len([1,2,3,4,]))\n",
        "print(type(10))"
      ]
    },
    {
      "cell_type": "code",
      "source": [
        "#Q. 내장함수로 다음을 수행하세요.\n",
        "a = [1,2,3,4,5]\n",
        "print(sum(a))\n",
        "print(max(a))\n",
        "print(min(a))\n",
        "print(sorted(a))\n",
        "print(list(reversed(a)))"
      ],
      "metadata": {
        "colab": {
          "base_uri": "https://localhost:8080/"
        },
        "id": "7XL5yE5YGd15",
        "outputId": "9c3f230a-62ea-42ae-adef-b5a9c7860c1d"
      },
      "execution_count": null,
      "outputs": [
        {
          "output_type": "stream",
          "name": "stdout",
          "text": [
            "15\n",
            "5\n",
            "1\n",
            "[1, 2, 3, 4, 5]\n",
            "[5, 4, 3, 2, 1]\n"
          ]
        }
      ]
    },
    {
      "cell_type": "code",
      "source": [
        "print(type(42))\n",
        "print(abs(-5))  #절대값\n",
        "print(round(3.14159, 2)) #반올림\n",
        "print(pow(2,3)) #2의3승"
      ],
      "metadata": {
        "colab": {
          "base_uri": "https://localhost:8080/"
        },
        "id": "-AHN1NbmHWqG",
        "outputId": "52ae8f64-4d24-4605-8fcb-dc1f192c3fce"
      },
      "execution_count": null,
      "outputs": [
        {
          "output_type": "stream",
          "name": "stdout",
          "text": [
            "<class 'int'>\n",
            "5\n",
            "3.14\n",
            "8\n"
          ]
        }
      ]
    },
    {
      "cell_type": "code",
      "source": [
        "#외장함수\n",
        "import math\n",
        "print(math.sqrt(16))\n",
        "\n",
        "import random\n",
        "print(random.randint(1,10))\n",
        "\n",
        "import datetime\n",
        "print(datetime.datetime.now())"
      ],
      "metadata": {
        "colab": {
          "base_uri": "https://localhost:8080/"
        },
        "id": "xb27D4ZUHimA",
        "outputId": "8ab30155-293c-40bc-dda9-9e71f42d3124"
      },
      "execution_count": null,
      "outputs": [
        {
          "output_type": "stream",
          "name": "stdout",
          "text": [
            "4.0\n",
            "7\n",
            "2024-05-08 01:46:32.890361\n"
          ]
        }
      ]
    },
    {
      "cell_type": "code",
      "source": [
        "#Q. datetime.datetime.now()에서 연도, 월,일,시,분,초,마이크로초를 각각 출력하세요\n",
        "#     모듈    클래스  메소드\n",
        "import datetime\n",
        "a = datetime.datetime.now()\n",
        "print(a.year)\n",
        "print(a.month)\n",
        "print(a.day)\n",
        "print(a.hour)\n",
        "print(a.minute)\n",
        "print(a.second)\n",
        "print(a.microsecond)\n"
      ],
      "metadata": {
        "colab": {
          "base_uri": "https://localhost:8080/"
        },
        "id": "_LdzENekIlOM",
        "outputId": "2be5f0f7-304d-4de8-aee2-8a5778af0a07"
      },
      "execution_count": null,
      "outputs": [
        {
          "output_type": "stream",
          "name": "stdout",
          "text": [
            "2024\n",
            "5\n",
            "8\n",
            "1\n",
            "46\n",
            "32\n",
            "913136\n"
          ]
        }
      ]
    },
    {
      "cell_type": "code",
      "source": [
        "import os\n",
        "print(os.getcwd())\n",
        "print(os.listdir())"
      ],
      "metadata": {
        "colab": {
          "base_uri": "https://localhost:8080/"
        },
        "id": "9prRv1_vKIpu",
        "outputId": "249a2884-c31c-4bfe-e3ce-e6e2e1055a48"
      },
      "execution_count": null,
      "outputs": [
        {
          "output_type": "stream",
          "name": "stdout",
          "text": [
            "/content\n",
            "['.config', 'sample_data']\n"
          ]
        }
      ]
    },
    {
      "cell_type": "code",
      "source": [
        "os.mkdir('new_folder')"
      ],
      "metadata": {
        "id": "JHGe0lXwK1VS"
      },
      "execution_count": null,
      "outputs": []
    },
    {
      "cell_type": "code",
      "source": [
        "os.removedirs('new)folder')"
      ],
      "metadata": {
        "id": "GrvFnhMh9VCA",
        "colab": {
          "base_uri": "https://localhost:8080/",
          "height": 274
        },
        "outputId": "f47fec31-13fa-4303-d0c9-d94b2972e473"
      },
      "execution_count": null,
      "outputs": [
        {
          "output_type": "error",
          "ename": "FileNotFoundError",
          "evalue": "[Errno 2] No such file or directory: 'new)folder'",
          "traceback": [
            "\u001b[0;31m---------------------------------------------------------------------------\u001b[0m",
            "\u001b[0;31mFileNotFoundError\u001b[0m                         Traceback (most recent call last)",
            "\u001b[0;32m<ipython-input-8-767ac98ba95a>\u001b[0m in \u001b[0;36m<cell line: 1>\u001b[0;34m()\u001b[0m\n\u001b[0;32m----> 1\u001b[0;31m \u001b[0mos\u001b[0m\u001b[0;34m.\u001b[0m\u001b[0mremovedirs\u001b[0m\u001b[0;34m(\u001b[0m\u001b[0;34m'new)folder'\u001b[0m\u001b[0;34m)\u001b[0m\u001b[0;34m\u001b[0m\u001b[0;34m\u001b[0m\u001b[0m\n\u001b[0m",
            "\u001b[0;32m/usr/lib/python3.10/os.py\u001b[0m in \u001b[0;36mremovedirs\u001b[0;34m(name)\u001b[0m\n\u001b[1;32m    241\u001b[0m \u001b[0;34m\u001b[0m\u001b[0m\n\u001b[1;32m    242\u001b[0m     \"\"\"\n\u001b[0;32m--> 243\u001b[0;31m     \u001b[0mrmdir\u001b[0m\u001b[0;34m(\u001b[0m\u001b[0mname\u001b[0m\u001b[0;34m)\u001b[0m\u001b[0;34m\u001b[0m\u001b[0;34m\u001b[0m\u001b[0m\n\u001b[0m\u001b[1;32m    244\u001b[0m     \u001b[0mhead\u001b[0m\u001b[0;34m,\u001b[0m \u001b[0mtail\u001b[0m \u001b[0;34m=\u001b[0m \u001b[0mpath\u001b[0m\u001b[0;34m.\u001b[0m\u001b[0msplit\u001b[0m\u001b[0;34m(\u001b[0m\u001b[0mname\u001b[0m\u001b[0;34m)\u001b[0m\u001b[0;34m\u001b[0m\u001b[0;34m\u001b[0m\u001b[0m\n\u001b[1;32m    245\u001b[0m     \u001b[0;32mif\u001b[0m \u001b[0;32mnot\u001b[0m \u001b[0mtail\u001b[0m\u001b[0;34m:\u001b[0m\u001b[0;34m\u001b[0m\u001b[0;34m\u001b[0m\u001b[0m\n",
            "\u001b[0;31mFileNotFoundError\u001b[0m: [Errno 2] No such file or directory: 'new)folder'"
          ]
        }
      ]
    },
    {
      "cell_type": "code",
      "source": [
        "!ls\n"
      ],
      "metadata": {
        "id": "DPSwQPqvLDAT"
      },
      "execution_count": null,
      "outputs": []
    },
    {
      "cell_type": "code",
      "source": [
        "#외부 라이브러리 예제\n",
        "#먼저pip를 사용하여  pandas라이브러리를 설치합니다\n",
        "\n",
        "import pandas as pd\n",
        "data = {'name':['Alice', 'Bob','Charlie'], 'age' : [25,30,35]}\n",
        "df = pd.DataFrame(data)\n",
        "print(df.head())"
      ],
      "metadata": {
        "id": "1sOysRXUL0ZF"
      },
      "execution_count": null,
      "outputs": []
    },
    {
      "cell_type": "code",
      "source": [
        "import numpy as np\n",
        "data = [1,2,3,4]\n",
        "arr = np.array(data)\n",
        "print(arr, type(arr))"
      ],
      "metadata": {
        "id": "5LNAEj1SRXaN"
      },
      "execution_count": null,
      "outputs": []
    },
    {
      "cell_type": "code",
      "source": [
        "#사용자 함수 예제\n",
        "def greet(name):\n",
        "    return f\"Hello, {name}!\"\n",
        "\n",
        "print(greet(\"홍길동\"))"
      ],
      "metadata": {
        "id": "JUaHqNPwRqF9"
      },
      "execution_count": null,
      "outputs": []
    },
    {
      "cell_type": "code",
      "source": [
        "#람다 함수는 간단한 한 줄의 함수를 작성할 때 우용\n",
        "multiply = lambda x,y:x + y\n",
        "print(multiply(3,5))"
      ],
      "metadata": {
        "id": "-R9mOi75SaoI"
      },
      "execution_count": null,
      "outputs": []
    },
    {
      "cell_type": "code",
      "source": [
        "#조건 사용:\n",
        "is_even = lambda x: True if x % 2 == 0 else False\n",
        "print(is_even(4))\n",
        "print(is_even(5))"
      ],
      "metadata": {
        "id": "TVh035qiS_vy"
      },
      "execution_count": null,
      "outputs": []
    },
    {
      "cell_type": "markdown",
      "source": [
        "#### 파이썬 패키지,  모듈, 함수, 클래스\n",
        "- 코드 작성 시 이미 만들어져 있는 함수들을 활용하면 보다 효율적이고 빠르게 개발 가능\n",
        "- 이미 만들어져 있고 안정성이 검증된 함수들을 성격에 맞게 하나의 파이썬 파일에 묶어 만들어 놓을 것을 모듈이라 함\n",
        "- 외부 모듈에 있는 함수들을 활용하려면 이 모듈을 먼저 가져와서 사용해야 하는데 이것을 모듈을 임포트한다고 한다.\n",
        "- 파이썬 모듈이 하나의 파이썬 파일이라면 패키지는 디렉토리로 볼 수 있다.\n",
        "\n",
        "패키지- 가장 큰 범위\n",
        "1. 라이브러리라고도 부름\n",
        "2. 특정 기능과 관련된 여러 모듈을 한 그룹으로 묶은 것\n",
        "3. 패키지 안에 서브패키지가 있을 수도 있다.\n",
        "4. import 패키지/모듈(모듈 전부사용), from 패키지/모듈 import 서브패키지/모듈\n",
        "  \n",
        "   \n",
        "모듈\n",
        "1. 여러 기능들이 뭉쳐진 하나의. py파일\n",
        "2. 함수, 클래스, 변수 등 포함\n",
        "3. import 모듈\n",
        "\n",
        "함수\n",
        "1. 하나의 기능을 가진 코드의 집합 / 속성은 변수\n",
        "2. 함수를 사용한다 = 함수를 호출한다\n",
        "3. 함수 사용 형태: 함수( )\n",
        "   - 필요한 경우 () 안에 매개변수 또는 옵션\n",
        "4. 종류\n",
        "   - 내장 함수(built in function)\n",
        "   - 외장 함수: import 해주어야 함\n",
        "   \n",
        "클래스   \n",
        "- 파이썬은 객체 지향 언어로클래스를 기반으로 객체를 만들어 사용한다.\n",
        "- 한 파이썬 파일(. py) 내에서 \"class 클래스명():\"을 통해 클래스 선언"
      ],
      "metadata": {
        "id": "EpblGmR3dmr2"
      }
    },
    {
      "cell_type": "markdown",
      "source": [
        "#### 함수 vs 메소드\n",
        "- 함수 (Function)\n",
        "    - 함수는 특정 작업을 수행하거나 값을 계산하기 위해 정의된 코드의 블록\n",
        "    - 함수는 def 키워드를 사용하여 정의\n",
        "    - 함수는 전역적으로 호출할 수 있거나 다른 함수 내부에서 호출할 수 있다.    \n",
        "- 메소드 (Method)\n",
        "    - 메소드는 객체에 속한 함수, 메소드는 특정 객체의 기능으로 정의\n",
        "    - 메소드는 객체와 연결되어 있으며, . (점) 표기법을 사용하여 해당 객체에 대한 메소드를 호출\n",
        "    - 메소드는 첫 번째 매개변수로 self를 사용하여 객체 자체를 참조 (클래스 내부에서 메소드를 정의할 때)\n",
        "\n",
        "\n",
        "\n",
        "\n",
        "- 주요 차이점\n",
        "    - 정의: 함수는 독립적으로 정의되지만, 메소드는 클래스 내부에서 정의\n",
        "    - 호출: 함수는 이름만으로 호출될 수 있지만, 메소드는 객체를 통해 호출\n",
        "    - 참조: 메소드는 첫 번째 매개변수로 객체 자신을 참조(self), 반면 함수는 이런 자체 참조 매개변수를 갖지 않는다."
      ],
      "metadata": {
        "id": "4V322SladwMD"
      }
    },
    {
      "cell_type": "code",
      "source": [
        "#함수 호출\n",
        "def my_function():\n",
        "    print(\"Hello from a function\")\n",
        "my_function()\n"
      ],
      "metadata": {
        "id": "EOha37vjgm72"
      },
      "execution_count": null,
      "outputs": []
    },
    {
      "cell_type": "code",
      "source": [
        "#메소드 호출\n",
        "class MyClass:\n",
        "    def my_method(self):\n",
        "        print(\"Hello from a method\")\n",
        "\n",
        "obj = MyClass()\n",
        "#obj.my_method()\n",
        "MyClass.my_method(obj)"
      ],
      "metadata": {
        "id": "gk9bWCYehQLJ"
      },
      "execution_count": null,
      "outputs": []
    },
    {
      "cell_type": "markdown",
      "source": [
        "내장함수 연습"
      ],
      "metadata": {
        "id": "LDa-LaxsiO73"
      }
    },
    {
      "cell_type": "code",
      "source": [
        "print(abs(-3))\n",
        "print(all([1,2,3,0]))\n",
        "print(any([1,2,3,0]))\n",
        "print(chr(65))\n",
        "print(float(3))\n",
        "print(int(3.9))\n",
        "print(max(1,10))\n",
        "print(min(1, 10))\n",
        "print(pow(10, 2))\n",
        "print(round(2.675, 2))\n",
        "print(round(2.675, 3))\n",
        "print(round(2.675, 1))"
      ],
      "metadata": {
        "id": "2b2G9l-Zhelx"
      },
      "execution_count": null,
      "outputs": []
    },
    {
      "cell_type": "code",
      "source": [
        "type(pow)"
      ],
      "metadata": {
        "id": "sku7Bo3Ci59c"
      },
      "execution_count": null,
      "outputs": []
    },
    {
      "cell_type": "code",
      "source": [
        "#함수가 다른 객체와 마찬가지로 변수에 할당되거나, 다른 함수로 전달되거나, 다른 함수로부터 반한돨 수 있음\n",
        "#pow를 다른 변수에 할당\n",
        "my_pow = pow\n",
        "result = my_pow(2,3)\n",
        "print(result)\n",
        "#함수를 인자로 전달하는 경우\n",
        "def apply_func(func, x, y):\n",
        "    return func(x, y)\n",
        "result = apply_func(pow, 3,4) #pow(3,4)\n",
        "print(result)"
      ],
      "metadata": {
        "id": "QQ-mDN90jzGA"
      },
      "execution_count": null,
      "outputs": []
    },
    {
      "cell_type": "code",
      "source": [
        "age = 30\n",
        "print(\"I am \" + str(age) + \" years old.\")"
      ],
      "metadata": {
        "id": "TnThNZSukOT_"
      },
      "execution_count": null,
      "outputs": []
    },
    {
      "cell_type": "code",
      "source": [
        "my_list = [3,1,4,2]\n",
        "print(sorted(my_list))\n",
        "my_list"
      ],
      "metadata": {
        "id": "4IYFt8WNleMM"
      },
      "execution_count": null,
      "outputs": []
    },
    {
      "cell_type": "code",
      "source": [
        "#Q.students = [('Alice', 90), ('bob',85),('charlie',88)]를 점수를 기준으로 정렬하세요.\n",
        "students = [('Alice', 90), ('bob',85),('charlie',88)]\n",
        "print(sorted(students, key=lambda x: x[1], reverse=True))\n",
        "print(sorted(students, key=lambda x: x[0], reverse=True))\n",
        "print(sorted(students, reverse=True))"
      ],
      "metadata": {
        "id": "wngWYjo9mWnu"
      },
      "execution_count": null,
      "outputs": []
    },
    {
      "cell_type": "code",
      "source": [
        "my_string = 'Python'\n",
        "print(type(my_string))"
      ],
      "metadata": {
        "id": "gunlPZPTrL78"
      },
      "execution_count": null,
      "outputs": []
    },
    {
      "cell_type": "code",
      "source": [
        "print(list(range(5)))\n",
        "print(list(range(1,6)))\n",
        "print(list(range(1,10,2)))\n",
        "print(list(range(0,-10,-1)))"
      ],
      "metadata": {
        "id": "ld66H1gttc_T"
      },
      "execution_count": null,
      "outputs": []
    },
    {
      "cell_type": "markdown",
      "source": [
        "Q.실행 가능한 숫자를 문자열 ('5+5')입력으로 받아 문자열을 숫자 연산으로 실행한 결과값을 출력하세요\n"
      ],
      "metadata": {
        "id": "GkA1deHzuMOS"
      }
    },
    {
      "cell_type": "code",
      "source": [
        "print(eval(input('연산을 입력하세요. > ')))"
      ],
      "metadata": {
        "id": "exGFgLTBuLtI"
      },
      "execution_count": null,
      "outputs": []
    },
    {
      "cell_type": "code",
      "source": [
        "expression = input(\"계산할 수식을 입력하세요: \")\n",
        "result = eval(expression)\n",
        "print(f\"계산 결과: {result}\")"
      ],
      "metadata": {
        "id": "PLBqqAfgt4_s"
      },
      "execution_count": null,
      "outputs": []
    },
    {
      "cell_type": "code",
      "source": [
        "data = [1,2,3,4,5]\n",
        "operation = input(\"실행할 리스트 연산을 입력하세요(예: 'data.append(6), data.pop()). > \")\n",
        "eval(operation)\n",
        "print(f'수정된 데이터: {data}')"
      ],
      "metadata": {
        "id": "5-2q_dqQvB4w"
      },
      "execution_count": null,
      "outputs": []
    },
    {
      "cell_type": "code",
      "source": [
        "data = [1,2,3,4,5]\n",
        "operation = input(\"실행할 리스트 연산을 입력하세요(예: 'data.append(6), data.pop()). > \")\n",
        "eval(operation)\n",
        "print(f'수정된 데이터: {data}')"
      ],
      "metadata": {
        "id": "DQlCyrCTwC7D"
      },
      "execution_count": null,
      "outputs": []
    },
    {
      "cell_type": "code",
      "source": [
        "for idx, element in enumerate(['ele1', 'ele2', 'ele3'],1):\n",
        "    print(idx, element)"
      ],
      "metadata": {
        "id": "QRzOdKxFw1Uu"
      },
      "execution_count": null,
      "outputs": []
    },
    {
      "cell_type": "code",
      "source": [
        "#Q. enumerate 와 f-string을 사용해서 특정 리스트에서 원하는 형태로 출력하세요.(인덱스와 내용을 믹스하여)\n",
        "list2 = ['사과','키위','딸기','참외','수박']\n",
        "print('과일의 종류')\n",
        "for idx, element in enumerate(list2):\n",
        "    print(f\"{idx}. {element}\")"
      ],
      "metadata": {
        "id": "FRI2lleSxPLv"
      },
      "execution_count": null,
      "outputs": []
    },
    {
      "cell_type": "code",
      "source": [
        "#range\n",
        "print(range(10), type(range(10))) #타입이 레인지\n",
        "print([i for i in range(10)])\n",
        "print(type([i for i in range(10)]))"
      ],
      "metadata": {
        "id": "Md9BU5zox-Cy"
      },
      "execution_count": null,
      "outputs": []
    },
    {
      "cell_type": "code",
      "source": [
        "print(list(range(10)))\n",
        "print(type(list(range(10))))"
      ],
      "metadata": {
        "id": "QDAKVo3X13D2"
      },
      "execution_count": null,
      "outputs": []
    },
    {
      "cell_type": "code",
      "source": [
        "#몫과 나머지\n",
        "print(divmod(7, 3))"
      ],
      "metadata": {
        "id": "eyU39qGh2iNg"
      },
      "execution_count": null,
      "outputs": []
    },
    {
      "cell_type": "code",
      "source": [
        "#Q. 150분을 시간과 분으로 변환\n",
        "time = 150\n",
        "hour, minutes = divmod(time, 60)\n",
        "print(f\"{time}분은 {hour}시간, {minutes}분\")"
      ],
      "metadata": {
        "id": "MQ_Xj_1P3BD8"
      },
      "execution_count": null,
      "outputs": []
    },
    {
      "cell_type": "code",
      "source": [
        "def convert_time(minutes):\n",
        "    hours, minutes = divmod(minutes, 60)\n",
        "    return hours, minutes\n",
        "\n",
        "minutes = 150\n",
        "hours, minutes = convert_time(minutes)\n",
        "print(f\"{hour}시간 {minutes}분\")"
      ],
      "metadata": {
        "id": "4iYsL0Cs3jBu"
      },
      "execution_count": null,
      "outputs": []
    },
    {
      "cell_type": "code",
      "source": [
        "#Q.내장함수를 이용해서 list = [0,1,2,3,4,5,6]에서 모든 원소를 삭제후 출력하세요.\n",
        "list1 = [0,1,2,3,4,5,6]\n",
        "for _ in range(len(list1)):\n",
        "    list1.pop()\n",
        "print(list1)"
      ],
      "metadata": {
        "colab": {
          "base_uri": "https://localhost:8080/"
        },
        "id": "na8B3quC2tga",
        "outputId": "52e2bf0e-08f6-4ea4-c991-7beaea7a5ede"
      },
      "execution_count": null,
      "outputs": [
        {
          "output_type": "stream",
          "name": "stdout",
          "text": [
            "[]\n"
          ]
        }
      ]
    },
    {
      "cell_type": "code",
      "source": [
        "# Q. url에서 쿼리문을 추출하여 출력\n",
        "url = 'http://news.naver.com/main/read.nhn?mode=LSD&mid=shm&sid1=105&oid=028&aid=0002334601'\n",
        "tmp1 = url.split('/')\n",
        "tmp2 = tmp1[-1].split('?')\n",
        "result = tmp2[-1].split('&')\n",
        "\n",
        "print(result)\n",
        "for i in result:\n",
        "    print(i)"
      ],
      "metadata": {
        "colab": {
          "base_uri": "https://localhost:8080/"
        },
        "id": "e4DcDq7r5LXN",
        "outputId": "45dbecb5-9e7c-4c00-e9ec-717d00e7cb3d"
      },
      "execution_count": null,
      "outputs": [
        {
          "output_type": "stream",
          "name": "stdout",
          "text": [
            "['mode=LSD', 'mid=shm', 'sid1=105', 'oid=028', 'aid=0002334601']\n",
            "mode=LSD\n",
            "mid=shm\n",
            "sid1=105\n",
            "oid=028\n",
            "aid=0002334601\n"
          ]
        }
      ]
    },
    {
      "cell_type": "code",
      "source": [
        "#Q.리스트안의 단어 혹은 알파벳이 있으면 해당 제목을 출력\n",
        "x = input(\"제목을 입력해주세요: \")\n",
        "tlist = ['Hello World!','Nice Day', 'HappyBin', 'enDing_Story']\n",
        "n_tlist = [] #소문자로 바꾼 전체리스트\n",
        "x = x.lower()\n",
        "for i in range(len(tlist)):\n",
        "    n_tlist.append(tlist[i].lower())\n",
        "    if x in n_tlist[i]:     # in 대신 ==로 하려면 똑같은 단어 입력해야함\n",
        "        print(tlist[i])"
      ],
      "metadata": {
        "colab": {
          "base_uri": "https://localhost:8080/"
        },
        "id": "eZQr3W8K997L",
        "outputId": "ec1ab5eb-06b5-41d1-a6be-710f88d42151"
      },
      "execution_count": null,
      "outputs": [
        {
          "output_type": "stream",
          "name": "stdout",
          "text": [
            "제목을 입력해주세요: n\n",
            "Nice Day\n",
            "HappyBin\n",
            "enDing_Story\n"
          ]
        }
      ]
    },
    {
      "cell_type": "code",
      "source": [
        "#Q.영어 이름을 적으면 앞에 글자를 대문자로 바꾸어 주는 프로그램\n",
        "#단 중간에 한칸씩 띄어주어야 함 ex) kim dong wan\n",
        "#name = input('이름을 영어로 입력하세요: ')\n",
        "\n",
        "# split_name = name.split()\n",
        "# for i in split_name:\n",
        "#     i.title()\n",
        "name = input('이름을 영어로 입력하세요: ')\n",
        "txt = name.title()\n",
        "print(f'당신의 이름을 바꾸면 {txt}입니다.')"
      ],
      "metadata": {
        "colab": {
          "base_uri": "https://localhost:8080/"
        },
        "id": "bJYghv1MAPP8",
        "outputId": "f93501a3-23d8-4d8a-c280-7e3db98514b7"
      },
      "execution_count": null,
      "outputs": [
        {
          "output_type": "stream",
          "name": "stdout",
          "text": [
            "이름을 영어로 입력하세요: kim sung hyun\n",
            "당신의 이름을 바꾸면 Kim Sung Hyun입니다.\n"
          ]
        }
      ]
    },
    {
      "cell_type": "code",
      "source": [
        "#문자열에서 좌우 공백 제거\n",
        "txt = '   양쪽에 공백이 있는 문자열입니다.   '\n",
        "ret1 = txt.lstrip()\n",
        "ret2 = txt.rstrip()\n",
        "ret3 = txt.strip()\n",
        "print('<'+ret1+'>')\n",
        "print('<'+ret2+'>')\n",
        "print('<'+ret3+'>')"
      ],
      "metadata": {
        "colab": {
          "base_uri": "https://localhost:8080/"
        },
        "id": "Q1VN_01JCwFr",
        "outputId": "8f9619ae-7472-46b3-daa3-eb27c44093e9"
      },
      "execution_count": null,
      "outputs": [
        {
          "output_type": "stream",
          "name": "stdout",
          "text": [
            "<양쪽에 공백이 있는 문자열입니다.   >\n",
            "<   양쪽에 공백이 있는 문자열입니다.>\n",
            "<양쪽에 공백이 있는 문자열입니다.>\n"
          ]
        }
      ]
    },
    {
      "cell_type": "code",
      "source": [
        "#join :특정 문자로 결합\n",
        "loglist = ['2016/08/26 10:12:11', '200', 'OK', '이 또한 지나가리라']\n",
        "bond = ';'\n",
        "log = bond.join(loglist)\n",
        "print(log)"
      ],
      "metadata": {
        "colab": {
          "base_uri": "https://localhost:8080/"
        },
        "id": "seYrDStqDxse",
        "outputId": "2630269a-2b80-4c6d-c4cd-ecf0e647c10b"
      },
      "execution_count": null,
      "outputs": [
        {
          "output_type": "stream",
          "name": "stdout",
          "text": [
            "2016/08/26 10:12:11;200;OK;이 또한 지나가리라\n"
          ]
        }
      ]
    },
    {
      "cell_type": "code",
      "source": [
        "#replace : 특정 문자(열)을 다른 문자(열)로 바꾸기\n",
        "txt = 'My password is 1234'\n",
        "ret1 = txt.replace('1', '0')\n",
        "ret2 = txt.replace('1', 'python')\n",
        "print(ret1)\n",
        "print(ret2)\n",
        "\n",
        "txt = '매일 많은 일들이 일어납니다.'\n",
        "ret3 = txt.replace(\"많은 일들이\", \"아침 일찍\")\n",
        "print(ret3)"
      ],
      "metadata": {
        "colab": {
          "base_uri": "https://localhost:8080/"
        },
        "id": "SNEwIZ3-EsNO",
        "outputId": "fa68596b-6f7b-4393-838d-2f7c74c13355"
      },
      "execution_count": null,
      "outputs": [
        {
          "output_type": "stream",
          "name": "stdout",
          "text": [
            "My password is 0234\n",
            "My password is python234\n",
            "매일 아침 일찍 일어납니다.\n"
          ]
        }
      ]
    },
    {
      "cell_type": "code",
      "source": [
        "#Q. 입력된 문장에서 'bad'를 'good'으로 교체해서 출력하세요.입력 예시: This is a bad example\n",
        "txt = 'This is a bad example'\n",
        "ret1 = txt.replace('bad', 'good')\n",
        "print(ret1)\n",
        "txt1 = input(\"문장을 입력하세요: \")\n",
        "ret2 = txt1.replace('bad', 'good')\n",
        "print(ret2)"
      ],
      "metadata": {
        "colab": {
          "base_uri": "https://localhost:8080/"
        },
        "id": "wQ4s7zVNF7AH",
        "outputId": "c6ec0386-9142-4941-883c-1077ae01ff35"
      },
      "execution_count": null,
      "outputs": [
        {
          "output_type": "stream",
          "name": "stdout",
          "text": [
            "This is a good example\n",
            "문장을 입력하세요: this is a bad man\n",
            "this is a good man\n"
          ]
        }
      ]
    },
    {
      "cell_type": "code",
      "source": [
        "#코드값에 대응하는 문자 얻기 chr()\n",
        "\n",
        "val = int(input('문자 코드값을 입력하세요: '))\n",
        "ch = chr(val)\n",
        "print('코드값: %d 문자: %s' %(val, ch))"
      ],
      "metadata": {
        "colab": {
          "base_uri": "https://localhost:8080/"
        },
        "id": "axEQowkXGvbO",
        "outputId": "63dc14f2-7db3-4676-9ad3-99a38e51dd8e"
      },
      "execution_count": null,
      "outputs": [
        {
          "output_type": "stream",
          "name": "stdout",
          "text": [
            "문자 코드값을 입력하세요: 89\n",
            "코드값: 89 문자: Y\n"
          ]
        }
      ]
    },
    {
      "cell_type": "code",
      "source": [
        "while True:\n",
        "    val = int(input('문자 코드 값을 입력하세요 (0을 입력하면 종료): '))\n",
        "    if val == 0:\n",
        "        print(\"종료합니다.\")\n",
        "        break\n",
        "    else:\n",
        "        print(f\"코드값 {val}은 문자 {chr(val)}입니다.\")"
      ],
      "metadata": {
        "colab": {
          "base_uri": "https://localhost:8080/"
        },
        "id": "NxkGqRl7J3iv",
        "outputId": "67a0b798-16b0-4c0c-8eb0-7c79692eb1ef"
      },
      "execution_count": null,
      "outputs": [
        {
          "output_type": "stream",
          "name": "stdout",
          "text": [
            "문자 코드 값을 입력하세요 (0을 입력하면 종료): 0\n",
            "종료합니다.\n"
          ]
        }
      ]
    },
    {
      "cell_type": "code",
      "source": [
        "#문자열이 문자인지 검사\n",
        "txt1 = 'A'\n",
        "txt2 = '안녕'\n",
        "txt3 = 'warcraft three'\n",
        "txt4 = '3PO'\n",
        "ret1 = txt1.isalpha()\n",
        "ret2 = txt2.isalpha()\n",
        "ret3 = txt3.isalpha()\n",
        "ret4 = txt4.isalpha()\n",
        "print(ret1)\n",
        "print(ret2)\n",
        "print(ret3)\n",
        "print(ret4)"
      ],
      "metadata": {
        "colab": {
          "base_uri": "https://localhost:8080/"
        },
        "id": "o1X04QTiLf77",
        "outputId": "2ab4e383-ce90-447c-f8b1-db5f12659517"
      },
      "execution_count": null,
      "outputs": [
        {
          "output_type": "stream",
          "name": "stdout",
          "text": [
            "True\n",
            "True\n",
            "False\n",
            "False\n"
          ]
        }
      ]
    },
    {
      "cell_type": "markdown",
      "source": [],
      "metadata": {
        "id": "ksY1PqKqNTQ2"
      }
    },
    {
      "cell_type": "code",
      "source": [
        "# isdigit() : 문자열이 숫자인지 검사\n",
        "\n",
        "txt1 = '010-1234-5678'\n",
        "txt2 = 'R2D2'\n",
        "txt3 = '1212'\n",
        "ret1 = txt1.isdigit()\n",
        "ret2 = txt2.isdigit()\n",
        "ret3 = txt3.isdigit()\n",
        "print(ret1)\n",
        "print(ret2)\n",
        "print(ret3)"
      ],
      "metadata": {
        "colab": {
          "base_uri": "https://localhost:8080/"
        },
        "id": "nMBOphs5MN6K",
        "outputId": "eb7c7707-c753-4647-ae5f-8602e23ee955"
      },
      "execution_count": null,
      "outputs": [
        {
          "output_type": "stream",
          "name": "stdout",
          "text": [
            "False\n",
            "False\n",
            "True\n"
          ]
        }
      ]
    },
    {
      "cell_type": "code",
      "source": [
        "# isalnum() : 문자열이 문자 또는 숫자인지 검사 : 문자열이 영어, 한글 혹은 숫자로 되어있으면 참리턴, 아니면 거짓 리턴\n",
        "txt1 = '안녕하세요?'\n",
        "txt2 = '1. Title-제목을 넣으세요'\n",
        "txt3 = '3피오R2D2'\n",
        "ret1 = txt1.isalnum()\n",
        "ret2 = txt2.isalnum()\n",
        "ret3 = txt3.isalnum()\n",
        "print(ret1)\n",
        "print(ret2)\n",
        "print(ret3)"
      ],
      "metadata": {
        "colab": {
          "base_uri": "https://localhost:8080/"
        },
        "id": "eaFvdGloN06X",
        "outputId": "fdc36927-7c43-435f-d1c2-5b07353e626f"
      },
      "execution_count": null,
      "outputs": [
        {
          "output_type": "stream",
          "name": "stdout",
          "text": [
            "False\n",
            "False\n",
            "True\n"
          ]
        }
      ]
    },
    {
      "cell_type": "code",
      "source": [
        "txt = 'A lot of Things occur each day'\n",
        "ret1 = txt.upper()\n",
        "ret2 = txt.lower()\n",
        "ret3 = txt.title()\n",
        "ret4 = txt.capitalize()\n",
        "print(ret1)\n",
        "print(ret2)\n",
        "print(ret3)\n",
        "print(ret4)"
      ],
      "metadata": {
        "colab": {
          "base_uri": "https://localhost:8080/"
        },
        "id": "Nwqdp4ZiO-1u",
        "outputId": "b33974fd-b200-4703-9c1b-101f78c22143"
      },
      "execution_count": null,
      "outputs": [
        {
          "output_type": "stream",
          "name": "stdout",
          "text": [
            "A LOT OF THINGS OCCUR EACH DAY\n",
            "a lot of things occur each day\n",
            "A Lot Of Things Occur Each Day\n",
            "A lot of things occur each day\n"
          ]
        }
      ]
    },
    {
      "cell_type": "markdown",
      "source": [
        "Q. numbers내부에 들어있는 숫자가 몇번 등장하는지를 출력하는 코드를 작성하세요.\n"
      ],
      "metadata": {
        "id": "mj9DC5B6RKjv"
      }
    },
    {
      "cell_type": "code",
      "source": [
        "numbers = [3,6,3,5,8,2,9,7,4,3,6,3,5,8,2,9,7,4]\n",
        "\n",
        "from collections import Counter\n",
        "print(Counter(numbers))\n",
        "\n",
        "print()\n",
        "\n",
        "result = {}\n",
        "for i in numbers:\n",
        "    if i in result:\n",
        "        result[i] += 1\n",
        "    else:\n",
        "        result[i] =1\n",
        "print(result)"
      ],
      "metadata": {
        "colab": {
          "base_uri": "https://localhost:8080/"
        },
        "id": "54G84J79Q48I",
        "outputId": "76d2edb6-ea94-4dad-a0ed-f9c5204806c9"
      },
      "execution_count": null,
      "outputs": [
        {
          "output_type": "stream",
          "name": "stdout",
          "text": [
            "Counter({3: 4, 6: 2, 5: 2, 8: 2, 2: 2, 9: 2, 7: 2, 4: 2})\n",
            "\n",
            "{3: 4, 6: 2, 5: 2, 8: 2, 2: 2, 9: 2, 7: 2, 4: 2}\n"
          ]
        }
      ]
    },
    {
      "cell_type": "code",
      "source": [
        "#list a 의 모든 원소를 실수형으로 바꾸어 출력하세요\n",
        "a = [1,2,3,4,5]\n",
        "a_float = list(map(float, a))\n",
        "print(a_float)\n",
        "\n",
        "a= [1.0, 2.0, 3.0, 4.0, 5.0]\n",
        "a_float = list(map(int, a))\n",
        "print(a_float)\n"
      ],
      "metadata": {
        "colab": {
          "base_uri": "https://localhost:8080/"
        },
        "id": "BpMBaXBtRjG6",
        "outputId": "e2eab9e3-919d-4b39-98ca-8ba8a21a03a5"
      },
      "execution_count": null,
      "outputs": [
        {
          "output_type": "stream",
          "name": "stdout",
          "text": [
            "[1.0, 2.0, 3.0, 4.0, 5.0]\n",
            "[1, 2, 3, 4, 5]\n"
          ]
        }
      ]
    },
    {
      "cell_type": "code",
      "source": [
        "#Q. 데이터를 입력하지 않으면 종료되는 코딩을 수행하세요. 단 반복적으로 작업을 수행할수 있음.\n",
        "while 1:\n",
        "    a = input(\"데이터 입력: \")\n",
        "    if a == '':\n",
        "        print(\"데이터 입력이 없으므로 종료합니다.\")\n",
        "        break\n",
        "    else:\n",
        "        print(a)"
      ],
      "metadata": {
        "colab": {
          "base_uri": "https://localhost:8080/"
        },
        "id": "udclSSO3mBmG",
        "outputId": "41aacab0-540e-4549-c3e6-7da6ee0afa42"
      },
      "execution_count": null,
      "outputs": [
        {
          "output_type": "stream",
          "name": "stdout",
          "text": [
            "데이터 입력: \n",
            "데이터 입력이 없으므로 종료합니다.\n"
          ]
        }
      ]
    },
    {
      "cell_type": "code",
      "source": [
        "while 1:\n",
        "    data = input()\n",
        "    if not data: break\n",
        "    print(data)"
      ],
      "metadata": {
        "colab": {
          "base_uri": "https://localhost:8080/"
        },
        "id": "yGH9JS4Kmyfe",
        "outputId": "337fcf08-6aef-4c63-cccd-413fa7c525f9"
      },
      "execution_count": null,
      "outputs": [
        {
          "name": "stdout",
          "output_type": "stream",
          "text": [
            "\n"
          ]
        }
      ]
    },
    {
      "cell_type": "markdown",
      "source": [
        "표준 라이브러리 - 외장함수"
      ],
      "metadata": {
        "id": "DR2-jiZinmsd"
      }
    },
    {
      "cell_type": "markdown",
      "source": [
        "[ 날짜 함수 ]\n",
        "\n",
        "날짜와 시간을 처리하기 위한 주요 라이브러리는 datetime입니다. 이 라이브러리는 날짜, 시간, 시간대와 관련된 다양한 클래스와 함수를 제공하며, 날짜와 시간 연산에 매우 유용\n",
        "- datetime.date: 날짜(연, 월, 일)를 표현하는 클래스\n",
        "    - today(): 오늘의 날짜를 반환\n",
        "- datetime.time: 시간(시, 분, 초, 마이크로초)을 표현하는 클래스\n",
        "- datetime.datetime: 날짜와 시간을 모두 포함하는 클래스\n",
        "    - now(): 현재의 날짜와 시간을 반환\n",
        "- datetime.timedelta: 두 날짜/시간 간의 차이를 표현하는 클래스\n",
        "- datetime.tzinfo: 시간대 정보를 위한 기본 클래스\n",
        "\n",
        "datetime 모듈의 날짜와 시간 객체들을 문자열 형식으로 포맷팅하거나 문자열로부터 날짜와 시간 객체를 생성하기 위해 사용하는 주요 메서드는 strftime()와 strptime()\n",
        "- strftime() (String Format Time) -String Format\n",
        "    - 날짜와 시간 객체를 문자열로 변환하는 데 사용\n",
        "    - 사용자가 지정한 형식 문자열을 기반으로 날짜와 시간 정보를 문자열로 표현\n",
        "- strptime() (String Parse Time) -Parse Time\n",
        "    - 문자열을 날짜와 시간 객체로 변환하는 데 사용\n",
        "    - 주어진 형식 문자열을 기반으로 문자열에서 날짜와 시간 정보를 파싱"
      ],
      "metadata": {
        "id": "_Kpy1588nfNF"
      }
    },
    {
      "cell_type": "code",
      "source": [
        "import datetime\n",
        "\n",
        "now = datetime.datetime.now()\n",
        "print(now)\n",
        "today = datetime.date.today()\n",
        "print(today)\n",
        "d = datetime.datetime(2023, 11, 2,14,29,45)\n",
        "print(d)\n",
        "delta = datetime.timedelta(days=7)\n",
        "new_date = today + delta\n",
        "print(new_date)\n",
        "date1 = datetime.date(2024,1,1)\n",
        "date2 = datetime.date(2024,12,31)\n",
        "diff = date2 - date1\n",
        "print(diff.days)"
      ],
      "metadata": {
        "colab": {
          "base_uri": "https://localhost:8080/"
        },
        "id": "syAbLqgInSMw",
        "outputId": "135b07fa-dbc4-487f-e371-f1ade19d0728"
      },
      "execution_count": null,
      "outputs": [
        {
          "output_type": "stream",
          "name": "stdout",
          "text": [
            "2024-05-08 05:28:01.152739\n",
            "2024-05-08\n",
            "2023-11-02 14:29:45\n",
            "2024-05-15\n",
            "365\n"
          ]
        }
      ]
    },
    {
      "cell_type": "markdown",
      "source": [
        "포맷 코드 표<BR>\n",
        "포맷코드   설명   예<BR>\n",
        "%a   요일 줄임말   Sun, Mon, ... Sat<BR>\n",
        "%A   요일   Sunday, Monday, ..., Saturday<BR>\n",
        "%w   요일을 숫자로 표시, 월요일일요일, 06   0, 1, ..., 6<BR>\n",
        "%d   일   01, 02, ..., 31<BR>\n",
        "%b   월 줄임말   Jan, Feb, ..., Dec<BR>\n",
        "%B   월   January, February, …, December<BR>\n",
        "%m   숫자 월   01, 02, ..., 12<BR>\n",
        "%y   두 자릿수 연도   01, 02, ..., 99<BR>\n",
        "%Y   네 자릿수 연도   0001, 0002, ..., 2017, 2018, 9999<BR>\n",
        "%H   시간(24시간)   00, 01, ..., 23<BR>\n",
        "%I   시간(12시간)   01, 02, ..., 12<BR>\n",
        "%p   AM, PM   AM, PM<BR>\n",
        "%M   분   00, 01, ..., 59<BR>\n",
        "%S   초   00, 01, ..., 59<BR>\n",
        "%Z   시간대   대한민국 표준시<BR>\n",
        "%j   1월 1일부터 포함한 날(차이가 아닌 몇일째 되는 날인가)   001, 002, ..., 366<BR>\n",
        "%U   1년중 주차, 월요일이 한 주의 시작으로   00, 01, ..., 53<BR>\n",
        "%W   1년중 주차, 월요일이 한 주의 시작으로   00, 01, ..., 53<BR>\n",
        "%c   날짜, 요일, 시간을 출력, 현재 시간대 기준   Sat May 19 11:14:27 2018<BR>\n",
        "%x   날짜를 출력, 현재 시간대 기준   05/19/18<BR>\n",
        "%X   시간을 출력, 현재 시간대 기준   '11:44:22'"
      ],
      "metadata": {
        "id": "y2F1YpkUsHAs"
      }
    },
    {
      "cell_type": "code",
      "source": [
        "import datetime\n",
        "\n",
        "now = datetime.datetime.now()\n",
        "print(now,type(now))\n",
        "formatted = now.strftime(\"%Y-%m-%d %H:%M:%S\")\n",
        "print(formatted, type(formatted))"
      ],
      "metadata": {
        "colab": {
          "base_uri": "https://localhost:8080/"
        },
        "id": "35HOuM4LrE5s",
        "outputId": "59f2e0fe-6dda-4102-cbba-b0ff6874679f"
      },
      "execution_count": null,
      "outputs": [
        {
          "output_type": "stream",
          "name": "stdout",
          "text": [
            "2024-05-08 05:36:21.150843 <class 'datetime.datetime'>\n",
            "2024-05-08 05:36:21 <class 'str'>\n"
          ]
        }
      ]
    },
    {
      "cell_type": "code",
      "source": [
        "import datetime\n",
        "\n",
        "date_string = \"2023-11-02 14:45:30\"\n",
        "print(date_string, type(date_string))\n",
        "dt = datetime.datetime.strptime(date_string, \"%Y-%m-%d %H:%M:%S\")\n",
        "print(dt, type(dt))"
      ],
      "metadata": {
        "colab": {
          "base_uri": "https://localhost:8080/"
        },
        "id": "1jXF6dAAs8JK",
        "outputId": "89039bea-741a-4fb4-c69b-22c0613b879f"
      },
      "execution_count": null,
      "outputs": [
        {
          "output_type": "stream",
          "name": "stdout",
          "text": [
            "2023-11-02 14:45:30 <class 'str'>\n",
            "2023-11-02 14:45:30 <class 'datetime.datetime'>\n"
          ]
        }
      ]
    },
    {
      "cell_type": "markdown",
      "source": [
        "time 모듈\n",
        "- 시스템 시간에 접근하거나 간단한 타이머 기능을 구현\n",
        "- 함수와 같이 프로그램을 일정 시간 동안 중지시키는 데 사용\n",
        "- 시간을 연도, 월, 일, 시, 분, 초 등의 구성 요소로 변환하고 다룰 수 있는 struct_time 객체를 제공\n",
        "- time 모듈은 날짜와 시간을 처리하는 다양한 프로그래밍 요구에 대응할 수 있는 기본적인 기능을 제공하지만, 더 복잡한 날짜 시간 처리나 시간대 변환 등은 datetime 모듈 또는 외부 라이브러리를 사용"
      ],
      "metadata": {
        "id": "xOcEFf3YuLPl"
      }
    },
    {
      "cell_type": "code",
      "source": [
        "#localtime() 함수는 파이썬의 time모듈에 포함되어 있으며, 이 함수는 초로 표시되는 시간을 구조화된 시간 튜플현태\n",
        "#tm_wday=2(위크데이 0부터 시작, 현재 수요일), tm_yday=129(올해 129일 지남)tm_isdst=0 (썸머타임여부 0은 안함)\n",
        "import time\n",
        "local_time = time.localtime()\n",
        "print(local_time)"
      ],
      "metadata": {
        "colab": {
          "base_uri": "https://localhost:8080/"
        },
        "id": "JLBVau7XuJaK",
        "outputId": "406c5638-a34b-40b0-dcdc-50b2ae722b9c"
      },
      "execution_count": null,
      "outputs": [
        {
          "output_type": "stream",
          "name": "stdout",
          "text": [
            "time.struct_time(tm_year=2024, tm_mon=5, tm_mday=8, tm_hour=5, tm_min=44, tm_sec=5, tm_wday=2, tm_yday=129, tm_isdst=0)\n"
          ]
        }
      ]
    },
    {
      "cell_type": "code",
      "source": [
        "#현재 시간을 1970년 1월1일 0시0분0초 유닉스 시간의 시작부터 현재까지의 초로 표현한 값을 반환\n",
        "import time\n",
        "time.time()"
      ],
      "metadata": {
        "colab": {
          "base_uri": "https://localhost:8080/"
        },
        "id": "vFFrte1auwaX",
        "outputId": "a7485275-a009-4a7b-a78b-78dfa06a13af"
      },
      "execution_count": null,
      "outputs": [
        {
          "output_type": "execute_result",
          "data": {
            "text/plain": [
              "1715147283.3650982"
            ]
          },
          "metadata": {},
          "execution_count": 51
        }
      ]
    },
    {
      "cell_type": "code",
      "source": [
        "#초로 표현된 시간을 구조화된 시간 튜플 형태로 변환\n",
        "t = time.time()\n",
        "time.localtime(t)"
      ],
      "metadata": {
        "colab": {
          "base_uri": "https://localhost:8080/"
        },
        "id": "A_ttFsRcvqau",
        "outputId": "a442ac88-3fd4-47d1-b2ec-13ddea87f54f"
      },
      "execution_count": null,
      "outputs": [
        {
          "output_type": "execute_result",
          "data": {
            "text/plain": [
              "time.struct_time(tm_year=2024, tm_mon=5, tm_mday=8, tm_hour=5, tm_min=50, tm_sec=11, tm_wday=2, tm_yday=129, tm_isdst=0)"
            ]
          },
          "metadata": {},
          "execution_count": 52
        }
      ]
    },
    {
      "cell_type": "code",
      "source": [
        "import time\n",
        "d = time.strftime('%d', time.localtime(time.time()))\n",
        "m = time.strftime('%m', time.localtime(time.time()))\n",
        "y = time.strftime('%Y', time.localtime(time.time()))\n",
        "a = time.strftime('%A', time.localtime(time.time()))\n",
        "print(d)\n",
        "print(m)\n",
        "print(y)\n",
        "print(a)"
      ],
      "metadata": {
        "colab": {
          "base_uri": "https://localhost:8080/"
        },
        "id": "fu3h9QZxwJm7",
        "outputId": "29d32f64-3d07-479c-8bab-941563cd51ff"
      },
      "execution_count": null,
      "outputs": [
        {
          "output_type": "stream",
          "name": "stdout",
          "text": [
            "08\n",
            "05\n",
            "2024\n",
            "Wednesday\n"
          ]
        }
      ]
    },
    {
      "cell_type": "code",
      "source": [
        "#Q. 1609160537.371015을 \"Sat Jun 26 08:35:03 2021\"포멧으로 출력하세요\n",
        "import time\n",
        "t= time.localtime(1609160537.371015)\n",
        "result = time.strftime('%a %b %d %H:%M:%S %Y', t)\n",
        "print(result)\n",
        "\n",
        "readable_time = time.asctime(t)   #.asctime(): 인간이 읽을 수 있는 형태로 변환하는 메소드\n",
        "print(readable_time)"
      ],
      "metadata": {
        "colab": {
          "base_uri": "https://localhost:8080/"
        },
        "id": "aSlAjBHd0DqG",
        "outputId": "8679eb89-b58e-4fe4-9025-63231f24c83b"
      },
      "execution_count": null,
      "outputs": [
        {
          "output_type": "stream",
          "name": "stdout",
          "text": [
            "Mon Dec 28 13:02:17 2020\n",
            "Mon Dec 28 13:02:17 2020\n"
          ]
        }
      ]
    },
    {
      "cell_type": "code",
      "source": [
        "#timestamp > str\n",
        "import time\n",
        "t = time.time()\n",
        "print(t, type(t))\n",
        "s = str(t)\n",
        "print(s, type(s))"
      ],
      "metadata": {
        "colab": {
          "base_uri": "https://localhost:8080/"
        },
        "id": "uxc63m5v1kWc",
        "outputId": "3aceeb3a-7af5-4f42-be1d-c1abf1e44d0d"
      },
      "execution_count": null,
      "outputs": [
        {
          "output_type": "stream",
          "name": "stdout",
          "text": [
            "1715149283.4721625 <class 'float'>\n",
            "1715149283.4721625 <class 'str'>\n"
          ]
        }
      ]
    },
    {
      "cell_type": "code",
      "source": [
        "#timestamp > datetime\n",
        "from datetime import datetime\n",
        "t = time.time()\n",
        "print(t, type(t))\n",
        "d = datetime.fromtimestamp(t)\n",
        "print(d, type(d))"
      ],
      "metadata": {
        "colab": {
          "base_uri": "https://localhost:8080/"
        },
        "id": "b7wDALMg3Srp",
        "outputId": "1d5fb5a4-d9dd-4c58-a7ac-cabc89845402"
      },
      "execution_count": null,
      "outputs": [
        {
          "output_type": "stream",
          "name": "stdout",
          "text": [
            "1715149543.9064374 <class 'float'>\n",
            "2024-05-08 06:25:43.906437 <class 'datetime.datetime'>\n"
          ]
        }
      ]
    },
    {
      "cell_type": "markdown",
      "source": [],
      "metadata": {
        "id": "nB6EY0aX4o7W"
      }
    },
    {
      "cell_type": "code",
      "source": [
        "#datetime > str\n",
        "from datetime import datetime\n",
        "\n",
        "s= datetime.now()\n",
        "print(s, type(s))\n",
        "\n",
        "s1 = s.strftime('%Y-%m-%d %H:%M:%S')\n",
        "print(s1, type(s1))"
      ],
      "metadata": {
        "colab": {
          "base_uri": "https://localhost:8080/"
        },
        "id": "Wy5CKkdW5SJ5",
        "outputId": "c367829d-f99d-44e6-8c62-632ca4d60038"
      },
      "execution_count": null,
      "outputs": [
        {
          "output_type": "stream",
          "name": "stdout",
          "text": [
            "2024-05-08 06:32:32.502305 <class 'datetime.datetime'>\n",
            "2024-05-08 06:32:32 <class 'str'>\n"
          ]
        }
      ]
    },
    {
      "cell_type": "code",
      "source": [
        "#timestamp > datetime > str\n",
        "\n",
        "import time\n",
        "from datetime import datetime\n",
        "t = time.time()\n",
        "print(t, type(t))\n",
        "d = datetime.fromtimestamp(t)\n",
        "print(d, type(d))\n",
        "s = d.strftime('%Y-%m-%d %H:%M:%S')  # %X 현재 시간대 기준 \"11:44:22\"\n",
        "print(s, type(s))\n",
        "s = d.strftime('%Y-%m-%d %X')  # %X 현재 시간대 기준 \"11:44:22\"\n",
        "print(s, type(s))"
      ],
      "metadata": {
        "colab": {
          "base_uri": "https://localhost:8080/"
        },
        "id": "mxUT65MF4SUa",
        "outputId": "52edf052-6c13-424b-ec7e-970acb4730d7"
      },
      "execution_count": null,
      "outputs": [
        {
          "output_type": "stream",
          "name": "stdout",
          "text": [
            "1715150356.1231718 <class 'float'>\n",
            "2024-05-08 06:39:16.123172 <class 'datetime.datetime'>\n",
            "2024-05-08 06:39:16 <class 'str'>\n",
            "2024-05-08 06:39:16 <class 'str'>\n"
          ]
        }
      ]
    },
    {
      "cell_type": "code",
      "source": [
        "#str > datetime\n",
        "from datetime import datetime\n",
        "s= '2024-05-08 06:39:16'\n",
        "print(s, type(s))\n",
        "d = datetime.strptime(s, '%Y-%m-%d %X')\n",
        "print(d, type(d))"
      ],
      "metadata": {
        "colab": {
          "base_uri": "https://localhost:8080/"
        },
        "id": "bwsROklq6Sza",
        "outputId": "36af4681-861e-448d-b2fc-37456f743c00"
      },
      "execution_count": null,
      "outputs": [
        {
          "output_type": "stream",
          "name": "stdout",
          "text": [
            "2024-05-08 06:39:16 <class 'str'>\n",
            "2024-05-08 06:39:16 <class 'datetime.datetime'>\n"
          ]
        }
      ]
    },
    {
      "cell_type": "code",
      "source": [
        "#datetime > timestamp\n",
        "d = datetime.today()\n",
        "print(d, type(d))\n",
        "timestamp = time.mktime(d.timetuple())\n",
        "print(timestamp, type(timestamp))"
      ],
      "metadata": {
        "colab": {
          "base_uri": "https://localhost:8080/"
        },
        "id": "aIuYVl0v74Zu",
        "outputId": "7d39abe0-febe-43b6-e0a3-f572f7b082b2"
      },
      "execution_count": null,
      "outputs": [
        {
          "output_type": "stream",
          "name": "stdout",
          "text": [
            "2024-05-08 06:45:23.908445 <class 'datetime.datetime'>\n",
            "1715150723.0 <class 'float'>\n"
          ]
        }
      ]
    },
    {
      "cell_type": "code",
      "source": [
        "#str > datetime > timestamp\n",
        "s= '2024-05-08 06:39:16'\n",
        "timestamp = time.mktime(datetime.strptime(s, '%Y-%m-%d %X').timetuple())\n",
        "print(timestamp, type(timestamp))\n"
      ],
      "metadata": {
        "colab": {
          "base_uri": "https://localhost:8080/"
        },
        "id": "KFltGybl8yaJ",
        "outputId": "fdb5d8c5-a868-4366-e746-42b640ba215f"
      },
      "execution_count": null,
      "outputs": [
        {
          "output_type": "stream",
          "name": "stdout",
          "text": [
            "1715150356.0 <class 'float'>\n"
          ]
        }
      ]
    },
    {
      "cell_type": "code",
      "source": [
        "#외장함수: 파이썬을 설치할때 자동으로 설치\n",
        "#pickle은 객체의 형태를 위지하면서 파일에 저장하고 불러올 수 있게 하는 모듈\n",
        "\n",
        "import pickle\n",
        "f = open('test3.txt', 'wb')\n",
        "data = {1:'python', 2:'you need'}\n",
        "pickle.dump(data, f)\n",
        "f.close()"
      ],
      "metadata": {
        "id": "ILsYI4aO9RJ8"
      },
      "execution_count": 1,
      "outputs": []
    },
    {
      "cell_type": "code",
      "source": [
        "!ls"
      ],
      "metadata": {
        "colab": {
          "base_uri": "https://localhost:8080/"
        },
        "id": "_0dlO6VLHcwx",
        "outputId": "51693569-a0b3-45ac-86b0-a9b053f48d1f"
      },
      "execution_count": 2,
      "outputs": [
        {
          "output_type": "stream",
          "name": "stdout",
          "text": [
            "sample_data  test3.txt\n"
          ]
        }
      ]
    },
    {
      "cell_type": "code",
      "source": [
        "!cat test3.txt"
      ],
      "metadata": {
        "colab": {
          "base_uri": "https://localhost:8080/"
        },
        "id": "wfjJKZQKHdm0",
        "outputId": "1da173d5-06e0-40cf-907d-4e2918b7678d"
      },
      "execution_count": 4,
      "outputs": [
        {
          "output_type": "stream",
          "name": "stdout",
          "text": [
            "�\u0004�\u001d\u0000\u0000\u0000\u0000\u0000\u0000\u0000}�(K\u0001�\u0006python�K\u0002�\byou need�u."
          ]
        }
      ]
    },
    {
      "cell_type": "code",
      "source": [
        "import pickle\n",
        "f = open('test3.txt', 'rb')\n",
        "data = pickle.load(f)\n",
        "print(data)\n",
        "f.close()"
      ],
      "metadata": {
        "colab": {
          "base_uri": "https://localhost:8080/"
        },
        "id": "h4BKWLteHhj1",
        "outputId": "3df7b152-98b2-4da1-efd7-d6ac88003dff"
      },
      "execution_count": 7,
      "outputs": [
        {
          "output_type": "stream",
          "name": "stdout",
          "text": [
            "{1: 'python', 2: 'you need'}\n"
          ]
        }
      ]
    },
    {
      "cell_type": "code",
      "source": [
        "#os.environ['PATH']명령의 출력 결과는 운영체제가 프로그램이나 실행 파일을 찾기 위해 검색하는 디렉터리들의 리스트\n",
        "#PATH설정은 시스템이 사용자가 입력하는 명령어를 인식하고 해당 실행 파일을 효율적으로 찾아내도록 도와준다.\n",
        "import os\n",
        "os.environ['PATH']"
      ],
      "metadata": {
        "colab": {
          "base_uri": "https://localhost:8080/",
          "height": 36
        },
        "id": "n4oPBxvNIKR1",
        "outputId": "a14e7463-c4f0-4ee8-bd20-74fd616d9566"
      },
      "execution_count": 9,
      "outputs": [
        {
          "output_type": "execute_result",
          "data": {
            "text/plain": [
              "'/opt/bin:/usr/local/nvidia/bin:/usr/local/cuda/bin:/usr/local/sbin:/usr/local/bin:/usr/sbin:/usr/bin:/sbin:/bin:/tools/node/bin:/tools/google-cloud-sdk/bin'"
            ],
            "application/vnd.google.colaboratory.intrinsic+json": {
              "type": "string"
            }
          },
          "metadata": {},
          "execution_count": 9
        }
      ]
    },
    {
      "cell_type": "code",
      "source": [
        "!ls /   #root"
      ],
      "metadata": {
        "colab": {
          "base_uri": "https://localhost:8080/"
        },
        "id": "tFhxuh1JJTVL",
        "outputId": "8acfa314-de89-4857-c56d-e0f539b99a30"
      },
      "execution_count": 10,
      "outputs": [
        {
          "output_type": "stream",
          "name": "stdout",
          "text": [
            "bin\t\t\t    datalab  kaggle  libx32\t\t       opt   sbin  tools\n",
            "boot\t\t\t    dev      lib     media\t\t       proc  srv   usr\n",
            "content\t\t\t    etc      lib32   mnt\t\t       root  sys   var\n",
            "cuda-keyring_1.0-1_all.deb  home     lib64   NGC-DL-CONTAINER-LICENSE  run   tmp\n"
          ]
        }
      ]
    },
    {
      "cell_type": "code",
      "source": [
        "%pwd"
      ],
      "metadata": {
        "colab": {
          "base_uri": "https://localhost:8080/",
          "height": 36
        },
        "id": "8VUUzY2KJYju",
        "outputId": "0dcaabf4-fb47-4dce-d057-aa4034cc98f6"
      },
      "execution_count": 11,
      "outputs": [
        {
          "output_type": "execute_result",
          "data": {
            "text/plain": [
              "'/content'"
            ],
            "application/vnd.google.colaboratory.intrinsic+json": {
              "type": "string"
            }
          },
          "metadata": {},
          "execution_count": 11
        }
      ]
    },
    {
      "cell_type": "code",
      "source": [
        "from google.colab import drive\n",
        "drive.mount('/content/drive')"
      ],
      "metadata": {
        "colab": {
          "base_uri": "https://localhost:8080/"
        },
        "id": "pWMtuk9UJg5w",
        "outputId": "63899b85-4c99-4147-f12a-1ef941405df1"
      },
      "execution_count": 1,
      "outputs": [
        {
          "output_type": "stream",
          "name": "stdout",
          "text": [
            "Drive already mounted at /content/drive; to attempt to forcibly remount, call drive.mount(\"/content/drive\", force_remount=True).\n"
          ]
        }
      ]
    },
    {
      "cell_type": "code",
      "source": [
        "#현재 작업폴더\n",
        "import os\n",
        "os.getcwd()"
      ],
      "metadata": {
        "colab": {
          "base_uri": "https://localhost:8080/",
          "height": 36
        },
        "id": "BfC20tErKig1",
        "outputId": "9b161f80-ae5b-4ede-ad0f-c27f913ad23b"
      },
      "execution_count": 3,
      "outputs": [
        {
          "output_type": "execute_result",
          "data": {
            "text/plain": [
              "'/content'"
            ],
            "application/vnd.google.colaboratory.intrinsic+json": {
              "type": "string"
            }
          },
          "metadata": {},
          "execution_count": 3
        }
      ]
    },
    {
      "cell_type": "code",
      "source": [
        "%pwd"
      ],
      "metadata": {
        "colab": {
          "base_uri": "https://localhost:8080/",
          "height": 36
        },
        "id": "9c1pNmZLK4xA",
        "outputId": "40df1aaf-bfc0-47a3-e20e-94bc63b007a1"
      },
      "execution_count": 4,
      "outputs": [
        {
          "output_type": "execute_result",
          "data": {
            "text/plain": [
              "'/content'"
            ],
            "application/vnd.google.colaboratory.intrinsic+json": {
              "type": "string"
            }
          },
          "metadata": {},
          "execution_count": 4
        }
      ]
    },
    {
      "cell_type": "code",
      "source": [
        "!ls"
      ],
      "metadata": {
        "colab": {
          "base_uri": "https://localhost:8080/"
        },
        "id": "XkvQdpIDLEp0",
        "outputId": "50014905-84d5-4016-d5ad-16cf944b281c"
      },
      "execution_count": 5,
      "outputs": [
        {
          "output_type": "stream",
          "name": "stdout",
          "text": [
            "drive  sample_data\n"
          ]
        }
      ]
    },
    {
      "cell_type": "code",
      "source": [
        "!ls /"
      ],
      "metadata": {
        "colab": {
          "base_uri": "https://localhost:8080/"
        },
        "id": "KOj-6tgeLMLp",
        "outputId": "a22ddd0a-30ae-4a0c-b4f6-779b332e0344"
      },
      "execution_count": 6,
      "outputs": [
        {
          "output_type": "stream",
          "name": "stdout",
          "text": [
            "bin\t\t\t    datalab  kaggle  libx32\t\t       opt   sbin  tools\n",
            "boot\t\t\t    dev      lib     media\t\t       proc  srv   usr\n",
            "content\t\t\t    etc      lib32   mnt\t\t       root  sys   var\n",
            "cuda-keyring_1.0-1_all.deb  home     lib64   NGC-DL-CONTAINER-LICENSE  run   tmp\n"
          ]
        }
      ]
    },
    {
      "cell_type": "code",
      "source": [
        "!cd drive"
      ],
      "metadata": {
        "id": "BEogBdMwLYA8"
      },
      "execution_count": 7,
      "outputs": []
    },
    {
      "cell_type": "code",
      "source": [
        "%pwd"
      ],
      "metadata": {
        "colab": {
          "base_uri": "https://localhost:8080/",
          "height": 36
        },
        "id": "hqbkCt_KLcq4",
        "outputId": "46029c07-73b7-4193-a319-87e7b31a2bbd"
      },
      "execution_count": 8,
      "outputs": [
        {
          "output_type": "execute_result",
          "data": {
            "text/plain": [
              "'/content'"
            ],
            "application/vnd.google.colaboratory.intrinsic+json": {
              "type": "string"
            }
          },
          "metadata": {},
          "execution_count": 8
        }
      ]
    },
    {
      "cell_type": "code",
      "source": [
        "!mkdir /content/test"
      ],
      "metadata": {
        "id": "C64qrPxpLepZ"
      },
      "execution_count": 9,
      "outputs": []
    },
    {
      "cell_type": "code",
      "source": [
        "!ls"
      ],
      "metadata": {
        "colab": {
          "base_uri": "https://localhost:8080/"
        },
        "id": "FXfZ8xQULj-K",
        "outputId": "11045f40-399e-46d9-9f4d-d3ca425acf05"
      },
      "execution_count": 10,
      "outputs": [
        {
          "output_type": "stream",
          "name": "stdout",
          "text": [
            "drive  sample_data  test\n"
          ]
        }
      ]
    },
    {
      "cell_type": "code",
      "source": [
        "!ls -al"
      ],
      "metadata": {
        "colab": {
          "base_uri": "https://localhost:8080/"
        },
        "id": "0UaC4_FRLlfD",
        "outputId": "7432882c-9b85-44c4-d722-dee8131e08cd"
      },
      "execution_count": 11,
      "outputs": [
        {
          "output_type": "stream",
          "name": "stdout",
          "text": [
            "total 24\n",
            "drwxr-xr-x 1 root root 4096 May  9 02:28 .\n",
            "drwxr-xr-x 1 root root 4096 May  9 02:21 ..\n",
            "drwxr-xr-x 4 root root 4096 May  2 13:24 .config\n",
            "drwx------ 6 root root 4096 May  9 02:23 drive\n",
            "drwxr-xr-x 1 root root 4096 May  2 13:25 sample_data\n",
            "drwxr-xr-x 2 root root 4096 May  9 02:28 test\n"
          ]
        }
      ]
    },
    {
      "cell_type": "code",
      "source": [
        "#change folder\n",
        "os.chdir('/content/test')"
      ],
      "metadata": {
        "id": "AdJYy-AzLqfh"
      },
      "execution_count": 12,
      "outputs": []
    },
    {
      "cell_type": "code",
      "source": [
        "!pwd"
      ],
      "metadata": {
        "colab": {
          "base_uri": "https://localhost:8080/"
        },
        "id": "691zhLIXML38",
        "outputId": "02a2ce33-205b-4a88-c2a0-0b9788cf9d8a"
      },
      "execution_count": 13,
      "outputs": [
        {
          "output_type": "stream",
          "name": "stdout",
          "text": [
            "/content/test\n"
          ]
        }
      ]
    },
    {
      "cell_type": "code",
      "source": [
        "os.chdir('/content')"
      ],
      "metadata": {
        "id": "WTXG0el7MNP4"
      },
      "execution_count": 14,
      "outputs": []
    },
    {
      "cell_type": "code",
      "source": [
        "!pwd"
      ],
      "metadata": {
        "colab": {
          "base_uri": "https://localhost:8080/"
        },
        "id": "gn65lLFoMXwE",
        "outputId": "7115002a-7ff2-45aa-cccd-f1a12e81b41d"
      },
      "execution_count": 15,
      "outputs": [
        {
          "output_type": "stream",
          "name": "stdout",
          "text": [
            "/content\n"
          ]
        }
      ]
    },
    {
      "cell_type": "code",
      "source": [
        "os.chdir('/content/test')"
      ],
      "metadata": {
        "id": "vmEMt2hUMZQs"
      },
      "execution_count": 16,
      "outputs": []
    },
    {
      "cell_type": "code",
      "source": [
        "!pwd"
      ],
      "metadata": {
        "colab": {
          "base_uri": "https://localhost:8080/"
        },
        "id": "9S2WlrlHMda7",
        "outputId": "c26df53e-029a-437c-cd42-63f667a6b308"
      },
      "execution_count": 17,
      "outputs": [
        {
          "output_type": "stream",
          "name": "stdout",
          "text": [
            "/content/test\n"
          ]
        }
      ]
    },
    {
      "cell_type": "code",
      "source": [
        "#make empty file\n",
        "!touch test1.txt"
      ],
      "metadata": {
        "id": "WD56yVlXMfq4"
      },
      "execution_count": 18,
      "outputs": []
    },
    {
      "cell_type": "code",
      "source": [
        "!ls"
      ],
      "metadata": {
        "colab": {
          "base_uri": "https://localhost:8080/"
        },
        "id": "cZfC2jFJMk2j",
        "outputId": "37797ce4-6a12-4250-d3c0-08fb91818c1a"
      },
      "execution_count": 19,
      "outputs": [
        {
          "output_type": "stream",
          "name": "stdout",
          "text": [
            "test1.txt\n"
          ]
        }
      ]
    },
    {
      "cell_type": "code",
      "source": [
        "#file name change\n",
        "os.rename('test1.txt','test_new.txt')"
      ],
      "metadata": {
        "id": "Qh5HocqxMl5T"
      },
      "execution_count": 20,
      "outputs": []
    },
    {
      "cell_type": "code",
      "source": [
        "!ls"
      ],
      "metadata": {
        "colab": {
          "base_uri": "https://localhost:8080/"
        },
        "id": "3n8vzCqrM433",
        "outputId": "727fa2c8-d183-48dc-9df7-d5fb172311b1"
      },
      "execution_count": 21,
      "outputs": [
        {
          "output_type": "stream",
          "name": "stdout",
          "text": [
            "test_new.txt\n"
          ]
        }
      ]
    },
    {
      "cell_type": "code",
      "source": [
        "!touch test2.txt"
      ],
      "metadata": {
        "id": "7Z0P6wlBNQhU"
      },
      "execution_count": 22,
      "outputs": []
    },
    {
      "cell_type": "code",
      "source": [
        "!ls"
      ],
      "metadata": {
        "colab": {
          "base_uri": "https://localhost:8080/"
        },
        "id": "qC7ck0xiNPSD",
        "outputId": "484bfc77-ac91-488b-a97c-cacd37a5e271"
      },
      "execution_count": 23,
      "outputs": [
        {
          "output_type": "stream",
          "name": "stdout",
          "text": [
            "test2.txt  test_new.txt\n"
          ]
        }
      ]
    },
    {
      "cell_type": "code",
      "source": [
        "#glob()함수는 인자로 받은 패턴과 이름이 일치하는 모든 파일과 디렉토리의 리스트를 반환\n",
        "import glob\n",
        "glob.glob('/content/test/*.txt')"
      ],
      "metadata": {
        "colab": {
          "base_uri": "https://localhost:8080/"
        },
        "id": "c37UXpueM51F",
        "outputId": "7d264d17-aa73-47e3-da54-8e961a5bdec0"
      },
      "execution_count": 24,
      "outputs": [
        {
          "output_type": "execute_result",
          "data": {
            "text/plain": [
              "['/content/test/test2.txt', '/content/test/test_new.txt']"
            ]
          },
          "metadata": {},
          "execution_count": 24
        }
      ]
    },
    {
      "cell_type": "code",
      "source": [
        "#하위 디렉토리를 포함하여 모든 .txt 파일을 찾는 예제\n",
        "os.chdir('/content')\n",
        "txt_files = glob.glob('*/*.txt', recursive=True)\n",
        "print(txt_files)"
      ],
      "metadata": {
        "colab": {
          "base_uri": "https://localhost:8080/"
        },
        "id": "htDQfLPUNoC5",
        "outputId": "12c6624a-4c21-4b83-a956-4190aa52f8d6"
      },
      "execution_count": 25,
      "outputs": [
        {
          "output_type": "stream",
          "name": "stdout",
          "text": [
            "['test/test2.txt', 'test/test_new.txt']\n"
          ]
        }
      ]
    },
    {
      "cell_type": "code",
      "source": [
        "with open('mydata.txt','w') as f:\n",
        "    f.write(\n",
        "'''\n",
        "a lot of things occur each day\n",
        "we've got to live with on our way\n",
        "there's so much misery on the screen\n",
        "with commercials in between\n",
        "\n",
        "and the russians won't be so late\n",
        "uncle sam don't want to wait\n",
        "no matter if you're black or white\n",
        "you never ever had a right\n",
        "\n",
        "and look up to the eternal skies\n",
        "see warfare even there\n",
        "what once has been a paradise\n",
        "now destruction and despair\n",
        "\n",
        "in other worlds the children die\n",
        "lacking food ill from a fly\n",
        "oppressed by troops to tame their land\n",
        "it's all the same again\n",
        "\n",
        "\n",
        "if any man is free on earth\n",
        "then tormentors steal his birth\n",
        "they slam gun butts in his face\n",
        "and leave his woman choked in mace\n",
        "\n",
        "so stand up for our human rights\n",
        "push back this pest of hate\n",
        "raise you voice pass on the light\n",
        "unite! it's not too late\n",
        "\n",
        "how many tears flow away\n",
        "to become a sea of fears\n",
        "how many hearts are torn apart\n",
        "till another torment starts\n",
        "\n",
        "but before the world\n",
        "turns into a sun\n",
        "all cruelty and violence\n",
        "on earth will be dead and gone\n",
        "\n",
        "so stand up for our human rights\n",
        "push back this pest of hate\n",
        "raise you voice pass on the light\n",
        "unite! it's not too late\n",
        "''')\n",
        "with open('mydata.txt', 'r') as f:\n",
        "    data = f.read()\n",
        "    print(data)\n",
        "\n"
      ],
      "metadata": {
        "colab": {
          "base_uri": "https://localhost:8080/"
        },
        "id": "gU5Ojd1fOHHa",
        "outputId": "d06ff851-7b61-4170-812e-7739e8ed6caf"
      },
      "execution_count": 3,
      "outputs": [
        {
          "output_type": "stream",
          "name": "stdout",
          "text": [
            "\n",
            "a lot of things occur each day\n",
            "we've got to live with on our way\n",
            "there's so much misery on the screen\n",
            "with commercials in between\n",
            "\n",
            "and the russians won't be so late\n",
            "uncle sam don't want to wait\n",
            "no matter if you're black or white\n",
            "you never ever had a right\n",
            "\n",
            "and look up to the eternal skies\n",
            "see warfare even there\n",
            "what once has been a paradise\n",
            "now destruction and despair\n",
            "\n",
            "in other worlds the children die\n",
            "lacking food ill from a fly\n",
            "oppressed by troops to tame their land\n",
            "it's all the same again\n",
            "\n",
            "\n",
            "if any man is free on earth\n",
            "then tormentors steal his birth\n",
            "they slam gun butts in his face\n",
            "and leave his woman choked in mace\n",
            "\n",
            "so stand up for our human rights\n",
            "push back this pest of hate\n",
            "raise you voice pass on the light\n",
            "unite! it's not too late\n",
            "\n",
            "how many tears flow away\n",
            "to become a sea of fears\n",
            "how many hearts are torn apart\n",
            "till another torment starts\n",
            "\n",
            "but before the world\n",
            "turns into a sun\n",
            "all cruelty and violence\n",
            "on earth will be dead and gone\n",
            "\n",
            "so stand up for our human rights\n",
            "push back this pest of hate\n",
            "raise you voice pass on the light\n",
            "unite! it's not too late\n",
            "\n"
          ]
        }
      ]
    },
    {
      "cell_type": "code",
      "source": [
        "words_list = data\n",
        "words_list = data.replace(',','').replace('.','').replace('\\n','').replace(\"'\",'').replace('!','').lower().split()\n",
        "len(words_list)"
      ],
      "metadata": {
        "colab": {
          "base_uri": "https://localhost:8080/"
        },
        "id": "-9putdPQPWY9",
        "outputId": "0de3a05c-ae45-4326-ea5f-71ca3ff3cbb3"
      },
      "execution_count": 28,
      "outputs": [
        {
          "output_type": "execute_result",
          "data": {
            "text/plain": [
              "178"
            ]
          },
          "metadata": {},
          "execution_count": 28
        }
      ]
    },
    {
      "cell_type": "code",
      "source": [
        "import re\n",
        "words_list = data\n",
        "words_list = re.sub(r'[,.\\n\\']', '', words_list).lower()\n",
        "words_list = words_list.split()\n",
        "print(len(words_list))"
      ],
      "metadata": {
        "colab": {
          "base_uri": "https://localhost:8080/"
        },
        "id": "eBB38IQGQDOA",
        "outputId": "e5ea9e0d-8b45-4e2f-d73c-37b73d19ee62"
      },
      "execution_count": 4,
      "outputs": [
        {
          "output_type": "stream",
          "name": "stdout",
          "text": [
            "178\n"
          ]
        }
      ]
    },
    {
      "cell_type": "code",
      "source": [
        "def inc():\n",
        "  from IPython.display import Javascript\n",
        "  display(Javascript('''\n",
        "  for (rule of document.styleSheets[0].cssRules){\n",
        "    if (rule.selectorText=='body') {\n",
        "      rule.style.fontSize = '20px'\n",
        "      break\n",
        "    }\n",
        "  }\n",
        "  '''))\n",
        "print(\"Hello\")"
      ],
      "metadata": {
        "colab": {
          "base_uri": "https://localhost:8080/"
        },
        "id": "thi8kSniQT8K",
        "outputId": "a7559c77-361d-42fd-81b2-5b5bd4a0fd0d"
      },
      "execution_count": 8,
      "outputs": [
        {
          "output_type": "stream",
          "name": "stdout",
          "text": [
            "Hello\n"
          ]
        }
      ]
    },
    {
      "cell_type": "code",
      "source": [
        "!ls"
      ],
      "metadata": {
        "colab": {
          "base_uri": "https://localhost:8080/"
        },
        "id": "VUMJJRedSmJo",
        "outputId": "12008756-984b-4d6e-e10b-149796eb7592"
      },
      "execution_count": 31,
      "outputs": [
        {
          "output_type": "stream",
          "name": "stdout",
          "text": [
            "drive  mydata.txt  sample_data\ttest\n"
          ]
        }
      ]
    },
    {
      "cell_type": "code",
      "source": [
        "increase_font()\n",
        "!ls"
      ],
      "metadata": {
        "colab": {
          "base_uri": "https://localhost:8080/",
          "height": 57
        },
        "id": "p2qHsDsNSo02",
        "outputId": "22993f69-7c44-4ff0-d927-78c663dea043"
      },
      "execution_count": 32,
      "outputs": [
        {
          "output_type": "display_data",
          "data": {
            "text/plain": [
              "<IPython.core.display.Javascript object>"
            ],
            "application/javascript": [
              "\n",
              "  for (rule of document.styleSheets[0].cssRules){\n",
              "    if (rule.selectorText=='body') {\n",
              "      rule.style.fontSize = '30px'\n",
              "      break\n",
              "    }\n",
              "  }\n",
              "  "
            ]
          },
          "metadata": {}
        },
        {
          "output_type": "stream",
          "name": "stdout",
          "text": [
            "drive  mydata.txt  sample_data\ttest\n"
          ]
        }
      ]
    },
    {
      "cell_type": "code",
      "source": [
        "inc()\n",
        "!ls"
      ],
      "metadata": {
        "colab": {
          "base_uri": "https://localhost:8080/",
          "height": 45
        },
        "id": "p2mJoSZCSuEN",
        "outputId": "d0a89011-14db-44cc-96ac-54b8dbcca2f8"
      },
      "execution_count": 36,
      "outputs": [
        {
          "output_type": "display_data",
          "data": {
            "text/plain": [
              "<IPython.core.display.Javascript object>"
            ],
            "application/javascript": [
              "\n",
              "  for (rule of document.styleSheets[0].cssRules){\n",
              "    if (rule.selectorText=='body') {\n",
              "      rule.style.fontSize = '20px'\n",
              "      break\n",
              "    }\n",
              "  }\n",
              "  "
            ]
          },
          "metadata": {}
        },
        {
          "output_type": "stream",
          "name": "stdout",
          "text": [
            "drive  mydata.txt  sample_data\ttest\n"
          ]
        }
      ]
    },
    {
      "cell_type": "markdown",
      "source": [
        "Q. 주어진 텍스트에서 단어 빈도를 아래와 같이 출력하세요.\n",
        "\n",
        " ======================================\\\n",
        "가장 많이 나온 단어 5개를 뽑아 봤습니다.\\\n",
        "[the] -> [8]회 나타남\\\n",
        "[a  ] -> [6]회 나타남\\\n",
        "[on ] -> [5]회 나타남\\\n",
        "[of ] -> [4]회 나타남\\\n",
        "[to ] -> [4]회 나타남"
      ],
      "metadata": {
        "id": "JxP--xNWTqHZ"
      }
    },
    {
      "cell_type": "code",
      "source": [
        "words_set = set(words_list)\n",
        "print(words_set)\n",
        "words_freq = {}\n",
        "for word in words_list:\n",
        "    if word in words_freq:\n",
        "        words_freq[word] += 1\n",
        "    else:\n",
        "        words_freq[word] = 1\n",
        "print(words_freq)\n",
        "\n",
        "#items: {the:5, a:3} ->('the', 5)  key=lambda x : x[1]  튜플로 바껴서 인덱스가 생김\n",
        "\n",
        "print(sorted(words_freq.items(), key=lambda x : x[1] , reverse=True))\n",
        "result = sorted(words_freq.items(), key=lambda x : x[1] , reverse=True)\n",
        "for i in range(min(5, len(result))):\n",
        "    word, count = result[i]\n",
        "    print(f'[{word: <3}] -> [{count}]회 나타남')"
      ],
      "metadata": {
        "colab": {
          "base_uri": "https://localhost:8080/"
        },
        "id": "ro1OhT69YId4",
        "outputId": "cde58366-acd7-4433-9ba2-3a4edb51b33e"
      },
      "execution_count": 6,
      "outputs": [
        {
          "output_type": "stream",
          "name": "stdout",
          "text": [
            "{'lateuncle', 'another', 'stand', 'hateraise', 'violenceon', 'for', 'from', 'eternal', 'is', 'in', 'startsbut', 'are', 'aparttill', 'and', 'tears', 'to', 'got', 'voice', 'become', 'other', 'never', 'many', 'paradisenow', 'dont', 'of', 'occur', 'misery', 'all', 'betweenand', 'had', 'matter', 'gun', 'by', 'hearts', 'human', 'fearshow', 'sam', 'troops', 'once', 'pest', 'the', 'torment', 'againif', 'choked', 'waytheres', 'flow', 'you', 'sunall', 'up', 'woman', 'whiteyou', 'so', 'earth', 'much', 'butts', 'wont', 'slam', 'be', 'sea', 'waitno', 'on', 'torn', 'warfare', 'lot', 'things', 'his', 'worlds', 'destruction', 'maceso', 'a', 'been', 'russians', 'free', 'this', 'dielacking', 'ill', 'dead', 'ever', 'rightand', 'lightunite!', 'latehow', 'worldturns', 'awayto', 'its', 'into', 'too', 'therewhat', 'same', 'children', 'or', 'despairin', 'look', 'youre', 'food', 'cruelty', 'before', 'our', 'birththey', 'man', 'back', 'late', 'any', 'steal', 'black', 'their', 'with', 'earththen', 'not', 'faceand', 'live', 'commercials', 'screenwith', 'pass', 'will', 'each', 'flyoppressed', 'tame', 'tormentors', 'dayweve', 'want', 'if', 'goneso', 'skiessee', 'rightspush', 'has', 'leave', 'even', 'landits'}\n",
            "{'a': 6, 'lot': 1, 'of': 4, 'things': 1, 'occur': 1, 'each': 1, 'dayweve': 1, 'got': 1, 'to': 4, 'live': 1, 'with': 1, 'on': 5, 'our': 3, 'waytheres': 1, 'so': 2, 'much': 1, 'misery': 1, 'the': 8, 'screenwith': 1, 'commercials': 1, 'in': 3, 'betweenand': 1, 'russians': 1, 'wont': 1, 'be': 2, 'lateuncle': 1, 'sam': 1, 'dont': 1, 'want': 1, 'waitno': 1, 'matter': 1, 'if': 1, 'youre': 1, 'black': 1, 'or': 1, 'whiteyou': 1, 'never': 1, 'ever': 1, 'had': 1, 'rightand': 1, 'look': 1, 'up': 3, 'eternal': 1, 'skiessee': 1, 'warfare': 1, 'even': 1, 'therewhat': 1, 'once': 1, 'has': 1, 'been': 1, 'paradisenow': 1, 'destruction': 1, 'and': 3, 'despairin': 1, 'other': 1, 'worlds': 1, 'children': 1, 'dielacking': 1, 'food': 1, 'ill': 1, 'from': 1, 'flyoppressed': 1, 'by': 1, 'troops': 1, 'tame': 1, 'their': 1, 'landits': 1, 'all': 1, 'same': 1, 'againif': 1, 'any': 1, 'man': 1, 'is': 1, 'free': 1, 'earththen': 1, 'tormentors': 1, 'steal': 1, 'his': 3, 'birththey': 1, 'slam': 1, 'gun': 1, 'butts': 1, 'faceand': 1, 'leave': 1, 'woman': 1, 'choked': 1, 'maceso': 1, 'stand': 2, 'for': 2, 'human': 2, 'rightspush': 2, 'back': 2, 'this': 2, 'pest': 2, 'hateraise': 2, 'you': 2, 'voice': 2, 'pass': 2, 'lightunite!': 2, 'its': 2, 'not': 2, 'too': 2, 'latehow': 1, 'many': 2, 'tears': 1, 'flow': 1, 'awayto': 1, 'become': 1, 'sea': 1, 'fearshow': 1, 'hearts': 1, 'are': 1, 'torn': 1, 'aparttill': 1, 'another': 1, 'torment': 1, 'startsbut': 1, 'before': 1, 'worldturns': 1, 'into': 1, 'sunall': 1, 'cruelty': 1, 'violenceon': 1, 'earth': 1, 'will': 1, 'dead': 1, 'goneso': 1, 'late': 1}\n",
            "[('the', 8), ('a', 6), ('on', 5), ('of', 4), ('to', 4), ('our', 3), ('in', 3), ('up', 3), ('and', 3), ('his', 3), ('so', 2), ('be', 2), ('stand', 2), ('for', 2), ('human', 2), ('rightspush', 2), ('back', 2), ('this', 2), ('pest', 2), ('hateraise', 2), ('you', 2), ('voice', 2), ('pass', 2), ('lightunite!', 2), ('its', 2), ('not', 2), ('too', 2), ('many', 2), ('lot', 1), ('things', 1), ('occur', 1), ('each', 1), ('dayweve', 1), ('got', 1), ('live', 1), ('with', 1), ('waytheres', 1), ('much', 1), ('misery', 1), ('screenwith', 1), ('commercials', 1), ('betweenand', 1), ('russians', 1), ('wont', 1), ('lateuncle', 1), ('sam', 1), ('dont', 1), ('want', 1), ('waitno', 1), ('matter', 1), ('if', 1), ('youre', 1), ('black', 1), ('or', 1), ('whiteyou', 1), ('never', 1), ('ever', 1), ('had', 1), ('rightand', 1), ('look', 1), ('eternal', 1), ('skiessee', 1), ('warfare', 1), ('even', 1), ('therewhat', 1), ('once', 1), ('has', 1), ('been', 1), ('paradisenow', 1), ('destruction', 1), ('despairin', 1), ('other', 1), ('worlds', 1), ('children', 1), ('dielacking', 1), ('food', 1), ('ill', 1), ('from', 1), ('flyoppressed', 1), ('by', 1), ('troops', 1), ('tame', 1), ('their', 1), ('landits', 1), ('all', 1), ('same', 1), ('againif', 1), ('any', 1), ('man', 1), ('is', 1), ('free', 1), ('earththen', 1), ('tormentors', 1), ('steal', 1), ('birththey', 1), ('slam', 1), ('gun', 1), ('butts', 1), ('faceand', 1), ('leave', 1), ('woman', 1), ('choked', 1), ('maceso', 1), ('latehow', 1), ('tears', 1), ('flow', 1), ('awayto', 1), ('become', 1), ('sea', 1), ('fearshow', 1), ('hearts', 1), ('are', 1), ('torn', 1), ('aparttill', 1), ('another', 1), ('torment', 1), ('startsbut', 1), ('before', 1), ('worldturns', 1), ('into', 1), ('sunall', 1), ('cruelty', 1), ('violenceon', 1), ('earth', 1), ('will', 1), ('dead', 1), ('goneso', 1), ('late', 1)]\n",
            "[the] -> [8]회 나타남\n",
            "[a  ] -> [6]회 나타남\n",
            "[on ] -> [5]회 나타남\n",
            "[of ] -> [4]회 나타남\n",
            "[to ] -> [4]회 나타남\n"
          ]
        }
      ]
    },
    {
      "cell_type": "code",
      "source": [
        "inc()\n",
        "name = \"John\"\n",
        "age = 23\n",
        "balance = 1234.567\n",
        "#문자열 정렬\n",
        "formatted_string = f\"{name:<10} is {age:>3} years old.\"\n",
        "print(formatted_string)\n",
        "\n",
        "#숫자 정밀도 및 포맷\n",
        "formatted_number = f\"{balance:.2f}\" #반올림\n",
        "print(formatted_number)\n",
        "formatted_number = f\"{balance:>10.2f}\" #전체 10자리 왼쪽으로 붙이기\n",
        "print(formatted_number)\n",
        "formatted_number = f\"{balance:<20.5f}\" #전체 20자리 왼쪽으로 붙이기\n",
        "print(formatted_number)\n",
        "formatted_number = f\"{balance:>20.5f}\" #소수점 5개 나머지 숫자는 0으로 채워짐\n",
        "print(formatted_number)\n",
        "formatted_number = f\"{balance:>020.5f}\" #앞에 0으로 채워지고 소수점 5개 나머지 숫자는 0으로 채워짐\n",
        "print(formatted_number)\n",
        "\n",
        "#숫자 자리수 채우기\n",
        "formatted_number_padded = f\"{age:05}\"\n",
        "print(formatted_number_padded)\n",
        "formatted_number_padded = f\"{age:5}\"\n",
        "print(formatted_number_padded)\n",
        "formatted_number_padded = f\"{age:010}\"\n",
        "print(formatted_number_padded)"
      ],
      "metadata": {
        "colab": {
          "base_uri": "https://localhost:8080/",
          "height": 265
        },
        "id": "TChCsVCVaYgL",
        "outputId": "23090bee-1917-430d-d2dd-4a4709344693"
      },
      "execution_count": 23,
      "outputs": [
        {
          "output_type": "display_data",
          "data": {
            "text/plain": [
              "<IPython.core.display.Javascript object>"
            ],
            "application/javascript": [
              "\n",
              "  for (rule of document.styleSheets[0].cssRules){\n",
              "    if (rule.selectorText=='body') {\n",
              "      rule.style.fontSize = '20px'\n",
              "      break\n",
              "    }\n",
              "  }\n",
              "  "
            ]
          },
          "metadata": {}
        },
        {
          "output_type": "stream",
          "name": "stdout",
          "text": [
            "John       is  23 years old.\n",
            "1234.57\n",
            "   1234.57\n",
            "1234.56700          \n",
            "          1234.56700\n",
            "00000000001234.56700\n",
            "00023\n",
            "   23\n",
            "0000000023\n"
          ]
        }
      ]
    },
    {
      "cell_type": "markdown",
      "source": [
        "외부 라이브러리 연습"
      ],
      "metadata": {
        "id": "MQ2fRPwddUG9"
      }
    },
    {
      "cell_type": "code",
      "source": [
        "import pandas as pd\n",
        "import seaborn as sns\n",
        "\n",
        "titanic = sns.load_dataset('titanic')\n",
        "titanic.head()"
      ],
      "metadata": {
        "colab": {
          "base_uri": "https://localhost:8080/",
          "height": 206
        },
        "id": "DoLiVSuWbf6F",
        "outputId": "956b3112-5f91-4019-e6c4-8fc7788a10bb"
      },
      "execution_count": 25,
      "outputs": [
        {
          "output_type": "execute_result",
          "data": {
            "text/plain": [
              "   survived  pclass     sex   age  sibsp  parch     fare embarked  class  \\\n",
              "0         0       3    male  22.0      1      0   7.2500        S  Third   \n",
              "1         1       1  female  38.0      1      0  71.2833        C  First   \n",
              "2         1       3  female  26.0      0      0   7.9250        S  Third   \n",
              "3         1       1  female  35.0      1      0  53.1000        S  First   \n",
              "4         0       3    male  35.0      0      0   8.0500        S  Third   \n",
              "\n",
              "     who  adult_male deck  embark_town alive  alone  \n",
              "0    man        True  NaN  Southampton    no  False  \n",
              "1  woman       False    C    Cherbourg   yes  False  \n",
              "2  woman       False  NaN  Southampton   yes   True  \n",
              "3  woman       False    C  Southampton   yes  False  \n",
              "4    man        True  NaN  Southampton    no   True  "
            ],
            "text/html": [
              "\n",
              "  <div id=\"df-3acb0d6b-264e-435f-9794-3c054976c364\" class=\"colab-df-container\">\n",
              "    <div>\n",
              "<style scoped>\n",
              "    .dataframe tbody tr th:only-of-type {\n",
              "        vertical-align: middle;\n",
              "    }\n",
              "\n",
              "    .dataframe tbody tr th {\n",
              "        vertical-align: top;\n",
              "    }\n",
              "\n",
              "    .dataframe thead th {\n",
              "        text-align: right;\n",
              "    }\n",
              "</style>\n",
              "<table border=\"1\" class=\"dataframe\">\n",
              "  <thead>\n",
              "    <tr style=\"text-align: right;\">\n",
              "      <th></th>\n",
              "      <th>survived</th>\n",
              "      <th>pclass</th>\n",
              "      <th>sex</th>\n",
              "      <th>age</th>\n",
              "      <th>sibsp</th>\n",
              "      <th>parch</th>\n",
              "      <th>fare</th>\n",
              "      <th>embarked</th>\n",
              "      <th>class</th>\n",
              "      <th>who</th>\n",
              "      <th>adult_male</th>\n",
              "      <th>deck</th>\n",
              "      <th>embark_town</th>\n",
              "      <th>alive</th>\n",
              "      <th>alone</th>\n",
              "    </tr>\n",
              "  </thead>\n",
              "  <tbody>\n",
              "    <tr>\n",
              "      <th>0</th>\n",
              "      <td>0</td>\n",
              "      <td>3</td>\n",
              "      <td>male</td>\n",
              "      <td>22.0</td>\n",
              "      <td>1</td>\n",
              "      <td>0</td>\n",
              "      <td>7.2500</td>\n",
              "      <td>S</td>\n",
              "      <td>Third</td>\n",
              "      <td>man</td>\n",
              "      <td>True</td>\n",
              "      <td>NaN</td>\n",
              "      <td>Southampton</td>\n",
              "      <td>no</td>\n",
              "      <td>False</td>\n",
              "    </tr>\n",
              "    <tr>\n",
              "      <th>1</th>\n",
              "      <td>1</td>\n",
              "      <td>1</td>\n",
              "      <td>female</td>\n",
              "      <td>38.0</td>\n",
              "      <td>1</td>\n",
              "      <td>0</td>\n",
              "      <td>71.2833</td>\n",
              "      <td>C</td>\n",
              "      <td>First</td>\n",
              "      <td>woman</td>\n",
              "      <td>False</td>\n",
              "      <td>C</td>\n",
              "      <td>Cherbourg</td>\n",
              "      <td>yes</td>\n",
              "      <td>False</td>\n",
              "    </tr>\n",
              "    <tr>\n",
              "      <th>2</th>\n",
              "      <td>1</td>\n",
              "      <td>3</td>\n",
              "      <td>female</td>\n",
              "      <td>26.0</td>\n",
              "      <td>0</td>\n",
              "      <td>0</td>\n",
              "      <td>7.9250</td>\n",
              "      <td>S</td>\n",
              "      <td>Third</td>\n",
              "      <td>woman</td>\n",
              "      <td>False</td>\n",
              "      <td>NaN</td>\n",
              "      <td>Southampton</td>\n",
              "      <td>yes</td>\n",
              "      <td>True</td>\n",
              "    </tr>\n",
              "    <tr>\n",
              "      <th>3</th>\n",
              "      <td>1</td>\n",
              "      <td>1</td>\n",
              "      <td>female</td>\n",
              "      <td>35.0</td>\n",
              "      <td>1</td>\n",
              "      <td>0</td>\n",
              "      <td>53.1000</td>\n",
              "      <td>S</td>\n",
              "      <td>First</td>\n",
              "      <td>woman</td>\n",
              "      <td>False</td>\n",
              "      <td>C</td>\n",
              "      <td>Southampton</td>\n",
              "      <td>yes</td>\n",
              "      <td>False</td>\n",
              "    </tr>\n",
              "    <tr>\n",
              "      <th>4</th>\n",
              "      <td>0</td>\n",
              "      <td>3</td>\n",
              "      <td>male</td>\n",
              "      <td>35.0</td>\n",
              "      <td>0</td>\n",
              "      <td>0</td>\n",
              "      <td>8.0500</td>\n",
              "      <td>S</td>\n",
              "      <td>Third</td>\n",
              "      <td>man</td>\n",
              "      <td>True</td>\n",
              "      <td>NaN</td>\n",
              "      <td>Southampton</td>\n",
              "      <td>no</td>\n",
              "      <td>True</td>\n",
              "    </tr>\n",
              "  </tbody>\n",
              "</table>\n",
              "</div>\n",
              "    <div class=\"colab-df-buttons\">\n",
              "\n",
              "  <div class=\"colab-df-container\">\n",
              "    <button class=\"colab-df-convert\" onclick=\"convertToInteractive('df-3acb0d6b-264e-435f-9794-3c054976c364')\"\n",
              "            title=\"Convert this dataframe to an interactive table.\"\n",
              "            style=\"display:none;\">\n",
              "\n",
              "  <svg xmlns=\"http://www.w3.org/2000/svg\" height=\"24px\" viewBox=\"0 -960 960 960\">\n",
              "    <path d=\"M120-120v-720h720v720H120Zm60-500h600v-160H180v160Zm220 220h160v-160H400v160Zm0 220h160v-160H400v160ZM180-400h160v-160H180v160Zm440 0h160v-160H620v160ZM180-180h160v-160H180v160Zm440 0h160v-160H620v160Z\"/>\n",
              "  </svg>\n",
              "    </button>\n",
              "\n",
              "  <style>\n",
              "    .colab-df-container {\n",
              "      display:flex;\n",
              "      gap: 12px;\n",
              "    }\n",
              "\n",
              "    .colab-df-convert {\n",
              "      background-color: #E8F0FE;\n",
              "      border: none;\n",
              "      border-radius: 50%;\n",
              "      cursor: pointer;\n",
              "      display: none;\n",
              "      fill: #1967D2;\n",
              "      height: 32px;\n",
              "      padding: 0 0 0 0;\n",
              "      width: 32px;\n",
              "    }\n",
              "\n",
              "    .colab-df-convert:hover {\n",
              "      background-color: #E2EBFA;\n",
              "      box-shadow: 0px 1px 2px rgba(60, 64, 67, 0.3), 0px 1px 3px 1px rgba(60, 64, 67, 0.15);\n",
              "      fill: #174EA6;\n",
              "    }\n",
              "\n",
              "    .colab-df-buttons div {\n",
              "      margin-bottom: 4px;\n",
              "    }\n",
              "\n",
              "    [theme=dark] .colab-df-convert {\n",
              "      background-color: #3B4455;\n",
              "      fill: #D2E3FC;\n",
              "    }\n",
              "\n",
              "    [theme=dark] .colab-df-convert:hover {\n",
              "      background-color: #434B5C;\n",
              "      box-shadow: 0px 1px 3px 1px rgba(0, 0, 0, 0.15);\n",
              "      filter: drop-shadow(0px 1px 2px rgba(0, 0, 0, 0.3));\n",
              "      fill: #FFFFFF;\n",
              "    }\n",
              "  </style>\n",
              "\n",
              "    <script>\n",
              "      const buttonEl =\n",
              "        document.querySelector('#df-3acb0d6b-264e-435f-9794-3c054976c364 button.colab-df-convert');\n",
              "      buttonEl.style.display =\n",
              "        google.colab.kernel.accessAllowed ? 'block' : 'none';\n",
              "\n",
              "      async function convertToInteractive(key) {\n",
              "        const element = document.querySelector('#df-3acb0d6b-264e-435f-9794-3c054976c364');\n",
              "        const dataTable =\n",
              "          await google.colab.kernel.invokeFunction('convertToInteractive',\n",
              "                                                    [key], {});\n",
              "        if (!dataTable) return;\n",
              "\n",
              "        const docLinkHtml = 'Like what you see? Visit the ' +\n",
              "          '<a target=\"_blank\" href=https://colab.research.google.com/notebooks/data_table.ipynb>data table notebook</a>'\n",
              "          + ' to learn more about interactive tables.';\n",
              "        element.innerHTML = '';\n",
              "        dataTable['output_type'] = 'display_data';\n",
              "        await google.colab.output.renderOutput(dataTable, element);\n",
              "        const docLink = document.createElement('div');\n",
              "        docLink.innerHTML = docLinkHtml;\n",
              "        element.appendChild(docLink);\n",
              "      }\n",
              "    </script>\n",
              "  </div>\n",
              "\n",
              "\n",
              "<div id=\"df-6bd9b8a3-c530-4e92-b45c-3223a150a45c\">\n",
              "  <button class=\"colab-df-quickchart\" onclick=\"quickchart('df-6bd9b8a3-c530-4e92-b45c-3223a150a45c')\"\n",
              "            title=\"Suggest charts\"\n",
              "            style=\"display:none;\">\n",
              "\n",
              "<svg xmlns=\"http://www.w3.org/2000/svg\" height=\"24px\"viewBox=\"0 0 24 24\"\n",
              "     width=\"24px\">\n",
              "    <g>\n",
              "        <path d=\"M19 3H5c-1.1 0-2 .9-2 2v14c0 1.1.9 2 2 2h14c1.1 0 2-.9 2-2V5c0-1.1-.9-2-2-2zM9 17H7v-7h2v7zm4 0h-2V7h2v10zm4 0h-2v-4h2v4z\"/>\n",
              "    </g>\n",
              "</svg>\n",
              "  </button>\n",
              "\n",
              "<style>\n",
              "  .colab-df-quickchart {\n",
              "      --bg-color: #E8F0FE;\n",
              "      --fill-color: #1967D2;\n",
              "      --hover-bg-color: #E2EBFA;\n",
              "      --hover-fill-color: #174EA6;\n",
              "      --disabled-fill-color: #AAA;\n",
              "      --disabled-bg-color: #DDD;\n",
              "  }\n",
              "\n",
              "  [theme=dark] .colab-df-quickchart {\n",
              "      --bg-color: #3B4455;\n",
              "      --fill-color: #D2E3FC;\n",
              "      --hover-bg-color: #434B5C;\n",
              "      --hover-fill-color: #FFFFFF;\n",
              "      --disabled-bg-color: #3B4455;\n",
              "      --disabled-fill-color: #666;\n",
              "  }\n",
              "\n",
              "  .colab-df-quickchart {\n",
              "    background-color: var(--bg-color);\n",
              "    border: none;\n",
              "    border-radius: 50%;\n",
              "    cursor: pointer;\n",
              "    display: none;\n",
              "    fill: var(--fill-color);\n",
              "    height: 32px;\n",
              "    padding: 0;\n",
              "    width: 32px;\n",
              "  }\n",
              "\n",
              "  .colab-df-quickchart:hover {\n",
              "    background-color: var(--hover-bg-color);\n",
              "    box-shadow: 0 1px 2px rgba(60, 64, 67, 0.3), 0 1px 3px 1px rgba(60, 64, 67, 0.15);\n",
              "    fill: var(--button-hover-fill-color);\n",
              "  }\n",
              "\n",
              "  .colab-df-quickchart-complete:disabled,\n",
              "  .colab-df-quickchart-complete:disabled:hover {\n",
              "    background-color: var(--disabled-bg-color);\n",
              "    fill: var(--disabled-fill-color);\n",
              "    box-shadow: none;\n",
              "  }\n",
              "\n",
              "  .colab-df-spinner {\n",
              "    border: 2px solid var(--fill-color);\n",
              "    border-color: transparent;\n",
              "    border-bottom-color: var(--fill-color);\n",
              "    animation:\n",
              "      spin 1s steps(1) infinite;\n",
              "  }\n",
              "\n",
              "  @keyframes spin {\n",
              "    0% {\n",
              "      border-color: transparent;\n",
              "      border-bottom-color: var(--fill-color);\n",
              "      border-left-color: var(--fill-color);\n",
              "    }\n",
              "    20% {\n",
              "      border-color: transparent;\n",
              "      border-left-color: var(--fill-color);\n",
              "      border-top-color: var(--fill-color);\n",
              "    }\n",
              "    30% {\n",
              "      border-color: transparent;\n",
              "      border-left-color: var(--fill-color);\n",
              "      border-top-color: var(--fill-color);\n",
              "      border-right-color: var(--fill-color);\n",
              "    }\n",
              "    40% {\n",
              "      border-color: transparent;\n",
              "      border-right-color: var(--fill-color);\n",
              "      border-top-color: var(--fill-color);\n",
              "    }\n",
              "    60% {\n",
              "      border-color: transparent;\n",
              "      border-right-color: var(--fill-color);\n",
              "    }\n",
              "    80% {\n",
              "      border-color: transparent;\n",
              "      border-right-color: var(--fill-color);\n",
              "      border-bottom-color: var(--fill-color);\n",
              "    }\n",
              "    90% {\n",
              "      border-color: transparent;\n",
              "      border-bottom-color: var(--fill-color);\n",
              "    }\n",
              "  }\n",
              "</style>\n",
              "\n",
              "  <script>\n",
              "    async function quickchart(key) {\n",
              "      const quickchartButtonEl =\n",
              "        document.querySelector('#' + key + ' button');\n",
              "      quickchartButtonEl.disabled = true;  // To prevent multiple clicks.\n",
              "      quickchartButtonEl.classList.add('colab-df-spinner');\n",
              "      try {\n",
              "        const charts = await google.colab.kernel.invokeFunction(\n",
              "            'suggestCharts', [key], {});\n",
              "      } catch (error) {\n",
              "        console.error('Error during call to suggestCharts:', error);\n",
              "      }\n",
              "      quickchartButtonEl.classList.remove('colab-df-spinner');\n",
              "      quickchartButtonEl.classList.add('colab-df-quickchart-complete');\n",
              "    }\n",
              "    (() => {\n",
              "      let quickchartButtonEl =\n",
              "        document.querySelector('#df-6bd9b8a3-c530-4e92-b45c-3223a150a45c button');\n",
              "      quickchartButtonEl.style.display =\n",
              "        google.colab.kernel.accessAllowed ? 'block' : 'none';\n",
              "    })();\n",
              "  </script>\n",
              "</div>\n",
              "    </div>\n",
              "  </div>\n"
            ],
            "application/vnd.google.colaboratory.intrinsic+json": {
              "type": "dataframe",
              "variable_name": "titanic",
              "summary": "{\n  \"name\": \"titanic\",\n  \"rows\": 891,\n  \"fields\": [\n    {\n      \"column\": \"survived\",\n      \"properties\": {\n        \"dtype\": \"number\",\n        \"std\": 0,\n        \"min\": 0,\n        \"max\": 1,\n        \"num_unique_values\": 2,\n        \"samples\": [\n          1,\n          0\n        ],\n        \"semantic_type\": \"\",\n        \"description\": \"\"\n      }\n    },\n    {\n      \"column\": \"pclass\",\n      \"properties\": {\n        \"dtype\": \"number\",\n        \"std\": 0,\n        \"min\": 1,\n        \"max\": 3,\n        \"num_unique_values\": 3,\n        \"samples\": [\n          3,\n          1\n        ],\n        \"semantic_type\": \"\",\n        \"description\": \"\"\n      }\n    },\n    {\n      \"column\": \"sex\",\n      \"properties\": {\n        \"dtype\": \"category\",\n        \"num_unique_values\": 2,\n        \"samples\": [\n          \"female\",\n          \"male\"\n        ],\n        \"semantic_type\": \"\",\n        \"description\": \"\"\n      }\n    },\n    {\n      \"column\": \"age\",\n      \"properties\": {\n        \"dtype\": \"number\",\n        \"std\": 14.526497332334042,\n        \"min\": 0.42,\n        \"max\": 80.0,\n        \"num_unique_values\": 88,\n        \"samples\": [\n          0.75,\n          22.0\n        ],\n        \"semantic_type\": \"\",\n        \"description\": \"\"\n      }\n    },\n    {\n      \"column\": \"sibsp\",\n      \"properties\": {\n        \"dtype\": \"number\",\n        \"std\": 1,\n        \"min\": 0,\n        \"max\": 8,\n        \"num_unique_values\": 7,\n        \"samples\": [\n          1,\n          0\n        ],\n        \"semantic_type\": \"\",\n        \"description\": \"\"\n      }\n    },\n    {\n      \"column\": \"parch\",\n      \"properties\": {\n        \"dtype\": \"number\",\n        \"std\": 0,\n        \"min\": 0,\n        \"max\": 6,\n        \"num_unique_values\": 7,\n        \"samples\": [\n          0,\n          1\n        ],\n        \"semantic_type\": \"\",\n        \"description\": \"\"\n      }\n    },\n    {\n      \"column\": \"fare\",\n      \"properties\": {\n        \"dtype\": \"number\",\n        \"std\": 49.6934285971809,\n        \"min\": 0.0,\n        \"max\": 512.3292,\n        \"num_unique_values\": 248,\n        \"samples\": [\n          11.2417,\n          51.8625\n        ],\n        \"semantic_type\": \"\",\n        \"description\": \"\"\n      }\n    },\n    {\n      \"column\": \"embarked\",\n      \"properties\": {\n        \"dtype\": \"category\",\n        \"num_unique_values\": 3,\n        \"samples\": [\n          \"S\",\n          \"C\"\n        ],\n        \"semantic_type\": \"\",\n        \"description\": \"\"\n      }\n    },\n    {\n      \"column\": \"class\",\n      \"properties\": {\n        \"dtype\": \"category\",\n        \"num_unique_values\": 3,\n        \"samples\": [\n          \"Third\",\n          \"First\"\n        ],\n        \"semantic_type\": \"\",\n        \"description\": \"\"\n      }\n    },\n    {\n      \"column\": \"who\",\n      \"properties\": {\n        \"dtype\": \"category\",\n        \"num_unique_values\": 3,\n        \"samples\": [\n          \"man\",\n          \"woman\"\n        ],\n        \"semantic_type\": \"\",\n        \"description\": \"\"\n      }\n    },\n    {\n      \"column\": \"adult_male\",\n      \"properties\": {\n        \"dtype\": \"boolean\",\n        \"num_unique_values\": 2,\n        \"samples\": [\n          false,\n          true\n        ],\n        \"semantic_type\": \"\",\n        \"description\": \"\"\n      }\n    },\n    {\n      \"column\": \"deck\",\n      \"properties\": {\n        \"dtype\": \"category\",\n        \"num_unique_values\": 7,\n        \"samples\": [\n          \"C\",\n          \"E\"\n        ],\n        \"semantic_type\": \"\",\n        \"description\": \"\"\n      }\n    },\n    {\n      \"column\": \"embark_town\",\n      \"properties\": {\n        \"dtype\": \"category\",\n        \"num_unique_values\": 3,\n        \"samples\": [\n          \"Southampton\",\n          \"Cherbourg\"\n        ],\n        \"semantic_type\": \"\",\n        \"description\": \"\"\n      }\n    },\n    {\n      \"column\": \"alive\",\n      \"properties\": {\n        \"dtype\": \"category\",\n        \"num_unique_values\": 2,\n        \"samples\": [\n          \"yes\",\n          \"no\"\n        ],\n        \"semantic_type\": \"\",\n        \"description\": \"\"\n      }\n    },\n    {\n      \"column\": \"alone\",\n      \"properties\": {\n        \"dtype\": \"boolean\",\n        \"num_unique_values\": 2,\n        \"samples\": [\n          true,\n          false\n        ],\n        \"semantic_type\": \"\",\n        \"description\": \"\"\n      }\n    }\n  ]\n}"
            }
          },
          "metadata": {},
          "execution_count": 25
        }
      ]
    },
    {
      "cell_type": "code",
      "source": [
        "inc()\n",
        "titanic.survived.valued_count()\n"
      ],
      "metadata": {
        "colab": {
          "base_uri": "https://localhost:8080/",
          "height": 422
        },
        "id": "tDgbeEMPduTt",
        "outputId": "1b6275ea-cfe9-4daf-f395-56b961935d19"
      },
      "execution_count": 29,
      "outputs": [
        {
          "output_type": "display_data",
          "data": {
            "text/plain": [
              "<IPython.core.display.Javascript object>"
            ],
            "application/javascript": [
              "\n",
              "  for (rule of document.styleSheets[0].cssRules){\n",
              "    if (rule.selectorText=='body') {\n",
              "      rule.style.fontSize = '20px'\n",
              "      break\n",
              "    }\n",
              "  }\n",
              "  "
            ]
          },
          "metadata": {}
        },
        {
          "output_type": "error",
          "ename": "AttributeError",
          "evalue": "'Series' object has no attribute 'valued_count'",
          "traceback": [
            "\u001b[0;31m---------------------------------------------------------------------------\u001b[0m",
            "\u001b[0;31mAttributeError\u001b[0m                            Traceback (most recent call last)",
            "\u001b[0;32m<ipython-input-29-e20bf0f9b26b>\u001b[0m in \u001b[0;36m<cell line: 2>\u001b[0;34m()\u001b[0m\n\u001b[1;32m      1\u001b[0m \u001b[0minc\u001b[0m\u001b[0;34m(\u001b[0m\u001b[0;34m)\u001b[0m\u001b[0;34m\u001b[0m\u001b[0;34m\u001b[0m\u001b[0m\n\u001b[0;32m----> 2\u001b[0;31m \u001b[0mtitanic\u001b[0m\u001b[0;34m.\u001b[0m\u001b[0msurvived\u001b[0m\u001b[0;34m.\u001b[0m\u001b[0mvalued_count\u001b[0m\u001b[0;34m(\u001b[0m\u001b[0;34m)\u001b[0m\u001b[0;34m\u001b[0m\u001b[0;34m\u001b[0m\u001b[0m\n\u001b[0m",
            "\u001b[0;32m/usr/local/lib/python3.10/dist-packages/pandas/core/generic.py\u001b[0m in \u001b[0;36m__getattr__\u001b[0;34m(self, name)\u001b[0m\n\u001b[1;32m   5987\u001b[0m         ):\n\u001b[1;32m   5988\u001b[0m             \u001b[0;32mreturn\u001b[0m \u001b[0mself\u001b[0m\u001b[0;34m[\u001b[0m\u001b[0mname\u001b[0m\u001b[0;34m]\u001b[0m\u001b[0;34m\u001b[0m\u001b[0;34m\u001b[0m\u001b[0m\n\u001b[0;32m-> 5989\u001b[0;31m         \u001b[0;32mreturn\u001b[0m \u001b[0mobject\u001b[0m\u001b[0;34m.\u001b[0m\u001b[0m__getattribute__\u001b[0m\u001b[0;34m(\u001b[0m\u001b[0mself\u001b[0m\u001b[0;34m,\u001b[0m \u001b[0mname\u001b[0m\u001b[0;34m)\u001b[0m\u001b[0;34m\u001b[0m\u001b[0;34m\u001b[0m\u001b[0m\n\u001b[0m\u001b[1;32m   5990\u001b[0m \u001b[0;34m\u001b[0m\u001b[0m\n\u001b[1;32m   5991\u001b[0m     \u001b[0;32mdef\u001b[0m \u001b[0m__setattr__\u001b[0m\u001b[0;34m(\u001b[0m\u001b[0mself\u001b[0m\u001b[0;34m,\u001b[0m \u001b[0mname\u001b[0m\u001b[0;34m:\u001b[0m \u001b[0mstr\u001b[0m\u001b[0;34m,\u001b[0m \u001b[0mvalue\u001b[0m\u001b[0;34m)\u001b[0m \u001b[0;34m->\u001b[0m \u001b[0;32mNone\u001b[0m\u001b[0;34m:\u001b[0m\u001b[0;34m\u001b[0m\u001b[0;34m\u001b[0m\u001b[0m\n",
            "\u001b[0;31mAttributeError\u001b[0m: 'Series' object has no attribute 'valued_count'"
          ]
        }
      ]
    },
    {
      "cell_type": "code",
      "source": [
        "import numpy as np\n",
        "\n",
        "ar = np.arange(200, 301)\n",
        "print(ar, type(ar))"
      ],
      "metadata": {
        "colab": {
          "base_uri": "https://localhost:8080/"
        },
        "id": "vFnSS6xOq4mz",
        "outputId": "6033f7a3-8fa0-49b8-d22a-851e74a33d88"
      },
      "execution_count": 31,
      "outputs": [
        {
          "output_type": "stream",
          "name": "stdout",
          "text": [
            "[200 201 202 203 204 205 206 207 208 209 210 211 212 213 214 215 216 217\n",
            " 218 219 220 221 222 223 224 225 226 227 228 229 230 231 232 233 234 235\n",
            " 236 237 238 239 240 241 242 243 244 245 246 247 248 249 250 251 252 253\n",
            " 254 255 256 257 258 259 260 261 262 263 264 265 266 267 268 269 270 271\n",
            " 272 273 274 275 276 277 278 279 280 281 282 283 284 285 286 287 288 289\n",
            " 290 291 292 293 294 295 296 297 298 299 300] <class 'numpy.ndarray'>\n"
          ]
        }
      ]
    },
    {
      "cell_type": "code",
      "source": [
        "np.arange(200, 300)"
      ],
      "metadata": {
        "colab": {
          "base_uri": "https://localhost:8080/"
        },
        "id": "3hmpd1v-w-2v",
        "outputId": "4f3a3553-cc13-4109-dab0-45b2bb25f1c7"
      },
      "execution_count": 34,
      "outputs": [
        {
          "output_type": "execute_result",
          "data": {
            "text/plain": [
              "array([200, 201, 202, 203, 204, 205, 206, 207, 208, 209, 210, 211, 212,\n",
              "       213, 214, 215, 216, 217, 218, 219, 220, 221, 222, 223, 224, 225,\n",
              "       226, 227, 228, 229, 230, 231, 232, 233, 234, 235, 236, 237, 238,\n",
              "       239, 240, 241, 242, 243, 244, 245, 246, 247, 248, 249, 250, 251,\n",
              "       252, 253, 254, 255, 256, 257, 258, 259, 260, 261, 262, 263, 264,\n",
              "       265, 266, 267, 268, 269, 270, 271, 272, 273, 274, 275, 276, 277,\n",
              "       278, 279, 280, 281, 282, 283, 284, 285, 286, 287, 288, 289, 290,\n",
              "       291, 292, 293, 294, 295, 296, 297, 298, 299])"
            ]
          },
          "metadata": {},
          "execution_count": 34
        }
      ]
    },
    {
      "cell_type": "code",
      "source": [
        "#가변적인 인자값\n",
        "def sum(*args):\n",
        "    sum = 0\n",
        "    for i in args:\n",
        "        sum += i\n",
        "    return sum\n",
        "\n",
        "sum(200, 201, 202, 203, 204, 205, 206, 207, 208, 209, 210, 211, 212,\n",
        "       213, 214, 215, 216, 217, 218, 219, 220, 221, 222, 223, 224, 225,\n",
        "       226, 227, 228, 229, 230, 231, 232, 233, 234, 235, 236, 237, 238,\n",
        "       239, 240, 241, 242, 243, 244, 245, 246, 247, 248, 249, 250, 251,\n",
        "       252, 253, 254, 255, 256, 257, 258, 259, 260, 261, 262, 263, 264,\n",
        "       265, 266, 267, 268, 269, 270, 271, 272, 273, 274, 275, 276, 277,\n",
        "       278, 279, 280, 281, 282, 283, 284, 285, 286, 287, 288, 289, 290,\n",
        "       291, 292, 293, 294, 295, 296, 297, 298, 299, 300)\n"
      ],
      "metadata": {
        "colab": {
          "base_uri": "https://localhost:8080/"
        },
        "id": "HrFxL7ipv-0U",
        "outputId": "8799232d-6c87-4e5a-e41f-b1ba99b158ab"
      },
      "execution_count": 33,
      "outputs": [
        {
          "output_type": "execute_result",
          "data": {
            "text/plain": [
              "25250"
            ]
          },
          "metadata": {},
          "execution_count": 33
        }
      ]
    },
    {
      "cell_type": "code",
      "source": [
        "def sum(*args):\n",
        "    sum = 0\n",
        "    for i in args:\n",
        "        sum += i\n",
        "    return sum\n",
        "\n",
        "sum(200, 201, 202, 203, 204, 205, 206, 207, 208, 209, 210, 211, 212,\n",
        "       213, 214, 215, 216, 217, 218, 219, 220, 221, 222, 223, 224, 225,\n",
        "       226, 227, 228, 229, 230, 231, 232, 233, 234, 235, 236, 237, 238,\n",
        "       239, 240, 241, 242, 243, 244)"
      ],
      "metadata": {
        "colab": {
          "base_uri": "https://localhost:8080/"
        },
        "id": "ibwAuIKfwvo8",
        "outputId": "2c60f31e-2777-4d21-fe11-cdf0146de622"
      },
      "execution_count": 36,
      "outputs": [
        {
          "output_type": "execute_result",
          "data": {
            "text/plain": [
              "9990"
            ]
          },
          "metadata": {},
          "execution_count": 36
        }
      ]
    },
    {
      "cell_type": "code",
      "source": [
        "sum = lambda a, b : a+b\n",
        "sum(3,4)"
      ],
      "metadata": {
        "colab": {
          "base_uri": "https://localhost:8080/"
        },
        "id": "wg3lSTHOxQq7",
        "outputId": "0cbc5378-e29e-48a2-e024-0ac993d34cbb"
      },
      "execution_count": 37,
      "outputs": [
        {
          "output_type": "execute_result",
          "data": {
            "text/plain": [
              "7"
            ]
          },
          "metadata": {},
          "execution_count": 37
        }
      ]
    },
    {
      "cell_type": "code",
      "source": [
        "def sum(a,b):\n",
        "    return a+b\n",
        "print(sum(3,4))"
      ],
      "metadata": {
        "colab": {
          "base_uri": "https://localhost:8080/"
        },
        "id": "C-IVk3LUxdx5",
        "outputId": "755bac2d-7af5-4ae0-eb50-bd3201d58d1b"
      },
      "execution_count": 38,
      "outputs": [
        {
          "output_type": "stream",
          "name": "stdout",
          "text": [
            "7\n"
          ]
        }
      ]
    },
    {
      "cell_type": "code",
      "source": [
        "myList = [lambda a, b:a+b, lambda a,b:a*b, lambda a,b:a/b, lambda a,b:a-b]\n",
        "\n",
        "for i in range(len(myList)):\n",
        "    print(myList[i](4,3))"
      ],
      "metadata": {
        "colab": {
          "base_uri": "https://localhost:8080/"
        },
        "id": "4-4RoLLOxnAa",
        "outputId": "5dde9c60-96c0-464e-f627-19d83d084456"
      },
      "execution_count": 39,
      "outputs": [
        {
          "output_type": "stream",
          "name": "stdout",
          "text": [
            "7\n",
            "12\n",
            "1.3333333333333333\n",
            "1\n"
          ]
        }
      ]
    },
    {
      "cell_type": "markdown",
      "source": [
        "사용자함수"
      ],
      "metadata": {
        "id": "XnmHoJWmzOeR"
      }
    },
    {
      "cell_type": "code",
      "source": [
        "#반복문으로 팩토리얼을 구하는 사용자 함수를 작성하고 5!. 10!를 구하세요.\n",
        "import math\n",
        "def cal_factorial(x):\n",
        "    y = range(1, x+1)\n",
        "    return math.prod(y)\n",
        "\n",
        "print(cal_factorial(5))\n",
        "print(cal_factorial(10))"
      ],
      "metadata": {
        "colab": {
          "base_uri": "https://localhost:8080/"
        },
        "id": "mALXC_xKzQ2t",
        "outputId": "3a6b4214-9500-4dee-e8c9-2d84e383a352"
      },
      "execution_count": 40,
      "outputs": [
        {
          "output_type": "stream",
          "name": "stdout",
          "text": [
            "120\n",
            "3628800\n"
          ]
        }
      ]
    },
    {
      "cell_type": "code",
      "source": [
        "def factorial(n):\n",
        "    result = 1\n",
        "    for i in range(1, n+1):\n",
        "        result *= i\n",
        "    return result\n",
        "\n",
        "print(factorial(5))\n",
        "print(factorial(10))"
      ],
      "metadata": {
        "colab": {
          "base_uri": "https://localhost:8080/"
        },
        "id": "q9whr_ibz6K6",
        "outputId": "ad1b2ada-c790-41f3-f92c-635792a15c6b"
      },
      "execution_count": 41,
      "outputs": [
        {
          "output_type": "stream",
          "name": "stdout",
          "text": [
            "120\n",
            "3628800\n"
          ]
        }
      ]
    },
    {
      "cell_type": "code",
      "source": [
        "def add_number(n1, n2):\n",
        "    ret = n1 + n2\n",
        "    return ret\n",
        "\n",
        "def add_text(t1, t2):\n",
        "    print(t1+t2)\n",
        "\n",
        "ans1 = add_number(10, 15)\n",
        "print(ans1)\n",
        "text1 = '대한민국'\n",
        "text2 = '만세!!'\n",
        "add_text(text1, text2)"
      ],
      "metadata": {
        "colab": {
          "base_uri": "https://localhost:8080/"
        },
        "id": "r_F21yqQ0Vm_",
        "outputId": "01d2cf51-d216-4e1e-a40e-8970f7d31a71"
      },
      "execution_count": 43,
      "outputs": [
        {
          "output_type": "stream",
          "name": "stdout",
          "text": [
            "25\n",
            "대한민국만세!!\n"
          ]
        }
      ]
    },
    {
      "cell_type": "code",
      "source": [
        "#함수인자: 기본적으로 인자 순서에 대응되는 값을 함수 코드에 대입\n",
        "def add_txt(t1, t2='파이썬'):\n",
        "    print(t1 +' : '+ t2)\n",
        "\n",
        "add_txt('best')\n",
        "add_txt(t2='korea', t1='1st')"
      ],
      "metadata": {
        "colab": {
          "base_uri": "https://localhost:8080/"
        },
        "id": "j_WGid1a1Jz3",
        "outputId": "4f6e900d-ce89-4e0a-bcdc-9eb4bc9b293f"
      },
      "execution_count": 44,
      "outputs": [
        {
          "output_type": "stream",
          "name": "stdout",
          "text": [
            "best : 파이썬\n",
            "1st : korea\n"
          ]
        }
      ]
    },
    {
      "cell_type": "code",
      "source": [
        "inc()\n",
        "def func1(*args): # 인자의 개수가 불명확한 경우 가변인자 사용, args는 함수 내부에서 튜플로 처리\n",
        "    print(args)\n",
        "\n",
        "def func2(width, height, **kwargs): #키워드 인자가 불명확한 경우 **kwargs를 사용, 함수 내부에서 사전으로 처리\n",
        "    print(kwargs)\n",
        "\n",
        "func1()\n",
        "func1(2,3,6,7,2)\n",
        "func2(10, 20)\n",
        "func2(10, 20, depth=50, color='blue')"
      ],
      "metadata": {
        "colab": {
          "base_uri": "https://localhost:8080/",
          "height": 127
        },
        "id": "eCZAxM6q2bWr",
        "outputId": "3967ca32-9ce8-4860-dc0f-d1fb07eb69a6"
      },
      "execution_count": 46,
      "outputs": [
        {
          "output_type": "display_data",
          "data": {
            "text/plain": [
              "<IPython.core.display.Javascript object>"
            ],
            "application/javascript": [
              "\n",
              "  for (rule of document.styleSheets[0].cssRules){\n",
              "    if (rule.selectorText=='body') {\n",
              "      rule.style.fontSize = '20px'\n",
              "      break\n",
              "    }\n",
              "  }\n",
              "  "
            ]
          },
          "metadata": {}
        },
        {
          "output_type": "stream",
          "name": "stdout",
          "text": [
            "()\n",
            "(2, 3, 6, 7, 2)\n",
            "{}\n",
            "{'depth': 50, 'color': 'blue'}\n"
          ]
        }
      ]
    },
    {
      "cell_type": "code",
      "source": [
        "inc()\n",
        "def func2(width, height, **kwargs):\n",
        "    return width, height, kwargs\n",
        "\n",
        "func2(10, 20, depth=50, color='blue')"
      ],
      "metadata": {
        "colab": {
          "base_uri": "https://localhost:8080/",
          "height": 45
        },
        "id": "AhbMM1-D2qWG",
        "outputId": "3b34778e-3a10-4fc9-f2fc-4443dabf0448"
      },
      "execution_count": 47,
      "outputs": [
        {
          "output_type": "display_data",
          "data": {
            "text/plain": [
              "<IPython.core.display.Javascript object>"
            ],
            "application/javascript": [
              "\n",
              "  for (rule of document.styleSheets[0].cssRules){\n",
              "    if (rule.selectorText=='body') {\n",
              "      rule.style.fontSize = '20px'\n",
              "      break\n",
              "    }\n",
              "  }\n",
              "  "
            ]
          },
          "metadata": {}
        },
        {
          "output_type": "execute_result",
          "data": {
            "text/plain": [
              "(10, 20, {'depth': 50, 'color': 'blue'})"
            ]
          },
          "metadata": {},
          "execution_count": 47
        }
      ]
    },
    {
      "cell_type": "code",
      "source": [
        "inc()\n",
        "#가변적인 인풋\n",
        "list1 = []\n",
        "\n",
        "def listchng(*args):\n",
        "    for i in args:\n",
        "        i = float(i)\n",
        "        list1.append(i)\n",
        "    return list1\n",
        "\n",
        "listchng(1,2,3,4,5,6)"
      ],
      "metadata": {
        "colab": {
          "base_uri": "https://localhost:8080/",
          "height": 45
        },
        "id": "FCT0lr1p5D6S",
        "outputId": "6ae6074c-f052-4e7a-abab-ca57846553d8"
      },
      "execution_count": 48,
      "outputs": [
        {
          "output_type": "display_data",
          "data": {
            "text/plain": [
              "<IPython.core.display.Javascript object>"
            ],
            "application/javascript": [
              "\n",
              "  for (rule of document.styleSheets[0].cssRules){\n",
              "    if (rule.selectorText=='body') {\n",
              "      rule.style.fontSize = '20px'\n",
              "      break\n",
              "    }\n",
              "  }\n",
              "  "
            ]
          },
          "metadata": {}
        },
        {
          "output_type": "execute_result",
          "data": {
            "text/plain": [
              "[1.0, 2.0, 3.0, 4.0, 5.0, 6.0]"
            ]
          },
          "metadata": {},
          "execution_count": 48
        }
      ]
    },
    {
      "cell_type": "markdown",
      "source": [
        "함수 유형\n",
        "- 입력 인자와 리턴값 여부에 따른 함수 유형"
      ],
      "metadata": {
        "id": "EtWr3uiY8Zbx"
      }
    },
    {
      "cell_type": "code",
      "source": [
        "inc()\n",
        "#입력값이 없고 결과값만 있는 함수\n",
        "def say():\n",
        "    return 'HI'\n",
        "\n",
        "a = say()\n",
        "print(a)"
      ],
      "metadata": {
        "colab": {
          "base_uri": "https://localhost:8080/",
          "height": 45
        },
        "id": "YKhurGKF5nW5",
        "outputId": "7f0f9b21-045a-4a36-88dc-196c32e35a4b"
      },
      "execution_count": 49,
      "outputs": [
        {
          "output_type": "display_data",
          "data": {
            "text/plain": [
              "<IPython.core.display.Javascript object>"
            ],
            "application/javascript": [
              "\n",
              "  for (rule of document.styleSheets[0].cssRules){\n",
              "    if (rule.selectorText=='body') {\n",
              "      rule.style.fontSize = '20px'\n",
              "      break\n",
              "    }\n",
              "  }\n",
              "  "
            ]
          },
          "metadata": {}
        },
        {
          "output_type": "stream",
          "name": "stdout",
          "text": [
            "HI\n"
          ]
        }
      ]
    },
    {
      "cell_type": "code",
      "source": [
        "inc()\n",
        "#입력값은 있고 결과값이 없는 함수\n",
        "#결과값은 오직 return명령어로만 돌려 받을 수 있음\n",
        "def add(a,b):\n",
        "    print('%d, %d의 합은 %d입니다.' %(a,b,a+b))\n",
        "\n",
        "a= add(3,4)\n",
        "print(a)"
      ],
      "metadata": {
        "colab": {
          "base_uri": "https://localhost:8080/",
          "height": 72
        },
        "id": "uRVtxhZO8x9p",
        "outputId": "6c542f65-c5b3-4669-9e92-4eac53b86d86"
      },
      "execution_count": 51,
      "outputs": [
        {
          "output_type": "display_data",
          "data": {
            "text/plain": [
              "<IPython.core.display.Javascript object>"
            ],
            "application/javascript": [
              "\n",
              "  for (rule of document.styleSheets[0].cssRules){\n",
              "    if (rule.selectorText=='body') {\n",
              "      rule.style.fontSize = '20px'\n",
              "      break\n",
              "    }\n",
              "  }\n",
              "  "
            ]
          },
          "metadata": {}
        },
        {
          "output_type": "stream",
          "name": "stdout",
          "text": [
            "3, 4의 합은 7입니다.\n",
            "None\n"
          ]
        }
      ]
    },
    {
      "cell_type": "code",
      "source": [
        "inc()\n",
        "#입력값도 결과값도 없는 함수\n",
        "def say():\n",
        "    print('Hi')\n",
        "\n",
        "a = say()\n",
        "print(a)"
      ],
      "metadata": {
        "colab": {
          "base_uri": "https://localhost:8080/",
          "height": 72
        },
        "id": "xN5xxBqH9Odq",
        "outputId": "d4034d45-d385-45bd-ff8c-7fffa7039d6c"
      },
      "execution_count": 53,
      "outputs": [
        {
          "output_type": "display_data",
          "data": {
            "text/plain": [
              "<IPython.core.display.Javascript object>"
            ],
            "application/javascript": [
              "\n",
              "  for (rule of document.styleSheets[0].cssRules){\n",
              "    if (rule.selectorText=='body') {\n",
              "      rule.style.fontSize = '20px'\n",
              "      break\n",
              "    }\n",
              "  }\n",
              "  "
            ]
          },
          "metadata": {}
        },
        {
          "output_type": "stream",
          "name": "stdout",
          "text": [
            "Hi\n",
            "None\n"
          ]
        }
      ]
    },
    {
      "cell_type": "code",
      "source": [
        "inc()\n",
        "#입력값, 결과값이 모두 있는 함수\n",
        "def add(a,b):\n",
        "    return a+b\n",
        "a = add(3,4)\n",
        "print(a)"
      ],
      "metadata": {
        "colab": {
          "base_uri": "https://localhost:8080/",
          "height": 45
        },
        "id": "x5Yyz7XA9dnz",
        "outputId": "da39a057-5417-435c-d747-9a01741fb149"
      },
      "execution_count": 54,
      "outputs": [
        {
          "output_type": "display_data",
          "data": {
            "text/plain": [
              "<IPython.core.display.Javascript object>"
            ],
            "application/javascript": [
              "\n",
              "  for (rule of document.styleSheets[0].cssRules){\n",
              "    if (rule.selectorText=='body') {\n",
              "      rule.style.fontSize = '20px'\n",
              "      break\n",
              "    }\n",
              "  }\n",
              "  "
            ]
          },
          "metadata": {}
        },
        {
          "output_type": "stream",
          "name": "stdout",
          "text": [
            "7\n"
          ]
        }
      ]
    },
    {
      "cell_type": "code",
      "source": [
        "inc()\n",
        "#입력값, 결과값이 모두 있는 함수\n",
        "def max(a,b,c):\n",
        "    if a>b:\n",
        "        if a>c:\n",
        "            return a\n",
        "        elif a<c:\n",
        "            return c\n",
        "    if a<b:\n",
        "        if b>c:\n",
        "            return b\n",
        "        else:\n",
        "            return c\n",
        "\n",
        "print(\"max number is %d\"%(max(20,1,30)))\n",
        "max(10,20,30)"
      ],
      "metadata": {
        "colab": {
          "base_uri": "https://localhost:8080/",
          "height": 72
        },
        "id": "B6my2aK693rn",
        "outputId": "a8171eb8-ef9e-4fac-8dcf-32b9f627c72d"
      },
      "execution_count": 55,
      "outputs": [
        {
          "output_type": "display_data",
          "data": {
            "text/plain": [
              "<IPython.core.display.Javascript object>"
            ],
            "application/javascript": [
              "\n",
              "  for (rule of document.styleSheets[0].cssRules){\n",
              "    if (rule.selectorText=='body') {\n",
              "      rule.style.fontSize = '20px'\n",
              "      break\n",
              "    }\n",
              "  }\n",
              "  "
            ]
          },
          "metadata": {}
        },
        {
          "output_type": "stream",
          "name": "stdout",
          "text": [
            "max number is 30\n"
          ]
        },
        {
          "output_type": "execute_result",
          "data": {
            "text/plain": [
              "30"
            ]
          },
          "metadata": {},
          "execution_count": 55
        }
      ]
    },
    {
      "cell_type": "code",
      "source": [
        "inc()\n",
        "def math(x, y, z):\n",
        "    if z == '*':\n",
        "        return x * y\n",
        "    elif z == '/':\n",
        "        return x / y\n",
        "    elif z == '+':\n",
        "        return x + y\n",
        "    elif z == '%':\n",
        "        return x % y\n",
        "    elif z == '^':\n",
        "        return x ^ y\n",
        "    elif z == '-':\n",
        "        return x - y\n",
        "    elif z == '//':\n",
        "        return x // y\n",
        "    else:\n",
        "        return\n",
        "\n",
        "print(math(int(input(\"숫자1 : \")), int(input(\"숫자2 : \")), input('기호 : ')))"
      ],
      "metadata": {
        "colab": {
          "base_uri": "https://localhost:8080/",
          "height": 127
        },
        "id": "DjscfUh_-oMl",
        "outputId": "b29b9ab4-d3c8-427f-e88b-046cebc10139"
      },
      "execution_count": 59,
      "outputs": [
        {
          "output_type": "display_data",
          "data": {
            "text/plain": [
              "<IPython.core.display.Javascript object>"
            ],
            "application/javascript": [
              "\n",
              "  for (rule of document.styleSheets[0].cssRules){\n",
              "    if (rule.selectorText=='body') {\n",
              "      rule.style.fontSize = '20px'\n",
              "      break\n",
              "    }\n",
              "  }\n",
              "  "
            ]
          },
          "metadata": {}
        },
        {
          "output_type": "stream",
          "name": "stdout",
          "text": [
            "숫자1 : 5\n",
            "숫자2 : 2\n",
            "기호 : *\n",
            "10\n"
          ]
        }
      ]
    },
    {
      "cell_type": "code",
      "source": [
        "inc()\n",
        "#함수의 반환값은 언제나 하나임 - 결과값으로 튜플값 하나를 갖게 됨\n",
        "\n",
        "def add_and_mul(a,b):\n",
        "    return a+b, a*b\n",
        "result = add_and_mul(3,5)\n",
        "print(result)"
      ],
      "metadata": {
        "colab": {
          "base_uri": "https://localhost:8080/",
          "height": 45
        },
        "id": "wMkuFzdu_SPx",
        "outputId": "6034bca4-f1c1-4c9d-9735-4da5bd1a057f"
      },
      "execution_count": 60,
      "outputs": [
        {
          "output_type": "display_data",
          "data": {
            "text/plain": [
              "<IPython.core.display.Javascript object>"
            ],
            "application/javascript": [
              "\n",
              "  for (rule of document.styleSheets[0].cssRules){\n",
              "    if (rule.selectorText=='body') {\n",
              "      rule.style.fontSize = '20px'\n",
              "      break\n",
              "    }\n",
              "  }\n",
              "  "
            ]
          },
          "metadata": {}
        },
        {
          "output_type": "stream",
          "name": "stdout",
          "text": [
            "(8, 15)\n"
          ]
        }
      ]
    },
    {
      "cell_type": "markdown",
      "source": [
        "#### 지역변수와 전역변수\n",
        "- 지역변수는 함수 내부에서만 유효하고\n",
        "- 전역변수는 코드 전반에 걸쳐 유효\n",
        "- 함수의 인자는 지역변수"
      ],
      "metadata": {
        "id": "14HocHIaCu7N"
      }
    },
    {
      "cell_type": "code",
      "source": [
        "inc()\n",
        "\n",
        "strdata = '전역변수'\n",
        "\n",
        "def func1():\n",
        "    strdata = '지역변수'\n",
        "    print(strdata)\n",
        "\n",
        "func1()"
      ],
      "metadata": {
        "colab": {
          "base_uri": "https://localhost:8080/",
          "height": 45
        },
        "id": "zJEyuBnECU16",
        "outputId": "f26ea6be-6368-46bc-a926-c0e4ded973fc"
      },
      "execution_count": 61,
      "outputs": [
        {
          "output_type": "display_data",
          "data": {
            "text/plain": [
              "<IPython.core.display.Javascript object>"
            ],
            "application/javascript": [
              "\n",
              "  for (rule of document.styleSheets[0].cssRules){\n",
              "    if (rule.selectorText=='body') {\n",
              "      rule.style.fontSize = '20px'\n",
              "      break\n",
              "    }\n",
              "  }\n",
              "  "
            ]
          },
          "metadata": {}
        },
        {
          "output_type": "stream",
          "name": "stdout",
          "text": [
            "지역변수\n"
          ]
        }
      ]
    },
    {
      "cell_type": "code",
      "source": [
        "inc()\n",
        "print(strdata)"
      ],
      "metadata": {
        "colab": {
          "base_uri": "https://localhost:8080/",
          "height": 45
        },
        "id": "V8GWp6H3DDl8",
        "outputId": "eb31e88f-3994-4959-86e3-421069817c03"
      },
      "execution_count": 62,
      "outputs": [
        {
          "output_type": "display_data",
          "data": {
            "text/plain": [
              "<IPython.core.display.Javascript object>"
            ],
            "application/javascript": [
              "\n",
              "  for (rule of document.styleSheets[0].cssRules){\n",
              "    if (rule.selectorText=='body') {\n",
              "      rule.style.fontSize = '20px'\n",
              "      break\n",
              "    }\n",
              "  }\n",
              "  "
            ]
          },
          "metadata": {}
        },
        {
          "output_type": "stream",
          "name": "stdout",
          "text": [
            "전역변수\n"
          ]
        }
      ]
    },
    {
      "cell_type": "code",
      "source": [
        "inc()\n",
        "\n",
        "param = 10\n",
        "def func2(param):\n",
        "    param = 1\n",
        "\n",
        "print(param)"
      ],
      "metadata": {
        "colab": {
          "base_uri": "https://localhost:8080/",
          "height": 45
        },
        "id": "xjGRf1xhDHKt",
        "outputId": "bc51b7be-a879-415a-d9d4-7ab683734dfb"
      },
      "execution_count": 63,
      "outputs": [
        {
          "output_type": "display_data",
          "data": {
            "text/plain": [
              "<IPython.core.display.Javascript object>"
            ],
            "application/javascript": [
              "\n",
              "  for (rule of document.styleSheets[0].cssRules){\n",
              "    if (rule.selectorText=='body') {\n",
              "      rule.style.fontSize = '20px'\n",
              "      break\n",
              "    }\n",
              "  }\n",
              "  "
            ]
          },
          "metadata": {}
        },
        {
          "output_type": "stream",
          "name": "stdout",
          "text": [
            "10\n"
          ]
        }
      ]
    },
    {
      "cell_type": "code",
      "source": [
        "inc()\n",
        "\n",
        "param = 10\n",
        "def func3():\n",
        "    global param        #함수 내부에서 전역변수를 사용하려면 global키워드를 이용해 전역변수를 사용한다고 명시\n",
        "    param = 50\n",
        "func3()\n",
        "print(param)"
      ],
      "metadata": {
        "colab": {
          "base_uri": "https://localhost:8080/",
          "height": 45
        },
        "id": "yYHhBbV7EAYW",
        "outputId": "cf895131-2ea9-4b4c-f35d-017d76f0d833"
      },
      "execution_count": 64,
      "outputs": [
        {
          "output_type": "display_data",
          "data": {
            "text/plain": [
              "<IPython.core.display.Javascript object>"
            ],
            "application/javascript": [
              "\n",
              "  for (rule of document.styleSheets[0].cssRules){\n",
              "    if (rule.selectorText=='body') {\n",
              "      rule.style.fontSize = '20px'\n",
              "      break\n",
              "    }\n",
              "  }\n",
              "  "
            ]
          },
          "metadata": {}
        },
        {
          "output_type": "stream",
          "name": "stdout",
          "text": [
            "50\n"
          ]
        }
      ]
    },
    {
      "cell_type": "code",
      "source": [
        "inc()\n",
        "\n"
      ],
      "metadata": {
        "id": "jSLzH4PhEL_9"
      },
      "execution_count": null,
      "outputs": []
    }
  ]
}